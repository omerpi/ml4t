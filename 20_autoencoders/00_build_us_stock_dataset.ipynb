{
 "cells": [
  {
   "cell_type": "markdown",
   "metadata": {},
   "source": [
    "# Download historical equity data for NASDAQ stocks from yahoo finance"
   ]
  },
  {
   "cell_type": "code",
   "execution_count": 3,
   "metadata": {
    "ExecuteTime": {
     "end_time": "2020-03-29T22:10:10.975155Z",
     "start_time": "2020-03-29T22:10:10.972196Z"
    }
   },
   "outputs": [],
   "source": [
    "import warnings\n",
    "warnings.filterwarnings('ignore')"
   ]
  },
  {
   "cell_type": "code",
   "execution_count": null,
   "metadata": {
    "ExecuteTime": {
     "end_time": "2020-03-29T22:10:11.123731Z",
     "start_time": "2020-03-29T22:10:11.108002Z"
    }
   },
   "outputs": [],
   "source": [
    "from pathlib import Path\n",
    "\n",
    "import numpy as np\n",
    "import pandas as pd\n",
    "\n",
    "import matplotlib.pyplot as plt\n",
    "import seaborn as sns\n",
    "\n",
    "from pandas_datareader.nasdaq_trader import get_nasdaq_symbols\n",
    "import yfinance as yf"
   ]
  },
  {
   "cell_type": "code",
   "execution_count": 5,
   "metadata": {
    "ExecuteTime": {
     "end_time": "2020-03-29T22:10:11.239998Z",
     "start_time": "2020-03-29T22:10:11.237324Z"
    }
   },
   "outputs": [],
   "source": [
    "sns.set_style('whitegrid')"
   ]
  },
  {
   "cell_type": "code",
   "execution_count": 6,
   "metadata": {
    "ExecuteTime": {
     "end_time": "2020-03-29T22:10:11.397855Z",
     "start_time": "2020-03-29T22:10:11.394446Z"
    }
   },
   "outputs": [],
   "source": [
    "idx = pd.IndexSlice"
   ]
  },
  {
   "cell_type": "code",
   "execution_count": 5,
   "metadata": {
    "ExecuteTime": {
     "end_time": "2020-03-29T16:08:49.742411Z",
     "start_time": "2020-03-29T16:08:49.737730Z"
    }
   },
   "outputs": [],
   "source": [
    "def chunks(l, n): \n",
    "    for i in range(0, len(l), n):  \n",
    "        yield l[i:i + n] "
   ]
  },
  {
   "cell_type": "markdown",
   "metadata": {},
   "source": [
    "## Get NASDAQ symbols"
   ]
  },
  {
   "cell_type": "code",
   "execution_count": 109,
   "metadata": {
    "ExecuteTime": {
     "end_time": "2020-03-27T19:43:43.139651Z",
     "start_time": "2020-03-27T19:43:43.137613Z"
    }
   },
   "outputs": [],
   "source": [
    "traded_symbols = get_nasdaq_symbols()"
   ]
  },
  {
   "cell_type": "code",
   "execution_count": 110,
   "metadata": {
    "ExecuteTime": {
     "end_time": "2020-03-27T19:43:43.309239Z",
     "start_time": "2020-03-27T19:43:43.291874Z"
    }
   },
   "outputs": [
    {
     "name": "stdout",
     "output_type": "stream",
     "text": [
      "<class 'pandas.core.frame.DataFrame'>\n",
      "Index: 8882 entries, A to ZYXI\n",
      "Data columns (total 11 columns):\n",
      " #   Column            Non-Null Count  Dtype   \n",
      "---  ------            --------------  -----   \n",
      " 0   Nasdaq Traded     8882 non-null   bool    \n",
      " 1   Security Name     8882 non-null   object  \n",
      " 2   Listing Exchange  8882 non-null   category\n",
      " 3   Market Category   8882 non-null   object  \n",
      " 4   ETF               8882 non-null   bool    \n",
      " 5   Round Lot Size    8882 non-null   float64 \n",
      " 6   Test Issue        8882 non-null   bool    \n",
      " 7   Financial Status  3559 non-null   category\n",
      " 8   CQS Symbol        5323 non-null   object  \n",
      " 9   NASDAQ Symbol     8882 non-null   object  \n",
      " 10  NextShares        8882 non-null   bool    \n",
      "dtypes: bool(4), category(2), float64(1), object(4)\n",
      "memory usage: 468.8+ KB\n"
     ]
    }
   ],
   "source": [
    "traded_symbols.info()"
   ]
  },
  {
   "cell_type": "markdown",
   "metadata": {},
   "source": [
    "## Download metadata from yahoo finance"
   ]
  },
  {
   "cell_type": "markdown",
   "metadata": {},
   "source": [
    "### NASDAQ symbols"
   ]
  },
  {
   "cell_type": "code",
   "execution_count": 93,
   "metadata": {
    "ExecuteTime": {
     "end_time": "2020-03-27T19:22:32.569067Z",
     "start_time": "2020-03-27T19:22:09.391993Z"
    }
   },
   "outputs": [],
   "source": [
    "tickers = yf.Tickers(traded_symbols[~traded_symbols.ETF].index.to_list())"
   ]
  },
  {
   "cell_type": "code",
   "execution_count": null,
   "metadata": {
    "ExecuteTime": {
     "end_time": "2020-03-27T19:23:04.139313Z",
     "start_time": "2020-03-27T19:23:04.109951Z"
    }
   },
   "outputs": [],
   "source": [
    "info = []\n",
    "for ticker in tickers.tickers:\n",
    "    info.append(pd.Series(ticker.info).to_frame(ticker.ticker))\n",
    "info = pd.concat(info, axis=1).dropna(how='all').T\n",
    "info = info.apply(pd.to_numeric, errors='ignore')\n",
    "info.to_hdf('data.h5', 'stocks/info')"
   ]
  },
  {
   "cell_type": "markdown",
   "metadata": {},
   "source": [
    "## Download adjusted price data using yfinance"
   ]
  },
  {
   "cell_type": "code",
   "execution_count": null,
   "metadata": {
    "ExecuteTime": {
     "end_time": "2020-03-27T18:31:44.011471Z",
     "start_time": "2020-03-27T18:27:06.742703Z"
    },
    "scrolled": false
   },
   "outputs": [],
   "source": [
    "prices_adj = []\n",
    "with pd.HDFStore('chunks.h5') as store:\n",
    "    for i, chunk in enumerate(chunks(tickers, 100)):\n",
    "        print(i, end=' ', flush=True)\n",
    "        prices_adj.append(yf.download(chunk, period='max', auto_adjust=True).stack(-1))"
   ]
  },
  {
   "cell_type": "code",
   "execution_count": null,
   "metadata": {},
   "outputs": [],
   "source": [
    "prices_adj = (pd.concat(prices_adj)\n",
    "              .dropna(how='all', axis=1)\n",
    "              .rename(columns=str.lower)\n",
    "              .swaplevel())"
   ]
  },
  {
   "cell_type": "code",
   "execution_count": 61,
   "metadata": {
    "ExecuteTime": {
     "end_time": "2020-03-27T18:41:14.057929Z",
     "start_time": "2020-03-27T18:41:14.051259Z"
    }
   },
   "outputs": [],
   "source": [
    "prices_adj.index.names = ['ticker', 'date']"
   ]
  },
  {
   "cell_type": "code",
   "execution_count": 62,
   "metadata": {
    "ExecuteTime": {
     "end_time": "2020-03-27T18:41:23.497391Z",
     "start_time": "2020-03-27T18:41:23.411222Z"
    }
   },
   "outputs": [
    {
     "data": {
      "text/plain": [
       "4314"
      ]
     },
     "execution_count": 62,
     "metadata": {},
     "output_type": "execute_result"
    }
   ],
   "source": [
    "len(prices_adj.index.unique('ticker'))"
   ]
  },
  {
   "cell_type": "markdown",
   "metadata": {},
   "source": [
    "### Remove outliers"
   ]
  },
  {
   "cell_type": "code",
   "execution_count": null,
   "metadata": {},
   "outputs": [],
   "source": [
    "df = prices_adj.close.unstack('ticker')\n",
    "pmax = df.pct_change().max()\n",
    "pmin = df.pct_change().min()\n",
    "to_drop = pmax[pmax > 1].index.union(pmin[pmin<-1].index)\n",
    "len(to_drop)"
   ]
  },
  {
   "cell_type": "code",
   "execution_count": null,
   "metadata": {},
   "outputs": [],
   "source": [
    "prices_adj = prices_adj.drop(to_drop, level='ticker')"
   ]
  },
  {
   "cell_type": "code",
   "execution_count": null,
   "metadata": {},
   "outputs": [],
   "source": [
    "len(prices_adj.index.unique('ticker'))"
   ]
  },
  {
   "cell_type": "code",
   "execution_count": 44,
   "metadata": {
    "ExecuteTime": {
     "end_time": "2020-03-29T16:40:01.082087Z",
     "start_time": "2020-03-29T16:39:56.791301Z"
    }
   },
   "outputs": [],
   "source": [
    "prices_adj.sort_index().loc[idx[:, '1990': '2019'], :].to_hdf('data.h5', 'stocks/prices/adjusted')"
   ]
  },
  {
   "cell_type": "markdown",
   "metadata": {},
   "source": [
    "## Download price & adjustment factors using yfinance"
   ]
  },
  {
   "cell_type": "code",
   "execution_count": 13,
   "metadata": {
    "ExecuteTime": {
     "end_time": "2020-03-29T16:15:11.457069Z",
     "start_time": "2020-03-29T16:15:10.995262Z"
    }
   },
   "outputs": [],
   "source": [
    "tickers = pd.read_hdf('data.h5', 'stocks/prices/adjusted').index.unique('ticker').tolist()"
   ]
  },
  {
   "cell_type": "code",
   "execution_count": null,
   "metadata": {
    "ExecuteTime": {
     "end_time": "2020-03-29T16:25:18.774469Z",
     "start_time": "2020-03-29T16:20:40.931827Z"
    }
   },
   "outputs": [],
   "source": [
    "prices = []\n",
    "for i, chunk in enumerate(chunks(tickers, 100)):\n",
    "    print(i, end=' ', flush=True)\n",
    "    prices.append(yf.download(chunk, period='max', auto_adjust=False, actions=True).stack(-1))"
   ]
  },
  {
   "cell_type": "code",
   "execution_count": null,
   "metadata": {},
   "outputs": [],
   "source": [
    "prices = (pd.concat(prices)\n",
    "          .dropna(how='all', axis=1)\n",
    "          .rename(columns=str.lower)\n",
    "          .drop('adj close', axis=1)\n",
    "          .swaplevel())"
   ]
  },
  {
   "cell_type": "code",
   "execution_count": null,
   "metadata": {},
   "outputs": [],
   "source": [
    "prices.index.names = ['ticker', 'date']"
   ]
  },
  {
   "cell_type": "code",
   "execution_count": 50,
   "metadata": {
    "ExecuteTime": {
     "end_time": "2020-03-29T16:45:29.679022Z",
     "start_time": "2020-03-29T16:45:29.511915Z"
    }
   },
   "outputs": [],
   "source": [
    "prices = prices.drop('adj close', axis=1)"
   ]
  },
  {
   "cell_type": "code",
   "execution_count": 51,
   "metadata": {
    "ExecuteTime": {
     "end_time": "2020-03-29T16:46:29.596935Z",
     "start_time": "2020-03-29T16:46:29.588847Z"
    }
   },
   "outputs": [
    {
     "data": {
      "text/html": [
       "<div>\n",
       "<style scoped>\n",
       "    .dataframe tbody tr th:only-of-type {\n",
       "        vertical-align: middle;\n",
       "    }\n",
       "\n",
       "    .dataframe tbody tr th {\n",
       "        vertical-align: top;\n",
       "    }\n",
       "\n",
       "    .dataframe thead th {\n",
       "        text-align: right;\n",
       "    }\n",
       "</style>\n",
       "<table border=\"1\" class=\"dataframe\">\n",
       "  <thead>\n",
       "    <tr style=\"text-align: right;\">\n",
       "      <th></th>\n",
       "      <th></th>\n",
       "      <th>close</th>\n",
       "      <th>dividends</th>\n",
       "      <th>high</th>\n",
       "      <th>low</th>\n",
       "      <th>open</th>\n",
       "      <th>stock splits</th>\n",
       "      <th>volume</th>\n",
       "    </tr>\n",
       "    <tr>\n",
       "      <th>ticker</th>\n",
       "      <th>date</th>\n",
       "      <th></th>\n",
       "      <th></th>\n",
       "      <th></th>\n",
       "      <th></th>\n",
       "      <th></th>\n",
       "      <th></th>\n",
       "      <th></th>\n",
       "    </tr>\n",
       "  </thead>\n",
       "  <tbody>\n",
       "    <tr>\n",
       "      <th rowspan=\"5\" valign=\"top\">AA</th>\n",
       "      <th>1962-01-02</th>\n",
       "      <td>6.532155</td>\n",
       "      <td>0.0</td>\n",
       "      <td>6.556185</td>\n",
       "      <td>6.532155</td>\n",
       "      <td>6.532155</td>\n",
       "      <td>0.0</td>\n",
       "      <td>55900.0</td>\n",
       "    </tr>\n",
       "    <tr>\n",
       "      <th>1962-01-03</th>\n",
       "      <td>6.632280</td>\n",
       "      <td>0.0</td>\n",
       "      <td>6.632280</td>\n",
       "      <td>6.524145</td>\n",
       "      <td>6.532155</td>\n",
       "      <td>0.0</td>\n",
       "      <td>74500.0</td>\n",
       "    </tr>\n",
       "    <tr>\n",
       "      <th>1962-01-04</th>\n",
       "      <td>6.632280</td>\n",
       "      <td>0.0</td>\n",
       "      <td>6.664320</td>\n",
       "      <td>6.632280</td>\n",
       "      <td>6.632280</td>\n",
       "      <td>0.0</td>\n",
       "      <td>80500.0</td>\n",
       "    </tr>\n",
       "    <tr>\n",
       "      <th>1962-01-05</th>\n",
       "      <td>6.624270</td>\n",
       "      <td>0.0</td>\n",
       "      <td>6.656310</td>\n",
       "      <td>6.616260</td>\n",
       "      <td>6.632280</td>\n",
       "      <td>0.0</td>\n",
       "      <td>70500.0</td>\n",
       "    </tr>\n",
       "    <tr>\n",
       "      <th>1962-01-08</th>\n",
       "      <td>6.408000</td>\n",
       "      <td>0.0</td>\n",
       "      <td>6.608250</td>\n",
       "      <td>6.339915</td>\n",
       "      <td>6.608250</td>\n",
       "      <td>0.0</td>\n",
       "      <td>93800.0</td>\n",
       "    </tr>\n",
       "  </tbody>\n",
       "</table>\n",
       "</div>"
      ],
      "text/plain": [
       "                      close  dividends      high       low      open  \\\n",
       "ticker date                                                            \n",
       "AA     1962-01-02  6.532155        0.0  6.556185  6.532155  6.532155   \n",
       "       1962-01-03  6.632280        0.0  6.632280  6.524145  6.532155   \n",
       "       1962-01-04  6.632280        0.0  6.664320  6.632280  6.632280   \n",
       "       1962-01-05  6.624270        0.0  6.656310  6.616260  6.632280   \n",
       "       1962-01-08  6.408000        0.0  6.608250  6.339915  6.608250   \n",
       "\n",
       "                   stock splits   volume  \n",
       "ticker date                               \n",
       "AA     1962-01-02           0.0  55900.0  \n",
       "       1962-01-03           0.0  74500.0  \n",
       "       1962-01-04           0.0  80500.0  \n",
       "       1962-01-05           0.0  70500.0  \n",
       "       1962-01-08           0.0  93800.0  "
      ]
     },
     "execution_count": 51,
     "metadata": {},
     "output_type": "execute_result"
    }
   ],
   "source": [
    "prices.head()"
   ]
  },
  {
   "cell_type": "code",
   "execution_count": 52,
   "metadata": {
    "ExecuteTime": {
     "end_time": "2020-03-29T16:47:55.392342Z",
     "start_time": "2020-03-29T16:47:06.750034Z"
    }
   },
   "outputs": [],
   "source": [
    "prices = prices.drop(to_drop, level='ticker')"
   ]
  },
  {
   "cell_type": "code",
   "execution_count": 56,
   "metadata": {
    "ExecuteTime": {
     "end_time": "2020-03-29T16:50:49.676712Z",
     "start_time": "2020-03-29T16:50:44.628850Z"
    }
   },
   "outputs": [],
   "source": [
    "prices = prices.sort_index().loc[idx[:, '1990': '2019'], :]"
   ]
  },
  {
   "cell_type": "code",
   "execution_count": 57,
   "metadata": {
    "ExecuteTime": {
     "end_time": "2020-03-29T16:51:05.583842Z",
     "start_time": "2020-03-29T16:51:05.275336Z"
    }
   },
   "outputs": [
    {
     "name": "stdout",
     "output_type": "stream",
     "text": [
      "<class 'pandas.core.frame.DataFrame'>\n",
      "MultiIndex: 14125803 entries, ('A', Timestamp('1999-11-18 00:00:00')) to ('ZYME', Timestamp('2019-12-31 00:00:00'))\n",
      "Data columns (total 7 columns):\n",
      " #   Column        Non-Null Count     Dtype  \n",
      "---  ------        --------------     -----  \n",
      " 0   close         14124675 non-null  float64\n",
      " 1   dividends     14125803 non-null  float64\n",
      " 2   high          14124675 non-null  float64\n",
      " 3   low           14124675 non-null  float64\n",
      " 4   open          14124675 non-null  float64\n",
      " 5   stock splits  14125803 non-null  float64\n",
      " 6   volume        14124675 non-null  float64\n",
      "dtypes: float64(7)\n",
      "memory usage: 808.4+ MB\n"
     ]
    }
   ],
   "source": [
    "prices.info(null_counts=True)"
   ]
  },
  {
   "cell_type": "code",
   "execution_count": 59,
   "metadata": {
    "ExecuteTime": {
     "end_time": "2020-03-29T16:52:09.259790Z",
     "start_time": "2020-03-29T16:52:08.517164Z"
    }
   },
   "outputs": [],
   "source": [
    "prices[['open', 'high', 'low', 'close', 'volume', 'dividends', 'stock splits']].to_hdf('data.h5', 'stocks/prices/unadjusted')"
   ]
  }
 ],
 "metadata": {
  "kernelspec": {
   "display_name": "Python 3",
   "language": "python",
   "name": "python3"
  },
  "language_info": {
   "codemirror_mode": {
    "name": "ipython",
    "version": 3
   },
   "file_extension": ".py",
   "mimetype": "text/x-python",
   "name": "python",
   "nbconvert_exporter": "python",
   "pygments_lexer": "ipython3",
   "version": "3.7.6"
  },
  "toc": {
   "base_numbering": 1,
   "nav_menu": {},
   "number_sections": true,
   "sideBar": true,
   "skip_h1_title": true,
   "title_cell": "Table of Contents",
   "title_sidebar": "Contents",
   "toc_cell": false,
   "toc_position": {},
   "toc_section_display": true,
   "toc_window_display": true
  }
 },
 "nbformat": 4,
 "nbformat_minor": 4
}
