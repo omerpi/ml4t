{
 "cells": [
  {
   "cell_type": "markdown",
   "metadata": {},
   "source": [
    "# Statistical inference of stock returns with linear regression"
   ]
  },
  {
   "cell_type": "markdown",
   "metadata": {},
   "source": [
    "## Imports & Settings"
   ]
  },
  {
   "cell_type": "code",
   "execution_count": 1,
   "metadata": {
    "ExecuteTime": {
     "end_time": "2020-04-15T16:20:05.874508Z",
     "start_time": "2020-04-15T16:20:05.176191Z"
    }
   },
   "outputs": [
    {
     "name": "stderr",
     "output_type": "stream",
     "text": [
      "/home/stefan/.pyenv/versions/miniconda3-latest/envs/ml4t/lib/python3.7/site-packages/pandas_datareader/compat/__init__.py:7: FutureWarning: pandas.util.testing is deprecated. Use the functions in the public API at pandas.testing instead.\n",
      "  from pandas.util.testing import assert_frame_equal\n"
     ]
    }
   ],
   "source": [
    "from pathlib import Path\n",
    "from time import time\n",
    "import pandas as pd\n",
    "import numpy as np\n",
    "from statsmodels.api import OLS, add_constant, graphics\n",
    "from statsmodels.graphics.tsaplots import plot_acf\n",
    "from scipy.stats import spearmanr, norm\n",
    "\n",
    "from sklearn.metrics import mean_squared_error, make_scorer, roc_auc_score\n",
    "from sklearn.linear_model import LinearRegression, Ridge, RidgeCV, Lasso, LassoCV, LogisticRegression\n",
    "from sklearn.pipeline import Pipeline\n",
    "from sklearn.preprocessing import StandardScaler,scale\n",
    "from sklearn.model_selection import train_test_split, cross_val_score, GridSearchCV, learning_curve, KFold\n",
    "\n",
    "from empyrical import max_drawdown, sortino_ratio\n",
    "from custom_scoring import spearman_corr\n",
    "\n",
    "import seaborn as sns\n",
    "import matplotlib.pyplot as plt\n",
    "from matplotlib.ticker import FuncFormatter\n",
    "import warnings"
   ]
  },
  {
   "cell_type": "code",
   "execution_count": 2,
   "metadata": {
    "ExecuteTime": {
     "end_time": "2020-04-15T16:20:05.877613Z",
     "start_time": "2020-04-15T16:20:05.875563Z"
    }
   },
   "outputs": [],
   "source": [
    "warnings.filterwarnings('ignore')\n",
    "sns.set_style('darkgrid')\n",
    "idx = pd.IndexSlice"
   ]
  },
  {
   "cell_type": "markdown",
   "metadata": {},
   "source": [
    "## Load Data"
   ]
  },
  {
   "cell_type": "code",
   "execution_count": 3,
   "metadata": {
    "ExecuteTime": {
     "end_time": "2020-04-15T16:20:07.717268Z",
     "start_time": "2020-04-15T16:20:05.878708Z"
    }
   },
   "outputs": [],
   "source": [
    "with pd.HDFStore('data.h5') as store:\n",
    "    data = (store['model_data']\n",
    "            .dropna()\n",
    "            .drop(['open', 'close', 'low', 'high'], axis=1))"
   ]
  },
  {
   "cell_type": "markdown",
   "metadata": {},
   "source": [
    "### Select Investment Universe"
   ]
  },
  {
   "cell_type": "code",
   "execution_count": 4,
   "metadata": {
    "ExecuteTime": {
     "end_time": "2020-04-15T16:20:07.738426Z",
     "start_time": "2020-04-15T16:20:07.718438Z"
    }
   },
   "outputs": [],
   "source": [
    "data = data[data.dollar_vol_rank<100]"
   ]
  },
  {
   "cell_type": "code",
   "execution_count": 5,
   "metadata": {
    "ExecuteTime": {
     "end_time": "2020-04-15T16:20:07.762463Z",
     "start_time": "2020-04-15T16:20:07.739388Z"
    }
   },
   "outputs": [
    {
     "name": "stdout",
     "output_type": "stream",
     "text": [
      "<class 'pandas.core.frame.DataFrame'>\n",
      "MultiIndex: 109675 entries, ('AAL', Timestamp('2013-07-25 00:00:00')) to ('ZTS', Timestamp('2014-12-04 00:00:00'))\n",
      "Data columns (total 64 columns):\n",
      " #   Column                 Non-Null Count   Dtype  \n",
      "---  ------                 --------------   -----  \n",
      " 0   volume                 109675 non-null  float64\n",
      " 1   dollar_vol             109675 non-null  float64\n",
      " 2   dollar_vol_rank        109675 non-null  float64\n",
      " 3   rsi                    109675 non-null  float64\n",
      " 4   bb_high                109675 non-null  float64\n",
      " 5   bb_low                 109675 non-null  float64\n",
      " 6   atr                    109675 non-null  float64\n",
      " 7   macd                   109675 non-null  float64\n",
      " 8   return_1d              109675 non-null  float64\n",
      " 9   return_5d              109675 non-null  float64\n",
      " 10  return_10d             109675 non-null  float64\n",
      " 11  return_21d             109675 non-null  float64\n",
      " 12  return_42d             109675 non-null  float64\n",
      " 13  return_63d             109675 non-null  float64\n",
      " 14  return_1d_lag1         109675 non-null  float64\n",
      " 15  return_5d_lag1         109675 non-null  float64\n",
      " 16  return_10d_lag1        109675 non-null  float64\n",
      " 17  return_21d_lag1        109675 non-null  float64\n",
      " 18  return_1d_lag2         109675 non-null  float64\n",
      " 19  return_5d_lag2         109675 non-null  float64\n",
      " 20  return_10d_lag2        109675 non-null  float64\n",
      " 21  return_21d_lag2        109675 non-null  float64\n",
      " 22  return_1d_lag3         109675 non-null  float64\n",
      " 23  return_5d_lag3         109675 non-null  float64\n",
      " 24  return_10d_lag3        109675 non-null  float64\n",
      " 25  return_21d_lag3        109675 non-null  float64\n",
      " 26  return_1d_lag4         109675 non-null  float64\n",
      " 27  return_5d_lag4         109675 non-null  float64\n",
      " 28  return_10d_lag4        109675 non-null  float64\n",
      " 29  return_21d_lag4        109675 non-null  float64\n",
      " 30  return_1d_lag5         109675 non-null  float64\n",
      " 31  return_5d_lag5         109675 non-null  float64\n",
      " 32  return_10d_lag5        109675 non-null  float64\n",
      " 33  return_21d_lag5        109675 non-null  float64\n",
      " 34  target_1d              109675 non-null  float64\n",
      " 35  target_5d              109675 non-null  float64\n",
      " 36  target_10d             109675 non-null  float64\n",
      " 37  target_21d             109675 non-null  float64\n",
      " 38  year_2014              109675 non-null  uint8  \n",
      " 39  year_2015              109675 non-null  uint8  \n",
      " 40  year_2016              109675 non-null  uint8  \n",
      " 41  year_2017              109675 non-null  uint8  \n",
      " 42  month_2                109675 non-null  uint8  \n",
      " 43  month_3                109675 non-null  uint8  \n",
      " 44  month_4                109675 non-null  uint8  \n",
      " 45  month_5                109675 non-null  uint8  \n",
      " 46  month_6                109675 non-null  uint8  \n",
      " 47  month_7                109675 non-null  uint8  \n",
      " 48  month_8                109675 non-null  uint8  \n",
      " 49  month_9                109675 non-null  uint8  \n",
      " 50  month_10               109675 non-null  uint8  \n",
      " 51  month_11               109675 non-null  uint8  \n",
      " 52  month_12               109675 non-null  uint8  \n",
      " 53  capital_goods          109675 non-null  uint8  \n",
      " 54  consumer_durables      109675 non-null  uint8  \n",
      " 55  consumer_non-durables  109675 non-null  uint8  \n",
      " 56  consumer_services      109675 non-null  uint8  \n",
      " 57  energy                 109675 non-null  uint8  \n",
      " 58  finance                109675 non-null  uint8  \n",
      " 59  health_care            109675 non-null  uint8  \n",
      " 60  miscellaneous          109675 non-null  uint8  \n",
      " 61  public_utilities       109675 non-null  uint8  \n",
      " 62  technology             109675 non-null  uint8  \n",
      " 63  transportation         109675 non-null  uint8  \n",
      "dtypes: float64(38), uint8(26)\n",
      "memory usage: 35.1+ MB\n"
     ]
    }
   ],
   "source": [
    "data.info(null_counts=True)"
   ]
  },
  {
   "cell_type": "markdown",
   "metadata": {},
   "source": [
    "### Create Model Data"
   ]
  },
  {
   "cell_type": "code",
   "execution_count": 6,
   "metadata": {
    "ExecuteTime": {
     "end_time": "2020-04-15T16:20:07.783267Z",
     "start_time": "2020-04-15T16:20:07.763670Z"
    }
   },
   "outputs": [],
   "source": [
    "y = data.filter(like='target')\n",
    "X = data.drop(y.columns, axis=1)\n",
    "X = X.drop(['dollar_vol', 'dollar_vol_rank', 'volume', 'consumer_durables'], axis=1)"
   ]
  },
  {
   "cell_type": "markdown",
   "metadata": {},
   "source": [
    "## Explore Data"
   ]
  },
  {
   "cell_type": "code",
   "execution_count": 7,
   "metadata": {
    "ExecuteTime": {
     "end_time": "2020-04-15T16:20:08.183088Z",
     "start_time": "2020-04-15T16:20:07.784394Z"
    }
   },
   "outputs": [
    {
     "data": {
      "image/png": "[encoded data removed]",
      "text/plain": [
       "<Figure size 720x720 with 4 Axes>"
      ]
     },
     "metadata": {},
     "output_type": "display_data"
    }
   ],
   "source": [
    "sns.clustermap(y.corr(), cmap=sns.diverging_palette(h_neg=20, h_pos=220), center=0, annot=True, fmt='.2%');"
   ]
  },
  {
   "cell_type": "code",
   "execution_count": 8,
   "metadata": {
    "ExecuteTime": {
     "end_time": "2020-04-15T16:20:09.327318Z",
     "start_time": "2020-04-15T16:20:08.184831Z"
    }
   },
   "outputs": [
    {
     "data": {
      "image/png": "[encoded data removed]",
      "text/plain": [
       "<Figure size 1008x1008 with 4 Axes>"
      ]
     },
     "metadata": {},
     "output_type": "display_data"
    }
   ],
   "source": [
    "sns.clustermap(X.corr(), cmap=sns.diverging_palette(h_neg=20, h_pos=220), center=0);\n",
    "plt.gcf().set_size_inches((14, 14))"
   ]
  },
  {
   "cell_type": "code",
   "execution_count": 9,
   "metadata": {
    "ExecuteTime": {
     "end_time": "2020-04-15T16:20:09.792306Z",
     "start_time": "2020-04-15T16:20:09.328291Z"
    }
   },
   "outputs": [],
   "source": [
    "corr_mat = X.corr().stack().reset_index()\n",
    "corr_mat.columns=['var1', 'var2', 'corr']\n",
    "corr_mat = corr_mat[corr_mat.var1!=corr_mat.var2].sort_values(by='corr', ascending=False)"
   ]
  },
  {
   "cell_type": "code",
   "execution_count": 10,
   "metadata": {
    "ExecuteTime": {
     "end_time": "2020-04-15T16:20:09.803554Z",
     "start_time": "2020-04-15T16:20:09.793181Z"
    },
    "scrolled": true
   },
   "outputs": [
    {
     "data": {
      "text/html": [
       "<div>\n",
       "<style scoped>\n",
       "    .dataframe tbody tr th:only-of-type {\n",
       "        vertical-align: middle;\n",
       "    }\n",
       "\n",
       "    .dataframe tbody tr th {\n",
       "        vertical-align: top;\n",
       "    }\n",
       "\n",
       "    .dataframe thead th {\n",
       "        text-align: right;\n",
       "    }\n",
       "</style>\n",
       "<table border=\"1\" class=\"dataframe\">\n",
       "  <thead>\n",
       "    <tr style=\"text-align: right;\">\n",
       "      <th></th>\n",
       "      <th>var1</th>\n",
       "      <th>var2</th>\n",
       "      <th>corr</th>\n",
       "    </tr>\n",
       "  </thead>\n",
       "  <tbody>\n",
       "    <tr>\n",
       "      <th>514</th>\n",
       "      <td>return_42d</td>\n",
       "      <td>return_63d</td>\n",
       "      <td>0.835634</td>\n",
       "    </tr>\n",
       "    <tr>\n",
       "      <th>569</th>\n",
       "      <td>return_63d</td>\n",
       "      <td>return_42d</td>\n",
       "      <td>0.835634</td>\n",
       "    </tr>\n",
       "    <tr>\n",
       "      <th>4</th>\n",
       "      <td>rsi</td>\n",
       "      <td>macd</td>\n",
       "      <td>0.817113</td>\n",
       "    </tr>\n",
       "    <tr>\n",
       "      <th>224</th>\n",
       "      <td>macd</td>\n",
       "      <td>rsi</td>\n",
       "      <td>0.817113</td>\n",
       "    </tr>\n",
       "    <tr>\n",
       "      <th>452</th>\n",
       "      <td>return_21d</td>\n",
       "      <td>macd</td>\n",
       "      <td>0.793893</td>\n",
       "    </tr>\n",
       "    <tr>\n",
       "      <th>449</th>\n",
       "      <td>return_21d</td>\n",
       "      <td>bb_high</td>\n",
       "      <td>-0.632777</td>\n",
       "    </tr>\n",
       "    <tr>\n",
       "      <th>63</th>\n",
       "      <td>bb_high</td>\n",
       "      <td>return_10d</td>\n",
       "      <td>-0.693640</td>\n",
       "    </tr>\n",
       "    <tr>\n",
       "      <th>393</th>\n",
       "      <td>return_10d</td>\n",
       "      <td>bb_high</td>\n",
       "      <td>-0.693640</td>\n",
       "    </tr>\n",
       "    <tr>\n",
       "      <th>56</th>\n",
       "      <td>bb_high</td>\n",
       "      <td>rsi</td>\n",
       "      <td>-0.696555</td>\n",
       "    </tr>\n",
       "    <tr>\n",
       "      <th>1</th>\n",
       "      <td>rsi</td>\n",
       "      <td>bb_high</td>\n",
       "      <td>-0.696555</td>\n",
       "    </tr>\n",
       "  </tbody>\n",
       "</table>\n",
       "</div>"
      ],
      "text/plain": [
       "           var1        var2      corr\n",
       "514  return_42d  return_63d  0.835634\n",
       "569  return_63d  return_42d  0.835634\n",
       "4           rsi        macd  0.817113\n",
       "224        macd         rsi  0.817113\n",
       "452  return_21d        macd  0.793893\n",
       "449  return_21d     bb_high -0.632777\n",
       "63      bb_high  return_10d -0.693640\n",
       "393  return_10d     bb_high -0.693640\n",
       "56      bb_high         rsi -0.696555\n",
       "1           rsi     bb_high -0.696555"
      ]
     },
     "execution_count": 10,
     "metadata": {},
     "output_type": "execute_result"
    }
   ],
   "source": [
    "corr_mat.head().append(corr_mat.tail())"
   ]
  },
  {
   "cell_type": "code",
   "execution_count": 11,
   "metadata": {
    "ExecuteTime": {
     "end_time": "2020-04-15T16:20:09.981230Z",
     "start_time": "2020-04-15T16:20:09.804769Z"
    }
   },
   "outputs": [
    {
     "data": {
      "image/png": "[encoded data removed]",
      "text/plain": [
       "<Figure size 432x288 with 1 Axes>"
      ]
     },
     "metadata": {},
     "output_type": "display_data"
    }
   ],
   "source": [
    "y.boxplot();"
   ]
  },
  {
   "cell_type": "markdown",
   "metadata": {},
   "source": [
    "## Linear Regression for Statistical Inference: OLS with statsmodels"
   ]
  },
  {
   "cell_type": "markdown",
   "metadata": {},
   "source": [
    "### Ticker-wise standardization"
   ]
  },
  {
   "cell_type": "markdown",
   "metadata": {},
   "source": [
    "`statsmodels` warns of high design matrix condition numbers. This can arise when the variables are not standardized and the Eigenvalues differ due to scaling. The following step avoids this warning."
   ]
  },
  {
   "cell_type": "code",
   "execution_count": 12,
   "metadata": {
    "ExecuteTime": {
     "end_time": "2020-04-15T16:20:15.928750Z",
     "start_time": "2020-04-15T16:20:09.982280Z"
    }
   },
   "outputs": [],
   "source": [
    "sectors = X.iloc[:, -10:]\n",
    "X = (X.drop(sectors.columns, axis=1)\n",
    "     .groupby(level='ticker')\n",
    "     .transform(lambda x: (x - x.mean()) / x.std())\n",
    "    .join(sectors)\n",
    "    .fillna(0))"
   ]
  },
  {
   "cell_type": "markdown",
   "metadata": {},
   "source": [
    "### 1-Day Returns"
   ]
  },
  {
   "cell_type": "code",
   "execution_count": 13,
   "metadata": {
    "ExecuteTime": {
     "end_time": "2020-04-15T16:20:16.591518Z",
     "start_time": "2020-04-15T16:20:15.929743Z"
    },
    "scrolled": false
   },
   "outputs": [
    {
     "name": "stdout",
     "output_type": "stream",
     "text": [
      "                            OLS Regression Results                            \n",
      "==============================================================================\n",
      "Dep. Variable:              target_1d   R-squared:                       0.010\n",
      "Model:                            OLS   Adj. R-squared:                  0.009\n",
      "Method:                 Least Squares   F-statistic:                     18.88\n",
      "Date:                Wed, 15 Apr 2020   Prob (F-statistic):          8.58e-184\n",
      "Time:                        12:20:16   Log-Likelihood:             2.8850e+05\n",
      "No. Observations:              109675   AIC:                        -5.769e+05\n",
      "Df Residuals:                  109618   BIC:                        -5.763e+05\n",
      "Df Model:                          56                                         \n",
      "Covariance Type:            nonrobust                                         \n",
      "=========================================================================================\n",
      "                            coef    std err          t      P>|t|      [0.025      0.975]\n",
      "-----------------------------------------------------------------------------------------\n",
      "const                    -0.0002      0.000     -0.793      0.428      -0.001       0.000\n",
      "rsi                       0.0002      0.000      1.126      0.260      -0.000       0.001\n",
      "bb_high                   0.0002      0.000      0.740      0.459      -0.000       0.001\n",
      "bb_low                    0.0006      0.000      2.560      0.010       0.000       0.001\n",
      "atr                      -0.0002   6.61e-05     -3.275      0.001      -0.000   -8.69e-05\n",
      "macd                     -0.0005      0.000     -1.992      0.046      -0.001   -7.56e-06\n",
      "return_1d                 0.0029      0.000      9.767      0.000       0.002       0.003\n",
      "return_5d                -0.0019      0.001     -2.073      0.038      -0.004      -0.000\n",
      "return_10d               -0.0064      0.001     -6.434      0.000      -0.008      -0.004\n",
      "return_21d                0.0028      0.000      6.200      0.000       0.002       0.004\n",
      "return_42d               -0.0035      0.001     -5.830      0.000      -0.005      -0.002\n",
      "return_63d               -0.0020      0.000     -4.350      0.000      -0.003      -0.001\n",
      "return_1d_lag1            0.0027      0.000      9.087      0.000       0.002       0.003\n",
      "return_5d_lag1            0.0048      0.001      7.047      0.000       0.003       0.006\n",
      "return_10d_lag1          -0.0009      0.001     -0.796      0.426      -0.003       0.001\n",
      "return_21d_lag1           0.0029      0.000      7.577      0.000       0.002       0.004\n",
      "return_1d_lag2            0.0027      0.000      9.269      0.000       0.002       0.003\n",
      "return_5d_lag2            0.0008      0.001      1.054      0.292      -0.001       0.002\n",
      "return_10d_lag2           0.0001      0.001      0.138      0.890      -0.002       0.002\n",
      "return_21d_lag2           0.0003      0.000      0.965      0.334      -0.000       0.001\n",
      "return_1d_lag3            0.0027      0.000      9.067      0.000       0.002       0.003\n",
      "return_5d_lag3            0.0014      0.001      1.821      0.069      -0.000       0.003\n",
      "return_10d_lag3           0.0005      0.000      3.460      0.001       0.000       0.001\n",
      "return_21d_lag3          -0.0002   5.55e-05     -3.795      0.000      -0.000      -0.000\n",
      "return_1d_lag4            0.0030      0.000     10.072      0.000       0.002       0.004\n",
      "return_5d_lag4            0.0006      0.001      1.021      0.307      -0.001       0.002\n",
      "return_10d_lag4           0.0004      0.000      3.831      0.000       0.000       0.001\n",
      "return_21d_lag4        3.547e-05    5.5e-05      0.645      0.519   -7.23e-05       0.000\n",
      "return_1d_lag5        -8.947e-05   6.19e-05     -1.445      0.148      -0.000    3.19e-05\n",
      "return_5d_lag5            0.0001      0.001      0.200      0.842      -0.001       0.001\n",
      "return_10d_lag5           0.0007   9.95e-05      7.223      0.000       0.001       0.001\n",
      "return_21d_lag5         9.29e-05   5.48e-05      1.695      0.090   -1.45e-05       0.000\n",
      "year_2014                -0.0004   8.37e-05     -4.589      0.000      -0.001      -0.000\n",
      "year_2015                -0.0006   9.15e-05     -6.906      0.000      -0.001      -0.000\n",
      "year_2016                -0.0005   8.95e-05     -5.167      0.000      -0.001      -0.000\n",
      "year_2017                -0.0002    8.8e-05     -2.485      0.013      -0.000   -4.62e-05\n",
      "month_2                   0.0010   7.17e-05     13.632      0.000       0.001       0.001\n",
      "month_3                   0.0003   7.43e-05      4.311      0.000       0.000       0.000\n",
      "month_4                   0.0005   7.35e-05      6.813      0.000       0.000       0.001\n",
      "month_5                   0.0005   7.25e-05      6.555      0.000       0.000       0.001\n",
      "month_6                   0.0004   7.34e-05      5.552      0.000       0.000       0.001\n",
      "month_7                   0.0006   7.62e-05      8.234      0.000       0.000       0.001\n",
      "month_8                6.735e-05    7.7e-05      0.875      0.382   -8.35e-05       0.000\n",
      "month_9                   0.0004   7.59e-05      5.129      0.000       0.000       0.001\n",
      "month_10                  0.0007    7.8e-05      8.422      0.000       0.001       0.001\n",
      "month_11                  0.0006   7.59e-05      7.431      0.000       0.000       0.001\n",
      "month_12                  0.0004   7.41e-05      4.884      0.000       0.000       0.001\n",
      "capital_goods             0.0010      0.000      2.714      0.007       0.000       0.002\n",
      "consumer_non-durables     0.0007      0.000      1.793      0.073   -6.34e-05       0.001\n",
      "consumer_services         0.0008      0.000      2.234      0.026    9.29e-05       0.001\n",
      "energy                    0.0003      0.000      0.913      0.361      -0.000       0.001\n",
      "finance                   0.0009      0.000      2.533      0.011       0.000       0.002\n",
      "health_care               0.0007      0.000      2.065      0.039    3.51e-05       0.001\n",
      "miscellaneous             0.0011      0.000      2.564      0.010       0.000       0.002\n",
      "public_utilities          0.0003      0.000      0.749      0.454      -0.001       0.001\n",
      "technology                0.0011      0.000      3.284      0.001       0.000       0.002\n",
      "transportation            0.0010      0.000      2.426      0.015       0.000       0.002\n",
      "==============================================================================\n",
      "Omnibus:                    29135.691   Durbin-Watson:                   2.010\n",
      "Prob(Omnibus):                  0.000   Jarque-Bera (JB):          2803353.255\n",
      "Skew:                          -0.103   Prob(JB):                         0.00\n",
      "Kurtosis:                      27.767   Cond. No.                         80.6\n",
      "==============================================================================\n",
      "\n",
      "Warnings:\n",
      "[1] Standard Errors assume that the covariance matrix of the errors is correctly specified.\n"
     ]
    }
   ],
   "source": [
    "target = 'target_1d'\n",
    "model = OLS(endog=y[target], exog=add_constant(X))\n",
    "trained_model = model.fit()\n",
    "print(trained_model.summary())"
   ]
  },
  {
   "cell_type": "markdown",
   "metadata": {},
   "source": [
    "### 5-Day Returns"
   ]
  },
  {
   "cell_type": "code",
   "execution_count": 14,
   "metadata": {
    "ExecuteTime": {
     "end_time": "2020-04-15T16:20:17.121995Z",
     "start_time": "2020-04-15T16:20:16.592966Z"
    }
   },
   "outputs": [
    {
     "name": "stdout",
     "output_type": "stream",
     "text": [
      "                            OLS Regression Results                            \n",
      "==============================================================================\n",
      "Dep. Variable:              target_5d   R-squared:                       0.030\n",
      "Model:                            OLS   Adj. R-squared:                  0.030\n",
      "Method:                 Least Squares   F-statistic:                     61.54\n",
      "Date:                Wed, 15 Apr 2020   Prob (F-statistic):               0.00\n",
      "Time:                        12:20:17   Log-Likelihood:             3.7879e+05\n",
      "No. Observations:              109675   AIC:                        -7.575e+05\n",
      "Df Residuals:                  109618   BIC:                        -7.569e+05\n",
      "Df Model:                          56                                         \n",
      "Covariance Type:            nonrobust                                         \n",
      "=========================================================================================\n",
      "                            coef    std err          t      P>|t|      [0.025      0.975]\n",
      "-----------------------------------------------------------------------------------------\n",
      "const                    -0.0005      0.000     -3.410      0.001      -0.001      -0.000\n",
      "rsi                       0.0005   8.43e-05      5.725      0.000       0.000       0.001\n",
      "bb_high                   0.0010   9.88e-05     10.040      0.000       0.001       0.001\n",
      "bb_low                   -0.0005   9.44e-05     -5.215      0.000      -0.001      -0.000\n",
      "atr                      -0.0002    2.9e-05     -7.942      0.000      -0.000      -0.000\n",
      "macd                     -0.0004      0.000     -4.143      0.000      -0.001      -0.000\n",
      "return_1d                 0.0010      0.000      7.605      0.000       0.001       0.001\n",
      "return_5d                 0.0012      0.000      2.848      0.004       0.000       0.002\n",
      "return_10d               -0.0038      0.000     -8.624      0.000      -0.005      -0.003\n",
      "return_21d                0.0021      0.000     10.641      0.000       0.002       0.003\n",
      "return_42d               -0.0023      0.000     -8.844      0.000      -0.003      -0.002\n",
      "return_63d               -0.0018      0.000     -8.982      0.000      -0.002      -0.001\n",
      "return_1d_lag1            0.0010      0.000      7.430      0.000       0.001       0.001\n",
      "return_5d_lag1            0.0035      0.000     11.654      0.000       0.003       0.004\n",
      "return_10d_lag1           0.0008      0.000      1.714      0.087      -0.000       0.002\n",
      "return_21d_lag1           0.0020      0.000     11.721      0.000       0.002       0.002\n",
      "return_1d_lag2            0.0010      0.000      7.646      0.000       0.001       0.001\n",
      "return_5d_lag2        -5.578e-05      0.000     -0.167      0.867      -0.001       0.001\n",
      "return_10d_lag2          -0.0003      0.000     -0.847      0.397      -0.001       0.000\n",
      "return_21d_lag2           0.0006      0.000      4.492      0.000       0.000       0.001\n",
      "return_1d_lag3            0.0010      0.000      8.000      0.000       0.001       0.001\n",
      "return_5d_lag3         7.775e-05      0.000      0.232      0.816      -0.001       0.001\n",
      "return_10d_lag3           0.0005    6.4e-05      8.174      0.000       0.000       0.001\n",
      "return_21d_lag3          -0.0002   2.44e-05     -8.026      0.000      -0.000      -0.000\n",
      "return_1d_lag4            0.0011      0.000      8.047      0.000       0.001       0.001\n",
      "return_5d_lag4            0.0006      0.000      2.381      0.017       0.000       0.001\n",
      "return_10d_lag4        4.455e-05   4.51e-05      0.988      0.323   -4.38e-05       0.000\n",
      "return_21d_lag4        8.414e-05   2.41e-05      3.486      0.000    3.68e-05       0.000\n",
      "return_1d_lag5         1.121e-05   2.72e-05      0.413      0.680   -4.21e-05    6.45e-05\n",
      "return_5d_lag5            0.0005      0.000      1.779      0.075   -4.72e-05       0.001\n",
      "return_10d_lag5           0.0004   4.37e-05      8.424      0.000       0.000       0.000\n",
      "return_21d_lag5           0.0002   2.41e-05      7.773      0.000       0.000       0.000\n",
      "year_2014                -0.0004   3.68e-05     -9.674      0.000      -0.000      -0.000\n",
      "year_2015                -0.0006   4.02e-05    -13.802      0.000      -0.001      -0.000\n",
      "year_2016                -0.0003   3.93e-05     -8.246      0.000      -0.000      -0.000\n",
      "year_2017                -0.0002   3.86e-05     -5.234      0.000      -0.000      -0.000\n",
      "month_2                   0.0008   3.15e-05     26.798      0.000       0.001       0.001\n",
      "month_3                   0.0001   3.26e-05      3.391      0.001    4.67e-05       0.000\n",
      "month_4                   0.0003   3.23e-05      9.312      0.000       0.000       0.000\n",
      "month_5                   0.0005   3.18e-05     14.165      0.000       0.000       0.001\n",
      "month_6                   0.0002   3.22e-05      6.956      0.000       0.000       0.000\n",
      "month_7                   0.0004   3.35e-05     13.014      0.000       0.000       0.001\n",
      "month_8                 3.51e-05   3.38e-05      1.039      0.299   -3.11e-05       0.000\n",
      "month_9                   0.0003   3.33e-05      7.932      0.000       0.000       0.000\n",
      "month_10                  0.0004   3.42e-05     12.251      0.000       0.000       0.000\n",
      "month_11                  0.0004   3.33e-05     13.337      0.000       0.000       0.001\n",
      "month_12                  0.0001   3.25e-05      3.928      0.000     6.4e-05       0.000\n",
      "capital_goods             0.0011      0.000      6.697      0.000       0.001       0.001\n",
      "consumer_non-durables     0.0009      0.000      5.178      0.000       0.001       0.001\n",
      "consumer_services         0.0009      0.000      6.035      0.000       0.001       0.001\n",
      "energy                    0.0004      0.000      2.487      0.013     8.1e-05       0.001\n",
      "finance                   0.0010      0.000      6.508      0.000       0.001       0.001\n",
      "health_care               0.0008      0.000      5.238      0.000       0.000       0.001\n",
      "miscellaneous             0.0012      0.000      6.352      0.000       0.001       0.002\n",
      "public_utilities          0.0003      0.000      1.864      0.062   -1.79e-05       0.001\n",
      "technology                0.0011      0.000      7.757      0.000       0.001       0.001\n",
      "transportation            0.0010      0.000      5.918      0.000       0.001       0.001\n",
      "==============================================================================\n",
      "Omnibus:                    43620.237   Durbin-Watson:                   0.436\n",
      "Prob(Omnibus):                  0.000   Jarque-Bera (JB):          2371005.683\n",
      "Skew:                          -1.136   Prob(JB):                         0.00\n",
      "Kurtosis:                      25.665   Cond. No.                         80.6\n",
      "==============================================================================\n",
      "\n",
      "Warnings:\n",
      "[1] Standard Errors assume that the covariance matrix of the errors is correctly specified.\n"
     ]
    }
   ],
   "source": [
    "target = 'target_5d'\n",
    "model = OLS(endog=y[target], exog=add_constant(X))\n",
    "trained_model = model.fit()\n",
    "print(trained_model.summary())"
   ]
  },
  {
   "cell_type": "markdown",
   "metadata": {},
   "source": [
    "#### Obtain the residuals"
   ]
  },
  {
   "cell_type": "code",
   "execution_count": 15,
   "metadata": {
    "ExecuteTime": {
     "end_time": "2020-04-15T16:20:17.184173Z",
     "start_time": "2020-04-15T16:20:17.123311Z"
    }
   },
   "outputs": [],
   "source": [
    "preds = trained_model.predict(add_constant(X))\n",
    "residuals = y[target] - preds"
   ]
  },
  {
   "cell_type": "code",
   "execution_count": 16,
   "metadata": {
    "ExecuteTime": {
     "end_time": "2020-04-15T16:20:18.986595Z",
     "start_time": "2020-04-15T16:20:17.185338Z"
    },
    "scrolled": false
   },
   "outputs": [
    {
     "data": {
      "image/png": "[encoded data removed]",
      "text/plain": [
       "<Figure size 1008x288 with 2 Axes>"
      ]
     },
     "metadata": {},
     "output_type": "display_data"
    }
   ],
   "source": [
    "fig, axes = plt.subplots(ncols=2, figsize=(14,4))\n",
    "sns.distplot(residuals, fit=norm, ax=axes[0], axlabel='Residuals', label='Residuals')\n",
    "axes[0].set_title('Residual Distribution')\n",
    "axes[0].legend()\n",
    "plot_acf(residuals, lags=10, zero=False, ax=axes[1], title='Residual Autocorrelation')\n",
    "axes[1].set_xlabel('Lags')\n",
    "fig.tight_layout()\n",
    "fig.savefig('figures/ols_residuals', dpi=300);"
   ]
  },
  {
   "cell_type": "code",
   "execution_count": null,
   "metadata": {
    "ExecuteTime": {
     "end_time": "2020-04-15T16:22:00.207363Z",
     "start_time": "2020-04-15T16:20:18.987667Z"
    }
   },
   "outputs": [],
   "source": [
    "graphics.influence_plot(trained_model, criterion=\"cooks\")"
   ]
  },
  {
   "cell_type": "markdown",
   "metadata": {},
   "source": [
    "### 10-Day Returns"
   ]
  },
  {
   "cell_type": "code",
   "execution_count": 18,
   "metadata": {
    "ExecuteTime": {
     "end_time": "2020-04-15T16:22:08.344585Z",
     "start_time": "2020-04-15T16:22:07.709360Z"
    }
   },
   "outputs": [
    {
     "name": "stdout",
     "output_type": "stream",
     "text": [
      "                            OLS Regression Results                            \n",
      "==============================================================================\n",
      "Dep. Variable:             target_10d   R-squared:                       0.042\n",
      "Model:                            OLS   Adj. R-squared:                  0.042\n",
      "Method:                 Least Squares   F-statistic:                     86.05\n",
      "Date:                Wed, 15 Apr 2020   Prob (F-statistic):               0.00\n",
      "Time:                        12:22:08   Log-Likelihood:             4.1890e+05\n",
      "No. Observations:              109675   AIC:                        -8.377e+05\n",
      "Df Residuals:                  109618   BIC:                        -8.371e+05\n",
      "Df Model:                          56                                         \n",
      "Covariance Type:            nonrobust                                         \n",
      "=========================================================================================\n",
      "                            coef    std err          t      P>|t|      [0.025      0.975]\n",
      "-----------------------------------------------------------------------------------------\n",
      "const                    -0.0004    9.5e-05     -3.921      0.000      -0.001      -0.000\n",
      "rsi                       0.0002   5.85e-05      2.952      0.003     5.8e-05       0.000\n",
      "bb_high                   0.0006   6.85e-05      9.033      0.000       0.000       0.001\n",
      "bb_low                   -0.0002   6.55e-05     -3.360      0.001      -0.000   -9.17e-05\n",
      "atr                      -0.0002   2.01e-05    -11.787      0.000      -0.000      -0.000\n",
      "macd                     -0.0002   7.21e-05     -2.112      0.035      -0.000    -1.1e-05\n",
      "return_1d                 0.0006   9.01e-05      6.153      0.000       0.000       0.001\n",
      "return_5d              3.837e-05      0.000      0.136      0.892      -0.001       0.001\n",
      "return_10d               -0.0008      0.000     -2.731      0.006      -0.001      -0.000\n",
      "return_21d                0.0016      0.000     11.846      0.000       0.001       0.002\n",
      "return_42d               -0.0024      0.000    -13.261      0.000      -0.003      -0.002\n",
      "return_63d               -0.0014      0.000    -10.464      0.000      -0.002      -0.001\n",
      "return_1d_lag1            0.0005   8.98e-05      6.096      0.000       0.000       0.001\n",
      "return_5d_lag1            0.0013      0.000      6.109      0.000       0.001       0.002\n",
      "return_10d_lag1           0.0009      0.000      2.745      0.006       0.000       0.002\n",
      "return_21d_lag1           0.0017      0.000     14.828      0.000       0.002       0.002\n",
      "return_1d_lag2            0.0005   8.99e-05      6.075      0.000       0.000       0.001\n",
      "return_5d_lag2         4.183e-05      0.000      0.181      0.857      -0.000       0.000\n",
      "return_10d_lag2           0.0002      0.000      0.744      0.457      -0.000       0.001\n",
      "return_21d_lag2           0.0003   9.01e-05      2.909      0.004    8.55e-05       0.000\n",
      "return_1d_lag3            0.0006   9.03e-05      6.188      0.000       0.000       0.001\n",
      "return_5d_lag3        -2.034e-05      0.000     -0.088      0.930      -0.000       0.000\n",
      "return_10d_lag3           0.0005   4.44e-05     12.281      0.000       0.000       0.001\n",
      "return_21d_lag3          -0.0001   1.69e-05     -6.772      0.000      -0.000   -8.14e-05\n",
      "return_1d_lag4            0.0006   9.08e-05      6.402      0.000       0.000       0.001\n",
      "return_5d_lag4            0.0002      0.000      1.203      0.229      -0.000       0.001\n",
      "return_10d_lag4           0.0002   3.13e-05      7.453      0.000       0.000       0.000\n",
      "return_21d_lag4        9.158e-05   1.67e-05      5.469      0.000    5.88e-05       0.000\n",
      "return_1d_lag5        -1.801e-05   1.89e-05     -0.955      0.340    -5.5e-05     1.9e-05\n",
      "return_5d_lag5            0.0002      0.000      1.010      0.312      -0.000       0.001\n",
      "return_10d_lag5           0.0003   3.03e-05     10.676      0.000       0.000       0.000\n",
      "return_21d_lag5           0.0001   1.67e-05      8.425      0.000       0.000       0.000\n",
      "year_2014                -0.0004   2.55e-05    -14.026      0.000      -0.000      -0.000\n",
      "year_2015                -0.0006   2.79e-05    -20.574      0.000      -0.001      -0.001\n",
      "year_2016                -0.0002   2.73e-05     -9.091      0.000      -0.000      -0.000\n",
      "year_2017                -0.0002   2.68e-05     -7.951      0.000      -0.000      -0.000\n",
      "month_2                   0.0006   2.19e-05     27.855      0.000       0.001       0.001\n",
      "month_3                3.216e-05   2.26e-05      1.422      0.155   -1.22e-05    7.65e-05\n",
      "month_4                   0.0002   2.24e-05      7.710      0.000       0.000       0.000\n",
      "month_5                   0.0003   2.21e-05     14.059      0.000       0.000       0.000\n",
      "month_6                   0.0002   2.24e-05      7.706      0.000       0.000       0.000\n",
      "month_7                   0.0002   2.32e-05      7.871      0.000       0.000       0.000\n",
      "month_8               -6.384e-05   2.34e-05     -2.724      0.006      -0.000   -1.79e-05\n",
      "month_9                5.131e-05   2.31e-05      2.221      0.026    6.02e-06    9.66e-05\n",
      "month_10                  0.0003   2.37e-05     14.345      0.000       0.000       0.000\n",
      "month_11                  0.0002   2.31e-05      9.916      0.000       0.000       0.000\n",
      "month_12              -4.164e-05   2.26e-05     -1.846      0.065   -8.59e-05    2.58e-06\n",
      "capital_goods             0.0010      0.000      8.684      0.000       0.001       0.001\n",
      "consumer_non-durables     0.0007      0.000      6.398      0.000       0.001       0.001\n",
      "consumer_services         0.0007      0.000      7.208      0.000       0.001       0.001\n",
      "energy                    0.0003      0.000      2.735      0.006    8.26e-05       0.001\n",
      "finance                   0.0009      0.000      8.316      0.000       0.001       0.001\n",
      "health_care               0.0006      0.000      6.167      0.000       0.000       0.001\n",
      "miscellaneous             0.0012      0.000      8.852      0.000       0.001       0.001\n",
      "public_utilities          0.0002      0.000      1.617      0.106    -4.4e-05       0.000\n",
      "technology                0.0010      0.000      9.982      0.000       0.001       0.001\n",
      "transportation            0.0010      0.000      7.926      0.000       0.001       0.001\n",
      "==============================================================================\n",
      "Omnibus:                    38434.145   Durbin-Watson:                   0.233\n",
      "Prob(Omnibus):                  0.000   Jarque-Bera (JB):          1114460.653\n",
      "Skew:                          -1.085   Prob(JB):                         0.00\n",
      "Kurtosis:                      18.465   Cond. No.                         80.6\n",
      "==============================================================================\n",
      "\n",
      "Warnings:\n",
      "[1] Standard Errors assume that the covariance matrix of the errors is correctly specified.\n"
     ]
    }
   ],
   "source": [
    "target = 'target_10d'\n",
    "model = OLS(endog=y[target], exog=add_constant(X))\n",
    "trained_model = model.fit()\n",
    "print(trained_model.summary())"
   ]
  },
  {
   "cell_type": "markdown",
   "metadata": {},
   "source": [
    "### Monthly Returns"
   ]
  },
  {
   "cell_type": "code",
   "execution_count": 19,
   "metadata": {
    "ExecuteTime": {
     "end_time": "2020-04-15T16:22:08.924609Z",
     "start_time": "2020-04-15T16:22:08.346288Z"
    },
    "scrolled": false
   },
   "outputs": [
    {
     "name": "stdout",
     "output_type": "stream",
     "text": [
      "                            OLS Regression Results                            \n",
      "==============================================================================\n",
      "Dep. Variable:             target_21d   R-squared:                       0.059\n",
      "Model:                            OLS   Adj. R-squared:                  0.058\n",
      "Method:                 Least Squares   F-statistic:                     121.7\n",
      "Date:                Wed, 15 Apr 2020   Prob (F-statistic):               0.00\n",
      "Time:                        12:22:08   Log-Likelihood:             4.6155e+05\n",
      "No. Observations:              109675   AIC:                        -9.230e+05\n",
      "Df Residuals:                  109618   BIC:                        -9.224e+05\n",
      "Df Model:                          56                                         \n",
      "Covariance Type:            nonrobust                                         \n",
      "=========================================================================================\n",
      "                            coef    std err          t      P>|t|      [0.025      0.975]\n",
      "-----------------------------------------------------------------------------------------\n",
      "const                    -0.0003   6.44e-05     -4.358      0.000      -0.000      -0.000\n",
      "rsi                    2.341e-05   3.96e-05      0.591      0.555   -5.43e-05       0.000\n",
      "bb_high                   0.0002   4.64e-05      3.585      0.000    7.55e-05       0.000\n",
      "bb_low                    0.0002   4.44e-05      4.169      0.000    9.81e-05       0.000\n",
      "atr                      -0.0002   1.36e-05    -15.358      0.000      -0.000      -0.000\n",
      "macd                     -0.0003   4.89e-05     -5.224      0.000      -0.000      -0.000\n",
      "return_1d                 0.0003    6.1e-05      4.898      0.000       0.000       0.000\n",
      "return_5d                -0.0005      0.000     -2.607      0.009      -0.001      -0.000\n",
      "return_10d               -0.0003      0.000     -1.328      0.184      -0.001       0.000\n",
      "return_21d                0.0018   9.41e-05     18.679      0.000       0.002       0.002\n",
      "return_42d               -0.0018      0.000    -14.230      0.000      -0.002      -0.002\n",
      "return_63d               -0.0012   9.31e-05    -12.738      0.000      -0.001      -0.001\n",
      "return_1d_lag1            0.0003   6.09e-05      5.063      0.000       0.000       0.000\n",
      "return_5d_lag1            0.0003      0.000      2.395      0.017    6.12e-05       0.001\n",
      "return_10d_lag1           0.0001      0.000      0.500      0.617      -0.000       0.001\n",
      "return_21d_lag1           0.0017   7.93e-05     21.293      0.000       0.002       0.002\n",
      "return_1d_lag2            0.0003   6.09e-05      5.544      0.000       0.000       0.000\n",
      "return_5d_lag2         6.265e-05      0.000      0.399      0.690      -0.000       0.000\n",
      "return_10d_lag2           0.0001      0.000      0.739      0.460      -0.000       0.000\n",
      "return_21d_lag2           0.0005   6.11e-05      7.955      0.000       0.000       0.001\n",
      "return_1d_lag3            0.0004   6.12e-05      6.007      0.000       0.000       0.000\n",
      "return_5d_lag3            0.0001      0.000      0.643      0.520      -0.000       0.000\n",
      "return_10d_lag3           0.0001   3.01e-05      4.172      0.000    6.66e-05       0.000\n",
      "return_21d_lag3       -8.538e-05   1.15e-05     -7.446      0.000      -0.000   -6.29e-05\n",
      "return_1d_lag4            0.0004   6.16e-05      6.239      0.000       0.000       0.001\n",
      "return_5d_lag4         4.801e-05      0.000      0.382      0.703      -0.000       0.000\n",
      "return_10d_lag4        3.879e-05   2.12e-05      1.830      0.067   -2.75e-06    8.03e-05\n",
      "return_21d_lag4           0.0001   1.13e-05     13.028      0.000       0.000       0.000\n",
      "return_1d_lag5         3.325e-06   1.28e-05      0.260      0.795   -2.17e-05    2.84e-05\n",
      "return_5d_lag5        -1.251e-05      0.000     -0.102      0.919      -0.000       0.000\n",
      "return_10d_lag5        6.135e-06   2.05e-05      0.299      0.765   -3.41e-05    4.64e-05\n",
      "return_21d_lag5       -3.558e-05   1.13e-05     -3.145      0.002   -5.78e-05   -1.34e-05\n",
      "year_2014                -0.0003   1.73e-05    -17.181      0.000      -0.000      -0.000\n",
      "year_2015                -0.0006   1.89e-05    -29.887      0.000      -0.001      -0.001\n",
      "year_2016                -0.0002   1.85e-05     -9.737      0.000      -0.000      -0.000\n",
      "year_2017                -0.0002   1.82e-05    -10.311      0.000      -0.000      -0.000\n",
      "month_2                8.443e-05   1.48e-05      5.700      0.000    5.54e-05       0.000\n",
      "month_3                  -0.0002   1.53e-05     -9.795      0.000      -0.000      -0.000\n",
      "month_4                  -0.0001   1.52e-05     -8.102      0.000      -0.000   -9.32e-05\n",
      "month_5                2.202e-05    1.5e-05      1.472      0.141    -7.3e-06    5.14e-05\n",
      "month_6               -2.039e-05   1.52e-05     -1.345      0.179   -5.01e-05    9.32e-06\n",
      "month_7                  -0.0003   1.57e-05    -18.480      0.000      -0.000      -0.000\n",
      "month_8                  -0.0002   1.59e-05    -14.883      0.000      -0.000      -0.000\n",
      "month_9                  -0.0002   1.57e-05    -11.602      0.000      -0.000      -0.000\n",
      "month_10               6.587e-05   1.61e-05      4.092      0.000    3.43e-05    9.74e-05\n",
      "month_11                 -0.0001   1.57e-05     -7.552      0.000      -0.000   -8.76e-05\n",
      "month_12                 -0.0004   1.53e-05    -26.081      0.000      -0.000      -0.000\n",
      "capital_goods             0.0008   7.57e-05     11.197      0.000       0.001       0.001\n",
      "consumer_non-durables     0.0007   7.84e-05      8.618      0.000       0.001       0.001\n",
      "consumer_services         0.0006   7.01e-05      8.932      0.000       0.000       0.001\n",
      "energy                    0.0002   7.22e-05      2.652      0.008    4.99e-05       0.000\n",
      "finance                   0.0008   7.37e-05     10.793      0.000       0.001       0.001\n",
      "health_care               0.0005   6.89e-05      7.493      0.000       0.000       0.001\n",
      "miscellaneous             0.0012   9.02e-05     12.968      0.000       0.001       0.001\n",
      "public_utilities          0.0001   8.71e-05      1.241      0.215   -6.26e-05       0.000\n",
      "technology                0.0009   6.95e-05     13.417      0.000       0.001       0.001\n",
      "transportation            0.0009   8.24e-05     11.164      0.000       0.001       0.001\n",
      "==============================================================================\n",
      "Omnibus:                    40145.029   Durbin-Watson:                   0.129\n",
      "Prob(Omnibus):                  0.000   Jarque-Bera (JB):           847211.689\n",
      "Skew:                          -1.252   Prob(JB):                         0.00\n",
      "Kurtosis:                      16.384   Cond. No.                         80.6\n",
      "==============================================================================\n",
      "\n",
      "Warnings:\n",
      "[1] Standard Errors assume that the covariance matrix of the errors is correctly specified.\n"
     ]
    }
   ],
   "source": [
    "target = 'target_21d'\n",
    "model = OLS(endog=y[target], exog=add_constant(X))\n",
    "trained_model = model.fit()\n",
    "print(trained_model.summary())"
   ]
  },
  {
   "cell_type": "code",
   "execution_count": null,
   "metadata": {},
   "outputs": [],
   "source": []
  }
 ],
 "metadata": {
  "kernelspec": {
   "display_name": "Python 3",
   "language": "python",
   "name": "python3"
  },
  "language_info": {
   "codemirror_mode": {
    "name": "ipython",
    "version": 3
   },
   "file_extension": ".py",
   "mimetype": "text/x-python",
   "name": "python",
   "nbconvert_exporter": "python",
   "pygments_lexer": "ipython3",
   "version": "3.7.6"
  },
  "toc": {
   "base_numbering": 1,
   "nav_menu": {},
   "number_sections": true,
   "sideBar": true,
   "skip_h1_title": true,
   "title_cell": "Table of Contents",
   "title_sidebar": "Contents",
   "toc_cell": false,
   "toc_position": {},
   "toc_section_display": true,
   "toc_window_display": true
  }
 },
 "nbformat": 4,
 "nbformat_minor": 2
}
