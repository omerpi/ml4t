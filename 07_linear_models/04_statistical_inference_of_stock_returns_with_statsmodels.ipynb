{
 "cells": [
  {
   "cell_type": "markdown",
   "metadata": {},
   "source": [
    "# Statistical inference of stock returns with linear regression"
   ]
  },
  {
   "cell_type": "markdown",
   "metadata": {},
   "source": [
    "## Imports & Settings"
   ]
  },
  {
   "cell_type": "code",
   "execution_count": 1,
   "metadata": {
    "ExecuteTime": {
     "end_time": "2020-04-07T17:07:36.280422Z",
     "start_time": "2020-04-07T17:07:35.472048Z"
    }
   },
   "outputs": [
    {
     "name": "stderr",
     "output_type": "stream",
     "text": [
      "/home/stefan/.pyenv/versions/miniconda3-latest/envs/ml4t/lib/python3.7/site-packages/pandas_datareader/compat/__init__.py:7: FutureWarning: pandas.util.testing is deprecated. Use the functions in the public API at pandas.testing instead.\n",
      "  from pandas.util.testing import assert_frame_equal\n"
     ]
    }
   ],
   "source": [
    "from pathlib import Path\n",
    "from time import time\n",
    "import pandas as pd\n",
    "import numpy as np\n",
    "from statsmodels.api import OLS, add_constant, graphics\n",
    "from statsmodels.graphics.tsaplots import plot_acf\n",
    "from scipy.stats import spearmanr, norm\n",
    "\n",
    "from sklearn.metrics import mean_squared_error, make_scorer, roc_auc_score\n",
    "from sklearn.linear_model import LinearRegression, Ridge, RidgeCV, Lasso, LassoCV, LogisticRegression\n",
    "from sklearn.pipeline import Pipeline\n",
    "from sklearn.preprocessing import StandardScaler,scale\n",
    "from sklearn.model_selection import train_test_split, cross_val_score, GridSearchCV, learning_curve, KFold\n",
    "\n",
    "from empyrical import max_drawdown, sortino_ratio\n",
    "from custom_scoring import spearman_corr\n",
    "\n",
    "import seaborn as sns\n",
    "import matplotlib.pyplot as plt\n",
    "from matplotlib.ticker import FuncFormatter\n",
    "import warnings"
   ]
  },
  {
   "cell_type": "code",
   "execution_count": 2,
   "metadata": {
    "ExecuteTime": {
     "end_time": "2020-04-07T17:07:37.614056Z",
     "start_time": "2020-04-07T17:07:37.612055Z"
    }
   },
   "outputs": [],
   "source": [
    "warnings.filterwarnings('ignore')\n",
    "sns.set_style('darkgrid')\n",
    "idx = pd.IndexSlice"
   ]
  },
  {
   "cell_type": "markdown",
   "metadata": {},
   "source": [
    "## Load Data"
   ]
  },
  {
   "cell_type": "code",
   "execution_count": 3,
   "metadata": {
    "ExecuteTime": {
     "end_time": "2020-04-07T17:07:40.875049Z",
     "start_time": "2020-04-07T17:07:38.625760Z"
    }
   },
   "outputs": [],
   "source": [
    "with pd.HDFStore('data.h5') as store:\n",
    "    data = (store['model_data']\n",
    "            .dropna()\n",
    "            .drop(['open', 'close', 'low', 'high'], axis=1))"
   ]
  },
  {
   "cell_type": "markdown",
   "metadata": {},
   "source": [
    "### Select Investment Universe"
   ]
  },
  {
   "cell_type": "code",
   "execution_count": 4,
   "metadata": {
    "ExecuteTime": {
     "end_time": "2020-04-07T17:07:45.675123Z",
     "start_time": "2020-04-07T17:07:45.654569Z"
    }
   },
   "outputs": [],
   "source": [
    "data = data[data.dollar_vol_rank<100]"
   ]
  },
  {
   "cell_type": "code",
   "execution_count": 5,
   "metadata": {
    "ExecuteTime": {
     "end_time": "2020-04-07T17:07:46.397464Z",
     "start_time": "2020-04-07T17:07:46.347715Z"
    }
   },
   "outputs": [
    {
     "name": "stdout",
     "output_type": "stream",
     "text": [
      "<class 'pandas.core.frame.DataFrame'>\n",
      "MultiIndex: 109663 entries, ('AAL', Timestamp('2013-07-24 00:00:00')) to ('ZTS', Timestamp('2014-12-09 00:00:00'))\n",
      "Data columns (total 64 columns):\n",
      " #   Column                 Non-Null Count   Dtype  \n",
      "---  ------                 --------------   -----  \n",
      " 0   volume                 109663 non-null  float64\n",
      " 1   dollar_vol             109663 non-null  float64\n",
      " 2   dollar_vol_rank        109663 non-null  float64\n",
      " 3   rsi                    109663 non-null  float64\n",
      " 4   bb_high                109663 non-null  float64\n",
      " 5   bb_low                 109663 non-null  float64\n",
      " 6   atr                    109663 non-null  float64\n",
      " 7   macd                   109663 non-null  float64\n",
      " 8   return_1d              109663 non-null  float64\n",
      " 9   return_5d              109663 non-null  float64\n",
      " 10  return_10d             109663 non-null  float64\n",
      " 11  return_21d             109663 non-null  float64\n",
      " 12  return_42d             109663 non-null  float64\n",
      " 13  return_63d             109663 non-null  float64\n",
      " 14  return_1d_lag1         109663 non-null  float64\n",
      " 15  return_5d_lag1         109663 non-null  float64\n",
      " 16  return_10d_lag1        109663 non-null  float64\n",
      " 17  return_21d_lag1        109663 non-null  float64\n",
      " 18  return_1d_lag2         109663 non-null  float64\n",
      " 19  return_5d_lag2         109663 non-null  float64\n",
      " 20  return_10d_lag2        109663 non-null  float64\n",
      " 21  return_21d_lag2        109663 non-null  float64\n",
      " 22  return_1d_lag3         109663 non-null  float64\n",
      " 23  return_5d_lag3         109663 non-null  float64\n",
      " 24  return_10d_lag3        109663 non-null  float64\n",
      " 25  return_21d_lag3        109663 non-null  float64\n",
      " 26  return_1d_lag4         109663 non-null  float64\n",
      " 27  return_5d_lag4         109663 non-null  float64\n",
      " 28  return_10d_lag4        109663 non-null  float64\n",
      " 29  return_21d_lag4        109663 non-null  float64\n",
      " 30  return_1d_lag5         109663 non-null  float64\n",
      " 31  return_5d_lag5         109663 non-null  float64\n",
      " 32  return_10d_lag5        109663 non-null  float64\n",
      " 33  return_21d_lag5        109663 non-null  float64\n",
      " 34  target_1d              109663 non-null  float64\n",
      " 35  target_5d              109663 non-null  float64\n",
      " 36  target_10d             109663 non-null  float64\n",
      " 37  target_21d             109663 non-null  float64\n",
      " 38  year_2014              109663 non-null  uint8  \n",
      " 39  year_2015              109663 non-null  uint8  \n",
      " 40  year_2016              109663 non-null  uint8  \n",
      " 41  year_2017              109663 non-null  uint8  \n",
      " 42  month_2                109663 non-null  uint8  \n",
      " 43  month_3                109663 non-null  uint8  \n",
      " 44  month_4                109663 non-null  uint8  \n",
      " 45  month_5                109663 non-null  uint8  \n",
      " 46  month_6                109663 non-null  uint8  \n",
      " 47  month_7                109663 non-null  uint8  \n",
      " 48  month_8                109663 non-null  uint8  \n",
      " 49  month_9                109663 non-null  uint8  \n",
      " 50  month_10               109663 non-null  uint8  \n",
      " 51  month_11               109663 non-null  uint8  \n",
      " 52  month_12               109663 non-null  uint8  \n",
      " 53  capital_goods          109663 non-null  uint8  \n",
      " 54  consumer_durables      109663 non-null  uint8  \n",
      " 55  consumer_non-durables  109663 non-null  uint8  \n",
      " 56  consumer_services      109663 non-null  uint8  \n",
      " 57  energy                 109663 non-null  uint8  \n",
      " 58  finance                109663 non-null  uint8  \n",
      " 59  health_care            109663 non-null  uint8  \n",
      " 60  miscellaneous          109663 non-null  uint8  \n",
      " 61  public_utilities       109663 non-null  uint8  \n",
      " 62  technology             109663 non-null  uint8  \n",
      " 63  transportation         109663 non-null  uint8  \n",
      "dtypes: float64(38), uint8(26)\n",
      "memory usage: 35.1+ MB\n"
     ]
    }
   ],
   "source": [
    "data.info(null_counts=True)"
   ]
  },
  {
   "cell_type": "markdown",
   "metadata": {},
   "source": [
    "### Create Model Data"
   ]
  },
  {
   "cell_type": "code",
   "execution_count": 6,
   "metadata": {
    "ExecuteTime": {
     "end_time": "2020-04-07T17:08:03.002069Z",
     "start_time": "2020-04-07T17:08:02.972991Z"
    }
   },
   "outputs": [],
   "source": [
    "y = data.filter(like='target')\n",
    "X = data.drop(y.columns, axis=1)\n",
    "X = X.drop(['dollar_vol', 'dollar_vol_rank', 'volume', 'consumer_durables'], axis=1)"
   ]
  },
  {
   "cell_type": "markdown",
   "metadata": {},
   "source": [
    "## Explore Data"
   ]
  },
  {
   "cell_type": "code",
   "execution_count": 9,
   "metadata": {},
   "outputs": [
    {
     "data": {
      "image/png": "[encoded data removed]",
      "text/plain": [
       "<Figure size 720x720 with 4 Axes>"
      ]
     },
     "metadata": {},
     "output_type": "display_data"
    }
   ],
   "source": [
    "sns.clustermap(y.corr(), cmap=sns.diverging_palette(h_neg=20, h_pos=220), center=0, annot=True, fmt='.2%');"
   ]
  },
  {
   "cell_type": "code",
   "execution_count": 10,
   "metadata": {},
   "outputs": [
    {
     "data": {
      "image/png": "[encoded data removed]",
      "text/plain": [
       "<Figure size 1008x1008 with 4 Axes>"
      ]
     },
     "metadata": {},
     "output_type": "display_data"
    }
   ],
   "source": [
    "sns.clustermap(X.corr(), cmap=sns.diverging_palette(h_neg=20, h_pos=220), center=0);\n",
    "plt.gcf().set_size_inches((14, 14))"
   ]
  },
  {
   "cell_type": "code",
   "execution_count": 11,
   "metadata": {},
   "outputs": [],
   "source": [
    "corr_mat = X.corr().stack().reset_index()\n",
    "corr_mat.columns=['var1', 'var2', 'corr']\n",
    "corr_mat = corr_mat[corr_mat.var1!=corr_mat.var2].sort_values(by='corr', ascending=False)"
   ]
  },
  {
   "cell_type": "code",
   "execution_count": 12,
   "metadata": {
    "scrolled": true
   },
   "outputs": [
    {
     "data": {
      "text/html": [
       "<div>\n",
       "<style scoped>\n",
       "    .dataframe tbody tr th:only-of-type {\n",
       "        vertical-align: middle;\n",
       "    }\n",
       "\n",
       "    .dataframe tbody tr th {\n",
       "        vertical-align: top;\n",
       "    }\n",
       "\n",
       "    .dataframe thead th {\n",
       "        text-align: right;\n",
       "    }\n",
       "</style>\n",
       "<table border=\"1\" class=\"dataframe\">\n",
       "  <thead>\n",
       "    <tr style=\"text-align: right;\">\n",
       "      <th></th>\n",
       "      <th>var1</th>\n",
       "      <th>var2</th>\n",
       "      <th>corr</th>\n",
       "    </tr>\n",
       "  </thead>\n",
       "  <tbody>\n",
       "    <tr>\n",
       "      <th>569</th>\n",
       "      <td>return_63d</td>\n",
       "      <td>return_42d</td>\n",
       "      <td>0.834447</td>\n",
       "    </tr>\n",
       "    <tr>\n",
       "      <th>514</th>\n",
       "      <td>return_42d</td>\n",
       "      <td>return_63d</td>\n",
       "      <td>0.834447</td>\n",
       "    </tr>\n",
       "    <tr>\n",
       "      <th>4</th>\n",
       "      <td>rsi</td>\n",
       "      <td>macd</td>\n",
       "      <td>0.818374</td>\n",
       "    </tr>\n",
       "    <tr>\n",
       "      <th>224</th>\n",
       "      <td>macd</td>\n",
       "      <td>rsi</td>\n",
       "      <td>0.818374</td>\n",
       "    </tr>\n",
       "    <tr>\n",
       "      <th>452</th>\n",
       "      <td>return_21d</td>\n",
       "      <td>macd</td>\n",
       "      <td>0.803368</td>\n",
       "    </tr>\n",
       "    <tr>\n",
       "      <th>449</th>\n",
       "      <td>return_21d</td>\n",
       "      <td>bb_high</td>\n",
       "      <td>-0.625328</td>\n",
       "    </tr>\n",
       "    <tr>\n",
       "      <th>63</th>\n",
       "      <td>bb_high</td>\n",
       "      <td>return_10d</td>\n",
       "      <td>-0.693075</td>\n",
       "    </tr>\n",
       "    <tr>\n",
       "      <th>393</th>\n",
       "      <td>return_10d</td>\n",
       "      <td>bb_high</td>\n",
       "      <td>-0.693075</td>\n",
       "    </tr>\n",
       "    <tr>\n",
       "      <th>56</th>\n",
       "      <td>bb_high</td>\n",
       "      <td>rsi</td>\n",
       "      <td>-0.699712</td>\n",
       "    </tr>\n",
       "    <tr>\n",
       "      <th>1</th>\n",
       "      <td>rsi</td>\n",
       "      <td>bb_high</td>\n",
       "      <td>-0.699712</td>\n",
       "    </tr>\n",
       "  </tbody>\n",
       "</table>\n",
       "</div>"
      ],
      "text/plain": [
       "           var1        var2      corr\n",
       "569  return_63d  return_42d  0.834447\n",
       "514  return_42d  return_63d  0.834447\n",
       "4           rsi        macd  0.818374\n",
       "224        macd         rsi  0.818374\n",
       "452  return_21d        macd  0.803368\n",
       "449  return_21d     bb_high -0.625328\n",
       "63      bb_high  return_10d -0.693075\n",
       "393  return_10d     bb_high -0.693075\n",
       "56      bb_high         rsi -0.699712\n",
       "1           rsi     bb_high -0.699712"
      ]
     },
     "execution_count": 12,
     "metadata": {},
     "output_type": "execute_result"
    }
   ],
   "source": [
    "corr_mat.head().append(corr_mat.tail())"
   ]
  },
  {
   "cell_type": "code",
   "execution_count": 13,
   "metadata": {},
   "outputs": [
    {
     "data": {
      "image/png": "[encoded data removed]",
      "text/plain": [
       "<Figure size 432x288 with 1 Axes>"
      ]
     },
     "metadata": {},
     "output_type": "display_data"
    }
   ],
   "source": [
    "y.boxplot();"
   ]
  },
  {
   "cell_type": "markdown",
   "metadata": {},
   "source": [
    "## Linear Regression for Statistical Inference: OLS with statsmodels"
   ]
  },
  {
   "cell_type": "markdown",
   "metadata": {},
   "source": [
    "### Ticker-wise standardization"
   ]
  },
  {
   "cell_type": "markdown",
   "metadata": {},
   "source": [
    "`statsmodels` warns of high design matrix condition numbers. This can arise when the variables are not standardized and the Eigenvalues differ due to scaling. The following step avoids this warning."
   ]
  },
  {
   "cell_type": "code",
   "execution_count": 7,
   "metadata": {
    "ExecuteTime": {
     "end_time": "2020-04-07T17:08:20.862972Z",
     "start_time": "2020-04-07T17:08:15.120453Z"
    }
   },
   "outputs": [],
   "source": [
    "sectors = X.iloc[:, -10:]\n",
    "X = (X.drop(sectors.columns, axis=1)\n",
    "     .groupby(level='ticker')\n",
    "     .transform(lambda x: (x - x.mean()) / x.std())\n",
    "    .join(sectors)\n",
    "    .fillna(0))"
   ]
  },
  {
   "cell_type": "markdown",
   "metadata": {},
   "source": [
    "### 1-Day Returns"
   ]
  },
  {
   "cell_type": "code",
   "execution_count": 15,
   "metadata": {
    "scrolled": false
   },
   "outputs": [
    {
     "name": "stdout",
     "output_type": "stream",
     "text": [
      "                            OLS Regression Results                            \n",
      "==============================================================================\n",
      "Dep. Variable:              target_1d   R-squared:                       0.010\n",
      "Model:                            OLS   Adj. R-squared:                  0.009\n",
      "Method:                 Least Squares   F-statistic:                     19.73\n",
      "Date:                Fri, 14 Feb 2020   Prob (F-statistic):          1.47e-193\n",
      "Time:                        11:13:53   Log-Likelihood:             2.9067e+05\n",
      "No. Observations:              109663   AIC:                        -5.812e+05\n",
      "Df Residuals:                  109606   BIC:                        -5.807e+05\n",
      "Df Model:                          56                                         \n",
      "Covariance Type:            nonrobust                                         \n",
      "=========================================================================================\n",
      "                            coef    std err          t      P>|t|      [0.025      0.975]\n",
      "-----------------------------------------------------------------------------------------\n",
      "const                  2.717e-06      0.000      0.011      0.991      -0.000       0.000\n",
      "rsi                       0.0003      0.000      1.794      0.073   -3.16e-05       0.001\n",
      "bb_high                   0.0004      0.000      1.684      0.092   -6.17e-05       0.001\n",
      "bb_low                    0.0003      0.000      1.524      0.128   -9.41e-05       0.001\n",
      "atr                      -0.0002   6.53e-05     -3.419      0.001      -0.000   -9.52e-05\n",
      "macd                     -0.0005      0.000     -2.203      0.028      -0.001   -5.79e-05\n",
      "return_1d                 0.0031      0.000     10.394      0.000       0.003       0.004\n",
      "return_5d                -0.0022      0.001     -2.419      0.016      -0.004      -0.000\n",
      "return_10d               -0.0065      0.001     -6.574      0.000      -0.008      -0.005\n",
      "return_21d                0.0030      0.000      6.724      0.000       0.002       0.004\n",
      "return_42d               -0.0032      0.001     -5.230      0.000      -0.004      -0.002\n",
      "return_63d               -0.0022      0.000     -4.872      0.000      -0.003      -0.001\n",
      "return_1d_lag1            0.0029      0.000      9.829      0.000       0.002       0.004\n",
      "return_5d_lag1            0.0049      0.001      7.201      0.000       0.004       0.006\n",
      "return_10d_lag1          -0.0018      0.001     -1.669      0.095      -0.004       0.000\n",
      "return_21d_lag1           0.0030      0.000      7.893      0.000       0.002       0.004\n",
      "return_1d_lag2            0.0030      0.000      9.946      0.000       0.002       0.004\n",
      "return_5d_lag2            0.0014      0.001      1.900      0.057    -4.4e-05       0.003\n",
      "return_10d_lag2           0.0007      0.001      0.793      0.428      -0.001       0.002\n",
      "return_21d_lag2           0.0005      0.000      1.857      0.063   -3.01e-05       0.001\n",
      "return_1d_lag3            0.0029      0.000      9.649      0.000       0.002       0.003\n",
      "return_5d_lag3            0.0019      0.001      2.537      0.011       0.000       0.003\n",
      "return_10d_lag3           0.0003      0.000      2.392      0.017     6.2e-05       0.001\n",
      "return_21d_lag3          -0.0002   5.45e-05     -4.302      0.000      -0.000      -0.000\n",
      "return_1d_lag4            0.0032      0.000     10.701      0.000       0.003       0.004\n",
      "return_5d_lag4         8.918e-05      0.001      0.147      0.883      -0.001       0.001\n",
      "return_10d_lag4           0.0003      0.000      2.909      0.004    9.56e-05       0.000\n",
      "return_21d_lag4        2.443e-05   5.39e-05      0.453      0.651   -8.12e-05       0.000\n",
      "return_1d_lag5        -8.173e-05   6.09e-05     -1.343      0.179      -0.000    3.76e-05\n",
      "return_5d_lag5           -0.0004      0.001     -0.658      0.511      -0.002       0.001\n",
      "return_10d_lag5           0.0006   9.75e-05      6.251      0.000       0.000       0.001\n",
      "return_21d_lag5           0.0001   5.37e-05      2.021      0.043    3.29e-06       0.000\n",
      "year_2014                -0.0004   8.18e-05     -5.357      0.000      -0.001      -0.000\n",
      "year_2015                -0.0007   8.98e-05     -7.475      0.000      -0.001      -0.000\n",
      "year_2016                -0.0005   8.76e-05     -5.234      0.000      -0.001      -0.000\n",
      "year_2017                -0.0002   8.68e-05     -2.827      0.005      -0.000   -7.53e-05\n",
      "month_2                   0.0010   7.03e-05     13.886      0.000       0.001       0.001\n",
      "month_3                   0.0003   7.27e-05      4.426      0.000       0.000       0.000\n",
      "month_4                   0.0005    7.2e-05      6.505      0.000       0.000       0.001\n",
      "month_5                   0.0005   7.09e-05      6.551      0.000       0.000       0.001\n",
      "month_6                   0.0004   7.18e-05      5.557      0.000       0.000       0.001\n",
      "month_7                   0.0006   7.47e-05      8.058      0.000       0.000       0.001\n",
      "month_8                1.939e-05   7.53e-05      0.258      0.797      -0.000       0.000\n",
      "month_9                   0.0004   7.45e-05      5.071      0.000       0.000       0.001\n",
      "month_10                  0.0007   7.65e-05      8.924      0.000       0.001       0.001\n",
      "month_11                  0.0006   7.42e-05      7.740      0.000       0.000       0.001\n",
      "month_12                  0.0003   7.25e-05      4.769      0.000       0.000       0.000\n",
      "capital_goods             0.0007      0.000      2.337      0.019       0.000       0.001\n",
      "consumer_non-durables     0.0005      0.000      1.545      0.122      -0.000       0.001\n",
      "consumer_services         0.0005      0.000      1.711      0.087   -7.09e-05       0.001\n",
      "energy                 6.431e-05      0.000      0.216      0.829      -0.001       0.001\n",
      "finance                   0.0006      0.000      2.050      0.040    2.72e-05       0.001\n",
      "health_care               0.0005      0.000      1.791      0.073   -4.75e-05       0.001\n",
      "miscellaneous             0.0009      0.000      2.291      0.022       0.000       0.002\n",
      "public_utilities       1.549e-05      0.000      0.041      0.967      -0.001       0.001\n",
      "technology                0.0009      0.000      3.099      0.002       0.000       0.001\n",
      "transportation            0.0008      0.000      2.177      0.030    7.53e-05       0.001\n",
      "==============================================================================\n",
      "Omnibus:                    27933.830   Durbin-Watson:                   2.012\n",
      "Prob(Omnibus):                  0.000   Jarque-Bera (JB):          2320606.219\n",
      "Skew:                           0.030   Prob(JB):                         0.00\n",
      "Kurtosis:                      25.536   Cond. No.                         79.8\n",
      "==============================================================================\n",
      "\n",
      "Warnings:\n",
      "[1] Standard Errors assume that the covariance matrix of the errors is correctly specified.\n"
     ]
    }
   ],
   "source": [
    "target = 'target_1d'\n",
    "model = OLS(endog=y[target], exog=add_constant(X))\n",
    "trained_model = model.fit()\n",
    "print(trained_model.summary())"
   ]
  },
  {
   "cell_type": "markdown",
   "metadata": {},
   "source": [
    "### 5-Day Returns"
   ]
  },
  {
   "cell_type": "code",
   "execution_count": 8,
   "metadata": {
    "ExecuteTime": {
     "end_time": "2020-04-07T17:08:32.998650Z",
     "start_time": "2020-04-07T17:08:32.503282Z"
    }
   },
   "outputs": [
    {
     "name": "stdout",
     "output_type": "stream",
     "text": [
      "                            OLS Regression Results                            \n",
      "==============================================================================\n",
      "Dep. Variable:              target_5d   R-squared:                       0.033\n",
      "Model:                            OLS   Adj. R-squared:                  0.032\n",
      "Method:                 Least Squares   F-statistic:                     66.12\n",
      "Date:                Tue, 07 Apr 2020   Prob (F-statistic):               0.00\n",
      "Time:                        13:08:32   Log-Likelihood:             3.8129e+05\n",
      "No. Observations:              109663   AIC:                        -7.625e+05\n",
      "Df Residuals:                  109606   BIC:                        -7.619e+05\n",
      "Df Model:                          56                                         \n",
      "Covariance Type:            nonrobust                                         \n",
      "=========================================================================================\n",
      "                            coef    std err          t      P>|t|      [0.025      0.975]\n",
      "-----------------------------------------------------------------------------------------\n",
      "const                    -0.0002      0.000     -1.753      0.080      -0.000    2.29e-05\n",
      "rsi                       0.0005   8.32e-05      5.741      0.000       0.000       0.001\n",
      "bb_high                   0.0011   9.78e-05     10.860      0.000       0.001       0.001\n",
      "bb_low                   -0.0005   9.44e-05     -5.375      0.000      -0.001      -0.000\n",
      "atr                      -0.0002   2.86e-05     -7.848      0.000      -0.000      -0.000\n",
      "macd                     -0.0005      0.000     -5.064      0.000      -0.001      -0.000\n",
      "return_1d                 0.0009      0.000      7.112      0.000       0.001       0.001\n",
      "return_5d                 0.0014      0.000      3.549      0.000       0.001       0.002\n",
      "return_10d               -0.0039      0.000     -8.978      0.000      -0.005      -0.003\n",
      "return_21d                0.0020      0.000     10.256      0.000       0.002       0.002\n",
      "return_42d               -0.0019      0.000     -7.275      0.000      -0.002      -0.001\n",
      "return_63d               -0.0020      0.000     -9.989      0.000      -0.002      -0.002\n",
      "return_1d_lag1            0.0009      0.000      6.939      0.000       0.001       0.001\n",
      "return_5d_lag1            0.0036      0.000     12.271      0.000       0.003       0.004\n",
      "return_10d_lag1           0.0011      0.000      2.381      0.017       0.000       0.002\n",
      "return_21d_lag1           0.0019      0.000     11.100      0.000       0.002       0.002\n",
      "return_1d_lag2            0.0009      0.000      7.139      0.000       0.001       0.001\n",
      "return_5d_lag2           -0.0002      0.000     -0.671      0.502      -0.001       0.000\n",
      "return_10d_lag2           0.0003      0.000      0.870      0.384      -0.000       0.001\n",
      "return_21d_lag2           0.0007      0.000      5.733      0.000       0.000       0.001\n",
      "return_1d_lag3            0.0010      0.000      7.497      0.000       0.001       0.001\n",
      "return_5d_lag3           -0.0001      0.000     -0.341      0.733      -0.001       0.001\n",
      "return_10d_lag3           0.0005   6.27e-05      7.814      0.000       0.000       0.001\n",
      "return_21d_lag3          -0.0002   2.38e-05     -9.082      0.000      -0.000      -0.000\n",
      "return_1d_lag4            0.0010      0.000      7.530      0.000       0.001       0.001\n",
      "return_5d_lag4            0.0002      0.000      0.659      0.510      -0.000       0.001\n",
      "return_10d_lag4        1.302e-05   4.41e-05      0.295      0.768   -7.34e-05    9.94e-05\n",
      "return_21d_lag4        6.543e-05   2.36e-05      2.773      0.006    1.92e-05       0.000\n",
      "return_1d_lag5         1.006e-05   2.66e-05      0.378      0.706   -4.21e-05    6.23e-05\n",
      "return_5d_lag5         4.551e-06      0.000      0.018      0.986      -0.001       0.001\n",
      "return_10d_lag5           0.0003   4.27e-05      7.581      0.000       0.000       0.000\n",
      "return_21d_lag5           0.0002   2.35e-05      8.245      0.000       0.000       0.000\n",
      "year_2014                -0.0004   3.58e-05    -11.700      0.000      -0.000      -0.000\n",
      "year_2015                -0.0006   3.93e-05    -15.490      0.000      -0.001      -0.001\n",
      "year_2016                -0.0003   3.83e-05     -9.032      0.000      -0.000      -0.000\n",
      "year_2017                -0.0002    3.8e-05     -5.939      0.000      -0.000      -0.000\n",
      "month_2                   0.0008   3.08e-05     27.456      0.000       0.001       0.001\n",
      "month_3                   0.0001   3.18e-05      3.696      0.000    5.53e-05       0.000\n",
      "month_4                   0.0003   3.15e-05      8.698      0.000       0.000       0.000\n",
      "month_5                   0.0004    3.1e-05     14.128      0.000       0.000       0.000\n",
      "month_6                   0.0002   3.14e-05      6.848      0.000       0.000       0.000\n",
      "month_7                   0.0004   3.27e-05     12.273      0.000       0.000       0.000\n",
      "month_8               -7.442e-06   3.29e-05     -0.226      0.821    -7.2e-05    5.71e-05\n",
      "month_9                   0.0003   3.26e-05      7.956      0.000       0.000       0.000\n",
      "month_10                  0.0004   3.35e-05     12.853      0.000       0.000       0.000\n",
      "month_11                  0.0004   3.25e-05     13.208      0.000       0.000       0.000\n",
      "month_12               9.889e-05   3.17e-05      3.115      0.002    3.67e-05       0.000\n",
      "capital_goods             0.0008      0.000      5.874      0.000       0.001       0.001\n",
      "consumer_non-durables     0.0006      0.000      4.349      0.000       0.000       0.001\n",
      "consumer_services         0.0006      0.000      4.932      0.000       0.000       0.001\n",
      "energy                    0.0001      0.000      1.009      0.313      -0.000       0.000\n",
      "finance                   0.0007      0.000      5.525      0.000       0.000       0.001\n",
      "health_care               0.0006      0.000      4.935      0.000       0.000       0.001\n",
      "miscellaneous             0.0010      0.000      5.685      0.000       0.001       0.001\n",
      "public_utilities       -6.03e-06      0.000     -0.036      0.971      -0.000       0.000\n",
      "technology                0.0009      0.000      7.155      0.000       0.001       0.001\n",
      "transportation            0.0008      0.000      5.203      0.000       0.000       0.001\n",
      "==============================================================================\n",
      "Omnibus:                    33104.830   Durbin-Watson:                   0.436\n",
      "Prob(Omnibus):                  0.000   Jarque-Bera (JB):          1211101.670\n",
      "Skew:                          -0.780   Prob(JB):                         0.00\n",
      "Kurtosis:                      19.205   Cond. No.                         79.8\n",
      "==============================================================================\n",
      "\n",
      "Warnings:\n",
      "[1] Standard Errors assume that the covariance matrix of the errors is correctly specified.\n"
     ]
    }
   ],
   "source": [
    "target = 'target_5d'\n",
    "model = OLS(endog=y[target], exog=add_constant(X))\n",
    "trained_model = model.fit()\n",
    "print(trained_model.summary())"
   ]
  },
  {
   "cell_type": "markdown",
   "metadata": {},
   "source": [
    "#### Obtain the residuals"
   ]
  },
  {
   "cell_type": "code",
   "execution_count": 17,
   "metadata": {},
   "outputs": [],
   "source": [
    "preds = trained_model.predict(add_constant(X))\n",
    "residuals = y[target] - preds"
   ]
  },
  {
   "cell_type": "code",
   "execution_count": 18,
   "metadata": {
    "scrolled": false
   },
   "outputs": [
    {
     "data": {
      "image/png": "[encoded data removed]",
      "text/plain": [
       "<Figure size 1008x288 with 2 Axes>"
      ]
     },
     "metadata": {},
     "output_type": "display_data"
    }
   ],
   "source": [
    "fig, axes = plt.subplots(ncols=2, figsize=(14,4))\n",
    "sns.distplot(residuals, fit=norm, ax=axes[0], axlabel='Residuals', label='Residuals')\n",
    "axes[0].set_title('Residual Distribution')\n",
    "axes[0].legend()\n",
    "plot_acf(residuals, lags=10, zero=False, ax=axes[1], title='Residual Autocorrelation')\n",
    "axes[1].set_xlabel('Lags')\n",
    "fig.tight_layout()\n",
    "fig.savefig('figures/ols_residuals', dpi=300);"
   ]
  },
  {
   "cell_type": "code",
   "execution_count": null,
   "metadata": {},
   "outputs": [],
   "source": [
    "graphics.influence_plot(trained_model, criterion=\"cooks\")"
   ]
  },
  {
   "cell_type": "markdown",
   "metadata": {},
   "source": [
    "### 10-Day Returns"
   ]
  },
  {
   "cell_type": "code",
   "execution_count": 20,
   "metadata": {},
   "outputs": [
    {
     "name": "stdout",
     "output_type": "stream",
     "text": [
      "                            OLS Regression Results                            \n",
      "==============================================================================\n",
      "Dep. Variable:             target_10d   R-squared:                       0.045\n",
      "Model:                            OLS   Adj. R-squared:                  0.045\n",
      "Method:                 Least Squares   F-statistic:                     92.88\n",
      "Date:                Fri, 14 Feb 2020   Prob (F-statistic):               0.00\n",
      "Time:                        11:13:56   Log-Likelihood:             4.2171e+05\n",
      "No. Observations:              109663   AIC:                        -8.433e+05\n",
      "Df Residuals:                  109606   BIC:                        -8.428e+05\n",
      "Df Model:                          56                                         \n",
      "Covariance Type:            nonrobust                                         \n",
      "=========================================================================================\n",
      "                            coef    std err          t      P>|t|      [0.025      0.975]\n",
      "-----------------------------------------------------------------------------------------\n",
      "const                    -0.0002   7.65e-05     -2.082      0.037      -0.000   -9.32e-06\n",
      "rsi                       0.0002   5.75e-05      2.757      0.006    4.59e-05       0.000\n",
      "bb_high                   0.0007   6.77e-05     10.123      0.000       0.001       0.001\n",
      "bb_low                   -0.0002   6.53e-05     -3.788      0.000      -0.000      -0.000\n",
      "atr                      -0.0002   1.98e-05    -11.554      0.000      -0.000      -0.000\n",
      "macd                     -0.0002   7.22e-05     -2.977      0.003      -0.000   -7.34e-05\n",
      "return_1d                 0.0007   9.04e-05      7.433      0.000       0.000       0.001\n",
      "return_5d                -0.0001      0.000     -0.405      0.686      -0.001       0.000\n",
      "return_10d               -0.0009      0.000     -3.078      0.002      -0.002      -0.000\n",
      "return_21d                0.0015      0.000     10.874      0.000       0.001       0.002\n",
      "return_42d               -0.0021      0.000    -11.384      0.000      -0.002      -0.002\n",
      "return_63d               -0.0014      0.000    -10.646      0.000      -0.002      -0.001\n",
      "return_1d_lag1            0.0007   9.01e-05      7.394      0.000       0.000       0.001\n",
      "return_5d_lag1            0.0014      0.000      6.734      0.000       0.001       0.002\n",
      "return_10d_lag1           0.0016      0.000      4.947      0.000       0.001       0.002\n",
      "return_21d_lag1           0.0016      0.000     13.532      0.000       0.001       0.002\n",
      "return_1d_lag2            0.0007   9.02e-05      7.400      0.000       0.000       0.001\n",
      "return_5d_lag2           -0.0004      0.000     -1.905      0.057      -0.001    1.23e-05\n",
      "return_10d_lag2           0.0005      0.000      1.993      0.046    8.34e-06       0.001\n",
      "return_21d_lag2           0.0003   8.89e-05      3.529      0.000       0.000       0.000\n",
      "return_1d_lag3            0.0007   9.07e-05      7.491      0.000       0.001       0.001\n",
      "return_5d_lag3           -0.0005      0.000     -2.317      0.021      -0.001   -7.96e-05\n",
      "return_10d_lag3           0.0005   4.34e-05     11.508      0.000       0.000       0.001\n",
      "return_21d_lag3          -0.0001   1.65e-05     -8.508      0.000      -0.000      -0.000\n",
      "return_1d_lag4            0.0007   9.11e-05      7.734      0.000       0.001       0.001\n",
      "return_5d_lag4        -1.976e-05      0.000     -0.108      0.914      -0.000       0.000\n",
      "return_10d_lag4           0.0002   3.05e-05      6.269      0.000       0.000       0.000\n",
      "return_21d_lag4        8.056e-05   1.63e-05      4.936      0.000    4.86e-05       0.000\n",
      "return_1d_lag5        -1.686e-05   1.84e-05     -0.915      0.360    -5.3e-05    1.93e-05\n",
      "return_5d_lag5        -6.695e-05      0.000     -0.374      0.708      -0.000       0.000\n",
      "return_10d_lag5           0.0003   2.95e-05      9.896      0.000       0.000       0.000\n",
      "return_21d_lag5           0.0001   1.63e-05      9.051      0.000       0.000       0.000\n",
      "year_2014                -0.0004   2.48e-05    -16.241      0.000      -0.000      -0.000\n",
      "year_2015                -0.0006   2.72e-05    -22.589      0.000      -0.001      -0.001\n",
      "year_2016                -0.0003   2.65e-05     -9.556      0.000      -0.000      -0.000\n",
      "year_2017                -0.0002   2.63e-05     -8.325      0.000      -0.000      -0.000\n",
      "month_2                   0.0006   2.13e-05     29.041      0.000       0.001       0.001\n",
      "month_3                4.905e-05    2.2e-05      2.228      0.026     5.9e-06    9.22e-05\n",
      "month_4                   0.0002   2.18e-05      7.588      0.000       0.000       0.000\n",
      "month_5                   0.0003   2.15e-05     14.460      0.000       0.000       0.000\n",
      "month_6                   0.0002   2.17e-05      7.904      0.000       0.000       0.000\n",
      "month_7                   0.0002   2.26e-05      7.035      0.000       0.000       0.000\n",
      "month_8               -8.832e-05   2.28e-05     -3.876      0.000      -0.000   -4.37e-05\n",
      "month_9                6.435e-05   2.25e-05      2.854      0.004    2.02e-05       0.000\n",
      "month_10                  0.0004   2.31e-05     15.834      0.000       0.000       0.000\n",
      "month_11                  0.0002   2.25e-05      9.874      0.000       0.000       0.000\n",
      "month_12              -5.162e-05    2.2e-05     -2.351      0.019   -9.47e-05   -8.59e-06\n",
      "capital_goods             0.0008   9.52e-05      7.913      0.000       0.001       0.001\n",
      "consumer_non-durables     0.0006      0.000      5.697      0.000       0.000       0.001\n",
      "consumer_services         0.0005   8.61e-05      5.873      0.000       0.000       0.001\n",
      "energy                    0.0001      9e-05      1.233      0.218   -6.54e-05       0.000\n",
      "finance                   0.0007   9.19e-05      7.393      0.000       0.000       0.001\n",
      "health_care               0.0006   8.52e-05      6.490      0.000       0.000       0.001\n",
      "miscellaneous             0.0010      0.000      8.098      0.000       0.001       0.001\n",
      "public_utilities      -6.028e-05      0.000     -0.526      0.599      -0.000       0.000\n",
      "technology                0.0008    8.5e-05      9.498      0.000       0.001       0.001\n",
      "transportation            0.0008      0.000      7.330      0.000       0.001       0.001\n",
      "==============================================================================\n",
      "Omnibus:                    30644.506   Durbin-Watson:                   0.235\n",
      "Prob(Omnibus):                  0.000   Jarque-Bera (JB):           725860.866\n",
      "Skew:                          -0.802   Prob(JB):                         0.00\n",
      "Kurtosis:                      15.501   Cond. No.                         79.8\n",
      "==============================================================================\n",
      "\n",
      "Warnings:\n",
      "[1] Standard Errors assume that the covariance matrix of the errors is correctly specified.\n"
     ]
    }
   ],
   "source": [
    "target = 'target_10d'\n",
    "model = OLS(endog=y[target], exog=add_constant(X))\n",
    "trained_model = model.fit()\n",
    "print(trained_model.summary())"
   ]
  },
  {
   "cell_type": "markdown",
   "metadata": {},
   "source": [
    "### Monthly Returns"
   ]
  },
  {
   "cell_type": "code",
   "execution_count": 21,
   "metadata": {
    "scrolled": true
   },
   "outputs": [
    {
     "name": "stdout",
     "output_type": "stream",
     "text": [
      "                            OLS Regression Results                            \n",
      "==============================================================================\n",
      "Dep. Variable:             target_21d   R-squared:                       0.065\n",
      "Model:                            OLS   Adj. R-squared:                  0.065\n",
      "Method:                 Least Squares   F-statistic:                     136.4\n",
      "Date:                Fri, 14 Feb 2020   Prob (F-statistic):               0.00\n",
      "Time:                        11:13:57   Log-Likelihood:             4.6522e+05\n",
      "No. Observations:              109663   AIC:                        -9.303e+05\n",
      "Df Residuals:                  109606   BIC:                        -9.298e+05\n",
      "Df Model:                          56                                         \n",
      "Covariance Type:            nonrobust                                         \n",
      "=========================================================================================\n",
      "                            coef    std err          t      P>|t|      [0.025      0.975]\n",
      "-----------------------------------------------------------------------------------------\n",
      "const                    -0.0001   5.15e-05     -2.132      0.033      -0.000   -8.83e-06\n",
      "rsi                   -1.149e-05   3.87e-05     -0.297      0.767   -8.73e-05    6.44e-05\n",
      "bb_high                   0.0002   4.55e-05      5.341      0.000       0.000       0.000\n",
      "bb_low                    0.0001   4.39e-05      3.225      0.001    5.56e-05       0.000\n",
      "atr                      -0.0002   1.33e-05    -15.563      0.000      -0.000      -0.000\n",
      "macd                     -0.0003   4.85e-05     -5.719      0.000      -0.000      -0.000\n",
      "return_1d                 0.0003   6.08e-05      5.581      0.000       0.000       0.000\n",
      "return_5d                -0.0006      0.000     -3.099      0.002      -0.001      -0.000\n",
      "return_10d               -0.0002      0.000     -0.752      0.452      -0.001       0.000\n",
      "return_21d                0.0017   9.23e-05     18.637      0.000       0.002       0.002\n",
      "return_42d               -0.0016      0.000    -12.789      0.000      -0.002      -0.001\n",
      "return_63d               -0.0012   9.15e-05    -13.535      0.000      -0.001      -0.001\n",
      "return_1d_lag1            0.0003   6.06e-05      5.719      0.000       0.000       0.000\n",
      "return_5d_lag1            0.0003      0.000      2.114      0.035    2.12e-05       0.001\n",
      "return_10d_lag1           0.0006      0.000      2.667      0.008       0.000       0.001\n",
      "return_21d_lag1           0.0016   7.83e-05     20.815      0.000       0.001       0.002\n",
      "return_1d_lag2            0.0004   6.07e-05      6.155      0.000       0.000       0.000\n",
      "return_5d_lag2           -0.0003      0.000     -1.696      0.090      -0.001    3.95e-05\n",
      "return_10d_lag2           0.0003      0.000      1.767      0.077   -3.26e-05       0.001\n",
      "return_21d_lag2           0.0005   5.98e-05      9.026      0.000       0.000       0.001\n",
      "return_1d_lag3            0.0004    6.1e-05      6.533      0.000       0.000       0.001\n",
      "return_5d_lag3           -0.0002      0.000     -1.608      0.108      -0.001    5.28e-05\n",
      "return_10d_lag3        9.337e-05   2.92e-05      3.199      0.001    3.62e-05       0.000\n",
      "return_21d_lag3          -0.0001   1.11e-05     -9.249      0.000      -0.000   -8.08e-05\n",
      "return_1d_lag4            0.0004   6.13e-05      6.717      0.000       0.000       0.001\n",
      "return_5d_lag4        -8.791e-05      0.000     -0.713      0.476      -0.000       0.000\n",
      "return_10d_lag4        2.874e-05   2.05e-05      1.401      0.161   -1.15e-05    6.89e-05\n",
      "return_21d_lag4           0.0001    1.1e-05     13.217      0.000       0.000       0.000\n",
      "return_1d_lag5         8.953e-06   1.24e-05      0.723      0.470   -1.53e-05    3.32e-05\n",
      "return_5d_lag5           -0.0001      0.000     -1.210      0.226      -0.000    9.02e-05\n",
      "return_10d_lag5       -3.704e-06   1.98e-05     -0.187      0.852   -4.26e-05    3.52e-05\n",
      "return_21d_lag5        -3.75e-05   1.09e-05     -3.429      0.001   -5.89e-05   -1.61e-05\n",
      "year_2014                -0.0003   1.66e-05    -19.183      0.000      -0.000      -0.000\n",
      "year_2015                -0.0006   1.83e-05    -31.530      0.000      -0.001      -0.001\n",
      "year_2016                -0.0002   1.78e-05     -8.761      0.000      -0.000      -0.000\n",
      "year_2017                -0.0002   1.77e-05     -9.793      0.000      -0.000      -0.000\n",
      "month_2                   0.0001   1.43e-05      7.877      0.000    8.47e-05       0.000\n",
      "month_3                  -0.0001   1.48e-05     -9.464      0.000      -0.000      -0.000\n",
      "month_4                  -0.0001   1.47e-05     -8.516      0.000      -0.000   -9.61e-05\n",
      "month_5                2.576e-05   1.44e-05      1.786      0.074   -2.51e-06     5.4e-05\n",
      "month_6               -2.411e-05   1.46e-05     -1.650      0.099   -5.28e-05    4.54e-06\n",
      "month_7                  -0.0003   1.52e-05    -20.082      0.000      -0.000      -0.000\n",
      "month_8                  -0.0002   1.53e-05    -15.553      0.000      -0.000      -0.000\n",
      "month_9                  -0.0002   1.52e-05    -10.059      0.000      -0.000      -0.000\n",
      "month_10               9.687e-05   1.56e-05      6.223      0.000    6.64e-05       0.000\n",
      "month_11                 -0.0001   1.51e-05     -7.477      0.000      -0.000   -8.34e-05\n",
      "month_12                 -0.0004   1.48e-05    -26.997      0.000      -0.000      -0.000\n",
      "capital_goods             0.0007   6.41e-05     10.528      0.000       0.001       0.001\n",
      "consumer_non-durables     0.0005   6.74e-05      8.031      0.000       0.000       0.001\n",
      "consumer_services         0.0004   5.79e-05      7.461      0.000       0.000       0.001\n",
      "energy                 5.233e-05   6.05e-05      0.865      0.387   -6.63e-05       0.000\n",
      "finance                   0.0006   6.18e-05     10.000      0.000       0.000       0.001\n",
      "health_care               0.0005   5.73e-05      8.233      0.000       0.000       0.001\n",
      "miscellaneous             0.0010   7.92e-05     12.519      0.000       0.001       0.001\n",
      "public_utilities         -0.0001    7.7e-05     -1.850      0.064      -0.000    8.44e-06\n",
      "technology                0.0008   5.72e-05     13.267      0.000       0.001       0.001\n",
      "transportation            0.0008   7.08e-05     10.783      0.000       0.001       0.001\n",
      "==============================================================================\n",
      "Omnibus:                    27897.358   Durbin-Watson:                   0.131\n",
      "Prob(Omnibus):                  0.000   Jarque-Bera (JB):           382259.444\n",
      "Skew:                          -0.845   Prob(JB):                         0.00\n",
      "Kurtosis:                      11.989   Cond. No.                         79.8\n",
      "==============================================================================\n",
      "\n",
      "Warnings:\n",
      "[1] Standard Errors assume that the covariance matrix of the errors is correctly specified.\n"
     ]
    }
   ],
   "source": [
    "target = 'target_21d'\n",
    "model = OLS(endog=y[target], exog=add_constant(X))\n",
    "trained_model = model.fit()\n",
    "print(trained_model.summary())"
   ]
  }
 ],
 "metadata": {
  "kernelspec": {
   "display_name": "Python 3",
   "language": "python",
   "name": "python3"
  },
  "language_info": {
   "codemirror_mode": {
    "name": "ipython",
    "version": 3
   },
   "file_extension": ".py",
   "mimetype": "text/x-python",
   "name": "python",
   "nbconvert_exporter": "python",
   "pygments_lexer": "ipython3",
   "version": "3.7.6"
  },
  "toc": {
   "base_numbering": 1,
   "nav_menu": {},
   "number_sections": true,
   "sideBar": true,
   "skip_h1_title": true,
   "title_cell": "Table of Contents",
   "title_sidebar": "Contents",
   "toc_cell": false,
   "toc_position": {},
   "toc_section_display": true,
   "toc_window_display": true
  }
 },
 "nbformat": 4,
 "nbformat_minor": 2
}
