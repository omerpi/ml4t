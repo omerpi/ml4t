{
 "cells": [
  {
   "cell_type": "markdown",
   "metadata": {},
   "source": [
    "# Predicting stock price moves with Logistic Regression"
   ]
  },
  {
   "cell_type": "markdown",
   "metadata": {},
   "source": [
    "## Imports & Settings"
   ]
  },
  {
   "cell_type": "code",
   "execution_count": 1,
   "metadata": {
    "ExecuteTime": {
     "end_time": "2020-04-08T20:58:57.357478Z",
     "start_time": "2020-04-08T20:58:56.632606Z"
    }
   },
   "outputs": [
    {
     "name": "stderr",
     "output_type": "stream",
     "text": [
      "/home/stefan/.pyenv/versions/miniconda3-latest/envs/ml4t/lib/python3.7/site-packages/pandas_datareader/compat/__init__.py:7: FutureWarning: pandas.util.testing is deprecated. Use the functions in the public API at pandas.testing instead.\n",
      "  from pandas.util.testing import assert_frame_equal\n"
     ]
    }
   ],
   "source": [
    "from pathlib import Path\n",
    "import sys, os\n",
    "from time import time\n",
    "import warnings\n",
    "import pandas as pd\n",
    "import numpy as np\n",
    "from statsmodels.api import OLS, add_constant, graphics\n",
    "from statsmodels.graphics.tsaplots import plot_acf\n",
    "from scipy.stats import spearmanr, norm\n",
    "\n",
    "from sklearn.metrics import mean_squared_error, make_scorer, roc_auc_score\n",
    "from sklearn.linear_model import LinearRegression, Ridge, RidgeCV, Lasso, LassoCV, LogisticRegression\n",
    "from sklearn.pipeline import Pipeline\n",
    "from sklearn.preprocessing import StandardScaler,scale\n",
    "from sklearn.model_selection import train_test_split, cross_val_score, GridSearchCV, learning_curve, KFold\n",
    "\n",
    "from empyrical import max_drawdown, sortino_ratio\n",
    "from custom_scoring import spearman_corr\n",
    "\n",
    "import seaborn as sns\n",
    "import matplotlib.pyplot as plt\n",
    "from matplotlib.ticker import FuncFormatter"
   ]
  },
  {
   "cell_type": "code",
   "execution_count": 2,
   "metadata": {
    "ExecuteTime": {
     "end_time": "2020-04-08T20:58:57.361083Z",
     "start_time": "2020-04-08T20:58:57.358556Z"
    }
   },
   "outputs": [],
   "source": [
    "sys.path.insert(1, os.path.join(sys.path[0], '..'))\n",
    "from utils import MultipleTimeSeriesCV"
   ]
  },
  {
   "cell_type": "code",
   "execution_count": 3,
   "metadata": {
    "ExecuteTime": {
     "end_time": "2020-04-08T20:58:57.374500Z",
     "start_time": "2020-04-08T20:58:57.362374Z"
    }
   },
   "outputs": [],
   "source": [
    "warnings.filterwarnings('ignore')\n",
    "sns.set_style('darkgrid')\n",
    "idx = pd.IndexSlice"
   ]
  },
  {
   "cell_type": "code",
   "execution_count": 4,
   "metadata": {
    "ExecuteTime": {
     "end_time": "2020-04-08T20:58:57.382500Z",
     "start_time": "2020-04-08T20:58:57.375644Z"
    }
   },
   "outputs": [],
   "source": [
    "YEAR = 252"
   ]
  },
  {
   "cell_type": "markdown",
   "metadata": {},
   "source": [
    "## Load Data"
   ]
  },
  {
   "cell_type": "code",
   "execution_count": 5,
   "metadata": {
    "ExecuteTime": {
     "end_time": "2020-04-08T20:58:59.104960Z",
     "start_time": "2020-04-08T20:58:57.383524Z"
    }
   },
   "outputs": [],
   "source": [
    "with pd.HDFStore('data.h5') as store:\n",
    "    data = (store['model_data']\n",
    "            .dropna()\n",
    "            .drop(['open', 'close', 'low', 'high'], axis=1))\n",
    "data = data.drop([c for c in data.columns if 'year' in c or 'lag' in c], axis=1)"
   ]
  },
  {
   "cell_type": "markdown",
   "metadata": {},
   "source": [
    "### Select Investment Universe"
   ]
  },
  {
   "cell_type": "code",
   "execution_count": 6,
   "metadata": {
    "ExecuteTime": {
     "end_time": "2020-04-08T20:58:59.119363Z",
     "start_time": "2020-04-08T20:58:59.105886Z"
    }
   },
   "outputs": [],
   "source": [
    "data = data[data.dollar_vol_rank<100]"
   ]
  },
  {
   "cell_type": "markdown",
   "metadata": {},
   "source": [
    "### Create Model Data"
   ]
  },
  {
   "cell_type": "code",
   "execution_count": 7,
   "metadata": {
    "ExecuteTime": {
     "end_time": "2020-04-08T20:58:59.134036Z",
     "start_time": "2020-04-08T20:58:59.120380Z"
    }
   },
   "outputs": [],
   "source": [
    "y = data.filter(like='target')\n",
    "X = data.drop(y.columns, axis=1)\n",
    "X = X.drop(['dollar_vol', 'dollar_vol_rank', 'volume', 'consumer_durables'], axis=1)"
   ]
  },
  {
   "cell_type": "markdown",
   "metadata": {},
   "source": [
    "## Logistic Regression"
   ]
  },
  {
   "cell_type": "markdown",
   "metadata": {},
   "source": [
    "### Define cross-validation parameters"
   ]
  },
  {
   "cell_type": "code",
   "execution_count": 8,
   "metadata": {
    "ExecuteTime": {
     "end_time": "2020-04-08T20:58:59.138184Z",
     "start_time": "2020-04-08T20:58:59.135582Z"
    }
   },
   "outputs": [],
   "source": [
    "train_period_length = 63\n",
    "test_period_length = 10\n",
    "lookahead =1\n",
    "n_splits = int(3 * YEAR/test_period_length)\n",
    "\n",
    "cv = MultipleTimeSeriesCV(n_splits=n_splits,\n",
    "                          test_period_length=test_period_length,\n",
    "                          lookahead=lookahead,\n",
    "                          train_period_length=train_period_length)"
   ]
  },
  {
   "cell_type": "code",
   "execution_count": 9,
   "metadata": {
    "ExecuteTime": {
     "end_time": "2020-04-08T20:58:59.146832Z",
     "start_time": "2020-04-08T20:58:59.139249Z"
    }
   },
   "outputs": [],
   "source": [
    "target = f'target_{lookahead}d'"
   ]
  },
  {
   "cell_type": "code",
   "execution_count": 10,
   "metadata": {
    "ExecuteTime": {
     "end_time": "2020-04-08T20:58:59.167220Z",
     "start_time": "2020-04-08T20:58:59.147884Z"
    }
   },
   "outputs": [
    {
     "data": {
      "text/plain": [
       "1    56443\n",
       "0    53220\n",
       "Name: label, dtype: int64"
      ]
     },
     "execution_count": 10,
     "metadata": {},
     "output_type": "execute_result"
    }
   ],
   "source": [
    "y.loc[:, 'label'] = (y[target] > 0).astype(int)\n",
    "y.label.value_counts()"
   ]
  },
  {
   "cell_type": "code",
   "execution_count": 11,
   "metadata": {
    "ExecuteTime": {
     "end_time": "2020-04-08T20:58:59.169894Z",
     "start_time": "2020-04-08T20:58:59.168021Z"
    }
   },
   "outputs": [],
   "source": [
    "Cs = np.logspace(-5, 5, 11)"
   ]
  },
  {
   "cell_type": "code",
   "execution_count": 18,
   "metadata": {
    "ExecuteTime": {
     "end_time": "2020-04-08T21:02:54.738552Z",
     "start_time": "2020-04-08T21:02:54.735873Z"
    }
   },
   "outputs": [],
   "source": [
    "cols = ['C', 'date', 'auc', 'ic', 'pval']"
   ]
  },
  {
   "cell_type": "code",
   "execution_count": 31,
   "metadata": {
    "ExecuteTime": {
     "end_time": "2020-04-08T21:07:16.122451Z",
     "start_time": "2020-04-08T21:06:52.340864Z"
    },
    "scrolled": false
   },
   "outputs": [
    {
     "name": "stdout",
     "output_type": "stream",
     "text": [
      "1e-05\n",
      "\t  0.2 | 010 |  -0.21% |  50.38%\n",
      "\t  0.4 | 020 |   2.05% |  51.86%\n",
      "\t  0.6 | 030 |   2.81% |  51.94%\n",
      "\t  0.7 | 040 |   3.24% |  51.92%\n",
      "\t  0.9 | 050 |   3.98% |  52.42%\n",
      "\t  1.1 | 060 |   3.80% |  52.16%\n",
      "\t  1.3 | 070 |   4.68% |  52.54%\n",
      "0.0001\n",
      "\t  0.2 | 010 |  -0.02% |  50.53%\n",
      "\t  0.4 | 020 |   2.30% |  51.99%\n",
      "\t  0.6 | 030 |   3.18% |  52.18%\n",
      "\t  0.8 | 040 |   3.29% |  52.01%\n",
      "\t  1.0 | 050 |   4.06% |  52.52%\n",
      "\t  1.2 | 060 |   3.94% |  52.26%\n",
      "\t  1.4 | 070 |   4.85% |  52.66%\n",
      "0.001\n",
      "\t  0.2 | 010 |   0.39% |  50.83%\n",
      "\t  0.5 | 020 |   2.48% |  52.06%\n",
      "\t  0.7 | 030 |   3.60% |  52.42%\n",
      "\t  0.9 | 040 |   3.09% |  51.98%\n",
      "\t  1.2 | 050 |   3.94% |  52.53%\n",
      "\t  1.4 | 060 |   4.05% |  52.33%\n",
      "\t  1.6 | 070 |   4.97% |  52.73%\n",
      "0.01\n",
      "\t  0.3 | 010 |   0.65% |  50.99%\n",
      "\t  0.6 | 020 |   2.33% |  51.86%\n",
      "\t  0.9 | 030 |   3.62% |  52.31%\n",
      "\t  1.2 | 040 |   3.04% |  51.86%\n",
      "\t  1.5 | 050 |   3.98% |  52.46%\n",
      "\t  1.8 | 060 |   4.12% |  52.26%\n",
      "\t  2.0 | 070 |   4.91% |  52.63%\n",
      "0.1\n",
      "\t  0.4 | 010 |   0.62% |  50.98%\n",
      "\t  0.7 | 020 |   2.03% |  51.64%\n",
      "\t  1.0 | 030 |   3.37% |  52.13%\n",
      "\t  1.3 | 040 |   2.83% |  51.70%\n",
      "\t  1.6 | 050 |   3.76% |  52.30%\n",
      "\t  1.9 | 060 |   3.84% |  52.09%\n",
      "\t  2.2 | 070 |   4.54% |  52.42%\n",
      "1.0\n",
      "\t  0.3 | 010 |   0.58% |  50.96%\n",
      "\t  0.6 | 020 |   1.96% |  51.59%\n",
      "\t  0.9 | 030 |   3.31% |  52.09%\n",
      "\t  1.3 | 040 |   2.78% |  51.67%\n",
      "\t  1.6 | 050 |   3.69% |  52.26%\n",
      "\t  1.9 | 060 |   3.76% |  52.04%\n",
      "\t  2.2 | 070 |   4.44% |  52.37%\n",
      "10.0\n",
      "\t  0.3 | 010 |   0.58% |  50.96%\n",
      "\t  0.6 | 020 |   1.95% |  51.59%\n",
      "\t  0.9 | 030 |   3.31% |  52.09%\n",
      "\t  1.3 | 040 |   2.77% |  51.67%\n",
      "\t  1.6 | 050 |   3.68% |  52.26%\n",
      "\t  1.9 | 060 |   3.75% |  52.04%\n",
      "\t  2.2 | 070 |   4.43% |  52.37%\n",
      "100.0\n",
      "\t  0.4 | 010 |   0.58% |  50.96%\n",
      "\t  0.7 | 020 |   1.95% |  51.59%\n",
      "\t  1.0 | 030 |   3.31% |  52.09%\n",
      "\t  1.3 | 040 |   2.77% |  51.67%\n",
      "\t  1.6 | 050 |   3.68% |  52.25%\n",
      "\t  1.9 | 060 |   3.75% |  52.04%\n",
      "\t  2.3 | 070 |   4.43% |  52.36%\n",
      "1000.0\n",
      "\t  0.3 | 010 |   0.58% |  50.96%\n",
      "\t  0.6 | 020 |   1.95% |  51.59%\n",
      "\t  0.9 | 030 |   3.31% |  52.09%\n",
      "\t  1.2 | 040 |   2.77% |  51.67%\n",
      "\t  1.6 | 050 |   3.68% |  52.25%\n",
      "\t  1.9 | 060 |   3.75% |  52.04%\n",
      "\t  2.3 | 070 |   4.43% |  52.36%\n",
      "10000.0\n",
      "\t  0.4 | 010 |   0.58% |  50.96%\n",
      "\t  0.7 | 020 |   1.95% |  51.59%\n",
      "\t  1.0 | 030 |   3.31% |  52.09%\n",
      "\t  1.3 | 040 |   2.77% |  51.67%\n",
      "\t  1.7 | 050 |   3.68% |  52.25%\n",
      "\t  2.1 | 060 |   3.75% |  52.04%\n",
      "\t  2.4 | 070 |   4.43% |  52.36%\n",
      "100000.0\n",
      "\t  0.4 | 010 |   0.58% |  50.96%\n",
      "\t  0.7 | 020 |   1.95% |  51.59%\n",
      "\t  1.0 | 030 |   3.31% |  52.09%\n",
      "\t  1.4 | 040 |   2.77% |  51.67%\n",
      "\t  1.7 | 050 |   3.68% |  52.25%\n",
      "\t  2.0 | 060 |   3.75% |  52.04%\n",
      "\t  2.3 | 070 |   4.43% |  52.36%\n",
      "CPU times: user 2min 58s, sys: 3.95 s, total: 3min 2s\n",
      "Wall time: 23.8 s\n"
     ]
    }
   ],
   "source": [
    "%%time\n",
    "log_coeffs, log_scores, log_predictions = {}, [], []\n",
    "for C in Cs:\n",
    "    print(C)\n",
    "    model = LogisticRegression(C=C,\n",
    "                               fit_intercept=True,\n",
    "                               random_state=42,\n",
    "                               n_jobs=-1)\n",
    "\n",
    "    pipe = Pipeline([\n",
    "        ('scaler', StandardScaler()),\n",
    "        ('model', model)])\n",
    "    ics = aucs = 0\n",
    "    start = time()\n",
    "    coeffs = []\n",
    "    for i, (train_idx, test_idx) in enumerate(cv.split(X), 1):\n",
    "        X_train, y_train, = X.iloc[train_idx], y.label.iloc[train_idx]\n",
    "        pipe.fit(X=X_train, y=y_train)\n",
    "        X_test, y_test = X.iloc[test_idx], y.label.iloc[test_idx]\n",
    "        actuals = y[target].iloc[test_idx]\n",
    "        if len(y_test) < 10 or len(np.unique(y_test)) < 2:\n",
    "            continue\n",
    "        y_score = pipe.predict_proba(X_test)[:, 1]\n",
    "       \n",
    "        auc = roc_auc_score(y_score=y_score, y_true=y_test)\n",
    "        actuals = y[target].iloc[test_idx]\n",
    "        ic, pval = spearmanr(y_score, actuals)\n",
    "\n",
    "        log_predictions.append(y_test.to_frame('labels').assign(\n",
    "            predicted=y_score, C=C, actuals=actuals))\n",
    "        date = y_test.index.get_level_values('date').min()\n",
    "        log_scores.append([C, date, auc, ic * 100, pval])\n",
    "        coeffs.append(pipe.named_steps['model'].coef_)\n",
    "        ics += ic\n",
    "        aucs += auc\n",
    "        if i % 10 == 0:\n",
    "            print(f'\\t{time()-start:5.1f} | {i:03} | {ics/i:>7.2%} | {aucs/i:>7.2%}')\n",
    "\n",
    "    log_coeffs[C] = np.mean(coeffs, axis=0).squeeze()"
   ]
  },
  {
   "cell_type": "code",
   "execution_count": 32,
   "metadata": {
    "ExecuteTime": {
     "end_time": "2020-04-08T21:07:19.251199Z",
     "start_time": "2020-04-08T21:07:18.874694Z"
    }
   },
   "outputs": [],
   "source": [
    "log_scores = pd.DataFrame(log_scores, columns=cols)\n",
    "log_scores.to_hdf('data.h5', 'logistic/scores')\n",
    "\n",
    "log_coeffs = pd.DataFrame(log_coeffs, index=X.columns).T\n",
    "log_coeffs.to_hdf('data.h5', 'logistic/coeffs')\n",
    "\n",
    "log_predictions = pd.concat(log_predictions)\n",
    "log_predictions.to_hdf('data.h5', 'logistic/predictions')"
   ]
  },
  {
   "cell_type": "code",
   "execution_count": 33,
   "metadata": {
    "ExecuteTime": {
     "end_time": "2020-04-08T21:07:19.411044Z",
     "start_time": "2020-04-08T21:07:19.387341Z"
    }
   },
   "outputs": [],
   "source": [
    "log_scores = pd.read_hdf('data.h5', 'logistic/scores')"
   ]
  },
  {
   "cell_type": "code",
   "execution_count": 34,
   "metadata": {
    "ExecuteTime": {
     "end_time": "2020-04-08T21:07:19.639478Z",
     "start_time": "2020-04-08T21:07:19.629751Z"
    }
   },
   "outputs": [
    {
     "name": "stdout",
     "output_type": "stream",
     "text": [
      "<class 'pandas.core.frame.DataFrame'>\n",
      "Int64Index: 825 entries, 0 to 824\n",
      "Data columns (total 5 columns):\n",
      " #   Column  Non-Null Count  Dtype         \n",
      "---  ------  --------------  -----         \n",
      " 0   C       825 non-null    float64       \n",
      " 1   date    825 non-null    datetime64[ns]\n",
      " 2   auc     825 non-null    float64       \n",
      " 3   ic      825 non-null    float64       \n",
      " 4   pval    825 non-null    float64       \n",
      "dtypes: datetime64[ns](1), float64(4)\n",
      "memory usage: 38.7 KB\n"
     ]
    }
   ],
   "source": [
    "log_scores.info()"
   ]
  },
  {
   "cell_type": "code",
   "execution_count": 35,
   "metadata": {
    "ExecuteTime": {
     "end_time": "2020-04-08T21:07:21.662303Z",
     "start_time": "2020-04-08T21:07:21.610704Z"
    }
   },
   "outputs": [
    {
     "data": {
      "text/html": [
       "<div>\n",
       "<style scoped>\n",
       "    .dataframe tbody tr th:only-of-type {\n",
       "        vertical-align: middle;\n",
       "    }\n",
       "\n",
       "    .dataframe tbody tr th {\n",
       "        vertical-align: top;\n",
       "    }\n",
       "\n",
       "    .dataframe thead th {\n",
       "        text-align: right;\n",
       "    }\n",
       "</style>\n",
       "<table border=\"1\" class=\"dataframe\">\n",
       "  <thead>\n",
       "    <tr style=\"text-align: right;\">\n",
       "      <th></th>\n",
       "      <th>count</th>\n",
       "      <th>mean</th>\n",
       "      <th>std</th>\n",
       "      <th>min</th>\n",
       "      <th>25%</th>\n",
       "      <th>50%</th>\n",
       "      <th>75%</th>\n",
       "      <th>max</th>\n",
       "    </tr>\n",
       "    <tr>\n",
       "      <th>C</th>\n",
       "      <th></th>\n",
       "      <th></th>\n",
       "      <th></th>\n",
       "      <th></th>\n",
       "      <th></th>\n",
       "      <th></th>\n",
       "      <th></th>\n",
       "      <th></th>\n",
       "    </tr>\n",
       "  </thead>\n",
       "  <tbody>\n",
       "    <tr>\n",
       "      <th>0.00001</th>\n",
       "      <td>75.0</td>\n",
       "      <td>0.524090</td>\n",
       "      <td>0.036382</td>\n",
       "      <td>0.435655</td>\n",
       "      <td>0.500763</td>\n",
       "      <td>0.520741</td>\n",
       "      <td>0.543776</td>\n",
       "      <td>0.622890</td>\n",
       "    </tr>\n",
       "    <tr>\n",
       "      <th>0.00010</th>\n",
       "      <td>75.0</td>\n",
       "      <td>0.525148</td>\n",
       "      <td>0.035853</td>\n",
       "      <td>0.447287</td>\n",
       "      <td>0.501378</td>\n",
       "      <td>0.521471</td>\n",
       "      <td>0.539919</td>\n",
       "      <td>0.632502</td>\n",
       "    </tr>\n",
       "    <tr>\n",
       "      <th>0.00100</th>\n",
       "      <td>75.0</td>\n",
       "      <td>0.525810</td>\n",
       "      <td>0.036403</td>\n",
       "      <td>0.443506</td>\n",
       "      <td>0.504230</td>\n",
       "      <td>0.521381</td>\n",
       "      <td>0.545384</td>\n",
       "      <td>0.643667</td>\n",
       "    </tr>\n",
       "    <tr>\n",
       "      <th>0.01000</th>\n",
       "      <td>75.0</td>\n",
       "      <td>0.525029</td>\n",
       "      <td>0.036297</td>\n",
       "      <td>0.441677</td>\n",
       "      <td>0.501649</td>\n",
       "      <td>0.520342</td>\n",
       "      <td>0.548989</td>\n",
       "      <td>0.639365</td>\n",
       "    </tr>\n",
       "    <tr>\n",
       "      <th>0.10000</th>\n",
       "      <td>75.0</td>\n",
       "      <td>0.523275</td>\n",
       "      <td>0.035610</td>\n",
       "      <td>0.435520</td>\n",
       "      <td>0.499231</td>\n",
       "      <td>0.520838</td>\n",
       "      <td>0.547420</td>\n",
       "      <td>0.618133</td>\n",
       "    </tr>\n",
       "    <tr>\n",
       "      <th>1.00000</th>\n",
       "      <td>75.0</td>\n",
       "      <td>0.522832</td>\n",
       "      <td>0.035538</td>\n",
       "      <td>0.433656</td>\n",
       "      <td>0.497707</td>\n",
       "      <td>0.520906</td>\n",
       "      <td>0.548094</td>\n",
       "      <td>0.613218</td>\n",
       "    </tr>\n",
       "    <tr>\n",
       "      <th>10.00000</th>\n",
       "      <td>75.0</td>\n",
       "      <td>0.522790</td>\n",
       "      <td>0.035539</td>\n",
       "      <td>0.433420</td>\n",
       "      <td>0.497750</td>\n",
       "      <td>0.521025</td>\n",
       "      <td>0.548079</td>\n",
       "      <td>0.612621</td>\n",
       "    </tr>\n",
       "    <tr>\n",
       "      <th>100.00000</th>\n",
       "      <td>75.0</td>\n",
       "      <td>0.522783</td>\n",
       "      <td>0.035537</td>\n",
       "      <td>0.433352</td>\n",
       "      <td>0.497727</td>\n",
       "      <td>0.521021</td>\n",
       "      <td>0.548091</td>\n",
       "      <td>0.612540</td>\n",
       "    </tr>\n",
       "    <tr>\n",
       "      <th>1000.00000</th>\n",
       "      <td>75.0</td>\n",
       "      <td>0.522782</td>\n",
       "      <td>0.035536</td>\n",
       "      <td>0.433332</td>\n",
       "      <td>0.497719</td>\n",
       "      <td>0.521029</td>\n",
       "      <td>0.548085</td>\n",
       "      <td>0.612531</td>\n",
       "    </tr>\n",
       "    <tr>\n",
       "      <th>10000.00000</th>\n",
       "      <td>75.0</td>\n",
       "      <td>0.522782</td>\n",
       "      <td>0.035536</td>\n",
       "      <td>0.433332</td>\n",
       "      <td>0.497719</td>\n",
       "      <td>0.521029</td>\n",
       "      <td>0.548087</td>\n",
       "      <td>0.612531</td>\n",
       "    </tr>\n",
       "    <tr>\n",
       "      <th>100000.00000</th>\n",
       "      <td>75.0</td>\n",
       "      <td>0.522782</td>\n",
       "      <td>0.035536</td>\n",
       "      <td>0.433332</td>\n",
       "      <td>0.497719</td>\n",
       "      <td>0.521025</td>\n",
       "      <td>0.548087</td>\n",
       "      <td>0.612531</td>\n",
       "    </tr>\n",
       "  </tbody>\n",
       "</table>\n",
       "</div>"
      ],
      "text/plain": [
       "              count      mean       std       min       25%       50%       75%       max\n",
       "C                                                                                        \n",
       "0.00001        75.0  0.524090  0.036382  0.435655  0.500763  0.520741  0.543776  0.622890\n",
       "0.00010        75.0  0.525148  0.035853  0.447287  0.501378  0.521471  0.539919  0.632502\n",
       "0.00100        75.0  0.525810  0.036403  0.443506  0.504230  0.521381  0.545384  0.643667\n",
       "0.01000        75.0  0.525029  0.036297  0.441677  0.501649  0.520342  0.548989  0.639365\n",
       "0.10000        75.0  0.523275  0.035610  0.435520  0.499231  0.520838  0.547420  0.618133\n",
       "1.00000        75.0  0.522832  0.035538  0.433656  0.497707  0.520906  0.548094  0.613218\n",
       "10.00000       75.0  0.522790  0.035539  0.433420  0.497750  0.521025  0.548079  0.612621\n",
       "100.00000      75.0  0.522783  0.035537  0.433352  0.497727  0.521021  0.548091  0.612540\n",
       "1000.00000     75.0  0.522782  0.035536  0.433332  0.497719  0.521029  0.548085  0.612531\n",
       "10000.00000    75.0  0.522782  0.035536  0.433332  0.497719  0.521029  0.548087  0.612531\n",
       "100000.00000   75.0  0.522782  0.035536  0.433332  0.497719  0.521025  0.548087  0.612531"
      ]
     },
     "execution_count": 35,
     "metadata": {},
     "output_type": "execute_result"
    }
   ],
   "source": [
    "log_scores.groupby('C').auc.describe()"
   ]
  },
  {
   "cell_type": "code",
   "execution_count": 38,
   "metadata": {
    "ExecuteTime": {
     "end_time": "2020-04-08T21:07:51.687622Z",
     "start_time": "2020-04-08T21:07:51.680276Z"
    }
   },
   "outputs": [],
   "source": [
    "def plot_ic_distribution(df, fname=None, ax=None):\n",
    "    if ax is not None:\n",
    "        sns.distplot(df.ic, ax=ax)    \n",
    "    else:\n",
    "        ax = sns.distplot(df.ic)\n",
    "    mean, median = df.ic.mean(), df.ic.median()\n",
    "    ax.axvline(0, lw=1, ls='--', c='k')\n",
    "    ax.text(x=.05, y=.9, s=f'Mean: {mean:8.2f}\\nMedian: {median:5.2f}',\n",
    "            horizontalalignment='left',\n",
    "            verticalalignment='center',\n",
    "            transform=ax.transAxes)\n",
    "    ax.set_xlabel('Information Coefficient')\n",
    "    plt.tight_layout()\n",
    "    if fname is not None:\n",
    "        plt.savefig(Path('figures', fname), dpi=300) "
   ]
  },
  {
   "cell_type": "code",
   "execution_count": 41,
   "metadata": {
    "ExecuteTime": {
     "end_time": "2020-04-08T21:08:33.876601Z",
     "start_time": "2020-04-08T21:08:32.581674Z"
    }
   },
   "outputs": [
    {
     "data": {
      "image/png": "[encoded data removed]",
      "text/plain": [
       "<Figure size 1080x360 with 2 Axes>"
      ]
     },
     "metadata": {},
     "output_type": "display_data"
    }
   ],
   "source": [
    "fig, axes= plt.subplots(ncols=2, figsize=(15, 5))\n",
    "\n",
    "sns.lineplot(x='C', y='auc', data=log_scores, estimator=np.mean, label='Mean', ax=axes[0])\n",
    "by_alpha = log_scores.groupby('C').auc.agg(['mean', 'median'])\n",
    "best_auc = by_alpha['mean'].idxmax()\n",
    "by_alpha['median'].plot(logx=True, ax=axes[0], label='Median', xlim=(10e-6, 10e5))\n",
    "axes[0].axvline(best_auc, ls='--', c='k', lw=1, label='Max. Mean')\n",
    "axes[0].axvline(by_alpha['median'].idxmax(), ls='-.', c='k', lw=1, label='Max. Median')\n",
    "axes[0].legend()\n",
    "axes[0].set_ylabel('AUC')\n",
    "axes[0].set_xscale('log')\n",
    "axes[0].set_title('Area Under the Curve')\n",
    "\n",
    "plot_ic_distribution(log_scores[log_scores.C==best_auc], ax=axes[1])\n",
    "axes[1].set_title('Information Coefficient')\n",
    "\n",
    "fig.suptitle('Logistic Regression', fontsize=14)\n",
    "fig.tight_layout()\n",
    "fig.subplots_adjust(top=.9)\n",
    "fig.savefig('figures/log_results', dpi=300);"
   ]
  },
  {
   "cell_type": "code",
   "execution_count": null,
   "metadata": {},
   "outputs": [],
   "source": []
  }
 ],
 "metadata": {
  "kernelspec": {
   "display_name": "Python 3",
   "language": "python",
   "name": "python3"
  },
  "language_info": {
   "codemirror_mode": {
    "name": "ipython",
    "version": 3
   },
   "file_extension": ".py",
   "mimetype": "text/x-python",
   "name": "python",
   "nbconvert_exporter": "python",
   "pygments_lexer": "ipython3",
   "version": "3.7.6"
  },
  "toc": {
   "base_numbering": 1,
   "nav_menu": {},
   "number_sections": true,
   "sideBar": true,
   "skip_h1_title": true,
   "title_cell": "Table of Contents",
   "title_sidebar": "Contents",
   "toc_cell": false,
   "toc_position": {},
   "toc_section_display": true,
   "toc_window_display": true
  }
 },
 "nbformat": 4,
 "nbformat_minor": 2
}
