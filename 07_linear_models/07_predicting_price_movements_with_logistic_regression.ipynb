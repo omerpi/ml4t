{
 "cells": [
  {
   "cell_type": "markdown",
   "metadata": {},
   "source": [
    "# Predicting stock price moves with Logistic Regression"
   ]
  },
  {
   "cell_type": "markdown",
   "metadata": {},
   "source": [
    "## Imports & Settings"
   ]
  },
  {
   "cell_type": "code",
   "execution_count": 1,
   "metadata": {
    "ExecuteTime": {
     "end_time": "2020-04-15T16:18:35.879296Z",
     "start_time": "2020-04-15T16:18:35.181178Z"
    }
   },
   "outputs": [
    {
     "name": "stderr",
     "output_type": "stream",
     "text": [
      "/home/stefan/.pyenv/versions/miniconda3-latest/envs/ml4t/lib/python3.7/site-packages/pandas_datareader/compat/__init__.py:7: FutureWarning: pandas.util.testing is deprecated. Use the functions in the public API at pandas.testing instead.\n",
      "  from pandas.util.testing import assert_frame_equal\n"
     ]
    }
   ],
   "source": [
    "from pathlib import Path\n",
    "import sys, os\n",
    "from time import time\n",
    "import warnings\n",
    "import pandas as pd\n",
    "import numpy as np\n",
    "from statsmodels.api import OLS, add_constant, graphics\n",
    "from statsmodels.graphics.tsaplots import plot_acf\n",
    "from scipy.stats import spearmanr, norm\n",
    "\n",
    "from sklearn.metrics import mean_squared_error, make_scorer, roc_auc_score\n",
    "from sklearn.linear_model import LinearRegression, Ridge, RidgeCV, Lasso, LassoCV, LogisticRegression\n",
    "from sklearn.pipeline import Pipeline\n",
    "from sklearn.preprocessing import StandardScaler,scale\n",
    "from sklearn.model_selection import train_test_split, cross_val_score, GridSearchCV, learning_curve, KFold\n",
    "\n",
    "from empyrical import max_drawdown, sortino_ratio\n",
    "from custom_scoring import spearman_corr\n",
    "\n",
    "import seaborn as sns\n",
    "import matplotlib.pyplot as plt\n",
    "from matplotlib.ticker import FuncFormatter"
   ]
  },
  {
   "cell_type": "code",
   "execution_count": 2,
   "metadata": {
    "ExecuteTime": {
     "end_time": "2020-04-15T16:18:35.892318Z",
     "start_time": "2020-04-15T16:18:35.880515Z"
    }
   },
   "outputs": [],
   "source": [
    "sys.path.insert(1, os.path.join(sys.path[0], '..'))\n",
    "from utils import MultipleTimeSeriesCV"
   ]
  },
  {
   "cell_type": "code",
   "execution_count": 3,
   "metadata": {
    "ExecuteTime": {
     "end_time": "2020-04-15T16:18:35.902081Z",
     "start_time": "2020-04-15T16:18:35.893499Z"
    }
   },
   "outputs": [],
   "source": [
    "warnings.filterwarnings('ignore')\n",
    "sns.set_style('darkgrid')\n",
    "idx = pd.IndexSlice"
   ]
  },
  {
   "cell_type": "code",
   "execution_count": 4,
   "metadata": {
    "ExecuteTime": {
     "end_time": "2020-04-15T16:18:35.910753Z",
     "start_time": "2020-04-15T16:18:35.902982Z"
    }
   },
   "outputs": [],
   "source": [
    "YEAR = 252"
   ]
  },
  {
   "cell_type": "markdown",
   "metadata": {},
   "source": [
    "## Load Data"
   ]
  },
  {
   "cell_type": "code",
   "execution_count": 5,
   "metadata": {
    "ExecuteTime": {
     "end_time": "2020-04-15T16:18:37.829607Z",
     "start_time": "2020-04-15T16:18:35.911548Z"
    }
   },
   "outputs": [],
   "source": [
    "with pd.HDFStore('data.h5') as store:\n",
    "    data = (store['model_data']\n",
    "            .dropna()\n",
    "            .drop(['open', 'close', 'low', 'high'], axis=1))\n",
    "data = data.drop([c for c in data.columns if 'year' in c or 'lag' in c], axis=1)"
   ]
  },
  {
   "cell_type": "markdown",
   "metadata": {},
   "source": [
    "### Select Investment Universe"
   ]
  },
  {
   "cell_type": "code",
   "execution_count": 6,
   "metadata": {
    "ExecuteTime": {
     "end_time": "2020-04-15T16:18:37.844646Z",
     "start_time": "2020-04-15T16:18:37.830926Z"
    }
   },
   "outputs": [],
   "source": [
    "data = data[data.dollar_vol_rank<100]"
   ]
  },
  {
   "cell_type": "markdown",
   "metadata": {},
   "source": [
    "### Create Model Data"
   ]
  },
  {
   "cell_type": "code",
   "execution_count": 7,
   "metadata": {
    "ExecuteTime": {
     "end_time": "2020-04-15T16:18:37.856575Z",
     "start_time": "2020-04-15T16:18:37.845742Z"
    }
   },
   "outputs": [],
   "source": [
    "y = data.filter(like='target')\n",
    "X = data.drop(y.columns, axis=1)\n",
    "X = X.drop(['dollar_vol', 'dollar_vol_rank', 'volume', 'consumer_durables'], axis=1)"
   ]
  },
  {
   "cell_type": "markdown",
   "metadata": {},
   "source": [
    "## Logistic Regression"
   ]
  },
  {
   "cell_type": "markdown",
   "metadata": {},
   "source": [
    "### Define cross-validation parameters"
   ]
  },
  {
   "cell_type": "code",
   "execution_count": 8,
   "metadata": {
    "ExecuteTime": {
     "end_time": "2020-04-15T16:18:37.863064Z",
     "start_time": "2020-04-15T16:18:37.857688Z"
    }
   },
   "outputs": [],
   "source": [
    "train_period_length = 63\n",
    "test_period_length = 10\n",
    "lookahead =1\n",
    "n_splits = int(3 * YEAR/test_period_length)\n",
    "\n",
    "cv = MultipleTimeSeriesCV(n_splits=n_splits,\n",
    "                          test_period_length=test_period_length,\n",
    "                          lookahead=lookahead,\n",
    "                          train_period_length=train_period_length)"
   ]
  },
  {
   "cell_type": "code",
   "execution_count": 9,
   "metadata": {
    "ExecuteTime": {
     "end_time": "2020-04-15T16:18:37.873045Z",
     "start_time": "2020-04-15T16:18:37.863861Z"
    }
   },
   "outputs": [],
   "source": [
    "target = f'target_{lookahead}d'"
   ]
  },
  {
   "cell_type": "code",
   "execution_count": 10,
   "metadata": {
    "ExecuteTime": {
     "end_time": "2020-04-15T16:18:37.895739Z",
     "start_time": "2020-04-15T16:18:37.873935Z"
    }
   },
   "outputs": [
    {
     "data": {
      "text/plain": [
       "1    56486\n",
       "0    53189\n",
       "Name: label, dtype: int64"
      ]
     },
     "execution_count": 10,
     "metadata": {},
     "output_type": "execute_result"
    }
   ],
   "source": [
    "y.loc[:, 'label'] = (y[target] > 0).astype(int)\n",
    "y.label.value_counts()"
   ]
  },
  {
   "cell_type": "code",
   "execution_count": 11,
   "metadata": {
    "ExecuteTime": {
     "end_time": "2020-04-15T16:18:37.899116Z",
     "start_time": "2020-04-15T16:18:37.896566Z"
    }
   },
   "outputs": [],
   "source": [
    "Cs = np.logspace(-5, 5, 11)"
   ]
  },
  {
   "cell_type": "code",
   "execution_count": 12,
   "metadata": {
    "ExecuteTime": {
     "end_time": "2020-04-15T16:18:37.909386Z",
     "start_time": "2020-04-15T16:18:37.900163Z"
    }
   },
   "outputs": [],
   "source": [
    "cols = ['C', 'date', 'auc', 'ic', 'pval']"
   ]
  },
  {
   "cell_type": "code",
   "execution_count": 13,
   "metadata": {
    "ExecuteTime": {
     "end_time": "2020-04-15T16:19:03.820728Z",
     "start_time": "2020-04-15T16:18:37.912777Z"
    },
    "scrolled": false
   },
   "outputs": [
    {
     "name": "stdout",
     "output_type": "stream",
     "text": [
      "1e-05\n",
      "\t  0.3 | 010 |  -0.27% |  50.44%\n",
      "\t  0.5 | 020 |   1.96% |  51.88%\n",
      "\t  0.7 | 030 |   2.83% |  52.01%\n",
      "\t  0.9 | 040 |   3.26% |  51.98%\n",
      "\t  1.0 | 050 |   3.95% |  52.44%\n",
      "\t  1.3 | 060 |   3.95% |  52.27%\n",
      "\t  1.5 | 070 |   4.75% |  52.61%\n",
      "0.0001\n",
      "\t  0.2 | 010 |  -0.01% |  50.64%\n",
      "\t  0.4 | 020 |   2.33% |  52.07%\n",
      "\t  0.6 | 030 |   3.24% |  52.28%\n",
      "\t  0.9 | 040 |   3.36% |  52.10%\n",
      "\t  1.2 | 050 |   4.04% |  52.54%\n",
      "\t  1.4 | 060 |   4.04% |  52.34%\n",
      "\t  1.7 | 070 |   4.88% |  52.70%\n",
      "0.001\n",
      "\t  0.2 | 010 |   0.47% |  50.98%\n",
      "\t  0.5 | 020 |   2.59% |  52.18%\n",
      "\t  0.7 | 030 |   3.65% |  52.51%\n",
      "\t  1.0 | 040 |   3.21% |  52.10%\n",
      "\t  1.3 | 050 |   3.87% |  52.52%\n",
      "\t  1.6 | 060 |   4.08% |  52.37%\n",
      "\t  1.9 | 070 |   4.96% |  52.75%\n",
      "0.01\n",
      "\t  0.3 | 010 |   0.76% |  51.17%\n",
      "\t  0.6 | 020 |   2.46% |  52.02%\n",
      "\t  0.9 | 030 |   3.71% |  52.45%\n",
      "\t  1.2 | 040 |   3.17% |  51.98%\n",
      "\t  1.5 | 050 |   3.96% |  52.48%\n",
      "\t  1.8 | 060 |   4.21% |  52.34%\n",
      "\t  2.1 | 070 |   4.98% |  52.69%\n",
      "0.1\n",
      "\t  0.3 | 010 |   0.76% |  51.16%\n",
      "\t  0.6 | 020 |   2.26% |  51.86%\n",
      "\t  1.0 | 030 |   3.57% |  52.33%\n",
      "\t  1.3 | 040 |   3.00% |  51.84%\n",
      "\t  1.6 | 050 |   3.79% |  52.34%\n",
      "\t  1.9 | 060 |   3.99% |  52.19%\n",
      "\t  2.3 | 070 |   4.67% |  52.50%\n",
      "1.0\n",
      "\t  0.4 | 010 |   0.73% |  51.14%\n",
      "\t  0.8 | 020 |   2.21% |  51.83%\n",
      "\t  1.1 | 030 |   3.54% |  52.30%\n",
      "\t  1.4 | 040 |   2.96% |  51.81%\n",
      "\t  1.8 | 050 |   3.73% |  52.31%\n",
      "\t  2.1 | 060 |   3.93% |  52.15%\n",
      "\t  2.4 | 070 |   4.58% |  52.46%\n",
      "10.0\n",
      "\t  0.5 | 010 |   0.72% |  51.14%\n",
      "\t  0.8 | 020 |   2.20% |  51.82%\n",
      "\t  1.1 | 030 |   3.53% |  52.30%\n",
      "\t  1.5 | 040 |   2.96% |  51.81%\n",
      "\t  1.8 | 050 |   3.72% |  52.30%\n",
      "\t  2.2 | 060 |   3.92% |  52.15%\n",
      "\t  2.5 | 070 |   4.56% |  52.45%\n",
      "100.0\n",
      "\t  0.4 | 010 |   0.72% |  51.14%\n",
      "\t  0.7 | 020 |   2.20% |  51.82%\n",
      "\t  1.1 | 030 |   3.53% |  52.30%\n",
      "\t  1.4 | 040 |   2.95% |  51.81%\n",
      "\t  1.8 | 050 |   3.72% |  52.30%\n",
      "\t  2.1 | 060 |   3.92% |  52.15%\n",
      "\t  2.4 | 070 |   4.56% |  52.45%\n",
      "1000.0\n",
      "\t  0.4 | 010 |   0.72% |  51.14%\n",
      "\t  0.7 | 020 |   2.20% |  51.82%\n",
      "\t  1.2 | 030 |   3.53% |  52.30%\n",
      "\t  1.5 | 040 |   2.95% |  51.81%\n",
      "\t  1.9 | 050 |   3.72% |  52.30%\n",
      "\t  2.3 | 060 |   3.92% |  52.15%\n",
      "\t  2.6 | 070 |   4.56% |  52.45%\n",
      "10000.0\n",
      "\t  0.4 | 010 |   0.72% |  51.14%\n",
      "\t  0.7 | 020 |   2.20% |  51.82%\n",
      "\t  1.1 | 030 |   3.53% |  52.30%\n",
      "\t  1.4 | 040 |   2.95% |  51.81%\n",
      "\t  1.7 | 050 |   3.72% |  52.30%\n",
      "\t  2.1 | 060 |   3.92% |  52.15%\n",
      "\t  2.4 | 070 |   4.56% |  52.45%\n",
      "100000.0\n",
      "\t  0.3 | 010 |   0.72% |  51.14%\n",
      "\t  0.7 | 020 |   2.20% |  51.82%\n",
      "\t  1.1 | 030 |   3.53% |  52.30%\n",
      "\t  1.4 | 040 |   2.95% |  51.81%\n",
      "\t  1.7 | 050 |   3.72% |  52.30%\n",
      "\t  2.1 | 060 |   3.92% |  52.15%\n",
      "\t  2.4 | 070 |   4.56% |  52.45%\n",
      "CPU times: user 3min 10s, sys: 3.94 s, total: 3min 14s\n",
      "Wall time: 25.9 s\n"
     ]
    }
   ],
   "source": [
    "%%time\n",
    "log_coeffs, log_scores, log_predictions = {}, [], []\n",
    "for C in Cs:\n",
    "    print(C)\n",
    "    model = LogisticRegression(C=C,\n",
    "                               fit_intercept=True,\n",
    "                               random_state=42,\n",
    "                               n_jobs=-1)\n",
    "\n",
    "    pipe = Pipeline([\n",
    "        ('scaler', StandardScaler()),\n",
    "        ('model', model)])\n",
    "    ics = aucs = 0\n",
    "    start = time()\n",
    "    coeffs = []\n",
    "    for i, (train_idx, test_idx) in enumerate(cv.split(X), 1):\n",
    "        X_train, y_train, = X.iloc[train_idx], y.label.iloc[train_idx]\n",
    "        pipe.fit(X=X_train, y=y_train)\n",
    "        X_test, y_test = X.iloc[test_idx], y.label.iloc[test_idx]\n",
    "        actuals = y[target].iloc[test_idx]\n",
    "        if len(y_test) < 10 or len(np.unique(y_test)) < 2:\n",
    "            continue\n",
    "        y_score = pipe.predict_proba(X_test)[:, 1]\n",
    "       \n",
    "        auc = roc_auc_score(y_score=y_score, y_true=y_test)\n",
    "        actuals = y[target].iloc[test_idx]\n",
    "        ic, pval = spearmanr(y_score, actuals)\n",
    "\n",
    "        log_predictions.append(y_test.to_frame('labels').assign(\n",
    "            predicted=y_score, C=C, actuals=actuals))\n",
    "        date = y_test.index.get_level_values('date').min()\n",
    "        log_scores.append([C, date, auc, ic * 100, pval])\n",
    "        coeffs.append(pipe.named_steps['model'].coef_)\n",
    "        ics += ic\n",
    "        aucs += auc\n",
    "        if i % 10 == 0:\n",
    "            print(f'\\t{time()-start:5.1f} | {i:03} | {ics/i:>7.2%} | {aucs/i:>7.2%}')\n",
    "\n",
    "    log_coeffs[C] = np.mean(coeffs, axis=0).squeeze()"
   ]
  },
  {
   "cell_type": "code",
   "execution_count": 14,
   "metadata": {
    "ExecuteTime": {
     "end_time": "2020-04-15T16:19:04.241313Z",
     "start_time": "2020-04-15T16:19:03.824149Z"
    }
   },
   "outputs": [],
   "source": [
    "log_scores = pd.DataFrame(log_scores, columns=cols)\n",
    "log_scores.to_hdf('data.h5', 'logistic/scores')\n",
    "\n",
    "log_coeffs = pd.DataFrame(log_coeffs, index=X.columns).T\n",
    "log_coeffs.to_hdf('data.h5', 'logistic/coeffs')\n",
    "\n",
    "log_predictions = pd.concat(log_predictions)\n",
    "log_predictions.to_hdf('data.h5', 'logistic/predictions')"
   ]
  },
  {
   "cell_type": "code",
   "execution_count": 15,
   "metadata": {
    "ExecuteTime": {
     "end_time": "2020-04-15T16:19:04.250409Z",
     "start_time": "2020-04-15T16:19:04.242167Z"
    }
   },
   "outputs": [],
   "source": [
    "log_scores = pd.read_hdf('data.h5', 'logistic/scores')"
   ]
  },
  {
   "cell_type": "code",
   "execution_count": 16,
   "metadata": {
    "ExecuteTime": {
     "end_time": "2020-04-15T16:19:04.261656Z",
     "start_time": "2020-04-15T16:19:04.251603Z"
    }
   },
   "outputs": [
    {
     "name": "stdout",
     "output_type": "stream",
     "text": [
      "<class 'pandas.core.frame.DataFrame'>\n",
      "Int64Index: 825 entries, 0 to 824\n",
      "Data columns (total 5 columns):\n",
      " #   Column  Non-Null Count  Dtype         \n",
      "---  ------  --------------  -----         \n",
      " 0   C       825 non-null    float64       \n",
      " 1   date    825 non-null    datetime64[ns]\n",
      " 2   auc     825 non-null    float64       \n",
      " 3   ic      825 non-null    float64       \n",
      " 4   pval    825 non-null    float64       \n",
      "dtypes: datetime64[ns](1), float64(4)\n",
      "memory usage: 38.7 KB\n"
     ]
    }
   ],
   "source": [
    "log_scores.info()"
   ]
  },
  {
   "cell_type": "code",
   "execution_count": 17,
   "metadata": {
    "ExecuteTime": {
     "end_time": "2020-04-15T16:19:04.295412Z",
     "start_time": "2020-04-15T16:19:04.262724Z"
    }
   },
   "outputs": [
    {
     "data": {
      "text/html": [
       "<div>\n",
       "<style scoped>\n",
       "    .dataframe tbody tr th:only-of-type {\n",
       "        vertical-align: middle;\n",
       "    }\n",
       "\n",
       "    .dataframe tbody tr th {\n",
       "        vertical-align: top;\n",
       "    }\n",
       "\n",
       "    .dataframe thead th {\n",
       "        text-align: right;\n",
       "    }\n",
       "</style>\n",
       "<table border=\"1\" class=\"dataframe\">\n",
       "  <thead>\n",
       "    <tr style=\"text-align: right;\">\n",
       "      <th></th>\n",
       "      <th>count</th>\n",
       "      <th>mean</th>\n",
       "      <th>std</th>\n",
       "      <th>min</th>\n",
       "      <th>25%</th>\n",
       "      <th>50%</th>\n",
       "      <th>75%</th>\n",
       "      <th>max</th>\n",
       "    </tr>\n",
       "    <tr>\n",
       "      <th>C</th>\n",
       "      <th></th>\n",
       "      <th></th>\n",
       "      <th></th>\n",
       "      <th></th>\n",
       "      <th></th>\n",
       "      <th></th>\n",
       "      <th></th>\n",
       "      <th></th>\n",
       "    </tr>\n",
       "  </thead>\n",
       "  <tbody>\n",
       "    <tr>\n",
       "      <th>0.00001</th>\n",
       "      <td>75.0</td>\n",
       "      <td>0.524515</td>\n",
       "      <td>0.036223</td>\n",
       "      <td>0.432348</td>\n",
       "      <td>0.499503</td>\n",
       "      <td>0.519326</td>\n",
       "      <td>0.545393</td>\n",
       "      <td>0.625747</td>\n",
       "    </tr>\n",
       "    <tr>\n",
       "      <th>0.00010</th>\n",
       "      <td>75.0</td>\n",
       "      <td>0.525371</td>\n",
       "      <td>0.035686</td>\n",
       "      <td>0.443016</td>\n",
       "      <td>0.501464</td>\n",
       "      <td>0.521408</td>\n",
       "      <td>0.544810</td>\n",
       "      <td>0.635552</td>\n",
       "    </tr>\n",
       "    <tr>\n",
       "      <th>0.00100</th>\n",
       "      <td>75.0</td>\n",
       "      <td>0.525975</td>\n",
       "      <td>0.036229</td>\n",
       "      <td>0.443691</td>\n",
       "      <td>0.500607</td>\n",
       "      <td>0.520732</td>\n",
       "      <td>0.543895</td>\n",
       "      <td>0.641003</td>\n",
       "    </tr>\n",
       "    <tr>\n",
       "      <th>0.01000</th>\n",
       "      <td>75.0</td>\n",
       "      <td>0.525557</td>\n",
       "      <td>0.036730</td>\n",
       "      <td>0.436580</td>\n",
       "      <td>0.500352</td>\n",
       "      <td>0.523543</td>\n",
       "      <td>0.550820</td>\n",
       "      <td>0.641920</td>\n",
       "    </tr>\n",
       "    <tr>\n",
       "      <th>0.10000</th>\n",
       "      <td>75.0</td>\n",
       "      <td>0.524027</td>\n",
       "      <td>0.036194</td>\n",
       "      <td>0.427517</td>\n",
       "      <td>0.500040</td>\n",
       "      <td>0.523716</td>\n",
       "      <td>0.549531</td>\n",
       "      <td>0.621818</td>\n",
       "    </tr>\n",
       "    <tr>\n",
       "      <th>1.00000</th>\n",
       "      <td>75.0</td>\n",
       "      <td>0.523636</td>\n",
       "      <td>0.036112</td>\n",
       "      <td>0.425671</td>\n",
       "      <td>0.498871</td>\n",
       "      <td>0.522696</td>\n",
       "      <td>0.549284</td>\n",
       "      <td>0.616500</td>\n",
       "    </tr>\n",
       "    <tr>\n",
       "      <th>10.00000</th>\n",
       "      <td>75.0</td>\n",
       "      <td>0.523585</td>\n",
       "      <td>0.036099</td>\n",
       "      <td>0.425372</td>\n",
       "      <td>0.498906</td>\n",
       "      <td>0.522492</td>\n",
       "      <td>0.549242</td>\n",
       "      <td>0.615857</td>\n",
       "    </tr>\n",
       "    <tr>\n",
       "      <th>100.00000</th>\n",
       "      <td>75.0</td>\n",
       "      <td>0.523580</td>\n",
       "      <td>0.036099</td>\n",
       "      <td>0.425377</td>\n",
       "      <td>0.498897</td>\n",
       "      <td>0.522496</td>\n",
       "      <td>0.549250</td>\n",
       "      <td>0.615853</td>\n",
       "    </tr>\n",
       "    <tr>\n",
       "      <th>1000.00000</th>\n",
       "      <td>75.0</td>\n",
       "      <td>0.523579</td>\n",
       "      <td>0.036100</td>\n",
       "      <td>0.425367</td>\n",
       "      <td>0.498893</td>\n",
       "      <td>0.522484</td>\n",
       "      <td>0.549263</td>\n",
       "      <td>0.615840</td>\n",
       "    </tr>\n",
       "    <tr>\n",
       "      <th>10000.00000</th>\n",
       "      <td>75.0</td>\n",
       "      <td>0.523579</td>\n",
       "      <td>0.036100</td>\n",
       "      <td>0.425367</td>\n",
       "      <td>0.498893</td>\n",
       "      <td>0.522484</td>\n",
       "      <td>0.549263</td>\n",
       "      <td>0.615844</td>\n",
       "    </tr>\n",
       "    <tr>\n",
       "      <th>100000.00000</th>\n",
       "      <td>75.0</td>\n",
       "      <td>0.523579</td>\n",
       "      <td>0.036100</td>\n",
       "      <td>0.425367</td>\n",
       "      <td>0.498893</td>\n",
       "      <td>0.522484</td>\n",
       "      <td>0.549244</td>\n",
       "      <td>0.615844</td>\n",
       "    </tr>\n",
       "  </tbody>\n",
       "</table>\n",
       "</div>"
      ],
      "text/plain": [
       "              count      mean       std       min       25%       50%       75%       max\n",
       "C                                                                                        \n",
       "0.00001        75.0  0.524515  0.036223  0.432348  0.499503  0.519326  0.545393  0.625747\n",
       "0.00010        75.0  0.525371  0.035686  0.443016  0.501464  0.521408  0.544810  0.635552\n",
       "0.00100        75.0  0.525975  0.036229  0.443691  0.500607  0.520732  0.543895  0.641003\n",
       "0.01000        75.0  0.525557  0.036730  0.436580  0.500352  0.523543  0.550820  0.641920\n",
       "0.10000        75.0  0.524027  0.036194  0.427517  0.500040  0.523716  0.549531  0.621818\n",
       "1.00000        75.0  0.523636  0.036112  0.425671  0.498871  0.522696  0.549284  0.616500\n",
       "10.00000       75.0  0.523585  0.036099  0.425372  0.498906  0.522492  0.549242  0.615857\n",
       "100.00000      75.0  0.523580  0.036099  0.425377  0.498897  0.522496  0.549250  0.615853\n",
       "1000.00000     75.0  0.523579  0.036100  0.425367  0.498893  0.522484  0.549263  0.615840\n",
       "10000.00000    75.0  0.523579  0.036100  0.425367  0.498893  0.522484  0.549263  0.615844\n",
       "100000.00000   75.0  0.523579  0.036100  0.425367  0.498893  0.522484  0.549244  0.615844"
      ]
     },
     "execution_count": 17,
     "metadata": {},
     "output_type": "execute_result"
    }
   ],
   "source": [
    "log_scores.groupby('C').auc.describe()"
   ]
  },
  {
   "cell_type": "code",
   "execution_count": 18,
   "metadata": {
    "ExecuteTime": {
     "end_time": "2020-04-15T16:19:04.300551Z",
     "start_time": "2020-04-15T16:19:04.296824Z"
    }
   },
   "outputs": [],
   "source": [
    "def plot_ic_distribution(df, fname=None, ax=None):\n",
    "    if ax is not None:\n",
    "        sns.distplot(df.ic, ax=ax)    \n",
    "    else:\n",
    "        ax = sns.distplot(df.ic)\n",
    "    mean, median = df.ic.mean(), df.ic.median()\n",
    "    ax.axvline(0, lw=1, ls='--', c='k')\n",
    "    ax.text(x=.05, y=.9, s=f'Mean: {mean:8.2f}\\nMedian: {median:5.2f}',\n",
    "            horizontalalignment='left',\n",
    "            verticalalignment='center',\n",
    "            transform=ax.transAxes)\n",
    "    ax.set_xlabel('Information Coefficient')\n",
    "    plt.tight_layout()\n",
    "    if fname is not None:\n",
    "        plt.savefig(Path('figures', fname), dpi=300) "
   ]
  },
  {
   "cell_type": "code",
   "execution_count": 19,
   "metadata": {
    "ExecuteTime": {
     "end_time": "2020-04-15T16:19:05.813702Z",
     "start_time": "2020-04-15T16:19:04.301490Z"
    }
   },
   "outputs": [
    {
     "data": {
      "image/png": "[encoded data removed]",
      "text/plain": [
       "<Figure size 1080x360 with 2 Axes>"
      ]
     },
     "metadata": {},
     "output_type": "display_data"
    }
   ],
   "source": [
    "fig, axes= plt.subplots(ncols=2, figsize=(15, 5))\n",
    "\n",
    "sns.lineplot(x='C', y='auc', data=log_scores, estimator=np.mean, label='Mean', ax=axes[0])\n",
    "by_alpha = log_scores.groupby('C').auc.agg(['mean', 'median'])\n",
    "best_auc = by_alpha['mean'].idxmax()\n",
    "by_alpha['median'].plot(logx=True, ax=axes[0], label='Median', xlim=(10e-6, 10e5))\n",
    "axes[0].axvline(best_auc, ls='--', c='k', lw=1, label='Max. Mean')\n",
    "axes[0].axvline(by_alpha['median'].idxmax(), ls='-.', c='k', lw=1, label='Max. Median')\n",
    "axes[0].legend()\n",
    "axes[0].set_ylabel('AUC')\n",
    "axes[0].set_xscale('log')\n",
    "axes[0].set_title('Area Under the Curve')\n",
    "\n",
    "plot_ic_distribution(log_scores[log_scores.C==best_auc], ax=axes[1])\n",
    "axes[1].set_title('Information Coefficient')\n",
    "\n",
    "fig.suptitle('Logistic Regression', fontsize=14)\n",
    "fig.tight_layout()\n",
    "fig.subplots_adjust(top=.9)\n",
    "fig.savefig('figures/log_results', dpi=300);"
   ]
  }
 ],
 "metadata": {
  "kernelspec": {
   "display_name": "Python 3",
   "language": "python",
   "name": "python3"
  },
  "language_info": {
   "codemirror_mode": {
    "name": "ipython",
    "version": 3
   },
   "file_extension": ".py",
   "mimetype": "text/x-python",
   "name": "python",
   "nbconvert_exporter": "python",
   "pygments_lexer": "ipython3",
   "version": "3.7.6"
  },
  "toc": {
   "base_numbering": 1,
   "nav_menu": {},
   "number_sections": true,
   "sideBar": true,
   "skip_h1_title": true,
   "title_cell": "Table of Contents",
   "title_sidebar": "Contents",
   "toc_cell": false,
   "toc_position": {},
   "toc_section_display": true,
   "toc_window_display": true
  }
 },
 "nbformat": 4,
 "nbformat_minor": 2
}
