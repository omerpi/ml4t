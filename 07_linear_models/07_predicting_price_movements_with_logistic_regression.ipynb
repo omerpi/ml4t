{
 "cells": [
  {
   "cell_type": "markdown",
   "metadata": {},
   "source": [
    "# Prediction stock price moves with Logistic Regression"
   ]
  },
  {
   "cell_type": "markdown",
   "metadata": {},
   "source": [
    "## Imports & Settings"
   ]
  },
  {
   "cell_type": "code",
   "execution_count": 25,
   "metadata": {},
   "outputs": [],
   "source": [
    "from pathlib import Path\n",
    "import sys, os\n",
    "from time import time\n",
    "import warnings\n",
    "import pandas as pd\n",
    "import numpy as np\n",
    "from statsmodels.api import OLS, add_constant, graphics\n",
    "from statsmodels.graphics.tsaplots import plot_acf\n",
    "from scipy.stats import spearmanr, norm\n",
    "\n",
    "from sklearn.metrics import mean_squared_error, make_scorer, roc_auc_score\n",
    "from sklearn.linear_model import LinearRegression, Ridge, RidgeCV, Lasso, LassoCV, LogisticRegression\n",
    "from sklearn.pipeline import Pipeline\n",
    "from sklearn.preprocessing import StandardScaler,scale\n",
    "from sklearn.model_selection import train_test_split, cross_val_score, GridSearchCV, learning_curve, KFold\n",
    "\n",
    "from empyrical import max_drawdown, sortino_ratio\n",
    "from custom_scoring import spearman_corr\n",
    "\n",
    "import seaborn as sns\n",
    "import matplotlib.pyplot as plt\n",
    "from matplotlib.ticker import FuncFormatter"
   ]
  },
  {
   "cell_type": "code",
   "execution_count": 26,
   "metadata": {},
   "outputs": [],
   "source": [
    "sys.path.insert(1, os.path.join(sys.path[0], '..'))\n",
    "from utils import MultipleTimeSeriesCV"
   ]
  },
  {
   "cell_type": "code",
   "execution_count": 27,
   "metadata": {},
   "outputs": [],
   "source": [
    "warnings.filterwarnings('ignore')\n",
    "sns.set_style('darkgrid')\n",
    "idx = pd.IndexSlice"
   ]
  },
  {
   "cell_type": "code",
   "execution_count": 28,
   "metadata": {},
   "outputs": [],
   "source": [
    "YEAR = 252"
   ]
  },
  {
   "cell_type": "markdown",
   "metadata": {},
   "source": [
    "## Load Data"
   ]
  },
  {
   "cell_type": "code",
   "execution_count": 36,
   "metadata": {},
   "outputs": [],
   "source": [
    "with pd.HDFStore('data.h5') as store:\n",
    "    data = (store['model_data']\n",
    "            .dropna()\n",
    "            .drop(['open', 'close', 'low', 'high'], axis=1))\n",
    "data = data.drop([c for c in data.columns if 'year' in c or 'lag' in c], axis=1)"
   ]
  },
  {
   "cell_type": "markdown",
   "metadata": {},
   "source": [
    "### Select Investment Universe"
   ]
  },
  {
   "cell_type": "code",
   "execution_count": 37,
   "metadata": {},
   "outputs": [],
   "source": [
    "data = data[data.dollar_vol_rank<100]"
   ]
  },
  {
   "cell_type": "markdown",
   "metadata": {},
   "source": [
    "### Create Model Data"
   ]
  },
  {
   "cell_type": "code",
   "execution_count": 38,
   "metadata": {},
   "outputs": [],
   "source": [
    "y = data.filter(like='target')\n",
    "X = data.drop(y.columns, axis=1)\n",
    "X = X.drop(['dollar_vol', 'dollar_vol_rank', 'volume', 'consumer_durables'], axis=1)"
   ]
  },
  {
   "cell_type": "markdown",
   "metadata": {},
   "source": [
    "## Logistic Regression"
   ]
  },
  {
   "cell_type": "code",
   "execution_count": 40,
   "metadata": {},
   "outputs": [],
   "source": [
    "train_period_length = 63\n",
    "test_period_length = 10\n",
    "lookahead =1\n",
    "n_splits = int(3 * YEAR/test_period_length)\n",
    "\n",
    "cv = MultipleTimeSeriesCV(n_splits=n_splits,\n",
    "                          test_period_length=test_period_length,\n",
    "                          lookahead=lookahead,\n",
    "                          train_period_length=train_period_length)"
   ]
  },
  {
   "cell_type": "code",
   "execution_count": 41,
   "metadata": {},
   "outputs": [],
   "source": [
    "target = f'target_{lookahead}d'"
   ]
  },
  {
   "cell_type": "code",
   "execution_count": 42,
   "metadata": {},
   "outputs": [
    {
     "data": {
      "text/plain": [
       "1    56443\n",
       "0    53220\n",
       "Name: label, dtype: int64"
      ]
     },
     "execution_count": 42,
     "metadata": {},
     "output_type": "execute_result"
    }
   ],
   "source": [
    "y.loc[:, 'label'] = (y[target] > 0).astype(int)\n",
    "y.label.value_counts()"
   ]
  },
  {
   "cell_type": "code",
   "execution_count": 43,
   "metadata": {
    "scrolled": false
   },
   "outputs": [
    {
     "name": "stdout",
     "output_type": "stream",
     "text": [
      "1e-05\n",
      "\t  1.8 | 010 |  -0.22% |  50.38%\n",
      "\t  2.3 | 020 |   2.05% |  51.86%\n",
      "\t  2.8 | 030 |   2.81% |  51.94%\n",
      "\t  3.3 | 040 |   3.24% |  51.92%\n",
      "\t  3.7 | 050 |   3.98% |  52.42%\n",
      "\t  4.1 | 060 |   3.80% |  52.16%\n",
      "\t  4.6 | 070 |   4.68% |  52.54%\n",
      "0.0001\n",
      "\t  0.5 | 010 |  -0.02% |  50.53%\n",
      "\t  0.9 | 020 |   2.30% |  51.99%\n",
      "\t  1.3 | 030 |   3.18% |  52.18%\n",
      "\t  1.8 | 040 |   3.29% |  52.01%\n",
      "\t  2.2 | 050 |   4.06% |  52.52%\n",
      "\t  2.6 | 060 |   3.94% |  52.26%\n",
      "\t  3.1 | 070 |   4.85% |  52.66%\n",
      "0.001\n",
      "\t  0.4 | 010 |   0.39% |  50.83%\n",
      "\t  0.9 | 020 |   2.48% |  52.06%\n",
      "\t  1.3 | 030 |   3.60% |  52.42%\n",
      "\t  1.7 | 040 |   3.09% |  51.98%\n",
      "\t  2.2 | 050 |   3.94% |  52.53%\n",
      "\t  2.6 | 060 |   4.05% |  52.33%\n",
      "\t  3.1 | 070 |   4.98% |  52.73%\n",
      "0.01\n",
      "\t  0.6 | 010 |   0.65% |  50.99%\n",
      "\t  1.2 | 020 |   2.33% |  51.86%\n",
      "\t  1.9 | 030 |   3.62% |  52.31%\n",
      "\t  2.4 | 040 |   3.03% |  51.85%\n",
      "\t  3.0 | 050 |   3.98% |  52.46%\n",
      "\t  3.6 | 060 |   4.11% |  52.26%\n",
      "\t  4.2 | 070 |   4.91% |  52.63%\n",
      "0.1\n",
      "\t  0.7 | 010 |   0.62% |  50.97%\n",
      "\t  1.4 | 020 |   2.03% |  51.64%\n",
      "\t  2.1 | 030 |   3.37% |  52.13%\n",
      "\t  2.7 | 040 |   2.83% |  51.71%\n",
      "\t  3.4 | 050 |   3.76% |  52.30%\n",
      "\t  4.1 | 060 |   3.84% |  52.09%\n",
      "\t  4.8 | 070 |   4.54% |  52.42%\n",
      "1.0\n",
      "\t  0.7 | 010 |   0.58% |  50.96%\n",
      "\t  1.4 | 020 |   1.95% |  51.59%\n",
      "\t  2.1 | 030 |   3.31% |  52.09%\n",
      "\t  2.8 | 040 |   2.78% |  51.67%\n",
      "\t  3.5 | 050 |   3.69% |  52.26%\n",
      "\t  4.2 | 060 |   3.76% |  52.04%\n",
      "\t  4.9 | 070 |   4.44% |  52.37%\n",
      "10.0\n",
      "\t  0.7 | 010 |   0.58% |  50.96%\n",
      "\t  1.4 | 020 |   1.95% |  51.59%\n",
      "\t  2.1 | 030 |   3.31% |  52.09%\n",
      "\t  2.8 | 040 |   2.77% |  51.67%\n",
      "\t  3.5 | 050 |   3.68% |  52.26%\n",
      "\t  4.2 | 060 |   3.75% |  52.04%\n",
      "\t  4.9 | 070 |   4.43% |  52.37%\n",
      "100.0\n",
      "\t  0.7 | 010 |   0.58% |  50.96%\n",
      "\t  1.4 | 020 |   1.95% |  51.59%\n",
      "\t  2.1 | 030 |   3.31% |  52.09%\n",
      "\t  2.8 | 040 |   2.77% |  51.67%\n",
      "\t  3.5 | 050 |   3.68% |  52.26%\n",
      "\t  4.2 | 060 |   3.75% |  52.04%\n",
      "\t  4.9 | 070 |   4.43% |  52.36%\n",
      "1000.0\n",
      "\t  0.8 | 010 |   0.58% |  50.96%\n",
      "\t  1.5 | 020 |   1.95% |  51.59%\n",
      "\t  2.2 | 030 |   3.31% |  52.09%\n",
      "\t  2.9 | 040 |   2.77% |  51.67%\n",
      "\t  3.6 | 050 |   3.68% |  52.26%\n",
      "\t  4.3 | 060 |   3.75% |  52.04%\n",
      "\t  5.0 | 070 |   4.43% |  52.36%\n",
      "10000.0\n",
      "\t  0.7 | 010 |   0.58% |  50.96%\n",
      "\t  1.5 | 020 |   1.95% |  51.59%\n",
      "\t  2.2 | 030 |   3.31% |  52.09%\n",
      "\t  2.8 | 040 |   2.77% |  51.67%\n",
      "\t  3.6 | 050 |   3.68% |  52.26%\n",
      "\t  4.3 | 060 |   3.75% |  52.04%\n",
      "\t  5.0 | 070 |   4.43% |  52.36%\n",
      "100000.0\n",
      "\t  0.7 | 010 |   0.58% |  50.96%\n",
      "\t  1.4 | 020 |   1.95% |  51.59%\n",
      "\t  2.1 | 030 |   3.31% |  52.09%\n",
      "\t  2.8 | 040 |   2.77% |  51.67%\n",
      "\t  3.6 | 050 |   3.68% |  52.26%\n",
      "\t  4.3 | 060 |   3.75% |  52.04%\n",
      "\t  5.0 | 070 |   4.43% |  52.36%\n"
     ]
    }
   ],
   "source": [
    "Cs = np.logspace(-5, 5, 11)\n",
    "log_coeffs, coeffs, log_results, preds = {}, [], [], []\n",
    "for C in Cs:\n",
    "    print(C)\n",
    "    model = LogisticRegression(C=C,\n",
    "                               fit_intercept=True,\n",
    "                               random_state=42,\n",
    "                               n_jobs=-1)\n",
    "\n",
    "    pipe = Pipeline([\n",
    "        ('scaler', StandardScaler()),\n",
    "        ('model', model)])\n",
    "    ics = aucs = 0\n",
    "    start = time()\n",
    "    for i, (train_idx, test_idx) in enumerate(cv.split(X), 1):\n",
    "        X_train, y_train, = X.iloc[train_idx], y.label.iloc[train_idx]\n",
    "        pipe.fit(X=X_train, y=y_train)\n",
    "        X_test, y_test = X.iloc[test_idx], y.label.iloc[test_idx]\n",
    "        actuals = y[target].iloc[test_idx]\n",
    "        if len(y_test) < 10 or len(np.unique(y_test)) < 2:\n",
    "            continue\n",
    "        y_score = pipe.predict_proba(X_test)[:, 1]\n",
    "\n",
    "        auc = roc_auc_score(y_score=y_score, y_true=y_test)\n",
    "        actuals = y[target].iloc[test_idx]\n",
    "        ic, pval = spearmanr(y_score, actuals)\n",
    "\n",
    "        preds.append(y_test.to_frame('labels').assign(\n",
    "            predicted=y_score, C=C, actuals=actuals))\n",
    "        date = y_test.index.get_level_values('date').min()\n",
    "        log_results.append([C, i, date, auc, ic, pval])\n",
    "        coeffs.append(pipe['model'].coef_)\n",
    "        ics += ic\n",
    "        aucs += auc\n",
    "        if i % 10 == 0:\n",
    "            print(f'\\t{time()-start:5.1f} | {i:03} | {ics/i:>7.2%} | {aucs/i:>7.2%}')\n",
    "\n",
    "    log_coeffs[C] = np.mean(coeffs, axis=0).squeeze()\n",
    "\n",
    "cols = ['C', 'split', 'date', 'auc', 'ic', 'pval']\n",
    "log_results = pd.DataFrame(log_results, columns=cols)\n",
    "log_results.to_hdf('data.h5', 'logistic/metrics')\n",
    "log_coeffs = pd.DataFrame(log_coeffs, index=X.columns)\n",
    "log_coeffs.to_hdf('data.h5', 'logistic/coeffs')\n",
    "pd.concat(preds).to_hdf('data.h5', 'logistic/predictions')"
   ]
  },
  {
   "cell_type": "code",
   "execution_count": 44,
   "metadata": {},
   "outputs": [],
   "source": [
    "log_results = pd.read_hdf('data.h5', 'logistic/metrics')"
   ]
  },
  {
   "cell_type": "code",
   "execution_count": 45,
   "metadata": {},
   "outputs": [
    {
     "name": "stdout",
     "output_type": "stream",
     "text": [
      "<class 'pandas.core.frame.DataFrame'>\n",
      "Int64Index: 825 entries, 0 to 824\n",
      "Data columns (total 6 columns):\n",
      "C        825 non-null float64\n",
      "split    825 non-null int64\n",
      "date     825 non-null datetime64[ns]\n",
      "auc      825 non-null float64\n",
      "ic       825 non-null float64\n",
      "pval     825 non-null float64\n",
      "dtypes: datetime64[ns](1), float64(4), int64(1)\n",
      "memory usage: 45.1 KB\n"
     ]
    }
   ],
   "source": [
    "log_results.info()"
   ]
  },
  {
   "cell_type": "code",
   "execution_count": 46,
   "metadata": {},
   "outputs": [
    {
     "data": {
      "text/html": [
       "<div>\n",
       "<style scoped>\n",
       "    .dataframe tbody tr th:only-of-type {\n",
       "        vertical-align: middle;\n",
       "    }\n",
       "\n",
       "    .dataframe tbody tr th {\n",
       "        vertical-align: top;\n",
       "    }\n",
       "\n",
       "    .dataframe thead th {\n",
       "        text-align: right;\n",
       "    }\n",
       "</style>\n",
       "<table border=\"1\" class=\"dataframe\">\n",
       "  <thead>\n",
       "    <tr style=\"text-align: right;\">\n",
       "      <th></th>\n",
       "      <th>count</th>\n",
       "      <th>mean</th>\n",
       "      <th>std</th>\n",
       "      <th>min</th>\n",
       "      <th>25%</th>\n",
       "      <th>50%</th>\n",
       "      <th>75%</th>\n",
       "      <th>max</th>\n",
       "    </tr>\n",
       "    <tr>\n",
       "      <th>C</th>\n",
       "      <th></th>\n",
       "      <th></th>\n",
       "      <th></th>\n",
       "      <th></th>\n",
       "      <th></th>\n",
       "      <th></th>\n",
       "      <th></th>\n",
       "      <th></th>\n",
       "    </tr>\n",
       "  </thead>\n",
       "  <tbody>\n",
       "    <tr>\n",
       "      <th>0.00001</th>\n",
       "      <td>75.0</td>\n",
       "      <td>0.524091</td>\n",
       "      <td>0.036383</td>\n",
       "      <td>0.435663</td>\n",
       "      <td>0.500763</td>\n",
       "      <td>0.520733</td>\n",
       "      <td>0.543778</td>\n",
       "      <td>0.622890</td>\n",
       "    </tr>\n",
       "    <tr>\n",
       "      <th>0.00010</th>\n",
       "      <td>75.0</td>\n",
       "      <td>0.525150</td>\n",
       "      <td>0.035849</td>\n",
       "      <td>0.447279</td>\n",
       "      <td>0.501376</td>\n",
       "      <td>0.521471</td>\n",
       "      <td>0.539950</td>\n",
       "      <td>0.632493</td>\n",
       "    </tr>\n",
       "    <tr>\n",
       "      <th>0.00100</th>\n",
       "      <td>75.0</td>\n",
       "      <td>0.525816</td>\n",
       "      <td>0.036395</td>\n",
       "      <td>0.443565</td>\n",
       "      <td>0.504216</td>\n",
       "      <td>0.521435</td>\n",
       "      <td>0.545376</td>\n",
       "      <td>0.643671</td>\n",
       "    </tr>\n",
       "    <tr>\n",
       "      <th>0.01000</th>\n",
       "      <td>75.0</td>\n",
       "      <td>0.525028</td>\n",
       "      <td>0.036298</td>\n",
       "      <td>0.441677</td>\n",
       "      <td>0.501655</td>\n",
       "      <td>0.520369</td>\n",
       "      <td>0.548989</td>\n",
       "      <td>0.639373</td>\n",
       "    </tr>\n",
       "    <tr>\n",
       "      <th>0.10000</th>\n",
       "      <td>75.0</td>\n",
       "      <td>0.523277</td>\n",
       "      <td>0.035618</td>\n",
       "      <td>0.435530</td>\n",
       "      <td>0.499198</td>\n",
       "      <td>0.520834</td>\n",
       "      <td>0.547408</td>\n",
       "      <td>0.618146</td>\n",
       "    </tr>\n",
       "    <tr>\n",
       "      <th>1.00000</th>\n",
       "      <td>75.0</td>\n",
       "      <td>0.522831</td>\n",
       "      <td>0.035534</td>\n",
       "      <td>0.433749</td>\n",
       "      <td>0.497660</td>\n",
       "      <td>0.520901</td>\n",
       "      <td>0.548078</td>\n",
       "      <td>0.613230</td>\n",
       "    </tr>\n",
       "    <tr>\n",
       "      <th>10.00000</th>\n",
       "      <td>75.0</td>\n",
       "      <td>0.522789</td>\n",
       "      <td>0.035541</td>\n",
       "      <td>0.433415</td>\n",
       "      <td>0.497721</td>\n",
       "      <td>0.520992</td>\n",
       "      <td>0.548118</td>\n",
       "      <td>0.612596</td>\n",
       "    </tr>\n",
       "    <tr>\n",
       "      <th>100.00000</th>\n",
       "      <td>75.0</td>\n",
       "      <td>0.522784</td>\n",
       "      <td>0.035532</td>\n",
       "      <td>0.433420</td>\n",
       "      <td>0.497717</td>\n",
       "      <td>0.520992</td>\n",
       "      <td>0.548099</td>\n",
       "      <td>0.612488</td>\n",
       "    </tr>\n",
       "    <tr>\n",
       "      <th>1000.00000</th>\n",
       "      <td>75.0</td>\n",
       "      <td>0.522784</td>\n",
       "      <td>0.035531</td>\n",
       "      <td>0.433391</td>\n",
       "      <td>0.497719</td>\n",
       "      <td>0.520996</td>\n",
       "      <td>0.548089</td>\n",
       "      <td>0.612484</td>\n",
       "    </tr>\n",
       "    <tr>\n",
       "      <th>10000.00000</th>\n",
       "      <td>75.0</td>\n",
       "      <td>0.522784</td>\n",
       "      <td>0.035531</td>\n",
       "      <td>0.433391</td>\n",
       "      <td>0.497717</td>\n",
       "      <td>0.520996</td>\n",
       "      <td>0.548089</td>\n",
       "      <td>0.612484</td>\n",
       "    </tr>\n",
       "    <tr>\n",
       "      <th>100000.00000</th>\n",
       "      <td>75.0</td>\n",
       "      <td>0.522784</td>\n",
       "      <td>0.035531</td>\n",
       "      <td>0.433391</td>\n",
       "      <td>0.497717</td>\n",
       "      <td>0.520996</td>\n",
       "      <td>0.548089</td>\n",
       "      <td>0.612484</td>\n",
       "    </tr>\n",
       "  </tbody>\n",
       "</table>\n",
       "</div>"
      ],
      "text/plain": [
       "              count      mean       std       min       25%       50%       75%       max\n",
       "C                                                                                        \n",
       "0.00001        75.0  0.524091  0.036383  0.435663  0.500763  0.520733  0.543778  0.622890\n",
       "0.00010        75.0  0.525150  0.035849  0.447279  0.501376  0.521471  0.539950  0.632493\n",
       "0.00100        75.0  0.525816  0.036395  0.443565  0.504216  0.521435  0.545376  0.643671\n",
       "0.01000        75.0  0.525028  0.036298  0.441677  0.501655  0.520369  0.548989  0.639373\n",
       "0.10000        75.0  0.523277  0.035618  0.435530  0.499198  0.520834  0.547408  0.618146\n",
       "1.00000        75.0  0.522831  0.035534  0.433749  0.497660  0.520901  0.548078  0.613230\n",
       "10.00000       75.0  0.522789  0.035541  0.433415  0.497721  0.520992  0.548118  0.612596\n",
       "100.00000      75.0  0.522784  0.035532  0.433420  0.497717  0.520992  0.548099  0.612488\n",
       "1000.00000     75.0  0.522784  0.035531  0.433391  0.497719  0.520996  0.548089  0.612484\n",
       "10000.00000    75.0  0.522784  0.035531  0.433391  0.497717  0.520996  0.548089  0.612484\n",
       "100000.00000   75.0  0.522784  0.035531  0.433391  0.497717  0.520996  0.548089  0.612484"
      ]
     },
     "execution_count": 46,
     "metadata": {},
     "output_type": "execute_result"
    }
   ],
   "source": [
    "log_results.groupby('C').auc.describe()"
   ]
  },
  {
   "cell_type": "code",
   "execution_count": 47,
   "metadata": {},
   "outputs": [],
   "source": [
    "def plot_ic_distribution(df, fname=None, ax=None):\n",
    "    if ax is not None:\n",
    "        sns.distplot(df.ic, ax=ax)    \n",
    "    else:\n",
    "        ax = sns.distplot(df.ic)\n",
    "    mean, median = df.ic.mean(), df.ic.median()\n",
    "    ax.axvline(0, lw=1, ls='--', c='k')\n",
    "    ax.text(x=.05, y=.9, s=f'Mean: {mean:8.2%}\\nMedian: {median:5.2%}',\n",
    "            horizontalalignment='left',\n",
    "            verticalalignment='center',\n",
    "            transform=ax.transAxes)\n",
    "    ax.set_xlabel('Information Coefficient')\n",
    "    plt.tight_layout()\n",
    "    if fname is not None:\n",
    "        plt.savefig(Path('figures', fname), dpi=300) "
   ]
  },
  {
   "cell_type": "code",
   "execution_count": 49,
   "metadata": {},
   "outputs": [
    {
     "data": {
      "image/png": "[encoded data removed]",
      "text/plain": [
       "<Figure size 1080x360 with 2 Axes>"
      ]
     },
     "metadata": {},
     "output_type": "display_data"
    }
   ],
   "source": [
    "fig, axes= plt.subplots(ncols=2, figsize=(15, 5))\n",
    "\n",
    "sns.lineplot(x='C', y='auc', data=log_results, estimator=np.mean, label='Mean', ax=axes[0])\n",
    "by_alpha = log_results.groupby('C').auc.agg(['mean', 'median'])\n",
    "by_alpha['median'].plot(logx=True, ax=axes[0], label='Median', xlim=(10e-6, 10e5))\n",
    "axes[0].axvline(by_alpha['mean'].idxmax(), ls='--', c='k', lw=1, label='Max. Mean')\n",
    "axes[0].axvline(by_alpha['median'].idxmax(), ls='-.', c='k', lw=1, label='Max. Median')\n",
    "axes[0].legend()\n",
    "axes[0].set_xscale('log')\n",
    "axes[0].set_title('Area Under the Curve')\n",
    "\n",
    "plot_ic_distribution(log_results[log_results.C==1e5], ax=axes[1])\n",
    "axes[1].set_title('Information Coefficient')\n",
    "fig.tight_layout()\n",
    "fig.savefig('figures/log_results', dpi=300);"
   ]
  },
  {
   "cell_type": "code",
   "execution_count": null,
   "metadata": {},
   "outputs": [],
   "source": []
  }
 ],
 "metadata": {
  "kernelspec": {
   "display_name": "Python 3",
   "language": "python",
   "name": "python3"
  },
  "language_info": {
   "codemirror_mode": {
    "name": "ipython",
    "version": 3
   },
   "file_extension": ".py",
   "mimetype": "text/x-python",
   "name": "python",
   "nbconvert_exporter": "python",
   "pygments_lexer": "ipython3",
   "version": "3.7.6"
  },
  "toc": {
   "base_numbering": 1,
   "nav_menu": {},
   "number_sections": true,
   "sideBar": true,
   "skip_h1_title": true,
   "title_cell": "Table of Contents",
   "title_sidebar": "Contents",
   "toc_cell": false,
   "toc_position": {},
   "toc_section_display": true,
   "toc_window_display": true
  }
 },
 "nbformat": 4,
 "nbformat_minor": 2
}
