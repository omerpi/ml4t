{
 "cells": [
  {
   "cell_type": "markdown",
   "metadata": {},
   "source": [
    "# Prediction stock returns with linear regression"
   ]
  },
  {
   "cell_type": "markdown",
   "metadata": {},
   "source": [
    "## Imports & Settings"
   ]
  },
  {
   "cell_type": "code",
   "execution_count": 2,
   "metadata": {},
   "outputs": [],
   "source": [
    "from pathlib import Path\n",
    "from time import time\n",
    "import pandas as pd\n",
    "import numpy as np\n",
    "from statsmodels.api import OLS, add_constant, graphics\n",
    "from statsmodels.graphics.tsaplots import plot_acf\n",
    "from scipy.stats import spearmanr, norm\n",
    "\n",
    "from sklearn.metrics import mean_squared_error, make_scorer, roc_auc_score\n",
    "from sklearn.linear_model import LinearRegression, Ridge, RidgeCV, Lasso, LassoCV, LogisticRegression\n",
    "from sklearn.pipeline import Pipeline\n",
    "from sklearn.preprocessing import StandardScaler,scale\n",
    "from sklearn.model_selection import train_test_split, cross_val_score, GridSearchCV, learning_curve, KFold\n",
    "\n",
    "from empyrical import max_drawdown, sortino_ratio\n",
    "from custom_scoring import spearman_corr\n",
    "\n",
    "import seaborn as sns\n",
    "import matplotlib.pyplot as plt\n",
    "from matplotlib.ticker import FuncFormatter\n",
    "import warnings"
   ]
  },
  {
   "cell_type": "code",
   "execution_count": 3,
   "metadata": {},
   "outputs": [],
   "source": [
    "warnings.filterwarnings('ignore')\n",
    "sns.set_style('darkgrid')\n",
    "idx = pd.IndexSlice"
   ]
  },
  {
   "cell_type": "markdown",
   "metadata": {},
   "source": [
    "## Load Data"
   ]
  },
  {
   "cell_type": "code",
   "execution_count": 9,
   "metadata": {},
   "outputs": [],
   "source": [
    "with pd.HDFStore('data.h5') as store:\n",
    "    data = (store['model_data']\n",
    "            .dropna()\n",
    "            .drop(['open', 'close', 'low', 'high'], axis=1))\n",
    "data = data.drop([c for c in data.columns if 'year' in c], axis=1)"
   ]
  },
  {
   "cell_type": "markdown",
   "metadata": {},
   "source": [
    "### Select Investment Universe"
   ]
  },
  {
   "cell_type": "code",
   "execution_count": 10,
   "metadata": {},
   "outputs": [],
   "source": [
    "data = data[data.dollar_vol_rank<100]"
   ]
  },
  {
   "cell_type": "markdown",
   "metadata": {},
   "source": [
    "### Create Model Data"
   ]
  },
  {
   "cell_type": "code",
   "execution_count": 11,
   "metadata": {},
   "outputs": [],
   "source": [
    "y = data.filter(like='target')\n",
    "X = data.drop(y.columns, axis=1)\n",
    "X = X.drop(['dollar_vol', 'dollar_vol_rank', 'volume', 'consumer_durables'], axis=1)"
   ]
  },
  {
   "cell_type": "markdown",
   "metadata": {},
   "source": [
    "## Logistic Regression"
   ]
  },
  {
   "cell_type": "code",
   "execution_count": 15,
   "metadata": {},
   "outputs": [],
   "source": [
    "class TimeSeriesCV:\n",
    "    \"\"\"Generates tuples of train_idx, test_idx pairs\n",
    "    Assumes the index contains a level labeled 'date'\"\"\"\n",
    "\n",
    "    def __init__(self, n_splits=3, test_period_length=1, train_period_length=12, shuffle=False):\n",
    "        self.n_splits = n_splits\n",
    "        self.test_period_length = test_period_length\n",
    "        self.train_period_length = train_period_length\n",
    "        self.shuffle = shuffle\n",
    "        self.test_end = n_splits * test_period_length\n",
    "\n",
    "    @staticmethod\n",
    "    def chunks(l, chunk_size):\n",
    "        for i in range(0, len(l), chunk_size):\n",
    "            yield l[i:i + chunk_size]\n",
    "\n",
    "    def split(self, X, y=None, groups=None):\n",
    "        unique_dates = (X.index.get_level_values('date')\n",
    "                        .unique()\n",
    "                        .sort_values(ascending=False))\n",
    "        test_dates = unique_dates[:self.test_end]\n",
    "        dates = X.reset_index()[['date']]\n",
    "        for test_date in self.chunks(test_dates, self.test_period_length):\n",
    "            test_end = min(test_date)\n",
    "            idx = unique_dates.get_loc(test_end) + self.train_period_length + 1\n",
    "            if len(unique_dates) <= idx:\n",
    "                break\n",
    "\n",
    "            train_start = unique_dates[idx]\n",
    "            train_idx = dates[(dates.date < test_end) &\n",
    "                              (dates.date > train_start)].index\n",
    "            test_idx = dates[dates.date.isin(test_date)].index\n",
    "            if self.shuffle:\n",
    "                np.random.shuffle(list(train_idx))\n",
    "            yield train_idx, test_idx\n",
    "\n",
    "    def get_n_splits(self, X, y, groups=None):\n",
    "        return self.n_splits"
   ]
  },
  {
   "cell_type": "code",
   "execution_count": 12,
   "metadata": {},
   "outputs": [],
   "source": [
    "target = 'target_5d'\n",
    "y['label'] = (y[target] > 0).astype(int)"
   ]
  },
  {
   "cell_type": "code",
   "execution_count": 14,
   "metadata": {},
   "outputs": [
    {
     "data": {
      "text/plain": [
       "1    59521\n",
       "0    50146\n",
       "Name: label, dtype: int64"
      ]
     },
     "execution_count": 14,
     "metadata": {},
     "output_type": "execute_result"
    }
   ],
   "source": [
    "y.label.value_counts()"
   ]
  },
  {
   "cell_type": "code",
   "execution_count": null,
   "metadata": {},
   "outputs": [],
   "source": [
    "n_splits = 4*252\n",
    "cv = TimeSeriesCV(n_splits=n_splits,\n",
    "                  test_period_length=1,\n",
    "                  train_period_length=252)\n",
    "\n",
    "Cs = np.logspace(-5, 5, 11)\n",
    "log_coeffs, coeffs, log_results, preds = {}, [], [], []\n",
    "for C in Cs:\n",
    "    model = LogisticRegression(C=C,\n",
    "                               fit_intercept=True,\n",
    "                               random_state=42,\n",
    "                               n_jobs=-1)\n",
    "\n",
    "    pipe = Pipeline([\n",
    "        ('scaler', StandardScaler()),\n",
    "        ('model', model)])\n",
    "    ics = aucs = 0\n",
    "    start = time()\n",
    "    for i, (train_idx, test_idx) in enumerate(cv.split(X), 1):\n",
    "        X_train, y_train, = X.iloc[train_idx], y.label.iloc[train_idx]\n",
    "        pipe.fit(X=X_train, y=y_train)\n",
    "        X_test, y_test = X.iloc[test_idx], y.label.iloc[test_idx]\n",
    "        actuals = y[target].iloc[test_idx]\n",
    "        if len(y_test) < 10 or len(np.unique(y_test)) < 2:\n",
    "            continue\n",
    "        y_score = pipe.predict_proba(X_test)[:, 1]\n",
    "\n",
    "        auc = roc_auc_score(y_score=y_score, y_true=y_test)\n",
    "        actuals = y[target].iloc[test_idx]\n",
    "        ic, pval = spearmanr(y_score, actuals)\n",
    "\n",
    "        preds.append(y_test.to_frame('labels').assign(\n",
    "            predicted=y_score, alpha=alpha, actuals=actuals))\n",
    "        date = y_test.index.get_level_values('date').min()\n",
    "        log_results.append([C, i, date, auc, ic, pval])\n",
    "        coeffs.append(pipe['model'].coef_)\n",
    "        ics += ic\n",
    "        aucs += auc\n",
    "        if i % 100 == 0:\n",
    "            print(f'{time()-start:5.1f} | {i:03} | {ics/i:>7.2%} | {aucs/i:>7.2%}')\n",
    "\n",
    "    log_coeffs[C] = np.mean(coeffs, axis=0)\n",
    "\n",
    "cols = ['C', 'split', 'date', 'auc', 'ic', 'pval']\n",
    "log_results = pd.DataFrame(log_results, columns=cols)\n",
    "log_results.to_hdf('data.h5', 'logistic/metrics')\n",
    "log_coeffs = pd.DataFrame(log_coeffs, index=X.columns)\n",
    "log_coeffs.to_hdf('data.h5', 'logistic/coeffs')\n",
    "pd.concat(preds).to_hdf('data.h5', 'logistic/predictions')"
   ]
  },
  {
   "cell_type": "code",
   "execution_count": 16,
   "metadata": {},
   "outputs": [],
   "source": [
    "log_results = pd.read_hdf('data.h5', 'logistic/metrics')"
   ]
  },
  {
   "cell_type": "code",
   "execution_count": 17,
   "metadata": {},
   "outputs": [
    {
     "name": "stdout",
     "output_type": "stream",
     "text": [
      "<class 'pandas.core.frame.DataFrame'>\n",
      "Int64Index: 9504 entries, 0 to 9503\n",
      "Data columns (total 6 columns):\n",
      "C        9504 non-null float64\n",
      "split    9504 non-null int64\n",
      "date     9504 non-null datetime64[ns]\n",
      "auc      9504 non-null float64\n",
      "ic       9504 non-null float64\n",
      "pval     9504 non-null float64\n",
      "dtypes: datetime64[ns](1), float64(4), int64(1)\n",
      "memory usage: 519.8 KB\n"
     ]
    }
   ],
   "source": [
    "log_results.info()"
   ]
  },
  {
   "cell_type": "code",
   "execution_count": 19,
   "metadata": {},
   "outputs": [
    {
     "data": {
      "text/html": [
       "<div>\n",
       "<style scoped>\n",
       "    .dataframe tbody tr th:only-of-type {\n",
       "        vertical-align: middle;\n",
       "    }\n",
       "\n",
       "    .dataframe tbody tr th {\n",
       "        vertical-align: top;\n",
       "    }\n",
       "\n",
       "    .dataframe thead th {\n",
       "        text-align: right;\n",
       "    }\n",
       "</style>\n",
       "<table border=\"1\" class=\"dataframe\">\n",
       "  <thead>\n",
       "    <tr style=\"text-align: right;\">\n",
       "      <th></th>\n",
       "      <th>count</th>\n",
       "      <th>mean</th>\n",
       "      <th>std</th>\n",
       "      <th>min</th>\n",
       "      <th>25%</th>\n",
       "      <th>50%</th>\n",
       "      <th>75%</th>\n",
       "      <th>max</th>\n",
       "    </tr>\n",
       "    <tr>\n",
       "      <th>C</th>\n",
       "      <th></th>\n",
       "      <th></th>\n",
       "      <th></th>\n",
       "      <th></th>\n",
       "      <th></th>\n",
       "      <th></th>\n",
       "      <th></th>\n",
       "      <th></th>\n",
       "    </tr>\n",
       "  </thead>\n",
       "  <tbody>\n",
       "    <tr>\n",
       "      <th>0.00001</th>\n",
       "      <td>864.0</td>\n",
       "      <td>0.506127</td>\n",
       "      <td>0.105277</td>\n",
       "      <td>0.159722</td>\n",
       "      <td>0.434517</td>\n",
       "      <td>0.508153</td>\n",
       "      <td>0.571062</td>\n",
       "      <td>0.959184</td>\n",
       "    </tr>\n",
       "    <tr>\n",
       "      <th>0.00010</th>\n",
       "      <td>864.0</td>\n",
       "      <td>0.516966</td>\n",
       "      <td>0.105653</td>\n",
       "      <td>0.166667</td>\n",
       "      <td>0.444387</td>\n",
       "      <td>0.516793</td>\n",
       "      <td>0.584687</td>\n",
       "      <td>0.959184</td>\n",
       "    </tr>\n",
       "    <tr>\n",
       "      <th>0.00100</th>\n",
       "      <td>864.0</td>\n",
       "      <td>0.521794</td>\n",
       "      <td>0.104650</td>\n",
       "      <td>0.177083</td>\n",
       "      <td>0.450820</td>\n",
       "      <td>0.521976</td>\n",
       "      <td>0.592433</td>\n",
       "      <td>0.938776</td>\n",
       "    </tr>\n",
       "    <tr>\n",
       "      <th>0.01000</th>\n",
       "      <td>864.0</td>\n",
       "      <td>0.522004</td>\n",
       "      <td>0.103384</td>\n",
       "      <td>0.156250</td>\n",
       "      <td>0.451539</td>\n",
       "      <td>0.521917</td>\n",
       "      <td>0.591937</td>\n",
       "      <td>0.938776</td>\n",
       "    </tr>\n",
       "    <tr>\n",
       "      <th>0.10000</th>\n",
       "      <td>864.0</td>\n",
       "      <td>0.521940</td>\n",
       "      <td>0.102989</td>\n",
       "      <td>0.166667</td>\n",
       "      <td>0.453829</td>\n",
       "      <td>0.523929</td>\n",
       "      <td>0.589457</td>\n",
       "      <td>0.938776</td>\n",
       "    </tr>\n",
       "    <tr>\n",
       "      <th>1.00000</th>\n",
       "      <td>864.0</td>\n",
       "      <td>0.522002</td>\n",
       "      <td>0.103180</td>\n",
       "      <td>0.170139</td>\n",
       "      <td>0.453249</td>\n",
       "      <td>0.524919</td>\n",
       "      <td>0.589324</td>\n",
       "      <td>0.938776</td>\n",
       "    </tr>\n",
       "    <tr>\n",
       "      <th>10.00000</th>\n",
       "      <td>864.0</td>\n",
       "      <td>0.522050</td>\n",
       "      <td>0.102939</td>\n",
       "      <td>0.170139</td>\n",
       "      <td>0.452087</td>\n",
       "      <td>0.524024</td>\n",
       "      <td>0.588632</td>\n",
       "      <td>0.938776</td>\n",
       "    </tr>\n",
       "    <tr>\n",
       "      <th>100.00000</th>\n",
       "      <td>864.0</td>\n",
       "      <td>0.522281</td>\n",
       "      <td>0.102254</td>\n",
       "      <td>0.170139</td>\n",
       "      <td>0.453747</td>\n",
       "      <td>0.522959</td>\n",
       "      <td>0.586897</td>\n",
       "      <td>0.938776</td>\n",
       "    </tr>\n",
       "    <tr>\n",
       "      <th>1000.00000</th>\n",
       "      <td>864.0</td>\n",
       "      <td>0.522668</td>\n",
       "      <td>0.101832</td>\n",
       "      <td>0.170139</td>\n",
       "      <td>0.453834</td>\n",
       "      <td>0.524673</td>\n",
       "      <td>0.587617</td>\n",
       "      <td>0.948980</td>\n",
       "    </tr>\n",
       "    <tr>\n",
       "      <th>10000.00000</th>\n",
       "      <td>864.0</td>\n",
       "      <td>0.522692</td>\n",
       "      <td>0.101754</td>\n",
       "      <td>0.177083</td>\n",
       "      <td>0.453393</td>\n",
       "      <td>0.524448</td>\n",
       "      <td>0.588242</td>\n",
       "      <td>0.948980</td>\n",
       "    </tr>\n",
       "    <tr>\n",
       "      <th>100000.00000</th>\n",
       "      <td>864.0</td>\n",
       "      <td>0.522707</td>\n",
       "      <td>0.101601</td>\n",
       "      <td>0.177083</td>\n",
       "      <td>0.454005</td>\n",
       "      <td>0.523948</td>\n",
       "      <td>0.588029</td>\n",
       "      <td>0.938776</td>\n",
       "    </tr>\n",
       "  </tbody>\n",
       "</table>\n",
       "</div>"
      ],
      "text/plain": [
       "              count      mean       std       min       25%       50%       75%       max\n",
       "C                                                                                        \n",
       "0.00001       864.0  0.506127  0.105277  0.159722  0.434517  0.508153  0.571062  0.959184\n",
       "0.00010       864.0  0.516966  0.105653  0.166667  0.444387  0.516793  0.584687  0.959184\n",
       "0.00100       864.0  0.521794  0.104650  0.177083  0.450820  0.521976  0.592433  0.938776\n",
       "0.01000       864.0  0.522004  0.103384  0.156250  0.451539  0.521917  0.591937  0.938776\n",
       "0.10000       864.0  0.521940  0.102989  0.166667  0.453829  0.523929  0.589457  0.938776\n",
       "1.00000       864.0  0.522002  0.103180  0.170139  0.453249  0.524919  0.589324  0.938776\n",
       "10.00000      864.0  0.522050  0.102939  0.170139  0.452087  0.524024  0.588632  0.938776\n",
       "100.00000     864.0  0.522281  0.102254  0.170139  0.453747  0.522959  0.586897  0.938776\n",
       "1000.00000    864.0  0.522668  0.101832  0.170139  0.453834  0.524673  0.587617  0.948980\n",
       "10000.00000   864.0  0.522692  0.101754  0.177083  0.453393  0.524448  0.588242  0.948980\n",
       "100000.00000  864.0  0.522707  0.101601  0.177083  0.454005  0.523948  0.588029  0.938776"
      ]
     },
     "execution_count": 19,
     "metadata": {},
     "output_type": "execute_result"
    }
   ],
   "source": [
    "log_results.groupby('C').auc.describe()"
   ]
  },
  {
   "cell_type": "code",
   "execution_count": 25,
   "metadata": {},
   "outputs": [],
   "source": [
    "def plot_ic_distribution(df, fname=None, ax=None):\n",
    "    if ax is not None:\n",
    "        sns.distplot(df.ic, ax=ax)    \n",
    "    else:\n",
    "        ax = sns.distplot(df.ic)\n",
    "    mean, median = df.ic.mean(), df.ic.median()\n",
    "    ax.axvline(0, lw=1, ls='--', c='k')\n",
    "    ax.text(x=.05, y=.9, s=f'Mean: {mean:8.2%}\\nMedian: {median:5.2%}',\n",
    "            horizontalalignment='left',\n",
    "            verticalalignment='center',\n",
    "            transform=ax.transAxes)\n",
    "    ax.set_xlabel('Information Coefficient')\n",
    "    plt.tight_layout()\n",
    "    if fname is not None:\n",
    "        plt.savefig(Path('figures', fname), dpi=300) "
   ]
  },
  {
   "cell_type": "code",
   "execution_count": 33,
   "metadata": {},
   "outputs": [
    {
     "data": {
      "image/png": "[encoded data removed]",
      "text/plain": [
       "<Figure size 1080x360 with 2 Axes>"
      ]
     },
     "metadata": {},
     "output_type": "display_data"
    }
   ],
   "source": [
    "fig, axes= plt.subplots(ncols=2, figsize=(15, 5))\n",
    "\n",
    "sns.lineplot(x='C', y='auc', data=log_results, estimator=np.mean, label='Mean', ax=axes[0])\n",
    "by_alpha = log_results.groupby('C').auc.agg(['mean', 'median'])\n",
    "by_alpha['median'].plot(logx=True, ax=axes[0], label='Median', xlim=(10e-6, 10e5))\n",
    "axes[0].axvline(by_alpha['mean'].idxmax(), ls='--', c='k', lw=1, label='Max. Mean')\n",
    "axes[0].axvline(by_alpha['median'].idxmax(), ls='-.', c='k', lw=1, label='Max. Median')\n",
    "axes[0].legend()\n",
    "axes[0].set_xscale('log')\n",
    "axes[0].set_title('Area Under the Curve')\n",
    "\n",
    "plot_ic_distribution(log_results[log_results.C==1e5], ax=axes[1])\n",
    "axes[1].set_title('Information Coefficient')\n",
    "fig.tight_layout()\n",
    "fig.savefig('figures/log_results', dpi=300);"
   ]
  }
 ],
 "metadata": {
  "kernelspec": {
   "display_name": "Python 3",
   "language": "python",
   "name": "python3"
  },
  "language_info": {
   "codemirror_mode": {
    "name": "ipython",
    "version": 3
   },
   "file_extension": ".py",
   "mimetype": "text/x-python",
   "name": "python",
   "nbconvert_exporter": "python",
   "pygments_lexer": "ipython3",
   "version": "3.6.8"
  },
  "toc": {
   "base_numbering": 1,
   "nav_menu": {},
   "number_sections": true,
   "sideBar": true,
   "skip_h1_title": true,
   "title_cell": "Table of Contents",
   "title_sidebar": "Contents",
   "toc_cell": false,
   "toc_position": {},
   "toc_section_display": true,
   "toc_window_display": true
  }
 },
 "nbformat": 4,
 "nbformat_minor": 2
}
