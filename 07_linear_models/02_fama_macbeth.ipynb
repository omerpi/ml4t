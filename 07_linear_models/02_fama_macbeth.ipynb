{
 "cells": [
  {
   "cell_type": "markdown",
   "metadata": {},
   "source": [
    "# How to build a linear factor model"
   ]
  },
  {
   "cell_type": "markdown",
   "metadata": {},
   "source": [
    "Algorithmic trading strategies use linear factor models to quantify the relationship between the return of an asset and the sources of risk that represent the main drivers of these returns. Each factor risk carries a premium, and the total asset return can be expected to correspond to a weighted average of these risk premia."
   ]
  },
  {
   "cell_type": "markdown",
   "metadata": {},
   "source": [
    "There are several practical applications of factor models across the portfolio management process from construction and asset selection to risk management and performance evaluation. The importance of factor models continues to grow as common risk factors are now tradeable:\n",
    "\n",
    "- A summary of the returns of many assets by a much smaller number of factors reduces the amount of data required to estimate the covariance matrix when optimizing a portfolio\n",
    "- An estimate of the exposure of an asset or a portfolio to these factors allows for the management of the resultant risk, for instance by entering suitable hedges when risk factors are themselves traded\n",
    "- A factor model also permits the assessment of the incremental signal content of new alpha factors\n",
    "- A factor model can also help assess whether a manager's performance relative to a benchmark is indeed due to skill in selecting assets and timing the market, or if instead, the performance can be explained by portfolio tilts towards known return drivers that can today be replicated as low-cost, passively managed funds without incurring active management fees"
   ]
  },
  {
   "cell_type": "markdown",
   "metadata": {},
   "source": [
    "## Imports & Settings"
   ]
  },
  {
   "cell_type": "code",
   "execution_count": 1,
   "metadata": {
    "ExecuteTime": {
     "end_time": "2018-10-31T19:06:59.441313Z",
     "start_time": "2018-10-31T19:06:59.436355Z"
    }
   },
   "outputs": [],
   "source": [
    "import pandas as pd\n",
    "import numpy as np\n",
    "import matplotlib.pyplot as plt\n",
    "from statsmodels.api import OLS, add_constant\n",
    "import warnings\n",
    "from linearmodels.asset_pricing import LinearFactorModel"
   ]
  },
  {
   "cell_type": "code",
   "execution_count": 2,
   "metadata": {},
   "outputs": [],
   "source": [
    "# due to https://stackoverflow.com/questions/50394873/import-pandas-datareader-gives-importerror-cannot-import-name-is-list-like\n",
    "# may become obsolete when fixed\n",
    "pd.core.common.is_list_like = pd.api.types.is_list_like\n",
    "import pandas_datareader.data as web"
   ]
  },
  {
   "cell_type": "code",
   "execution_count": 3,
   "metadata": {
    "ExecuteTime": {
     "end_time": "2018-10-31T19:06:59.454106Z",
     "start_time": "2018-10-31T19:06:59.442562Z"
    }
   },
   "outputs": [],
   "source": [
    "warnings.filterwarnings('ignore')\n",
    "plt.style.use('fivethirtyeight')"
   ]
  },
  {
   "cell_type": "markdown",
   "metadata": {},
   "source": [
    "## Get Data"
   ]
  },
  {
   "cell_type": "markdown",
   "metadata": {},
   "source": [
    "Fama and French make updated risk factor and research portfolio data available through their [website](http://mba.tuck.dartmouth.edu/pages/faculty/ken.french/data_library.html), and you can use the `pandas_datareader` package to obtain the data."
   ]
  },
  {
   "cell_type": "markdown",
   "metadata": {},
   "source": [
    "### Risk Factors"
   ]
  },
  {
   "cell_type": "markdown",
   "metadata": {},
   "source": [
    "In particular, we will be using the five Fama—French factors that result from sorting stocks first into three size groups and then into two for each of the remaining three firm-specific factors. \n",
    "\n",
    "Hence, the factors involve three sets of value-weighted portfolios formed as 3 x 2 sorts on size and book-to-market, size and operating profitability, and size and investment. The risk factor values computed as the average returns of the portfolios (PF) as outlined in the following table:"
   ]
  },
  {
   "cell_type": "markdown",
   "metadata": {},
   "source": [
    "| Label | Name                          | Description                                                                                                                                                                               |\n",
    "|-------|-------------------------------|-------------------------------------------------------------------------------------------------------------------------------------------------------------------------------------------|\n",
    "| SMB   | Small Minus Big               | Average return on the nine small stock portfolios minus the average return on the nine big stock portfolios                                                                               |\n",
    "| HML   | High Minus Low                | Average return on the two value portfolios minus the average return on the two growth portfolios                                                                                          |\n",
    "| RMW   | Robust minus Weak             | Average return on the two robust operating profitability portfolios minus the average return on the two weak operating profitability portfolios                                           |\n",
    "| CMA   | Conservative Minus Aggressive | Average return on the two conservative investment portfolios minus the average return on the two aggressive investment portfolios                                                         |\n",
    "| Rm-Rf | Excess return on the market   | Value-weight return of all firms incorporated in the US and listed on the NYSE, AMEX, or NASDAQ at the beginning of month t with 'good' data for t minus the one-month Treasury bill rate |"
   ]
  },
  {
   "cell_type": "markdown",
   "metadata": {},
   "source": [
    "The Fama-French 5 factors are based on the 6 value-weight portfolios formed on size and book-to-market, the 6 value-weight portfolios formed on size and operating profitability, and the 6 value-weight portfolios formed on size and investment."
   ]
  },
  {
   "cell_type": "markdown",
   "metadata": {},
   "source": [
    "We will use returns at a monthly frequency that we obtain for the period 2010 – 2017 as follows:"
   ]
  },
  {
   "cell_type": "code",
   "execution_count": 4,
   "metadata": {
    "ExecuteTime": {
     "end_time": "2018-10-31T19:09:08.844990Z",
     "start_time": "2018-10-31T19:09:08.788545Z"
    }
   },
   "outputs": [
    {
     "name": "stdout",
     "output_type": "stream",
     "text": [
      "<class 'pandas.core.frame.DataFrame'>\n",
      "PeriodIndex: 96 entries, 2010-01 to 2017-12\n",
      "Freq: M\n",
      "Data columns (total 6 columns):\n",
      "Mkt-RF    96 non-null float64\n",
      "SMB       96 non-null float64\n",
      "HML       96 non-null float64\n",
      "RMW       96 non-null float64\n",
      "CMA       96 non-null float64\n",
      "RF        96 non-null float64\n",
      "dtypes: float64(6)\n",
      "memory usage: 5.2 KB\n"
     ]
    }
   ],
   "source": [
    "ff_factor = 'F-F_Research_Data_5_Factors_2x3'\n",
    "ff_factor_data = web.DataReader(ff_factor, 'famafrench', start='2010', end='2017-12')[0]\n",
    "ff_factor_data.info()"
   ]
  },
  {
   "cell_type": "code",
   "execution_count": 5,
   "metadata": {
    "ExecuteTime": {
     "end_time": "2018-10-31T19:09:10.429747Z",
     "start_time": "2018-10-31T19:09:10.409843Z"
    }
   },
   "outputs": [
    {
     "data": {
      "text/html": [
       "<div>\n",
       "<style scoped>\n",
       "    .dataframe tbody tr th:only-of-type {\n",
       "        vertical-align: middle;\n",
       "    }\n",
       "\n",
       "    .dataframe tbody tr th {\n",
       "        vertical-align: top;\n",
       "    }\n",
       "\n",
       "    .dataframe thead th {\n",
       "        text-align: right;\n",
       "    }\n",
       "</style>\n",
       "<table border=\"1\" class=\"dataframe\">\n",
       "  <thead>\n",
       "    <tr style=\"text-align: right;\">\n",
       "      <th></th>\n",
       "      <th>Mkt-RF</th>\n",
       "      <th>SMB</th>\n",
       "      <th>HML</th>\n",
       "      <th>RMW</th>\n",
       "      <th>CMA</th>\n",
       "      <th>RF</th>\n",
       "    </tr>\n",
       "  </thead>\n",
       "  <tbody>\n",
       "    <tr>\n",
       "      <th>count</th>\n",
       "      <td>96.000000</td>\n",
       "      <td>96.000000</td>\n",
       "      <td>96.000000</td>\n",
       "      <td>96.000000</td>\n",
       "      <td>96.000000</td>\n",
       "      <td>96.000000</td>\n",
       "    </tr>\n",
       "    <tr>\n",
       "      <th>mean</th>\n",
       "      <td>1.158437</td>\n",
       "      <td>0.053750</td>\n",
       "      <td>-0.064271</td>\n",
       "      <td>0.147500</td>\n",
       "      <td>0.048958</td>\n",
       "      <td>0.012604</td>\n",
       "    </tr>\n",
       "    <tr>\n",
       "      <th>std</th>\n",
       "      <td>3.579997</td>\n",
       "      <td>2.296318</td>\n",
       "      <td>2.199600</td>\n",
       "      <td>1.550507</td>\n",
       "      <td>1.408522</td>\n",
       "      <td>0.022583</td>\n",
       "    </tr>\n",
       "    <tr>\n",
       "      <th>min</th>\n",
       "      <td>-7.890000</td>\n",
       "      <td>-4.550000</td>\n",
       "      <td>-4.500000</td>\n",
       "      <td>-3.990000</td>\n",
       "      <td>-3.330000</td>\n",
       "      <td>0.000000</td>\n",
       "    </tr>\n",
       "    <tr>\n",
       "      <th>25%</th>\n",
       "      <td>-0.917500</td>\n",
       "      <td>-1.600000</td>\n",
       "      <td>-1.512500</td>\n",
       "      <td>-1.025000</td>\n",
       "      <td>-0.962500</td>\n",
       "      <td>0.000000</td>\n",
       "    </tr>\n",
       "    <tr>\n",
       "      <th>50%</th>\n",
       "      <td>1.235000</td>\n",
       "      <td>0.175000</td>\n",
       "      <td>-0.290000</td>\n",
       "      <td>0.155000</td>\n",
       "      <td>-0.020000</td>\n",
       "      <td>0.000000</td>\n",
       "    </tr>\n",
       "    <tr>\n",
       "      <th>75%</th>\n",
       "      <td>3.190000</td>\n",
       "      <td>1.505000</td>\n",
       "      <td>1.140000</td>\n",
       "      <td>1.145000</td>\n",
       "      <td>0.920000</td>\n",
       "      <td>0.010000</td>\n",
       "    </tr>\n",
       "    <tr>\n",
       "      <th>max</th>\n",
       "      <td>11.350000</td>\n",
       "      <td>6.810000</td>\n",
       "      <td>8.290000</td>\n",
       "      <td>3.480000</td>\n",
       "      <td>3.700000</td>\n",
       "      <td>0.090000</td>\n",
       "    </tr>\n",
       "  </tbody>\n",
       "</table>\n",
       "</div>"
      ],
      "text/plain": [
       "          Mkt-RF        SMB        HML        RMW        CMA         RF\n",
       "count  96.000000  96.000000  96.000000  96.000000  96.000000  96.000000\n",
       "mean    1.158437   0.053750  -0.064271   0.147500   0.048958   0.012604\n",
       "std     3.579997   2.296318   2.199600   1.550507   1.408522   0.022583\n",
       "min    -7.890000  -4.550000  -4.500000  -3.990000  -3.330000   0.000000\n",
       "25%    -0.917500  -1.600000  -1.512500  -1.025000  -0.962500   0.000000\n",
       "50%     1.235000   0.175000  -0.290000   0.155000  -0.020000   0.000000\n",
       "75%     3.190000   1.505000   1.140000   1.145000   0.920000   0.010000\n",
       "max    11.350000   6.810000   8.290000   3.480000   3.700000   0.090000"
      ]
     },
     "execution_count": 5,
     "metadata": {},
     "output_type": "execute_result"
    }
   ],
   "source": [
    "ff_factor_data.describe()"
   ]
  },
  {
   "cell_type": "markdown",
   "metadata": {},
   "source": [
    "### Portfolios"
   ]
  },
  {
   "cell_type": "markdown",
   "metadata": {},
   "source": [
    "Fama and French also make available numerous portfolios that we can illustrate the estimation of the factor exposures, as well as the value of the risk premia available in the market for a given time period. We will use a panel of the 17 industry portfolios at a monthly frequency. \n",
    "\n",
    "We will subtract the risk-free rate from the returns because the factor model works with excess returns:"
   ]
  },
  {
   "cell_type": "code",
   "execution_count": 6,
   "metadata": {
    "ExecuteTime": {
     "end_time": "2018-10-31T19:10:02.230357Z",
     "start_time": "2018-10-31T19:10:01.966839Z"
    }
   },
   "outputs": [
    {
     "name": "stdout",
     "output_type": "stream",
     "text": [
      "<class 'pandas.core.frame.DataFrame'>\n",
      "PeriodIndex: 96 entries, 2010-01 to 2017-12\n",
      "Freq: M\n",
      "Data columns (total 17 columns):\n",
      "Food     96 non-null float64\n",
      "Mines    96 non-null float64\n",
      "Oil      96 non-null float64\n",
      "Clths    96 non-null float64\n",
      "Durbl    96 non-null float64\n",
      "Chems    96 non-null float64\n",
      "Cnsum    96 non-null float64\n",
      "Cnstr    96 non-null float64\n",
      "Steel    96 non-null float64\n",
      "FabPr    96 non-null float64\n",
      "Machn    96 non-null float64\n",
      "Cars     96 non-null float64\n",
      "Trans    96 non-null float64\n",
      "Utils    96 non-null float64\n",
      "Rtail    96 non-null float64\n",
      "Finan    96 non-null float64\n",
      "Other    96 non-null float64\n",
      "dtypes: float64(17)\n",
      "memory usage: 13.5 KB\n"
     ]
    }
   ],
   "source": [
    "ff_portfolio = '17_Industry_Portfolios'\n",
    "ff_portfolio_data = web.DataReader(ff_portfolio, 'famafrench', start='2010', end='2017-12')[0]\n",
    "ff_portfolio_data = ff_portfolio_data.sub(ff_factor_data.RF, axis=0)\n",
    "ff_portfolio_data.info()"
   ]
  },
  {
   "cell_type": "code",
   "execution_count": 7,
   "metadata": {
    "ExecuteTime": {
     "end_time": "2018-10-31T19:10:02.874556Z",
     "start_time": "2018-10-31T19:10:02.814899Z"
    }
   },
   "outputs": [
    {
     "data": {
      "text/html": [
       "<div>\n",
       "<style scoped>\n",
       "    .dataframe tbody tr th:only-of-type {\n",
       "        vertical-align: middle;\n",
       "    }\n",
       "\n",
       "    .dataframe tbody tr th {\n",
       "        vertical-align: top;\n",
       "    }\n",
       "\n",
       "    .dataframe thead th {\n",
       "        text-align: right;\n",
       "    }\n",
       "</style>\n",
       "<table border=\"1\" class=\"dataframe\">\n",
       "  <thead>\n",
       "    <tr style=\"text-align: right;\">\n",
       "      <th></th>\n",
       "      <th>Food</th>\n",
       "      <th>Mines</th>\n",
       "      <th>Oil</th>\n",
       "      <th>Clths</th>\n",
       "      <th>Durbl</th>\n",
       "      <th>Chems</th>\n",
       "      <th>Cnsum</th>\n",
       "      <th>Cnstr</th>\n",
       "      <th>Steel</th>\n",
       "      <th>FabPr</th>\n",
       "      <th>Machn</th>\n",
       "      <th>Cars</th>\n",
       "      <th>Trans</th>\n",
       "      <th>Utils</th>\n",
       "      <th>Rtail</th>\n",
       "      <th>Finan</th>\n",
       "      <th>Other</th>\n",
       "    </tr>\n",
       "  </thead>\n",
       "  <tbody>\n",
       "    <tr>\n",
       "      <th>count</th>\n",
       "      <td>96.000000</td>\n",
       "      <td>96.000000</td>\n",
       "      <td>96.000000</td>\n",
       "      <td>96.000000</td>\n",
       "      <td>96.000000</td>\n",
       "      <td>96.000000</td>\n",
       "      <td>96.000000</td>\n",
       "      <td>96.000000</td>\n",
       "      <td>96.000000</td>\n",
       "      <td>96.000000</td>\n",
       "      <td>96.000000</td>\n",
       "      <td>96.000000</td>\n",
       "      <td>96.000000</td>\n",
       "      <td>96.000000</td>\n",
       "      <td>96.000000</td>\n",
       "      <td>96.000000</td>\n",
       "      <td>96.000000</td>\n",
       "    </tr>\n",
       "    <tr>\n",
       "      <th>mean</th>\n",
       "      <td>1.045625</td>\n",
       "      <td>0.203229</td>\n",
       "      <td>0.547917</td>\n",
       "      <td>1.396979</td>\n",
       "      <td>1.154896</td>\n",
       "      <td>1.303438</td>\n",
       "      <td>1.136250</td>\n",
       "      <td>1.731250</td>\n",
       "      <td>0.555625</td>\n",
       "      <td>1.351042</td>\n",
       "      <td>1.227604</td>\n",
       "      <td>1.278854</td>\n",
       "      <td>1.465521</td>\n",
       "      <td>0.891250</td>\n",
       "      <td>1.234375</td>\n",
       "      <td>1.243646</td>\n",
       "      <td>1.281979</td>\n",
       "    </tr>\n",
       "    <tr>\n",
       "      <th>std</th>\n",
       "      <td>2.795857</td>\n",
       "      <td>7.902683</td>\n",
       "      <td>5.577552</td>\n",
       "      <td>5.025167</td>\n",
       "      <td>5.137095</td>\n",
       "      <td>5.594722</td>\n",
       "      <td>3.174283</td>\n",
       "      <td>5.246562</td>\n",
       "      <td>7.389824</td>\n",
       "      <td>4.694688</td>\n",
       "      <td>4.811242</td>\n",
       "      <td>5.718887</td>\n",
       "      <td>4.151203</td>\n",
       "      <td>3.237306</td>\n",
       "      <td>3.508655</td>\n",
       "      <td>4.808350</td>\n",
       "      <td>3.710443</td>\n",
       "    </tr>\n",
       "    <tr>\n",
       "      <th>min</th>\n",
       "      <td>-5.170000</td>\n",
       "      <td>-24.380000</td>\n",
       "      <td>-12.010000</td>\n",
       "      <td>-10.000000</td>\n",
       "      <td>-13.210000</td>\n",
       "      <td>-17.390000</td>\n",
       "      <td>-7.300000</td>\n",
       "      <td>-13.960000</td>\n",
       "      <td>-20.490000</td>\n",
       "      <td>-11.960000</td>\n",
       "      <td>-9.080000</td>\n",
       "      <td>-11.650000</td>\n",
       "      <td>-8.560000</td>\n",
       "      <td>-6.990000</td>\n",
       "      <td>-9.180000</td>\n",
       "      <td>-11.020000</td>\n",
       "      <td>-7.920000</td>\n",
       "    </tr>\n",
       "    <tr>\n",
       "      <th>25%</th>\n",
       "      <td>-0.785000</td>\n",
       "      <td>-5.832500</td>\n",
       "      <td>-3.167500</td>\n",
       "      <td>-1.865000</td>\n",
       "      <td>-2.017500</td>\n",
       "      <td>-1.445000</td>\n",
       "      <td>-0.920000</td>\n",
       "      <td>-2.462500</td>\n",
       "      <td>-4.410000</td>\n",
       "      <td>-1.447500</td>\n",
       "      <td>-2.047500</td>\n",
       "      <td>-1.245000</td>\n",
       "      <td>-0.880000</td>\n",
       "      <td>-0.745000</td>\n",
       "      <td>-0.962500</td>\n",
       "      <td>-1.447500</td>\n",
       "      <td>-1.067500</td>\n",
       "    </tr>\n",
       "    <tr>\n",
       "      <th>50%</th>\n",
       "      <td>0.930000</td>\n",
       "      <td>-0.415000</td>\n",
       "      <td>1.040000</td>\n",
       "      <td>1.160000</td>\n",
       "      <td>1.205000</td>\n",
       "      <td>1.435000</td>\n",
       "      <td>1.470000</td>\n",
       "      <td>2.190000</td>\n",
       "      <td>0.660000</td>\n",
       "      <td>1.485000</td>\n",
       "      <td>1.545000</td>\n",
       "      <td>0.645000</td>\n",
       "      <td>1.505000</td>\n",
       "      <td>1.215000</td>\n",
       "      <td>0.880000</td>\n",
       "      <td>1.940000</td>\n",
       "      <td>1.575000</td>\n",
       "    </tr>\n",
       "    <tr>\n",
       "      <th>75%</th>\n",
       "      <td>3.187500</td>\n",
       "      <td>5.707500</td>\n",
       "      <td>3.915000</td>\n",
       "      <td>3.857500</td>\n",
       "      <td>4.315000</td>\n",
       "      <td>4.442500</td>\n",
       "      <td>3.317500</td>\n",
       "      <td>5.390000</td>\n",
       "      <td>4.220000</td>\n",
       "      <td>3.875000</td>\n",
       "      <td>4.657500</td>\n",
       "      <td>4.802500</td>\n",
       "      <td>4.227500</td>\n",
       "      <td>2.965000</td>\n",
       "      <td>3.355000</td>\n",
       "      <td>4.052500</td>\n",
       "      <td>3.517500</td>\n",
       "    </tr>\n",
       "    <tr>\n",
       "      <th>max</th>\n",
       "      <td>6.670000</td>\n",
       "      <td>21.920000</td>\n",
       "      <td>16.300000</td>\n",
       "      <td>17.200000</td>\n",
       "      <td>16.580000</td>\n",
       "      <td>18.370000</td>\n",
       "      <td>8.290000</td>\n",
       "      <td>15.550000</td>\n",
       "      <td>21.350000</td>\n",
       "      <td>17.660000</td>\n",
       "      <td>14.650000</td>\n",
       "      <td>20.860000</td>\n",
       "      <td>13.160000</td>\n",
       "      <td>7.900000</td>\n",
       "      <td>12.360000</td>\n",
       "      <td>13.430000</td>\n",
       "      <td>10.790000</td>\n",
       "    </tr>\n",
       "  </tbody>\n",
       "</table>\n",
       "</div>"
      ],
      "text/plain": [
       "           Food       Mines      Oil        Clths      Durbl      Chems  \\\n",
       "count  96.000000  96.000000  96.000000  96.000000  96.000000  96.000000   \n",
       "mean    1.045625   0.203229   0.547917   1.396979   1.154896   1.303438   \n",
       "std     2.795857   7.902683   5.577552   5.025167   5.137095   5.594722   \n",
       "min    -5.170000 -24.380000 -12.010000 -10.000000 -13.210000 -17.390000   \n",
       "25%    -0.785000  -5.832500  -3.167500  -1.865000  -2.017500  -1.445000   \n",
       "50%     0.930000  -0.415000   1.040000   1.160000   1.205000   1.435000   \n",
       "75%     3.187500   5.707500   3.915000   3.857500   4.315000   4.442500   \n",
       "max     6.670000  21.920000  16.300000  17.200000  16.580000  18.370000   \n",
       "\n",
       "           Cnsum      Cnstr      Steel      FabPr      Machn      Cars   \\\n",
       "count  96.000000  96.000000  96.000000  96.000000  96.000000  96.000000   \n",
       "mean    1.136250   1.731250   0.555625   1.351042   1.227604   1.278854   \n",
       "std     3.174283   5.246562   7.389824   4.694688   4.811242   5.718887   \n",
       "min    -7.300000 -13.960000 -20.490000 -11.960000  -9.080000 -11.650000   \n",
       "25%    -0.920000  -2.462500  -4.410000  -1.447500  -2.047500  -1.245000   \n",
       "50%     1.470000   2.190000   0.660000   1.485000   1.545000   0.645000   \n",
       "75%     3.317500   5.390000   4.220000   3.875000   4.657500   4.802500   \n",
       "max     8.290000  15.550000  21.350000  17.660000  14.650000  20.860000   \n",
       "\n",
       "           Trans      Utils      Rtail      Finan      Other  \n",
       "count  96.000000  96.000000  96.000000  96.000000  96.000000  \n",
       "mean    1.465521   0.891250   1.234375   1.243646   1.281979  \n",
       "std     4.151203   3.237306   3.508655   4.808350   3.710443  \n",
       "min    -8.560000  -6.990000  -9.180000 -11.020000  -7.920000  \n",
       "25%    -0.880000  -0.745000  -0.962500  -1.447500  -1.067500  \n",
       "50%     1.505000   1.215000   0.880000   1.940000   1.575000  \n",
       "75%     4.227500   2.965000   3.355000   4.052500   3.517500  \n",
       "max    13.160000   7.900000  12.360000  13.430000  10.790000  "
      ]
     },
     "execution_count": 7,
     "metadata": {},
     "output_type": "execute_result"
    }
   ],
   "source": [
    "ff_portfolio_data.describe()"
   ]
  },
  {
   "cell_type": "markdown",
   "metadata": {},
   "source": [
    "### Equity Data"
   ]
  },
  {
   "cell_type": "code",
   "execution_count": 8,
   "metadata": {
    "ExecuteTime": {
     "end_time": "2018-10-31T19:14:10.382617Z",
     "start_time": "2018-10-31T19:14:06.845523Z"
    }
   },
   "outputs": [],
   "source": [
    "with pd.HDFStore('../data/assets.h5') as store:\n",
    "    prices = store['/quandl/wiki/prices'].adj_close.unstack().loc['2010':'2017']\n",
    "    equities = store['/us_equities/stocks'].drop_duplicates()"
   ]
  },
  {
   "cell_type": "code",
   "execution_count": 9,
   "metadata": {
    "ExecuteTime": {
     "end_time": "2018-10-31T19:14:10.430544Z",
     "start_time": "2018-10-31T19:14:10.383956Z"
    }
   },
   "outputs": [],
   "source": [
    "sectors = equities.filter(prices.columns, axis=0).sector.to_dict()\n",
    "prices = prices.filter(sectors.keys()).dropna(how='all', axis=1)"
   ]
  },
  {
   "cell_type": "code",
   "execution_count": 10,
   "metadata": {
    "ExecuteTime": {
     "end_time": "2018-10-31T19:14:10.494861Z",
     "start_time": "2018-10-31T19:14:10.431531Z"
    }
   },
   "outputs": [
    {
     "name": "stdout",
     "output_type": "stream",
     "text": [
      "<class 'pandas.core.frame.DataFrame'>\n",
      "PeriodIndex: 95 entries, 2010-02 to 2017-12\n",
      "Freq: M\n",
      "Columns: 1893 entries, A to ZUMZ\n",
      "dtypes: float64(1893)\n",
      "memory usage: 1.4 MB\n"
     ]
    }
   ],
   "source": [
    "returns = prices.resample('M').last().pct_change().mul(100).to_period('M')\n",
    "returns = returns.dropna(how='all').dropna(axis=1)\n",
    "returns.info()"
   ]
  },
  {
   "cell_type": "markdown",
   "metadata": {},
   "source": [
    "### Align data"
   ]
  },
  {
   "cell_type": "code",
   "execution_count": 11,
   "metadata": {
    "ExecuteTime": {
     "end_time": "2018-10-31T19:15:04.345235Z",
     "start_time": "2018-10-31T19:15:04.341908Z"
    }
   },
   "outputs": [],
   "source": [
    "ff_factor_data = ff_factor_data.loc[returns.index]\n",
    "ff_portfolio_data = ff_portfolio_data.loc[returns.index]"
   ]
  },
  {
   "cell_type": "code",
   "execution_count": 12,
   "metadata": {
    "ExecuteTime": {
     "end_time": "2018-10-31T19:15:11.542289Z",
     "start_time": "2018-10-31T19:15:11.525921Z"
    }
   },
   "outputs": [
    {
     "data": {
      "text/html": [
       "<div>\n",
       "<style scoped>\n",
       "    .dataframe tbody tr th:only-of-type {\n",
       "        vertical-align: middle;\n",
       "    }\n",
       "\n",
       "    .dataframe tbody tr th {\n",
       "        vertical-align: top;\n",
       "    }\n",
       "\n",
       "    .dataframe thead th {\n",
       "        text-align: right;\n",
       "    }\n",
       "</style>\n",
       "<table border=\"1\" class=\"dataframe\">\n",
       "  <thead>\n",
       "    <tr style=\"text-align: right;\">\n",
       "      <th></th>\n",
       "      <th>Mkt-RF</th>\n",
       "      <th>SMB</th>\n",
       "      <th>HML</th>\n",
       "      <th>RMW</th>\n",
       "      <th>CMA</th>\n",
       "      <th>RF</th>\n",
       "    </tr>\n",
       "  </thead>\n",
       "  <tbody>\n",
       "    <tr>\n",
       "      <th>count</th>\n",
       "      <td>95.000000</td>\n",
       "      <td>95.000000</td>\n",
       "      <td>95.000000</td>\n",
       "      <td>95.000000</td>\n",
       "      <td>95.000000</td>\n",
       "      <td>95.000000</td>\n",
       "    </tr>\n",
       "    <tr>\n",
       "      <th>mean</th>\n",
       "      <td>1.206000</td>\n",
       "      <td>0.051263</td>\n",
       "      <td>-0.068105</td>\n",
       "      <td>0.163684</td>\n",
       "      <td>0.044632</td>\n",
       "      <td>0.012737</td>\n",
       "    </tr>\n",
       "    <tr>\n",
       "      <th>std</th>\n",
       "      <td>3.568367</td>\n",
       "      <td>2.308370</td>\n",
       "      <td>2.210947</td>\n",
       "      <td>1.550559</td>\n",
       "      <td>1.415353</td>\n",
       "      <td>0.022665</td>\n",
       "    </tr>\n",
       "    <tr>\n",
       "      <th>min</th>\n",
       "      <td>-7.890000</td>\n",
       "      <td>-4.550000</td>\n",
       "      <td>-4.500000</td>\n",
       "      <td>-3.990000</td>\n",
       "      <td>-3.330000</td>\n",
       "      <td>0.000000</td>\n",
       "    </tr>\n",
       "    <tr>\n",
       "      <th>25%</th>\n",
       "      <td>-0.565000</td>\n",
       "      <td>-1.610000</td>\n",
       "      <td>-1.535000</td>\n",
       "      <td>-0.950000</td>\n",
       "      <td>-0.975000</td>\n",
       "      <td>0.000000</td>\n",
       "    </tr>\n",
       "    <tr>\n",
       "      <th>50%</th>\n",
       "      <td>1.290000</td>\n",
       "      <td>0.150000</td>\n",
       "      <td>-0.300000</td>\n",
       "      <td>0.170000</td>\n",
       "      <td>-0.030000</td>\n",
       "      <td>0.000000</td>\n",
       "    </tr>\n",
       "    <tr>\n",
       "      <th>75%</th>\n",
       "      <td>3.260000</td>\n",
       "      <td>1.550000</td>\n",
       "      <td>1.140000</td>\n",
       "      <td>1.160000</td>\n",
       "      <td>0.930000</td>\n",
       "      <td>0.010000</td>\n",
       "    </tr>\n",
       "    <tr>\n",
       "      <th>max</th>\n",
       "      <td>11.350000</td>\n",
       "      <td>6.810000</td>\n",
       "      <td>8.290000</td>\n",
       "      <td>3.480000</td>\n",
       "      <td>3.700000</td>\n",
       "      <td>0.090000</td>\n",
       "    </tr>\n",
       "  </tbody>\n",
       "</table>\n",
       "</div>"
      ],
      "text/plain": [
       "          Mkt-RF        SMB        HML        RMW        CMA         RF\n",
       "count  95.000000  95.000000  95.000000  95.000000  95.000000  95.000000\n",
       "mean    1.206000   0.051263  -0.068105   0.163684   0.044632   0.012737\n",
       "std     3.568367   2.308370   2.210947   1.550559   1.415353   0.022665\n",
       "min    -7.890000  -4.550000  -4.500000  -3.990000  -3.330000   0.000000\n",
       "25%    -0.565000  -1.610000  -1.535000  -0.950000  -0.975000   0.000000\n",
       "50%     1.290000   0.150000  -0.300000   0.170000  -0.030000   0.000000\n",
       "75%     3.260000   1.550000   1.140000   1.160000   0.930000   0.010000\n",
       "max    11.350000   6.810000   8.290000   3.480000   3.700000   0.090000"
      ]
     },
     "execution_count": 12,
     "metadata": {},
     "output_type": "execute_result"
    }
   ],
   "source": [
    "ff_factor_data.describe()"
   ]
  },
  {
   "cell_type": "markdown",
   "metadata": {},
   "source": [
    "### Compute excess Returns"
   ]
  },
  {
   "cell_type": "code",
   "execution_count": 13,
   "metadata": {
    "ExecuteTime": {
     "end_time": "2018-10-31T19:15:13.859868Z",
     "start_time": "2018-10-31T19:15:13.813456Z"
    }
   },
   "outputs": [
    {
     "name": "stdout",
     "output_type": "stream",
     "text": [
      "<class 'pandas.core.frame.DataFrame'>\n",
      "PeriodIndex: 95 entries, 2010-02 to 2017-12\n",
      "Freq: M\n",
      "Columns: 1893 entries, A to ZUMZ\n",
      "dtypes: float64(1893)\n",
      "memory usage: 1.4 MB\n"
     ]
    }
   ],
   "source": [
    "excess_returns = returns.sub(ff_factor_data.RF, axis=0)\n",
    "excess_returns.info()"
   ]
  },
  {
   "cell_type": "code",
   "execution_count": 14,
   "metadata": {
    "ExecuteTime": {
     "end_time": "2018-10-31T19:15:13.969603Z",
     "start_time": "2018-10-31T19:15:13.948025Z"
    }
   },
   "outputs": [],
   "source": [
    "excess_returns = excess_returns.clip(lower=np.percentile(excess_returns, 1),\n",
    "                                     upper=np.percentile(excess_returns, 99))"
   ]
  },
  {
   "cell_type": "markdown",
   "metadata": {},
   "source": [
    "## Fama-Macbeth Regression"
   ]
  },
  {
   "cell_type": "markdown",
   "metadata": {},
   "source": [
    "Given data on risk factors and portfolio returns, it is useful to estimate the portfolio's exposure, that is, how much the risk factors drive portfolio returns, as well as how much the exposure to a given factor is worth, that is, the what market's risk factor premium is. The risk premium then permits to estimate the return for any portfolio provided the factor exposure is known or can be assumed."
   ]
  },
  {
   "cell_type": "code",
   "execution_count": 15,
   "metadata": {
    "ExecuteTime": {
     "end_time": "2018-10-31T19:15:14.246452Z",
     "start_time": "2018-10-31T19:15:14.236339Z"
    }
   },
   "outputs": [
    {
     "name": "stdout",
     "output_type": "stream",
     "text": [
      "<class 'pandas.core.frame.DataFrame'>\n",
      "PeriodIndex: 95 entries, 2010-02 to 2017-12\n",
      "Freq: M\n",
      "Data columns (total 17 columns):\n",
      "Food     95 non-null float64\n",
      "Mines    95 non-null float64\n",
      "Oil      95 non-null float64\n",
      "Clths    95 non-null float64\n",
      "Durbl    95 non-null float64\n",
      "Chems    95 non-null float64\n",
      "Cnsum    95 non-null float64\n",
      "Cnstr    95 non-null float64\n",
      "Steel    95 non-null float64\n",
      "FabPr    95 non-null float64\n",
      "Machn    95 non-null float64\n",
      "Cars     95 non-null float64\n",
      "Trans    95 non-null float64\n",
      "Utils    95 non-null float64\n",
      "Rtail    95 non-null float64\n",
      "Finan    95 non-null float64\n",
      "Other    95 non-null float64\n",
      "dtypes: float64(17)\n",
      "memory usage: 13.4 KB\n"
     ]
    }
   ],
   "source": [
    "ff_portfolio_data.info()"
   ]
  },
  {
   "cell_type": "code",
   "execution_count": 16,
   "metadata": {
    "ExecuteTime": {
     "end_time": "2018-10-31T19:15:14.402622Z",
     "start_time": "2018-10-31T19:15:14.394908Z"
    }
   },
   "outputs": [
    {
     "name": "stdout",
     "output_type": "stream",
     "text": [
      "<class 'pandas.core.frame.DataFrame'>\n",
      "PeriodIndex: 95 entries, 2010-02 to 2017-12\n",
      "Freq: M\n",
      "Data columns (total 6 columns):\n",
      "Mkt-RF    95 non-null float64\n",
      "SMB       95 non-null float64\n",
      "HML       95 non-null float64\n",
      "RMW       95 non-null float64\n",
      "CMA       95 non-null float64\n",
      "RF        95 non-null float64\n",
      "dtypes: float64(6)\n",
      "memory usage: 5.2 KB\n"
     ]
    }
   ],
   "source": [
    "ff_factor_data.info()"
   ]
  },
  {
   "cell_type": "markdown",
   "metadata": {},
   "source": [
    "To address the inference problem caused by the correlation of the residuals, Fama and MacBeth proposed a two-step methodology for a cross-sectional regression of returns on factors. The two-stage Fama—Macbeth regression is designed to estimate the premium rewarded for the exposure to a particular risk factor by the market. The two stages consist of:\n",
    "\n",
    "- First stage: N time-series regression, one for each asset or portfolio, of its excess returns on the factors to estimate the factor loadings.\n",
    "\n",
    "- Second stage: T cross-sectional regression, one for each time period, to estimate the risk premium.\n",
    "\n",
    "See corresponding section in Chapter 7 of [Machine Learning for Trading](https://www.amazon.com/Hands-Machine-Learning-Algorithmic-Trading-ebook/dp/B07JLFH7C5/ref=sr_1_2?ie=UTF8&qid=1548455634&sr=8-2&keywords=machine+learning+algorithmic+trading) for details."
   ]
  },
  {
   "cell_type": "markdown",
   "metadata": {},
   "source": [
    "Now we can compute the factor risk premia as the time average and get t-statistic to assess their individual significance, using the assumption that the risk premia estimates are independent over time.\n",
    "\n",
    "If we had a very large and representative data sample on traded risk factors we could use the sample mean as a risk premium estimate. However, we typically do not have a sufficiently long history to and the margin of error around the sample mean could be quite large. \n",
    "\n",
    "The Fama—Macbeth methodology leverages the covariance of the factors with other assets to determine the factor premia. The second moment of asset returns is easier to estimate than the first moment, and obtaining more granular data improves estimation considerably, which is not true of mean estimation."
   ]
  },
  {
   "cell_type": "markdown",
   "metadata": {},
   "source": [
    "### Step 1: Factor Exposures"
   ]
  },
  {
   "cell_type": "markdown",
   "metadata": {},
   "source": [
    "We can implement the first stage to obtain the 17 factor loading estimates as follows:"
   ]
  },
  {
   "cell_type": "code",
   "execution_count": 17,
   "metadata": {
    "ExecuteTime": {
     "end_time": "2018-10-31T19:15:14.765388Z",
     "start_time": "2018-10-31T19:15:14.700127Z"
    }
   },
   "outputs": [],
   "source": [
    "betas = []\n",
    "for industry in ff_portfolio_data:\n",
    "    step1 = OLS(endog=ff_portfolio_data.loc[ff_factor_data.index, industry], \n",
    "                exog=add_constant(ff_factor_data)).fit()\n",
    "    betas.append(step1.params.drop('const'))"
   ]
  },
  {
   "cell_type": "code",
   "execution_count": 18,
   "metadata": {
    "ExecuteTime": {
     "end_time": "2018-10-31T19:15:14.854849Z",
     "start_time": "2018-10-31T19:15:14.842975Z"
    }
   },
   "outputs": [
    {
     "name": "stdout",
     "output_type": "stream",
     "text": [
      "<class 'pandas.core.frame.DataFrame'>\n",
      "Index: 17 entries, Food  to Other\n",
      "Data columns (total 6 columns):\n",
      "Mkt-RF    17 non-null float64\n",
      "SMB       17 non-null float64\n",
      "HML       17 non-null float64\n",
      "RMW       17 non-null float64\n",
      "CMA       17 non-null float64\n",
      "RF        17 non-null float64\n",
      "dtypes: float64(6)\n",
      "memory usage: 1.6+ KB\n"
     ]
    }
   ],
   "source": [
    "betas = pd.DataFrame(betas, \n",
    "                     columns=ff_factor_data.columns, \n",
    "                     index=ff_portfolio_data.columns)\n",
    "betas.info()"
   ]
  },
  {
   "cell_type": "markdown",
   "metadata": {},
   "source": [
    "### Step 2: Risk Premia"
   ]
  },
  {
   "cell_type": "markdown",
   "metadata": {},
   "source": [
    "For the second stage, we run 96 regressions of the period returns for the cross section of portfolios on the factor loadings"
   ]
  },
  {
   "cell_type": "code",
   "execution_count": 19,
   "metadata": {
    "ExecuteTime": {
     "end_time": "2018-10-31T19:15:15.236842Z",
     "start_time": "2018-10-31T19:15:15.125640Z"
    }
   },
   "outputs": [],
   "source": [
    "lambdas = []\n",
    "for period in ff_portfolio_data.index:\n",
    "    step2 = OLS(endog=ff_portfolio_data.loc[period, betas.index], \n",
    "                exog=betas).fit()\n",
    "    lambdas.append(step2.params)"
   ]
  },
  {
   "cell_type": "code",
   "execution_count": 20,
   "metadata": {
    "ExecuteTime": {
     "end_time": "2018-10-31T19:15:15.287100Z",
     "start_time": "2018-10-31T19:15:15.272535Z"
    }
   },
   "outputs": [
    {
     "name": "stdout",
     "output_type": "stream",
     "text": [
      "<class 'pandas.core.frame.DataFrame'>\n",
      "PeriodIndex: 95 entries, 2010-02 to 2017-12\n",
      "Freq: M\n",
      "Data columns (total 6 columns):\n",
      "Mkt-RF    95 non-null float64\n",
      "SMB       95 non-null float64\n",
      "HML       95 non-null float64\n",
      "RMW       95 non-null float64\n",
      "CMA       95 non-null float64\n",
      "RF        95 non-null float64\n",
      "dtypes: float64(6)\n",
      "memory usage: 7.7 KB\n"
     ]
    }
   ],
   "source": [
    "lambdas = pd.DataFrame(lambdas, \n",
    "                       index=ff_portfolio_data.index,\n",
    "                       columns=betas.columns.tolist())\n",
    "lambdas.info()"
   ]
  },
  {
   "cell_type": "code",
   "execution_count": 21,
   "metadata": {
    "ExecuteTime": {
     "end_time": "2018-10-31T19:15:15.431714Z",
     "start_time": "2018-10-31T19:15:15.420391Z"
    }
   },
   "outputs": [
    {
     "data": {
      "text/plain": [
       "Mkt-RF    1.243632\n",
       "SMB      -0.004863\n",
       "HML      -0.688167\n",
       "RMW      -0.237317\n",
       "CMA      -0.318075\n",
       "RF       -0.013280\n",
       "dtype: float64"
      ]
     },
     "execution_count": 21,
     "metadata": {},
     "output_type": "execute_result"
    }
   ],
   "source": [
    "lambdas.mean()"
   ]
  },
  {
   "cell_type": "code",
   "execution_count": 22,
   "metadata": {
    "ExecuteTime": {
     "end_time": "2018-10-31T19:15:17.688273Z",
     "start_time": "2018-10-31T19:15:17.683712Z"
    }
   },
   "outputs": [
    {
     "data": {
      "text/plain": [
       "Mkt-RF    0.346896\n",
       "SMB      -0.001247\n",
       "HML      -0.197148\n",
       "RMW      -0.078624\n",
       "CMA      -0.109888\n",
       "RF       -0.159489\n",
       "dtype: float64"
      ]
     },
     "execution_count": 22,
     "metadata": {},
     "output_type": "execute_result"
    }
   ],
   "source": [
    "t = lambdas.mean().div(lambdas.std())\n",
    "t"
   ]
  },
  {
   "cell_type": "markdown",
   "metadata": {},
   "source": [
    "#### Results"
   ]
  },
  {
   "cell_type": "code",
   "execution_count": 23,
   "metadata": {
    "ExecuteTime": {
     "end_time": "2018-10-31T19:15:18.393596Z",
     "start_time": "2018-10-31T19:15:17.963791Z"
    },
    "scrolled": true
   },
   "outputs": [
    {
     "data": {
      "image/png": "[encoded data removed]",
      "text/plain": [
       "<Figure size 1008x720 with 2 Axes>"
      ]
     },
     "metadata": {},
     "output_type": "display_data"
    }
   ],
   "source": [
    "ax1 = plt.subplot2grid((1, 3), (0, 0))\n",
    "ax2 = plt.subplot2grid((1, 3), (0, 1), colspan=2)\n",
    "lambdas.mean().plot.barh(ax=ax1)\n",
    "lambdas.rolling(60).mean().plot(lw=2, figsize=(14,10), sharey=True, ax=ax2);"
   ]
  },
  {
   "cell_type": "code",
   "execution_count": 24,
   "metadata": {
    "ExecuteTime": {
     "end_time": "2018-10-31T19:15:19.182873Z",
     "start_time": "2018-10-31T19:15:18.395007Z"
    }
   },
   "outputs": [
    {
     "data": {
      "image/png": "[encoded data removed]",
      "text/plain": [
       "<Figure size 1008x720 with 6 Axes>"
      ]
     },
     "metadata": {},
     "output_type": "display_data"
    }
   ],
   "source": [
    "lambdas.rolling(60).mean().plot(lw=2, figsize=(14,10), subplots=True,sharey=True);"
   ]
  },
  {
   "cell_type": "markdown",
   "metadata": {},
   "source": [
    "## Fama-Macbeth with the LinearModels library"
   ]
  },
  {
   "cell_type": "markdown",
   "metadata": {},
   "source": [
    "The linear_models library extends statsmodels with various models for panel data and also implements the two-stage Fama—MacBeth procedure:"
   ]
  },
  {
   "cell_type": "code",
   "execution_count": 25,
   "metadata": {
    "ExecuteTime": {
     "end_time": "2018-10-31T19:15:52.081027Z",
     "start_time": "2018-10-31T19:15:52.064888Z"
    }
   },
   "outputs": [
    {
     "name": "stdout",
     "output_type": "stream",
     "text": [
      "                      LinearFactorModel Estimation Summary                      \n",
      "================================================================================\n",
      "No. Test Portfolios:                 17   R-squared:                      0.6944\n",
      "No. Factors:                          6   J-statistic:                    19.501\n",
      "No. Observations:                    95   P-value                         0.0527\n",
      "Date:                  Thu, Nov 14 2019   Distribution:                 chi2(11)\n",
      "Time:                          19:34:04                                         \n",
      "Cov. Estimator:                  robust                                         \n",
      "                                                                                \n",
      "                            Risk Premia Estimates                             \n",
      "==============================================================================\n",
      "            Parameter  Std. Err.     T-stat    P-value    Lower CI    Upper CI\n",
      "------------------------------------------------------------------------------\n",
      "Mkt-RF         1.2436     0.3928     3.1662     0.0015      0.4738      2.0135\n",
      "SMB           -0.0049     0.6993    -0.0070     0.9945     -1.3754      1.3657\n",
      "HML           -0.6882     0.5360    -1.2838     0.1992     -1.7388      0.3625\n",
      "RMW           -0.2373     0.6729    -0.3527     0.7243     -1.5562      1.0815\n",
      "CMA           -0.3181     0.4633    -0.6865     0.4924     -1.2261      0.5900\n",
      "RF            -0.0133     0.0132    -1.0026     0.3161     -0.0392      0.0127\n",
      "==============================================================================\n",
      "\n",
      "Covariance estimator:\n",
      "HeteroskedasticCovariance\n",
      "See full_summary for complete results\n"
     ]
    }
   ],
   "source": [
    "mod = LinearFactorModel(portfolios=ff_portfolio_data, \n",
    "                        factors=ff_factor_data)\n",
    "res = mod.fit()\n",
    "print(res)"
   ]
  },
  {
   "cell_type": "code",
   "execution_count": 26,
   "metadata": {
    "ExecuteTime": {
     "end_time": "2018-10-31T19:15:55.327250Z",
     "start_time": "2018-10-31T19:15:53.919680Z"
    }
   },
   "outputs": [
    {
     "data": {
      "image/png": "[encoded data removed]",
      "text/plain": [
       "<Figure size 864x504 with 1 Axes>"
      ]
     },
     "metadata": {},
     "output_type": "display_data"
    }
   ],
   "source": [
    "plt.rc('figure', figsize=(12, 7))\n",
    "plt.text(0.01, 0.05, str(res), {'fontsize': 14}, fontproperties = 'monospace')\n",
    "plt.axis('off')\n",
    "plt.tight_layout()\n",
    "plt.subplots_adjust(left=0.2, right=0.8, top=0.8, bottom=0.1)\n",
    "plt.savefig('figures/factor_model.png', bbox_inches='tight', dpi=300);"
   ]
  },
  {
   "cell_type": "markdown",
   "metadata": {},
   "source": [
    "This provides us with the same result:"
   ]
  },
  {
   "cell_type": "code",
   "execution_count": 27,
   "metadata": {
    "ExecuteTime": {
     "end_time": "2018-10-31T19:15:20.706381Z",
     "start_time": "2018-10-31T19:15:20.703156Z"
    }
   },
   "outputs": [
    {
     "data": {
      "text/plain": [
       "Mkt-RF    1.243632\n",
       "SMB      -0.004863\n",
       "HML      -0.688167\n",
       "RMW      -0.237317\n",
       "CMA      -0.318075\n",
       "RF       -0.013280\n",
       "dtype: float64"
      ]
     },
     "execution_count": 27,
     "metadata": {},
     "output_type": "execute_result"
    }
   ],
   "source": [
    "lambdas.mean()"
   ]
  }
 ],
 "metadata": {
  "kernelspec": {
   "display_name": "Python 3",
   "language": "python",
   "name": "python3"
  },
  "language_info": {
   "codemirror_mode": {
    "name": "ipython",
    "version": 3
   },
   "file_extension": ".py",
   "mimetype": "text/x-python",
   "name": "python",
   "nbconvert_exporter": "python",
   "pygments_lexer": "ipython3",
   "version": "3.6.8"
  },
  "toc": {
   "base_numbering": 1,
   "nav_menu": {},
   "number_sections": true,
   "sideBar": true,
   "skip_h1_title": true,
   "title_cell": "Table of Contents",
   "title_sidebar": "Contents",
   "toc_cell": false,
   "toc_position": {},
   "toc_section_display": true,
   "toc_window_display": true
  }
 },
 "nbformat": 4,
 "nbformat_minor": 2
}
