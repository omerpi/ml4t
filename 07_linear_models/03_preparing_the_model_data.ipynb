{
 "cells": [
  {
   "cell_type": "markdown",
   "metadata": {},
   "source": [
    "# Preparing Alpha Factors and Features to predict Stock Returns"
   ]
  },
  {
   "cell_type": "markdown",
   "metadata": {},
   "source": [
    "## Imports & Settings"
   ]
  },
  {
   "cell_type": "code",
   "execution_count": 1,
   "metadata": {
    "ExecuteTime": {
     "end_time": "2020-04-15T15:46:05.620612Z",
     "start_time": "2020-04-15T15:46:04.811838Z"
    }
   },
   "outputs": [],
   "source": [
    "%matplotlib inline\n",
    "import numpy as np\n",
    "import pandas as pd\n",
    "import matplotlib.pyplot as plt\n",
    "import seaborn as sns\n",
    "from scipy.stats import pearsonr\n",
    "from talib import RSI, BBANDS, MACD, ATR"
   ]
  },
  {
   "cell_type": "code",
   "execution_count": 2,
   "metadata": {
    "ExecuteTime": {
     "end_time": "2020-04-15T15:46:05.623366Z",
     "start_time": "2020-04-15T15:46:05.621589Z"
    }
   },
   "outputs": [],
   "source": [
    "MONTH = 21\n",
    "YEAR = 12 * MONTH"
   ]
  },
  {
   "cell_type": "code",
   "execution_count": 3,
   "metadata": {
    "ExecuteTime": {
     "end_time": "2020-04-15T15:46:05.638226Z",
     "start_time": "2020-04-15T15:46:05.624819Z"
    }
   },
   "outputs": [],
   "source": [
    "START = '2013-01-01'\n",
    "END = '2017-12-31'"
   ]
  },
  {
   "cell_type": "code",
   "execution_count": 4,
   "metadata": {
    "ExecuteTime": {
     "end_time": "2020-04-15T15:46:05.651570Z",
     "start_time": "2020-04-15T15:46:05.639376Z"
    }
   },
   "outputs": [],
   "source": [
    "sns.set_style('darkgrid')\n",
    "idx = pd.IndexSlice"
   ]
  },
  {
   "cell_type": "markdown",
   "metadata": {},
   "source": [
    "## Loading Quandl Wiki Stock Prices & Meta Data"
   ]
  },
  {
   "cell_type": "code",
   "execution_count": 5,
   "metadata": {
    "ExecuteTime": {
     "end_time": "2020-04-15T15:46:08.762418Z",
     "start_time": "2020-04-15T15:46:05.652504Z"
    }
   },
   "outputs": [],
   "source": [
    "DATA_STORE = '../data/assets.h5'\n",
    "ohlcv = ['adj_open', 'adj_close', 'adj_low', 'adj_high', 'adj_volume']\n",
    "with pd.HDFStore(DATA_STORE) as store:\n",
    "    prices = (store['quandl/wiki/prices']\n",
    "              .loc[idx[START:END, :], ohlcv]\n",
    "              .rename(columns=lambda x: x.replace('adj_', ''))\n",
    "              .swaplevel()\n",
    "              .sort_index())\n",
    "    prices.volume /= 1e3\n",
    "    stocks = (store['us_equities/stocks']\n",
    "              .loc[:, ['marketcap', 'ipoyear', 'sector']])"
   ]
  },
  {
   "cell_type": "markdown",
   "metadata": {},
   "source": [
    "## Remove stocks with few observations"
   ]
  },
  {
   "cell_type": "code",
   "execution_count": 6,
   "metadata": {
    "ExecuteTime": {
     "end_time": "2020-04-15T15:46:51.597724Z",
     "start_time": "2020-04-15T15:46:08.763294Z"
    }
   },
   "outputs": [],
   "source": [
    "min_obs = 2 * YEAR\n",
    "nobs = prices.groupby(level='ticker').size()\n",
    "keep = nobs[nobs > min_obs].index\n",
    "prices = prices.loc[idx[keep, :], :]"
   ]
  },
  {
   "cell_type": "markdown",
   "metadata": {},
   "source": [
    "### Align price and meta data"
   ]
  },
  {
   "cell_type": "code",
   "execution_count": 7,
   "metadata": {
    "ExecuteTime": {
     "end_time": "2020-04-15T15:46:51.608049Z",
     "start_time": "2020-04-15T15:46:51.598551Z"
    }
   },
   "outputs": [],
   "source": [
    "stocks = stocks[~stocks.index.duplicated() & stocks.sector.notnull()]\n",
    "stocks.sector = stocks.sector.str.lower().str.replace(' ', '_')\n",
    "stocks.index.name = 'ticker'"
   ]
  },
  {
   "cell_type": "code",
   "execution_count": 8,
   "metadata": {
    "ExecuteTime": {
     "end_time": "2020-04-15T15:47:20.579342Z",
     "start_time": "2020-04-15T15:46:51.610152Z"
    }
   },
   "outputs": [],
   "source": [
    "shared = (prices.index.get_level_values('ticker').unique()\n",
    "          .intersection(stocks.index))\n",
    "stocks = stocks.loc[shared, :]\n",
    "prices = prices.loc[idx[shared, :], :]"
   ]
  },
  {
   "cell_type": "code",
   "execution_count": 9,
   "metadata": {
    "ExecuteTime": {
     "end_time": "2020-04-15T15:47:20.639234Z",
     "start_time": "2020-04-15T15:47:20.580429Z"
    }
   },
   "outputs": [
    {
     "name": "stdout",
     "output_type": "stream",
     "text": [
      "<class 'pandas.core.frame.DataFrame'>\n",
      "MultiIndex: 2904233 entries, ('A', Timestamp('2013-01-02 00:00:00')) to ('ZUMZ', Timestamp('2017-12-29 00:00:00'))\n",
      "Data columns (total 5 columns):\n",
      " #   Column  Non-Null Count    Dtype  \n",
      "---  ------  --------------    -----  \n",
      " 0   open    2904233 non-null  float64\n",
      " 1   close   2904233 non-null  float64\n",
      " 2   low     2904233 non-null  float64\n",
      " 3   high    2904233 non-null  float64\n",
      " 4   volume  2904233 non-null  float64\n",
      "dtypes: float64(5)\n",
      "memory usage: 122.0+ MB\n"
     ]
    }
   ],
   "source": [
    "prices.info(null_counts=True)"
   ]
  },
  {
   "cell_type": "code",
   "execution_count": 10,
   "metadata": {
    "ExecuteTime": {
     "end_time": "2020-04-15T15:47:20.644188Z",
     "start_time": "2020-04-15T15:47:20.640064Z"
    },
    "scrolled": true
   },
   "outputs": [
    {
     "name": "stdout",
     "output_type": "stream",
     "text": [
      "<class 'pandas.core.frame.DataFrame'>\n",
      "Index: 2348 entries, A to ZUMZ\n",
      "Data columns (total 3 columns):\n",
      " #   Column     Non-Null Count  Dtype  \n",
      "---  ------     --------------  -----  \n",
      " 0   marketcap  2345 non-null   float64\n",
      " 1   ipoyear    1026 non-null   float64\n",
      " 2   sector     2348 non-null   object \n",
      "dtypes: float64(2), object(1)\n",
      "memory usage: 73.4+ KB\n"
     ]
    }
   ],
   "source": [
    "stocks.info()"
   ]
  },
  {
   "cell_type": "code",
   "execution_count": 11,
   "metadata": {
    "ExecuteTime": {
     "end_time": "2020-04-15T15:47:20.663575Z",
     "start_time": "2020-04-15T15:47:20.645135Z"
    }
   },
   "outputs": [
    {
     "data": {
      "text/plain": [
       "consumer_services        440\n",
       "finance                  393\n",
       "health_care              297\n",
       "technology               297\n",
       "capital_goods            227\n",
       "basic_industries         138\n",
       "consumer_non-durables    126\n",
       "energy                   123\n",
       "public_utilities         105\n",
       "consumer_durables         78\n",
       "miscellaneous             69\n",
       "transportation            55\n",
       "Name: sector, dtype: int64"
      ]
     },
     "execution_count": 11,
     "metadata": {},
     "output_type": "execute_result"
    }
   ],
   "source": [
    "stocks.sector.value_counts()"
   ]
  },
  {
   "cell_type": "markdown",
   "metadata": {},
   "source": [
    "## Compute Rolling Average Dollar Volume"
   ]
  },
  {
   "cell_type": "code",
   "execution_count": 12,
   "metadata": {
    "ExecuteTime": {
     "end_time": "2020-04-15T15:47:22.362344Z",
     "start_time": "2020-04-15T15:47:20.664867Z"
    }
   },
   "outputs": [],
   "source": [
    "# compute dollar volume to determine universe\n",
    "prices['dollar_vol'] = prices.loc[:, 'close'].mul(prices.loc[:, 'volume'], axis=0)\n",
    "prices['dollar_vol'] = (prices\n",
    "                        .groupby('ticker',\n",
    "                                 group_keys=False,\n",
    "                                 as_index=False)\n",
    "                        .dollar_vol\n",
    "                        .rolling(window=21)\n",
    "                        .mean()\n",
    "                        .fillna(0)\n",
    "                        .reset_index(level=0, drop=True))\n",
    "prices.dollar_vol /= 1e3"
   ]
  },
  {
   "cell_type": "code",
   "execution_count": 13,
   "metadata": {
    "ExecuteTime": {
     "end_time": "2020-04-15T15:47:22.921334Z",
     "start_time": "2020-04-15T15:47:22.363195Z"
    }
   },
   "outputs": [],
   "source": [
    "prices['dollar_vol_rank'] = (prices\n",
    "                             .groupby('date')\n",
    "                             .dollar_vol\n",
    "                             .rank(ascending=False))"
   ]
  },
  {
   "cell_type": "markdown",
   "metadata": {},
   "source": [
    "## Add some Basic Factors"
   ]
  },
  {
   "cell_type": "markdown",
   "metadata": {},
   "source": [
    "### Compute the Relative Strength Index"
   ]
  },
  {
   "cell_type": "code",
   "execution_count": 14,
   "metadata": {
    "ExecuteTime": {
     "end_time": "2020-04-15T15:47:24.172525Z",
     "start_time": "2020-04-15T15:47:22.922248Z"
    }
   },
   "outputs": [],
   "source": [
    "prices['rsi'] = prices.groupby(level='ticker').close.apply(RSI)"
   ]
  },
  {
   "cell_type": "code",
   "execution_count": 15,
   "metadata": {
    "ExecuteTime": {
     "end_time": "2020-04-15T15:47:25.277679Z",
     "start_time": "2020-04-15T15:47:24.173297Z"
    }
   },
   "outputs": [
    {
     "data": {
      "image/png": "[encoded data removed]",
      "text/plain": [
       "<Figure size 432x288 with 1 Axes>"
      ]
     },
     "metadata": {},
     "output_type": "display_data"
    }
   ],
   "source": [
    "ax = sns.distplot(prices.rsi.dropna())\n",
    "ax.axvline(30, ls='--', lw=1, c='k')\n",
    "ax.axvline(70, ls='--', lw=1, c='k')\n",
    "ax.set_title('RSI Distribution with Signal Threshold')\n",
    "plt.tight_layout();"
   ]
  },
  {
   "cell_type": "markdown",
   "metadata": {},
   "source": [
    "### Compute Bollinger Bands"
   ]
  },
  {
   "cell_type": "code",
   "execution_count": 16,
   "metadata": {
    "ExecuteTime": {
     "end_time": "2020-04-15T15:47:25.282415Z",
     "start_time": "2020-04-15T15:47:25.279115Z"
    }
   },
   "outputs": [],
   "source": [
    "def compute_bb(close):\n",
    "    high, mid, low = BBANDS(close, timeperiod=20)\n",
    "    return pd.DataFrame({'bb_high': high, 'bb_low': low}, index=close.index)"
   ]
  },
  {
   "cell_type": "code",
   "execution_count": 17,
   "metadata": {
    "ExecuteTime": {
     "end_time": "2020-04-15T15:47:27.855181Z",
     "start_time": "2020-04-15T15:47:25.285169Z"
    }
   },
   "outputs": [],
   "source": [
    "prices = (prices.join(prices\n",
    "                      .groupby(level='ticker')\n",
    "                      .close\n",
    "                      .apply(compute_bb)))"
   ]
  },
  {
   "cell_type": "code",
   "execution_count": 18,
   "metadata": {
    "ExecuteTime": {
     "end_time": "2020-04-15T15:47:27.916182Z",
     "start_time": "2020-04-15T15:47:27.856173Z"
    }
   },
   "outputs": [],
   "source": [
    "prices['bb_high'] = prices.bb_high.sub(prices.close).div(prices.bb_high).apply(np.log1p)\n",
    "prices['bb_low'] = prices.close.sub(prices.bb_low).div(prices.close).apply(np.log1p)"
   ]
  },
  {
   "cell_type": "code",
   "execution_count": 19,
   "metadata": {
    "ExecuteTime": {
     "end_time": "2020-04-15T15:47:28.559210Z",
     "start_time": "2020-04-15T15:47:27.917247Z"
    },
    "scrolled": true
   },
   "outputs": [
    {
     "data": {
      "image/png": "[encoded data removed]",
      "text/plain": [
       "<Figure size 1080x360 with 2 Axes>"
      ]
     },
     "metadata": {},
     "output_type": "display_data"
    }
   ],
   "source": [
    "fig, axes = plt.subplots(ncols=2, figsize=(15, 5))\n",
    "sns.distplot(prices.loc[prices.dollar_vol_rank<100, 'bb_low'].dropna(), ax=axes[0])\n",
    "sns.distplot(prices.loc[prices.dollar_vol_rank<100, 'bb_high'].dropna(), ax=axes[1])\n",
    "plt.tight_layout();"
   ]
  },
  {
   "cell_type": "markdown",
   "metadata": {},
   "source": [
    "### Compute Average True Range"
   ]
  },
  {
   "cell_type": "code",
   "execution_count": 20,
   "metadata": {
    "ExecuteTime": {
     "end_time": "2020-04-15T15:47:28.562978Z",
     "start_time": "2020-04-15T15:47:28.560374Z"
    }
   },
   "outputs": [],
   "source": [
    "def compute_atr(stock_data):\n",
    "    df = ATR(stock_data.high, stock_data.low, \n",
    "             stock_data.close, timeperiod=14)\n",
    "    return df.sub(df.mean()).div(df.std())"
   ]
  },
  {
   "cell_type": "code",
   "execution_count": 21,
   "metadata": {
    "ExecuteTime": {
     "end_time": "2020-04-15T15:47:30.972977Z",
     "start_time": "2020-04-15T15:47:28.564128Z"
    }
   },
   "outputs": [],
   "source": [
    "prices['atr'] = (prices.groupby('ticker', group_keys=False)\n",
    "                 .apply(compute_atr))"
   ]
  },
  {
   "cell_type": "code",
   "execution_count": 22,
   "metadata": {
    "ExecuteTime": {
     "end_time": "2020-04-15T15:47:31.257662Z",
     "start_time": "2020-04-15T15:47:30.973965Z"
    }
   },
   "outputs": [
    {
     "data": {
      "image/png": "[encoded data removed]",
      "text/plain": [
       "<Figure size 432x288 with 1 Axes>"
      ]
     },
     "metadata": {},
     "output_type": "display_data"
    }
   ],
   "source": [
    "sns.distplot(prices[prices.dollar_vol_rank<50].atr.dropna());"
   ]
  },
  {
   "cell_type": "markdown",
   "metadata": {},
   "source": [
    "### Compute Moving Average Convergence/Divergence"
   ]
  },
  {
   "cell_type": "code",
   "execution_count": 23,
   "metadata": {
    "ExecuteTime": {
     "end_time": "2020-04-15T15:47:31.261522Z",
     "start_time": "2020-04-15T15:47:31.259519Z"
    }
   },
   "outputs": [],
   "source": [
    "def compute_macd(close):\n",
    "    macd = MACD(close)[0]\n",
    "    return (macd - np.mean(macd))/np.std(macd)"
   ]
  },
  {
   "cell_type": "code",
   "execution_count": 24,
   "metadata": {
    "ExecuteTime": {
     "end_time": "2020-04-15T15:47:33.594920Z",
     "start_time": "2020-04-15T15:47:31.262619Z"
    }
   },
   "outputs": [],
   "source": [
    "prices['macd'] = (prices\n",
    "                  .groupby('ticker', group_keys=False)\n",
    "                  .close\n",
    "                  .apply(compute_macd))"
   ]
  },
  {
   "cell_type": "code",
   "execution_count": 25,
   "metadata": {
    "ExecuteTime": {
     "end_time": "2020-04-15T15:47:33.686212Z",
     "start_time": "2020-04-15T15:47:33.595981Z"
    }
   },
   "outputs": [
    {
     "data": {
      "text/plain": [
       "count    2,826,749.0\n",
       "mean             0.0\n",
       "std              1.0\n",
       "min            -10.5\n",
       "0.1%            -4.1\n",
       "1%              -2.6\n",
       "2%              -2.2\n",
       "3%              -2.0\n",
       "4%              -1.8\n",
       "5%              -1.6\n",
       "50%              0.0\n",
       "95%              1.6\n",
       "96%              1.7\n",
       "97%              1.9\n",
       "98%              2.1\n",
       "99%              2.6\n",
       "99.9%            4.0\n",
       "max              8.7\n",
       "Name: macd, dtype: object"
      ]
     },
     "execution_count": 25,
     "metadata": {},
     "output_type": "execute_result"
    }
   ],
   "source": [
    "prices.macd.describe(percentiles=[.001, .01, .02, .03, .04, .05, .95, .96, .97, .98, .99, .999]).apply(lambda x: f'{x:,.1f}')"
   ]
  },
  {
   "cell_type": "code",
   "execution_count": 26,
   "metadata": {
    "ExecuteTime": {
     "end_time": "2020-04-15T15:47:33.999018Z",
     "start_time": "2020-04-15T15:47:33.687070Z"
    }
   },
   "outputs": [
    {
     "data": {
      "image/png": "[encoded data removed]",
      "text/plain": [
       "<Figure size 432x288 with 1 Axes>"
      ]
     },
     "metadata": {},
     "output_type": "display_data"
    }
   ],
   "source": [
    "sns.distplot(prices[prices.dollar_vol_rank<100].macd.dropna());"
   ]
  },
  {
   "cell_type": "markdown",
   "metadata": {},
   "source": [
    "## Compute Lagged Returns"
   ]
  },
  {
   "cell_type": "code",
   "execution_count": 27,
   "metadata": {
    "ExecuteTime": {
     "end_time": "2020-04-15T15:47:34.002447Z",
     "start_time": "2020-04-15T15:47:34.000242Z"
    }
   },
   "outputs": [],
   "source": [
    "lags = [1, 5, 10, 21, 42, 63]"
   ]
  },
  {
   "cell_type": "code",
   "execution_count": 28,
   "metadata": {
    "ExecuteTime": {
     "end_time": "2020-04-15T15:47:34.372623Z",
     "start_time": "2020-04-15T15:47:34.003523Z"
    }
   },
   "outputs": [
    {
     "data": {
      "text/html": [
       "<style  type=\"text/css\" >\n",
       "</style><table id=\"T_6c7ef754_7f30_11ea_ba3c_6045cb72e6b3\" ><thead>    <tr>        <th class=\"blank level0\" ></th>        <th class=\"col_heading level0 col0\" >percentiles</th>    </tr></thead><tbody>\n",
       "                <tr>\n",
       "                        <th id=\"T_6c7ef754_7f30_11ea_ba3c_6045cb72e6b3level0_row0\" class=\"row_heading level0 row0\" >std</th>\n",
       "                        <td id=\"T_6c7ef754_7f30_11ea_ba3c_6045cb72e6b3row0_col0\" class=\"data row0 col0\" >9.37%</td>\n",
       "            </tr>\n",
       "            <tr>\n",
       "                        <th id=\"T_6c7ef754_7f30_11ea_ba3c_6045cb72e6b3level0_row1\" class=\"row_heading level0 row1\" >min</th>\n",
       "                        <td id=\"T_6c7ef754_7f30_11ea_ba3c_6045cb72e6b3row1_col0\" class=\"data row1 col0\" >-87.62%</td>\n",
       "            </tr>\n",
       "            <tr>\n",
       "                        <th id=\"T_6c7ef754_7f30_11ea_ba3c_6045cb72e6b3level0_row2\" class=\"row_heading level0 row2\" >0.01%</th>\n",
       "                        <td id=\"T_6c7ef754_7f30_11ea_ba3c_6045cb72e6b3row2_col0\" class=\"data row2 col0\" >-33.40%</td>\n",
       "            </tr>\n",
       "            <tr>\n",
       "                        <th id=\"T_6c7ef754_7f30_11ea_ba3c_6045cb72e6b3level0_row3\" class=\"row_heading level0 row3\" >0.1%</th>\n",
       "                        <td id=\"T_6c7ef754_7f30_11ea_ba3c_6045cb72e6b3row3_col0\" class=\"data row3 col0\" >-14.78%</td>\n",
       "            </tr>\n",
       "            <tr>\n",
       "                        <th id=\"T_6c7ef754_7f30_11ea_ba3c_6045cb72e6b3level0_row4\" class=\"row_heading level0 row4\" >1%</th>\n",
       "                        <td id=\"T_6c7ef754_7f30_11ea_ba3c_6045cb72e6b3row4_col0\" class=\"data row4 col0\" >-6.52%</td>\n",
       "            </tr>\n",
       "            <tr>\n",
       "                        <th id=\"T_6c7ef754_7f30_11ea_ba3c_6045cb72e6b3level0_row5\" class=\"row_heading level0 row5\" >50%</th>\n",
       "                        <td id=\"T_6c7ef754_7f30_11ea_ba3c_6045cb72e6b3row5_col0\" class=\"data row5 col0\" >0.04%</td>\n",
       "            </tr>\n",
       "            <tr>\n",
       "                        <th id=\"T_6c7ef754_7f30_11ea_ba3c_6045cb72e6b3level0_row6\" class=\"row_heading level0 row6\" >99%</th>\n",
       "                        <td id=\"T_6c7ef754_7f30_11ea_ba3c_6045cb72e6b3row6_col0\" class=\"data row6 col0\" >6.98%</td>\n",
       "            </tr>\n",
       "            <tr>\n",
       "                        <th id=\"T_6c7ef754_7f30_11ea_ba3c_6045cb72e6b3level0_row7\" class=\"row_heading level0 row7\" >99.9%</th>\n",
       "                        <td id=\"T_6c7ef754_7f30_11ea_ba3c_6045cb72e6b3row7_col0\" class=\"data row7 col0\" >17.03%</td>\n",
       "            </tr>\n",
       "            <tr>\n",
       "                        <th id=\"T_6c7ef754_7f30_11ea_ba3c_6045cb72e6b3level0_row8\" class=\"row_heading level0 row8\" >99.99%</th>\n",
       "                        <td id=\"T_6c7ef754_7f30_11ea_ba3c_6045cb72e6b3row8_col0\" class=\"data row8 col0\" >39.25%</td>\n",
       "            </tr>\n",
       "            <tr>\n",
       "                        <th id=\"T_6c7ef754_7f30_11ea_ba3c_6045cb72e6b3level0_row9\" class=\"row_heading level0 row9\" >max</th>\n",
       "                        <td id=\"T_6c7ef754_7f30_11ea_ba3c_6045cb72e6b3row9_col0\" class=\"data row9 col0\" >10,280.40%</td>\n",
       "            </tr>\n",
       "    </tbody></table>"
      ],
      "text/plain": [
       "<pandas.io.formats.style.Styler at 0x7fcfb3c95a10>"
      ]
     },
     "execution_count": 28,
     "metadata": {},
     "output_type": "execute_result"
    }
   ],
   "source": [
    "returns = prices.groupby(level='ticker').close.pct_change()\n",
    "percentiles=[.0001, .001, .01]\n",
    "percentiles+= [1-p for p in percentiles]\n",
    "returns.describe(percentiles=percentiles).iloc[2:].to_frame('percentiles').style.format(lambda x: f'{x:,.2%}')"
   ]
  },
  {
   "cell_type": "code",
   "execution_count": 29,
   "metadata": {
    "ExecuteTime": {
     "end_time": "2020-04-15T15:47:34.379520Z",
     "start_time": "2020-04-15T15:47:34.375465Z"
    }
   },
   "outputs": [],
   "source": [
    "q = 0.0001"
   ]
  },
  {
   "cell_type": "markdown",
   "metadata": {},
   "source": [
    "### Winsorize outliers"
   ]
  },
  {
   "cell_type": "code",
   "execution_count": 30,
   "metadata": {
    "ExecuteTime": {
     "end_time": "2020-04-15T15:47:38.989428Z",
     "start_time": "2020-04-15T15:47:34.382118Z"
    }
   },
   "outputs": [],
   "source": [
    "for lag in lags:\n",
    "    prices[f'return_{lag}d'] = (prices.groupby(level='ticker').close\n",
    "                                .pct_change(lag)\n",
    "                                .pipe(lambda x: x.clip(lower=x.quantile(q),\n",
    "                                                       upper=x.quantile(1 - q)))\n",
    "                                .add(1)\n",
    "                                .pow(1 / lag)\n",
    "                                .sub(1)\n",
    "                                )"
   ]
  },
  {
   "cell_type": "markdown",
   "metadata": {},
   "source": [
    "### Shift lagged returns"
   ]
  },
  {
   "cell_type": "code",
   "execution_count": 31,
   "metadata": {
    "ExecuteTime": {
     "end_time": "2020-04-15T15:47:45.695270Z",
     "start_time": "2020-04-15T15:47:38.990287Z"
    }
   },
   "outputs": [],
   "source": [
    "for t in [1, 2, 3, 4, 5]:\n",
    "    for lag in [1, 5, 10, 21]:\n",
    "        prices[f'return_{lag}d_lag{t}'] = (prices.groupby(level='ticker')\n",
    "                                           [f'return_{lag}d'].shift(t * lag))"
   ]
  },
  {
   "cell_type": "markdown",
   "metadata": {},
   "source": [
    "## Compute Forward Returns"
   ]
  },
  {
   "cell_type": "code",
   "execution_count": 32,
   "metadata": {
    "ExecuteTime": {
     "end_time": "2020-04-15T15:47:47.361691Z",
     "start_time": "2020-04-15T15:47:45.696128Z"
    }
   },
   "outputs": [],
   "source": [
    "for t in [1, 5, 10, 21]:\n",
    "    prices[f'target_{t}d'] = prices.groupby(level='ticker')[f'return_{t}d'].shift(-t)"
   ]
  },
  {
   "cell_type": "markdown",
   "metadata": {},
   "source": [
    "## Combine Price and Meta Data"
   ]
  },
  {
   "cell_type": "code",
   "execution_count": 33,
   "metadata": {
    "ExecuteTime": {
     "end_time": "2020-04-15T15:47:47.545382Z",
     "start_time": "2020-04-15T15:47:47.362541Z"
    }
   },
   "outputs": [],
   "source": [
    "prices = prices.join(stocks[['sector']])"
   ]
  },
  {
   "cell_type": "markdown",
   "metadata": {},
   "source": [
    "## Create time and sector dummy variables"
   ]
  },
  {
   "cell_type": "code",
   "execution_count": 34,
   "metadata": {
    "ExecuteTime": {
     "end_time": "2020-04-15T15:47:47.868930Z",
     "start_time": "2020-04-15T15:47:47.546239Z"
    }
   },
   "outputs": [],
   "source": [
    "prices['year'] = prices.index.get_level_values('date').year\n",
    "prices['month'] = prices.index.get_level_values('date').month"
   ]
  },
  {
   "cell_type": "code",
   "execution_count": 35,
   "metadata": {
    "ExecuteTime": {
     "end_time": "2020-04-15T15:47:48.438026Z",
     "start_time": "2020-04-15T15:47:47.869801Z"
    }
   },
   "outputs": [
    {
     "name": "stdout",
     "output_type": "stream",
     "text": [
      "<class 'pandas.core.frame.DataFrame'>\n",
      "MultiIndex: 2904233 entries, ('A', Timestamp('2013-01-02 00:00:00')) to ('ZUMZ', Timestamp('2017-12-29 00:00:00'))\n",
      "Data columns (total 45 columns):\n",
      " #   Column           Non-Null Count    Dtype  \n",
      "---  ------           --------------    -----  \n",
      " 0   open             2904233 non-null  float64\n",
      " 1   close            2904233 non-null  float64\n",
      " 2   low              2904233 non-null  float64\n",
      " 3   high             2904233 non-null  float64\n",
      " 4   volume           2904233 non-null  float64\n",
      " 5   dollar_vol       2904233 non-null  float64\n",
      " 6   dollar_vol_rank  2904233 non-null  float64\n",
      " 7   rsi              2871361 non-null  float64\n",
      " 8   bb_high          2859618 non-null  float64\n",
      " 9   bb_low           2859585 non-null  float64\n",
      " 10  atr              2871361 non-null  float64\n",
      " 11  macd             2826749 non-null  float64\n",
      " 12  return_1d        2901885 non-null  float64\n",
      " 13  return_5d        2892493 non-null  float64\n",
      " 14  return_10d       2880753 non-null  float64\n",
      " 15  return_21d       2854925 non-null  float64\n",
      " 16  return_42d       2805617 non-null  float64\n",
      " 17  return_63d       2756309 non-null  float64\n",
      " 18  return_1d_lag1   2899537 non-null  float64\n",
      " 19  return_5d_lag1   2880753 non-null  float64\n",
      " 20  return_10d_lag1  2857273 non-null  float64\n",
      " 21  return_21d_lag1  2805617 non-null  float64\n",
      " 22  return_1d_lag2   2897189 non-null  float64\n",
      " 23  return_5d_lag2   2869013 non-null  float64\n",
      " 24  return_10d_lag2  2833793 non-null  float64\n",
      " 25  return_21d_lag2  2756309 non-null  float64\n",
      " 26  return_1d_lag3   2894841 non-null  float64\n",
      " 27  return_5d_lag3   2857273 non-null  float64\n",
      " 28  return_10d_lag3  2810313 non-null  float64\n",
      " 29  return_21d_lag3  2707001 non-null  float64\n",
      " 30  return_1d_lag4   2892493 non-null  float64\n",
      " 31  return_5d_lag4   2845533 non-null  float64\n",
      " 32  return_10d_lag4  2786833 non-null  float64\n",
      " 33  return_21d_lag4  2657693 non-null  float64\n",
      " 34  return_1d_lag5   2890145 non-null  float64\n",
      " 35  return_5d_lag5   2833793 non-null  float64\n",
      " 36  return_10d_lag5  2763353 non-null  float64\n",
      " 37  return_21d_lag5  2608385 non-null  float64\n",
      " 38  target_1d        2901885 non-null  float64\n",
      " 39  target_5d        2892493 non-null  float64\n",
      " 40  target_10d       2880753 non-null  float64\n",
      " 41  target_21d       2854925 non-null  float64\n",
      " 42  sector           2904233 non-null  object \n",
      " 43  year             2904233 non-null  int64  \n",
      " 44  month            2904233 non-null  int64  \n",
      "dtypes: float64(42), int64(2), object(1)\n",
      "memory usage: 1.1+ GB\n"
     ]
    }
   ],
   "source": [
    "prices.info(null_counts=True)"
   ]
  },
  {
   "cell_type": "code",
   "execution_count": 36,
   "metadata": {
    "ExecuteTime": {
     "end_time": "2020-04-15T15:47:49.531743Z",
     "start_time": "2020-04-15T15:47:48.439000Z"
    }
   },
   "outputs": [],
   "source": [
    "prices.assign(sector=pd.factorize(prices.sector, sort=True)[0]).to_hdf('data.h5', 'model_data/no_dummies')"
   ]
  },
  {
   "cell_type": "code",
   "execution_count": 37,
   "metadata": {
    "ExecuteTime": {
     "end_time": "2020-04-15T15:47:50.097479Z",
     "start_time": "2020-04-15T15:47:49.532587Z"
    }
   },
   "outputs": [],
   "source": [
    "prices = pd.get_dummies(prices,\n",
    "                        columns=['year', 'month', 'sector'],\n",
    "                        prefix=['year', 'month', ''],\n",
    "                        prefix_sep=['_', '_', ''],\n",
    "                        drop_first=True)"
   ]
  },
  {
   "cell_type": "code",
   "execution_count": 38,
   "metadata": {
    "ExecuteTime": {
     "end_time": "2020-04-15T15:47:50.418108Z",
     "start_time": "2020-04-15T15:47:50.098293Z"
    },
    "scrolled": false
   },
   "outputs": [
    {
     "name": "stdout",
     "output_type": "stream",
     "text": [
      "<class 'pandas.core.frame.DataFrame'>\n",
      "MultiIndex: 2904233 entries, ('A', Timestamp('2013-01-02 00:00:00')) to ('ZUMZ', Timestamp('2017-12-29 00:00:00'))\n",
      "Data columns (total 68 columns):\n",
      " #   Column                 Non-Null Count    Dtype  \n",
      "---  ------                 --------------    -----  \n",
      " 0   open                   2904233 non-null  float64\n",
      " 1   close                  2904233 non-null  float64\n",
      " 2   low                    2904233 non-null  float64\n",
      " 3   high                   2904233 non-null  float64\n",
      " 4   volume                 2904233 non-null  float64\n",
      " 5   dollar_vol             2904233 non-null  float64\n",
      " 6   dollar_vol_rank        2904233 non-null  float64\n",
      " 7   rsi                    2871361 non-null  float64\n",
      " 8   bb_high                2859618 non-null  float64\n",
      " 9   bb_low                 2859585 non-null  float64\n",
      " 10  atr                    2871361 non-null  float64\n",
      " 11  macd                   2826749 non-null  float64\n",
      " 12  return_1d              2901885 non-null  float64\n",
      " 13  return_5d              2892493 non-null  float64\n",
      " 14  return_10d             2880753 non-null  float64\n",
      " 15  return_21d             2854925 non-null  float64\n",
      " 16  return_42d             2805617 non-null  float64\n",
      " 17  return_63d             2756309 non-null  float64\n",
      " 18  return_1d_lag1         2899537 non-null  float64\n",
      " 19  return_5d_lag1         2880753 non-null  float64\n",
      " 20  return_10d_lag1        2857273 non-null  float64\n",
      " 21  return_21d_lag1        2805617 non-null  float64\n",
      " 22  return_1d_lag2         2897189 non-null  float64\n",
      " 23  return_5d_lag2         2869013 non-null  float64\n",
      " 24  return_10d_lag2        2833793 non-null  float64\n",
      " 25  return_21d_lag2        2756309 non-null  float64\n",
      " 26  return_1d_lag3         2894841 non-null  float64\n",
      " 27  return_5d_lag3         2857273 non-null  float64\n",
      " 28  return_10d_lag3        2810313 non-null  float64\n",
      " 29  return_21d_lag3        2707001 non-null  float64\n",
      " 30  return_1d_lag4         2892493 non-null  float64\n",
      " 31  return_5d_lag4         2845533 non-null  float64\n",
      " 32  return_10d_lag4        2786833 non-null  float64\n",
      " 33  return_21d_lag4        2657693 non-null  float64\n",
      " 34  return_1d_lag5         2890145 non-null  float64\n",
      " 35  return_5d_lag5         2833793 non-null  float64\n",
      " 36  return_10d_lag5        2763353 non-null  float64\n",
      " 37  return_21d_lag5        2608385 non-null  float64\n",
      " 38  target_1d              2901885 non-null  float64\n",
      " 39  target_5d              2892493 non-null  float64\n",
      " 40  target_10d             2880753 non-null  float64\n",
      " 41  target_21d             2854925 non-null  float64\n",
      " 42  year_2014              2904233 non-null  uint8  \n",
      " 43  year_2015              2904233 non-null  uint8  \n",
      " 44  year_2016              2904233 non-null  uint8  \n",
      " 45  year_2017              2904233 non-null  uint8  \n",
      " 46  month_2                2904233 non-null  uint8  \n",
      " 47  month_3                2904233 non-null  uint8  \n",
      " 48  month_4                2904233 non-null  uint8  \n",
      " 49  month_5                2904233 non-null  uint8  \n",
      " 50  month_6                2904233 non-null  uint8  \n",
      " 51  month_7                2904233 non-null  uint8  \n",
      " 52  month_8                2904233 non-null  uint8  \n",
      " 53  month_9                2904233 non-null  uint8  \n",
      " 54  month_10               2904233 non-null  uint8  \n",
      " 55  month_11               2904233 non-null  uint8  \n",
      " 56  month_12               2904233 non-null  uint8  \n",
      " 57  capital_goods          2904233 non-null  uint8  \n",
      " 58  consumer_durables      2904233 non-null  uint8  \n",
      " 59  consumer_non-durables  2904233 non-null  uint8  \n",
      " 60  consumer_services      2904233 non-null  uint8  \n",
      " 61  energy                 2904233 non-null  uint8  \n",
      " 62  finance                2904233 non-null  uint8  \n",
      " 63  health_care            2904233 non-null  uint8  \n",
      " 64  miscellaneous          2904233 non-null  uint8  \n",
      " 65  public_utilities       2904233 non-null  uint8  \n",
      " 66  technology             2904233 non-null  uint8  \n",
      " 67  transportation         2904233 non-null  uint8  \n",
      "dtypes: float64(42), uint8(26)\n",
      "memory usage: 1.1+ GB\n"
     ]
    }
   ],
   "source": [
    "prices.info(null_counts=True)"
   ]
  },
  {
   "cell_type": "markdown",
   "metadata": {},
   "source": [
    "## Store Model Data"
   ]
  },
  {
   "cell_type": "code",
   "execution_count": 39,
   "metadata": {
    "ExecuteTime": {
     "end_time": "2020-04-15T15:47:51.089807Z",
     "start_time": "2020-04-15T15:47:50.418953Z"
    }
   },
   "outputs": [],
   "source": [
    "prices.to_hdf('data.h5', 'model_data')"
   ]
  },
  {
   "cell_type": "markdown",
   "metadata": {},
   "source": [
    "## Explore Data"
   ]
  },
  {
   "cell_type": "markdown",
   "metadata": {},
   "source": [
    "### Plot Factors"
   ]
  },
  {
   "cell_type": "code",
   "execution_count": 40,
   "metadata": {
    "ExecuteTime": {
     "end_time": "2020-04-15T15:47:51.111652Z",
     "start_time": "2020-04-15T15:47:51.090669Z"
    }
   },
   "outputs": [],
   "source": [
    "target = 'target_5d'\n",
    "top100 = prices[prices.dollar_vol_rank<100].copy()"
   ]
  },
  {
   "cell_type": "markdown",
   "metadata": {},
   "source": [
    "### RSI"
   ]
  },
  {
   "cell_type": "code",
   "execution_count": 41,
   "metadata": {
    "ExecuteTime": {
     "end_time": "2020-04-15T15:47:52.419853Z",
     "start_time": "2020-04-15T15:47:51.112545Z"
    }
   },
   "outputs": [],
   "source": [
    "top100.loc[:, 'rsi_signal'] = pd.cut(top100.rsi, bins=[0, 30, 70, 100])"
   ]
  },
  {
   "cell_type": "code",
   "execution_count": 42,
   "metadata": {
    "ExecuteTime": {
     "end_time": "2020-04-15T15:47:52.717593Z",
     "start_time": "2020-04-15T15:47:52.420614Z"
    }
   },
   "outputs": [
    {
     "data": {
      "text/html": [
       "<div>\n",
       "<style scoped>\n",
       "    .dataframe tbody tr th:only-of-type {\n",
       "        vertical-align: middle;\n",
       "    }\n",
       "\n",
       "    .dataframe tbody tr th {\n",
       "        vertical-align: top;\n",
       "    }\n",
       "\n",
       "    .dataframe thead th {\n",
       "        text-align: right;\n",
       "    }\n",
       "</style>\n",
       "<table border=\"1\" class=\"dataframe\">\n",
       "  <thead>\n",
       "    <tr style=\"text-align: right;\">\n",
       "      <th></th>\n",
       "      <th>count</th>\n",
       "      <th>mean</th>\n",
       "      <th>std</th>\n",
       "      <th>min</th>\n",
       "      <th>25%</th>\n",
       "      <th>50%</th>\n",
       "      <th>75%</th>\n",
       "      <th>max</th>\n",
       "    </tr>\n",
       "    <tr>\n",
       "      <th>rsi_signal</th>\n",
       "      <th></th>\n",
       "      <th></th>\n",
       "      <th></th>\n",
       "      <th></th>\n",
       "      <th></th>\n",
       "      <th></th>\n",
       "      <th></th>\n",
       "      <th></th>\n",
       "    </tr>\n",
       "  </thead>\n",
       "  <tbody>\n",
       "    <tr>\n",
       "      <th>(0, 30]</th>\n",
       "      <td>4209.0</td>\n",
       "      <td>0.001126</td>\n",
       "      <td>0.010457</td>\n",
       "      <td>-0.067138</td>\n",
       "      <td>-0.003606</td>\n",
       "      <td>0.001051</td>\n",
       "      <td>0.006156</td>\n",
       "      <td>0.061889</td>\n",
       "    </tr>\n",
       "    <tr>\n",
       "      <th>(30, 70]</th>\n",
       "      <td>107244.0</td>\n",
       "      <td>0.000446</td>\n",
       "      <td>0.007711</td>\n",
       "      <td>-0.170571</td>\n",
       "      <td>-0.003054</td>\n",
       "      <td>0.000650</td>\n",
       "      <td>0.004246</td>\n",
       "      <td>0.075653</td>\n",
       "    </tr>\n",
       "    <tr>\n",
       "      <th>(70, 100]</th>\n",
       "      <td>10635.0</td>\n",
       "      <td>0.000016</td>\n",
       "      <td>0.006357</td>\n",
       "      <td>-0.087857</td>\n",
       "      <td>-0.002820</td>\n",
       "      <td>0.000145</td>\n",
       "      <td>0.003121</td>\n",
       "      <td>0.058570</td>\n",
       "    </tr>\n",
       "  </tbody>\n",
       "</table>\n",
       "</div>"
      ],
      "text/plain": [
       "               count      mean       std       min       25%       50%  \\\n",
       "rsi_signal                                                               \n",
       "(0, 30]       4209.0  0.001126  0.010457 -0.067138 -0.003606  0.001051   \n",
       "(30, 70]    107244.0  0.000446  0.007711 -0.170571 -0.003054  0.000650   \n",
       "(70, 100]    10635.0  0.000016  0.006357 -0.087857 -0.002820  0.000145   \n",
       "\n",
       "                 75%       max  \n",
       "rsi_signal                      \n",
       "(0, 30]     0.006156  0.061889  \n",
       "(30, 70]    0.004246  0.075653  \n",
       "(70, 100]   0.003121  0.058570  "
      ]
     },
     "execution_count": 42,
     "metadata": {},
     "output_type": "execute_result"
    }
   ],
   "source": [
    "top100.groupby('rsi_signal')['target_5d'].describe()"
   ]
  },
  {
   "cell_type": "markdown",
   "metadata": {},
   "source": [
    "### Bollinger Bands"
   ]
  },
  {
   "cell_type": "code",
   "execution_count": 43,
   "metadata": {
    "ExecuteTime": {
     "end_time": "2020-04-15T15:47:53.979177Z",
     "start_time": "2020-04-15T15:47:52.718423Z"
    },
    "scrolled": false
   },
   "outputs": [
    {
     "name": "stderr",
     "output_type": "stream",
     "text": [
      "/home/stefan/.pyenv/versions/miniconda3-latest/envs/ml4t/lib/python3.7/site-packages/seaborn/axisgrid.py:1848: UserWarning: JointGrid annotation is deprecated and will be removed in a future release.\n",
      "  warnings.warn(UserWarning(msg))\n"
     ]
    },
    {
     "data": {
      "image/png": "[encoded data removed]",
      "text/plain": [
       "<Figure size 432x432 with 3 Axes>"
      ]
     },
     "metadata": {},
     "output_type": "display_data"
    }
   ],
   "source": [
    "j=sns.jointplot(x=top100.bb_low, y=target, data=top100)\n",
    "j.annotate(pearsonr);"
   ]
  },
  {
   "cell_type": "code",
   "execution_count": 44,
   "metadata": {
    "ExecuteTime": {
     "end_time": "2020-04-15T15:47:56.669007Z",
     "start_time": "2020-04-15T15:47:53.980247Z"
    },
    "scrolled": false
   },
   "outputs": [
    {
     "name": "stderr",
     "output_type": "stream",
     "text": [
      "/home/stefan/.pyenv/versions/miniconda3-latest/envs/ml4t/lib/python3.7/site-packages/seaborn/axisgrid.py:1848: UserWarning: JointGrid annotation is deprecated and will be removed in a future release.\n",
      "  warnings.warn(UserWarning(msg))\n"
     ]
    },
    {
     "data": {
      "image/png": "[encoded data removed]",
      "text/plain": [
       "<Figure size 432x432 with 3 Axes>"
      ]
     },
     "metadata": {},
     "output_type": "display_data"
    }
   ],
   "source": [
    "j=sns.jointplot(x='bb_high', y=target, data=top100)\n",
    "j.annotate(pearsonr);"
   ]
  },
  {
   "cell_type": "markdown",
   "metadata": {},
   "source": [
    "### ATR"
   ]
  },
  {
   "cell_type": "code",
   "execution_count": 45,
   "metadata": {
    "ExecuteTime": {
     "end_time": "2020-04-15T15:47:58.315144Z",
     "start_time": "2020-04-15T15:47:56.670114Z"
    }
   },
   "outputs": [
    {
     "name": "stderr",
     "output_type": "stream",
     "text": [
      "/home/stefan/.pyenv/versions/miniconda3-latest/envs/ml4t/lib/python3.7/site-packages/seaborn/axisgrid.py:1848: UserWarning: JointGrid annotation is deprecated and will be removed in a future release.\n",
      "  warnings.warn(UserWarning(msg))\n"
     ]
    },
    {
     "data": {
      "image/png": "[encoded data removed]",
      "text/plain": [
       "<Figure size 432x432 with 3 Axes>"
      ]
     },
     "metadata": {},
     "output_type": "display_data"
    }
   ],
   "source": [
    "j=sns.jointplot(x='atr', y=target, data=top100)\n",
    "j.annotate(pearsonr);"
   ]
  },
  {
   "cell_type": "markdown",
   "metadata": {},
   "source": [
    "### MACD"
   ]
  },
  {
   "cell_type": "code",
   "execution_count": 46,
   "metadata": {
    "ExecuteTime": {
     "end_time": "2020-04-15T15:48:00.985215Z",
     "start_time": "2020-04-15T15:47:58.316135Z"
    }
   },
   "outputs": [
    {
     "name": "stderr",
     "output_type": "stream",
     "text": [
      "/home/stefan/.pyenv/versions/miniconda3-latest/envs/ml4t/lib/python3.7/site-packages/seaborn/axisgrid.py:1848: UserWarning: JointGrid annotation is deprecated and will be removed in a future release.\n",
      "  warnings.warn(UserWarning(msg))\n"
     ]
    },
    {
     "data": {
      "image/png": "[encoded data removed]",
      "text/plain": [
       "<Figure size 432x432 with 3 Axes>"
      ]
     },
     "metadata": {},
     "output_type": "display_data"
    }
   ],
   "source": [
    "j=sns.jointplot(x='macd', y=target, data=top100)\n",
    "j.annotate(pearsonr);"
   ]
  }
 ],
 "metadata": {
  "kernelspec": {
   "display_name": "Python 3",
   "language": "python",
   "name": "python3"
  },
  "language_info": {
   "codemirror_mode": {
    "name": "ipython",
    "version": 3
   },
   "file_extension": ".py",
   "mimetype": "text/x-python",
   "name": "python",
   "nbconvert_exporter": "python",
   "pygments_lexer": "ipython3",
   "version": "3.7.6"
  },
  "toc": {
   "base_numbering": 1,
   "nav_menu": {},
   "number_sections": true,
   "sideBar": true,
   "skip_h1_title": true,
   "title_cell": "Table of Contents",
   "title_sidebar": "Contents",
   "toc_cell": false,
   "toc_position": {},
   "toc_section_display": true,
   "toc_window_display": false
  }
 },
 "nbformat": 4,
 "nbformat_minor": 2
}
