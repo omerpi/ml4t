{
 "cells": [
  {
   "cell_type": "markdown",
   "metadata": {},
   "source": [
    "# Preparing Alpha Factors and Features to predict Stock Returns"
   ]
  },
  {
   "cell_type": "markdown",
   "metadata": {},
   "source": [
    "## Imports & Settings"
   ]
  },
  {
   "cell_type": "code",
   "execution_count": 1,
   "metadata": {},
   "outputs": [],
   "source": [
    "%matplotlib inline\n",
    "import numpy as np\n",
    "import pandas as pd\n",
    "import matplotlib.pyplot as plt\n",
    "import seaborn as sns\n",
    "from scipy.stats import pearsonr\n",
    "from talib import RSI, BBANDS, MACD, ATR"
   ]
  },
  {
   "cell_type": "code",
   "execution_count": 2,
   "metadata": {},
   "outputs": [],
   "source": [
    "MONTH = 21\n",
    "YEAR = 12 * MONTH"
   ]
  },
  {
   "cell_type": "code",
   "execution_count": 3,
   "metadata": {},
   "outputs": [],
   "source": [
    "START = '2013-01-01'\n",
    "END = '2017-12-31'"
   ]
  },
  {
   "cell_type": "code",
   "execution_count": 4,
   "metadata": {},
   "outputs": [],
   "source": [
    "sns.set_style('darkgrid')\n",
    "idx = pd.IndexSlice"
   ]
  },
  {
   "cell_type": "markdown",
   "metadata": {},
   "source": [
    "## Loading Quandl Wiki Stock Prices & Meta Data"
   ]
  },
  {
   "cell_type": "code",
   "execution_count": 9,
   "metadata": {},
   "outputs": [],
   "source": [
    "DATA_STORE = '../data/assets.h5'\n",
    "with pd.HDFStore(DATA_STORE) as store:\n",
    "    prices = (store['quandl/wiki/prices']\n",
    "              .loc[idx[START:END, :],\n",
    "                   ['adj_open', 'adj_close', 'adj_low', \n",
    "                    'adj_high', 'adj_volume']]\n",
    "              .rename(columns=lambda x: x.replace('adj_', ''))\n",
    "              .swaplevel()\n",
    "              .sort_index())\n",
    "    prices.volume /= 1e3\n",
    "    stocks = (store['us_equities/stocks']\n",
    "              .loc[:, ['marketcap', 'ipoyear', 'sector']])"
   ]
  },
  {
   "cell_type": "markdown",
   "metadata": {},
   "source": [
    "## Remove stocks with few observations"
   ]
  },
  {
   "cell_type": "code",
   "execution_count": 10,
   "metadata": {},
   "outputs": [],
   "source": [
    "min_obs = 2 * YEAR\n",
    "nobs = prices.groupby(level='ticker').size()\n",
    "keep = nobs[nobs > min_obs].index\n",
    "prices = prices.loc[idx[keep, :], :]"
   ]
  },
  {
   "cell_type": "markdown",
   "metadata": {},
   "source": [
    "### Align price and meta data"
   ]
  },
  {
   "cell_type": "code",
   "execution_count": 11,
   "metadata": {},
   "outputs": [],
   "source": [
    "stocks = stocks[~stocks.index.duplicated() & stocks.sector.notnull()]\n",
    "stocks.sector = stocks.sector.str.lower().str.replace(' ', '_')\n",
    "stocks.index.name = 'ticker'"
   ]
  },
  {
   "cell_type": "code",
   "execution_count": 12,
   "metadata": {},
   "outputs": [],
   "source": [
    "shared = (prices.index.get_level_values('ticker').unique()\n",
    "          .intersection(stocks.index))\n",
    "stocks = stocks.loc[shared, :]\n",
    "prices = prices.loc[idx[shared, :], :]"
   ]
  },
  {
   "cell_type": "code",
   "execution_count": 13,
   "metadata": {},
   "outputs": [
    {
     "name": "stdout",
     "output_type": "stream",
     "text": [
      "<class 'pandas.core.frame.DataFrame'>\n",
      "MultiIndex: 2748774 entries, (A, 2013-01-02 00:00:00) to (ZUMZ, 2017-12-29 00:00:00)\n",
      "Data columns (total 5 columns):\n",
      "open      2748774 non-null float64\n",
      "close     2748774 non-null float64\n",
      "low       2748774 non-null float64\n",
      "high      2748774 non-null float64\n",
      "volume    2748774 non-null float64\n",
      "dtypes: float64(5)\n",
      "memory usage: 115.5+ MB\n"
     ]
    }
   ],
   "source": [
    "prices.info(null_counts=True)"
   ]
  },
  {
   "cell_type": "code",
   "execution_count": 14,
   "metadata": {
    "scrolled": true
   },
   "outputs": [
    {
     "name": "stdout",
     "output_type": "stream",
     "text": [
      "<class 'pandas.core.frame.DataFrame'>\n",
      "Index: 2224 entries, A to ZUMZ\n",
      "Data columns (total 3 columns):\n",
      "marketcap    2222 non-null float64\n",
      "ipoyear      962 non-null float64\n",
      "sector       2224 non-null object\n",
      "dtypes: float64(2), object(1)\n",
      "memory usage: 69.5+ KB\n"
     ]
    }
   ],
   "source": [
    "stocks.info()"
   ]
  },
  {
   "cell_type": "code",
   "execution_count": 50,
   "metadata": {},
   "outputs": [
    {
     "data": {
      "text/plain": [
       "consumer_services        415\n",
       "finance                  368\n",
       "technology               284\n",
       "health_care              276\n",
       "capital_goods            225\n",
       "basic_industries         133\n",
       "consumer_non-durables    120\n",
       "energy                   114\n",
       "public_utilities          98\n",
       "consumer_durables         74\n",
       "miscellaneous             63\n",
       "transportation            54\n",
       "Name: sector, dtype: int64"
      ]
     },
     "execution_count": 50,
     "metadata": {},
     "output_type": "execute_result"
    }
   ],
   "source": [
    "stocks.sector.value_counts()"
   ]
  },
  {
   "cell_type": "markdown",
   "metadata": {},
   "source": [
    "## Compute Rolling Average Dollar Volume"
   ]
  },
  {
   "cell_type": "code",
   "execution_count": 16,
   "metadata": {},
   "outputs": [],
   "source": [
    "# compute dollar volume to determine universe\n",
    "prices['dollar_vol'] = prices.loc[:, 'close'].mul(prices.loc[:, 'volume'], axis=0)\n",
    "prices['dollar_vol'] = (prices\n",
    "                        .groupby('ticker',\n",
    "                                 group_keys=False,\n",
    "                                 as_index=False)\n",
    "                        .dollar_vol\n",
    "                        .rolling(window=21)\n",
    "                        .mean()\n",
    "                        .fillna(0)\n",
    "                        .reset_index(level=0, drop=True))\n",
    "prices.dollar_vol /= 1e3"
   ]
  },
  {
   "cell_type": "code",
   "execution_count": 17,
   "metadata": {},
   "outputs": [],
   "source": [
    "prices['dollar_vol_rank'] = (prices\n",
    "                             .groupby('date')\n",
    "                             .dollar_vol\n",
    "                             .rank(ascending=False))"
   ]
  },
  {
   "cell_type": "markdown",
   "metadata": {},
   "source": [
    "## Add some Basic Factors"
   ]
  },
  {
   "cell_type": "markdown",
   "metadata": {},
   "source": [
    "### Compute the Relative Strength Index"
   ]
  },
  {
   "cell_type": "code",
   "execution_count": 19,
   "metadata": {},
   "outputs": [],
   "source": [
    "prices['rsi'] = prices.groupby(level='ticker').close.apply(RSI)"
   ]
  },
  {
   "cell_type": "code",
   "execution_count": 20,
   "metadata": {},
   "outputs": [
    {
     "data": {
      "image/png": "[encoded data removed]",
      "text/plain": [
       "<Figure size 432x288 with 1 Axes>"
      ]
     },
     "metadata": {},
     "output_type": "display_data"
    }
   ],
   "source": [
    "ax = sns.distplot(prices.rsi.dropna())\n",
    "ax.axvline(30, ls='--', lw=1, c='k')\n",
    "ax.axvline(70, ls='--', lw=1, c='k')\n",
    "ax.set_title('RSI Distribution with Signal Threshold')\n",
    "plt.tight_layout();"
   ]
  },
  {
   "cell_type": "markdown",
   "metadata": {},
   "source": [
    "### Compute Bollinger Bands"
   ]
  },
  {
   "cell_type": "code",
   "execution_count": 21,
   "metadata": {},
   "outputs": [],
   "source": [
    "def compute_bb(close):\n",
    "    high, mid, low = BBANDS(close, timeperiod=20)\n",
    "    return pd.DataFrame({'bb_high': high, 'bb_low': low}, index=close.index)"
   ]
  },
  {
   "cell_type": "code",
   "execution_count": 22,
   "metadata": {},
   "outputs": [],
   "source": [
    "prices = (prices.join(prices\n",
    "                      .groupby(level='ticker')\n",
    "                      .close\n",
    "                      .apply(compute_bb)))"
   ]
  },
  {
   "cell_type": "code",
   "execution_count": 23,
   "metadata": {},
   "outputs": [],
   "source": [
    "prices['bb_high'] = prices.bb_high.sub(prices.close).div(prices.bb_high).apply(np.log1p)\n",
    "prices['bb_low'] = prices.close.sub(prices.bb_low).div(prices.close).apply(np.log1p)"
   ]
  },
  {
   "cell_type": "code",
   "execution_count": 24,
   "metadata": {
    "scrolled": true
   },
   "outputs": [
    {
     "data": {
      "image/png": "[encoded data removed]",
      "text/plain": [
       "<Figure size 1080x360 with 2 Axes>"
      ]
     },
     "metadata": {},
     "output_type": "display_data"
    }
   ],
   "source": [
    "fig, axes = plt.subplots(ncols=2, figsize=(15, 5))\n",
    "sns.distplot(prices.loc[prices.dollar_vol_rank<100, 'bb_low'].dropna(), ax=axes[0])\n",
    "sns.distplot(prices.loc[prices.dollar_vol_rank<100, 'bb_high'].dropna(), ax=axes[1])\n",
    "plt.tight_layout();"
   ]
  },
  {
   "cell_type": "markdown",
   "metadata": {},
   "source": [
    "### Compute Average True Range"
   ]
  },
  {
   "cell_type": "code",
   "execution_count": 25,
   "metadata": {},
   "outputs": [],
   "source": [
    "def compute_atr(stock_data):\n",
    "    df = ATR(stock_data.high, stock_data.low, \n",
    "             stock_data.close, timeperiod=14)\n",
    "    return df.sub(df.mean()).div(df.std())"
   ]
  },
  {
   "cell_type": "code",
   "execution_count": 26,
   "metadata": {},
   "outputs": [],
   "source": [
    "prices['atr'] = (prices.groupby('ticker', group_keys=False)\n",
    "                 .apply(compute_atr))"
   ]
  },
  {
   "cell_type": "code",
   "execution_count": 27,
   "metadata": {},
   "outputs": [
    {
     "data": {
      "image/png": "[encoded data removed]",
      "text/plain": [
       "<Figure size 432x288 with 1 Axes>"
      ]
     },
     "metadata": {},
     "output_type": "display_data"
    }
   ],
   "source": [
    "sns.distplot(prices[prices.dollar_vol_rank<50].atr.dropna());"
   ]
  },
  {
   "cell_type": "markdown",
   "metadata": {},
   "source": [
    "### Compute Moving Average Convergence/Divergence"
   ]
  },
  {
   "cell_type": "code",
   "execution_count": 28,
   "metadata": {},
   "outputs": [],
   "source": [
    "def compute_macd(close):\n",
    "    macd = MACD(close)[0]\n",
    "    return (macd - np.mean(macd))/np.std(macd)"
   ]
  },
  {
   "cell_type": "code",
   "execution_count": 29,
   "metadata": {},
   "outputs": [],
   "source": [
    "prices['macd'] = (prices\n",
    "                  .groupby('ticker', group_keys=False)\n",
    "                  .close\n",
    "                  .apply(compute_macd))"
   ]
  },
  {
   "cell_type": "code",
   "execution_count": 30,
   "metadata": {},
   "outputs": [
    {
     "data": {
      "text/plain": [
       "count    2,675,382.0\n",
       "mean            -0.0\n",
       "std              1.0\n",
       "min            -10.5\n",
       "0.1%            -4.1\n",
       "1%              -2.6\n",
       "2%              -2.2\n",
       "3%              -2.0\n",
       "4%              -1.8\n",
       "5%              -1.6\n",
       "50%              0.0\n",
       "95%              1.6\n",
       "96%              1.7\n",
       "97%              1.9\n",
       "98%              2.1\n",
       "99%              2.6\n",
       "99.9%            4.0\n",
       "max              8.7\n",
       "Name: macd, dtype: object"
      ]
     },
     "execution_count": 30,
     "metadata": {},
     "output_type": "execute_result"
    }
   ],
   "source": [
    "prices.macd.describe(percentiles=[.001, .01, .02, .03, .04, .05, .95, .96, .97, .98, .99, .999]).apply(lambda x: f'{x:,.1f}')"
   ]
  },
  {
   "cell_type": "code",
   "execution_count": 31,
   "metadata": {},
   "outputs": [
    {
     "data": {
      "image/png": "[encoded data removed]",
      "text/plain": [
       "<Figure size 432x288 with 1 Axes>"
      ]
     },
     "metadata": {},
     "output_type": "display_data"
    }
   ],
   "source": [
    "sns.distplot(prices[prices.dollar_vol_rank<100].macd.dropna());"
   ]
  },
  {
   "cell_type": "markdown",
   "metadata": {},
   "source": [
    "## Compute Lagged Returns"
   ]
  },
  {
   "cell_type": "code",
   "execution_count": 32,
   "metadata": {},
   "outputs": [],
   "source": [
    "lags = [1, 5, 10, 21, 42, 63]"
   ]
  },
  {
   "cell_type": "code",
   "execution_count": 33,
   "metadata": {},
   "outputs": [
    {
     "data": {
      "text/html": [
       "<style  type=\"text/css\" >\n",
       "</style><table id=\"T_79e15d64_08e4_11ea_aa70_1cbfceaa82d1\" ><thead>    <tr>        <th class=\"blank level0\" ></th>        <th class=\"col_heading level0 col0\" >percentiles</th>    </tr></thead><tbody>\n",
       "                <tr>\n",
       "                        <th id=\"T_79e15d64_08e4_11ea_aa70_1cbfceaa82d1level0_row0\" class=\"row_heading level0 row0\" >std</th>\n",
       "                        <td id=\"T_79e15d64_08e4_11ea_aa70_1cbfceaa82d1row0_col0\" class=\"data row0 col0\" >9.53%</td>\n",
       "            </tr>\n",
       "            <tr>\n",
       "                        <th id=\"T_79e15d64_08e4_11ea_aa70_1cbfceaa82d1level0_row1\" class=\"row_heading level0 row1\" >min</th>\n",
       "                        <td id=\"T_79e15d64_08e4_11ea_aa70_1cbfceaa82d1row1_col0\" class=\"data row1 col0\" >-87.57%</td>\n",
       "            </tr>\n",
       "            <tr>\n",
       "                        <th id=\"T_79e15d64_08e4_11ea_aa70_1cbfceaa82d1level0_row2\" class=\"row_heading level0 row2\" >0.01%</th>\n",
       "                        <td id=\"T_79e15d64_08e4_11ea_aa70_1cbfceaa82d1row2_col0\" class=\"data row2 col0\" >-32.88%</td>\n",
       "            </tr>\n",
       "            <tr>\n",
       "                        <th id=\"T_79e15d64_08e4_11ea_aa70_1cbfceaa82d1level0_row3\" class=\"row_heading level0 row3\" >0.1%</th>\n",
       "                        <td id=\"T_79e15d64_08e4_11ea_aa70_1cbfceaa82d1row3_col0\" class=\"data row3 col0\" >-14.69%</td>\n",
       "            </tr>\n",
       "            <tr>\n",
       "                        <th id=\"T_79e15d64_08e4_11ea_aa70_1cbfceaa82d1level0_row4\" class=\"row_heading level0 row4\" >1%</th>\n",
       "                        <td id=\"T_79e15d64_08e4_11ea_aa70_1cbfceaa82d1row4_col0\" class=\"data row4 col0\" >-6.47%</td>\n",
       "            </tr>\n",
       "            <tr>\n",
       "                        <th id=\"T_79e15d64_08e4_11ea_aa70_1cbfceaa82d1level0_row5\" class=\"row_heading level0 row5\" >50%</th>\n",
       "                        <td id=\"T_79e15d64_08e4_11ea_aa70_1cbfceaa82d1row5_col0\" class=\"data row5 col0\" >0.04%</td>\n",
       "            </tr>\n",
       "            <tr>\n",
       "                        <th id=\"T_79e15d64_08e4_11ea_aa70_1cbfceaa82d1level0_row6\" class=\"row_heading level0 row6\" >99%</th>\n",
       "                        <td id=\"T_79e15d64_08e4_11ea_aa70_1cbfceaa82d1row6_col0\" class=\"data row6 col0\" >6.92%</td>\n",
       "            </tr>\n",
       "            <tr>\n",
       "                        <th id=\"T_79e15d64_08e4_11ea_aa70_1cbfceaa82d1level0_row7\" class=\"row_heading level0 row7\" >99.9%</th>\n",
       "                        <td id=\"T_79e15d64_08e4_11ea_aa70_1cbfceaa82d1row7_col0\" class=\"data row7 col0\" >16.87%</td>\n",
       "            </tr>\n",
       "            <tr>\n",
       "                        <th id=\"T_79e15d64_08e4_11ea_aa70_1cbfceaa82d1level0_row8\" class=\"row_heading level0 row8\" >99.99%</th>\n",
       "                        <td id=\"T_79e15d64_08e4_11ea_aa70_1cbfceaa82d1row8_col0\" class=\"data row8 col0\" >39.26%</td>\n",
       "            </tr>\n",
       "            <tr>\n",
       "                        <th id=\"T_79e15d64_08e4_11ea_aa70_1cbfceaa82d1level0_row9\" class=\"row_heading level0 row9\" >max</th>\n",
       "                        <td id=\"T_79e15d64_08e4_11ea_aa70_1cbfceaa82d1row9_col0\" class=\"data row9 col0\" >10,280.40%</td>\n",
       "            </tr>\n",
       "    </tbody></table>"
      ],
      "text/plain": [
       "<pandas.io.formats.style.Styler at 0x7ff8efc503c8>"
      ]
     },
     "execution_count": 33,
     "metadata": {},
     "output_type": "execute_result"
    }
   ],
   "source": [
    "returns = prices.groupby(level='ticker').close.pct_change()\n",
    "percentiles=[.0001, .001, .01]\n",
    "percentiles+= [1-p for p in percentiles]\n",
    "returns.describe(percentiles=percentiles).iloc[2:].to_frame('percentiles').style.format(lambda x: f'{x:,.2%}')"
   ]
  },
  {
   "cell_type": "code",
   "execution_count": 34,
   "metadata": {},
   "outputs": [],
   "source": [
    "q = 0.0001"
   ]
  },
  {
   "cell_type": "code",
   "execution_count": 35,
   "metadata": {},
   "outputs": [],
   "source": [
    "for lag in lags:\n",
    "    prices[f'return_{lag}d'] = (prices.groupby(level='ticker').close\n",
    "                                .pct_change(lag)\n",
    "                                .pipe(lambda x: x.clip(lower=x.quantile(q),\n",
    "                                                       upper=x.quantile(1 - q)))\n",
    "                                .add(1)\n",
    "                                .pow(1 / lag)\n",
    "                                .sub(1)\n",
    "                                )"
   ]
  },
  {
   "cell_type": "markdown",
   "metadata": {},
   "source": [
    "### Shift lagged returns"
   ]
  },
  {
   "cell_type": "code",
   "execution_count": 36,
   "metadata": {},
   "outputs": [],
   "source": [
    "for t in [1, 2, 3, 4, 5]:\n",
    "    for lag in [1, 5, 10, 21]:\n",
    "        prices[f'return_{lag}d_lag{t}'] = (prices.groupby(level='ticker')\n",
    "                                           [f'return_{lag}d'].shift(t * lag))"
   ]
  },
  {
   "cell_type": "markdown",
   "metadata": {},
   "source": [
    "## Compute Forward Returns"
   ]
  },
  {
   "cell_type": "code",
   "execution_count": 37,
   "metadata": {},
   "outputs": [],
   "source": [
    "for t in [1, 5, 10, 21]:\n",
    "    prices[f'target_{t}d'] = prices.groupby(level='ticker')[f'return_{t}d'].shift(-t)"
   ]
  },
  {
   "cell_type": "markdown",
   "metadata": {},
   "source": [
    "## Combine Price and Meta Data"
   ]
  },
  {
   "cell_type": "code",
   "execution_count": 38,
   "metadata": {},
   "outputs": [],
   "source": [
    "prices = prices.join(stocks[['sector']])"
   ]
  },
  {
   "cell_type": "markdown",
   "metadata": {},
   "source": [
    "## Create time and sector dummy variables"
   ]
  },
  {
   "cell_type": "code",
   "execution_count": 39,
   "metadata": {},
   "outputs": [],
   "source": [
    "prices['year'] = prices.index.get_level_values('date').year\n",
    "prices['month'] = prices.index.get_level_values('date').month"
   ]
  },
  {
   "cell_type": "code",
   "execution_count": 40,
   "metadata": {},
   "outputs": [],
   "source": [
    "prices = pd.get_dummies(prices,\n",
    "                        columns=['year', 'month', 'sector'],\n",
    "                        prefix=['year', 'month', ''],\n",
    "                        prefix_sep=['_', '_', ''],\n",
    "                        drop_first=True)"
   ]
  },
  {
   "cell_type": "code",
   "execution_count": 41,
   "metadata": {
    "scrolled": false
   },
   "outputs": [
    {
     "name": "stdout",
     "output_type": "stream",
     "text": [
      "<class 'pandas.core.frame.DataFrame'>\n",
      "MultiIndex: 2748774 entries, (A, 2013-01-02 00:00:00) to (ZUMZ, 2017-12-29 00:00:00)\n",
      "Data columns (total 68 columns):\n",
      "open                     2748774 non-null float64\n",
      "close                    2748774 non-null float64\n",
      "low                      2748774 non-null float64\n",
      "high                     2748774 non-null float64\n",
      "volume                   2748774 non-null float64\n",
      "dollar_vol               2748774 non-null float64\n",
      "dollar_vol_rank          2748774 non-null float64\n",
      "rsi                      2717638 non-null float64\n",
      "bb_high                  2706515 non-null float64\n",
      "bb_low                   2706486 non-null float64\n",
      "atr                      2717638 non-null float64\n",
      "macd                     2675382 non-null float64\n",
      "return_1d                2746550 non-null float64\n",
      "return_5d                2737654 non-null float64\n",
      "return_10d               2726534 non-null float64\n",
      "return_21d               2702070 non-null float64\n",
      "return_42d               2655366 non-null float64\n",
      "return_63d               2608662 non-null float64\n",
      "return_1d_lag1           2744326 non-null float64\n",
      "return_5d_lag1           2726534 non-null float64\n",
      "return_10d_lag1          2704294 non-null float64\n",
      "return_21d_lag1          2655366 non-null float64\n",
      "return_1d_lag2           2742102 non-null float64\n",
      "return_5d_lag2           2715414 non-null float64\n",
      "return_10d_lag2          2682054 non-null float64\n",
      "return_21d_lag2          2608662 non-null float64\n",
      "return_1d_lag3           2739878 non-null float64\n",
      "return_5d_lag3           2704294 non-null float64\n",
      "return_10d_lag3          2659814 non-null float64\n",
      "return_21d_lag3          2561958 non-null float64\n",
      "return_1d_lag4           2737654 non-null float64\n",
      "return_5d_lag4           2693174 non-null float64\n",
      "return_10d_lag4          2637574 non-null float64\n",
      "return_21d_lag4          2515254 non-null float64\n",
      "return_1d_lag5           2735430 non-null float64\n",
      "return_5d_lag5           2682054 non-null float64\n",
      "return_10d_lag5          2615334 non-null float64\n",
      "return_21d_lag5          2468550 non-null float64\n",
      "target_1d                2746550 non-null float64\n",
      "target_5d                2737654 non-null float64\n",
      "target_10d               2726534 non-null float64\n",
      "target_21d               2702070 non-null float64\n",
      "year_2014                2748774 non-null uint8\n",
      "year_2015                2748774 non-null uint8\n",
      "year_2016                2748774 non-null uint8\n",
      "year_2017                2748774 non-null uint8\n",
      "month_2                  2748774 non-null uint8\n",
      "month_3                  2748774 non-null uint8\n",
      "month_4                  2748774 non-null uint8\n",
      "month_5                  2748774 non-null uint8\n",
      "month_6                  2748774 non-null uint8\n",
      "month_7                  2748774 non-null uint8\n",
      "month_8                  2748774 non-null uint8\n",
      "month_9                  2748774 non-null uint8\n",
      "month_10                 2748774 non-null uint8\n",
      "month_11                 2748774 non-null uint8\n",
      "month_12                 2748774 non-null uint8\n",
      "capital_goods            2748774 non-null uint8\n",
      "consumer_durables        2748774 non-null uint8\n",
      "consumer_non-durables    2748774 non-null uint8\n",
      "consumer_services        2748774 non-null uint8\n",
      "energy                   2748774 non-null uint8\n",
      "finance                  2748774 non-null uint8\n",
      "health_care              2748774 non-null uint8\n",
      "miscellaneous            2748774 non-null uint8\n",
      "public_utilities         2748774 non-null uint8\n",
      "technology               2748774 non-null uint8\n",
      "transportation           2748774 non-null uint8\n",
      "dtypes: float64(42), uint8(26)\n",
      "memory usage: 1.0+ GB\n"
     ]
    }
   ],
   "source": [
    "prices.info(null_counts=True)"
   ]
  },
  {
   "cell_type": "markdown",
   "metadata": {},
   "source": [
    "## Store Model Data"
   ]
  },
  {
   "cell_type": "code",
   "execution_count": 42,
   "metadata": {},
   "outputs": [],
   "source": [
    "prices.to_hdf('data.h5', 'model_data')"
   ]
  },
  {
   "cell_type": "markdown",
   "metadata": {},
   "source": [
    "## Explore Data"
   ]
  },
  {
   "cell_type": "markdown",
   "metadata": {},
   "source": [
    "### Plot Factors"
   ]
  },
  {
   "cell_type": "code",
   "execution_count": 43,
   "metadata": {},
   "outputs": [],
   "source": [
    "target = 'target_5d'\n",
    "top100 = prices[prices.dollar_vol_rank<100].copy()"
   ]
  },
  {
   "cell_type": "markdown",
   "metadata": {},
   "source": [
    "### RSI"
   ]
  },
  {
   "cell_type": "code",
   "execution_count": 44,
   "metadata": {},
   "outputs": [],
   "source": [
    "top100.loc[:, 'rsi_signal'] = pd.cut(top100.rsi, bins=[0, 30, 70, 100])"
   ]
  },
  {
   "cell_type": "code",
   "execution_count": 45,
   "metadata": {},
   "outputs": [
    {
     "data": {
      "text/html": [
       "<div>\n",
       "<style scoped>\n",
       "    .dataframe tbody tr th:only-of-type {\n",
       "        vertical-align: middle;\n",
       "    }\n",
       "\n",
       "    .dataframe tbody tr th {\n",
       "        vertical-align: top;\n",
       "    }\n",
       "\n",
       "    .dataframe thead th {\n",
       "        text-align: right;\n",
       "    }\n",
       "</style>\n",
       "<table border=\"1\" class=\"dataframe\">\n",
       "  <thead>\n",
       "    <tr style=\"text-align: right;\">\n",
       "      <th></th>\n",
       "      <th>count</th>\n",
       "      <th>mean</th>\n",
       "      <th>std</th>\n",
       "      <th>min</th>\n",
       "      <th>25%</th>\n",
       "      <th>50%</th>\n",
       "      <th>75%</th>\n",
       "      <th>max</th>\n",
       "    </tr>\n",
       "    <tr>\n",
       "      <th>rsi_signal</th>\n",
       "      <th></th>\n",
       "      <th></th>\n",
       "      <th></th>\n",
       "      <th></th>\n",
       "      <th></th>\n",
       "      <th></th>\n",
       "      <th></th>\n",
       "      <th></th>\n",
       "    </tr>\n",
       "  </thead>\n",
       "  <tbody>\n",
       "    <tr>\n",
       "      <th>(0, 30]</th>\n",
       "      <td>4154.0</td>\n",
       "      <td>0.001213</td>\n",
       "      <td>0.010133</td>\n",
       "      <td>-0.054536</td>\n",
       "      <td>-0.003448</td>\n",
       "      <td>0.001104</td>\n",
       "      <td>0.006196</td>\n",
       "      <td>0.046050</td>\n",
       "    </tr>\n",
       "    <tr>\n",
       "      <th>(30, 70]</th>\n",
       "      <td>107329.0</td>\n",
       "      <td>0.000468</td>\n",
       "      <td>0.007559</td>\n",
       "      <td>-0.164788</td>\n",
       "      <td>-0.003036</td>\n",
       "      <td>0.000649</td>\n",
       "      <td>0.004244</td>\n",
       "      <td>0.075653</td>\n",
       "    </tr>\n",
       "    <tr>\n",
       "      <th>(70, 100]</th>\n",
       "      <td>10599.0</td>\n",
       "      <td>0.000017</td>\n",
       "      <td>0.006344</td>\n",
       "      <td>-0.087857</td>\n",
       "      <td>-0.002828</td>\n",
       "      <td>0.000138</td>\n",
       "      <td>0.003104</td>\n",
       "      <td>0.058570</td>\n",
       "    </tr>\n",
       "  </tbody>\n",
       "</table>\n",
       "</div>"
      ],
      "text/plain": [
       "               count      mean       std       min       25%       50%  \\\n",
       "rsi_signal                                                               \n",
       "(0, 30]       4154.0  0.001213  0.010133 -0.054536 -0.003448  0.001104   \n",
       "(30, 70]    107329.0  0.000468  0.007559 -0.164788 -0.003036  0.000649   \n",
       "(70, 100]    10599.0  0.000017  0.006344 -0.087857 -0.002828  0.000138   \n",
       "\n",
       "                 75%       max  \n",
       "rsi_signal                      \n",
       "(0, 30]     0.006196  0.046050  \n",
       "(30, 70]    0.004244  0.075653  \n",
       "(70, 100]   0.003104  0.058570  "
      ]
     },
     "execution_count": 45,
     "metadata": {},
     "output_type": "execute_result"
    }
   ],
   "source": [
    "top100.groupby('rsi_signal')['target_5d'].describe()"
   ]
  },
  {
   "cell_type": "markdown",
   "metadata": {},
   "source": [
    "### Bollinger Bands"
   ]
  },
  {
   "cell_type": "code",
   "execution_count": 46,
   "metadata": {
    "scrolled": false
   },
   "outputs": [
    {
     "name": "stderr",
     "output_type": "stream",
     "text": [
      "/home/stefan/.pyenv/versions/miniconda3-latest/envs/ml4t/lib/python3.6/site-packages/seaborn/axisgrid.py:1847: UserWarning: JointGrid annotation is deprecated and will be removed in a future release.\n",
      "  warnings.warn(UserWarning(msg))\n"
     ]
    },
    {
     "data": {
      "image/png": "[encoded data removed]",
      "text/plain": [
       "<Figure size 432x432 with 3 Axes>"
      ]
     },
     "metadata": {},
     "output_type": "display_data"
    }
   ],
   "source": [
    "j=sns.jointplot(x=top100.bb_low, y=target, data=top100)\n",
    "j.annotate(pearsonr);"
   ]
  },
  {
   "cell_type": "code",
   "execution_count": 47,
   "metadata": {
    "scrolled": false
   },
   "outputs": [
    {
     "name": "stderr",
     "output_type": "stream",
     "text": [
      "/home/stefan/.pyenv/versions/miniconda3-latest/envs/ml4t/lib/python3.6/site-packages/seaborn/axisgrid.py:1847: UserWarning: JointGrid annotation is deprecated and will be removed in a future release.\n",
      "  warnings.warn(UserWarning(msg))\n"
     ]
    },
    {
     "data": {
      "image/png": "[encoded data removed]",
      "text/plain": [
       "<Figure size 432x432 with 3 Axes>"
      ]
     },
     "metadata": {},
     "output_type": "display_data"
    }
   ],
   "source": [
    "j=sns.jointplot(x='bb_high', y=target, data=top100)\n",
    "j.annotate(pearsonr);"
   ]
  },
  {
   "cell_type": "markdown",
   "metadata": {},
   "source": [
    "### ATR"
   ]
  },
  {
   "cell_type": "code",
   "execution_count": 48,
   "metadata": {},
   "outputs": [
    {
     "name": "stderr",
     "output_type": "stream",
     "text": [
      "/home/stefan/.pyenv/versions/miniconda3-latest/envs/ml4t/lib/python3.6/site-packages/seaborn/axisgrid.py:1847: UserWarning: JointGrid annotation is deprecated and will be removed in a future release.\n",
      "  warnings.warn(UserWarning(msg))\n"
     ]
    },
    {
     "data": {
      "image/png": "[encoded data removed]",
      "text/plain": [
       "<Figure size 432x432 with 3 Axes>"
      ]
     },
     "metadata": {},
     "output_type": "display_data"
    }
   ],
   "source": [
    "j=sns.jointplot(x='atr', y=target, data=top100)\n",
    "j.annotate(pearsonr);"
   ]
  },
  {
   "cell_type": "markdown",
   "metadata": {},
   "source": [
    "### MACD"
   ]
  },
  {
   "cell_type": "code",
   "execution_count": 49,
   "metadata": {},
   "outputs": [
    {
     "name": "stderr",
     "output_type": "stream",
     "text": [
      "/home/stefan/.pyenv/versions/miniconda3-latest/envs/ml4t/lib/python3.6/site-packages/seaborn/axisgrid.py:1847: UserWarning: JointGrid annotation is deprecated and will be removed in a future release.\n",
      "  warnings.warn(UserWarning(msg))\n"
     ]
    },
    {
     "data": {
      "image/png": "[encoded data removed]",
      "text/plain": [
       "<Figure size 432x432 with 3 Axes>"
      ]
     },
     "metadata": {},
     "output_type": "display_data"
    }
   ],
   "source": [
    "j=sns.jointplot(x='macd', y=target, data=top100)\n",
    "j.annotate(pearsonr);"
   ]
  }
 ],
 "metadata": {
  "kernelspec": {
   "display_name": "Python 3",
   "language": "python",
   "name": "python3"
  },
  "language_info": {
   "codemirror_mode": {
    "name": "ipython",
    "version": 3
   },
   "file_extension": ".py",
   "mimetype": "text/x-python",
   "name": "python",
   "nbconvert_exporter": "python",
   "pygments_lexer": "ipython3",
   "version": "3.6.8"
  },
  "toc": {
   "base_numbering": 1,
   "nav_menu": {},
   "number_sections": true,
   "sideBar": true,
   "skip_h1_title": true,
   "title_cell": "Table of Contents",
   "title_sidebar": "Contents",
   "toc_cell": false,
   "toc_position": {},
   "toc_section_display": true,
   "toc_window_display": true
  }
 },
 "nbformat": 4,
 "nbformat_minor": 2
}
