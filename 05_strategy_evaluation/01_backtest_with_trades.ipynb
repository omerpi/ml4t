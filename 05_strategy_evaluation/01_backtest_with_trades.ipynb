{
 "cells": [
  {
   "cell_type": "markdown",
   "metadata": {},
   "source": [
    "# zipline MeanReversion Backtest"
   ]
  },
  {
   "cell_type": "markdown",
   "metadata": {},
   "source": [
    "In the chapter 04, we introduced `zipline` to simulate the computation of alpha factors from trailing cross-sectional market, fundamental, and alternative data. \n",
    "\n",
    "Now we will exploit the alpha factors to derive and act on buy and sell signals using the custom MeanReversion factor developed in the last chapter."
   ]
  },
  {
   "cell_type": "markdown",
   "metadata": {},
   "source": [
    "## Using Zipline"
   ]
  },
  {
   "cell_type": "markdown",
   "metadata": {},
   "source": [
    "This notebook uses the `conda` environnment `ml4t-zipline`.\n",
    "\n",
    "Please follow the instructions provided [here](../../installation/)."
   ]
  },
  {
   "cell_type": "markdown",
   "metadata": {},
   "source": [
    "## Imports"
   ]
  },
  {
   "cell_type": "code",
   "execution_count": 1,
   "metadata": {
    "ExecuteTime": {
     "end_time": "2020-12-30T23:08:25.878348Z",
     "start_time": "2020-12-30T23:08:25.876346Z"
    }
   },
   "outputs": [],
   "source": [
    "# !zipline ingest"
   ]
  },
  {
   "cell_type": "code",
   "execution_count": 2,
   "metadata": {
    "ExecuteTime": {
     "end_time": "2020-12-30T23:08:25.887906Z",
     "start_time": "2020-12-30T23:08:25.879651Z"
    }
   },
   "outputs": [],
   "source": [
    "import warnings\n",
    "warnings.filterwarnings('ignore')"
   ]
  },
  {
   "cell_type": "code",
   "execution_count": 3,
   "metadata": {
    "ExecuteTime": {
     "end_time": "2020-12-30T23:08:26.773955Z",
     "start_time": "2020-12-30T23:08:25.890318Z"
    }
   },
   "outputs": [],
   "source": [
    "import sys\n",
    "import numpy as np\n",
    "import pandas as pd\n",
    "from pytz import UTC\n",
    "import logbook\n",
    "\n",
    "import matplotlib.pyplot as plt\n",
    "import seaborn as sns\n",
    "\n",
    "from zipline import run_algorithm\n",
    "from zipline.api import (attach_pipeline, \n",
    "                         date_rules, \n",
    "                         time_rules, \n",
    "                         order_target_percent,\n",
    "                         pipeline_output, \n",
    "                         record, \n",
    "                         schedule_function, \n",
    "                         get_open_orders, \n",
    "                         calendars,\n",
    "                         set_commission, \n",
    "                         set_slippage)\n",
    "from zipline.finance import commission, slippage\n",
    "from zipline.pipeline import Pipeline, CustomFactor\n",
    "from zipline.pipeline.factors import Returns, AverageDollarVolume\n",
    "\n",
    "from pyfolio.utils import extract_rets_pos_txn_from_zipline"
   ]
  },
  {
   "cell_type": "code",
   "execution_count": null,
   "metadata": {
    "ExecuteTime": {
     "start_time": "2020-12-30T23:08:25.876Z"
    }
   },
   "outputs": [],
   "source": [
    "sns.set_style('whitegrid')"
   ]
  },
  {
   "cell_type": "markdown",
   "metadata": {},
   "source": [
    "## Logging Setup"
   ]
  },
  {
   "cell_type": "code",
   "execution_count": null,
   "metadata": {
    "ExecuteTime": {
     "start_time": "2020-12-30T23:08:25.878Z"
    }
   },
   "outputs": [],
   "source": [
    "# setup stdout logging\n",
    "zipline_logging = logbook.NestedSetup([\n",
    "    logbook.NullHandler(level=logbook.DEBUG),\n",
    "    logbook.StreamHandler(sys.stdout, level=logbook.INFO),\n",
    "    logbook.StreamHandler(sys.stderr, level=logbook.ERROR),\n",
    "])\n",
    "zipline_logging.push_application()"
   ]
  },
  {
   "cell_type": "markdown",
   "metadata": {},
   "source": [
    "## Algo Settings"
   ]
  },
  {
   "cell_type": "code",
   "execution_count": null,
   "metadata": {
    "ExecuteTime": {
     "start_time": "2020-12-30T23:08:25.882Z"
    }
   },
   "outputs": [],
   "source": [
    "# Settings\n",
    "MONTH = 21\n",
    "YEAR = 12 * MONTH\n",
    "N_LONGS = 50\n",
    "N_SHORTS = 50\n",
    "VOL_SCREEN = 250"
   ]
  },
  {
   "cell_type": "code",
   "execution_count": null,
   "metadata": {
    "ExecuteTime": {
     "start_time": "2020-12-30T23:08:25.883Z"
    }
   },
   "outputs": [],
   "source": [
    "start = pd.Timestamp('2013-01-01', tz=UTC)\n",
    "end = pd.Timestamp('2017-01-01', tz=UTC)\n",
    "capital_base = 1e7"
   ]
  },
  {
   "cell_type": "markdown",
   "metadata": {},
   "source": [
    "## Mean Reversion Factor"
   ]
  },
  {
   "cell_type": "code",
   "execution_count": null,
   "metadata": {
    "ExecuteTime": {
     "start_time": "2020-12-30T23:08:25.886Z"
    }
   },
   "outputs": [],
   "source": [
    "class MeanReversion(CustomFactor):\n",
    "    \"\"\"Compute ratio of latest monthly return to 12m average,\n",
    "       normalized by std dev of monthly returns\"\"\"\n",
    "    inputs = [Returns(window_length=MONTH)]\n",
    "    window_length = YEAR\n",
    "\n",
    "    def compute(self, today, assets, out, monthly_returns):\n",
    "        df = pd.DataFrame(monthly_returns)\n",
    "        out[:] = df.iloc[-1].sub(df.mean()).div(df.std())"
   ]
  },
  {
   "cell_type": "markdown",
   "metadata": {},
   "source": [
    "## Create Pipeline"
   ]
  },
  {
   "cell_type": "markdown",
   "metadata": {},
   "source": [
    "The Pipeline created by the `compute_factors()` method returns a table with a long and a short column for the 25 stocks with the largest negative and positive deviations of their last monthly return from its annual average, normalized by the standard deviation. It also limited the universe to the 500 stocks with the highest average trading volume over the last 30 trading days. "
   ]
  },
  {
   "cell_type": "code",
   "execution_count": null,
   "metadata": {
    "ExecuteTime": {
     "start_time": "2020-12-30T23:08:25.888Z"
    }
   },
   "outputs": [],
   "source": [
    "def compute_factors():\n",
    "    \"\"\"Create factor pipeline incl. mean reversion,\n",
    "        filtered by 30d Dollar Volume; capture factor ranks\"\"\"\n",
    "    mean_reversion = MeanReversion()\n",
    "    dollar_volume = AverageDollarVolume(window_length=30)\n",
    "    return Pipeline(columns={'longs'  : mean_reversion.bottom(N_LONGS),\n",
    "                             'shorts' : mean_reversion.top(N_SHORTS),\n",
    "                             'ranking': mean_reversion.rank(ascending=False)},\n",
    "                    screen=dollar_volume.top(VOL_SCREEN))"
   ]
  },
  {
   "cell_type": "markdown",
   "metadata": {},
   "source": [
    "Before_trading_start() ensures the daily execution of the pipeline and the recording of the results, including the current prices."
   ]
  },
  {
   "cell_type": "code",
   "execution_count": null,
   "metadata": {
    "ExecuteTime": {
     "start_time": "2020-12-30T23:08:25.892Z"
    }
   },
   "outputs": [],
   "source": [
    "def before_trading_start(context, data):\n",
    "    \"\"\"Run factor pipeline\"\"\"\n",
    "    context.factor_data = pipeline_output('factor_pipeline')\n",
    "    record(factor_data=context.factor_data.ranking)\n",
    "    assets = context.factor_data.index\n",
    "    record(prices=data.current(assets, 'price'))"
   ]
  },
  {
   "cell_type": "markdown",
   "metadata": {},
   "source": [
    "## Set up Rebalancing"
   ]
  },
  {
   "cell_type": "markdown",
   "metadata": {},
   "source": [
    "The new rebalance() method submits trade orders to the exec_trades() method for the assets flagged for long and short positions by the pipeline with equal positive and negative weights. It also divests any current holdings that are no longer included in the factor signals:"
   ]
  },
  {
   "cell_type": "code",
   "execution_count": null,
   "metadata": {
    "ExecuteTime": {
     "start_time": "2020-12-30T23:08:25.897Z"
    }
   },
   "outputs": [],
   "source": [
    "def rebalance(context, data):\n",
    "    \"\"\"Compute long, short and obsolete holdings; place trade orders\"\"\"\n",
    "    factor_data = context.factor_data\n",
    "    assets = factor_data.index\n",
    "\n",
    "    longs = assets[factor_data.longs]\n",
    "    shorts = assets[factor_data.shorts]\n",
    "    divest = context.portfolio.positions.keys() - longs.union(shorts)\n",
    "\n",
    "    exec_trades(data, assets=divest, target_percent=0)\n",
    "    exec_trades(data, assets=longs, target_percent=1 / N_LONGS if N_LONGS else 0)\n",
    "    exec_trades(data, assets=shorts, target_percent=-1 / N_SHORTS if N_SHORTS else 0)"
   ]
  },
  {
   "cell_type": "code",
   "execution_count": null,
   "metadata": {
    "ExecuteTime": {
     "start_time": "2020-12-30T23:08:25.898Z"
    }
   },
   "outputs": [],
   "source": [
    "def exec_trades(data, assets, target_percent):\n",
    "    \"\"\"Place orders for assets using target portfolio percentage\"\"\"\n",
    "    for asset in assets:\n",
    "        if data.can_trade(asset) and not get_open_orders(asset):\n",
    "            order_target_percent(asset, target_percent)"
   ]
  },
  {
   "cell_type": "markdown",
   "metadata": {},
   "source": [
    "## Initialize Backtest"
   ]
  },
  {
   "cell_type": "markdown",
   "metadata": {},
   "source": [
    "The `rebalance()` method runs according to `date_rules` and `time_rules` set by the `schedule_function()` utility at the beginning of the week, right after market_open as stipulated by the built-in US_EQUITIES calendar (see docs for details on rules). \n",
    "\n",
    "You can also specify a trade commission both in relative terms and as a minimum amount. There is also an option to define slippage, which is the cost of an adverse change in price between trade decision and execution"
   ]
  },
  {
   "cell_type": "code",
   "execution_count": null,
   "metadata": {
    "ExecuteTime": {
     "start_time": "2020-12-30T23:08:25.902Z"
    }
   },
   "outputs": [],
   "source": [
    "def initialize(context):\n",
    "    \"\"\"Setup: register pipeline, schedule rebalancing,\n",
    "        and set trading params\"\"\"\n",
    "    attach_pipeline(compute_factors(), 'factor_pipeline')\n",
    "    schedule_function(rebalance,\n",
    "                      date_rules.week_start(),\n",
    "                      time_rules.market_open(),\n",
    "                      calendar=calendars.US_EQUITIES)\n",
    "\n",
    "    set_commission(us_equities=commission.PerShare(cost=0.00075, min_trade_cost=.01))\n",
    "    set_slippage(us_equities=slippage.VolumeShareSlippage(volume_limit=0.0025, price_impact=0.01))"
   ]
  },
  {
   "cell_type": "markdown",
   "metadata": {},
   "source": [
    "## Run Algorithm"
   ]
  },
  {
   "cell_type": "markdown",
   "metadata": {},
   "source": [
    "The algorithm executes upon calling the run_algorithm() function and returns the backtest performance DataFrame."
   ]
  },
  {
   "cell_type": "code",
   "execution_count": null,
   "metadata": {
    "ExecuteTime": {
     "start_time": "2020-12-30T23:08:25.906Z"
    },
    "scrolled": false
   },
   "outputs": [
    {
     "name": "stdout",
     "output_type": "stream",
     "text": [
      "[2020-12-30 23:08:27.106959] WARNING: Loader: Refusing to download new benchmark data because a download succeeded at 2020-12-30 22:20:08.738790+00:00.\n",
      "[2020-12-30 23:08:27.133890] WARNING: Loader: Refusing to download new treasury data because a download succeeded at 2020-12-30 22:20:10.954790+00:00.\n",
      "[2020-12-30 23:08:53.751254] INFO: zipline.finance.metrics.tracker: Simulated 1008 trading days\n",
      "first open: 2013-01-02 14:31:00+00:00\n",
      "last close: 2016-12-30 21:00:00+00:00\n"
     ]
    }
   ],
   "source": [
    "backtest = run_algorithm(start=start,\n",
    "                         end=end,\n",
    "                         initialize=initialize,\n",
    "                         before_trading_start=before_trading_start,\n",
    "                         capital_base=capital_base)"
   ]
  },
  {
   "cell_type": "markdown",
   "metadata": {},
   "source": [
    "## Extract pyfolio Inputs"
   ]
  },
  {
   "cell_type": "markdown",
   "metadata": {},
   "source": [
    "The `extract_rets_pos_txn_from_zipline` utility provided by `pyfolio` extracts the data used to compute performance metrics."
   ]
  },
  {
   "cell_type": "code",
   "execution_count": null,
   "metadata": {
    "ExecuteTime": {
     "start_time": "2020-12-30T23:08:25.910Z"
    }
   },
   "outputs": [],
   "source": [
    "returns, positions, transactions = extract_rets_pos_txn_from_zipline(backtest)"
   ]
  },
  {
   "cell_type": "markdown",
   "metadata": {},
   "source": [
    "## Persist Results for use with `pyfolio`"
   ]
  },
  {
   "cell_type": "code",
   "execution_count": null,
   "metadata": {
    "ExecuteTime": {
     "start_time": "2020-12-30T23:08:25.913Z"
    }
   },
   "outputs": [],
   "source": [
    "with pd.HDFStore('backtests.h5') as store:\n",
    "    store.put('backtest/equal_weight', backtest)\n",
    "    store.put('returns/equal_weight', returns)\n",
    "    store.put('positions/equal_weight', positions)\n",
    "    store.put('transactions/equal_weight', transactions)"
   ]
  },
  {
   "cell_type": "markdown",
   "metadata": {},
   "source": [
    "## Plot Results"
   ]
  },
  {
   "cell_type": "code",
   "execution_count": null,
   "metadata": {
    "ExecuteTime": {
     "start_time": "2020-12-30T23:08:25.917Z"
    }
   },
   "outputs": [],
   "source": [
    "fig, axes= plt.subplots(nrows=2, figsize=(14,6))\n",
    "returns.add(1).cumprod().sub(1).plot(ax=axes[0], title='Cumulative Returns')\n",
    "transactions.groupby(transactions.dt.dt.day).txn_dollars.sum().cumsum().plot(ax=axes[1], title='Cumulative Transactions')\n",
    "fig.tight_layout()\n",
    "sns.despine();"
   ]
  },
  {
   "cell_type": "code",
   "execution_count": null,
   "metadata": {
    "ExecuteTime": {
     "start_time": "2020-12-30T23:08:25.921Z"
    }
   },
   "outputs": [],
   "source": [
    "positions.index = positions.index.date"
   ]
  },
  {
   "cell_type": "code",
   "execution_count": null,
   "metadata": {
    "ExecuteTime": {
     "start_time": "2020-12-30T23:08:25.923Z"
    }
   },
   "outputs": [],
   "source": [
    "fig, ax = plt.subplots(figsize=(15, 8))\n",
    "sns.heatmap(positions.replace(0, np.nan).dropna(how='all', axis=1).T, \n",
    "            cmap=sns.diverging_palette(h_neg=20, h_pos=200), ax=ax, center=0);"
   ]
  },
  {
   "cell_type": "code",
   "execution_count": null,
   "metadata": {
    "ExecuteTime": {
     "start_time": "2020-12-30T23:08:25.926Z"
    }
   },
   "outputs": [],
   "source": [
    "positions.head()"
   ]
  },
  {
   "cell_type": "code",
   "execution_count": null,
   "metadata": {
    "ExecuteTime": {
     "start_time": "2020-12-30T23:08:25.929Z"
    },
    "scrolled": true
   },
   "outputs": [],
   "source": [
    "transactions.info()"
   ]
  },
  {
   "cell_type": "code",
   "execution_count": null,
   "metadata": {},
   "outputs": [],
   "source": []
  }
 ],
 "metadata": {
  "kernelspec": {
   "display_name": "Python [conda env:ml4t-zipline]",
   "language": "python",
   "name": "conda-env-ml4t-zipline-py"
  },
  "language_info": {
   "codemirror_mode": {
    "name": "ipython",
    "version": 3
   },
   "file_extension": ".py",
   "mimetype": "text/x-python",
   "name": "python",
   "nbconvert_exporter": "python",
   "pygments_lexer": "ipython3",
   "version": "3.5.6"
  },
  "toc": {
   "base_numbering": 1,
   "nav_menu": {},
   "number_sections": true,
   "sideBar": true,
   "skip_h1_title": true,
   "title_cell": "Table of Contents",
   "title_sidebar": "Contents",
   "toc_cell": false,
   "toc_position": {
    "height": "calc(100% - 180px)",
    "left": "10px",
    "top": "150px",
    "width": "252.633px"
   },
   "toc_section_display": true,
   "toc_window_display": true
  }
 },
 "nbformat": 4,
 "nbformat_minor": 2
}
