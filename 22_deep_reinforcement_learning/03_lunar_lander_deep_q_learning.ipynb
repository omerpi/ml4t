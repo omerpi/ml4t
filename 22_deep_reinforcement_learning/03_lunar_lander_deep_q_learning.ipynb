{
 "cells": [
  {
   "cell_type": "markdown",
   "metadata": {},
   "source": [
    "<font size=\"+2\">Double Deep Q-Learning & Open AI Gym: Intro</font>"
   ]
  },
  {
   "cell_type": "markdown",
   "metadata": {},
   "source": [
    "# The Open AI Lunar Lander environment "
   ]
  },
  {
   "cell_type": "markdown",
   "metadata": {},
   "source": [
    "The [OpenAI Gym](https://gym.openai.com/) is a RL platform that provides standardized environments to test and benchmark RL algorithms using Python. It is also possible to extend the platform and register custom environments.\n",
    "\n",
    "The [Lunar Lander](https://gym.openai.com/envs/LunarLander-v2) (LL) environment requires the agent to control its motion in two dimensions, based on a discrete action space and low-dimensional state observations that include position, orientation, and velocity. At each time step, the environment provides an observation of the new state and a positive or negative reward.  Each episode consists of up to 1,000 time steps. The following diagram shows selected frames from a successful landing after 250 episodes by the agent we will train:"
   ]
  },
  {
   "cell_type": "markdown",
   "metadata": {},
   "source": [
    "<img src=\"img/lunar_lander.png\" width=\"700\">"
   ]
  },
  {
   "cell_type": "markdown",
   "metadata": {},
   "source": [
    "More specifically, the agent observes eight aspects of the state, including six continuous and two discrete elements. Based on the observed elements, the agent knows its location, direction, speed of movement, and whether it has (partially) landed. However, it does not know where it should be moving using its available actions or observe the inner state of the environment in the sense of understanding the rules that govern its motion.\n",
    "\n",
    "At each time step, the agent controls its motion using one of four discrete actions. It can do nothing (and continue on its current path), fire its main engine (to reduce downward motion), or steer to the left or right using the respective orientation engines. There are no fuel limitations.\n",
    "\n",
    "The goal is to land the agent between two flags on a landing pad at coordinates (0, 0), but landing outside of the pad is possible. The agent accumulates rewards in the range of 100-140 for moving toward the pad, depending on the exact landing spot. However, moving away from the target negates the reward the agent would have gained by moving toward the pad. Ground contact by each leg adds ten points, and using the main engine costs -0.3 points.\n",
    "\n",
    "An episode terminates if the agent lands or crashes, adding or subtracting 100 points, respectively, or after 1,000 time steps. Solving LL requires achieving a cumulative reward of at least 200 on average over 100 consecutive episodes."
   ]
  },
  {
   "cell_type": "markdown",
   "metadata": {},
   "source": [
    "# Deep Q-Learning"
   ]
  },
  {
   "cell_type": "markdown",
   "metadata": {},
   "source": [
    "Deep Q learning estimates the value of the available actions for a given state using a deep neural network. It was introduced by Deep Mind's [Playing Atari with Deep Reinforcement Learning](https://www.cs.toronto.edu/~vmnih/docs/dqn.pdf) (2013), where RL agents learned to play games solely from pixel input.\n",
    "\n",
    "The Deep Q-Learning algorithm approximates the action-value function q by learning a set of weights  of a multi-layered Deep Q Network (DQN) that maps states to actions so that $$q(s,a,\\theta)\\approx q^*(s,a)$$\n",
    "\n",
    "The algorithm applies gradient descent to a loss function defined as the squared difference between the DQN's estimate of the target \n",
    "$$y_i=\\mathbb{E}[r+\\gamma\\max_{a^\\prime}Q(s^\\prime, a^\\prime; \\theta_{i−1}\\mid s,a)]$$ \n",
    "and its estimate of the action-value of the current state-action pair  to learn the network parameters:\n",
    "\n",
    "$$L_i(\\theta_i)=\\mathbb{E}\\left[\\left(\\overbrace{\\underbrace{y_i}_{\\text{Q Target}}−\\underbrace{Q(s, a; \\theta)}_{\\text{Current Prediction}}}^{\\text{TD Error}}\\right)^2 \\right]$$\n",
    "\n",
    "Both the target and the current estimate depend on the set of weights, underlining the distinction from supervised learning where targets are fixed prior to training. "
   ]
  },
  {
   "cell_type": "markdown",
   "metadata": {},
   "source": [
    "## Extensions"
   ]
  },
  {
   "cell_type": "markdown",
   "metadata": {},
   "source": [
    "Several innovations have improved the accuracy and convergence speed of deep Q-Learning, namely:\n",
    "- **Experience replay** stores a history of state, action, reward, and next state transitions and randomly samples mini-batches from this experience to update the network weights at each time step before the agent selects an ε-greedy action. It increases sample efficiency, reduces the autocorrelation of samples, and limits the feedback due to the current weights producing training samples that can lead to local minima or divergence.\n",
    "- **Slowly-changing target network** weakens the feedback loop from the current network parameters on the neural network weight updates. Also invented by by Deep Mind in [Human-level control through deep reinforcement learning](https://web.stanford.edu/class/psych209/Readings/MnihEtAlHassibis15NatureControlDeepRL.pdf) (2015), it use a slowly-changing target network that has the same architecture as the Q-network, but its weights are only updated periodically. The target network generates the predictions of the next state value used to update the Q-Networks estimate of the current state's value.\n",
    "- **Double deep Q-learning** addresses the bias of deep Q-Learning to overestimate action values because it purposely samples the highest action value. This bias can negatively affect the learning process and the resulting policy if it does not apply uniformly , as shown by Hado van Hasselt in [Deep Reinforcement Learning with Double Q-learning](https://arxiv.org/abs/1509.06461) (2015). To decouple the estimation of action values from the selection of actions, Double Deep Q-Learning (DDQN) uses the weights, of one network to select the best action given the next state, and the weights of another network to provide the corresponding action value estimate.\n"
   ]
  },
  {
   "cell_type": "markdown",
   "metadata": {},
   "source": [
    "# Imports & Settings"
   ]
  },
  {
   "cell_type": "code",
   "execution_count": 1,
   "metadata": {
    "ExecuteTime": {
     "end_time": "2020-04-12T19:00:18.415501Z",
     "start_time": "2020-04-12T19:00:18.413624Z"
    }
   },
   "outputs": [],
   "source": [
    "import warnings\n",
    "warnings.filterwarnings('ignore')"
   ]
  },
  {
   "cell_type": "code",
   "execution_count": 2,
   "metadata": {
    "ExecuteTime": {
     "end_time": "2020-04-12T19:00:19.681282Z",
     "start_time": "2020-04-12T19:00:18.416598Z"
    }
   },
   "outputs": [],
   "source": [
    "%matplotlib inline\n",
    "from time import time\n",
    "from pathlib import Path\n",
    "\n",
    "import numpy as np\n",
    "import pandas as pd\n",
    "\n",
    "import tensorflow as tf\n",
    "from tensorflow.keras import Sequential\n",
    "from tensorflow.keras.layers import Dense\n",
    "from tensorflow.keras.optimizers import Adam\n",
    "from tensorflow.keras.regularizers import l2\n",
    "\n",
    "# OpenAI Gym\n",
    "import gym\n",
    "from gym import wrappers\n",
    "\n",
    "import matplotlib.pyplot as plt\n",
    "import seaborn as sns"
   ]
  },
  {
   "cell_type": "code",
   "execution_count": 3,
   "metadata": {
    "ExecuteTime": {
     "end_time": "2020-04-12T19:00:19.684258Z",
     "start_time": "2020-04-12T19:00:19.682294Z"
    }
   },
   "outputs": [],
   "source": [
    "sns.set_style('whitegrid', {'axes.grid' : False})"
   ]
  },
  {
   "cell_type": "code",
   "execution_count": 4,
   "metadata": {},
   "outputs": [],
   "source": [
    "# uncomment to run multiple experiments in parallel:\n",
    "gpu_devices = tf.config.experimental.list_physical_devices('GPU')\n",
    "tf.config.experimental.set_memory_growth(gpu_devices[0], True)"
   ]
  },
  {
   "cell_type": "markdown",
   "metadata": {},
   "source": [
    "Set random seeds to ensure results can be reproduced:"
   ]
  },
  {
   "cell_type": "code",
   "execution_count": 5,
   "metadata": {},
   "outputs": [],
   "source": [
    "np.random.seed(42)\n",
    "tf.random.set_seed(42)"
   ]
  },
  {
   "cell_type": "markdown",
   "metadata": {},
   "source": [
    "## Result display helper functions"
   ]
  },
  {
   "cell_type": "code",
   "execution_count": 6,
   "metadata": {
    "ExecuteTime": {
     "end_time": "2020-04-12T19:00:19.700965Z",
     "start_time": "2020-04-12T19:00:19.685822Z"
    }
   },
   "outputs": [],
   "source": [
    "def format_time(t):\n",
    "    m_, s = divmod(t, 60)\n",
    "    h, m = divmod(m_, 60)\n",
    "    return '{:02.0f}:{:02.0f}:{:02.0f}'.format(h, m, s)"
   ]
  },
  {
   "cell_type": "markdown",
   "metadata": {},
   "source": [
    "## Enable virtual display to run from docker container"
   ]
  },
  {
   "cell_type": "markdown",
   "metadata": {},
   "source": [
    "This is only required if you run this on server that does not have a display."
   ]
  },
  {
   "cell_type": "code",
   "execution_count": 7,
   "metadata": {
    "ExecuteTime": {
     "end_time": "2020-04-12T19:00:19.708594Z",
     "start_time": "2020-04-12T19:00:19.701979Z"
    }
   },
   "outputs": [],
   "source": [
    "# from pyvirtualdisplay import Display\n",
    "# virtual_display = Display(visible=0, size=(1400, 900))\n",
    "# virtual_display.start()"
   ]
  },
  {
   "cell_type": "markdown",
   "metadata": {},
   "source": [
    "# Define DDQN Agent"
   ]
  },
  {
   "cell_type": "markdown",
   "metadata": {},
   "source": [
    "We will use [TensorFlow](https://www.tensorflow.org/) to create our Double Deep Q-Network ."
   ]
  },
  {
   "cell_type": "markdown",
   "metadata": {},
   "source": [
    "## Replay Buffer"
   ]
  },
  {
   "cell_type": "code",
   "execution_count": 8,
   "metadata": {},
   "outputs": [],
   "source": [
    "class Memory():\n",
    "    def __init__(self, capacity, state_dims):\n",
    "        self.capacity = capacity\n",
    "        self.idx = 0\n",
    "\n",
    "        self.state_memory = np.zeros(shape=(capacity, state_dims), \n",
    "                                     dtype=np.float32)\n",
    "        self.new_state_memory = np.zeros_like(self.state_memory)\n",
    "\n",
    "        self.action_memory = np.zeros(capacity, dtype=np.int32)\n",
    "        self.reward_memory = np.zeros_like(self.action_memory)\n",
    "        self.done = np.zeros_like(self.action_memory)\n",
    "\n",
    "    def store(self, state, action, reward, next_state, done):\n",
    "        self.state_memory[self.idx, :] = state\n",
    "        self.new_state_memory[self.idx, :] = next_state\n",
    "        self.reward_memory[self.idx] = reward\n",
    "        self.action_memory[self.idx] = action\n",
    "        self.done[self.idx] = 1 - int(done)\n",
    "        self.idx += 1\n",
    "\n",
    "    def sample(self, batch_size):\n",
    "        batch = np.random.choice(self.idx, batch_size, replace=False)\n",
    "\n",
    "        states = self.state_memory[batch]\n",
    "        next_states = self.new_state_memory[batch]\n",
    "        rewards = self.reward_memory[batch]\n",
    "        actions = self.action_memory[batch]\n",
    "        done = self.done[batch]\n",
    "        return states, actions, rewards, next_states, done"
   ]
  },
  {
   "cell_type": "markdown",
   "metadata": {},
   "source": [
    "## Agent Class"
   ]
  },
  {
   "cell_type": "code",
   "execution_count": 9,
   "metadata": {
    "ExecuteTime": {
     "end_time": "2020-04-12T19:00:19.775332Z",
     "start_time": "2020-04-12T19:00:19.709717Z"
    }
   },
   "outputs": [],
   "source": [
    "class DDQNAgent:\n",
    "    def __init__(self,\n",
    "                 state_dim,\n",
    "                 num_actions,\n",
    "                 gamma,\n",
    "                 epsilon_start,\n",
    "                 epsilon_end,\n",
    "                 epsilon_decay_steps,\n",
    "                 epsilon_exponential_decay,\n",
    "                 learning_rate,\n",
    "                 architecture,\n",
    "                 l2_reg,\n",
    "                 replay_capacity,\n",
    "                 tau,\n",
    "                 batch_size,\n",
    "                 results_dir,\n",
    "                 log_every=10):\n",
    "\n",
    "        self.state_dim = state_dim\n",
    "        self.num_actions = num_actions\n",
    "\n",
    "        self.architecture = architecture\n",
    "        self.l2_reg = l2_reg\n",
    "        self.learning_rate = learning_rate\n",
    "        self.experience = Memory(replay_capacity,\n",
    "                                 state_dim)\n",
    "        self.gamma = gamma\n",
    "        self.tau = tau\n",
    "        self.batch_size = batch_size\n",
    "        self.idx = np.arange(batch_size, dtype=np.int32)\n",
    "\n",
    "        self.online_network = self.build_model()\n",
    "        self.target_network = self.build_model(trainable=False)\n",
    "        self.optimizer = Adam(lr=learning_rate)\n",
    "        self.update_target()\n",
    "\n",
    "        self.epsilon = epsilon_start\n",
    "        self.epsilon_decay_steps = epsilon_decay_steps\n",
    "        self.epsilon_decay = (epsilon_start - epsilon_end) / epsilon_decay_steps\n",
    "        self.epsilon_exponential_decay = epsilon_exponential_decay\n",
    "        self.epsilon_history = []\n",
    "\n",
    "        self.total_steps = self.train_steps = 0\n",
    "        self.episodes = self.episode_length = self.train_episodes = 0\n",
    "        self.steps_per_episode = []\n",
    "        self.episode_reward = 0\n",
    "        self.rewards_history = []\n",
    "\n",
    "        self.results_dir = results_dir\n",
    "        self.experiment = experiment\n",
    "        self.log_every = log_every\n",
    "        \n",
    "        self.summary_writer = (tf.summary\n",
    "                               .create_file_writer(results_dir.as_posix()))\n",
    "        self.start = time()\n",
    "        self.train = True\n",
    "\n",
    "    def build_model(self, trainable=True):\n",
    "        layers = []\n",
    "        for i, units in enumerate(self.architecture, 1):\n",
    "            layers.append(Dense(units=units,\n",
    "                                input_dim=self.state_dim if i == 1 else None,\n",
    "                                activation='relu',\n",
    "                                kernel_regularizer=l2(self.l2_reg),\n",
    "                                trainable=trainable))\n",
    "        layers.append(Dense(units=self.num_actions,\n",
    "                            trainable=trainable))\n",
    "        return Sequential(layers)\n",
    "\n",
    "    def update_target(self):\n",
    "        self.target_network.set_weights(self.online_network.get_weights())\n",
    "\n",
    "    # @tf.function\n",
    "    def epsilon_greedy_policy(self, state):\n",
    "        self.total_steps += 1\n",
    "        if np.random.rand() <= self.epsilon:\n",
    "            return np.random.choice(self.num_actions)\n",
    "        q = self.online_network.predict(state)\n",
    "        return np.argmax(q, axis=1).squeeze()\n",
    "\n",
    "    # @tf.function\n",
    "    def decay_epsilon(self):\n",
    "        if self.train:\n",
    "            if self.episodes < self.epsilon_decay_steps:\n",
    "                self.epsilon -= self.epsilon_decay\n",
    "            else:\n",
    "                self.epsilon *= self.epsilon_exponential_decay\n",
    "\n",
    "    def log_progress(self):\n",
    "        self.rewards_history.append(self.episode_reward)\n",
    "        self.steps_per_episode.append(self.episode_length)\n",
    "\n",
    "        avg_steps_100 = np.mean(self.steps_per_episode[-100:])\n",
    "        avg_steps_10 = np.mean(self.steps_per_episode[-10:])\n",
    "        max_steps_10 = np.max(self.steps_per_episode[-10:])\n",
    "        avg_rewards_100 = np.mean(self.rewards_history[-100:])\n",
    "        avg_rewards_10 = np.mean(self.rewards_history[-10:])\n",
    "        max_rewards_10 = np.max(self.rewards_history[-10:])\n",
    "\n",
    "        with self.summary_writer.as_default():\n",
    "            tf.summary.scalar('Episode Reward', self.episode_reward, step=self.episodes)\n",
    "            tf.summary.scalar('Episode Rewards (MA 100)', avg_rewards_100, step=self.episodes)\n",
    "            tf.summary.scalar('Episode Steps', self.episode_length, step=self.episodes)\n",
    "            tf.summary.scalar('Epsilon', self.epsilon, step=self.episodes)\n",
    "\n",
    "        if self.episodes % self.log_every == 0:\n",
    "            template = '{:03} | {} | Rewards {:4.0f} {:4.0f} {:4.0f} | ' \\\n",
    "                       'Steps: {:4.0f} {:4.0f} {:4.0f} | Epsilon: {:.4f}'\n",
    "            print(template.format(self.episodes, format_time(time() - self.start),\n",
    "                                  avg_rewards_100, avg_rewards_10, max_rewards_10,\n",
    "                                  avg_steps_100, avg_steps_10, max_steps_10,\n",
    "                                  self.epsilon))\n",
    "\n",
    "    def memorize_transition(self, s, a, r, s_prime, done):\n",
    "        self.experience.store(s, a, r, s_prime, done)\n",
    "        self.episode_reward += r\n",
    "        self.episode_length += 1\n",
    "\n",
    "        if done:\n",
    "            self.epsilon_history.append(self.epsilon)\n",
    "            self.decay_epsilon()\n",
    "            self.episodes += 1\n",
    "            self.log_progress()\n",
    "            self.episode_reward = 0\n",
    "            self.episode_length = 0\n",
    "\n",
    "    def experience_replay(self):\n",
    "        # not enough experience yet\n",
    "        if self.batch_size > self.experience.idx:\n",
    "            return\n",
    "\n",
    "        # sample minibatch\n",
    "        states, actions, rewards, next_states, done = self.experience.sample(self.batch_size)\n",
    "\n",
    "        # select best next action (online)\n",
    "        next_action = tf.argmax(self.online_network.predict(next_states, self.batch_size), axis=1, name='next_action')\n",
    "        # predict next q values (target)\n",
    "        next_q_values = self.target_network.predict(next_states, self.batch_size)\n",
    "        # get q values for best next action\n",
    "        target_q = (tf.math.reduce_sum(next_q_values *\n",
    "                                       tf.one_hot(next_action,\n",
    "                                                  self.num_actions),\n",
    "                                       axis=1, name='target_q'))\n",
    "        # compute td target\n",
    "        td_target = rewards + done * self.gamma * target_q\n",
    "\n",
    "        with tf.GradientTape() as tape:\n",
    "            q_values = self.online_network(states)\n",
    "            q_values = tf.math.reduce_sum(q_values * tf.one_hot(actions, self.num_actions), axis=1, name='q_values')\n",
    "            loss = tf.math.reduce_mean(tf.square(td_target - q_values))\n",
    "\n",
    "        # run back propagation\n",
    "        variables = self.online_network.trainable_variables\n",
    "        gradients = tape.gradient(loss, variables)\n",
    "\n",
    "        self.optimizer.apply_gradients(zip(gradients, variables))\n",
    "        with self.summary_writer.as_default():\n",
    "            tf.summary.scalar('Loss', loss, step=self.train_steps)\n",
    "        self.train_steps += 1\n",
    "\n",
    "        if self.total_steps % self.tau == 0:\n",
    "            self.update_target()\n",
    "\n",
    "    def store_results(self):\n",
    "        result = pd.DataFrame({'Rewards': self.rewards_history,\n",
    "                               'Steps'  : self.steps_per_episode,\n",
    "                               'Epsilon': self.epsilon_history},\n",
    "                              index=list(range(1, len(self.rewards_history) + 1)))\n",
    "\n",
    "        result.to_csv(self.results_dir / 'results.csv', index=False)"
   ]
  },
  {
   "cell_type": "markdown",
   "metadata": {},
   "source": [
    "# Run Experiment"
   ]
  },
  {
   "cell_type": "code",
   "execution_count": 10,
   "metadata": {},
   "outputs": [],
   "source": [
    "experiment = 0"
   ]
  },
  {
   "cell_type": "code",
   "execution_count": 11,
   "metadata": {},
   "outputs": [],
   "source": [
    "results_dir = Path('results', 'lunar_lander', 'experiment_{}'.format(experiment))\n",
    "if not results_dir.exists():\n",
    "    results_dir.mkdir(parents=True)"
   ]
  },
  {
   "cell_type": "markdown",
   "metadata": {},
   "source": [
    "## Set up OpenAI Gym Lunar Lander Environment"
   ]
  },
  {
   "cell_type": "markdown",
   "metadata": {},
   "source": [
    "We will begin by instantiating and extracting key parameters from the LL environment:"
   ]
  },
  {
   "cell_type": "code",
   "execution_count": 12,
   "metadata": {
    "ExecuteTime": {
     "end_time": "2020-04-12T19:00:19.797486Z",
     "start_time": "2020-04-12T19:00:19.776397Z"
    }
   },
   "outputs": [
    {
     "data": {
      "text/plain": [
       "[42]"
      ]
     },
     "execution_count": 12,
     "metadata": {},
     "output_type": "execute_result"
    }
   ],
   "source": [
    "env = gym.make('LunarLander-v2')\n",
    "state_dim = env.observation_space.shape[0]  # number of dimensions in state\n",
    "num_actions = env.action_space.n  # number of actions\n",
    "max_episode_steps = env.spec.max_episode_steps  # max number of steps per episode\n",
    "env.seed(42)"
   ]
  },
  {
   "cell_type": "markdown",
   "metadata": {},
   "source": [
    "We will also use the built-in wrappers that permit the periodic storing of videos that display the agent's performance:"
   ]
  },
  {
   "cell_type": "code",
   "execution_count": 13,
   "metadata": {},
   "outputs": [],
   "source": [
    "monitor_path = results_dir / 'monitor'\n",
    "video_freq = 500"
   ]
  },
  {
   "cell_type": "code",
   "execution_count": 14,
   "metadata": {
    "ExecuteTime": {
     "end_time": "2020-04-12T19:00:20.498518Z",
     "start_time": "2020-04-12T19:00:20.497077Z"
    }
   },
   "outputs": [],
   "source": [
    "env = wrappers.Monitor(env,\n",
    "                       directory=monitor_path.as_posix(),\n",
    "                       video_callable=lambda count: count % video_freq == 0,\n",
    "                      force=True)"
   ]
  },
  {
   "cell_type": "markdown",
   "metadata": {},
   "source": [
    "## Define hyperparameters"
   ]
  },
  {
   "cell_type": "markdown",
   "metadata": {},
   "source": [
    "The agent's performance is quite sensitive to several hyperparameters. We will start with the discount before setting the Q-Network, replay buffer, and ε-greedy policy parameters."
   ]
  },
  {
   "cell_type": "markdown",
   "metadata": {},
   "source": [
    "### Discount Factor"
   ]
  },
  {
   "cell_type": "code",
   "execution_count": 15,
   "metadata": {
    "ExecuteTime": {
     "end_time": "2020-04-12T19:00:19.800014Z",
     "start_time": "2020-04-12T19:00:19.798363Z"
    }
   },
   "outputs": [],
   "source": [
    "gamma = .99"
   ]
  },
  {
   "cell_type": "markdown",
   "metadata": {},
   "source": [
    "### Q-Network Parameters"
   ]
  },
  {
   "cell_type": "code",
   "execution_count": 16,
   "metadata": {},
   "outputs": [],
   "source": [
    "learning_rate = 0.0001"
   ]
  },
  {
   "cell_type": "code",
   "execution_count": 17,
   "metadata": {},
   "outputs": [],
   "source": [
    "architecture = (256, 256)  # units per layer\n",
    "l2_reg = 1e-6  # L2 regularization"
   ]
  },
  {
   "cell_type": "markdown",
   "metadata": {},
   "source": [
    "We will update the target network every 100 time steps, store up to 1 m past episodes in the replay memory, and sample mini-batches of 1,024 from memory to train the agent:"
   ]
  },
  {
   "cell_type": "markdown",
   "metadata": {
    "ExecuteTime": {
     "end_time": "2020-04-12T19:00:19.808052Z",
     "start_time": "2020-04-12T19:00:19.801375Z"
    }
   },
   "source": [
    "### Replay Buffer Parameters"
   ]
  },
  {
   "cell_type": "code",
   "execution_count": 18,
   "metadata": {
    "ExecuteTime": {
     "end_time": "2020-04-12T19:00:19.815967Z",
     "start_time": "2020-04-12T19:00:19.809088Z"
    }
   },
   "outputs": [],
   "source": [
    "tau = 100  # target network update frequency\n",
    "replay_capacity = int(1e6)\n",
    "batch_size = 1024"
   ]
  },
  {
   "cell_type": "markdown",
   "metadata": {},
   "source": [
    "### ε-greedy Policy"
   ]
  },
  {
   "cell_type": "markdown",
   "metadata": {},
   "source": [
    "The ε-greedy policy starts with pure exploration at ε=1 and linearly decays every step to 0.01 over 100 episodes, followed by exponential decay at rate 0.99:"
   ]
  },
  {
   "cell_type": "code",
   "execution_count": 19,
   "metadata": {
    "ExecuteTime": {
     "end_time": "2020-04-12T19:00:19.824035Z",
     "start_time": "2020-04-12T19:00:19.816829Z"
    }
   },
   "outputs": [],
   "source": [
    "epsilon_start = 1.0\n",
    "epsilon_end = 0.01\n",
    "epsilon_decay_steps = 100\n",
    "epsilon_exponential_decay = .99"
   ]
  },
  {
   "cell_type": "markdown",
   "metadata": {},
   "source": [
    "## Instantiate DDQN Agent"
   ]
  },
  {
   "cell_type": "code",
   "execution_count": 20,
   "metadata": {
    "ExecuteTime": {
     "end_time": "2020-04-12T19:00:20.496201Z",
     "start_time": "2020-04-12T19:00:19.840226Z"
    }
   },
   "outputs": [],
   "source": [
    "agent = DDQNAgent(state_dim=state_dim,\n",
    "                  num_actions=num_actions,\n",
    "                  learning_rate=learning_rate,\n",
    "                  gamma=gamma,\n",
    "                  epsilon_start=epsilon_start,\n",
    "                  epsilon_end=epsilon_end,\n",
    "                  epsilon_decay_steps=epsilon_decay_steps,\n",
    "                  epsilon_exponential_decay=epsilon_exponential_decay,\n",
    "                  replay_capacity=replay_capacity,\n",
    "                  architecture=architecture,\n",
    "                  l2_reg=l2_reg,\n",
    "                  tau=tau,\n",
    "                  batch_size=batch_size,\n",
    "                  results_dir=results_dir)"
   ]
  },
  {
   "cell_type": "markdown",
   "metadata": {},
   "source": [
    "## Train & test agent"
   ]
  },
  {
   "cell_type": "code",
   "execution_count": 21,
   "metadata": {},
   "outputs": [],
   "source": [
    "tf.keras.backend.clear_session()"
   ]
  },
  {
   "cell_type": "code",
   "execution_count": 22,
   "metadata": {
    "ExecuteTime": {
     "end_time": "2020-04-12T19:00:20.528017Z",
     "start_time": "2020-04-12T19:00:20.514178Z"
    }
   },
   "outputs": [],
   "source": [
    "max_episodes = 2500\n",
    "test_episodes = 0"
   ]
  },
  {
   "cell_type": "markdown",
   "metadata": {},
   "source": [
    "Besides the episode number an elapsed time, we log the moving averages for the last 100 and last 10 rewards and episode lengths, as well as their respective maximum values over the last 10 iterations. We also track the decay of epsilon. "
   ]
  },
  {
   "cell_type": "code",
   "execution_count": 23,
   "metadata": {},
   "outputs": [
    {
     "name": "stdout",
     "output_type": "stream",
     "text": [
      "010 | 00:00:03 | Rewards -193 -193  -70 | Steps:   93   93  143 | Epsilon: 0.9010\n",
      "020 | 00:00:36 | Rewards -166 -139  -59 | Steps:   99  105  178 | Epsilon: 0.8020\n",
      "030 | 00:01:15 | Rewards -157 -138   -6 | Steps:  104  112  140 | Epsilon: 0.7030\n",
      "040 | 00:02:02 | Rewards -137  -78   42 | Steps:  109  126  179 | Epsilon: 0.6040\n",
      "050 | 00:02:59 | Rewards -120  -50  -10 | Steps:  116  144  258 | Epsilon: 0.5050\n",
      "060 | 00:04:40 | Rewards -107  -45   20 | Steps:  137  241  523 | Epsilon: 0.4060\n",
      "070 | 00:08:38 | Rewards  -98  -41   63 | Steps:  199  573 1000 | Epsilon: 0.3070\n",
      "080 | 00:14:35 | Rewards  -91  -39   17 | Steps:  283  872 1000 | Epsilon: 0.2080\n",
      "090 | 00:21:15 | Rewards  -71   82  234 | Steps:  355  928 1000 | Epsilon: 0.1090\n",
      "100 | 00:25:49 | Rewards  -52  122  258 | Steps:  380  602 1000 | Epsilon: 0.0100\n",
      "110 | 00:30:33 | Rewards  -30   29  239 | Steps:  429  584  860 | Epsilon: 0.0090\n",
      "120 | 00:34:52 | Rewards   -4  115  284 | Steps:  471  529 1000 | Epsilon: 0.0082\n",
      "130 | 00:38:12 | Rewards   31  218  283 | Steps:  501  407 1000 | Epsilon: 0.0074\n",
      "140 | 00:41:09 | Rewards   61  216  270 | Steps:  524  362  542 | Epsilon: 0.0067\n",
      "150 | 00:45:04 | Rewards   88  228  303 | Steps:  557  472 1000 | Epsilon: 0.0061\n",
      "160 | 00:47:31 | Rewards  106  134  296 | Steps:  563  298  586 | Epsilon: 0.0055\n",
      "170 | 00:50:34 | Rewards  136  254  297 | Steps:  542  367 1000 | Epsilon: 0.0049\n",
      "180 | 00:53:59 | Rewards  163  238  303 | Steps:  496  408 1000 | Epsilon: 0.0045\n",
      "190 | 00:56:14 | Rewards  179  236  279 | Steps:  430  270  501 | Epsilon: 0.0040\n",
      "200 | 00:58:22 | Rewards  190  234  294 | Steps:  396  258  464 | Epsilon: 0.0037\n"
     ]
    }
   ],
   "source": [
    "while agent.episodes < max_episodes:\n",
    "    this_state = env.reset()\n",
    "    done = False\n",
    "    while not done:\n",
    "        action = agent.epsilon_greedy_policy(this_state.reshape(-1, state_dim))\n",
    "        next_state, reward, done, _ = env.step(action)\n",
    "        agent.memorize_transition(this_state, action, reward, next_state, done)\n",
    "        agent.experience_replay()\n",
    "        this_state = next_state\n",
    "    if np.mean(agent.rewards_history[-100:]) > 200:\n",
    "        break\n",
    "\n",
    "agent.store_results()\n",
    "env.close()"
   ]
  },
  {
   "cell_type": "markdown",
   "metadata": {},
   "source": [
    "## Evaluate Results"
   ]
  },
  {
   "cell_type": "code",
   "execution_count": 25,
   "metadata": {
    "ExecuteTime": {
     "end_time": "2020-04-12T19:24:12.555906Z",
     "start_time": "2020-04-12T19:24:12.536986Z"
    }
   },
   "outputs": [],
   "source": [
    "results = pd.read_csv(results_dir / 'results.csv')\n",
    "results['MA100'] = results.rolling(window=100, min_periods=25).Rewards.mean()"
   ]
  },
  {
   "cell_type": "code",
   "execution_count": 29,
   "metadata": {
    "ExecuteTime": {
     "end_time": "2020-04-12T19:24:26.653267Z",
     "start_time": "2020-04-12T19:24:25.676039Z"
    }
   },
   "outputs": [
    {
     "data": {
      "image/png": "[encoded data removed]",
      "text/plain": [
       "<Figure size 1152x288 with 3 Axes>"
      ]
     },
     "metadata": {},
     "output_type": "display_data"
    }
   ],
   "source": [
    "fig, axes = plt.subplots(ncols=2, figsize=(16, 4), sharex=True)\n",
    "results[['Rewards', 'MA100']].plot(ax=axes[0])\n",
    "axes[0].set_ylabel('Rewards')\n",
    "axes[0].set_xlabel('Episodes')\n",
    "axes[0].axhline(200, c='k', ls='--', lw=1)\n",
    "results[['Steps', 'Epsilon']].plot(secondary_y='Epsilon', ax=axes[1]);\n",
    "axes[1].set_xlabel('Episodes')\n",
    "fig.suptitle('Double Deep Q-Network Agent | Lunar Lander', fontsize=16)\n",
    "fig.tight_layout()\n",
    "fig.subplots_adjust(top=.9)\n",
    "fig.savefig('figures/trading_agent_2ed', dpi=300)"
   ]
  },
  {
   "cell_type": "markdown",
   "metadata": {},
   "source": [
    "## Tensorboard"
   ]
  },
  {
   "cell_type": "code",
   "execution_count": 27,
   "metadata": {},
   "outputs": [],
   "source": [
    "%load_ext tensorboard"
   ]
  },
  {
   "cell_type": "code",
   "execution_count": 28,
   "metadata": {},
   "outputs": [
    {
     "data": {
      "text/plain": [
       "Reusing TensorBoard on port 6013 (pid 6249), started 1:09:30 ago. (Use '!kill 6249' to kill it.)"
      ]
     },
     "metadata": {},
     "output_type": "display_data"
    },
    {
     "data": {
      "text/html": [
       "\n",
       "      <iframe id=\"tensorboard-frame-5a67a2e1a8a9d8ee\" width=\"100%\" height=\"800\" frameborder=\"0\">\n",
       "      </iframe>\n",
       "      <script>\n",
       "        (function() {\n",
       "          const frame = document.getElementById(\"tensorboard-frame-5a67a2e1a8a9d8ee\");\n",
       "          const url = new URL(\"/\", window.location);\n",
       "          url.port = 6013;\n",
       "          frame.src = url;\n",
       "        })();\n",
       "      </script>\n",
       "  "
      ],
      "text/plain": [
       "<IPython.core.display.HTML object>"
      ]
     },
     "metadata": {},
     "output_type": "display_data"
    }
   ],
   "source": [
    "%tensorboard --logdir results/lunar_lander/experiment_0"
   ]
  },
  {
   "cell_type": "code",
   "execution_count": null,
   "metadata": {},
   "outputs": [],
   "source": []
  }
 ],
 "metadata": {
  "kernelspec": {
   "display_name": "Python [conda env:ml4t-rl] *",
   "language": "python",
   "name": "conda-env-ml4t-rl-py"
  },
  "language_info": {
   "codemirror_mode": {
    "name": "ipython",
    "version": 3
   },
   "file_extension": ".py",
   "mimetype": "text/x-python",
   "name": "python",
   "nbconvert_exporter": "python",
   "pygments_lexer": "ipython3",
   "version": "3.7.7"
  },
  "toc": {
   "base_numbering": 1,
   "nav_menu": {},
   "number_sections": true,
   "sideBar": true,
   "skip_h1_title": true,
   "title_cell": "Table of Contents",
   "title_sidebar": "Contents",
   "toc_cell": false,
   "toc_position": {},
   "toc_section_display": true,
   "toc_window_display": true
  },
  "toc-autonumbering": true
 },
 "nbformat": 4,
 "nbformat_minor": 4
}
