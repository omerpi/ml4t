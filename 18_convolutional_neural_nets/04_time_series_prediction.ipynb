{
 "cells": [
  {
   "cell_type": "markdown",
   "metadata": {},
   "source": [
    "# How to use CNN with time series data"
   ]
  },
  {
   "cell_type": "markdown",
   "metadata": {},
   "source": [
    "The regular measurements of time series result in a similar grid-like data structure as for the image data we have focused on so far. As a result, we can use CNN architectures for univariate and multivariate time series. In the latter case, we consider different time series as channels, similar to the different color signals."
   ]
  },
  {
   "cell_type": "markdown",
   "metadata": {},
   "source": [
    "## Imports & Settings"
   ]
  },
  {
   "cell_type": "code",
   "execution_count": 1,
   "metadata": {
    "ExecuteTime": {
     "end_time": "2020-05-19T23:44:00.914488Z",
     "start_time": "2020-05-19T23:44:00.892097Z"
    }
   },
   "outputs": [],
   "source": [
    "%matplotlib inline\n",
    "\n",
    "import sys\n",
    "from time import time\n",
    "from pathlib import Path\n",
    "\n",
    "import numpy as np\n",
    "import pandas as pd\n",
    "from scipy.stats import spearmanr\n",
    "from sklearn.feature_selection import mutual_info_classif, mutual_info_regression\n",
    "from sklearn.preprocessing import MinMaxScaler\n",
    "\n",
    "import tensorflow as tf\n",
    "tf.autograph.set_verbosity(0, True)\n",
    "from tensorflow.keras.models import Sequential\n",
    "from tensorflow.keras import regularizers\n",
    "from tensorflow.keras.callbacks import EarlyStopping, TensorBoard\n",
    "from tensorflow.keras.layers import (Dense, Flatten, Conv1D, MaxPooling1D, \n",
    "                                     Dropout, BatchNormalization)\n",
    "\n",
    "import matplotlib.pyplot as plt\n",
    "from matplotlib.ticker import FuncFormatter\n",
    "import seaborn as sns"
   ]
  },
  {
   "cell_type": "code",
   "execution_count": 2,
   "metadata": {
    "ExecuteTime": {
     "end_time": "2020-05-19T23:40:44.088375Z",
     "start_time": "2020-05-19T23:40:44.082946Z"
    }
   },
   "outputs": [],
   "source": [
    "sys.path.insert(1, Path(sys.path[0], '..').as_posix())\n",
    "from utils import MultipleTimeSeriesCV, format_time"
   ]
  },
  {
   "cell_type": "code",
   "execution_count": 3,
   "metadata": {
    "ExecuteTime": {
     "end_time": "2020-05-19T23:40:44.340308Z",
     "start_time": "2020-05-19T23:40:44.332884Z"
    }
   },
   "outputs": [],
   "source": [
    "sns.set_style('whitegrid')"
   ]
  },
  {
   "cell_type": "markdown",
   "metadata": {},
   "source": [
    "## Prepare Data"
   ]
  },
  {
   "cell_type": "code",
   "execution_count": 4,
   "metadata": {
    "ExecuteTime": {
     "end_time": "2020-05-19T23:32:29.101416Z",
     "start_time": "2020-05-19T23:32:25.254400Z"
    }
   },
   "outputs": [
    {
     "name": "stdout",
     "output_type": "stream",
     "text": [
      "<class 'pandas.core.frame.DataFrame'>\n",
      "DatetimeIndex: 4706 entries, 2000-01-03 to 2018-03-27\n",
      "Columns: 3199 entries, A to ZUMZ\n",
      "dtypes: float64(3199)\n",
      "memory usage: 114.9 MB\n"
     ]
    }
   ],
   "source": [
    "prices = (pd.read_hdf('../data/assets.h5', 'quandl/wiki/prices')\n",
    "          .adj_close\n",
    "          .unstack().loc['2000':])\n",
    "prices.info()"
   ]
  },
  {
   "cell_type": "markdown",
   "metadata": {},
   "source": [
    "### Compute monthly returns"
   ]
  },
  {
   "cell_type": "code",
   "execution_count": 5,
   "metadata": {
    "ExecuteTime": {
     "end_time": "2020-05-20T00:04:52.179499Z",
     "start_time": "2020-05-20T00:04:51.773664Z"
    }
   },
   "outputs": [
    {
     "name": "stdout",
     "output_type": "stream",
     "text": [
      "<class 'pandas.core.frame.DataFrame'>\n",
      "DatetimeIndex: 215 entries, 2017-12-31 to 2000-02-29\n",
      "Freq: -1M\n",
      "Columns: 1511 entries, A to ZQK\n",
      "dtypes: float64(1511)\n",
      "memory usage: 2.5 MB\n"
     ]
    }
   ],
   "source": [
    "returns = (prices\n",
    "           .resample('M')\n",
    "           .last()\n",
    "           .pct_change()\n",
    "           .dropna(how='all')\n",
    "           .loc['2000': '2017']\n",
    "           .dropna(axis=1)\n",
    "           .sort_index(ascending=False))\n",
    "\n",
    "# remove outliers likely representing data errors\n",
    "returns = returns.where(returns<1).dropna(axis=1)\n",
    "returns.info()"
   ]
  },
  {
   "cell_type": "markdown",
   "metadata": {},
   "source": [
    "### Create model data"
   ]
  },
  {
   "cell_type": "code",
   "execution_count": 6,
   "metadata": {
    "ExecuteTime": {
     "end_time": "2020-05-20T00:05:12.784603Z",
     "start_time": "2020-05-20T00:05:12.777305Z"
    }
   },
   "outputs": [],
   "source": [
    "n = len(returns)\n",
    "nlags = 12\n",
    "lags = list(range(1, nlags + 1))"
   ]
  },
  {
   "cell_type": "code",
   "execution_count": 7,
   "metadata": {
    "ExecuteTime": {
     "end_time": "2020-05-20T00:05:15.953124Z",
     "start_time": "2020-05-20T00:05:14.031352Z"
    }
   },
   "outputs": [
    {
     "name": "stdout",
     "output_type": "stream",
     "text": [
      "<class 'pandas.core.frame.DataFrame'>\n",
      "MultiIndex: 305222 entries, ('A', Timestamp('2001-03-31 00:00:00')) to ('ZQK', Timestamp('2017-12-31 00:00:00'))\n",
      "Data columns (total 13 columns):\n",
      " #   Column  Non-Null Count   Dtype  \n",
      "---  ------  --------------   -----  \n",
      " 0   label   305222 non-null  float64\n",
      " 1   1       305222 non-null  float64\n",
      " 2   2       305222 non-null  float64\n",
      " 3   3       305222 non-null  float64\n",
      " 4   4       305222 non-null  float64\n",
      " 5   5       305222 non-null  float64\n",
      " 6   6       305222 non-null  float64\n",
      " 7   7       305222 non-null  float64\n",
      " 8   8       305222 non-null  float64\n",
      " 9   9       305222 non-null  float64\n",
      " 10  10      305222 non-null  float64\n",
      " 11  11      305222 non-null  float64\n",
      " 12  12      305222 non-null  float64\n",
      "dtypes: float64(13)\n",
      "memory usage: 31.5+ MB\n"
     ]
    }
   ],
   "source": [
    "cnn_data = []\n",
    "for i in range(n-nlags-1):\n",
    "    df = returns.iloc[i:i+nlags+1]        # select outcome and lags\n",
    "    date = df.index.max()                 # use outcome date\n",
    "    cnn_data.append(df.reset_index(drop=True)  # append transposed series\n",
    "                    .transpose()\n",
    "                    .assign(date=date)\n",
    "                    .set_index('date', append=True)\n",
    "                    .sort_index(1, ascending=True))\n",
    "\n",
    "cnn_data = (pd.concat(cnn_data)\n",
    "            .rename(columns={0: 'label'})\n",
    "            .sort_index())\n",
    "\n",
    "cnn_data.info(null_counts=True)\n"
   ]
  },
  {
   "cell_type": "markdown",
   "metadata": {},
   "source": [
    "## Evaluate features"
   ]
  },
  {
   "cell_type": "markdown",
   "metadata": {},
   "source": [
    "### Mutual Information"
   ]
  },
  {
   "cell_type": "code",
   "execution_count": 8,
   "metadata": {
    "ExecuteTime": {
     "end_time": "2020-05-19T23:36:22.602950Z",
     "start_time": "2020-05-19T23:33:24.567339Z"
    }
   },
   "outputs": [],
   "source": [
    "mi = mutual_info_regression(X=cnn_data.drop('label', axis=1), y=cnn_data.label)\n",
    "mi = pd.Series(mi, index=cnn_data.drop('label', axis=1).columns)"
   ]
  },
  {
   "cell_type": "markdown",
   "metadata": {},
   "source": [
    "### Information Coefficient"
   ]
  },
  {
   "cell_type": "code",
   "execution_count": 28,
   "metadata": {
    "ExecuteTime": {
     "end_time": "2020-05-19T23:36:28.968367Z",
     "start_time": "2020-05-19T23:36:27.252631Z"
    }
   },
   "outputs": [],
   "source": [
    "ic = {}\n",
    "for lag in lags:\n",
    "    ic[lag] = spearmanr(cnn_data.label, cnn_data[lag])\n",
    "ic = pd.DataFrame(ic, index=['IC', 'p-value']).T"
   ]
  },
  {
   "cell_type": "code",
   "execution_count": 33,
   "metadata": {
    "ExecuteTime": {
     "end_time": "2020-05-19T22:24:40.003019Z",
     "start_time": "2020-05-19T22:24:39.789049Z"
    }
   },
   "outputs": [
    {
     "data": {
      "image/png": "[encoded data removed]",
      "text/plain": [
       "<Figure size 1008x288 with 1 Axes>"
      ]
     },
     "metadata": {},
     "output_type": "display_data"
    }
   ],
   "source": [
    "ax = ic.plot.bar(rot=0, figsize=(14,4), ylim=(-0.05, .05), title='Feature Evaluation')\n",
    "ax.set_xlabel('Lag')\n",
    "plt.tight_layout()\n",
    "plt.savefig('figures/cnn_ts1d_feature_ic', dpi=300);"
   ]
  },
  {
   "cell_type": "markdown",
   "metadata": {},
   "source": [
    "### Plot Metrics"
   ]
  },
  {
   "cell_type": "code",
   "execution_count": 11,
   "metadata": {
    "ExecuteTime": {
     "end_time": "2020-05-19T23:36:31.863570Z",
     "start_time": "2020-05-19T23:36:31.847391Z"
    }
   },
   "outputs": [],
   "source": [
    "metrics = pd.concat([mi.to_frame('Mutual Information'),\n",
    "                     ic.IC.to_frame('Information Coefficient')], axis=1)"
   ]
  },
  {
   "cell_type": "code",
   "execution_count": 12,
   "metadata": {
    "ExecuteTime": {
     "end_time": "2020-05-19T23:36:34.197454Z",
     "start_time": "2020-05-19T23:36:33.640088Z"
    }
   },
   "outputs": [
    {
     "data": {
      "image/png": "[encoded data removed]",
      "text/plain": [
       "<Figure size 864x288 with 1 Axes>"
      ]
     },
     "metadata": {},
     "output_type": "display_data"
    }
   ],
   "source": [
    "ax = metrics.plot.bar(figsize=(12, 4), rot=0)\n",
    "ax.set_xlabel('Lag')\n",
    "plt.tight_layout()\n",
    "plt.savefig('figures/ts1d_metrics', dpi=300)"
   ]
  },
  {
   "cell_type": "markdown",
   "metadata": {},
   "source": [
    "## CNN"
   ]
  },
  {
   "cell_type": "markdown",
   "metadata": {},
   "source": [
    "### Model Architecture"
   ]
  },
  {
   "cell_type": "markdown",
   "metadata": {},
   "source": [
    "We design a simple one-layer CNN that uses one-dimensional convolutions combined with max pooling to learn time series patterns:"
   ]
  },
  {
   "cell_type": "code",
   "execution_count": 8,
   "metadata": {
    "ExecuteTime": {
     "end_time": "2020-05-20T00:05:49.426003Z",
     "start_time": "2020-05-20T00:05:49.404091Z"
    }
   },
   "outputs": [],
   "source": [
    "def get_model(filters=32, kernel_size=5, pool_size=2):\n",
    "    model = Sequential([Conv1D(filters=filters,\n",
    "                               kernel_size=kernel_size,\n",
    "                               activation='relu',\n",
    "                               padding='causal',\n",
    "                               input_shape=input_shape,\n",
    "                               use_bias=True,\n",
    "                               kernel_regularizer=regularizers.l1_l2(l1=1e-5,\n",
    "                                                                     l2=1e-5)),\n",
    "                        MaxPooling1D(pool_size=pool_size),\n",
    "                        Flatten(),\n",
    "                        BatchNormalization(),\n",
    "                        Dense(1, activation='linear')])\n",
    "    model.compile(loss='mse',\n",
    "                  optimizer='Adam')\n",
    "    return model"
   ]
  },
  {
   "cell_type": "markdown",
   "metadata": {},
   "source": [
    "The model has 673 trainable parameters:"
   ]
  },
  {
   "cell_type": "markdown",
   "metadata": {},
   "source": [
    "We train on returns for the years 2010-16 for 25 epochs (with early stopping) using the default batch size of 32. Each epoch takes around 3s on a single NVIDIA GTX 1080 GPU."
   ]
  },
  {
   "cell_type": "markdown",
   "metadata": {},
   "source": [
    "### Callbacks"
   ]
  },
  {
   "cell_type": "code",
   "execution_count": 12,
   "metadata": {
    "ExecuteTime": {
     "end_time": "2020-05-20T00:05:50.591937Z",
     "start_time": "2020-05-20T00:05:50.584339Z"
    }
   },
   "outputs": [],
   "source": [
    "early_stopping = EarlyStopping(monitor='val_loss',\n",
    "                               patience=5,\n",
    "                               restore_best_weights=True)"
   ]
  },
  {
   "cell_type": "markdown",
   "metadata": {},
   "source": [
    "### Set up CV"
   ]
  },
  {
   "cell_type": "code",
   "execution_count": 13,
   "metadata": {
    "ExecuteTime": {
     "end_time": "2020-05-20T00:05:42.951215Z",
     "start_time": "2020-05-20T00:05:42.942668Z"
    }
   },
   "outputs": [],
   "source": [
    "cv = MultipleTimeSeriesCV(n_splits=12 * 3,\n",
    "                          train_period_length=12 * 5,\n",
    "                          test_period_length=1,\n",
    "                          lookahead=1)"
   ]
  },
  {
   "cell_type": "code",
   "execution_count": 14,
   "metadata": {
    "ExecuteTime": {
     "end_time": "2020-05-20T00:05:43.330976Z",
     "start_time": "2020-05-20T00:05:43.324575Z"
    }
   },
   "outputs": [],
   "source": [
    "input_shape = nlags, 1"
   ]
  },
  {
   "cell_type": "markdown",
   "metadata": {},
   "source": [
    "### Train Model"
   ]
  },
  {
   "cell_type": "code",
   "execution_count": 15,
   "metadata": {
    "ExecuteTime": {
     "end_time": "2020-05-20T00:10:09.556649Z",
     "start_time": "2020-05-20T00:10:09.541822Z"
    }
   },
   "outputs": [],
   "source": [
    "def get_train_valid_data(X, y, train_idx, test_idx):\n",
    "    x_train, y_train = X.iloc[train_idx, :], y.iloc[train_idx]\n",
    "    x_val, y_val = X.iloc[test_idx, :], y.iloc[test_idx]\n",
    "    m = X.shape[1]\n",
    "    return (x_train.values.reshape(-1, m, 1), y_train,\n",
    "            x_val.values.reshape(-1, m, 1), y_val)"
   ]
  },
  {
   "cell_type": "code",
   "execution_count": 16,
   "metadata": {
    "ExecuteTime": {
     "end_time": "2020-05-20T00:23:10.318448Z",
     "start_time": "2020-05-20T00:23:10.311104Z"
    }
   },
   "outputs": [],
   "source": [
    "batch_size = 64\n",
    "epochs = 100"
   ]
  },
  {
   "cell_type": "code",
   "execution_count": 17,
   "metadata": {
    "ExecuteTime": {
     "end_time": "2020-05-20T00:23:10.937359Z",
     "start_time": "2020-05-20T00:23:10.930307Z"
    }
   },
   "outputs": [],
   "source": [
    "filters = 32\n",
    "kernel_size = 4\n",
    "pool_size = 4"
   ]
  },
  {
   "cell_type": "code",
   "execution_count": 18,
   "metadata": {
    "ExecuteTime": {
     "end_time": "2020-05-20T00:23:11.387717Z",
     "start_time": "2020-05-20T00:23:11.294823Z"
    }
   },
   "outputs": [
    {
     "name": "stdout",
     "output_type": "stream",
     "text": [
      "Model: \"sequential\"\n",
      "_________________________________________________________________\n",
      "Layer (type)                 Output Shape              Param #   \n",
      "=================================================================\n",
      "conv1d (Conv1D)              (None, 12, 32)            160       \n",
      "_________________________________________________________________\n",
      "max_pooling1d (MaxPooling1D) (None, 3, 32)             0         \n",
      "_________________________________________________________________\n",
      "flatten (Flatten)            (None, 96)                0         \n",
      "_________________________________________________________________\n",
      "batch_normalization (BatchNo (None, 96)                384       \n",
      "_________________________________________________________________\n",
      "dense (Dense)                (None, 1)                 97        \n",
      "=================================================================\n",
      "Total params: 641\n",
      "Trainable params: 449\n",
      "Non-trainable params: 192\n",
      "_________________________________________________________________\n"
     ]
    }
   ],
   "source": [
    "get_model(filters=filters,\n",
    "          kernel_size=kernel_size, \n",
    "          pool_size=pool_size).summary()"
   ]
  },
  {
   "cell_type": "code",
   "execution_count": 19,
   "metadata": {
    "ExecuteTime": {
     "end_time": "2020-05-20T00:25:28.319144Z",
     "start_time": "2020-05-20T00:23:12.586688Z"
    },
    "scrolled": true
   },
   "outputs": [
    {
     "name": "stdout",
     "output_type": "stream",
     "text": [
      "00 |   -3.96 (12.36%)\n",
      "01 |   -3.92 (12.73%)\n",
      "02 |    2.85 (26.80%)\n",
      "04 |    3.36 (19.14%)\n",
      "05 |    4.10 (11.10%)\n",
      "09 |    4.55 ( 7.68%)\n",
      "01 | 00:01:28 |  19 |   4.6 (  7.68%) |   4.6\n",
      "00 |   -0.88 (73.26%)\n",
      "03 |    0.02 (99.51%)\n",
      "05 |    2.26 (37.93%)\n",
      "02 | 00:03:09 |  15 |   2.3 ( 37.93%) |   3.4\n",
      "00 |    1.92 (45.48%)\n",
      "03 | 00:03:56 |  10 |   1.9 ( 45.48%) |   2.9\n",
      "00 |   -0.36 (88.79%)\n",
      "01 |   -0.10 (96.96%)\n",
      "02 |    4.58 ( 7.51%)\n",
      "04 | 00:04:52 |  12 |   4.6 (  7.51%) |   3.3\n",
      "00 |    2.39 (35.41%)\n",
      "05 | 00:05:41 |  10 |   2.4 ( 35.41%) |   3.1\n",
      "00 |    1.04 (68.72%)\n",
      "08 |    1.37 (59.49%)\n",
      "06 | 00:07:06 |  18 |   1.4 ( 59.49%) |   2.8\n",
      "00 |    0.93 (71.68%)\n",
      "01 |    2.97 (24.80%)\n",
      "07 | 00:08:07 |  11 |   3.0 ( 24.80%) |   2.9\n",
      "00 |   -0.17 (94.81%)\n",
      "01 |    3.11 (22.70%)\n",
      "10 |    3.28 (20.22%)\n",
      "11 |    4.05 (11.58%)\n",
      "15 |    4.13 (10.89%)\n",
      "17 |    5.30 ( 3.94%)\n",
      "08 | 00:10:21 |  27 |   5.3 (  3.94%) |   3.2\n",
      "00 |   -0.18 (94.33%)\n",
      "01 |    0.46 (85.78%)\n",
      "02 |    2.89 (26.16%)\n",
      "03 |    4.96 ( 5.39%)\n",
      "09 | 00:11:48 |  13 |   5.0 (  5.39%) |   3.4\n",
      "00 |    1.28 (62.00%)\n",
      "04 |    1.82 (48.06%)\n",
      "06 |    5.42 ( 3.51%)\n",
      "14 |    5.76 ( 2.51%)\n",
      "10 | 00:14:19 |  24 |   5.8 (  2.51%) |   3.6\n",
      "00 |   -3.10 (22.79%)\n",
      "01 |    2.83 (27.21%)\n",
      "09 |    3.72 (14.84%)\n",
      "11 | 00:16:28 |  19 |   3.7 ( 14.84%) |   3.6\n",
      "00 |    2.38 (35.53%)\n",
      "01 |    3.17 (21.81%)\n",
      "12 | 00:17:41 |  11 |   3.2 ( 21.81%) |   3.6\n",
      "00 |    3.07 (23.28%)\n",
      "10 |    3.73 (14.76%)\n",
      "13 |    5.78 ( 2.46%)\n",
      "15 |    5.86 ( 2.27%)\n",
      "13 | 00:20:17 |  25 |   5.9 (  2.27%) |   3.8\n",
      "00 |   -0.27 (91.60%)\n",
      "01 |    0.82 (75.01%)\n",
      "02 |    5.04 ( 5.02%)\n",
      "04 |    5.04 ( 5.00%)\n",
      "14 | 00:21:52 |  14 |   5.0 (  5.00%) |   3.8\n",
      "00 |    2.37 (35.79%)\n",
      "01 |    4.04 (11.65%)\n",
      "06 |    4.97 ( 5.34%)\n",
      "08 |    6.29 ( 1.44%)\n",
      "15 | 00:23:44 |  18 |   6.3 (  1.44%) |   4.0\n",
      "00 |    0.68 (79.19%)\n",
      "03 |    1.78 (48.98%)\n",
      "05 |    2.75 (28.55%)\n",
      "16 | 00:25:20 |  15 |   2.7 ( 28.55%) |   3.9\n",
      "00 |    0.56 (82.82%)\n",
      "01 |    1.06 (68.02%)\n",
      "04 |    1.10 (66.92%)\n",
      "06 |    1.64 (52.34%)\n",
      "08 |    4.84 ( 5.98%)\n",
      "17 | 00:27:29 |  18 |   4.8 (  5.98%) |   4.0\n",
      "00 |    3.01 (24.22%)\n",
      "02 |    3.56 (16.66%)\n",
      "07 |    5.12 ( 4.64%)\n",
      "18 | 00:28:45 |  17 |   5.1 (  4.64%) |   4.0\n",
      "00 |   -2.96 (25.03%)\n",
      "01 |   -2.79 (27.86%)\n",
      "02 |    0.22 (93.23%)\n",
      "04 |    0.94 (71.41%)\n",
      "08 |    2.00 (43.66%)\n",
      "10 |    2.44 (34.33%)\n",
      "17 |    3.36 (19.21%)\n",
      "27 |    4.08 (11.26%)\n",
      "19 | 00:31:30 |  37 |   4.1 ( 11.26%) |   4.1\n",
      "00 |    0.54 (83.33%)\n",
      "01 |    1.84 (47.53%)\n",
      "04 |    4.01 (11.90%)\n",
      "05 |    5.81 ( 2.38%)\n",
      "07 |    6.74 ( 0.87%)\n",
      "12 |    6.75 ( 0.87%)\n",
      "15 |    7.85 ( 0.23%)\n",
      "20 | 00:33:29 |  25 |   7.8 (  0.23%) |   4.2\n",
      "00 |    2.26 (38.09%)\n",
      "05 |    4.23 ( 9.99%)\n",
      "21 | 00:34:49 |  15 |   4.2 (  9.99%) |   4.2\n",
      "00 |   -1.82 (48.00%)\n",
      "01 |   -0.33 (89.65%)\n",
      "02 |    5.31 ( 3.90%)\n",
      "22 | 00:35:46 |  12 |   5.3 (  3.90%) |   4.3\n",
      "00 |   -0.25 (92.14%)\n",
      "01 |    1.74 (49.99%)\n",
      "23 | 00:36:42 |  11 |   1.7 ( 49.99%) |   4.2\n",
      "00 |    3.56 (16.72%)\n",
      "01 |    6.27 ( 1.48%)\n",
      "24 | 00:37:30 |  11 |   6.3 (  1.48%) |   4.3\n",
      "00 |   -2.04 (42.91%)\n",
      "01 |    0.74 (77.39%)\n",
      "07 |    0.95 (71.16%)\n",
      "10 |    1.11 (66.77%)\n",
      "25 | 00:39:05 |  20 |   1.1 ( 66.77%) |   4.1\n",
      "00 |    1.01 (69.54%)\n",
      "01 |    1.20 (64.25%)\n",
      "02 |    1.95 (44.77%)\n",
      "07 |    4.66 ( 7.01%)\n",
      "26 | 00:40:22 |  17 |   4.7 (  7.01%) |   4.2\n",
      "00 |    0.58 (82.08%)\n",
      "01 |    2.00 (43.82%)\n",
      "27 | 00:41:18 |  11 |   2.0 ( 43.82%) |   4.1\n",
      "00 |    1.23 (63.24%)\n",
      "03 |    2.38 (35.57%)\n",
      "08 |    3.58 (16.46%)\n",
      "28 | 00:42:53 |  18 |   3.6 ( 16.46%) |   4.1\n",
      "00 |    1.82 (47.85%)\n",
      "06 |    3.26 (20.49%)\n",
      "11 |    3.77 (14.34%)\n",
      "29 | 00:44:39 |  21 |   3.8 ( 14.34%) |   4.1\n",
      "00 |   -0.12 (96.42%)\n",
      "03 |    4.41 ( 8.69%)\n",
      "30 | 00:45:42 |  13 |   4.4 (  8.69%) |   4.1\n",
      "00 |    1.56 (54.42%)\n",
      "01 |    3.27 (20.44%)\n",
      "31 | 00:46:42 |  11 |   3.3 ( 20.44%) |   4.0\n",
      "00 |    5.78 ( 2.47%)\n",
      "32 | 00:47:31 |  10 |   5.8 (  2.47%) |   4.1\n",
      "00 |   -4.51 ( 7.98%)\n",
      "01 |   -1.12 (66.41%)\n",
      "02 |    0.74 (77.47%)\n",
      "03 |    2.40 (35.12%)\n",
      "33 | 00:48:39 |  13 |   2.4 ( 35.12%) |   4.0\n",
      "00 |   -0.20 (93.83%)\n",
      "02 |    0.96 (71.04%)\n",
      "04 |    1.31 (61.01%)\n",
      "06 |    2.11 (41.27%)\n",
      "11 |    3.42 (18.36%)\n",
      "12 |    4.52 ( 7.93%)\n",
      "34 | 00:50:22 |  22 |   4.5 (  7.93%) |   4.1\n",
      "00 |    3.08 (23.16%)\n",
      "02 |    6.08 ( 1.82%)\n",
      "35 | 00:51:19 |  12 |   6.1 (  1.82%) |   4.1\n",
      "00 |   -0.09 (97.11%)\n",
      "01 |    1.19 (64.42%)\n",
      "07 |    1.28 (61.87%)\n",
      "11 |    3.38 (18.91%)\n",
      "36 | 00:53:10 |  21 |   3.4 ( 18.91%) |   4.1\n"
     ]
    }
   ],
   "source": [
    "result = {}\n",
    "start = time()\n",
    "for fold, (train_idx, test_idx) in enumerate(cv.split(cnn_data)):\n",
    "    X_train, y_train, X_val, y_val = get_train_valid_data(cnn_data\n",
    "                                                          .drop('label', axis=1)\n",
    "                                                          .sort_index(ascending=False),\n",
    "                                                          cnn_data.label,\n",
    "                                                          train_idx,\n",
    "                                                          test_idx)\n",
    "    test_date = y_val.index.get_level_values('date').max()\n",
    "    model = get_model(filters=filters,\n",
    "                      kernel_size=kernel_size,\n",
    "                      pool_size=pool_size)\n",
    "    \n",
    "    best_ic = -np.inf\n",
    "    stop = 0\n",
    "    for epoch in range(50):         \n",
    "        training = model.fit(X_train, y_train,\n",
    "                             batch_size=batch_size,\n",
    "                             validation_data=(X_val, y_val),\n",
    "                             epochs=epoch + 1,\n",
    "                             initial_epoch=epoch,\n",
    "#                              callbacks=[early_stopping],\n",
    "                             verbose=0,\n",
    "                             shuffle=True)\n",
    "        predicted = model.predict(X_val).squeeze()\n",
    "        ic, p_val_ = spearmanr(predicted, y_val)\n",
    "        if ic > best_ic:\n",
    "            best_ic = ic\n",
    "            p_val = p_val_\n",
    "            print(f'{epoch:02} | {best_ic*100:7.2f} ({p_val:6.2%})')\n",
    "            stop = 0\n",
    "        elif np.isnan(ic):\n",
    "            stop += 1\n",
    "        else:\n",
    "            stop += 1\n",
    "        if stop == 10:\n",
    "            break\n",
    "    \n",
    "#     nrounds = len(training.history['loss'])\n",
    "    nrounds = epoch-stop\n",
    "    result[test_date] = [nrounds, best_ic, p_val]\n",
    "    df = pd.DataFrame(result, index=['epochs', 'IC', 'p-value']).T\n",
    "    msg = f'{fold + 1:02d} | {format_time(time()-start)} | {nrounds:3.0f} | '\n",
    "    print(msg + f'{best_ic*100:5.2} ({p_val:7.2%}) | {df.IC.mean()*100:5.2}')"
   ]
  },
  {
   "cell_type": "markdown",
   "metadata": {},
   "source": [
    "### Evaluate Results"
   ]
  },
  {
   "cell_type": "code",
   "execution_count": 20,
   "metadata": {},
   "outputs": [],
   "source": [
    "metrics = pd.DataFrame(result, index=['epochs', 'IC', 'p-value']).T"
   ]
  },
  {
   "cell_type": "code",
   "execution_count": 27,
   "metadata": {},
   "outputs": [
    {
     "data": {
      "image/png": "[encoded data removed]",
      "text/plain": [
       "<Figure size 864x288 with 1 Axes>"
      ]
     },
     "metadata": {},
     "output_type": "display_data"
    }
   ],
   "source": [
    "ax = metrics.IC.plot(figsize=(12, 4), \n",
    "                     label='Information Coefficient',\n",
    "                     title='Validation Performance',\n",
    "                    ylim=(0, .08))\n",
    "metrics.IC.expanding().mean().plot(ax=ax, label='Cumulative Average')\n",
    "plt.legend()\n",
    "plt.tight_layout()\n",
    "plt.savefig('figures/cnn_ts1d_ic', dpi=300);"
   ]
  }
 ],
 "metadata": {
  "kernelspec": {
   "display_name": "Python [conda env:ml4t-dl] *",
   "language": "python",
   "name": "conda-env-ml4t-dl-py"
  },
  "language_info": {
   "codemirror_mode": {
    "name": "ipython",
    "version": 3
   },
   "file_extension": ".py",
   "mimetype": "text/x-python",
   "name": "python",
   "nbconvert_exporter": "python",
   "pygments_lexer": "ipython3",
   "version": "3.7.7"
  },
  "toc": {
   "base_numbering": 1,
   "nav_menu": {},
   "number_sections": true,
   "sideBar": true,
   "skip_h1_title": true,
   "title_cell": "Table of Contents",
   "title_sidebar": "Contents",
   "toc_cell": false,
   "toc_position": {
    "height": "calc(100% - 180px)",
    "left": "10px",
    "top": "150px",
    "width": "240.391px"
   },
   "toc_section_display": true,
   "toc_window_display": true
  },
  "toc-autonumbering": true
 },
 "nbformat": 4,
 "nbformat_minor": 4
}
