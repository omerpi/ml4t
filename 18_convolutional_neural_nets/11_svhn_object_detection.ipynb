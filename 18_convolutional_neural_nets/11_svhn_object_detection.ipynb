{
 "cells": [
  {
   "cell_type": "markdown",
   "metadata": {},
   "source": [
    "# Object Detection with Street View House Numbers"
   ]
  },
  {
   "cell_type": "markdown",
   "metadata": {},
   "source": [
    "This notebook illustrates how to build a deep CNN using Keras’ functional API to generate multiple outputs: one to predict how many digits are present, and five for the value of each in the order they appear."
   ]
  },
  {
   "cell_type": "markdown",
   "metadata": {},
   "source": [
    "## Imports & Settings"
   ]
  },
  {
   "cell_type": "code",
   "execution_count": 1,
   "metadata": {
    "ExecuteTime": {
     "end_time": "2020-03-22T21:25:52.347230Z",
     "start_time": "2020-03-22T21:25:51.081401Z"
    }
   },
   "outputs": [],
   "source": [
    "%matplotlib inline\n",
    "from pathlib import Path\n",
    "import pandas as pd\n",
    "import numpy as np\n",
    "\n",
    "import matplotlib.pyplot as plt\n",
    "import seaborn as sns\n",
    "\n",
    "from sklearn.metrics import confusion_matrix\n",
    "import tensorflow as tf\n",
    "from tensorflow.keras.models import Sequential, Model\n",
    "from tensorflow.keras.applications.vgg16 import VGG16\n",
    "from tensorflow.keras.callbacks import ModelCheckpoint, EarlyStopping\n",
    "from tensorflow.keras.layers import (Conv2D, MaxPooling2D, Flatten, Dense, Input, Dropout, \n",
    "                                     BatchNormalization, Activation, Concatenate)\n",
    "from tensorflow.keras import backend as K\n",
    "from tensorflow.keras.optimizers import Adam\n",
    "from matplotlib.ticker import FuncFormatter"
   ]
  },
  {
   "cell_type": "code",
   "execution_count": 49,
   "metadata": {
    "ExecuteTime": {
     "end_time": "2020-03-22T23:07:32.506023Z",
     "start_time": "2020-03-22T23:07:32.499273Z"
    }
   },
   "outputs": [],
   "source": [
    "sns.set_style('whitegrid')"
   ]
  },
  {
   "cell_type": "code",
   "execution_count": 2,
   "metadata": {
    "ExecuteTime": {
     "end_time": "2020-03-22T21:25:52.355883Z",
     "start_time": "2020-03-22T21:25:52.350750Z"
    }
   },
   "outputs": [],
   "source": [
    "DATA_PATH = Path('images', 'svhn')"
   ]
  },
  {
   "cell_type": "markdown",
   "metadata": {},
   "source": [
    "### Settings"
   ]
  },
  {
   "cell_type": "code",
   "execution_count": 3,
   "metadata": {
    "ExecuteTime": {
     "end_time": "2020-03-22T21:25:52.370288Z",
     "start_time": "2020-03-22T21:25:52.358916Z"
    }
   },
   "outputs": [],
   "source": [
    "IMG_SIZE = 32\n",
    "IMG_SHAPE = (IMG_SIZE, IMG_SIZE, 3)\n",
    "SEQ_LENGTH = 4\n",
    "N_CLASSES = 11"
   ]
  },
  {
   "cell_type": "markdown",
   "metadata": {},
   "source": [
    "## Load Data "
   ]
  },
  {
   "cell_type": "code",
   "execution_count": 4,
   "metadata": {
    "ExecuteTime": {
     "end_time": "2020-03-22T21:25:52.442665Z",
     "start_time": "2020-03-22T21:25:52.371244Z"
    }
   },
   "outputs": [],
   "source": [
    "X_train = np.load(DATA_PATH / 'X_train.npy')\n",
    "y_train = np.load(DATA_PATH / 'y_train.npy')"
   ]
  },
  {
   "cell_type": "markdown",
   "metadata": {},
   "source": [
    "Removing the rare cases of 5-digit house numbers."
   ]
  },
  {
   "cell_type": "code",
   "execution_count": 5,
   "metadata": {
    "ExecuteTime": {
     "end_time": "2020-03-22T21:25:52.501929Z",
     "start_time": "2020-03-22T21:25:52.443677Z"
    }
   },
   "outputs": [],
   "source": [
    "X_train = X_train[y_train[:, 0] < 5]\n",
    "y_train = y_train[y_train[:, 0] < 5, :5]\n",
    "y_train[:, 0] -= 1"
   ]
  },
  {
   "cell_type": "code",
   "execution_count": 6,
   "metadata": {
    "ExecuteTime": {
     "end_time": "2020-03-22T21:25:52.529700Z",
     "start_time": "2020-03-22T21:25:52.502880Z"
    }
   },
   "outputs": [],
   "source": [
    "X_test = np.load(DATA_PATH / 'X_test.npy')\n",
    "y_test = np.load(DATA_PATH / 'y_test.npy')"
   ]
  },
  {
   "cell_type": "code",
   "execution_count": 7,
   "metadata": {
    "ExecuteTime": {
     "end_time": "2020-03-22T21:25:52.555629Z",
     "start_time": "2020-03-22T21:25:52.530595Z"
    }
   },
   "outputs": [],
   "source": [
    "X_test = X_test[y_test[:, 0] < 5]\n",
    "y_test = y_test[y_test[:, 0] < 5, :5]\n",
    "y_test[:, 0] -= 1"
   ]
  },
  {
   "cell_type": "code",
   "execution_count": 8,
   "metadata": {
    "ExecuteTime": {
     "end_time": "2020-03-22T21:25:52.564137Z",
     "start_time": "2020-03-22T21:25:52.557093Z"
    }
   },
   "outputs": [
    {
     "data": {
      "text/plain": [
       "0     4\n",
       "1    10\n",
       "2    11\n",
       "3    11\n",
       "4    11\n",
       "dtype: int64"
      ]
     },
     "execution_count": 8,
     "metadata": {},
     "output_type": "execute_result"
    }
   ],
   "source": [
    "pd.DataFrame(y_train).nunique()"
   ]
  },
  {
   "cell_type": "code",
   "execution_count": 9,
   "metadata": {
    "ExecuteTime": {
     "end_time": "2020-03-22T21:25:52.569090Z",
     "start_time": "2020-03-22T21:25:52.566078Z"
    }
   },
   "outputs": [
    {
     "data": {
      "text/plain": [
       "(33392, 5)"
      ]
     },
     "execution_count": 9,
     "metadata": {},
     "output_type": "execute_result"
    }
   ],
   "source": [
    "y_train.shape"
   ]
  },
  {
   "cell_type": "markdown",
   "metadata": {},
   "source": [
    "## Best Architecture"
   ]
  },
  {
   "cell_type": "markdown",
   "metadata": {},
   "source": [
    "[Multi-digit Number Recognition from Street View Imagery using Deep Convolutional Neural Networks](https://arxiv.org/abs/1312.6082), Goodfellow, et al, 2014"
   ]
  },
  {
   "cell_type": "code",
   "execution_count": 10,
   "metadata": {
    "ExecuteTime": {
     "end_time": "2020-03-22T21:25:52.577055Z",
     "start_time": "2020-03-22T21:25:52.569825Z"
    }
   },
   "outputs": [],
   "source": [
    "digit_pos = {1: [4, 14], 2: [14, 25], 3: [25, 36], 4: [36, 47]}"
   ]
  },
  {
   "cell_type": "code",
   "execution_count": 11,
   "metadata": {
    "ExecuteTime": {
     "end_time": "2020-03-22T21:25:52.584487Z",
     "start_time": "2020-03-22T21:25:52.577997Z"
    }
   },
   "outputs": [],
   "source": [
    "def weighted_accuracy(y_true, y_pred):\n",
    "    n_digits_pred = K.argmax(y_pred[:, :SEQ_LENGTH], axis=1)\n",
    "\n",
    "    digit_preds = {}\n",
    "    for digit, (start, end) in digit_pos.items():\n",
    "        digit_preds[digit] = K.argmax(y_pred[:, start:end], axis=1)\n",
    "    preds = tf.dtypes.cast(tf.stack((n_digits_pred,\n",
    "                                     digit_preds[1],\n",
    "                                     digit_preds[2],\n",
    "                                     digit_preds[3],\n",
    "                                     digit_preds[4]), axis=1), tf.float32)\n",
    "\n",
    "    return K.mean(K.sum(tf.dtypes.cast(K.equal(y_true, preds), tf.int64), axis=1) / 5)"
   ]
  },
  {
   "cell_type": "code",
   "execution_count": 12,
   "metadata": {
    "ExecuteTime": {
     "end_time": "2020-03-22T21:25:52.592227Z",
     "start_time": "2020-03-22T21:25:52.585305Z"
    }
   },
   "outputs": [],
   "source": [
    "def weighted_entropy(y_true, y_pred):\n",
    "    cce = tf.keras.losses.SparseCategoricalCrossentropy()\n",
    "    n_digits = y_pred[:, :SEQ_LENGTH]\n",
    "\n",
    "    digits = {}\n",
    "    for digit, (start, end) in digit_pos.items():\n",
    "        digits[digit] = y_pred[:, start:end]\n",
    "    return (cce(y_true[:, 0], n_digits) +\n",
    "            cce(y_true[:, 1], digits[1]) +\n",
    "            cce(y_true[:, 2], digits[2]) +\n",
    "            cce(y_true[:, 3], digits[3]) +\n",
    "            cce(y_true[:, 4], digits[4])) / 5"
   ]
  },
  {
   "cell_type": "code",
   "execution_count": 13,
   "metadata": {
    "ExecuteTime": {
     "end_time": "2020-03-22T21:25:53.473185Z",
     "start_time": "2020-03-22T21:25:52.593089Z"
    }
   },
   "outputs": [],
   "source": [
    "vgg16 = VGG16(input_shape=IMG_SHAPE, include_top=False, weights='imagenet')\n",
    "vgg16.trainable = False\n",
    "x = vgg16.output\n",
    "x = Flatten()(x)\n",
    "x = BatchNormalization()(x)\n",
    "x = Dense(256)(x)\n",
    "x = BatchNormalization()(x)\n",
    "x = Activation('relu')(x)\n",
    "x = Dense(128)(x)\n",
    "x = BatchNormalization()(x)\n",
    "x = Activation('relu')(x)\n",
    "n_digits = Dense(SEQ_LENGTH, activation='softmax', name='n_digits')(x)\n",
    "digit1 = Dense(N_CLASSES-1, activation='softmax', name='d1')(x)\n",
    "digit2 = Dense(N_CLASSES, activation='softmax', name='d2')(x)\n",
    "digit3 = Dense(N_CLASSES, activation='softmax', name='d3')(x)\n",
    "digit4 = Dense(N_CLASSES, activation='softmax', name='d4')(x)\n",
    "predictions = Concatenate()([n_digits, digit1, digit2, digit3, digit4])\n",
    "\n",
    "model = Model(inputs=vgg16.input, outputs=predictions)"
   ]
  },
  {
   "cell_type": "code",
   "execution_count": 14,
   "metadata": {
    "ExecuteTime": {
     "end_time": "2020-03-22T21:25:53.539835Z",
     "start_time": "2020-03-22T21:25:53.474037Z"
    }
   },
   "outputs": [],
   "source": [
    "model.compile(optimizer='adam',\n",
    "              loss=weighted_entropy,\n",
    "              metrics=[weighted_accuracy])"
   ]
  },
  {
   "cell_type": "markdown",
   "metadata": {},
   "source": [
    "As a result, the model produces five distinct outputs that we can evaluate."
   ]
  },
  {
   "cell_type": "markdown",
   "metadata": {},
   "source": [
    "## Define Callbacks"
   ]
  },
  {
   "cell_type": "code",
   "execution_count": 15,
   "metadata": {
    "ExecuteTime": {
     "end_time": "2020-03-22T21:25:53.542558Z",
     "start_time": "2020-03-22T21:25:53.540682Z"
    }
   },
   "outputs": [],
   "source": [
    "svhn_path = 'models/svhn.cnn.weights.best.hdf5'\n",
    "checkpointer = ModelCheckpoint(filepath=svhn_path, \n",
    "                               verbose=1, \n",
    "                               monitor='val_weighted_accuracy',\n",
    "                               save_best_only=True)"
   ]
  },
  {
   "cell_type": "code",
   "execution_count": 16,
   "metadata": {
    "ExecuteTime": {
     "end_time": "2020-03-22T21:25:53.550865Z",
     "start_time": "2020-03-22T21:25:53.543359Z"
    }
   },
   "outputs": [],
   "source": [
    "early_stopping = EarlyStopping(monitor='val_weighted_accuracy', \n",
    "                               patience=5)"
   ]
  },
  {
   "cell_type": "markdown",
   "metadata": {},
   "source": [
    "## Train Transfer Model"
   ]
  },
  {
   "cell_type": "code",
   "execution_count": 17,
   "metadata": {
    "ExecuteTime": {
     "end_time": "2020-03-22T21:25:53.563428Z",
     "start_time": "2020-03-22T21:25:53.551695Z"
    }
   },
   "outputs": [],
   "source": [
    "epochs = 50"
   ]
  },
  {
   "cell_type": "code",
   "execution_count": 18,
   "metadata": {
    "ExecuteTime": {
     "end_time": "2020-03-22T21:28:02.315260Z",
     "start_time": "2020-03-22T21:25:53.564358Z"
    }
   },
   "outputs": [
    {
     "name": "stdout",
     "output_type": "stream",
     "text": [
      "Train on 30052 samples, validate on 3340 samples\n",
      "Epoch 1/50\n",
      "29920/30052 [============================>.] - ETA: 0s - loss: 1.0639 - weighted_accuracy: 0.6419\n",
      "Epoch 00001: val_weighted_accuracy improved from -inf to 0.66972, saving model to models/svhn.cnn.weights.best.hdf5\n",
      "30052/30052 [==============================] - 11s 369us/sample - loss: 1.0636 - weighted_accuracy: 0.6420 - val_loss: 0.9703 - val_weighted_accuracy: 0.6697\n",
      "Epoch 2/50\n",
      "29888/30052 [============================>.] - ETA: 0s - loss: 0.9259 - weighted_accuracy: 0.6846\n",
      "Epoch 00002: val_weighted_accuracy improved from 0.66972 to 0.68532, saving model to models/svhn.cnn.weights.best.hdf5\n",
      "30052/30052 [==============================] - 9s 301us/sample - loss: 0.9255 - weighted_accuracy: 0.6847 - val_loss: 0.9290 - val_weighted_accuracy: 0.6853\n",
      "Epoch 3/50\n",
      "29920/30052 [============================>.] - ETA: 0s - loss: 0.8795 - weighted_accuracy: 0.6994\n",
      "Epoch 00003: val_weighted_accuracy improved from 0.68532 to 0.69040, saving model to models/svhn.cnn.weights.best.hdf5\n",
      "30052/30052 [==============================] - 9s 305us/sample - loss: 0.8799 - weighted_accuracy: 0.6993 - val_loss: 0.9157 - val_weighted_accuracy: 0.6904\n",
      "Epoch 4/50\n",
      "30016/30052 [============================>.] - ETA: 0s - loss: 0.8498 - weighted_accuracy: 0.7088\n",
      "Epoch 00004: val_weighted_accuracy improved from 0.69040 to 0.69431, saving model to models/svhn.cnn.weights.best.hdf5\n",
      "30052/30052 [==============================] - 9s 305us/sample - loss: 0.8497 - weighted_accuracy: 0.7089 - val_loss: 0.9051 - val_weighted_accuracy: 0.6943\n",
      "Epoch 5/50\n",
      "29888/30052 [============================>.] - ETA: 0s - loss: 0.8182 - weighted_accuracy: 0.7197\n",
      "Epoch 00005: val_weighted_accuracy did not improve from 0.69431\n",
      "30052/30052 [==============================] - 9s 302us/sample - loss: 0.8188 - weighted_accuracy: 0.7196 - val_loss: 0.9154 - val_weighted_accuracy: 0.6930\n",
      "Epoch 6/50\n",
      "29952/30052 [============================>.] - ETA: 0s - loss: 0.7969 - weighted_accuracy: 0.7254\n",
      "Epoch 00006: val_weighted_accuracy did not improve from 0.69431\n",
      "30052/30052 [==============================] - 9s 305us/sample - loss: 0.7973 - weighted_accuracy: 0.7252 - val_loss: 0.9133 - val_weighted_accuracy: 0.6935\n",
      "Epoch 7/50\n",
      "29952/30052 [============================>.] - ETA: 0s - loss: 0.7746 - weighted_accuracy: 0.7333\n",
      "Epoch 00007: val_weighted_accuracy improved from 0.69431 to 0.69569, saving model to models/svhn.cnn.weights.best.hdf5\n",
      "30052/30052 [==============================] - 9s 302us/sample - loss: 0.7746 - weighted_accuracy: 0.7332 - val_loss: 0.9213 - val_weighted_accuracy: 0.6957\n",
      "Epoch 8/50\n",
      "30048/30052 [============================>.] - ETA: 0s - loss: 0.7552 - weighted_accuracy: 0.7402\n",
      "Epoch 00008: val_weighted_accuracy improved from 0.69569 to 0.69669, saving model to models/svhn.cnn.weights.best.hdf5\n",
      "30052/30052 [==============================] - 9s 305us/sample - loss: 0.7552 - weighted_accuracy: 0.7401 - val_loss: 0.9233 - val_weighted_accuracy: 0.6967\n",
      "Epoch 9/50\n",
      "29856/30052 [============================>.] - ETA: 0s - loss: 0.7369 - weighted_accuracy: 0.7464\n",
      "Epoch 00009: val_weighted_accuracy improved from 0.69669 to 0.69804, saving model to models/svhn.cnn.weights.best.hdf5\n",
      "30052/30052 [==============================] - 9s 300us/sample - loss: 0.7370 - weighted_accuracy: 0.7461 - val_loss: 0.9345 - val_weighted_accuracy: 0.6980\n",
      "Epoch 10/50\n",
      "30016/30052 [============================>.] - ETA: 0s - loss: 0.7206 - weighted_accuracy: 0.7514\n",
      "Epoch 00010: val_weighted_accuracy did not improve from 0.69804\n",
      "30052/30052 [==============================] - 9s 298us/sample - loss: 0.7209 - weighted_accuracy: 0.7513 - val_loss: 0.9489 - val_weighted_accuracy: 0.6948\n",
      "Epoch 11/50\n",
      "29920/30052 [============================>.] - ETA: 0s - loss: 0.7026 - weighted_accuracy: 0.7564\n",
      "Epoch 00011: val_weighted_accuracy did not improve from 0.69804\n",
      "30052/30052 [==============================] - 9s 299us/sample - loss: 0.7028 - weighted_accuracy: 0.7561 - val_loss: 0.9521 - val_weighted_accuracy: 0.6929\n",
      "Epoch 12/50\n",
      "30016/30052 [============================>.] - ETA: 0s - loss: 0.6884 - weighted_accuracy: 0.7626\n",
      "Epoch 00012: val_weighted_accuracy did not improve from 0.69804\n",
      "30052/30052 [==============================] - 9s 299us/sample - loss: 0.6885 - weighted_accuracy: 0.7626 - val_loss: 0.9587 - val_weighted_accuracy: 0.6966\n",
      "Epoch 13/50\n",
      "29920/30052 [============================>.] - ETA: 0s - loss: 0.6754 - weighted_accuracy: 0.7670\n",
      "Epoch 00013: val_weighted_accuracy did not improve from 0.69804\n",
      "30052/30052 [==============================] - 9s 289us/sample - loss: 0.6757 - weighted_accuracy: 0.7667 - val_loss: 0.9756 - val_weighted_accuracy: 0.6954\n",
      "Epoch 14/50\n",
      "30048/30052 [============================>.] - ETA: 0s - loss: 0.6625 - weighted_accuracy: 0.7708\n",
      "Epoch 00014: val_weighted_accuracy did not improve from 0.69804\n",
      "30052/30052 [==============================] - 9s 296us/sample - loss: 0.6625 - weighted_accuracy: 0.7707 - val_loss: 1.0042 - val_weighted_accuracy: 0.6927\n"
     ]
    }
   ],
   "source": [
    "history = model.fit(x=X_train,\n",
    "                    y=y_train,\n",
    "                    validation_split=.1,\n",
    "                    batch_size=32,\n",
    "                    epochs=epochs,\n",
    "                    verbose=1,\n",
    "                    callbacks=[checkpointer, early_stopping])"
   ]
  },
  {
   "cell_type": "markdown",
   "metadata": {},
   "source": [
    "### Evaluate Results"
   ]
  },
  {
   "cell_type": "code",
   "execution_count": 19,
   "metadata": {
    "ExecuteTime": {
     "end_time": "2020-03-22T21:28:02.327521Z",
     "start_time": "2020-03-22T21:28:02.318940Z"
    }
   },
   "outputs": [],
   "source": [
    "metrics = pd.DataFrame(history.history)\n",
    "initial_epochs = len(metrics)"
   ]
  },
  {
   "cell_type": "code",
   "execution_count": 20,
   "metadata": {
    "ExecuteTime": {
     "end_time": "2020-03-22T21:28:04.804523Z",
     "start_time": "2020-03-22T21:28:02.330104Z"
    }
   },
   "outputs": [
    {
     "name": "stdout",
     "output_type": "stream",
     "text": [
      "13066/13066 [==============================] - 2s 182us/sample\n"
     ]
    }
   ],
   "source": [
    "y_pred = model.predict(X_test, verbose=1)"
   ]
  },
  {
   "cell_type": "code",
   "execution_count": 21,
   "metadata": {
    "ExecuteTime": {
     "end_time": "2020-03-22T21:28:04.807769Z",
     "start_time": "2020-03-22T21:28:04.805483Z"
    }
   },
   "outputs": [],
   "source": [
    "n_digits = y_pred[:, :SEQ_LENGTH]\n",
    "digits = {}\n",
    "for digit, (start, end) in digit_pos.items():\n",
    "    digits[digit] = y_pred[:, start:end]"
   ]
  },
  {
   "cell_type": "code",
   "execution_count": 22,
   "metadata": {
    "ExecuteTime": {
     "end_time": "2020-03-22T21:28:04.818893Z",
     "start_time": "2020-03-22T21:28:04.809107Z"
    },
    "scrolled": true
   },
   "outputs": [
    {
     "data": {
      "text/plain": [
       "0.8209092300627583"
      ]
     },
     "execution_count": 22,
     "metadata": {},
     "output_type": "execute_result"
    }
   ],
   "source": [
    "(y_test[:, 0] == np.argmax(n_digits, axis=1)).sum()/len(n_digits)"
   ]
  },
  {
   "cell_type": "code",
   "execution_count": 23,
   "metadata": {
    "ExecuteTime": {
     "end_time": "2020-03-22T21:28:04.825578Z",
     "start_time": "2020-03-22T21:28:04.820475Z"
    }
   },
   "outputs": [],
   "source": [
    "# pd.DataFrame(result.history)[['val_dense_{}_acc'.format(i) for i in range(1, 7)]].plot();"
   ]
  },
  {
   "cell_type": "code",
   "execution_count": 24,
   "metadata": {
    "ExecuteTime": {
     "end_time": "2020-03-22T21:28:04.874179Z",
     "start_time": "2020-03-22T21:28:04.826528Z"
    }
   },
   "outputs": [
    {
     "data": {
      "text/plain": [
       "array([[1911,  554,   18,    0],\n",
       "       [ 408, 7226,  705,   17],\n",
       "       [  16,  434, 1513,  118],\n",
       "       [   0,    4,   66,   76]])"
      ]
     },
     "execution_count": 24,
     "metadata": {},
     "output_type": "execute_result"
    }
   ],
   "source": [
    "confusion_matrix(y_true=y_test[:, 0], y_pred=np.argmax(n_digits, axis=1))"
   ]
  },
  {
   "cell_type": "code",
   "execution_count": 26,
   "metadata": {
    "ExecuteTime": {
     "end_time": "2020-03-22T21:28:19.232767Z",
     "start_time": "2020-03-22T21:28:19.226923Z"
    }
   },
   "outputs": [],
   "source": [
    "accuracy = np.zeros_like(y_test)\n",
    "accuracy[:, 0] = (y_test[:, 0] == np.argmax(n_digits, axis=1))\n",
    "for i in range(1, 5):\n",
    "    accuracy[:, i] = (y_test[:, i] == np.argmax(digits[i], axis=1))"
   ]
  },
  {
   "cell_type": "code",
   "execution_count": 30,
   "metadata": {
    "ExecuteTime": {
     "end_time": "2020-03-22T21:29:33.680173Z",
     "start_time": "2020-03-22T21:29:33.663883Z"
    }
   },
   "outputs": [],
   "source": [
    "acc_by_output = {}\n",
    "for i in range(5):\n",
    "    acc_by_output[i] = accuracy[:, i].sum()/accuracy[:, i].shape[0]"
   ]
  },
  {
   "cell_type": "code",
   "execution_count": 32,
   "metadata": {
    "ExecuteTime": {
     "end_time": "2020-03-22T21:30:16.013528Z",
     "start_time": "2020-03-22T21:30:16.008731Z"
    }
   },
   "outputs": [],
   "source": [
    "acc_up_to_out = {}\n",
    "for i in range(1, 6):\n",
    "    r = accuracy[:, :i].all(1)\n",
    "    acc_up_to_out[i-1] = r.sum()/r.shape[0]"
   ]
  },
  {
   "cell_type": "code",
   "execution_count": 33,
   "metadata": {
    "ExecuteTime": {
     "end_time": "2020-03-22T21:30:16.408957Z",
     "start_time": "2020-03-22T21:30:16.305747Z"
    }
   },
   "outputs": [
    {
     "data": {
      "image/png": "[encoded data removed]",
      "text/plain": [
       "<Figure size 432x288 with 1 Axes>"
      ]
     },
     "metadata": {
      "needs_background": "light"
     },
     "output_type": "display_data"
    }
   ],
   "source": [
    "pd.DataFrame({'acc1': acc_by_output, 'acc2': acc_up_to_out}).plot.bar();"
   ]
  },
  {
   "cell_type": "markdown",
   "metadata": {},
   "source": [
    "## Fine Tune VGG16 weights"
   ]
  },
  {
   "cell_type": "code",
   "execution_count": 34,
   "metadata": {
    "ExecuteTime": {
     "end_time": "2020-03-22T21:30:21.613976Z",
     "start_time": "2020-03-22T21:30:21.600950Z"
    }
   },
   "outputs": [],
   "source": [
    "vgg16.trainable = True\n",
    "# Fine-tune from this layer onwards\n",
    "start_fine_tuning_at = 1\n",
    "\n",
    "# Freeze all the layers before the `fine_tune_at` layer\n",
    "for layer in vgg16.layers[:start_fine_tuning_at]:\n",
    "    layer.trainable =  False"
   ]
  },
  {
   "cell_type": "code",
   "execution_count": 35,
   "metadata": {
    "ExecuteTime": {
     "end_time": "2020-03-22T21:30:23.138413Z",
     "start_time": "2020-03-22T21:30:23.041127Z"
    }
   },
   "outputs": [],
   "source": [
    "model.compile(optimizer='adam',\n",
    "              loss=weighted_entropy,\n",
    "              metrics=[weighted_accuracy])"
   ]
  },
  {
   "cell_type": "code",
   "execution_count": 36,
   "metadata": {
    "ExecuteTime": {
     "end_time": "2020-03-22T21:30:25.154262Z",
     "start_time": "2020-03-22T21:30:25.152563Z"
    }
   },
   "outputs": [],
   "source": [
    "fine_tune_epochs = 50\n",
    "total_epochs = initial_epochs + fine_tune_epochs"
   ]
  },
  {
   "cell_type": "code",
   "execution_count": 39,
   "metadata": {
    "ExecuteTime": {
     "end_time": "2020-03-22T21:38:42.390321Z",
     "start_time": "2020-03-22T21:31:17.227680Z"
    }
   },
   "outputs": [
    {
     "name": "stdout",
     "output_type": "stream",
     "text": [
      "Train on 30052 samples, validate on 3340 samples\n",
      "Epoch 14/64\n",
      "30052/30052 [==============================] - 21s 690us/sample - loss: 1.2374 - weighted_accuracy: 0.5860 - val_loss: 1.6906 - val_weighted_accuracy: 0.5037\n",
      "Epoch 15/64\n",
      "30052/30052 [==============================] - 19s 638us/sample - loss: 1.0102 - weighted_accuracy: 0.6569 - val_loss: 1.3011 - val_weighted_accuracy: 0.6125\n",
      "Epoch 16/64\n",
      "30052/30052 [==============================] - 19s 643us/sample - loss: 0.7620 - weighted_accuracy: 0.7414 - val_loss: 0.9194 - val_weighted_accuracy: 0.7199\n",
      "Epoch 17/64\n",
      "30052/30052 [==============================] - 19s 640us/sample - loss: 0.5864 - weighted_accuracy: 0.8040 - val_loss: 0.5391 - val_weighted_accuracy: 0.8170\n",
      "Epoch 18/64\n",
      "30052/30052 [==============================] - 19s 641us/sample - loss: 0.4877 - weighted_accuracy: 0.8389 - val_loss: 0.6261 - val_weighted_accuracy: 0.8101\n",
      "Epoch 19/64\n",
      "30052/30052 [==============================] - 19s 638us/sample - loss: 0.3921 - weighted_accuracy: 0.8744 - val_loss: 0.3893 - val_weighted_accuracy: 0.8786\n",
      "Epoch 20/64\n",
      "30052/30052 [==============================] - 19s 641us/sample - loss: 0.3166 - weighted_accuracy: 0.9010 - val_loss: 0.3558 - val_weighted_accuracy: 0.8899\n",
      "Epoch 21/64\n",
      "30052/30052 [==============================] - 19s 640us/sample - loss: 0.2709 - weighted_accuracy: 0.9161 - val_loss: 0.2658 - val_weighted_accuracy: 0.9226\n",
      "Epoch 22/64\n",
      "30052/30052 [==============================] - 19s 645us/sample - loss: 0.2287 - weighted_accuracy: 0.9304 - val_loss: 0.3106 - val_weighted_accuracy: 0.9166\n",
      "Epoch 23/64\n",
      "30052/30052 [==============================] - 19s 646us/sample - loss: 0.2039 - weighted_accuracy: 0.9380 - val_loss: 0.3435 - val_weighted_accuracy: 0.8966\n",
      "Epoch 24/64\n",
      "30052/30052 [==============================] - 19s 646us/sample - loss: 0.1789 - weighted_accuracy: 0.9460 - val_loss: 0.2969 - val_weighted_accuracy: 0.9204\n",
      "Epoch 25/64\n",
      "30052/30052 [==============================] - 19s 644us/sample - loss: 0.1630 - weighted_accuracy: 0.9507 - val_loss: 0.2457 - val_weighted_accuracy: 0.9327\n",
      "Epoch 26/64\n",
      "30052/30052 [==============================] - 19s 642us/sample - loss: 0.1445 - weighted_accuracy: 0.9562 - val_loss: 0.2129 - val_weighted_accuracy: 0.9401\n",
      "Epoch 27/64\n",
      "30052/30052 [==============================] - 19s 644us/sample - loss: 0.1291 - weighted_accuracy: 0.9613 - val_loss: 0.2457 - val_weighted_accuracy: 0.9369\n",
      "Epoch 28/64\n",
      "30052/30052 [==============================] - 19s 642us/sample - loss: 0.1189 - weighted_accuracy: 0.9644 - val_loss: 0.2482 - val_weighted_accuracy: 0.9403\n",
      "Epoch 29/64\n",
      "30052/30052 [==============================] - 19s 647us/sample - loss: 0.1048 - weighted_accuracy: 0.9679 - val_loss: 0.2352 - val_weighted_accuracy: 0.9427\n",
      "Epoch 30/64\n",
      "30052/30052 [==============================] - 19s 643us/sample - loss: 0.1003 - weighted_accuracy: 0.9691 - val_loss: 0.2739 - val_weighted_accuracy: 0.9365\n",
      "Epoch 31/64\n",
      "30052/30052 [==============================] - 19s 643us/sample - loss: 0.0977 - weighted_accuracy: 0.9706 - val_loss: 0.2419 - val_weighted_accuracy: 0.9452\n",
      "Epoch 32/64\n",
      "30052/30052 [==============================] - 19s 647us/sample - loss: 0.0784 - weighted_accuracy: 0.9759 - val_loss: 0.2301 - val_weighted_accuracy: 0.9445\n",
      "Epoch 33/64\n",
      "30052/30052 [==============================] - 19s 636us/sample - loss: 0.0822 - weighted_accuracy: 0.9750 - val_loss: 0.2568 - val_weighted_accuracy: 0.9408\n",
      "Epoch 34/64\n",
      "30052/30052 [==============================] - 19s 637us/sample - loss: 0.0720 - weighted_accuracy: 0.9778 - val_loss: 0.2289 - val_weighted_accuracy: 0.9448\n",
      "Epoch 35/64\n",
      "30052/30052 [==============================] - 19s 637us/sample - loss: 0.0691 - weighted_accuracy: 0.9790 - val_loss: 0.3082 - val_weighted_accuracy: 0.9413\n",
      "Epoch 36/64\n",
      "30052/30052 [==============================] - 19s 637us/sample - loss: 0.0637 - weighted_accuracy: 0.9806 - val_loss: 0.2684 - val_weighted_accuracy: 0.9442\n"
     ]
    }
   ],
   "source": [
    "history_fine_tune = model.fit(x=X_train,\n",
    "                              y=y_train,\n",
    "                              validation_split=.1,\n",
    "                              batch_size=32,\n",
    "                              epochs=total_epochs,\n",
    "                              initial_epoch=history.epoch[-1],\n",
    "                              callbacks=[early_stopping])"
   ]
  },
  {
   "cell_type": "code",
   "execution_count": 40,
   "metadata": {
    "ExecuteTime": {
     "end_time": "2020-03-22T21:48:56.743453Z",
     "start_time": "2020-03-22T21:48:56.737527Z"
    }
   },
   "outputs": [],
   "source": [
    "metrics_tuned = metrics.append(pd.DataFrame(history_fine_tune.history), ignore_index=True)"
   ]
  },
  {
   "cell_type": "code",
   "execution_count": 43,
   "metadata": {
    "ExecuteTime": {
     "end_time": "2020-03-22T21:49:19.985635Z",
     "start_time": "2020-03-22T21:49:19.977847Z"
    }
   },
   "outputs": [
    {
     "name": "stdout",
     "output_type": "stream",
     "text": [
      "<class 'pandas.core.frame.DataFrame'>\n",
      "RangeIndex: 37 entries, 0 to 36\n",
      "Data columns (total 4 columns):\n",
      " #   Column                 Non-Null Count  Dtype  \n",
      "---  ------                 --------------  -----  \n",
      " 0   loss                   37 non-null     float64\n",
      " 1   weighted_accuracy      37 non-null     float64\n",
      " 2   val_loss               37 non-null     float64\n",
      " 3   val_weighted_accuracy  37 non-null     float64\n",
      "dtypes: float64(4)\n",
      "memory usage: 1.3 KB\n"
     ]
    }
   ],
   "source": [
    "metrics_tuned.info()"
   ]
  },
  {
   "cell_type": "code",
   "execution_count": 50,
   "metadata": {
    "ExecuteTime": {
     "end_time": "2020-03-22T23:07:34.687761Z",
     "start_time": "2020-03-22T23:07:34.211805Z"
    }
   },
   "outputs": [
    {
     "data": {
      "image/png": "[encoded data removed]",
      "text/plain": [
       "<Figure size 1080x288 with 2 Axes>"
      ]
     },
     "metadata": {},
     "output_type": "display_data"
    }
   ],
   "source": [
    "fig, axes = plt.subplots(ncols=2, figsize=(15, 4))\n",
    "metrics_tuned[['loss', 'val_loss']].plot(ax=axes[1], title='Cross-Entropy Loss')\n",
    "metrics_tuned[['weighted_accuracy', 'val_weighted_accuracy']].plot(ax=axes[0], title=f'Accuracy (Best: {metrics_tuned.val_weighted_accuracy.max():.2%})')\n",
    "axes[0].yaxis.set_major_formatter(FuncFormatter(lambda y, _: '{:.0%}'.format(y)))\n",
    "axes[0].set_ylabel('Accuracy')\n",
    "axes[1].set_ylabel('Loss')\n",
    "for ax in axes:\n",
    "    ax.axvline(14, ls='--', lw=1, c='k')\n",
    "    ax.legend(['Training', 'Validation', 'Start Fine Tuning'])\n",
    "    ax.set_xlabel('Epoch')\n",
    "fig.tight_layout()\n",
    "fig.savefig('figures/transfer_learning_svhn');"
   ]
  },
  {
   "cell_type": "code",
   "execution_count": null,
   "metadata": {},
   "outputs": [],
   "source": []
  }
 ],
 "metadata": {
  "kernelspec": {
   "display_name": "Python 3",
   "language": "python",
   "name": "python3"
  },
  "language_info": {
   "codemirror_mode": {
    "name": "ipython",
    "version": 3
   },
   "file_extension": ".py",
   "mimetype": "text/x-python",
   "name": "python",
   "nbconvert_exporter": "python",
   "pygments_lexer": "ipython3",
   "version": "3.7.6"
  },
  "toc": {
   "base_numbering": 1,
   "nav_menu": {},
   "number_sections": true,
   "sideBar": true,
   "skip_h1_title": true,
   "title_cell": "Table of Contents",
   "title_sidebar": "Contents",
   "toc_cell": false,
   "toc_position": {
    "height": "calc(100% - 180px)",
    "left": "10px",
    "top": "150px",
    "width": "380px"
   },
   "toc_section_display": true,
   "toc_window_display": true
  }
 },
 "nbformat": 4,
 "nbformat_minor": 2
}
