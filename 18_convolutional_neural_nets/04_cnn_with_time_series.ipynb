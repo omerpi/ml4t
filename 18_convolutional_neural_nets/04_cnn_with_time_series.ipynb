{
 "cells": [
  {
   "cell_type": "markdown",
   "metadata": {},
   "source": [
    "# How to use CNN with time series data"
   ]
  },
  {
   "cell_type": "markdown",
   "metadata": {},
   "source": [
    "The regular measurements of time series result in a similar grid-like data structure as for the image data we have focused on so far. As a result, we can use CNN architectures for univariate and multivariate time series. In the latter case, we consider different time series as channels, similar to the different color signals.\n",
    "\n",
    "We will illustrate the time series use case with the univariate asset price forecast example we introduced in the last chapter. Recall that we create rolling monthly stock returns and use the 24 lagged returns alongside one-hot-encoded month information to predict whether the subsequent monthly return is positive or negative."
   ]
  },
  {
   "cell_type": "markdown",
   "metadata": {},
   "source": [
    "## Imports & Settings"
   ]
  },
  {
   "cell_type": "code",
   "execution_count": 44,
   "metadata": {
    "ExecuteTime": {
     "end_time": "2020-03-23T13:33:44.953376Z",
     "start_time": "2020-03-23T13:33:44.926192Z"
    }
   },
   "outputs": [],
   "source": [
    "%matplotlib inline\n",
    "import numpy as np\n",
    "import pandas as pd\n",
    "import matplotlib.pyplot as plt\n",
    "from matplotlib.ticker import FuncFormatter\n",
    "import seaborn as sns\n",
    "\n",
    "from sklearn.feature_selection import mutual_info_classif\n",
    "\n",
    "import tensorflow as tf\n",
    "from tensorflow.keras.datasets import cifar10\n",
    "from tensorflow.keras.models import Sequential\n",
    "from tensorflow.keras.callbacks import EarlyStopping, ModelCheckpoint\n",
    "from tensorflow.keras.preprocessing.image import ImageDataGenerator\n",
    "from tensorflow.keras.layers import (Dense, Dropout, Activation, Flatten, Conv1D, \n",
    "                                     Conv2D, MaxPooling1D, MaxPooling2D, BatchNormalization)\n",
    "from tensorflow.keras.callbacks import ModelCheckpoint, TensorBoard\n",
    "from tensorflow.keras.layers import BatchNormalization\n",
    "from tensorflow.keras import backend as K"
   ]
  },
  {
   "cell_type": "code",
   "execution_count": 35,
   "metadata": {
    "ExecuteTime": {
     "end_time": "2020-03-23T13:28:32.214820Z",
     "start_time": "2020-03-23T13:28:32.207290Z"
    }
   },
   "outputs": [],
   "source": [
    "sns.set_style('whitegrid')"
   ]
  },
  {
   "cell_type": "markdown",
   "metadata": {},
   "source": [
    "## Prepare Data"
   ]
  },
  {
   "cell_type": "code",
   "execution_count": 2,
   "metadata": {
    "ExecuteTime": {
     "end_time": "2020-03-23T13:18:50.246865Z",
     "start_time": "2020-03-23T13:18:46.250499Z"
    }
   },
   "outputs": [
    {
     "name": "stdout",
     "output_type": "stream",
     "text": [
      "<class 'pandas.core.frame.DataFrame'>\n",
      "DatetimeIndex: 2896 entries, 2007-01-01 to 2018-03-27\n",
      "Columns: 3199 entries, A to ZUMZ\n",
      "dtypes: float64(3199)\n",
      "memory usage: 70.7 MB\n"
     ]
    }
   ],
   "source": [
    "prices = (pd.read_hdf('../data/assets.h5', 'quandl/wiki/prices')\n",
    "          .adj_close\n",
    "          .unstack().loc['2007':])\n",
    "prices.info()"
   ]
  },
  {
   "cell_type": "code",
   "execution_count": 3,
   "metadata": {
    "ExecuteTime": {
     "end_time": "2020-03-23T13:18:50.343859Z",
     "start_time": "2020-03-23T13:18:50.247973Z"
    }
   },
   "outputs": [
    {
     "name": "stdout",
     "output_type": "stream",
     "text": [
      "<class 'pandas.core.frame.DataFrame'>\n",
      "DatetimeIndex: 120 entries, 2017-12-31 to 2008-01-31\n",
      "Freq: -1M\n",
      "Columns: 2489 entries, A to ZUMZ\n",
      "dtypes: float64(2489)\n",
      "memory usage: 2.3 MB\n"
     ]
    }
   ],
   "source": [
    "returns = (prices\n",
    "           .resample('M')\n",
    "           .last()\n",
    "           .pct_change()\n",
    "           .loc['2008': '2017']\n",
    "           .dropna(axis=1)\n",
    "           .sort_index(ascending=False))\n",
    "returns.info()"
   ]
  },
  {
   "cell_type": "code",
   "execution_count": 4,
   "metadata": {
    "ExecuteTime": {
     "end_time": "2020-03-23T13:18:51.331645Z",
     "start_time": "2020-03-23T13:18:51.323944Z"
    }
   },
   "outputs": [],
   "source": [
    "n = len(returns)\n",
    "T = 24\n",
    "tcols = list(range(25))"
   ]
  },
  {
   "cell_type": "code",
   "execution_count": 5,
   "metadata": {
    "ExecuteTime": {
     "end_time": "2020-03-23T13:18:52.721584Z",
     "start_time": "2020-03-23T13:18:51.814937Z"
    }
   },
   "outputs": [
    {
     "name": "stdout",
     "output_type": "stream",
     "text": [
      "<class 'pandas.core.frame.DataFrame'>\n",
      "DatetimeIndex: 236455 entries, 2010-02-28 to 2017-12-31\n",
      "Data columns (total 25 columns):\n",
      " #   Column  Non-Null Count   Dtype  \n",
      "---  ------  --------------   -----  \n",
      " 0   1       236455 non-null  float64\n",
      " 1   2       236455 non-null  float64\n",
      " 2   3       236455 non-null  float64\n",
      " 3   4       236455 non-null  float64\n",
      " 4   5       236455 non-null  float64\n",
      " 5   6       236455 non-null  float64\n",
      " 6   7       236455 non-null  float64\n",
      " 7   8       236455 non-null  float64\n",
      " 8   9       236455 non-null  float64\n",
      " 9   10      236455 non-null  float64\n",
      " 10  11      236455 non-null  float64\n",
      " 11  12      236455 non-null  float64\n",
      " 12  13      236455 non-null  float64\n",
      " 13  14      236455 non-null  float64\n",
      " 14  15      236455 non-null  float64\n",
      " 15  16      236455 non-null  float64\n",
      " 16  17      236455 non-null  float64\n",
      " 17  18      236455 non-null  float64\n",
      " 18  19      236455 non-null  float64\n",
      " 19  20      236455 non-null  float64\n",
      " 20  21      236455 non-null  float64\n",
      " 21  22      236455 non-null  float64\n",
      " 22  23      236455 non-null  float64\n",
      " 23  24      236455 non-null  float64\n",
      " 24  label   236455 non-null  int64  \n",
      "dtypes: float64(24), int64(1)\n",
      "memory usage: 46.9 MB\n"
     ]
    }
   ],
   "source": [
    "data = pd.DataFrame()\n",
    "for i in range(n-T-1):\n",
    "    df = returns.iloc[i:i+T+1]\n",
    "    date = df.index.max()\n",
    "    data = pd.concat([data, \n",
    "                      df.reset_index(drop=True).T.assign(date=date).set_index('date')])\n",
    "data[tcols] = (data[tcols].apply(lambda x: x.clip(lower=x.quantile(.01),\n",
    "                                                  upper=x.quantile(.99))))\n",
    "data['label'] = (data[0] > 0).astype(int)\n",
    "data = data.drop(0, axis=1)\n",
    "data.sort_index().info()"
   ]
  },
  {
   "cell_type": "code",
   "execution_count": 6,
   "metadata": {
    "ExecuteTime": {
     "end_time": "2020-03-23T13:18:55.852512Z",
     "start_time": "2020-03-23T13:18:55.836376Z"
    }
   },
   "outputs": [],
   "source": [
    "X_train = data[:'2016'].drop('label', axis=1)\n",
    "y_train = data[:'2016'].label\n",
    "X_test = data['2017'].drop('label', axis=1)\n",
    "y_test = data['2017'].label"
   ]
  },
  {
   "cell_type": "code",
   "execution_count": 7,
   "metadata": {
    "ExecuteTime": {
     "end_time": "2020-03-23T13:18:56.066495Z",
     "start_time": "2020-03-23T13:18:56.058784Z"
    }
   },
   "outputs": [],
   "source": [
    "X_train = X_train.values.reshape(-1, X_train.shape[1], 1)\n",
    "X_test = X_test.values.reshape(-1, X_train.shape[1], 1)"
   ]
  },
  {
   "cell_type": "code",
   "execution_count": 12,
   "metadata": {
    "ExecuteTime": {
     "end_time": "2020-03-23T13:19:18.315005Z",
     "start_time": "2020-03-23T13:19:18.303616Z"
    }
   },
   "outputs": [
    {
     "data": {
      "text/plain": [
       "(29868, 24, 1)"
      ]
     },
     "execution_count": 12,
     "metadata": {},
     "output_type": "execute_result"
    }
   ],
   "source": [
    "X_train.shape"
   ]
  },
  {
   "cell_type": "code",
   "execution_count": 14,
   "metadata": {
    "ExecuteTime": {
     "end_time": "2020-03-23T13:20:54.213844Z",
     "start_time": "2020-03-23T13:20:54.212004Z"
    }
   },
   "outputs": [],
   "source": [
    "input_shape = X_train.shape[1:]"
   ]
  },
  {
   "cell_type": "markdown",
   "metadata": {},
   "source": [
    "## Mutual Information"
   ]
  },
  {
   "cell_type": "code",
   "execution_count": 50,
   "metadata": {
    "ExecuteTime": {
     "end_time": "2020-03-23T13:53:31.214438Z",
     "start_time": "2020-03-23T13:52:44.976296Z"
    }
   },
   "outputs": [],
   "source": [
    "X = data.drop('label', axis=1)\n",
    "mi = mutual_info_classif(X=X, y=data.label)\n",
    "mi = pd.Series(mi, index=X.columns)"
   ]
  },
  {
   "cell_type": "code",
   "execution_count": 58,
   "metadata": {
    "ExecuteTime": {
     "end_time": "2020-03-23T13:55:58.193680Z",
     "start_time": "2020-03-23T13:55:57.966785Z"
    }
   },
   "outputs": [
    {
     "data": {
      "image/png": "[encoded data removed]",
      "text/plain": [
       "<Figure size 504x432 with 1 Axes>"
      ]
     },
     "metadata": {
      "needs_background": "light"
     },
     "output_type": "display_data"
    }
   ],
   "source": [
    "ax = mi.nlargest(25).sort_values().plot.barh(title='Mutual Information', figsize=(7, 6))\n",
    "ax.set_ylabel('Lag')\n",
    "ax.set_xlabel('Mutual Information');"
   ]
  },
  {
   "cell_type": "markdown",
   "metadata": {},
   "source": [
    "## Build ConvNet"
   ]
  },
  {
   "cell_type": "markdown",
   "metadata": {},
   "source": [
    "### Model Architecture"
   ]
  },
  {
   "cell_type": "markdown",
   "metadata": {},
   "source": [
    "We design a simple one-layer CNN that uses one-dimensional convolutions combined with max pooling to learn time series patterns:"
   ]
  },
  {
   "cell_type": "code",
   "execution_count": 21,
   "metadata": {
    "ExecuteTime": {
     "end_time": "2020-03-23T13:24:55.043245Z",
     "start_time": "2020-03-23T13:24:54.979965Z"
    }
   },
   "outputs": [],
   "source": [
    "model = Sequential([\n",
    "    Conv1D(filters=32, \n",
    "           kernel_size=5, \n",
    "           activation='relu',\n",
    "           padding='causal',\n",
    "           input_shape=input_shape),\n",
    "    MaxPooling1D(pool_size=2),       \n",
    "    Flatten(),\n",
    "    BatchNormalization(),\n",
    "    Dense(1, activation='sigmoid')])"
   ]
  },
  {
   "cell_type": "markdown",
   "metadata": {},
   "source": [
    "The model has 673 trainable parameters:"
   ]
  },
  {
   "cell_type": "code",
   "execution_count": 22,
   "metadata": {
    "ExecuteTime": {
     "end_time": "2020-03-23T13:24:55.552083Z",
     "start_time": "2020-03-23T13:24:55.534676Z"
    }
   },
   "outputs": [
    {
     "name": "stdout",
     "output_type": "stream",
     "text": [
      "Model: \"sequential_3\"\n",
      "_________________________________________________________________\n",
      "Layer (type)                 Output Shape              Param #   \n",
      "=================================================================\n",
      "conv1d_3 (Conv1D)            (None, 24, 32)            192       \n",
      "_________________________________________________________________\n",
      "max_pooling1d_3 (MaxPooling1 (None, 12, 32)            0         \n",
      "_________________________________________________________________\n",
      "flatten_3 (Flatten)          (None, 384)               0         \n",
      "_________________________________________________________________\n",
      "batch_normalization (BatchNo (None, 384)               1536      \n",
      "_________________________________________________________________\n",
      "dense_3 (Dense)              (None, 1)                 385       \n",
      "=================================================================\n",
      "Total params: 2,113\n",
      "Trainable params: 1,345\n",
      "Non-trainable params: 768\n",
      "_________________________________________________________________\n"
     ]
    }
   ],
   "source": [
    "model.summary()"
   ]
  },
  {
   "cell_type": "markdown",
   "metadata": {},
   "source": [
    "We compile using our custom auc_roc metric developed in the last chapter:"
   ]
  },
  {
   "cell_type": "code",
   "execution_count": 26,
   "metadata": {
    "ExecuteTime": {
     "end_time": "2020-03-23T13:25:45.269953Z",
     "start_time": "2020-03-23T13:25:45.187852Z"
    }
   },
   "outputs": [],
   "source": [
    "model.compile(loss='binary_crossentropy',\n",
    "              optimizer='Adam',\n",
    "              metrics=['accuracy', tf.keras.metrics.AUC(name='AUC')])"
   ]
  },
  {
   "cell_type": "markdown",
   "metadata": {},
   "source": [
    "We train on returns for the years 2010-16 for 25 epochs (with early stopping) using the default batch size of 32. Each epoch takes around 3s on a single NVIDIA GTX 1080 GPU."
   ]
  },
  {
   "cell_type": "code",
   "execution_count": 27,
   "metadata": {
    "ExecuteTime": {
     "end_time": "2020-03-23T13:26:10.482522Z",
     "start_time": "2020-03-23T13:26:10.475273Z"
    }
   },
   "outputs": [],
   "source": [
    "early_stopping = EarlyStopping(monitor='val_AUC',\n",
    "                               patience=5,\n",
    "                               restore_best_weights=True,\n",
    "                               mode='max')"
   ]
  },
  {
   "cell_type": "code",
   "execution_count": 28,
   "metadata": {
    "ExecuteTime": {
     "end_time": "2020-03-23T13:27:33.014248Z",
     "start_time": "2020-03-23T13:26:10.718745Z"
    },
    "scrolled": false
   },
   "outputs": [
    {
     "name": "stdout",
     "output_type": "stream",
     "text": [
      "Train on 29868 samples, validate on 29868 samples\n",
      "Epoch 1/100\n",
      "29868/29868 [==============================] - 4s 125us/sample - loss: 0.6011 - accuracy: 0.6383 - AUC: 0.7066 - val_loss: 0.5889 - val_accuracy: 0.6413 - val_AUC: 0.7157\n",
      "Epoch 2/100\n",
      "29868/29868 [==============================] - 3s 107us/sample - loss: 0.5938 - accuracy: 0.6434 - AUC: 0.7141 - val_loss: 0.5923 - val_accuracy: 0.6552 - val_AUC: 0.7317\n",
      "Epoch 3/100\n",
      "29868/29868 [==============================] - 3s 108us/sample - loss: 0.5893 - accuracy: 0.6484 - AUC: 0.7202 - val_loss: 0.5828 - val_accuracy: 0.6541 - val_AUC: 0.7217\n",
      "Epoch 4/100\n",
      "29868/29868 [==============================] - 3s 109us/sample - loss: 0.5861 - accuracy: 0.6501 - AUC: 0.7225 - val_loss: 0.5895 - val_accuracy: 0.6563 - val_AUC: 0.7235\n",
      "Epoch 5/100\n",
      "29868/29868 [==============================] - 3s 107us/sample - loss: 0.5834 - accuracy: 0.6553 - AUC: 0.7257 - val_loss: 0.5717 - val_accuracy: 0.6575 - val_AUC: 0.7361\n",
      "Epoch 6/100\n",
      "29868/29868 [==============================] - 3s 108us/sample - loss: 0.5814 - accuracy: 0.6535 - AUC: 0.7283 - val_loss: 0.5852 - val_accuracy: 0.6458 - val_AUC: 0.7446\n",
      "Epoch 7/100\n",
      "29868/29868 [==============================] - 3s 107us/sample - loss: 0.5806 - accuracy: 0.6525 - AUC: 0.7288 - val_loss: 0.6088 - val_accuracy: 0.6225 - val_AUC: 0.7381\n",
      "Epoch 8/100\n",
      "29868/29868 [==============================] - 3s 108us/sample - loss: 0.5787 - accuracy: 0.6567 - AUC: 0.7309 - val_loss: 0.5708 - val_accuracy: 0.6681 - val_AUC: 0.7442\n",
      "Epoch 9/100\n",
      "29868/29868 [==============================] - 3s 108us/sample - loss: 0.5794 - accuracy: 0.6545 - AUC: 0.7305 - val_loss: 0.5694 - val_accuracy: 0.6697 - val_AUC: 0.7431\n",
      "Epoch 10/100\n",
      "29868/29868 [==============================] - 3s 110us/sample - loss: 0.5789 - accuracy: 0.6553 - AUC: 0.7302 - val_loss: 0.5965 - val_accuracy: 0.6272 - val_AUC: 0.7488\n",
      "Epoch 11/100\n",
      "29868/29868 [==============================] - 3s 110us/sample - loss: 0.5767 - accuracy: 0.6619 - AUC: 0.7344 - val_loss: 0.5694 - val_accuracy: 0.6713 - val_AUC: 0.7452\n",
      "Epoch 12/100\n",
      "29868/29868 [==============================] - 3s 108us/sample - loss: 0.5774 - accuracy: 0.6539 - AUC: 0.7314 - val_loss: 0.5781 - val_accuracy: 0.6564 - val_AUC: 0.7496\n",
      "Epoch 13/100\n",
      "29868/29868 [==============================] - 3s 108us/sample - loss: 0.5764 - accuracy: 0.6578 - AUC: 0.7341 - val_loss: 0.6156 - val_accuracy: 0.6120 - val_AUC: 0.7461\n",
      "Epoch 14/100\n",
      "29868/29868 [==============================] - 3s 113us/sample - loss: 0.5763 - accuracy: 0.6616 - AUC: 0.7347 - val_loss: 0.5689 - val_accuracy: 0.6658 - val_AUC: 0.7430\n",
      "Epoch 15/100\n",
      "29868/29868 [==============================] - 3s 109us/sample - loss: 0.5758 - accuracy: 0.6599 - AUC: 0.7350 - val_loss: 0.5802 - val_accuracy: 0.6639 - val_AUC: 0.7484\n",
      "Epoch 16/100\n",
      "29868/29868 [==============================] - 3s 110us/sample - loss: 0.5765 - accuracy: 0.6589 - AUC: 0.7337 - val_loss: 0.6699 - val_accuracy: 0.6371 - val_AUC: 0.7418\n",
      "Epoch 17/100\n",
      "29868/29868 [==============================] - 3s 109us/sample - loss: 0.5761 - accuracy: 0.6597 - AUC: 0.7333 - val_loss: 0.6104 - val_accuracy: 0.6128 - val_AUC: 0.7500\n",
      "Epoch 18/100\n",
      "29868/29868 [==============================] - 3s 109us/sample - loss: 0.5764 - accuracy: 0.6603 - AUC: 0.7350 - val_loss: 0.5671 - val_accuracy: 0.6699 - val_AUC: 0.7471\n",
      "Epoch 19/100\n",
      "29868/29868 [==============================] - 3s 109us/sample - loss: 0.5758 - accuracy: 0.6614 - AUC: 0.7353 - val_loss: 0.5676 - val_accuracy: 0.6722 - val_AUC: 0.7507\n",
      "Epoch 20/100\n",
      "29868/29868 [==============================] - 3s 113us/sample - loss: 0.5749 - accuracy: 0.6623 - AUC: 0.7365 - val_loss: 0.5642 - val_accuracy: 0.6745 - val_AUC: 0.7514\n",
      "Epoch 21/100\n",
      "29868/29868 [==============================] - 3s 110us/sample - loss: 0.5748 - accuracy: 0.6616 - AUC: 0.7369 - val_loss: 0.5635 - val_accuracy: 0.6725 - val_AUC: 0.7489\n",
      "Epoch 22/100\n",
      "29868/29868 [==============================] - 3s 109us/sample - loss: 0.5753 - accuracy: 0.6584 - AUC: 0.7355 - val_loss: 0.5619 - val_accuracy: 0.6718 - val_AUC: 0.7479\n",
      "Epoch 23/100\n",
      "29868/29868 [==============================] - 3s 113us/sample - loss: 0.5743 - accuracy: 0.6593 - AUC: 0.7360 - val_loss: 0.5903 - val_accuracy: 0.6584 - val_AUC: 0.7511\n",
      "Epoch 24/100\n",
      "29868/29868 [==============================] - 3s 116us/sample - loss: 0.5751 - accuracy: 0.6603 - AUC: 0.7358 - val_loss: 0.5675 - val_accuracy: 0.6718 - val_AUC: 0.7499\n",
      "Epoch 25/100\n",
      "29868/29868 [==============================] - 3s 108us/sample - loss: 0.5733 - accuracy: 0.6648 - AUC: 0.7383 - val_loss: 0.6517 - val_accuracy: 0.6378 - val_AUC: 0.7426\n"
     ]
    }
   ],
   "source": [
    "training = model.fit(X_train,\n",
    "                     y_train,\n",
    "                     epochs=100,\n",
    "                     batch_size=32,\n",
    "                     validation_data=(X_test, y_test),\n",
    "                     shuffle=True,\n",
    "                     verbose=1,\n",
    "                     callbacks=[early_stopping])"
   ]
  },
  {
   "cell_type": "code",
   "execution_count": 30,
   "metadata": {
    "ExecuteTime": {
     "end_time": "2020-03-23T13:27:41.720985Z",
     "start_time": "2020-03-23T13:27:40.616700Z"
    }
   },
   "outputs": [
    {
     "name": "stdout",
     "output_type": "stream",
     "text": [
      "Accuracy: 67.45% | AUC: 75.14%\n"
     ]
    }
   ],
   "source": [
    "accuracy, auc = model.evaluate(X_test, y_test, verbose=0)[1:]\n",
    "print(f'Accuracy: {accuracy:.2%} | AUC: {auc:.2%}')"
   ]
  },
  {
   "cell_type": "markdown",
   "metadata": {},
   "source": [
    "For 2017 returns, we find a test accuracy of 58.28% and test AUC of 0.5701. The network is still underfitting at this point because both training and validation AUC are still improving after 20 epochs, suggesting that longer training and potentially a higher-capacity network would improve results. You should try!"
   ]
  },
  {
   "cell_type": "code",
   "execution_count": 37,
   "metadata": {
    "ExecuteTime": {
     "end_time": "2020-03-23T13:28:55.527940Z",
     "start_time": "2020-03-23T13:28:55.512159Z"
    }
   },
   "outputs": [],
   "source": [
    "metrics = pd.DataFrame(training.history)"
   ]
  },
  {
   "cell_type": "code",
   "execution_count": 47,
   "metadata": {
    "ExecuteTime": {
     "end_time": "2020-03-23T13:35:52.591468Z",
     "start_time": "2020-03-23T13:35:51.915426Z"
    }
   },
   "outputs": [
    {
     "data": {
      "image/png": "[encoded data removed]",
      "text/plain": [
       "<Figure size 1008x288 with 2 Axes>"
      ]
     },
     "metadata": {
      "needs_background": "light"
     },
     "output_type": "display_data"
    }
   ],
   "source": [
    "fig, axes = plt.subplots(ncols=2, figsize=(14, 4))\n",
    "metrics[['AUC', 'val_AUC']].plot(title=f'ROC-AUC (Best: {metrics.val_AUC.max():.3f})', ax=axes[0])\n",
    "metrics[['accuracy', 'val_accuracy']].plot(title=f'Accuracy (Best: {metrics.val_accuracy.max():.2%})', ax=axes[1])\n",
    "axes[1].yaxis.set_major_formatter(FuncFormatter(lambda y, _: '{:.0%}'.format(y))) \n",
    "for ax in axes:\n",
    "    ax.legend(['Training', 'Validation'])\n",
    "    ax.set_xlabel('Epoch')\n",
    "\n",
    "fig.tight_layout()\n",
    "fig.savefig('figures/cnn_1D', dpi=300);"
   ]
  },
  {
   "cell_type": "code",
   "execution_count": null,
   "metadata": {},
   "outputs": [],
   "source": []
  }
 ],
 "metadata": {
  "kernelspec": {
   "display_name": "Python 3",
   "language": "python",
   "name": "python3"
  },
  "language_info": {
   "codemirror_mode": {
    "name": "ipython",
    "version": 3
   },
   "file_extension": ".py",
   "mimetype": "text/x-python",
   "name": "python",
   "nbconvert_exporter": "python",
   "pygments_lexer": "ipython3",
   "version": "3.7.6"
  },
  "toc": {
   "base_numbering": 1,
   "nav_menu": {},
   "number_sections": true,
   "sideBar": true,
   "skip_h1_title": true,
   "title_cell": "Table of Contents",
   "title_sidebar": "Contents",
   "toc_cell": false,
   "toc_position": {
    "height": "calc(100% - 180px)",
    "left": "10px",
    "top": "150px",
    "width": "240.391px"
   },
   "toc_section_display": true,
   "toc_window_display": true
  }
 },
 "nbformat": 4,
 "nbformat_minor": 2
}
