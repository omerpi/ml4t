{
 "cells": [
  {
   "cell_type": "code",
   "execution_count": 1,
   "metadata": {
    "ExecuteTime": {
     "end_time": "2020-04-13T21:41:12.435707Z",
     "start_time": "2020-04-13T21:41:11.687491Z"
    }
   },
   "outputs": [
    {
     "name": "stderr",
     "output_type": "stream",
     "text": [
      "/home/stefan/.pyenv/versions/miniconda3-latest/envs/ml4t/lib/python3.7/site-packages/pandas_datareader/compat/__init__.py:7: FutureWarning: pandas.util.testing is deprecated. Use the functions in the public API at pandas.testing instead.\n",
      "  from pandas.util.testing import assert_frame_equal\n"
     ]
    }
   ],
   "source": [
    "from pathlib import Path\n",
    "from time import time\n",
    "import datetime\n",
    "import pandas_datareader.data as web\n",
    "import numpy as np\n",
    "import pandas as pd\n",
    "from scipy.stats import spearmanr\n",
    "import matplotlib.pyplot as plt\n",
    "from matplotlib.ticker import FuncFormatter\n",
    "import seaborn as sns"
   ]
  },
  {
   "cell_type": "code",
   "execution_count": 2,
   "metadata": {
    "ExecuteTime": {
     "end_time": "2020-04-13T21:41:12.438784Z",
     "start_time": "2020-04-13T21:41:12.436738Z"
    }
   },
   "outputs": [],
   "source": [
    "pd.set_option('display.expand_frame_repr', False)\n",
    "sns.set_style('darkgrid')\n",
    "np.random.seed(42)"
   ]
  },
  {
   "cell_type": "markdown",
   "metadata": {},
   "source": [
    "## Load Data"
   ]
  },
  {
   "cell_type": "markdown",
   "metadata": {},
   "source": [
    "### Return Predictions"
   ]
  },
  {
   "cell_type": "code",
   "execution_count": 3,
   "metadata": {
    "ExecuteTime": {
     "end_time": "2020-04-13T21:41:12.447702Z",
     "start_time": "2020-04-13T21:41:12.439858Z"
    }
   },
   "outputs": [],
   "source": [
    "DATA_DIR = Path('..', 'data')"
   ]
  },
  {
   "cell_type": "code",
   "execution_count": 4,
   "metadata": {
    "ExecuteTime": {
     "end_time": "2020-04-13T21:41:12.612334Z",
     "start_time": "2020-04-13T21:41:12.449064Z"
    }
   },
   "outputs": [
    {
     "name": "stdout",
     "output_type": "stream",
     "text": [
      "<class 'pandas.core.frame.DataFrame'>\n",
      "MultiIndex: 187758 entries, ('AAL', Timestamp('2014-12-09 00:00:00')) to ('ZTS', Timestamp('2017-11-30 00:00:00'))\n",
      "Data columns (total 6 columns):\n",
      " #   Column     Non-Null Count   Dtype  \n",
      "---  ------     --------------   -----  \n",
      " 0   predicted  74044 non-null   float64\n",
      " 1   open       187758 non-null  float64\n",
      " 2   high       187758 non-null  float64\n",
      " 3   low        187758 non-null  float64\n",
      " 4   close      187758 non-null  float64\n",
      " 5   volume     187758 non-null  float64\n",
      "dtypes: float64(6)\n",
      "memory usage: 10.2+ MB\n"
     ]
    }
   ],
   "source": [
    "data = pd.read_hdf('00_data/backtest.h5', 'data')\n",
    "data.info()"
   ]
  },
  {
   "cell_type": "markdown",
   "metadata": {},
   "source": [
    "### SP500 Benchmark"
   ]
  },
  {
   "cell_type": "code",
   "execution_count": 5,
   "metadata": {
    "ExecuteTime": {
     "end_time": "2020-04-13T21:41:13.252153Z",
     "start_time": "2020-04-13T21:41:12.613566Z"
    }
   },
   "outputs": [],
   "source": [
    "sp500 = web.DataReader('SP500', 'fred', '2014', '2018').pct_change()"
   ]
  },
  {
   "cell_type": "code",
   "execution_count": 6,
   "metadata": {
    "ExecuteTime": {
     "end_time": "2020-04-13T21:41:13.258390Z",
     "start_time": "2020-04-13T21:41:13.253181Z"
    }
   },
   "outputs": [
    {
     "name": "stdout",
     "output_type": "stream",
     "text": [
      "<class 'pandas.core.frame.DataFrame'>\n",
      "DatetimeIndex: 1044 entries, 2014-01-01 to 2018-01-01\n",
      "Data columns (total 1 columns):\n",
      " #   Column  Non-Null Count  Dtype  \n",
      "---  ------  --------------  -----  \n",
      " 0   SP500   1042 non-null   float64\n",
      "dtypes: float64(1)\n",
      "memory usage: 16.3 KB\n"
     ]
    }
   ],
   "source": [
    "sp500.info()"
   ]
  },
  {
   "cell_type": "markdown",
   "metadata": {},
   "source": [
    "## Compute Forward Returns"
   ]
  },
  {
   "cell_type": "code",
   "execution_count": 7,
   "metadata": {
    "ExecuteTime": {
     "end_time": "2020-04-13T21:41:13.307442Z",
     "start_time": "2020-04-13T21:41:13.259775Z"
    }
   },
   "outputs": [
    {
     "name": "stdout",
     "output_type": "stream",
     "text": [
      "<class 'pandas.core.frame.DataFrame'>\n",
      "DatetimeIndex: 751 entries, 2014-12-09 to 2017-11-30\n",
      "Columns: 253 entries, AAL to ZTS\n",
      "dtypes: float64(253)\n",
      "memory usage: 1.5 MB\n"
     ]
    }
   ],
   "source": [
    "daily_returns = data.open.unstack('ticker').sort_index().pct_change()\n",
    "daily_returns.info()"
   ]
  },
  {
   "cell_type": "code",
   "execution_count": 8,
   "metadata": {
    "ExecuteTime": {
     "end_time": "2020-04-13T21:41:13.310794Z",
     "start_time": "2020-04-13T21:41:13.308725Z"
    }
   },
   "outputs": [],
   "source": [
    "fwd_returns = daily_returns.shift(-1)"
   ]
  },
  {
   "cell_type": "markdown",
   "metadata": {},
   "source": [
    "## Generate Signals"
   ]
  },
  {
   "cell_type": "code",
   "execution_count": 9,
   "metadata": {
    "ExecuteTime": {
     "end_time": "2020-04-13T21:41:13.353120Z",
     "start_time": "2020-04-13T21:41:13.311709Z"
    }
   },
   "outputs": [
    {
     "name": "stdout",
     "output_type": "stream",
     "text": [
      "<class 'pandas.core.frame.DataFrame'>\n",
      "DatetimeIndex: 751 entries, 2014-12-09 to 2017-04-14\n",
      "Columns: 253 entries, AAL to ZTS\n",
      "dtypes: float64(253)\n",
      "memory usage: 1.5 MB\n"
     ]
    }
   ],
   "source": [
    "predictions = data.predicted.unstack('ticker')\n",
    "predictions.info()"
   ]
  },
  {
   "cell_type": "code",
   "execution_count": 10,
   "metadata": {
    "ExecuteTime": {
     "end_time": "2020-04-13T21:41:13.356461Z",
     "start_time": "2020-04-13T21:41:13.354106Z"
    }
   },
   "outputs": [],
   "source": [
    "N_LONG = N_SHORT = 15"
   ]
  },
  {
   "cell_type": "code",
   "execution_count": 11,
   "metadata": {
    "ExecuteTime": {
     "end_time": "2020-04-13T21:41:13.381919Z",
     "start_time": "2020-04-13T21:41:13.357791Z"
    }
   },
   "outputs": [],
   "source": [
    "long_signals = ((predictions\n",
    "                .where(predictions > 0)\n",
    "                .rank(axis=1, ascending=False) > N_LONG)\n",
    "                .astype(int))\n",
    "short_signals = ((predictions\n",
    "                  .where(predictions < 0)\n",
    "                  .rank(axis=1) > N_SHORT)\n",
    "                 .astype(int))"
   ]
  },
  {
   "cell_type": "markdown",
   "metadata": {},
   "source": [
    "## Compute Portfolio Returns"
   ]
  },
  {
   "cell_type": "code",
   "execution_count": 12,
   "metadata": {
    "ExecuteTime": {
     "end_time": "2020-04-13T21:41:13.393642Z",
     "start_time": "2020-04-13T21:41:13.382774Z"
    }
   },
   "outputs": [],
   "source": [
    "long_returns = long_signals.mul(fwd_returns).mean(axis=1)\n",
    "short_returns = short_signals.mul(-fwd_returns).mean(axis=1)\n",
    "strategy = long_returns.add(short_returns).to_frame('Strategy')"
   ]
  },
  {
   "cell_type": "markdown",
   "metadata": {},
   "source": [
    "## Plot results"
   ]
  },
  {
   "cell_type": "code",
   "execution_count": 18,
   "metadata": {
    "ExecuteTime": {
     "end_time": "2020-04-13T21:50:33.377370Z",
     "start_time": "2020-04-13T21:50:32.568237Z"
    }
   },
   "outputs": [
    {
     "data": {
      "image/png": "[encoded data removed]",
      "text/plain": [
       "<Figure size 1008x360 with 2 Axes>"
      ]
     },
     "metadata": {},
     "output_type": "display_data"
    }
   ],
   "source": [
    "fig, axes = plt.subplots(ncols=2, figsize=(14,5))\n",
    "strategy.join(sp500).add(1).cumprod().sub(1).plot(ax=axes[0], title='Cumulative Return')\n",
    "sns.distplot(strategy.dropna(), ax=axes[1], hist=False, label='Strategy')\n",
    "sns.distplot(sp500, ax=axes[1], hist=False, label='SP500')\n",
    "axes[1].set_title('Daily Standard Deviation')\n",
    "axes[0].yaxis.set_major_formatter(FuncFormatter(lambda y, _: '{:.0%}'.format(y))) \n",
    "axes[1].xaxis.set_major_formatter(FuncFormatter(lambda y, _: '{:.0%}'.format(y))) \n",
    "fig.tight_layout()\n",
    "fig.savefig('figures/vectorized_backtest', dpi=300);"
   ]
  },
  {
   "cell_type": "code",
   "execution_count": 14,
   "metadata": {
    "ExecuteTime": {
     "end_time": "2020-04-13T21:41:13.962659Z",
     "start_time": "2020-04-13T21:41:13.958115Z"
    }
   },
   "outputs": [],
   "source": [
    "res = strategy.join(sp500).dropna()"
   ]
  },
  {
   "cell_type": "code",
   "execution_count": 15,
   "metadata": {
    "ExecuteTime": {
     "end_time": "2020-04-13T21:41:13.973920Z",
     "start_time": "2020-04-13T21:41:13.963927Z"
    }
   },
   "outputs": [
    {
     "data": {
      "text/plain": [
       "Strategy    0.001988\n",
       "SP500       0.007923\n",
       "dtype: float64"
      ]
     },
     "execution_count": 15,
     "metadata": {},
     "output_type": "execute_result"
    }
   ],
   "source": [
    "res.std()"
   ]
  },
  {
   "cell_type": "code",
   "execution_count": 16,
   "metadata": {
    "ExecuteTime": {
     "end_time": "2020-04-13T21:41:13.982970Z",
     "start_time": "2020-04-13T21:41:13.975096Z"
    }
   },
   "outputs": [
    {
     "data": {
      "text/html": [
       "<div>\n",
       "<style scoped>\n",
       "    .dataframe tbody tr th:only-of-type {\n",
       "        vertical-align: middle;\n",
       "    }\n",
       "\n",
       "    .dataframe tbody tr th {\n",
       "        vertical-align: top;\n",
       "    }\n",
       "\n",
       "    .dataframe thead th {\n",
       "        text-align: right;\n",
       "    }\n",
       "</style>\n",
       "<table border=\"1\" class=\"dataframe\">\n",
       "  <thead>\n",
       "    <tr style=\"text-align: right;\">\n",
       "      <th></th>\n",
       "      <th>Strategy</th>\n",
       "      <th>SP500</th>\n",
       "    </tr>\n",
       "  </thead>\n",
       "  <tbody>\n",
       "    <tr>\n",
       "      <th>Strategy</th>\n",
       "      <td>1.000000</td>\n",
       "      <td>-0.092886</td>\n",
       "    </tr>\n",
       "    <tr>\n",
       "      <th>SP500</th>\n",
       "      <td>-0.092886</td>\n",
       "      <td>1.000000</td>\n",
       "    </tr>\n",
       "  </tbody>\n",
       "</table>\n",
       "</div>"
      ],
      "text/plain": [
       "          Strategy     SP500\n",
       "Strategy  1.000000 -0.092886\n",
       "SP500    -0.092886  1.000000"
      ]
     },
     "execution_count": 16,
     "metadata": {},
     "output_type": "execute_result"
    }
   ],
   "source": [
    "res.corr()"
   ]
  }
 ],
 "metadata": {
  "kernelspec": {
   "display_name": "Python 3",
   "language": "python",
   "name": "python3"
  },
  "language_info": {
   "codemirror_mode": {
    "name": "ipython",
    "version": 3
   },
   "file_extension": ".py",
   "mimetype": "text/x-python",
   "name": "python",
   "nbconvert_exporter": "python",
   "pygments_lexer": "ipython3",
   "version": "3.7.6"
  },
  "toc": {
   "base_numbering": 1,
   "nav_menu": {},
   "number_sections": true,
   "sideBar": true,
   "skip_h1_title": false,
   "title_cell": "Table of Contents",
   "title_sidebar": "Contents",
   "toc_cell": false,
   "toc_position": {},
   "toc_section_display": true,
   "toc_window_display": false
  }
 },
 "nbformat": 4,
 "nbformat_minor": 2
}
