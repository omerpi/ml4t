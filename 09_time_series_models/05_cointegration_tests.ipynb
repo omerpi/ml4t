{
 "cells": [
  {
   "cell_type": "markdown",
   "metadata": {},
   "source": [
    "# Cointegration Tests"
   ]
  },
  {
   "cell_type": "markdown",
   "metadata": {},
   "source": [
    "## Imports & Settings"
   ]
  },
  {
   "cell_type": "code",
   "execution_count": 84,
   "metadata": {
    "ExecuteTime": {
     "end_time": "2020-04-18T22:35:17.130475Z",
     "start_time": "2020-04-18T22:35:17.127034Z"
    }
   },
   "outputs": [],
   "source": [
    "import warnings\n",
    "warnings.filterwarnings('ignore')"
   ]
  },
  {
   "cell_type": "code",
   "execution_count": 85,
   "metadata": {
    "ExecuteTime": {
     "end_time": "2020-04-18T22:35:17.676039Z",
     "start_time": "2020-04-18T22:35:17.667917Z"
    }
   },
   "outputs": [],
   "source": [
    "from time import time\n",
    "from pathlib import Path\n",
    "import pandas as pd\n",
    "from sklearn.model_selection import StratifiedKFold, GridSearchCV\n",
    "from sklearn.metrics import confusion_matrix\n",
    "from sklearn.tree import  DecisionTreeClassifier\n",
    "from sklearn.linear_model import LogisticRegressionCV\n",
    "\n",
    "import numpy as np\n",
    "from numpy.linalg import LinAlgError\n",
    "\n",
    "from statsmodels.tsa.stattools import adfuller, coint\n",
    "from statsmodels.tsa.vector_ar.vecm import coint_johansen\n",
    "from statsmodels.tsa.api import VAR\n",
    "\n",
    "import matplotlib.pyplot as plt\n",
    "import seaborn as sns"
   ]
  },
  {
   "cell_type": "code",
   "execution_count": 2,
   "metadata": {
    "ExecuteTime": {
     "end_time": "2020-04-17T04:02:33.949708Z",
     "start_time": "2020-04-17T04:02:33.947505Z"
    }
   },
   "outputs": [],
   "source": [
    "pd.set_option('display.float_format', lambda x: f'{x:,.2f}')"
   ]
  },
  {
   "cell_type": "code",
   "execution_count": 86,
   "metadata": {
    "ExecuteTime": {
     "end_time": "2020-04-18T22:35:29.187790Z",
     "start_time": "2020-04-18T22:35:29.183531Z"
    }
   },
   "outputs": [],
   "source": [
    "DATA_PATH = Path('..', 'data')\n",
    "STORE = DATA_PATH / 'assets.h5'"
   ]
  },
  {
   "cell_type": "markdown",
   "metadata": {},
   "source": [
    "### Johansen Test Critical Values"
   ]
  },
  {
   "cell_type": "code",
   "execution_count": 87,
   "metadata": {
    "ExecuteTime": {
     "end_time": "2020-04-18T22:35:34.552092Z",
     "start_time": "2020-04-18T22:35:34.548817Z"
    }
   },
   "outputs": [],
   "source": [
    "critical_values = {0: {.9: 13.4294, .95: 15.4943, .99: 19.9349},\n",
    "                   1: {.9: 2.7055, .95: 3.8415, .99: 6.6349}}"
   ]
  },
  {
   "cell_type": "code",
   "execution_count": 88,
   "metadata": {
    "ExecuteTime": {
     "end_time": "2020-04-18T22:35:34.692626Z",
     "start_time": "2020-04-18T22:35:34.689746Z"
    }
   },
   "outputs": [],
   "source": [
    "trace0_cv = critical_values[0][.95] # critical value for 0 cointegration relationships\n",
    "trace1_cv = critical_values[1][.95] # critical value for 1 cointegration relationship"
   ]
  },
  {
   "cell_type": "markdown",
   "metadata": {},
   "source": [
    "## Load & Clean Stock & ETF Data"
   ]
  },
  {
   "cell_type": "markdown",
   "metadata": {},
   "source": [
    "### Remove highly correlated assets"
   ]
  },
  {
   "cell_type": "code",
   "execution_count": 89,
   "metadata": {
    "ExecuteTime": {
     "end_time": "2020-04-18T22:35:36.779471Z",
     "start_time": "2020-04-18T22:35:36.771857Z"
    }
   },
   "outputs": [],
   "source": [
    "def remove_correlated_assets(df, cutoff=.99):\n",
    "    corr = df.corr().stack()\n",
    "    corr = corr[corr < 1]\n",
    "    to_check = corr[corr.abs() > cutoff].index\n",
    "    keep, drop = set(), set()\n",
    "    for s1, s2 in to_check:\n",
    "        if s1 not in keep:\n",
    "            if s2 not in keep:\n",
    "                keep.add(s1)\n",
    "                drop.add(s2)\n",
    "            else:\n",
    "                drop.add(s1)\n",
    "        else:\n",
    "            keep.discard(s2)\n",
    "            drop.add(s2)\n",
    "    return df.drop(drop, axis=1)"
   ]
  },
  {
   "cell_type": "markdown",
   "metadata": {},
   "source": [
    "### Remove stationary series"
   ]
  },
  {
   "cell_type": "code",
   "execution_count": 94,
   "metadata": {
    "ExecuteTime": {
     "end_time": "2020-04-18T22:36:31.923918Z",
     "start_time": "2020-04-18T22:36:31.917596Z"
    }
   },
   "outputs": [],
   "source": [
    "def check_stationarity(df):\n",
    "    results = []\n",
    "    for ticker, prices in df.items():\n",
    "        results.append([ticker, adfuller(prices, regression='ct')[1]])\n",
    "    return pd.DataFrame(results, columns=['ticker', 'adf']).sort_values('adf')"
   ]
  },
  {
   "cell_type": "code",
   "execution_count": 95,
   "metadata": {
    "ExecuteTime": {
     "end_time": "2020-04-18T22:36:32.093764Z",
     "start_time": "2020-04-18T22:36:32.090343Z"
    }
   },
   "outputs": [],
   "source": [
    "def remove_stationary_assets(df, pval=.05):\n",
    "    test_result = check_stationarity(df)\n",
    "    stationary = test_result.loc[test_result.adf <= pval, 'ticker'].tolist()\n",
    "    return df.drop(stationary, axis=1).sort_index()"
   ]
  },
  {
   "cell_type": "markdown",
   "metadata": {},
   "source": [
    "### Select Assets"
   ]
  },
  {
   "cell_type": "code",
   "execution_count": 96,
   "metadata": {
    "ExecuteTime": {
     "end_time": "2020-04-18T22:36:32.730533Z",
     "start_time": "2020-04-18T22:36:32.719105Z"
    }
   },
   "outputs": [],
   "source": [
    "def select_assets(asset_class='stocks', n=500, start=2010, end=2019):\n",
    "    idx = pd.IndexSlice\n",
    "    with pd.HDFStore(STORE) as store:\n",
    "        df = (pd.concat([\n",
    "            store[f'stooq/us/nasdaq/{asset_class}/prices'],\n",
    "            store[f'stooq/us/nyse/{asset_class}/prices']\n",
    "        ]).sort_index().loc[idx[:, str(start):str(end)], :])\n",
    "        df = df.reset_index().drop_duplicates().set_index(['ticker', 'date'])\n",
    "        df['dv'] = df.close.mul(df.volume)\n",
    "        dv = df.groupby(level='ticker').dv.mean().nlargest(n=n).index\n",
    "        df = (df.loc[idx[dv, :],\n",
    "                     'close'].unstack('ticker').ffill(limit=5).dropna(axis=1))\n",
    "\n",
    "    df = remove_correlated_assets(df)\n",
    "    return remove_stationary_assets(df).sort_index()"
   ]
  },
  {
   "cell_type": "code",
   "execution_count": 97,
   "metadata": {
    "ExecuteTime": {
     "end_time": "2020-04-18T22:37:47.988651Z",
     "start_time": "2020-04-18T22:36:33.287483Z"
    }
   },
   "outputs": [
    {
     "name": "stdout",
     "output_type": "stream",
     "text": [
      "<class 'pandas.core.frame.DataFrame'>\n",
      "DatetimeIndex: 2516 entries, 2010-01-04 to 2019-12-31\n",
      "Columns: 139 entries, AAXJ.US to YCS.US\n",
      "dtypes: float64(139)\n",
      "memory usage: 2.7 MB\n",
      "None\n",
      "<class 'pandas.core.frame.DataFrame'>\n",
      "DatetimeIndex: 2516 entries, 2010-01-04 to 2019-12-31\n",
      "Columns: 172 entries, AA.US to YUM.US\n",
      "dtypes: float64(172)\n",
      "memory usage: 3.3 MB\n",
      "None\n"
     ]
    }
   ],
   "source": [
    "for asset_class, n in [('etfs', 500), ('stocks', 250)]:\n",
    "    df = select_assets(asset_class=asset_class, n=n)\n",
    "    df.to_hdf('data.h5', f'{asset_class}/close')"
   ]
  },
  {
   "cell_type": "markdown",
   "metadata": {},
   "source": [
    "### Get ticker dictionary"
   ]
  },
  {
   "cell_type": "code",
   "execution_count": 98,
   "metadata": {
    "ExecuteTime": {
     "end_time": "2020-04-18T23:13:53.180387Z",
     "start_time": "2020-04-18T23:13:53.168545Z"
    }
   },
   "outputs": [],
   "source": [
    "def get_ticker_dict():\n",
    "    with pd.HDFStore(STORE) as store:\n",
    "        return (pd.concat([\n",
    "            store['stooq/us/nyse/stocks/tickers'],\n",
    "            store['stooq/us/nyse/etfs/tickers'],\n",
    "            store['stooq/us/nasdaq/etfs/tickers'],\n",
    "            store['stooq/us/nasdaq/stocks/tickers']\n",
    "        ]).drop_duplicates().set_index('ticker').squeeze().to_dict())"
   ]
  },
  {
   "cell_type": "code",
   "execution_count": 99,
   "metadata": {
    "ExecuteTime": {
     "end_time": "2020-04-18T23:13:53.703266Z",
     "start_time": "2020-04-18T23:13:53.595840Z"
    }
   },
   "outputs": [],
   "source": [
    "names = get_ticker_dict()"
   ]
  },
  {
   "cell_type": "markdown",
   "metadata": {},
   "source": [
    "## Visualize Correlation Clusters "
   ]
  },
  {
   "cell_type": "code",
   "execution_count": 68,
   "metadata": {
    "ExecuteTime": {
     "end_time": "2020-04-18T20:02:05.528957Z",
     "start_time": "2020-04-18T20:02:05.515248Z"
    }
   },
   "outputs": [
    {
     "name": "stdout",
     "output_type": "stream",
     "text": [
      "<class 'pandas.core.frame.DataFrame'>\n",
      "DatetimeIndex: 2516 entries, 2010-01-04 to 2019-12-31\n",
      "Columns: 172 entries, AA.US to YUM.US\n",
      "dtypes: float64(172)\n",
      "memory usage: 3.3 MB\n"
     ]
    }
   ],
   "source": [
    "stocks = pd.read_hdf('data.h5', 'stocks/close')\n",
    "stocks.info()"
   ]
  },
  {
   "cell_type": "code",
   "execution_count": 69,
   "metadata": {
    "ExecuteTime": {
     "end_time": "2020-04-18T20:02:06.395042Z",
     "start_time": "2020-04-18T20:02:06.366652Z"
    }
   },
   "outputs": [
    {
     "name": "stdout",
     "output_type": "stream",
     "text": [
      "<class 'pandas.core.frame.DataFrame'>\n",
      "DatetimeIndex: 2516 entries, 2010-01-04 to 2019-12-31\n",
      "Columns: 138 entries, AAXJ.US to YCS.US\n",
      "dtypes: float64(138)\n",
      "memory usage: 2.7 MB\n"
     ]
    }
   ],
   "source": [
    "etfs = pd.read_hdf('data.h5', 'etfs/close')\n",
    "etfs.info()"
   ]
  },
  {
   "cell_type": "code",
   "execution_count": 100,
   "metadata": {
    "ExecuteTime": {
     "end_time": "2020-04-18T23:13:58.996326Z",
     "start_time": "2020-04-18T23:13:57.818887Z"
    }
   },
   "outputs": [],
   "source": [
    "tickers = {k: v for k, v in names.items() if k in etfs.columns.union(stocks.columns)}\n",
    "pd.Series(tickers).to_hdf('data.h5', 'tickers')"
   ]
  },
  {
   "cell_type": "code",
   "execution_count": 17,
   "metadata": {
    "ExecuteTime": {
     "end_time": "2020-04-17T04:03:18.196460Z",
     "start_time": "2020-04-17T04:03:13.857916Z"
    }
   },
   "outputs": [],
   "source": [
    "corr = pd.DataFrame(index=stocks.columns)\n",
    "for etf, data in etfs.items():\n",
    "    corr[etf] = stocks.corrwith(data)"
   ]
  },
  {
   "cell_type": "code",
   "execution_count": 18,
   "metadata": {
    "ExecuteTime": {
     "end_time": "2020-04-17T04:03:18.204989Z",
     "start_time": "2020-04-17T04:03:18.198446Z"
    }
   },
   "outputs": [
    {
     "name": "stdout",
     "output_type": "stream",
     "text": [
      "<class 'pandas.core.frame.DataFrame'>\n",
      "Index: 172 entries, AA.US to YUM.US\n",
      "Columns: 138 entries, AAXJ.US to YCS.US\n",
      "dtypes: float64(138)\n",
      "memory usage: 191.8+ KB\n"
     ]
    }
   ],
   "source": [
    "corr.info()"
   ]
  },
  {
   "cell_type": "code",
   "execution_count": 19,
   "metadata": {
    "ExecuteTime": {
     "end_time": "2020-04-17T04:03:18.877090Z",
     "start_time": "2020-04-17T04:03:18.207272Z"
    },
    "scrolled": false
   },
   "outputs": [
    {
     "data": {
      "image/png": "[encoded data removed]",
      "text/plain": [
       "<Figure size 720x720 with 4 Axes>"
      ]
     },
     "metadata": {
      "needs_background": "light"
     },
     "output_type": "display_data"
    }
   ],
   "source": [
    "cmap = sns.diverging_palette(220, 10, as_cmap=True)\n",
    "sns.clustermap(corr, cmap=cmap, center=0);"
   ]
  },
  {
   "cell_type": "markdown",
   "metadata": {},
   "source": [
    "## Candidate Selection using Heuristics"
   ]
  },
  {
   "cell_type": "markdown",
   "metadata": {},
   "source": [
    "### Computational Complexity: Comparison"
   ]
  },
  {
   "cell_type": "code",
   "execution_count": 20,
   "metadata": {
    "ExecuteTime": {
     "end_time": "2020-04-17T04:03:18.880495Z",
     "start_time": "2020-04-17T04:03:18.878019Z"
    }
   },
   "outputs": [
    {
     "data": {
      "text/plain": [
       "((2516, 172), (2516, 138))"
      ]
     },
     "execution_count": 20,
     "metadata": {},
     "output_type": "execute_result"
    }
   ],
   "source": [
    "stocks.shape, etfs.shape"
   ]
  },
  {
   "cell_type": "code",
   "execution_count": 22,
   "metadata": {
    "ExecuteTime": {
     "end_time": "2020-04-17T04:04:07.269706Z",
     "start_time": "2020-04-17T04:04:07.265449Z"
    }
   },
   "outputs": [
    {
     "name": "stdout",
     "output_type": "stream",
     "text": [
      "<class 'pandas.core.frame.DataFrame'>\n",
      "DatetimeIndex: 2516 entries, 2010-01-04 to 2019-12-31\n",
      "Columns: 172 entries, AA.US to YUM.US\n",
      "dtypes: float64(172)\n",
      "memory usage: 3.3 MB\n"
     ]
    }
   ],
   "source": [
    "stocks.info()"
   ]
  },
  {
   "cell_type": "code",
   "execution_count": 24,
   "metadata": {
    "ExecuteTime": {
     "end_time": "2020-04-17T04:04:20.986105Z",
     "start_time": "2020-04-17T04:04:20.969411Z"
    }
   },
   "outputs": [
    {
     "name": "stdout",
     "output_type": "stream",
     "text": [
      "<class 'pandas.core.frame.DataFrame'>\n",
      "DatetimeIndex: 2516 entries, 2010-01-04 to 2019-12-31\n",
      "Columns: 138 entries, AAXJ.US to YCS.US\n",
      "dtypes: float64(138)\n",
      "memory usage: 2.7 MB\n"
     ]
    }
   ],
   "source": [
    "etfs.info()"
   ]
  },
  {
   "cell_type": "code",
   "execution_count": 26,
   "metadata": {
    "ExecuteTime": {
     "end_time": "2020-04-17T04:04:37.662145Z",
     "start_time": "2020-04-17T04:04:37.657332Z"
    }
   },
   "outputs": [],
   "source": [
    "security = etfs['AAXJ.US'].loc['2010': '2013']\n",
    "candidates = stocks.loc['2010': '2013']"
   ]
  },
  {
   "cell_type": "code",
   "execution_count": 27,
   "metadata": {
    "ExecuteTime": {
     "end_time": "2020-04-17T04:04:37.706518Z",
     "start_time": "2020-04-17T04:04:37.663905Z"
    }
   },
   "outputs": [],
   "source": [
    "security = security.div(security.iloc[0])\n",
    "candidates = candidates.div(candidates.iloc[0])\n",
    "spreads = candidates.sub(security, axis=0)"
   ]
  },
  {
   "cell_type": "code",
   "execution_count": 28,
   "metadata": {
    "ExecuteTime": {
     "end_time": "2020-04-17T04:04:37.709856Z",
     "start_time": "2020-04-17T04:04:37.707652Z"
    }
   },
   "outputs": [],
   "source": [
    "n, m = spreads.shape\n",
    "X = np.ones(shape=(n, 2))\n",
    "X[:, 1] = np.arange(1, n+1)"
   ]
  },
  {
   "cell_type": "markdown",
   "metadata": {},
   "source": [
    "#### Heuristics"
   ]
  },
  {
   "cell_type": "code",
   "execution_count": 29,
   "metadata": {
    "ExecuteTime": {
     "end_time": "2020-04-17T04:04:43.222085Z",
     "start_time": "2020-04-17T04:04:37.710787Z"
    }
   },
   "outputs": [
    {
     "name": "stdout",
     "output_type": "stream",
     "text": [
      "676 µs ± 70.5 µs per loop (mean ± std. dev. of 7 runs, 1000 loops each)\n"
     ]
    }
   ],
   "source": [
    "%%timeit\n",
    "np.linalg.inv(X.T @ X) @ X.T @spreads"
   ]
  },
  {
   "cell_type": "code",
   "execution_count": 30,
   "metadata": {
    "ExecuteTime": {
     "end_time": "2020-04-17T04:04:44.426786Z",
     "start_time": "2020-04-17T04:04:43.223485Z"
    }
   },
   "outputs": [
    {
     "name": "stdout",
     "output_type": "stream",
     "text": [
      "1.35 ms ± 42.4 µs per loop (mean ± std. dev. of 7 runs, 100 loops each)\n"
     ]
    }
   ],
   "source": [
    "%%timeit\n",
    "spreads.std()"
   ]
  },
  {
   "cell_type": "code",
   "execution_count": 31,
   "metadata": {
    "ExecuteTime": {
     "end_time": "2020-04-17T04:04:46.764673Z",
     "start_time": "2020-04-17T04:04:44.427767Z"
    }
   },
   "outputs": [
    {
     "name": "stdout",
     "output_type": "stream",
     "text": [
      "28.8 ms ± 1.03 ms per loop (mean ± std. dev. of 7 runs, 10 loops each)\n"
     ]
    }
   ],
   "source": [
    "%%timeit\n",
    "candidates.corrwith(security)"
   ]
  },
  {
   "cell_type": "markdown",
   "metadata": {},
   "source": [
    "#### Cointegration Tests"
   ]
  },
  {
   "cell_type": "code",
   "execution_count": 32,
   "metadata": {
    "ExecuteTime": {
     "end_time": "2020-04-17T04:07:14.565157Z",
     "start_time": "2020-04-17T04:04:46.766056Z"
    }
   },
   "outputs": [
    {
     "name": "stdout",
     "output_type": "stream",
     "text": [
      "18.4 s ± 823 ms per loop (mean ± std. dev. of 7 runs, 1 loop each)\n"
     ]
    }
   ],
   "source": [
    "%%timeit\n",
    "for candidate, prices in candidates.items():\n",
    "    df = pd.DataFrame({'s1': security,\n",
    "                       's2': prices})\n",
    "    var = VAR(df)\n",
    "    lags = var.select_order()\n",
    "    k_ar_diff = lags.selected_orders['aic']\n",
    "    coint_johansen(df, det_order=0, k_ar_diff=k_ar_diff)\n",
    "    coint(security, prices, trend='c')[:2]\n",
    "    coint(prices, security, trend='c')[:2]"
   ]
  },
  {
   "cell_type": "markdown",
   "metadata": {},
   "source": [
    "### Compute Heuristics"
   ]
  },
  {
   "cell_type": "code",
   "execution_count": 33,
   "metadata": {
    "ExecuteTime": {
     "end_time": "2020-04-17T04:07:14.575745Z",
     "start_time": "2020-04-17T04:07:14.566780Z"
    }
   },
   "outputs": [],
   "source": [
    "def compute_pair_metrics(security, candidates):\n",
    "    security = security.div(security.iloc[0])\n",
    "    ticker = security.name\n",
    "    candidates = candidates.div(candidates.iloc[0])\n",
    "    spreads = candidates.sub(security, axis=0)\n",
    "    n, m = spreads.shape\n",
    "    X = np.ones(shape=(n, 2))\n",
    "    X[:, 1] = np.arange(1, n + 1)\n",
    "    drift = ((np.linalg.inv(X.T @ X) @ X.T @ spreads).iloc[1]\n",
    "             .to_frame('drift'))\n",
    "    vol = spreads.std().to_frame('vol')\n",
    "    corr_ret = (candidates.pct_change()\n",
    "                .corrwith(security.pct_change())\n",
    "                .to_frame('corr_ret'))\n",
    "    corr = candidates.corrwith(security).to_frame('corr')\n",
    "    metrics = drift.join(vol).join(corr).join(corr_ret).assign(n=n)\n",
    "    tests = []\n",
    "    for candidate, prices in candidates.items():\n",
    "        df = pd.DataFrame({'s1': security, 's2': prices})\n",
    "        var = VAR(df)\n",
    "        lags = var.select_order() # select VAR order\n",
    "        k_ar_diff = lags.selected_orders['aic']\n",
    "        # Johansen Test with constant Term and estd. lag order\n",
    "        cj0 = coint_johansen(df, det_order=0, k_ar_diff=k_ar_diff)\n",
    "        # Engle-Granger Tests\n",
    "        t1, p1 = coint(security, prices, trend='c')[:2]\n",
    "        t2, p2 = coint(prices, security, trend='c')[:2]\n",
    "        tests.append([ticker, candidate, t1, p1, t2, p2, \n",
    "                      k_ar_diff, *cj0.lr1])\n",
    "    columns = ['s1', 's2', 't1', 'p1', 't2', 'p2', 'k_ar_diff', 'trace0', 'trace1']\n",
    "    tests = pd.DataFrame(tests, columns=columns).set_index('s2')\n",
    "    return metrics.join(tests)"
   ]
  },
  {
   "cell_type": "code",
   "execution_count": 34,
   "metadata": {
    "ExecuteTime": {
     "end_time": "2020-04-17T05:59:42.912277Z",
     "start_time": "2020-04-17T04:07:14.576968Z"
    },
    "scrolled": false
   },
   "outputs": [
    {
     "name": "stdout",
     "output_type": "stream",
     "text": [
      " 10 496.7\n",
      " 20 487.6\n",
      " 30 491.5\n",
      " 40 486.6\n",
      " 50 488.4\n",
      " 60 489.5\n",
      " 70 487.3\n",
      " 80 486.5\n",
      " 90 487.9\n",
      "100 488.5\n",
      "110 489.6\n",
      "120 488.7\n",
      "130 486.1\n"
     ]
    }
   ],
   "source": [
    "spreads = []\n",
    "start = 2010\n",
    "stop = 2019\n",
    "etf_candidates = etfs.loc[str(start): str(stop), :]\n",
    "stock_candidates = stocks.loc[str(start): str(stop), :]\n",
    "s = time()\n",
    "for i, (etf_ticker, etf_prices) in enumerate(etf_candidates.items(), 1):\n",
    "    df = compute_pair_metrics(etf_prices, stock_candidates)\n",
    "    spreads.append(df.set_index('s1', append=True))\n",
    "    if i % 10 == 0:\n",
    "        print(f'{i:>3} {time() - s:.1f}')\n",
    "        s = time()"
   ]
  },
  {
   "cell_type": "code",
   "execution_count": 35,
   "metadata": {
    "ExecuteTime": {
     "end_time": "2020-04-17T05:59:43.049129Z",
     "start_time": "2020-04-17T05:59:42.913275Z"
    }
   },
   "outputs": [],
   "source": [
    "names = get_ticker_dict()\n",
    "spreads = pd.concat(spreads)\n",
    "spreads.index.names = ['s2', 's1']\n",
    "spreads = spreads.swaplevel()\n",
    "spreads['name1'] = spreads.index.get_level_values('s1').map(names)\n",
    "spreads['name2'] = spreads.index.get_level_values('s2').map(names)"
   ]
  },
  {
   "cell_type": "code",
   "execution_count": 36,
   "metadata": {
    "ExecuteTime": {
     "end_time": "2020-04-17T05:59:43.057603Z",
     "start_time": "2020-04-17T05:59:43.050124Z"
    }
   },
   "outputs": [],
   "source": [
    "spreads['t'] = spreads[['t1', 't2']].min(axis=1)\n",
    "spreads['p'] = spreads[['p1', 'p2']].min(axis=1)"
   ]
  },
  {
   "cell_type": "markdown",
   "metadata": {},
   "source": [
    "### Engle-Granger vs Johansen: Comparison"
   ]
  },
  {
   "cell_type": "code",
   "execution_count": 37,
   "metadata": {
    "ExecuteTime": {
     "end_time": "2020-04-17T05:59:43.064687Z",
     "start_time": "2020-04-17T05:59:43.058889Z"
    }
   },
   "outputs": [],
   "source": [
    "spreads['trace_sig'] = ((spreads.trace0 > trace0_cv) &\n",
    "                        (spreads.trace1 > trace1_cv)).astype(int)\n",
    "spreads['eg_sig'] = (spreads.p < .05).astype(int)"
   ]
  },
  {
   "cell_type": "code",
   "execution_count": 38,
   "metadata": {
    "ExecuteTime": {
     "end_time": "2020-04-17T05:59:43.083264Z",
     "start_time": "2020-04-17T05:59:43.065874Z"
    }
   },
   "outputs": [
    {
     "data": {
      "text/html": [
       "<div>\n",
       "<style scoped>\n",
       "    .dataframe tbody tr th:only-of-type {\n",
       "        vertical-align: middle;\n",
       "    }\n",
       "\n",
       "    .dataframe tbody tr th {\n",
       "        vertical-align: top;\n",
       "    }\n",
       "\n",
       "    .dataframe thead th {\n",
       "        text-align: right;\n",
       "    }\n",
       "</style>\n",
       "<table border=\"1\" class=\"dataframe\">\n",
       "  <thead>\n",
       "    <tr style=\"text-align: right;\">\n",
       "      <th>trace_sig</th>\n",
       "      <th>0</th>\n",
       "      <th>1</th>\n",
       "    </tr>\n",
       "    <tr>\n",
       "      <th>eg_sig</th>\n",
       "      <th></th>\n",
       "      <th></th>\n",
       "    </tr>\n",
       "  </thead>\n",
       "  <tbody>\n",
       "    <tr>\n",
       "      <th>0</th>\n",
       "      <td>21487</td>\n",
       "      <td>744</td>\n",
       "    </tr>\n",
       "    <tr>\n",
       "      <th>1</th>\n",
       "      <td>1346</td>\n",
       "      <td>159</td>\n",
       "    </tr>\n",
       "  </tbody>\n",
       "</table>\n",
       "</div>"
      ],
      "text/plain": [
       "trace_sig      0    1\n",
       "eg_sig               \n",
       "0          21487  744\n",
       "1           1346  159"
      ]
     },
     "execution_count": 38,
     "metadata": {},
     "output_type": "execute_result"
    }
   ],
   "source": [
    "pd.crosstab(spreads.eg_sig, spreads.trace_sig)"
   ]
  },
  {
   "cell_type": "code",
   "execution_count": 39,
   "metadata": {
    "ExecuteTime": {
     "end_time": "2020-04-17T05:59:43.087651Z",
     "start_time": "2020-04-17T05:59:43.084462Z"
    }
   },
   "outputs": [],
   "source": [
    "spreads['coint'] = (spreads.trace_sig & spreads.eg_sig).astype(int)"
   ]
  },
  {
   "cell_type": "code",
   "execution_count": 40,
   "metadata": {
    "ExecuteTime": {
     "end_time": "2020-04-17T05:59:43.105094Z",
     "start_time": "2020-04-17T05:59:43.088827Z"
    }
   },
   "outputs": [
    {
     "name": "stdout",
     "output_type": "stream",
     "text": [
      "<class 'pandas.core.frame.DataFrame'>\n",
      "MultiIndex: 23736 entries, ('AAXJ.US', 'AA.US') to ('YCS.US', 'YUM.US')\n",
      "Data columns (total 19 columns):\n",
      " #   Column     Non-Null Count  Dtype  \n",
      "---  ------     --------------  -----  \n",
      " 0   drift      23736 non-null  float64\n",
      " 1   vol        23736 non-null  float64\n",
      " 2   corr       23736 non-null  float64\n",
      " 3   corr_ret   23736 non-null  float64\n",
      " 4   n          23736 non-null  int64  \n",
      " 5   t1         23736 non-null  float64\n",
      " 6   p1         23736 non-null  float64\n",
      " 7   t2         23736 non-null  float64\n",
      " 8   p2         23736 non-null  float64\n",
      " 9   k_ar_diff  23736 non-null  int64  \n",
      " 10  trace0     23736 non-null  float64\n",
      " 11  trace1     23736 non-null  float64\n",
      " 12  name1      0 non-null      float64\n",
      " 13  name2      0 non-null      float64\n",
      " 14  t          23736 non-null  float64\n",
      " 15  p          23736 non-null  float64\n",
      " 16  trace_sig  23736 non-null  int64  \n",
      " 17  eg_sig     23736 non-null  int64  \n",
      " 18  coint      23736 non-null  int64  \n",
      "dtypes: float64(14), int64(5)\n",
      "memory usage: 3.5+ MB\n"
     ]
    }
   ],
   "source": [
    "spreads.info()"
   ]
  },
  {
   "cell_type": "code",
   "execution_count": 41,
   "metadata": {
    "ExecuteTime": {
     "end_time": "2020-04-17T05:59:43.109559Z",
     "start_time": "2020-04-17T05:59:43.105994Z"
    }
   },
   "outputs": [],
   "source": [
    "spreads = spreads.reset_index()"
   ]
  },
  {
   "cell_type": "code",
   "execution_count": 42,
   "metadata": {
    "ExecuteTime": {
     "end_time": "2020-04-17T05:59:43.318382Z",
     "start_time": "2020-04-17T05:59:43.110402Z"
    }
   },
   "outputs": [
    {
     "data": {
      "image/png": "[encoded data removed]",
      "text/plain": [
       "<Figure size 432x288 with 1 Axes>"
      ]
     },
     "metadata": {
      "needs_background": "light"
     },
     "output_type": "display_data"
    }
   ],
   "source": [
    "sns.scatterplot(x=np.log1p(spreads.t.abs()), \n",
    "                y=np.log1p(spreads.trace1), \n",
    "                hue='coint', data=spreads[spreads.trace0>trace0_cv]);"
   ]
  },
  {
   "cell_type": "code",
   "execution_count": 43,
   "metadata": {
    "ExecuteTime": {
     "end_time": "2020-04-17T05:59:43.337152Z",
     "start_time": "2020-04-17T05:59:43.319359Z"
    }
   },
   "outputs": [],
   "source": [
    "spreads.to_hdf('heuristics.h5', 'spreads')"
   ]
  },
  {
   "cell_type": "code",
   "execution_count": 44,
   "metadata": {
    "ExecuteTime": {
     "end_time": "2020-04-17T05:59:43.355463Z",
     "start_time": "2020-04-17T05:59:43.339479Z"
    }
   },
   "outputs": [],
   "source": [
    "spreads = pd.read_hdf('heuristics.h5', 'spreads')"
   ]
  },
  {
   "cell_type": "markdown",
   "metadata": {},
   "source": [
    "### Evaluate Heuristics"
   ]
  },
  {
   "cell_type": "code",
   "execution_count": 45,
   "metadata": {
    "ExecuteTime": {
     "end_time": "2020-04-17T05:59:43.358854Z",
     "start_time": "2020-04-17T05:59:43.356536Z"
    }
   },
   "outputs": [],
   "source": [
    "spreads.drift = spreads.drift.abs()"
   ]
  },
  {
   "cell_type": "code",
   "execution_count": 46,
   "metadata": {
    "ExecuteTime": {
     "end_time": "2020-04-17T05:59:43.376701Z",
     "start_time": "2020-04-17T05:59:43.360065Z"
    }
   },
   "outputs": [
    {
     "data": {
      "text/html": [
       "<div>\n",
       "<style scoped>\n",
       "    .dataframe tbody tr th:only-of-type {\n",
       "        vertical-align: middle;\n",
       "    }\n",
       "\n",
       "    .dataframe tbody tr th {\n",
       "        vertical-align: top;\n",
       "    }\n",
       "\n",
       "    .dataframe thead th {\n",
       "        text-align: right;\n",
       "    }\n",
       "</style>\n",
       "<table border=\"1\" class=\"dataframe\">\n",
       "  <thead>\n",
       "    <tr style=\"text-align: right;\">\n",
       "      <th>trace_sig</th>\n",
       "      <th>0</th>\n",
       "      <th>1</th>\n",
       "    </tr>\n",
       "    <tr>\n",
       "      <th>eg_sig</th>\n",
       "      <th></th>\n",
       "      <th></th>\n",
       "    </tr>\n",
       "  </thead>\n",
       "  <tbody>\n",
       "    <tr>\n",
       "      <th>0</th>\n",
       "      <td>21487</td>\n",
       "      <td>744</td>\n",
       "    </tr>\n",
       "    <tr>\n",
       "      <th>1</th>\n",
       "      <td>1346</td>\n",
       "      <td>159</td>\n",
       "    </tr>\n",
       "  </tbody>\n",
       "</table>\n",
       "</div>"
      ],
      "text/plain": [
       "trace_sig      0    1\n",
       "eg_sig               \n",
       "0          21487  744\n",
       "1           1346  159"
      ]
     },
     "execution_count": 46,
     "metadata": {},
     "output_type": "execute_result"
    }
   ],
   "source": [
    "pd.crosstab(spreads.eg_sig, spreads.trace_sig)"
   ]
  },
  {
   "cell_type": "code",
   "execution_count": 47,
   "metadata": {
    "ExecuteTime": {
     "end_time": "2020-04-17T05:59:43.389605Z",
     "start_time": "2020-04-17T05:59:43.377582Z"
    },
    "scrolled": false
   },
   "outputs": [
    {
     "data": {
      "text/html": [
       "<div>\n",
       "<style scoped>\n",
       "    .dataframe tbody tr th:only-of-type {\n",
       "        vertical-align: middle;\n",
       "    }\n",
       "\n",
       "    .dataframe tbody tr th {\n",
       "        vertical-align: top;\n",
       "    }\n",
       "\n",
       "    .dataframe thead th {\n",
       "        text-align: right;\n",
       "    }\n",
       "</style>\n",
       "<table border=\"1\" class=\"dataframe\">\n",
       "  <thead>\n",
       "    <tr style=\"text-align: right;\">\n",
       "      <th>trace_sig</th>\n",
       "      <th>0</th>\n",
       "      <th>1</th>\n",
       "    </tr>\n",
       "    <tr>\n",
       "      <th>eg_sig</th>\n",
       "      <th></th>\n",
       "      <th></th>\n",
       "    </tr>\n",
       "  </thead>\n",
       "  <tbody>\n",
       "    <tr>\n",
       "      <th>0</th>\n",
       "      <td>90.52%</td>\n",
       "      <td>3.13%</td>\n",
       "    </tr>\n",
       "    <tr>\n",
       "      <th>1</th>\n",
       "      <td>5.67%</td>\n",
       "      <td>0.67%</td>\n",
       "    </tr>\n",
       "  </tbody>\n",
       "</table>\n",
       "</div>"
      ],
      "text/plain": [
       "trace_sig      0     1\n",
       "eg_sig                \n",
       "0         90.52% 3.13%\n",
       "1          5.67% 0.67%"
      ]
     },
     "execution_count": 47,
     "metadata": {},
     "output_type": "execute_result"
    }
   ],
   "source": [
    "pd.set_option('display.float_format', lambda x: f'{x:.2%}')\n",
    "pd.crosstab(spreads.eg_sig, spreads.trace_sig, normalize=True)"
   ]
  },
  {
   "cell_type": "code",
   "execution_count": 48,
   "metadata": {
    "ExecuteTime": {
     "end_time": "2020-04-17T05:59:44.165974Z",
     "start_time": "2020-04-17T05:59:43.390600Z"
    }
   },
   "outputs": [
    {
     "data": {
      "image/png": "[encoded data removed]",
      "text/plain": [
       "<Figure size 1440x360 with 4 Axes>"
      ]
     },
     "metadata": {
      "needs_background": "light"
     },
     "output_type": "display_data"
    }
   ],
   "source": [
    "fig, axes = plt.subplots(ncols=4, figsize=(20, 5))\n",
    "for i, heuristic in enumerate(['drift', 'vol', 'corr', 'corr_ret']):\n",
    "    sns.boxplot(x='coint', y=heuristic, data=spreads, ax=axes[i])\n",
    "fig.tight_layout()\n",
    "fig.savefig('figures/heuristics_boxplot', dpi=300)"
   ]
  },
  {
   "cell_type": "markdown",
   "metadata": {},
   "source": [
    "### How well do the heuristics predict significant cointegration?"
   ]
  },
  {
   "cell_type": "code",
   "execution_count": 49,
   "metadata": {
    "ExecuteTime": {
     "end_time": "2020-04-17T05:59:44.195538Z",
     "start_time": "2020-04-17T05:59:44.167086Z"
    }
   },
   "outputs": [
    {
     "data": {
      "text/html": [
       "<div>\n",
       "<style scoped>\n",
       "    .dataframe tbody tr th:only-of-type {\n",
       "        vertical-align: middle;\n",
       "    }\n",
       "\n",
       "    .dataframe tbody tr th {\n",
       "        vertical-align: top;\n",
       "    }\n",
       "\n",
       "    .dataframe thead th {\n",
       "        text-align: right;\n",
       "    }\n",
       "</style>\n",
       "<table border=\"1\" class=\"dataframe\">\n",
       "  <thead>\n",
       "    <tr style=\"text-align: right;\">\n",
       "      <th></th>\n",
       "      <th></th>\n",
       "      <th>25%</th>\n",
       "      <th>50%</th>\n",
       "      <th>75%</th>\n",
       "      <th>count</th>\n",
       "      <th>max</th>\n",
       "      <th>mean</th>\n",
       "      <th>min</th>\n",
       "      <th>std</th>\n",
       "    </tr>\n",
       "    <tr>\n",
       "      <th></th>\n",
       "      <th>coint</th>\n",
       "      <th></th>\n",
       "      <th></th>\n",
       "      <th></th>\n",
       "      <th></th>\n",
       "      <th></th>\n",
       "      <th></th>\n",
       "      <th></th>\n",
       "      <th></th>\n",
       "    </tr>\n",
       "  </thead>\n",
       "  <tbody>\n",
       "    <tr>\n",
       "      <th rowspan=\"2\" valign=\"top\">corr</th>\n",
       "      <th>0</th>\n",
       "      <td>-38.33%</td>\n",
       "      <td>37.84%</td>\n",
       "      <td>77.72%</td>\n",
       "      <td>2357700.00%</td>\n",
       "      <td>99.17%</td>\n",
       "      <td>21.01%</td>\n",
       "      <td>-95.88%</td>\n",
       "      <td>60.65%</td>\n",
       "    </tr>\n",
       "    <tr>\n",
       "      <th>1</th>\n",
       "      <td>-47.40%</td>\n",
       "      <td>45.31%</td>\n",
       "      <td>82.57%</td>\n",
       "      <td>15900.00%</td>\n",
       "      <td>99.07%</td>\n",
       "      <td>20.48%</td>\n",
       "      <td>-93.50%</td>\n",
       "      <td>66.81%</td>\n",
       "    </tr>\n",
       "    <tr>\n",
       "      <th rowspan=\"2\" valign=\"top\">drift</th>\n",
       "      <th>0</th>\n",
       "      <td>0.04%</td>\n",
       "      <td>0.09%</td>\n",
       "      <td>0.17%</td>\n",
       "      <td>2357700.00%</td>\n",
       "      <td>1.92%</td>\n",
       "      <td>0.13%</td>\n",
       "      <td>0.00%</td>\n",
       "      <td>0.18%</td>\n",
       "    </tr>\n",
       "    <tr>\n",
       "      <th>1</th>\n",
       "      <td>0.01%</td>\n",
       "      <td>0.05%</td>\n",
       "      <td>0.10%</td>\n",
       "      <td>15900.00%</td>\n",
       "      <td>0.67%</td>\n",
       "      <td>0.07%</td>\n",
       "      <td>0.00%</td>\n",
       "      <td>0.08%</td>\n",
       "    </tr>\n",
       "    <tr>\n",
       "      <th rowspan=\"2\" valign=\"top\">vol</th>\n",
       "      <th>0</th>\n",
       "      <td>46.03%</td>\n",
       "      <td>80.12%</td>\n",
       "      <td>139.55%</td>\n",
       "      <td>2357700.00%</td>\n",
       "      <td>1560.03%</td>\n",
       "      <td>117.37%</td>\n",
       "      <td>5.77%</td>\n",
       "      <td>145.64%</td>\n",
       "    </tr>\n",
       "    <tr>\n",
       "      <th>1</th>\n",
       "      <td>24.75%</td>\n",
       "      <td>48.44%</td>\n",
       "      <td>87.87%</td>\n",
       "      <td>15900.00%</td>\n",
       "      <td>561.25%</td>\n",
       "      <td>69.92%</td>\n",
       "      <td>8.10%</td>\n",
       "      <td>68.40%</td>\n",
       "    </tr>\n",
       "  </tbody>\n",
       "</table>\n",
       "</div>"
      ],
      "text/plain": [
       "                25%    50%     75%       count      max    mean     min  \\\n",
       "      coint                                                               \n",
       "corr  0     -38.33% 37.84%  77.72% 2357700.00%   99.17%  21.01% -95.88%   \n",
       "      1     -47.40% 45.31%  82.57%   15900.00%   99.07%  20.48% -93.50%   \n",
       "drift 0       0.04%  0.09%   0.17% 2357700.00%    1.92%   0.13%   0.00%   \n",
       "      1       0.01%  0.05%   0.10%   15900.00%    0.67%   0.07%   0.00%   \n",
       "vol   0      46.03% 80.12% 139.55% 2357700.00% 1560.03% 117.37%   5.77%   \n",
       "      1      24.75% 48.44%  87.87%   15900.00%  561.25%  69.92%   8.10%   \n",
       "\n",
       "                std  \n",
       "      coint          \n",
       "corr  0      60.65%  \n",
       "      1      66.81%  \n",
       "drift 0       0.18%  \n",
       "      1       0.08%  \n",
       "vol   0     145.64%  \n",
       "      1      68.40%  "
      ]
     },
     "execution_count": 49,
     "metadata": {},
     "output_type": "execute_result"
    }
   ],
   "source": [
    "spreads.groupby(spreads.coint)['drift', 'vol', 'corr'].describe().stack(level=0).swaplevel().sort_index()"
   ]
  },
  {
   "cell_type": "code",
   "execution_count": 50,
   "metadata": {
    "ExecuteTime": {
     "end_time": "2020-04-17T05:59:44.201093Z",
     "start_time": "2020-04-17T05:59:44.196674Z"
    }
   },
   "outputs": [
    {
     "data": {
      "text/plain": [
       "0    23577\n",
       "1      159\n",
       "Name: coint, dtype: int64"
      ]
     },
     "execution_count": 50,
     "metadata": {},
     "output_type": "execute_result"
    }
   ],
   "source": [
    "spreads.coint.value_counts()"
   ]
  },
  {
   "cell_type": "markdown",
   "metadata": {},
   "source": [
    "#### Logistic Regression"
   ]
  },
  {
   "cell_type": "code",
   "execution_count": 51,
   "metadata": {
    "ExecuteTime": {
     "end_time": "2020-04-17T05:59:44.209418Z",
     "start_time": "2020-04-17T05:59:44.201962Z"
    }
   },
   "outputs": [],
   "source": [
    "y = spreads.coint\n",
    "X = spreads[['drift', 'vol', 'corr', 'corr_ret']]\n",
    "# X = spreads[['drift', 'vol']]"
   ]
  },
  {
   "cell_type": "code",
   "execution_count": 52,
   "metadata": {
    "ExecuteTime": {
     "end_time": "2020-04-17T05:59:44.217752Z",
     "start_time": "2020-04-17T05:59:44.210376Z"
    }
   },
   "outputs": [],
   "source": [
    "kf = StratifiedKFold(n_splits=5, shuffle=True)"
   ]
  },
  {
   "cell_type": "code",
   "execution_count": 53,
   "metadata": {
    "ExecuteTime": {
     "end_time": "2020-04-17T05:59:44.225662Z",
     "start_time": "2020-04-17T05:59:44.218795Z"
    }
   },
   "outputs": [],
   "source": [
    "log_reg = LogisticRegressionCV(Cs=np.logspace(-10, 10, 21), \n",
    "                               class_weight='balanced',\n",
    "                               scoring='roc_auc')"
   ]
  },
  {
   "cell_type": "code",
   "execution_count": 54,
   "metadata": {
    "ExecuteTime": {
     "end_time": "2020-04-17T05:59:45.387356Z",
     "start_time": "2020-04-17T05:59:44.226682Z"
    }
   },
   "outputs": [
    {
     "data": {
      "text/plain": [
       "'C:-10.00, AUC: 66.46%'"
      ]
     },
     "execution_count": 54,
     "metadata": {},
     "output_type": "execute_result"
    },
    {
     "data": {
      "image/png": "[encoded data removed]",
      "text/plain": [
       "<Figure size 432x288 with 1 Axes>"
      ]
     },
     "metadata": {
      "needs_background": "light"
     },
     "output_type": "display_data"
    }
   ],
   "source": [
    "log_reg.fit(X=X, y=y)\n",
    "Cs = log_reg.Cs_\n",
    "scores = pd.DataFrame(log_reg.scores_[True], columns=Cs).mean()\n",
    "scores.plot(logx=True);\n",
    "f'C:{np.log10(scores.idxmax()):.2f}, AUC: {scores.max():.2%}'"
   ]
  },
  {
   "cell_type": "code",
   "execution_count": 55,
   "metadata": {
    "ExecuteTime": {
     "end_time": "2020-04-17T05:59:45.390858Z",
     "start_time": "2020-04-17T05:59:45.388361Z"
    }
   },
   "outputs": [
    {
     "data": {
      "text/plain": [
       "array([[-3.52190333e-10, -2.81608060e-07, -3.13087492e-09,\n",
       "        -7.39502330e-08]])"
      ]
     },
     "execution_count": 55,
     "metadata": {},
     "output_type": "execute_result"
    }
   ],
   "source": [
    "log_reg.coef_"
   ]
  },
  {
   "cell_type": "code",
   "execution_count": 56,
   "metadata": {
    "ExecuteTime": {
     "end_time": "2020-04-17T05:59:45.471163Z",
     "start_time": "2020-04-17T05:59:45.391675Z"
    }
   },
   "outputs": [
    {
     "data": {
      "text/plain": [
       "array([[23577,     0],\n",
       "       [  159,     0]])"
      ]
     },
     "execution_count": 56,
     "metadata": {},
     "output_type": "execute_result"
    }
   ],
   "source": [
    "y_pred = log_reg.predict_proba(X)[:, 1]\n",
    "confusion_matrix(y_true=spreads.coint, y_pred=(y_pred>.5))"
   ]
  },
  {
   "cell_type": "code",
   "execution_count": 57,
   "metadata": {
    "ExecuteTime": {
     "end_time": "2020-04-17T05:59:45.491876Z",
     "start_time": "2020-04-17T05:59:45.472219Z"
    }
   },
   "outputs": [
    {
     "data": {
      "text/html": [
       "<div>\n",
       "<style scoped>\n",
       "    .dataframe tbody tr th:only-of-type {\n",
       "        vertical-align: middle;\n",
       "    }\n",
       "\n",
       "    .dataframe tbody tr th {\n",
       "        vertical-align: top;\n",
       "    }\n",
       "\n",
       "    .dataframe thead th {\n",
       "        text-align: right;\n",
       "    }\n",
       "</style>\n",
       "<table border=\"1\" class=\"dataframe\">\n",
       "  <thead>\n",
       "    <tr style=\"text-align: right;\">\n",
       "      <th></th>\n",
       "      <th>count</th>\n",
       "      <th>mean</th>\n",
       "      <th>std</th>\n",
       "      <th>min</th>\n",
       "      <th>25%</th>\n",
       "      <th>50%</th>\n",
       "      <th>75%</th>\n",
       "      <th>max</th>\n",
       "    </tr>\n",
       "    <tr>\n",
       "      <th>coint</th>\n",
       "      <th></th>\n",
       "      <th></th>\n",
       "      <th></th>\n",
       "      <th></th>\n",
       "      <th></th>\n",
       "      <th></th>\n",
       "      <th></th>\n",
       "      <th></th>\n",
       "    </tr>\n",
       "  </thead>\n",
       "  <tbody>\n",
       "    <tr>\n",
       "      <th>0</th>\n",
       "      <td>2357700.00%</td>\n",
       "      <td>50.00%</td>\n",
       "      <td>0.00%</td>\n",
       "      <td>50.00%</td>\n",
       "      <td>50.00%</td>\n",
       "      <td>50.00%</td>\n",
       "      <td>50.00%</td>\n",
       "      <td>50.00%</td>\n",
       "    </tr>\n",
       "    <tr>\n",
       "      <th>1</th>\n",
       "      <td>15900.00%</td>\n",
       "      <td>50.00%</td>\n",
       "      <td>0.00%</td>\n",
       "      <td>50.00%</td>\n",
       "      <td>50.00%</td>\n",
       "      <td>50.00%</td>\n",
       "      <td>50.00%</td>\n",
       "      <td>50.00%</td>\n",
       "    </tr>\n",
       "  </tbody>\n",
       "</table>\n",
       "</div>"
      ],
      "text/plain": [
       "            count   mean   std    min    25%    50%    75%    max\n",
       "coint                                                            \n",
       "0     2357700.00% 50.00% 0.00% 50.00% 50.00% 50.00% 50.00% 50.00%\n",
       "1       15900.00% 50.00% 0.00% 50.00% 50.00% 50.00% 50.00% 50.00%"
      ]
     },
     "execution_count": 57,
     "metadata": {},
     "output_type": "execute_result"
    }
   ],
   "source": [
    "spreads.assign(y_pred=log_reg.predict_proba(X)[:, 1]).groupby(spreads.coint).y_pred.describe()"
   ]
  },
  {
   "cell_type": "markdown",
   "metadata": {},
   "source": [
    "#### Decision Tree Classifier"
   ]
  },
  {
   "cell_type": "code",
   "execution_count": 58,
   "metadata": {
    "ExecuteTime": {
     "end_time": "2020-04-17T05:59:45.514757Z",
     "start_time": "2020-04-17T05:59:45.494527Z"
    }
   },
   "outputs": [],
   "source": [
    "model = DecisionTreeClassifier(class_weight='balanced')\n",
    "decision_tree = GridSearchCV(model,\n",
    "                             param_grid={'max_depth': list(range(1, 10))},\n",
    "                             cv=5,\n",
    "                             scoring='roc_auc')"
   ]
  },
  {
   "cell_type": "code",
   "execution_count": null,
   "metadata": {
    "ExecuteTime": {
     "end_time": "2020-04-17T05:59:47.265675Z",
     "start_time": "2020-04-17T05:59:45.515977Z"
    }
   },
   "outputs": [],
   "source": [
    "decision_tree.fit(X=X, y=y)"
   ]
  },
  {
   "cell_type": "code",
   "execution_count": 60,
   "metadata": {
    "ExecuteTime": {
     "end_time": "2020-04-17T12:18:26.640021Z",
     "start_time": "2020-04-17T12:18:26.636500Z"
    }
   },
   "outputs": [
    {
     "data": {
      "text/plain": [
       "'64.00%, Depth: 7'"
      ]
     },
     "execution_count": 60,
     "metadata": {},
     "output_type": "execute_result"
    }
   ],
   "source": [
    "f'{decision_tree.best_score_:.2%}, Depth: {decision_tree.best_params_[\"max_depth\"]}'"
   ]
  },
  {
   "cell_type": "code",
   "execution_count": 61,
   "metadata": {
    "ExecuteTime": {
     "end_time": "2020-04-17T12:18:40.848942Z",
     "start_time": "2020-04-17T12:18:40.766977Z"
    }
   },
   "outputs": [
    {
     "data": {
      "image/png": "[encoded data removed]",
      "text/plain": [
       "<Figure size 432x288 with 1 Axes>"
      ]
     },
     "metadata": {
      "needs_background": "light"
     },
     "output_type": "display_data"
    }
   ],
   "source": [
    "pd.Series(data=decision_tree.best_estimator_.feature_importances_, index=X.columns).sort_values().plot.barh();"
   ]
  },
  {
   "cell_type": "code",
   "execution_count": 62,
   "metadata": {
    "ExecuteTime": {
     "end_time": "2020-04-17T12:18:45.798761Z",
     "start_time": "2020-04-17T12:18:45.780213Z"
    }
   },
   "outputs": [
    {
     "data": {
      "text/html": [
       "<div>\n",
       "<style scoped>\n",
       "    .dataframe tbody tr th:only-of-type {\n",
       "        vertical-align: middle;\n",
       "    }\n",
       "\n",
       "    .dataframe tbody tr th {\n",
       "        vertical-align: top;\n",
       "    }\n",
       "\n",
       "    .dataframe thead th {\n",
       "        text-align: right;\n",
       "    }\n",
       "</style>\n",
       "<table border=\"1\" class=\"dataframe\">\n",
       "  <thead>\n",
       "    <tr style=\"text-align: right;\">\n",
       "      <th></th>\n",
       "      <th>count</th>\n",
       "      <th>mean</th>\n",
       "      <th>std</th>\n",
       "      <th>min</th>\n",
       "      <th>25%</th>\n",
       "      <th>50%</th>\n",
       "      <th>75%</th>\n",
       "      <th>max</th>\n",
       "    </tr>\n",
       "    <tr>\n",
       "      <th>coint</th>\n",
       "      <th></th>\n",
       "      <th></th>\n",
       "      <th></th>\n",
       "      <th></th>\n",
       "      <th></th>\n",
       "      <th></th>\n",
       "      <th></th>\n",
       "      <th></th>\n",
       "    </tr>\n",
       "  </thead>\n",
       "  <tbody>\n",
       "    <tr>\n",
       "      <th>0</th>\n",
       "      <td>2357700.00%</td>\n",
       "      <td>23.68%</td>\n",
       "      <td>25.36%</td>\n",
       "      <td>0.00%</td>\n",
       "      <td>0.00%</td>\n",
       "      <td>25.07%</td>\n",
       "      <td>44.72%</td>\n",
       "      <td>99.78%</td>\n",
       "    </tr>\n",
       "    <tr>\n",
       "      <th>1</th>\n",
       "      <td>15900.00%</td>\n",
       "      <td>76.32%</td>\n",
       "      <td>24.64%</td>\n",
       "      <td>4.08%</td>\n",
       "      <td>44.72%</td>\n",
       "      <td>82.32%</td>\n",
       "      <td>97.05%</td>\n",
       "      <td>100.00%</td>\n",
       "    </tr>\n",
       "  </tbody>\n",
       "</table>\n",
       "</div>"
      ],
      "text/plain": [
       "            count   mean    std   min    25%    50%    75%     max\n",
       "coint                                                             \n",
       "0     2357700.00% 23.68% 25.36% 0.00%  0.00% 25.07% 44.72%  99.78%\n",
       "1       15900.00% 76.32% 24.64% 4.08% 44.72% 82.32% 97.05% 100.00%"
      ]
     },
     "execution_count": 62,
     "metadata": {},
     "output_type": "execute_result"
    }
   ],
   "source": [
    "spreads.assign(y_pred=decision_tree.predict_proba(X)[:, 1]).groupby(spreads.coint).y_pred.describe()"
   ]
  },
  {
   "cell_type": "code",
   "execution_count": 63,
   "metadata": {
    "ExecuteTime": {
     "end_time": "2020-04-17T12:18:49.229848Z",
     "start_time": "2020-04-17T12:18:49.092358Z"
    }
   },
   "outputs": [
    {
     "data": {
      "image/png": "[encoded data removed]",
      "text/plain": [
       "<Figure size 360x360 with 1 Axes>"
      ]
     },
     "metadata": {
      "needs_background": "light"
     },
     "output_type": "display_data"
    }
   ],
   "source": [
    "sns.catplot(x='coint', \n",
    "            y='y_pred', \n",
    "            data=spreads.assign(y_pred=decision_tree.predict_proba(X)[:, 1]), \n",
    "            kind='box');"
   ]
  },
  {
   "cell_type": "code",
   "execution_count": null,
   "metadata": {},
   "outputs": [],
   "source": []
  }
 ],
 "metadata": {
  "kernelspec": {
   "display_name": "Python 3",
   "language": "python",
   "name": "python3"
  },
  "language_info": {
   "codemirror_mode": {
    "name": "ipython",
    "version": 3
   },
   "file_extension": ".py",
   "mimetype": "text/x-python",
   "name": "python",
   "nbconvert_exporter": "python",
   "pygments_lexer": "ipython3",
   "version": "3.7.6"
  },
  "toc": {
   "base_numbering": 1,
   "nav_menu": {},
   "number_sections": true,
   "sideBar": true,
   "skip_h1_title": true,
   "title_cell": "Table of Contents",
   "title_sidebar": "Contents",
   "toc_cell": false,
   "toc_position": {
    "height": "calc(100% - 180px)",
    "left": "10px",
    "top": "150px",
    "width": "309px"
   },
   "toc_section_display": true,
   "toc_window_display": true
  }
 },
 "nbformat": 4,
 "nbformat_minor": 2
}
