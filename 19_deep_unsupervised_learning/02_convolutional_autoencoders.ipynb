{
 "cells": [
  {
   "cell_type": "markdown",
   "metadata": {},
   "source": [
    "Source: https://blog.keras.io/building-autoencoders-in-keras.html"
   ]
  },
  {
   "cell_type": "code",
   "execution_count": 19,
   "metadata": {
    "ExecuteTime": {
     "end_time": "2018-04-05T10:38:11.113253Z",
     "start_time": "2018-04-05T10:38:05.324609Z"
    },
    "slideshow": {
     "slide_type": "skip"
    }
   },
   "outputs": [],
   "source": [
    "from os.path import join\n",
    "import pandas as pd\n",
    "\n",
    "import numpy as np\n",
    "from numpy.random import choice\n",
    "from numpy.linalg import norm\n",
    "import seaborn as sns\n",
    "\n",
    "import matplotlib.pyplot as plt\n",
    "from matplotlib.colors import ListedColormap\n",
    "from matplotlib.offsetbox import AnnotationBbox, OffsetImage\n",
    "from mpl_toolkits.axes_grid1 import make_axes_locatable\n",
    "\n",
    "from keras.layers import Input, Dense, Conv2D, MaxPooling2D, UpSampling2D\n",
    "from keras import regularizers\n",
    "from keras.models import Model, model_from_json\n",
    "from keras.callbacks import TensorBoard, EarlyStopping, ModelCheckpoint\n",
    "from keras.datasets import fashion_mnist\n",
    "from keras import backend as K\n",
    "\n",
    "from sklearn.preprocessing import minmax_scale\n",
    "from sklearn.manifold import TSNE\n",
    "from sklearn.model_selection import train_test_split\n",
    "\n",
    "from scipy.spatial.distance import pdist, cdist"
   ]
  },
  {
   "cell_type": "code",
   "execution_count": 20,
   "metadata": {
    "ExecuteTime": {
     "end_time": "2018-04-05T10:38:11.139587Z",
     "start_time": "2018-04-05T10:38:11.117034Z"
    }
   },
   "outputs": [],
   "source": [
    "%matplotlib inline\n",
    "plt.style.use('ggplot')\n",
    "n_classes = 10 # all examples have 10 classes\n",
    "cmap = sns.color_palette('Paired', n_classes)\n",
    "pd.options.display.float_format = '{:,.2f}'.format"
   ]
  },
  {
   "cell_type": "markdown",
   "metadata": {
    "slideshow": {
     "slide_type": "slide"
    }
   },
   "source": [
    "## Fashion MNIST Data"
   ]
  },
  {
   "cell_type": "code",
   "execution_count": 21,
   "metadata": {},
   "outputs": [],
   "source": [
    "(X_train, y_train), (X_test, y_test) = fashion_mnist.load_data()"
   ]
  },
  {
   "cell_type": "code",
   "execution_count": 22,
   "metadata": {},
   "outputs": [
    {
     "data": {
      "text/plain": [
       "((60000, 28, 28), (10000, 28, 28))"
      ]
     },
     "execution_count": 22,
     "metadata": {},
     "output_type": "execute_result"
    }
   ],
   "source": [
    "X_train.shape, X_test.shape"
   ]
  },
  {
   "cell_type": "code",
   "execution_count": 23,
   "metadata": {},
   "outputs": [],
   "source": [
    "class_dict = {0: 'T-shirt/top',\n",
    "              1: 'Trouser',\n",
    "              2: 'Pullover',\n",
    "              3: 'Dress',\n",
    "              4: 'Coat',\n",
    "              5: 'Sandal',\n",
    "              6: 'Shirt',\n",
    "              7: 'Sneaker',\n",
    "              8: 'Bag',\n",
    "              9: 'Ankle boot'}\n",
    "classes = list(class_dict.keys())"
   ]
  },
  {
   "cell_type": "markdown",
   "metadata": {
    "slideshow": {
     "slide_type": "subslide"
    }
   },
   "source": [
    "## Reshape & normalize Fashion MNIST data"
   ]
  },
  {
   "cell_type": "code",
   "execution_count": 24,
   "metadata": {},
   "outputs": [],
   "source": [
    "image_size = 28"
   ]
  },
  {
   "cell_type": "code",
   "execution_count": 25,
   "metadata": {},
   "outputs": [],
   "source": [
    "def data_prep_conv(x, size=image_size):\n",
    "    return x.reshape(-1, size, size, 1).astype('float32')/255"
   ]
  },
  {
   "cell_type": "code",
   "execution_count": 26,
   "metadata": {},
   "outputs": [],
   "source": [
    "X_train_scaled = data_prep_conv(X_train)\n",
    "X_test_scaled = data_prep_conv(X_test)"
   ]
  },
  {
   "cell_type": "code",
   "execution_count": 27,
   "metadata": {},
   "outputs": [
    {
     "data": {
      "text/plain": [
       "((60000, 28, 28, 1), (10000, 28, 28, 1))"
      ]
     },
     "execution_count": 27,
     "metadata": {},
     "output_type": "execute_result"
    }
   ],
   "source": [
    "X_train_scaled.shape, X_test_scaled.shape"
   ]
  },
  {
   "cell_type": "markdown",
   "metadata": {},
   "source": [
    "## Combine training steps into function"
   ]
  },
  {
   "cell_type": "code",
   "execution_count": 10,
   "metadata": {},
   "outputs": [],
   "source": [
    "def train_autoencoder(path, model, x_train=X_train_scaled, x_test=X_test_scaled):\n",
    "    callbacks = [EarlyStopping(patience=5, restore_best_weights=True),\n",
    "                 ModelCheckpoint(filepath=path, save_best_only=True, save_weights_only=True)]\n",
    "    model.fit(x=x_train, y=x_train, epochs=100, validation_split=.1, callbacks=callbacks)\n",
    "    model.load_weights(path)\n",
    "    mse = model.evaluate(x=x_test, y=x_test)\n",
    "    return model, mse"
   ]
  },
  {
   "cell_type": "markdown",
   "metadata": {},
   "source": [
    "## Convolutional Autoencoder"
   ]
  },
  {
   "cell_type": "markdown",
   "metadata": {},
   "source": [
    "### 3-dim input"
   ]
  },
  {
   "cell_type": "code",
   "execution_count": 10,
   "metadata": {},
   "outputs": [],
   "source": [
    "input_ = Input(shape=(28, 28, 1), name='Input_3D')"
   ]
  },
  {
   "cell_type": "markdown",
   "metadata": {},
   "source": [
    "### Encoding Layers"
   ]
  },
  {
   "cell_type": "code",
   "execution_count": 11,
   "metadata": {},
   "outputs": [],
   "source": [
    "x = Conv2D(filters=32, kernel_size=(3, 3), activation='relu', padding='same', name='Encoding_Conv_1')(input_)\n",
    "x = MaxPooling2D(pool_size=(2, 2), padding='same', name='Encoding_Max_1')(x)\n",
    "x = Conv2D(filters=16, kernel_size=(3, 3), activation='relu', padding='same', name='Encoding_Conv_2')(x)\n",
    "x = MaxPooling2D(pool_size=(2, 2), padding='same', name='Encoding_Max_2')(x)\n",
    "x = Conv2D(filters=8, kernel_size=(3, 3), activation='relu', padding='same', name='Encoding_Conv_3')(x)\n",
    "encoded_conv = MaxPooling2D(pool_size=(2, 2), padding='same', name='Encoding_Max_3')(x)"
   ]
  },
  {
   "cell_type": "code",
   "execution_count": 12,
   "metadata": {},
   "outputs": [],
   "source": [
    "x = Conv2D(filters=8, kernel_size=(3, 3), activation='relu', padding='same', name='Decoding_Conv_1')(encoded_conv)\n",
    "x = UpSampling2D(size=(2, 2), name='Decoding_Upsample_1')(x)\n",
    "x = Conv2D(filters=16, kernel_size=(3, 3), activation='relu', padding='same', name='Decoding_Conv_2')(x)\n",
    "x = UpSampling2D(size=(2, 2), name='Decoding_Upsample_2')(x)\n",
    "x = Conv2D(filters=32, kernel_size=(3, 3), activation='relu', name='Decoding_Conv_3')(x)\n",
    "x = UpSampling2D(size=(2, 2), name='Decoding_Upsample_3')(x)\n",
    "decoded_conv = Conv2D(filters=1, kernel_size=(3, 3), activation='sigmoid', padding='same', name='Decoding_Conv_4')(x)"
   ]
  },
  {
   "cell_type": "code",
   "execution_count": 13,
   "metadata": {},
   "outputs": [],
   "source": [
    "autoencoder_conv = Model(input_, decoded_conv)\n",
    "autoencoder_conv.compile(optimizer='adam', loss='mse')"
   ]
  },
  {
   "cell_type": "code",
   "execution_count": 14,
   "metadata": {},
   "outputs": [
    {
     "name": "stdout",
     "output_type": "stream",
     "text": [
      "_________________________________________________________________\n",
      "Layer (type)                 Output Shape              Param #   \n",
      "=================================================================\n",
      "Input_3D (InputLayer)        (None, 28, 28, 1)         0         \n",
      "_________________________________________________________________\n",
      "Encoding_Conv_1 (Conv2D)     (None, 28, 28, 32)        320       \n",
      "_________________________________________________________________\n",
      "Encoding_Max_1 (MaxPooling2D (None, 14, 14, 32)        0         \n",
      "_________________________________________________________________\n",
      "Encoding_Conv_2 (Conv2D)     (None, 14, 14, 16)        4624      \n",
      "_________________________________________________________________\n",
      "Encoding_Max_2 (MaxPooling2D (None, 7, 7, 16)          0         \n",
      "_________________________________________________________________\n",
      "Encoding_Conv_3 (Conv2D)     (None, 7, 7, 8)           1160      \n",
      "_________________________________________________________________\n",
      "Encoding_Max_3 (MaxPooling2D (None, 4, 4, 8)           0         \n",
      "_________________________________________________________________\n",
      "Decoding_Conv_1 (Conv2D)     (None, 4, 4, 8)           584       \n",
      "_________________________________________________________________\n",
      "Decoding_Upsample_1 (UpSampl (None, 8, 8, 8)           0         \n",
      "_________________________________________________________________\n",
      "Decoding_Conv_2 (Conv2D)     (None, 8, 8, 16)          1168      \n",
      "_________________________________________________________________\n",
      "Decoding_Upsample_2 (UpSampl (None, 16, 16, 16)        0         \n",
      "_________________________________________________________________\n",
      "Decoding_Conv_3 (Conv2D)     (None, 14, 14, 32)        4640      \n",
      "_________________________________________________________________\n",
      "Decoding_Upsample_3 (UpSampl (None, 28, 28, 32)        0         \n",
      "_________________________________________________________________\n",
      "Decoding_Conv_4 (Conv2D)     (None, 28, 28, 1)         289       \n",
      "=================================================================\n",
      "Total params: 12,785\n",
      "Trainable params: 12,785\n",
      "Non-trainable params: 0\n",
      "_________________________________________________________________\n"
     ]
    }
   ],
   "source": [
    "autoencoder_conv.summary()"
   ]
  },
  {
   "cell_type": "code",
   "execution_count": 15,
   "metadata": {},
   "outputs": [],
   "source": [
    "path = 'models/fashion_mnist.autencoder_conv.32.weights.hdf5'"
   ]
  },
  {
   "cell_type": "code",
   "execution_count": 21,
   "metadata": {
    "scrolled": false
   },
   "outputs": [
    {
     "name": "stdout",
     "output_type": "stream",
     "text": [
      "Train on 54000 samples, validate on 6000 samples\n",
      "Epoch 1/100\n",
      "54000/54000 [==============================] - 5s 87us/step - loss: 0.0222 - val_loss: 0.0159\n",
      "Epoch 2/100\n",
      "54000/54000 [==============================] - 4s 80us/step - loss: 0.0149 - val_loss: 0.0139\n",
      "Epoch 3/100\n",
      "54000/54000 [==============================] - 4s 80us/step - loss: 0.0133 - val_loss: 0.0127\n",
      "Epoch 4/100\n",
      "54000/54000 [==============================] - 4s 81us/step - loss: 0.0124 - val_loss: 0.0122\n",
      "Epoch 5/100\n",
      "54000/54000 [==============================] - 4s 80us/step - loss: 0.0119 - val_loss: 0.0116\n",
      "Epoch 6/100\n",
      "54000/54000 [==============================] - 4s 80us/step - loss: 0.0115 - val_loss: 0.0115\n",
      "Epoch 7/100\n",
      "54000/54000 [==============================] - 4s 80us/step - loss: 0.0111 - val_loss: 0.0111\n",
      "Epoch 8/100\n",
      "54000/54000 [==============================] - 4s 81us/step - loss: 0.0108 - val_loss: 0.0122\n",
      "Epoch 9/100\n",
      "54000/54000 [==============================] - 4s 81us/step - loss: 0.0106 - val_loss: 0.0105\n",
      "Epoch 10/100\n",
      "54000/54000 [==============================] - 4s 81us/step - loss: 0.0104 - val_loss: 0.0103\n",
      "Epoch 11/100\n",
      "54000/54000 [==============================] - 4s 81us/step - loss: 0.0102 - val_loss: 0.0101\n",
      "Epoch 12/100\n",
      "54000/54000 [==============================] - 4s 81us/step - loss: 0.0101 - val_loss: 0.0101\n",
      "Epoch 13/100\n",
      "54000/54000 [==============================] - 4s 81us/step - loss: 0.0100 - val_loss: 0.0098\n",
      "Epoch 14/100\n",
      "54000/54000 [==============================] - 4s 81us/step - loss: 0.0098 - val_loss: 0.0097\n",
      "Epoch 15/100\n",
      "54000/54000 [==============================] - 4s 81us/step - loss: 0.0097 - val_loss: 0.0101\n",
      "Epoch 16/100\n",
      "54000/54000 [==============================] - 4s 82us/step - loss: 0.0096 - val_loss: 0.0095\n",
      "Epoch 17/100\n",
      "54000/54000 [==============================] - 4s 82us/step - loss: 0.0095 - val_loss: 0.0096\n",
      "Epoch 18/100\n",
      "54000/54000 [==============================] - 4s 82us/step - loss: 0.0095 - val_loss: 0.0094\n",
      "Epoch 19/100\n",
      "54000/54000 [==============================] - 4s 82us/step - loss: 0.0094 - val_loss: 0.0094\n",
      "Epoch 20/100\n",
      "54000/54000 [==============================] - 4s 82us/step - loss: 0.0093 - val_loss: 0.0092\n",
      "Epoch 21/100\n",
      "54000/54000 [==============================] - 4s 82us/step - loss: 0.0093 - val_loss: 0.0091\n",
      "Epoch 22/100\n",
      "54000/54000 [==============================] - 4s 82us/step - loss: 0.0092 - val_loss: 0.0091\n",
      "Epoch 23/100\n",
      "54000/54000 [==============================] - 4s 82us/step - loss: 0.0091 - val_loss: 0.0091\n",
      "Epoch 24/100\n",
      "54000/54000 [==============================] - 4s 82us/step - loss: 0.0091 - val_loss: 0.0090\n",
      "Epoch 25/100\n",
      "54000/54000 [==============================] - 4s 82us/step - loss: 0.0090 - val_loss: 0.0091\n",
      "Epoch 26/100\n",
      "54000/54000 [==============================] - 4s 83us/step - loss: 0.0090 - val_loss: 0.0093\n",
      "Epoch 27/100\n",
      "54000/54000 [==============================] - 4s 83us/step - loss: 0.0090 - val_loss: 0.0090\n",
      "Epoch 28/100\n",
      "54000/54000 [==============================] - 4s 83us/step - loss: 0.0089 - val_loss: 0.0089\n",
      "Epoch 29/100\n",
      "54000/54000 [==============================] - 4s 82us/step - loss: 0.0089 - val_loss: 0.0088\n",
      "Epoch 30/100\n",
      "54000/54000 [==============================] - 4s 83us/step - loss: 0.0088 - val_loss: 0.0091\n",
      "Epoch 31/100\n",
      "54000/54000 [==============================] - 4s 82us/step - loss: 0.0088 - val_loss: 0.0088\n",
      "Epoch 32/100\n",
      "54000/54000 [==============================] - 4s 82us/step - loss: 0.0088 - val_loss: 0.0088\n",
      "Epoch 33/100\n",
      "54000/54000 [==============================] - 4s 83us/step - loss: 0.0087 - val_loss: 0.0088\n",
      "Epoch 34/100\n",
      "54000/54000 [==============================] - 4s 82us/step - loss: 0.0087 - val_loss: 0.0087\n",
      "Epoch 35/100\n",
      "54000/54000 [==============================] - 4s 83us/step - loss: 0.0087 - val_loss: 0.0093\n",
      "Epoch 36/100\n",
      "54000/54000 [==============================] - 4s 82us/step - loss: 0.0086 - val_loss: 0.0086\n",
      "Epoch 37/100\n",
      "54000/54000 [==============================] - 4s 83us/step - loss: 0.0086 - val_loss: 0.0086\n",
      "Epoch 38/100\n",
      "54000/54000 [==============================] - 4s 82us/step - loss: 0.0086 - val_loss: 0.0091\n",
      "Epoch 39/100\n",
      "54000/54000 [==============================] - 4s 83us/step - loss: 0.0086 - val_loss: 0.0090\n",
      "Epoch 40/100\n",
      "54000/54000 [==============================] - 4s 83us/step - loss: 0.0085 - val_loss: 0.0086\n",
      "Epoch 41/100\n",
      "54000/54000 [==============================] - 4s 83us/step - loss: 0.0085 - val_loss: 0.0085\n",
      "Epoch 42/100\n",
      "54000/54000 [==============================] - 4s 83us/step - loss: 0.0085 - val_loss: 0.0085\n",
      "Epoch 43/100\n",
      "54000/54000 [==============================] - 4s 83us/step - loss: 0.0084 - val_loss: 0.0085\n",
      "Epoch 44/100\n",
      "54000/54000 [==============================] - 4s 83us/step - loss: 0.0084 - val_loss: 0.0085\n",
      "Epoch 45/100\n",
      "54000/54000 [==============================] - 4s 83us/step - loss: 0.0084 - val_loss: 0.0083\n",
      "Epoch 46/100\n",
      "54000/54000 [==============================] - 4s 83us/step - loss: 0.0084 - val_loss: 0.0083\n",
      "Epoch 47/100\n",
      "54000/54000 [==============================] - 4s 83us/step - loss: 0.0083 - val_loss: 0.0084\n",
      "Epoch 48/100\n",
      "54000/54000 [==============================] - 4s 83us/step - loss: 0.0083 - val_loss: 0.0084\n",
      "Epoch 49/100\n",
      "54000/54000 [==============================] - 5s 83us/step - loss: 0.0083 - val_loss: 0.0086\n",
      "Epoch 50/100\n",
      "54000/54000 [==============================] - 4s 83us/step - loss: 0.0083 - val_loss: 0.0083\n",
      "Epoch 51/100\n",
      "54000/54000 [==============================] - 4s 83us/step - loss: 0.0083 - val_loss: 0.0083\n",
      "Epoch 52/100\n",
      "54000/54000 [==============================] - 5s 84us/step - loss: 0.0082 - val_loss: 0.0082\n",
      "Epoch 53/100\n",
      "54000/54000 [==============================] - 5s 83us/step - loss: 0.0082 - val_loss: 0.0081\n",
      "Epoch 54/100\n",
      "54000/54000 [==============================] - 5s 84us/step - loss: 0.0082 - val_loss: 0.0082\n",
      "Epoch 55/100\n",
      "54000/54000 [==============================] - 4s 83us/step - loss: 0.0082 - val_loss: 0.0082\n",
      "Epoch 56/100\n",
      "54000/54000 [==============================] - 4s 83us/step - loss: 0.0081 - val_loss: 0.0081\n",
      "Epoch 57/100\n",
      "54000/54000 [==============================] - 4s 83us/step - loss: 0.0081 - val_loss: 0.0081\n",
      "Epoch 58/100\n",
      "54000/54000 [==============================] - 4s 83us/step - loss: 0.0081 - val_loss: 0.0082\n",
      "Epoch 59/100\n",
      "54000/54000 [==============================] - 4s 83us/step - loss: 0.0081 - val_loss: 0.0081\n",
      "Epoch 60/100\n",
      "54000/54000 [==============================] - 4s 83us/step - loss: 0.0081 - val_loss: 0.0081\n",
      "Epoch 61/100\n",
      "54000/54000 [==============================] - 4s 83us/step - loss: 0.0081 - val_loss: 0.0080\n",
      "Epoch 62/100\n",
      "54000/54000 [==============================] - 4s 83us/step - loss: 0.0081 - val_loss: 0.0080\n",
      "Epoch 63/100\n",
      "54000/54000 [==============================] - 5s 87us/step - loss: 0.0080 - val_loss: 0.0080\n",
      "Epoch 64/100\n",
      "54000/54000 [==============================] - 4s 83us/step - loss: 0.0080 - val_loss: 0.0081\n",
      "Epoch 65/100\n",
      "54000/54000 [==============================] - 5s 84us/step - loss: 0.0080 - val_loss: 0.0082\n",
      "Epoch 66/100\n",
      "54000/54000 [==============================] - 5s 84us/step - loss: 0.0080 - val_loss: 0.0082\n",
      "Epoch 67/100\n",
      "54000/54000 [==============================] - 5s 84us/step - loss: 0.0080 - val_loss: 0.0081\n",
      "Epoch 68/100\n",
      "54000/54000 [==============================] - 5s 85us/step - loss: 0.0080 - val_loss: 0.0080\n",
      "Epoch 69/100\n",
      "54000/54000 [==============================] - 5s 84us/step - loss: 0.0080 - val_loss: 0.0079\n",
      "Epoch 70/100\n",
      "54000/54000 [==============================] - 5s 85us/step - loss: 0.0079 - val_loss: 0.0080\n",
      "Epoch 71/100\n",
      "54000/54000 [==============================] - 5s 85us/step - loss: 0.0079 - val_loss: 0.0080\n",
      "Epoch 72/100\n",
      "54000/54000 [==============================] - 5s 85us/step - loss: 0.0079 - val_loss: 0.0078\n",
      "Epoch 73/100\n",
      "54000/54000 [==============================] - 5s 85us/step - loss: 0.0079 - val_loss: 0.0081\n",
      "Epoch 74/100\n",
      "54000/54000 [==============================] - 5s 85us/step - loss: 0.0079 - val_loss: 0.0079\n",
      "Epoch 75/100\n",
      "54000/54000 [==============================] - 5s 86us/step - loss: 0.0079 - val_loss: 0.0079\n",
      "Epoch 76/100\n",
      "54000/54000 [==============================] - 5s 85us/step - loss: 0.0079 - val_loss: 0.0079\n",
      "Epoch 77/100\n",
      "54000/54000 [==============================] - 4s 80us/step - loss: 0.0079 - val_loss: 0.0079\n",
      "10000/10000 [==============================] - 0s 23us/step\n"
     ]
    }
   ],
   "source": [
    "autoencoder_deep, mse = train_autoencoder(path, \n",
    "                                          autoencoder_conv, \n",
    "                                          x_train=X_train_scaled, \n",
    "                                          x_test=X_test_scaled)"
   ]
  },
  {
   "cell_type": "code",
   "execution_count": 22,
   "metadata": {},
   "outputs": [
    {
     "data": {
      "text/plain": [
       "(0.007856989799439907, 0.0886396626767042)"
      ]
     },
     "execution_count": 22,
     "metadata": {},
     "output_type": "execute_result"
    }
   ],
   "source": [
    "mse, mse**.5"
   ]
  },
  {
   "cell_type": "code",
   "execution_count": 16,
   "metadata": {},
   "outputs": [],
   "source": [
    "autoencoder_conv.load_weights(path)"
   ]
  },
  {
   "cell_type": "code",
   "execution_count": 23,
   "metadata": {},
   "outputs": [
    {
     "data": {
      "text/plain": [
       "(10000, 28, 28, 1)"
      ]
     },
     "execution_count": 23,
     "metadata": {},
     "output_type": "execute_result"
    }
   ],
   "source": [
    "reconstructed_images = autoencoder_deep.predict(X_test_scaled)\n",
    "reconstructed_images.shape"
   ]
  },
  {
   "cell_type": "code",
   "execution_count": 26,
   "metadata": {},
   "outputs": [
    {
     "data": {
      "image/png": "[encoded data removed]",
      "text/plain": [
       "<Figure size 1440x288 with 20 Axes>"
      ]
     },
     "metadata": {},
     "output_type": "display_data"
    }
   ],
   "source": [
    "fig, axes = plt.subplots(ncols=n_classes, nrows=2, figsize=(20, 4))\n",
    "for i in range(n_classes):\n",
    "    \n",
    "    axes[0, i].imshow(X_test_scaled[i].reshape(image_size, image_size), cmap='gray')\n",
    "    axes[0, i].axis('off')\n",
    "\n",
    "    axes[1, i].imshow(reconstructed_images[i].reshape(image_size, image_size) , cmap='gray')\n",
    "    axes[1, i].axis('off')"
   ]
  },
  {
   "cell_type": "markdown",
   "metadata": {},
   "source": [
    "## Denoising Autoencoder"
   ]
  },
  {
   "cell_type": "code",
   "execution_count": 28,
   "metadata": {},
   "outputs": [],
   "source": [
    "def add_noise(x, noise_factor=.3):\n",
    "    return np.clip(x  + noise_factor * np.random.normal(size=x.shape), 0, 1)"
   ]
  },
  {
   "cell_type": "code",
   "execution_count": 29,
   "metadata": {},
   "outputs": [],
   "source": [
    "X_train_noisy = add_noise(X_train_scaled)\n",
    "X_test_noisy = add_noise(X_test_scaled)"
   ]
  },
  {
   "cell_type": "code",
   "execution_count": 30,
   "metadata": {},
   "outputs": [
    {
     "data": {
      "image/png": "[encoded data removed]",
      "text/plain": [
       "<Figure size 1440x288 with 10 Axes>"
      ]
     },
     "metadata": {},
     "output_type": "display_data"
    }
   ],
   "source": [
    "fig, axes = plt.subplots(nrows=2, ncols=5, figsize=(20, 4))\n",
    "axes = axes.flatten()\n",
    "for i, ax in enumerate(axes):\n",
    "    ax.imshow(X_test_noisy[i].reshape(28, 28), cmap='gray')\n",
    "    ax.axis('off')"
   ]
  },
  {
   "cell_type": "code",
   "execution_count": 31,
   "metadata": {},
   "outputs": [],
   "source": [
    "x = Conv2D(filters=32, kernel_size=(3, 3), activation='relu', padding='same', name='Encoding_Conv_1')(input_)\n",
    "x = MaxPooling2D(pool_size=(2, 2), padding='same', name='Encoding_Max_1')(x)\n",
    "x = Conv2D(filters=32, kernel_size=(3, 3), activation='relu', padding='same', name='Encoding_Conv_2')(x)\n",
    "encoded_conv = MaxPooling2D(pool_size=(2, 2), padding='same', name='Encoding_Max_3')(x)"
   ]
  },
  {
   "cell_type": "code",
   "execution_count": 32,
   "metadata": {},
   "outputs": [],
   "source": [
    "x = Conv2D(filters=32, kernel_size=(3, 3), activation='relu', padding='same', name='Decoding_Conv_1')(encoded_conv)\n",
    "x = UpSampling2D(size=(2, 2), name='Decoding_Upsample_1')(x)\n",
    "x = Conv2D(filters=32, kernel_size=(3, 3), activation='relu', padding='same', name='Decoding_Conv_2')(x)\n",
    "x = UpSampling2D(size=(2, 2), name='Decoding_Upsample_2')(x)\n",
    "decoded_conv = Conv2D(filters=1, kernel_size=(3, 3), activation='sigmoid', padding='same', name='Decoding_Conv_4')(x)"
   ]
  },
  {
   "cell_type": "code",
   "execution_count": 36,
   "metadata": {},
   "outputs": [],
   "source": [
    "autoencoder_denoise = Model(input_, decoded_conv)\n",
    "autoencoder_denoise.compile(optimizer='adam', loss='mse')"
   ]
  },
  {
   "cell_type": "code",
   "execution_count": 37,
   "metadata": {},
   "outputs": [],
   "source": [
    "path = 'models/fashion_mnist.autencoder_denoise.32.weights'"
   ]
  },
  {
   "cell_type": "code",
   "execution_count": 63,
   "metadata": {},
   "outputs": [],
   "source": [
    "callbacks = [EarlyStopping(patience=5, restore_best_weights=True),\n",
    "                 ModelCheckpoint(filepath=path, save_best_only=True, save_weights_only=True)]"
   ]
  },
  {
   "cell_type": "code",
   "execution_count": 64,
   "metadata": {
    "scrolled": false
   },
   "outputs": [
    {
     "name": "stdout",
     "output_type": "stream",
     "text": [
      "Train on 54000 samples, validate on 6000 samples\n",
      "Epoch 1/100\n",
      "54000/54000 [==============================] - 2s 39us/step - loss: 0.0242 - val_loss: 0.0152\n",
      "Epoch 2/100\n",
      "54000/54000 [==============================] - 2s 34us/step - loss: 0.0143 - val_loss: 0.0135\n",
      "Epoch 3/100\n",
      "54000/54000 [==============================] - 2s 34us/step - loss: 0.0130 - val_loss: 0.0125\n",
      "Epoch 4/100\n",
      "54000/54000 [==============================] - 2s 34us/step - loss: 0.0122 - val_loss: 0.0118\n",
      "Epoch 5/100\n",
      "54000/54000 [==============================] - 2s 34us/step - loss: 0.0115 - val_loss: 0.0111\n",
      "Epoch 6/100\n",
      "54000/54000 [==============================] - 2s 34us/step - loss: 0.0109 - val_loss: 0.0107\n",
      "Epoch 7/100\n",
      "54000/54000 [==============================] - 2s 34us/step - loss: 0.0105 - val_loss: 0.0103\n",
      "Epoch 8/100\n",
      "54000/54000 [==============================] - 2s 35us/step - loss: 0.0102 - val_loss: 0.0102\n",
      "Epoch 9/100\n",
      "54000/54000 [==============================] - 2s 34us/step - loss: 0.0100 - val_loss: 0.0099\n",
      "Epoch 10/100\n",
      "54000/54000 [==============================] - 2s 34us/step - loss: 0.0098 - val_loss: 0.0098\n",
      "Epoch 11/100\n",
      "54000/54000 [==============================] - 2s 34us/step - loss: 0.0097 - val_loss: 0.0097\n",
      "Epoch 12/100\n",
      "54000/54000 [==============================] - 2s 34us/step - loss: 0.0096 - val_loss: 0.0096\n",
      "Epoch 13/100\n",
      "54000/54000 [==============================] - 2s 34us/step - loss: 0.0095 - val_loss: 0.0094\n",
      "Epoch 14/100\n",
      "54000/54000 [==============================] - 2s 35us/step - loss: 0.0094 - val_loss: 0.0094\n",
      "Epoch 15/100\n",
      "54000/54000 [==============================] - 2s 34us/step - loss: 0.0093 - val_loss: 0.0094\n",
      "Epoch 16/100\n",
      "54000/54000 [==============================] - 2s 34us/step - loss: 0.0093 - val_loss: 0.0092\n",
      "Epoch 17/100\n",
      "54000/54000 [==============================] - 2s 35us/step - loss: 0.0092 - val_loss: 0.0092\n",
      "Epoch 18/100\n",
      "54000/54000 [==============================] - 2s 35us/step - loss: 0.0091 - val_loss: 0.0092\n",
      "Epoch 19/100\n",
      "54000/54000 [==============================] - 2s 34us/step - loss: 0.0091 - val_loss: 0.0091\n",
      "Epoch 20/100\n",
      "54000/54000 [==============================] - 2s 34us/step - loss: 0.0090 - val_loss: 0.0091\n",
      "Epoch 21/100\n",
      "54000/54000 [==============================] - 2s 34us/step - loss: 0.0090 - val_loss: 0.0090\n",
      "Epoch 22/100\n",
      "54000/54000 [==============================] - 2s 34us/step - loss: 0.0089 - val_loss: 0.0090\n",
      "Epoch 23/100\n",
      "54000/54000 [==============================] - 2s 34us/step - loss: 0.0089 - val_loss: 0.0089\n",
      "Epoch 24/100\n",
      "54000/54000 [==============================] - 2s 34us/step - loss: 0.0089 - val_loss: 0.0089\n",
      "Epoch 25/100\n",
      "54000/54000 [==============================] - 2s 34us/step - loss: 0.0088 - val_loss: 0.0089\n",
      "Epoch 26/100\n",
      "54000/54000 [==============================] - 2s 34us/step - loss: 0.0088 - val_loss: 0.0089\n",
      "Epoch 27/100\n",
      "54000/54000 [==============================] - 2s 34us/step - loss: 0.0088 - val_loss: 0.0089\n",
      "Epoch 28/100\n",
      "54000/54000 [==============================] - 2s 34us/step - loss: 0.0088 - val_loss: 0.0088\n",
      "Epoch 29/100\n",
      "54000/54000 [==============================] - 2s 34us/step - loss: 0.0087 - val_loss: 0.0088\n",
      "Epoch 30/100\n",
      "54000/54000 [==============================] - 2s 34us/step - loss: 0.0087 - val_loss: 0.0088\n",
      "Epoch 31/100\n",
      "54000/54000 [==============================] - 2s 35us/step - loss: 0.0087 - val_loss: 0.0088\n",
      "Epoch 32/100\n",
      "54000/54000 [==============================] - 2s 35us/step - loss: 0.0087 - val_loss: 0.0087\n",
      "Epoch 33/100\n",
      "54000/54000 [==============================] - 2s 35us/step - loss: 0.0087 - val_loss: 0.0088\n",
      "Epoch 34/100\n",
      "54000/54000 [==============================] - 2s 35us/step - loss: 0.0087 - val_loss: 0.0087\n",
      "Epoch 35/100\n",
      "54000/54000 [==============================] - 2s 35us/step - loss: 0.0087 - val_loss: 0.0087\n",
      "Epoch 36/100\n",
      "54000/54000 [==============================] - 2s 35us/step - loss: 0.0086 - val_loss: 0.0087\n",
      "Epoch 37/100\n",
      "54000/54000 [==============================] - 2s 35us/step - loss: 0.0086 - val_loss: 0.0087\n",
      "Epoch 38/100\n",
      "54000/54000 [==============================] - 2s 35us/step - loss: 0.0086 - val_loss: 0.0087\n",
      "Epoch 39/100\n",
      "54000/54000 [==============================] - 2s 35us/step - loss: 0.0086 - val_loss: 0.0086\n",
      "Epoch 40/100\n",
      "54000/54000 [==============================] - 2s 35us/step - loss: 0.0086 - val_loss: 0.0086\n",
      "Epoch 41/100\n",
      "54000/54000 [==============================] - 2s 35us/step - loss: 0.0086 - val_loss: 0.0086\n",
      "Epoch 42/100\n",
      "54000/54000 [==============================] - 2s 35us/step - loss: 0.0086 - val_loss: 0.0087\n",
      "Epoch 43/100\n",
      "54000/54000 [==============================] - 2s 36us/step - loss: 0.0086 - val_loss: 0.0087\n",
      "Epoch 44/100\n",
      "54000/54000 [==============================] - 2s 35us/step - loss: 0.0085 - val_loss: 0.0086\n",
      "Epoch 45/100\n",
      "54000/54000 [==============================] - 2s 35us/step - loss: 0.0085 - val_loss: 0.0086\n",
      "Epoch 46/100\n",
      "54000/54000 [==============================] - 2s 35us/step - loss: 0.0085 - val_loss: 0.0086\n",
      "Epoch 47/100\n",
      "54000/54000 [==============================] - 2s 35us/step - loss: 0.0085 - val_loss: 0.0087\n",
      "Epoch 48/100\n",
      "54000/54000 [==============================] - 2s 35us/step - loss: 0.0085 - val_loss: 0.0086\n",
      "Epoch 49/100\n",
      "54000/54000 [==============================] - 2s 35us/step - loss: 0.0085 - val_loss: 0.0086\n",
      "Epoch 50/100\n",
      "54000/54000 [==============================] - 2s 35us/step - loss: 0.0085 - val_loss: 0.0086\n",
      "Epoch 51/100\n",
      "54000/54000 [==============================] - 2s 35us/step - loss: 0.0085 - val_loss: 0.0086\n",
      "Epoch 52/100\n",
      "54000/54000 [==============================] - 2s 35us/step - loss: 0.0085 - val_loss: 0.0086\n",
      "Epoch 53/100\n",
      "54000/54000 [==============================] - 2s 35us/step - loss: 0.0085 - val_loss: 0.0086\n",
      "Epoch 54/100\n",
      "54000/54000 [==============================] - 2s 35us/step - loss: 0.0085 - val_loss: 0.0085\n",
      "Epoch 55/100\n",
      "54000/54000 [==============================] - 2s 36us/step - loss: 0.0085 - val_loss: 0.0087\n",
      "Epoch 56/100\n",
      "54000/54000 [==============================] - 2s 36us/step - loss: 0.0085 - val_loss: 0.0085\n",
      "Epoch 57/100\n",
      "54000/54000 [==============================] - 2s 34us/step - loss: 0.0085 - val_loss: 0.0085\n",
      "Epoch 58/100\n",
      "54000/54000 [==============================] - 2s 35us/step - loss: 0.0084 - val_loss: 0.0087\n",
      "Epoch 59/100\n",
      "54000/54000 [==============================] - 2s 34us/step - loss: 0.0084 - val_loss: 0.0085\n",
      "Epoch 60/100\n",
      "54000/54000 [==============================] - 2s 34us/step - loss: 0.0084 - val_loss: 0.0086\n",
      "Epoch 61/100\n",
      "54000/54000 [==============================] - 2s 35us/step - loss: 0.0084 - val_loss: 0.0086\n",
      "Epoch 62/100\n",
      "54000/54000 [==============================] - 2s 35us/step - loss: 0.0084 - val_loss: 0.0085\n",
      "Epoch 63/100\n",
      "54000/54000 [==============================] - 2s 35us/step - loss: 0.0084 - val_loss: 0.0086\n",
      "Epoch 64/100\n",
      "54000/54000 [==============================] - 2s 35us/step - loss: 0.0084 - val_loss: 0.0085\n"
     ]
    },
    {
     "data": {
      "text/plain": [
       "<keras.callbacks.History at 0x7f0a3af722e8>"
      ]
     },
     "execution_count": 64,
     "metadata": {},
     "output_type": "execute_result"
    }
   ],
   "source": [
    "autoencoder_denoise.fit(x=X_train_noisy,\n",
    "                        y=X_train_scaled,\n",
    "                        epochs=100,\n",
    "                        batch_size=128,\n",
    "                        shuffle=True,\n",
    "                        validation_split=.1,\n",
    "                        callbacks=callbacks)"
   ]
  },
  {
   "cell_type": "code",
   "execution_count": 38,
   "metadata": {},
   "outputs": [],
   "source": [
    "autoencoder_denoise.load_weights(path)"
   ]
  },
  {
   "cell_type": "code",
   "execution_count": 39,
   "metadata": {},
   "outputs": [
    {
     "name": "stdout",
     "output_type": "stream",
     "text": [
      "10000/10000 [==============================] - 1s 68us/step\n"
     ]
    },
    {
     "data": {
      "text/plain": [
       "0.008574924531579018"
      ]
     },
     "execution_count": 39,
     "metadata": {},
     "output_type": "execute_result"
    }
   ],
   "source": [
    "mse = autoencoder_denoise.evaluate(x=X_test_noisy, y=X_test_scaled)\n",
    "mse"
   ]
  },
  {
   "cell_type": "code",
   "execution_count": 40,
   "metadata": {},
   "outputs": [
    {
     "data": {
      "text/plain": [
       "(10000, 28, 28, 1)"
      ]
     },
     "execution_count": 40,
     "metadata": {},
     "output_type": "execute_result"
    }
   ],
   "source": [
    "reconstructed_images = autoencoder_denoise.predict(X_test_noisy)\n",
    "reconstructed_images.shape"
   ]
  },
  {
   "cell_type": "code",
   "execution_count": 46,
   "metadata": {},
   "outputs": [
    {
     "data": {
      "image/png": "[encoded data removed]",
      "text/plain": [
       "<Figure size 1440x432 with 30 Axes>"
      ]
     },
     "metadata": {},
     "output_type": "display_data"
    }
   ],
   "source": [
    "fig, axes = plt.subplots(ncols=n_classes, nrows=3, figsize=(20, 6))\n",
    "for i in range(n_classes):\n",
    "    axes[0, i].imshow(X_test[i].reshape(image_size, image_size), cmap='gray')\n",
    "    axes[0, i].axis('off')\n",
    "    \n",
    "    axes[1, i].imshow(X_test_noisy[i].reshape(image_size, image_size), cmap='gray')\n",
    "    axes[1, i].axis('off')\n",
    "\n",
    "    axes[2, i].imshow(reconstructed_images[i].reshape(image_size, image_size) , cmap='gray')\n",
    "    axes[2, i].axis('off')\n",
    "fig.suptitle('Originals, Corrupted and Reconstructed Images', fontsize=20)\n",
    "fig.tight_layout()\n",
    "fig.subplots_adjust(top=.9)\n",
    "fig.savefig('figures/autoencoder_denoising', dpi=300)"
   ]
  },
  {
   "cell_type": "code",
   "execution_count": null,
   "metadata": {},
   "outputs": [],
   "source": []
  }
 ],
 "metadata": {
  "celltoolbar": "Slideshow",
  "hide_input": false,
  "kernelspec": {
   "display_name": "Python 3",
   "language": "python",
   "name": "python3"
  },
  "language_info": {
   "codemirror_mode": {
    "name": "ipython",
    "version": 3
   },
   "file_extension": ".py",
   "mimetype": "text/x-python",
   "name": "python",
   "nbconvert_exporter": "python",
   "pygments_lexer": "ipython3",
   "version": "3.5.2"
  },
  "toc": {
   "base_numbering": 1,
   "nav_menu": {},
   "number_sections": true,
   "sideBar": true,
   "skip_h1_title": false,
   "title_cell": "Table of Contents",
   "title_sidebar": "Contents",
   "toc_cell": false,
   "toc_position": {
    "height": "calc(100% - 180px)",
    "left": "10px",
    "top": "150px",
    "width": "282.222px"
   },
   "toc_section_display": "block",
   "toc_window_display": true
  }
 },
 "nbformat": 4,
 "nbformat_minor": 1
}
