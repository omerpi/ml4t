{
 "cells": [
  {
   "cell_type": "markdown",
   "metadata": {},
   "source": [
    "# How to transform data into factors"
   ]
  },
  {
   "cell_type": "markdown",
   "metadata": {},
   "source": [
    "Based on a conceptual understanding of key factor categories, their rationale and popular metrics, a key task is to identify new factors that may better capture the risks embodied by the return drivers laid out previously, or to find new ones. \n",
    "\n",
    "In either case, it will be important to compare the performance of innovative factors to that of known factors to identify incremental signal gains."
   ]
  },
  {
   "cell_type": "markdown",
   "metadata": {},
   "source": [
    "## Imports & Settings"
   ]
  },
  {
   "cell_type": "code",
   "execution_count": 1,
   "metadata": {
    "ExecuteTime": {
     "end_time": "2018-12-25T20:11:21.811956Z",
     "start_time": "2018-12-25T20:11:21.625862Z"
    }
   },
   "outputs": [],
   "source": [
    "%matplotlib inline\n",
    "\n",
    "import warnings\n",
    "from datetime import datetime\n",
    "import os\n",
    "from pathlib import Path\n",
    "import quandl\n",
    "import numpy as np\n",
    "import matplotlib.pyplot as plt\n",
    "import pandas as pd\n",
    "import pandas_datareader.data as web\n",
    "from pandas_datareader.famafrench import get_available_datasets\n",
    "from pyfinance.ols import PandasRollingOLS\n",
    "from sklearn.feature_selection import mutual_info_classif"
   ]
  },
  {
   "cell_type": "code",
   "execution_count": 2,
   "metadata": {
    "ExecuteTime": {
     "end_time": "2018-12-25T20:11:22.962072Z",
     "start_time": "2018-12-25T20:11:22.955098Z"
    }
   },
   "outputs": [],
   "source": [
    "warnings.filterwarnings('ignore')\n",
    "plt.style.use('fivethirtyeight')\n",
    "idx = pd.IndexSlice"
   ]
  },
  {
   "cell_type": "markdown",
   "metadata": {},
   "source": [
    "## Get Data"
   ]
  },
  {
   "cell_type": "markdown",
   "metadata": {},
   "source": [
    "The `assets.h5` store can be generated using the `get_data.py` script in the `data` folder in the root directory of this repo."
   ]
  },
  {
   "cell_type": "markdown",
   "metadata": {},
   "source": [
    "We load the Quandl stock price datasets covering the US equity markets 2000-18 using `pd.IndexSlice` to perform a slice operation on the `pd.MultiIndex`, select the adjusted close price and unpivot the column to convert the DataFrame to wide format with tickers in the columns and timestamps in the rows:"
   ]
  },
  {
   "cell_type": "code",
   "execution_count": 3,
   "metadata": {
    "ExecuteTime": {
     "end_time": "2018-12-25T20:20:58.388579Z",
     "start_time": "2018-12-25T20:20:54.763191Z"
    }
   },
   "outputs": [],
   "source": [
    "with pd.HDFStore('../../data/assets.h5') as store:\n",
    "    prices = store['quandl/wiki/prices'].loc[idx['2000':'2018', :], 'adj_close'].unstack('ticker')\n",
    "    stocks = store['us_equities/stocks'].loc[:, ['marketcap', 'ipoyear', 'sector']]\n",
    "    stocks = stocks[~stocks.index.duplicated()]"
   ]
  },
  {
   "cell_type": "markdown",
   "metadata": {},
   "source": [
    "### Keep data with stock info"
   ]
  },
  {
   "cell_type": "code",
   "execution_count": 39,
   "metadata": {
    "ExecuteTime": {
     "end_time": "2018-12-25T20:21:04.224845Z",
     "start_time": "2018-12-25T20:21:04.213399Z"
    }
   },
   "outputs": [
    {
     "name": "stdout",
     "output_type": "stream",
     "text": [
      "<class 'pandas.core.frame.DataFrame'>\n",
      "Index: 6834 entries, PIH to ZYME\n",
      "Data columns (total 3 columns):\n",
      "marketcap    5766 non-null float64\n",
      "ipoyear      3038 non-null float64\n",
      "sector       5288 non-null object\n",
      "dtypes: float64(2), object(1)\n",
      "memory usage: 213.6+ KB\n"
     ]
    }
   ],
   "source": [
    "stocks.info()"
   ]
  },
  {
   "cell_type": "code",
   "execution_count": 5,
   "metadata": {
    "ExecuteTime": {
     "end_time": "2018-12-25T20:21:04.314576Z",
     "start_time": "2018-12-25T20:21:04.227610Z"
    },
    "scrolled": true
   },
   "outputs": [
    {
     "name": "stdout",
     "output_type": "stream",
     "text": [
      "<class 'pandas.core.frame.DataFrame'>\n",
      "DatetimeIndex: 4706 entries, 2000-01-03 to 2018-03-27\n",
      "Columns: 3199 entries, A to ZUMZ\n",
      "dtypes: float64(3199)\n",
      "memory usage: 114.9 MB\n"
     ]
    }
   ],
   "source": [
    "prices.info()"
   ]
  },
  {
   "cell_type": "markdown",
   "metadata": {},
   "source": [
    "## Create monthly return series"
   ]
  },
  {
   "cell_type": "markdown",
   "metadata": {},
   "source": [
    "To reduce training time and experiment with strategies for longer time horizons, we convert the business-daily data to month-end frequency using the available adjusted close price:"
   ]
  },
  {
   "cell_type": "code",
   "execution_count": 6,
   "metadata": {
    "ExecuteTime": {
     "end_time": "2018-12-25T20:21:04.347475Z",
     "start_time": "2018-12-25T20:21:04.315535Z"
    }
   },
   "outputs": [],
   "source": [
    "monthly_prices = prices.resample('M').last()"
   ]
  },
  {
   "cell_type": "markdown",
   "metadata": {},
   "source": [
    "To capture time series dynamics that reflect, for example, momentum patterns, we compute historical returns using the method `.pct_change(n_periods)`, that is, returns over various monthly periods as identified by lags.\n",
    "\n",
    "We then convert the wide result back to long format with the `.stack()` method, use `.pipe()` to apply the `.clip()` method to the resulting `DataFrame`, and winsorize returns at the [1%, 99%] levels; that is, we cap outliers at these percentiles.\n",
    "\n",
    "Finally, we normalize returns using the geometric average. After using `.swaplevel()` to change the order of the `MultiIndex` levels, we obtain compounded monthly returns for six periods ranging from 1 to 12 months:"
   ]
  },
  {
   "cell_type": "code",
   "execution_count": 7,
   "metadata": {
    "ExecuteTime": {
     "end_time": "2018-12-25T20:21:11.219537Z",
     "start_time": "2018-12-25T20:21:04.349860Z"
    }
   },
   "outputs": [
    {
     "name": "stdout",
     "output_type": "stream",
     "text": [
      "<class 'pandas.core.frame.DataFrame'>\n",
      "MultiIndex: 521806 entries, (A, 2001-01-31 00:00:00) to (ZUMZ, 2018-03-31 00:00:00)\n",
      "Data columns (total 6 columns):\n",
      "return_1m     521806 non-null float64\n",
      "return_2m     521806 non-null float64\n",
      "return_3m     521806 non-null float64\n",
      "return_6m     521806 non-null float64\n",
      "return_9m     521806 non-null float64\n",
      "return_12m    521806 non-null float64\n",
      "dtypes: float64(6)\n",
      "memory usage: 25.9+ MB\n"
     ]
    }
   ],
   "source": [
    "outlier_cutoff = 0.01\n",
    "data = pd.DataFrame()\n",
    "lags = [1, 2, 3, 6, 9, 12]\n",
    "for lag in lags:\n",
    "    data[f'return_{lag}m'] = (monthly_prices\n",
    "                           .pct_change(lag)\n",
    "                           .stack()\n",
    "                           .pipe(lambda x: x.clip(lower=x.quantile(outlier_cutoff),\n",
    "                                                  upper=x.quantile(1-outlier_cutoff)))\n",
    "                           .add(1)\n",
    "                           .pow(1/lag)\n",
    "                           .sub(1)\n",
    "                           )\n",
    "data = data.swaplevel().dropna()\n",
    "data.info()"
   ]
  },
  {
   "cell_type": "markdown",
   "metadata": {},
   "source": [
    "## Drop stocks with less than 10 yrs of returns"
   ]
  },
  {
   "cell_type": "code",
   "execution_count": 8,
   "metadata": {
    "ExecuteTime": {
     "end_time": "2018-12-25T20:21:14.273535Z",
     "start_time": "2018-12-25T20:21:11.221231Z"
    }
   },
   "outputs": [
    {
     "name": "stdout",
     "output_type": "stream",
     "text": [
      "<class 'pandas.core.frame.DataFrame'>\n",
      "MultiIndex: 465935 entries, (A, 2001-01-31 00:00:00) to (ZUMZ, 2018-03-31 00:00:00)\n",
      "Data columns (total 6 columns):\n",
      "return_1m     465935 non-null float64\n",
      "return_2m     465935 non-null float64\n",
      "return_3m     465935 non-null float64\n",
      "return_6m     465935 non-null float64\n",
      "return_9m     465935 non-null float64\n",
      "return_12m    465935 non-null float64\n",
      "dtypes: float64(6)\n",
      "memory usage: 23.1+ MB\n"
     ]
    }
   ],
   "source": [
    "min_obs = 120\n",
    "nobs = data.groupby(level='ticker').size()\n",
    "keep = nobs[nobs>min_obs].index\n",
    "\n",
    "data = data.loc[idx[keep,:], :]\n",
    "data.info()"
   ]
  },
  {
   "cell_type": "code",
   "execution_count": 9,
   "metadata": {
    "ExecuteTime": {
     "end_time": "2018-12-25T20:21:14.409888Z",
     "start_time": "2018-12-25T20:21:14.274835Z"
    }
   },
   "outputs": [
    {
     "data": {
      "text/html": [
       "<div>\n",
       "<style scoped>\n",
       "    .dataframe tbody tr th:only-of-type {\n",
       "        vertical-align: middle;\n",
       "    }\n",
       "\n",
       "    .dataframe tbody tr th {\n",
       "        vertical-align: top;\n",
       "    }\n",
       "\n",
       "    .dataframe thead th {\n",
       "        text-align: right;\n",
       "    }\n",
       "</style>\n",
       "<table border=\"1\" class=\"dataframe\">\n",
       "  <thead>\n",
       "    <tr style=\"text-align: right;\">\n",
       "      <th></th>\n",
       "      <th>return_1m</th>\n",
       "      <th>return_2m</th>\n",
       "      <th>return_3m</th>\n",
       "      <th>return_6m</th>\n",
       "      <th>return_9m</th>\n",
       "      <th>return_12m</th>\n",
       "    </tr>\n",
       "  </thead>\n",
       "  <tbody>\n",
       "    <tr>\n",
       "      <th>count</th>\n",
       "      <td>465935.000000</td>\n",
       "      <td>465935.000000</td>\n",
       "      <td>465935.000000</td>\n",
       "      <td>465935.000000</td>\n",
       "      <td>465935.000000</td>\n",
       "      <td>465935.000000</td>\n",
       "    </tr>\n",
       "    <tr>\n",
       "      <th>mean</th>\n",
       "      <td>0.011694</td>\n",
       "      <td>0.008454</td>\n",
       "      <td>0.007306</td>\n",
       "      <td>0.006036</td>\n",
       "      <td>0.005542</td>\n",
       "      <td>0.005285</td>\n",
       "    </tr>\n",
       "    <tr>\n",
       "      <th>std</th>\n",
       "      <td>0.117872</td>\n",
       "      <td>0.084059</td>\n",
       "      <td>0.069195</td>\n",
       "      <td>0.050674</td>\n",
       "      <td>0.041919</td>\n",
       "      <td>0.036635</td>\n",
       "    </tr>\n",
       "    <tr>\n",
       "      <th>min</th>\n",
       "      <td>-0.343442</td>\n",
       "      <td>-0.269341</td>\n",
       "      <td>-0.229978</td>\n",
       "      <td>-0.175426</td>\n",
       "      <td>-0.145071</td>\n",
       "      <td>-0.125787</td>\n",
       "    </tr>\n",
       "    <tr>\n",
       "      <th>25%</th>\n",
       "      <td>-0.046679</td>\n",
       "      <td>-0.031096</td>\n",
       "      <td>-0.024413</td>\n",
       "      <td>-0.015632</td>\n",
       "      <td>-0.012035</td>\n",
       "      <td>-0.009962</td>\n",
       "    </tr>\n",
       "    <tr>\n",
       "      <th>50%</th>\n",
       "      <td>0.006369</td>\n",
       "      <td>0.007476</td>\n",
       "      <td>0.007810</td>\n",
       "      <td>0.008024</td>\n",
       "      <td>0.007924</td>\n",
       "      <td>0.007852</td>\n",
       "    </tr>\n",
       "    <tr>\n",
       "      <th>75%</th>\n",
       "      <td>0.065314</td>\n",
       "      <td>0.048890</td>\n",
       "      <td>0.041722</td>\n",
       "      <td>0.031742</td>\n",
       "      <td>0.027062</td>\n",
       "      <td>0.024439</td>\n",
       "    </tr>\n",
       "    <tr>\n",
       "      <th>max</th>\n",
       "      <td>0.449446</td>\n",
       "      <td>0.294075</td>\n",
       "      <td>0.230064</td>\n",
       "      <td>0.159207</td>\n",
       "      <td>0.128147</td>\n",
       "      <td>0.108809</td>\n",
       "    </tr>\n",
       "  </tbody>\n",
       "</table>\n",
       "</div>"
      ],
      "text/plain": [
       "           return_1m      return_2m      return_3m      return_6m  \\\n",
       "count  465935.000000  465935.000000  465935.000000  465935.000000   \n",
       "mean        0.011694       0.008454       0.007306       0.006036   \n",
       "std         0.117872       0.084059       0.069195       0.050674   \n",
       "min        -0.343442      -0.269341      -0.229978      -0.175426   \n",
       "25%        -0.046679      -0.031096      -0.024413      -0.015632   \n",
       "50%         0.006369       0.007476       0.007810       0.008024   \n",
       "75%         0.065314       0.048890       0.041722       0.031742   \n",
       "max         0.449446       0.294075       0.230064       0.159207   \n",
       "\n",
       "           return_9m     return_12m  \n",
       "count  465935.000000  465935.000000  \n",
       "mean        0.005542       0.005285  \n",
       "std         0.041919       0.036635  \n",
       "min        -0.145071      -0.125787  \n",
       "25%        -0.012035      -0.009962  \n",
       "50%         0.007924       0.007852  \n",
       "75%         0.027062       0.024439  \n",
       "max         0.128147       0.108809  "
      ]
     },
     "execution_count": 9,
     "metadata": {},
     "output_type": "execute_result"
    }
   ],
   "source": [
    "data.describe()"
   ]
  },
  {
   "cell_type": "code",
   "execution_count": 10,
   "metadata": {
    "ExecuteTime": {
     "end_time": "2018-12-25T20:21:16.941421Z",
     "start_time": "2018-12-25T20:21:14.411226Z"
    }
   },
   "outputs": [
    {
     "data": {
      "image/png": "[encoded data removed]",
      "text/plain": [
       "<Figure size 720x720 with 4 Axes>"
      ]
     },
     "metadata": {},
     "output_type": "display_data"
    }
   ],
   "source": [
    "# cmap = sns.diverging_palette(10, 220, as_cmap=True)\n",
    "sns.clustermap(data.corr('spearman'), annot=True, center=0, cmap='Blues');"
   ]
  },
  {
   "cell_type": "code",
   "execution_count": 11,
   "metadata": {
    "ExecuteTime": {
     "end_time": "2018-12-25T20:21:16.963520Z",
     "start_time": "2018-12-25T20:21:16.942416Z"
    }
   },
   "outputs": [
    {
     "data": {
      "text/plain": [
       "2385"
      ]
     },
     "execution_count": 11,
     "metadata": {},
     "output_type": "execute_result"
    }
   ],
   "source": [
    "data.index.get_level_values('ticker').nunique()"
   ]
  },
  {
   "cell_type": "markdown",
   "metadata": {},
   "source": [
    "## Rolling Factor Betas"
   ]
  },
  {
   "cell_type": "markdown",
   "metadata": {},
   "source": [
    "We will introduce the Fama—French data to estimate the exposure of assets to common risk factors using linear regression in Chapter 8, Time Series Models."
   ]
  },
  {
   "cell_type": "markdown",
   "metadata": {},
   "source": [
    "The five Fama—French factors, namely market risk, size, value, operating profitability, and investment have been shown empirically to explain asset returns and are commonly used to assess the risk/return profile of portfolios. Hence, it is natural to include past factor exposures as financial features in models that aim to predict future returns."
   ]
  },
  {
   "cell_type": "markdown",
   "metadata": {},
   "source": [
    "We can access the historical factor returns using the `pandas-datareader` and estimate historical exposures using the `PandasRollingOLS` rolling linear regression functionality in the `pyfinance` library as follows:"
   ]
  },
  {
   "cell_type": "markdown",
   "metadata": {},
   "source": [
    "Use Fama-French research factors to estimate the factor exposures of the stock in the dataset to the 5 factors market risk, size, value, operating profitability and investment."
   ]
  },
  {
   "cell_type": "code",
   "execution_count": 12,
   "metadata": {
    "ExecuteTime": {
     "end_time": "2018-12-25T20:21:17.055928Z",
     "start_time": "2018-12-25T20:21:16.964925Z"
    },
    "scrolled": false
   },
   "outputs": [
    {
     "name": "stdout",
     "output_type": "stream",
     "text": [
      "<class 'pandas.core.frame.DataFrame'>\n",
      "DatetimeIndex: 229 entries, 2000-01-31 to 2019-01-31\n",
      "Freq: M\n",
      "Data columns (total 5 columns):\n",
      "Mkt-RF    229 non-null float64\n",
      "SMB       229 non-null float64\n",
      "HML       229 non-null float64\n",
      "RMW       229 non-null float64\n",
      "CMA       229 non-null float64\n",
      "dtypes: float64(5)\n",
      "memory usage: 10.7 KB\n"
     ]
    }
   ],
   "source": [
    "factors = ['Mkt-RF', 'SMB', 'HML', 'RMW', 'CMA']\n",
    "factor_data = web.DataReader('F-F_Research_Data_5_Factors_2x3', 'famafrench', start='2000')[0].drop('RF', axis=1)\n",
    "factor_data.index = factor_data.index.to_timestamp()\n",
    "factor_data = factor_data.resample('M').last().div(100)\n",
    "factor_data.index.name = 'date'\n",
    "factor_data.info()"
   ]
  },
  {
   "cell_type": "code",
   "execution_count": 13,
   "metadata": {
    "ExecuteTime": {
     "end_time": "2018-12-25T20:21:17.331194Z",
     "start_time": "2018-12-25T20:21:17.056929Z"
    },
    "scrolled": true
   },
   "outputs": [
    {
     "name": "stdout",
     "output_type": "stream",
     "text": [
      "<class 'pandas.core.frame.DataFrame'>\n",
      "MultiIndex: 465935 entries, (A, 2001-01-31 00:00:00) to (ZUMZ, 2018-03-31 00:00:00)\n",
      "Data columns (total 6 columns):\n",
      "Mkt-RF       465935 non-null float64\n",
      "SMB          465935 non-null float64\n",
      "HML          465935 non-null float64\n",
      "RMW          465935 non-null float64\n",
      "CMA          465935 non-null float64\n",
      "return_1m    465935 non-null float64\n",
      "dtypes: float64(6)\n",
      "memory usage: 23.1+ MB\n"
     ]
    }
   ],
   "source": [
    "factor_data = factor_data.join(data['return_1m']).sort_index()\n",
    "factor_data.info()"
   ]
  },
  {
   "cell_type": "code",
   "execution_count": 14,
   "metadata": {
    "ExecuteTime": {
     "end_time": "2018-12-25T20:21:19.844785Z",
     "start_time": "2018-12-25T20:21:17.332666Z"
    }
   },
   "outputs": [],
   "source": [
    "T = 24\n",
    "betas = (factor_data\n",
    "         .groupby(level='ticker', group_keys=False)\n",
    "         .apply(lambda x: PandasRollingOLS(window=min(T, x.shape[0]-1), y=x.return_1m, x=x.drop('return_1m', axis=1)).beta))"
   ]
  },
  {
   "cell_type": "code",
   "execution_count": 15,
   "metadata": {
    "ExecuteTime": {
     "end_time": "2018-12-25T20:21:20.017589Z",
     "start_time": "2018-12-25T20:21:19.845761Z"
    }
   },
   "outputs": [
    {
     "data": {
      "text/html": [
       "<div>\n",
       "<style scoped>\n",
       "    .dataframe tbody tr th:only-of-type {\n",
       "        vertical-align: middle;\n",
       "    }\n",
       "\n",
       "    .dataframe tbody tr th {\n",
       "        vertical-align: top;\n",
       "    }\n",
       "\n",
       "    .dataframe thead th {\n",
       "        text-align: right;\n",
       "    }\n",
       "</style>\n",
       "<table border=\"1\" class=\"dataframe\">\n",
       "  <thead>\n",
       "    <tr style=\"text-align: right;\">\n",
       "      <th></th>\n",
       "      <th>Mkt-RF</th>\n",
       "      <th>SMB</th>\n",
       "      <th>HML</th>\n",
       "      <th>RMW</th>\n",
       "      <th>CMA</th>\n",
       "      <th>total</th>\n",
       "    </tr>\n",
       "  </thead>\n",
       "  <tbody>\n",
       "    <tr>\n",
       "      <th>count</th>\n",
       "      <td>411080.000000</td>\n",
       "      <td>411080.000000</td>\n",
       "      <td>411080.000000</td>\n",
       "      <td>411080.000000</td>\n",
       "      <td>411080.000000</td>\n",
       "      <td>411080.000000</td>\n",
       "    </tr>\n",
       "    <tr>\n",
       "      <th>mean</th>\n",
       "      <td>0.973276</td>\n",
       "      <td>0.636905</td>\n",
       "      <td>0.115680</td>\n",
       "      <td>-0.109714</td>\n",
       "      <td>0.014188</td>\n",
       "      <td>1.630334</td>\n",
       "    </tr>\n",
       "    <tr>\n",
       "      <th>std</th>\n",
       "      <td>0.950979</td>\n",
       "      <td>1.306278</td>\n",
       "      <td>1.640647</td>\n",
       "      <td>2.087014</td>\n",
       "      <td>2.294009</td>\n",
       "      <td>3.761050</td>\n",
       "    </tr>\n",
       "    <tr>\n",
       "      <th>min</th>\n",
       "      <td>-9.299133</td>\n",
       "      <td>-10.348230</td>\n",
       "      <td>-15.841467</td>\n",
       "      <td>-26.847231</td>\n",
       "      <td>-20.607433</td>\n",
       "      <td>-38.504089</td>\n",
       "    </tr>\n",
       "    <tr>\n",
       "      <th>25%</th>\n",
       "      <td>0.426790</td>\n",
       "      <td>-0.119365</td>\n",
       "      <td>-0.718606</td>\n",
       "      <td>-1.089969</td>\n",
       "      <td>-1.132332</td>\n",
       "      <td>-0.248650</td>\n",
       "    </tr>\n",
       "    <tr>\n",
       "      <th>50%</th>\n",
       "      <td>0.917979</td>\n",
       "      <td>0.543192</td>\n",
       "      <td>0.076118</td>\n",
       "      <td>0.000000</td>\n",
       "      <td>0.022736</td>\n",
       "      <td>1.562578</td>\n",
       "    </tr>\n",
       "    <tr>\n",
       "      <th>75%</th>\n",
       "      <td>1.461661</td>\n",
       "      <td>1.333929</td>\n",
       "      <td>0.931474</td>\n",
       "      <td>0.979235</td>\n",
       "      <td>1.173293</td>\n",
       "      <td>3.536208</td>\n",
       "    </tr>\n",
       "    <tr>\n",
       "      <th>max</th>\n",
       "      <td>10.549881</td>\n",
       "      <td>10.710497</td>\n",
       "      <td>15.024651</td>\n",
       "      <td>18.378405</td>\n",
       "      <td>18.969999</td>\n",
       "      <td>36.688828</td>\n",
       "    </tr>\n",
       "  </tbody>\n",
       "</table>\n",
       "</div>"
      ],
      "text/plain": [
       "              Mkt-RF            SMB            HML            RMW  \\\n",
       "count  411080.000000  411080.000000  411080.000000  411080.000000   \n",
       "mean        0.973276       0.636905       0.115680      -0.109714   \n",
       "std         0.950979       1.306278       1.640647       2.087014   \n",
       "min        -9.299133     -10.348230     -15.841467     -26.847231   \n",
       "25%         0.426790      -0.119365      -0.718606      -1.089969   \n",
       "50%         0.917979       0.543192       0.076118       0.000000   \n",
       "75%         1.461661       1.333929       0.931474       0.979235   \n",
       "max        10.549881      10.710497      15.024651      18.378405   \n",
       "\n",
       "                 CMA          total  \n",
       "count  411080.000000  411080.000000  \n",
       "mean        0.014188       1.630334  \n",
       "std         2.294009       3.761050  \n",
       "min       -20.607433     -38.504089  \n",
       "25%        -1.132332      -0.248650  \n",
       "50%         0.022736       1.562578  \n",
       "75%         1.173293       3.536208  \n",
       "max        18.969999      36.688828  "
      ]
     },
     "execution_count": 15,
     "metadata": {},
     "output_type": "execute_result"
    }
   ],
   "source": [
    "betas.describe().join(betas.sum(1).describe().to_frame('total'))"
   ]
  },
  {
   "cell_type": "code",
   "execution_count": 16,
   "metadata": {
    "ExecuteTime": {
     "end_time": "2018-12-25T20:21:20.301123Z",
     "start_time": "2018-12-25T20:21:20.018625Z"
    }
   },
   "outputs": [
    {
     "data": {
      "image/png": "[encoded data removed]",
      "text/plain": [
       "<Figure size 720x720 with 4 Axes>"
      ]
     },
     "metadata": {},
     "output_type": "display_data"
    }
   ],
   "source": [
    "cmap = sns.diverging_palette(10, 220, as_cmap=True)\n",
    "sns.clustermap(betas.corr(), annot=True, cmap=cmap, center=0);"
   ]
  },
  {
   "cell_type": "code",
   "execution_count": 17,
   "metadata": {
    "ExecuteTime": {
     "end_time": "2018-12-25T20:21:22.393396Z",
     "start_time": "2018-12-25T20:21:20.304774Z"
    },
    "scrolled": true
   },
   "outputs": [
    {
     "name": "stdout",
     "output_type": "stream",
     "text": [
      "<class 'pandas.core.frame.DataFrame'>\n",
      "MultiIndex: 465935 entries, (A, 2001-01-31 00:00:00) to (ZUMZ, 2018-03-31 00:00:00)\n",
      "Data columns (total 11 columns):\n",
      "return_1m     465935 non-null float64\n",
      "return_2m     465935 non-null float64\n",
      "return_3m     465935 non-null float64\n",
      "return_6m     465935 non-null float64\n",
      "return_9m     465935 non-null float64\n",
      "return_12m    465935 non-null float64\n",
      "Mkt-RF        408695 non-null float64\n",
      "SMB           408695 non-null float64\n",
      "HML           408695 non-null float64\n",
      "RMW           408695 non-null float64\n",
      "CMA           408695 non-null float64\n",
      "dtypes: float64(11)\n",
      "memory usage: 60.9+ MB\n"
     ]
    }
   ],
   "source": [
    "data = (data\n",
    "        .join(betas\n",
    "              .groupby(level='ticker')\n",
    "              .shift()))\n",
    "data.info()"
   ]
  },
  {
   "cell_type": "markdown",
   "metadata": {},
   "source": [
    "### Impute mean for missing factor betas"
   ]
  },
  {
   "cell_type": "code",
   "execution_count": 18,
   "metadata": {
    "ExecuteTime": {
     "end_time": "2018-12-25T20:21:26.128936Z",
     "start_time": "2018-12-25T20:21:22.394788Z"
    }
   },
   "outputs": [
    {
     "name": "stdout",
     "output_type": "stream",
     "text": [
      "<class 'pandas.core.frame.DataFrame'>\n",
      "MultiIndex: 465935 entries, (A, 2001-01-31 00:00:00) to (ZUMZ, 2018-03-31 00:00:00)\n",
      "Data columns (total 11 columns):\n",
      "return_1m     465935 non-null float64\n",
      "return_2m     465935 non-null float64\n",
      "return_3m     465935 non-null float64\n",
      "return_6m     465935 non-null float64\n",
      "return_9m     465935 non-null float64\n",
      "return_12m    465935 non-null float64\n",
      "Mkt-RF        465935 non-null float64\n",
      "SMB           465935 non-null float64\n",
      "HML           465935 non-null float64\n",
      "RMW           465935 non-null float64\n",
      "CMA           465935 non-null float64\n",
      "dtypes: float64(11)\n",
      "memory usage: 60.9+ MB\n"
     ]
    }
   ],
   "source": [
    "data.loc[:, factors] = data.groupby('ticker')[factors].apply(lambda x: x.fillna(x.mean()))\n",
    "data.info()"
   ]
  },
  {
   "cell_type": "markdown",
   "metadata": {},
   "source": [
    "## Momentum factors"
   ]
  },
  {
   "cell_type": "markdown",
   "metadata": {},
   "source": [
    "We can use these results to compute momentum factors based on the difference between returns over longer periods and the most recent monthly return, as well as for the difference between 3 and 12 month returns as follows:"
   ]
  },
  {
   "cell_type": "code",
   "execution_count": 19,
   "metadata": {
    "ExecuteTime": {
     "end_time": "2018-12-25T20:21:26.148656Z",
     "start_time": "2018-12-25T20:21:26.129919Z"
    }
   },
   "outputs": [],
   "source": [
    "for lag in [2,3,6,9,12]:\n",
    "    data[f'momentum_{lag}'] = data[f'return_{lag}m'].sub(data.return_1m)\n",
    "data[f'momentum_3_12'] = data[f'return_12m'].sub(data.return_3m)"
   ]
  },
  {
   "cell_type": "markdown",
   "metadata": {},
   "source": [
    "## Date Indicators"
   ]
  },
  {
   "cell_type": "code",
   "execution_count": 20,
   "metadata": {
    "ExecuteTime": {
     "end_time": "2018-12-25T20:21:26.178157Z",
     "start_time": "2018-12-25T20:21:26.149989Z"
    }
   },
   "outputs": [],
   "source": [
    "dates = data.index.get_level_values('date')\n",
    "data['year'] = dates.year\n",
    "data['month'] = dates.month"
   ]
  },
  {
   "cell_type": "markdown",
   "metadata": {},
   "source": [
    "## Lagged returns"
   ]
  },
  {
   "cell_type": "markdown",
   "metadata": {},
   "source": [
    "To use lagged values as input variables or features associated with the current observations, we use the .shift() method to move historical returns up to the current period:"
   ]
  },
  {
   "cell_type": "code",
   "execution_count": 21,
   "metadata": {
    "ExecuteTime": {
     "end_time": "2018-12-25T20:21:26.572552Z",
     "start_time": "2018-12-25T20:21:26.179228Z"
    }
   },
   "outputs": [
    {
     "name": "stdout",
     "output_type": "stream",
     "text": [
      "<class 'pandas.core.frame.DataFrame'>\n",
      "MultiIndex: 465935 entries, (A, 2001-01-31 00:00:00) to (ZUMZ, 2018-03-31 00:00:00)\n",
      "Data columns (total 25 columns):\n",
      "return_1m        465935 non-null float64\n",
      "return_2m        465935 non-null float64\n",
      "return_3m        465935 non-null float64\n",
      "return_6m        465935 non-null float64\n",
      "return_9m        465935 non-null float64\n",
      "return_12m       465935 non-null float64\n",
      "Mkt-RF           465935 non-null float64\n",
      "SMB              465935 non-null float64\n",
      "HML              465935 non-null float64\n",
      "RMW              465935 non-null float64\n",
      "CMA              465935 non-null float64\n",
      "momentum_2       465935 non-null float64\n",
      "momentum_3       465935 non-null float64\n",
      "momentum_6       465935 non-null float64\n",
      "momentum_9       465935 non-null float64\n",
      "momentum_12      465935 non-null float64\n",
      "momentum_3_12    465935 non-null float64\n",
      "year             465935 non-null int64\n",
      "month            465935 non-null int64\n",
      "return_1m_t-1    463550 non-null float64\n",
      "return_1m_t-2    461165 non-null float64\n",
      "return_1m_t-3    458780 non-null float64\n",
      "return_1m_t-4    456395 non-null float64\n",
      "return_1m_t-5    454010 non-null float64\n",
      "return_1m_t-6    451625 non-null float64\n",
      "dtypes: float64(23), int64(2)\n",
      "memory usage: 110.7+ MB\n"
     ]
    }
   ],
   "source": [
    "for t in range(1, 7):\n",
    "    data[f'return_1m_t-{t}'] = data.groupby(level='ticker').return_1m.shift(t)\n",
    "data.info()"
   ]
  },
  {
   "cell_type": "markdown",
   "metadata": {},
   "source": [
    "## Target: Holding Period Returns"
   ]
  },
  {
   "cell_type": "markdown",
   "metadata": {},
   "source": [
    "Similarly, to compute returns for various holding periods, we use the normalized period returns computed previously and shift them back to align them with the current financial features"
   ]
  },
  {
   "cell_type": "code",
   "execution_count": 22,
   "metadata": {
    "ExecuteTime": {
     "end_time": "2018-12-25T20:21:26.803930Z",
     "start_time": "2018-12-25T20:21:26.573662Z"
    }
   },
   "outputs": [],
   "source": [
    "for t in [1,2,3,6,12]:\n",
    "    data[f'target_{t}m'] = data.groupby(level='ticker')[f'return_{t}m'].shift(-t)"
   ]
  },
  {
   "cell_type": "code",
   "execution_count": 23,
   "metadata": {
    "ExecuteTime": {
     "end_time": "2018-12-25T20:21:27.100683Z",
     "start_time": "2018-12-25T20:21:26.804811Z"
    }
   },
   "outputs": [
    {
     "data": {
      "text/html": [
       "<div>\n",
       "<style scoped>\n",
       "    .dataframe tbody tr th:only-of-type {\n",
       "        vertical-align: middle;\n",
       "    }\n",
       "\n",
       "    .dataframe tbody tr th {\n",
       "        vertical-align: top;\n",
       "    }\n",
       "\n",
       "    .dataframe thead th {\n",
       "        text-align: right;\n",
       "    }\n",
       "</style>\n",
       "<table border=\"1\" class=\"dataframe\">\n",
       "  <thead>\n",
       "    <tr style=\"text-align: right;\">\n",
       "      <th></th>\n",
       "      <th></th>\n",
       "      <th>target_1m</th>\n",
       "      <th>target_2m</th>\n",
       "      <th>target_3m</th>\n",
       "      <th>return_1m</th>\n",
       "      <th>return_2m</th>\n",
       "      <th>return_3m</th>\n",
       "      <th>return_1m_t-1</th>\n",
       "      <th>return_1m_t-2</th>\n",
       "      <th>return_1m_t-3</th>\n",
       "    </tr>\n",
       "    <tr>\n",
       "      <th>ticker</th>\n",
       "      <th>date</th>\n",
       "      <th></th>\n",
       "      <th></th>\n",
       "      <th></th>\n",
       "      <th></th>\n",
       "      <th></th>\n",
       "      <th></th>\n",
       "      <th></th>\n",
       "      <th></th>\n",
       "      <th></th>\n",
       "    </tr>\n",
       "  </thead>\n",
       "  <tbody>\n",
       "    <tr>\n",
       "      <th rowspan=\"10\" valign=\"top\">A</th>\n",
       "      <th>2001-04-30</th>\n",
       "      <td>-0.140220</td>\n",
       "      <td>-0.087246</td>\n",
       "      <td>-0.098192</td>\n",
       "      <td>0.269444</td>\n",
       "      <td>0.040966</td>\n",
       "      <td>-0.105747</td>\n",
       "      <td>-0.146389</td>\n",
       "      <td>-0.340055</td>\n",
       "      <td>-0.003653</td>\n",
       "    </tr>\n",
       "    <tr>\n",
       "      <th>2001-05-31</th>\n",
       "      <td>-0.031008</td>\n",
       "      <td>-0.076414</td>\n",
       "      <td>-0.075527</td>\n",
       "      <td>-0.140220</td>\n",
       "      <td>0.044721</td>\n",
       "      <td>-0.023317</td>\n",
       "      <td>0.269444</td>\n",
       "      <td>-0.146389</td>\n",
       "      <td>-0.340055</td>\n",
       "    </tr>\n",
       "    <tr>\n",
       "      <th>2001-06-30</th>\n",
       "      <td>-0.119692</td>\n",
       "      <td>-0.097014</td>\n",
       "      <td>-0.155847</td>\n",
       "      <td>-0.031008</td>\n",
       "      <td>-0.087246</td>\n",
       "      <td>0.018842</td>\n",
       "      <td>-0.140220</td>\n",
       "      <td>0.269444</td>\n",
       "      <td>-0.146389</td>\n",
       "    </tr>\n",
       "    <tr>\n",
       "      <th>2001-07-31</th>\n",
       "      <td>-0.073750</td>\n",
       "      <td>-0.173364</td>\n",
       "      <td>-0.080114</td>\n",
       "      <td>-0.119692</td>\n",
       "      <td>-0.076414</td>\n",
       "      <td>-0.098192</td>\n",
       "      <td>-0.031008</td>\n",
       "      <td>-0.140220</td>\n",
       "      <td>0.269444</td>\n",
       "    </tr>\n",
       "    <tr>\n",
       "      <th>2001-08-31</th>\n",
       "      <td>-0.262264</td>\n",
       "      <td>-0.083279</td>\n",
       "      <td>0.009593</td>\n",
       "      <td>-0.073750</td>\n",
       "      <td>-0.097014</td>\n",
       "      <td>-0.075527</td>\n",
       "      <td>-0.119692</td>\n",
       "      <td>-0.031008</td>\n",
       "      <td>-0.140220</td>\n",
       "    </tr>\n",
       "    <tr>\n",
       "      <th>2001-09-30</th>\n",
       "      <td>0.139130</td>\n",
       "      <td>0.181052</td>\n",
       "      <td>0.134010</td>\n",
       "      <td>-0.262264</td>\n",
       "      <td>-0.173364</td>\n",
       "      <td>-0.155847</td>\n",
       "      <td>-0.073750</td>\n",
       "      <td>-0.119692</td>\n",
       "      <td>-0.031008</td>\n",
       "    </tr>\n",
       "    <tr>\n",
       "      <th>2001-10-31</th>\n",
       "      <td>0.224517</td>\n",
       "      <td>0.131458</td>\n",
       "      <td>0.108697</td>\n",
       "      <td>0.139130</td>\n",
       "      <td>-0.083279</td>\n",
       "      <td>-0.080114</td>\n",
       "      <td>-0.262264</td>\n",
       "      <td>-0.073750</td>\n",
       "      <td>-0.119692</td>\n",
       "    </tr>\n",
       "    <tr>\n",
       "      <th>2001-11-30</th>\n",
       "      <td>0.045471</td>\n",
       "      <td>0.054962</td>\n",
       "      <td>0.045340</td>\n",
       "      <td>0.224517</td>\n",
       "      <td>0.181052</td>\n",
       "      <td>0.009593</td>\n",
       "      <td>0.139130</td>\n",
       "      <td>-0.262264</td>\n",
       "      <td>-0.073750</td>\n",
       "    </tr>\n",
       "    <tr>\n",
       "      <th>2001-12-31</th>\n",
       "      <td>0.064539</td>\n",
       "      <td>0.045275</td>\n",
       "      <td>0.070347</td>\n",
       "      <td>0.045471</td>\n",
       "      <td>0.131458</td>\n",
       "      <td>0.134010</td>\n",
       "      <td>0.224517</td>\n",
       "      <td>0.139130</td>\n",
       "      <td>-0.262264</td>\n",
       "    </tr>\n",
       "    <tr>\n",
       "      <th>2002-01-31</th>\n",
       "      <td>0.026359</td>\n",
       "      <td>0.073264</td>\n",
       "      <td>-0.003306</td>\n",
       "      <td>0.064539</td>\n",
       "      <td>0.054962</td>\n",
       "      <td>0.108697</td>\n",
       "      <td>0.045471</td>\n",
       "      <td>0.224517</td>\n",
       "      <td>0.139130</td>\n",
       "    </tr>\n",
       "  </tbody>\n",
       "</table>\n",
       "</div>"
      ],
      "text/plain": [
       "                   target_1m  target_2m  target_3m  return_1m  return_2m  \\\n",
       "ticker date                                                                \n",
       "A      2001-04-30  -0.140220  -0.087246  -0.098192   0.269444   0.040966   \n",
       "       2001-05-31  -0.031008  -0.076414  -0.075527  -0.140220   0.044721   \n",
       "       2001-06-30  -0.119692  -0.097014  -0.155847  -0.031008  -0.087246   \n",
       "       2001-07-31  -0.073750  -0.173364  -0.080114  -0.119692  -0.076414   \n",
       "       2001-08-31  -0.262264  -0.083279   0.009593  -0.073750  -0.097014   \n",
       "       2001-09-30   0.139130   0.181052   0.134010  -0.262264  -0.173364   \n",
       "       2001-10-31   0.224517   0.131458   0.108697   0.139130  -0.083279   \n",
       "       2001-11-30   0.045471   0.054962   0.045340   0.224517   0.181052   \n",
       "       2001-12-31   0.064539   0.045275   0.070347   0.045471   0.131458   \n",
       "       2002-01-31   0.026359   0.073264  -0.003306   0.064539   0.054962   \n",
       "\n",
       "                   return_3m  return_1m_t-1  return_1m_t-2  return_1m_t-3  \n",
       "ticker date                                                                \n",
       "A      2001-04-30  -0.105747      -0.146389      -0.340055      -0.003653  \n",
       "       2001-05-31  -0.023317       0.269444      -0.146389      -0.340055  \n",
       "       2001-06-30   0.018842      -0.140220       0.269444      -0.146389  \n",
       "       2001-07-31  -0.098192      -0.031008      -0.140220       0.269444  \n",
       "       2001-08-31  -0.075527      -0.119692      -0.031008      -0.140220  \n",
       "       2001-09-30  -0.155847      -0.073750      -0.119692      -0.031008  \n",
       "       2001-10-31  -0.080114      -0.262264      -0.073750      -0.119692  \n",
       "       2001-11-30   0.009593       0.139130      -0.262264      -0.073750  \n",
       "       2001-12-31   0.134010       0.224517       0.139130      -0.262264  \n",
       "       2002-01-31   0.108697       0.045471       0.224517       0.139130  "
      ]
     },
     "execution_count": 23,
     "metadata": {},
     "output_type": "execute_result"
    }
   ],
   "source": [
    "cols = ['target_1m',\n",
    "        'target_2m',\n",
    "        'target_3m', 'return_1m',\n",
    "        'return_2m',\n",
    "        'return_3m',\n",
    "        'return_1m_t-1',\n",
    "        'return_1m_t-2',\n",
    "        'return_1m_t-3']\n",
    "\n",
    "data[cols].dropna().sort_index().head(10)"
   ]
  },
  {
   "cell_type": "code",
   "execution_count": 24,
   "metadata": {
    "ExecuteTime": {
     "end_time": "2018-12-25T20:21:27.239829Z",
     "start_time": "2018-12-25T20:21:27.101668Z"
    }
   },
   "outputs": [
    {
     "name": "stdout",
     "output_type": "stream",
     "text": [
      "<class 'pandas.core.frame.DataFrame'>\n",
      "MultiIndex: 465935 entries, (A, 2001-01-31 00:00:00) to (ZUMZ, 2018-03-31 00:00:00)\n",
      "Data columns (total 30 columns):\n",
      "return_1m        465935 non-null float64\n",
      "return_2m        465935 non-null float64\n",
      "return_3m        465935 non-null float64\n",
      "return_6m        465935 non-null float64\n",
      "return_9m        465935 non-null float64\n",
      "return_12m       465935 non-null float64\n",
      "Mkt-RF           465935 non-null float64\n",
      "SMB              465935 non-null float64\n",
      "HML              465935 non-null float64\n",
      "RMW              465935 non-null float64\n",
      "CMA              465935 non-null float64\n",
      "momentum_2       465935 non-null float64\n",
      "momentum_3       465935 non-null float64\n",
      "momentum_6       465935 non-null float64\n",
      "momentum_9       465935 non-null float64\n",
      "momentum_12      465935 non-null float64\n",
      "momentum_3_12    465935 non-null float64\n",
      "year             465935 non-null int64\n",
      "month            465935 non-null int64\n",
      "return_1m_t-1    463550 non-null float64\n",
      "return_1m_t-2    461165 non-null float64\n",
      "return_1m_t-3    458780 non-null float64\n",
      "return_1m_t-4    456395 non-null float64\n",
      "return_1m_t-5    454010 non-null float64\n",
      "return_1m_t-6    451625 non-null float64\n",
      "target_1m        463550 non-null float64\n",
      "target_2m        461165 non-null float64\n",
      "target_3m        458780 non-null float64\n",
      "target_6m        451625 non-null float64\n",
      "target_12m       437315 non-null float64\n",
      "dtypes: float64(28), int64(2)\n",
      "memory usage: 128.5+ MB\n"
     ]
    }
   ],
   "source": [
    "data.info()"
   ]
  },
  {
   "cell_type": "markdown",
   "metadata": {},
   "source": [
    "## Create age proxy"
   ]
  },
  {
   "cell_type": "code",
   "execution_count": 25,
   "metadata": {
    "ExecuteTime": {
     "end_time": "2018-12-25T20:21:27.286036Z",
     "start_time": "2018-12-25T20:21:27.241312Z"
    }
   },
   "outputs": [],
   "source": [
    "data = (data\n",
    "        .join(pd.qcut(stocks.ipoyear, q=5, labels=list(range(1, 6)))\n",
    "              .astype(float)\n",
    "              .fillna(0)\n",
    "              .astype(int)\n",
    "              .to_frame('age')))\n",
    "data.age = data.age.fillna(-1)"
   ]
  },
  {
   "cell_type": "markdown",
   "metadata": {},
   "source": [
    "## Create dynamic size proxy"
   ]
  },
  {
   "cell_type": "code",
   "execution_count": 44,
   "metadata": {},
   "outputs": [],
   "source": [
    "with pd.HDFStore('../../data/assets.h5') as store:\n",
    "    stocks = store['us_equities/stocks'].loc[:, ['marketcap', 'ipoyear', 'sector']]\n",
    "    stocks = stocks[~stocks.index.duplicated()]"
   ]
  },
  {
   "cell_type": "code",
   "execution_count": 45,
   "metadata": {
    "ExecuteTime": {
     "end_time": "2018-12-25T20:23:14.190943Z",
     "start_time": "2018-12-25T20:23:14.184872Z"
    }
   },
   "outputs": [
    {
     "name": "stdout",
     "output_type": "stream",
     "text": [
      "<class 'pandas.core.frame.DataFrame'>\n",
      "Index: 6834 entries, PIH to ZYME\n",
      "Data columns (total 3 columns):\n",
      "marketcap    5766 non-null float64\n",
      "ipoyear      3038 non-null float64\n",
      "sector       5288 non-null object\n",
      "dtypes: float64(2), object(1)\n",
      "memory usage: 213.6+ KB\n"
     ]
    }
   ],
   "source": [
    "stocks.info()"
   ]
  },
  {
   "cell_type": "code",
   "execution_count": 46,
   "metadata": {},
   "outputs": [
    {
     "data": {
      "text/html": [
       "<div>\n",
       "<style scoped>\n",
       "    .dataframe tbody tr th:only-of-type {\n",
       "        vertical-align: middle;\n",
       "    }\n",
       "\n",
       "    .dataframe tbody tr th {\n",
       "        vertical-align: top;\n",
       "    }\n",
       "\n",
       "    .dataframe thead th {\n",
       "        text-align: right;\n",
       "    }\n",
       "</style>\n",
       "<table border=\"1\" class=\"dataframe\">\n",
       "  <thead>\n",
       "    <tr style=\"text-align: right;\">\n",
       "      <th></th>\n",
       "      <th>marketcap</th>\n",
       "      <th>ipoyear</th>\n",
       "      <th>sector</th>\n",
       "    </tr>\n",
       "    <tr>\n",
       "      <th>ticker</th>\n",
       "      <th></th>\n",
       "      <th></th>\n",
       "      <th></th>\n",
       "    </tr>\n",
       "  </thead>\n",
       "  <tbody>\n",
       "    <tr>\n",
       "      <th>PIH</th>\n",
       "      <td>43090000.0</td>\n",
       "      <td>2014.0</td>\n",
       "      <td>Finance</td>\n",
       "    </tr>\n",
       "    <tr>\n",
       "      <th>PIHPP</th>\n",
       "      <td>NaN</td>\n",
       "      <td>NaN</td>\n",
       "      <td>Finance</td>\n",
       "    </tr>\n",
       "    <tr>\n",
       "      <th>TURN</th>\n",
       "      <td>70330000.0</td>\n",
       "      <td>NaN</td>\n",
       "      <td>Finance</td>\n",
       "    </tr>\n",
       "    <tr>\n",
       "      <th>FLWS</th>\n",
       "      <td>833390000.0</td>\n",
       "      <td>1999.0</td>\n",
       "      <td>Consumer Services</td>\n",
       "    </tr>\n",
       "    <tr>\n",
       "      <th>FCCY</th>\n",
       "      <td>178140000.0</td>\n",
       "      <td>NaN</td>\n",
       "      <td>Finance</td>\n",
       "    </tr>\n",
       "  </tbody>\n",
       "</table>\n",
       "</div>"
      ],
      "text/plain": [
       "          marketcap  ipoyear             sector\n",
       "ticker                                         \n",
       "PIH      43090000.0   2014.0            Finance\n",
       "PIHPP           NaN      NaN            Finance\n",
       "TURN     70330000.0      NaN            Finance\n",
       "FLWS    833390000.0   1999.0  Consumer Services\n",
       "FCCY    178140000.0      NaN            Finance"
      ]
     },
     "execution_count": 46,
     "metadata": {},
     "output_type": "execute_result"
    }
   ],
   "source": [
    "stocks.head()"
   ]
  },
  {
   "cell_type": "markdown",
   "metadata": {},
   "source": [
    "### String preprocessing"
   ]
  },
  {
   "cell_type": "code",
   "execution_count": 41,
   "metadata": {},
   "outputs": [],
   "source": [
    "stocks.marketcap = stocks.marketcap.astype(str).str.replace('$', '')\n",
    "stocks['mcap'] = stocks.marketcap.str[-1]\n",
    "stocks.marketcap =  pd.to_numeric(stocks.marketcap.str[:-1], errors='ignore')"
   ]
  },
  {
   "cell_type": "code",
   "execution_count": 42,
   "metadata": {},
   "outputs": [
    {
     "name": "stdout",
     "output_type": "stream",
     "text": [
      "<class 'pandas.core.frame.DataFrame'>\n",
      "Index: 6834 entries, PIH to ZYME\n",
      "Data columns (total 4 columns):\n",
      "marketcap    6834 non-null object\n",
      "ipoyear      3038 non-null float64\n",
      "sector       5288 non-null object\n",
      "mcap         6834 non-null object\n",
      "dtypes: float64(1), object(3)\n",
      "memory usage: 267.0+ KB\n"
     ]
    }
   ],
   "source": [
    "stocks.info()"
   ]
  },
  {
   "cell_type": "code",
   "execution_count": 43,
   "metadata": {},
   "outputs": [
    {
     "data": {
      "text/html": [
       "<div>\n",
       "<style scoped>\n",
       "    .dataframe tbody tr th:only-of-type {\n",
       "        vertical-align: middle;\n",
       "    }\n",
       "\n",
       "    .dataframe tbody tr th {\n",
       "        vertical-align: top;\n",
       "    }\n",
       "\n",
       "    .dataframe thead th {\n",
       "        text-align: right;\n",
       "    }\n",
       "</style>\n",
       "<table border=\"1\" class=\"dataframe\">\n",
       "  <thead>\n",
       "    <tr style=\"text-align: right;\">\n",
       "      <th></th>\n",
       "      <th>marketcap</th>\n",
       "      <th>ipoyear</th>\n",
       "      <th>sector</th>\n",
       "      <th>mcap</th>\n",
       "    </tr>\n",
       "    <tr>\n",
       "      <th>ticker</th>\n",
       "      <th></th>\n",
       "      <th></th>\n",
       "      <th></th>\n",
       "      <th></th>\n",
       "    </tr>\n",
       "  </thead>\n",
       "  <tbody>\n",
       "    <tr>\n",
       "      <th>PIH</th>\n",
       "      <td>43090000.</td>\n",
       "      <td>2014.0</td>\n",
       "      <td>Finance</td>\n",
       "      <td>0</td>\n",
       "    </tr>\n",
       "    <tr>\n",
       "      <th>PIHPP</th>\n",
       "      <td>na</td>\n",
       "      <td>NaN</td>\n",
       "      <td>Finance</td>\n",
       "      <td>n</td>\n",
       "    </tr>\n",
       "    <tr>\n",
       "      <th>TURN</th>\n",
       "      <td>70330000.</td>\n",
       "      <td>NaN</td>\n",
       "      <td>Finance</td>\n",
       "      <td>0</td>\n",
       "    </tr>\n",
       "    <tr>\n",
       "      <th>FLWS</th>\n",
       "      <td>833390000.</td>\n",
       "      <td>1999.0</td>\n",
       "      <td>Consumer Services</td>\n",
       "      <td>0</td>\n",
       "    </tr>\n",
       "    <tr>\n",
       "      <th>FCCY</th>\n",
       "      <td>178140000.</td>\n",
       "      <td>NaN</td>\n",
       "      <td>Finance</td>\n",
       "      <td>0</td>\n",
       "    </tr>\n",
       "  </tbody>\n",
       "</table>\n",
       "</div>"
      ],
      "text/plain": [
       "         marketcap  ipoyear             sector mcap\n",
       "ticker                                             \n",
       "PIH      43090000.   2014.0            Finance    0\n",
       "PIHPP           na      NaN            Finance    n\n",
       "TURN     70330000.      NaN            Finance    0\n",
       "FLWS    833390000.   1999.0  Consumer Services    0\n",
       "FCCY    178140000.      NaN            Finance    0"
      ]
     },
     "execution_count": 43,
     "metadata": {},
     "output_type": "execute_result"
    }
   ],
   "source": [
    "stocks.head()"
   ]
  },
  {
   "cell_type": "code",
   "execution_count": 36,
   "metadata": {
    "ExecuteTime": {
     "end_time": "2018-12-25T20:21:27.299521Z",
     "start_time": "2018-12-25T20:21:27.287165Z"
    }
   },
   "outputs": [
    {
     "name": "stdout",
     "output_type": "stream",
     "text": [
      "<class 'pandas.core.frame.DataFrame'>\n",
      "Index: 0 entries\n",
      "Data columns (total 4 columns):\n",
      "marketcap    0 non-null object\n",
      "ipoyear      0 non-null float64\n",
      "sector       0 non-null object\n",
      "mcap         0 non-null object\n",
      "dtypes: float64(1), object(3)\n",
      "memory usage: 0.0+ bytes\n"
     ]
    }
   ],
   "source": [
    "\n",
    "stocks = stocks[stocks.mcap.isin(['B', 'M'])]\n",
    "stocks.info()"
   ]
  },
  {
   "cell_type": "code",
   "execution_count": null,
   "metadata": {
    "ExecuteTime": {
     "end_time": "2018-12-25T20:21:27.301241Z",
     "start_time": "2018-12-25T20:21:04.280Z"
    }
   },
   "outputs": [],
   "source": [
    "stocks.marketcap = stocks.apply(lambda x: x.marketcap * 1000 if x.mcap == 'B' else x.marketcap, axis=1)\n",
    "stocks.marketcap.describe()"
   ]
  },
  {
   "cell_type": "code",
   "execution_count": 47,
   "metadata": {
    "ExecuteTime": {
     "end_time": "2018-12-25T20:21:27.302005Z",
     "start_time": "2018-12-25T20:21:04.281Z"
    }
   },
   "outputs": [
    {
     "name": "stdout",
     "output_type": "stream",
     "text": [
      "<class 'pandas.core.frame.DataFrame'>\n",
      "DatetimeIndex: 207 entries, 2018-03-31 to 2001-01-31\n",
      "Freq: -1M\n",
      "Columns: 2385 entries, A to UFS\n",
      "dtypes: float64(2385)\n",
      "memory usage: 3.8 MB\n"
     ]
    }
   ],
   "source": [
    "size_factor = (monthly_prices\n",
    "               .loc[data.index.get_level_values('date').unique(),\n",
    "                    data.index.get_level_values('ticker').unique()]\n",
    "               .sort_index(ascending=False)\n",
    "               .pct_change()\n",
    "               .fillna(0)\n",
    "               .add(1)\n",
    "               .cumprod())\n",
    "size_factor.info()"
   ]
  },
  {
   "cell_type": "code",
   "execution_count": 48,
   "metadata": {
    "ExecuteTime": {
     "end_time": "2018-12-25T20:21:27.302756Z",
     "start_time": "2018-12-25T20:21:04.283Z"
    }
   },
   "outputs": [],
   "source": [
    "msize = (size_factor\n",
    "         .mul(stocks\n",
    "              .loc[size_factor.columns, 'marketcap'])).dropna(axis=1, how='all')"
   ]
  },
  {
   "cell_type": "code",
   "execution_count": 49,
   "metadata": {
    "ExecuteTime": {
     "end_time": "2018-12-25T20:21:27.303512Z",
     "start_time": "2018-12-25T20:21:04.284Z"
    }
   },
   "outputs": [],
   "source": [
    "data['msize'] = (msize\n",
    "                 .apply(lambda x: pd.qcut(x, q=10, labels=list(range(1, 11)))\n",
    "                        .astype(int), axis=1)\n",
    "                 .stack()\n",
    "                 .swaplevel())\n",
    "data.msize = data.msize.fillna(-1)"
   ]
  },
  {
   "cell_type": "markdown",
   "metadata": {},
   "source": [
    "## Combine data"
   ]
  },
  {
   "cell_type": "code",
   "execution_count": 50,
   "metadata": {
    "ExecuteTime": {
     "end_time": "2018-12-25T20:21:27.304218Z",
     "start_time": "2018-12-25T20:21:04.286Z"
    }
   },
   "outputs": [],
   "source": [
    "data = data.join(stocks[['sector']])\n",
    "data.sector = data.sector.fillna('Unknown')"
   ]
  },
  {
   "cell_type": "code",
   "execution_count": 51,
   "metadata": {
    "ExecuteTime": {
     "end_time": "2018-12-25T20:21:27.305025Z",
     "start_time": "2018-12-25T20:21:04.290Z"
    },
    "scrolled": true
   },
   "outputs": [
    {
     "name": "stdout",
     "output_type": "stream",
     "text": [
      "<class 'pandas.core.frame.DataFrame'>\n",
      "MultiIndex: 465935 entries, (A, 2001-01-31 00:00:00) to (ZUMZ, 2018-03-31 00:00:00)\n",
      "Data columns (total 33 columns):\n",
      "return_1m        465935 non-null float64\n",
      "return_2m        465935 non-null float64\n",
      "return_3m        465935 non-null float64\n",
      "return_6m        465935 non-null float64\n",
      "return_9m        465935 non-null float64\n",
      "return_12m       465935 non-null float64\n",
      "Mkt-RF           465935 non-null float64\n",
      "SMB              465935 non-null float64\n",
      "HML              465935 non-null float64\n",
      "RMW              465935 non-null float64\n",
      "CMA              465935 non-null float64\n",
      "momentum_2       465935 non-null float64\n",
      "momentum_3       465935 non-null float64\n",
      "momentum_6       465935 non-null float64\n",
      "momentum_9       465935 non-null float64\n",
      "momentum_12      465935 non-null float64\n",
      "momentum_3_12    465935 non-null float64\n",
      "year             465935 non-null int64\n",
      "month            465935 non-null int64\n",
      "return_1m_t-1    463550 non-null float64\n",
      "return_1m_t-2    461165 non-null float64\n",
      "return_1m_t-3    458780 non-null float64\n",
      "return_1m_t-4    456395 non-null float64\n",
      "return_1m_t-5    454010 non-null float64\n",
      "return_1m_t-6    451625 non-null float64\n",
      "target_1m        463550 non-null float64\n",
      "target_2m        461165 non-null float64\n",
      "target_3m        458780 non-null float64\n",
      "target_6m        451625 non-null float64\n",
      "target_12m       437315 non-null float64\n",
      "age              465935 non-null float64\n",
      "msize            465935 non-null float64\n",
      "sector           465935 non-null object\n",
      "dtypes: float64(30), int64(2), object(1)\n",
      "memory usage: 139.3+ MB\n"
     ]
    }
   ],
   "source": [
    "data.info()"
   ]
  },
  {
   "cell_type": "markdown",
   "metadata": {},
   "source": [
    "## Store data"
   ]
  },
  {
   "cell_type": "markdown",
   "metadata": {},
   "source": [
    "We will use the data again in [Chapter 6](../../06_machine_learning_process/02_mutual_information/mutual_information.ipynb)."
   ]
  },
  {
   "cell_type": "code",
   "execution_count": 53,
   "metadata": {
    "ExecuteTime": {
     "end_time": "2018-12-25T20:21:27.305724Z",
     "start_time": "2018-12-25T20:21:04.292Z"
    }
   },
   "outputs": [],
   "source": [
    "with pd.HDFStore('data.h5') as store:\n",
    "    store.put('engineered_features', data.sort_index().loc[idx[:, :datetime(2018, 3, 1)], :])"
   ]
  },
  {
   "cell_type": "markdown",
   "metadata": {},
   "source": [
    "## Create Dummy variables"
   ]
  },
  {
   "cell_type": "code",
   "execution_count": 54,
   "metadata": {
    "ExecuteTime": {
     "end_time": "2018-12-25T20:21:27.306385Z",
     "start_time": "2018-12-25T20:21:04.294Z"
    },
    "scrolled": false
   },
   "outputs": [
    {
     "name": "stdout",
     "output_type": "stream",
     "text": [
      "<class 'pandas.core.frame.DataFrame'>\n",
      "MultiIndex: 465935 entries, (A, 2001-01-31 00:00:00) to (ZUMZ, 2018-03-31 00:00:00)\n",
      "Data columns (total 89 columns):\n",
      "return_1m                465935 non-null float64\n",
      "return_2m                465935 non-null float64\n",
      "return_3m                465935 non-null float64\n",
      "return_6m                465935 non-null float64\n",
      "return_9m                465935 non-null float64\n",
      "return_12m               465935 non-null float64\n",
      "Mkt-RF                   465935 non-null float64\n",
      "SMB                      465935 non-null float64\n",
      "HML                      465935 non-null float64\n",
      "RMW                      465935 non-null float64\n",
      "CMA                      465935 non-null float64\n",
      "momentum_2               465935 non-null float64\n",
      "momentum_3               465935 non-null float64\n",
      "momentum_6               465935 non-null float64\n",
      "momentum_9               465935 non-null float64\n",
      "momentum_12              465935 non-null float64\n",
      "momentum_3_12            465935 non-null float64\n",
      "return_1m_t-1            463550 non-null float64\n",
      "return_1m_t-2            461165 non-null float64\n",
      "return_1m_t-3            458780 non-null float64\n",
      "return_1m_t-4            456395 non-null float64\n",
      "return_1m_t-5            454010 non-null float64\n",
      "return_1m_t-6            451625 non-null float64\n",
      "target_1m                463550 non-null float64\n",
      "target_2m                461165 non-null float64\n",
      "target_3m                458780 non-null float64\n",
      "target_6m                451625 non-null float64\n",
      "target_12m               437315 non-null float64\n",
      "year_2001                465935 non-null uint8\n",
      "year_2002                465935 non-null uint8\n",
      "year_2003                465935 non-null uint8\n",
      "year_2004                465935 non-null uint8\n",
      "year_2005                465935 non-null uint8\n",
      "year_2006                465935 non-null uint8\n",
      "year_2007                465935 non-null uint8\n",
      "year_2008                465935 non-null uint8\n",
      "year_2009                465935 non-null uint8\n",
      "year_2010                465935 non-null uint8\n",
      "year_2011                465935 non-null uint8\n",
      "year_2012                465935 non-null uint8\n",
      "year_2013                465935 non-null uint8\n",
      "year_2014                465935 non-null uint8\n",
      "year_2015                465935 non-null uint8\n",
      "year_2016                465935 non-null uint8\n",
      "year_2017                465935 non-null uint8\n",
      "year_2018                465935 non-null uint8\n",
      "month_1                  465935 non-null uint8\n",
      "month_2                  465935 non-null uint8\n",
      "month_3                  465935 non-null uint8\n",
      "month_4                  465935 non-null uint8\n",
      "month_5                  465935 non-null uint8\n",
      "month_6                  465935 non-null uint8\n",
      "month_7                  465935 non-null uint8\n",
      "month_8                  465935 non-null uint8\n",
      "month_9                  465935 non-null uint8\n",
      "month_10                 465935 non-null uint8\n",
      "month_11                 465935 non-null uint8\n",
      "month_12                 465935 non-null uint8\n",
      "msize_-1                 465935 non-null uint8\n",
      "msize_1                  465935 non-null uint8\n",
      "msize_2                  465935 non-null uint8\n",
      "msize_3                  465935 non-null uint8\n",
      "msize_4                  465935 non-null uint8\n",
      "msize_5                  465935 non-null uint8\n",
      "msize_6                  465935 non-null uint8\n",
      "msize_7                  465935 non-null uint8\n",
      "msize_8                  465935 non-null uint8\n",
      "msize_9                  465935 non-null uint8\n",
      "msize_10                 465935 non-null uint8\n",
      "age_-1                   465935 non-null uint8\n",
      "age_0                    465935 non-null uint8\n",
      "age_1                    465935 non-null uint8\n",
      "age_2                    465935 non-null uint8\n",
      "age_3                    465935 non-null uint8\n",
      "age_4                    465935 non-null uint8\n",
      "age_5                    465935 non-null uint8\n",
      "Basic Industries         465935 non-null uint8\n",
      "Capital Goods            465935 non-null uint8\n",
      "Consumer Durables        465935 non-null uint8\n",
      "Consumer Non-Durables    465935 non-null uint8\n",
      "Consumer Services        465935 non-null uint8\n",
      "Energy                   465935 non-null uint8\n",
      "Finance                  465935 non-null uint8\n",
      "Health Care              465935 non-null uint8\n",
      "Miscellaneous            465935 non-null uint8\n",
      "Public Utilities         465935 non-null uint8\n",
      "Technology               465935 non-null uint8\n",
      "Transportation           465935 non-null uint8\n",
      "Unknown                  465935 non-null uint8\n",
      "dtypes: float64(28), uint8(61)\n",
      "memory usage: 128.4+ MB\n"
     ]
    }
   ],
   "source": [
    "dummy_data = pd.get_dummies(data,\n",
    "                            columns=['year','month', 'msize', 'age',  'sector'],\n",
    "                            prefix=['year','month', 'msize', 'age', ''],\n",
    "                            prefix_sep=['_', '_', '_', '_', ''])\n",
    "dummy_data = dummy_data.rename(columns={c:c.replace('.0', '') for c in dummy_data.columns})\n",
    "dummy_data.info()"
   ]
  },
  {
   "cell_type": "markdown",
   "metadata": {},
   "source": [
    "### Mutual Information"
   ]
  },
  {
   "cell_type": "markdown",
   "metadata": {},
   "source": [
    "#### Original Data"
   ]
  },
  {
   "cell_type": "code",
   "execution_count": 55,
   "metadata": {
    "ExecuteTime": {
     "end_time": "2018-12-25T20:21:27.307109Z",
     "start_time": "2018-12-25T20:21:04.296Z"
    }
   },
   "outputs": [],
   "source": [
    "target_labels = [f'target_{i}m' for i in [1,2,3,6,12]]\n",
    "targets = data.dropna().loc[:, target_labels]\n",
    "\n",
    "features = data.dropna().drop(target_labels, axis=1)\n",
    "features.sector = pd.factorize(features.sector)[0]\n",
    "\n",
    "cat_cols = ['year', 'month', 'msize', 'age', 'sector']\n",
    "discrete_features = [features.columns.get_loc(c) for c in cat_cols]"
   ]
  },
  {
   "cell_type": "code",
   "execution_count": 56,
   "metadata": {
    "ExecuteTime": {
     "end_time": "2018-12-25T20:21:27.307891Z",
     "start_time": "2018-12-25T20:21:04.298Z"
    }
   },
   "outputs": [],
   "source": [
    "mutual_info = pd.DataFrame()\n",
    "for label in target_labels:\n",
    "    mi = mutual_info_classif(X=features, \n",
    "                             y=(targets[label]> 0).astype(int),\n",
    "                             discrete_features=discrete_features,\n",
    "                             random_state=42\n",
    "                            )\n",
    "    mutual_info[label] = pd.Series(mi, index=features.columns)"
   ]
  },
  {
   "cell_type": "code",
   "execution_count": 57,
   "metadata": {
    "ExecuteTime": {
     "end_time": "2018-12-25T20:21:27.308584Z",
     "start_time": "2018-12-25T20:21:04.300Z"
    }
   },
   "outputs": [
    {
     "data": {
      "text/plain": [
       "target_1m     0.194954\n",
       "target_2m     0.224430\n",
       "target_3m     0.255852\n",
       "target_6m     0.318503\n",
       "target_12m    0.387242\n",
       "dtype: float64"
      ]
     },
     "execution_count": 57,
     "metadata": {},
     "output_type": "execute_result"
    }
   ],
   "source": [
    "mutual_info.sum()"
   ]
  },
  {
   "cell_type": "markdown",
   "metadata": {},
   "source": [
    "#### Normalized MI Heatmap"
   ]
  },
  {
   "cell_type": "code",
   "execution_count": 58,
   "metadata": {
    "ExecuteTime": {
     "end_time": "2018-12-25T20:21:27.309268Z",
     "start_time": "2018-12-25T20:21:04.303Z"
    }
   },
   "outputs": [
    {
     "data": {
      "image/png": "[encoded data removed]",
      "text/plain": [
       "<Figure size 1080x288 with 2 Axes>"
      ]
     },
     "metadata": {},
     "output_type": "display_data"
    }
   ],
   "source": [
    "fig, ax= plt.subplots(figsize=(15, 4))\n",
    "sns.heatmap(mutual_info.div(mutual_info.sum()).T, ax=ax, cmap='Blues');"
   ]
  },
  {
   "cell_type": "markdown",
   "metadata": {},
   "source": [
    "#### Dummy Data"
   ]
  },
  {
   "cell_type": "code",
   "execution_count": 59,
   "metadata": {
    "ExecuteTime": {
     "end_time": "2018-12-25T20:21:27.310071Z",
     "start_time": "2018-12-25T20:21:04.305Z"
    }
   },
   "outputs": [],
   "source": [
    "target_labels = [f'target_{i}m' for i in [1, 2, 3, 6, 12]]\n",
    "dummy_targets = dummy_data.dropna().loc[:, target_labels]\n",
    "\n",
    "dummy_features = dummy_data.dropna().drop(target_labels, axis=1)\n",
    "cat_cols = [c for c in dummy_features.columns if c not in features.columns]\n",
    "discrete_features = [dummy_features.columns.get_loc(c) for c in cat_cols]"
   ]
  },
  {
   "cell_type": "code",
   "execution_count": 60,
   "metadata": {
    "ExecuteTime": {
     "end_time": "2018-12-25T20:21:27.310763Z",
     "start_time": "2018-12-25T20:21:04.306Z"
    }
   },
   "outputs": [],
   "source": [
    "mutual_info_dummies = pd.DataFrame()\n",
    "for label in target_labels:\n",
    "    mi = mutual_info_classif(X=dummy_features, \n",
    "                             y=(dummy_targets[label]> 0).astype(int),\n",
    "                             discrete_features=discrete_features,\n",
    "                             random_state=42\n",
    "                            )    \n",
    "    mutual_info_dummies[label] = pd.Series(mi, index=dummy_features.columns)"
   ]
  },
  {
   "cell_type": "code",
   "execution_count": 61,
   "metadata": {
    "ExecuteTime": {
     "end_time": "2018-12-25T20:21:27.311457Z",
     "start_time": "2018-12-25T20:21:04.308Z"
    }
   },
   "outputs": [
    {
     "data": {
      "text/plain": [
       "target_1m     0.197071\n",
       "target_2m     0.227540\n",
       "target_3m     0.259866\n",
       "target_6m     0.324267\n",
       "target_12m    0.394604\n",
       "dtype: float64"
      ]
     },
     "execution_count": 61,
     "metadata": {},
     "output_type": "execute_result"
    }
   ],
   "source": [
    "mutual_info_dummies.sum()"
   ]
  },
  {
   "cell_type": "code",
   "execution_count": 62,
   "metadata": {
    "ExecuteTime": {
     "end_time": "2018-12-25T20:21:27.312192Z",
     "start_time": "2018-12-25T20:21:04.310Z"
    }
   },
   "outputs": [
    {
     "data": {
      "image/png": "[encoded data removed]",
      "text/plain": [
       "<Figure size 288x1440 with 2 Axes>"
      ]
     },
     "metadata": {},
     "output_type": "display_data"
    }
   ],
   "source": [
    "fig, ax= plt.subplots(figsize=(4, 20))\n",
    "sns.heatmap(mutual_info_dummies.div(mutual_info_dummies.sum()), ax=ax, cmap='Blues');"
   ]
  }
 ],
 "metadata": {
  "kernelspec": {
   "display_name": "Python 3",
   "language": "python",
   "name": "python3"
  },
  "language_info": {
   "codemirror_mode": {
    "name": "ipython",
    "version": 3
   },
   "file_extension": ".py",
   "mimetype": "text/x-python",
   "name": "python",
   "nbconvert_exporter": "python",
   "pygments_lexer": "ipython3",
   "version": "3.7.0"
  },
  "toc": {
   "base_numbering": 1,
   "nav_menu": {},
   "number_sections": true,
   "sideBar": true,
   "skip_h1_title": true,
   "title_cell": "Table of Contents",
   "title_sidebar": "Contents",
   "toc_cell": false,
   "toc_position": {
    "height": "calc(100% - 180px)",
    "left": "10px",
    "top": "150px",
    "width": "230.355px"
   },
   "toc_section_display": true,
   "toc_window_display": true
  }
 },
 "nbformat": 4,
 "nbformat_minor": 2
}
