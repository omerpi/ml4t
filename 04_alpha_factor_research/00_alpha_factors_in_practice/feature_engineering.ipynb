{
 "cells": [
  {
   "cell_type": "markdown",
   "metadata": {},
   "source": [
    "# How to transform data into factors"
   ]
  },
  {
   "cell_type": "markdown",
   "metadata": {},
   "source": [
    "Based on a conceptual understanding of key factor categories, their rationale and popular metrics, a key task is to identify new factors that may better capture the risks embodied by the return drivers laid out previously, or to find new ones. \n",
    "\n",
    "In either case, it will be important to compare the performance of innovative factors to that of known factors to identify incremental signal gains."
   ]
  },
  {
   "cell_type": "markdown",
   "metadata": {},
   "source": [
    "We create the dataset here and store it in our [data](../../data) folder to facilitate reuse in later chapters."
   ]
  },
  {
   "cell_type": "markdown",
   "metadata": {},
   "source": [
    "## Imports & Settings"
   ]
  },
  {
   "cell_type": "code",
   "execution_count": 3,
   "metadata": {
    "ExecuteTime": {
     "end_time": "2018-12-25T20:11:21.811956Z",
     "start_time": "2018-12-25T20:11:21.625862Z"
    }
   },
   "outputs": [],
   "source": [
    "%matplotlib inline\n",
    "\n",
    "import warnings\n",
    "from datetime import datetime\n",
    "import matplotlib.pyplot as plt\n",
    "import seaborn as sns\n",
    "import pandas as pd\n",
    "import pandas_datareader.data as web\n",
    "from pyfinance.ols import PandasRollingOLS"
   ]
  },
  {
   "cell_type": "code",
   "execution_count": 4,
   "metadata": {
    "ExecuteTime": {
     "end_time": "2018-12-25T20:11:22.962072Z",
     "start_time": "2018-12-25T20:11:22.955098Z"
    }
   },
   "outputs": [],
   "source": [
    "warnings.filterwarnings('ignore')\n",
    "plt.style.use('fivethirtyeight')\n",
    "idx = pd.IndexSlice"
   ]
  },
  {
   "cell_type": "markdown",
   "metadata": {},
   "source": [
    "## Get Data"
   ]
  },
  {
   "cell_type": "markdown",
   "metadata": {},
   "source": [
    "The `assets.h5` store can be generated using the the notebook [create_datasets](../../data/create_datasets.ipynb) in the [data](../../data) directory in the root directory of this repo for instruction to download the following dataset."
   ]
  },
  {
   "cell_type": "markdown",
   "metadata": {},
   "source": [
    "We load the Quandl stock price datasets covering the US equity markets 2000-18 using `pd.IndexSlice` to perform a slice operation on the `pd.MultiIndex`, select the adjusted close price and unpivot the column to convert the DataFrame to wide format with tickers in the columns and timestamps in the rows:"
   ]
  },
  {
   "cell_type": "markdown",
   "metadata": {},
   "source": [
    "Set data store location:"
   ]
  },
  {
   "cell_type": "code",
   "execution_count": 5,
   "metadata": {},
   "outputs": [],
   "source": [
    "DATA_STORE = '../../data/assets.h5'"
   ]
  },
  {
   "cell_type": "code",
   "execution_count": 6,
   "metadata": {},
   "outputs": [],
   "source": [
    "START = 2000\n",
    "END = 2018"
   ]
  },
  {
   "cell_type": "code",
   "execution_count": 7,
   "metadata": {
    "ExecuteTime": {
     "end_time": "2018-12-25T20:20:58.388579Z",
     "start_time": "2018-12-25T20:20:54.763191Z"
    }
   },
   "outputs": [],
   "source": [
    "with pd.HDFStore(DATA_STORE) as store:\n",
    "    prices = (store['quandl/wiki/prices']\n",
    "              .loc[idx[str(START):str(END), :], 'adj_close']\n",
    "              .unstack('ticker'))\n",
    "    stocks = store['us_equities/stocks'].loc[:, ['marketcap', 'ipoyear', 'sector']]"
   ]
  },
  {
   "cell_type": "markdown",
   "metadata": {},
   "source": [
    "### Keep data with stock info"
   ]
  },
  {
   "cell_type": "markdown",
   "metadata": {},
   "source": [
    "Remove `stocks` duplicates and align index names for later joining."
   ]
  },
  {
   "cell_type": "code",
   "execution_count": 8,
   "metadata": {
    "ExecuteTime": {
     "end_time": "2018-12-25T20:21:04.224845Z",
     "start_time": "2018-12-25T20:21:04.213399Z"
    }
   },
   "outputs": [],
   "source": [
    "stocks = stocks[~stocks.index.duplicated()]\n",
    "stocks.index.name = 'ticker'"
   ]
  },
  {
   "cell_type": "markdown",
   "metadata": {},
   "source": [
    "Get tickers with both price information and metdata"
   ]
  },
  {
   "cell_type": "code",
   "execution_count": 9,
   "metadata": {},
   "outputs": [],
   "source": [
    "shared = prices.columns.intersection(stocks.index)"
   ]
  },
  {
   "cell_type": "code",
   "execution_count": 10,
   "metadata": {},
   "outputs": [
    {
     "name": "stdout",
     "output_type": "stream",
     "text": [
      "<class 'pandas.core.frame.DataFrame'>\n",
      "Index: 2163 entries, A to ZUMZ\n",
      "Data columns (total 3 columns):\n",
      " #   Column     Non-Null Count  Dtype  \n",
      "---  ------     --------------  -----  \n",
      " 0   marketcap  2163 non-null   float64\n",
      " 1   ipoyear    935 non-null    float64\n",
      " 2   sector     2121 non-null   object \n",
      "dtypes: float64(2), object(1)\n",
      "memory usage: 67.6+ KB\n"
     ]
    }
   ],
   "source": [
    "stocks = stocks.loc[shared, :]\n",
    "stocks.info()"
   ]
  },
  {
   "cell_type": "code",
   "execution_count": 11,
   "metadata": {
    "ExecuteTime": {
     "end_time": "2018-12-25T20:21:04.314576Z",
     "start_time": "2018-12-25T20:21:04.227610Z"
    },
    "scrolled": true
   },
   "outputs": [
    {
     "name": "stdout",
     "output_type": "stream",
     "text": [
      "<class 'pandas.core.frame.DataFrame'>\n",
      "DatetimeIndex: 4706 entries, 2000-01-03 to 2018-03-27\n",
      "Columns: 2163 entries, A to ZUMZ\n",
      "dtypes: float64(2163)\n",
      "memory usage: 77.7 MB\n"
     ]
    }
   ],
   "source": [
    "prices = prices.loc[:, shared]\n",
    "prices.info()"
   ]
  },
  {
   "cell_type": "code",
   "execution_count": 12,
   "metadata": {},
   "outputs": [],
   "source": [
    "assert prices.shape[1] == stocks.shape[0]"
   ]
  },
  {
   "cell_type": "markdown",
   "metadata": {},
   "source": [
    "## Create monthly return series"
   ]
  },
  {
   "cell_type": "markdown",
   "metadata": {},
   "source": [
    "To reduce training time and experiment with strategies for longer time horizons, we convert the business-daily data to month-end frequency using the available adjusted close price:"
   ]
  },
  {
   "cell_type": "code",
   "execution_count": 13,
   "metadata": {
    "ExecuteTime": {
     "end_time": "2018-12-25T20:21:04.347475Z",
     "start_time": "2018-12-25T20:21:04.315535Z"
    }
   },
   "outputs": [],
   "source": [
    "monthly_prices = prices.resample('M').last()"
   ]
  },
  {
   "cell_type": "markdown",
   "metadata": {},
   "source": [
    "To capture time series dynamics that reflect, for example, momentum patterns, we compute historical returns using the method `.pct_change(n_periods)`, that is, returns over various monthly periods as identified by lags.\n",
    "\n",
    "We then convert the wide result back to long format with the `.stack()` method, use `.pipe()` to apply the `.clip()` method to the resulting `DataFrame`, and winsorize returns at the [1%, 99%] levels; that is, we cap outliers at these percentiles.\n",
    "\n",
    "Finally, we normalize returns using the geometric average. After using `.swaplevel()` to change the order of the `MultiIndex` levels, we obtain compounded monthly returns for six periods ranging from 1 to 12 months:"
   ]
  },
  {
   "cell_type": "code",
   "execution_count": 14,
   "metadata": {
    "ExecuteTime": {
     "end_time": "2018-12-25T20:21:11.219537Z",
     "start_time": "2018-12-25T20:21:04.349860Z"
    }
   },
   "outputs": [
    {
     "name": "stdout",
     "output_type": "stream",
     "text": [
      "<class 'pandas.core.frame.DataFrame'>\n",
      "MultiIndex: 362515 entries, ('A', Timestamp('2001-01-31 00:00:00', freq='M')) to ('ZUMZ', Timestamp('2018-03-31 00:00:00', freq='M'))\n",
      "Data columns (total 6 columns):\n",
      " #   Column      Non-Null Count   Dtype  \n",
      "---  ------      --------------   -----  \n",
      " 0   return_1m   362515 non-null  float64\n",
      " 1   return_2m   362515 non-null  float64\n",
      " 2   return_3m   362515 non-null  float64\n",
      " 3   return_6m   362515 non-null  float64\n",
      " 4   return_9m   362515 non-null  float64\n",
      " 5   return_12m  362515 non-null  float64\n",
      "dtypes: float64(6)\n",
      "memory usage: 18.0+ MB\n"
     ]
    }
   ],
   "source": [
    "outlier_cutoff = 0.01\n",
    "data = pd.DataFrame()\n",
    "lags = [1, 2, 3, 6, 9, 12]\n",
    "for lag in lags:\n",
    "    data[f'return_{lag}m'] = (monthly_prices\n",
    "                           .pct_change(lag)\n",
    "                           .stack()\n",
    "                           .pipe(lambda x: x.clip(lower=x.quantile(outlier_cutoff),\n",
    "                                                  upper=x.quantile(1-outlier_cutoff)))\n",
    "                           .add(1)\n",
    "                           .pow(1/lag)\n",
    "                           .sub(1)\n",
    "                           )\n",
    "data = data.swaplevel().dropna()\n",
    "data.info()"
   ]
  },
  {
   "cell_type": "markdown",
   "metadata": {},
   "source": [
    "## Drop stocks with less than 10 yrs of returns"
   ]
  },
  {
   "cell_type": "code",
   "execution_count": 15,
   "metadata": {
    "ExecuteTime": {
     "end_time": "2018-12-25T20:21:14.273535Z",
     "start_time": "2018-12-25T20:21:11.221231Z"
    }
   },
   "outputs": [
    {
     "name": "stdout",
     "output_type": "stream",
     "text": [
      "<class 'pandas.core.frame.DataFrame'>\n",
      "MultiIndex: 328791 entries, ('A', Timestamp('2001-01-31 00:00:00', freq='M')) to ('ZUMZ', Timestamp('2018-03-31 00:00:00', freq='M'))\n",
      "Data columns (total 6 columns):\n",
      " #   Column      Non-Null Count   Dtype  \n",
      "---  ------      --------------   -----  \n",
      " 0   return_1m   328791 non-null  float64\n",
      " 1   return_2m   328791 non-null  float64\n",
      " 2   return_3m   328791 non-null  float64\n",
      " 3   return_6m   328791 non-null  float64\n",
      " 4   return_9m   328791 non-null  float64\n",
      " 5   return_12m  328791 non-null  float64\n",
      "dtypes: float64(6)\n",
      "memory usage: 16.3+ MB\n"
     ]
    }
   ],
   "source": [
    "min_obs = 120\n",
    "nobs = data.groupby(level='ticker').size()\n",
    "keep = nobs[nobs>min_obs].index\n",
    "\n",
    "data = data.loc[idx[keep,:], :]\n",
    "data.info()"
   ]
  },
  {
   "cell_type": "code",
   "execution_count": 16,
   "metadata": {
    "ExecuteTime": {
     "end_time": "2018-12-25T20:21:14.409888Z",
     "start_time": "2018-12-25T20:21:14.274835Z"
    }
   },
   "outputs": [
    {
     "data": {
      "text/html": [
       "<div>\n",
       "<style scoped>\n",
       "    .dataframe tbody tr th:only-of-type {\n",
       "        vertical-align: middle;\n",
       "    }\n",
       "\n",
       "    .dataframe tbody tr th {\n",
       "        vertical-align: top;\n",
       "    }\n",
       "\n",
       "    .dataframe thead th {\n",
       "        text-align: right;\n",
       "    }\n",
       "</style>\n",
       "<table border=\"1\" class=\"dataframe\">\n",
       "  <thead>\n",
       "    <tr style=\"text-align: right;\">\n",
       "      <th></th>\n",
       "      <th>return_1m</th>\n",
       "      <th>return_2m</th>\n",
       "      <th>return_3m</th>\n",
       "      <th>return_6m</th>\n",
       "      <th>return_9m</th>\n",
       "      <th>return_12m</th>\n",
       "    </tr>\n",
       "  </thead>\n",
       "  <tbody>\n",
       "    <tr>\n",
       "      <th>count</th>\n",
       "      <td>328791.000000</td>\n",
       "      <td>328791.000000</td>\n",
       "      <td>328791.000000</td>\n",
       "      <td>328791.000000</td>\n",
       "      <td>328791.000000</td>\n",
       "      <td>328791.000000</td>\n",
       "    </tr>\n",
       "    <tr>\n",
       "      <th>mean</th>\n",
       "      <td>0.012465</td>\n",
       "      <td>0.009538</td>\n",
       "      <td>0.008540</td>\n",
       "      <td>0.007434</td>\n",
       "      <td>0.006969</td>\n",
       "      <td>0.006712</td>\n",
       "    </tr>\n",
       "    <tr>\n",
       "      <th>std</th>\n",
       "      <td>0.112307</td>\n",
       "      <td>0.079724</td>\n",
       "      <td>0.065365</td>\n",
       "      <td>0.047559</td>\n",
       "      <td>0.039151</td>\n",
       "      <td>0.034130</td>\n",
       "    </tr>\n",
       "    <tr>\n",
       "      <th>min</th>\n",
       "      <td>-0.324513</td>\n",
       "      <td>-0.250159</td>\n",
       "      <td>-0.209774</td>\n",
       "      <td>-0.158184</td>\n",
       "      <td>-0.129076</td>\n",
       "      <td>-0.111412</td>\n",
       "    </tr>\n",
       "    <tr>\n",
       "      <th>25%</th>\n",
       "      <td>-0.045444</td>\n",
       "      <td>-0.029857</td>\n",
       "      <td>-0.023202</td>\n",
       "      <td>-0.014246</td>\n",
       "      <td>-0.010480</td>\n",
       "      <td>-0.008425</td>\n",
       "    </tr>\n",
       "    <tr>\n",
       "      <th>50%</th>\n",
       "      <td>0.009634</td>\n",
       "      <td>0.009940</td>\n",
       "      <td>0.009971</td>\n",
       "      <td>0.009595</td>\n",
       "      <td>0.009258</td>\n",
       "      <td>0.008987</td>\n",
       "    </tr>\n",
       "    <tr>\n",
       "      <th>75%</th>\n",
       "      <td>0.065575</td>\n",
       "      <td>0.049012</td>\n",
       "      <td>0.041925</td>\n",
       "      <td>0.031971</td>\n",
       "      <td>0.027211</td>\n",
       "      <td>0.024649</td>\n",
       "    </tr>\n",
       "    <tr>\n",
       "      <th>max</th>\n",
       "      <td>0.424011</td>\n",
       "      <td>0.277273</td>\n",
       "      <td>0.218502</td>\n",
       "      <td>0.152436</td>\n",
       "      <td>0.123289</td>\n",
       "      <td>0.105537</td>\n",
       "    </tr>\n",
       "  </tbody>\n",
       "</table>\n",
       "</div>"
      ],
      "text/plain": [
       "           return_1m      return_2m      return_3m      return_6m  \\\n",
       "count  328791.000000  328791.000000  328791.000000  328791.000000   \n",
       "mean        0.012465       0.009538       0.008540       0.007434   \n",
       "std         0.112307       0.079724       0.065365       0.047559   \n",
       "min        -0.324513      -0.250159      -0.209774      -0.158184   \n",
       "25%        -0.045444      -0.029857      -0.023202      -0.014246   \n",
       "50%         0.009634       0.009940       0.009971       0.009595   \n",
       "75%         0.065575       0.049012       0.041925       0.031971   \n",
       "max         0.424011       0.277273       0.218502       0.152436   \n",
       "\n",
       "           return_9m     return_12m  \n",
       "count  328791.000000  328791.000000  \n",
       "mean        0.006969       0.006712  \n",
       "std         0.039151       0.034130  \n",
       "min        -0.129076      -0.111412  \n",
       "25%        -0.010480      -0.008425  \n",
       "50%         0.009258       0.008987  \n",
       "75%         0.027211       0.024649  \n",
       "max         0.123289       0.105537  "
      ]
     },
     "execution_count": 16,
     "metadata": {},
     "output_type": "execute_result"
    }
   ],
   "source": [
    "data.describe()"
   ]
  },
  {
   "cell_type": "code",
   "execution_count": 17,
   "metadata": {
    "ExecuteTime": {
     "end_time": "2018-12-25T20:21:16.941421Z",
     "start_time": "2018-12-25T20:21:14.411226Z"
    }
   },
   "outputs": [
    {
     "data": {
      "image/png": "[encoded data removed]",
      "text/plain": [
       "<Figure size 720x720 with 4 Axes>"
      ]
     },
     "metadata": {},
     "output_type": "display_data"
    }
   ],
   "source": [
    "# cmap = sns.diverging_palette(10, 220, as_cmap=True)\n",
    "sns.clustermap(data.corr('spearman'), annot=True, center=0, cmap='Blues');"
   ]
  },
  {
   "cell_type": "markdown",
   "metadata": {},
   "source": [
    "We are left with 1,670 tickers."
   ]
  },
  {
   "cell_type": "code",
   "execution_count": 18,
   "metadata": {
    "ExecuteTime": {
     "end_time": "2018-12-25T20:21:16.963520Z",
     "start_time": "2018-12-25T20:21:16.942416Z"
    }
   },
   "outputs": [
    {
     "data": {
      "text/plain": [
       "1670"
      ]
     },
     "execution_count": 18,
     "metadata": {},
     "output_type": "execute_result"
    }
   ],
   "source": [
    "data.index.get_level_values('ticker').nunique()"
   ]
  },
  {
   "cell_type": "markdown",
   "metadata": {},
   "source": [
    "## Rolling Factor Betas"
   ]
  },
  {
   "cell_type": "markdown",
   "metadata": {},
   "source": [
    "We will introduce the Fama—French data to estimate the exposure of assets to common risk factors using linear regression in [Chapter 8, Time Series Models]([](../../08_time_series_models))."
   ]
  },
  {
   "cell_type": "markdown",
   "metadata": {},
   "source": [
    "The five Fama—French factors, namely market risk, size, value, operating profitability, and investment have been shown empirically to explain asset returns and are commonly used to assess the risk/return profile of portfolios. Hence, it is natural to include past factor exposures as financial features in models that aim to predict future returns."
   ]
  },
  {
   "cell_type": "markdown",
   "metadata": {},
   "source": [
    "We can access the historical factor returns using the `pandas-datareader` and estimate historical exposures using the `PandasRollingOLS` rolling linear regression functionality in the `pyfinance` library as follows:"
   ]
  },
  {
   "cell_type": "markdown",
   "metadata": {},
   "source": [
    "Use Fama-French research factors to estimate the factor exposures of the stock in the dataset to the 5 factors market risk, size, value, operating profitability and investment."
   ]
  },
  {
   "cell_type": "code",
   "execution_count": 19,
   "metadata": {
    "ExecuteTime": {
     "end_time": "2018-12-25T20:21:17.055928Z",
     "start_time": "2018-12-25T20:21:16.964925Z"
    },
    "scrolled": false
   },
   "outputs": [
    {
     "name": "stdout",
     "output_type": "stream",
     "text": [
      "<class 'pandas.core.frame.DataFrame'>\n",
      "DatetimeIndex: 240 entries, 2000-01-31 to 2019-12-31\n",
      "Freq: M\n",
      "Data columns (total 5 columns):\n",
      " #   Column  Non-Null Count  Dtype  \n",
      "---  ------  --------------  -----  \n",
      " 0   Mkt-RF  240 non-null    float64\n",
      " 1   SMB     240 non-null    float64\n",
      " 2   HML     240 non-null    float64\n",
      " 3   RMW     240 non-null    float64\n",
      " 4   CMA     240 non-null    float64\n",
      "dtypes: float64(5)\n",
      "memory usage: 11.2 KB\n"
     ]
    }
   ],
   "source": [
    "factors = ['Mkt-RF', 'SMB', 'HML', 'RMW', 'CMA']\n",
    "factor_data = web.DataReader('F-F_Research_Data_5_Factors_2x3', 'famafrench', start='2000')[0].drop('RF', axis=1)\n",
    "factor_data.index = factor_data.index.to_timestamp()\n",
    "factor_data = factor_data.resample('M').last().div(100)\n",
    "factor_data.index.name = 'date'\n",
    "factor_data.info()"
   ]
  },
  {
   "cell_type": "code",
   "execution_count": 20,
   "metadata": {
    "ExecuteTime": {
     "end_time": "2018-12-25T20:21:17.331194Z",
     "start_time": "2018-12-25T20:21:17.056929Z"
    },
    "scrolled": true
   },
   "outputs": [
    {
     "name": "stdout",
     "output_type": "stream",
     "text": [
      "<class 'pandas.core.frame.DataFrame'>\n",
      "MultiIndex: 328791 entries, ('A', Timestamp('2001-01-31 00:00:00', freq='M')) to ('ZUMZ', Timestamp('2018-03-31 00:00:00', freq='M'))\n",
      "Data columns (total 6 columns):\n",
      " #   Column     Non-Null Count   Dtype  \n",
      "---  ------     --------------   -----  \n",
      " 0   Mkt-RF     328791 non-null  float64\n",
      " 1   SMB        328791 non-null  float64\n",
      " 2   HML        328791 non-null  float64\n",
      " 3   RMW        328791 non-null  float64\n",
      " 4   CMA        328791 non-null  float64\n",
      " 5   return_1m  328791 non-null  float64\n",
      "dtypes: float64(6)\n",
      "memory usage: 16.3+ MB\n"
     ]
    }
   ],
   "source": [
    "factor_data = factor_data.join(data['return_1m']).sort_index()\n",
    "factor_data.info()"
   ]
  },
  {
   "cell_type": "code",
   "execution_count": 21,
   "metadata": {
    "ExecuteTime": {
     "end_time": "2018-12-25T20:21:19.844785Z",
     "start_time": "2018-12-25T20:21:17.332666Z"
    }
   },
   "outputs": [],
   "source": [
    "T = 24\n",
    "betas = (factor_data\n",
    "         .groupby(level='ticker', group_keys=False)\n",
    "         .apply(lambda x: PandasRollingOLS(window=min(T, x.shape[0]-1), y=x.return_1m, x=x.drop('return_1m', axis=1)).beta))"
   ]
  },
  {
   "cell_type": "code",
   "execution_count": 22,
   "metadata": {
    "ExecuteTime": {
     "end_time": "2018-12-25T20:21:20.017589Z",
     "start_time": "2018-12-25T20:21:19.845761Z"
    }
   },
   "outputs": [
    {
     "data": {
      "text/html": [
       "<div>\n",
       "<style scoped>\n",
       "    .dataframe tbody tr th:only-of-type {\n",
       "        vertical-align: middle;\n",
       "    }\n",
       "\n",
       "    .dataframe tbody tr th {\n",
       "        vertical-align: top;\n",
       "    }\n",
       "\n",
       "    .dataframe thead th {\n",
       "        text-align: right;\n",
       "    }\n",
       "</style>\n",
       "<table border=\"1\" class=\"dataframe\">\n",
       "  <thead>\n",
       "    <tr style=\"text-align: right;\">\n",
       "      <th></th>\n",
       "      <th>Mkt-RF</th>\n",
       "      <th>SMB</th>\n",
       "      <th>HML</th>\n",
       "      <th>RMW</th>\n",
       "      <th>CMA</th>\n",
       "      <th>total</th>\n",
       "    </tr>\n",
       "  </thead>\n",
       "  <tbody>\n",
       "    <tr>\n",
       "      <th>count</th>\n",
       "      <td>290381.000000</td>\n",
       "      <td>290381.000000</td>\n",
       "      <td>290381.000000</td>\n",
       "      <td>290381.000000</td>\n",
       "      <td>290381.000000</td>\n",
       "      <td>290381.000000</td>\n",
       "    </tr>\n",
       "    <tr>\n",
       "      <th>mean</th>\n",
       "      <td>0.976291</td>\n",
       "      <td>0.622184</td>\n",
       "      <td>0.131103</td>\n",
       "      <td>-0.044066</td>\n",
       "      <td>0.017571</td>\n",
       "      <td>1.703083</td>\n",
       "    </tr>\n",
       "    <tr>\n",
       "      <th>std</th>\n",
       "      <td>0.901130</td>\n",
       "      <td>1.239821</td>\n",
       "      <td>1.535424</td>\n",
       "      <td>1.957205</td>\n",
       "      <td>2.147584</td>\n",
       "      <td>3.528508</td>\n",
       "    </tr>\n",
       "    <tr>\n",
       "      <th>min</th>\n",
       "      <td>-9.294462</td>\n",
       "      <td>-10.140311</td>\n",
       "      <td>-13.031639</td>\n",
       "      <td>-24.555394</td>\n",
       "      <td>-16.060095</td>\n",
       "      <td>-34.796926</td>\n",
       "    </tr>\n",
       "    <tr>\n",
       "      <th>25%</th>\n",
       "      <td>0.463232</td>\n",
       "      <td>-0.115470</td>\n",
       "      <td>-0.678240</td>\n",
       "      <td>-0.975419</td>\n",
       "      <td>-1.075385</td>\n",
       "      <td>-0.122099</td>\n",
       "    </tr>\n",
       "    <tr>\n",
       "      <th>50%</th>\n",
       "      <td>0.928089</td>\n",
       "      <td>0.539621</td>\n",
       "      <td>0.103608</td>\n",
       "      <td>0.058843</td>\n",
       "      <td>0.044222</td>\n",
       "      <td>1.646345</td>\n",
       "    </tr>\n",
       "    <tr>\n",
       "      <th>75%</th>\n",
       "      <td>1.440239</td>\n",
       "      <td>1.293105</td>\n",
       "      <td>0.919639</td>\n",
       "      <td>0.990269</td>\n",
       "      <td>1.134505</td>\n",
       "      <td>3.511307</td>\n",
       "    </tr>\n",
       "    <tr>\n",
       "      <th>max</th>\n",
       "      <td>10.388806</td>\n",
       "      <td>10.174975</td>\n",
       "      <td>13.103595</td>\n",
       "      <td>17.623200</td>\n",
       "      <td>16.869899</td>\n",
       "      <td>35.497045</td>\n",
       "    </tr>\n",
       "  </tbody>\n",
       "</table>\n",
       "</div>"
      ],
      "text/plain": [
       "              Mkt-RF            SMB            HML            RMW  \\\n",
       "count  290381.000000  290381.000000  290381.000000  290381.000000   \n",
       "mean        0.976291       0.622184       0.131103      -0.044066   \n",
       "std         0.901130       1.239821       1.535424       1.957205   \n",
       "min        -9.294462     -10.140311     -13.031639     -24.555394   \n",
       "25%         0.463232      -0.115470      -0.678240      -0.975419   \n",
       "50%         0.928089       0.539621       0.103608       0.058843   \n",
       "75%         1.440239       1.293105       0.919639       0.990269   \n",
       "max        10.388806      10.174975      13.103595      17.623200   \n",
       "\n",
       "                 CMA          total  \n",
       "count  290381.000000  290381.000000  \n",
       "mean        0.017571       1.703083  \n",
       "std         2.147584       3.528508  \n",
       "min       -16.060095     -34.796926  \n",
       "25%        -1.075385      -0.122099  \n",
       "50%         0.044222       1.646345  \n",
       "75%         1.134505       3.511307  \n",
       "max        16.869899      35.497045  "
      ]
     },
     "execution_count": 22,
     "metadata": {},
     "output_type": "execute_result"
    }
   ],
   "source": [
    "betas.describe().join(betas.sum(1).describe().to_frame('total'))"
   ]
  },
  {
   "cell_type": "code",
   "execution_count": 23,
   "metadata": {
    "ExecuteTime": {
     "end_time": "2018-12-25T20:21:20.301123Z",
     "start_time": "2018-12-25T20:21:20.018625Z"
    }
   },
   "outputs": [
    {
     "data": {
      "image/png": "[encoded data removed]",
      "text/plain": [
       "<Figure size 720x720 with 4 Axes>"
      ]
     },
     "metadata": {},
     "output_type": "display_data"
    }
   ],
   "source": [
    "cmap = sns.diverging_palette(10, 220, as_cmap=True)\n",
    "sns.clustermap(betas.corr(), annot=True, cmap=cmap, center=0);"
   ]
  },
  {
   "cell_type": "code",
   "execution_count": 24,
   "metadata": {
    "ExecuteTime": {
     "end_time": "2018-12-25T20:21:22.393396Z",
     "start_time": "2018-12-25T20:21:20.304774Z"
    },
    "scrolled": true
   },
   "outputs": [
    {
     "name": "stdout",
     "output_type": "stream",
     "text": [
      "<class 'pandas.core.frame.DataFrame'>\n",
      "MultiIndex: 328791 entries, ('A', Timestamp('2001-01-31 00:00:00', freq='M')) to ('ZUMZ', Timestamp('2018-03-31 00:00:00', freq='M'))\n",
      "Data columns (total 11 columns):\n",
      " #   Column      Non-Null Count   Dtype  \n",
      "---  ------      --------------   -----  \n",
      " 0   return_1m   328791 non-null  float64\n",
      " 1   return_2m   328791 non-null  float64\n",
      " 2   return_3m   328791 non-null  float64\n",
      " 3   return_6m   328791 non-null  float64\n",
      " 4   return_9m   328791 non-null  float64\n",
      " 5   return_12m  328791 non-null  float64\n",
      " 6   Mkt-RF      288711 non-null  float64\n",
      " 7   SMB         288711 non-null  float64\n",
      " 8   HML         288711 non-null  float64\n",
      " 9   RMW         288711 non-null  float64\n",
      " 10  CMA         288711 non-null  float64\n",
      "dtypes: float64(11)\n",
      "memory usage: 38.9+ MB\n"
     ]
    }
   ],
   "source": [
    "data = (data\n",
    "        .join(betas\n",
    "              .groupby(level='ticker')\n",
    "              .shift()))\n",
    "data.info()"
   ]
  },
  {
   "cell_type": "markdown",
   "metadata": {},
   "source": [
    "### Impute mean for missing factor betas"
   ]
  },
  {
   "cell_type": "code",
   "execution_count": 25,
   "metadata": {
    "ExecuteTime": {
     "end_time": "2018-12-25T20:21:26.128936Z",
     "start_time": "2018-12-25T20:21:22.394788Z"
    }
   },
   "outputs": [
    {
     "name": "stdout",
     "output_type": "stream",
     "text": [
      "<class 'pandas.core.frame.DataFrame'>\n",
      "MultiIndex: 328791 entries, ('A', Timestamp('2001-01-31 00:00:00', freq='M')) to ('ZUMZ', Timestamp('2018-03-31 00:00:00', freq='M'))\n",
      "Data columns (total 11 columns):\n",
      " #   Column      Non-Null Count   Dtype  \n",
      "---  ------      --------------   -----  \n",
      " 0   return_1m   328791 non-null  float64\n",
      " 1   return_2m   328791 non-null  float64\n",
      " 2   return_3m   328791 non-null  float64\n",
      " 3   return_6m   328791 non-null  float64\n",
      " 4   return_9m   328791 non-null  float64\n",
      " 5   return_12m  328791 non-null  float64\n",
      " 6   Mkt-RF      328791 non-null  float64\n",
      " 7   SMB         328791 non-null  float64\n",
      " 8   HML         328791 non-null  float64\n",
      " 9   RMW         328791 non-null  float64\n",
      " 10  CMA         328791 non-null  float64\n",
      "dtypes: float64(11)\n",
      "memory usage: 38.9+ MB\n"
     ]
    }
   ],
   "source": [
    "data.loc[:, factors] = data.groupby('ticker')[factors].apply(lambda x: x.fillna(x.mean()))\n",
    "data.info()"
   ]
  },
  {
   "cell_type": "markdown",
   "metadata": {},
   "source": [
    "## Momentum factors"
   ]
  },
  {
   "cell_type": "markdown",
   "metadata": {},
   "source": [
    "We can use these results to compute momentum factors based on the difference between returns over longer periods and the most recent monthly return, as well as for the difference between 3 and 12 month returns as follows:"
   ]
  },
  {
   "cell_type": "code",
   "execution_count": 26,
   "metadata": {
    "ExecuteTime": {
     "end_time": "2018-12-25T20:21:26.148656Z",
     "start_time": "2018-12-25T20:21:26.129919Z"
    }
   },
   "outputs": [],
   "source": [
    "for lag in [2,3,6,9,12]:\n",
    "    data[f'momentum_{lag}'] = data[f'return_{lag}m'].sub(data.return_1m)\n",
    "data[f'momentum_3_12'] = data[f'return_12m'].sub(data.return_3m)"
   ]
  },
  {
   "cell_type": "markdown",
   "metadata": {},
   "source": [
    "## Date Indicators"
   ]
  },
  {
   "cell_type": "code",
   "execution_count": 27,
   "metadata": {
    "ExecuteTime": {
     "end_time": "2018-12-25T20:21:26.178157Z",
     "start_time": "2018-12-25T20:21:26.149989Z"
    }
   },
   "outputs": [],
   "source": [
    "dates = data.index.get_level_values('date')\n",
    "data['year'] = dates.year\n",
    "data['month'] = dates.month"
   ]
  },
  {
   "cell_type": "markdown",
   "metadata": {},
   "source": [
    "## Lagged returns"
   ]
  },
  {
   "cell_type": "markdown",
   "metadata": {},
   "source": [
    "To use lagged values as input variables or features associated with the current observations, we use the .shift() method to move historical returns up to the current period:"
   ]
  },
  {
   "cell_type": "code",
   "execution_count": 28,
   "metadata": {
    "ExecuteTime": {
     "end_time": "2018-12-25T20:21:26.572552Z",
     "start_time": "2018-12-25T20:21:26.179228Z"
    }
   },
   "outputs": [
    {
     "name": "stdout",
     "output_type": "stream",
     "text": [
      "<class 'pandas.core.frame.DataFrame'>\n",
      "MultiIndex: 328791 entries, ('A', Timestamp('2001-01-31 00:00:00', freq='M')) to ('ZUMZ', Timestamp('2018-03-31 00:00:00', freq='M'))\n",
      "Data columns (total 25 columns):\n",
      " #   Column         Non-Null Count   Dtype  \n",
      "---  ------         --------------   -----  \n",
      " 0   return_1m      328791 non-null  float64\n",
      " 1   return_2m      328791 non-null  float64\n",
      " 2   return_3m      328791 non-null  float64\n",
      " 3   return_6m      328791 non-null  float64\n",
      " 4   return_9m      328791 non-null  float64\n",
      " 5   return_12m     328791 non-null  float64\n",
      " 6   Mkt-RF         328791 non-null  float64\n",
      " 7   SMB            328791 non-null  float64\n",
      " 8   HML            328791 non-null  float64\n",
      " 9   RMW            328791 non-null  float64\n",
      " 10  CMA            328791 non-null  float64\n",
      " 11  momentum_2     328791 non-null  float64\n",
      " 12  momentum_3     328791 non-null  float64\n",
      " 13  momentum_6     328791 non-null  float64\n",
      " 14  momentum_9     328791 non-null  float64\n",
      " 15  momentum_12    328791 non-null  float64\n",
      " 16  momentum_3_12  328791 non-null  float64\n",
      " 17  year           328791 non-null  int64  \n",
      " 18  month          328791 non-null  int64  \n",
      " 19  return_1m_t-1  327121 non-null  float64\n",
      " 20  return_1m_t-2  325451 non-null  float64\n",
      " 21  return_1m_t-3  323781 non-null  float64\n",
      " 22  return_1m_t-4  322111 non-null  float64\n",
      " 23  return_1m_t-5  320441 non-null  float64\n",
      " 24  return_1m_t-6  318771 non-null  float64\n",
      "dtypes: float64(23), int64(2)\n",
      "memory usage: 74.0+ MB\n"
     ]
    }
   ],
   "source": [
    "for t in range(1, 7):\n",
    "    data[f'return_1m_t-{t}'] = data.groupby(level='ticker').return_1m.shift(t)\n",
    "data.info()"
   ]
  },
  {
   "cell_type": "markdown",
   "metadata": {},
   "source": [
    "## Target: Holding Period Returns"
   ]
  },
  {
   "cell_type": "markdown",
   "metadata": {},
   "source": [
    "Similarly, to compute returns for various holding periods, we use the normalized period returns computed previously and shift them back to align them with the current financial features"
   ]
  },
  {
   "cell_type": "code",
   "execution_count": 29,
   "metadata": {
    "ExecuteTime": {
     "end_time": "2018-12-25T20:21:26.803930Z",
     "start_time": "2018-12-25T20:21:26.573662Z"
    }
   },
   "outputs": [],
   "source": [
    "for t in [1,2,3,6,12]:\n",
    "    data[f'target_{t}m'] = data.groupby(level='ticker')[f'return_{t}m'].shift(-t)"
   ]
  },
  {
   "cell_type": "code",
   "execution_count": 30,
   "metadata": {
    "ExecuteTime": {
     "end_time": "2018-12-25T20:21:27.100683Z",
     "start_time": "2018-12-25T20:21:26.804811Z"
    }
   },
   "outputs": [
    {
     "data": {
      "text/html": [
       "<div>\n",
       "<style scoped>\n",
       "    .dataframe tbody tr th:only-of-type {\n",
       "        vertical-align: middle;\n",
       "    }\n",
       "\n",
       "    .dataframe tbody tr th {\n",
       "        vertical-align: top;\n",
       "    }\n",
       "\n",
       "    .dataframe thead th {\n",
       "        text-align: right;\n",
       "    }\n",
       "</style>\n",
       "<table border=\"1\" class=\"dataframe\">\n",
       "  <thead>\n",
       "    <tr style=\"text-align: right;\">\n",
       "      <th></th>\n",
       "      <th></th>\n",
       "      <th>target_1m</th>\n",
       "      <th>target_2m</th>\n",
       "      <th>target_3m</th>\n",
       "      <th>return_1m</th>\n",
       "      <th>return_2m</th>\n",
       "      <th>return_3m</th>\n",
       "      <th>return_1m_t-1</th>\n",
       "      <th>return_1m_t-2</th>\n",
       "      <th>return_1m_t-3</th>\n",
       "    </tr>\n",
       "    <tr>\n",
       "      <th>ticker</th>\n",
       "      <th>date</th>\n",
       "      <th></th>\n",
       "      <th></th>\n",
       "      <th></th>\n",
       "      <th></th>\n",
       "      <th></th>\n",
       "      <th></th>\n",
       "      <th></th>\n",
       "      <th></th>\n",
       "      <th></th>\n",
       "    </tr>\n",
       "  </thead>\n",
       "  <tbody>\n",
       "    <tr>\n",
       "      <th rowspan=\"10\" valign=\"top\">A</th>\n",
       "      <th>2001-04-30</th>\n",
       "      <td>-0.140220</td>\n",
       "      <td>-0.087246</td>\n",
       "      <td>-0.098192</td>\n",
       "      <td>0.269444</td>\n",
       "      <td>0.040966</td>\n",
       "      <td>-0.105747</td>\n",
       "      <td>-0.146389</td>\n",
       "      <td>-0.324513</td>\n",
       "      <td>-0.003653</td>\n",
       "    </tr>\n",
       "    <tr>\n",
       "      <th>2001-05-31</th>\n",
       "      <td>-0.031008</td>\n",
       "      <td>-0.076414</td>\n",
       "      <td>-0.075527</td>\n",
       "      <td>-0.140220</td>\n",
       "      <td>0.044721</td>\n",
       "      <td>-0.023317</td>\n",
       "      <td>0.269444</td>\n",
       "      <td>-0.146389</td>\n",
       "      <td>-0.324513</td>\n",
       "    </tr>\n",
       "    <tr>\n",
       "      <th>2001-06-30</th>\n",
       "      <td>-0.119692</td>\n",
       "      <td>-0.097014</td>\n",
       "      <td>-0.155847</td>\n",
       "      <td>-0.031008</td>\n",
       "      <td>-0.087246</td>\n",
       "      <td>0.018842</td>\n",
       "      <td>-0.140220</td>\n",
       "      <td>0.269444</td>\n",
       "      <td>-0.146389</td>\n",
       "    </tr>\n",
       "    <tr>\n",
       "      <th>2001-07-31</th>\n",
       "      <td>-0.073750</td>\n",
       "      <td>-0.173364</td>\n",
       "      <td>-0.080114</td>\n",
       "      <td>-0.119692</td>\n",
       "      <td>-0.076414</td>\n",
       "      <td>-0.098192</td>\n",
       "      <td>-0.031008</td>\n",
       "      <td>-0.140220</td>\n",
       "      <td>0.269444</td>\n",
       "    </tr>\n",
       "    <tr>\n",
       "      <th>2001-08-31</th>\n",
       "      <td>-0.262264</td>\n",
       "      <td>-0.083279</td>\n",
       "      <td>0.009593</td>\n",
       "      <td>-0.073750</td>\n",
       "      <td>-0.097014</td>\n",
       "      <td>-0.075527</td>\n",
       "      <td>-0.119692</td>\n",
       "      <td>-0.031008</td>\n",
       "      <td>-0.140220</td>\n",
       "    </tr>\n",
       "    <tr>\n",
       "      <th>2001-09-30</th>\n",
       "      <td>0.139130</td>\n",
       "      <td>0.181052</td>\n",
       "      <td>0.134010</td>\n",
       "      <td>-0.262264</td>\n",
       "      <td>-0.173364</td>\n",
       "      <td>-0.155847</td>\n",
       "      <td>-0.073750</td>\n",
       "      <td>-0.119692</td>\n",
       "      <td>-0.031008</td>\n",
       "    </tr>\n",
       "    <tr>\n",
       "      <th>2001-10-31</th>\n",
       "      <td>0.224517</td>\n",
       "      <td>0.131458</td>\n",
       "      <td>0.108697</td>\n",
       "      <td>0.139130</td>\n",
       "      <td>-0.083279</td>\n",
       "      <td>-0.080114</td>\n",
       "      <td>-0.262264</td>\n",
       "      <td>-0.073750</td>\n",
       "      <td>-0.119692</td>\n",
       "    </tr>\n",
       "    <tr>\n",
       "      <th>2001-11-30</th>\n",
       "      <td>0.045471</td>\n",
       "      <td>0.054962</td>\n",
       "      <td>0.045340</td>\n",
       "      <td>0.224517</td>\n",
       "      <td>0.181052</td>\n",
       "      <td>0.009593</td>\n",
       "      <td>0.139130</td>\n",
       "      <td>-0.262264</td>\n",
       "      <td>-0.073750</td>\n",
       "    </tr>\n",
       "    <tr>\n",
       "      <th>2001-12-31</th>\n",
       "      <td>0.064539</td>\n",
       "      <td>0.045275</td>\n",
       "      <td>0.070347</td>\n",
       "      <td>0.045471</td>\n",
       "      <td>0.131458</td>\n",
       "      <td>0.134010</td>\n",
       "      <td>0.224517</td>\n",
       "      <td>0.139130</td>\n",
       "      <td>-0.262264</td>\n",
       "    </tr>\n",
       "    <tr>\n",
       "      <th>2002-01-31</th>\n",
       "      <td>0.026359</td>\n",
       "      <td>0.073264</td>\n",
       "      <td>-0.003306</td>\n",
       "      <td>0.064539</td>\n",
       "      <td>0.054962</td>\n",
       "      <td>0.108697</td>\n",
       "      <td>0.045471</td>\n",
       "      <td>0.224517</td>\n",
       "      <td>0.139130</td>\n",
       "    </tr>\n",
       "  </tbody>\n",
       "</table>\n",
       "</div>"
      ],
      "text/plain": [
       "                   target_1m  target_2m  target_3m  return_1m  return_2m  \\\n",
       "ticker date                                                                \n",
       "A      2001-04-30  -0.140220  -0.087246  -0.098192   0.269444   0.040966   \n",
       "       2001-05-31  -0.031008  -0.076414  -0.075527  -0.140220   0.044721   \n",
       "       2001-06-30  -0.119692  -0.097014  -0.155847  -0.031008  -0.087246   \n",
       "       2001-07-31  -0.073750  -0.173364  -0.080114  -0.119692  -0.076414   \n",
       "       2001-08-31  -0.262264  -0.083279   0.009593  -0.073750  -0.097014   \n",
       "       2001-09-30   0.139130   0.181052   0.134010  -0.262264  -0.173364   \n",
       "       2001-10-31   0.224517   0.131458   0.108697   0.139130  -0.083279   \n",
       "       2001-11-30   0.045471   0.054962   0.045340   0.224517   0.181052   \n",
       "       2001-12-31   0.064539   0.045275   0.070347   0.045471   0.131458   \n",
       "       2002-01-31   0.026359   0.073264  -0.003306   0.064539   0.054962   \n",
       "\n",
       "                   return_3m  return_1m_t-1  return_1m_t-2  return_1m_t-3  \n",
       "ticker date                                                                \n",
       "A      2001-04-30  -0.105747      -0.146389      -0.324513      -0.003653  \n",
       "       2001-05-31  -0.023317       0.269444      -0.146389      -0.324513  \n",
       "       2001-06-30   0.018842      -0.140220       0.269444      -0.146389  \n",
       "       2001-07-31  -0.098192      -0.031008      -0.140220       0.269444  \n",
       "       2001-08-31  -0.075527      -0.119692      -0.031008      -0.140220  \n",
       "       2001-09-30  -0.155847      -0.073750      -0.119692      -0.031008  \n",
       "       2001-10-31  -0.080114      -0.262264      -0.073750      -0.119692  \n",
       "       2001-11-30   0.009593       0.139130      -0.262264      -0.073750  \n",
       "       2001-12-31   0.134010       0.224517       0.139130      -0.262264  \n",
       "       2002-01-31   0.108697       0.045471       0.224517       0.139130  "
      ]
     },
     "execution_count": 30,
     "metadata": {},
     "output_type": "execute_result"
    }
   ],
   "source": [
    "cols = ['target_1m',\n",
    "        'target_2m',\n",
    "        'target_3m', \n",
    "        'return_1m',\n",
    "        'return_2m',\n",
    "        'return_3m',\n",
    "        'return_1m_t-1',\n",
    "        'return_1m_t-2',\n",
    "        'return_1m_t-3']\n",
    "\n",
    "data[cols].dropna().sort_index().head(10)"
   ]
  },
  {
   "cell_type": "code",
   "execution_count": 31,
   "metadata": {
    "ExecuteTime": {
     "end_time": "2018-12-25T20:21:27.239829Z",
     "start_time": "2018-12-25T20:21:27.101668Z"
    }
   },
   "outputs": [
    {
     "name": "stdout",
     "output_type": "stream",
     "text": [
      "<class 'pandas.core.frame.DataFrame'>\n",
      "MultiIndex: 328791 entries, ('A', Timestamp('2001-01-31 00:00:00', freq='M')) to ('ZUMZ', Timestamp('2018-03-31 00:00:00', freq='M'))\n",
      "Data columns (total 30 columns):\n",
      " #   Column         Non-Null Count   Dtype  \n",
      "---  ------         --------------   -----  \n",
      " 0   return_1m      328791 non-null  float64\n",
      " 1   return_2m      328791 non-null  float64\n",
      " 2   return_3m      328791 non-null  float64\n",
      " 3   return_6m      328791 non-null  float64\n",
      " 4   return_9m      328791 non-null  float64\n",
      " 5   return_12m     328791 non-null  float64\n",
      " 6   Mkt-RF         328791 non-null  float64\n",
      " 7   SMB            328791 non-null  float64\n",
      " 8   HML            328791 non-null  float64\n",
      " 9   RMW            328791 non-null  float64\n",
      " 10  CMA            328791 non-null  float64\n",
      " 11  momentum_2     328791 non-null  float64\n",
      " 12  momentum_3     328791 non-null  float64\n",
      " 13  momentum_6     328791 non-null  float64\n",
      " 14  momentum_9     328791 non-null  float64\n",
      " 15  momentum_12    328791 non-null  float64\n",
      " 16  momentum_3_12  328791 non-null  float64\n",
      " 17  year           328791 non-null  int64  \n",
      " 18  month          328791 non-null  int64  \n",
      " 19  return_1m_t-1  327121 non-null  float64\n",
      " 20  return_1m_t-2  325451 non-null  float64\n",
      " 21  return_1m_t-3  323781 non-null  float64\n",
      " 22  return_1m_t-4  322111 non-null  float64\n",
      " 23  return_1m_t-5  320441 non-null  float64\n",
      " 24  return_1m_t-6  318771 non-null  float64\n",
      " 25  target_1m      327121 non-null  float64\n",
      " 26  target_2m      325451 non-null  float64\n",
      " 27  target_3m      323781 non-null  float64\n",
      " 28  target_6m      318771 non-null  float64\n",
      " 29  target_12m     308751 non-null  float64\n",
      "dtypes: float64(28), int64(2)\n",
      "memory usage: 86.6+ MB\n"
     ]
    }
   ],
   "source": [
    "data.info()"
   ]
  },
  {
   "cell_type": "markdown",
   "metadata": {},
   "source": [
    "## Create age proxy"
   ]
  },
  {
   "cell_type": "markdown",
   "metadata": {},
   "source": [
    "We use quintiles of IPO year as a proxy for company age."
   ]
  },
  {
   "cell_type": "code",
   "execution_count": 32,
   "metadata": {
    "ExecuteTime": {
     "end_time": "2018-12-25T20:21:27.286036Z",
     "start_time": "2018-12-25T20:21:27.241312Z"
    }
   },
   "outputs": [],
   "source": [
    "data = (data\n",
    "        .join(pd.qcut(stocks.ipoyear, q=5, labels=list(range(1, 6)))\n",
    "              .astype(float)\n",
    "              .fillna(0)\n",
    "              .astype(int)\n",
    "              .to_frame('age')))\n",
    "data.age = data.age.fillna(-1)"
   ]
  },
  {
   "cell_type": "markdown",
   "metadata": {},
   "source": [
    "## Create dynamic size proxy"
   ]
  },
  {
   "cell_type": "markdown",
   "metadata": {},
   "source": [
    "We use the marketcap information from the NASDAQ ticker info to create a size proxy."
   ]
  },
  {
   "cell_type": "code",
   "execution_count": 33,
   "metadata": {
    "ExecuteTime": {
     "end_time": "2018-12-25T20:23:14.190943Z",
     "start_time": "2018-12-25T20:23:14.184872Z"
    }
   },
   "outputs": [
    {
     "name": "stdout",
     "output_type": "stream",
     "text": [
      "<class 'pandas.core.frame.DataFrame'>\n",
      "Index: 2163 entries, A to ZUMZ\n",
      "Data columns (total 3 columns):\n",
      " #   Column     Non-Null Count  Dtype  \n",
      "---  ------     --------------  -----  \n",
      " 0   marketcap  2163 non-null   float64\n",
      " 1   ipoyear    935 non-null    float64\n",
      " 2   sector     2121 non-null   object \n",
      "dtypes: float64(2), object(1)\n",
      "memory usage: 147.6+ KB\n"
     ]
    }
   ],
   "source": [
    "stocks.info()"
   ]
  },
  {
   "cell_type": "markdown",
   "metadata": {},
   "source": [
    "Market cap information is tied to currrent prices. We create an adjustment factor to have the values reflect lower historical prices for each individual stock:"
   ]
  },
  {
   "cell_type": "code",
   "execution_count": 34,
   "metadata": {
    "ExecuteTime": {
     "end_time": "2018-12-25T20:21:27.302005Z",
     "start_time": "2018-12-25T20:21:04.281Z"
    }
   },
   "outputs": [
    {
     "name": "stdout",
     "output_type": "stream",
     "text": [
      "<class 'pandas.core.frame.DataFrame'>\n",
      "DatetimeIndex: 207 entries, 2018-03-31 to 2001-01-31\n",
      "Columns: 1670 entries, A to UFS\n",
      "dtypes: float64(1670)\n",
      "memory usage: 2.6 MB\n"
     ]
    }
   ],
   "source": [
    "size_factor = (monthly_prices\n",
    "               .loc[data.index.get_level_values('date').unique(),\n",
    "                    data.index.get_level_values('ticker').unique()]\n",
    "               .sort_index(ascending=False)\n",
    "               .pct_change()\n",
    "               .fillna(0)\n",
    "               .add(1)\n",
    "               .cumprod())\n",
    "size_factor.info()"
   ]
  },
  {
   "cell_type": "code",
   "execution_count": 35,
   "metadata": {
    "ExecuteTime": {
     "end_time": "2018-12-25T20:21:27.302756Z",
     "start_time": "2018-12-25T20:21:04.283Z"
    }
   },
   "outputs": [],
   "source": [
    "msize = (size_factor\n",
    "         .mul(stocks\n",
    "              .loc[size_factor.columns, 'marketcap'])).dropna(axis=1, how='all')"
   ]
  },
  {
   "cell_type": "markdown",
   "metadata": {},
   "source": [
    "### Create Size indicator as deciles per period"
   ]
  },
  {
   "cell_type": "markdown",
   "metadata": {},
   "source": [
    "Compute size deciles per month:"
   ]
  },
  {
   "cell_type": "code",
   "execution_count": 36,
   "metadata": {
    "ExecuteTime": {
     "end_time": "2018-12-25T20:21:27.303512Z",
     "start_time": "2018-12-25T20:21:04.284Z"
    }
   },
   "outputs": [],
   "source": [
    "data['msize'] = (msize\n",
    "                 .apply(lambda x: pd.qcut(x, q=10, labels=list(range(1, 11)))\n",
    "                        .astype(int), axis=1)\n",
    "                 .stack()\n",
    "                 .swaplevel())\n",
    "data.msize = data.msize.fillna(-1)"
   ]
  },
  {
   "cell_type": "markdown",
   "metadata": {},
   "source": [
    "## Combine data"
   ]
  },
  {
   "cell_type": "code",
   "execution_count": 37,
   "metadata": {
    "ExecuteTime": {
     "end_time": "2018-12-25T20:21:27.304218Z",
     "start_time": "2018-12-25T20:21:04.286Z"
    }
   },
   "outputs": [],
   "source": [
    "data = data.join(stocks[['sector']])\n",
    "data.sector = data.sector.fillna('Unknown')"
   ]
  },
  {
   "cell_type": "code",
   "execution_count": 38,
   "metadata": {
    "ExecuteTime": {
     "end_time": "2018-12-25T20:21:27.305025Z",
     "start_time": "2018-12-25T20:21:04.290Z"
    },
    "scrolled": false
   },
   "outputs": [
    {
     "name": "stdout",
     "output_type": "stream",
     "text": [
      "<class 'pandas.core.frame.DataFrame'>\n",
      "MultiIndex: 328791 entries, ('A', Timestamp('2001-01-31 00:00:00', freq='M')) to ('ZUMZ', Timestamp('2018-03-31 00:00:00', freq='M'))\n",
      "Data columns (total 33 columns):\n",
      " #   Column         Non-Null Count   Dtype  \n",
      "---  ------         --------------   -----  \n",
      " 0   return_1m      328791 non-null  float64\n",
      " 1   return_2m      328791 non-null  float64\n",
      " 2   return_3m      328791 non-null  float64\n",
      " 3   return_6m      328791 non-null  float64\n",
      " 4   return_9m      328791 non-null  float64\n",
      " 5   return_12m     328791 non-null  float64\n",
      " 6   Mkt-RF         328791 non-null  float64\n",
      " 7   SMB            328791 non-null  float64\n",
      " 8   HML            328791 non-null  float64\n",
      " 9   RMW            328791 non-null  float64\n",
      " 10  CMA            328791 non-null  float64\n",
      " 11  momentum_2     328791 non-null  float64\n",
      " 12  momentum_3     328791 non-null  float64\n",
      " 13  momentum_6     328791 non-null  float64\n",
      " 14  momentum_9     328791 non-null  float64\n",
      " 15  momentum_12    328791 non-null  float64\n",
      " 16  momentum_3_12  328791 non-null  float64\n",
      " 17  year           328791 non-null  int64  \n",
      " 18  month          328791 non-null  int64  \n",
      " 19  return_1m_t-1  327121 non-null  float64\n",
      " 20  return_1m_t-2  325451 non-null  float64\n",
      " 21  return_1m_t-3  323781 non-null  float64\n",
      " 22  return_1m_t-4  322111 non-null  float64\n",
      " 23  return_1m_t-5  320441 non-null  float64\n",
      " 24  return_1m_t-6  318771 non-null  float64\n",
      " 25  target_1m      327121 non-null  float64\n",
      " 26  target_2m      325451 non-null  float64\n",
      " 27  target_3m      323781 non-null  float64\n",
      " 28  target_6m      318771 non-null  float64\n",
      " 29  target_12m     308751 non-null  float64\n",
      " 30  age            328791 non-null  int64  \n",
      " 31  msize          328791 non-null  int64  \n",
      " 32  sector         328791 non-null  object \n",
      "dtypes: float64(28), int64(4), object(1)\n",
      "memory usage: 94.1+ MB\n"
     ]
    }
   ],
   "source": [
    "data.info()"
   ]
  },
  {
   "cell_type": "markdown",
   "metadata": {},
   "source": [
    "## Store data"
   ]
  },
  {
   "cell_type": "markdown",
   "metadata": {},
   "source": [
    "We will use the data again in several later chapters, starting in [Chapter 7 on Linear Models](../../07_linear_models/README.md)."
   ]
  },
  {
   "cell_type": "code",
   "execution_count": 39,
   "metadata": {
    "scrolled": true
   },
   "outputs": [
    {
     "name": "stdout",
     "output_type": "stream",
     "text": [
      "<class 'pandas.io.pytables.HDFStore'>\n",
      "File path: ../../data/assets.h5\n",
      "/engineered_features            frame        (shape->[327121,33])  \n",
      "/fred/assets                    frame        (shape->[5248,5])     \n",
      "/quandl/wiki/prices             frame        (shape->[15389314,12])\n",
      "/quandl/wiki/stocks             frame        (shape->[1,2])        \n",
      "/sp500/fred                     frame        (shape->[2608,1])     \n",
      "/sp500/prices                   frame        (shape->[17700,5])    \n",
      "/sp500/sp500_stooq              frame        (shape->[17700,5])    \n",
      "/sp500/stocks                   frame        (shape->[1,7])        \n",
      "/sp500/stooq                    frame        (shape->[17700,5])    \n",
      "/us_equities/stocks             frame        (shape->[6986,6])     \n"
     ]
    }
   ],
   "source": [
    "with pd.HDFStore(DATA_STORE) as store:\n",
    "    store.put('engineered_features', data.sort_index().loc[idx[:, :datetime(2018, 3, 1)], :])\n",
    "    print(store.info())"
   ]
  },
  {
   "cell_type": "markdown",
   "metadata": {},
   "source": [
    "## Create Dummy variables"
   ]
  },
  {
   "cell_type": "markdown",
   "metadata": {},
   "source": [
    "For most models, we need to encode categorical variables as 'dummies' (one-hot encoding):"
   ]
  },
  {
   "cell_type": "code",
   "execution_count": 40,
   "metadata": {
    "ExecuteTime": {
     "end_time": "2018-12-25T20:21:27.306385Z",
     "start_time": "2018-12-25T20:21:04.294Z"
    },
    "scrolled": false
   },
   "outputs": [
    {
     "name": "stdout",
     "output_type": "stream",
     "text": [
      "<class 'pandas.core.frame.DataFrame'>\n",
      "MultiIndex: 328791 entries, ('A', Timestamp('2001-01-31 00:00:00', freq='M')) to ('ZUMZ', Timestamp('2018-03-31 00:00:00', freq='M'))\n",
      "Data columns (total 87 columns):\n",
      " #   Column                 Non-Null Count   Dtype  \n",
      "---  ------                 --------------   -----  \n",
      " 0   return_1m              328791 non-null  float64\n",
      " 1   return_2m              328791 non-null  float64\n",
      " 2   return_3m              328791 non-null  float64\n",
      " 3   return_6m              328791 non-null  float64\n",
      " 4   return_9m              328791 non-null  float64\n",
      " 5   return_12m             328791 non-null  float64\n",
      " 6   Mkt-RF                 328791 non-null  float64\n",
      " 7   SMB                    328791 non-null  float64\n",
      " 8   HML                    328791 non-null  float64\n",
      " 9   RMW                    328791 non-null  float64\n",
      " 10  CMA                    328791 non-null  float64\n",
      " 11  momentum_2             328791 non-null  float64\n",
      " 12  momentum_3             328791 non-null  float64\n",
      " 13  momentum_6             328791 non-null  float64\n",
      " 14  momentum_9             328791 non-null  float64\n",
      " 15  momentum_12            328791 non-null  float64\n",
      " 16  momentum_3_12          328791 non-null  float64\n",
      " 17  return_1m_t-1          327121 non-null  float64\n",
      " 18  return_1m_t-2          325451 non-null  float64\n",
      " 19  return_1m_t-3          323781 non-null  float64\n",
      " 20  return_1m_t-4          322111 non-null  float64\n",
      " 21  return_1m_t-5          320441 non-null  float64\n",
      " 22  return_1m_t-6          318771 non-null  float64\n",
      " 23  target_1m              327121 non-null  float64\n",
      " 24  target_2m              325451 non-null  float64\n",
      " 25  target_3m              323781 non-null  float64\n",
      " 26  target_6m              318771 non-null  float64\n",
      " 27  target_12m             308751 non-null  float64\n",
      " 28  year_2001              328791 non-null  uint8  \n",
      " 29  year_2002              328791 non-null  uint8  \n",
      " 30  year_2003              328791 non-null  uint8  \n",
      " 31  year_2004              328791 non-null  uint8  \n",
      " 32  year_2005              328791 non-null  uint8  \n",
      " 33  year_2006              328791 non-null  uint8  \n",
      " 34  year_2007              328791 non-null  uint8  \n",
      " 35  year_2008              328791 non-null  uint8  \n",
      " 36  year_2009              328791 non-null  uint8  \n",
      " 37  year_2010              328791 non-null  uint8  \n",
      " 38  year_2011              328791 non-null  uint8  \n",
      " 39  year_2012              328791 non-null  uint8  \n",
      " 40  year_2013              328791 non-null  uint8  \n",
      " 41  year_2014              328791 non-null  uint8  \n",
      " 42  year_2015              328791 non-null  uint8  \n",
      " 43  year_2016              328791 non-null  uint8  \n",
      " 44  year_2017              328791 non-null  uint8  \n",
      " 45  year_2018              328791 non-null  uint8  \n",
      " 46  month_1                328791 non-null  uint8  \n",
      " 47  month_2                328791 non-null  uint8  \n",
      " 48  month_3                328791 non-null  uint8  \n",
      " 49  month_4                328791 non-null  uint8  \n",
      " 50  month_5                328791 non-null  uint8  \n",
      " 51  month_6                328791 non-null  uint8  \n",
      " 52  month_7                328791 non-null  uint8  \n",
      " 53  month_8                328791 non-null  uint8  \n",
      " 54  month_9                328791 non-null  uint8  \n",
      " 55  month_10               328791 non-null  uint8  \n",
      " 56  month_11               328791 non-null  uint8  \n",
      " 57  month_12               328791 non-null  uint8  \n",
      " 58  msize_1                328791 non-null  uint8  \n",
      " 59  msize_2                328791 non-null  uint8  \n",
      " 60  msize_3                328791 non-null  uint8  \n",
      " 61  msize_4                328791 non-null  uint8  \n",
      " 62  msize_5                328791 non-null  uint8  \n",
      " 63  msize_6                328791 non-null  uint8  \n",
      " 64  msize_7                328791 non-null  uint8  \n",
      " 65  msize_8                328791 non-null  uint8  \n",
      " 66  msize_9                328791 non-null  uint8  \n",
      " 67  msize_10               328791 non-null  uint8  \n",
      " 68  age_0                  328791 non-null  uint8  \n",
      " 69  age_1                  328791 non-null  uint8  \n",
      " 70  age_2                  328791 non-null  uint8  \n",
      " 71  age_3                  328791 non-null  uint8  \n",
      " 72  age_4                  328791 non-null  uint8  \n",
      " 73  age_5                  328791 non-null  uint8  \n",
      " 74  Basic Industries       328791 non-null  uint8  \n",
      " 75  Capital Goods          328791 non-null  uint8  \n",
      " 76  Consumer Durables      328791 non-null  uint8  \n",
      " 77  Consumer Non-Durables  328791 non-null  uint8  \n",
      " 78  Consumer Services      328791 non-null  uint8  \n",
      " 79  Energy                 328791 non-null  uint8  \n",
      " 80  Finance                328791 non-null  uint8  \n",
      " 81  Health Care            328791 non-null  uint8  \n",
      " 82  Miscellaneous          328791 non-null  uint8  \n",
      " 83  Public Utilities       328791 non-null  uint8  \n",
      " 84  Technology             328791 non-null  uint8  \n",
      " 85  Transportation         328791 non-null  uint8  \n",
      " 86  Unknown                328791 non-null  uint8  \n",
      "dtypes: float64(28), uint8(59)\n",
      "memory usage: 90.0+ MB\n"
     ]
    }
   ],
   "source": [
    "dummy_data = pd.get_dummies(data,\n",
    "                            columns=['year','month', 'msize', 'age',  'sector'],\n",
    "                            prefix=['year','month', 'msize', 'age', ''],\n",
    "                            prefix_sep=['_', '_', '_', '_', ''])\n",
    "dummy_data = dummy_data.rename(columns={c:c.replace('.0', '') for c in dummy_data.columns})\n",
    "dummy_data.info()"
   ]
  },
  {
   "cell_type": "code",
   "execution_count": null,
   "metadata": {},
   "outputs": [],
   "source": []
  }
 ],
 "metadata": {
  "kernelspec": {
   "display_name": "Python 3",
   "language": "python",
   "name": "python3"
  },
  "language_info": {
   "codemirror_mode": {
    "name": "ipython",
    "version": 3
   },
   "file_extension": ".py",
   "mimetype": "text/x-python",
   "name": "python",
   "nbconvert_exporter": "python",
   "pygments_lexer": "ipython3",
   "version": "3.7.7"
  },
  "toc": {
   "base_numbering": 1,
   "nav_menu": {},
   "number_sections": true,
   "sideBar": true,
   "skip_h1_title": true,
   "title_cell": "Table of Contents",
   "title_sidebar": "Contents",
   "toc_cell": false,
   "toc_position": {
    "height": "calc(100% - 180px)",
    "left": "10px",
    "top": "150px",
    "width": "230.355px"
   },
   "toc_section_display": true,
   "toc_window_display": true
  }
 },
 "nbformat": 4,
 "nbformat_minor": 2
}
