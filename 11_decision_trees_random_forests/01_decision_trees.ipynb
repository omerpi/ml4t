{
 "cells": [
  {
   "cell_type": "markdown",
   "metadata": {},
   "source": [
    "# How to use decision trees in practice"
   ]
  },
  {
   "cell_type": "markdown",
   "metadata": {},
   "source": [
    "In this notebook, we illustrate how to use tree-based models to gain insight and make predictions. \n",
    "\n",
    "To demonstrate regression trees we predict returns, and for the classification case, we return to the example of positive and negative asset price moves."
   ]
  },
  {
   "cell_type": "code",
   "execution_count": 3,
   "metadata": {
    "ExecuteTime": {
     "end_time": "2018-10-31T22:03:40.814238Z",
     "start_time": "2018-10-31T22:03:40.490481Z"
    }
   },
   "outputs": [],
   "source": [
    "%matplotlib inline\n",
    "\n",
    "import warnings\n",
    "import os\n",
    "from pathlib import Path\n",
    "import numpy as np\n",
    "import pandas as pd\n",
    "\n",
    "import matplotlib.pyplot as plt\n",
    "from matplotlib.ticker import FuncFormatter\n",
    "from matplotlib import cm\n",
    "import seaborn as sns\n",
    "import graphviz\n",
    "from sklearn.tree import DecisionTreeClassifier, DecisionTreeRegressor, export_graphviz, _tree\n",
    "from sklearn.linear_model import LinearRegression, Ridge, LogisticRegression\n",
    "from sklearn.model_selection import train_test_split, cross_val_score, GridSearchCV, learning_curve, KFold\n",
    "from sklearn.metrics import roc_auc_score, roc_curve, mean_squared_error, precision_recall_curve,  accuracy_score\n",
    "from sklearn.impute import SimpleImputer\n",
    "import statsmodels.api as sm\n",
    "from scipy.interpolate import interp1d, interp2d"
   ]
  },
  {
   "cell_type": "code",
   "execution_count": 4,
   "metadata": {
    "ExecuteTime": {
     "end_time": "2018-10-01T20:00:02.808595Z",
     "start_time": "2018-10-01T20:00:02.793749Z"
    }
   },
   "outputs": [],
   "source": [
    "warnings.filterwarnings('ignore')\n",
    "plt.style.use('fivethirtyeight')"
   ]
  },
  {
   "cell_type": "markdown",
   "metadata": {},
   "source": [
    "## Get Data"
   ]
  },
  {
   "cell_type": "markdown",
   "metadata": {},
   "source": [
    "We use a simplified version of the data set constructed in Chapter 4, Alpha factor research. It consists of daily stock prices provided by Quandl for the 2010-2017 period and various engineered features. The details can be found in the notebook [data_prep](00_data_prep.ipynb) in the GitHub repo for this chapter."
   ]
  },
  {
   "cell_type": "markdown",
   "metadata": {},
   "source": [
    "The decision tree models in this chapter are not equipped to handle missing or categorical variables, so we will apply dummy encoding to the latter after dropping any of the former."
   ]
  },
  {
   "cell_type": "code",
   "execution_count": 5,
   "metadata": {},
   "outputs": [
    {
     "name": "stdout",
     "output_type": "stream",
     "text": [
      "<class 'pandas.core.frame.DataFrame'>\n",
      "MultiIndex: 171162 entries, (A, 2011-03-31 00:00:00) to (ZUMZ, 2018-02-28 00:00:00)\n",
      "Data columns (total 61 columns):\n",
      "returns                  171162 non-null float64\n",
      "t-1                      171162 non-null float64\n",
      "t-2                      171162 non-null float64\n",
      "t-3                      171162 non-null float64\n",
      "t-4                      171162 non-null float64\n",
      "t-5                      171162 non-null float64\n",
      "t-6                      171162 non-null float64\n",
      "t-7                      171162 non-null float64\n",
      "t-8                      171162 non-null float64\n",
      "t-9                      171162 non-null float64\n",
      "t-10                     171162 non-null float64\n",
      "t-11                     171162 non-null float64\n",
      "t-12                     171162 non-null float64\n",
      "year_2011                171162 non-null uint8\n",
      "year_2012                171162 non-null uint8\n",
      "year_2013                171162 non-null uint8\n",
      "year_2014                171162 non-null uint8\n",
      "year_2015                171162 non-null uint8\n",
      "year_2016                171162 non-null uint8\n",
      "year_2017                171162 non-null uint8\n",
      "year_2018                171162 non-null uint8\n",
      "month_1                  171162 non-null uint8\n",
      "month_2                  171162 non-null uint8\n",
      "month_3                  171162 non-null uint8\n",
      "month_4                  171162 non-null uint8\n",
      "month_5                  171162 non-null uint8\n",
      "month_6                  171162 non-null uint8\n",
      "month_7                  171162 non-null uint8\n",
      "month_8                  171162 non-null uint8\n",
      "month_9                  171162 non-null uint8\n",
      "month_10                 171162 non-null uint8\n",
      "month_11                 171162 non-null uint8\n",
      "month_12                 171162 non-null uint8\n",
      "size_1                   171162 non-null int8\n",
      "size_2                   171162 non-null int8\n",
      "size_3                   171162 non-null int8\n",
      "size_4                   171162 non-null int8\n",
      "size_5                   171162 non-null int8\n",
      "size_6                   171162 non-null int8\n",
      "size_7                   171162 non-null int8\n",
      "size_8                   171162 non-null int8\n",
      "size_9                   171162 non-null int8\n",
      "size_10                  171162 non-null int8\n",
      "age_0                    171162 non-null int8\n",
      "age_1                    171162 non-null int8\n",
      "age_2                    171162 non-null int8\n",
      "age_3                    171162 non-null int8\n",
      "age_4                    171162 non-null int8\n",
      "age_5                    171162 non-null int8\n",
      "Basic Industries         171162 non-null int8\n",
      "Capital Goods            171162 non-null int8\n",
      "Consumer Durables        171162 non-null int8\n",
      "Consumer Non-Durables    171162 non-null int8\n",
      "Consumer Services        171162 non-null int8\n",
      "Energy                   171162 non-null int8\n",
      "Finance                  171162 non-null int8\n",
      "Health Care              171162 non-null int8\n",
      "Miscellaneous            171162 non-null int8\n",
      "Public Utilities         171162 non-null int8\n",
      "Technology               171162 non-null int8\n",
      "Transportation           171162 non-null int8\n",
      "dtypes: float64(13), int8(28), uint8(20)\n",
      "memory usage: 25.4+ MB\n"
     ]
    }
   ],
   "source": [
    "with pd.HDFStore('data_v1.h5') as store:\n",
    "    data = store['data']\n",
    "data.info()"
   ]
  },
  {
   "cell_type": "markdown",
   "metadata": {},
   "source": [
    "### Stock Prices"
   ]
  },
  {
   "cell_type": "code",
   "execution_count": 6,
   "metadata": {
    "ExecuteTime": {
     "end_time": "2018-10-31T22:06:14.046946Z",
     "start_time": "2018-10-31T22:06:14.023537Z"
    }
   },
   "outputs": [],
   "source": [
    "y = data.returns\n",
    "X = data.drop('returns', axis=1)"
   ]
  },
  {
   "cell_type": "markdown",
   "metadata": {},
   "source": [
    "### Binary Outcome"
   ]
  },
  {
   "cell_type": "code",
   "execution_count": 7,
   "metadata": {
    "ExecuteTime": {
     "end_time": "2018-10-31T22:06:14.560201Z",
     "start_time": "2018-10-31T22:06:14.556970Z"
    }
   },
   "outputs": [],
   "source": [
    "y_binary = (y>0).astype(int)"
   ]
  },
  {
   "cell_type": "markdown",
   "metadata": {},
   "source": [
    "### 2 Lags Only"
   ]
  },
  {
   "cell_type": "code",
   "execution_count": 8,
   "metadata": {
    "ExecuteTime": {
     "end_time": "2018-10-31T22:06:15.185101Z",
     "start_time": "2018-10-31T22:06:15.177458Z"
    }
   },
   "outputs": [
    {
     "name": "stdout",
     "output_type": "stream",
     "text": [
      "<class 'pandas.core.frame.DataFrame'>\n",
      "MultiIndex: 171162 entries, (A, 2011-03-31 00:00:00) to (ZUMZ, 2018-02-28 00:00:00)\n",
      "Data columns (total 2 columns):\n",
      "t-1    171162 non-null float64\n",
      "t-2    171162 non-null float64\n",
      "dtypes: float64(2)\n",
      "memory usage: 3.2+ MB\n"
     ]
    }
   ],
   "source": [
    "X2 = X.loc[:, ['t-1', 't-2']]\n",
    "X2.info()"
   ]
  },
  {
   "cell_type": "markdown",
   "metadata": {},
   "source": [
    "## Explore Data"
   ]
  },
  {
   "cell_type": "code",
   "execution_count": 9,
   "metadata": {
    "ExecuteTime": {
     "end_time": "2018-10-31T22:06:17.839683Z",
     "start_time": "2018-10-31T22:06:17.789405Z"
    }
   },
   "outputs": [
    {
     "data": {
      "text/plain": [
       "count    171162.000000\n",
       "mean          0.009827\n",
       "std           0.068340\n",
       "min          -0.152427\n",
       "10%          -0.080626\n",
       "20%          -0.048064\n",
       "30%          -0.025061\n",
       "40%          -0.006481\n",
       "50%           0.009259\n",
       "60%           0.025641\n",
       "70%           0.043847\n",
       "80%           0.066246\n",
       "90%           0.100111\n",
       "max           0.185083\n",
       "Name: returns, dtype: float64"
      ]
     },
     "execution_count": 9,
     "metadata": {},
     "output_type": "execute_result"
    }
   ],
   "source": [
    "y.describe(percentiles=np.arange(.1, .91, .1).round(1))"
   ]
  },
  {
   "cell_type": "markdown",
   "metadata": {},
   "source": [
    "<a id=\"custom_kfold\"></a>\n",
    "## Custom KFold"
   ]
  },
  {
   "cell_type": "markdown",
   "metadata": {},
   "source": [
    "We also construct a custom cross-validation class tailored to the format of the data just created, which has pandas MultiIndex with two levels, one for the ticker and one for the data."
   ]
  },
  {
   "cell_type": "markdown",
   "metadata": {},
   "source": [
    "`OneStepTimeSeriesSplit` ensures a split of training and validation sets that avoids a lookahead bias by training models using only data up to period T-1 for each stock when validating using data for month T. We will only use one-step-ahead forecasts."
   ]
  },
  {
   "cell_type": "code",
   "execution_count": 10,
   "metadata": {
    "ExecuteTime": {
     "end_time": "2018-10-31T22:06:23.748287Z",
     "start_time": "2018-10-31T22:06:23.739908Z"
    }
   },
   "outputs": [],
   "source": [
    "class OneStepTimeSeriesSplit:\n",
    "    \"\"\"Generates tuples of train_idx, test_idx pairs\n",
    "    Assumes the index contains a level labeled 'date'\"\"\"\n",
    "\n",
    "    def __init__(self, n_splits=3, test_period_length=1, shuffle=False):\n",
    "        self.n_splits = n_splits\n",
    "        self.test_period_length = test_period_length\n",
    "        self.shuffle = shuffle\n",
    "        self.test_end = n_splits * test_period_length\n",
    "\n",
    "    @staticmethod\n",
    "    def chunks(l, chunk_size):\n",
    "        for i in range(0, len(l), chunk_size):\n",
    "            yield l[i:i + chunk_size]\n",
    "\n",
    "    def split(self, X, y=None, groups=None):\n",
    "        unique_dates = (X.index\n",
    "                        .get_level_values('date')\n",
    "                        .unique()\n",
    "                        .sort_values(ascending=False)[:self.test_end])\n",
    "\n",
    "        dates = X.reset_index()[['date']]\n",
    "        for test_date in self.chunks(unique_dates, self.test_period_length):\n",
    "            train_idx = dates[dates.date < min(test_date)].index\n",
    "            test_idx = dates[dates.date.isin(test_date)].index\n",
    "            if self.shuffle:\n",
    "                np.random.shuffle(list(train_idx))\n",
    "            yield train_idx, test_idx\n",
    "\n",
    "    def get_n_splits(self, X, y, groups=None):\n",
    "        return self.n_splits"
   ]
  },
  {
   "cell_type": "code",
   "execution_count": 11,
   "metadata": {
    "ExecuteTime": {
     "end_time": "2018-10-31T22:06:24.039034Z",
     "start_time": "2018-10-31T22:06:24.033920Z"
    }
   },
   "outputs": [],
   "source": [
    "def regression_benchmark():\n",
    "    rmse = []\n",
    "    for train_idx, test_idx in cv.split(X):\n",
    "        mean = y.iloc[train_idx].mean()\n",
    "        data = y.iloc[test_idx].to_frame('y_test').assign(y_pred=mean)\n",
    "        rmse.append(np.sqrt(mean_squared_error(data.y_test, data.y_pred))) \n",
    "    return np.mean(rmse)"
   ]
  },
  {
   "cell_type": "code",
   "execution_count": 12,
   "metadata": {
    "ExecuteTime": {
     "end_time": "2018-10-31T22:06:24.280282Z",
     "start_time": "2018-10-31T22:06:24.277278Z"
    }
   },
   "outputs": [],
   "source": [
    "def classification_benchmark():\n",
    "    auc = []\n",
    "    for train_idx, test_idx in cv.split(X):\n",
    "        mean = y_binary.iloc[train_idx].mean()\n",
    "        data = y_binary.iloc[test_idx].to_frame('y_test').assign(y_pred=mean)\n",
    "        auc.append(roc_auc_score(data.y_test, data.y_pred))\n",
    "    return np.mean(auc)"
   ]
  },
  {
   "cell_type": "markdown",
   "metadata": {},
   "source": [
    "## Simple Regression Tree"
   ]
  },
  {
   "cell_type": "markdown",
   "metadata": {},
   "source": [
    "Regression trees make predictions based on the mean outcome value for the training samples assigned to a given node and typically rely on the mean-squared error to select optimal rules during recursive binary splitting.\n",
    "\n",
    "Given a training set, the algorithm iterates over the predictors, $X_1, X_2, ..., X_p$, and possible cutpoints, $s_1, s_2, ..., s_N$, to find an optimal combination. The optimal rule splits the feature space into two regions, $\\{X\\mid X_i < s_j\\}$ and $\\{X\\mid X_i > s_j\\}$, with values for the $X_i$ feature either below or above the $s_j$ threshold so that predictions based on the training subsets maximize the reduction of the squared residuals relative to the current node."
   ]
  },
  {
   "cell_type": "markdown",
   "metadata": {},
   "source": [
    "### Configure Tree"
   ]
  },
  {
   "cell_type": "markdown",
   "metadata": {},
   "source": [
    "Let's start with a simplified example to facilitate visualization and only use two months of lagged returns to predict the following month, in the vein of an AR(2) model from the last chapter:"
   ]
  },
  {
   "cell_type": "code",
   "execution_count": 13,
   "metadata": {
    "ExecuteTime": {
     "end_time": "2018-10-31T22:06:29.430468Z",
     "start_time": "2018-10-31T22:06:29.423601Z"
    }
   },
   "outputs": [],
   "source": [
    "reg_tree_t2 = DecisionTreeRegressor(criterion='mse',\n",
    "                                    splitter='best',\n",
    "                                    max_depth=4,\n",
    "                                    min_samples_split=2,\n",
    "                                    min_samples_leaf=1,\n",
    "                                    min_weight_fraction_leaf=0.0,\n",
    "                                    max_features=None,\n",
    "                                    random_state=42,\n",
    "                                    max_leaf_nodes=None,\n",
    "                                    min_impurity_decrease=0.0,\n",
    "                                    min_impurity_split=None,\n",
    "                                    presort=False)"
   ]
  },
  {
   "cell_type": "markdown",
   "metadata": {},
   "source": [
    "### Train Decision Tree"
   ]
  },
  {
   "cell_type": "code",
   "execution_count": 14,
   "metadata": {
    "ExecuteTime": {
     "end_time": "2018-10-31T22:06:35.627350Z",
     "start_time": "2018-10-31T22:06:35.081496Z"
    }
   },
   "outputs": [
    {
     "data": {
      "text/plain": [
       "DecisionTreeRegressor(ccp_alpha=0.0, criterion='mse', max_depth=4,\n",
       "                      max_features=None, max_leaf_nodes=None,\n",
       "                      min_impurity_decrease=0.0, min_impurity_split=None,\n",
       "                      min_samples_leaf=1, min_samples_split=2,\n",
       "                      min_weight_fraction_leaf=0.0, presort=False,\n",
       "                      random_state=42, splitter='best')"
      ]
     },
     "execution_count": 14,
     "metadata": {},
     "output_type": "execute_result"
    }
   ],
   "source": [
    "reg_tree_t2.fit(X=X2, y=y)"
   ]
  },
  {
   "cell_type": "markdown",
   "metadata": {},
   "source": [
    "### Visualize Tree"
   ]
  },
  {
   "cell_type": "markdown",
   "metadata": {},
   "source": [
    "You can visualize the tree using the graphviz library (see GitHub for installation instructions) because sklearn can output a description of the tree using the .dot language used by that library. \n",
    "\n",
    "You can configure the output to include feature and class labels and limit the number of levels to keep the chart readable, as follows:"
   ]
  },
  {
   "cell_type": "code",
   "execution_count": 15,
   "metadata": {
    "ExecuteTime": {
     "end_time": "2018-10-31T22:06:38.863228Z",
     "start_time": "2018-10-31T22:06:38.755940Z"
    }
   },
   "outputs": [
    {
     "data": {
      "image/svg+xml": [
       "<?xml version=\"1.0\" encoding=\"UTF-8\" standalone=\"no\"?>\n",
       "<!DOCTYPE svg PUBLIC \"-//W3C//DTD SVG 1.1//EN\"\n",
       " \"http://www.w3.org/Graphics/SVG/1.1/DTD/svg11.dtd\">\n",
       "<!-- Generated by graphviz version 2.42.3 (20191010.1750)\n",
       " -->\n",
       "<!-- Title: Tree Pages: 1 -->\n",
       "<svg width=\"615pt\" height=\"356pt\"\n",
       " viewBox=\"0.00 0.00 615.00 356.00\" xmlns=\"http://www.w3.org/2000/svg\" xmlns:xlink=\"http://www.w3.org/1999/xlink\">\n",
       "<g id=\"graph0\" class=\"graph\" transform=\"scale(1 1) rotate(0) translate(4 352)\">\n",
       "<title>Tree</title>\n",
       "<polygon fill=\"white\" stroke=\"transparent\" points=\"-4,4 -4,-352 611,-352 611,4 -4,4\"/>\n",
       "<!-- 0 -->\n",
       "<g id=\"node1\" class=\"node\">\n",
       "<title>0</title>\n",
       "<path fill=\"#f2c09d\" stroke=\"black\" d=\"M355,-348C355,-348 251,-348 251,-348 245,-348 239,-342 239,-336 239,-336 239,-292 239,-292 239,-286 245,-280 251,-280 251,-280 355,-280 355,-280 361,-280 367,-286 367,-292 367,-292 367,-336 367,-336 367,-342 361,-348 355,-348\"/>\n",
       "<text text-anchor=\"start\" x=\"268\" y=\"-332.8\" font-family=\"Helvetica,sans-Serif\" font-size=\"14.00\">t&#45;1 ≤ &#45;0.008</text>\n",
       "<text text-anchor=\"start\" x=\"265\" y=\"-317.8\" font-family=\"Helvetica,sans-Serif\" font-size=\"14.00\">mse = 0.005</text>\n",
       "<text text-anchor=\"start\" x=\"247\" y=\"-302.8\" font-family=\"Helvetica,sans-Serif\" font-size=\"14.00\">samples = 171162</text>\n",
       "<text text-anchor=\"start\" x=\"265.5\" y=\"-287.8\" font-family=\"Helvetica,sans-Serif\" font-size=\"14.00\">value = 0.01</text>\n",
       "</g>\n",
       "<!-- 1 -->\n",
       "<g id=\"node2\" class=\"node\">\n",
       "<title>1</title>\n",
       "<path fill=\"#f2bf9a\" stroke=\"black\" d=\"M280.5,-244C280.5,-244 183.5,-244 183.5,-244 177.5,-244 171.5,-238 171.5,-232 171.5,-232 171.5,-188 171.5,-188 171.5,-182 177.5,-176 183.5,-176 183.5,-176 280.5,-176 280.5,-176 286.5,-176 292.5,-182 292.5,-188 292.5,-188 292.5,-232 292.5,-232 292.5,-238 286.5,-244 280.5,-244\"/>\n",
       "<text text-anchor=\"start\" x=\"199\" y=\"-228.8\" font-family=\"Helvetica,sans-Serif\" font-size=\"14.00\">t&#45;2 ≤ 0.009</text>\n",
       "<text text-anchor=\"start\" x=\"194\" y=\"-213.8\" font-family=\"Helvetica,sans-Serif\" font-size=\"14.00\">mse = 0.005</text>\n",
       "<text text-anchor=\"start\" x=\"179.5\" y=\"-198.8\" font-family=\"Helvetica,sans-Serif\" font-size=\"14.00\">samples = 66441</text>\n",
       "<text text-anchor=\"start\" x=\"191\" y=\"-183.8\" font-family=\"Helvetica,sans-Serif\" font-size=\"14.00\">value = 0.013</text>\n",
       "</g>\n",
       "<!-- 0&#45;&gt;1 -->\n",
       "<g id=\"edge1\" class=\"edge\">\n",
       "<title>0&#45;&gt;1</title>\n",
       "<path fill=\"none\" stroke=\"black\" d=\"M279.95,-279.88C273.87,-271.15 267.24,-261.62 260.9,-252.51\"/>\n",
       "<polygon fill=\"black\" stroke=\"black\" points=\"263.76,-250.51 255.18,-244.3 258.02,-254.51 263.76,-250.51\"/>\n",
       "<text text-anchor=\"middle\" x=\"250.77\" y=\"-265.21\" font-family=\"Helvetica,sans-Serif\" font-size=\"14.00\">True</text>\n",
       "</g>\n",
       "<!-- 16 -->\n",
       "<g id=\"node9\" class=\"node\">\n",
       "<title>16</title>\n",
       "<path fill=\"#f2c19e\" stroke=\"black\" d=\"M427,-244C427,-244 323,-244 323,-244 317,-244 311,-238 311,-232 311,-232 311,-188 311,-188 311,-182 317,-176 323,-176 323,-176 427,-176 427,-176 433,-176 439,-182 439,-188 439,-188 439,-232 439,-232 439,-238 433,-244 427,-244\"/>\n",
       "<text text-anchor=\"start\" x=\"346\" y=\"-228.8\" font-family=\"Helvetica,sans-Serif\" font-size=\"14.00\">t&#45;1 ≤ 0.03</text>\n",
       "<text text-anchor=\"start\" x=\"337\" y=\"-213.8\" font-family=\"Helvetica,sans-Serif\" font-size=\"14.00\">mse = 0.004</text>\n",
       "<text text-anchor=\"start\" x=\"319\" y=\"-198.8\" font-family=\"Helvetica,sans-Serif\" font-size=\"14.00\">samples = 104721</text>\n",
       "<text text-anchor=\"start\" x=\"334\" y=\"-183.8\" font-family=\"Helvetica,sans-Serif\" font-size=\"14.00\">value = 0.008</text>\n",
       "</g>\n",
       "<!-- 0&#45;&gt;16 -->\n",
       "<g id=\"edge8\" class=\"edge\">\n",
       "<title>0&#45;&gt;16</title>\n",
       "<path fill=\"none\" stroke=\"black\" d=\"M326.38,-279.88C332.54,-271.15 339.26,-261.62 345.7,-252.51\"/>\n",
       "<polygon fill=\"black\" stroke=\"black\" points=\"348.59,-254.49 351.49,-244.3 342.87,-250.45 348.59,-254.49\"/>\n",
       "<text text-anchor=\"middle\" x=\"355.74\" y=\"-265.24\" font-family=\"Helvetica,sans-Serif\" font-size=\"14.00\">False</text>\n",
       "</g>\n",
       "<!-- 2 -->\n",
       "<g id=\"node3\" class=\"node\">\n",
       "<title>2</title>\n",
       "<path fill=\"#f2c09b\" stroke=\"black\" d=\"M142.5,-140C142.5,-140 45.5,-140 45.5,-140 39.5,-140 33.5,-134 33.5,-128 33.5,-128 33.5,-84 33.5,-84 33.5,-78 39.5,-72 45.5,-72 45.5,-72 142.5,-72 142.5,-72 148.5,-72 154.5,-78 154.5,-84 154.5,-84 154.5,-128 154.5,-128 154.5,-134 148.5,-140 142.5,-140\"/>\n",
       "<text text-anchor=\"start\" x=\"59\" y=\"-124.8\" font-family=\"Helvetica,sans-Serif\" font-size=\"14.00\">t&#45;2 ≤ &#45;0.152</text>\n",
       "<text text-anchor=\"start\" x=\"56\" y=\"-109.8\" font-family=\"Helvetica,sans-Serif\" font-size=\"14.00\">mse = 0.006</text>\n",
       "<text text-anchor=\"start\" x=\"41.5\" y=\"-94.8\" font-family=\"Helvetica,sans-Serif\" font-size=\"14.00\">samples = 31640</text>\n",
       "<text text-anchor=\"start\" x=\"53\" y=\"-79.8\" font-family=\"Helvetica,sans-Serif\" font-size=\"14.00\">value = 0.011</text>\n",
       "</g>\n",
       "<!-- 1&#45;&gt;2 -->\n",
       "<g id=\"edge2\" class=\"edge\">\n",
       "<title>1&#45;&gt;2</title>\n",
       "<path fill=\"none\" stroke=\"black\" d=\"M187.2,-175.88C174.42,-166.44 160.38,-156.06 147.16,-146.29\"/>\n",
       "<polygon fill=\"black\" stroke=\"black\" points=\"149.17,-143.43 139.05,-140.3 145.01,-149.06 149.17,-143.43\"/>\n",
       "</g>\n",
       "<!-- 9 -->\n",
       "<g id=\"node6\" class=\"node\">\n",
       "<title>9</title>\n",
       "<path fill=\"#f2be99\" stroke=\"black\" d=\"M281.5,-140C281.5,-140 184.5,-140 184.5,-140 178.5,-140 172.5,-134 172.5,-128 172.5,-128 172.5,-84 172.5,-84 172.5,-78 178.5,-72 184.5,-72 184.5,-72 281.5,-72 281.5,-72 287.5,-72 293.5,-78 293.5,-84 293.5,-84 293.5,-128 293.5,-128 293.5,-134 287.5,-140 281.5,-140\"/>\n",
       "<text text-anchor=\"start\" x=\"198\" y=\"-124.8\" font-family=\"Helvetica,sans-Serif\" font-size=\"14.00\">t&#45;1 ≤ &#45;0.152</text>\n",
       "<text text-anchor=\"start\" x=\"195\" y=\"-109.8\" font-family=\"Helvetica,sans-Serif\" font-size=\"14.00\">mse = 0.005</text>\n",
       "<text text-anchor=\"start\" x=\"180.5\" y=\"-94.8\" font-family=\"Helvetica,sans-Serif\" font-size=\"14.00\">samples = 34801</text>\n",
       "<text text-anchor=\"start\" x=\"192\" y=\"-79.8\" font-family=\"Helvetica,sans-Serif\" font-size=\"14.00\">value = 0.014</text>\n",
       "</g>\n",
       "<!-- 1&#45;&gt;9 -->\n",
       "<g id=\"edge5\" class=\"edge\">\n",
       "<title>1&#45;&gt;9</title>\n",
       "<path fill=\"none\" stroke=\"black\" d=\"M232.32,-175.88C232.4,-167.78 232.49,-158.98 232.57,-150.47\"/>\n",
       "<polygon fill=\"black\" stroke=\"black\" points=\"236.08,-150.33 232.67,-140.3 229.08,-150.26 236.08,-150.33\"/>\n",
       "</g>\n",
       "<!-- 3 -->\n",
       "<g id=\"node4\" class=\"node\">\n",
       "<title>3</title>\n",
       "<path fill=\"#c0c0c0\" stroke=\"black\" d=\"M42,-36C42,-36 12,-36 12,-36 6,-36 0,-30 0,-24 0,-24 0,-12 0,-12 0,-6 6,0 12,0 12,0 42,0 42,0 48,0 54,-6 54,-12 54,-12 54,-24 54,-24 54,-30 48,-36 42,-36\"/>\n",
       "<text text-anchor=\"middle\" x=\"27\" y=\"-14.3\" font-family=\"Helvetica,sans-Serif\" font-size=\"14.00\">(...)</text>\n",
       "</g>\n",
       "<!-- 2&#45;&gt;3 -->\n",
       "<g id=\"edge3\" class=\"edge\">\n",
       "<title>2&#45;&gt;3</title>\n",
       "<path fill=\"none\" stroke=\"black\" d=\"M68.29,-72C61.13,-62.81 53.47,-52.97 46.71,-44.3\"/>\n",
       "<polygon fill=\"black\" stroke=\"black\" points=\"49.47,-42.14 40.56,-36.4 43.94,-46.44 49.47,-42.14\"/>\n",
       "</g>\n",
       "<!-- 6 -->\n",
       "<g id=\"node5\" class=\"node\">\n",
       "<title>6</title>\n",
       "<path fill=\"#c0c0c0\" stroke=\"black\" d=\"M114,-36C114,-36 84,-36 84,-36 78,-36 72,-30 72,-24 72,-24 72,-12 72,-12 72,-6 78,0 84,0 84,0 114,0 114,0 120,0 126,-6 126,-12 126,-12 126,-24 126,-24 126,-30 120,-36 114,-36\"/>\n",
       "<text text-anchor=\"middle\" x=\"99\" y=\"-14.3\" font-family=\"Helvetica,sans-Serif\" font-size=\"14.00\">(...)</text>\n",
       "</g>\n",
       "<!-- 2&#45;&gt;6 -->\n",
       "<g id=\"edge4\" class=\"edge\">\n",
       "<title>2&#45;&gt;6</title>\n",
       "<path fill=\"none\" stroke=\"black\" d=\"M95.92,-72C96.41,-63.56 96.93,-54.59 97.4,-46.47\"/>\n",
       "<polygon fill=\"black\" stroke=\"black\" points=\"100.9,-46.59 97.99,-36.4 93.91,-46.18 100.9,-46.59\"/>\n",
       "</g>\n",
       "<!-- 10 -->\n",
       "<g id=\"node7\" class=\"node\">\n",
       "<title>10</title>\n",
       "<path fill=\"#c0c0c0\" stroke=\"black\" d=\"M214,-36C214,-36 184,-36 184,-36 178,-36 172,-30 172,-24 172,-24 172,-12 172,-12 172,-6 178,0 184,0 184,0 214,0 214,0 220,0 226,-6 226,-12 226,-12 226,-24 226,-24 226,-30 220,-36 214,-36\"/>\n",
       "<text text-anchor=\"middle\" x=\"199\" y=\"-14.3\" font-family=\"Helvetica,sans-Serif\" font-size=\"14.00\">(...)</text>\n",
       "</g>\n",
       "<!-- 9&#45;&gt;10 -->\n",
       "<g id=\"edge6\" class=\"edge\">\n",
       "<title>9&#45;&gt;10</title>\n",
       "<path fill=\"none\" stroke=\"black\" d=\"M219.95,-72C216.54,-63.38 212.91,-54.19 209.64,-45.92\"/>\n",
       "<polygon fill=\"black\" stroke=\"black\" points=\"212.81,-44.42 205.88,-36.4 206.3,-46.99 212.81,-44.42\"/>\n",
       "</g>\n",
       "<!-- 13 -->\n",
       "<g id=\"node8\" class=\"node\">\n",
       "<title>13</title>\n",
       "<path fill=\"#c0c0c0\" stroke=\"black\" d=\"M286,-36C286,-36 256,-36 256,-36 250,-36 244,-30 244,-24 244,-24 244,-12 244,-12 244,-6 250,0 256,0 256,0 286,0 286,0 292,0 298,-6 298,-12 298,-12 298,-24 298,-24 298,-30 292,-36 286,-36\"/>\n",
       "<text text-anchor=\"middle\" x=\"271\" y=\"-14.3\" font-family=\"Helvetica,sans-Serif\" font-size=\"14.00\">(...)</text>\n",
       "</g>\n",
       "<!-- 9&#45;&gt;13 -->\n",
       "<g id=\"edge7\" class=\"edge\">\n",
       "<title>9&#45;&gt;13</title>\n",
       "<path fill=\"none\" stroke=\"black\" d=\"M247.58,-72C251.43,-63.28 255.54,-53.98 259.22,-45.65\"/>\n",
       "<polygon fill=\"black\" stroke=\"black\" points=\"262.47,-46.96 263.31,-36.4 256.07,-44.14 262.47,-46.96\"/>\n",
       "</g>\n",
       "<!-- 17 -->\n",
       "<g id=\"node10\" class=\"node\">\n",
       "<title>17</title>\n",
       "<path fill=\"#f2c19d\" stroke=\"black\" d=\"M422.5,-140C422.5,-140 325.5,-140 325.5,-140 319.5,-140 313.5,-134 313.5,-128 313.5,-128 313.5,-84 313.5,-84 313.5,-78 319.5,-72 325.5,-72 325.5,-72 422.5,-72 422.5,-72 428.5,-72 434.5,-78 434.5,-84 434.5,-84 434.5,-128 434.5,-128 434.5,-134 428.5,-140 422.5,-140\"/>\n",
       "<text text-anchor=\"start\" x=\"341\" y=\"-124.8\" font-family=\"Helvetica,sans-Serif\" font-size=\"14.00\">t&#45;2 ≤ 0.017</text>\n",
       "<text text-anchor=\"start\" x=\"336\" y=\"-109.8\" font-family=\"Helvetica,sans-Serif\" font-size=\"14.00\">mse = 0.004</text>\n",
       "<text text-anchor=\"start\" x=\"321.5\" y=\"-94.8\" font-family=\"Helvetica,sans-Serif\" font-size=\"14.00\">samples = 40097</text>\n",
       "<text text-anchor=\"start\" x=\"333\" y=\"-79.8\" font-family=\"Helvetica,sans-Serif\" font-size=\"14.00\">value = 0.009</text>\n",
       "</g>\n",
       "<!-- 16&#45;&gt;17 -->\n",
       "<g id=\"edge9\" class=\"edge\">\n",
       "<title>16&#45;&gt;17</title>\n",
       "<path fill=\"none\" stroke=\"black\" d=\"M374.68,-175.88C374.6,-167.78 374.51,-158.98 374.43,-150.47\"/>\n",
       "<polygon fill=\"black\" stroke=\"black\" points=\"377.92,-150.26 374.33,-140.3 370.92,-150.33 377.92,-150.26\"/>\n",
       "</g>\n",
       "<!-- 24 -->\n",
       "<g id=\"node13\" class=\"node\">\n",
       "<title>24</title>\n",
       "<path fill=\"#f2c29f\" stroke=\"black\" d=\"M561.5,-140C561.5,-140 464.5,-140 464.5,-140 458.5,-140 452.5,-134 452.5,-128 452.5,-128 452.5,-84 452.5,-84 452.5,-78 458.5,-72 464.5,-72 464.5,-72 561.5,-72 561.5,-72 567.5,-72 573.5,-78 573.5,-84 573.5,-84 573.5,-128 573.5,-128 573.5,-134 567.5,-140 561.5,-140\"/>\n",
       "<text text-anchor=\"start\" x=\"478\" y=\"-124.8\" font-family=\"Helvetica,sans-Serif\" font-size=\"14.00\">t&#45;2 ≤ &#45;0.152</text>\n",
       "<text text-anchor=\"start\" x=\"475\" y=\"-109.8\" font-family=\"Helvetica,sans-Serif\" font-size=\"14.00\">mse = 0.004</text>\n",
       "<text text-anchor=\"start\" x=\"460.5\" y=\"-94.8\" font-family=\"Helvetica,sans-Serif\" font-size=\"14.00\">samples = 64624</text>\n",
       "<text text-anchor=\"start\" x=\"472\" y=\"-79.8\" font-family=\"Helvetica,sans-Serif\" font-size=\"14.00\">value = 0.007</text>\n",
       "</g>\n",
       "<!-- 16&#45;&gt;24 -->\n",
       "<g id=\"edge12\" class=\"edge\">\n",
       "<title>16&#45;&gt;24</title>\n",
       "<path fill=\"none\" stroke=\"black\" d=\"M419.8,-175.88C432.58,-166.44 446.62,-156.06 459.84,-146.29\"/>\n",
       "<polygon fill=\"black\" stroke=\"black\" points=\"461.99,-149.06 467.95,-140.3 457.83,-143.43 461.99,-149.06\"/>\n",
       "</g>\n",
       "<!-- 18 -->\n",
       "<g id=\"node11\" class=\"node\">\n",
       "<title>18</title>\n",
       "<path fill=\"#c0c0c0\" stroke=\"black\" d=\"M372,-36C372,-36 342,-36 342,-36 336,-36 330,-30 330,-24 330,-24 330,-12 330,-12 330,-6 336,0 342,0 342,0 372,0 372,0 378,0 384,-6 384,-12 384,-12 384,-24 384,-24 384,-30 378,-36 372,-36\"/>\n",
       "<text text-anchor=\"middle\" x=\"357\" y=\"-14.3\" font-family=\"Helvetica,sans-Serif\" font-size=\"14.00\">(...)</text>\n",
       "</g>\n",
       "<!-- 17&#45;&gt;18 -->\n",
       "<g id=\"edge10\" class=\"edge\">\n",
       "<title>17&#45;&gt;18</title>\n",
       "<path fill=\"none\" stroke=\"black\" d=\"M367.48,-72C365.81,-63.56 364.04,-54.59 362.43,-46.47\"/>\n",
       "<polygon fill=\"black\" stroke=\"black\" points=\"365.81,-45.53 360.44,-36.4 358.95,-46.89 365.81,-45.53\"/>\n",
       "</g>\n",
       "<!-- 21 -->\n",
       "<g id=\"node12\" class=\"node\">\n",
       "<title>21</title>\n",
       "<path fill=\"#c0c0c0\" stroke=\"black\" d=\"M444,-36C444,-36 414,-36 414,-36 408,-36 402,-30 402,-24 402,-24 402,-12 402,-12 402,-6 408,0 414,0 414,0 444,0 444,0 450,0 456,-6 456,-12 456,-12 456,-24 456,-24 456,-30 450,-36 444,-36\"/>\n",
       "<text text-anchor=\"middle\" x=\"429\" y=\"-14.3\" font-family=\"Helvetica,sans-Serif\" font-size=\"14.00\">(...)</text>\n",
       "</g>\n",
       "<!-- 17&#45;&gt;21 -->\n",
       "<g id=\"edge11\" class=\"edge\">\n",
       "<title>17&#45;&gt;21</title>\n",
       "<path fill=\"none\" stroke=\"black\" d=\"M395.11,-72C400.86,-63 407.01,-53.38 412.47,-44.84\"/>\n",
       "<polygon fill=\"black\" stroke=\"black\" points=\"415.43,-46.71 417.87,-36.4 409.53,-42.94 415.43,-46.71\"/>\n",
       "</g>\n",
       "<!-- 25 -->\n",
       "<g id=\"node14\" class=\"node\">\n",
       "<title>25</title>\n",
       "<path fill=\"#c0c0c0\" stroke=\"black\" d=\"M523,-36C523,-36 493,-36 493,-36 487,-36 481,-30 481,-24 481,-24 481,-12 481,-12 481,-6 487,0 493,0 493,0 523,0 523,0 529,0 535,-6 535,-12 535,-12 535,-24 535,-24 535,-30 529,-36 523,-36\"/>\n",
       "<text text-anchor=\"middle\" x=\"508\" y=\"-14.3\" font-family=\"Helvetica,sans-Serif\" font-size=\"14.00\">(...)</text>\n",
       "</g>\n",
       "<!-- 24&#45;&gt;25 -->\n",
       "<g id=\"edge13\" class=\"edge\">\n",
       "<title>24&#45;&gt;25</title>\n",
       "<path fill=\"none\" stroke=\"black\" d=\"M511.08,-72C510.59,-63.56 510.07,-54.59 509.6,-46.47\"/>\n",
       "<polygon fill=\"black\" stroke=\"black\" points=\"513.09,-46.18 509.01,-36.4 506.1,-46.59 513.09,-46.18\"/>\n",
       "</g>\n",
       "<!-- 28 -->\n",
       "<g id=\"node15\" class=\"node\">\n",
       "<title>28</title>\n",
       "<path fill=\"#c0c0c0\" stroke=\"black\" d=\"M595,-36C595,-36 565,-36 565,-36 559,-36 553,-30 553,-24 553,-24 553,-12 553,-12 553,-6 559,0 565,0 565,0 595,0 595,0 601,0 607,-6 607,-12 607,-12 607,-24 607,-24 607,-30 601,-36 595,-36\"/>\n",
       "<text text-anchor=\"middle\" x=\"580\" y=\"-14.3\" font-family=\"Helvetica,sans-Serif\" font-size=\"14.00\">(...)</text>\n",
       "</g>\n",
       "<!-- 24&#45;&gt;28 -->\n",
       "<g id=\"edge14\" class=\"edge\">\n",
       "<title>24&#45;&gt;28</title>\n",
       "<path fill=\"none\" stroke=\"black\" d=\"M538.71,-72C545.87,-62.81 553.53,-52.97 560.29,-44.3\"/>\n",
       "<polygon fill=\"black\" stroke=\"black\" points=\"563.06,-46.44 566.44,-36.4 557.53,-42.14 563.06,-46.44\"/>\n",
       "</g>\n",
       "</g>\n",
       "</svg>\n"
      ],
      "text/plain": [
       "<graphviz.files.Source at 0x7f035d51a670>"
      ]
     },
     "execution_count": 15,
     "metadata": {},
     "output_type": "execute_result"
    }
   ],
   "source": [
    "out_file = 'figures/reg_tree_t2.dot'\n",
    "dot_data = export_graphviz(reg_tree_t2,\n",
    "                          out_file=out_file,\n",
    "                          feature_names=X2.columns,\n",
    "                          max_depth=2,\n",
    "                          filled=True,\n",
    "                          rounded=True,\n",
    "                          special_characters=True)\n",
    "if out_file is not None:\n",
    "    dot_data = Path(out_file).read_text()\n",
    "\n",
    "graphviz.Source(dot_data)"
   ]
  },
  {
   "cell_type": "markdown",
   "metadata": {},
   "source": [
    "### Compare with Linear Regression"
   ]
  },
  {
   "cell_type": "markdown",
   "metadata": {},
   "source": [
    "The OLS summary below and a visualization of the first two levels of the decision tree above reveal the striking differences between the models. The OLS model provides three parameters for the intercepts and the two features in line with the linear assumption.\n",
    "\n",
    "In contrast, the regression tree chart above displays for each node of the first two levels the feature and threshold used to split the data (note that features can be used repeatedly), as well as the current value of the mean-squared error (MSE), the number of samples, and predicted value based on these training samples."
   ]
  },
  {
   "cell_type": "markdown",
   "metadata": {},
   "source": [
    "The tree chart also highlights the uneven distribution of samples across the nodes as the numbers vary between 31,000 and 65,000 samples after only two splits."
   ]
  },
  {
   "cell_type": "markdown",
   "metadata": {},
   "source": [
    "#### statsmodels OLS"
   ]
  },
  {
   "cell_type": "code",
   "execution_count": 16,
   "metadata": {
    "ExecuteTime": {
     "end_time": "2018-10-31T22:06:45.762964Z",
     "start_time": "2018-10-31T22:06:45.561094Z"
    }
   },
   "outputs": [
    {
     "name": "stdout",
     "output_type": "stream",
     "text": [
      "                            OLS Regression Results                            \n",
      "==============================================================================\n",
      "Dep. Variable:                returns   R-squared:                       0.001\n",
      "Model:                            OLS   Adj. R-squared:                  0.001\n",
      "Method:                 Least Squares   F-statistic:                     113.2\n",
      "Date:                Thu, 30 Jan 2020   Prob (F-statistic):           7.64e-50\n",
      "Time:                        20:32:57   Log-Likelihood:             2.1652e+05\n",
      "No. Observations:              171162   AIC:                        -4.330e+05\n",
      "Df Residuals:                  171159   BIC:                        -4.330e+05\n",
      "Df Model:                           2                                         \n",
      "Covariance Type:            nonrobust                                         \n",
      "==============================================================================\n",
      "                 coef    std err          t      P>|t|      [0.025      0.975]\n",
      "------------------------------------------------------------------------------\n",
      "const          0.0101      0.000     59.627      0.000       0.010       0.010\n",
      "t-1           -0.0348      0.002    -14.404      0.000      -0.040      -0.030\n",
      "t-2            0.0092      0.002      3.809      0.000       0.004       0.014\n",
      "==============================================================================\n",
      "Omnibus:                      778.433   Durbin-Watson:                   2.003\n",
      "Prob(Omnibus):                  0.000   Jarque-Bera (JB):              604.711\n",
      "Skew:                           0.058   Prob(JB):                    4.88e-132\n",
      "Kurtosis:                       2.733   Cond. No.                         14.9\n",
      "==============================================================================\n",
      "\n",
      "Warnings:\n",
      "[1] Standard Errors assume that the covariance matrix of the errors is correctly specified.\n"
     ]
    }
   ],
   "source": [
    "ols_model = sm.OLS(endog=y, exog=sm.add_constant(X2)).fit()\n",
    "print(ols_model.summary())"
   ]
  },
  {
   "cell_type": "markdown",
   "metadata": {},
   "source": [
    "### sklearn Linear Regression"
   ]
  },
  {
   "cell_type": "code",
   "execution_count": 31,
   "metadata": {
    "ExecuteTime": {
     "end_time": "2018-10-31T22:34:16.078692Z",
     "start_time": "2018-10-31T22:06:38.882Z"
    }
   },
   "outputs": [],
   "source": [
    "lin_reg = LinearRegression()"
   ]
  },
  {
   "cell_type": "code",
   "execution_count": 32,
   "metadata": {
    "ExecuteTime": {
     "end_time": "2018-10-31T22:34:16.079858Z",
     "start_time": "2018-10-31T22:06:38.885Z"
    }
   },
   "outputs": [
    {
     "data": {
      "text/plain": [
       "LinearRegression(copy_X=True, fit_intercept=True, n_jobs=None, normalize=False)"
      ]
     },
     "execution_count": 32,
     "metadata": {},
     "output_type": "execute_result"
    }
   ],
   "source": [
    "# %%timeit\n",
    "lin_reg.fit(X=X2,y=y)"
   ]
  },
  {
   "cell_type": "code",
   "execution_count": 33,
   "metadata": {
    "ExecuteTime": {
     "end_time": "2018-10-31T22:34:16.084325Z",
     "start_time": "2018-10-31T22:06:38.897Z"
    }
   },
   "outputs": [
    {
     "data": {
      "text/plain": [
       "0.010076949882654875"
      ]
     },
     "execution_count": 33,
     "metadata": {},
     "output_type": "execute_result"
    }
   ],
   "source": [
    "lin_reg.intercept_"
   ]
  },
  {
   "cell_type": "code",
   "execution_count": 34,
   "metadata": {
    "ExecuteTime": {
     "end_time": "2018-10-31T22:34:16.085484Z",
     "start_time": "2018-10-31T22:06:38.901Z"
    }
   },
   "outputs": [
    {
     "data": {
      "text/plain": [
       "array([-0.0347715 ,  0.00920031])"
      ]
     },
     "execution_count": 34,
     "metadata": {},
     "output_type": "execute_result"
    }
   ],
   "source": [
    "lin_reg.coef_"
   ]
  },
  {
   "cell_type": "markdown",
   "metadata": {},
   "source": [
    "### Linear Regression vs Regression Tree Decision Surfaces"
   ]
  },
  {
   "cell_type": "markdown",
   "metadata": {},
   "source": [
    "To further illustrate the different assumptions about the functional form of the relationships between the input variables and the output, we can visualize current return predictions as a function of the feature space, that is, as a function of the range of values for the lagged returns. The following figure shows the current period return as a function of returns one and two periods ago for linear regression and the regression tree:\n",
    "\n",
    "The linear-regression model result on the right side underlines the linearity of the relationship between lagged and current returns, whereas the regression tree chart on the left illustrates the non-linear relationship encoded in the recursive partitioning of the feature space."
   ]
  },
  {
   "cell_type": "code",
   "execution_count": 35,
   "metadata": {
    "ExecuteTime": {
     "end_time": "2018-10-31T22:34:16.087092Z",
     "start_time": "2018-10-31T22:06:38.904Z"
    }
   },
   "outputs": [],
   "source": [
    "t1, t2 = np.meshgrid(np.linspace(X2['t-1'].quantile(.01), X2['t-1'].quantile(.99), 100),\n",
    "                     np.linspace(X2['t-2'].quantile(.01), X2['t-2'].quantile(.99), 100))\n",
    "X_data = np.c_[t1.ravel(), t2.ravel()]"
   ]
  },
  {
   "cell_type": "code",
   "execution_count": 36,
   "metadata": {
    "ExecuteTime": {
     "end_time": "2018-10-31T22:34:16.089090Z",
     "start_time": "2018-10-31T22:06:38.922Z"
    },
    "scrolled": false
   },
   "outputs": [
    {
     "data": {
      "image/png": "[encoded data removed]",
      "text/plain": [
       "<Figure size 864x360 with 4 Axes>"
      ]
     },
     "metadata": {},
     "output_type": "display_data"
    }
   ],
   "source": [
    "fig, axes = plt.subplots(ncols=2, figsize=(12,5))\n",
    "\n",
    "# Linear Regression\n",
    "ret1 = lin_reg.predict(X_data).reshape(t1.shape)\n",
    "surface1 = axes[0].contourf(t1, t2, ret1, cmap='Blues')\n",
    "plt.colorbar(mappable=surface1, ax=axes[0])\n",
    "\n",
    "# Regression Tree\n",
    "ret2 = reg_tree_t2.predict(X_data).reshape(t1.shape)\n",
    "surface2 = axes[1].contourf(t1, t2, ret2, cmap='Blues')\n",
    "# surface2 = axes[1].contourf(t1, t2, np.clip(ret2, a_min=-.05, a_max=.05), cmap='Blues')\n",
    "plt.colorbar(mappable=surface2, ax=axes[1])\n",
    "\n",
    "# Format plots\n",
    "titles = ['Linear Regression', 'Regression Tree']\n",
    "for i, ax in enumerate(axes):\n",
    "    ax.set_xlabel('t-1')\n",
    "    ax.set_ylabel('t-2')\n",
    "    ax.set_title(titles[i])\n",
    "\n",
    "fig.suptitle('Decision Surfaces', fontsize=20)\n",
    "fig.tight_layout()\n",
    "fig.subplots_adjust(top=.9);"
   ]
  },
  {
   "cell_type": "markdown",
   "metadata": {},
   "source": [
    "## Simple Classification Tree"
   ]
  },
  {
   "cell_type": "markdown",
   "metadata": {},
   "source": [
    "A classification tree works just like the regression version, except that categorical nature of the outcome requires a different approach to making predictions and measuring the loss. While a regression tree predicts the response for an observation assigned to a leaf node using the mean outcome of the associated training samples, a classification tree instead uses the mode, that is, the most common class among the training samples in the relevant region. A classification tree can also generate probabilistic predictions based on relative class frequencies."
   ]
  },
  {
   "cell_type": "markdown",
   "metadata": {},
   "source": [
    "### Loss Functions"
   ]
  },
  {
   "cell_type": "markdown",
   "metadata": {},
   "source": [
    "When growing a classification tree, we also use recursive binary splitting but, instead of evaluating the quality of a decision rule using the reduction of the mean-squared error, we can use the classification error rate, which is simply the fraction of the training samples in a given (leave) node that do not belong to the most common class."
   ]
  },
  {
   "cell_type": "markdown",
   "metadata": {},
   "source": [
    "However, the alternative measures, Gini Index or Cross-Entropy, are preferred because they are more sensitive to node purity than the classification error rate. Node purity refers to the extent of the preponderance of a single class in a node. A node that only contains samples with outcomes belonging to a single class is pure and imply successful classification for this particular region of the feature space. "
   ]
  },
  {
   "cell_type": "code",
   "execution_count": 37,
   "metadata": {
    "ExecuteTime": {
     "end_time": "2018-10-31T22:34:16.095170Z",
     "start_time": "2018-10-31T22:06:38.934Z"
    }
   },
   "outputs": [],
   "source": [
    "def entropy(f):\n",
    "    return (-f*np.log2(f) - (1-f)*np.log2(1-f))/2"
   ]
  },
  {
   "cell_type": "code",
   "execution_count": 38,
   "metadata": {
    "ExecuteTime": {
     "end_time": "2018-10-31T22:34:16.096711Z",
     "start_time": "2018-10-31T22:06:38.943Z"
    }
   },
   "outputs": [],
   "source": [
    "def gini(f):\n",
    "    return 2*f*(1-f)"
   ]
  },
  {
   "cell_type": "code",
   "execution_count": 39,
   "metadata": {
    "ExecuteTime": {
     "end_time": "2018-10-31T22:34:16.098059Z",
     "start_time": "2018-10-31T22:06:38.952Z"
    }
   },
   "outputs": [],
   "source": [
    "def misclassification_rate(f):\n",
    "    return np.where(f<=.5, f, 1-f)"
   ]
  },
  {
   "cell_type": "markdown",
   "metadata": {},
   "source": [
    "Both the Gini Impurity and the Cross-Entropy measure take on smaller values when the class proportions approach zero or one, that is, when the child nodes become pure as a result of the split and are highest when the class proportions are even or 0.5 in the binary case. \n",
    "\n",
    "The chart below visualizes the values assumed by these two measures and the misclassification error rates across the [0, 1] interval of proportions."
   ]
  },
  {
   "cell_type": "code",
   "execution_count": 40,
   "metadata": {
    "ExecuteTime": {
     "end_time": "2018-10-31T22:34:16.100377Z",
     "start_time": "2018-10-31T22:06:38.969Z"
    }
   },
   "outputs": [
    {
     "data": {
      "image/png": "[encoded data removed]",
      "text/plain": [
       "<Figure size 432x288 with 1 Axes>"
      ]
     },
     "metadata": {},
     "output_type": "display_data"
    }
   ],
   "source": [
    "x = np.linspace(0, 1, 10000)\n",
    "(pd.DataFrame({'Gini': gini(x), \n",
    "              'Entropy': entropy(x),\n",
    "             'Misclassification Rate': misclassification_rate(x)}, index=x)\n",
    " .plot(title='Classification Loss Functions', lw=2));"
   ]
  },
  {
   "cell_type": "markdown",
   "metadata": {},
   "source": [
    "#### Compare computation time"
   ]
  },
  {
   "cell_type": "markdown",
   "metadata": {},
   "source": [
    "Gini is often preferred over entropy because it computes faster:"
   ]
  },
  {
   "cell_type": "code",
   "execution_count": 41,
   "metadata": {
    "ExecuteTime": {
     "end_time": "2018-10-31T22:34:16.103157Z",
     "start_time": "2018-10-31T22:06:38.978Z"
    }
   },
   "outputs": [
    {
     "name": "stdout",
     "output_type": "stream",
     "text": [
      "14 µs ± 109 ns per loop (mean ± std. dev. of 7 runs, 100000 loops each)\n"
     ]
    }
   ],
   "source": [
    "%%timeit\n",
    "misclassification_rate(x)"
   ]
  },
  {
   "cell_type": "code",
   "execution_count": 42,
   "metadata": {
    "ExecuteTime": {
     "end_time": "2018-10-31T22:34:16.105649Z",
     "start_time": "2018-10-31T22:06:38.986Z"
    }
   },
   "outputs": [
    {
     "name": "stdout",
     "output_type": "stream",
     "text": [
      "10.8 µs ± 48.1 ns per loop (mean ± std. dev. of 7 runs, 100000 loops each)\n"
     ]
    }
   ],
   "source": [
    "%%timeit\n",
    "gini(x)"
   ]
  },
  {
   "cell_type": "code",
   "execution_count": 43,
   "metadata": {
    "ExecuteTime": {
     "end_time": "2018-10-31T22:34:16.106843Z",
     "start_time": "2018-10-31T22:06:38.994Z"
    }
   },
   "outputs": [
    {
     "name": "stdout",
     "output_type": "stream",
     "text": [
      "193 µs ± 1.42 µs per loop (mean ± std. dev. of 7 runs, 10000 loops each)\n"
     ]
    }
   ],
   "source": [
    "%%timeit\n",
    "entropy(x)"
   ]
  },
  {
   "cell_type": "markdown",
   "metadata": {},
   "source": [
    "### Configure Tree"
   ]
  },
  {
   "cell_type": "code",
   "execution_count": 44,
   "metadata": {
    "ExecuteTime": {
     "end_time": "2018-10-31T22:34:16.109952Z",
     "start_time": "2018-10-31T22:06:39.005Z"
    }
   },
   "outputs": [],
   "source": [
    "clf_tree_t2 = DecisionTreeClassifier(criterion='gini',\n",
    "                                     splitter='best',\n",
    "                                     max_depth=4,\n",
    "                                     min_samples_split=2,\n",
    "                                     min_samples_leaf=1,\n",
    "                                     min_weight_fraction_leaf=0.0,\n",
    "                                     max_features=None,\n",
    "                                     random_state=42,\n",
    "                                     max_leaf_nodes=None,\n",
    "                                     min_impurity_decrease=0.0,\n",
    "                                     min_impurity_split=None,\n",
    "                                     class_weight=None,\n",
    "                                     presort=False)"
   ]
  },
  {
   "cell_type": "markdown",
   "metadata": {},
   "source": [
    "### Train Tree"
   ]
  },
  {
   "cell_type": "code",
   "execution_count": 45,
   "metadata": {
    "ExecuteTime": {
     "end_time": "2018-10-31T22:34:16.111002Z",
     "start_time": "2018-10-31T22:06:39.017Z"
    },
    "scrolled": true
   },
   "outputs": [
    {
     "data": {
      "text/plain": [
       "DecisionTreeClassifier(ccp_alpha=0.0, class_weight=None, criterion='gini',\n",
       "                       max_depth=4, max_features=None, max_leaf_nodes=None,\n",
       "                       min_impurity_decrease=0.0, min_impurity_split=None,\n",
       "                       min_samples_leaf=1, min_samples_split=2,\n",
       "                       min_weight_fraction_leaf=0.0, presort=False,\n",
       "                       random_state=42, splitter='best')"
      ]
     },
     "execution_count": 45,
     "metadata": {},
     "output_type": "execute_result"
    }
   ],
   "source": [
    "# %%timeit\n",
    "clf_tree_t2.fit(X=X2, y=y_binary)"
   ]
  },
  {
   "cell_type": "markdown",
   "metadata": {},
   "source": [
    "### Visualize Tree"
   ]
  },
  {
   "cell_type": "code",
   "execution_count": 46,
   "metadata": {
    "ExecuteTime": {
     "end_time": "2018-10-31T22:34:16.115952Z",
     "start_time": "2018-10-31T22:06:39.049Z"
    }
   },
   "outputs": [
    {
     "data": {
      "image/svg+xml": [
       "<?xml version=\"1.0\" encoding=\"UTF-8\" standalone=\"no\"?>\n",
       "<!DOCTYPE svg PUBLIC \"-//W3C//DTD SVG 1.1//EN\"\n",
       " \"http://www.w3.org/Graphics/SVG/1.1/DTD/svg11.dtd\">\n",
       "<!-- Generated by graphviz version 2.42.3 (20191010.1750)\n",
       " -->\n",
       "<!-- Title: Tree Pages: 1 -->\n",
       "<svg width=\"665pt\" height=\"401pt\"\n",
       " viewBox=\"0.00 0.00 665.00 401.00\" xmlns=\"http://www.w3.org/2000/svg\" xmlns:xlink=\"http://www.w3.org/1999/xlink\">\n",
       "<g id=\"graph0\" class=\"graph\" transform=\"scale(1 1) rotate(0) translate(4 397)\">\n",
       "<title>Tree</title>\n",
       "<polygon fill=\"white\" stroke=\"transparent\" points=\"-4,4 -4,-397 661,-397 661,4 -4,4\"/>\n",
       "<!-- 0 -->\n",
       "<g id=\"node1\" class=\"node\">\n",
       "<title>0</title>\n",
       "<path fill=\"#d7ebfa\" stroke=\"black\" d=\"M399,-393C399,-393 268,-393 268,-393 262,-393 256,-387 256,-381 256,-381 256,-322 256,-322 256,-316 262,-310 268,-310 268,-310 399,-310 399,-310 405,-310 411,-316 411,-322 411,-322 411,-381 411,-381 411,-387 405,-393 399,-393\"/>\n",
       "<text text-anchor=\"start\" x=\"306\" y=\"-377.8\" font-family=\"Helvetica,sans-Serif\" font-size=\"14.00\">t&#45;1 ≤ &#45;0.0</text>\n",
       "<text text-anchor=\"start\" x=\"298\" y=\"-362.8\" font-family=\"Helvetica,sans-Serif\" font-size=\"14.00\">gini = 0.494</text>\n",
       "<text text-anchor=\"start\" x=\"277.5\" y=\"-347.8\" font-family=\"Helvetica,sans-Serif\" font-size=\"14.00\">samples = 171162</text>\n",
       "<text text-anchor=\"start\" x=\"264\" y=\"-332.8\" font-family=\"Helvetica,sans-Serif\" font-size=\"14.00\">value = [76086, 95076]</text>\n",
       "<text text-anchor=\"start\" x=\"301.5\" y=\"-317.8\" font-family=\"Helvetica,sans-Serif\" font-size=\"14.00\">class = Up</text>\n",
       "</g>\n",
       "<!-- 1 -->\n",
       "<g id=\"node2\" class=\"node\">\n",
       "<title>1</title>\n",
       "<path fill=\"#cde6f8\" stroke=\"black\" d=\"M313,-274C313,-274 182,-274 182,-274 176,-274 170,-268 170,-262 170,-262 170,-203 170,-203 170,-197 176,-191 182,-191 182,-191 313,-191 313,-191 319,-191 325,-197 325,-203 325,-203 325,-262 325,-262 325,-268 319,-274 313,-274\"/>\n",
       "<text text-anchor=\"start\" x=\"212.5\" y=\"-258.8\" font-family=\"Helvetica,sans-Serif\" font-size=\"14.00\">t&#45;2 ≤ &#45;0.008</text>\n",
       "<text text-anchor=\"start\" x=\"215.5\" y=\"-243.8\" font-family=\"Helvetica,sans-Serif\" font-size=\"14.00\">gini = 0.49</text>\n",
       "<text text-anchor=\"start\" x=\"195\" y=\"-228.8\" font-family=\"Helvetica,sans-Serif\" font-size=\"14.00\">samples = 74514</text>\n",
       "<text text-anchor=\"start\" x=\"178\" y=\"-213.8\" font-family=\"Helvetica,sans-Serif\" font-size=\"14.00\">value = [31875, 42639]</text>\n",
       "<text text-anchor=\"start\" x=\"215.5\" y=\"-198.8\" font-family=\"Helvetica,sans-Serif\" font-size=\"14.00\">class = Up</text>\n",
       "</g>\n",
       "<!-- 0&#45;&gt;1 -->\n",
       "<g id=\"edge1\" class=\"edge\">\n",
       "<title>0&#45;&gt;1</title>\n",
       "<path fill=\"none\" stroke=\"black\" d=\"M303.66,-309.91C297.13,-301.01 290.14,-291.51 283.39,-282.33\"/>\n",
       "<polygon fill=\"black\" stroke=\"black\" points=\"286.03,-280.01 277.28,-274.02 280.39,-284.15 286.03,-280.01\"/>\n",
       "<text text-anchor=\"middle\" x=\"273.51\" y=\"-295.03\" font-family=\"Helvetica,sans-Serif\" font-size=\"14.00\">True</text>\n",
       "</g>\n",
       "<!-- 16 -->\n",
       "<g id=\"node9\" class=\"node\">\n",
       "<title>16</title>\n",
       "<path fill=\"#e0f0fb\" stroke=\"black\" d=\"M486,-274C486,-274 355,-274 355,-274 349,-274 343,-268 343,-262 343,-262 343,-203 343,-203 343,-197 349,-191 355,-191 355,-191 486,-191 486,-191 492,-191 498,-197 498,-203 498,-203 498,-262 498,-262 498,-268 492,-274 486,-274\"/>\n",
       "<text text-anchor=\"start\" x=\"395\" y=\"-258.8\" font-family=\"Helvetica,sans-Serif\" font-size=\"14.00\">t&#45;1 ≤ 0.0</text>\n",
       "<text text-anchor=\"start\" x=\"385\" y=\"-243.8\" font-family=\"Helvetica,sans-Serif\" font-size=\"14.00\">gini = 0.496</text>\n",
       "<text text-anchor=\"start\" x=\"368\" y=\"-228.8\" font-family=\"Helvetica,sans-Serif\" font-size=\"14.00\">samples = 96648</text>\n",
       "<text text-anchor=\"start\" x=\"351\" y=\"-213.8\" font-family=\"Helvetica,sans-Serif\" font-size=\"14.00\">value = [44211, 52437]</text>\n",
       "<text text-anchor=\"start\" x=\"388.5\" y=\"-198.8\" font-family=\"Helvetica,sans-Serif\" font-size=\"14.00\">class = Up</text>\n",
       "</g>\n",
       "<!-- 0&#45;&gt;16 -->\n",
       "<g id=\"edge8\" class=\"edge\">\n",
       "<title>0&#45;&gt;16</title>\n",
       "<path fill=\"none\" stroke=\"black\" d=\"M363.68,-309.91C370.36,-300.92 377.51,-291.32 384.4,-282.05\"/>\n",
       "<polygon fill=\"black\" stroke=\"black\" points=\"387.21,-284.13 390.37,-274.02 381.59,-279.96 387.21,-284.13\"/>\n",
       "<text text-anchor=\"middle\" x=\"394.01\" y=\"-295.05\" font-family=\"Helvetica,sans-Serif\" font-size=\"14.00\">False</text>\n",
       "</g>\n",
       "<!-- 2 -->\n",
       "<g id=\"node3\" class=\"node\">\n",
       "<title>2</title>\n",
       "<path fill=\"#dbedfa\" stroke=\"black\" d=\"M143,-155C143,-155 12,-155 12,-155 6,-155 0,-149 0,-143 0,-143 0,-84 0,-84 0,-78 6,-72 12,-72 12,-72 143,-72 143,-72 149,-72 155,-78 155,-84 155,-84 155,-143 155,-143 155,-149 149,-155 143,-155\"/>\n",
       "<text text-anchor=\"start\" x=\"42.5\" y=\"-139.8\" font-family=\"Helvetica,sans-Serif\" font-size=\"14.00\">t&#45;2 ≤ &#45;0.043</text>\n",
       "<text text-anchor=\"start\" x=\"42\" y=\"-124.8\" font-family=\"Helvetica,sans-Serif\" font-size=\"14.00\">gini = 0.495</text>\n",
       "<text text-anchor=\"start\" x=\"25\" y=\"-109.8\" font-family=\"Helvetica,sans-Serif\" font-size=\"14.00\">samples = 27773</text>\n",
       "<text text-anchor=\"start\" x=\"8\" y=\"-94.8\" font-family=\"Helvetica,sans-Serif\" font-size=\"14.00\">value = [12480, 15293]</text>\n",
       "<text text-anchor=\"start\" x=\"45.5\" y=\"-79.8\" font-family=\"Helvetica,sans-Serif\" font-size=\"14.00\">class = Up</text>\n",
       "</g>\n",
       "<!-- 1&#45;&gt;2 -->\n",
       "<g id=\"edge2\" class=\"edge\">\n",
       "<title>1&#45;&gt;2</title>\n",
       "<path fill=\"none\" stroke=\"black\" d=\"M188.52,-190.91C174.41,-181.2 159.24,-170.76 144.79,-160.81\"/>\n",
       "<polygon fill=\"black\" stroke=\"black\" points=\"146.6,-157.81 136.38,-155.02 142.63,-163.57 146.6,-157.81\"/>\n",
       "</g>\n",
       "<!-- 9 -->\n",
       "<g id=\"node6\" class=\"node\">\n",
       "<title>9</title>\n",
       "<path fill=\"#c5e3f7\" stroke=\"black\" d=\"M316,-155C316,-155 185,-155 185,-155 179,-155 173,-149 173,-143 173,-143 173,-84 173,-84 173,-78 179,-72 185,-72 185,-72 316,-72 316,-72 322,-72 328,-78 328,-84 328,-84 328,-143 328,-143 328,-149 322,-155 316,-155\"/>\n",
       "<text text-anchor=\"start\" x=\"217.5\" y=\"-139.8\" font-family=\"Helvetica,sans-Serif\" font-size=\"14.00\">t&#45;2 ≤ 0.123</text>\n",
       "<text text-anchor=\"start\" x=\"215\" y=\"-124.8\" font-family=\"Helvetica,sans-Serif\" font-size=\"14.00\">gini = 0.486</text>\n",
       "<text text-anchor=\"start\" x=\"198\" y=\"-109.8\" font-family=\"Helvetica,sans-Serif\" font-size=\"14.00\">samples = 46741</text>\n",
       "<text text-anchor=\"start\" x=\"181\" y=\"-94.8\" font-family=\"Helvetica,sans-Serif\" font-size=\"14.00\">value = [19395, 27346]</text>\n",
       "<text text-anchor=\"start\" x=\"218.5\" y=\"-79.8\" font-family=\"Helvetica,sans-Serif\" font-size=\"14.00\">class = Up</text>\n",
       "</g>\n",
       "<!-- 1&#45;&gt;9 -->\n",
       "<g id=\"edge5\" class=\"edge\">\n",
       "<title>1&#45;&gt;9</title>\n",
       "<path fill=\"none\" stroke=\"black\" d=\"M248.54,-190.91C248.75,-182.56 248.98,-173.67 249.2,-165.02\"/>\n",
       "<polygon fill=\"black\" stroke=\"black\" points=\"252.7,-165.11 249.46,-155.02 245.71,-164.93 252.7,-165.11\"/>\n",
       "</g>\n",
       "<!-- 3 -->\n",
       "<g id=\"node4\" class=\"node\">\n",
       "<title>3</title>\n",
       "<path fill=\"#c0c0c0\" stroke=\"black\" d=\"M89.5,-36C89.5,-36 59.5,-36 59.5,-36 53.5,-36 47.5,-30 47.5,-24 47.5,-24 47.5,-12 47.5,-12 47.5,-6 53.5,0 59.5,0 59.5,0 89.5,0 89.5,0 95.5,0 101.5,-6 101.5,-12 101.5,-12 101.5,-24 101.5,-24 101.5,-30 95.5,-36 89.5,-36\"/>\n",
       "<text text-anchor=\"middle\" x=\"74.5\" y=\"-14.3\" font-family=\"Helvetica,sans-Serif\" font-size=\"14.00\">(...)</text>\n",
       "</g>\n",
       "<!-- 2&#45;&gt;3 -->\n",
       "<g id=\"edge3\" class=\"edge\">\n",
       "<title>2&#45;&gt;3</title>\n",
       "<path fill=\"none\" stroke=\"black\" d=\"M76.19,-71.76C75.92,-63.24 75.64,-54.44 75.38,-46.53\"/>\n",
       "<polygon fill=\"black\" stroke=\"black\" points=\"78.88,-46.29 75.06,-36.41 71.88,-46.51 78.88,-46.29\"/>\n",
       "</g>\n",
       "<!-- 6 -->\n",
       "<g id=\"node5\" class=\"node\">\n",
       "<title>6</title>\n",
       "<path fill=\"#c0c0c0\" stroke=\"black\" d=\"M161.5,-36C161.5,-36 131.5,-36 131.5,-36 125.5,-36 119.5,-30 119.5,-24 119.5,-24 119.5,-12 119.5,-12 119.5,-6 125.5,0 131.5,0 131.5,0 161.5,0 161.5,0 167.5,0 173.5,-6 173.5,-12 173.5,-12 173.5,-24 173.5,-24 173.5,-30 167.5,-36 161.5,-36\"/>\n",
       "<text text-anchor=\"middle\" x=\"146.5\" y=\"-14.3\" font-family=\"Helvetica,sans-Serif\" font-size=\"14.00\">(...)</text>\n",
       "</g>\n",
       "<!-- 2&#45;&gt;6 -->\n",
       "<g id=\"edge4\" class=\"edge\">\n",
       "<title>2&#45;&gt;6</title>\n",
       "<path fill=\"none\" stroke=\"black\" d=\"M107.56,-71.76C114.36,-62.56 121.38,-53.04 127.56,-44.66\"/>\n",
       "<polygon fill=\"black\" stroke=\"black\" points=\"130.53,-46.53 133.66,-36.41 124.9,-42.37 130.53,-46.53\"/>\n",
       "</g>\n",
       "<!-- 10 -->\n",
       "<g id=\"node7\" class=\"node\">\n",
       "<title>10</title>\n",
       "<path fill=\"#c0c0c0\" stroke=\"black\" d=\"M249.5,-36C249.5,-36 219.5,-36 219.5,-36 213.5,-36 207.5,-30 207.5,-24 207.5,-24 207.5,-12 207.5,-12 207.5,-6 213.5,0 219.5,0 219.5,0 249.5,0 249.5,0 255.5,0 261.5,-6 261.5,-12 261.5,-12 261.5,-24 261.5,-24 261.5,-30 255.5,-36 249.5,-36\"/>\n",
       "<text text-anchor=\"middle\" x=\"234.5\" y=\"-14.3\" font-family=\"Helvetica,sans-Serif\" font-size=\"14.00\">(...)</text>\n",
       "</g>\n",
       "<!-- 9&#45;&gt;10 -->\n",
       "<g id=\"edge6\" class=\"edge\">\n",
       "<title>9&#45;&gt;10</title>\n",
       "<path fill=\"none\" stroke=\"black\" d=\"M243.53,-71.76C242.07,-63.24 240.56,-54.44 239.21,-46.53\"/>\n",
       "<polygon fill=\"black\" stroke=\"black\" points=\"242.62,-45.67 237.48,-36.41 235.72,-46.85 242.62,-45.67\"/>\n",
       "</g>\n",
       "<!-- 13 -->\n",
       "<g id=\"node8\" class=\"node\">\n",
       "<title>13</title>\n",
       "<path fill=\"#c0c0c0\" stroke=\"black\" d=\"M321.5,-36C321.5,-36 291.5,-36 291.5,-36 285.5,-36 279.5,-30 279.5,-24 279.5,-24 279.5,-12 279.5,-12 279.5,-6 285.5,0 291.5,0 291.5,0 321.5,0 321.5,0 327.5,0 333.5,-6 333.5,-12 333.5,-12 333.5,-24 333.5,-24 333.5,-30 327.5,-36 321.5,-36\"/>\n",
       "<text text-anchor=\"middle\" x=\"306.5\" y=\"-14.3\" font-family=\"Helvetica,sans-Serif\" font-size=\"14.00\">(...)</text>\n",
       "</g>\n",
       "<!-- 9&#45;&gt;13 -->\n",
       "<g id=\"edge7\" class=\"edge\">\n",
       "<title>9&#45;&gt;13</title>\n",
       "<path fill=\"none\" stroke=\"black\" d=\"M274.9,-71.76C280.3,-62.75 285.87,-53.44 290.81,-45.19\"/>\n",
       "<polygon fill=\"black\" stroke=\"black\" points=\"293.94,-46.78 296.08,-36.41 287.93,-43.19 293.94,-46.78\"/>\n",
       "</g>\n",
       "<!-- 17 -->\n",
       "<g id=\"node10\" class=\"node\">\n",
       "<title>17</title>\n",
       "<path fill=\"#eda978\" stroke=\"black\" d=\"M471.5,-155C471.5,-155 363.5,-155 363.5,-155 357.5,-155 351.5,-149 351.5,-143 351.5,-143 351.5,-84 351.5,-84 351.5,-78 357.5,-72 363.5,-72 363.5,-72 471.5,-72 471.5,-72 477.5,-72 483.5,-78 483.5,-84 483.5,-84 483.5,-143 483.5,-143 483.5,-149 477.5,-155 471.5,-155\"/>\n",
       "<text text-anchor=\"start\" x=\"384.5\" y=\"-139.8\" font-family=\"Helvetica,sans-Serif\" font-size=\"14.00\">t&#45;2 ≤ 0.003</text>\n",
       "<text text-anchor=\"start\" x=\"382\" y=\"-124.8\" font-family=\"Helvetica,sans-Serif\" font-size=\"14.00\">gini = 0.368</text>\n",
       "<text text-anchor=\"start\" x=\"369\" y=\"-109.8\" font-family=\"Helvetica,sans-Serif\" font-size=\"14.00\">samples = 1335</text>\n",
       "<text text-anchor=\"start\" x=\"359.5\" y=\"-94.8\" font-family=\"Helvetica,sans-Serif\" font-size=\"14.00\">value = [1011, 324]</text>\n",
       "<text text-anchor=\"start\" x=\"376.5\" y=\"-79.8\" font-family=\"Helvetica,sans-Serif\" font-size=\"14.00\">class = Down</text>\n",
       "</g>\n",
       "<!-- 16&#45;&gt;17 -->\n",
       "<g id=\"edge9\" class=\"edge\">\n",
       "<title>16&#45;&gt;17</title>\n",
       "<path fill=\"none\" stroke=\"black\" d=\"M419.46,-190.91C419.25,-182.56 419.02,-173.67 418.8,-165.02\"/>\n",
       "<polygon fill=\"black\" stroke=\"black\" points=\"422.29,-164.93 418.54,-155.02 415.3,-165.11 422.29,-164.93\"/>\n",
       "</g>\n",
       "<!-- 24 -->\n",
       "<g id=\"node13\" class=\"node\">\n",
       "<title>24</title>\n",
       "<path fill=\"#ddeefb\" stroke=\"black\" d=\"M645,-155C645,-155 514,-155 514,-155 508,-155 502,-149 502,-143 502,-143 502,-84 502,-84 502,-78 508,-72 514,-72 514,-72 645,-72 645,-72 651,-72 657,-78 657,-84 657,-84 657,-143 657,-143 657,-149 651,-155 645,-155\"/>\n",
       "<text text-anchor=\"start\" x=\"546.5\" y=\"-139.8\" font-family=\"Helvetica,sans-Serif\" font-size=\"14.00\">t&#45;1 ≤ 0.036</text>\n",
       "<text text-anchor=\"start\" x=\"544\" y=\"-124.8\" font-family=\"Helvetica,sans-Serif\" font-size=\"14.00\">gini = 0.496</text>\n",
       "<text text-anchor=\"start\" x=\"527\" y=\"-109.8\" font-family=\"Helvetica,sans-Serif\" font-size=\"14.00\">samples = 95313</text>\n",
       "<text text-anchor=\"start\" x=\"510\" y=\"-94.8\" font-family=\"Helvetica,sans-Serif\" font-size=\"14.00\">value = [43200, 52113]</text>\n",
       "<text text-anchor=\"start\" x=\"547.5\" y=\"-79.8\" font-family=\"Helvetica,sans-Serif\" font-size=\"14.00\">class = Up</text>\n",
       "</g>\n",
       "<!-- 16&#45;&gt;24 -->\n",
       "<g id=\"edge12\" class=\"edge\">\n",
       "<title>16&#45;&gt;24</title>\n",
       "<path fill=\"none\" stroke=\"black\" d=\"M475.66,-190.91C488.74,-181.29 502.78,-170.95 516.18,-161.09\"/>\n",
       "<polygon fill=\"black\" stroke=\"black\" points=\"518.45,-163.77 524.43,-155.02 514.3,-158.13 518.45,-163.77\"/>\n",
       "</g>\n",
       "<!-- 18 -->\n",
       "<g id=\"node11\" class=\"node\">\n",
       "<title>18</title>\n",
       "<path fill=\"#c0c0c0\" stroke=\"black\" d=\"M410.5,-36C410.5,-36 380.5,-36 380.5,-36 374.5,-36 368.5,-30 368.5,-24 368.5,-24 368.5,-12 368.5,-12 368.5,-6 374.5,0 380.5,0 380.5,0 410.5,0 410.5,0 416.5,0 422.5,-6 422.5,-12 422.5,-12 422.5,-24 422.5,-24 422.5,-30 416.5,-36 410.5,-36\"/>\n",
       "<text text-anchor=\"middle\" x=\"395.5\" y=\"-14.3\" font-family=\"Helvetica,sans-Serif\" font-size=\"14.00\">(...)</text>\n",
       "</g>\n",
       "<!-- 17&#45;&gt;18 -->\n",
       "<g id=\"edge10\" class=\"edge\">\n",
       "<title>17&#45;&gt;18</title>\n",
       "<path fill=\"none\" stroke=\"black\" d=\"M407.91,-71.76C405.89,-63.14 403.79,-54.24 401.91,-46.26\"/>\n",
       "<polygon fill=\"black\" stroke=\"black\" points=\"405.29,-45.34 399.6,-36.41 398.48,-46.94 405.29,-45.34\"/>\n",
       "</g>\n",
       "<!-- 21 -->\n",
       "<g id=\"node12\" class=\"node\">\n",
       "<title>21</title>\n",
       "<path fill=\"#c0c0c0\" stroke=\"black\" d=\"M482.5,-36C482.5,-36 452.5,-36 452.5,-36 446.5,-36 440.5,-30 440.5,-24 440.5,-24 440.5,-12 440.5,-12 440.5,-6 446.5,0 452.5,0 452.5,0 482.5,0 482.5,0 488.5,0 494.5,-6 494.5,-12 494.5,-12 494.5,-24 494.5,-24 494.5,-30 488.5,-36 482.5,-36\"/>\n",
       "<text text-anchor=\"middle\" x=\"467.5\" y=\"-14.3\" font-family=\"Helvetica,sans-Serif\" font-size=\"14.00\">(...)</text>\n",
       "</g>\n",
       "<!-- 17&#45;&gt;21 -->\n",
       "<g id=\"edge11\" class=\"edge\">\n",
       "<title>17&#45;&gt;21</title>\n",
       "<path fill=\"none\" stroke=\"black\" d=\"M439.29,-71.76C444.05,-62.85 448.98,-53.64 453.35,-45.46\"/>\n",
       "<polygon fill=\"black\" stroke=\"black\" points=\"456.56,-46.87 458.19,-36.41 450.39,-43.57 456.56,-46.87\"/>\n",
       "</g>\n",
       "<!-- 25 -->\n",
       "<g id=\"node14\" class=\"node\">\n",
       "<title>25</title>\n",
       "<path fill=\"#c0c0c0\" stroke=\"black\" d=\"M571.5,-36C571.5,-36 541.5,-36 541.5,-36 535.5,-36 529.5,-30 529.5,-24 529.5,-24 529.5,-12 529.5,-12 529.5,-6 535.5,0 541.5,0 541.5,0 571.5,0 571.5,0 577.5,0 583.5,-6 583.5,-12 583.5,-12 583.5,-24 583.5,-24 583.5,-30 577.5,-36 571.5,-36\"/>\n",
       "<text text-anchor=\"middle\" x=\"556.5\" y=\"-14.3\" font-family=\"Helvetica,sans-Serif\" font-size=\"14.00\">(...)</text>\n",
       "</g>\n",
       "<!-- 24&#45;&gt;25 -->\n",
       "<g id=\"edge13\" class=\"edge\">\n",
       "<title>24&#45;&gt;25</title>\n",
       "<path fill=\"none\" stroke=\"black\" d=\"M569.48,-71.76C567.36,-63.14 565.17,-54.24 563.21,-46.26\"/>\n",
       "<polygon fill=\"black\" stroke=\"black\" points=\"566.57,-45.28 560.78,-36.41 559.77,-46.95 566.57,-45.28\"/>\n",
       "</g>\n",
       "<!-- 28 -->\n",
       "<g id=\"node15\" class=\"node\">\n",
       "<title>28</title>\n",
       "<path fill=\"#c0c0c0\" stroke=\"black\" d=\"M643.5,-36C643.5,-36 613.5,-36 613.5,-36 607.5,-36 601.5,-30 601.5,-24 601.5,-24 601.5,-12 601.5,-12 601.5,-6 607.5,0 613.5,0 613.5,0 643.5,0 643.5,0 649.5,0 655.5,-6 655.5,-12 655.5,-12 655.5,-24 655.5,-24 655.5,-30 649.5,-36 643.5,-36\"/>\n",
       "<text text-anchor=\"middle\" x=\"628.5\" y=\"-14.3\" font-family=\"Helvetica,sans-Serif\" font-size=\"14.00\">(...)</text>\n",
       "</g>\n",
       "<!-- 24&#45;&gt;28 -->\n",
       "<g id=\"edge14\" class=\"edge\">\n",
       "<title>24&#45;&gt;28</title>\n",
       "<path fill=\"none\" stroke=\"black\" d=\"M600.85,-71.76C605.52,-62.85 610.35,-53.64 614.63,-45.46\"/>\n",
       "<polygon fill=\"black\" stroke=\"black\" points=\"617.84,-46.89 619.38,-36.41 611.64,-43.64 617.84,-46.89\"/>\n",
       "</g>\n",
       "</g>\n",
       "</svg>\n"
      ],
      "text/plain": [
       "<graphviz.files.Source at 0x7f0350853cd0>"
      ]
     },
     "execution_count": 46,
     "metadata": {},
     "output_type": "execute_result"
    }
   ],
   "source": [
    "out_file = 'figures/clf_tree_t2.dot'\n",
    "dot_data = export_graphviz(clf_tree_t2,\n",
    "                           out_file=out_file,\n",
    "                           feature_names=X2.columns,\n",
    "                           class_names=['Down', 'Up'],\n",
    "                           max_depth=2,\n",
    "                           filled=True,\n",
    "                           rounded=True,\n",
    "                           special_characters=True)\n",
    "if out_file is not None:\n",
    "    dot_data = Path(out_file).read_text()\n",
    "\n",
    "graphviz.Source(dot_data)"
   ]
  },
  {
   "cell_type": "markdown",
   "metadata": {},
   "source": [
    "### Compare with Logistic Regression"
   ]
  },
  {
   "cell_type": "markdown",
   "metadata": {},
   "source": [
    "#### Statsmodels"
   ]
  },
  {
   "cell_type": "code",
   "execution_count": 47,
   "metadata": {
    "ExecuteTime": {
     "end_time": "2018-10-31T22:34:16.120856Z",
     "start_time": "2018-10-31T22:06:39.068Z"
    }
   },
   "outputs": [
    {
     "name": "stdout",
     "output_type": "stream",
     "text": [
      "Optimization terminated successfully.\n",
      "         Current function value: 0.686503\n",
      "         Iterations 4\n",
      "                           Logit Regression Results                           \n",
      "==============================================================================\n",
      "Dep. Variable:                returns   No. Observations:               171162\n",
      "Model:                          Logit   Df Residuals:                   171159\n",
      "Method:                           MLE   Df Model:                            2\n",
      "Date:                Thu, 30 Jan 2020   Pseudo R-squ.:               0.0006944\n",
      "Time:                        21:00:01   Log-Likelihood:            -1.1750e+05\n",
      "converged:                       True   LL-Null:                   -1.1758e+05\n",
      "Covariance Type:            nonrobust   LLR p-value:                 3.478e-36\n",
      "==============================================================================\n",
      "                 coef    std err          z      P>|z|      [0.025      0.975]\n",
      "------------------------------------------------------------------------------\n",
      "const          0.2246      0.005     45.067      0.000       0.215       0.234\n",
      "t-1           -0.7208      0.071    -10.126      0.000      -0.860      -0.581\n",
      "t-2            0.5279      0.071      7.410      0.000       0.388       0.667\n",
      "==============================================================================\n"
     ]
    }
   ],
   "source": [
    "model = sm.Logit(endog=y_binary, exog=sm.add_constant(X2)).fit()\n",
    "print(model.summary())"
   ]
  },
  {
   "cell_type": "markdown",
   "metadata": {},
   "source": [
    "#### sklearn"
   ]
  },
  {
   "cell_type": "code",
   "execution_count": 48,
   "metadata": {
    "ExecuteTime": {
     "end_time": "2018-10-31T22:34:16.124316Z",
     "start_time": "2018-10-31T22:06:39.078Z"
    }
   },
   "outputs": [],
   "source": [
    "logistic_reg = LogisticRegression()"
   ]
  },
  {
   "cell_type": "code",
   "execution_count": 49,
   "metadata": {
    "ExecuteTime": {
     "end_time": "2018-10-31T22:34:16.125951Z",
     "start_time": "2018-10-31T22:06:39.086Z"
    }
   },
   "outputs": [
    {
     "data": {
      "text/plain": [
       "LogisticRegression(C=1.0, class_weight=None, dual=False, fit_intercept=True,\n",
       "                   intercept_scaling=1, l1_ratio=None, max_iter=100,\n",
       "                   multi_class='auto', n_jobs=None, penalty='l2',\n",
       "                   random_state=None, solver='lbfgs', tol=0.0001, verbose=0,\n",
       "                   warm_start=False)"
      ]
     },
     "execution_count": 49,
     "metadata": {},
     "output_type": "execute_result"
    }
   ],
   "source": [
    "# %%timeit\n",
    "logistic_reg.fit(X=X2, y=y_binary)"
   ]
  },
  {
   "cell_type": "code",
   "execution_count": 50,
   "metadata": {
    "ExecuteTime": {
     "end_time": "2018-10-31T22:34:16.129350Z",
     "start_time": "2018-10-31T22:06:39.094Z"
    }
   },
   "outputs": [
    {
     "data": {
      "text/plain": [
       "array([[-0.71723598,  0.52526135]])"
      ]
     },
     "execution_count": 50,
     "metadata": {},
     "output_type": "execute_result"
    }
   ],
   "source": [
    "logistic_reg.coef_"
   ]
  },
  {
   "cell_type": "markdown",
   "metadata": {},
   "source": [
    "### Plot Decision Surfaces"
   ]
  },
  {
   "cell_type": "code",
   "execution_count": 51,
   "metadata": {
    "ExecuteTime": {
     "end_time": "2018-10-31T22:34:16.132367Z",
     "start_time": "2018-10-31T22:06:39.105Z"
    }
   },
   "outputs": [
    {
     "data": {
      "image/png": "[encoded data removed]",
      "text/plain": [
       "<Figure size 864x360 with 4 Axes>"
      ]
     },
     "metadata": {},
     "output_type": "display_data"
    }
   ],
   "source": [
    "fig, axes = plt.subplots(ncols=2, figsize=(12,5))\n",
    "\n",
    "# Linear Regression\n",
    "ret1 = logistic_reg.predict_proba(X_data)[:, 1].reshape(t1.shape)\n",
    "surface1 = axes[0].contourf(t1, t2, ret1, cmap='Blues')\n",
    "plt.colorbar(mappable=surface1, ax=axes[0])\n",
    "\n",
    "# Regression Tree\n",
    "ret2 = clf_tree_t2.predict_proba(X_data)[:, 1].reshape(t1.shape)\n",
    "surface2 = axes[1].contourf(t1, t2, ret2, cmap='Blues')\n",
    "plt.colorbar(mappable=surface2, ax=axes[1])\n",
    "\n",
    "# Format plots\n",
    "titles = ['Logistic Regression', 'Classification Tree']\n",
    "for i, ax in enumerate(axes):\n",
    "    ax.set_xlabel('t-1')\n",
    "    ax.set_ylabel('t-2')\n",
    "    ax.set_title(titles[i])\n",
    "\n",
    "fig.suptitle('Decision Surfaces', fontsize=20)\n",
    "fig.tight_layout()\n",
    "fig.subplots_adjust(top=.9);"
   ]
  },
  {
   "cell_type": "markdown",
   "metadata": {},
   "source": [
    "## Regression Tree with all Features"
   ]
  },
  {
   "cell_type": "markdown",
   "metadata": {},
   "source": [
    "We now train, visualize, and evaluate a regression tree with up to 5 consecutive splits using 80% of the samples for training to predict the remaining 20%.\n",
    "\n",
    "We are taking a shortcut here to simplify the illustration and use the built-in train_test_split, which does not protect against lookahead bias, as our custom iterator. The tree configuration implies up to $2^5=32$ leaf nodes that, on average in the balanced case, would contain over 4,300 of the training samples."
   ]
  },
  {
   "cell_type": "markdown",
   "metadata": {},
   "source": [
    "### Train-Test Split"
   ]
  },
  {
   "cell_type": "code",
   "execution_count": 52,
   "metadata": {
    "ExecuteTime": {
     "end_time": "2018-10-31T22:34:16.162314Z",
     "start_time": "2018-10-31T22:06:39.234Z"
    }
   },
   "outputs": [],
   "source": [
    "X_train, X_test, y_train, y_test = train_test_split(X, y, test_size=0.2, random_state=42)"
   ]
  },
  {
   "cell_type": "markdown",
   "metadata": {},
   "source": [
    "### Configure Tree"
   ]
  },
  {
   "cell_type": "markdown",
   "metadata": {},
   "source": [
    "The output after training the model displays all the DecisionTreeClassifier parameters that we will address in more detail in the next section when we discuss parameter-tuning. "
   ]
  },
  {
   "cell_type": "code",
   "execution_count": 53,
   "metadata": {
    "ExecuteTime": {
     "end_time": "2018-10-31T22:34:16.163307Z",
     "start_time": "2018-10-31T22:06:39.243Z"
    }
   },
   "outputs": [],
   "source": [
    "regression_tree = DecisionTreeRegressor(criterion='mse',\n",
    "                                        splitter='best',\n",
    "                                        max_depth=5,\n",
    "                                        min_samples_split=2,\n",
    "                                        min_samples_leaf=1,\n",
    "                                        min_weight_fraction_leaf=0.0,\n",
    "                                        max_features=None,\n",
    "                                        random_state=42,\n",
    "                                        max_leaf_nodes=None,\n",
    "                                        min_impurity_decrease=0.0,\n",
    "                                        min_impurity_split=None,\n",
    "                                        presort=False)"
   ]
  },
  {
   "cell_type": "markdown",
   "metadata": {},
   "source": [
    "### Train Model"
   ]
  },
  {
   "cell_type": "code",
   "execution_count": 54,
   "metadata": {
    "ExecuteTime": {
     "end_time": "2018-10-31T22:34:16.164295Z",
     "start_time": "2018-10-31T22:06:39.252Z"
    },
    "scrolled": true
   },
   "outputs": [
    {
     "data": {
      "text/plain": [
       "DecisionTreeRegressor(ccp_alpha=0.0, criterion='mse', max_depth=5,\n",
       "                      max_features=None, max_leaf_nodes=None,\n",
       "                      min_impurity_decrease=0.0, min_impurity_split=None,\n",
       "                      min_samples_leaf=1, min_samples_split=2,\n",
       "                      min_weight_fraction_leaf=0.0, presort=False,\n",
       "                      random_state=42, splitter='best')"
      ]
     },
     "execution_count": 54,
     "metadata": {},
     "output_type": "execute_result"
    }
   ],
   "source": [
    "regression_tree.fit(X=X_train, y=y_train)"
   ]
  },
  {
   "cell_type": "markdown",
   "metadata": {},
   "source": [
    "### Visualize Tree"
   ]
  },
  {
   "cell_type": "markdown",
   "metadata": {},
   "source": [
    "The result shows that the model uses a variety of different features and indicates the split rules for both continuous and categorical (dummy) variables. "
   ]
  },
  {
   "cell_type": "code",
   "execution_count": 55,
   "metadata": {
    "ExecuteTime": {
     "end_time": "2018-10-31T22:34:16.165329Z",
     "start_time": "2018-10-31T22:06:39.261Z"
    }
   },
   "outputs": [
    {
     "data": {
      "image/svg+xml": [
       "<?xml version=\"1.0\" encoding=\"UTF-8\" standalone=\"no\"?>\n",
       "<!DOCTYPE svg PUBLIC \"-//W3C//DTD SVG 1.1//EN\"\n",
       " \"http://www.w3.org/Graphics/SVG/1.1/DTD/svg11.dtd\">\n",
       "<!-- Generated by graphviz version 2.42.3 (20191010.1750)\n",
       " -->\n",
       "<!-- Title: Tree Pages: 1 -->\n",
       "<svg width=\"1163pt\" height=\"460pt\"\n",
       " viewBox=\"0.00 0.00 1163.00 460.00\" xmlns=\"http://www.w3.org/2000/svg\" xmlns:xlink=\"http://www.w3.org/1999/xlink\">\n",
       "<g id=\"graph0\" class=\"graph\" transform=\"scale(1 1) rotate(0) translate(4 456)\">\n",
       "<title>Tree</title>\n",
       "<polygon fill=\"white\" stroke=\"transparent\" points=\"-4,4 -4,-456 1159,-456 1159,4 -4,4\"/>\n",
       "<!-- 0 -->\n",
       "<g id=\"node1\" class=\"node\">\n",
       "<title>0</title>\n",
       "<path fill=\"#f6d3ba\" stroke=\"black\" d=\"M620,-452C620,-452 516,-452 516,-452 510,-452 504,-446 504,-440 504,-440 504,-396 504,-396 504,-390 510,-384 516,-384 516,-384 620,-384 620,-384 626,-384 632,-390 632,-396 632,-396 632,-440 632,-440 632,-446 626,-452 620,-452\"/>\n",
       "<text text-anchor=\"start\" x=\"518.5\" y=\"-436.8\" font-family=\"Helvetica,sans-Serif\" font-size=\"14.00\">year_2013 ≤ 0.5</text>\n",
       "<text text-anchor=\"start\" x=\"530\" y=\"-421.8\" font-family=\"Helvetica,sans-Serif\" font-size=\"14.00\">mse = 0.005</text>\n",
       "<text text-anchor=\"start\" x=\"512\" y=\"-406.8\" font-family=\"Helvetica,sans-Serif\" font-size=\"14.00\">samples = 136929</text>\n",
       "<text text-anchor=\"start\" x=\"530.5\" y=\"-391.8\" font-family=\"Helvetica,sans-Serif\" font-size=\"14.00\">value = 0.01</text>\n",
       "</g>\n",
       "<!-- 1 -->\n",
       "<g id=\"node2\" class=\"node\">\n",
       "<title>1</title>\n",
       "<path fill=\"#f6d4bc\" stroke=\"black\" d=\"M489,-348C489,-348 385,-348 385,-348 379,-348 373,-342 373,-336 373,-336 373,-292 373,-292 373,-286 379,-280 385,-280 385,-280 489,-280 489,-280 495,-280 501,-286 501,-292 501,-292 501,-336 501,-336 501,-342 495,-348 489,-348\"/>\n",
       "<text text-anchor=\"start\" x=\"389\" y=\"-332.8\" font-family=\"Helvetica,sans-Serif\" font-size=\"14.00\">month_10 ≤ 0.5</text>\n",
       "<text text-anchor=\"start\" x=\"399\" y=\"-317.8\" font-family=\"Helvetica,sans-Serif\" font-size=\"14.00\">mse = 0.005</text>\n",
       "<text text-anchor=\"start\" x=\"381\" y=\"-302.8\" font-family=\"Helvetica,sans-Serif\" font-size=\"14.00\">samples = 117661</text>\n",
       "<text text-anchor=\"start\" x=\"396\" y=\"-287.8\" font-family=\"Helvetica,sans-Serif\" font-size=\"14.00\">value = 0.007</text>\n",
       "</g>\n",
       "<!-- 0&#45;&gt;1 -->\n",
       "<g id=\"edge1\" class=\"edge\">\n",
       "<title>0&#45;&gt;1</title>\n",
       "<path fill=\"none\" stroke=\"black\" d=\"M525.47,-383.88C513.46,-374.53 500.26,-364.26 487.82,-354.57\"/>\n",
       "<polygon fill=\"black\" stroke=\"black\" points=\"489.81,-351.68 479.77,-348.3 485.51,-357.2 489.81,-351.68\"/>\n",
       "<text text-anchor=\"middle\" x=\"482.85\" y=\"-369.41\" font-family=\"Helvetica,sans-Serif\" font-size=\"14.00\">True</text>\n",
       "</g>\n",
       "<!-- 32 -->\n",
       "<g id=\"node17\" class=\"node\">\n",
       "<title>32</title>\n",
       "<path fill=\"#f4ccae\" stroke=\"black\" d=\"M764.5,-348C764.5,-348 667.5,-348 667.5,-348 661.5,-348 655.5,-342 655.5,-336 655.5,-336 655.5,-292 655.5,-292 655.5,-286 661.5,-280 667.5,-280 667.5,-280 764.5,-280 764.5,-280 770.5,-280 776.5,-286 776.5,-292 776.5,-292 776.5,-336 776.5,-336 776.5,-342 770.5,-348 764.5,-348\"/>\n",
       "<text text-anchor=\"start\" x=\"672\" y=\"-332.8\" font-family=\"Helvetica,sans-Serif\" font-size=\"14.00\">month_8 ≤ 0.5</text>\n",
       "<text text-anchor=\"start\" x=\"678\" y=\"-317.8\" font-family=\"Helvetica,sans-Serif\" font-size=\"14.00\">mse = 0.004</text>\n",
       "<text text-anchor=\"start\" x=\"663.5\" y=\"-302.8\" font-family=\"Helvetica,sans-Serif\" font-size=\"14.00\">samples = 19268</text>\n",
       "<text text-anchor=\"start\" x=\"675\" y=\"-287.8\" font-family=\"Helvetica,sans-Serif\" font-size=\"14.00\">value = 0.024</text>\n",
       "</g>\n",
       "<!-- 0&#45;&gt;32 -->\n",
       "<g id=\"edge16\" class=\"edge\">\n",
       "<title>0&#45;&gt;32</title>\n",
       "<path fill=\"none\" stroke=\"black\" d=\"M616.05,-383.88C629.95,-374.3 645.25,-363.76 659.61,-353.86\"/>\n",
       "<polygon fill=\"black\" stroke=\"black\" points=\"661.69,-356.68 667.94,-348.12 657.72,-350.92 661.69,-356.68\"/>\n",
       "<text text-anchor=\"middle\" x=\"663.41\" y=\"-369.01\" font-family=\"Helvetica,sans-Serif\" font-size=\"14.00\">False</text>\n",
       "</g>\n",
       "<!-- 2 -->\n",
       "<g id=\"node3\" class=\"node\">\n",
       "<title>2</title>\n",
       "<path fill=\"#f6d5bd\" stroke=\"black\" d=\"M289,-244C289,-244 185,-244 185,-244 179,-244 173,-238 173,-232 173,-232 173,-188 173,-188 173,-182 179,-176 185,-176 185,-176 289,-176 289,-176 295,-176 301,-182 301,-188 301,-188 301,-232 301,-232 301,-238 295,-244 289,-244\"/>\n",
       "<text text-anchor=\"start\" x=\"187.5\" y=\"-228.8\" font-family=\"Helvetica,sans-Serif\" font-size=\"14.00\">year_2011 ≤ 0.5</text>\n",
       "<text text-anchor=\"start\" x=\"199\" y=\"-213.8\" font-family=\"Helvetica,sans-Serif\" font-size=\"14.00\">mse = 0.005</text>\n",
       "<text text-anchor=\"start\" x=\"181\" y=\"-198.8\" font-family=\"Helvetica,sans-Serif\" font-size=\"14.00\">samples = 108377</text>\n",
       "<text text-anchor=\"start\" x=\"196\" y=\"-183.8\" font-family=\"Helvetica,sans-Serif\" font-size=\"14.00\">value = 0.006</text>\n",
       "</g>\n",
       "<!-- 1&#45;&gt;2 -->\n",
       "<g id=\"edge2\" class=\"edge\">\n",
       "<title>1&#45;&gt;2</title>\n",
       "<path fill=\"none\" stroke=\"black\" d=\"M372.89,-280.31C352.89,-270.1 330.67,-258.77 310.1,-248.28\"/>\n",
       "<polygon fill=\"black\" stroke=\"black\" points=\"311.59,-245.11 301.09,-243.68 308.4,-251.35 311.59,-245.11\"/>\n",
       "</g>\n",
       "<!-- 17 -->\n",
       "<g id=\"node10\" class=\"node\">\n",
       "<title>17</title>\n",
       "<path fill=\"#f5ccaf\" stroke=\"black\" d=\"M482.5,-244C482.5,-244 391.5,-244 391.5,-244 385.5,-244 379.5,-238 379.5,-232 379.5,-232 379.5,-188 379.5,-188 379.5,-182 385.5,-176 391.5,-176 391.5,-176 482.5,-176 482.5,-176 488.5,-176 494.5,-182 494.5,-188 494.5,-188 494.5,-232 494.5,-232 494.5,-238 488.5,-244 482.5,-244\"/>\n",
       "<text text-anchor=\"start\" x=\"387.5\" y=\"-228.8\" font-family=\"Helvetica,sans-Serif\" font-size=\"14.00\">year_2011 ≤ 0.5</text>\n",
       "<text text-anchor=\"start\" x=\"399\" y=\"-213.8\" font-family=\"Helvetica,sans-Serif\" font-size=\"14.00\">mse = 0.006</text>\n",
       "<text text-anchor=\"start\" x=\"388.5\" y=\"-198.8\" font-family=\"Helvetica,sans-Serif\" font-size=\"14.00\">samples = 9284</text>\n",
       "<text text-anchor=\"start\" x=\"396\" y=\"-183.8\" font-family=\"Helvetica,sans-Serif\" font-size=\"14.00\">value = 0.023</text>\n",
       "</g>\n",
       "<!-- 1&#45;&gt;17 -->\n",
       "<g id=\"edge9\" class=\"edge\">\n",
       "<title>1&#45;&gt;17</title>\n",
       "<path fill=\"none\" stroke=\"black\" d=\"M437,-279.88C437,-271.78 437,-262.98 437,-254.47\"/>\n",
       "<polygon fill=\"black\" stroke=\"black\" points=\"440.5,-254.3 437,-244.3 433.5,-254.3 440.5,-254.3\"/>\n",
       "</g>\n",
       "<!-- 3 -->\n",
       "<g id=\"node4\" class=\"node\">\n",
       "<title>3</title>\n",
       "<path fill=\"#f6d4bc\" stroke=\"black\" d=\"M146.5,-140C146.5,-140 49.5,-140 49.5,-140 43.5,-140 37.5,-134 37.5,-128 37.5,-128 37.5,-84 37.5,-84 37.5,-78 43.5,-72 49.5,-72 49.5,-72 146.5,-72 146.5,-72 152.5,-72 158.5,-78 158.5,-84 158.5,-84 158.5,-128 158.5,-128 158.5,-134 152.5,-140 146.5,-140\"/>\n",
       "<text text-anchor=\"start\" x=\"48.5\" y=\"-124.8\" font-family=\"Helvetica,sans-Serif\" font-size=\"14.00\">year_2015 ≤ 0.5</text>\n",
       "<text text-anchor=\"start\" x=\"60\" y=\"-109.8\" font-family=\"Helvetica,sans-Serif\" font-size=\"14.00\">mse = 0.005</text>\n",
       "<text text-anchor=\"start\" x=\"45.5\" y=\"-94.8\" font-family=\"Helvetica,sans-Serif\" font-size=\"14.00\">samples = 96296</text>\n",
       "<text text-anchor=\"start\" x=\"57\" y=\"-79.8\" font-family=\"Helvetica,sans-Serif\" font-size=\"14.00\">value = 0.008</text>\n",
       "</g>\n",
       "<!-- 2&#45;&gt;3 -->\n",
       "<g id=\"edge3\" class=\"edge\">\n",
       "<title>2&#45;&gt;3</title>\n",
       "<path fill=\"none\" stroke=\"black\" d=\"M191.87,-175.88C179,-166.44 164.86,-156.06 151.54,-146.29\"/>\n",
       "<polygon fill=\"black\" stroke=\"black\" points=\"153.51,-143.39 143.38,-140.3 149.37,-149.04 153.51,-143.39\"/>\n",
       "</g>\n",
       "<!-- 10 -->\n",
       "<g id=\"node7\" class=\"node\">\n",
       "<title>10</title>\n",
       "<path fill=\"#f8ddca\" stroke=\"black\" d=\"M285.5,-140C285.5,-140 188.5,-140 188.5,-140 182.5,-140 176.5,-134 176.5,-128 176.5,-128 176.5,-84 176.5,-84 176.5,-78 182.5,-72 188.5,-72 188.5,-72 285.5,-72 285.5,-72 291.5,-72 297.5,-78 297.5,-84 297.5,-84 297.5,-128 297.5,-128 297.5,-134 291.5,-140 285.5,-140\"/>\n",
       "<text text-anchor=\"start\" x=\"193\" y=\"-124.8\" font-family=\"Helvetica,sans-Serif\" font-size=\"14.00\">month_9 ≤ 0.5</text>\n",
       "<text text-anchor=\"start\" x=\"199\" y=\"-109.8\" font-family=\"Helvetica,sans-Serif\" font-size=\"14.00\">mse = 0.004</text>\n",
       "<text text-anchor=\"start\" x=\"184.5\" y=\"-94.8\" font-family=\"Helvetica,sans-Serif\" font-size=\"14.00\">samples = 12081</text>\n",
       "<text text-anchor=\"start\" x=\"197.5\" y=\"-79.8\" font-family=\"Helvetica,sans-Serif\" font-size=\"14.00\">value = &#45;0.01</text>\n",
       "</g>\n",
       "<!-- 2&#45;&gt;10 -->\n",
       "<g id=\"edge6\" class=\"edge\">\n",
       "<title>2&#45;&gt;10</title>\n",
       "<path fill=\"none\" stroke=\"black\" d=\"M237,-175.88C237,-167.78 237,-158.98 237,-150.47\"/>\n",
       "<polygon fill=\"black\" stroke=\"black\" points=\"240.5,-150.3 237,-140.3 233.5,-150.3 240.5,-150.3\"/>\n",
       "</g>\n",
       "<!-- 4 -->\n",
       "<g id=\"node5\" class=\"node\">\n",
       "<title>4</title>\n",
       "<path fill=\"#c0c0c0\" stroke=\"black\" d=\"M42,-36C42,-36 12,-36 12,-36 6,-36 0,-30 0,-24 0,-24 0,-12 0,-12 0,-6 6,0 12,0 12,0 42,0 42,0 48,0 54,-6 54,-12 54,-12 54,-24 54,-24 54,-30 48,-36 42,-36\"/>\n",
       "<text text-anchor=\"middle\" x=\"27\" y=\"-14.3\" font-family=\"Helvetica,sans-Serif\" font-size=\"14.00\">(...)</text>\n",
       "</g>\n",
       "<!-- 3&#45;&gt;4 -->\n",
       "<g id=\"edge4\" class=\"edge\">\n",
       "<title>3&#45;&gt;4</title>\n",
       "<path fill=\"none\" stroke=\"black\" d=\"M70.75,-72C63.17,-62.81 55.05,-52.97 47.89,-44.3\"/>\n",
       "<polygon fill=\"black\" stroke=\"black\" points=\"50.43,-41.89 41.37,-36.4 45.04,-46.34 50.43,-41.89\"/>\n",
       "</g>\n",
       "<!-- 7 -->\n",
       "<g id=\"node6\" class=\"node\">\n",
       "<title>7</title>\n",
       "<path fill=\"#c0c0c0\" stroke=\"black\" d=\"M114,-36C114,-36 84,-36 84,-36 78,-36 72,-30 72,-24 72,-24 72,-12 72,-12 72,-6 78,0 84,0 84,0 114,0 114,0 120,0 126,-6 126,-12 126,-12 126,-24 126,-24 126,-30 120,-36 114,-36\"/>\n",
       "<text text-anchor=\"middle\" x=\"99\" y=\"-14.3\" font-family=\"Helvetica,sans-Serif\" font-size=\"14.00\">(...)</text>\n",
       "</g>\n",
       "<!-- 3&#45;&gt;7 -->\n",
       "<g id=\"edge5\" class=\"edge\">\n",
       "<title>3&#45;&gt;7</title>\n",
       "<path fill=\"none\" stroke=\"black\" d=\"M98.38,-72C98.48,-63.56 98.59,-54.59 98.68,-46.47\"/>\n",
       "<polygon fill=\"black\" stroke=\"black\" points=\"102.18,-46.44 98.8,-36.4 95.18,-46.36 102.18,-46.44\"/>\n",
       "</g>\n",
       "<!-- 11 -->\n",
       "<g id=\"node8\" class=\"node\">\n",
       "<title>11</title>\n",
       "<path fill=\"#c0c0c0\" stroke=\"black\" d=\"M197,-36C197,-36 167,-36 167,-36 161,-36 155,-30 155,-24 155,-24 155,-12 155,-12 155,-6 161,0 167,0 167,0 197,0 197,0 203,0 209,-6 209,-12 209,-12 209,-24 209,-24 209,-30 203,-36 197,-36\"/>\n",
       "<text text-anchor=\"middle\" x=\"182\" y=\"-14.3\" font-family=\"Helvetica,sans-Serif\" font-size=\"14.00\">(...)</text>\n",
       "</g>\n",
       "<!-- 10&#45;&gt;11 -->\n",
       "<g id=\"edge7\" class=\"edge\">\n",
       "<title>10&#45;&gt;11</title>\n",
       "<path fill=\"none\" stroke=\"black\" d=\"M215.89,-72C210.14,-63 203.99,-53.38 198.53,-44.84\"/>\n",
       "<polygon fill=\"black\" stroke=\"black\" points=\"201.47,-42.94 193.13,-36.4 195.57,-46.71 201.47,-42.94\"/>\n",
       "</g>\n",
       "<!-- 14 -->\n",
       "<g id=\"node9\" class=\"node\">\n",
       "<title>14</title>\n",
       "<path fill=\"#c0c0c0\" stroke=\"black\" d=\"M269,-36C269,-36 239,-36 239,-36 233,-36 227,-30 227,-24 227,-24 227,-12 227,-12 227,-6 233,0 239,0 239,0 269,0 269,0 275,0 281,-6 281,-12 281,-12 281,-24 281,-24 281,-30 275,-36 269,-36\"/>\n",
       "<text text-anchor=\"middle\" x=\"254\" y=\"-14.3\" font-family=\"Helvetica,sans-Serif\" font-size=\"14.00\">(...)</text>\n",
       "</g>\n",
       "<!-- 10&#45;&gt;14 -->\n",
       "<g id=\"edge8\" class=\"edge\">\n",
       "<title>10&#45;&gt;14</title>\n",
       "<path fill=\"none\" stroke=\"black\" d=\"M243.52,-72C245.19,-63.56 246.96,-54.59 248.57,-46.47\"/>\n",
       "<polygon fill=\"black\" stroke=\"black\" points=\"252.05,-46.89 250.56,-36.4 245.19,-45.53 252.05,-46.89\"/>\n",
       "</g>\n",
       "<!-- 18 -->\n",
       "<g id=\"node11\" class=\"node\">\n",
       "<title>18</title>\n",
       "<path fill=\"#f5d1b6\" stroke=\"black\" d=\"M418.5,-140C418.5,-140 327.5,-140 327.5,-140 321.5,-140 315.5,-134 315.5,-128 315.5,-128 315.5,-84 315.5,-84 315.5,-78 321.5,-72 327.5,-72 327.5,-72 418.5,-72 418.5,-72 424.5,-72 430.5,-78 430.5,-84 430.5,-84 430.5,-128 430.5,-128 430.5,-134 424.5,-140 418.5,-140\"/>\n",
       "<text text-anchor=\"start\" x=\"323.5\" y=\"-124.8\" font-family=\"Helvetica,sans-Serif\" font-size=\"14.00\">year_2016 ≤ 0.5</text>\n",
       "<text text-anchor=\"start\" x=\"335\" y=\"-109.8\" font-family=\"Helvetica,sans-Serif\" font-size=\"14.00\">mse = 0.005</text>\n",
       "<text text-anchor=\"start\" x=\"324.5\" y=\"-94.8\" font-family=\"Helvetica,sans-Serif\" font-size=\"14.00\">samples = 8225</text>\n",
       "<text text-anchor=\"start\" x=\"332\" y=\"-79.8\" font-family=\"Helvetica,sans-Serif\" font-size=\"14.00\">value = 0.015</text>\n",
       "</g>\n",
       "<!-- 17&#45;&gt;18 -->\n",
       "<g id=\"edge10\" class=\"edge\">\n",
       "<title>17&#45;&gt;18</title>\n",
       "<path fill=\"none\" stroke=\"black\" d=\"M416.22,-175.88C410.8,-167.24 404.89,-157.82 399.22,-148.79\"/>\n",
       "<polygon fill=\"black\" stroke=\"black\" points=\"402.17,-146.91 393.89,-140.3 396.24,-150.63 402.17,-146.91\"/>\n",
       "</g>\n",
       "<!-- 25 -->\n",
       "<g id=\"node14\" class=\"node\">\n",
       "<title>25</title>\n",
       "<path fill=\"#edaa7a\" stroke=\"black\" d=\"M549.5,-140C549.5,-140 460.5,-140 460.5,-140 454.5,-140 448.5,-134 448.5,-128 448.5,-128 448.5,-84 448.5,-84 448.5,-78 454.5,-72 460.5,-72 460.5,-72 549.5,-72 549.5,-72 555.5,-72 561.5,-78 561.5,-84 561.5,-84 561.5,-128 561.5,-128 561.5,-134 555.5,-140 549.5,-140\"/>\n",
       "<text text-anchor=\"start\" x=\"470\" y=\"-124.8\" font-family=\"Helvetica,sans-Serif\" font-size=\"14.00\">t&#45;1 ≤ &#45;0.014</text>\n",
       "<text text-anchor=\"start\" x=\"467\" y=\"-109.8\" font-family=\"Helvetica,sans-Serif\" font-size=\"14.00\">mse = 0.004</text>\n",
       "<text text-anchor=\"start\" x=\"456.5\" y=\"-94.8\" font-family=\"Helvetica,sans-Serif\" font-size=\"14.00\">samples = 1059</text>\n",
       "<text text-anchor=\"start\" x=\"464\" y=\"-79.8\" font-family=\"Helvetica,sans-Serif\" font-size=\"14.00\">value = 0.089</text>\n",
       "</g>\n",
       "<!-- 17&#45;&gt;25 -->\n",
       "<g id=\"edge13\" class=\"edge\">\n",
       "<title>17&#45;&gt;25</title>\n",
       "<path fill=\"none\" stroke=\"black\" d=\"M459.08,-175.88C464.84,-167.24 471.12,-157.82 477.14,-148.79\"/>\n",
       "<polygon fill=\"black\" stroke=\"black\" points=\"480.17,-150.56 482.8,-140.3 474.34,-146.68 480.17,-150.56\"/>\n",
       "</g>\n",
       "<!-- 19 -->\n",
       "<g id=\"node12\" class=\"node\">\n",
       "<title>19</title>\n",
       "<path fill=\"#c0c0c0\" stroke=\"black\" d=\"M346,-36C346,-36 316,-36 316,-36 310,-36 304,-30 304,-24 304,-24 304,-12 304,-12 304,-6 310,0 316,0 316,0 346,0 346,0 352,0 358,-6 358,-12 358,-12 358,-24 358,-24 358,-30 352,-36 346,-36\"/>\n",
       "<text text-anchor=\"middle\" x=\"331\" y=\"-14.3\" font-family=\"Helvetica,sans-Serif\" font-size=\"14.00\">(...)</text>\n",
       "</g>\n",
       "<!-- 18&#45;&gt;19 -->\n",
       "<g id=\"edge11\" class=\"edge\">\n",
       "<title>18&#45;&gt;19</title>\n",
       "<path fill=\"none\" stroke=\"black\" d=\"M356.88,-72C352.63,-63.28 348.09,-53.98 344.02,-45.65\"/>\n",
       "<polygon fill=\"black\" stroke=\"black\" points=\"347.03,-43.85 339.5,-36.4 340.74,-46.93 347.03,-43.85\"/>\n",
       "</g>\n",
       "<!-- 22 -->\n",
       "<g id=\"node13\" class=\"node\">\n",
       "<title>22</title>\n",
       "<path fill=\"#c0c0c0\" stroke=\"black\" d=\"M418,-36C418,-36 388,-36 388,-36 382,-36 376,-30 376,-24 376,-24 376,-12 376,-12 376,-6 382,0 388,0 388,0 418,0 418,0 424,0 430,-6 430,-12 430,-12 430,-24 430,-24 430,-30 424,-36 418,-36\"/>\n",
       "<text text-anchor=\"middle\" x=\"403\" y=\"-14.3\" font-family=\"Helvetica,sans-Serif\" font-size=\"14.00\">(...)</text>\n",
       "</g>\n",
       "<!-- 18&#45;&gt;22 -->\n",
       "<g id=\"edge12\" class=\"edge\">\n",
       "<title>18&#45;&gt;22</title>\n",
       "<path fill=\"none\" stroke=\"black\" d=\"M384.51,-72C387.52,-63.38 390.73,-54.19 393.61,-45.92\"/>\n",
       "<polygon fill=\"black\" stroke=\"black\" points=\"396.94,-47 396.93,-36.4 390.33,-44.69 396.94,-47\"/>\n",
       "</g>\n",
       "<!-- 26 -->\n",
       "<g id=\"node15\" class=\"node\">\n",
       "<title>26</title>\n",
       "<path fill=\"#c0c0c0\" stroke=\"black\" d=\"M493,-36C493,-36 463,-36 463,-36 457,-36 451,-30 451,-24 451,-24 451,-12 451,-12 451,-6 457,0 463,0 463,0 493,0 493,0 499,0 505,-6 505,-12 505,-12 505,-24 505,-24 505,-30 499,-36 493,-36\"/>\n",
       "<text text-anchor=\"middle\" x=\"478\" y=\"-14.3\" font-family=\"Helvetica,sans-Serif\" font-size=\"14.00\">(...)</text>\n",
       "</g>\n",
       "<!-- 25&#45;&gt;26 -->\n",
       "<g id=\"edge14\" class=\"edge\">\n",
       "<title>25&#45;&gt;26</title>\n",
       "<path fill=\"none\" stroke=\"black\" d=\"M494.64,-72C491.96,-63.47 489.11,-54.39 486.54,-46.2\"/>\n",
       "<polygon fill=\"black\" stroke=\"black\" points=\"489.8,-44.9 483.46,-36.4 483.12,-46.99 489.8,-44.9\"/>\n",
       "</g>\n",
       "<!-- 29 -->\n",
       "<g id=\"node16\" class=\"node\">\n",
       "<title>29</title>\n",
       "<path fill=\"#c0c0c0\" stroke=\"black\" d=\"M565,-36C565,-36 535,-36 535,-36 529,-36 523,-30 523,-24 523,-24 523,-12 523,-12 523,-6 529,0 535,0 535,0 565,0 565,0 571,0 577,-6 577,-12 577,-12 577,-24 577,-24 577,-30 571,-36 565,-36\"/>\n",
       "<text text-anchor=\"middle\" x=\"550\" y=\"-14.3\" font-family=\"Helvetica,sans-Serif\" font-size=\"14.00\">(...)</text>\n",
       "</g>\n",
       "<!-- 25&#45;&gt;29 -->\n",
       "<g id=\"edge15\" class=\"edge\">\n",
       "<title>25&#45;&gt;29</title>\n",
       "<path fill=\"none\" stroke=\"black\" d=\"M522.27,-72C526.88,-63.19 531.8,-53.78 536.2,-45.38\"/>\n",
       "<polygon fill=\"black\" stroke=\"black\" points=\"539.36,-46.89 540.89,-36.4 533.16,-43.64 539.36,-46.89\"/>\n",
       "</g>\n",
       "<!-- 33 -->\n",
       "<g id=\"node18\" class=\"node\">\n",
       "<title>33</title>\n",
       "<path fill=\"#f4c9aa\" stroke=\"black\" d=\"M764.5,-244C764.5,-244 667.5,-244 667.5,-244 661.5,-244 655.5,-238 655.5,-232 655.5,-232 655.5,-188 655.5,-188 655.5,-182 661.5,-176 667.5,-176 667.5,-176 764.5,-176 764.5,-176 770.5,-176 776.5,-182 776.5,-188 776.5,-188 776.5,-232 776.5,-232 776.5,-238 770.5,-244 764.5,-244\"/>\n",
       "<text text-anchor=\"start\" x=\"672\" y=\"-228.8\" font-family=\"Helvetica,sans-Serif\" font-size=\"14.00\">month_6 ≤ 0.5</text>\n",
       "<text text-anchor=\"start\" x=\"678\" y=\"-213.8\" font-family=\"Helvetica,sans-Serif\" font-size=\"14.00\">mse = 0.004</text>\n",
       "<text text-anchor=\"start\" x=\"663.5\" y=\"-198.8\" font-family=\"Helvetica,sans-Serif\" font-size=\"14.00\">samples = 17670</text>\n",
       "<text text-anchor=\"start\" x=\"675\" y=\"-183.8\" font-family=\"Helvetica,sans-Serif\" font-size=\"14.00\">value = 0.029</text>\n",
       "</g>\n",
       "<!-- 32&#45;&gt;33 -->\n",
       "<g id=\"edge17\" class=\"edge\">\n",
       "<title>32&#45;&gt;33</title>\n",
       "<path fill=\"none\" stroke=\"black\" d=\"M716,-279.88C716,-271.78 716,-262.98 716,-254.47\"/>\n",
       "<polygon fill=\"black\" stroke=\"black\" points=\"719.5,-254.3 716,-244.3 712.5,-254.3 719.5,-254.3\"/>\n",
       "</g>\n",
       "<!-- 48 -->\n",
       "<g id=\"node25\" class=\"node\">\n",
       "<title>48</title>\n",
       "<path fill=\"#fae7d9\" stroke=\"black\" d=\"M976.5,-244C976.5,-244 887.5,-244 887.5,-244 881.5,-244 875.5,-238 875.5,-232 875.5,-232 875.5,-188 875.5,-188 875.5,-182 881.5,-176 887.5,-176 887.5,-176 976.5,-176 976.5,-176 982.5,-176 988.5,-182 988.5,-188 988.5,-188 988.5,-232 988.5,-232 988.5,-238 982.5,-244 976.5,-244\"/>\n",
       "<text text-anchor=\"start\" x=\"897\" y=\"-228.8\" font-family=\"Helvetica,sans-Serif\" font-size=\"14.00\">t&#45;7 ≤ &#45;0.089</text>\n",
       "<text text-anchor=\"start\" x=\"894\" y=\"-213.8\" font-family=\"Helvetica,sans-Serif\" font-size=\"14.00\">mse = 0.004</text>\n",
       "<text text-anchor=\"start\" x=\"883.5\" y=\"-198.8\" font-family=\"Helvetica,sans-Serif\" font-size=\"14.00\">samples = 1598</text>\n",
       "<text text-anchor=\"start\" x=\"888.5\" y=\"-183.8\" font-family=\"Helvetica,sans-Serif\" font-size=\"14.00\">value = &#45;0.028</text>\n",
       "</g>\n",
       "<!-- 32&#45;&gt;48 -->\n",
       "<g id=\"edge24\" class=\"edge\">\n",
       "<title>32&#45;&gt;48</title>\n",
       "<path fill=\"none\" stroke=\"black\" d=\"M776.74,-284.32C804.67,-271.13 837.84,-255.46 866.34,-242.01\"/>\n",
       "<polygon fill=\"black\" stroke=\"black\" points=\"867.87,-245.16 875.42,-237.72 864.88,-238.83 867.87,-245.16\"/>\n",
       "</g>\n",
       "<!-- 34 -->\n",
       "<g id=\"node19\" class=\"node\">\n",
       "<title>34</title>\n",
       "<path fill=\"#f4c7a8\" stroke=\"black\" d=\"M688.5,-140C688.5,-140 591.5,-140 591.5,-140 585.5,-140 579.5,-134 579.5,-128 579.5,-128 579.5,-84 579.5,-84 579.5,-78 585.5,-72 591.5,-72 591.5,-72 688.5,-72 688.5,-72 694.5,-72 700.5,-78 700.5,-84 700.5,-84 700.5,-128 700.5,-128 700.5,-134 694.5,-140 688.5,-140\"/>\n",
       "<text text-anchor=\"start\" x=\"596\" y=\"-124.8\" font-family=\"Helvetica,sans-Serif\" font-size=\"14.00\">month_4 ≤ 0.5</text>\n",
       "<text text-anchor=\"start\" x=\"602\" y=\"-109.8\" font-family=\"Helvetica,sans-Serif\" font-size=\"14.00\">mse = 0.004</text>\n",
       "<text text-anchor=\"start\" x=\"587.5\" y=\"-94.8\" font-family=\"Helvetica,sans-Serif\" font-size=\"14.00\">samples = 16029</text>\n",
       "<text text-anchor=\"start\" x=\"599\" y=\"-79.8\" font-family=\"Helvetica,sans-Serif\" font-size=\"14.00\">value = 0.032</text>\n",
       "</g>\n",
       "<!-- 33&#45;&gt;34 -->\n",
       "<g id=\"edge18\" class=\"edge\">\n",
       "<title>33&#45;&gt;34</title>\n",
       "<path fill=\"none\" stroke=\"black\" d=\"M691.32,-175.88C684.82,-167.15 677.72,-157.62 670.93,-148.51\"/>\n",
       "<polygon fill=\"black\" stroke=\"black\" points=\"673.59,-146.23 664.81,-140.3 667.98,-150.41 673.59,-146.23\"/>\n",
       "</g>\n",
       "<!-- 41 -->\n",
       "<g id=\"node22\" class=\"node\">\n",
       "<title>41</title>\n",
       "<path fill=\"#f7dac5\" stroke=\"black\" d=\"M853,-140C853,-140 731,-140 731,-140 725,-140 719,-134 719,-128 719,-128 719,-84 719,-84 719,-78 725,-72 731,-72 731,-72 853,-72 853,-72 859,-72 865,-78 865,-84 865,-84 865,-128 865,-128 865,-134 859,-140 853,-140\"/>\n",
       "<text text-anchor=\"start\" x=\"727\" y=\"-124.8\" font-family=\"Helvetica,sans-Serif\" font-size=\"14.00\">Basic Industries ≤ 0.5</text>\n",
       "<text text-anchor=\"start\" x=\"754\" y=\"-109.8\" font-family=\"Helvetica,sans-Serif\" font-size=\"14.00\">mse = 0.004</text>\n",
       "<text text-anchor=\"start\" x=\"743.5\" y=\"-94.8\" font-family=\"Helvetica,sans-Serif\" font-size=\"14.00\">samples = 1641</text>\n",
       "<text text-anchor=\"start\" x=\"748.5\" y=\"-79.8\" font-family=\"Helvetica,sans-Serif\" font-size=\"14.00\">value = &#45;0.003</text>\n",
       "</g>\n",
       "<!-- 33&#45;&gt;41 -->\n",
       "<g id=\"edge21\" class=\"edge\">\n",
       "<title>33&#45;&gt;41</title>\n",
       "<path fill=\"none\" stroke=\"black\" d=\"M740.68,-175.88C747.18,-167.15 754.28,-157.62 761.07,-148.51\"/>\n",
       "<polygon fill=\"black\" stroke=\"black\" points=\"764.02,-150.41 767.19,-140.3 758.41,-146.23 764.02,-150.41\"/>\n",
       "</g>\n",
       "<!-- 35 -->\n",
       "<g id=\"node20\" class=\"node\">\n",
       "<title>35</title>\n",
       "<path fill=\"#c0c0c0\" stroke=\"black\" d=\"M638,-36C638,-36 608,-36 608,-36 602,-36 596,-30 596,-24 596,-24 596,-12 596,-12 596,-6 602,0 608,0 608,0 638,0 638,0 644,0 650,-6 650,-12 650,-12 650,-24 650,-24 650,-30 644,-36 638,-36\"/>\n",
       "<text text-anchor=\"middle\" x=\"623\" y=\"-14.3\" font-family=\"Helvetica,sans-Serif\" font-size=\"14.00\">(...)</text>\n",
       "</g>\n",
       "<!-- 34&#45;&gt;35 -->\n",
       "<g id=\"edge19\" class=\"edge\">\n",
       "<title>34&#45;&gt;35</title>\n",
       "<path fill=\"none\" stroke=\"black\" d=\"M633.48,-72C631.81,-63.56 630.04,-54.59 628.43,-46.47\"/>\n",
       "<polygon fill=\"black\" stroke=\"black\" points=\"631.81,-45.53 626.44,-36.4 624.95,-46.89 631.81,-45.53\"/>\n",
       "</g>\n",
       "<!-- 38 -->\n",
       "<g id=\"node21\" class=\"node\">\n",
       "<title>38</title>\n",
       "<path fill=\"#c0c0c0\" stroke=\"black\" d=\"M710,-36C710,-36 680,-36 680,-36 674,-36 668,-30 668,-24 668,-24 668,-12 668,-12 668,-6 674,0 680,0 680,0 710,0 710,0 716,0 722,-6 722,-12 722,-12 722,-24 722,-24 722,-30 716,-36 710,-36\"/>\n",
       "<text text-anchor=\"middle\" x=\"695\" y=\"-14.3\" font-family=\"Helvetica,sans-Serif\" font-size=\"14.00\">(...)</text>\n",
       "</g>\n",
       "<!-- 34&#45;&gt;38 -->\n",
       "<g id=\"edge20\" class=\"edge\">\n",
       "<title>34&#45;&gt;38</title>\n",
       "<path fill=\"none\" stroke=\"black\" d=\"M661.11,-72C666.86,-63 673.01,-53.38 678.47,-44.84\"/>\n",
       "<polygon fill=\"black\" stroke=\"black\" points=\"681.43,-46.71 683.87,-36.4 675.53,-42.94 681.43,-46.71\"/>\n",
       "</g>\n",
       "<!-- 42 -->\n",
       "<g id=\"node23\" class=\"node\">\n",
       "<title>42</title>\n",
       "<path fill=\"#c0c0c0\" stroke=\"black\" d=\"M783,-36C783,-36 753,-36 753,-36 747,-36 741,-30 741,-24 741,-24 741,-12 741,-12 741,-6 747,0 753,0 753,0 783,0 783,0 789,0 795,-6 795,-12 795,-12 795,-24 795,-24 795,-30 789,-36 783,-36\"/>\n",
       "<text text-anchor=\"middle\" x=\"768\" y=\"-14.3\" font-family=\"Helvetica,sans-Serif\" font-size=\"14.00\">(...)</text>\n",
       "</g>\n",
       "<!-- 41&#45;&gt;42 -->\n",
       "<g id=\"edge22\" class=\"edge\">\n",
       "<title>41&#45;&gt;42</title>\n",
       "<path fill=\"none\" stroke=\"black\" d=\"M782.79,-72C780.41,-63.47 777.88,-54.39 775.59,-46.2\"/>\n",
       "<polygon fill=\"black\" stroke=\"black\" points=\"778.92,-45.09 772.86,-36.4 772.17,-46.98 778.92,-45.09\"/>\n",
       "</g>\n",
       "<!-- 45 -->\n",
       "<g id=\"node24\" class=\"node\">\n",
       "<title>45</title>\n",
       "<path fill=\"#c0c0c0\" stroke=\"black\" d=\"M855,-36C855,-36 825,-36 825,-36 819,-36 813,-30 813,-24 813,-24 813,-12 813,-12 813,-6 819,0 825,0 825,0 855,0 855,0 861,0 867,-6 867,-12 867,-12 867,-24 867,-24 867,-30 861,-36 855,-36\"/>\n",
       "<text text-anchor=\"middle\" x=\"840\" y=\"-14.3\" font-family=\"Helvetica,sans-Serif\" font-size=\"14.00\">(...)</text>\n",
       "</g>\n",
       "<!-- 41&#45;&gt;45 -->\n",
       "<g id=\"edge23\" class=\"edge\">\n",
       "<title>41&#45;&gt;45</title>\n",
       "<path fill=\"none\" stroke=\"black\" d=\"M810.42,-72C815.34,-63.19 820.59,-53.78 825.28,-45.38\"/>\n",
       "<polygon fill=\"black\" stroke=\"black\" points=\"828.47,-46.84 830.29,-36.4 822.36,-43.43 828.47,-46.84\"/>\n",
       "</g>\n",
       "<!-- 49 -->\n",
       "<g id=\"node26\" class=\"node\">\n",
       "<title>49</title>\n",
       "<path fill=\"#f4ccaf\" stroke=\"black\" d=\"M969,-140C969,-140 895,-140 895,-140 889,-140 883,-134 883,-128 883,-128 883,-84 883,-84 883,-78 889,-72 895,-72 895,-72 969,-72 969,-72 975,-72 981,-78 981,-84 981,-84 981,-128 981,-128 981,-134 975,-140 969,-140\"/>\n",
       "<text text-anchor=\"start\" x=\"899\" y=\"-124.8\" font-family=\"Helvetica,sans-Serif\" font-size=\"14.00\">t&#45;5 ≤ 0.152</text>\n",
       "<text text-anchor=\"start\" x=\"894\" y=\"-109.8\" font-family=\"Helvetica,sans-Serif\" font-size=\"14.00\">mse = 0.005</text>\n",
       "<text text-anchor=\"start\" x=\"891\" y=\"-94.8\" font-family=\"Helvetica,sans-Serif\" font-size=\"14.00\">samples = 40</text>\n",
       "<text text-anchor=\"start\" x=\"891\" y=\"-79.8\" font-family=\"Helvetica,sans-Serif\" font-size=\"14.00\">value = 0.024</text>\n",
       "</g>\n",
       "<!-- 48&#45;&gt;49 -->\n",
       "<g id=\"edge25\" class=\"edge\">\n",
       "<title>48&#45;&gt;49</title>\n",
       "<path fill=\"none\" stroke=\"black\" d=\"M932,-175.88C932,-167.78 932,-158.98 932,-150.47\"/>\n",
       "<polygon fill=\"black\" stroke=\"black\" points=\"935.5,-150.3 932,-140.3 928.5,-150.3 935.5,-150.3\"/>\n",
       "</g>\n",
       "<!-- 56 -->\n",
       "<g id=\"node29\" class=\"node\">\n",
       "<title>56</title>\n",
       "<path fill=\"#fae8db\" stroke=\"black\" d=\"M1100.5,-140C1100.5,-140 1011.5,-140 1011.5,-140 1005.5,-140 999.5,-134 999.5,-128 999.5,-128 999.5,-84 999.5,-84 999.5,-78 1005.5,-72 1011.5,-72 1011.5,-72 1100.5,-72 1100.5,-72 1106.5,-72 1112.5,-78 1112.5,-84 1112.5,-84 1112.5,-128 1112.5,-128 1112.5,-134 1106.5,-140 1100.5,-140\"/>\n",
       "<text text-anchor=\"start\" x=\"1014.5\" y=\"-124.8\" font-family=\"Helvetica,sans-Serif\" font-size=\"14.00\">Finance ≤ 0.5</text>\n",
       "<text text-anchor=\"start\" x=\"1018\" y=\"-109.8\" font-family=\"Helvetica,sans-Serif\" font-size=\"14.00\">mse = 0.003</text>\n",
       "<text text-anchor=\"start\" x=\"1007.5\" y=\"-94.8\" font-family=\"Helvetica,sans-Serif\" font-size=\"14.00\">samples = 1558</text>\n",
       "<text text-anchor=\"start\" x=\"1016.5\" y=\"-79.8\" font-family=\"Helvetica,sans-Serif\" font-size=\"14.00\">value = &#45;0.03</text>\n",
       "</g>\n",
       "<!-- 48&#45;&gt;56 -->\n",
       "<g id=\"edge28\" class=\"edge\">\n",
       "<title>48&#45;&gt;56</title>\n",
       "<path fill=\"none\" stroke=\"black\" d=\"M972.26,-175.88C983.52,-166.62 995.88,-156.45 1007.56,-146.85\"/>\n",
       "<polygon fill=\"black\" stroke=\"black\" points=\"1010.02,-149.36 1015.52,-140.3 1005.57,-143.95 1010.02,-149.36\"/>\n",
       "</g>\n",
       "<!-- 50 -->\n",
       "<g id=\"node27\" class=\"node\">\n",
       "<title>50</title>\n",
       "<path fill=\"#c0c0c0\" stroke=\"black\" d=\"M927,-36C927,-36 897,-36 897,-36 891,-36 885,-30 885,-24 885,-24 885,-12 885,-12 885,-6 891,0 897,0 897,0 927,0 927,0 933,0 939,-6 939,-12 939,-12 939,-24 939,-24 939,-30 933,-36 927,-36\"/>\n",
       "<text text-anchor=\"middle\" x=\"912\" y=\"-14.3\" font-family=\"Helvetica,sans-Serif\" font-size=\"14.00\">(...)</text>\n",
       "</g>\n",
       "<!-- 49&#45;&gt;50 -->\n",
       "<g id=\"edge26\" class=\"edge\">\n",
       "<title>49&#45;&gt;50</title>\n",
       "<path fill=\"none\" stroke=\"black\" d=\"M924.32,-72C922.34,-63.47 920.23,-54.39 918.32,-46.2\"/>\n",
       "<polygon fill=\"black\" stroke=\"black\" points=\"921.72,-45.35 916.05,-36.4 914.9,-46.94 921.72,-45.35\"/>\n",
       "</g>\n",
       "<!-- 53 -->\n",
       "<g id=\"node28\" class=\"node\">\n",
       "<title>53</title>\n",
       "<path fill=\"#c0c0c0\" stroke=\"black\" d=\"M999,-36C999,-36 969,-36 969,-36 963,-36 957,-30 957,-24 957,-24 957,-12 957,-12 957,-6 963,0 969,0 969,0 999,0 999,0 1005,0 1011,-6 1011,-12 1011,-12 1011,-24 1011,-24 1011,-30 1005,-36 999,-36\"/>\n",
       "<text text-anchor=\"middle\" x=\"984\" y=\"-14.3\" font-family=\"Helvetica,sans-Serif\" font-size=\"14.00\">(...)</text>\n",
       "</g>\n",
       "<!-- 49&#45;&gt;53 -->\n",
       "<g id=\"edge27\" class=\"edge\">\n",
       "<title>49&#45;&gt;53</title>\n",
       "<path fill=\"none\" stroke=\"black\" d=\"M951.96,-72C957.34,-63.09 963.09,-53.58 968.21,-45.11\"/>\n",
       "<polygon fill=\"black\" stroke=\"black\" points=\"971.3,-46.77 973.48,-36.4 965.31,-43.15 971.3,-46.77\"/>\n",
       "</g>\n",
       "<!-- 57 -->\n",
       "<g id=\"node30\" class=\"node\">\n",
       "<title>57</title>\n",
       "<path fill=\"#c0c0c0\" stroke=\"black\" d=\"M1071,-36C1071,-36 1041,-36 1041,-36 1035,-36 1029,-30 1029,-24 1029,-24 1029,-12 1029,-12 1029,-6 1035,0 1041,0 1041,0 1071,0 1071,0 1077,0 1083,-6 1083,-12 1083,-12 1083,-24 1083,-24 1083,-30 1077,-36 1071,-36\"/>\n",
       "<text text-anchor=\"middle\" x=\"1056\" y=\"-14.3\" font-family=\"Helvetica,sans-Serif\" font-size=\"14.00\">(...)</text>\n",
       "</g>\n",
       "<!-- 56&#45;&gt;57 -->\n",
       "<g id=\"edge29\" class=\"edge\">\n",
       "<title>56&#45;&gt;57</title>\n",
       "<path fill=\"none\" stroke=\"black\" d=\"M1056,-72C1056,-63.56 1056,-54.59 1056,-46.47\"/>\n",
       "<polygon fill=\"black\" stroke=\"black\" points=\"1059.5,-46.4 1056,-36.4 1052.5,-46.4 1059.5,-46.4\"/>\n",
       "</g>\n",
       "<!-- 60 -->\n",
       "<g id=\"node31\" class=\"node\">\n",
       "<title>60</title>\n",
       "<path fill=\"#c0c0c0\" stroke=\"black\" d=\"M1143,-36C1143,-36 1113,-36 1113,-36 1107,-36 1101,-30 1101,-24 1101,-24 1101,-12 1101,-12 1101,-6 1107,0 1113,0 1113,0 1143,0 1143,0 1149,0 1155,-6 1155,-12 1155,-12 1155,-24 1155,-24 1155,-30 1149,-36 1143,-36\"/>\n",
       "<text text-anchor=\"middle\" x=\"1128\" y=\"-14.3\" font-family=\"Helvetica,sans-Serif\" font-size=\"14.00\">(...)</text>\n",
       "</g>\n",
       "<!-- 56&#45;&gt;60 -->\n",
       "<g id=\"edge30\" class=\"edge\">\n",
       "<title>56&#45;&gt;60</title>\n",
       "<path fill=\"none\" stroke=\"black\" d=\"M1083.63,-72C1091.32,-62.81 1099.56,-52.97 1106.82,-44.3\"/>\n",
       "<polygon fill=\"black\" stroke=\"black\" points=\"1109.69,-46.32 1113.43,-36.4 1104.33,-41.82 1109.69,-46.32\"/>\n",
       "</g>\n",
       "</g>\n",
       "</svg>\n"
      ],
      "text/plain": [
       "<graphviz.files.Source at 0x7f0350880940>"
      ]
     },
     "execution_count": 55,
     "metadata": {},
     "output_type": "execute_result"
    }
   ],
   "source": [
    "out_file = 'figures/reg_tree.dot'\n",
    "dot_data = export_graphviz(regression_tree,\n",
    "                           out_file=out_file,\n",
    "                           feature_names=X_train.columns,\n",
    "                           max_depth=3,\n",
    "                           filled=True,\n",
    "                           rounded=True,\n",
    "                           special_characters=True)\n",
    "if out_file is not None:\n",
    "    dot_data = Path(out_file).read_text()\n",
    "\n",
    "graphviz.Source(dot_data)"
   ]
  },
  {
   "cell_type": "markdown",
   "metadata": {},
   "source": [
    "### Evaluate Test Set"
   ]
  },
  {
   "cell_type": "code",
   "execution_count": 56,
   "metadata": {
    "ExecuteTime": {
     "end_time": "2018-10-31T22:34:16.166403Z",
     "start_time": "2018-10-31T22:06:39.270Z"
    }
   },
   "outputs": [],
   "source": [
    "y_pred = regression_tree.predict(X_test)"
   ]
  },
  {
   "cell_type": "code",
   "execution_count": 57,
   "metadata": {
    "ExecuteTime": {
     "end_time": "2018-10-31T22:34:16.169601Z",
     "start_time": "2018-10-31T22:06:39.277Z"
    }
   },
   "outputs": [
    {
     "data": {
      "text/plain": [
       "0.06600785966046621"
      ]
     },
     "execution_count": 57,
     "metadata": {},
     "output_type": "execute_result"
    }
   ],
   "source": [
    "np.sqrt(mean_squared_error(y_pred=y_pred, y_true=y_test))"
   ]
  },
  {
   "cell_type": "markdown",
   "metadata": {},
   "source": [
    "## Classification Tree with all Features"
   ]
  },
  {
   "cell_type": "markdown",
   "metadata": {},
   "source": [
    "We will now train, visualize, and evaluate a classification tree with up to 5 consecutive splits using 80% of the samples for training to predict the remaining 20%. We are taking a shortcut here to simplify the illustration and use the built-in train_test_split, which does not protect against lookahead bias, as our custom iterator. The tree configuration implies up to $2^5=32$ leaf nodes that, on average in the balanced case, would contain over 4,300 of the training samples."
   ]
  },
  {
   "cell_type": "markdown",
   "metadata": {},
   "source": [
    "### Train-Test Split"
   ]
  },
  {
   "cell_type": "code",
   "execution_count": 58,
   "metadata": {
    "ExecuteTime": {
     "end_time": "2018-10-31T22:34:16.143123Z",
     "start_time": "2018-10-31T22:06:39.172Z"
    }
   },
   "outputs": [],
   "source": [
    "X_train, X_test, y_train, y_test = train_test_split(X, y_binary, test_size=0.2, random_state=42)"
   ]
  },
  {
   "cell_type": "code",
   "execution_count": 59,
   "metadata": {
    "ExecuteTime": {
     "end_time": "2018-10-31T22:34:16.144442Z",
     "start_time": "2018-10-31T22:06:39.181Z"
    }
   },
   "outputs": [],
   "source": [
    "clf = DecisionTreeClassifier(criterion='gini',\n",
    "                             max_depth=5,\n",
    "                             random_state=42)"
   ]
  },
  {
   "cell_type": "code",
   "execution_count": 60,
   "metadata": {
    "ExecuteTime": {
     "end_time": "2018-10-31T22:34:16.148241Z",
     "start_time": "2018-10-31T22:06:39.190Z"
    }
   },
   "outputs": [
    {
     "data": {
      "text/plain": [
       "DecisionTreeClassifier(ccp_alpha=0.0, class_weight=None, criterion='gini',\n",
       "                       max_depth=5, max_features=None, max_leaf_nodes=None,\n",
       "                       min_impurity_decrease=0.0, min_impurity_split=None,\n",
       "                       min_samples_leaf=1, min_samples_split=2,\n",
       "                       min_weight_fraction_leaf=0.0, presort='deprecated',\n",
       "                       random_state=42, splitter='best')"
      ]
     },
     "execution_count": 60,
     "metadata": {},
     "output_type": "execute_result"
    }
   ],
   "source": [
    "clf.fit(X=X_train, y=y_train)"
   ]
  },
  {
   "cell_type": "markdown",
   "metadata": {},
   "source": [
    "To evaluate the predictive accuracy of our first classification tree, we will use our test set to generate predicted class probabilities. \n",
    "\n",
    "The `.predict_proba()` method produces one probability for each class. In the binary class, these probabilities are complementary and sum to 1, so we only need the value for the positive class. "
   ]
  },
  {
   "cell_type": "code",
   "execution_count": 61,
   "metadata": {
    "ExecuteTime": {
     "end_time": "2018-10-31T22:34:16.150012Z",
     "start_time": "2018-10-31T22:06:39.198Z"
    }
   },
   "outputs": [],
   "source": [
    "y_score = clf.predict_proba(X=X_test)[:, 1]"
   ]
  },
  {
   "cell_type": "markdown",
   "metadata": {},
   "source": [
    "To evaluate the generalization error, we will use the area under the curve based on the receiver-operating characteristic that we introduced in Chapter 6, The Machine Learning Process. The result indicates a significant improvement above and beyond the baseline value of 0.5 for a random prediction:"
   ]
  },
  {
   "cell_type": "code",
   "execution_count": 62,
   "metadata": {},
   "outputs": [
    {
     "data": {
      "text/plain": [
       "0.6139767794050386"
      ]
     },
     "execution_count": 62,
     "metadata": {},
     "output_type": "execute_result"
    }
   ],
   "source": [
    "roc_auc_score(y_score=y_score, y_true=y_test)"
   ]
  },
  {
   "cell_type": "markdown",
   "metadata": {},
   "source": [
    "### Plot Tree"
   ]
  },
  {
   "cell_type": "code",
   "execution_count": 63,
   "metadata": {
    "ExecuteTime": {
     "end_time": "2018-10-31T22:34:16.151746Z",
     "start_time": "2018-10-31T22:06:39.207Z"
    }
   },
   "outputs": [
    {
     "data": {
      "image/svg+xml": [
       "<?xml version=\"1.0\" encoding=\"UTF-8\" standalone=\"no\"?>\n",
       "<!DOCTYPE svg PUBLIC \"-//W3C//DTD SVG 1.1//EN\"\n",
       " \"http://www.w3.org/Graphics/SVG/1.1/DTD/svg11.dtd\">\n",
       "<!-- Generated by graphviz version 2.42.3 (20191010.1750)\n",
       " -->\n",
       "<!-- Title: Tree Pages: 1 -->\n",
       "<svg width=\"1255pt\" height=\"520pt\"\n",
       " viewBox=\"0.00 0.00 1254.50 520.00\" xmlns=\"http://www.w3.org/2000/svg\" xmlns:xlink=\"http://www.w3.org/1999/xlink\">\n",
       "<g id=\"graph0\" class=\"graph\" transform=\"scale(1 1) rotate(0) translate(4 516)\">\n",
       "<title>Tree</title>\n",
       "<polygon fill=\"white\" stroke=\"transparent\" points=\"-4,4 -4,-516 1250.5,-516 1250.5,4 -4,4\"/>\n",
       "<!-- 0 -->\n",
       "<g id=\"node1\" class=\"node\">\n",
       "<title>0</title>\n",
       "<path fill=\"#d7ebfa\" stroke=\"black\" d=\"M701,-512C701,-512 570,-512 570,-512 564,-512 558,-506 558,-500 558,-500 558,-441 558,-441 558,-435 564,-429 570,-429 570,-429 701,-429 701,-429 707,-429 713,-435 713,-441 713,-441 713,-500 713,-500 713,-506 707,-512 701,-512\"/>\n",
       "<text text-anchor=\"start\" x=\"586\" y=\"-496.8\" font-family=\"Helvetica,sans-Serif\" font-size=\"14.00\">year_2013 ≤ 0.5</text>\n",
       "<text text-anchor=\"start\" x=\"600\" y=\"-481.8\" font-family=\"Helvetica,sans-Serif\" font-size=\"14.00\">gini = 0.494</text>\n",
       "<text text-anchor=\"start\" x=\"579.5\" y=\"-466.8\" font-family=\"Helvetica,sans-Serif\" font-size=\"14.00\">samples = 136929</text>\n",
       "<text text-anchor=\"start\" x=\"566\" y=\"-451.8\" font-family=\"Helvetica,sans-Serif\" font-size=\"14.00\">value = [60811, 76118]</text>\n",
       "<text text-anchor=\"start\" x=\"603.5\" y=\"-436.8\" font-family=\"Helvetica,sans-Serif\" font-size=\"14.00\">class = Up</text>\n",
       "</g>\n",
       "<!-- 1 -->\n",
       "<g id=\"node2\" class=\"node\">\n",
       "<title>1</title>\n",
       "<path fill=\"#e2f1fb\" stroke=\"black\" d=\"M547,-393C547,-393 416,-393 416,-393 410,-393 404,-387 404,-381 404,-381 404,-322 404,-322 404,-316 410,-310 416,-310 416,-310 547,-310 547,-310 553,-310 559,-316 559,-322 559,-322 559,-381 559,-381 559,-387 553,-393 547,-393\"/>\n",
       "<text text-anchor=\"start\" x=\"433.5\" y=\"-377.8\" font-family=\"Helvetica,sans-Serif\" font-size=\"14.00\">month_11 ≤ 0.5</text>\n",
       "<text text-anchor=\"start\" x=\"446\" y=\"-362.8\" font-family=\"Helvetica,sans-Serif\" font-size=\"14.00\">gini = 0.497</text>\n",
       "<text text-anchor=\"start\" x=\"425.5\" y=\"-347.8\" font-family=\"Helvetica,sans-Serif\" font-size=\"14.00\">samples = 117661</text>\n",
       "<text text-anchor=\"start\" x=\"412\" y=\"-332.8\" font-family=\"Helvetica,sans-Serif\" font-size=\"14.00\">value = [54146, 63515]</text>\n",
       "<text text-anchor=\"start\" x=\"449.5\" y=\"-317.8\" font-family=\"Helvetica,sans-Serif\" font-size=\"14.00\">class = Up</text>\n",
       "</g>\n",
       "<!-- 0&#45;&gt;1 -->\n",
       "<g id=\"edge1\" class=\"edge\">\n",
       "<title>0&#45;&gt;1</title>\n",
       "<path fill=\"none\" stroke=\"black\" d=\"M582.07,-428.91C569.41,-419.29 555.81,-408.95 542.82,-399.09\"/>\n",
       "<polygon fill=\"black\" stroke=\"black\" points=\"544.92,-396.28 534.84,-393.02 540.68,-401.86 544.92,-396.28\"/>\n",
       "<text text-anchor=\"middle\" x=\"538.22\" y=\"-414.09\" font-family=\"Helvetica,sans-Serif\" font-size=\"14.00\">True</text>\n",
       "</g>\n",
       "<!-- 32 -->\n",
       "<g id=\"node17\" class=\"node\">\n",
       "<title>32</title>\n",
       "<path fill=\"#a2d1f3\" stroke=\"black\" d=\"M851,-393C851,-393 728,-393 728,-393 722,-393 716,-387 716,-381 716,-381 716,-322 716,-322 716,-316 722,-310 728,-310 728,-310 851,-310 851,-310 857,-310 863,-316 863,-322 863,-322 863,-381 863,-381 863,-387 857,-393 851,-393\"/>\n",
       "<text text-anchor=\"start\" x=\"745.5\" y=\"-377.8\" font-family=\"Helvetica,sans-Serif\" font-size=\"14.00\">month_8 ≤ 0.5</text>\n",
       "<text text-anchor=\"start\" x=\"754\" y=\"-362.8\" font-family=\"Helvetica,sans-Serif\" font-size=\"14.00\">gini = 0.453</text>\n",
       "<text text-anchor=\"start\" x=\"737\" y=\"-347.8\" font-family=\"Helvetica,sans-Serif\" font-size=\"14.00\">samples = 19268</text>\n",
       "<text text-anchor=\"start\" x=\"724\" y=\"-332.8\" font-family=\"Helvetica,sans-Serif\" font-size=\"14.00\">value = [6665, 12603]</text>\n",
       "<text text-anchor=\"start\" x=\"757.5\" y=\"-317.8\" font-family=\"Helvetica,sans-Serif\" font-size=\"14.00\">class = Up</text>\n",
       "</g>\n",
       "<!-- 0&#45;&gt;32 -->\n",
       "<g id=\"edge16\" class=\"edge\">\n",
       "<title>0&#45;&gt;32</title>\n",
       "<path fill=\"none\" stroke=\"black\" d=\"M688.93,-428.91C701.59,-419.29 715.19,-408.95 728.18,-399.09\"/>\n",
       "<polygon fill=\"black\" stroke=\"black\" points=\"730.32,-401.86 736.16,-393.02 726.08,-396.28 730.32,-401.86\"/>\n",
       "<text text-anchor=\"middle\" x=\"732.78\" y=\"-414.09\" font-family=\"Helvetica,sans-Serif\" font-size=\"14.00\">False</text>\n",
       "</g>\n",
       "<!-- 2 -->\n",
       "<g id=\"node3\" class=\"node\">\n",
       "<title>2</title>\n",
       "<path fill=\"#e7f3fc\" stroke=\"black\" d=\"M312,-274C312,-274 181,-274 181,-274 175,-274 169,-268 169,-262 169,-262 169,-203 169,-203 169,-197 175,-191 181,-191 181,-191 312,-191 312,-191 318,-191 324,-197 324,-203 324,-203 324,-262 324,-262 324,-268 318,-274 312,-274\"/>\n",
       "<text text-anchor=\"start\" x=\"197\" y=\"-258.8\" font-family=\"Helvetica,sans-Serif\" font-size=\"14.00\">year_2012 ≤ 0.5</text>\n",
       "<text text-anchor=\"start\" x=\"211\" y=\"-243.8\" font-family=\"Helvetica,sans-Serif\" font-size=\"14.00\">gini = 0.498</text>\n",
       "<text text-anchor=\"start\" x=\"190.5\" y=\"-228.8\" font-family=\"Helvetica,sans-Serif\" font-size=\"14.00\">samples = 108178</text>\n",
       "<text text-anchor=\"start\" x=\"177\" y=\"-213.8\" font-family=\"Helvetica,sans-Serif\" font-size=\"14.00\">value = [50604, 57574]</text>\n",
       "<text text-anchor=\"start\" x=\"214.5\" y=\"-198.8\" font-family=\"Helvetica,sans-Serif\" font-size=\"14.00\">class = Up</text>\n",
       "</g>\n",
       "<!-- 1&#45;&gt;2 -->\n",
       "<g id=\"edge2\" class=\"edge\">\n",
       "<title>1&#45;&gt;2</title>\n",
       "<path fill=\"none\" stroke=\"black\" d=\"M403.9,-311.87C381.24,-300.58 356.33,-288.18 333.15,-276.64\"/>\n",
       "<polygon fill=\"black\" stroke=\"black\" points=\"334.53,-273.42 324.02,-272.09 331.41,-279.68 334.53,-273.42\"/>\n",
       "</g>\n",
       "<!-- 17 -->\n",
       "<g id=\"node10\" class=\"node\">\n",
       "<title>17</title>\n",
       "<path fill=\"#afd7f5\" stroke=\"black\" d=\"M539.5,-274C539.5,-274 423.5,-274 423.5,-274 417.5,-274 411.5,-268 411.5,-262 411.5,-262 411.5,-203 411.5,-203 411.5,-197 417.5,-191 423.5,-191 423.5,-191 539.5,-191 539.5,-191 545.5,-191 551.5,-197 551.5,-203 551.5,-203 551.5,-262 551.5,-262 551.5,-268 545.5,-274 539.5,-274\"/>\n",
       "<text text-anchor=\"start\" x=\"432\" y=\"-258.8\" font-family=\"Helvetica,sans-Serif\" font-size=\"14.00\">year_2016 ≤ 0.5</text>\n",
       "<text text-anchor=\"start\" x=\"446\" y=\"-243.8\" font-family=\"Helvetica,sans-Serif\" font-size=\"14.00\">gini = 0.468</text>\n",
       "<text text-anchor=\"start\" x=\"433\" y=\"-228.8\" font-family=\"Helvetica,sans-Serif\" font-size=\"14.00\">samples = 9483</text>\n",
       "<text text-anchor=\"start\" x=\"419.5\" y=\"-213.8\" font-family=\"Helvetica,sans-Serif\" font-size=\"14.00\">value = [3542, 5941]</text>\n",
       "<text text-anchor=\"start\" x=\"449.5\" y=\"-198.8\" font-family=\"Helvetica,sans-Serif\" font-size=\"14.00\">class = Up</text>\n",
       "</g>\n",
       "<!-- 1&#45;&gt;17 -->\n",
       "<g id=\"edge9\" class=\"edge\">\n",
       "<title>1&#45;&gt;17</title>\n",
       "<path fill=\"none\" stroke=\"black\" d=\"M481.5,-309.91C481.5,-301.65 481.5,-292.86 481.5,-284.3\"/>\n",
       "<polygon fill=\"black\" stroke=\"black\" points=\"485,-284.02 481.5,-274.02 478,-284.02 485,-284.02\"/>\n",
       "</g>\n",
       "<!-- 3 -->\n",
       "<g id=\"node4\" class=\"node\">\n",
       "<title>3</title>\n",
       "<path fill=\"#f0f8fd\" stroke=\"black\" d=\"M143,-155C143,-155 12,-155 12,-155 6,-155 0,-149 0,-143 0,-143 0,-84 0,-84 0,-78 6,-72 12,-72 12,-72 143,-72 143,-72 149,-72 155,-78 155,-84 155,-84 155,-143 155,-143 155,-149 149,-155 143,-155\"/>\n",
       "<text text-anchor=\"start\" x=\"29.5\" y=\"-139.8\" font-family=\"Helvetica,sans-Serif\" font-size=\"14.00\">month_10 ≤ 0.5</text>\n",
       "<text text-anchor=\"start\" x=\"42\" y=\"-124.8\" font-family=\"Helvetica,sans-Serif\" font-size=\"14.00\">gini = 0.499</text>\n",
       "<text text-anchor=\"start\" x=\"25\" y=\"-109.8\" font-family=\"Helvetica,sans-Serif\" font-size=\"14.00\">samples = 91433</text>\n",
       "<text text-anchor=\"start\" x=\"8\" y=\"-94.8\" font-family=\"Helvetica,sans-Serif\" font-size=\"14.00\">value = [43926, 47507]</text>\n",
       "<text text-anchor=\"start\" x=\"45.5\" y=\"-79.8\" font-family=\"Helvetica,sans-Serif\" font-size=\"14.00\">class = Up</text>\n",
       "</g>\n",
       "<!-- 2&#45;&gt;3 -->\n",
       "<g id=\"edge3\" class=\"edge\">\n",
       "<title>2&#45;&gt;3</title>\n",
       "<path fill=\"none\" stroke=\"black\" d=\"M187.87,-190.91C173.84,-181.2 158.76,-170.76 144.39,-160.81\"/>\n",
       "<polygon fill=\"black\" stroke=\"black\" points=\"146.24,-157.84 136.03,-155.02 142.26,-163.59 146.24,-157.84\"/>\n",
       "</g>\n",
       "<!-- 10 -->\n",
       "<g id=\"node7\" class=\"node\">\n",
       "<title>10</title>\n",
       "<path fill=\"#bcdef6\" stroke=\"black\" d=\"M308,-155C308,-155 185,-155 185,-155 179,-155 173,-149 173,-143 173,-143 173,-84 173,-84 173,-78 179,-72 185,-72 185,-72 308,-72 308,-72 314,-72 320,-78 320,-84 320,-84 320,-143 320,-143 320,-149 314,-155 308,-155\"/>\n",
       "<text text-anchor=\"start\" x=\"202.5\" y=\"-139.8\" font-family=\"Helvetica,sans-Serif\" font-size=\"14.00\">month_5 ≤ 0.5</text>\n",
       "<text text-anchor=\"start\" x=\"214.5\" y=\"-124.8\" font-family=\"Helvetica,sans-Serif\" font-size=\"14.00\">gini = 0.48</text>\n",
       "<text text-anchor=\"start\" x=\"194\" y=\"-109.8\" font-family=\"Helvetica,sans-Serif\" font-size=\"14.00\">samples = 16745</text>\n",
       "<text text-anchor=\"start\" x=\"181\" y=\"-94.8\" font-family=\"Helvetica,sans-Serif\" font-size=\"14.00\">value = [6678, 10067]</text>\n",
       "<text text-anchor=\"start\" x=\"214.5\" y=\"-79.8\" font-family=\"Helvetica,sans-Serif\" font-size=\"14.00\">class = Up</text>\n",
       "</g>\n",
       "<!-- 2&#45;&gt;10 -->\n",
       "<g id=\"edge6\" class=\"edge\">\n",
       "<title>2&#45;&gt;10</title>\n",
       "<path fill=\"none\" stroke=\"black\" d=\"M246.5,-190.91C246.5,-182.65 246.5,-173.86 246.5,-165.3\"/>\n",
       "<polygon fill=\"black\" stroke=\"black\" points=\"250,-165.02 246.5,-155.02 243,-165.02 250,-165.02\"/>\n",
       "</g>\n",
       "<!-- 4 -->\n",
       "<g id=\"node5\" class=\"node\">\n",
       "<title>4</title>\n",
       "<path fill=\"#c0c0c0\" stroke=\"black\" d=\"M56.5,-36C56.5,-36 26.5,-36 26.5,-36 20.5,-36 14.5,-30 14.5,-24 14.5,-24 14.5,-12 14.5,-12 14.5,-6 20.5,0 26.5,0 26.5,0 56.5,0 56.5,0 62.5,0 68.5,-6 68.5,-12 68.5,-12 68.5,-24 68.5,-24 68.5,-30 62.5,-36 56.5,-36\"/>\n",
       "<text text-anchor=\"middle\" x=\"41.5\" y=\"-14.3\" font-family=\"Helvetica,sans-Serif\" font-size=\"14.00\">(...)</text>\n",
       "</g>\n",
       "<!-- 3&#45;&gt;4 -->\n",
       "<g id=\"edge4\" class=\"edge\">\n",
       "<title>3&#45;&gt;4</title>\n",
       "<path fill=\"none\" stroke=\"black\" d=\"M61.81,-71.76C58.46,-63.04 54.99,-54.04 51.89,-45.99\"/>\n",
       "<polygon fill=\"black\" stroke=\"black\" points=\"55.06,-44.48 48.2,-36.41 48.53,-46.99 55.06,-44.48\"/>\n",
       "</g>\n",
       "<!-- 7 -->\n",
       "<g id=\"node6\" class=\"node\">\n",
       "<title>7</title>\n",
       "<path fill=\"#c0c0c0\" stroke=\"black\" d=\"M128.5,-36C128.5,-36 98.5,-36 98.5,-36 92.5,-36 86.5,-30 86.5,-24 86.5,-24 86.5,-12 86.5,-12 86.5,-6 92.5,0 98.5,0 98.5,0 128.5,0 128.5,0 134.5,0 140.5,-6 140.5,-12 140.5,-12 140.5,-24 140.5,-24 140.5,-30 134.5,-36 128.5,-36\"/>\n",
       "<text text-anchor=\"middle\" x=\"113.5\" y=\"-14.3\" font-family=\"Helvetica,sans-Serif\" font-size=\"14.00\">(...)</text>\n",
       "</g>\n",
       "<!-- 3&#45;&gt;7 -->\n",
       "<g id=\"edge5\" class=\"edge\">\n",
       "<title>3&#45;&gt;7</title>\n",
       "<path fill=\"none\" stroke=\"black\" d=\"M93.19,-71.76C96.54,-63.04 100.01,-54.04 103.11,-45.99\"/>\n",
       "<polygon fill=\"black\" stroke=\"black\" points=\"106.47,-46.99 106.8,-36.41 99.94,-44.48 106.47,-46.99\"/>\n",
       "</g>\n",
       "<!-- 11 -->\n",
       "<g id=\"node8\" class=\"node\">\n",
       "<title>11</title>\n",
       "<path fill=\"#c0c0c0\" stroke=\"black\" d=\"M211.5,-36C211.5,-36 181.5,-36 181.5,-36 175.5,-36 169.5,-30 169.5,-24 169.5,-24 169.5,-12 169.5,-12 169.5,-6 175.5,0 181.5,0 181.5,0 211.5,0 211.5,0 217.5,0 223.5,-6 223.5,-12 223.5,-12 223.5,-24 223.5,-24 223.5,-30 217.5,-36 211.5,-36\"/>\n",
       "<text text-anchor=\"middle\" x=\"196.5\" y=\"-14.3\" font-family=\"Helvetica,sans-Serif\" font-size=\"14.00\">(...)</text>\n",
       "</g>\n",
       "<!-- 10&#45;&gt;11 -->\n",
       "<g id=\"edge7\" class=\"edge\">\n",
       "<title>10&#45;&gt;11</title>\n",
       "<path fill=\"none\" stroke=\"black\" d=\"M224.71,-71.76C219.95,-62.85 215.02,-53.64 210.65,-45.46\"/>\n",
       "<polygon fill=\"black\" stroke=\"black\" points=\"213.61,-43.57 205.81,-36.41 207.44,-46.87 213.61,-43.57\"/>\n",
       "</g>\n",
       "<!-- 14 -->\n",
       "<g id=\"node9\" class=\"node\">\n",
       "<title>14</title>\n",
       "<path fill=\"#c0c0c0\" stroke=\"black\" d=\"M283.5,-36C283.5,-36 253.5,-36 253.5,-36 247.5,-36 241.5,-30 241.5,-24 241.5,-24 241.5,-12 241.5,-12 241.5,-6 247.5,0 253.5,0 253.5,0 283.5,0 283.5,0 289.5,0 295.5,-6 295.5,-12 295.5,-12 295.5,-24 295.5,-24 295.5,-30 289.5,-36 283.5,-36\"/>\n",
       "<text text-anchor=\"middle\" x=\"268.5\" y=\"-14.3\" font-family=\"Helvetica,sans-Serif\" font-size=\"14.00\">(...)</text>\n",
       "</g>\n",
       "<!-- 10&#45;&gt;14 -->\n",
       "<g id=\"edge8\" class=\"edge\">\n",
       "<title>10&#45;&gt;14</title>\n",
       "<path fill=\"none\" stroke=\"black\" d=\"M256.09,-71.76C258.11,-63.14 260.21,-54.24 262.09,-46.26\"/>\n",
       "<polygon fill=\"black\" stroke=\"black\" points=\"265.52,-46.94 264.4,-36.41 258.71,-45.34 265.52,-46.94\"/>\n",
       "</g>\n",
       "<!-- 18 -->\n",
       "<g id=\"node11\" class=\"node\">\n",
       "<title>18</title>\n",
       "<path fill=\"#baddf6\" stroke=\"black\" d=\"M466.5,-155C466.5,-155 350.5,-155 350.5,-155 344.5,-155 338.5,-149 338.5,-143 338.5,-143 338.5,-84 338.5,-84 338.5,-78 344.5,-72 350.5,-72 350.5,-72 466.5,-72 466.5,-72 472.5,-72 478.5,-78 478.5,-84 478.5,-84 478.5,-143 478.5,-143 478.5,-149 472.5,-155 466.5,-155\"/>\n",
       "<text text-anchor=\"start\" x=\"373.5\" y=\"-139.8\" font-family=\"Helvetica,sans-Serif\" font-size=\"14.00\">t&#45;2 ≤ &#45;0.046</text>\n",
       "<text text-anchor=\"start\" x=\"373\" y=\"-124.8\" font-family=\"Helvetica,sans-Serif\" font-size=\"14.00\">gini = 0.478</text>\n",
       "<text text-anchor=\"start\" x=\"360\" y=\"-109.8\" font-family=\"Helvetica,sans-Serif\" font-size=\"14.00\">samples = 8026</text>\n",
       "<text text-anchor=\"start\" x=\"346.5\" y=\"-94.8\" font-family=\"Helvetica,sans-Serif\" font-size=\"14.00\">value = [3165, 4861]</text>\n",
       "<text text-anchor=\"start\" x=\"376.5\" y=\"-79.8\" font-family=\"Helvetica,sans-Serif\" font-size=\"14.00\">class = Up</text>\n",
       "</g>\n",
       "<!-- 17&#45;&gt;18 -->\n",
       "<g id=\"edge10\" class=\"edge\">\n",
       "<title>17&#45;&gt;18</title>\n",
       "<path fill=\"none\" stroke=\"black\" d=\"M456.17,-190.91C450.68,-182.1 444.81,-172.7 439.14,-163.61\"/>\n",
       "<polygon fill=\"black\" stroke=\"black\" points=\"442.05,-161.65 433.78,-155.02 436.11,-165.36 442.05,-161.65\"/>\n",
       "</g>\n",
       "<!-- 25 -->\n",
       "<g id=\"node14\" class=\"node\">\n",
       "<title>25</title>\n",
       "<path fill=\"#7ebfee\" stroke=\"black\" d=\"M616.5,-155C616.5,-155 508.5,-155 508.5,-155 502.5,-155 496.5,-149 496.5,-143 496.5,-143 496.5,-84 496.5,-84 496.5,-78 502.5,-72 508.5,-72 508.5,-72 616.5,-72 616.5,-72 622.5,-72 628.5,-78 628.5,-84 628.5,-84 628.5,-143 628.5,-143 628.5,-149 622.5,-155 616.5,-155\"/>\n",
       "<text text-anchor=\"start\" x=\"529.5\" y=\"-139.8\" font-family=\"Helvetica,sans-Serif\" font-size=\"14.00\">t&#45;3 ≤ 0.001</text>\n",
       "<text text-anchor=\"start\" x=\"527\" y=\"-124.8\" font-family=\"Helvetica,sans-Serif\" font-size=\"14.00\">gini = 0.384</text>\n",
       "<text text-anchor=\"start\" x=\"514\" y=\"-109.8\" font-family=\"Helvetica,sans-Serif\" font-size=\"14.00\">samples = 1457</text>\n",
       "<text text-anchor=\"start\" x=\"504.5\" y=\"-94.8\" font-family=\"Helvetica,sans-Serif\" font-size=\"14.00\">value = [377, 1080]</text>\n",
       "<text text-anchor=\"start\" x=\"530.5\" y=\"-79.8\" font-family=\"Helvetica,sans-Serif\" font-size=\"14.00\">class = Up</text>\n",
       "</g>\n",
       "<!-- 17&#45;&gt;25 -->\n",
       "<g id=\"edge13\" class=\"edge\">\n",
       "<title>17&#45;&gt;25</title>\n",
       "<path fill=\"none\" stroke=\"black\" d=\"M509.6,-190.91C515.76,-182.01 522.34,-172.51 528.69,-163.33\"/>\n",
       "<polygon fill=\"black\" stroke=\"black\" points=\"531.63,-165.24 534.45,-155.02 525.88,-161.25 531.63,-165.24\"/>\n",
       "</g>\n",
       "<!-- 19 -->\n",
       "<g id=\"node12\" class=\"node\">\n",
       "<title>19</title>\n",
       "<path fill=\"#c0c0c0\" stroke=\"black\" d=\"M375.5,-36C375.5,-36 345.5,-36 345.5,-36 339.5,-36 333.5,-30 333.5,-24 333.5,-24 333.5,-12 333.5,-12 333.5,-6 339.5,0 345.5,0 345.5,0 375.5,0 375.5,0 381.5,0 387.5,-6 387.5,-12 387.5,-12 387.5,-24 387.5,-24 387.5,-30 381.5,-36 375.5,-36\"/>\n",
       "<text text-anchor=\"middle\" x=\"360.5\" y=\"-14.3\" font-family=\"Helvetica,sans-Serif\" font-size=\"14.00\">(...)</text>\n",
       "</g>\n",
       "<!-- 18&#45;&gt;19 -->\n",
       "<g id=\"edge11\" class=\"edge\">\n",
       "<title>18&#45;&gt;19</title>\n",
       "<path fill=\"none\" stroke=\"black\" d=\"M387.59,-71.76C383.01,-62.85 378.28,-53.64 374.08,-45.46\"/>\n",
       "<polygon fill=\"black\" stroke=\"black\" points=\"377.12,-43.7 369.44,-36.41 370.89,-46.9 377.12,-43.7\"/>\n",
       "</g>\n",
       "<!-- 22 -->\n",
       "<g id=\"node13\" class=\"node\">\n",
       "<title>22</title>\n",
       "<path fill=\"#c0c0c0\" stroke=\"black\" d=\"M447.5,-36C447.5,-36 417.5,-36 417.5,-36 411.5,-36 405.5,-30 405.5,-24 405.5,-24 405.5,-12 405.5,-12 405.5,-6 411.5,0 417.5,0 417.5,0 447.5,0 447.5,0 453.5,0 459.5,-6 459.5,-12 459.5,-12 459.5,-24 459.5,-24 459.5,-30 453.5,-36 447.5,-36\"/>\n",
       "<text text-anchor=\"middle\" x=\"432.5\" y=\"-14.3\" font-family=\"Helvetica,sans-Serif\" font-size=\"14.00\">(...)</text>\n",
       "</g>\n",
       "<!-- 18&#45;&gt;22 -->\n",
       "<g id=\"edge12\" class=\"edge\">\n",
       "<title>18&#45;&gt;22</title>\n",
       "<path fill=\"none\" stroke=\"black\" d=\"M418.96,-71.76C421.17,-63.14 423.45,-54.24 425.5,-46.26\"/>\n",
       "<polygon fill=\"black\" stroke=\"black\" points=\"428.94,-46.96 428.03,-36.41 422.16,-45.22 428.94,-46.96\"/>\n",
       "</g>\n",
       "<!-- 26 -->\n",
       "<g id=\"node15\" class=\"node\">\n",
       "<title>26</title>\n",
       "<path fill=\"#c0c0c0\" stroke=\"black\" d=\"M529.5,-36C529.5,-36 499.5,-36 499.5,-36 493.5,-36 487.5,-30 487.5,-24 487.5,-24 487.5,-12 487.5,-12 487.5,-6 493.5,0 499.5,0 499.5,0 529.5,0 529.5,0 535.5,0 541.5,-6 541.5,-12 541.5,-12 541.5,-24 541.5,-24 541.5,-30 535.5,-36 529.5,-36\"/>\n",
       "<text text-anchor=\"middle\" x=\"514.5\" y=\"-14.3\" font-family=\"Helvetica,sans-Serif\" font-size=\"14.00\">(...)</text>\n",
       "</g>\n",
       "<!-- 25&#45;&gt;26 -->\n",
       "<g id=\"edge14\" class=\"edge\">\n",
       "<title>25&#45;&gt;26</title>\n",
       "<path fill=\"none\" stroke=\"black\" d=\"M541.59,-71.76C537.01,-62.85 532.28,-53.64 528.08,-45.46\"/>\n",
       "<polygon fill=\"black\" stroke=\"black\" points=\"531.12,-43.7 523.44,-36.41 524.89,-46.9 531.12,-43.7\"/>\n",
       "</g>\n",
       "<!-- 29 -->\n",
       "<g id=\"node16\" class=\"node\">\n",
       "<title>29</title>\n",
       "<path fill=\"#c0c0c0\" stroke=\"black\" d=\"M601.5,-36C601.5,-36 571.5,-36 571.5,-36 565.5,-36 559.5,-30 559.5,-24 559.5,-24 559.5,-12 559.5,-12 559.5,-6 565.5,0 571.5,0 571.5,0 601.5,0 601.5,0 607.5,0 613.5,-6 613.5,-12 613.5,-12 613.5,-24 613.5,-24 613.5,-30 607.5,-36 601.5,-36\"/>\n",
       "<text text-anchor=\"middle\" x=\"586.5\" y=\"-14.3\" font-family=\"Helvetica,sans-Serif\" font-size=\"14.00\">(...)</text>\n",
       "</g>\n",
       "<!-- 25&#45;&gt;29 -->\n",
       "<g id=\"edge15\" class=\"edge\">\n",
       "<title>25&#45;&gt;29</title>\n",
       "<path fill=\"none\" stroke=\"black\" d=\"M572.96,-71.76C575.17,-63.14 577.45,-54.24 579.5,-46.26\"/>\n",
       "<polygon fill=\"black\" stroke=\"black\" points=\"582.94,-46.96 582.03,-36.41 576.16,-45.22 582.94,-46.96\"/>\n",
       "</g>\n",
       "<!-- 33 -->\n",
       "<g id=\"node18\" class=\"node\">\n",
       "<title>33</title>\n",
       "<path fill=\"#92c9f1\" stroke=\"black\" d=\"M851,-274C851,-274 728,-274 728,-274 722,-274 716,-268 716,-262 716,-262 716,-203 716,-203 716,-197 722,-191 728,-191 728,-191 851,-191 851,-191 857,-191 863,-197 863,-203 863,-203 863,-262 863,-262 863,-268 857,-274 851,-274\"/>\n",
       "<text text-anchor=\"start\" x=\"745.5\" y=\"-258.8\" font-family=\"Helvetica,sans-Serif\" font-size=\"14.00\">month_6 ≤ 0.5</text>\n",
       "<text text-anchor=\"start\" x=\"754\" y=\"-243.8\" font-family=\"Helvetica,sans-Serif\" font-size=\"14.00\">gini = 0.427</text>\n",
       "<text text-anchor=\"start\" x=\"737\" y=\"-228.8\" font-family=\"Helvetica,sans-Serif\" font-size=\"14.00\">samples = 17670</text>\n",
       "<text text-anchor=\"start\" x=\"724\" y=\"-213.8\" font-family=\"Helvetica,sans-Serif\" font-size=\"14.00\">value = [5461, 12209]</text>\n",
       "<text text-anchor=\"start\" x=\"757.5\" y=\"-198.8\" font-family=\"Helvetica,sans-Serif\" font-size=\"14.00\">class = Up</text>\n",
       "</g>\n",
       "<!-- 32&#45;&gt;33 -->\n",
       "<g id=\"edge17\" class=\"edge\">\n",
       "<title>32&#45;&gt;33</title>\n",
       "<path fill=\"none\" stroke=\"black\" d=\"M789.5,-309.91C789.5,-301.65 789.5,-292.86 789.5,-284.3\"/>\n",
       "<polygon fill=\"black\" stroke=\"black\" points=\"793,-284.02 789.5,-274.02 786,-284.02 793,-284.02\"/>\n",
       "</g>\n",
       "<!-- 48 -->\n",
       "<g id=\"node25\" class=\"node\">\n",
       "<title>48</title>\n",
       "<path fill=\"#eeaa7a\" stroke=\"black\" d=\"M1071.5,-274C1071.5,-274 963.5,-274 963.5,-274 957.5,-274 951.5,-268 951.5,-262 951.5,-262 951.5,-203 951.5,-203 951.5,-197 957.5,-191 963.5,-191 963.5,-191 1071.5,-191 1071.5,-191 1077.5,-191 1083.5,-197 1083.5,-203 1083.5,-203 1083.5,-262 1083.5,-262 1083.5,-268 1077.5,-274 1071.5,-274\"/>\n",
       "<text text-anchor=\"start\" x=\"976\" y=\"-258.8\" font-family=\"Helvetica,sans-Serif\" font-size=\"14.00\">Finance ≤ 0.5</text>\n",
       "<text text-anchor=\"start\" x=\"982\" y=\"-243.8\" font-family=\"Helvetica,sans-Serif\" font-size=\"14.00\">gini = 0.372</text>\n",
       "<text text-anchor=\"start\" x=\"969\" y=\"-228.8\" font-family=\"Helvetica,sans-Serif\" font-size=\"14.00\">samples = 1598</text>\n",
       "<text text-anchor=\"start\" x=\"959.5\" y=\"-213.8\" font-family=\"Helvetica,sans-Serif\" font-size=\"14.00\">value = [1204, 394]</text>\n",
       "<text text-anchor=\"start\" x=\"976.5\" y=\"-198.8\" font-family=\"Helvetica,sans-Serif\" font-size=\"14.00\">class = Down</text>\n",
       "</g>\n",
       "<!-- 32&#45;&gt;48 -->\n",
       "<g id=\"edge24\" class=\"edge\">\n",
       "<title>32&#45;&gt;48</title>\n",
       "<path fill=\"none\" stroke=\"black\" d=\"M863.21,-312.68C888.47,-299.71 916.76,-285.2 942.15,-272.17\"/>\n",
       "<polygon fill=\"black\" stroke=\"black\" points=\"944.06,-275.12 951.36,-267.44 940.87,-268.89 944.06,-275.12\"/>\n",
       "</g>\n",
       "<!-- 34 -->\n",
       "<g id=\"node19\" class=\"node\">\n",
       "<title>34</title>\n",
       "<path fill=\"#89c4ef\" stroke=\"black\" d=\"M782,-155C782,-155 659,-155 659,-155 653,-155 647,-149 647,-143 647,-143 647,-84 647,-84 647,-78 653,-72 659,-72 659,-72 782,-72 782,-72 788,-72 794,-78 794,-84 794,-84 794,-143 794,-143 794,-149 788,-155 782,-155\"/>\n",
       "<text text-anchor=\"start\" x=\"676.5\" y=\"-139.8\" font-family=\"Helvetica,sans-Serif\" font-size=\"14.00\">month_4 ≤ 0.5</text>\n",
       "<text text-anchor=\"start\" x=\"685\" y=\"-124.8\" font-family=\"Helvetica,sans-Serif\" font-size=\"14.00\">gini = 0.409</text>\n",
       "<text text-anchor=\"start\" x=\"668\" y=\"-109.8\" font-family=\"Helvetica,sans-Serif\" font-size=\"14.00\">samples = 16029</text>\n",
       "<text text-anchor=\"start\" x=\"655\" y=\"-94.8\" font-family=\"Helvetica,sans-Serif\" font-size=\"14.00\">value = [4598, 11431]</text>\n",
       "<text text-anchor=\"start\" x=\"688.5\" y=\"-79.8\" font-family=\"Helvetica,sans-Serif\" font-size=\"14.00\">class = Up</text>\n",
       "</g>\n",
       "<!-- 33&#45;&gt;34 -->\n",
       "<g id=\"edge18\" class=\"edge\">\n",
       "<title>33&#45;&gt;34</title>\n",
       "<path fill=\"none\" stroke=\"black\" d=\"M765.56,-190.91C760.42,-182.2 754.94,-172.9 749.63,-163.89\"/>\n",
       "<polygon fill=\"black\" stroke=\"black\" points=\"752.49,-161.86 744.4,-155.02 746.46,-165.41 752.49,-161.86\"/>\n",
       "</g>\n",
       "<!-- 41 -->\n",
       "<g id=\"node22\" class=\"node\">\n",
       "<title>41</title>\n",
       "<path fill=\"#fcf3eb\" stroke=\"black\" d=\"M925,-155C925,-155 824,-155 824,-155 818,-155 812,-149 812,-143 812,-143 812,-84 812,-84 812,-78 818,-72 824,-72 824,-72 925,-72 925,-72 931,-72 937,-78 937,-84 937,-84 937,-143 937,-143 937,-149 931,-155 925,-155\"/>\n",
       "<text text-anchor=\"start\" x=\"833\" y=\"-139.8\" font-family=\"Helvetica,sans-Serif\" font-size=\"14.00\">Finance ≤ 0.5</text>\n",
       "<text text-anchor=\"start\" x=\"839\" y=\"-124.8\" font-family=\"Helvetica,sans-Serif\" font-size=\"14.00\">gini = 0.499</text>\n",
       "<text text-anchor=\"start\" x=\"826\" y=\"-109.8\" font-family=\"Helvetica,sans-Serif\" font-size=\"14.00\">samples = 1641</text>\n",
       "<text text-anchor=\"start\" x=\"820\" y=\"-94.8\" font-family=\"Helvetica,sans-Serif\" font-size=\"14.00\">value = [863, 778]</text>\n",
       "<text text-anchor=\"start\" x=\"833.5\" y=\"-79.8\" font-family=\"Helvetica,sans-Serif\" font-size=\"14.00\">class = Down</text>\n",
       "</g>\n",
       "<!-- 33&#45;&gt;41 -->\n",
       "<g id=\"edge21\" class=\"edge\">\n",
       "<title>33&#45;&gt;41</title>\n",
       "<path fill=\"none\" stroke=\"black\" d=\"M818.99,-190.91C825.45,-182.01 832.36,-172.51 839.02,-163.33\"/>\n",
       "<polygon fill=\"black\" stroke=\"black\" points=\"842.02,-165.17 845.06,-155.02 836.35,-161.05 842.02,-165.17\"/>\n",
       "</g>\n",
       "<!-- 35 -->\n",
       "<g id=\"node20\" class=\"node\">\n",
       "<title>35</title>\n",
       "<path fill=\"#c0c0c0\" stroke=\"black\" d=\"M678.5,-36C678.5,-36 648.5,-36 648.5,-36 642.5,-36 636.5,-30 636.5,-24 636.5,-24 636.5,-12 636.5,-12 636.5,-6 642.5,0 648.5,0 648.5,0 678.5,0 678.5,0 684.5,0 690.5,-6 690.5,-12 690.5,-12 690.5,-24 690.5,-24 690.5,-30 684.5,-36 678.5,-36\"/>\n",
       "<text text-anchor=\"middle\" x=\"663.5\" y=\"-14.3\" font-family=\"Helvetica,sans-Serif\" font-size=\"14.00\">(...)</text>\n",
       "</g>\n",
       "<!-- 34&#45;&gt;35 -->\n",
       "<g id=\"edge19\" class=\"edge\">\n",
       "<title>34&#45;&gt;35</title>\n",
       "<path fill=\"none\" stroke=\"black\" d=\"M695.66,-71.76C690.17,-62.75 684.49,-53.44 679.47,-45.19\"/>\n",
       "<polygon fill=\"black\" stroke=\"black\" points=\"682.3,-43.12 674.11,-36.41 676.33,-46.77 682.3,-43.12\"/>\n",
       "</g>\n",
       "<!-- 38 -->\n",
       "<g id=\"node21\" class=\"node\">\n",
       "<title>38</title>\n",
       "<path fill=\"#c0c0c0\" stroke=\"black\" d=\"M750.5,-36C750.5,-36 720.5,-36 720.5,-36 714.5,-36 708.5,-30 708.5,-24 708.5,-24 708.5,-12 708.5,-12 708.5,-6 714.5,0 720.5,0 720.5,0 750.5,0 750.5,0 756.5,0 762.5,-6 762.5,-12 762.5,-12 762.5,-24 762.5,-24 762.5,-30 756.5,-36 750.5,-36\"/>\n",
       "<text text-anchor=\"middle\" x=\"735.5\" y=\"-14.3\" font-family=\"Helvetica,sans-Serif\" font-size=\"14.00\">(...)</text>\n",
       "</g>\n",
       "<!-- 34&#45;&gt;38 -->\n",
       "<g id=\"edge20\" class=\"edge\">\n",
       "<title>34&#45;&gt;38</title>\n",
       "<path fill=\"none\" stroke=\"black\" d=\"M727.04,-71.76C728.4,-63.24 729.81,-54.44 731.08,-46.53\"/>\n",
       "<polygon fill=\"black\" stroke=\"black\" points=\"734.58,-46.83 732.71,-36.41 727.67,-45.72 734.58,-46.83\"/>\n",
       "</g>\n",
       "<!-- 42 -->\n",
       "<g id=\"node23\" class=\"node\">\n",
       "<title>42</title>\n",
       "<path fill=\"#c0c0c0\" stroke=\"black\" d=\"M825.5,-36C825.5,-36 795.5,-36 795.5,-36 789.5,-36 783.5,-30 783.5,-24 783.5,-24 783.5,-12 783.5,-12 783.5,-6 789.5,0 795.5,0 795.5,0 825.5,0 825.5,0 831.5,0 837.5,-6 837.5,-12 837.5,-12 837.5,-24 837.5,-24 837.5,-30 831.5,-36 825.5,-36\"/>\n",
       "<text text-anchor=\"middle\" x=\"810.5\" y=\"-14.3\" font-family=\"Helvetica,sans-Serif\" font-size=\"14.00\">(...)</text>\n",
       "</g>\n",
       "<!-- 41&#45;&gt;42 -->\n",
       "<g id=\"edge22\" class=\"edge\">\n",
       "<title>41&#45;&gt;42</title>\n",
       "<path fill=\"none\" stroke=\"black\" d=\"M846.61,-71.76C840.31,-62.56 833.8,-53.04 828.06,-44.66\"/>\n",
       "<polygon fill=\"black\" stroke=\"black\" points=\"830.95,-42.68 822.41,-36.41 825.17,-46.63 830.95,-42.68\"/>\n",
       "</g>\n",
       "<!-- 45 -->\n",
       "<g id=\"node24\" class=\"node\">\n",
       "<title>45</title>\n",
       "<path fill=\"#c0c0c0\" stroke=\"black\" d=\"M897.5,-36C897.5,-36 867.5,-36 867.5,-36 861.5,-36 855.5,-30 855.5,-24 855.5,-24 855.5,-12 855.5,-12 855.5,-6 861.5,0 867.5,0 867.5,0 897.5,0 897.5,0 903.5,0 909.5,-6 909.5,-12 909.5,-12 909.5,-24 909.5,-24 909.5,-30 903.5,-36 897.5,-36\"/>\n",
       "<text text-anchor=\"middle\" x=\"882.5\" y=\"-14.3\" font-family=\"Helvetica,sans-Serif\" font-size=\"14.00\">(...)</text>\n",
       "</g>\n",
       "<!-- 41&#45;&gt;45 -->\n",
       "<g id=\"edge23\" class=\"edge\">\n",
       "<title>41&#45;&gt;45</title>\n",
       "<path fill=\"none\" stroke=\"black\" d=\"M877.99,-71.76C878.72,-63.24 879.47,-54.44 880.14,-46.53\"/>\n",
       "<polygon fill=\"black\" stroke=\"black\" points=\"883.65,-46.67 881.01,-36.41 876.67,-46.07 883.65,-46.67\"/>\n",
       "</g>\n",
       "<!-- 49 -->\n",
       "<g id=\"node26\" class=\"node\">\n",
       "<title>49</title>\n",
       "<path fill=\"#efb285\" stroke=\"black\" d=\"M1068,-155C1068,-155 967,-155 967,-155 961,-155 955,-149 955,-143 955,-143 955,-84 955,-84 955,-78 961,-72 967,-72 967,-72 1068,-72 1068,-72 1074,-72 1080,-78 1080,-84 1080,-84 1080,-143 1080,-143 1080,-149 1074,-155 1068,-155\"/>\n",
       "<text text-anchor=\"start\" x=\"982.5\" y=\"-139.8\" font-family=\"Helvetica,sans-Serif\" font-size=\"14.00\">t&#45;7 ≤ &#45;0.084</text>\n",
       "<text text-anchor=\"start\" x=\"982\" y=\"-124.8\" font-family=\"Helvetica,sans-Serif\" font-size=\"14.00\">gini = 0.402</text>\n",
       "<text text-anchor=\"start\" x=\"969\" y=\"-109.8\" font-family=\"Helvetica,sans-Serif\" font-size=\"14.00\">samples = 1312</text>\n",
       "<text text-anchor=\"start\" x=\"963\" y=\"-94.8\" font-family=\"Helvetica,sans-Serif\" font-size=\"14.00\">value = [947, 365]</text>\n",
       "<text text-anchor=\"start\" x=\"976.5\" y=\"-79.8\" font-family=\"Helvetica,sans-Serif\" font-size=\"14.00\">class = Down</text>\n",
       "</g>\n",
       "<!-- 48&#45;&gt;49 -->\n",
       "<g id=\"edge25\" class=\"edge\">\n",
       "<title>48&#45;&gt;49</title>\n",
       "<path fill=\"none\" stroke=\"black\" d=\"M1017.5,-190.91C1017.5,-182.65 1017.5,-173.86 1017.5,-165.3\"/>\n",
       "<polygon fill=\"black\" stroke=\"black\" points=\"1021,-165.02 1017.5,-155.02 1014,-165.02 1021,-165.02\"/>\n",
       "</g>\n",
       "<!-- 56 -->\n",
       "<g id=\"node29\" class=\"node\">\n",
       "<title>56</title>\n",
       "<path fill=\"#e88f4f\" stroke=\"black\" d=\"M1203,-155C1203,-155 1110,-155 1110,-155 1104,-155 1098,-149 1098,-143 1098,-143 1098,-84 1098,-84 1098,-78 1104,-72 1110,-72 1110,-72 1203,-72 1203,-72 1209,-72 1215,-78 1215,-84 1215,-84 1215,-143 1215,-143 1215,-149 1209,-155 1203,-155\"/>\n",
       "<text text-anchor=\"start\" x=\"1121.5\" y=\"-139.8\" font-family=\"Helvetica,sans-Serif\" font-size=\"14.00\">t&#45;8 ≤ &#45;0.026</text>\n",
       "<text text-anchor=\"start\" x=\"1121\" y=\"-124.8\" font-family=\"Helvetica,sans-Serif\" font-size=\"14.00\">gini = 0.182</text>\n",
       "<text text-anchor=\"start\" x=\"1111.5\" y=\"-109.8\" font-family=\"Helvetica,sans-Serif\" font-size=\"14.00\">samples = 286</text>\n",
       "<text text-anchor=\"start\" x=\"1106\" y=\"-94.8\" font-family=\"Helvetica,sans-Serif\" font-size=\"14.00\">value = [257, 29]</text>\n",
       "<text text-anchor=\"start\" x=\"1115.5\" y=\"-79.8\" font-family=\"Helvetica,sans-Serif\" font-size=\"14.00\">class = Down</text>\n",
       "</g>\n",
       "<!-- 48&#45;&gt;56 -->\n",
       "<g id=\"edge28\" class=\"edge\">\n",
       "<title>48&#45;&gt;56</title>\n",
       "<path fill=\"none\" stroke=\"black\" d=\"M1065.73,-190.91C1076.94,-181.47 1088.97,-171.34 1100.49,-161.65\"/>\n",
       "<polygon fill=\"black\" stroke=\"black\" points=\"1102.96,-164.14 1108.36,-155.02 1098.46,-158.78 1102.96,-164.14\"/>\n",
       "</g>\n",
       "<!-- 50 -->\n",
       "<g id=\"node27\" class=\"node\">\n",
       "<title>50</title>\n",
       "<path fill=\"#c0c0c0\" stroke=\"black\" d=\"M1002.5,-36C1002.5,-36 972.5,-36 972.5,-36 966.5,-36 960.5,-30 960.5,-24 960.5,-24 960.5,-12 960.5,-12 960.5,-6 966.5,0 972.5,0 972.5,0 1002.5,0 1002.5,0 1008.5,0 1014.5,-6 1014.5,-12 1014.5,-12 1014.5,-24 1014.5,-24 1014.5,-30 1008.5,-36 1002.5,-36\"/>\n",
       "<text text-anchor=\"middle\" x=\"987.5\" y=\"-14.3\" font-family=\"Helvetica,sans-Serif\" font-size=\"14.00\">(...)</text>\n",
       "</g>\n",
       "<!-- 49&#45;&gt;50 -->\n",
       "<g id=\"edge26\" class=\"edge\">\n",
       "<title>49&#45;&gt;50</title>\n",
       "<path fill=\"none\" stroke=\"black\" d=\"M1004.43,-71.76C1001.63,-63.04 998.74,-54.04 996.16,-45.99\"/>\n",
       "<polygon fill=\"black\" stroke=\"black\" points=\"999.47,-44.86 993.08,-36.41 992.81,-47 999.47,-44.86\"/>\n",
       "</g>\n",
       "<!-- 53 -->\n",
       "<g id=\"node28\" class=\"node\">\n",
       "<title>53</title>\n",
       "<path fill=\"#c0c0c0\" stroke=\"black\" d=\"M1074.5,-36C1074.5,-36 1044.5,-36 1044.5,-36 1038.5,-36 1032.5,-30 1032.5,-24 1032.5,-24 1032.5,-12 1032.5,-12 1032.5,-6 1038.5,0 1044.5,0 1044.5,0 1074.5,0 1074.5,0 1080.5,0 1086.5,-6 1086.5,-12 1086.5,-12 1086.5,-24 1086.5,-24 1086.5,-30 1080.5,-36 1074.5,-36\"/>\n",
       "<text text-anchor=\"middle\" x=\"1059.5\" y=\"-14.3\" font-family=\"Helvetica,sans-Serif\" font-size=\"14.00\">(...)</text>\n",
       "</g>\n",
       "<!-- 49&#45;&gt;53 -->\n",
       "<g id=\"edge27\" class=\"edge\">\n",
       "<title>49&#45;&gt;53</title>\n",
       "<path fill=\"none\" stroke=\"black\" d=\"M1035.8,-71.76C1039.76,-62.94 1043.85,-53.84 1047.5,-45.72\"/>\n",
       "<polygon fill=\"black\" stroke=\"black\" points=\"1050.78,-46.96 1051.68,-36.41 1044.39,-44.09 1050.78,-46.96\"/>\n",
       "</g>\n",
       "<!-- 57 -->\n",
       "<g id=\"node30\" class=\"node\">\n",
       "<title>57</title>\n",
       "<path fill=\"#c0c0c0\" stroke=\"black\" d=\"M1162.5,-36C1162.5,-36 1132.5,-36 1132.5,-36 1126.5,-36 1120.5,-30 1120.5,-24 1120.5,-24 1120.5,-12 1120.5,-12 1120.5,-6 1126.5,0 1132.5,0 1132.5,0 1162.5,0 1162.5,0 1168.5,0 1174.5,-6 1174.5,-12 1174.5,-12 1174.5,-24 1174.5,-24 1174.5,-30 1168.5,-36 1162.5,-36\"/>\n",
       "<text text-anchor=\"middle\" x=\"1147.5\" y=\"-14.3\" font-family=\"Helvetica,sans-Serif\" font-size=\"14.00\">(...)</text>\n",
       "</g>\n",
       "<!-- 56&#45;&gt;57 -->\n",
       "<g id=\"edge29\" class=\"edge\">\n",
       "<title>56&#45;&gt;57</title>\n",
       "<path fill=\"none\" stroke=\"black\" d=\"M1152.58,-71.76C1151.76,-63.24 1150.91,-54.44 1150.15,-46.53\"/>\n",
       "<polygon fill=\"black\" stroke=\"black\" points=\"1153.62,-46.02 1149.18,-36.41 1146.65,-46.69 1153.62,-46.02\"/>\n",
       "</g>\n",
       "<!-- 60 -->\n",
       "<g id=\"node31\" class=\"node\">\n",
       "<title>60</title>\n",
       "<path fill=\"#c0c0c0\" stroke=\"black\" d=\"M1234.5,-36C1234.5,-36 1204.5,-36 1204.5,-36 1198.5,-36 1192.5,-30 1192.5,-24 1192.5,-24 1192.5,-12 1192.5,-12 1192.5,-6 1198.5,0 1204.5,0 1204.5,0 1234.5,0 1234.5,0 1240.5,0 1246.5,-6 1246.5,-12 1246.5,-12 1246.5,-24 1246.5,-24 1246.5,-30 1240.5,-36 1234.5,-36\"/>\n",
       "<text text-anchor=\"middle\" x=\"1219.5\" y=\"-14.3\" font-family=\"Helvetica,sans-Serif\" font-size=\"14.00\">(...)</text>\n",
       "</g>\n",
       "<!-- 56&#45;&gt;60 -->\n",
       "<g id=\"edge30\" class=\"edge\">\n",
       "<title>56&#45;&gt;60</title>\n",
       "<path fill=\"none\" stroke=\"black\" d=\"M1183.95,-71.76C1190.09,-62.65 1196.43,-53.24 1202.03,-44.92\"/>\n",
       "<polygon fill=\"black\" stroke=\"black\" points=\"1205.09,-46.65 1207.77,-36.41 1199.28,-42.74 1205.09,-46.65\"/>\n",
       "</g>\n",
       "</g>\n",
       "</svg>\n"
      ],
      "text/plain": [
       "<graphviz.files.Source at 0x7f03508eea30>"
      ]
     },
     "execution_count": 63,
     "metadata": {},
     "output_type": "execute_result"
    }
   ],
   "source": [
    "out_file = 'figures/clf_tree.dot'\n",
    "dot_data = export_graphviz(clf,\n",
    "                           out_file=out_file,\n",
    "                           feature_names=X.columns,\n",
    "                           class_names=['Down', 'Up'],\n",
    "                           max_depth=3,\n",
    "                           filled=True,\n",
    "                           rounded=True,\n",
    "                           special_characters=True)\n",
    "if out_file is not None:\n",
    "    dot_data = Path(out_file).read_text()\n",
    "\n",
    "graphviz.Source(dot_data)"
   ]
  },
  {
   "cell_type": "markdown",
   "metadata": {},
   "source": [
    "### Evaluate Test Set"
   ]
  },
  {
   "cell_type": "code",
   "execution_count": 64,
   "metadata": {
    "ExecuteTime": {
     "end_time": "2018-10-31T22:34:16.160193Z",
     "start_time": "2018-10-31T22:06:39.216Z"
    }
   },
   "outputs": [],
   "source": [
    "y_pred = clf.predict_proba(X_test)[:, 1]"
   ]
  },
  {
   "cell_type": "code",
   "execution_count": 65,
   "metadata": {
    "ExecuteTime": {
     "end_time": "2018-10-31T22:34:16.161309Z",
     "start_time": "2018-10-31T22:06:39.223Z"
    }
   },
   "outputs": [
    {
     "data": {
      "text/plain": [
       "0.6139767794050386"
      ]
     },
     "execution_count": 65,
     "metadata": {},
     "output_type": "execute_result"
    }
   ],
   "source": [
    "roc_auc_score(y_true=y_test, y_score=y_pred)"
   ]
  },
  {
   "cell_type": "markdown",
   "metadata": {},
   "source": [
    "### Print Decision Path"
   ]
  },
  {
   "cell_type": "markdown",
   "metadata": {},
   "source": [
    "Inspired by https://stackoverflow.com/questions/20224526/how-to-extract-the-decision-rules-from-scikit-learn-decision-tree"
   ]
  },
  {
   "cell_type": "code",
   "execution_count": 66,
   "metadata": {
    "ExecuteTime": {
     "end_time": "2018-10-31T22:34:16.134173Z",
     "start_time": "2018-10-31T22:06:39.125Z"
    }
   },
   "outputs": [
    {
     "name": "stdout",
     "output_type": "stream",
     "text": [
      "Help on class Tree in module sklearn.tree._tree:\n",
      "\n",
      "class Tree(builtins.object)\n",
      " |  Array-based representation of a binary decision tree.\n",
      " |  \n",
      " |  The binary tree is represented as a number of parallel arrays. The i-th\n",
      " |  element of each array holds information about the node `i`. Node 0 is the\n",
      " |  tree's root. You can find a detailed description of all arrays in\n",
      " |  `_tree.pxd`. NOTE: Some of the arrays only apply to either leaves or split\n",
      " |  nodes, resp. In this case the values of nodes of the other type are\n",
      " |  arbitrary!\n",
      " |  \n",
      " |  Attributes\n",
      " |  ----------\n",
      " |  node_count : int\n",
      " |      The number of nodes (internal nodes + leaves) in the tree.\n",
      " |  \n",
      " |  capacity : int\n",
      " |      The current capacity (i.e., size) of the arrays, which is at least as\n",
      " |      great as `node_count`.\n",
      " |  \n",
      " |  max_depth : int\n",
      " |      The depth of the tree, i.e. the maximum depth of its leaves.\n",
      " |  \n",
      " |  children_left : array of int, shape [node_count]\n",
      " |      children_left[i] holds the node id of the left child of node i.\n",
      " |      For leaves, children_left[i] == TREE_LEAF. Otherwise,\n",
      " |      children_left[i] > i. This child handles the case where\n",
      " |      X[:, feature[i]] <= threshold[i].\n",
      " |  \n",
      " |  children_right : array of int, shape [node_count]\n",
      " |      children_right[i] holds the node id of the right child of node i.\n",
      " |      For leaves, children_right[i] == TREE_LEAF. Otherwise,\n",
      " |      children_right[i] > i. This child handles the case where\n",
      " |      X[:, feature[i]] > threshold[i].\n",
      " |  \n",
      " |  feature : array of int, shape [node_count]\n",
      " |      feature[i] holds the feature to split on, for the internal node i.\n",
      " |  \n",
      " |  threshold : array of double, shape [node_count]\n",
      " |      threshold[i] holds the threshold for the internal node i.\n",
      " |  \n",
      " |  value : array of double, shape [node_count, n_outputs, max_n_classes]\n",
      " |      Contains the constant prediction value of each node.\n",
      " |  \n",
      " |  impurity : array of double, shape [node_count]\n",
      " |      impurity[i] holds the impurity (i.e., the value of the splitting\n",
      " |      criterion) at node i.\n",
      " |  \n",
      " |  n_node_samples : array of int, shape [node_count]\n",
      " |      n_node_samples[i] holds the number of training samples reaching node i.\n",
      " |  \n",
      " |  weighted_n_node_samples : array of int, shape [node_count]\n",
      " |      weighted_n_node_samples[i] holds the weighted number of training samples\n",
      " |      reaching node i.\n",
      " |  \n",
      " |  Methods defined here:\n",
      " |  \n",
      " |  __getstate__(...)\n",
      " |      Getstate re-implementation, for pickling.\n",
      " |  \n",
      " |  __reduce__(...)\n",
      " |      Reduce re-implementation, for pickling.\n",
      " |  \n",
      " |  __setstate__(...)\n",
      " |      Setstate re-implementation, for unpickling.\n",
      " |  \n",
      " |  apply(...)\n",
      " |      Finds the terminal region (=leaf node) for each sample in X.\n",
      " |  \n",
      " |  compute_feature_importances(...)\n",
      " |      Computes the importance of each feature (aka variable).\n",
      " |  \n",
      " |  compute_partial_dependence(...)\n",
      " |      Partial dependence of the response on the ``target_feature`` set.\n",
      " |      \n",
      " |      For each sample in ``X`` a tree traversal is performed.\n",
      " |      Each traversal starts from the root with weight 1.0.\n",
      " |      \n",
      " |      At each non-leaf node that splits on a target feature, either\n",
      " |      the left child or the right child is visited based on the feature\n",
      " |      value of the current sample, and the weight is not modified.\n",
      " |      At each non-leaf node that splits on a complementary feature,\n",
      " |      both children are visited and the weight is multiplied by the fraction\n",
      " |      of training samples which went to each child.\n",
      " |      \n",
      " |      At each leaf, the value of the node is multiplied by the current\n",
      " |      weight (weights sum to 1 for all visited terminal nodes).\n",
      " |      \n",
      " |      Parameters\n",
      " |      ----------\n",
      " |      X : view on 2d ndarray, shape (n_samples, n_target_features)\n",
      " |          The grid points on which the partial dependence should be\n",
      " |          evaluated.\n",
      " |      target_features : view on 1d ndarray, shape (n_target_features)\n",
      " |          The set of target features for which the partial dependence\n",
      " |          should be evaluated.\n",
      " |      out : view on 1d ndarray, shape (n_samples)\n",
      " |          The value of the partial dependence function on each grid\n",
      " |          point.\n",
      " |  \n",
      " |  decision_path(...)\n",
      " |      Finds the decision path (=node) for each sample in X.\n",
      " |  \n",
      " |  predict(...)\n",
      " |      Predict target for X.\n",
      " |  \n",
      " |  ----------------------------------------------------------------------\n",
      " |  Static methods defined here:\n",
      " |  \n",
      " |  __new__(*args, **kwargs) from builtins.type\n",
      " |      Create and return a new object.  See help(type) for accurate signature.\n",
      " |  \n",
      " |  ----------------------------------------------------------------------\n",
      " |  Data descriptors defined here:\n",
      " |  \n",
      " |  capacity\n",
      " |  \n",
      " |  children_left\n",
      " |  \n",
      " |  children_right\n",
      " |  \n",
      " |  feature\n",
      " |  \n",
      " |  impurity\n",
      " |  \n",
      " |  max_depth\n",
      " |  \n",
      " |  max_n_classes\n",
      " |  \n",
      " |  n_classes\n",
      " |  \n",
      " |  n_features\n",
      " |  \n",
      " |  n_leaves\n",
      " |  \n",
      " |  n_node_samples\n",
      " |  \n",
      " |  n_outputs\n",
      " |  \n",
      " |  node_count\n",
      " |  \n",
      " |  threshold\n",
      " |  \n",
      " |  value\n",
      " |  \n",
      " |  weighted_n_node_samples\n",
      " |  \n",
      " |  ----------------------------------------------------------------------\n",
      " |  Data and other attributes defined here:\n",
      " |  \n",
      " |  __pyx_vtable__ = <capsule object NULL>\n",
      "\n"
     ]
    }
   ],
   "source": [
    "from sklearn.tree._tree import Tree\n",
    "help(Tree)"
   ]
  },
  {
   "cell_type": "code",
   "execution_count": 67,
   "metadata": {
    "ExecuteTime": {
     "end_time": "2018-10-31T22:34:16.140502Z",
     "start_time": "2018-10-31T22:06:39.134Z"
    }
   },
   "outputs": [],
   "source": [
    "def tree_to_code(tree, feature_names):\n",
    "    if isinstance(tree, DecisionTreeClassifier):\n",
    "        model = 'clf'\n",
    "    elif isinstance(tree, DecisionTreeRegressor):\n",
    "        model = 'reg'\n",
    "    else:\n",
    "        raise ValueError('Need Regression or Classification Tree')\n",
    "        \n",
    "    tree_ = tree.tree_\n",
    "    feature_name = [\n",
    "        feature_names[i] if i != _tree.TREE_UNDEFINED else \"undefined!\"\n",
    "        for i in tree_.feature\n",
    "    ]\n",
    "    print(\"def tree({}):\".format(\", \".join(feature_names)))\n",
    "\n",
    "    def recurse(node, depth):\n",
    "        indent = \"  \" * depth\n",
    "        if tree_.feature[node] != _tree.TREE_UNDEFINED:\n",
    "            name = feature_name[node]\n",
    "            threshold = tree_.threshold[node]\n",
    "            print(indent, f'if {name} <= {threshold:.2%}')\n",
    "            recurse(tree_.children_left[node], depth + 1)\n",
    "            print(indent, f'else:  # if {name} > {threshold:.2%}')\n",
    "            recurse(tree_.children_right[node], depth + 1)\n",
    "        else:\n",
    "            pred = tree_.value[node][0]\n",
    "            val = pred[1]/sum(pred) if model == 'clf' else pred[0]\n",
    "            print(indent, f'return {val:.2%}')\n",
    "    recurse(0, 1)"
   ]
  },
  {
   "cell_type": "code",
   "execution_count": 68,
   "metadata": {
    "ExecuteTime": {
     "end_time": "2018-10-31T22:34:16.142001Z",
     "start_time": "2018-10-31T22:06:39.142Z"
    }
   },
   "outputs": [
    {
     "name": "stdout",
     "output_type": "stream",
     "text": [
      "def tree(t-1, t-2):\n",
      "   if t-1 <= -0.01%\n",
      "     if t-2 <= -0.80%\n",
      "       if t-2 <= -4.34%\n",
      "         if t-1 <= -0.06%\n",
      "           return 54.06%\n",
      "         else:  # if t-1 > -0.06%\n",
      "           return 76.60%\n",
      "       else:  # if t-2 > -4.34%\n",
      "         if t-2 <= -4.27%\n",
      "           return 68.55%\n",
      "         else:  # if t-2 > -4.27%\n",
      "           return 56.10%\n",
      "     else:  # if t-2 > -0.80%\n",
      "       if t-2 <= 12.29%\n",
      "         if t-2 <= 3.49%\n",
      "           return 57.98%\n",
      "         else:  # if t-2 > 3.49%\n",
      "           return 59.71%\n",
      "       else:  # if t-2 > 12.29%\n",
      "         if t-2 <= 12.98%\n",
      "           return 50.12%\n",
      "         else:  # if t-2 > 12.98%\n",
      "           return 55.72%\n",
      "   else:  # if t-1 > -0.01%\n",
      "     if t-1 <= 0.00%\n",
      "       if t-2 <= 0.29%\n",
      "         if t-2 <= -0.46%\n",
      "           return 45.24%\n",
      "         else:  # if t-2 > -0.46%\n",
      "           return 3.21%\n",
      "       else:  # if t-2 > 0.29%\n",
      "         if t-2 <= 8.22%\n",
      "           return 43.55%\n",
      "         else:  # if t-2 > 8.22%\n",
      "           return 57.01%\n",
      "     else:  # if t-1 > 0.00%\n",
      "       if t-1 <= 3.64%\n",
      "         if t-2 <= 0.31%\n",
      "           return 54.89%\n",
      "         else:  # if t-2 > 0.31%\n",
      "           return 57.30%\n",
      "       else:  # if t-1 > 3.64%\n",
      "         if t-2 <= -15.16%\n",
      "           return 25.00%\n",
      "         else:  # if t-2 > -15.16%\n",
      "           return 53.69%\n"
     ]
    }
   ],
   "source": [
    "tree_to_code(clf_tree_t2, X2.columns)"
   ]
  },
  {
   "cell_type": "markdown",
   "metadata": {},
   "source": [
    "## Overfitting, Regularization & Parameter Tuning"
   ]
  },
  {
   "cell_type": "markdown",
   "metadata": {},
   "source": [
    "Decision trees have a strong tendency to overfit, especially when a dataset has a large number of features relative to the number of samples. As discussed in previous chapters, overfitting increases the prediction error because the model does not only learn the signal contained in the training data, but also the noise.\n",
    "There are several ways to address the risk of overfitting."
   ]
  },
  {
   "cell_type": "markdown",
   "metadata": {},
   "source": [
    "Decision trees provide several regularization hyperparameters to limit the growth of a tree and the associated complexity. While every split increases the number of nodes, it also reduces the number of samples available per node to support a prediction. For each additional level, twice the number of samples is needed to populate the new nodes with the same sample density. "
   ]
  },
  {
   "cell_type": "markdown",
   "metadata": {},
   "source": [
    "### Decision Tree Parameters"
   ]
  },
  {
   "cell_type": "markdown",
   "metadata": {},
   "source": [
    "The following table lists key parameters available for this purpose in the sklearn decision tree implementation. After introducing the most important parameters, we will illustrate how to use cross-validation to optimize the hyperparameter settings with respect to the bias-variance tradeoff and lower prediction errors:"
   ]
  },
  {
   "cell_type": "markdown",
   "metadata": {},
   "source": [
    "| Parameter                | Default | Options                                                                                                                                                               | Description                                                                                                                                                                                                             |\n",
    "|--------------------------|---------|-----------------------------------------------------------------------------------------------------------------------------------------------------------------------|-------------------------------------------------------------------------------------------------------------------------------------------------------------------------------------------------------------------------|\n",
    "| criterion                | gini    | Regression: MSE, MAE Classification: Gini impurity, Cross Entropy                                                                                                     | Metric to evaluate split quality.                                                                                                                                                                                       |\n",
    "| splitter                 | best    | best, random                                                                                                                                                          | How to choose the split at each node. Supported strategies are “best” to choose the best split and “random” to choose the best random split.                                                                            |\n",
    "| max_depth                | None    | int                                                                                                                                                                   | Max # of levels in tree. Split nodes until max_depth is reached or all leaves are pure or all leaves contain less than min_samples_split samples.                                                                       |\n",
    "| max_features             | None    | None: max_features=n_features; int; float (fraction): int(max_features * n_features)  auto, sqrt: max_features=sqrt(n_features). log2: max_features=log2(n_features). | # of features to consider when evaluating split                                                                                                                                                                         |\n",
    "| max_leaf_nodes           | None    | None: unlimited # of leaf nodes int                                                                                                                                   | Continue to split nodes that reduce relative impurity the most until reaching max_leaf_nodes.                                                                                                                           |\n",
    "| min_impurity_decrease    | 0       | float                                                                                                                                                                 | Split node if impurity decreases by at least this value.                                                                                                                                                                |\n",
    "| min_samples_leaf         | 1       | int; float (as percentage of N)                                                                                                                                       | Minimum # of samples to be at a leaf node. A split will only be considered if there are at least min_samples_leaf training samples in each of the left and right branches. May smoothen the model, esp. for regression. |\n",
    "| min_samples_split        | 2       | int; float (as percentage of N)                                                                                                                                       | The minimum number of samples required to split an internal node:                                                                                                                                                       |\n",
    "| min_weight_fraction_leaf | 0       | NA                                                                                                                                                                    | The minimum weighted fraction of the sum total of weights (of all the input samples) required to be at a leaf node. Samples have equal weight when sample_weight is not provided (in fit method).                       |\n",
    "| presort                  | False   | NA                                                                                                                                                                    | Sort the data to speed up the search for best splits during training. Can slow down training on 'large' datasets but may speed up training on small data or with small max_depth setting.                               |\n",
    "| class_weight             | None    | balanced: inversely proportional to class frequencies dict: {class_label: weight} list of dicts (for multi-output)                                                    | Weights associated with classes                                                                                                                                                                                         |"
   ]
  },
  {
   "cell_type": "markdown",
   "metadata": {},
   "source": [
    "The `max_depth` parameter imposes a hard limit on the number of consecutive splits and represents the most straightforward way to cap the growth of a tree.\n",
    "\n",
    "The m`in_samples_split` and `min_samples_leaf` parameters are alternative, data-driven ways to limit the growth of a tree. Rather than imposing a hard limit on the number of consecutive splits, these parameters control the minimum number of samples required to further split the data. The latter guarantees a certain number of samples per leaf, while the former can create very small leaves if a split results in a very uneven distribution. Small parameter values facilitate overfitting, while a high number may prevent the tree from learning the signal in the data. \n",
    "\n",
    "The default values are often quite low, and you should use cross-validation to explore a range of potential values. You can also use a float to indicate a percentage as opposed to an absolute number. "
   ]
  },
  {
   "cell_type": "code",
   "execution_count": 69,
   "metadata": {
    "ExecuteTime": {
     "end_time": "2018-10-31T22:34:16.173622Z",
     "start_time": "2018-10-31T22:06:39.288Z"
    }
   },
   "outputs": [],
   "source": [
    "def plot_cv_results(cv_scores, metric='AUC', parameter='Max. Depth'):\n",
    "    fig, ax = plt.subplots(figsize=(12,6))\n",
    "    df = pd.DataFrame(cv_scores)\n",
    "    sns.tsplot(df.values, time=df.columns, ax=ax, lw=2)\n",
    "    ax.set_title(f'{len(df)}-Fold Cross-Validation Result')\n",
    "    ax.set_xlabel(parameter)\n",
    "    ax.set_ylabel(metric)\n",
    "    if metric == 'AUC':\n",
    "        ax.axvline(df.mean().idxmax(), ls='--', c='k', lw=1);\n",
    "        ax.axhline(classification_benchmark(), c='red', lw=1, ls='--') \n",
    "    else:\n",
    "        ax.axvline(df.mean().idxmin(), ls='--', c='k', lw=1);\n",
    "        ax.axhline(regression_benchmark(), c='red', lw=1, ls='--')"
   ]
  },
  {
   "cell_type": "markdown",
   "metadata": {},
   "source": [
    "### Cross-Validation Score"
   ]
  },
  {
   "cell_type": "markdown",
   "metadata": {},
   "source": [
    "Cross-validation is the most important tool to obtain an unbiased estimate of the generalization error, which in turn permits an informed choice among the various configuration options. sklearn offers several tools to facilitate the process of cross-validating numerous parameter settings, namely the GridSearchCV convenience class that we will illustrate in the next section. "
   ]
  },
  {
   "cell_type": "code",
   "execution_count": 70,
   "metadata": {
    "ExecuteTime": {
     "end_time": "2018-10-31T22:34:16.175010Z",
     "start_time": "2018-10-31T22:06:39.302Z"
    }
   },
   "outputs": [],
   "source": [
    "cv = OneStepTimeSeriesSplit(n_splits=10)"
   ]
  },
  {
   "cell_type": "code",
   "execution_count": 71,
   "metadata": {
    "ExecuteTime": {
     "end_time": "2018-10-31T22:34:16.176416Z",
     "start_time": "2018-10-31T22:06:39.309Z"
    }
   },
   "outputs": [],
   "source": [
    "clf_results = {}\n",
    "for max_depth in range(1, 26):\n",
    "    clf_tree = DecisionTreeClassifier(criterion='gini',\n",
    "                                      max_depth=max_depth,\n",
    "                                      min_samples_leaf=5,\n",
    "                                      random_state=42)\n",
    "    clf_results[max_depth] = cross_val_score(clf_tree,\n",
    "                                             X=X,\n",
    "                                             y=y_binary,\n",
    "                                             scoring='roc_auc',\n",
    "                                             n_jobs=-1,\n",
    "                                             cv=cv)"
   ]
  },
  {
   "cell_type": "code",
   "execution_count": 72,
   "metadata": {
    "ExecuteTime": {
     "end_time": "2018-10-31T22:34:16.188450Z",
     "start_time": "2018-10-31T22:06:39.316Z"
    }
   },
   "outputs": [
    {
     "data": {
      "image/png": "[encoded data removed]",
      "text/plain": [
       "<Figure size 864x432 with 1 Axes>"
      ]
     },
     "metadata": {},
     "output_type": "display_data"
    }
   ],
   "source": [
    "plot_cv_results(clf_results)"
   ]
  },
  {
   "cell_type": "markdown",
   "metadata": {},
   "source": [
    "### Train-Test Result"
   ]
  },
  {
   "cell_type": "code",
   "execution_count": 73,
   "metadata": {
    "ExecuteTime": {
     "end_time": "2018-10-31T22:34:16.191896Z",
     "start_time": "2018-10-31T22:06:39.324Z"
    }
   },
   "outputs": [],
   "source": [
    "max_depths = range(1, 26)"
   ]
  },
  {
   "cell_type": "markdown",
   "metadata": {},
   "source": [
    "#### How to inspect the tree structure"
   ]
  },
  {
   "cell_type": "markdown",
   "metadata": {},
   "source": [
    "The following code illustrates how to run cross-validation more manually to obtain custom tree attributes, such as the total number of nodes or leaf nodes associated with certain hyperparameter settings. \n",
    "\n",
    "The following function accesses the internal `.tree_` attribute to retrieve information about the total node count, and how many of these nodes are leaf nodes:"
   ]
  },
  {
   "cell_type": "code",
   "execution_count": 74,
   "metadata": {
    "ExecuteTime": {
     "end_time": "2018-10-31T22:34:16.193266Z",
     "start_time": "2018-10-31T22:06:39.330Z"
    }
   },
   "outputs": [],
   "source": [
    "def get_leaves_count(tree):\n",
    "    t = tree.tree_\n",
    "    n = t.node_count\n",
    "    leaves = len([i for i in range(t.node_count) if t.children_left[i]== -1])\n",
    "    return leaves"
   ]
  },
  {
   "cell_type": "markdown",
   "metadata": {},
   "source": [
    "We can combine this information with the train and test scores to gain detailed knowledge about the model behavior throughout the cross-validation process, as follows:"
   ]
  },
  {
   "cell_type": "code",
   "execution_count": 75,
   "metadata": {
    "ExecuteTime": {
     "end_time": "2018-10-31T22:34:16.196039Z",
     "start_time": "2018-10-31T22:06:39.339Z"
    }
   },
   "outputs": [
    {
     "name": "stdout",
     "output_type": "stream",
     "text": [
      "1 2 3 4 5 6 7 8 9 10 11 12 13 14 15 16 17 18 19 20 21 22 23 24 25 "
     ]
    }
   ],
   "source": [
    "train_scores, val_scores, leaves = {}, {}, {}\n",
    "for max_depth in max_depths:\n",
    "    print(max_depth, end=' ', flush=True)\n",
    "    clf = DecisionTreeClassifier(criterion='gini', \n",
    "                                 max_depth=max_depth,\n",
    "                                 min_samples_leaf=500,\n",
    "                                 max_features='auto',\n",
    "                                 random_state=42)\n",
    "    train_scores[max_depth], val_scores[max_depth], leaves[max_depth] = [], [], []\n",
    "    for train_idx, test_idx in cv.split(X):\n",
    "        X_train, y_train,  = X.iloc[train_idx], y_binary.iloc[train_idx]\n",
    "        X_test, y_test = X.iloc[test_idx], y_binary.iloc[test_idx]\n",
    "        clf.fit(X=X_train, y=y_train)\n",
    "\n",
    "        train_pred = clf.predict_proba(X=X_train)[:, 1]\n",
    "        train_score = roc_auc_score(y_score=train_pred, y_true=y_train)\n",
    "        train_scores[max_depth].append(train_score)\n",
    "\n",
    "        test_pred = clf.predict_proba(X=X_test)[:, 1]\n",
    "        val_score = roc_auc_score(y_score=test_pred, y_true=y_test)\n",
    "        val_scores[max_depth].append(val_score)    \n",
    "        leaves[max_depth].append(get_leaves_count(clf))\n",
    "        \n",
    "clf_train_scores = pd.DataFrame(train_scores)\n",
    "clf_valid_scores = pd.DataFrame(val_scores)\n",
    "clf_leaves = pd.DataFrame(leaves)"
   ]
  },
  {
   "cell_type": "markdown",
   "metadata": {},
   "source": [
    "## Regression Tree"
   ]
  },
  {
   "cell_type": "markdown",
   "metadata": {},
   "source": [
    "### Cross-Validation Scores"
   ]
  },
  {
   "cell_type": "code",
   "execution_count": 76,
   "metadata": {
    "ExecuteTime": {
     "end_time": "2018-10-31T22:34:16.199204Z",
     "start_time": "2018-10-31T22:06:39.351Z"
    }
   },
   "outputs": [],
   "source": [
    "reg_results = {}\n",
    "for max_depth in range(1, 26):\n",
    "    reg_tree = DecisionTreeRegressor(criterion='mse',\n",
    "                                     max_depth=max_depth,\n",
    "                                     min_samples_leaf=500,\n",
    "                                     random_state=42)\n",
    "    reg_results[max_depth] = np.sqrt(-cross_val_score(reg_tree,\n",
    "                                             X=X,\n",
    "                                             y=y,\n",
    "                                             scoring='neg_mean_squared_error',\n",
    "                                             n_jobs=-1,\n",
    "                                             cv=cv))"
   ]
  },
  {
   "cell_type": "code",
   "execution_count": 77,
   "metadata": {
    "ExecuteTime": {
     "end_time": "2018-10-31T22:34:16.202490Z",
     "start_time": "2018-10-31T22:06:39.358Z"
    }
   },
   "outputs": [
    {
     "data": {
      "image/png": "[encoded data removed]",
      "text/plain": [
       "<Figure size 864x432 with 1 Axes>"
      ]
     },
     "metadata": {},
     "output_type": "display_data"
    }
   ],
   "source": [
    "plot_cv_results(reg_results, metric='RMSE')"
   ]
  },
  {
   "cell_type": "code",
   "execution_count": 78,
   "metadata": {
    "ExecuteTime": {
     "end_time": "2018-10-31T22:34:16.207248Z",
     "start_time": "2018-10-31T22:06:39.365Z"
    }
   },
   "outputs": [
    {
     "name": "stdout",
     "output_type": "stream",
     "text": [
      "1 2 3 4 5 6 7 8 9 10 11 12 13 14 15 16 17 18 19 20 21 22 23 24 25 "
     ]
    }
   ],
   "source": [
    "train_scores, val_scores, leaves = {}, {}, {}\n",
    "for max_depth in max_depths:\n",
    "    print(max_depth, end=' ', flush=True)\n",
    "    reg_tree = DecisionTreeRegressor(max_depth=max_depth,\n",
    "                                     min_samples_leaf=500,\n",
    "                                     max_features= 'sqrt',\n",
    "                                     random_state=42)\n",
    "    train_scores[max_depth], val_scores[max_depth], leaves[max_depth] = [], [], []\n",
    "    for train_idx, test_idx in cv.split(X):\n",
    "        X_train, y_train,  = X.iloc[train_idx], y.iloc[train_idx]\n",
    "        X_test, y_test = X.iloc[test_idx], y.iloc[test_idx]\n",
    "        reg_tree.fit(X=X_train, y=y_train)\n",
    "\n",
    "        train_pred = reg_tree.predict(X=X_train)\n",
    "        train_score = np.sqrt(mean_squared_error(\n",
    "            y_pred=train_pred, y_true=y_train))\n",
    "        train_scores[max_depth].append(train_score)\n",
    "\n",
    "        test_pred = reg_tree.predict(X=X_test)\n",
    "        val_score = np.sqrt(mean_squared_error(\n",
    "            y_pred=test_pred, y_true=y_test))\n",
    "        val_scores[max_depth].append(val_score)\n",
    "        leaves[max_depth].append(get_leaves_count(reg_tree))\n",
    "\n",
    "reg_train_scores = pd.DataFrame(train_scores)\n",
    "reg_valid_scores = pd.DataFrame(val_scores)\n",
    "reg_leaves = pd.DataFrame(leaves)"
   ]
  },
  {
   "cell_type": "markdown",
   "metadata": {},
   "source": [
    "#### Plot Results"
   ]
  },
  {
   "cell_type": "code",
   "execution_count": 79,
   "metadata": {
    "ExecuteTime": {
     "end_time": "2018-10-31T22:34:16.210055Z",
     "start_time": "2018-10-31T22:06:39.371Z"
    }
   },
   "outputs": [
    {
     "data": {
      "image/png": "[encoded data removed]",
      "text/plain": [
       "<Figure size 1008x360 with 4 Axes>"
      ]
     },
     "metadata": {},
     "output_type": "display_data"
    }
   ],
   "source": [
    "fig, axes = plt.subplots(ncols=2, figsize=(14, 5))\n",
    "time = pd.Series(max_depths, name='Max. Depth')\n",
    "sns.tsplot(data=np.dstack((reg_train_scores, reg_valid_scores)),\n",
    "           time=time,\n",
    "           condition=['Train', 'Valid'],\n",
    "           ci=95,\n",
    "           ax=axes[0],\n",
    "           lw=2)\n",
    "ax0 = axes[0].twinx()\n",
    "sns.tsplot(data=reg_leaves.values, time=time, ax=ax0, ls='--', lw=1, color='k')\n",
    "ax0.set_yscale('log', basey=2)\n",
    "ax0.grid(None)\n",
    "ax0.set_ylabel('# Leaf Nodes')\n",
    "axes[0].set_title('Regression Tree')\n",
    "axes[0].set_ylabel('RMSE')\n",
    "axes[0].yaxis.set_major_formatter(\n",
    "    FuncFormatter(lambda y, _: '{:.2%}'.format(y)))\n",
    "axes[0].axvline(x=reg_valid_scores.mean().idxmin(), ls='--', c='k', lw=1)\n",
    "axes[0].axhline(y=regression_benchmark(), ls='-', c='k', lw=1)\n",
    "\n",
    "\n",
    "sns.tsplot(data=np.dstack((clf_train_scores, clf_valid_scores)),\n",
    "           time=pd.Series(max_depths, name='Max. Depth'),\n",
    "           condition=['Train', 'Valid'],\n",
    "           ci=95,\n",
    "           ax=axes[1],\n",
    "           lw=2)\n",
    "ax1 = axes[1].twinx()\n",
    "sns.tsplot(data=clf_leaves.values, time=time, ax=ax1, ls='--', lw=1, color='k')\n",
    "ax1.set_yscale('log', basey=2)\n",
    "ax1.grid(None)\n",
    "axes[1].set_title('Classification Tree')\n",
    "axes[1].set_ylabel('ROC AUC')\n",
    "axes[1].axvline(x=clf_valid_scores.mean().idxmax(), ls='--', c='k', lw=1)\n",
    "axes[1].axhline(y=classification_benchmark(), ls='-', c='k', lw=1)\n",
    "\n",
    "fig.suptitle(f'Train-Validation Scores', fontsize=18)\n",
    "fig.tight_layout()\n",
    "fig.subplots_adjust(top=.9)"
   ]
  },
  {
   "cell_type": "markdown",
   "metadata": {},
   "source": [
    "### GridSearch"
   ]
  },
  {
   "cell_type": "markdown",
   "metadata": {},
   "source": [
    "sklearn provides a method to define ranges of values for multiple hyperparameters. It automates the process of cross-validating the various combinations of these parameter values to identify the optimal configuration. Let's walk through the process of automatically tuning your model."
   ]
  },
  {
   "cell_type": "markdown",
   "metadata": {},
   "source": [
    "#### Classification Tree"
   ]
  },
  {
   "cell_type": "code",
   "execution_count": 80,
   "metadata": {
    "ExecuteTime": {
     "end_time": "2018-10-31T22:34:16.211483Z",
     "start_time": "2018-10-31T22:06:39.378Z"
    }
   },
   "outputs": [
    {
     "data": {
      "text/plain": [
       "__main__.OneStepTimeSeriesSplit"
      ]
     },
     "execution_count": 80,
     "metadata": {},
     "output_type": "execute_result"
    }
   ],
   "source": [
    "OneStepTimeSeriesSplit"
   ]
  },
  {
   "cell_type": "markdown",
   "metadata": {},
   "source": [
    "The first step is to instantiate a model object and define a dictionary where the keywords name the hyperparameters, and the values list the parameter settings to be tested:"
   ]
  },
  {
   "cell_type": "code",
   "execution_count": 81,
   "metadata": {
    "ExecuteTime": {
     "end_time": "2018-10-31T22:34:16.214633Z",
     "start_time": "2018-10-31T22:06:39.382Z"
    }
   },
   "outputs": [],
   "source": [
    "clf = DecisionTreeClassifier(random_state=42)\n",
    "param_grid = {'max_depth': range(10, 20),\n",
    "              'min_samples_leaf': [250, 500, 750],\n",
    "              'max_features': ['sqrt', 'auto']\n",
    "              }"
   ]
  },
  {
   "cell_type": "markdown",
   "metadata": {},
   "source": [
    "Then, instantiate the GridSearchCV object, providing the estimator object and parameter grid, as well as a scoring method and cross-validation choice to the initialization method. We'll use an object of our custom OneStepTimeSeriesSplit class, initialized to use ten folds for the cv parameter, and set the scoring to the roc_auc metric. We can parallelize the search using the n_jobs parameter and automatically obtain a trained model that uses the optimal hyperparameters by setting `refit=True`."
   ]
  },
  {
   "cell_type": "code",
   "execution_count": 82,
   "metadata": {
    "ExecuteTime": {
     "end_time": "2018-10-31T22:34:16.219459Z",
     "start_time": "2018-10-31T22:06:39.389Z"
    }
   },
   "outputs": [],
   "source": [
    "gridsearch_clf = GridSearchCV(estimator=clf,\n",
    "                          param_grid=param_grid,\n",
    "                          scoring='roc_auc',\n",
    "                          n_jobs=-1,\n",
    "                          cv=cv,\n",
    "                          refit=True,\n",
    "                          return_train_score=True)"
   ]
  },
  {
   "cell_type": "markdown",
   "metadata": {},
   "source": [
    "With all settings in place, we can fit GridSearchCV just like any other model:"
   ]
  },
  {
   "cell_type": "code",
   "execution_count": 83,
   "metadata": {
    "ExecuteTime": {
     "end_time": "2018-10-31T22:34:16.223221Z",
     "start_time": "2018-10-31T22:06:39.392Z"
    }
   },
   "outputs": [
    {
     "data": {
      "text/plain": [
       "GridSearchCV(cv=<__main__.OneStepTimeSeriesSplit object at 0x7f0350898c40>,\n",
       "             error_score=nan,\n",
       "             estimator=DecisionTreeClassifier(ccp_alpha=0.0, class_weight=None,\n",
       "                                              criterion='gini', max_depth=None,\n",
       "                                              max_features=None,\n",
       "                                              max_leaf_nodes=None,\n",
       "                                              min_impurity_decrease=0.0,\n",
       "                                              min_impurity_split=None,\n",
       "                                              min_samples_leaf=1,\n",
       "                                              min_samples_split=2,\n",
       "                                              min_weight_fraction_leaf=0.0,\n",
       "                                              presort='deprecated',\n",
       "                                              random_state=42,\n",
       "                                              splitter='best'),\n",
       "             iid='deprecated', n_jobs=-1,\n",
       "             param_grid={'max_depth': range(10, 20),\n",
       "                         'max_features': ['sqrt', 'auto'],\n",
       "                         'min_samples_leaf': [250, 500, 750]},\n",
       "             pre_dispatch='2*n_jobs', refit=True, return_train_score=True,\n",
       "             scoring='roc_auc', verbose=0)"
      ]
     },
     "execution_count": 83,
     "metadata": {},
     "output_type": "execute_result"
    }
   ],
   "source": [
    "gridsearch_clf.fit(X=X, y=y_binary)"
   ]
  },
  {
   "cell_type": "markdown",
   "metadata": {},
   "source": [
    "The training process produces some new attributes for our GridSearchCV object, most importantly the information about the optimal settings and the best cross-validation score (now using the proper setup that avoids lookahead bias).\n",
    "\n",
    "Setting `max_depth` to 16, `min_samples_leaf` to 750, and randomly selecting only a number corresponding to the square root of the total number of features when deciding on a split, produces the best results, with an AUC of 0.529:\n"
   ]
  },
  {
   "cell_type": "code",
   "execution_count": 84,
   "metadata": {
    "ExecuteTime": {
     "end_time": "2018-10-31T22:34:16.229918Z",
     "start_time": "2018-10-31T22:06:39.397Z"
    }
   },
   "outputs": [
    {
     "data": {
      "text/plain": [
       "{'max_depth': 16, 'max_features': 'sqrt', 'min_samples_leaf': 750}"
      ]
     },
     "execution_count": 84,
     "metadata": {},
     "output_type": "execute_result"
    }
   ],
   "source": [
    "gridsearch_clf.best_params_"
   ]
  },
  {
   "cell_type": "code",
   "execution_count": 85,
   "metadata": {
    "ExecuteTime": {
     "end_time": "2018-10-31T22:34:16.231570Z",
     "start_time": "2018-10-31T22:06:39.402Z"
    }
   },
   "outputs": [
    {
     "data": {
      "text/plain": [
       "0.5288139514218788"
      ]
     },
     "execution_count": 85,
     "metadata": {},
     "output_type": "execute_result"
    }
   ],
   "source": [
    "gridsearch_clf.best_score_"
   ]
  },
  {
   "cell_type": "markdown",
   "metadata": {},
   "source": [
    "#### Regression Tree"
   ]
  },
  {
   "cell_type": "code",
   "execution_count": 86,
   "metadata": {
    "ExecuteTime": {
     "end_time": "2018-10-31T22:34:16.232834Z",
     "start_time": "2018-10-31T22:06:39.408Z"
    }
   },
   "outputs": [],
   "source": [
    "reg_tree = DecisionTreeRegressor(random_state=42)\n",
    "\n",
    "param_grid = {'max_depth': [1,2],\n",
    "              'min_samples_leaf': [10],\n",
    "              'max_features': [None, 'sqrt']\n",
    "              }"
   ]
  },
  {
   "cell_type": "code",
   "execution_count": 87,
   "metadata": {
    "ExecuteTime": {
     "end_time": "2018-10-31T22:34:16.233894Z",
     "start_time": "2018-10-31T22:06:39.412Z"
    }
   },
   "outputs": [],
   "source": [
    "gridsearch_reg = GridSearchCV(estimator=reg_tree,\n",
    "                              param_grid=param_grid,\n",
    "                              scoring='neg_mean_squared_error',\n",
    "                              n_jobs=-1,\n",
    "                              cv=cv,\n",
    "                              refit=True,\n",
    "                              return_train_score=True)"
   ]
  },
  {
   "cell_type": "code",
   "execution_count": 88,
   "metadata": {
    "ExecuteTime": {
     "end_time": "2018-10-31T22:34:16.234974Z",
     "start_time": "2018-10-31T22:06:39.417Z"
    }
   },
   "outputs": [
    {
     "data": {
      "text/plain": [
       "GridSearchCV(cv=<__main__.OneStepTimeSeriesSplit object at 0x7f0350898c40>,\n",
       "             error_score=nan,\n",
       "             estimator=DecisionTreeRegressor(ccp_alpha=0.0, criterion='mse',\n",
       "                                             max_depth=None, max_features=None,\n",
       "                                             max_leaf_nodes=None,\n",
       "                                             min_impurity_decrease=0.0,\n",
       "                                             min_impurity_split=None,\n",
       "                                             min_samples_leaf=1,\n",
       "                                             min_samples_split=2,\n",
       "                                             min_weight_fraction_leaf=0.0,\n",
       "                                             presort='deprecated',\n",
       "                                             random_state=42, splitter='best'),\n",
       "             iid='deprecated', n_jobs=-1,\n",
       "             param_grid={'max_depth': [1, 2], 'max_features': [None, 'sqrt'],\n",
       "                         'min_samples_leaf': [10]},\n",
       "             pre_dispatch='2*n_jobs', refit=True, return_train_score=True,\n",
       "             scoring='neg_mean_squared_error', verbose=0)"
      ]
     },
     "execution_count": 88,
     "metadata": {},
     "output_type": "execute_result"
    }
   ],
   "source": [
    "gridsearch_reg.fit(X=X, y=y)"
   ]
  },
  {
   "cell_type": "code",
   "execution_count": 89,
   "metadata": {
    "ExecuteTime": {
     "end_time": "2018-10-31T22:34:16.240647Z",
     "start_time": "2018-10-31T22:06:39.427Z"
    }
   },
   "outputs": [
    {
     "data": {
      "text/plain": [
       "{'max_depth': 1, 'max_features': None, 'min_samples_leaf': 10}"
      ]
     },
     "execution_count": 89,
     "metadata": {},
     "output_type": "execute_result"
    }
   ],
   "source": [
    "gridsearch_reg.best_params_"
   ]
  },
  {
   "cell_type": "code",
   "execution_count": 90,
   "metadata": {
    "ExecuteTime": {
     "end_time": "2018-10-31T22:34:16.242586Z",
     "start_time": "2018-10-31T22:06:39.441Z"
    }
   },
   "outputs": [
    {
     "data": {
      "text/plain": [
       "0.06602059296953455"
      ]
     },
     "execution_count": 90,
     "metadata": {},
     "output_type": "execute_result"
    }
   ],
   "source": [
    "np.sqrt(-gridsearch_reg.best_score_)"
   ]
  },
  {
   "cell_type": "code",
   "execution_count": 91,
   "metadata": {
    "ExecuteTime": {
     "end_time": "2018-10-31T22:34:16.244244Z",
     "start_time": "2018-10-31T22:06:39.446Z"
    }
   },
   "outputs": [
    {
     "data": {
      "text/plain": [
       "0.06583066067442994"
      ]
     },
     "execution_count": 91,
     "metadata": {},
     "output_type": "execute_result"
    }
   ],
   "source": [
    "regression_benchmark()"
   ]
  },
  {
   "cell_type": "markdown",
   "metadata": {},
   "source": [
    "### Learning Curves"
   ]
  },
  {
   "cell_type": "markdown",
   "metadata": {},
   "source": [
    "A learning curve is a useful tool that displays how the validation and training score evolve as the number of training samples evolves.\n",
    "\n",
    "The purpose of the learning curve is to find out whether and how much the model would benefit from using more data during training. It is also useful to diagnose whether the model's generalization error is more likely driven by bias or variance.\n",
    "\n",
    "If, for example, both the validation score and the training score converge to a similarly low value despite an increasing training set size, the error is more likely due to bias, and additional training data is unlikely to help."
   ]
  },
  {
   "cell_type": "markdown",
   "metadata": {},
   "source": [
    "#### Classifier"
   ]
  },
  {
   "cell_type": "code",
   "execution_count": 92,
   "metadata": {
    "ExecuteTime": {
     "end_time": "2018-10-31T22:34:16.247244Z",
     "start_time": "2018-10-31T22:06:39.453Z"
    }
   },
   "outputs": [],
   "source": [
    "sizes = np.arange(.1, 1.01, .1)"
   ]
  },
  {
   "cell_type": "code",
   "execution_count": 93,
   "metadata": {
    "ExecuteTime": {
     "end_time": "2018-10-31T22:34:16.256493Z",
     "start_time": "2018-10-31T22:06:39.459Z"
    }
   },
   "outputs": [],
   "source": [
    "train_sizes, train_scores, valid_scores = learning_curve(gridsearch_clf.best_estimator_,\n",
    "                                                          X,\n",
    "                                                          y_binary,\n",
    "                                                          train_sizes=sizes,\n",
    "                                                          cv=cv,\n",
    "                                                          scoring='roc_auc',\n",
    "                                                          n_jobs=-1,\n",
    "                                                          shuffle=True,\n",
    "                                                          random_state=42)\n",
    "clf_data = np.dstack((train_scores.T, valid_scores.T))"
   ]
  },
  {
   "cell_type": "code",
   "execution_count": 94,
   "metadata": {
    "ExecuteTime": {
     "end_time": "2018-10-31T22:34:16.261153Z",
     "start_time": "2018-10-31T22:06:39.464Z"
    }
   },
   "outputs": [
    {
     "data": {
      "image/png": "[encoded data removed]",
      "text/plain": [
       "<Figure size 1008x360 with 3 Axes>"
      ]
     },
     "metadata": {},
     "output_type": "display_data"
    }
   ],
   "source": [
    "fig, axes = plt.subplots(ncols=2, figsize=(14, 5))\n",
    "condition = ['Training', 'Validation']\n",
    "sns.tsplot(data=np.dstack((clf_train_scores, clf_valid_scores)),\n",
    "           time=pd.Series(max_depths, name='Max. Depth'),\n",
    "           condition=condition,\n",
    "           ci=95,\n",
    "           ax=axes[0],\n",
    "           lw=2)\n",
    "ax1 = axes[0].twinx()\n",
    "sns.tsplot(data=clf_leaves.values, time=time, ax=ax1, ls='--', lw=1, color='k')\n",
    "ax1.set_yscale('log', basey=2)\n",
    "ax1.grid(None)\n",
    "axes[0].set_title('Cross-Validation Results')\n",
    "axes[0].set_ylabel('ROC AUC')\n",
    "axes[0].axvline(x=clf_valid_scores.mean().idxmax(), ls='--', c='k', lw=1)\n",
    "\n",
    "\n",
    "sns.tsplot(data=clf_data, \n",
    "           time=pd.Series(train_sizes, name='Train Size'), \n",
    "           condition=condition, \n",
    "           ci=95, \n",
    "           ax=axes[1],\n",
    "          lw=2)\n",
    "axes[1].set_title('Learning Curve')\n",
    "axes[1].set_ylabel('ROC AUC')\n",
    "axes[1].xaxis.set_major_formatter(FuncFormatter(lambda x, _: '{:,.0f}'.format(x)))\n",
    "\n",
    "\n",
    "# fig.suptitle(f'Train-Validation Scores', fontsize=18)\n",
    "fig.tight_layout()\n",
    "# fig.subplots_adjust(top=.9)"
   ]
  },
  {
   "cell_type": "markdown",
   "metadata": {},
   "source": [
    "#### Regression Tree"
   ]
  },
  {
   "cell_type": "code",
   "execution_count": 95,
   "metadata": {
    "ExecuteTime": {
     "end_time": "2018-10-31T22:34:16.262507Z",
     "start_time": "2018-10-31T22:06:39.470Z"
    }
   },
   "outputs": [],
   "source": [
    "train_sizes, train_scores, valid_scores = learning_curve(gridsearch_reg.best_estimator_,\n",
    "                                                          X, y,\n",
    "                                                          train_sizes=sizes,\n",
    "                                                          cv=cv,\n",
    "                                                          scoring='neg_mean_squared_error',\n",
    "                                                          n_jobs=-1,\n",
    "                                                          shuffle=True,\n",
    "                                                          random_state=42)\n",
    "reg_data = np.dstack((train_scores.T, valid_scores.T))"
   ]
  },
  {
   "cell_type": "markdown",
   "metadata": {},
   "source": [
    "#### Plot Result"
   ]
  },
  {
   "cell_type": "code",
   "execution_count": 96,
   "metadata": {
    "ExecuteTime": {
     "end_time": "2018-10-31T22:34:16.263636Z",
     "start_time": "2018-10-31T22:06:39.475Z"
    }
   },
   "outputs": [],
   "source": [
    "time = pd.Series(train_sizes, name='Train Size')"
   ]
  },
  {
   "cell_type": "code",
   "execution_count": 97,
   "metadata": {
    "ExecuteTime": {
     "end_time": "2018-10-31T22:34:16.266924Z",
     "start_time": "2018-10-31T22:06:39.480Z"
    }
   },
   "outputs": [
    {
     "data": {
      "image/png": "[encoded data removed]",
      "text/plain": [
       "<Figure size 1008x360 with 2 Axes>"
      ]
     },
     "metadata": {},
     "output_type": "display_data"
    }
   ],
   "source": [
    "fig, axes = plt.subplots(ncols=2, figsize=(14,5))\n",
    "sns.tsplot(data=clf_data, \n",
    "           time=time, \n",
    "           condition=['Train', 'Valid'], \n",
    "           ci=95, \n",
    "           ax=axes[0],\n",
    "          lw=2)\n",
    "axes[0].set_title('Best Classification Tree')\n",
    "axes[0].set_ylabel('ROC AUC')\n",
    "axes[0].xaxis.set_major_formatter(FuncFormatter(lambda x, _: '{:,.0f}'.format(x)))\n",
    "\n",
    "sns.tsplot(data=np.sqrt(-reg_data), \n",
    "           time=time, \n",
    "           condition=['Train', 'Valid'], \n",
    "           ci=95, \n",
    "           ax=axes[1],\n",
    "           lw=2)\n",
    "axes[1].set_title('Best Regression Tree')\n",
    "axes[1].set_ylabel('RMSE')\n",
    "axes[1].yaxis.set_major_formatter(FuncFormatter(lambda y, _: '{:.2%}'.format(y)))\n",
    "axes[1].xaxis.set_major_formatter(FuncFormatter(lambda x, _: '{:,.0f}'.format(x)))\n",
    "fig.suptitle('Learning Curves', fontsize=20)\n",
    "fig.tight_layout()\n",
    "fig.subplots_adjust(top=.9);"
   ]
  },
  {
   "cell_type": "markdown",
   "metadata": {},
   "source": [
    "### Feature Importance"
   ]
  },
  {
   "cell_type": "markdown",
   "metadata": {},
   "source": [
    "Decision trees can not only be visualized to inspect the decision path for a given feature, but also provide a summary measure of the contribution of each feature to the model fit to the training data. \n",
    "\n",
    "The feature importance captures how much the splits produced by the feature helped to optimize the model's metric used to evaluate the split quality, which in our case is the Gini Impurity index. \n",
    "\n",
    "A feature's importance is computed as the (normalized) total reduction of this metric and takes into account the number of samples affected by a split. Hence, features used earlier in the tree where the nodes tend to contain more samples typically are considered of higher importance."
   ]
  },
  {
   "cell_type": "code",
   "execution_count": 98,
   "metadata": {
    "ExecuteTime": {
     "end_time": "2018-10-31T22:34:16.268283Z",
     "start_time": "2018-10-31T22:06:39.485Z"
    }
   },
   "outputs": [],
   "source": [
    "top_n = 15\n",
    "labels = X.columns.str.replace('_', ' ').str.capitalize()\n",
    "fi_clf = (pd.Series(gridsearch_clf.best_estimator_.feature_importances_, \n",
    "                    index=labels).sort_values(ascending=False).iloc[:top_n])\n",
    "fi_reg = (pd.Series(gridsearch_reg.best_estimator_.feature_importances_, \n",
    "                    index=labels).sort_values(ascending=False).iloc[:top_n])"
   ]
  },
  {
   "cell_type": "code",
   "execution_count": 99,
   "metadata": {
    "ExecuteTime": {
     "end_time": "2018-10-31T22:34:16.276682Z",
     "start_time": "2018-10-31T22:06:39.489Z"
    }
   },
   "outputs": [
    {
     "data": {
      "image/png": "[encoded data removed]",
      "text/plain": [
       "<Figure size 864x432 with 2 Axes>"
      ]
     },
     "metadata": {},
     "output_type": "display_data"
    }
   ],
   "source": [
    "fig, axes= plt.subplots(ncols=2, figsize=(12,6))\n",
    "color = cm.Blues(np.linspace(.4,.9, top_n))\n",
    "fi_clf.sort_values().plot.barh(ax=axes[0], title='Classification Tree', color=color)\n",
    "fi_reg.sort_values().plot.barh(ax=axes[1], title='Regression Tree', color=color)\n",
    "fig.suptitle(f'Top {top_n} Feature Importances', fontsize=18)\n",
    "fig.tight_layout()\n",
    "fig.subplots_adjust(top=.9);"
   ]
  },
  {
   "cell_type": "code",
   "execution_count": 100,
   "metadata": {
    "ExecuteTime": {
     "end_time": "2018-10-31T22:34:16.278296Z",
     "start_time": "2018-10-31T22:06:39.493Z"
    }
   },
   "outputs": [
    {
     "data": {
      "image/png": "[encoded data removed]",
      "text/plain": [
       "<Figure size 1008x360 with 2 Axes>"
      ]
     },
     "metadata": {},
     "output_type": "display_data"
    }
   ],
   "source": [
    "fig, axes = plt.subplots(ncols=2, figsize=(14,5))\n",
    "(pd.DataFrame({'Gini': gini(x), \n",
    "              'Entropy': entropy(x),\n",
    "             'Misclassification Rate': misclassification_rate(x)}, index=x)\n",
    " .plot(title='Classification Loss Functions', lw=2, ax=axes[0], ylim=(0, .55)))\n",
    "\n",
    "top_n = 15\n",
    "labels = X.columns.str.replace('_', ' ').str.capitalize()\n",
    "fi_clf = (pd.Series(gridsearch_clf.best_estimator_.feature_importances_, \n",
    "                    index=labels).sort_values(ascending=False).iloc[:top_n])\n",
    "color = cm.Blues(np.linspace(.4,.9, top_n))\n",
    "fi_clf.sort_values().plot.barh(ax=axes[1], title='Feature Importances', color=color)\n",
    "\n",
    "\n",
    "# fig.suptitle('Best Classification Tree', fontsize=20)\n",
    "fig.tight_layout()\n",
    "# fig.subplots_adjust(top=.9);"
   ]
  },
  {
   "cell_type": "code",
   "execution_count": 101,
   "metadata": {
    "ExecuteTime": {
     "end_time": "2018-10-31T22:34:16.279759Z",
     "start_time": "2018-10-31T22:06:39.499Z"
    }
   },
   "outputs": [
    {
     "data": {
      "text/html": [
       "<div>\n",
       "<style scoped>\n",
       "    .dataframe tbody tr th:only-of-type {\n",
       "        vertical-align: middle;\n",
       "    }\n",
       "\n",
       "    .dataframe tbody tr th {\n",
       "        vertical-align: top;\n",
       "    }\n",
       "\n",
       "    .dataframe thead th {\n",
       "        text-align: right;\n",
       "    }\n",
       "</style>\n",
       "<table border=\"1\" class=\"dataframe\">\n",
       "  <thead>\n",
       "    <tr style=\"text-align: right;\">\n",
       "      <th></th>\n",
       "      <th>y</th>\n",
       "      <th>x</th>\n",
       "    </tr>\n",
       "  </thead>\n",
       "  <tbody>\n",
       "    <tr>\n",
       "      <th>0</th>\n",
       "      <td>1</td>\n",
       "      <td>2.0</td>\n",
       "    </tr>\n",
       "    <tr>\n",
       "      <th>1</th>\n",
       "      <td>2</td>\n",
       "      <td>NaN</td>\n",
       "    </tr>\n",
       "    <tr>\n",
       "      <th>2</th>\n",
       "      <td>3</td>\n",
       "      <td>3.0</td>\n",
       "    </tr>\n",
       "  </tbody>\n",
       "</table>\n",
       "</div>"
      ],
      "text/plain": [
       "   y    x\n",
       "0  1  2.0\n",
       "1  2  NaN\n",
       "2  3  3.0"
      ]
     },
     "execution_count": 101,
     "metadata": {},
     "output_type": "execute_result"
    }
   ],
   "source": [
    "dt = pd.DataFrame({'y': [1,2,3], 'x': [2, np.nan, 3]})\n",
    "dt"
   ]
  }
 ],
 "metadata": {
  "kernelspec": {
   "display_name": "Python 3",
   "language": "python",
   "name": "python3"
  },
  "language_info": {
   "codemirror_mode": {
    "name": "ipython",
    "version": 3
   },
   "file_extension": ".py",
   "mimetype": "text/x-python",
   "name": "python",
   "nbconvert_exporter": "python",
   "pygments_lexer": "ipython3",
   "version": "3.8.1"
  },
  "toc": {
   "base_numbering": 1,
   "nav_menu": {},
   "number_sections": true,
   "sideBar": true,
   "skip_h1_title": true,
   "title_cell": "Table of Contents",
   "title_sidebar": "Contents",
   "toc_cell": false,
   "toc_position": {
    "height": "calc(100% - 180px)",
    "left": "10px",
    "top": "150px",
    "width": "343.837px"
   },
   "toc_section_display": true,
   "toc_window_display": true
  }
 },
 "nbformat": 4,
 "nbformat_minor": 2
}
