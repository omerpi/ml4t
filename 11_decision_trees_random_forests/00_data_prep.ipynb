{
 "cells": [
  {
   "cell_type": "markdown",
   "metadata": {},
   "source": [
    "# How to prepare the data\n",
    "\n",
    "We use a simplified version of the data set constructed in Chapter 4, Alpha factor research. It consists of daily stock prices provided by Quandl for the 2010-2017 period and various engineered features. \n",
    " \n",
    "The decision tree models in this chapter are not equipped to handle missing or categorical variables, so we will apply dummy encoding to the latter after dropping any of the former."
   ]
  },
  {
   "cell_type": "code",
   "execution_count": 30,
   "metadata": {},
   "outputs": [],
   "source": [
    "%matplotlib inline\n",
    "import warnings\n",
    "import pandas as pd\n",
    "\n",
    "import matplotlib.pyplot as plt"
   ]
  },
  {
   "cell_type": "code",
   "execution_count": 31,
   "metadata": {},
   "outputs": [],
   "source": [
    "warnings.filterwarnings('ignore')\n",
    "plt.style.use('ggplot')"
   ]
  },
  {
   "cell_type": "markdown",
   "metadata": {},
   "source": [
    "Depending on when you download the us stock metadata from NASDAQ, the number of shared tickers may change as NASDAQA regularly updates this information. As a consequence, the results you obtain when running the samples will be different."
   ]
  },
  {
   "cell_type": "code",
   "execution_count": 32,
   "metadata": {},
   "outputs": [],
   "source": [
    "with pd.HDFStore('../data/assets.h5') as store:\n",
    "    prices = store['quandl/wiki/prices'].adj_close.unstack('ticker')\n",
    "    stocks = store['us_equities/stocks']"
   ]
  },
  {
   "cell_type": "code",
   "execution_count": 33,
   "metadata": {},
   "outputs": [
    {
     "name": "stdout",
     "output_type": "stream",
     "text": [
      "<class 'pandas.core.frame.DataFrame'>\n",
      "Index: 6834 entries, PIH to ZYME\n",
      "Data columns (total 6 columns):\n",
      "name         6834 non-null object\n",
      "lastsale     6718 non-null float64\n",
      "marketcap    5766 non-null float64\n",
      "ipoyear      3038 non-null float64\n",
      "sector       5288 non-null object\n",
      "industry     5288 non-null object\n",
      "dtypes: float64(3), object(3)\n",
      "memory usage: 373.7+ KB\n"
     ]
    }
   ],
   "source": [
    "stocks.info()"
   ]
  },
  {
   "cell_type": "code",
   "execution_count": 34,
   "metadata": {},
   "outputs": [],
   "source": [
    "shared_tickers = prices.columns.intersection(stocks.index)\n",
    "prices = prices.loc['2010': '2018', shared_tickers]\n",
    "stocks = stocks.loc[shared_tickers, ['marketcap', 'ipoyear', 'sector']]"
   ]
  },
  {
   "cell_type": "code",
   "execution_count": 35,
   "metadata": {},
   "outputs": [
    {
     "name": "stdout",
     "output_type": "stream",
     "text": [
      "<class 'pandas.core.frame.DataFrame'>\n",
      "Index: 2412 entries, A to ZUMZ\n",
      "Data columns (total 3 columns):\n",
      "marketcap    2407 non-null float64\n",
      "ipoyear      1065 non-null float64\n",
      "sector       2372 non-null object\n",
      "dtypes: float64(2), object(1)\n",
      "memory usage: 75.4+ KB\n"
     ]
    }
   ],
   "source": [
    "stocks.info()"
   ]
  },
  {
   "cell_type": "code",
   "execution_count": 36,
   "metadata": {},
   "outputs": [
    {
     "name": "stdout",
     "output_type": "stream",
     "text": [
      "<class 'pandas.core.frame.DataFrame'>\n",
      "DatetimeIndex: 2113 entries, 2010-01-04 to 2018-03-27\n",
      "Columns: 2412 entries, A to ZUMZ\n",
      "dtypes: float64(2412)\n",
      "memory usage: 38.9 MB\n"
     ]
    }
   ],
   "source": [
    "prices.info()"
   ]
  },
  {
   "cell_type": "markdown",
   "metadata": {},
   "source": [
    "### Remove outliers"
   ]
  },
  {
   "cell_type": "code",
   "execution_count": 37,
   "metadata": {},
   "outputs": [],
   "source": [
    "returns = prices.resample('M').last().pct_change().stack().swaplevel()\n",
    "returns.index.names = ['ticker', 'date']"
   ]
  },
  {
   "cell_type": "code",
   "execution_count": 38,
   "metadata": {},
   "outputs": [],
   "source": [
    "returns = (returns[returns.between(left=returns.quantile(.05), \n",
    "                                   right=returns.quantile(.95))].to_frame('returns'))"
   ]
  },
  {
   "cell_type": "code",
   "execution_count": 39,
   "metadata": {},
   "outputs": [
    {
     "name": "stdout",
     "output_type": "stream",
     "text": [
      "<class 'pandas.core.frame.DataFrame'>\n",
      "MultiIndex: 200014 entries, (A, 2010-02-28 00:00:00) to (ZTS, 2018-03-31 00:00:00)\n",
      "Data columns (total 1 columns):\n",
      "returns    200014 non-null float64\n",
      "dtypes: float64(1)\n",
      "memory usage: 2.1+ MB\n"
     ]
    }
   ],
   "source": [
    "returns.info()"
   ]
  },
  {
   "cell_type": "markdown",
   "metadata": {},
   "source": [
    "### Lagged returns"
   ]
  },
  {
   "cell_type": "code",
   "execution_count": 40,
   "metadata": {},
   "outputs": [],
   "source": [
    "for t in range(1, 13):\n",
    "    returns[f't-{t}'] = returns.groupby(level='ticker').returns.shift(t)\n",
    "returns = returns.dropna()"
   ]
  },
  {
   "cell_type": "markdown",
   "metadata": {},
   "source": [
    "### Time Period Dummies"
   ]
  },
  {
   "cell_type": "code",
   "execution_count": 41,
   "metadata": {},
   "outputs": [],
   "source": [
    "dates = returns.index.get_level_values('date')\n",
    "returns['year'] = dates.year\n",
    "returns['month'] = dates.month\n",
    "returns = pd.get_dummies(returns, columns=['year', 'month'])"
   ]
  },
  {
   "cell_type": "code",
   "execution_count": 42,
   "metadata": {
    "scrolled": true
   },
   "outputs": [
    {
     "name": "stdout",
     "output_type": "stream",
     "text": [
      "<class 'pandas.core.frame.DataFrame'>\n",
      "MultiIndex: 171162 entries, (AAON, 2011-02-28 00:00:00) to (ZTS, 2018-03-31 00:00:00)\n",
      "Data columns (total 33 columns):\n",
      "returns      171162 non-null float64\n",
      "t-1          171162 non-null float64\n",
      "t-2          171162 non-null float64\n",
      "t-3          171162 non-null float64\n",
      "t-4          171162 non-null float64\n",
      "t-5          171162 non-null float64\n",
      "t-6          171162 non-null float64\n",
      "t-7          171162 non-null float64\n",
      "t-8          171162 non-null float64\n",
      "t-9          171162 non-null float64\n",
      "t-10         171162 non-null float64\n",
      "t-11         171162 non-null float64\n",
      "t-12         171162 non-null float64\n",
      "year_2011    171162 non-null uint8\n",
      "year_2012    171162 non-null uint8\n",
      "year_2013    171162 non-null uint8\n",
      "year_2014    171162 non-null uint8\n",
      "year_2015    171162 non-null uint8\n",
      "year_2016    171162 non-null uint8\n",
      "year_2017    171162 non-null uint8\n",
      "year_2018    171162 non-null uint8\n",
      "month_1      171162 non-null uint8\n",
      "month_2      171162 non-null uint8\n",
      "month_3      171162 non-null uint8\n",
      "month_4      171162 non-null uint8\n",
      "month_5      171162 non-null uint8\n",
      "month_6      171162 non-null uint8\n",
      "month_7      171162 non-null uint8\n",
      "month_8      171162 non-null uint8\n",
      "month_9      171162 non-null uint8\n",
      "month_10     171162 non-null uint8\n",
      "month_11     171162 non-null uint8\n",
      "month_12     171162 non-null uint8\n",
      "dtypes: float64(13), uint8(20)\n",
      "memory usage: 20.7+ MB\n"
     ]
    }
   ],
   "source": [
    "returns.info()"
   ]
  },
  {
   "cell_type": "markdown",
   "metadata": {},
   "source": [
    "### Get stock characteristics"
   ]
  },
  {
   "cell_type": "code",
   "execution_count": 43,
   "metadata": {},
   "outputs": [],
   "source": [
    "stocks['age'] = pd.qcut(stocks.ipoyear, q=5, labels=list(range(1, 6))).astype(float).fillna(0).astype(int)\n",
    "stocks = stocks.drop('ipoyear', axis=1)"
   ]
  },
  {
   "cell_type": "markdown",
   "metadata": {},
   "source": [
    "#### Create size proxy"
   ]
  },
  {
   "cell_type": "code",
   "execution_count": 44,
   "metadata": {},
   "outputs": [
    {
     "data": {
      "text/plain": [
       "ticker\n",
       "A       1.960000e+10\n",
       "AA      8.540000e+09\n",
       "AAL     1.767000e+10\n",
       "AAMC    1.104900e+08\n",
       "AAN     3.200000e+09\n",
       "Name: marketcap, dtype: float64"
      ]
     },
     "execution_count": 44,
     "metadata": {},
     "output_type": "execute_result"
    }
   ],
   "source": [
    "stocks.marketcap.head()"
   ]
  },
  {
   "cell_type": "code",
   "execution_count": 45,
   "metadata": {},
   "outputs": [],
   "source": [
    "stocks['size'] = pd.qcut(stocks.marketcap, q=10, labels=list(range(1, 11)))\n",
    "stocks = stocks.drop(['marketcap'], axis=1)"
   ]
  },
  {
   "cell_type": "code",
   "execution_count": 46,
   "metadata": {},
   "outputs": [
    {
     "name": "stdout",
     "output_type": "stream",
     "text": [
      "<class 'pandas.core.frame.DataFrame'>\n",
      "Index: 2412 entries, A to ZUMZ\n",
      "Data columns (total 3 columns):\n",
      "sector    2372 non-null object\n",
      "age       2412 non-null int64\n",
      "size      2407 non-null category\n",
      "dtypes: category(1), int64(1), object(1)\n",
      "memory usage: 139.3+ KB\n"
     ]
    }
   ],
   "source": [
    "stocks.info()"
   ]
  },
  {
   "cell_type": "code",
   "execution_count": 47,
   "metadata": {},
   "outputs": [
    {
     "name": "stdout",
     "output_type": "stream",
     "text": [
      "<class 'pandas.core.frame.DataFrame'>\n",
      "Index: 2412 entries, A to ZUMZ\n",
      "Data columns (total 28 columns):\n",
      "size_1                   2412 non-null uint8\n",
      "size_2                   2412 non-null uint8\n",
      "size_3                   2412 non-null uint8\n",
      "size_4                   2412 non-null uint8\n",
      "size_5                   2412 non-null uint8\n",
      "size_6                   2412 non-null uint8\n",
      "size_7                   2412 non-null uint8\n",
      "size_8                   2412 non-null uint8\n",
      "size_9                   2412 non-null uint8\n",
      "size_10                  2412 non-null uint8\n",
      "age_0                    2412 non-null uint8\n",
      "age_1                    2412 non-null uint8\n",
      "age_2                    2412 non-null uint8\n",
      "age_3                    2412 non-null uint8\n",
      "age_4                    2412 non-null uint8\n",
      "age_5                    2412 non-null uint8\n",
      "Basic Industries         2412 non-null uint8\n",
      "Capital Goods            2412 non-null uint8\n",
      "Consumer Durables        2412 non-null uint8\n",
      "Consumer Non-Durables    2412 non-null uint8\n",
      "Consumer Services        2412 non-null uint8\n",
      "Energy                   2412 non-null uint8\n",
      "Finance                  2412 non-null uint8\n",
      "Health Care              2412 non-null uint8\n",
      "Miscellaneous            2412 non-null uint8\n",
      "Public Utilities         2412 non-null uint8\n",
      "Technology               2412 non-null uint8\n",
      "Transportation           2412 non-null uint8\n",
      "dtypes: uint8(28)\n",
      "memory usage: 164.8+ KB\n"
     ]
    }
   ],
   "source": [
    "stocks = pd.get_dummies(stocks, \n",
    "                        columns=['size', 'age',  'sector'], \n",
    "                        prefix=['size', 'age', ''], \n",
    "                        prefix_sep=['_', '_', ''])\n",
    "stocks.info()"
   ]
  },
  {
   "cell_type": "markdown",
   "metadata": {},
   "source": [
    "### Combine data"
   ]
  },
  {
   "cell_type": "code",
   "execution_count": 48,
   "metadata": {},
   "outputs": [
    {
     "name": "stdout",
     "output_type": "stream",
     "text": [
      "<class 'pandas.core.frame.DataFrame'>\n",
      "MultiIndex: 171162 entries, (A, 2011-03-31 00:00:00) to (ZUMZ, 2018-02-28 00:00:00)\n",
      "Data columns (total 61 columns):\n",
      "returns                  171162 non-null float64\n",
      "t-1                      171162 non-null float64\n",
      "t-2                      171162 non-null float64\n",
      "t-3                      171162 non-null float64\n",
      "t-4                      171162 non-null float64\n",
      "t-5                      171162 non-null float64\n",
      "t-6                      171162 non-null float64\n",
      "t-7                      171162 non-null float64\n",
      "t-8                      171162 non-null float64\n",
      "t-9                      171162 non-null float64\n",
      "t-10                     171162 non-null float64\n",
      "t-11                     171162 non-null float64\n",
      "t-12                     171162 non-null float64\n",
      "year_2011                171162 non-null uint8\n",
      "year_2012                171162 non-null uint8\n",
      "year_2013                171162 non-null uint8\n",
      "year_2014                171162 non-null uint8\n",
      "year_2015                171162 non-null uint8\n",
      "year_2016                171162 non-null uint8\n",
      "year_2017                171162 non-null uint8\n",
      "year_2018                171162 non-null uint8\n",
      "month_1                  171162 non-null uint8\n",
      "month_2                  171162 non-null uint8\n",
      "month_3                  171162 non-null uint8\n",
      "month_4                  171162 non-null uint8\n",
      "month_5                  171162 non-null uint8\n",
      "month_6                  171162 non-null uint8\n",
      "month_7                  171162 non-null uint8\n",
      "month_8                  171162 non-null uint8\n",
      "month_9                  171162 non-null uint8\n",
      "month_10                 171162 non-null uint8\n",
      "month_11                 171162 non-null uint8\n",
      "month_12                 171162 non-null uint8\n",
      "size_1                   171162 non-null int8\n",
      "size_2                   171162 non-null int8\n",
      "size_3                   171162 non-null int8\n",
      "size_4                   171162 non-null int8\n",
      "size_5                   171162 non-null int8\n",
      "size_6                   171162 non-null int8\n",
      "size_7                   171162 non-null int8\n",
      "size_8                   171162 non-null int8\n",
      "size_9                   171162 non-null int8\n",
      "size_10                  171162 non-null int8\n",
      "age_0                    171162 non-null int8\n",
      "age_1                    171162 non-null int8\n",
      "age_2                    171162 non-null int8\n",
      "age_3                    171162 non-null int8\n",
      "age_4                    171162 non-null int8\n",
      "age_5                    171162 non-null int8\n",
      "Basic Industries         171162 non-null int8\n",
      "Capital Goods            171162 non-null int8\n",
      "Consumer Durables        171162 non-null int8\n",
      "Consumer Non-Durables    171162 non-null int8\n",
      "Consumer Services        171162 non-null int8\n",
      "Energy                   171162 non-null int8\n",
      "Finance                  171162 non-null int8\n",
      "Health Care              171162 non-null int8\n",
      "Miscellaneous            171162 non-null int8\n",
      "Public Utilities         171162 non-null int8\n",
      "Technology               171162 non-null int8\n",
      "Transportation           171162 non-null int8\n",
      "dtypes: float64(13), int8(28), uint8(20)\n",
      "memory usage: 25.3+ MB\n"
     ]
    }
   ],
   "source": [
    "data = (returns\n",
    "        .reset_index('date')\n",
    "        .merge(stocks, left_index=True, right_index=True)\n",
    "        .dropna()\n",
    "        .set_index('date', append=True))\n",
    "\n",
    "s = len(returns.columns)\n",
    "data.iloc[:, s:] = data.iloc[:, s:].astype(int).apply(pd.to_numeric, downcast='integer')\n",
    "data.info()"
   ]
  },
  {
   "cell_type": "markdown",
   "metadata": {},
   "source": [
    "### Store data"
   ]
  },
  {
   "cell_type": "code",
   "execution_count": 49,
   "metadata": {},
   "outputs": [],
   "source": [
    "with pd.HDFStore('data.h5') as store:\n",
    "    store.put('quandl/us/equities', data)"
   ]
  }
 ],
 "metadata": {
  "kernelspec": {
   "display_name": "Python 3",
   "language": "python",
   "name": "python3"
  },
  "language_info": {
   "codemirror_mode": {
    "name": "ipython",
    "version": 3
   },
   "file_extension": ".py",
   "mimetype": "text/x-python",
   "name": "python",
   "nbconvert_exporter": "python",
   "pygments_lexer": "ipython3",
   "version": "3.7.6"
  },
  "toc": {
   "base_numbering": 1,
   "nav_menu": {},
   "number_sections": true,
   "sideBar": true,
   "skip_h1_title": true,
   "title_cell": "Table of Contents",
   "title_sidebar": "Contents",
   "toc_cell": false,
   "toc_position": {
    "height": "calc(100% - 180px)",
    "left": "10px",
    "top": "150px",
    "width": "311.264px"
   },
   "toc_section_display": true,
   "toc_window_display": true
  }
 },
 "nbformat": 4,
 "nbformat_minor": 4
}
