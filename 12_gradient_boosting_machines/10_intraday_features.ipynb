{
 "cells": [
  {
   "cell_type": "markdown",
   "metadata": {},
   "source": [
    "# Feature Engineering for High-Frequency Data"
   ]
  },
  {
   "cell_type": "markdown",
   "metadata": {},
   "source": [
    "## Imports & Settings"
   ]
  },
  {
   "cell_type": "code",
   "execution_count": 3,
   "metadata": {
    "ExecuteTime": {
     "end_time": "2020-05-07T01:08:23.157368Z",
     "start_time": "2020-05-07T01:08:22.386983Z"
    }
   },
   "outputs": [],
   "source": [
    "%matplotlib inline\n",
    "import sys, os\n",
    "from pathlib import Path\n",
    "import numpy as np\n",
    "import pandas as pd\n",
    "import matplotlib.pyplot as plt\n",
    "import seaborn as sns\n",
    "import talib\n",
    "from scipy.stats import pearsonr, spearmanr\n",
    "from talib import RSI, BBANDS, MACD, NATR"
   ]
  },
  {
   "cell_type": "code",
   "execution_count": 4,
   "metadata": {
    "ExecuteTime": {
     "end_time": "2020-05-07T01:08:23.161015Z",
     "start_time": "2020-05-07T01:08:23.158652Z"
    }
   },
   "outputs": [],
   "source": [
    "sns.set_style('whitegrid')\n",
    "idx = pd.IndexSlice"
   ]
  },
  {
   "cell_type": "markdown",
   "metadata": {},
   "source": [
    "## Data prep"
   ]
  },
  {
   "cell_type": "markdown",
   "metadata": {},
   "source": [
    "We use the 'Trade and Quote' dataset."
   ]
  },
  {
   "cell_type": "code",
   "execution_count": 3,
   "metadata": {
    "ExecuteTime": {
     "end_time": "2020-05-06T02:39:56.240932Z",
     "start_time": "2020-05-06T02:39:56.231990Z"
    }
   },
   "outputs": [],
   "source": [
    "as_path = Path('../data/nasdaq100')"
   ]
  },
  {
   "cell_type": "code",
   "execution_count": 4,
   "metadata": {
    "ExecuteTime": {
     "end_time": "2020-05-06T02:39:56.249279Z",
     "start_time": "2020-05-06T02:39:56.241873Z"
    }
   },
   "outputs": [],
   "source": [
    "tcols = ['openbartime', 'firsttradetime',\n",
    "         'highbidtime', 'highasktime', 'hightradetime',\n",
    "         'lowbidtime', 'lowasktime', 'lowtradetime',\n",
    "         'closebartime', 'lasttradetime']"
   ]
  },
  {
   "cell_type": "code",
   "execution_count": 5,
   "metadata": {
    "ExecuteTime": {
     "end_time": "2020-05-06T02:39:56.258557Z",
     "start_time": "2020-05-06T02:39:56.250297Z"
    }
   },
   "outputs": [],
   "source": [
    "drop_cols = ['unknowntickvolume',\n",
    "             'cancelsize',\n",
    "             'tradeatcrossorlocked']"
   ]
  },
  {
   "cell_type": "code",
   "execution_count": 6,
   "metadata": {
    "ExecuteTime": {
     "end_time": "2020-05-06T02:39:56.267088Z",
     "start_time": "2020-05-06T02:39:56.259436Z"
    }
   },
   "outputs": [],
   "source": [
    "keep = ['firsttradeprice', 'hightradeprice', 'lowtradeprice', 'lasttradeprice', \n",
    "        'minspread', 'maxspread',\n",
    "        'volumeweightprice', 'nbboquotecount', \n",
    "        'tradeatbid', 'tradeatbidmid', 'tradeatmid', 'tradeatmidask', 'tradeatask', \n",
    "        'volume', 'totaltrades', 'finravolume', \n",
    "        'finravolumeweightprice', \n",
    "        'uptickvolume', 'downtickvolume', \n",
    "        'repeatuptickvolume', 'repeatdowntickvolume', \n",
    "        'tradetomidvolweight', 'tradetomidvolweightrelative']"
   ]
  },
  {
   "cell_type": "code",
   "execution_count": 7,
   "metadata": {
    "ExecuteTime": {
     "end_time": "2020-05-06T02:39:56.278615Z",
     "start_time": "2020-05-06T02:39:56.267924Z"
    }
   },
   "outputs": [],
   "source": [
    "columns = {'volumeweightprice'          : 'price',\n",
    "           'finravolume'                : 'fvolume',\n",
    "           'finravolumeweightprice'     : 'fprice',\n",
    "           'uptickvolume'               : 'up',\n",
    "           'downtickvolume'             : 'down',\n",
    "           'repeatuptickvolume'         : 'rup',\n",
    "           'repeatdowntickvolume'       : 'rdown',\n",
    "           'firsttradeprice'            : 'first',\n",
    "           'hightradeprice'             : 'high',\n",
    "           'lowtradeprice'              : 'low',\n",
    "           'lasttradeprice'             : 'last',\n",
    "           'nbboquotecount'             : 'nbbo',\n",
    "           'totaltrades'                : 'ntrades',\n",
    "           'openbidprice'               : 'obprice',\n",
    "           'openbidsize'                : 'obsize',\n",
    "           'openaskprice'               : 'oaprice',\n",
    "           'openasksize'                : 'oasize',\n",
    "           'highbidprice'               : 'hbprice',\n",
    "           'highbidsize'                : 'hbsize',\n",
    "           'highaskprice'               : 'haprice',\n",
    "           'highasksize'                : 'hasize',\n",
    "           'lowbidprice'                : 'lbprice',\n",
    "           'lowbidsize'                 : 'lbsize',\n",
    "           'lowaskprice'                : 'laprice',\n",
    "           'lowasksize'                 : 'lasize',\n",
    "           'closebidprice'              : 'cbprice',\n",
    "           'closebidsize'               : 'cbsize',\n",
    "           'closeaskprice'              : 'caprice',\n",
    "           'closeasksize'               : 'casize',\n",
    "           'firsttradesize'             : 'firstsize',\n",
    "           'hightradesize'              : 'highsize',\n",
    "           'lowtradesize'               : 'lowsize',\n",
    "           'lasttradesize'              : 'lastsize',\n",
    "           'tradetomidvolweight'        : 'volweight',\n",
    "           'tradetomidvolweightrelative': 'volweightrel'}"
   ]
  },
  {
   "cell_type": "code",
   "execution_count": 8,
   "metadata": {
    "ExecuteTime": {
     "end_time": "2020-05-06T02:39:56.290254Z",
     "start_time": "2020-05-06T02:39:56.279829Z"
    }
   },
   "outputs": [],
   "source": [
    "def data_to_hdf():\n",
    "    parquet_path = as_path / '1min_taq' / 'parquet'\n",
    "    files = list(parquet_path.glob('*.parquet'))\n",
    "    for year in range(2013, 2018):\n",
    "        print(year)\n",
    "        data = []\n",
    "        for f in files:\n",
    "            if f.stem.startswith(str(year)):\n",
    "                # print(f.stem, end=' ', flush=True)\n",
    "                data.append(pd.read_parquet(f).drop(tcols + drop_cols, axis=1))\n",
    "        data = (pd.concat(data).sort_index()\n",
    "                .reset_index('ticker')\n",
    "                .between_time('9:30', '16:00')\n",
    "                .set_index('ticker', append=True)\n",
    "                .swaplevel()\n",
    "                .rename(columns=columns)\n",
    "                .rename(columns=lambda x: x.replace('tradeat', 'at')))\n",
    "        print(data.info(null_counts=True))\n",
    "        data.to_hdf('algoseek.h5', f'data/{year}')"
   ]
  },
  {
   "cell_type": "code",
   "execution_count": 9,
   "metadata": {
    "ExecuteTime": {
     "end_time": "2020-05-06T02:39:56.302216Z",
     "start_time": "2020-05-06T02:39:56.291194Z"
    }
   },
   "outputs": [],
   "source": [
    "# data_to_hdf()"
   ]
  },
  {
   "cell_type": "markdown",
   "metadata": {},
   "source": [
    "## Loading Algoseek Data"
   ]
  },
  {
   "cell_type": "code",
   "execution_count": 11,
   "metadata": {
    "ExecuteTime": {
     "end_time": "2020-05-06T20:28:36.329099Z",
     "start_time": "2020-05-06T20:28:36.322138Z"
    }
   },
   "outputs": [],
   "source": [
    "ohlcv_cols = ['first', 'high', 'low', 'last', 'price', 'volume']"
   ]
  },
  {
   "cell_type": "code",
   "execution_count": 12,
   "metadata": {
    "ExecuteTime": {
     "end_time": "2020-05-06T20:28:36.713751Z",
     "start_time": "2020-05-06T20:28:36.709326Z"
    }
   },
   "outputs": [],
   "source": [
    "data_cols = ohlcv_cols + ['up', 'down', 'rup', 'rdown', 'atask', 'atbid']"
   ]
  },
  {
   "cell_type": "code",
   "execution_count": 13,
   "metadata": {
    "ExecuteTime": {
     "end_time": "2020-05-06T20:29:24.564413Z",
     "start_time": "2020-05-06T20:28:44.462749Z"
    }
   },
   "outputs": [],
   "source": [
    "years = range(2013, 2018)\n",
    "with pd.HDFStore('algoseek.h5') as store:\n",
    "    df = (pd.concat([store[f'data/{year}']\n",
    "                     .loc[:, data_cols] for year in years])\n",
    "          .sort_index())"
   ]
  },
  {
   "cell_type": "code",
   "execution_count": 14,
   "metadata": {
    "ExecuteTime": {
     "end_time": "2020-05-06T20:39:31.927551Z",
     "start_time": "2020-05-06T20:29:24.565447Z"
    }
   },
   "outputs": [],
   "source": [
    "df.loc[:, ohlcv_cols[:4]] = df.loc[:, ohlcv_cols[:4]].groupby('ticker').fillna(method='ffill')"
   ]
  },
  {
   "cell_type": "code",
   "execution_count": 15,
   "metadata": {
    "ExecuteTime": {
     "end_time": "2020-05-06T20:39:32.706664Z",
     "start_time": "2020-05-06T20:39:31.928555Z"
    }
   },
   "outputs": [
    {
     "name": "stdout",
     "output_type": "stream",
     "text": [
      "<class 'pandas.core.frame.DataFrame'>\n",
      "MultiIndex: 51242505 entries, ('AAL', Timestamp('2014-12-22 09:30:00')) to ('YHOO', Timestamp('2017-06-16 16:00:00'))\n",
      "Data columns (total 12 columns):\n",
      " #   Column  Non-Null Count     Dtype  \n",
      "---  ------  --------------     -----  \n",
      " 0   first   51242500 non-null  float64\n",
      " 1   high    51242500 non-null  float64\n",
      " 2   low     51242500 non-null  float64\n",
      " 3   last    51242500 non-null  float64\n",
      " 4   price   49242369 non-null  float64\n",
      " 5   volume  51242505 non-null  int64  \n",
      " 6   up      51242505 non-null  int64  \n",
      " 7   down    51242505 non-null  int64  \n",
      " 8   rup     51242505 non-null  int64  \n",
      " 9   rdown   51242505 non-null  int64  \n",
      " 10  atask   51242505 non-null  int64  \n",
      " 11  atbid   51242505 non-null  int64  \n",
      "dtypes: float64(5), int64(7)\n",
      "memory usage: 6.1+ GB\n"
     ]
    }
   ],
   "source": [
    "df.info(null_counts=True)"
   ]
  },
  {
   "cell_type": "code",
   "execution_count": 16,
   "metadata": {
    "ExecuteTime": {
     "end_time": "2020-05-06T20:39:36.477117Z",
     "start_time": "2020-05-06T20:39:32.708229Z"
    }
   },
   "outputs": [],
   "source": [
    "df.to_hdf('hf_data.h5', 'data')"
   ]
  },
  {
   "cell_type": "code",
   "execution_count": 3,
   "metadata": {
    "ExecuteTime": {
     "end_time": "2020-05-06T20:23:00.562106Z",
     "start_time": "2020-05-06T20:22:57.335889Z"
    }
   },
   "outputs": [],
   "source": [
    "df = pd.read_hdf('hf_data.h5', 'data')\n",
    "# .loc[idx['AAPL', '2013'], :]"
   ]
  },
  {
   "cell_type": "markdown",
   "metadata": {},
   "source": [
    "## Feature Engineering"
   ]
  },
  {
   "cell_type": "markdown",
   "metadata": {},
   "source": [
    "All of the features above were normalized in a standard fashion\n",
    "by subtracting their means, dividing by their standard deviations, and time-averaging over a recent\n",
    "interval. In order to obtain a finite state space, features were discretized into bins in multiples of\n",
    "standard deviation units"
   ]
  },
  {
   "cell_type": "code",
   "execution_count": 17,
   "metadata": {
    "ExecuteTime": {
     "end_time": "2020-05-06T21:26:22.443848Z",
     "start_time": "2020-05-06T21:26:00.861111Z"
    }
   },
   "outputs": [],
   "source": [
    "df = df.sort_index()\n",
    "df['date'] = pd.to_datetime(df.index.get_level_values('date_time').date)"
   ]
  },
  {
   "cell_type": "code",
   "execution_count": 23,
   "metadata": {
    "ExecuteTime": {
     "end_time": "2020-05-06T21:32:02.189576Z",
     "start_time": "2020-05-06T21:32:01.286395Z"
    }
   },
   "outputs": [
    {
     "name": "stdout",
     "output_type": "stream",
     "text": [
      "<class 'pandas.core.frame.DataFrame'>\n",
      "MultiIndex: 51242505 entries, ('AAL', Timestamp('2014-12-22 09:30:00')) to ('YHOO', Timestamp('2017-06-16 16:00:00'))\n",
      "Data columns (total 13 columns):\n",
      " #   Column  Non-Null Count     Dtype         \n",
      "---  ------  --------------     -----         \n",
      " 0   first   51242500 non-null  float64       \n",
      " 1   high    51242500 non-null  float64       \n",
      " 2   low     51242500 non-null  float64       \n",
      " 3   last    51242500 non-null  float64       \n",
      " 4   price   49242369 non-null  float64       \n",
      " 5   volume  51242505 non-null  int64         \n",
      " 6   up      51242505 non-null  int64         \n",
      " 7   down    51242505 non-null  int64         \n",
      " 8   rup     51242505 non-null  int64         \n",
      " 9   rdown   51242505 non-null  int64         \n",
      " 10  atask   51242505 non-null  int64         \n",
      " 11  atbid   51242505 non-null  int64         \n",
      " 12  date    51242505 non-null  datetime64[ns]\n",
      "dtypes: datetime64[ns](1), float64(5), int64(7)\n",
      "memory usage: 5.3+ GB\n"
     ]
    }
   ],
   "source": [
    "df.info(null_counts=True)"
   ]
  },
  {
   "cell_type": "code",
   "execution_count": 19,
   "metadata": {
    "ExecuteTime": {
     "end_time": "2020-05-06T21:27:00.068778Z",
     "start_time": "2020-05-06T21:26:58.887511Z"
    }
   },
   "outputs": [],
   "source": [
    "by_ticker = df.groupby('ticker', group_keys=False)\n",
    "by_ticker_date = df.groupby(['ticker', 'date'])"
   ]
  },
  {
   "cell_type": "code",
   "execution_count": 20,
   "metadata": {
    "ExecuteTime": {
     "end_time": "2020-05-06T21:27:00.071786Z",
     "start_time": "2020-05-06T21:27:00.069804Z"
    }
   },
   "outputs": [],
   "source": [
    "data = pd.DataFrame(index=df.index)"
   ]
  },
  {
   "cell_type": "code",
   "execution_count": 21,
   "metadata": {
    "ExecuteTime": {
     "end_time": "2020-05-06T21:27:04.657920Z",
     "start_time": "2020-05-06T21:27:04.285620Z"
    }
   },
   "outputs": [],
   "source": [
    "data['date'] = pd.factorize(df['date'], sort=True)[0]"
   ]
  },
  {
   "cell_type": "code",
   "execution_count": 22,
   "metadata": {
    "ExecuteTime": {
     "end_time": "2020-05-06T21:28:37.333549Z",
     "start_time": "2020-05-06T21:27:12.043977Z"
    }
   },
   "outputs": [],
   "source": [
    "data['minute'] = pd.to_timedelta(data.index.get_level_values('date_time').time.astype(str))\n",
    "data.minute = (data.minute.dt.seconds.sub(data.minute.dt.seconds.min()).div(60).astype(int))"
   ]
  },
  {
   "cell_type": "markdown",
   "metadata": {},
   "source": [
    "### Lagged Returns"
   ]
  },
  {
   "cell_type": "code",
   "execution_count": 32,
   "metadata": {
    "ExecuteTime": {
     "end_time": "2020-05-06T21:44:35.620701Z",
     "start_time": "2020-05-06T21:42:11.663156Z"
    }
   },
   "outputs": [
    {
     "name": "stdout",
     "output_type": "stream",
     "text": [
      "1 2 3 4 5 6 7 8 9 10 "
     ]
    }
   ],
   "source": [
    "for t in range(1, 11):\n",
    "    print(t, end=' ', flush=True)\n",
    "    data[f'ret{t}min'] = (df\n",
    "                          .sort_index()\n",
    "                          .groupby(['ticker', 'date'])\n",
    "                          .price\n",
    "                          .pct_change(periods=t, fill_method=None)\n",
    "                          .shift())"
   ]
  },
  {
   "cell_type": "markdown",
   "metadata": {},
   "source": [
    "### Forward Returns"
   ]
  },
  {
   "cell_type": "code",
   "execution_count": 33,
   "metadata": {
    "ExecuteTime": {
     "end_time": "2020-05-06T21:44:48.389761Z",
     "start_time": "2020-05-06T21:44:35.621695Z"
    }
   },
   "outputs": [],
   "source": [
    "data['fwd1min'] = (data\n",
    "                   .sort_index()\n",
    "                   .groupby(['ticker', 'date'])\n",
    "                   .ret1min\n",
    "                   .shift(-1))"
   ]
  },
  {
   "cell_type": "code",
   "execution_count": 34,
   "metadata": {
    "ExecuteTime": {
     "end_time": "2020-05-06T21:44:49.509660Z",
     "start_time": "2020-05-06T21:44:48.390774Z"
    }
   },
   "outputs": [
    {
     "name": "stdout",
     "output_type": "stream",
     "text": [
      "<class 'pandas.core.frame.DataFrame'>\n",
      "MultiIndex: 51242505 entries, ('AAL', Timestamp('2014-12-22 09:30:00')) to ('YHOO', Timestamp('2017-06-16 16:00:00'))\n",
      "Data columns (total 14 columns):\n",
      " #   Column    Non-Null Count     Dtype  \n",
      "---  ------    --------------     -----  \n",
      " 0   date      51242505 non-null  int64  \n",
      " 1   minute    51242505 non-null  int64  \n",
      " 2   ret1min   47691042 non-null  float64\n",
      " 3   ret2min   47538643 non-null  float64\n",
      " 4   ret3min   47404303 non-null  float64\n",
      " 5   ret4min   47278796 non-null  float64\n",
      " 6   ret5min   47156138 non-null  float64\n",
      " 7   ret6min   47020881 non-null  float64\n",
      " 8   ret7min   46889480 non-null  float64\n",
      " 9   ret8min   46762328 non-null  float64\n",
      " 10  ret9min   46633223 non-null  float64\n",
      " 11  ret10min  46511734 non-null  float64\n",
      " 12  fwd1min   47691042 non-null  float64\n",
      " 13  price     49242369 non-null  float64\n",
      "dtypes: float64(12), int64(2)\n",
      "memory usage: 5.6+ GB\n"
     ]
    }
   ],
   "source": [
    "data.info(null_counts=True)"
   ]
  },
  {
   "cell_type": "markdown",
   "metadata": {},
   "source": [
    "### Normalized up/downtick volume"
   ]
  },
  {
   "cell_type": "code",
   "execution_count": 57,
   "metadata": {
    "ExecuteTime": {
     "end_time": "2020-05-06T22:04:46.411562Z",
     "start_time": "2020-05-06T22:04:38.137114Z"
    }
   },
   "outputs": [],
   "source": [
    "data['rup'] = df.rup.div(df.volume)\n",
    "data['up'] = df.up.div(df.volume)\n",
    "data['down'] = df.down.div(df.volume)\n",
    "data['rdown'] = df.rdown.div(df.volume)\n",
    "for f in ['up', 'down', 'rup', 'rdown']:\n",
    "    data[f] = data.groupby(['ticker', 'date'])[f].shift()"
   ]
  },
  {
   "cell_type": "markdown",
   "metadata": {},
   "source": [
    "### Balance of Power"
   ]
  },
  {
   "cell_type": "code",
   "execution_count": 36,
   "metadata": {
    "ExecuteTime": {
     "end_time": "2020-05-06T21:49:09.607381Z",
     "start_time": "2020-05-06T21:48:58.043292Z"
    }
   },
   "outputs": [],
   "source": [
    "data['BOP'] = (by_ticker\n",
    "               .apply(lambda x: talib.BOP(x['first'],\n",
    "                                          x.high,\n",
    "                                          x.low,\n",
    "                                          x['last'])\n",
    "                      .shift()))"
   ]
  },
  {
   "cell_type": "markdown",
   "metadata": {},
   "source": [
    "###  Commodity Channel Index"
   ]
  },
  {
   "cell_type": "code",
   "execution_count": 37,
   "metadata": {
    "ExecuteTime": {
     "end_time": "2020-05-06T21:49:47.952565Z",
     "start_time": "2020-05-06T21:49:35.436992Z"
    }
   },
   "outputs": [],
   "source": [
    "data['CCI'] = (by_ticker\n",
    "               .apply(lambda x: talib.CCI(x.high,\n",
    "                                          x.low,\n",
    "                                          x['last'],\n",
    "                                          timeperiod=14).shift()))"
   ]
  },
  {
   "cell_type": "markdown",
   "metadata": {},
   "source": [
    "### Money Flow Index"
   ]
  },
  {
   "cell_type": "code",
   "execution_count": 38,
   "metadata": {
    "ExecuteTime": {
     "end_time": "2020-05-06T21:49:59.872477Z",
     "start_time": "2020-05-06T21:49:47.953521Z"
    }
   },
   "outputs": [],
   "source": [
    "data['MFI'] = (by_ticker\n",
    "               .apply(lambda x: talib.MFI(x.high,\n",
    "                                          x.low,\n",
    "                                          x['last'],\n",
    "                                          x.volume,\n",
    "                                          timeperiod=14)\n",
    "                      .shift()))"
   ]
  },
  {
   "cell_type": "markdown",
   "metadata": {},
   "source": [
    "### Stochastic RSI"
   ]
  },
  {
   "cell_type": "code",
   "execution_count": 40,
   "metadata": {
    "ExecuteTime": {
     "end_time": "2020-05-06T21:50:29.990118Z",
     "start_time": "2020-05-06T21:50:17.245779Z"
    }
   },
   "outputs": [],
   "source": [
    "data['STOCHRSI'] = (by_ticker.apply(lambda x: talib.STOCHRSI(x['last'],\n",
    "                                                             timeperiod=14,\n",
    "                                                             fastk_period=14,\n",
    "                                                             fastd_period=3,\n",
    "                                                             fastd_matype=0)[0]\n",
    "                                    .shift()))"
   ]
  },
  {
   "cell_type": "markdown",
   "metadata": {},
   "source": [
    "### Stochastic"
   ]
  },
  {
   "cell_type": "code",
   "execution_count": 42,
   "metadata": {
    "ExecuteTime": {
     "end_time": "2020-05-06T21:50:43.277826Z",
     "start_time": "2020-05-06T21:50:43.268646Z"
    }
   },
   "outputs": [],
   "source": [
    "def compute_stoch(x, fastk_period=14, slowk_period=3, \n",
    "                  slowk_matype=0, slowd_period=3, slowd_matype=0):\n",
    "    slowk, slowd = talib.STOCH(x.high, x.low, x['last'],\n",
    "                           fastk_period=fastk_period,\n",
    "                           slowk_period=slowk_period,\n",
    "                           slowk_matype=slowk_matype,\n",
    "                           slowd_period=slowd_period,\n",
    "                           slowd_matype=slowd_matype)\n",
    "    return (slowd/slowk-1).shift()"
   ]
  },
  {
   "cell_type": "code",
   "execution_count": 43,
   "metadata": {
    "ExecuteTime": {
     "end_time": "2020-05-06T21:50:56.248287Z",
     "start_time": "2020-05-06T21:50:43.587194Z"
    }
   },
   "outputs": [],
   "source": [
    "data['STOCH'] = by_ticker.apply(compute_stoch).replace((np.inf, -np.inf), np.nan)"
   ]
  },
  {
   "cell_type": "markdown",
   "metadata": {},
   "source": [
    "### Transaction Volume by price point"
   ]
  },
  {
   "cell_type": "code",
   "execution_count": 45,
   "metadata": {
    "ExecuteTime": {
     "end_time": "2020-05-06T21:51:55.277959Z",
     "start_time": "2020-05-06T21:51:47.340683Z"
    }
   },
   "outputs": [],
   "source": [
    "data['trades_bid_ask'] = df.atask.sub(df.atbid).div(df.volume).replace((np.inf, -np.inf), np.nan)\n",
    "data['trades_bid_ask'] = data.groupby(['ticker', 'date']).trades_bid_ask.shift()"
   ]
  },
  {
   "cell_type": "markdown",
   "metadata": {},
   "source": [
    "### Evaluate features"
   ]
  },
  {
   "cell_type": "code",
   "execution_count": 59,
   "metadata": {
    "ExecuteTime": {
     "end_time": "2020-05-06T22:05:20.822840Z",
     "start_time": "2020-05-06T22:05:20.814673Z"
    }
   },
   "outputs": [],
   "source": [
    "features = ['ret1min', 'ret2min', 'ret3min', 'ret4min', 'ret5min', \n",
    "            'ret6min', 'ret7min', 'ret8min', 'ret9min', 'ret10min',\n",
    "            'rup', 'up', 'down', 'rdown', \n",
    "            'BOP', 'CCI', 'MFI', 'STOCHRSI', 'STOCH', \n",
    "            'trades_bid_ask']"
   ]
  },
  {
   "cell_type": "code",
   "execution_count": 60,
   "metadata": {
    "ExecuteTime": {
     "end_time": "2020-05-06T22:13:21.560351Z",
     "start_time": "2020-05-06T22:05:26.403664Z"
    }
   },
   "outputs": [],
   "source": [
    "ic = {}\n",
    "for feature in features:\n",
    "    print(feature)\n",
    "    df_ = data[['fwd1min', feature]].dropna()\n",
    "    ic[feature] = spearmanr(df_.fwd1min, df_[feature])\n",
    "ic = pd.Series(ic).apply(pd.Series)\n",
    "ic.columns = ['IC', 'p-value']    "
   ]
  },
  {
   "cell_type": "code",
   "execution_count": 61,
   "metadata": {
    "ExecuteTime": {
     "end_time": "2020-05-06T22:13:21.571214Z",
     "start_time": "2020-05-06T22:13:21.561679Z"
    },
    "scrolled": false
   },
   "outputs": [
    {
     "data": {
      "text/html": [
       "<div>\n",
       "<style scoped>\n",
       "    .dataframe tbody tr th:only-of-type {\n",
       "        vertical-align: middle;\n",
       "    }\n",
       "\n",
       "    .dataframe tbody tr th {\n",
       "        vertical-align: top;\n",
       "    }\n",
       "\n",
       "    .dataframe thead th {\n",
       "        text-align: right;\n",
       "    }\n",
       "</style>\n",
       "<table border=\"1\" class=\"dataframe\">\n",
       "  <thead>\n",
       "    <tr style=\"text-align: right;\">\n",
       "      <th></th>\n",
       "      <th>IC</th>\n",
       "      <th>p-value</th>\n",
       "    </tr>\n",
       "  </thead>\n",
       "  <tbody>\n",
       "    <tr>\n",
       "      <th>STOCHRSI</th>\n",
       "      <td>-0.012161</td>\n",
       "      <td>0.000000e+00</td>\n",
       "    </tr>\n",
       "    <tr>\n",
       "      <th>rup</th>\n",
       "      <td>-0.008730</td>\n",
       "      <td>0.000000e+00</td>\n",
       "    </tr>\n",
       "    <tr>\n",
       "      <th>CCI</th>\n",
       "      <td>-0.008702</td>\n",
       "      <td>0.000000e+00</td>\n",
       "    </tr>\n",
       "    <tr>\n",
       "      <th>trades_bid_ask</th>\n",
       "      <td>-0.007411</td>\n",
       "      <td>0.000000e+00</td>\n",
       "    </tr>\n",
       "    <tr>\n",
       "      <th>BOP</th>\n",
       "      <td>-0.006446</td>\n",
       "      <td>0.000000e+00</td>\n",
       "    </tr>\n",
       "    <tr>\n",
       "      <th>MFI</th>\n",
       "      <td>-0.003607</td>\n",
       "      <td>5.702215e-137</td>\n",
       "    </tr>\n",
       "    <tr>\n",
       "      <th>up</th>\n",
       "      <td>0.000075</td>\n",
       "      <td>6.058337e-01</td>\n",
       "    </tr>\n",
       "    <tr>\n",
       "      <th>down</th>\n",
       "      <td>0.002202</td>\n",
       "      <td>2.631280e-51</td>\n",
       "    </tr>\n",
       "    <tr>\n",
       "      <th>rdown</th>\n",
       "      <td>0.009543</td>\n",
       "      <td>0.000000e+00</td>\n",
       "    </tr>\n",
       "    <tr>\n",
       "      <th>STOCH</th>\n",
       "      <td>0.009694</td>\n",
       "      <td>0.000000e+00</td>\n",
       "    </tr>\n",
       "    <tr>\n",
       "      <th>ret10min</th>\n",
       "      <td>0.036972</td>\n",
       "      <td>0.000000e+00</td>\n",
       "    </tr>\n",
       "    <tr>\n",
       "      <th>ret9min</th>\n",
       "      <td>0.038354</td>\n",
       "      <td>0.000000e+00</td>\n",
       "    </tr>\n",
       "    <tr>\n",
       "      <th>ret8min</th>\n",
       "      <td>0.042074</td>\n",
       "      <td>0.000000e+00</td>\n",
       "    </tr>\n",
       "    <tr>\n",
       "      <th>ret7min</th>\n",
       "      <td>0.047249</td>\n",
       "      <td>0.000000e+00</td>\n",
       "    </tr>\n",
       "    <tr>\n",
       "      <th>ret6min</th>\n",
       "      <td>0.052952</td>\n",
       "      <td>0.000000e+00</td>\n",
       "    </tr>\n",
       "    <tr>\n",
       "      <th>ret5min</th>\n",
       "      <td>0.057132</td>\n",
       "      <td>0.000000e+00</td>\n",
       "    </tr>\n",
       "    <tr>\n",
       "      <th>ret4min</th>\n",
       "      <td>0.063343</td>\n",
       "      <td>0.000000e+00</td>\n",
       "    </tr>\n",
       "    <tr>\n",
       "      <th>ret3min</th>\n",
       "      <td>0.078499</td>\n",
       "      <td>0.000000e+00</td>\n",
       "    </tr>\n",
       "    <tr>\n",
       "      <th>ret2min</th>\n",
       "      <td>0.103877</td>\n",
       "      <td>0.000000e+00</td>\n",
       "    </tr>\n",
       "    <tr>\n",
       "      <th>ret1min</th>\n",
       "      <td>0.171071</td>\n",
       "      <td>0.000000e+00</td>\n",
       "    </tr>\n",
       "  </tbody>\n",
       "</table>\n",
       "</div>"
      ],
      "text/plain": [
       "                      IC        p-value\n",
       "STOCHRSI       -0.012161   0.000000e+00\n",
       "rup            -0.008730   0.000000e+00\n",
       "CCI            -0.008702   0.000000e+00\n",
       "trades_bid_ask -0.007411   0.000000e+00\n",
       "BOP            -0.006446   0.000000e+00\n",
       "MFI            -0.003607  5.702215e-137\n",
       "up              0.000075   6.058337e-01\n",
       "down            0.002202   2.631280e-51\n",
       "rdown           0.009543   0.000000e+00\n",
       "STOCH           0.009694   0.000000e+00\n",
       "ret10min        0.036972   0.000000e+00\n",
       "ret9min         0.038354   0.000000e+00\n",
       "ret8min         0.042074   0.000000e+00\n",
       "ret7min         0.047249   0.000000e+00\n",
       "ret6min         0.052952   0.000000e+00\n",
       "ret5min         0.057132   0.000000e+00\n",
       "ret4min         0.063343   0.000000e+00\n",
       "ret3min         0.078499   0.000000e+00\n",
       "ret2min         0.103877   0.000000e+00\n",
       "ret1min         0.171071   0.000000e+00"
      ]
     },
     "execution_count": 61,
     "metadata": {},
     "output_type": "execute_result"
    }
   ],
   "source": [
    "ic.sort_values('IC')"
   ]
  },
  {
   "cell_type": "code",
   "execution_count": 21,
   "metadata": {
    "ExecuteTime": {
     "end_time": "2020-05-07T01:18:18.709985Z",
     "start_time": "2020-05-07T01:18:18.111348Z"
    }
   },
   "outputs": [
    {
     "data": {
      "image/png": "[encoded data removed]",
      "text/plain": [
       "<Figure size 1008x288 with 1 Axes>"
      ]
     },
     "metadata": {},
     "output_type": "display_data"
    }
   ],
   "source": [
    "ic.index = ic.index.map(str.upper)\n",
    "ax = ic['IC'].sort_values(ascending=False).mul(100).plot.bar(figsize=(14, 4), \n",
    "                                                        title='Information Coeficient for HF Features (1-min forward returns)',\n",
    "                                                       rot=0)\n",
    "ax.set_ylabel('Information Coefficient')\n",
    "plt.tight_layout()\n",
    "plt.savefig('figures/hft_ic', dpi=300);"
   ]
  },
  {
   "cell_type": "code",
   "execution_count": 63,
   "metadata": {
    "ExecuteTime": {
     "end_time": "2020-05-06T22:13:21.804517Z",
     "start_time": "2020-05-06T22:13:21.796644Z"
    }
   },
   "outputs": [],
   "source": [
    "ic.sort_values('IC').to_csv('hf_ic.csv')"
   ]
  },
  {
   "cell_type": "markdown",
   "metadata": {},
   "source": [
    "### Store results"
   ]
  },
  {
   "cell_type": "code",
   "execution_count": 65,
   "metadata": {
    "ExecuteTime": {
     "end_time": "2020-05-06T22:16:33.894563Z",
     "start_time": "2020-05-06T22:16:11.668290Z"
    }
   },
   "outputs": [],
   "source": [
    "data.drop(['date', 'up', 'down'], axis=1).to_hdf('hf_data.h5', 'model_data')"
   ]
  },
  {
   "cell_type": "code",
   "execution_count": 64,
   "metadata": {
    "ExecuteTime": {
     "end_time": "2020-05-06T22:14:55.102481Z",
     "start_time": "2020-05-06T22:14:53.147119Z"
    }
   },
   "outputs": [
    {
     "name": "stdout",
     "output_type": "stream",
     "text": [
      "<class 'pandas.core.frame.DataFrame'>\n",
      "MultiIndex: 51242505 entries, ('AAL', Timestamp('2014-12-22 09:30:00')) to ('YHOO', Timestamp('2017-06-16 16:00:00'))\n",
      "Data columns (total 24 columns):\n",
      " #   Column          Non-Null Count     Dtype  \n",
      "---  ------          --------------     -----  \n",
      " 0   date            51242505 non-null  int64  \n",
      " 1   minute          51242505 non-null  int64  \n",
      " 2   ret1min         47691042 non-null  float64\n",
      " 3   ret2min         47538643 non-null  float64\n",
      " 4   ret3min         47404303 non-null  float64\n",
      " 5   ret4min         47278796 non-null  float64\n",
      " 6   ret5min         47156138 non-null  float64\n",
      " 7   ret6min         47020881 non-null  float64\n",
      " 8   ret7min         46889480 non-null  float64\n",
      " 9   ret8min         46762328 non-null  float64\n",
      " 10  ret9min         46633223 non-null  float64\n",
      " 11  ret10min        46511734 non-null  float64\n",
      " 12  fwd1min         47691042 non-null  float64\n",
      " 13  price           49242369 non-null  float64\n",
      " 14  rup             49398844 non-null  float64\n",
      " 15  up              49741283 non-null  float64\n",
      " 16  down            49729027 non-null  float64\n",
      " 17  rdown           49357341 non-null  float64\n",
      " 18  BOP             51242344 non-null  float64\n",
      " 19  CCI             51240316 non-null  float64\n",
      " 20  MFI             51240160 non-null  float64\n",
      " 21  STOCHRSI        51237820 non-null  float64\n",
      " 22  STOCH           51239148 non-null  float64\n",
      " 23  trades_bid_ask  49112527 non-null  float64\n",
      "dtypes: float64(22), int64(2)\n",
      "memory usage: 9.5+ GB\n"
     ]
    }
   ],
   "source": [
    "data.info(null_counts=True)"
   ]
  }
 ],
 "metadata": {
  "kernelspec": {
   "display_name": "Python 3",
   "language": "python",
   "name": "python3"
  },
  "language_info": {
   "codemirror_mode": {
    "name": "ipython",
    "version": 3
   },
   "file_extension": ".py",
   "mimetype": "text/x-python",
   "name": "python",
   "nbconvert_exporter": "python",
   "pygments_lexer": "ipython3",
   "version": "3.7.7"
  },
  "toc": {
   "base_numbering": 1,
   "nav_menu": {},
   "number_sections": true,
   "sideBar": true,
   "skip_h1_title": true,
   "title_cell": "Table of Contents",
   "title_sidebar": "Contents",
   "toc_cell": false,
   "toc_position": {},
   "toc_section_display": true,
   "toc_window_display": true
  }
 },
 "nbformat": 4,
 "nbformat_minor": 2
}
