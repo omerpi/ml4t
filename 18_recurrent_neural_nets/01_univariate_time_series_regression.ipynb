{
 "cells": [
  {
   "cell_type": "markdown",
   "metadata": {},
   "source": [
    "# Recurrent Neural Networks"
   ]
  },
  {
   "cell_type": "markdown",
   "metadata": {},
   "source": [
    "## Univariate Time Series Regression"
   ]
  },
  {
   "cell_type": "markdown",
   "metadata": {},
   "source": [
    "## Imports"
   ]
  },
  {
   "cell_type": "code",
   "execution_count": 2,
   "metadata": {},
   "outputs": [
    {
     "name": "stderr",
     "output_type": "stream",
     "text": [
      "Using TensorFlow backend.\n"
     ]
    }
   ],
   "source": [
    "%matplotlib inline\n",
    "import numpy as np\n",
    "import pandas as pd\n",
    "import matplotlib.pyplot as plt\n",
    "import seaborn as sns\n",
    "import pandas_datareader.data as web\n",
    "from datetime import datetime, date\n",
    "from sklearn.metrics import mean_squared_error, roc_auc_score\n",
    "from sklearn.preprocessing import minmax_scale\n",
    "from keras.callbacks import ModelCheckpoint, EarlyStopping\n",
    "from keras.models import Sequential\n",
    "from keras.layers import Dense, LSTM\n",
    "import keras"
   ]
  },
  {
   "cell_type": "code",
   "execution_count": 287,
   "metadata": {},
   "outputs": [],
   "source": [
    "sns.set_style('whitegrid')\n",
    "np.random.seed(42)"
   ]
  },
  {
   "cell_type": "markdown",
   "metadata": {},
   "source": [
    "## Get Data"
   ]
  },
  {
   "cell_type": "code",
   "execution_count": 211,
   "metadata": {},
   "outputs": [
    {
     "name": "stdout",
     "output_type": "stream",
     "text": [
      "<class 'pandas.core.frame.DataFrame'>\n",
      "DatetimeIndex: 2264 entries, 2010-01-04 to 2018-12-31\n",
      "Data columns (total 1 columns):\n",
      "SP500    2264 non-null float64\n",
      "dtypes: float64(1)\n",
      "memory usage: 35.4 KB\n"
     ]
    }
   ],
   "source": [
    "sp500 = web.DataReader('SP500', 'fred', start='2010', end='2019').dropna()\n",
    "sp500.info()"
   ]
  },
  {
   "cell_type": "markdown",
   "metadata": {},
   "source": [
    "## Preprocessing"
   ]
  },
  {
   "cell_type": "code",
   "execution_count": 212,
   "metadata": {},
   "outputs": [
    {
     "data": {
      "text/html": [
       "<div>\n",
       "<style scoped>\n",
       "    .dataframe tbody tr th:only-of-type {\n",
       "        vertical-align: middle;\n",
       "    }\n",
       "\n",
       "    .dataframe tbody tr th {\n",
       "        vertical-align: top;\n",
       "    }\n",
       "\n",
       "    .dataframe thead th {\n",
       "        text-align: right;\n",
       "    }\n",
       "</style>\n",
       "<table border=\"1\" class=\"dataframe\">\n",
       "  <thead>\n",
       "    <tr style=\"text-align: right;\">\n",
       "      <th></th>\n",
       "      <th>SP500</th>\n",
       "    </tr>\n",
       "  </thead>\n",
       "  <tbody>\n",
       "    <tr>\n",
       "      <th>count</th>\n",
       "      <td>2264.000000</td>\n",
       "    </tr>\n",
       "    <tr>\n",
       "      <th>mean</th>\n",
       "      <td>0.437175</td>\n",
       "    </tr>\n",
       "    <tr>\n",
       "      <th>std</th>\n",
       "      <td>0.272843</td>\n",
       "    </tr>\n",
       "    <tr>\n",
       "      <th>min</th>\n",
       "      <td>0.000000</td>\n",
       "    </tr>\n",
       "    <tr>\n",
       "      <th>25%</th>\n",
       "      <td>0.172811</td>\n",
       "    </tr>\n",
       "    <tr>\n",
       "      <th>50%</th>\n",
       "      <td>0.462480</td>\n",
       "    </tr>\n",
       "    <tr>\n",
       "      <th>75%</th>\n",
       "      <td>0.600596</td>\n",
       "    </tr>\n",
       "    <tr>\n",
       "      <th>max</th>\n",
       "      <td>1.000000</td>\n",
       "    </tr>\n",
       "  </tbody>\n",
       "</table>\n",
       "</div>"
      ],
      "text/plain": [
       "             SP500\n",
       "count  2264.000000\n",
       "mean      0.437175\n",
       "std       0.272843\n",
       "min       0.000000\n",
       "25%       0.172811\n",
       "50%       0.462480\n",
       "75%       0.600596\n",
       "max       1.000000"
      ]
     },
     "execution_count": 212,
     "metadata": {},
     "output_type": "execute_result"
    }
   ],
   "source": [
    "sp500_scaled = sp500.apply(minmax_scale)\n",
    "sp500_scaled.describe()"
   ]
  },
  {
   "cell_type": "code",
   "execution_count": 89,
   "metadata": {},
   "outputs": [
    {
     "data": {
      "text/plain": [
       "(2201, 1)"
      ]
     },
     "execution_count": 89,
     "metadata": {},
     "output_type": "execute_result"
    }
   ],
   "source": [
    "y.shape"
   ]
  },
  {
   "cell_type": "markdown",
   "metadata": {},
   "source": [
    "## Generating recurrent sequences from our time series\n",
    "\n",
    "Our time series is a sequence of numbers indexed by time:\n",
    "\n",
    "$$x_{0},x_{1},x_{2},...,x_{T}$$\n",
    "\n",
    "where $\\{x_t\\}$ is the numerical value in period $t$ and  $T$ is the total length of the series. \n",
    "\n",
    "To apply a RNN for regression of classification, we use a sliding window to construct a rolling set of input/output pairs for our model to learn from as animated below.\n",
    "\n",
    "<img src=\"images/timeseries_windowing.gif\" width=600 height=600/>"
   ]
  },
  {
   "cell_type": "markdown",
   "metadata": {},
   "source": [
    "A window of size S = 5 (as illustrated above) produces input/output pairs like those in the table below\n",
    "\n",
    "$$\\begin{array}{c|c}\n",
    "\\text{Input} & \\text{Output}\\\\\n",
    "\\hline  {\\langle x_1,x_2,x_3,x_4,x_5\\rangle} & { x_6} \\\\\n",
    "\\ {\\langle x_{2},x_{3},x_{4},x_{5},x_{6} \\rangle } & {x_{7} } \\\\\n",
    "  {\\vdots} & {\\vdots}\\\\\n",
    " { \\langle x_{T-5},x_{T-4},x_{T-3},x_{T-2},x_{T-1} \\rangle } &  {x_{T}}\n",
    "\\end{array}$$"
   ]
  },
  {
   "cell_type": "markdown",
   "metadata": {},
   "source": [
    "Generally speaking, for window size S, the relationship takes the form \n",
    "\n",
    "$$x_t = f( x_{t-1}, x_{t-2}, ..., x_{t-S}) \\quad\\forall t=S, S+1, ..., T$$\n",
    "\n",
    "Each of the $T-S$ lagged input sequence or vector is of length S with a corresponding scalar output."
   ]
  },
  {
   "cell_type": "code",
   "execution_count": 9,
   "metadata": {},
   "outputs": [],
   "source": [
    "def create_univariate_rnn_data(data, window_size):\n",
    "    y = data[window_size:]\n",
    "    data = data.values.reshape(-1, 1) # make 2D\n",
    "    n = data.shape[0]\n",
    "    X = np.hstack(tuple([data[i: n-j, :] for i, j in enumerate(range(window_size, 0, -1))]))\n",
    "    return pd.DataFrame(X, index=y.index), y"
   ]
  },
  {
   "cell_type": "code",
   "execution_count": 82,
   "metadata": {},
   "outputs": [],
   "source": [
    "window_size = 63"
   ]
  },
  {
   "cell_type": "code",
   "execution_count": 83,
   "metadata": {},
   "outputs": [],
   "source": [
    "X, y = create_univariate_rnn_data(sp500_scaled, window_size=window_size)"
   ]
  },
  {
   "cell_type": "code",
   "execution_count": 85,
   "metadata": {},
   "outputs": [
    {
     "data": {
      "text/html": [
       "<div>\n",
       "<style scoped>\n",
       "    .dataframe tbody tr th:only-of-type {\n",
       "        vertical-align: middle;\n",
       "    }\n",
       "\n",
       "    .dataframe tbody tr th {\n",
       "        vertical-align: top;\n",
       "    }\n",
       "\n",
       "    .dataframe thead th {\n",
       "        text-align: right;\n",
       "    }\n",
       "</style>\n",
       "<table border=\"1\" class=\"dataframe\">\n",
       "  <thead>\n",
       "    <tr style=\"text-align: right;\">\n",
       "      <th></th>\n",
       "      <th>0</th>\n",
       "      <th>1</th>\n",
       "      <th>2</th>\n",
       "      <th>3</th>\n",
       "      <th>4</th>\n",
       "      <th>5</th>\n",
       "      <th>6</th>\n",
       "      <th>7</th>\n",
       "      <th>8</th>\n",
       "      <th>9</th>\n",
       "      <th>...</th>\n",
       "      <th>53</th>\n",
       "      <th>54</th>\n",
       "      <th>55</th>\n",
       "      <th>56</th>\n",
       "      <th>57</th>\n",
       "      <th>58</th>\n",
       "      <th>59</th>\n",
       "      <th>60</th>\n",
       "      <th>61</th>\n",
       "      <th>62</th>\n",
       "    </tr>\n",
       "    <tr>\n",
       "      <th>DATE</th>\n",
       "      <th></th>\n",
       "      <th></th>\n",
       "      <th></th>\n",
       "      <th></th>\n",
       "      <th></th>\n",
       "      <th></th>\n",
       "      <th></th>\n",
       "      <th></th>\n",
       "      <th></th>\n",
       "      <th></th>\n",
       "      <th></th>\n",
       "      <th></th>\n",
       "      <th></th>\n",
       "      <th></th>\n",
       "      <th></th>\n",
       "      <th></th>\n",
       "      <th></th>\n",
       "      <th></th>\n",
       "      <th></th>\n",
       "      <th></th>\n",
       "      <th></th>\n",
       "    </tr>\n",
       "  </thead>\n",
       "  <tbody>\n",
       "    <tr>\n",
       "      <th>2010-04-06</th>\n",
       "      <td>0.057862</td>\n",
       "      <td>0.059712</td>\n",
       "      <td>0.060037</td>\n",
       "      <td>0.062421</td>\n",
       "      <td>0.064145</td>\n",
       "      <td>0.065193</td>\n",
       "      <td>0.059554</td>\n",
       "      <td>0.064512</td>\n",
       "      <td>0.065969</td>\n",
       "      <td>0.059455</td>\n",
       "      <td>...</td>\n",
       "      <td>0.075061</td>\n",
       "      <td>0.079443</td>\n",
       "      <td>0.076062</td>\n",
       "      <td>0.075020</td>\n",
       "      <td>0.075470</td>\n",
       "      <td>0.078945</td>\n",
       "      <td>0.078971</td>\n",
       "      <td>0.076959</td>\n",
       "      <td>0.081502</td>\n",
       "      <td>0.086397</td>\n",
       "    </tr>\n",
       "    <tr>\n",
       "      <th>2010-04-07</th>\n",
       "      <td>0.059712</td>\n",
       "      <td>0.060037</td>\n",
       "      <td>0.062421</td>\n",
       "      <td>0.064145</td>\n",
       "      <td>0.065193</td>\n",
       "      <td>0.059554</td>\n",
       "      <td>0.064512</td>\n",
       "      <td>0.065969</td>\n",
       "      <td>0.059455</td>\n",
       "      <td>0.066897</td>\n",
       "      <td>...</td>\n",
       "      <td>0.079443</td>\n",
       "      <td>0.076062</td>\n",
       "      <td>0.075020</td>\n",
       "      <td>0.075470</td>\n",
       "      <td>0.078945</td>\n",
       "      <td>0.078971</td>\n",
       "      <td>0.076959</td>\n",
       "      <td>0.081502</td>\n",
       "      <td>0.086397</td>\n",
       "      <td>0.087445</td>\n",
       "    </tr>\n",
       "    <tr>\n",
       "      <th>2010-04-08</th>\n",
       "      <td>0.060037</td>\n",
       "      <td>0.062421</td>\n",
       "      <td>0.064145</td>\n",
       "      <td>0.065193</td>\n",
       "      <td>0.059554</td>\n",
       "      <td>0.064512</td>\n",
       "      <td>0.065969</td>\n",
       "      <td>0.059455</td>\n",
       "      <td>0.066897</td>\n",
       "      <td>0.060508</td>\n",
       "      <td>...</td>\n",
       "      <td>0.076062</td>\n",
       "      <td>0.075020</td>\n",
       "      <td>0.075470</td>\n",
       "      <td>0.078945</td>\n",
       "      <td>0.078971</td>\n",
       "      <td>0.076959</td>\n",
       "      <td>0.081502</td>\n",
       "      <td>0.086397</td>\n",
       "      <td>0.087445</td>\n",
       "      <td>0.083782</td>\n",
       "    </tr>\n",
       "    <tr>\n",
       "      <th>2010-04-09</th>\n",
       "      <td>0.062421</td>\n",
       "      <td>0.064145</td>\n",
       "      <td>0.065193</td>\n",
       "      <td>0.059554</td>\n",
       "      <td>0.064512</td>\n",
       "      <td>0.065969</td>\n",
       "      <td>0.059455</td>\n",
       "      <td>0.066897</td>\n",
       "      <td>0.060508</td>\n",
       "      <td>0.049209</td>\n",
       "      <td>...</td>\n",
       "      <td>0.075020</td>\n",
       "      <td>0.075470</td>\n",
       "      <td>0.078945</td>\n",
       "      <td>0.078971</td>\n",
       "      <td>0.076959</td>\n",
       "      <td>0.081502</td>\n",
       "      <td>0.086397</td>\n",
       "      <td>0.087445</td>\n",
       "      <td>0.083782</td>\n",
       "      <td>0.085873</td>\n",
       "    </tr>\n",
       "    <tr>\n",
       "      <th>2010-04-12</th>\n",
       "      <td>0.064145</td>\n",
       "      <td>0.065193</td>\n",
       "      <td>0.059554</td>\n",
       "      <td>0.064512</td>\n",
       "      <td>0.065969</td>\n",
       "      <td>0.059455</td>\n",
       "      <td>0.066897</td>\n",
       "      <td>0.060508</td>\n",
       "      <td>0.049209</td>\n",
       "      <td>0.036255</td>\n",
       "      <td>...</td>\n",
       "      <td>0.075470</td>\n",
       "      <td>0.078945</td>\n",
       "      <td>0.078971</td>\n",
       "      <td>0.076959</td>\n",
       "      <td>0.081502</td>\n",
       "      <td>0.086397</td>\n",
       "      <td>0.087445</td>\n",
       "      <td>0.083782</td>\n",
       "      <td>0.085873</td>\n",
       "      <td>0.090029</td>\n",
       "    </tr>\n",
       "  </tbody>\n",
       "</table>\n",
       "<p>5 rows × 63 columns</p>\n",
       "</div>"
      ],
      "text/plain": [
       "                  0         1         2         3         4         5   \\\n",
       "DATE                                                                     \n",
       "2010-04-06  0.057862  0.059712  0.060037  0.062421  0.064145  0.065193   \n",
       "2010-04-07  0.059712  0.060037  0.062421  0.064145  0.065193  0.059554   \n",
       "2010-04-08  0.060037  0.062421  0.064145  0.065193  0.059554  0.064512   \n",
       "2010-04-09  0.062421  0.064145  0.065193  0.059554  0.064512  0.065969   \n",
       "2010-04-12  0.064145  0.065193  0.059554  0.064512  0.065969  0.059455   \n",
       "\n",
       "                  6         7         8         9   ...        53        54  \\\n",
       "DATE                                                ...                       \n",
       "2010-04-06  0.059554  0.064512  0.065969  0.059455  ...  0.075061  0.079443   \n",
       "2010-04-07  0.064512  0.065969  0.059455  0.066897  ...  0.079443  0.076062   \n",
       "2010-04-08  0.065969  0.059455  0.066897  0.060508  ...  0.076062  0.075020   \n",
       "2010-04-09  0.059455  0.066897  0.060508  0.049209  ...  0.075020  0.075470   \n",
       "2010-04-12  0.066897  0.060508  0.049209  0.036255  ...  0.075470  0.078945   \n",
       "\n",
       "                  55        56        57        58        59        60  \\\n",
       "DATE                                                                     \n",
       "2010-04-06  0.076062  0.075020  0.075470  0.078945  0.078971  0.076959   \n",
       "2010-04-07  0.075020  0.075470  0.078945  0.078971  0.076959  0.081502   \n",
       "2010-04-08  0.075470  0.078945  0.078971  0.076959  0.081502  0.086397   \n",
       "2010-04-09  0.078945  0.078971  0.076959  0.081502  0.086397  0.087445   \n",
       "2010-04-12  0.078971  0.076959  0.081502  0.086397  0.087445  0.083782   \n",
       "\n",
       "                  61        62  \n",
       "DATE                            \n",
       "2010-04-06  0.081502  0.086397  \n",
       "2010-04-07  0.086397  0.087445  \n",
       "2010-04-08  0.087445  0.083782  \n",
       "2010-04-09  0.083782  0.085873  \n",
       "2010-04-12  0.085873  0.090029  \n",
       "\n",
       "[5 rows x 63 columns]"
      ]
     },
     "execution_count": 85,
     "metadata": {},
     "output_type": "execute_result"
    }
   ],
   "source": [
    "X.head()"
   ]
  },
  {
   "cell_type": "code",
   "execution_count": 86,
   "metadata": {},
   "outputs": [
    {
     "data": {
      "text/html": [
       "<div>\n",
       "<style scoped>\n",
       "    .dataframe tbody tr th:only-of-type {\n",
       "        vertical-align: middle;\n",
       "    }\n",
       "\n",
       "    .dataframe tbody tr th {\n",
       "        vertical-align: top;\n",
       "    }\n",
       "\n",
       "    .dataframe thead th {\n",
       "        text-align: right;\n",
       "    }\n",
       "</style>\n",
       "<table border=\"1\" class=\"dataframe\">\n",
       "  <thead>\n",
       "    <tr style=\"text-align: right;\">\n",
       "      <th></th>\n",
       "      <th>SP500</th>\n",
       "    </tr>\n",
       "    <tr>\n",
       "      <th>DATE</th>\n",
       "      <th></th>\n",
       "    </tr>\n",
       "  </thead>\n",
       "  <tbody>\n",
       "    <tr>\n",
       "      <th>2010-04-06</th>\n",
       "      <td>0.087445</td>\n",
       "    </tr>\n",
       "    <tr>\n",
       "      <th>2010-04-07</th>\n",
       "      <td>0.083782</td>\n",
       "    </tr>\n",
       "    <tr>\n",
       "      <th>2010-04-08</th>\n",
       "      <td>0.085873</td>\n",
       "    </tr>\n",
       "    <tr>\n",
       "      <th>2010-04-09</th>\n",
       "      <td>0.090029</td>\n",
       "    </tr>\n",
       "    <tr>\n",
       "      <th>2010-04-12</th>\n",
       "      <td>0.091134</td>\n",
       "    </tr>\n",
       "  </tbody>\n",
       "</table>\n",
       "</div>"
      ],
      "text/plain": [
       "               SP500\n",
       "DATE                \n",
       "2010-04-06  0.087445\n",
       "2010-04-07  0.083782\n",
       "2010-04-08  0.085873\n",
       "2010-04-09  0.090029\n",
       "2010-04-12  0.091134"
      ]
     },
     "execution_count": 86,
     "metadata": {},
     "output_type": "execute_result"
    }
   ],
   "source": [
    "y.head()"
   ]
  },
  {
   "cell_type": "code",
   "execution_count": 87,
   "metadata": {},
   "outputs": [
    {
     "data": {
      "text/plain": [
       "(2201, 63)"
      ]
     },
     "execution_count": 87,
     "metadata": {},
     "output_type": "execute_result"
    }
   ],
   "source": [
    "X.shape"
   ]
  },
  {
   "cell_type": "code",
   "execution_count": 88,
   "metadata": {},
   "outputs": [
    {
     "name": "stdout",
     "output_type": "stream",
     "text": [
      "<class 'pandas.core.frame.DataFrame'>\n",
      "DatetimeIndex: 2201 entries, 2010-04-06 to 2018-12-31\n",
      "Data columns (total 63 columns):\n",
      "0     2201 non-null float64\n",
      "1     2201 non-null float64\n",
      "2     2201 non-null float64\n",
      "3     2201 non-null float64\n",
      "4     2201 non-null float64\n",
      "5     2201 non-null float64\n",
      "6     2201 non-null float64\n",
      "7     2201 non-null float64\n",
      "8     2201 non-null float64\n",
      "9     2201 non-null float64\n",
      "10    2201 non-null float64\n",
      "11    2201 non-null float64\n",
      "12    2201 non-null float64\n",
      "13    2201 non-null float64\n",
      "14    2201 non-null float64\n",
      "15    2201 non-null float64\n",
      "16    2201 non-null float64\n",
      "17    2201 non-null float64\n",
      "18    2201 non-null float64\n",
      "19    2201 non-null float64\n",
      "20    2201 non-null float64\n",
      "21    2201 non-null float64\n",
      "22    2201 non-null float64\n",
      "23    2201 non-null float64\n",
      "24    2201 non-null float64\n",
      "25    2201 non-null float64\n",
      "26    2201 non-null float64\n",
      "27    2201 non-null float64\n",
      "28    2201 non-null float64\n",
      "29    2201 non-null float64\n",
      "30    2201 non-null float64\n",
      "31    2201 non-null float64\n",
      "32    2201 non-null float64\n",
      "33    2201 non-null float64\n",
      "34    2201 non-null float64\n",
      "35    2201 non-null float64\n",
      "36    2201 non-null float64\n",
      "37    2201 non-null float64\n",
      "38    2201 non-null float64\n",
      "39    2201 non-null float64\n",
      "40    2201 non-null float64\n",
      "41    2201 non-null float64\n",
      "42    2201 non-null float64\n",
      "43    2201 non-null float64\n",
      "44    2201 non-null float64\n",
      "45    2201 non-null float64\n",
      "46    2201 non-null float64\n",
      "47    2201 non-null float64\n",
      "48    2201 non-null float64\n",
      "49    2201 non-null float64\n",
      "50    2201 non-null float64\n",
      "51    2201 non-null float64\n",
      "52    2201 non-null float64\n",
      "53    2201 non-null float64\n",
      "54    2201 non-null float64\n",
      "55    2201 non-null float64\n",
      "56    2201 non-null float64\n",
      "57    2201 non-null float64\n",
      "58    2201 non-null float64\n",
      "59    2201 non-null float64\n",
      "60    2201 non-null float64\n",
      "61    2201 non-null float64\n",
      "62    2201 non-null float64\n",
      "dtypes: float64(63)\n",
      "memory usage: 1.1 MB\n"
     ]
    }
   ],
   "source": [
    "X.info()"
   ]
  },
  {
   "cell_type": "markdown",
   "metadata": {},
   "source": [
    "## Train-test split\n",
    "\n",
    "To respect the time series nature of the data, we set aside the data at the end of the sample as hold-out or test set. More specifically, we'll use the data for 2018."
   ]
  },
  {
   "cell_type": "code",
   "execution_count": 214,
   "metadata": {},
   "outputs": [
    {
     "data": {
      "image/png": "[encoded data removed]",
      "text/plain": [
       "<Figure size 432x288 with 1 Axes>"
      ]
     },
     "metadata": {},
     "output_type": "display_data"
    }
   ],
   "source": [
    "sp500_scaled.plot(lw=2);"
   ]
  },
  {
   "cell_type": "code",
   "execution_count": 90,
   "metadata": {},
   "outputs": [],
   "source": [
    "X_train = X[:'2017'].values.reshape(-1, window_size, 1)\n",
    "y_train = y[:'2017']\n",
    "\n",
    "# keep the last year for testing\n",
    "X_test = X['2018'].values.reshape(-1, window_size, 1)\n",
    "y_test = y['2018']"
   ]
  },
  {
   "cell_type": "code",
   "execution_count": 91,
   "metadata": {},
   "outputs": [],
   "source": [
    "n_obs, window_size, n_features = X_train.shape"
   ]
  },
  {
   "cell_type": "code",
   "execution_count": 92,
   "metadata": {},
   "outputs": [
    {
     "data": {
      "text/plain": [
       "(1950, 1)"
      ]
     },
     "execution_count": 92,
     "metadata": {},
     "output_type": "execute_result"
    }
   ],
   "source": [
    "y_train.shape"
   ]
  },
  {
   "cell_type": "markdown",
   "metadata": {},
   "source": [
    "## Keras LSTM Layer"
   ]
  },
  {
   "cell_type": "code",
   "execution_count": null,
   "metadata": {},
   "outputs": [],
   "source": [
    "LSTM(units, \n",
    "      activation='tanh', \n",
    "      recurrent_activation='hard_sigmoid', \n",
    "      use_bias=True,\n",
    "      kernel_initializer='glorot_uniform', \n",
    "      recurrent_initializer='orthogonal', \n",
    "      bias_initializer='zeros',\n",
    "      unit_forget_bias=True, \n",
    "      kernel_regularizer=None, \n",
    "      recurrent_regularizer=None, \n",
    "      bias_regularizer=None,\n",
    "      activity_regularizer=None, \n",
    "      kernel_constraint=None, \n",
    "      recurrent_constraint=None, \n",
    "      bias_constraint=None,\n",
    "      dropout=0.0, \n",
    "      recurrent_dropout=0.0, \n",
    "      implementation=1, \n",
    "      return_sequences=False, \n",
    "      return_state=False,\n",
    "      go_backwards=False, \n",
    "      stateful=False, \n",
    "      unroll=False)"
   ]
  },
  {
   "cell_type": "markdown",
   "metadata": {},
   "source": [
    "##  Define the Model Architecture\n",
    "\n",
    "Having created input/output pairs out of our time series and cut this into training/testing sets, we can now begin setting up our RNN.  We use Keras to quickly build a two hidden layer RNN of the following specifications\n",
    "\n",
    "- layer 1 uses an LSTM module with 20 hidden units (note here the input_shape = (window_size,1))\n",
    "- layer 2 uses a fully connected module with one unit\n",
    "- the 'mean_squared_error' loss should be used (remember: we are performing regression here)\n",
    "\n",
    "This can be constructed using just a few lines - see e.g., the [general Keras documentation](https://keras.io/getting-started/sequential-model-guide/) and the [LTSM documentation in particular](https://keras.io/layers/recurrent/) for examples of how to quickly use Keras to build neural network models.  Make sure you are initializing your optimizer given the [keras-recommended approach for RNNs](https://keras.io/optimizers/) "
   ]
  },
  {
   "cell_type": "code",
   "execution_count": 252,
   "metadata": {},
   "outputs": [],
   "source": [
    "rnn = Sequential([\n",
    "    LSTM(units=20, \n",
    "         input_shape=(window_size, n_features), name='LSTM'),\n",
    "    Dense(1, name='Output')\n",
    "])"
   ]
  },
  {
   "cell_type": "code",
   "execution_count": 253,
   "metadata": {},
   "outputs": [
    {
     "name": "stdout",
     "output_type": "stream",
     "text": [
      "_________________________________________________________________\n",
      "Layer (type)                 Output Shape              Param #   \n",
      "=================================================================\n",
      "LSTM (LSTM)                  (None, 20)                1760      \n",
      "_________________________________________________________________\n",
      "Output (Dense)               (None, 1)                 21        \n",
      "=================================================================\n",
      "Total params: 1,781\n",
      "Trainable params: 1,781\n",
      "Non-trainable params: 0\n",
      "_________________________________________________________________\n"
     ]
    }
   ],
   "source": [
    "rnn.summary()"
   ]
  },
  {
   "cell_type": "markdown",
   "metadata": {},
   "source": [
    "## Train the Model"
   ]
  },
  {
   "cell_type": "code",
   "execution_count": 254,
   "metadata": {},
   "outputs": [],
   "source": [
    "optimizer = keras.optimizers.RMSprop(lr=0.001,\n",
    "                                     rho=0.9,\n",
    "                                     epsilon=1e-08,\n",
    "                                     decay=0.0)"
   ]
  },
  {
   "cell_type": "code",
   "execution_count": 255,
   "metadata": {},
   "outputs": [],
   "source": [
    "rnn.compile(loss='mean_squared_error', optimizer=optimizer)"
   ]
  },
  {
   "cell_type": "code",
   "execution_count": 97,
   "metadata": {},
   "outputs": [],
   "source": [
    "rnn_path = 'models/sp500.lstm5.weights.best.hdf5'\n",
    "checkpointer = ModelCheckpoint(filepath=rnn_path,\n",
    "                              monitor='val_loss',\n",
    "                              save_best_only=True,\n",
    "                              save_weights_only=True,\n",
    "                              period=5)"
   ]
  },
  {
   "cell_type": "code",
   "execution_count": 98,
   "metadata": {},
   "outputs": [],
   "source": [
    "early_stopping = EarlyStopping(monitor='val_loss', \n",
    "                              patience=25,\n",
    "                              restore_best_weights=True)"
   ]
  },
  {
   "cell_type": "code",
   "execution_count": 99,
   "metadata": {
    "scrolled": true
   },
   "outputs": [
    {
     "name": "stdout",
     "output_type": "stream",
     "text": [
      "Train on 1950 samples, validate on 251 samples\n",
      "Epoch 1/500\n",
      "1950/1950 [==============================] - 5s 2ms/step - loss: 0.0130 - val_loss: 0.0056\n",
      "Epoch 2/500\n",
      "1950/1950 [==============================] - 4s 2ms/step - loss: 6.3845e-04 - val_loss: 0.0032\n",
      "Epoch 3/500\n",
      "1950/1950 [==============================] - 4s 2ms/step - loss: 4.8971e-04 - val_loss: 0.0021\n",
      "Epoch 4/500\n",
      "1950/1950 [==============================] - 4s 2ms/step - loss: 4.2012e-04 - val_loss: 0.0019\n",
      "Epoch 5/500\n",
      "1950/1950 [==============================] - 4s 2ms/step - loss: 3.5866e-04 - val_loss: 9.3148e-04\n",
      "Epoch 6/500\n",
      "1950/1950 [==============================] - 4s 2ms/step - loss: 3.1000e-04 - val_loss: 6.9891e-04\n",
      "Epoch 7/500\n",
      "1950/1950 [==============================] - 4s 2ms/step - loss: 2.9308e-04 - val_loss: 6.9391e-04\n",
      "Epoch 8/500\n",
      "1950/1950 [==============================] - 4s 2ms/step - loss: 2.6161e-04 - val_loss: 7.1533e-04\n",
      "Epoch 9/500\n",
      "1950/1950 [==============================] - 4s 2ms/step - loss: 2.4278e-04 - val_loss: 0.0015\n",
      "Epoch 10/500\n",
      "1950/1950 [==============================] - 4s 2ms/step - loss: 2.3608e-04 - val_loss: 5.8292e-04\n",
      "Epoch 11/500\n",
      "1950/1950 [==============================] - 4s 2ms/step - loss: 2.2075e-04 - val_loss: 5.8845e-04\n",
      "Epoch 12/500\n",
      "1950/1950 [==============================] - 4s 2ms/step - loss: 2.1103e-04 - val_loss: 5.2641e-04\n",
      "Epoch 13/500\n",
      "1950/1950 [==============================] - 4s 2ms/step - loss: 2.0485e-04 - val_loss: 0.0026\n",
      "Epoch 14/500\n",
      "1950/1950 [==============================] - 4s 2ms/step - loss: 1.9277e-04 - val_loss: 5.0186e-04\n",
      "Epoch 15/500\n",
      "1950/1950 [==============================] - 4s 2ms/step - loss: 1.8378e-04 - val_loss: 0.0012\n",
      "Epoch 16/500\n",
      "1950/1950 [==============================] - 4s 2ms/step - loss: 1.8066e-04 - val_loss: 4.5951e-04\n",
      "Epoch 17/500\n",
      "1950/1950 [==============================] - 4s 2ms/step - loss: 1.6796e-04 - val_loss: 4.1400e-04\n",
      "Epoch 18/500\n",
      "1950/1950 [==============================] - 4s 2ms/step - loss: 1.6846e-04 - val_loss: 0.0011\n",
      "Epoch 19/500\n",
      "1950/1950 [==============================] - 4s 2ms/step - loss: 1.6465e-04 - val_loss: 3.7911e-04\n",
      "Epoch 20/500\n",
      "1950/1950 [==============================] - 4s 2ms/step - loss: 1.4949e-04 - val_loss: 8.4027e-04\n",
      "Epoch 21/500\n",
      "1950/1950 [==============================] - 4s 2ms/step - loss: 1.4879e-04 - val_loss: 0.0017\n",
      "Epoch 22/500\n",
      "1950/1950 [==============================] - 4s 2ms/step - loss: 1.4506e-04 - val_loss: 8.3734e-04\n",
      "Epoch 23/500\n",
      "1950/1950 [==============================] - 4s 2ms/step - loss: 1.4258e-04 - val_loss: 3.3900e-04\n",
      "Epoch 24/500\n",
      "1950/1950 [==============================] - 4s 2ms/step - loss: 1.4516e-04 - val_loss: 4.0786e-04\n",
      "Epoch 25/500\n",
      "1950/1950 [==============================] - 4s 2ms/step - loss: 1.3825e-04 - val_loss: 3.6824e-04\n",
      "Epoch 26/500\n",
      "1950/1950 [==============================] - 4s 2ms/step - loss: 1.3553e-04 - val_loss: 5.9844e-04\n",
      "Epoch 27/500\n",
      "1950/1950 [==============================] - 4s 2ms/step - loss: 1.2989e-04 - val_loss: 0.0014\n",
      "Epoch 28/500\n",
      "1950/1950 [==============================] - 4s 2ms/step - loss: 1.3100e-04 - val_loss: 2.9418e-04\n",
      "Epoch 29/500\n",
      "1950/1950 [==============================] - 4s 2ms/step - loss: 1.2354e-04 - val_loss: 9.6665e-04\n",
      "Epoch 30/500\n",
      "1950/1950 [==============================] - 4s 2ms/step - loss: 1.2142e-04 - val_loss: 7.0879e-04\n",
      "Epoch 31/500\n",
      "1950/1950 [==============================] - 4s 2ms/step - loss: 1.2487e-04 - val_loss: 5.0531e-04\n",
      "Epoch 32/500\n",
      "1950/1950 [==============================] - 4s 2ms/step - loss: 1.2024e-04 - val_loss: 2.7261e-04\n",
      "Epoch 33/500\n",
      "1950/1950 [==============================] - 4s 2ms/step - loss: 1.1553e-04 - val_loss: 2.7688e-04\n",
      "Epoch 34/500\n",
      "1950/1950 [==============================] - 4s 2ms/step - loss: 1.1559e-04 - val_loss: 3.8829e-04\n",
      "Epoch 35/500\n",
      "1950/1950 [==============================] - 4s 2ms/step - loss: 1.1484e-04 - val_loss: 2.7841e-04\n",
      "Epoch 36/500\n",
      "1950/1950 [==============================] - 4s 2ms/step - loss: 1.1478e-04 - val_loss: 5.1467e-04\n",
      "Epoch 37/500\n",
      "1950/1950 [==============================] - 4s 2ms/step - loss: 1.1186e-04 - val_loss: 2.6754e-04\n",
      "Epoch 38/500\n",
      "1950/1950 [==============================] - 4s 2ms/step - loss: 1.1009e-04 - val_loss: 6.5224e-04\n",
      "Epoch 39/500\n",
      "1950/1950 [==============================] - 4s 2ms/step - loss: 1.0814e-04 - val_loss: 3.2196e-04\n",
      "Epoch 40/500\n",
      "1950/1950 [==============================] - 4s 2ms/step - loss: 1.0552e-04 - val_loss: 0.0015\n",
      "Epoch 41/500\n",
      "1950/1950 [==============================] - 4s 2ms/step - loss: 1.0526e-04 - val_loss: 2.5361e-04\n",
      "Epoch 42/500\n",
      "1950/1950 [==============================] - 4s 2ms/step - loss: 1.0550e-04 - val_loss: 0.0013\n",
      "Epoch 43/500\n",
      "1950/1950 [==============================] - 4s 2ms/step - loss: 1.0434e-04 - val_loss: 2.7229e-04\n",
      "Epoch 44/500\n",
      "1950/1950 [==============================] - 4s 2ms/step - loss: 1.0353e-04 - val_loss: 2.5496e-04\n",
      "Epoch 45/500\n",
      "1950/1950 [==============================] - 4s 2ms/step - loss: 9.8726e-05 - val_loss: 2.6707e-04\n",
      "Epoch 46/500\n",
      "1950/1950 [==============================] - 4s 2ms/step - loss: 9.9732e-05 - val_loss: 2.6008e-04\n",
      "Epoch 47/500\n",
      "1950/1950 [==============================] - 4s 2ms/step - loss: 1.0092e-04 - val_loss: 6.0434e-04\n",
      "Epoch 48/500\n",
      "1950/1950 [==============================] - 4s 2ms/step - loss: 1.0262e-04 - val_loss: 0.0012\n",
      "Epoch 49/500\n",
      "1950/1950 [==============================] - 4s 2ms/step - loss: 1.0162e-04 - val_loss: 2.5948e-04\n",
      "Epoch 50/500\n",
      "1950/1950 [==============================] - 4s 2ms/step - loss: 9.5356e-05 - val_loss: 2.4833e-04\n",
      "Epoch 51/500\n",
      "1950/1950 [==============================] - 4s 2ms/step - loss: 9.5534e-05 - val_loss: 2.4821e-04\n",
      "Epoch 52/500\n",
      "1950/1950 [==============================] - 4s 2ms/step - loss: 9.3579e-05 - val_loss: 2.3953e-04\n",
      "Epoch 53/500\n",
      "1950/1950 [==============================] - 4s 2ms/step - loss: 9.5291e-05 - val_loss: 2.3877e-04\n",
      "Epoch 54/500\n",
      "1950/1950 [==============================] - 4s 2ms/step - loss: 9.7939e-05 - val_loss: 2.4744e-04\n",
      "Epoch 55/500\n",
      "1950/1950 [==============================] - 4s 2ms/step - loss: 9.2919e-05 - val_loss: 4.8612e-04\n",
      "Epoch 56/500\n",
      "1950/1950 [==============================] - 4s 2ms/step - loss: 9.4716e-05 - val_loss: 2.8165e-04\n",
      "Epoch 57/500\n",
      "1950/1950 [==============================] - 4s 2ms/step - loss: 9.3409e-05 - val_loss: 2.6889e-04\n",
      "Epoch 58/500\n",
      "1950/1950 [==============================] - 4s 2ms/step - loss: 9.3839e-05 - val_loss: 3.7386e-04\n",
      "Epoch 59/500\n",
      "1950/1950 [==============================] - 4s 2ms/step - loss: 8.9594e-05 - val_loss: 5.5181e-04\n",
      "Epoch 60/500\n",
      "1950/1950 [==============================] - 4s 2ms/step - loss: 9.0174e-05 - val_loss: 4.3048e-04\n",
      "Epoch 61/500\n",
      "1950/1950 [==============================] - 4s 2ms/step - loss: 9.1967e-05 - val_loss: 2.5043e-04\n",
      "Epoch 62/500\n",
      "1950/1950 [==============================] - 4s 2ms/step - loss: 9.2935e-05 - val_loss: 2.7148e-04\n",
      "Epoch 63/500\n",
      "1950/1950 [==============================] - 4s 2ms/step - loss: 9.0904e-05 - val_loss: 2.4669e-04\n",
      "Epoch 64/500\n",
      "1950/1950 [==============================] - 4s 2ms/step - loss: 9.0582e-05 - val_loss: 5.5079e-04\n",
      "Epoch 65/500\n",
      "1950/1950 [==============================] - 4s 2ms/step - loss: 9.1347e-05 - val_loss: 3.3397e-04\n",
      "Epoch 66/500\n",
      "1950/1950 [==============================] - 4s 2ms/step - loss: 8.8886e-05 - val_loss: 3.5632e-04\n",
      "Epoch 67/500\n",
      "1950/1950 [==============================] - 4s 2ms/step - loss: 8.7098e-05 - val_loss: 2.3136e-04\n",
      "Epoch 68/500\n",
      "1950/1950 [==============================] - 4s 2ms/step - loss: 9.0183e-05 - val_loss: 2.3424e-04\n",
      "Epoch 69/500\n",
      "1950/1950 [==============================] - 4s 2ms/step - loss: 8.5144e-05 - val_loss: 2.3242e-04\n",
      "Epoch 70/500\n",
      "1950/1950 [==============================] - 4s 2ms/step - loss: 8.8461e-05 - val_loss: 8.2913e-04\n",
      "Epoch 71/500\n",
      "1950/1950 [==============================] - 4s 2ms/step - loss: 9.1759e-05 - val_loss: 2.3009e-04\n",
      "Epoch 72/500\n",
      "1950/1950 [==============================] - 4s 2ms/step - loss: 8.6941e-05 - val_loss: 2.3464e-04\n",
      "Epoch 73/500\n",
      "1950/1950 [==============================] - 4s 2ms/step - loss: 8.9041e-05 - val_loss: 2.4637e-04\n",
      "Epoch 74/500\n",
      "1950/1950 [==============================] - 4s 2ms/step - loss: 8.9491e-05 - val_loss: 3.1631e-04\n",
      "Epoch 75/500\n",
      "1950/1950 [==============================] - 4s 2ms/step - loss: 8.6893e-05 - val_loss: 3.7834e-04\n",
      "Epoch 76/500\n",
      "1950/1950 [==============================] - 4s 2ms/step - loss: 8.5537e-05 - val_loss: 2.8850e-04\n",
      "Epoch 77/500\n",
      "1950/1950 [==============================] - 4s 2ms/step - loss: 8.5871e-05 - val_loss: 4.9785e-04\n",
      "Epoch 78/500\n",
      "1950/1950 [==============================] - 4s 2ms/step - loss: 8.6050e-05 - val_loss: 3.5347e-04\n",
      "Epoch 79/500\n",
      "1950/1950 [==============================] - 4s 2ms/step - loss: 8.2049e-05 - val_loss: 4.7513e-04\n",
      "Epoch 80/500\n",
      "1950/1950 [==============================] - 4s 2ms/step - loss: 8.8976e-05 - val_loss: 2.3630e-04\n",
      "Epoch 81/500\n",
      "1950/1950 [==============================] - 4s 2ms/step - loss: 8.6320e-05 - val_loss: 2.3018e-04\n",
      "Epoch 82/500\n",
      "1950/1950 [==============================] - 4s 2ms/step - loss: 8.0990e-05 - val_loss: 2.3168e-04\n",
      "Epoch 83/500\n",
      "1950/1950 [==============================] - 4s 2ms/step - loss: 8.6244e-05 - val_loss: 3.9910e-04\n",
      "Epoch 84/500\n",
      "1950/1950 [==============================] - 4s 2ms/step - loss: 8.7146e-05 - val_loss: 4.5471e-04\n",
      "Epoch 85/500\n",
      "1950/1950 [==============================] - 4s 2ms/step - loss: 8.4622e-05 - val_loss: 2.3649e-04\n",
      "Epoch 86/500\n",
      "1950/1950 [==============================] - 4s 2ms/step - loss: 8.3256e-05 - val_loss: 3.0496e-04\n",
      "Epoch 87/500\n",
      "1950/1950 [==============================] - 4s 2ms/step - loss: 8.3180e-05 - val_loss: 2.6824e-04\n",
      "Epoch 88/500\n",
      "1950/1950 [==============================] - 4s 2ms/step - loss: 8.0655e-05 - val_loss: 2.3048e-04\n",
      "Epoch 89/500\n",
      "1950/1950 [==============================] - 4s 2ms/step - loss: 8.4159e-05 - val_loss: 4.1968e-04\n",
      "Epoch 90/500\n",
      "1950/1950 [==============================] - 4s 2ms/step - loss: 8.4564e-05 - val_loss: 2.7400e-04\n",
      "Epoch 91/500\n",
      "1950/1950 [==============================] - 4s 2ms/step - loss: 8.3221e-05 - val_loss: 2.6379e-04\n",
      "Epoch 92/500\n",
      "1950/1950 [==============================] - 4s 2ms/step - loss: 8.6725e-05 - val_loss: 2.9383e-04\n",
      "Epoch 93/500\n",
      "1950/1950 [==============================] - 4s 2ms/step - loss: 7.9267e-05 - val_loss: 2.2895e-04\n",
      "Epoch 94/500\n",
      "1950/1950 [==============================] - 4s 2ms/step - loss: 8.2524e-05 - val_loss: 2.2858e-04\n",
      "Epoch 95/500\n",
      "1950/1950 [==============================] - 4s 2ms/step - loss: 8.1020e-05 - val_loss: 2.4603e-04\n",
      "Epoch 96/500\n",
      "1950/1950 [==============================] - 4s 2ms/step - loss: 8.4741e-05 - val_loss: 2.2936e-04\n",
      "Epoch 97/500\n",
      "1950/1950 [==============================] - 4s 2ms/step - loss: 8.0149e-05 - val_loss: 3.2285e-04\n",
      "Epoch 98/500\n",
      "1950/1950 [==============================] - 4s 2ms/step - loss: 8.3399e-05 - val_loss: 2.4823e-04\n",
      "Epoch 99/500\n",
      "1950/1950 [==============================] - 4s 2ms/step - loss: 8.0121e-05 - val_loss: 6.8096e-04\n",
      "Epoch 100/500\n",
      "1950/1950 [==============================] - 4s 2ms/step - loss: 8.0653e-05 - val_loss: 2.2676e-04\n",
      "Epoch 101/500\n",
      "1950/1950 [==============================] - 4s 2ms/step - loss: 8.3160e-05 - val_loss: 2.2831e-04\n",
      "Epoch 102/500\n",
      "1950/1950 [==============================] - 4s 2ms/step - loss: 8.2214e-05 - val_loss: 2.3054e-04\n",
      "Epoch 103/500\n",
      "1950/1950 [==============================] - 4s 2ms/step - loss: 8.1824e-05 - val_loss: 4.1730e-04\n",
      "Epoch 104/500\n",
      "1950/1950 [==============================] - 4s 2ms/step - loss: 7.9336e-05 - val_loss: 2.8756e-04\n",
      "Epoch 105/500\n",
      "1950/1950 [==============================] - 4s 2ms/step - loss: 8.4589e-05 - val_loss: 4.3978e-04\n",
      "Epoch 106/500\n",
      "1950/1950 [==============================] - 4s 2ms/step - loss: 8.0866e-05 - val_loss: 7.1584e-04\n",
      "Epoch 107/500\n",
      "1950/1950 [==============================] - 4s 2ms/step - loss: 8.0219e-05 - val_loss: 2.2940e-04\n",
      "Epoch 108/500\n",
      "1950/1950 [==============================] - 4s 2ms/step - loss: 8.0847e-05 - val_loss: 2.4149e-04\n",
      "Epoch 109/500\n",
      "1950/1950 [==============================] - 4s 2ms/step - loss: 8.0035e-05 - val_loss: 2.3042e-04\n",
      "Epoch 110/500\n",
      "1950/1950 [==============================] - 4s 2ms/step - loss: 8.0028e-05 - val_loss: 2.3061e-04\n",
      "Epoch 111/500\n",
      "1950/1950 [==============================] - 4s 2ms/step - loss: 8.2977e-05 - val_loss: 2.2431e-04\n",
      "Epoch 112/500\n",
      "1950/1950 [==============================] - 4s 2ms/step - loss: 8.1127e-05 - val_loss: 2.6171e-04\n",
      "Epoch 113/500\n",
      "1950/1950 [==============================] - 4s 2ms/step - loss: 7.8761e-05 - val_loss: 2.3603e-04\n",
      "Epoch 114/500\n",
      "1950/1950 [==============================] - 4s 2ms/step - loss: 8.1017e-05 - val_loss: 2.2554e-04\n",
      "Epoch 115/500\n",
      "1950/1950 [==============================] - 4s 2ms/step - loss: 8.0174e-05 - val_loss: 2.3697e-04\n",
      "Epoch 116/500\n",
      "1950/1950 [==============================] - 4s 2ms/step - loss: 7.9981e-05 - val_loss: 2.3621e-04\n",
      "Epoch 117/500\n",
      "1950/1950 [==============================] - 4s 2ms/step - loss: 7.8323e-05 - val_loss: 2.4662e-04\n",
      "Epoch 118/500\n",
      "1950/1950 [==============================] - 4s 2ms/step - loss: 7.9386e-05 - val_loss: 2.2514e-04\n",
      "Epoch 119/500\n",
      "1950/1950 [==============================] - 4s 2ms/step - loss: 7.9133e-05 - val_loss: 3.9463e-04\n",
      "Epoch 120/500\n",
      "1950/1950 [==============================] - 4s 2ms/step - loss: 7.9305e-05 - val_loss: 2.2748e-04\n",
      "Epoch 121/500\n",
      "1950/1950 [==============================] - 4s 2ms/step - loss: 8.0554e-05 - val_loss: 4.3086e-04\n",
      "Epoch 122/500\n",
      "1950/1950 [==============================] - 4s 2ms/step - loss: 7.7610e-05 - val_loss: 2.9055e-04\n",
      "Epoch 123/500\n",
      "1950/1950 [==============================] - 4s 2ms/step - loss: 8.0540e-05 - val_loss: 2.2640e-04\n",
      "Epoch 124/500\n",
      "1950/1950 [==============================] - 4s 2ms/step - loss: 8.2730e-05 - val_loss: 2.7486e-04\n",
      "Epoch 125/500\n",
      "1950/1950 [==============================] - 4s 2ms/step - loss: 7.8286e-05 - val_loss: 2.3890e-04\n",
      "Epoch 126/500\n",
      "1950/1950 [==============================] - 4s 2ms/step - loss: 7.9326e-05 - val_loss: 2.8128e-04\n",
      "Epoch 127/500\n",
      "1950/1950 [==============================] - 4s 2ms/step - loss: 7.5022e-05 - val_loss: 2.4218e-04\n",
      "Epoch 128/500\n",
      "1950/1950 [==============================] - 4s 2ms/step - loss: 7.8327e-05 - val_loss: 2.9624e-04\n",
      "Epoch 129/500\n",
      "1950/1950 [==============================] - 4s 2ms/step - loss: 7.9151e-05 - val_loss: 4.3845e-04\n",
      "Epoch 130/500\n",
      "1950/1950 [==============================] - 4s 2ms/step - loss: 7.7110e-05 - val_loss: 4.2838e-04\n",
      "Epoch 131/500\n",
      "1950/1950 [==============================] - 4s 2ms/step - loss: 8.1257e-05 - val_loss: 2.4977e-04\n",
      "Epoch 132/500\n",
      "1950/1950 [==============================] - 4s 2ms/step - loss: 7.7911e-05 - val_loss: 2.9452e-04\n",
      "Epoch 133/500\n",
      "1950/1950 [==============================] - 4s 2ms/step - loss: 7.9547e-05 - val_loss: 3.4510e-04\n",
      "Epoch 134/500\n",
      "1950/1950 [==============================] - 4s 2ms/step - loss: 7.9517e-05 - val_loss: 2.2615e-04\n",
      "Epoch 135/500\n",
      "1950/1950 [==============================] - 4s 2ms/step - loss: 7.9798e-05 - val_loss: 2.2570e-04\n",
      "Epoch 136/500\n",
      "1950/1950 [==============================] - 4s 2ms/step - loss: 7.9606e-05 - val_loss: 2.2654e-04\n"
     ]
    }
   ],
   "source": [
    "result = rnn.fit(X_train,\n",
    "                 y_train,\n",
    "                 epochs=500,\n",
    "                 batch_size=20,\n",
    "                 validation_data=(X_test, y_test),\n",
    "                 callbacks=[checkpointer, early_stopping],\n",
    "                 verbose=1)"
   ]
  },
  {
   "cell_type": "code",
   "execution_count": 256,
   "metadata": {},
   "outputs": [],
   "source": [
    "rnn.load_weights(rnn_path)"
   ]
  },
  {
   "cell_type": "code",
   "execution_count": 288,
   "metadata": {},
   "outputs": [
    {
     "data": {
      "image/png": "[encoded data removed]",
      "text/plain": [
       "<Figure size 432x288 with 1 Axes>"
      ]
     },
     "metadata": {},
     "output_type": "display_data"
    }
   ],
   "source": [
    "loss_history = pd.DataFrame(result.history).pow(.5)\n",
    "loss_history.columns=['Training RMSE', 'Validation RMSE']\n",
    "loss_history.plot(logy=True, lw=2);"
   ]
  },
  {
   "cell_type": "markdown",
   "metadata": {},
   "source": [
    "## Evaluate model performance"
   ]
  },
  {
   "cell_type": "code",
   "execution_count": 215,
   "metadata": {},
   "outputs": [],
   "source": [
    "def eval_result():\n",
    "    test_predict = pd.Series(rnn.predict(X_test).squeeze(), index=y_test.index)\n",
    "    train_predict = pd.Series(rnn.predict(X_train).squeeze(), index=y_train.index)\n",
    "    rmse = np.sqrt(mean_squared_error(test_predict, y_test))\n",
    "    return test_predict, train_predict, rmse"
   ]
  },
  {
   "cell_type": "code",
   "execution_count": 216,
   "metadata": {},
   "outputs": [],
   "source": [
    "test_predict, train_predict, rmse = eval_result()"
   ]
  },
  {
   "cell_type": "code",
   "execution_count": 217,
   "metadata": {},
   "outputs": [
    {
     "name": "stdout",
     "output_type": "stream",
     "text": [
      "<class 'pandas.core.frame.DataFrame'>\n",
      "DatetimeIndex: 2201 entries, 2018-01-02 to 2017-12-29\n",
      "Data columns (total 2 columns):\n",
      "prediction    2201 non-null float32\n",
      "data          2201 non-null object\n",
      "dtypes: float32(1), object(1)\n",
      "memory usage: 43.0+ KB\n"
     ]
    }
   ],
   "source": [
    "predictions = (test_predict.to_frame('prediction').assign(data='test')\n",
    "               .append(train_predict.to_frame('prediction').assign(data='train')))\n",
    "predictions.info()"
   ]
  },
  {
   "cell_type": "code",
   "execution_count": 219,
   "metadata": {},
   "outputs": [
    {
     "name": "stdout",
     "output_type": "stream",
     "text": [
      "<class 'pandas.core.frame.DataFrame'>\n",
      "DatetimeIndex: 2201 entries, 2010-04-06 to 2018-12-31\n",
      "Data columns (total 3 columns):\n",
      "SP500         2201 non-null float64\n",
      "prediction    2201 non-null float32\n",
      "data          2201 non-null object\n",
      "dtypes: float32(1), float64(1), object(1)\n",
      "memory usage: 60.2+ KB\n"
     ]
    }
   ],
   "source": [
    "results = sp500_scaled.join(predictions).dropna()\n",
    "results.info()"
   ]
  },
  {
   "cell_type": "code",
   "execution_count": 225,
   "metadata": {},
   "outputs": [],
   "source": [
    "corr = {}\n",
    "for run, df in results.groupby('data'):\n",
    "    corr[run] = df.SP500.corr(df.prediction)"
   ]
  },
  {
   "cell_type": "code",
   "execution_count": 266,
   "metadata": {},
   "outputs": [],
   "source": [
    "sp500_scaled['Train Prediction'] = pd.Series(train_predict.squeeze(), index=y_train.index)\n",
    "sp500_scaled['Test Prediction'] = pd.Series(test_predict.squeeze(), index=y_test.index)"
   ]
  },
  {
   "cell_type": "code",
   "execution_count": 268,
   "metadata": {},
   "outputs": [
    {
     "name": "stdout",
     "output_type": "stream",
     "text": [
      "Training Error: 0.0078 | Test Error: 0.0150\n"
     ]
    }
   ],
   "source": [
    "training_error = np.sqrt(rnn.evaluate(X_train, y_train, verbose=0))\n",
    "testing_error = np.sqrt(rnn.evaluate(X_test, y_test, verbose=0))\n",
    "print('Training Error: {:.4f} | Test Error: {:.4f}'.format(training_error, testing_error))"
   ]
  },
  {
   "cell_type": "code",
   "execution_count": 286,
   "metadata": {},
   "outputs": [
    {
     "data": {
      "image/png": "[encoded data removed]",
      "text/plain": [
       "<Figure size 1008x504 with 4 Axes>"
      ]
     },
     "metadata": {},
     "output_type": "display_data"
    }
   ],
   "source": [
    "fig=plt.figure(figsize=(14,7))\n",
    "ax1 = plt.subplot(221)\n",
    "ax2 = plt.subplot(222)\n",
    "ax3 = plt.subplot(223)\n",
    "ax4 = plt.subplot(224, sharex = ax2, sharey=ax2)\n",
    "\n",
    "sp500_scaled.loc['2015':, 'SP500'].plot(lw=4, ax=ax1, c='k')\n",
    "sp500_scaled.loc['2015':, ['Test Prediction', 'Train Prediction']].plot(lw=1, ax=ax1, ls='--')\n",
    "ax1.set_title('In- and Out-of-sample Predictions')\n",
    "\n",
    "sns.scatterplot(x='SP500', y='prediction', data=results, hue='data', ax=ax3)\n",
    "ax3.text(x=.02, y=.95, s='Test IC ={:.2%}'.format(corr['test']), transform=ax3.transAxes)\n",
    "ax3.text(x=.02, y=.87, s='Train IC={:.2%}'.format(corr['train']), transform=ax3.transAxes)\n",
    "ax3.set_title('Correlation')\n",
    "ax3.legend(loc='lower right')\n",
    "\n",
    "sns.distplot(train_predict.squeeze()-y_train.squeeze(), ax=ax2)\n",
    "ax2.set_title('Train Error')\n",
    "ax2.text(x=.03, y=.9, s='Train RMSE ={:.4f}'.format(training_error), transform=ax2.transAxes)\n",
    "sns.distplot(test_predict.squeeze()-y_test.squeeze(), ax=ax4)\n",
    "ax4.set_title('Test Error')\n",
    "ax4.text(x=.03, y=.9, s='Test RMSE ={:.4f}'.format(testing_error), transform=ax4.transAxes)\n",
    "\n",
    "fig.tight_layout()\n",
    "fig.savefig('images/rnn_sp500_regression', dpi=300);"
   ]
  }
 ],
 "metadata": {
  "anaconda-cloud": {},
  "kernelspec": {
   "display_name": "Python 3",
   "language": "python",
   "name": "python3"
  },
  "language_info": {
   "codemirror_mode": {
    "name": "ipython",
    "version": 3
   },
   "file_extension": ".py",
   "mimetype": "text/x-python",
   "name": "python",
   "nbconvert_exporter": "python",
   "pygments_lexer": "ipython3",
   "version": "3.5.2"
  },
  "toc": {
   "base_numbering": 1,
   "nav_menu": {},
   "number_sections": true,
   "sideBar": true,
   "skip_h1_title": true,
   "title_cell": "Table of Contents",
   "title_sidebar": "Contents",
   "toc_cell": false,
   "toc_position": {},
   "toc_section_display": true,
   "toc_window_display": true
  }
 },
 "nbformat": 4,
 "nbformat_minor": 1
}
