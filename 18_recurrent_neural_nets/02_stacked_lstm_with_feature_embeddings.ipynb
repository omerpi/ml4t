{
 "cells": [
  {
   "cell_type": "markdown",
   "metadata": {},
   "source": [
    "# Recurrent Neural Networks"
   ]
  },
  {
   "cell_type": "markdown",
   "metadata": {},
   "source": [
    "## Univariate Time Series Regression"
   ]
  },
  {
   "cell_type": "markdown",
   "metadata": {},
   "source": [
    "## Imports"
   ]
  },
  {
   "cell_type": "code",
   "execution_count": 26,
   "metadata": {},
   "outputs": [],
   "source": [
    "%matplotlib inline\n",
    "import numpy as np\n",
    "import pandas as pd\n",
    "import matplotlib.pyplot as plt\n",
    "import seaborn as sns\n",
    "from datetime import datetime, date\n",
    "from sklearn.metrics import mean_squared_error, roc_auc_score\n",
    "from sklearn.preprocessing import minmax_scale\n",
    "from keras.callbacks import ModelCheckpoint, EarlyStopping\n",
    "from keras.models import Sequential, Model\n",
    "from keras.layers import Dense, LSTM, Input, concatenate, Embedding, Reshape\n",
    "import keras\n",
    "import keras.backend as K\n",
    "import tensorflow as tf"
   ]
  },
  {
   "cell_type": "code",
   "execution_count": 2,
   "metadata": {},
   "outputs": [],
   "source": [
    "sns.set_style('whitegrid')\n",
    "np.random.seed(42)\n",
    "K.clear_session()"
   ]
  },
  {
   "cell_type": "markdown",
   "metadata": {},
   "source": [
    "## Data"
   ]
  },
  {
   "cell_type": "code",
   "execution_count": 12,
   "metadata": {},
   "outputs": [
    {
     "name": "stdout",
     "output_type": "stream",
     "text": [
      "<class 'pandas.core.frame.DataFrame'>\n",
      "DatetimeIndex: 1167341 entries, 2009-01-01 to 2017-12-01\n",
      "Data columns (total 66 columns):\n",
      "ticker      1167341 non-null int64\n",
      "1           1167341 non-null float64\n",
      "2           1167341 non-null float64\n",
      "3           1167341 non-null float64\n",
      "4           1167341 non-null float64\n",
      "5           1167341 non-null float64\n",
      "6           1167341 non-null float64\n",
      "7           1167341 non-null float64\n",
      "8           1167341 non-null float64\n",
      "9           1167341 non-null float64\n",
      "10          1167341 non-null float64\n",
      "11          1167341 non-null float64\n",
      "12          1167341 non-null float64\n",
      "13          1167341 non-null float64\n",
      "14          1167341 non-null float64\n",
      "15          1167341 non-null float64\n",
      "16          1167341 non-null float64\n",
      "17          1167341 non-null float64\n",
      "18          1167341 non-null float64\n",
      "19          1167341 non-null float64\n",
      "20          1167341 non-null float64\n",
      "21          1167341 non-null float64\n",
      "22          1167341 non-null float64\n",
      "23          1167341 non-null float64\n",
      "24          1167341 non-null float64\n",
      "25          1167341 non-null float64\n",
      "26          1167341 non-null float64\n",
      "27          1167341 non-null float64\n",
      "28          1167341 non-null float64\n",
      "29          1167341 non-null float64\n",
      "30          1167341 non-null float64\n",
      "31          1167341 non-null float64\n",
      "32          1167341 non-null float64\n",
      "33          1167341 non-null float64\n",
      "34          1167341 non-null float64\n",
      "35          1167341 non-null float64\n",
      "36          1167341 non-null float64\n",
      "37          1167341 non-null float64\n",
      "38          1167341 non-null float64\n",
      "39          1167341 non-null float64\n",
      "40          1167341 non-null float64\n",
      "41          1167341 non-null float64\n",
      "42          1167341 non-null float64\n",
      "43          1167341 non-null float64\n",
      "44          1167341 non-null float64\n",
      "45          1167341 non-null float64\n",
      "46          1167341 non-null float64\n",
      "47          1167341 non-null float64\n",
      "48          1167341 non-null float64\n",
      "49          1167341 non-null float64\n",
      "50          1167341 non-null float64\n",
      "51          1167341 non-null float64\n",
      "52          1167341 non-null float64\n",
      "label       1167341 non-null int64\n",
      "month_1     1167341 non-null uint8\n",
      "month_2     1167341 non-null uint8\n",
      "month_3     1167341 non-null uint8\n",
      "month_4     1167341 non-null uint8\n",
      "month_5     1167341 non-null uint8\n",
      "month_6     1167341 non-null uint8\n",
      "month_7     1167341 non-null uint8\n",
      "month_8     1167341 non-null uint8\n",
      "month_9     1167341 non-null uint8\n",
      "month_10    1167341 non-null uint8\n",
      "month_11    1167341 non-null uint8\n",
      "month_12    1167341 non-null uint8\n",
      "dtypes: float64(52), int64(2), uint8(12)\n",
      "memory usage: 503.2 MB\n"
     ]
    }
   ],
   "source": [
    "data = pd.read_hdf('data.h5', 'returns_weekly')\n",
    "data = data.drop([c for c in data.columns if str(c).startswith('year')], axis=1)\n",
    "data.info()"
   ]
  },
  {
   "cell_type": "markdown",
   "metadata": {},
   "source": [
    "## Train-test split\n",
    "\n",
    "To respect the time series nature of the data, we set aside the data at the end of the sample as hold-out or test set. More specifically, we'll use the data for 2018."
   ]
  },
  {
   "cell_type": "code",
   "execution_count": 13,
   "metadata": {},
   "outputs": [],
   "source": [
    "window_size=52\n",
    "ticker = 1\n",
    "months = 12\n",
    "n_tickers = data.ticker.nunique()"
   ]
  },
  {
   "cell_type": "code",
   "execution_count": 14,
   "metadata": {},
   "outputs": [],
   "source": [
    "train_data = data[:'2016']\n",
    "test_data = data['2017']\n",
    "del data"
   ]
  },
  {
   "cell_type": "code",
   "execution_count": 15,
   "metadata": {},
   "outputs": [
    {
     "data": {
      "text/plain": [
       "([(1035424, 52, 1), (1035424,), (1035424, 12)], (1035424,))"
      ]
     },
     "execution_count": 15,
     "metadata": {},
     "output_type": "execute_result"
    }
   ],
   "source": [
    "X_train = [\n",
    "    train_data.loc[:, list(range(1, window_size+1))].values.reshape(-1, window_size , 1),\n",
    "    train_data.ticker,\n",
    "    train_data.filter(like='month')\n",
    "]\n",
    "y_train = train_data.label\n",
    "[x.shape for x in X_train], y_train.shape"
   ]
  },
  {
   "cell_type": "code",
   "execution_count": 16,
   "metadata": {},
   "outputs": [
    {
     "data": {
      "text/plain": [
       "([(131917, 52, 1), (131917,), (131917, 12)], (131917,))"
      ]
     },
     "execution_count": 16,
     "metadata": {},
     "output_type": "execute_result"
    }
   ],
   "source": [
    "# keep the last year for testing\n",
    "X_test = [\n",
    "    test_data.loc[:, list(range(1, window_size+1))].values.reshape(-1, window_size , 1),\n",
    "    test_data.ticker,\n",
    "    test_data.filter(like='month')\n",
    "]\n",
    "y_test = test_data.label\n",
    "[x.shape for x in X_test], y_test.shape"
   ]
  },
  {
   "cell_type": "markdown",
   "metadata": {},
   "source": [
    "## Custom Metric"
   ]
  },
  {
   "cell_type": "code",
   "execution_count": 17,
   "metadata": {},
   "outputs": [],
   "source": [
    "def roc_auc(y_true, y_pred):\n",
    "    # any tensorflow metric\n",
    "    value, update_op = tf.metrics.auc(y_true, y_pred)\n",
    "\n",
    "    # find all variables created for this metric\n",
    "    metric_vars = [i for i in tf.local_variables() if 'auc_roc' in i.name.split('/')[1]]\n",
    "\n",
    "    # Add metric variables to GLOBAL_VARIABLES collection.\n",
    "    # They will be initialized for new session.\n",
    "    for v in metric_vars:\n",
    "        tf.add_to_collection(tf.GraphKeys.GLOBAL_VARIABLES, v)\n",
    "\n",
    "    # force to update metric values\n",
    "    with tf.control_dependencies([update_op]):\n",
    "        value = tf.identity(value)\n",
    "        return value"
   ]
  },
  {
   "cell_type": "code",
   "execution_count": 18,
   "metadata": {},
   "outputs": [],
   "source": [
    "# source: https://github.com/keras-team/keras/issues/3230\n",
    "def auc(y_true, y_pred):\n",
    "    ptas = tf.stack([binary_PTA(y_true, y_pred, k) for k in np.linspace(0, 1, 1000)], axis=0)\n",
    "    pfas = tf.stack([binary_PFA(y_true, y_pred, k) for k in np.linspace(0, 1, 1000)], axis=0)\n",
    "    pfas = tf.concat([tf.ones((1,)), pfas], axis=0)\n",
    "    binSizes = -(pfas[1:] - pfas[:-1])\n",
    "    s = ptas * binSizes\n",
    "    return K.sum(s, axis=0)\n",
    "\n",
    "\n",
    "def binary_PFA(y_true, y_pred, threshold=K.variable(value=0.5)):\n",
    "    \"\"\"prob false alert for binary classifier\"\"\"\n",
    "    y_pred = K.cast(y_pred >= threshold, 'float32')\n",
    "    # N = total number of negative labels\n",
    "    N = K.sum(1 - y_true)\n",
    "    # FP = total number of false alerts, alerts from the negative class labels\n",
    "    FP = K.sum(y_pred - y_pred * y_true)\n",
    "    return FP / (N + 1)\n",
    "\n",
    "\n",
    "def binary_PTA(y_true, y_pred, threshold=K.variable(value=0.5)):\n",
    "    \"\"\"prob true alerts for binary classifier\"\"\"\n",
    "    y_pred = K.cast(y_pred >= threshold, 'float32')\n",
    "    # P = total number of positive labels\n",
    "    P = K.sum(y_true)\n",
    "    # TP = total number of correct alerts, alerts from the positive class labels\n",
    "    TP = K.sum(y_pred * y_true)\n",
    "    return TP / (P + 1)"
   ]
  },
  {
   "cell_type": "markdown",
   "metadata": {},
   "source": [
    "##  Define the Model Architecture\n",
    "\n",
    "Having created input/output pairs out of our time series and cut this into training/testing sets, we can now begin setting up our RNN.  We use Keras to quickly build a two hidden layer RNN of the following specifications\n",
    "\n",
    "- layer 1 uses an LSTM module with 5 hidden units (note here the input_shape = (window_size,1))\n",
    "- layer 2 uses a fully connected module with one unit\n",
    "- the 'mean_squared_error' loss should be used (remember: we are performing regression here)\n",
    "\n",
    "This can be constructed using just a few lines - see e.g., the [general Keras documentation](https://keras.io/getting-started/sequential-model-guide/) and the [LTSM documentation in particular](https://keras.io/layers/recurrent/) for examples of how to quickly use Keras to build neural network models.  Make sure you are initializing your optimizer given the [keras-recommended approach for RNNs](https://keras.io/optimizers/) \n",
    "\n",
    "(given in the cell below).  (remember to copy your completed function into the script *my_answers.py* function titled *build_part1_RNN* before submitting your project)"
   ]
  },
  {
   "cell_type": "code",
   "execution_count": 37,
   "metadata": {},
   "outputs": [],
   "source": [
    "lstm1_units = 25\n",
    "lstm2_units = 10\n",
    "n_features = 1"
   ]
  },
  {
   "cell_type": "code",
   "execution_count": 67,
   "metadata": {},
   "outputs": [],
   "source": [
    "returns = Input(shape=(window_size, n_features), name='Returns')\n",
    "tickers = Input(shape=(1,), name='Tickers')\n",
    "months = Input(shape=(12,), name='Months')\n",
    "\n",
    "lstm1 = LSTM(units=lstm1_units, \n",
    "             input_shape=(window_size, n_features), \n",
    "             name='LSTM1', \n",
    "             dropout=.2,\n",
    "             return_sequences=True)(returns)\n",
    "lstm_model = LSTM(units=lstm2_units, \n",
    "             dropout=.2,\n",
    "             name='LSTM2')(lstm1)\n",
    "\n",
    "\n",
    "ticker_embedding = Embedding(input_dim=n_tickers, \n",
    "                             output_dim=10, \n",
    "                             input_length=1)(tickers)\n",
    "ticker_embedding = Reshape(target_shape=(10,))(ticker_embedding)\n",
    "\n",
    "\n",
    "merged = concatenate([lstm_model, ticker_embedding, months], name='Merged')\n",
    "hidden_dense = Dense(10, name='FC1')(merged)\n",
    "output = Dense(1, name='Output')(hidden_dense)\n",
    "\n",
    "rnn = Model(inputs=[returns, tickers, months], outputs=output)"
   ]
  },
  {
   "cell_type": "code",
   "execution_count": 68,
   "metadata": {
    "scrolled": false
   },
   "outputs": [
    {
     "name": "stdout",
     "output_type": "stream",
     "text": [
      "__________________________________________________________________________________________________\n",
      "Layer (type)                    Output Shape         Param #     Connected to                     \n",
      "==================================================================================================\n",
      "Returns (InputLayer)            (None, 52, 1)        0                                            \n",
      "__________________________________________________________________________________________________\n",
      "Tickers (InputLayer)            (None, 1)            0                                            \n",
      "__________________________________________________________________________________________________\n",
      "LSTM1 (LSTM)                    (None, 52, 25)       2700        Returns[0][0]                    \n",
      "__________________________________________________________________________________________________\n",
      "embedding_8 (Embedding)         (None, 1, 10)        24890       Tickers[0][0]                    \n",
      "__________________________________________________________________________________________________\n",
      "LSTM2 (LSTM)                    (None, 10)           1440        LSTM1[0][0]                      \n",
      "__________________________________________________________________________________________________\n",
      "reshape_5 (Reshape)             (None, 10)           0           embedding_8[0][0]                \n",
      "__________________________________________________________________________________________________\n",
      "Months (InputLayer)             (None, 12)           0                                            \n",
      "__________________________________________________________________________________________________\n",
      "Merged (Concatenate)            (None, 32)           0           LSTM2[0][0]                      \n",
      "                                                                 reshape_5[0][0]                  \n",
      "                                                                 Months[0][0]                     \n",
      "__________________________________________________________________________________________________\n",
      "FC1 (Dense)                     (None, 10)           330         Merged[0][0]                     \n",
      "__________________________________________________________________________________________________\n",
      "Output (Dense)                  (None, 1)            11          FC1[0][0]                        \n",
      "==================================================================================================\n",
      "Total params: 29,371\n",
      "Trainable params: 29,371\n",
      "Non-trainable params: 0\n",
      "__________________________________________________________________________________________________\n"
     ]
    }
   ],
   "source": [
    "rnn.summary()"
   ]
  },
  {
   "cell_type": "markdown",
   "metadata": {},
   "source": [
    "## Train the Model"
   ]
  },
  {
   "cell_type": "code",
   "execution_count": 40,
   "metadata": {},
   "outputs": [],
   "source": [
    "rnn.compile(loss='binary_crossentropy', \n",
    "            optimizer='adam',\n",
    "           metrics=['accuracy', auc])"
   ]
  },
  {
   "cell_type": "code",
   "execution_count": 41,
   "metadata": {},
   "outputs": [],
   "source": [
    "rnn_path = 'models/quandl.lstm_months_{}_{}.weights.best.hdf5'.format(lstm1_units, lstm2_units)\n",
    "checkpointer = ModelCheckpoint(filepath=rnn_path,\n",
    "                              monitor='val_loss',\n",
    "                              save_best_only=True,\n",
    "                              save_weights_only=True,\n",
    "                              period=5)"
   ]
  },
  {
   "cell_type": "code",
   "execution_count": 42,
   "metadata": {},
   "outputs": [],
   "source": [
    "early_stopping = EarlyStopping(monitor='val_loss', \n",
    "                              patience=5,\n",
    "                              restore_best_weights=True)"
   ]
  },
  {
   "cell_type": "code",
   "execution_count": 43,
   "metadata": {
    "scrolled": false
   },
   "outputs": [
    {
     "name": "stdout",
     "output_type": "stream",
     "text": [
      "Train on 1035424 samples, validate on 131917 samples\n",
      "Epoch 1/50\n",
      "1035424/1035424 [==============================] - 3494s 3ms/step - loss: 0.6919 - acc: 0.5351 - auc: 0.5407 - val_loss: 0.6889 - val_acc: 0.5454 - val_auc: 0.5967\n",
      "Epoch 2/50\n",
      "1035424/1035424 [==============================] - 3394s 3ms/step - loss: 0.6864 - acc: 0.5465 - auc: 0.5549 - val_loss: 0.6777 - val_acc: 0.5713 - val_auc: 0.6060\n",
      "Epoch 3/50\n",
      "1035424/1035424 [==============================] - 3418s 3ms/step - loss: 0.6840 - acc: 0.5521 - auc: 0.5631 - val_loss: 0.6777 - val_acc: 0.5702 - val_auc: 0.6066\n",
      "Epoch 4/50\n",
      "1035424/1035424 [==============================] - 3429s 3ms/step - loss: 0.6818 - acc: 0.5566 - auc: 0.5693 - val_loss: 0.6826 - val_acc: 0.5602 - val_auc: 0.6010\n",
      "Epoch 5/50\n",
      "1035424/1035424 [==============================] - 3407s 3ms/step - loss: 0.6804 - acc: 0.5588 - auc: 0.5730 - val_loss: 0.6748 - val_acc: 0.5824 - val_auc: 0.6130\n",
      "Epoch 6/50\n",
      "1035424/1035424 [==============================] - 3414s 3ms/step - loss: 0.6782 - acc: 0.5617 - auc: 0.5776 - val_loss: 0.6691 - val_acc: 0.5839 - val_auc: 0.6136\n",
      "Epoch 7/50\n",
      "1035424/1035424 [==============================] - 3411s 3ms/step - loss: 0.6771 - acc: 0.5633 - auc: 0.5804 - val_loss: 0.6640 - val_acc: 0.5926 - val_auc: 0.6183\n",
      "Epoch 8/50\n",
      "1035424/1035424 [==============================] - 3412s 3ms/step - loss: 0.6762 - acc: 0.5642 - auc: 0.5823 - val_loss: 0.6714 - val_acc: 0.5809 - val_auc: 0.6116\n",
      "Epoch 9/50\n",
      "1035424/1035424 [==============================] - 3413s 3ms/step - loss: 0.6754 - acc: 0.5660 - auc: 0.5844 - val_loss: 0.6681 - val_acc: 0.5865 - val_auc: 0.6169\n",
      "Epoch 10/50\n",
      "1035424/1035424 [==============================] - 3413s 3ms/step - loss: 0.6746 - acc: 0.5670 - auc: 0.5855 - val_loss: 0.6704 - val_acc: 0.5867 - val_auc: 0.6197\n",
      "Epoch 11/50\n",
      "1035424/1035424 [==============================] - 3413s 3ms/step - loss: 0.6743 - acc: 0.5675 - auc: 0.5856 - val_loss: 0.6367 - val_acc: 0.6084 - val_auc: 0.6373\n",
      "Epoch 12/50\n",
      "1035424/1035424 [==============================] - 3411s 3ms/step - loss: 0.6704 - acc: 0.5686 - auc: 0.5876 - val_loss: 0.6240 - val_acc: 0.6148 - val_auc: 0.6416\n",
      "Epoch 13/50\n",
      "1035424/1035424 [==============================] - 3420s 3ms/step - loss: 0.6725 - acc: 0.5646 - auc: 0.5819 - val_loss: 0.6422 - val_acc: 0.6034 - val_auc: 0.6349\n",
      "Epoch 14/50\n",
      "1035424/1035424 [==============================] - 3416s 3ms/step - loss: 0.6682 - acc: 0.5689 - auc: 0.5885 - val_loss: 0.5815 - val_acc: 0.6091 - val_auc: 0.6347\n",
      "Epoch 15/50\n",
      "1035424/1035424 [==============================] - 3413s 3ms/step - loss: 0.6700 - acc: 0.5679 - auc: 0.5866 - val_loss: 0.6679 - val_acc: 0.5801 - val_auc: 0.6095\n",
      "Epoch 16/50\n",
      "1035424/1035424 [==============================] - 3421s 3ms/step - loss: 0.6751 - acc: 0.5656 - auc: 0.5832 - val_loss: 0.6755 - val_acc: 0.5753 - val_auc: 0.6142\n",
      "Epoch 17/50\n",
      "1035424/1035424 [==============================] - 3422s 3ms/step - loss: 0.6819 - acc: 0.5530 - auc: 0.5648 - val_loss: 0.6722 - val_acc: 0.5784 - val_auc: 0.6202\n",
      "Epoch 18/50\n",
      "1035424/1035424 [==============================] - 3427s 3ms/step - loss: 0.6850 - acc: 0.5503 - auc: 0.5594 - val_loss: 0.6693 - val_acc: 0.5839 - val_auc: 0.6146\n",
      "Epoch 19/50\n",
      "1035424/1035424 [==============================] - 3428s 3ms/step - loss: 0.6801 - acc: 0.5581 - auc: 0.5714 - val_loss: 0.6789 - val_acc: 0.5696 - val_auc: 0.6016\n"
     ]
    }
   ],
   "source": [
    "result = rnn.fit(X_train,\n",
    "                 y_train,\n",
    "                 epochs=50,\n",
    "                 batch_size=32,\n",
    "                 validation_data=(X_test, y_test),\n",
    "                 callbacks=[checkpointer, early_stopping],\n",
    "                 verbose=1)"
   ]
  },
  {
   "cell_type": "code",
   "execution_count": 44,
   "metadata": {},
   "outputs": [
    {
     "data": {
      "text/html": [
       "<div>\n",
       "<style scoped>\n",
       "    .dataframe tbody tr th:only-of-type {\n",
       "        vertical-align: middle;\n",
       "    }\n",
       "\n",
       "    .dataframe tbody tr th {\n",
       "        vertical-align: top;\n",
       "    }\n",
       "\n",
       "    .dataframe thead th {\n",
       "        text-align: right;\n",
       "    }\n",
       "</style>\n",
       "<table border=\"1\" class=\"dataframe\">\n",
       "  <thead>\n",
       "    <tr style=\"text-align: right;\">\n",
       "      <th></th>\n",
       "      <th>acc</th>\n",
       "      <th>auc</th>\n",
       "      <th>loss</th>\n",
       "      <th>val_acc</th>\n",
       "      <th>val_auc</th>\n",
       "      <th>val_loss</th>\n",
       "    </tr>\n",
       "  </thead>\n",
       "  <tbody>\n",
       "    <tr>\n",
       "      <th>0</th>\n",
       "      <td>0.535078</td>\n",
       "      <td>0.540670</td>\n",
       "      <td>0.691900</td>\n",
       "      <td>0.545411</td>\n",
       "      <td>0.596678</td>\n",
       "      <td>0.688937</td>\n",
       "    </tr>\n",
       "    <tr>\n",
       "      <th>1</th>\n",
       "      <td>0.546543</td>\n",
       "      <td>0.554898</td>\n",
       "      <td>0.686432</td>\n",
       "      <td>0.571344</td>\n",
       "      <td>0.606000</td>\n",
       "      <td>0.677704</td>\n",
       "    </tr>\n",
       "    <tr>\n",
       "      <th>2</th>\n",
       "      <td>0.552075</td>\n",
       "      <td>0.563076</td>\n",
       "      <td>0.684029</td>\n",
       "      <td>0.570222</td>\n",
       "      <td>0.606561</td>\n",
       "      <td>0.677705</td>\n",
       "    </tr>\n",
       "    <tr>\n",
       "      <th>3</th>\n",
       "      <td>0.556607</td>\n",
       "      <td>0.569333</td>\n",
       "      <td>0.681848</td>\n",
       "      <td>0.560231</td>\n",
       "      <td>0.600988</td>\n",
       "      <td>0.682648</td>\n",
       "    </tr>\n",
       "    <tr>\n",
       "      <th>4</th>\n",
       "      <td>0.558771</td>\n",
       "      <td>0.572967</td>\n",
       "      <td>0.680395</td>\n",
       "      <td>0.582450</td>\n",
       "      <td>0.613039</td>\n",
       "      <td>0.674850</td>\n",
       "    </tr>\n",
       "    <tr>\n",
       "      <th>5</th>\n",
       "      <td>0.561651</td>\n",
       "      <td>0.577575</td>\n",
       "      <td>0.678201</td>\n",
       "      <td>0.583875</td>\n",
       "      <td>0.613637</td>\n",
       "      <td>0.669076</td>\n",
       "    </tr>\n",
       "    <tr>\n",
       "      <th>6</th>\n",
       "      <td>0.563291</td>\n",
       "      <td>0.580363</td>\n",
       "      <td>0.677105</td>\n",
       "      <td>0.592600</td>\n",
       "      <td>0.618338</td>\n",
       "      <td>0.663972</td>\n",
       "    </tr>\n",
       "    <tr>\n",
       "      <th>7</th>\n",
       "      <td>0.564243</td>\n",
       "      <td>0.582291</td>\n",
       "      <td>0.676229</td>\n",
       "      <td>0.580896</td>\n",
       "      <td>0.611599</td>\n",
       "      <td>0.671445</td>\n",
       "    </tr>\n",
       "    <tr>\n",
       "      <th>8</th>\n",
       "      <td>0.566009</td>\n",
       "      <td>0.584416</td>\n",
       "      <td>0.675376</td>\n",
       "      <td>0.586543</td>\n",
       "      <td>0.616895</td>\n",
       "      <td>0.668098</td>\n",
       "    </tr>\n",
       "    <tr>\n",
       "      <th>9</th>\n",
       "      <td>0.566996</td>\n",
       "      <td>0.585542</td>\n",
       "      <td>0.674590</td>\n",
       "      <td>0.586748</td>\n",
       "      <td>0.619736</td>\n",
       "      <td>0.670394</td>\n",
       "    </tr>\n",
       "    <tr>\n",
       "      <th>10</th>\n",
       "      <td>0.567492</td>\n",
       "      <td>0.585575</td>\n",
       "      <td>0.674266</td>\n",
       "      <td>0.608436</td>\n",
       "      <td>0.637285</td>\n",
       "      <td>0.636687</td>\n",
       "    </tr>\n",
       "    <tr>\n",
       "      <th>11</th>\n",
       "      <td>0.568636</td>\n",
       "      <td>0.587586</td>\n",
       "      <td>0.670350</td>\n",
       "      <td>0.614834</td>\n",
       "      <td>0.641623</td>\n",
       "      <td>0.623958</td>\n",
       "    </tr>\n",
       "    <tr>\n",
       "      <th>12</th>\n",
       "      <td>0.564576</td>\n",
       "      <td>0.581896</td>\n",
       "      <td>0.672488</td>\n",
       "      <td>0.603440</td>\n",
       "      <td>0.634902</td>\n",
       "      <td>0.642180</td>\n",
       "    </tr>\n",
       "    <tr>\n",
       "      <th>13</th>\n",
       "      <td>0.568896</td>\n",
       "      <td>0.588547</td>\n",
       "      <td>0.668170</td>\n",
       "      <td>0.609110</td>\n",
       "      <td>0.634742</td>\n",
       "      <td>0.581524</td>\n",
       "    </tr>\n",
       "    <tr>\n",
       "      <th>14</th>\n",
       "      <td>0.567882</td>\n",
       "      <td>0.586551</td>\n",
       "      <td>0.670044</td>\n",
       "      <td>0.580062</td>\n",
       "      <td>0.609547</td>\n",
       "      <td>0.667934</td>\n",
       "    </tr>\n",
       "    <tr>\n",
       "      <th>15</th>\n",
       "      <td>0.565579</td>\n",
       "      <td>0.583213</td>\n",
       "      <td>0.675076</td>\n",
       "      <td>0.575263</td>\n",
       "      <td>0.614240</td>\n",
       "      <td>0.675486</td>\n",
       "    </tr>\n",
       "    <tr>\n",
       "      <th>16</th>\n",
       "      <td>0.553019</td>\n",
       "      <td>0.564797</td>\n",
       "      <td>0.681935</td>\n",
       "      <td>0.578417</td>\n",
       "      <td>0.620196</td>\n",
       "      <td>0.672222</td>\n",
       "    </tr>\n",
       "    <tr>\n",
       "      <th>17</th>\n",
       "      <td>0.550346</td>\n",
       "      <td>0.559386</td>\n",
       "      <td>0.685004</td>\n",
       "      <td>0.583867</td>\n",
       "      <td>0.614616</td>\n",
       "      <td>0.669349</td>\n",
       "    </tr>\n",
       "    <tr>\n",
       "      <th>18</th>\n",
       "      <td>0.558068</td>\n",
       "      <td>0.571375</td>\n",
       "      <td>0.680098</td>\n",
       "      <td>0.569563</td>\n",
       "      <td>0.601612</td>\n",
       "      <td>0.678946</td>\n",
       "    </tr>\n",
       "  </tbody>\n",
       "</table>\n",
       "</div>"
      ],
      "text/plain": [
       "         acc       auc      loss   val_acc   val_auc  val_loss\n",
       "0   0.535078  0.540670  0.691900  0.545411  0.596678  0.688937\n",
       "1   0.546543  0.554898  0.686432  0.571344  0.606000  0.677704\n",
       "2   0.552075  0.563076  0.684029  0.570222  0.606561  0.677705\n",
       "3   0.556607  0.569333  0.681848  0.560231  0.600988  0.682648\n",
       "4   0.558771  0.572967  0.680395  0.582450  0.613039  0.674850\n",
       "5   0.561651  0.577575  0.678201  0.583875  0.613637  0.669076\n",
       "6   0.563291  0.580363  0.677105  0.592600  0.618338  0.663972\n",
       "7   0.564243  0.582291  0.676229  0.580896  0.611599  0.671445\n",
       "8   0.566009  0.584416  0.675376  0.586543  0.616895  0.668098\n",
       "9   0.566996  0.585542  0.674590  0.586748  0.619736  0.670394\n",
       "10  0.567492  0.585575  0.674266  0.608436  0.637285  0.636687\n",
       "11  0.568636  0.587586  0.670350  0.614834  0.641623  0.623958\n",
       "12  0.564576  0.581896  0.672488  0.603440  0.634902  0.642180\n",
       "13  0.568896  0.588547  0.668170  0.609110  0.634742  0.581524\n",
       "14  0.567882  0.586551  0.670044  0.580062  0.609547  0.667934\n",
       "15  0.565579  0.583213  0.675076  0.575263  0.614240  0.675486\n",
       "16  0.553019  0.564797  0.681935  0.578417  0.620196  0.672222\n",
       "17  0.550346  0.559386  0.685004  0.583867  0.614616  0.669349\n",
       "18  0.558068  0.571375  0.680098  0.569563  0.601612  0.678946"
      ]
     },
     "execution_count": 44,
     "metadata": {},
     "output_type": "execute_result"
    }
   ],
   "source": [
    "loss_history = pd.DataFrame(result.history)\n",
    "loss_history"
   ]
  },
  {
   "cell_type": "code",
   "execution_count": 51,
   "metadata": {},
   "outputs": [],
   "source": [
    "def which_metric(m):\n",
    "    return m.split('_')[-1]"
   ]
  },
  {
   "cell_type": "code",
   "execution_count": 59,
   "metadata": {},
   "outputs": [
    {
     "data": {
      "image/png": "[encoded data removed]",
      "text/plain": [
       "<Figure size 1008x432 with 1 Axes>"
      ]
     },
     "metadata": {
      "needs_background": "light"
     },
     "output_type": "display_data"
    },
    {
     "data": {
      "image/png": "[encoded data removed]",
      "text/plain": [
       "<Figure size 1008x432 with 1 Axes>"
      ]
     },
     "metadata": {
      "needs_background": "light"
     },
     "output_type": "display_data"
    },
    {
     "data": {
      "image/png": "[encoded data removed]",
      "text/plain": [
       "<Figure size 1008x432 with 1 Axes>"
      ]
     },
     "metadata": {
      "needs_background": "light"
     },
     "output_type": "display_data"
    }
   ],
   "source": [
    "loss_history.groupby(which_metric, axis=1).plot(figsize=(14, 6));"
   ]
  },
  {
   "cell_type": "markdown",
   "metadata": {},
   "source": [
    "## Evaluate model performance"
   ]
  },
  {
   "cell_type": "code",
   "execution_count": 45,
   "metadata": {},
   "outputs": [],
   "source": [
    "test_predict = pd.Series(rnn.predict(X_test).squeeze(), index=y_test.index)"
   ]
  },
  {
   "cell_type": "code",
   "execution_count": 46,
   "metadata": {},
   "outputs": [
    {
     "data": {
      "text/plain": [
       "0.6705719343575394"
      ]
     },
     "execution_count": 46,
     "metadata": {},
     "output_type": "execute_result"
    }
   ],
   "source": [
    "roc_auc_score(y_score=test_predict, y_true=y_test)"
   ]
  },
  {
   "cell_type": "code",
   "execution_count": 47,
   "metadata": {},
   "outputs": [],
   "source": [
    "rnn.load_weights(rnn_path)"
   ]
  },
  {
   "cell_type": "code",
   "execution_count": 48,
   "metadata": {},
   "outputs": [],
   "source": [
    "test_predict = pd.Series(rnn.predict(X_test).squeeze(), index=y_test.index)"
   ]
  },
  {
   "cell_type": "code",
   "execution_count": 49,
   "metadata": {},
   "outputs": [
    {
     "data": {
      "text/plain": [
       "0.6316542712390399"
      ]
     },
     "execution_count": 49,
     "metadata": {},
     "output_type": "execute_result"
    }
   ],
   "source": [
    "roc_auc_score(y_score=test_predict, y_true=y_test)"
   ]
  },
  {
   "cell_type": "code",
   "execution_count": null,
   "metadata": {},
   "outputs": [],
   "source": [
    "score"
   ]
  },
  {
   "cell_type": "code",
   "execution_count": 217,
   "metadata": {},
   "outputs": [
    {
     "name": "stdout",
     "output_type": "stream",
     "text": [
      "<class 'pandas.core.frame.DataFrame'>\n",
      "DatetimeIndex: 2201 entries, 2018-01-02 to 2017-12-29\n",
      "Data columns (total 2 columns):\n",
      "prediction    2201 non-null float32\n",
      "data          2201 non-null object\n",
      "dtypes: float32(1), object(1)\n",
      "memory usage: 43.0+ KB\n"
     ]
    }
   ],
   "source": [
    "predictions = (test_predict.to_frame('prediction').assign(data='test')\n",
    "               .append(train_predict.to_frame('prediction').assign(data='train')))\n",
    "predictions.info()"
   ]
  },
  {
   "cell_type": "code",
   "execution_count": 219,
   "metadata": {},
   "outputs": [
    {
     "name": "stdout",
     "output_type": "stream",
     "text": [
      "<class 'pandas.core.frame.DataFrame'>\n",
      "DatetimeIndex: 2201 entries, 2010-04-06 to 2018-12-31\n",
      "Data columns (total 3 columns):\n",
      "SP500         2201 non-null float64\n",
      "prediction    2201 non-null float32\n",
      "data          2201 non-null object\n",
      "dtypes: float32(1), float64(1), object(1)\n",
      "memory usage: 60.2+ KB\n"
     ]
    }
   ],
   "source": [
    "results = sp500_scaled.join(predictions).dropna()\n",
    "results.info()"
   ]
  },
  {
   "cell_type": "code",
   "execution_count": 225,
   "metadata": {},
   "outputs": [],
   "source": [
    "corr = {}\n",
    "for run, df in results.groupby('data'):\n",
    "    corr[run] = df.SP500.corr(df.prediction)"
   ]
  },
  {
   "cell_type": "code",
   "execution_count": 266,
   "metadata": {},
   "outputs": [],
   "source": [
    "sp500_scaled['Train Prediction'] = pd.Series(train_predict.squeeze(), index=y_train.index)\n",
    "sp500_scaled['Test Prediction'] = pd.Series(test_predict.squeeze(), index=y_test.index)"
   ]
  },
  {
   "cell_type": "code",
   "execution_count": 268,
   "metadata": {},
   "outputs": [
    {
     "name": "stdout",
     "output_type": "stream",
     "text": [
      "Training Error: 0.0078 | Test Error: 0.0150\n"
     ]
    }
   ],
   "source": [
    "training_error = np.sqrt(rnn.evaluate(X_train, y_train, verbose=0))\n",
    "testing_error = np.sqrt(rnn.evaluate(X_test, y_test, verbose=0))\n",
    "print('Training Error: {:.4f} | Test Error: {:.4f}'.format(training_error, testing_error))"
   ]
  },
  {
   "cell_type": "code",
   "execution_count": 285,
   "metadata": {},
   "outputs": [],
   "source": [
    "sns.set_style('whitegrid')"
   ]
  }
 ],
 "metadata": {
  "anaconda-cloud": {},
  "kernelspec": {
   "display_name": "Python 3",
   "language": "python",
   "name": "python3"
  },
  "language_info": {
   "codemirror_mode": {
    "name": "ipython",
    "version": 3
   },
   "file_extension": ".py",
   "mimetype": "text/x-python",
   "name": "python",
   "nbconvert_exporter": "python",
   "pygments_lexer": "ipython3",
   "version": "3.5.2"
  },
  "toc": {
   "base_numbering": 1,
   "nav_menu": {},
   "number_sections": true,
   "sideBar": true,
   "skip_h1_title": true,
   "title_cell": "Table of Contents",
   "title_sidebar": "Contents",
   "toc_cell": false,
   "toc_position": {},
   "toc_section_display": true,
   "toc_window_display": true
  }
 },
 "nbformat": 4,
 "nbformat_minor": 1
}
