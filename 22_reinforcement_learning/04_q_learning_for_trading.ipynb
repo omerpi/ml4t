{
 "cells": [
  {
   "cell_type": "markdown",
   "metadata": {},
   "source": [
    "# Reinforcement Learning for trading"
   ]
  },
  {
   "cell_type": "markdown",
   "metadata": {},
   "source": [
    "To train a trading agent, we need to create a market environment that provides price and other information, offers trading-related actions, and keeps track of the portfolio to reward the agent accordingly."
   ]
  },
  {
   "cell_type": "markdown",
   "metadata": {},
   "source": [
    "## How to Design an OpenAI trading environment"
   ]
  },
  {
   "cell_type": "markdown",
   "metadata": {},
   "source": [
    "The OpenAI Gym allows for the design, registration, and utilization of environments that adhere to its architecture, as described in its [documentation](https://github.com/openai/gym/tree/master/gym/envs#how-to-create-new-environments-for-gym). The [trading_env.py](trading_env.py) file implements an example that illustrates how to create a class that implements the requisite `step()` and `reset()` methods.\n",
    "\n",
    "The trading environment consists of three classes that interact to facilitate the agent's activities:\n",
    " 1. The `DataSource` class loads a time series, generates a few features, and provides the latest observation to the agent at each time step. \n",
    " 2. `TradingSimulator` tracks the positions, trades and cost, and the performance. It also implements and records the results of a buy-and-hold benchmark strategy. \n",
    " 3. `TradingEnvironment` itself orchestrates the process. "
   ]
  },
  {
   "cell_type": "markdown",
   "metadata": {},
   "source": [
    "## A basic trading game"
   ]
  },
  {
   "cell_type": "markdown",
   "metadata": {},
   "source": [
    "To train the agent, we need to set up a simple game with a limited set of options, a relatively low-dimensional state, and other parameters that can be easily modified and extended.\n",
    "\n",
    "More specifically, the environment samples a stock price time series for a single ticker using a random start date to simulate a trading period that, by default, contains 252 days, or 1 year. The state contains the (scaled) price and volume, as well as some technical indicators like the percentile ranks of price and volume, a relative strength index (RSI), as well as 5- and 21-day returns. The agent can choose from three actions:\n",
    "\n",
    "- **Buy**: Invest capital for a long position in the stock\n",
    "- **Flat**: Hold cash only\n",
    "- **Sell short**: Take a short position equal to the amount of capital\n",
    "\n",
    "The environment accounts for trading cost, which is set to 10bps by default. It also deducts a 1bps time cost per period. It tracks the net asset value (NAV) of the agent's portfolio and compares it against the market portfolio (which trades frictionless to raise the bar for the agent)."
   ]
  },
  {
   "cell_type": "markdown",
   "metadata": {},
   "source": [
    "We use the same DDQN agent and neural network architecture that successfully learned to navigate the Lunar Lander environment. We let exploration continue for 500,000 time steps (~2,000 1yr trading periods) with linear decay of ε to 0.1 and exponential decay at a factor of 0.9999 thereafter."
   ]
  },
  {
   "cell_type": "markdown",
   "metadata": {},
   "source": [
    "## Imports & Settings"
   ]
  },
  {
   "cell_type": "code",
   "execution_count": 1,
   "metadata": {
    "ExecuteTime": {
     "end_time": "2020-04-13T01:07:43.688877Z",
     "start_time": "2020-04-13T01:07:43.686184Z"
    }
   },
   "outputs": [],
   "source": [
    "import warnings\n",
    "warnings.filterwarnings('ignore')"
   ]
  },
  {
   "cell_type": "code",
   "execution_count": 2,
   "metadata": {
    "ExecuteTime": {
     "end_time": "2020-04-13T01:07:45.023868Z",
     "start_time": "2020-04-13T01:07:43.690979Z"
    }
   },
   "outputs": [],
   "source": [
    "%matplotlib inline\n",
    "from pathlib import Path\n",
    "from time import time\n",
    "from collections import deque\n",
    "from random import sample\n",
    "\n",
    "import numpy as np\n",
    "import pandas as pd\n",
    "\n",
    "import matplotlib.pyplot as plt\n",
    "from matplotlib.ticker import FuncFormatter\n",
    "import seaborn as sns\n",
    "\n",
    "import tensorflow as tf\n",
    "from tensorflow.keras import Sequential\n",
    "from tensorflow.keras.layers import Dense, Dropout\n",
    "from tensorflow.keras.optimizers import Adam\n",
    "from tensorflow.keras.regularizers import l2\n",
    "\n",
    "import gym\n",
    "from gym.envs.registration import register"
   ]
  },
  {
   "cell_type": "code",
   "execution_count": 3,
   "metadata": {
    "ExecuteTime": {
     "end_time": "2020-04-13T01:07:45.039247Z",
     "start_time": "2020-04-13T01:07:45.036895Z"
    }
   },
   "outputs": [],
   "source": [
    "np.random.seed(42)\n",
    "tf.random.set_seed(42)\n",
    "sns.set_style('whitegrid')"
   ]
  },
  {
   "cell_type": "code",
   "execution_count": 4,
   "metadata": {},
   "outputs": [],
   "source": [
    "gpu_devices = tf.config.experimental.list_physical_devices('GPU')\n",
    "tf.config.experimental.set_memory_growth(gpu_devices[0], True)"
   ]
  },
  {
   "cell_type": "markdown",
   "metadata": {},
   "source": [
    "### Helper functions"
   ]
  },
  {
   "cell_type": "code",
   "execution_count": 5,
   "metadata": {
    "ExecuteTime": {
     "end_time": "2020-04-13T01:07:45.048135Z",
     "start_time": "2020-04-13T01:07:45.040078Z"
    }
   },
   "outputs": [],
   "source": [
    "def format_time(t):\n",
    "    m_, s = divmod(t, 60)\n",
    "    h, m = divmod(m_, 60)\n",
    "    return '{:02.0f}:{:02.0f}:{:02.0f}'.format(h, m, s)"
   ]
  },
  {
   "cell_type": "markdown",
   "metadata": {},
   "source": [
    "## Set up Gym Environment"
   ]
  },
  {
   "cell_type": "markdown",
   "metadata": {},
   "source": [
    "Before using the custom environment, just like we used the Lunar Lander environment, we need to register it:"
   ]
  },
  {
   "cell_type": "code",
   "execution_count": 6,
   "metadata": {},
   "outputs": [],
   "source": [
    "trading_days = 252"
   ]
  },
  {
   "cell_type": "code",
   "execution_count": 7,
   "metadata": {
    "ExecuteTime": {
     "end_time": "2020-04-13T01:07:45.056466Z",
     "start_time": "2020-04-13T01:07:45.048936Z"
    }
   },
   "outputs": [],
   "source": [
    "register(\n",
    "    id='trading-v0',\n",
    "    entry_point='trading_env:TradingEnvironment',\n",
    "    max_episode_steps=trading_days\n",
    ")"
   ]
  },
  {
   "cell_type": "markdown",
   "metadata": {},
   "source": [
    "### Initialize Trading Environment"
   ]
  },
  {
   "cell_type": "markdown",
   "metadata": {},
   "source": [
    "We can instantiate the environment by using the desired trading costs and ticker:"
   ]
  },
  {
   "cell_type": "code",
   "execution_count": 8,
   "metadata": {
    "ExecuteTime": {
     "end_time": "2020-04-13T01:07:51.350402Z",
     "start_time": "2020-04-13T01:07:45.057391Z"
    }
   },
   "outputs": [
    {
     "name": "stderr",
     "output_type": "stream",
     "text": [
      "INFO:trading_env:trading_env logger started.\n",
      "INFO:trading_env:loading data for AAPL...\n",
      "INFO:trading_env:got data for AAPL...\n",
      "INFO:trading_env:None\n"
     ]
    },
    {
     "name": "stdout",
     "output_type": "stream",
     "text": [
      "<class 'pandas.core.frame.DataFrame'>\n",
      "MultiIndex: 9367 entries, (Timestamp('1981-01-30 00:00:00'), 'AAPL') to (Timestamp('2018-03-27 00:00:00'), 'AAPL')\n",
      "Data columns (total 10 columns):\n",
      " #   Column   Non-Null Count  Dtype  \n",
      "---  ------   --------------  -----  \n",
      " 0   returns  9367 non-null   float64\n",
      " 1   ret_2    9367 non-null   float64\n",
      " 2   ret_5    9367 non-null   float64\n",
      " 3   ret_10   9367 non-null   float64\n",
      " 4   ret_21   9367 non-null   float64\n",
      " 5   rsi      9367 non-null   float64\n",
      " 6   macd     9367 non-null   float64\n",
      " 7   atr      9367 non-null   float64\n",
      " 8   stoch    9367 non-null   float64\n",
      " 9   ultosc   9367 non-null   float64\n",
      "dtypes: float64(10)\n",
      "memory usage: 905.0+ KB\n"
     ]
    },
    {
     "data": {
      "text/plain": [
       "[42]"
      ]
     },
     "execution_count": 8,
     "metadata": {},
     "output_type": "execute_result"
    }
   ],
   "source": [
    "trading_environment = gym.make('trading-v0')\n",
    "trading_environment.env.trading_days = trading_days\n",
    "trading_environment.env.trading_cost_bps = 1e-3\n",
    "trading_environment.env.time_cost_bps = 1e-4\n",
    "trading_environment.env.ticker = 'AAPL'\n",
    "trading_environment.seed(42)"
   ]
  },
  {
   "cell_type": "markdown",
   "metadata": {},
   "source": [
    "### Get Environment Params"
   ]
  },
  {
   "cell_type": "code",
   "execution_count": 9,
   "metadata": {
    "ExecuteTime": {
     "end_time": "2020-04-13T01:07:51.353139Z",
     "start_time": "2020-04-13T01:07:51.351288Z"
    }
   },
   "outputs": [],
   "source": [
    "state_dim = trading_environment.observation_space.shape[0]\n",
    "num_actions = trading_environment.action_space.n\n",
    "max_episode_steps = trading_environment.spec.max_episode_steps"
   ]
  },
  {
   "cell_type": "markdown",
   "metadata": {},
   "source": [
    "## Define Trading Agent"
   ]
  },
  {
   "cell_type": "code",
   "execution_count": 10,
   "metadata": {},
   "outputs": [],
   "source": [
    "class DDQNAgent:\n",
    "    def __init__(self, state_dim,\n",
    "                 num_actions,\n",
    "                 learning_rate,\n",
    "                 gamma,\n",
    "                 epsilon_start,\n",
    "                 epsilon_end,\n",
    "                 epsilon_decay_steps,\n",
    "                 epsilon_exponential_decay,\n",
    "                 replay_capacity,\n",
    "                 architecture,\n",
    "                 l2_reg,\n",
    "                 tau,\n",
    "                 batch_size):\n",
    "\n",
    "        self.state_dim = state_dim\n",
    "        self.num_actions = num_actions\n",
    "        self.experience = deque([], maxlen=replay_capacity)\n",
    "        self.learning_rate = learning_rate\n",
    "        self.gamma = gamma\n",
    "        self.architecture = architecture\n",
    "        self.l2_reg = l2_reg\n",
    "\n",
    "        self.online_network = self.build_model()\n",
    "        self.target_network = self.build_model(trainable=False)\n",
    "        self.update_target()\n",
    "\n",
    "        self.epsilon = epsilon_start\n",
    "        self.epsilon_decay_steps = epsilon_decay_steps\n",
    "        self.epsilon_decay = (epsilon_start - epsilon_end) / epsilon_decay_steps\n",
    "        self.epsilon_exponential_decay = epsilon_exponential_decay\n",
    "        self.epsilon_history = []\n",
    "\n",
    "        self.total_steps = self.train_steps = 0\n",
    "        self.episodes = self.episode_length = self.train_episodes = 0\n",
    "        self.steps_per_episode = []\n",
    "        self.episode_reward = 0\n",
    "        self.rewards_history = []\n",
    "\n",
    "        self.batch_size = batch_size\n",
    "        self.tau = tau\n",
    "        self.losses = []\n",
    "        self.idx = tf.range(batch_size)\n",
    "        self.train = True\n",
    "\n",
    "    def build_model(self, trainable=True):\n",
    "        layers = []\n",
    "        n = len(self.architecture)\n",
    "        for i, units in enumerate(self.architecture, 1):\n",
    "            layers.append(Dense(units=units,\n",
    "                                input_dim=self.state_dim if i == 1 else None,\n",
    "                                activation='relu',\n",
    "                                kernel_regularizer=l2(self.l2_reg),\n",
    "                                name=f'Dense_{i}',\n",
    "                                trainable=trainable))\n",
    "        layers.append(Dropout(.1))\n",
    "        layers.append(Dense(units=self.num_actions,\n",
    "                            trainable=trainable,\n",
    "                            name='Output'))\n",
    "        model = Sequential(layers)\n",
    "        model.compile(loss='mean_squared_error',\n",
    "                      optimizer=Adam(lr=self.learning_rate))\n",
    "        return model\n",
    "\n",
    "    def update_target(self):\n",
    "        self.target_network.set_weights(self.online_network.get_weights())\n",
    "\n",
    "    def epsilon_greedy_policy(self, state):\n",
    "        self.total_steps += 1\n",
    "        if np.random.rand() <= self.epsilon:\n",
    "            return np.random.choice(self.num_actions)\n",
    "        q = self.online_network.predict(state)\n",
    "        return np.argmax(q, axis=1).squeeze()\n",
    "\n",
    "    def memorize_transition(self, s, a, r, s_prime, not_done):\n",
    "        if not_done:\n",
    "            self.episode_reward += r\n",
    "            self.episode_length += 1\n",
    "        else:\n",
    "            if self.train:\n",
    "                if self.episodes < self.epsilon_decay_steps:\n",
    "                    self.epsilon -= self.epsilon_decay\n",
    "                else:\n",
    "                    self.epsilon *= self.epsilon_exponential_decay\n",
    "\n",
    "            self.episodes += 1\n",
    "            self.rewards_history.append(self.episode_reward)\n",
    "            self.steps_per_episode.append(self.episode_length)\n",
    "            self.episode_reward, self.episode_length = 0, 0\n",
    "\n",
    "        self.experience.append((s, a, r, s_prime, not_done))\n",
    "\n",
    "    def experience_replay(self):\n",
    "        if self.batch_size > len(self.experience):\n",
    "            return\n",
    "        minibatch = map(np.array, zip(*sample(self.experience, self.batch_size)))\n",
    "        states, actions, rewards, next_states, not_done = minibatch\n",
    "\n",
    "        next_q_values = self.online_network.predict_on_batch(next_states)\n",
    "        best_actions = tf.argmax(next_q_values, axis=1)\n",
    "\n",
    "        next_q_values_target = self.target_network.predict_on_batch(next_states)\n",
    "        target_q_values = tf.gather_nd(next_q_values_target,\n",
    "                                       tf.stack((self.idx, tf.cast(best_actions, tf.int32)), axis=1))\n",
    "\n",
    "        targets = rewards + not_done * self.gamma * target_q_values\n",
    "\n",
    "        q_values = self.online_network.predict_on_batch(states)\n",
    "        q_values[[self.idx, actions]] = targets\n",
    "\n",
    "        loss = self.online_network.train_on_batch(x=states, y=q_values)\n",
    "        self.losses.append(loss)\n",
    "\n",
    "        if self.total_steps % self.tau == 0:\n",
    "            self.update_target()"
   ]
  },
  {
   "cell_type": "markdown",
   "metadata": {},
   "source": [
    "## Define hyperparameters"
   ]
  },
  {
   "cell_type": "code",
   "execution_count": 11,
   "metadata": {
    "ExecuteTime": {
     "end_time": "2020-04-13T01:07:51.380949Z",
     "start_time": "2020-04-13T01:07:51.354451Z"
    }
   },
   "outputs": [],
   "source": [
    "gamma = .99,  # discount factor\n",
    "tau = 100  # target network update frequency"
   ]
  },
  {
   "cell_type": "markdown",
   "metadata": {},
   "source": [
    "### NN Architecture"
   ]
  },
  {
   "cell_type": "code",
   "execution_count": 12,
   "metadata": {
    "ExecuteTime": {
     "end_time": "2020-04-13T01:07:51.388791Z",
     "start_time": "2020-04-13T01:07:51.382926Z"
    }
   },
   "outputs": [],
   "source": [
    "architecture = (256, 256)  # units per layer\n",
    "learning_rate = 0.0001  # learning rate\n",
    "l2_reg = 1e-6  # L2 regularization"
   ]
  },
  {
   "cell_type": "markdown",
   "metadata": {},
   "source": [
    "### Experience Replay"
   ]
  },
  {
   "cell_type": "code",
   "execution_count": 13,
   "metadata": {
    "ExecuteTime": {
     "end_time": "2020-04-13T01:07:51.398564Z",
     "start_time": "2020-04-13T01:07:51.390240Z"
    }
   },
   "outputs": [],
   "source": [
    "replay_capacity = int(1e6)\n",
    "batch_size = 4096"
   ]
  },
  {
   "cell_type": "markdown",
   "metadata": {},
   "source": [
    "### $\\epsilon$-greedy Policy"
   ]
  },
  {
   "cell_type": "code",
   "execution_count": 14,
   "metadata": {
    "ExecuteTime": {
     "end_time": "2020-04-13T01:07:51.407309Z",
     "start_time": "2020-04-13T01:07:51.399843Z"
    }
   },
   "outputs": [],
   "source": [
    "epsilon_start = 1.0\n",
    "epsilon_end = .01\n",
    "epsilon_decay_steps = 250\n",
    "epsilon_exponential_decay = .99"
   ]
  },
  {
   "cell_type": "markdown",
   "metadata": {},
   "source": [
    "## Create DDQN Agent"
   ]
  },
  {
   "cell_type": "markdown",
   "metadata": {},
   "source": [
    "We will use [TensorFlow](https://www.tensorflow.org/) to create our Double Deep Q-Network ."
   ]
  },
  {
   "cell_type": "code",
   "execution_count": 15,
   "metadata": {
    "ExecuteTime": {
     "end_time": "2020-04-13T01:07:51.417521Z",
     "start_time": "2020-04-13T01:07:51.408633Z"
    }
   },
   "outputs": [],
   "source": [
    "tf.keras.backend.clear_session()"
   ]
  },
  {
   "cell_type": "code",
   "execution_count": 16,
   "metadata": {
    "ExecuteTime": {
     "end_time": "2020-04-13T01:07:52.041819Z",
     "start_time": "2020-04-13T01:07:51.418387Z"
    }
   },
   "outputs": [],
   "source": [
    "ddqn = DDQNAgent(state_dim=state_dim,\n",
    "                 num_actions=num_actions,\n",
    "                 learning_rate=learning_rate,\n",
    "                 gamma=gamma,\n",
    "                 epsilon_start=epsilon_start,\n",
    "                 epsilon_end=epsilon_end,\n",
    "                 epsilon_decay_steps=epsilon_decay_steps,\n",
    "                 epsilon_exponential_decay=epsilon_exponential_decay,\n",
    "                 replay_capacity=replay_capacity,\n",
    "                 architecture=architecture,\n",
    "                 l2_reg=l2_reg,\n",
    "                 tau=tau,\n",
    "                 batch_size=batch_size)"
   ]
  },
  {
   "cell_type": "code",
   "execution_count": 17,
   "metadata": {},
   "outputs": [
    {
     "name": "stdout",
     "output_type": "stream",
     "text": [
      "Model: \"sequential\"\n",
      "_________________________________________________________________\n",
      "Layer (type)                 Output Shape              Param #   \n",
      "=================================================================\n",
      "Dense_1 (Dense)              (None, 256)               2816      \n",
      "_________________________________________________________________\n",
      "Dense_2 (Dense)              (None, 256)               65792     \n",
      "_________________________________________________________________\n",
      "dropout (Dropout)            (None, 256)               0         \n",
      "_________________________________________________________________\n",
      "Output (Dense)               (None, 3)                 771       \n",
      "=================================================================\n",
      "Total params: 69,379\n",
      "Trainable params: 69,379\n",
      "Non-trainable params: 0\n",
      "_________________________________________________________________\n"
     ]
    }
   ],
   "source": [
    "ddqn.online_network.summary()"
   ]
  },
  {
   "cell_type": "markdown",
   "metadata": {},
   "source": [
    "## Run Experiment"
   ]
  },
  {
   "cell_type": "markdown",
   "metadata": {},
   "source": [
    "### Set parameters"
   ]
  },
  {
   "cell_type": "code",
   "execution_count": 18,
   "metadata": {
    "ExecuteTime": {
     "end_time": "2020-04-13T01:07:52.044390Z",
     "start_time": "2020-04-13T01:07:52.042696Z"
    }
   },
   "outputs": [],
   "source": [
    "total_steps = 0\n",
    "max_episodes = 2000"
   ]
  },
  {
   "cell_type": "markdown",
   "metadata": {},
   "source": [
    "### Initialize variables"
   ]
  },
  {
   "cell_type": "code",
   "execution_count": 19,
   "metadata": {
    "ExecuteTime": {
     "end_time": "2020-04-13T01:07:52.054932Z",
     "start_time": "2020-04-13T01:07:52.045394Z"
    }
   },
   "outputs": [],
   "source": [
    "episode_time, navs, market_navs, diffs, episode_eps = [], [], [], [], []"
   ]
  },
  {
   "cell_type": "markdown",
   "metadata": {},
   "source": [
    "## Visualiztion"
   ]
  },
  {
   "cell_type": "code",
   "execution_count": 20,
   "metadata": {
    "ExecuteTime": {
     "end_time": "2020-04-13T01:07:52.067761Z",
     "start_time": "2020-04-13T01:07:52.055808Z"
    }
   },
   "outputs": [],
   "source": [
    "def track_results(episode, nav_ma_100, nav_ma_10,\n",
    "                  market_nav_100, market_nav_10,\n",
    "                  win_ratio, total, epsilon):\n",
    "    time_ma = np.mean([episode_time[-100:]])\n",
    "    T = np.sum(episode_time)\n",
    "    \n",
    "    template = '{:>4d} | {} | Agent: {:>6.1%} ({:>6.1%}) | '\n",
    "    template += 'Market: {:>6.1%} ({:>6.1%}) | '\n",
    "    template += 'Wins: {:>5.1%} | eps: {:>6.3f}'\n",
    "    print(template.format(episode, format_time(total), \n",
    "                          nav_ma_100-1, nav_ma_10-1, \n",
    "                          market_nav_100-1, market_nav_10-1, \n",
    "                          win_ratio, epsilon))"
   ]
  },
  {
   "cell_type": "markdown",
   "metadata": {},
   "source": [
    "### Train Agent"
   ]
  },
  {
   "cell_type": "code",
   "execution_count": 21,
   "metadata": {
    "ExecuteTime": {
     "end_time": "2020-04-13T14:09:36.410971Z",
     "start_time": "2020-04-13T01:07:52.068971Z"
    }
   },
   "outputs": [
    {
     "name": "stdout",
     "output_type": "stream",
     "text": [
      "  10 | 00:00:01 | Agent: -39.1% (-39.1%) | Market:   4.6% (  4.6%) | Wins: 20.0% | eps:  0.960\n",
      "  20 | 00:00:23 | Agent: -33.9% (-28.8%) | Market:  23.2% ( 41.8%) | Wins: 20.0% | eps:  0.921\n",
      "  30 | 00:01:20 | Agent: -27.9% (-15.9%) | Market:  20.6% ( 15.4%) | Wins: 20.0% | eps:  0.881\n",
      "  40 | 00:02:20 | Agent: -22.2% ( -5.1%) | Market:  21.2% ( 23.0%) | Wins: 22.5% | eps:  0.842\n",
      "  50 | 00:03:21 | Agent: -21.8% (-20.0%) | Market:  20.2% ( 16.4%) | Wins: 22.0% | eps:  0.802\n",
      "  60 | 00:04:26 | Agent: -21.9% (-22.7%) | Market:  24.5% ( 45.6%) | Wins: 23.3% | eps:  0.762\n",
      "  70 | 00:05:34 | Agent: -19.7% ( -6.6%) | Market:  29.4% ( 59.3%) | Wins: 22.9% | eps:  0.723\n",
      "  80 | 00:06:46 | Agent: -19.3% (-16.6%) | Market:  27.6% ( 14.7%) | Wins: 23.8% | eps:  0.683\n",
      "  90 | 00:08:00 | Agent: -19.4% (-20.2%) | Market:  24.3% ( -2.1%) | Wins: 24.4% | eps:  0.644\n",
      " 100 | 00:09:18 | Agent: -19.4% (-19.2%) | Market:  24.0% ( 20.9%) | Wins: 23.0% | eps:  0.604\n",
      " 110 | 00:10:39 | Agent: -15.3% (  2.4%) | Market:  26.0% ( 25.0%) | Wins: 24.0% | eps:  0.564\n",
      " 120 | 00:12:01 | Agent:  -8.5% ( 38.8%) | Market:  29.9% ( 80.6%) | Wins: 25.0% | eps:  0.525\n",
      " 130 | 00:13:27 | Agent:  -8.5% (-15.6%) | Market:  36.4% ( 80.3%) | Wins: 25.0% | eps:  0.485\n",
      " 140 | 00:14:56 | Agent:  -7.1% (  9.1%) | Market:  35.4% ( 13.4%) | Wins: 24.0% | eps:  0.446\n",
      " 150 | 00:16:29 | Agent:  -5.7% ( -6.1%) | Market:  37.9% ( 41.0%) | Wins: 23.0% | eps:  0.406\n",
      " 160 | 00:18:04 | Agent:  -1.0% ( 24.0%) | Market:  34.9% ( 15.7%) | Wins: 24.0% | eps:  0.366\n",
      " 170 | 00:19:42 | Agent:   2.4% ( 27.0%) | Market:  32.7% ( 37.8%) | Wins: 24.0% | eps:  0.327\n",
      " 180 | 00:21:24 | Agent:   4.5% (  5.0%) | Market:  37.6% ( 63.3%) | Wins: 24.0% | eps:  0.287\n",
      " 190 | 00:23:07 | Agent:   7.9% ( 13.9%) | Market:  43.9% ( 61.3%) | Wins: 24.0% | eps:  0.248\n",
      " 200 | 00:24:53 | Agent:  16.0% ( 61.6%) | Market:  43.9% ( 20.4%) | Wins: 29.0% | eps:  0.208\n",
      " 210 | 00:26:49 | Agent:  16.1% (  3.0%) | Market:  45.1% ( 37.2%) | Wins: 28.0% | eps:  0.168\n",
      " 220 | 00:28:47 | Agent:  12.3% (  1.0%) | Market:  41.2% ( 41.3%) | Wins: 30.0% | eps:  0.129\n",
      " 230 | 00:30:44 | Agent:  15.1% ( 13.0%) | Market:  35.5% ( 24.2%) | Wins: 33.0% | eps:  0.089\n",
      " 240 | 00:32:47 | Agent:  15.8% ( 15.5%) | Market:  32.7% (-14.7%) | Wins: 38.0% | eps:  0.050\n",
      " 250 | 00:34:56 | Agent:  18.5% ( 21.1%) | Market:  31.5% ( 28.6%) | Wins: 41.0% | eps:  0.010\n",
      " 260 | 00:37:02 | Agent:  16.6% (  4.5%) | Market:  33.1% ( 31.6%) | Wins: 41.0% | eps:  0.009\n",
      " 270 | 00:39:11 | Agent:  16.6% ( 27.0%) | Market:  31.5% ( 21.8%) | Wins: 43.0% | eps:  0.008\n",
      " 280 | 00:41:20 | Agent:  18.4% ( 22.7%) | Market:  33.6% ( 84.3%) | Wins: 42.0% | eps:  0.007\n",
      " 290 | 00:43:42 | Agent:  16.8% ( -1.6%) | Market:  28.4% (  9.6%) | Wins: 42.0% | eps:  0.007\n",
      " 300 | 00:46:03 | Agent:  13.9% ( 32.8%) | Market:  31.0% ( 46.1%) | Wins: 39.0% | eps:  0.006\n",
      " 310 | 00:48:26 | Agent:  15.0% ( 13.7%) | Market:  31.0% ( 36.7%) | Wins: 41.0% | eps:  0.005\n",
      " 320 | 00:50:48 | Agent:  15.1% (  2.2%) | Market:  30.9% ( 40.5%) | Wins: 38.0% | eps:  0.005\n",
      " 330 | 00:53:13 | Agent:  16.8% ( 30.2%) | Market:  32.3% ( 38.6%) | Wins: 37.0% | eps:  0.004\n",
      " 340 | 00:55:43 | Agent:  17.7% ( 24.3%) | Market:  41.8% ( 79.7%) | Wins: 33.0% | eps:  0.004\n",
      " 350 | 00:58:14 | Agent:  16.1% (  4.7%) | Market:  42.4% ( 35.0%) | Wins: 34.0% | eps:  0.004\n",
      " 360 | 01:00:46 | Agent:  24.7% ( 90.5%) | Market:  39.9% (  6.4%) | Wins: 37.0% | eps:  0.003\n",
      " 370 | 01:03:16 | Agent:  23.6% ( 16.9%) | Market:  40.8% ( 30.6%) | Wins: 36.0% | eps:  0.003\n",
      " 380 | 01:05:46 | Agent:  26.5% ( 51.5%) | Market:  39.3% ( 69.3%) | Wins: 38.0% | eps:  0.003\n",
      " 390 | 01:08:17 | Agent:  28.8% ( 20.7%) | Market:  42.6% ( 42.7%) | Wins: 39.0% | eps:  0.002\n",
      " 400 | 01:10:51 | Agent:  27.9% ( 24.6%) | Market:  40.2% ( 22.7%) | Wins: 41.0% | eps:  0.002\n",
      " 410 | 01:13:29 | Agent:  29.7% ( 31.9%) | Market:  42.3% ( 57.8%) | Wins: 42.0% | eps:  0.002\n",
      " 420 | 01:16:05 | Agent:  32.7% ( 32.1%) | Market:  38.6% (  2.7%) | Wins: 47.0% | eps:  0.002\n",
      " 430 | 01:18:49 | Agent:  34.5% ( 48.2%) | Market:  36.7% ( 19.6%) | Wins: 48.0% | eps:  0.002\n",
      " 440 | 01:21:28 | Agent:  38.3% ( 61.8%) | Market:  30.4% ( 17.3%) | Wins: 52.0% | eps:  0.001\n",
      " 450 | 01:24:14 | Agent:  42.9% ( 51.0%) | Market:  31.8% ( 48.6%) | Wins: 52.0% | eps:  0.001\n",
      " 460 | 01:26:55 | Agent:  35.6% ( 16.8%) | Market:  38.0% ( 68.8%) | Wins: 47.0% | eps:  0.001\n",
      " 470 | 01:29:47 | Agent:  37.2% ( 33.1%) | Market:  37.1% ( 21.5%) | Wins: 49.0% | eps:  0.001\n",
      " 480 | 01:32:36 | Agent:  36.3% ( 43.1%) | Market:  35.9% ( 56.9%) | Wins: 49.0% | eps:  0.001\n",
      " 490 | 01:35:27 | Agent:  41.2% ( 69.4%) | Market:  31.6% ( -0.1%) | Wins: 51.0% | eps:  0.001\n",
      " 500 | 01:38:19 | Agent:  44.1% ( 53.6%) | Market:  32.3% ( 29.9%) | Wins: 52.0% | eps:  0.001\n",
      " 510 | 01:41:14 | Agent:  42.2% ( 12.9%) | Market:  30.2% ( 36.8%) | Wins: 50.0% | eps:  0.001\n",
      " 520 | 01:44:09 | Agent:  40.6% ( 15.7%) | Market:  32.8% ( 29.0%) | Wins: 47.0% | eps:  0.001\n",
      " 530 | 01:47:04 | Agent:  40.4% ( 46.4%) | Market:  33.1% ( 22.4%) | Wins: 48.0% | eps:  0.001\n",
      " 540 | 01:50:00 | Agent:  39.9% ( 57.1%) | Market:  33.1% ( 17.4%) | Wins: 48.0% | eps:  0.001\n",
      " 550 | 01:53:00 | Agent:  38.3% ( 34.7%) | Market:  33.2% ( 49.0%) | Wins: 47.0% | eps:  0.000\n",
      " 560 | 01:56:08 | Agent:  43.0% ( 63.7%) | Market:  29.9% ( 35.9%) | Wins: 50.0% | eps:  0.000\n",
      " 570 | 01:59:09 | Agent:  44.2% ( 45.5%) | Market:  31.1% ( 34.2%) | Wins: 50.0% | eps:  0.000\n",
      " 580 | 02:02:07 | Agent:  43.7% ( 37.4%) | Market:  33.4% ( 79.9%) | Wins: 50.0% | eps:  0.000\n",
      " 590 | 02:05:09 | Agent:  39.7% ( 30.3%) | Market:  37.0% ( 35.8%) | Wins: 49.0% | eps:  0.000\n",
      " 600 | 02:08:17 | Agent:  39.9% ( 55.0%) | Market:  39.2% ( 51.3%) | Wins: 49.0% | eps:  0.000\n",
      " 610 | 02:11:25 | Agent:  42.2% ( 36.4%) | Market:  38.5% ( 29.6%) | Wins: 52.0% | eps:  0.000\n",
      " 620 | 02:14:37 | Agent:  45.6% ( 49.3%) | Market:  39.6% ( 40.6%) | Wins: 53.0% | eps:  0.000\n",
      " 630 | 02:17:43 | Agent:  42.7% ( 17.1%) | Market:  40.7% ( 33.5%) | Wins: 50.0% | eps:  0.000\n",
      " 640 | 02:20:53 | Agent:  39.3% ( 23.1%) | Market:  44.5% ( 54.8%) | Wins: 45.0% | eps:  0.000\n",
      " 650 | 02:24:11 | Agent:  43.2% ( 73.9%) | Market:  40.2% (  6.4%) | Wins: 50.0% | eps:  0.000\n",
      " 660 | 02:27:34 | Agent:  39.2% ( 23.6%) | Market:  38.9% ( 22.9%) | Wins: 50.0% | eps:  0.000\n",
      " 670 | 02:30:54 | Agent:  37.1% ( 24.8%) | Market:  37.5% ( 20.2%) | Wins: 52.0% | eps:  0.000\n",
      " 680 | 02:34:17 | Agent:  35.3% ( 19.3%) | Market:  31.2% ( 16.4%) | Wins: 55.0% | eps:  0.000\n",
      " 690 | 02:37:44 | Agent:  36.0% ( 37.2%) | Market:  30.5% ( 29.1%) | Wins: 55.0% | eps:  0.000\n",
      " 700 | 02:41:11 | Agent:  32.8% ( 23.1%) | Market:  27.8% ( 24.7%) | Wins: 54.0% | eps:  0.000\n",
      " 710 | 02:44:38 | Agent:  32.3% ( 31.7%) | Market:  25.4% (  5.0%) | Wins: 55.0% | eps:  0.000\n",
      " 720 | 02:48:05 | Agent:  31.3% ( 39.3%) | Market:  25.5% ( 41.7%) | Wins: 54.0% | eps:  0.000\n",
      " 730 | 02:51:36 | Agent:  33.6% ( 39.5%) | Market:  26.5% ( 44.2%) | Wins: 58.0% | eps:  0.000\n",
      " 740 | 02:55:09 | Agent:  36.9% ( 56.9%) | Market:  25.7% ( 46.5%) | Wins: 61.0% | eps:  0.000\n",
      " 750 | 02:58:40 | Agent:  31.6% ( 20.4%) | Market:  28.4% ( 33.3%) | Wins: 56.0% | eps:  0.000\n",
      " 760 | 03:02:09 | Agent:  33.6% ( 43.5%) | Market:  26.9% (  8.3%) | Wins: 57.0% | eps:  0.000\n",
      " 770 | 03:05:44 | Agent:  31.2% (  0.9%) | Market:  28.1% ( 31.9%) | Wins: 53.0% | eps:  0.000\n",
      " 780 | 03:09:24 | Agent:  30.7% ( 14.2%) | Market:  28.0% ( 15.5%) | Wins: 51.0% | eps:  0.000\n",
      " 790 | 03:13:02 | Agent:  32.6% ( 56.0%) | Market:  29.0% ( 38.5%) | Wins: 52.0% | eps:  0.000\n",
      " 800 | 03:16:38 | Agent:  33.8% ( 35.1%) | Market:  29.3% ( 28.1%) | Wins: 53.0% | eps:  0.000\n",
      " 810 | 03:20:16 | Agent:  34.9% ( 42.8%) | Market:  35.6% ( 67.6%) | Wins: 51.0% | eps:  0.000\n",
      " 820 | 03:23:57 | Agent:  32.1% ( 12.0%) | Market:  34.7% ( 33.0%) | Wins: 50.0% | eps:  0.000\n",
      " 830 | 03:27:40 | Agent:  28.1% ( -1.1%) | Market:  30.3% (  0.7%) | Wins: 46.0% | eps:  0.000\n",
      " 840 | 03:31:25 | Agent:  28.4% ( 59.8%) | Market:  26.7% (  9.7%) | Wins: 48.0% | eps:  0.000\n",
      " 850 | 03:35:11 | Agent:  26.0% ( -2.9%) | Market:  26.2% ( 28.5%) | Wins: 47.0% | eps:  0.000\n",
      " 860 | 03:38:59 | Agent:  27.1% ( 54.6%) | Market:  27.7% ( 23.3%) | Wins: 48.0% | eps:  0.000\n",
      " 870 | 03:42:52 | Agent:  31.7% ( 46.3%) | Market:  24.0% ( -4.8%) | Wins: 51.0% | eps:  0.000\n",
      " 880 | 03:46:48 | Agent:  34.4% ( 41.1%) | Market:  23.8% ( 13.1%) | Wins: 52.0% | eps:  0.000\n",
      " 890 | 03:50:44 | Agent:  35.5% ( 67.4%) | Market:  22.2% ( 22.3%) | Wins: 53.0% | eps:  0.000\n",
      " 900 | 03:54:42 | Agent:  36.6% ( 46.4%) | Market:  22.0% ( 26.5%) | Wins: 53.0% | eps:  0.000\n",
      " 910 | 03:58:41 | Agent:  34.2% ( 18.6%) | Market:  15.5% (  2.9%) | Wins: 55.0% | eps:  0.000\n",
      " 920 | 04:02:49 | Agent:  37.4% ( 43.6%) | Market:  16.9% ( 46.4%) | Wins: 55.0% | eps:  0.000\n",
      " 930 | 04:06:56 | Agent:  40.9% ( 34.4%) | Market:  15.2% (-16.4%) | Wins: 61.0% | eps:  0.000\n",
      " 940 | 04:11:05 | Agent:  35.3% (  3.1%) | Market:  15.8% ( 15.7%) | Wins: 59.0% | eps:  0.000\n",
      " 950 | 04:15:16 | Agent:  39.7% ( 41.6%) | Market:  17.2% ( 43.3%) | Wins: 62.0% | eps:  0.000\n",
      " 960 | 04:19:33 | Agent:  36.8% ( 26.0%) | Market:  21.4% ( 65.3%) | Wins: 57.0% | eps:  0.000\n",
      " 970 | 04:23:49 | Agent:  34.2% ( 19.7%) | Market:  22.2% (  2.4%) | Wins: 58.0% | eps:  0.000\n",
      " 980 | 04:28:08 | Agent:  33.9% ( 38.4%) | Market:  22.9% ( 20.5%) | Wins: 58.0% | eps:  0.000\n",
      " 990 | 04:32:24 | Agent:  30.7% ( 35.1%) | Market:  19.9% ( -7.9%) | Wins: 57.0% | eps:  0.000\n",
      "1000 | 04:36:38 | Agent:  28.4% ( 23.8%) | Market:  17.6% (  3.5%) | Wins: 57.0% | eps:  0.000\n",
      "1010 | 04:41:01 | Agent:  30.5% ( 39.5%) | Market:  21.9% ( 45.7%) | Wins: 55.0% | eps:  0.000\n",
      "1020 | 04:45:27 | Agent:  30.0% ( 38.9%) | Market:  22.1% ( 48.5%) | Wins: 56.0% | eps:  0.000\n",
      "1030 | 04:49:54 | Agent:  28.5% ( 19.4%) | Market:  27.1% ( 33.7%) | Wins: 50.0% | eps:  0.000\n",
      "1040 | 04:54:30 | Agent:  31.9% ( 37.0%) | Market:  31.2% ( 56.8%) | Wins: 49.0% | eps:  0.000\n",
      "1050 | 04:58:59 | Agent:  29.3% ( 14.9%) | Market:  30.7% ( 38.8%) | Wins: 48.0% | eps:  0.000\n",
      "1060 | 05:03:26 | Agent:  33.7% ( 70.9%) | Market:  26.0% ( 17.7%) | Wins: 53.0% | eps:  0.000\n",
      "1070 | 05:07:55 | Agent:  33.1% ( 12.9%) | Market:  26.5% (  7.6%) | Wins: 50.0% | eps:  0.000\n",
      "1080 | 05:12:34 | Agent:  30.4% ( 12.3%) | Market:  30.0% ( 55.5%) | Wins: 47.0% | eps:  0.000\n",
      "1090 | 05:17:13 | Agent:  30.0% ( 30.5%) | Market:  35.0% ( 41.8%) | Wins: 45.0% | eps:  0.000\n",
      "1100 | 05:21:49 | Agent:  28.8% ( 11.5%) | Market:  43.0% ( 83.7%) | Wins: 41.0% | eps:  0.000\n",
      "1110 | 05:26:37 | Agent:  25.6% (  7.7%) | Market:  42.3% ( 39.3%) | Wins: 40.0% | eps:  0.000\n",
      "1120 | 05:31:17 | Agent:  22.7% ( 10.3%) | Market:  40.2% ( 26.8%) | Wins: 39.0% | eps:  0.000\n",
      "1130 | 05:36:03 | Agent:  22.5% ( 17.2%) | Market:  37.4% (  6.3%) | Wins: 41.0% | eps:  0.000\n",
      "1140 | 05:41:07 | Agent:  23.9% ( 51.3%) | Market:  36.9% ( 51.5%) | Wins: 42.0% | eps:  0.000\n",
      "1150 | 05:45:31 | Agent:  24.0% ( 15.3%) | Market:  35.7% ( 27.2%) | Wins: 41.0% | eps:  0.000\n",
      "1160 | 05:49:48 | Agent:  20.0% ( 31.3%) | Market:  40.5% ( 64.8%) | Wins: 38.0% | eps:  0.000\n",
      "1170 | 05:54:02 | Agent:  21.7% ( 29.5%) | Market:  42.5% ( 27.7%) | Wins: 39.0% | eps:  0.000\n",
      "1180 | 05:58:13 | Agent:  22.8% ( 23.4%) | Market:  36.9% (  0.1%) | Wins: 42.0% | eps:  0.000\n",
      "1190 | 06:02:25 | Agent:  25.6% ( 58.0%) | Market:  32.7% ( -0.1%) | Wins: 46.0% | eps:  0.000\n",
      "1200 | 06:06:38 | Agent:  29.5% ( 50.9%) | Market:  25.8% ( 15.0%) | Wins: 50.0% | eps:  0.000\n",
      "1210 | 06:10:51 | Agent:  33.8% ( 50.9%) | Market:  23.5% ( 15.9%) | Wins: 53.0% | eps:  0.000\n",
      "1220 | 06:15:05 | Agent:  39.3% ( 65.6%) | Market:  23.8% ( 29.9%) | Wins: 57.0% | eps:  0.000\n",
      "1230 | 06:19:20 | Agent:  41.5% ( 38.5%) | Market:  27.2% ( 40.4%) | Wins: 57.0% | eps:  0.000\n",
      "1240 | 06:23:39 | Agent:  38.9% ( 26.0%) | Market:  23.7% ( 15.8%) | Wins: 58.0% | eps:  0.000\n",
      "1250 | 06:27:58 | Agent:  41.8% ( 44.0%) | Market:  23.9% ( 29.4%) | Wins: 59.0% | eps:  0.000\n",
      "1260 | 06:32:21 | Agent:  41.5% ( 28.7%) | Market:  19.4% ( 20.3%) | Wins: 59.0% | eps:  0.000\n",
      "1270 | 06:36:45 | Agent:  42.5% ( 38.9%) | Market:  21.6% ( 49.6%) | Wins: 59.0% | eps:  0.000\n",
      "1280 | 06:41:10 | Agent:  44.3% ( 41.8%) | Market:  25.5% ( 38.4%) | Wins: 58.0% | eps:  0.000\n",
      "1290 | 06:45:36 | Agent:  44.2% ( 56.6%) | Market:  29.8% ( 43.3%) | Wins: 55.0% | eps:  0.000\n",
      "1300 | 06:50:04 | Agent:  44.4% ( 52.6%) | Market:  30.1% ( 18.0%) | Wins: 54.0% | eps:  0.000\n",
      "1310 | 06:54:33 | Agent:  43.4% ( 41.4%) | Market:  32.5% ( 40.0%) | Wins: 52.0% | eps:  0.000\n",
      "1320 | 06:59:04 | Agent:  40.8% ( 39.9%) | Market:  33.4% ( 38.5%) | Wins: 50.0% | eps:  0.000\n",
      "1330 | 07:03:37 | Agent:  42.8% ( 58.2%) | Market:  30.4% ( 11.1%) | Wins: 53.0% | eps:  0.000\n",
      "1340 | 07:08:11 | Agent:  42.7% ( 24.9%) | Market:  30.4% ( 15.6%) | Wins: 52.0% | eps:  0.000\n",
      "1350 | 07:12:47 | Agent:  40.3% ( 19.5%) | Market:  32.9% ( 54.4%) | Wins: 50.0% | eps:  0.000\n",
      "1360 | 07:17:26 | Agent:  39.7% ( 23.4%) | Market:  33.7% ( 28.0%) | Wins: 50.0% | eps:  0.000\n",
      "1370 | 07:22:07 | Agent:  39.7% ( 38.7%) | Market:  31.6% ( 28.2%) | Wins: 49.0% | eps:  0.000\n",
      "1380 | 07:26:49 | Agent:  36.8% ( 13.0%) | Market:  34.1% ( 63.5%) | Wins: 47.0% | eps:  0.000\n",
      "1390 | 07:31:37 | Agent:  35.8% ( 46.4%) | Market:  33.2% ( 35.1%) | Wins: 49.0% | eps:  0.000\n",
      "1400 | 07:36:32 | Agent:  33.9% ( 33.8%) | Market:  35.2% ( 37.9%) | Wins: 50.0% | eps:  0.000\n",
      "1410 | 07:41:27 | Agent:  34.4% ( 46.5%) | Market:  34.0% ( 27.9%) | Wins: 53.0% | eps:  0.000\n",
      "1420 | 07:46:28 | Agent:  31.0% (  5.2%) | Market:  32.9% ( 27.7%) | Wins: 53.0% | eps:  0.000\n",
      "1430 | 07:51:30 | Agent:  32.7% ( 75.8%) | Market:  32.4% (  6.0%) | Wins: 52.0% | eps:  0.000\n",
      "1440 | 07:56:33 | Agent:  32.9% ( 26.7%) | Market:  33.1% ( 22.4%) | Wins: 53.0% | eps:  0.000\n",
      "1450 | 08:01:38 | Agent:  36.3% ( 53.5%) | Market:  29.9% ( 22.7%) | Wins: 55.0% | eps:  0.000\n",
      "1460 | 08:06:44 | Agent:  37.2% ( 32.3%) | Market:  29.1% ( 19.6%) | Wins: 56.0% | eps:  0.000\n",
      "1470 | 08:11:46 | Agent:  36.7% ( 34.1%) | Market:  29.1% ( 28.8%) | Wins: 58.0% | eps:  0.000\n",
      "1480 | 08:16:48 | Agent:  44.0% ( 85.4%) | Market:  24.2% ( 14.2%) | Wins: 63.0% | eps:  0.000\n",
      "1490 | 08:21:56 | Agent:  44.7% ( 53.3%) | Market:  25.6% ( 48.6%) | Wins: 61.0% | eps:  0.000\n",
      "1500 | 08:27:36 | Agent:  44.3% ( 29.8%) | Market:  24.7% ( 28.7%) | Wins: 59.0% | eps:  0.000\n",
      "1510 | 08:32:46 | Agent:  40.9% ( 13.2%) | Market:  23.3% ( 13.9%) | Wins: 56.0% | eps:  0.000\n",
      "1520 | 08:37:57 | Agent:  43.2% ( 27.9%) | Market:  23.4% ( 29.0%) | Wins: 56.0% | eps:  0.000\n",
      "1530 | 08:43:07 | Agent:  38.0% ( 24.1%) | Market:  26.1% ( 33.0%) | Wins: 53.0% | eps:  0.000\n",
      "1540 | 08:48:19 | Agent:  39.6% ( 42.7%) | Market:  26.5% ( 26.5%) | Wins: 52.0% | eps:  0.000\n",
      "1550 | 08:53:39 | Agent:  38.4% ( 40.8%) | Market:  24.4% (  1.4%) | Wins: 55.0% | eps:  0.000\n",
      "1560 | 08:59:06 | Agent:  39.6% ( 44.9%) | Market:  28.3% ( 58.4%) | Wins: 54.0% | eps:  0.000\n",
      "1570 | 09:04:41 | Agent:  39.6% ( 33.5%) | Market:  32.0% ( 66.2%) | Wins: 52.0% | eps:  0.000\n",
      "1580 | 09:10:15 | Agent:  33.8% ( 28.0%) | Market:  34.3% ( 37.1%) | Wins: 48.0% | eps:  0.000\n",
      "1590 | 09:15:49 | Agent:  30.7% ( 22.5%) | Market:  33.3% ( 38.7%) | Wins: 47.0% | eps:  0.000\n",
      "1600 | 09:21:15 | Agent:  29.1% ( 13.1%) | Market:  34.4% ( 40.1%) | Wins: 48.0% | eps:  0.000\n",
      "1610 | 09:26:45 | Agent:  29.7% ( 19.9%) | Market:  37.8% ( 47.1%) | Wins: 46.0% | eps:  0.000\n",
      "1620 | 09:32:12 | Agent:  29.7% ( 27.4%) | Market:  40.4% ( 55.4%) | Wins: 43.0% | eps:  0.000\n",
      "1630 | 09:37:45 | Agent:  31.0% ( 37.0%) | Market:  39.9% ( 28.2%) | Wins: 44.0% | eps:  0.000\n",
      "1640 | 09:43:07 | Agent:  31.2% ( 45.5%) | Market:  39.9% ( 26.6%) | Wins: 43.0% | eps:  0.000\n",
      "1650 | 09:48:27 | Agent:  30.4% ( 32.7%) | Market:  43.2% ( 34.4%) | Wins: 41.0% | eps:  0.000\n",
      "1660 | 09:53:52 | Agent:  31.4% ( 55.0%) | Market:  42.3% ( 49.0%) | Wins: 43.0% | eps:  0.000\n",
      "1670 | 09:59:17 | Agent:  31.7% ( 35.9%) | Market:  37.4% ( 17.6%) | Wins: 45.0% | eps:  0.000\n",
      "1680 | 10:04:52 | Agent:  30.6% ( 16.9%) | Market:  37.6% ( 39.1%) | Wins: 45.0% | eps:  0.000\n",
      "1690 | 10:10:18 | Agent:  34.1% ( 57.8%) | Market:  38.8% ( 50.5%) | Wins: 47.0% | eps:  0.000\n",
      "1700 | 10:15:42 | Agent:  36.6% ( 37.9%) | Market:  38.8% ( 40.5%) | Wins: 48.0% | eps:  0.000\n",
      "1710 | 10:21:07 | Agent:  41.7% ( 70.9%) | Market:  40.7% ( 66.1%) | Wins: 50.0% | eps:  0.000\n",
      "1720 | 10:26:41 | Agent:  45.3% ( 63.3%) | Market:  38.7% ( 35.2%) | Wins: 55.0% | eps:  0.000\n",
      "1730 | 10:32:19 | Agent:  48.4% ( 68.2%) | Market:  36.9% ( 10.0%) | Wins: 56.0% | eps:  0.000\n",
      "1740 | 10:37:58 | Agent:  49.0% ( 51.0%) | Market:  38.7% ( 44.5%) | Wins: 56.0% | eps:  0.000\n",
      "1750 | 10:43:36 | Agent:  48.8% ( 30.7%) | Market:  37.0% ( 17.6%) | Wins: 57.0% | eps:  0.000\n",
      "1760 | 10:49:13 | Agent:  50.0% ( 67.2%) | Market:  33.7% ( 15.7%) | Wins: 58.0% | eps:  0.000\n",
      "1770 | 10:54:59 | Agent:  53.6% ( 72.3%) | Market:  37.2% ( 52.6%) | Wins: 57.0% | eps:  0.000\n",
      "1780 | 11:00:47 | Agent:  54.7% ( 27.3%) | Market:  38.0% ( 46.7%) | Wins: 57.0% | eps:  0.000\n",
      "1790 | 11:06:33 | Agent:  52.4% ( 34.7%) | Market:  36.4% ( 34.6%) | Wins: 58.0% | eps:  0.000\n",
      "1800 | 11:12:17 | Agent:  51.7% ( 31.5%) | Market:  35.3% ( 29.6%) | Wins: 56.0% | eps:  0.000\n",
      "1810 | 11:18:05 | Agent:  50.1% ( 54.9%) | Market:  31.0% ( 23.0%) | Wins: 57.0% | eps:  0.000\n",
      "1820 | 11:23:57 | Agent:  46.7% ( 29.2%) | Market:  29.0% ( 15.8%) | Wins: 55.0% | eps:  0.000\n",
      "1830 | 11:29:48 | Agent:  43.2% ( 33.2%) | Market:  33.0% ( 49.4%) | Wins: 51.0% | eps:  0.000\n",
      "1840 | 11:35:43 | Agent:  43.8% ( 56.8%) | Market:  34.7% ( 62.3%) | Wins: 51.0% | eps:  0.000\n",
      "1850 | 11:41:40 | Agent:  45.7% ( 49.9%) | Market:  35.2% ( 22.1%) | Wins: 51.0% | eps:  0.000\n",
      "1860 | 11:47:38 | Agent:  43.4% ( 44.6%) | Market:  35.9% ( 22.5%) | Wins: 50.0% | eps:  0.000\n",
      "1870 | 11:53:35 | Agent:  39.0% ( 27.9%) | Market:  35.5% ( 49.5%) | Wins: 50.0% | eps:  0.000\n",
      "1880 | 11:59:35 | Agent:  40.0% ( 37.1%) | Market:  37.2% ( 62.8%) | Wins: 51.0% | eps:  0.000\n",
      "1890 | 12:05:36 | Agent:  39.1% ( 26.0%) | Market:  39.0% ( 53.0%) | Wins: 47.0% | eps:  0.000\n",
      "1900 | 12:11:39 | Agent:  37.6% ( 16.7%) | Market:  38.9% ( 29.0%) | Wins: 47.0% | eps:  0.000\n",
      "1910 | 12:17:44 | Agent:  39.0% ( 68.6%) | Market:  40.2% ( 35.6%) | Wins: 47.0% | eps:  0.000\n",
      "1920 | 12:23:51 | Agent:  41.8% ( 56.9%) | Market:  45.1% ( 64.7%) | Wins: 46.0% | eps:  0.000\n",
      "1930 | 12:30:02 | Agent:  42.0% ( 35.8%) | Market:  42.7% ( 25.7%) | Wins: 50.0% | eps:  0.000\n",
      "1940 | 12:36:15 | Agent:  39.6% ( 32.6%) | Market:  38.5% ( 19.7%) | Wins: 51.0% | eps:  0.000\n",
      "1950 | 12:42:32 | Agent:  38.1% ( 34.5%) | Market:  41.7% ( 54.6%) | Wins: 48.0% | eps:  0.000\n",
      "1960 | 12:48:51 | Agent:  35.9% ( 22.7%) | Market:  42.3% ( 28.8%) | Wins: 49.0% | eps:  0.000\n",
      "1970 | 12:55:01 | Agent:  34.8% ( 17.0%) | Market:  38.9% ( 15.4%) | Wins: 49.0% | eps:  0.000\n",
      "1980 | 13:01:11 | Agent:  34.6% ( 35.5%) | Market:  36.1% ( 34.3%) | Wins: 48.0% | eps:  0.000\n",
      "1990 | 13:07:21 | Agent:  36.4% ( 44.1%) | Market:  32.7% ( 19.6%) | Wins: 52.0% | eps:  0.000\n",
      "2000 | 13:13:33 | Agent:  36.8% ( 20.6%) | Market:  33.4% ( 35.2%) | Wins: 52.0% | eps:  0.000\n"
     ]
    }
   ],
   "source": [
    "start = time()\n",
    "results = []\n",
    "for episode in range(1, max_episodes + 1):\n",
    "    this_state = trading_environment.reset()\n",
    "    for episode_step in range(max_episode_steps):\n",
    "        action = ddqn.epsilon_greedy_policy(this_state.reshape(-1, state_dim))\n",
    "        next_state, reward, done, _ = trading_environment.step(action)\n",
    "    \n",
    "        ddqn.memorize_transition(this_state, \n",
    "                                 action, \n",
    "                                 reward, \n",
    "                                 next_state, \n",
    "                                 0.0 if done else 1.0)\n",
    "        if ddqn.train:\n",
    "            ddqn.experience_replay()\n",
    "        if done:\n",
    "            break\n",
    "        this_state = next_state\n",
    "\n",
    "    result = trading_environment.env.simulator.result()\n",
    "    final = result.iloc[-1]\n",
    "\n",
    "    nav = final.nav * (1 + final.strategy_return)\n",
    "    navs.append(nav)\n",
    "\n",
    "    market_nav = final.market_nav\n",
    "    market_navs.append(market_nav)\n",
    "\n",
    "    diff = nav - market_nav\n",
    "    diffs.append(diff)\n",
    "    if episode % 10 == 0:\n",
    "        track_results(episode, np.mean(navs[-100:]), np.mean(navs[-10:]), \n",
    "                      np.mean(market_navs[-100:]), np.mean(market_navs[-10:]), \n",
    "                      np.sum([s > 0 for s in diffs[-100:]])/min(len(diffs), 100), \n",
    "                      time() - start, ddqn.epsilon)\n",
    "    if len(diffs) > 25 and all([r > 0 for r in diffs[-25:]]):\n",
    "        print(result.tail())\n",
    "        break\n",
    "\n",
    "trading_environment.close()"
   ]
  },
  {
   "cell_type": "markdown",
   "metadata": {},
   "source": [
    "### Store Results"
   ]
  },
  {
   "cell_type": "code",
   "execution_count": 22,
   "metadata": {
    "ExecuteTime": {
     "end_time": "2020-04-13T14:20:39.552200Z",
     "start_time": "2020-04-13T14:20:39.484266Z"
    }
   },
   "outputs": [],
   "source": [
    "results = pd.DataFrame({'Episode': list(range(1, episode+1)),\n",
    "                        'Agent': navs,\n",
    "                        'Market': market_navs,\n",
    "                        'Difference': diffs})\n",
    "\n",
    "fn = 'results.csv'\n",
    "# results.to_csv(Path('results', 'trading_agent') / fn, index=False)"
   ]
  },
  {
   "cell_type": "code",
   "execution_count": 23,
   "metadata": {},
   "outputs": [
    {
     "name": "stdout",
     "output_type": "stream",
     "text": [
      "<class 'pandas.core.frame.DataFrame'>\n",
      "RangeIndex: 2000 entries, 0 to 1999\n",
      "Data columns (total 4 columns):\n",
      " #   Column      Non-Null Count  Dtype  \n",
      "---  ------      --------------  -----  \n",
      " 0   Episode     2000 non-null   int64  \n",
      " 1   Agent       2000 non-null   float64\n",
      " 2   Market      2000 non-null   float64\n",
      " 3   Difference  2000 non-null   float64\n",
      "dtypes: float64(3), int64(1)\n",
      "memory usage: 62.6 KB\n"
     ]
    }
   ],
   "source": [
    "results.info()"
   ]
  },
  {
   "cell_type": "code",
   "execution_count": 25,
   "metadata": {},
   "outputs": [
    {
     "data": {
      "image/png": "[encoded data removed]",
      "text/plain": [
       "<Figure size 432x288 with 1 Axes>"
      ]
     },
     "metadata": {},
     "output_type": "display_data"
    }
   ],
   "source": [
    "sns.distplot(results.Difference);"
   ]
  },
  {
   "cell_type": "markdown",
   "metadata": {},
   "source": [
    "### Evaluate Results"
   ]
  },
  {
   "cell_type": "code",
   "execution_count": 26,
   "metadata": {
    "ExecuteTime": {
     "end_time": "2020-04-13T14:20:51.847185Z",
     "start_time": "2020-04-13T14:20:51.812675Z"
    }
   },
   "outputs": [
    {
     "name": "stdout",
     "output_type": "stream",
     "text": [
      "<class 'pandas.core.frame.DataFrame'>\n",
      "Int64Index: 2000 entries, 1 to 2000\n",
      "Data columns (total 4 columns):\n",
      " #   Column             Non-Null Count  Dtype  \n",
      "---  ------             --------------  -----  \n",
      " 0   Agent              2000 non-null   float64\n",
      " 1   Market             2000 non-null   float64\n",
      " 2   Difference         2000 non-null   float64\n",
      " 3   Strategy Wins (%)  1901 non-null   float64\n",
      "dtypes: float64(4)\n",
      "memory usage: 78.1 KB\n"
     ]
    }
   ],
   "source": [
    "# results = pd.read_csv(ddqn.results_dir / 'results.csv')\n",
    "# results = pd.read_csv('trading_agent/result_no_cost.csv')\n",
    "# results.columns = ['Episode', 'Agent', 'Market', 'Difference']\n",
    "results = results.set_index('Episode')\n",
    "results['Strategy Wins (%)'] = (results.Difference > 0).rolling(100).sum()\n",
    "results.info()"
   ]
  },
  {
   "cell_type": "markdown",
   "metadata": {},
   "source": [
    "The following diagram shows the rolling average of agent and market returns over 100 periods on the left, and the share of the last 100 periods the agent outperformed the market on the right. It uses AAPL stock data for which there are some 9,000 daily price and volume observations. Training stopped after 14,000 trading periods when the agent beat the market 10 consecutive times.\n",
    "\n",
    "It shows how the agent's performance improves significantly while exploring at a higher rate over the first ~3,000 periods (that is, years) and approaches a level where it outperforms the market around 40 percent of the time, despite transaction costs. In a few instances, it beats the market about half the time out of 100 periods:"
   ]
  },
  {
   "cell_type": "code",
   "execution_count": 28,
   "metadata": {
    "ExecuteTime": {
     "end_time": "2020-04-13T14:24:38.686508Z",
     "start_time": "2020-04-13T14:24:37.768569Z"
    }
   },
   "outputs": [
    {
     "data": {
      "image/png": "[encoded data removed]",
      "text/plain": [
       "<Figure size 1008x288 with 2 Axes>"
      ]
     },
     "metadata": {},
     "output_type": "display_data"
    }
   ],
   "source": [
    "fig, axes = plt.subplots(ncols=2, figsize=(14,4), sharey=True)\n",
    "(results[['Agent', 'Market']]\n",
    " .sub(1)\n",
    " .rolling(100)\n",
    " .mean()\n",
    " .plot(ax=axes[0], \n",
    "       title='Annual Returns (Moving Average)', lw=1))\n",
    "results['Strategy Wins (%)'].div(100).rolling(50).mean().plot(ax=axes[1], title='Agent Outperformance (%, Moving Average)');\n",
    "for ax in axes:\n",
    "    ax.yaxis.set_major_formatter(FuncFormatter(lambda y, _: '{:.0%}'.format(y)))\n",
    "    ax.xaxis.set_major_formatter(FuncFormatter(lambda x, _: '{:,.0f}'.format(x)))\n",
    "axes[1].axhline(.5, ls='--', c='k', lw=1)\n",
    "fig.tight_layout()\n",
    "fig.savefig('figures/trading_agent_v2', dpi=300)"
   ]
  },
  {
   "cell_type": "markdown",
   "metadata": {},
   "source": [
    "## Summary"
   ]
  },
  {
   "cell_type": "markdown",
   "metadata": {},
   "source": [
    "This relatively simple agent uses limited information beyond the latest market data and the reward signal compared to the machine learning models we covered elsewhere in this book. Nonetheless, it learns to make a profit and approach the market (after training on several thousand year's worth of data, which takes around 30 minutes).\n",
    "\n",
    "Keep in mind that using a single stock also increase the risk of overfitting the data by a lot. You can test your trained agent on new data using the saved model (see the notebook on the Lunar Lander).\n",
    "\n",
    "In conclusion, we have demonstrated the mechanics of setting up a RL trading environment and experimented with a basic agent that uses a small number of technical indicators. You should try to extend both the environment and the agent so that you can choose from several assets, size their positions, and manage risks.\n",
    "\n",
    "More specifically, the environment samples a stock price time series for a single ticker from a random start date to simulate a trading period of 252 days, or 1 year (default). The agent has three options, that is, buying (long), short, or exiting its position, and faces a 10bps trading plus a 1bps time cost per period."
   ]
  }
 ],
 "metadata": {
  "kernelspec": {
   "display_name": "Python [conda env:ml4t-rl]",
   "language": "python",
   "name": "conda-env-ml4t-rl-py"
  },
  "language_info": {
   "codemirror_mode": {
    "name": "ipython",
    "version": 3
   },
   "file_extension": ".py",
   "mimetype": "text/x-python",
   "name": "python",
   "nbconvert_exporter": "python",
   "pygments_lexer": "ipython3",
   "version": "3.7.7"
  },
  "toc": {
   "base_numbering": 1,
   "nav_menu": {},
   "number_sections": true,
   "sideBar": true,
   "skip_h1_title": true,
   "title_cell": "Table of Contents",
   "title_sidebar": "Contents",
   "toc_cell": false,
   "toc_position": {
    "height": "calc(100% - 180px)",
    "left": "10px",
    "top": "150px",
    "width": "230.909px"
   },
   "toc_section_display": true,
   "toc_window_display": true
  }
 },
 "nbformat": 4,
 "nbformat_minor": 4
}
