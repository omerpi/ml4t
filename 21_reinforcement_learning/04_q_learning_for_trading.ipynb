{
 "cells": [
  {
   "cell_type": "markdown",
   "metadata": {},
   "source": [
    "# Reinforcement Learning for trading"
   ]
  },
  {
   "cell_type": "markdown",
   "metadata": {},
   "source": [
    "To train a trading agent, we need to create a market environment that provides price and other information, offers trading-related actions, and keeps track of the portfolio to reward the agent accordingly."
   ]
  },
  {
   "cell_type": "markdown",
   "metadata": {},
   "source": [
    "## How to Design an OpenAI trading environment"
   ]
  },
  {
   "cell_type": "markdown",
   "metadata": {},
   "source": [
    "The OpenAI Gym allows for the design, registration, and utilization of environments that adhere to its architecture, as described in its [documentation](https://github.com/openai/gym/tree/master/gym/envs#how-to-create-new-environments-for-gym). The [trading_env.py](trading_env.py) file implements an example that illustrates how to create a class that implements the requisite `step()` and `reset()` methods.\n",
    "\n",
    "The trading environment consists of three classes that interact to facilitate the agent's activities:\n",
    " 1. The `DataSource` class loads a time series, generates a few features, and provides the latest observation to the agent at each time step. \n",
    " 2. `TradingSimulator` tracks the positions, trades and cost, and the performance. It also implements and records the results of a buy-and-hold benchmark strategy. \n",
    " 3. `TradingEnvironment` itself orchestrates the process. "
   ]
  },
  {
   "cell_type": "markdown",
   "metadata": {},
   "source": [
    "## A basic trading game"
   ]
  },
  {
   "cell_type": "markdown",
   "metadata": {},
   "source": [
    "To train the agent, we need to set up a simple game with a limited set of options, a relatively low-dimensional state, and other parameters that can be easily modified and extended.\n",
    "\n",
    "More specifically, the environment samples a stock price time series for a single ticker using a random start date to simulate a trading period that, by default, contains 252 days, or 1 year. The state contains the (scaled) price and volume, as well as some technical indicators like the percentile ranks of price and volume, a relative strength index (RSI), as well as 5- and 21-day returns. The agent can choose from three actions:\n",
    "\n",
    "- **Buy**: Invest capital for a long position in the stock\n",
    "- **Flat**: Hold cash only\n",
    "- **Sell short**: Take a short position equal to the amount of capital\n",
    "\n",
    "The environment accounts for trading cost, which is set to 10bps by default. It also deducts a 1bps time cost per period. It tracks the net asset value (NAV) of the agent's portfolio and compares it against the market portfolio (which trades frictionless to raise the bar for the agent)."
   ]
  },
  {
   "cell_type": "markdown",
   "metadata": {},
   "source": [
    "We use the same DDQN agent and neural network architecture that successfully learned to navigate the Lunar Lander environment. We let exploration continue for 500,000 time steps (~2,000 1yr trading periods) with linear decay of ε to 0.1 and exponential decay at a factor of 0.9999 thereafter."
   ]
  },
  {
   "cell_type": "markdown",
   "metadata": {},
   "source": [
    "## Imports & Settings"
   ]
  },
  {
   "cell_type": "code",
   "execution_count": 1,
   "metadata": {
    "ExecuteTime": {
     "end_time": "2020-04-13T01:07:43.688877Z",
     "start_time": "2020-04-13T01:07:43.686184Z"
    }
   },
   "outputs": [],
   "source": [
    "import warnings\n",
    "warnings.filterwarnings('ignore')"
   ]
  },
  {
   "cell_type": "code",
   "execution_count": 2,
   "metadata": {
    "ExecuteTime": {
     "end_time": "2020-04-13T01:07:45.023868Z",
     "start_time": "2020-04-13T01:07:43.690979Z"
    }
   },
   "outputs": [],
   "source": [
    "%matplotlib inline\n",
    "from pathlib import Path\n",
    "from time import time\n",
    "import numpy as np\n",
    "import pandas as pd\n",
    "\n",
    "import matplotlib.pyplot as plt\n",
    "from matplotlib.ticker import FuncFormatter\n",
    "import seaborn as sns\n",
    "\n",
    "import tensorflow as tf\n",
    "\n",
    "import gym\n",
    "from gym.envs.registration import register"
   ]
  },
  {
   "cell_type": "code",
   "execution_count": 3,
   "metadata": {
    "ExecuteTime": {
     "end_time": "2020-04-13T01:07:45.035908Z",
     "start_time": "2020-04-13T01:07:45.024872Z"
    }
   },
   "outputs": [],
   "source": [
    "from DDQNAgent import DDQNAgent"
   ]
  },
  {
   "cell_type": "code",
   "execution_count": 4,
   "metadata": {
    "ExecuteTime": {
     "end_time": "2020-04-13T01:07:45.039247Z",
     "start_time": "2020-04-13T01:07:45.036895Z"
    }
   },
   "outputs": [],
   "source": [
    "sns.set_style('whitegrid')"
   ]
  },
  {
   "cell_type": "markdown",
   "metadata": {},
   "source": [
    "### Helper functions"
   ]
  },
  {
   "cell_type": "code",
   "execution_count": 5,
   "metadata": {
    "ExecuteTime": {
     "end_time": "2020-04-13T01:07:45.048135Z",
     "start_time": "2020-04-13T01:07:45.040078Z"
    }
   },
   "outputs": [],
   "source": [
    "def format_time(t):\n",
    "    m_, s = divmod(t, 60)\n",
    "    h, m = divmod(m_, 60)\n",
    "    return '{:02.0f}:{:05.2f}'.format(m, s)"
   ]
  },
  {
   "cell_type": "markdown",
   "metadata": {},
   "source": [
    "## Set up Gym Environment"
   ]
  },
  {
   "cell_type": "markdown",
   "metadata": {},
   "source": [
    "Before using the custom environment, just like we used the Lunar Lander environment, we need to register it:"
   ]
  },
  {
   "cell_type": "code",
   "execution_count": 6,
   "metadata": {
    "ExecuteTime": {
     "end_time": "2020-04-13T01:07:45.056466Z",
     "start_time": "2020-04-13T01:07:45.048936Z"
    }
   },
   "outputs": [],
   "source": [
    "register(\n",
    "    id='trading-v0',\n",
    "    entry_point='trading_env:TradingEnvironment',\n",
    "    max_episode_steps=1000\n",
    ")"
   ]
  },
  {
   "cell_type": "markdown",
   "metadata": {},
   "source": [
    "### Initialize Trading Environment"
   ]
  },
  {
   "cell_type": "markdown",
   "metadata": {},
   "source": [
    "We can instantiate the environment by using the desired trading costs and ticker:"
   ]
  },
  {
   "cell_type": "code",
   "execution_count": 7,
   "metadata": {
    "ExecuteTime": {
     "end_time": "2020-04-13T01:07:51.350402Z",
     "start_time": "2020-04-13T01:07:45.057391Z"
    },
    "scrolled": false
   },
   "outputs": [
    {
     "name": "stderr",
     "output_type": "stream",
     "text": [
      "INFO:trading_env:trading_env logger started.\n",
      "INFO:trading_env:loading data for AAPL...\n",
      "INFO:trading_env:got data for AAPL...\n",
      "INFO:trading_env:None\n"
     ]
    },
    {
     "name": "stdout",
     "output_type": "stream",
     "text": [
      "<class 'pandas.core.frame.DataFrame'>\n",
      "MultiIndex: 8596 entries, (Timestamp('1981-05-06 00:00:00'), 'AAPL') to (Timestamp('2018-03-27 00:00:00'), 'AAPL')\n",
      "Data columns (total 10 columns):\n",
      " #   Column          Non-Null Count  Dtype  \n",
      "---  ------          --------------  -----  \n",
      " 0   close           8596 non-null   float64\n",
      " 1   volume          8596 non-null   float64\n",
      " 2   returns         8596 non-null   float64\n",
      " 3   close_pct_100   8596 non-null   float64\n",
      " 4   volume_pct_100  8596 non-null   float64\n",
      " 5   close_pct_20    8596 non-null   float64\n",
      " 6   volume_pct_20   8596 non-null   float64\n",
      " 7   return_5        8596 non-null   float64\n",
      " 8   return_21       8596 non-null   float64\n",
      " 9   rsi             8596 non-null   float64\n",
      "dtypes: float64(10)\n",
      "memory usage: 841.8+ KB\n"
     ]
    },
    {
     "data": {
      "text/plain": [
       "[42]"
      ]
     },
     "execution_count": 7,
     "metadata": {},
     "output_type": "execute_result"
    }
   ],
   "source": [
    "trading_environment = gym.make('trading-v0')\n",
    "trading_environment.env.trading_cost_bps = 1e-3\n",
    "trading_environment.env.time_cost_bps = 1e-4\n",
    "trading_environment.env.ticker = 'AAPL'\n",
    "trading_environment.seed(42)"
   ]
  },
  {
   "cell_type": "markdown",
   "metadata": {},
   "source": [
    "### Get Environment Params"
   ]
  },
  {
   "cell_type": "code",
   "execution_count": 8,
   "metadata": {
    "ExecuteTime": {
     "end_time": "2020-04-13T01:07:51.353139Z",
     "start_time": "2020-04-13T01:07:51.351288Z"
    }
   },
   "outputs": [],
   "source": [
    "state_dim = trading_environment.observation_space.shape[0]  \n",
    "num_actions = trading_environment.action_space.n\n",
    "max_episode_steps = trading_environment.spec.max_episode_steps"
   ]
  },
  {
   "cell_type": "markdown",
   "metadata": {},
   "source": [
    "## Define hyperparameters"
   ]
  },
  {
   "cell_type": "code",
   "execution_count": 9,
   "metadata": {
    "ExecuteTime": {
     "end_time": "2020-04-13T01:07:51.380949Z",
     "start_time": "2020-04-13T01:07:51.354451Z"
    }
   },
   "outputs": [],
   "source": [
    "gamma = .99,  # discount factor\n",
    "tau = 100  # target network update frequency"
   ]
  },
  {
   "cell_type": "markdown",
   "metadata": {},
   "source": [
    "### NN Architecture"
   ]
  },
  {
   "cell_type": "code",
   "execution_count": 10,
   "metadata": {
    "ExecuteTime": {
     "end_time": "2020-04-13T01:07:51.388791Z",
     "start_time": "2020-04-13T01:07:51.382926Z"
    }
   },
   "outputs": [],
   "source": [
    "architecture = (256, ) * 3  # units per layer\n",
    "learning_rate = 5e-5  # learning rate\n",
    "l2_reg = 1e-6  # L2 regularization"
   ]
  },
  {
   "cell_type": "markdown",
   "metadata": {},
   "source": [
    "### Experience Replay"
   ]
  },
  {
   "cell_type": "code",
   "execution_count": 11,
   "metadata": {
    "ExecuteTime": {
     "end_time": "2020-04-13T01:07:51.398564Z",
     "start_time": "2020-04-13T01:07:51.390240Z"
    }
   },
   "outputs": [],
   "source": [
    "replay_capacity = int(1e6)\n",
    "batch_size = 16"
   ]
  },
  {
   "cell_type": "markdown",
   "metadata": {},
   "source": [
    "### $\\epsilon$-greedy Policy"
   ]
  },
  {
   "cell_type": "code",
   "execution_count": 12,
   "metadata": {
    "ExecuteTime": {
     "end_time": "2020-04-13T01:07:51.407309Z",
     "start_time": "2020-04-13T01:07:51.399843Z"
    }
   },
   "outputs": [],
   "source": [
    "epsilon_start = 1.0\n",
    "epsilon_end = 0.05\n",
    "epsilon_decay_steps = 1e5"
   ]
  },
  {
   "cell_type": "markdown",
   "metadata": {},
   "source": [
    "## Create DDQN Agent"
   ]
  },
  {
   "cell_type": "markdown",
   "metadata": {},
   "source": [
    "We will use [TensorFlow](https://www.tensorflow.org/) to create our Double Deep Q-Network ."
   ]
  },
  {
   "cell_type": "code",
   "execution_count": 13,
   "metadata": {
    "ExecuteTime": {
     "end_time": "2020-04-13T01:07:51.417521Z",
     "start_time": "2020-04-13T01:07:51.408633Z"
    }
   },
   "outputs": [],
   "source": [
    "tf.keras.backend.clear_session()"
   ]
  },
  {
   "cell_type": "code",
   "execution_count": 14,
   "metadata": {
    "ExecuteTime": {
     "end_time": "2020-04-13T01:07:52.041819Z",
     "start_time": "2020-04-13T01:07:51.418387Z"
    }
   },
   "outputs": [],
   "source": [
    "ddqn = DDQNAgent(state_dim=state_dim,\n",
    "                 num_actions=num_actions,\n",
    "                 learning_rate=learning_rate,\n",
    "                 gamma=gamma,\n",
    "                 epsilon_start=epsilon_start,\n",
    "                 epsilon_end=epsilon_end,\n",
    "                 epsilon_decay_steps=epsilon_decay_steps,\n",
    "                 replay_capacity=replay_capacity,\n",
    "                 architecture=architecture,\n",
    "                 l2_reg=l2_reg,\n",
    "                 tau=tau,\n",
    "                 batch_size=batch_size)"
   ]
  },
  {
   "cell_type": "markdown",
   "metadata": {},
   "source": [
    "## Run Experiment"
   ]
  },
  {
   "cell_type": "markdown",
   "metadata": {},
   "source": [
    "### Set parameters"
   ]
  },
  {
   "cell_type": "code",
   "execution_count": 15,
   "metadata": {
    "ExecuteTime": {
     "end_time": "2020-04-13T01:07:52.044390Z",
     "start_time": "2020-04-13T01:07:52.042696Z"
    }
   },
   "outputs": [],
   "source": [
    "total_steps = 0\n",
    "max_episodes = 10000"
   ]
  },
  {
   "cell_type": "markdown",
   "metadata": {},
   "source": [
    "### Initialize variables"
   ]
  },
  {
   "cell_type": "code",
   "execution_count": 16,
   "metadata": {
    "ExecuteTime": {
     "end_time": "2020-04-13T01:07:52.054932Z",
     "start_time": "2020-04-13T01:07:52.045394Z"
    }
   },
   "outputs": [],
   "source": [
    "episode_time, navs, market_navs, diffs, episode_eps = [], [], [], [], []"
   ]
  },
  {
   "cell_type": "markdown",
   "metadata": {},
   "source": [
    "## Visualiztion"
   ]
  },
  {
   "cell_type": "code",
   "execution_count": 17,
   "metadata": {
    "ExecuteTime": {
     "end_time": "2020-04-13T01:07:52.067761Z",
     "start_time": "2020-04-13T01:07:52.055808Z"
    }
   },
   "outputs": [],
   "source": [
    "def track_results(episode, episode_nav,\n",
    "                  market_nav, ratio,\n",
    "                  total,\n",
    "                  epsilon):\n",
    "    time_ma = np.mean([episode_time[-100:]])\n",
    "    T = np.sum(episode_time)\n",
    "    \n",
    "    template = '{:>4d} | NAV: {:>5.3f} | Market NAV: {:>5.3f} | Delta: {:4.0f} | {} | eps: {:>6.3f}'\n",
    "    print(template.format(episode, episode_nav, market_nav, ratio, format_time(total), epsilon))"
   ]
  },
  {
   "cell_type": "markdown",
   "metadata": {},
   "source": [
    "### Train Agent"
   ]
  },
  {
   "cell_type": "code",
   "execution_count": 18,
   "metadata": {
    "ExecuteTime": {
     "end_time": "2020-04-13T14:09:36.410971Z",
     "start_time": "2020-04-13T01:07:52.068971Z"
    },
    "scrolled": false
   },
   "outputs": [
    {
     "name": "stdout",
     "output_type": "stream",
     "text": [
      "  50 | NAV: 0.878 | Market NAV: 1.298 | Delta:   13 | 00:00.00 | eps:  0.880\n",
      " 100 | NAV: 0.848 | Market NAV: 1.351 | Delta:   22 | 00:00.00 | eps:  0.761\n",
      " 150 | NAV: 0.790 | Market NAV: 1.349 | Delta:   19 | 00:00.00 | eps:  0.641\n",
      " 200 | NAV: 0.755 | Market NAV: 1.311 | Delta:   15 | 00:00.00 | eps:  0.521\n",
      " 250 | NAV: 0.755 | Market NAV: 1.350 | Delta:   15 | 00:00.00 | eps:  0.402\n",
      " 300 | NAV: 0.786 | Market NAV: 1.304 | Delta:   25 | 00:00.00 | eps:  0.282\n",
      " 350 | NAV: 0.809 | Market NAV: 1.278 | Delta:   25 | 00:00.00 | eps:  0.162\n",
      " 400 | NAV: 0.781 | Market NAV: 1.303 | Delta:   15 | 00:00.00 | eps:  0.050\n",
      " 450 | NAV: 0.832 | Market NAV: 1.324 | Delta:   14 | 00:00.00 | eps:  0.050\n",
      " 500 | NAV: 0.876 | Market NAV: 1.324 | Delta:   17 | 00:00.00 | eps:  0.050\n",
      " 550 | NAV: 0.846 | Market NAV: 1.323 | Delta:   16 | 00:00.00 | eps:  0.050\n",
      " 600 | NAV: 0.841 | Market NAV: 1.327 | Delta:   21 | 00:00.00 | eps:  0.050\n",
      " 650 | NAV: 0.853 | Market NAV: 1.323 | Delta:   27 | 00:00.00 | eps:  0.050\n",
      " 700 | NAV: 0.931 | Market NAV: 1.352 | Delta:   31 | 00:00.00 | eps:  0.050\n",
      " 750 | NAV: 0.956 | Market NAV: 1.346 | Delta:   35 | 00:00.00 | eps:  0.050\n",
      " 800 | NAV: 0.957 | Market NAV: 1.338 | Delta:   33 | 00:00.00 | eps:  0.050\n",
      " 850 | NAV: 0.976 | Market NAV: 1.387 | Delta:   30 | 00:00.00 | eps:  0.050\n",
      " 900 | NAV: 0.970 | Market NAV: 1.411 | Delta:   30 | 00:00.00 | eps:  0.050\n",
      " 950 | NAV: 0.980 | Market NAV: 1.345 | Delta:   27 | 00:00.00 | eps:  0.050\n",
      "1000 | NAV: 1.035 | Market NAV: 1.305 | Delta:   29 | 00:00.00 | eps:  0.050\n",
      "1050 | NAV: 1.054 | Market NAV: 1.336 | Delta:   35 | 00:00.00 | eps:  0.050\n",
      "1100 | NAV: 0.973 | Market NAV: 1.316 | Delta:   36 | 00:00.00 | eps:  0.050\n",
      "1150 | NAV: 1.025 | Market NAV: 1.261 | Delta:   33 | 00:00.00 | eps:  0.050\n",
      "1200 | NAV: 1.091 | Market NAV: 1.297 | Delta:   31 | 00:00.00 | eps:  0.050\n",
      "1250 | NAV: 1.078 | Market NAV: 1.261 | Delta:   40 | 00:00.00 | eps:  0.050\n",
      "1300 | NAV: 1.121 | Market NAV: 1.363 | Delta:   37 | 00:00.00 | eps:  0.050\n",
      "1350 | NAV: 1.119 | Market NAV: 1.604 | Delta:   21 | 00:00.00 | eps:  0.050\n",
      "1400 | NAV: 1.130 | Market NAV: 1.444 | Delta:   29 | 00:00.00 | eps:  0.050\n",
      "1450 | NAV: 1.170 | Market NAV: 1.326 | Delta:   35 | 00:00.00 | eps:  0.050\n",
      "1500 | NAV: 1.204 | Market NAV: 1.408 | Delta:   32 | 00:00.00 | eps:  0.050\n",
      "1550 | NAV: 1.096 | Market NAV: 1.295 | Delta:   33 | 00:00.00 | eps:  0.050\n",
      "1600 | NAV: 1.100 | Market NAV: 1.288 | Delta:   31 | 00:00.00 | eps:  0.050\n",
      "1650 | NAV: 1.244 | Market NAV: 1.388 | Delta:   31 | 00:00.00 | eps:  0.050\n",
      "1700 | NAV: 1.190 | Market NAV: 1.365 | Delta:   33 | 00:00.00 | eps:  0.050\n",
      "1750 | NAV: 1.123 | Market NAV: 1.378 | Delta:   29 | 00:00.00 | eps:  0.050\n",
      "1800 | NAV: 1.116 | Market NAV: 1.287 | Delta:   34 | 00:00.00 | eps:  0.050\n",
      "1850 | NAV: 1.082 | Market NAV: 1.162 | Delta:   44 | 00:00.00 | eps:  0.050\n",
      "1900 | NAV: 1.105 | Market NAV: 1.293 | Delta:   35 | 00:00.00 | eps:  0.050\n",
      "1950 | NAV: 1.138 | Market NAV: 1.313 | Delta:   31 | 00:00.00 | eps:  0.050\n",
      "2000 | NAV: 1.285 | Market NAV: 1.359 | Delta:   34 | 00:00.00 | eps:  0.050\n",
      "2050 | NAV: 1.340 | Market NAV: 1.466 | Delta:   36 | 00:00.00 | eps:  0.050\n",
      "2100 | NAV: 1.208 | Market NAV: 1.338 | Delta:   39 | 00:00.00 | eps:  0.050\n",
      "2150 | NAV: 1.200 | Market NAV: 1.328 | Delta:   33 | 00:00.00 | eps:  0.050\n",
      "2200 | NAV: 1.164 | Market NAV: 1.381 | Delta:   28 | 00:00.00 | eps:  0.050\n",
      "2250 | NAV: 1.101 | Market NAV: 1.323 | Delta:   34 | 00:00.00 | eps:  0.050\n",
      "2300 | NAV: 1.121 | Market NAV: 1.318 | Delta:   39 | 00:00.00 | eps:  0.050\n",
      "2350 | NAV: 1.141 | Market NAV: 1.319 | Delta:   40 | 00:00.00 | eps:  0.050\n",
      "2400 | NAV: 1.169 | Market NAV: 1.320 | Delta:   36 | 00:00.00 | eps:  0.050\n",
      "2450 | NAV: 1.274 | Market NAV: 1.379 | Delta:   34 | 00:00.00 | eps:  0.050\n",
      "2500 | NAV: 1.273 | Market NAV: 1.390 | Delta:   36 | 00:00.00 | eps:  0.050\n",
      "2550 | NAV: 1.147 | Market NAV: 1.385 | Delta:   31 | 00:00.00 | eps:  0.050\n",
      "2600 | NAV: 1.124 | Market NAV: 1.264 | Delta:   42 | 00:00.00 | eps:  0.050\n",
      "2650 | NAV: 1.160 | Market NAV: 1.227 | Delta:   48 | 00:00.00 | eps:  0.050\n",
      "2700 | NAV: 1.208 | Market NAV: 1.380 | Delta:   40 | 00:00.00 | eps:  0.050\n",
      "2750 | NAV: 1.209 | Market NAV: 1.336 | Delta:   40 | 00:00.00 | eps:  0.050\n",
      "2800 | NAV: 1.191 | Market NAV: 1.262 | Delta:   36 | 00:00.00 | eps:  0.050\n",
      "2850 | NAV: 1.226 | Market NAV: 1.304 | Delta:   38 | 00:00.00 | eps:  0.050\n",
      "2900 | NAV: 1.242 | Market NAV: 1.333 | Delta:   37 | 00:00.00 | eps:  0.050\n",
      "2950 | NAV: 1.231 | Market NAV: 1.384 | Delta:   30 | 00:00.00 | eps:  0.050\n",
      "3000 | NAV: 1.199 | Market NAV: 1.400 | Delta:   30 | 00:00.00 | eps:  0.050\n",
      "3050 | NAV: 1.168 | Market NAV: 1.339 | Delta:   31 | 00:00.00 | eps:  0.050\n",
      "3100 | NAV: 1.147 | Market NAV: 1.331 | Delta:   33 | 00:00.00 | eps:  0.050\n",
      "3150 | NAV: 1.182 | Market NAV: 1.418 | Delta:   30 | 00:00.00 | eps:  0.050\n",
      "3200 | NAV: 1.263 | Market NAV: 1.401 | Delta:   28 | 00:00.00 | eps:  0.050\n",
      "3250 | NAV: 1.220 | Market NAV: 1.259 | Delta:   41 | 00:00.00 | eps:  0.050\n",
      "3300 | NAV: 1.151 | Market NAV: 1.176 | Delta:   51 | 00:00.00 | eps:  0.050\n",
      "3350 | NAV: 1.222 | Market NAV: 1.256 | Delta:   44 | 00:00.00 | eps:  0.050\n",
      "3400 | NAV: 1.242 | Market NAV: 1.369 | Delta:   36 | 00:00.00 | eps:  0.050\n",
      "3450 | NAV: 1.172 | Market NAV: 1.338 | Delta:   38 | 00:00.00 | eps:  0.050\n",
      "3500 | NAV: 1.215 | Market NAV: 1.297 | Delta:   39 | 00:00.00 | eps:  0.050\n",
      "3550 | NAV: 1.206 | Market NAV: 1.292 | Delta:   38 | 00:00.00 | eps:  0.050\n",
      "3600 | NAV: 1.128 | Market NAV: 1.336 | Delta:   40 | 00:00.00 | eps:  0.050\n",
      "3650 | NAV: 1.185 | Market NAV: 1.345 | Delta:   42 | 00:00.00 | eps:  0.050\n",
      "3700 | NAV: 1.230 | Market NAV: 1.240 | Delta:   43 | 00:00.00 | eps:  0.050\n",
      "3750 | NAV: 1.365 | Market NAV: 1.258 | Delta:   43 | 00:00.00 | eps:  0.050\n",
      "3800 | NAV: 1.278 | Market NAV: 1.448 | Delta:   32 | 00:00.00 | eps:  0.050\n",
      "3850 | NAV: 1.134 | Market NAV: 1.464 | Delta:   25 | 00:00.00 | eps:  0.050\n",
      "3900 | NAV: 1.164 | Market NAV: 1.366 | Delta:   27 | 00:00.00 | eps:  0.050\n",
      "3950 | NAV: 1.155 | Market NAV: 1.374 | Delta:   28 | 00:00.00 | eps:  0.050\n",
      "4000 | NAV: 1.332 | Market NAV: 1.389 | Delta:   41 | 00:00.00 | eps:  0.050\n",
      "4050 | NAV: 1.336 | Market NAV: 1.329 | Delta:   46 | 00:00.00 | eps:  0.050\n",
      "4100 | NAV: 1.231 | Market NAV: 1.241 | Delta:   39 | 00:00.00 | eps:  0.050\n",
      "4150 | NAV: 1.268 | Market NAV: 1.363 | Delta:   33 | 00:00.00 | eps:  0.050\n",
      "4200 | NAV: 1.214 | Market NAV: 1.439 | Delta:   31 | 00:00.00 | eps:  0.050\n",
      "4250 | NAV: 1.156 | Market NAV: 1.337 | Delta:   33 | 00:00.00 | eps:  0.050\n",
      "4300 | NAV: 1.151 | Market NAV: 1.296 | Delta:   33 | 00:00.00 | eps:  0.050\n",
      "4350 | NAV: 1.128 | Market NAV: 1.226 | Delta:   35 | 00:00.00 | eps:  0.050\n",
      "4400 | NAV: 1.247 | Market NAV: 1.297 | Delta:   38 | 00:00.00 | eps:  0.050\n",
      "4450 | NAV: 1.373 | Market NAV: 1.412 | Delta:   41 | 00:00.00 | eps:  0.050\n",
      "4500 | NAV: 1.293 | Market NAV: 1.354 | Delta:   45 | 00:00.00 | eps:  0.050\n",
      "4550 | NAV: 1.341 | Market NAV: 1.371 | Delta:   44 | 00:00.00 | eps:  0.050\n",
      "4600 | NAV: 1.376 | Market NAV: 1.377 | Delta:   40 | 00:00.00 | eps:  0.050\n",
      "4650 | NAV: 1.165 | Market NAV: 1.273 | Delta:   36 | 00:00.00 | eps:  0.050\n",
      "4700 | NAV: 1.132 | Market NAV: 1.267 | Delta:   37 | 00:00.00 | eps:  0.050\n",
      "4750 | NAV: 1.194 | Market NAV: 1.283 | Delta:   39 | 00:00.00 | eps:  0.050\n",
      "4800 | NAV: 1.140 | Market NAV: 1.317 | Delta:   29 | 00:00.00 | eps:  0.050\n",
      "4850 | NAV: 1.170 | Market NAV: 1.355 | Delta:   26 | 00:00.00 | eps:  0.050\n",
      "4900 | NAV: 1.294 | Market NAV: 1.300 | Delta:   40 | 00:00.00 | eps:  0.050\n",
      "4950 | NAV: 1.344 | Market NAV: 1.326 | Delta:   44 | 00:00.00 | eps:  0.050\n",
      "5000 | NAV: 1.268 | Market NAV: 1.345 | Delta:   36 | 00:00.00 | eps:  0.050\n",
      "5050 | NAV: 1.293 | Market NAV: 1.322 | Delta:   40 | 00:00.00 | eps:  0.050\n",
      "5100 | NAV: 1.345 | Market NAV: 1.291 | Delta:   47 | 00:00.00 | eps:  0.050\n",
      "5150 | NAV: 1.248 | Market NAV: 1.292 | Delta:   39 | 00:00.00 | eps:  0.050\n",
      "5200 | NAV: 1.284 | Market NAV: 1.414 | Delta:   31 | 00:00.00 | eps:  0.050\n",
      "5250 | NAV: 1.417 | Market NAV: 1.421 | Delta:   35 | 00:00.00 | eps:  0.050\n",
      "5300 | NAV: 1.384 | Market NAV: 1.348 | Delta:   38 | 00:00.00 | eps:  0.050\n",
      "5350 | NAV: 1.286 | Market NAV: 1.382 | Delta:   38 | 00:00.00 | eps:  0.050\n"
     ]
    },
    {
     "name": "stdout",
     "output_type": "stream",
     "text": [
      "5400 | NAV: 1.295 | Market NAV: 1.364 | Delta:   36 | 00:00.00 | eps:  0.050\n",
      "5450 | NAV: 1.335 | Market NAV: 1.372 | Delta:   36 | 00:00.00 | eps:  0.050\n",
      "5500 | NAV: 1.385 | Market NAV: 1.531 | Delta:   38 | 00:00.00 | eps:  0.050\n",
      "5550 | NAV: 1.377 | Market NAV: 1.480 | Delta:   38 | 00:00.00 | eps:  0.050\n",
      "5600 | NAV: 1.292 | Market NAV: 1.346 | Delta:   36 | 00:00.00 | eps:  0.050\n",
      "5650 | NAV: 1.312 | Market NAV: 1.373 | Delta:   36 | 00:00.00 | eps:  0.050\n",
      "5700 | NAV: 1.213 | Market NAV: 1.300 | Delta:   36 | 00:00.00 | eps:  0.050\n",
      "5750 | NAV: 1.181 | Market NAV: 1.304 | Delta:   34 | 00:00.00 | eps:  0.050\n",
      "5800 | NAV: 1.327 | Market NAV: 1.314 | Delta:   38 | 00:00.00 | eps:  0.050\n",
      "5850 | NAV: 1.288 | Market NAV: 1.261 | Delta:   42 | 00:00.00 | eps:  0.050\n",
      "5900 | NAV: 1.165 | Market NAV: 1.370 | Delta:   35 | 00:00.00 | eps:  0.050\n",
      "5950 | NAV: 1.230 | Market NAV: 1.375 | Delta:   38 | 00:00.00 | eps:  0.050\n",
      "6000 | NAV: 1.222 | Market NAV: 1.274 | Delta:   44 | 00:00.00 | eps:  0.050\n",
      "6050 | NAV: 1.207 | Market NAV: 1.285 | Delta:   40 | 00:00.00 | eps:  0.050\n",
      "6100 | NAV: 1.265 | Market NAV: 1.387 | Delta:   40 | 00:00.00 | eps:  0.050\n",
      "6150 | NAV: 1.241 | Market NAV: 1.497 | Delta:   33 | 00:00.00 | eps:  0.050\n",
      "6200 | NAV: 1.397 | Market NAV: 1.400 | Delta:   38 | 00:00.00 | eps:  0.050\n",
      "6250 | NAV: 1.494 | Market NAV: 1.291 | Delta:   49 | 00:00.00 | eps:  0.050\n",
      "6300 | NAV: 1.443 | Market NAV: 1.386 | Delta:   45 | 00:00.00 | eps:  0.050\n",
      "6350 | NAV: 1.438 | Market NAV: 1.433 | Delta:   46 | 00:00.00 | eps:  0.050\n",
      "6400 | NAV: 1.382 | Market NAV: 1.418 | Delta:   38 | 00:00.00 | eps:  0.050\n",
      "6450 | NAV: 1.302 | Market NAV: 1.449 | Delta:   31 | 00:00.00 | eps:  0.050\n",
      "6500 | NAV: 1.314 | Market NAV: 1.405 | Delta:   45 | 00:00.00 | eps:  0.050\n",
      "6550 | NAV: 1.318 | Market NAV: 1.342 | Delta:   46 | 00:00.00 | eps:  0.050\n",
      "6600 | NAV: 1.377 | Market NAV: 1.338 | Delta:   39 | 00:00.00 | eps:  0.050\n",
      "6650 | NAV: 1.412 | Market NAV: 1.321 | Delta:   48 | 00:00.00 | eps:  0.050\n",
      "6700 | NAV: 1.334 | Market NAV: 1.348 | Delta:   48 | 00:00.00 | eps:  0.050\n",
      "6750 | NAV: 1.340 | Market NAV: 1.345 | Delta:   41 | 00:00.00 | eps:  0.050\n",
      "6800 | NAV: 1.272 | Market NAV: 1.275 | Delta:   41 | 00:00.00 | eps:  0.050\n",
      "6850 | NAV: 1.265 | Market NAV: 1.243 | Delta:   47 | 00:00.00 | eps:  0.050\n",
      "6900 | NAV: 1.380 | Market NAV: 1.296 | Delta:   49 | 00:00.00 | eps:  0.050\n",
      "6950 | NAV: 1.425 | Market NAV: 1.350 | Delta:   49 | 00:00.00 | eps:  0.050\n",
      "7000 | NAV: 1.405 | Market NAV: 1.277 | Delta:   54 | 00:00.00 | eps:  0.050\n",
      "7050 | NAV: 1.328 | Market NAV: 1.303 | Delta:   47 | 00:00.00 | eps:  0.050\n",
      "7100 | NAV: 1.298 | Market NAV: 1.415 | Delta:   40 | 00:00.00 | eps:  0.050\n",
      "7150 | NAV: 1.343 | Market NAV: 1.362 | Delta:   44 | 00:00.00 | eps:  0.050\n",
      "7200 | NAV: 1.360 | Market NAV: 1.363 | Delta:   45 | 00:00.00 | eps:  0.050\n",
      "7250 | NAV: 1.309 | Market NAV: 1.473 | Delta:   35 | 00:00.00 | eps:  0.050\n",
      "7300 | NAV: 1.331 | Market NAV: 1.421 | Delta:   35 | 00:00.00 | eps:  0.050\n",
      "7350 | NAV: 1.352 | Market NAV: 1.423 | Delta:   39 | 00:00.00 | eps:  0.050\n",
      "7400 | NAV: 1.326 | Market NAV: 1.451 | Delta:   39 | 00:00.00 | eps:  0.050\n",
      "7450 | NAV: 1.407 | Market NAV: 1.341 | Delta:   43 | 00:00.00 | eps:  0.050\n",
      "7500 | NAV: 1.479 | Market NAV: 1.350 | Delta:   52 | 00:00.00 | eps:  0.050\n",
      "7550 | NAV: 1.419 | Market NAV: 1.434 | Delta:   51 | 00:00.00 | eps:  0.050\n",
      "7600 | NAV: 1.415 | Market NAV: 1.445 | Delta:   44 | 00:00.00 | eps:  0.050\n",
      "7650 | NAV: 1.374 | Market NAV: 1.403 | Delta:   45 | 00:00.00 | eps:  0.050\n",
      "7700 | NAV: 1.213 | Market NAV: 1.328 | Delta:   39 | 00:00.00 | eps:  0.050\n",
      "7750 | NAV: 1.432 | Market NAV: 1.307 | Delta:   43 | 00:00.00 | eps:  0.050\n",
      "7800 | NAV: 1.488 | Market NAV: 1.288 | Delta:   46 | 00:00.00 | eps:  0.050\n",
      "7850 | NAV: 1.315 | Market NAV: 1.270 | Delta:   46 | 00:00.00 | eps:  0.050\n",
      "7900 | NAV: 1.436 | Market NAV: 1.372 | Delta:   53 | 00:00.00 | eps:  0.050\n",
      "7950 | NAV: 1.372 | Market NAV: 1.340 | Delta:   50 | 00:00.00 | eps:  0.050\n",
      "8000 | NAV: 1.228 | Market NAV: 1.265 | Delta:   44 | 00:00.00 | eps:  0.050\n",
      "8050 | NAV: 1.325 | Market NAV: 1.302 | Delta:   50 | 00:00.00 | eps:  0.050\n",
      "8100 | NAV: 1.438 | Market NAV: 1.394 | Delta:   48 | 00:00.00 | eps:  0.050\n",
      "8150 | NAV: 1.423 | Market NAV: 1.321 | Delta:   47 | 00:00.00 | eps:  0.050\n",
      "8200 | NAV: 1.382 | Market NAV: 1.265 | Delta:   47 | 00:00.00 | eps:  0.050\n",
      "8250 | NAV: 1.418 | Market NAV: 1.389 | Delta:   43 | 00:00.00 | eps:  0.050\n",
      "8300 | NAV: 1.362 | Market NAV: 1.370 | Delta:   47 | 00:00.00 | eps:  0.050\n",
      "8350 | NAV: 1.286 | Market NAV: 1.374 | Delta:   45 | 00:00.00 | eps:  0.050\n",
      "8400 | NAV: 1.326 | Market NAV: 1.359 | Delta:   50 | 00:00.00 | eps:  0.050\n",
      "8450 | NAV: 1.370 | Market NAV: 1.299 | Delta:   53 | 00:00.00 | eps:  0.050\n",
      "8500 | NAV: 1.414 | Market NAV: 1.328 | Delta:   52 | 00:00.00 | eps:  0.050\n",
      "8550 | NAV: 1.388 | Market NAV: 1.359 | Delta:   49 | 00:00.00 | eps:  0.050\n",
      "8600 | NAV: 1.378 | Market NAV: 1.375 | Delta:   45 | 00:00.00 | eps:  0.050\n",
      "8650 | NAV: 1.447 | Market NAV: 1.364 | Delta:   49 | 00:00.00 | eps:  0.050\n",
      "8700 | NAV: 1.527 | Market NAV: 1.278 | Delta:   62 | 00:00.00 | eps:  0.050\n",
      "8750 | NAV: 1.514 | Market NAV: 1.287 | Delta:   64 | 00:00.00 | eps:  0.050\n",
      "8800 | NAV: 1.380 | Market NAV: 1.298 | Delta:   57 | 00:00.00 | eps:  0.050\n",
      "8850 | NAV: 1.285 | Market NAV: 1.292 | Delta:   50 | 00:00.00 | eps:  0.050\n",
      "8900 | NAV: 1.422 | Market NAV: 1.432 | Delta:   43 | 00:00.00 | eps:  0.050\n",
      "8950 | NAV: 1.426 | Market NAV: 1.426 | Delta:   48 | 00:00.00 | eps:  0.050\n",
      "9000 | NAV: 1.385 | Market NAV: 1.256 | Delta:   52 | 00:00.00 | eps:  0.050\n",
      "9050 | NAV: 1.397 | Market NAV: 1.207 | Delta:   54 | 00:00.00 | eps:  0.050\n",
      "9100 | NAV: 1.413 | Market NAV: 1.254 | Delta:   58 | 00:00.00 | eps:  0.050\n",
      "9150 | NAV: 1.360 | Market NAV: 1.285 | Delta:   52 | 00:00.00 | eps:  0.050\n",
      "9200 | NAV: 1.334 | Market NAV: 1.358 | Delta:   50 | 00:00.00 | eps:  0.050\n",
      "9250 | NAV: 1.462 | Market NAV: 1.321 | Delta:   59 | 00:00.00 | eps:  0.050\n",
      "9300 | NAV: 1.428 | Market NAV: 1.268 | Delta:   54 | 00:00.00 | eps:  0.050\n",
      "9350 | NAV: 1.400 | Market NAV: 1.363 | Delta:   45 | 00:00.00 | eps:  0.050\n",
      "9400 | NAV: 1.331 | Market NAV: 1.421 | Delta:   41 | 00:00.00 | eps:  0.050\n",
      "9450 | NAV: 1.237 | Market NAV: 1.365 | Delta:   42 | 00:00.00 | eps:  0.050\n",
      "9500 | NAV: 1.286 | Market NAV: 1.355 | Delta:   45 | 00:00.00 | eps:  0.050\n",
      "9550 | NAV: 1.315 | Market NAV: 1.306 | Delta:   49 | 00:00.00 | eps:  0.050\n",
      "9600 | NAV: 1.400 | Market NAV: 1.326 | Delta:   49 | 00:00.00 | eps:  0.050\n",
      "9650 | NAV: 1.387 | Market NAV: 1.377 | Delta:   48 | 00:00.00 | eps:  0.050\n",
      "9700 | NAV: 1.311 | Market NAV: 1.340 | Delta:   53 | 00:00.00 | eps:  0.050\n",
      "9750 | NAV: 1.356 | Market NAV: 1.326 | Delta:   53 | 00:00.00 | eps:  0.050\n",
      "9800 | NAV: 1.350 | Market NAV: 1.291 | Delta:   53 | 00:00.00 | eps:  0.050\n",
      "9850 | NAV: 1.322 | Market NAV: 1.256 | Delta:   50 | 00:00.00 | eps:  0.050\n",
      "9900 | NAV: 1.336 | Market NAV: 1.389 | Delta:   41 | 00:00.00 | eps:  0.050\n",
      "9950 | NAV: 1.384 | Market NAV: 1.571 | Delta:   36 | 00:00.00 | eps:  0.050\n",
      "10000 | NAV: 1.393 | Market NAV: 1.439 | Delta:   50 | 00:00.00 | eps:  0.050\n"
     ]
    }
   ],
   "source": [
    "for episode in range(1, max_episodes + 1):\n",
    "    this_state = trading_environment.reset()\n",
    "    for episode_step in range(max_episode_steps):\n",
    "        action = ddqn.epsilon_greedy_policy(this_state.reshape(-1, state_dim))\n",
    "        next_state, reward, done, _ = trading_environment.step(action)\n",
    "        ddqn.memorize_transition(this_state, action, reward, next_state,\n",
    "                                 0.0 if done else 1.0)\n",
    "        if ddqn.train:\n",
    "            ddqn.experience_replay()\n",
    "        if done:\n",
    "            break\n",
    "        this_state = next_state\n",
    "\n",
    "    result = trading_environment.env.sim.result()\n",
    "    final = result.iloc[-1]\n",
    "\n",
    "    nav = final.nav * (1 + final.strategy_return)\n",
    "    navs.append(nav)\n",
    "\n",
    "    market_nav = final.market_nav\n",
    "    market_navs.append(market_nav)\n",
    "\n",
    "    diff = nav - market_nav\n",
    "    diffs.append(diff)\n",
    "    if episode % 50 == 0:\n",
    "        track_results(episode, np.mean(navs[-100:]),\n",
    "                      np.mean(market_navs[-100:]),\n",
    "                      np.sum([s > 0 for s in diffs[-100:]]), \n",
    "                      ddqn.epsilon)\n",
    "    if len(diffs) > 25 and all([r > 0 for r in diffs[-25:]]):\n",
    "        print(result.tail())\n",
    "        break        \n",
    "\n",
    "trading_environment.close()"
   ]
  },
  {
   "cell_type": "markdown",
   "metadata": {},
   "source": [
    "### Store Results"
   ]
  },
  {
   "cell_type": "code",
   "execution_count": 21,
   "metadata": {
    "ExecuteTime": {
     "end_time": "2020-04-13T14:20:39.552200Z",
     "start_time": "2020-04-13T14:20:39.484266Z"
    }
   },
   "outputs": [],
   "source": [
    "results = pd.DataFrame({'episode': list(range(1, episode + 1)),\n",
    "                        'nav': navs,\n",
    "                        'market_nav': market_navs,\n",
    "                        'outperform': diffs})\n",
    "\n",
    "fn = 'trading_agent_result_no_cost.csv'\n",
    "results.to_csv(fn, index=False)"
   ]
  },
  {
   "cell_type": "markdown",
   "metadata": {},
   "source": [
    "### Evaluate Results"
   ]
  },
  {
   "cell_type": "code",
   "execution_count": 22,
   "metadata": {
    "ExecuteTime": {
     "end_time": "2020-04-13T14:20:51.847185Z",
     "start_time": "2020-04-13T14:20:51.812675Z"
    }
   },
   "outputs": [
    {
     "name": "stdout",
     "output_type": "stream",
     "text": [
      "<class 'pandas.core.frame.DataFrame'>\n",
      "Int64Index: 10000 entries, 1 to 10000\n",
      "Data columns (total 4 columns):\n",
      " #   Column             Non-Null Count  Dtype  \n",
      "---  ------             --------------  -----  \n",
      " 0   Agent              10000 non-null  float64\n",
      " 1   Market             10000 non-null  float64\n",
      " 2   difference         10000 non-null  float64\n",
      " 3   Strategy Wins (%)  9901 non-null   float64\n",
      "dtypes: float64(4)\n",
      "memory usage: 390.6 KB\n"
     ]
    }
   ],
   "source": [
    "results = pd.read_csv('trading_agent_result_no_cost.csv')\n",
    "results.columns = ['Episode', 'Agent', 'Market', 'difference']\n",
    "results = results.set_index('Episode')\n",
    "results['Strategy Wins (%)'] = (results.difference > 0).rolling(100).sum()\n",
    "results.info()"
   ]
  },
  {
   "cell_type": "markdown",
   "metadata": {},
   "source": [
    "The following diagram shows the rolling average of agent and market returns over 100 periods on the left, and the share of the last 100 periods the agent outperformed the market on the right. It uses AAPL stock data for which there are some 9,000 daily price and volume observations. Training stopped after 14,000 trading periods when the agent beat the market 10 consecutive times.\n",
    "\n",
    "It shows how the agent's performance improves significantly while exploring at a higher rate over the first ~3,000 periods (that is, years) and approaches a level where it outperforms the market around 40 percent of the time, despite transaction costs. In a few instances, it beats the market about half the time out of 100 periods:"
   ]
  },
  {
   "cell_type": "code",
   "execution_count": 26,
   "metadata": {
    "ExecuteTime": {
     "end_time": "2020-04-13T14:24:38.686508Z",
     "start_time": "2020-04-13T14:24:37.768569Z"
    }
   },
   "outputs": [
    {
     "data": {
      "image/png": "[encoded data removed]",
      "text/plain": [
       "<Figure size 1008x288 with 2 Axes>"
      ]
     },
     "metadata": {},
     "output_type": "display_data"
    }
   ],
   "source": [
    "fig, axes = plt.subplots(ncols=2, figsize=(14,4), sharey=True)\n",
    "(results[['Agent', 'Market']]\n",
    " .sub(1)\n",
    " .rolling(100)\n",
    " .mean()\n",
    " .plot(ax=axes[0], \n",
    "       title='Annual Returns (Moving Average)', lw=1))\n",
    "results['Strategy Wins (%)'].div(100).rolling(50).mean().plot(ax=axes[1], title='Agent Outperformance (%, Moving Average)');\n",
    "for ax in axes:\n",
    "    ax.yaxis.set_major_formatter(FuncFormatter(lambda y, _: '{:.0%}'.format(y)))\n",
    "    ax.xaxis.set_major_formatter(FuncFormatter(lambda x, _: '{:,.0f}'.format(x)))\n",
    "axes[1].axhline(.5, ls='--', c='k', lw=1)\n",
    "fig.tight_layout()\n",
    "fig.savefig('figures/trading_agent', dpi=300)"
   ]
  },
  {
   "cell_type": "markdown",
   "metadata": {},
   "source": [
    "## Summary"
   ]
  },
  {
   "cell_type": "markdown",
   "metadata": {},
   "source": [
    "This relatively simple agent uses limited information beyond the latest market data and the reward signal compared to the machine learning models we covered elsewhere in this book. Nonetheless, it learns to make a profit and approach the market (after training on several thousand year's worth of data, which takes around 30 minutes).\n",
    "\n",
    "Keep in mind that using a single stock also increase the risk of overfitting the data by a lot. You can test your trained agent on new data using the saved model (see the notebook on the Lunar Lander).\n",
    "\n",
    "In conclusion, we have demonstrated the mechanics of setting up a RL trading environment and experimented with a basic agent that uses a small number of technical indicators. You should try to extend both the environment and the agent so that you can choose from several assets, size their positions, and manage risks.\n",
    "\n",
    "More specifically, the environment samples a stock price time series for a single ticker from a random start date to simulate a trading period of 252 days, or 1 year (default). The agent has three options, that is, buying (long), short, or exiting its position, and faces a 10bps trading plus a 1bps time cost per period."
   ]
  }
 ],
 "metadata": {
  "kernelspec": {
   "display_name": "Python 3",
   "language": "python",
   "name": "python3"
  },
  "language_info": {
   "codemirror_mode": {
    "name": "ipython",
    "version": 3
   },
   "file_extension": ".py",
   "mimetype": "text/x-python",
   "name": "python",
   "nbconvert_exporter": "python",
   "pygments_lexer": "ipython3",
   "version": "3.7.7"
  },
  "toc": {
   "base_numbering": 1,
   "nav_menu": {},
   "number_sections": true,
   "sideBar": true,
   "skip_h1_title": true,
   "title_cell": "Table of Contents",
   "title_sidebar": "Contents",
   "toc_cell": false,
   "toc_position": {
    "height": "calc(100% - 180px)",
    "left": "10px",
    "top": "150px",
    "width": "230.909px"
   },
   "toc_section_display": true,
   "toc_window_display": true
  }
 },
 "nbformat": 4,
 "nbformat_minor": 2
}
