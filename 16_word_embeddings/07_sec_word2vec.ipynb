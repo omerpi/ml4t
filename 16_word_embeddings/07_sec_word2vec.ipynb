{
 "cells": [
  {
   "cell_type": "markdown",
   "metadata": {},
   "source": [
    "## Imports & Settings"
   ]
  },
  {
   "cell_type": "code",
   "execution_count": 1,
   "metadata": {
    "ExecuteTime": {
     "end_time": "2020-03-13T02:16:19.924454Z",
     "start_time": "2020-03-13T02:16:19.921336Z"
    }
   },
   "outputs": [],
   "source": [
    "from pathlib import Path\n",
    "from time import time\n",
    "import warnings\n",
    "from collections import Counter\n",
    "import logging\n",
    "from ast import literal_eval as make_tuple\n",
    "import numpy as np\n",
    "import pandas as pd\n",
    "import matplotlib.pyplot as plt\n",
    "from matplotlib.ticker import FuncFormatter\n",
    "from gensim.models import Word2Vec, KeyedVectors\n",
    "from gensim.models.word2vec import LineSentence\n",
    "# import word2vec"
   ]
  },
  {
   "cell_type": "code",
   "execution_count": 2,
   "metadata": {
    "ExecuteTime": {
     "end_time": "2020-03-13T02:16:20.102941Z",
     "start_time": "2020-03-13T02:16:20.100937Z"
    }
   },
   "outputs": [],
   "source": [
    "pd.set_option('display.expand_frame_repr', False)\n",
    "warnings.filterwarnings('ignore')\n",
    "np.random.seed(42)"
   ]
  },
  {
   "cell_type": "code",
   "execution_count": 3,
   "metadata": {
    "ExecuteTime": {
     "end_time": "2020-03-13T02:16:20.266356Z",
     "start_time": "2020-03-13T02:16:20.258736Z"
    }
   },
   "outputs": [],
   "source": [
    "def format_time(t):\n",
    "    m, s = divmod(t, 60)\n",
    "    h, m = divmod(m, 60)\n",
    "    return f'{h:02.0f}:{m:02.0f}:{s:02.0f}'"
   ]
  },
  {
   "cell_type": "markdown",
   "metadata": {},
   "source": [
    "### Paths"
   ]
  },
  {
   "cell_type": "code",
   "execution_count": 4,
   "metadata": {
    "ExecuteTime": {
     "end_time": "2020-03-13T02:16:24.771771Z",
     "start_time": "2020-03-13T02:16:24.763633Z"
    }
   },
   "outputs": [],
   "source": [
    "sec_path = Path('data', 'sec-filings')\n",
    "data_path = sec_path / 'data'\n",
    "ngram_path = data_path / 'ngrams'\n",
    "model_path = sec_path / 'models' /'baseline'"
   ]
  },
  {
   "cell_type": "markdown",
   "metadata": {},
   "source": [
    "### Logging Setup"
   ]
  },
  {
   "cell_type": "code",
   "execution_count": 5,
   "metadata": {
    "ExecuteTime": {
     "end_time": "2020-03-13T02:16:25.701955Z",
     "start_time": "2020-03-13T02:16:25.696654Z"
    }
   },
   "outputs": [],
   "source": [
    "logging.basicConfig(\n",
    "        filename=sec_path / 'logs' / 'word2vec.log',\n",
    "        level=logging.DEBUG,\n",
    "        format='%(asctime)s - %(name)s - %(levelname)s - %(message)s',\n",
    "        datefmt='%H:%M:%S')"
   ]
  },
  {
   "cell_type": "markdown",
   "metadata": {},
   "source": [
    "## word2vec"
   ]
  },
  {
   "cell_type": "code",
   "execution_count": 6,
   "metadata": {
    "ExecuteTime": {
     "end_time": "2020-03-13T02:16:31.513217Z",
     "start_time": "2020-03-13T02:16:31.502612Z"
    }
   },
   "outputs": [],
   "source": [
    "analogies_path = Path('data', 'analogies', 'analogies-en.txt')"
   ]
  },
  {
   "cell_type": "markdown",
   "metadata": {},
   "source": [
    "### Set up Sentence Generator"
   ]
  },
  {
   "cell_type": "code",
   "execution_count": 7,
   "metadata": {
    "ExecuteTime": {
     "end_time": "2020-03-12T21:23:47.993239Z",
     "start_time": "2020-03-12T21:23:47.985771Z"
    }
   },
   "outputs": [],
   "source": [
    "NGRAMS = 2"
   ]
  },
  {
   "cell_type": "markdown",
   "metadata": {},
   "source": [
    "To facilitate memory-efficient text ingestion, the LineSentence class creates a generator from individual sentences contained in the provided text file:"
   ]
  },
  {
   "cell_type": "code",
   "execution_count": 8,
   "metadata": {
    "ExecuteTime": {
     "end_time": "2020-03-12T21:23:48.001866Z",
     "start_time": "2020-03-12T21:23:47.994295Z"
    }
   },
   "outputs": [],
   "source": [
    "sentence_path = ngram_path  / f'ngrams_{NGRAMS}.txt'\n",
    "sentences = LineSentence(sentence_path)"
   ]
  },
  {
   "cell_type": "markdown",
   "metadata": {},
   "source": [
    "### Train word2vec Model"
   ]
  },
  {
   "cell_type": "markdown",
   "metadata": {},
   "source": [
    "The [gensim.models.word2vec](https://radimrehurek.com/gensim/models/word2vec.html) class implements the skipgram and CBOW architectures introduced above. The notebook [word2vec](../03_word2vec.ipynb) contains additional implementation detail."
   ]
  },
  {
   "cell_type": "code",
   "execution_count": 9,
   "metadata": {
    "ExecuteTime": {
     "end_time": "2020-03-12T21:43:06.769370Z",
     "start_time": "2020-03-12T21:27:05.375782Z"
    }
   },
   "outputs": [
    {
     "name": "stdout",
     "output_type": "stream",
     "text": [
      "Duration: 00:15:04\n"
     ]
    }
   ],
   "source": [
    "start = time()\n",
    "model = Word2Vec(sentences,\n",
    "                 sg=1,          # 1 for skip-gram; otherwise CBOW\n",
    "                 hs=0,          # hierarchical softmax if 1, negative sampling if 0\n",
    "                 size=300,      # Vector dimensionality\n",
    "                 window=5,      # Max distance betw. current and predicted word\n",
    "                 min_count=50,  # Ignore words with lower frequency\n",
    "                 negative=15,    # noise word count for negative sampling\n",
    "                 workers=8,     # no threads \n",
    "                 iter=1,        # no epochs = iterations over corpus\n",
    "                 alpha=0.05,   # initial learning rate\n",
    "                 min_alpha=0.0001 # final learning rate\n",
    "                ) \n",
    "print('Duration:', format_time(time() - start))"
   ]
  },
  {
   "cell_type": "markdown",
   "metadata": {},
   "source": [
    "### Persist model & vectors"
   ]
  },
  {
   "cell_type": "code",
   "execution_count": 10,
   "metadata": {
    "ExecuteTime": {
     "end_time": "2020-03-12T21:43:06.975332Z",
     "start_time": "2020-03-12T21:43:06.770386Z"
    }
   },
   "outputs": [],
   "source": [
    "model.save((model_path / 'word2vec.model').as_posix())\n",
    "model.wv.save((model_path / 'word_vectors.bin').as_posix())"
   ]
  },
  {
   "cell_type": "markdown",
   "metadata": {},
   "source": [
    "### Load model and vectors"
   ]
  },
  {
   "cell_type": "code",
   "execution_count": 11,
   "metadata": {
    "ExecuteTime": {
     "end_time": "2020-03-12T21:43:07.121479Z",
     "start_time": "2020-03-12T21:43:06.976447Z"
    }
   },
   "outputs": [],
   "source": [
    "model = Word2Vec.load((model_path / 'word2vec.model').as_posix())"
   ]
  },
  {
   "cell_type": "code",
   "execution_count": 12,
   "metadata": {
    "ExecuteTime": {
     "end_time": "2020-03-12T21:43:07.223488Z",
     "start_time": "2020-03-12T21:43:07.122740Z"
    }
   },
   "outputs": [],
   "source": [
    "wv = KeyedVectors.load((model_path / 'word_vectors.bin').as_posix())"
   ]
  },
  {
   "cell_type": "markdown",
   "metadata": {},
   "source": [
    "### Get vocabulary"
   ]
  },
  {
   "cell_type": "code",
   "execution_count": 13,
   "metadata": {
    "ExecuteTime": {
     "end_time": "2020-03-12T21:43:07.312348Z",
     "start_time": "2020-03-12T21:43:07.224320Z"
    }
   },
   "outputs": [],
   "source": [
    "vocab = []\n",
    "for k, _ in model.wv.vocab.items():\n",
    "    v_ = model.wv.vocab[k]\n",
    "    vocab.append([k, v_.index, v_.count])"
   ]
  },
  {
   "cell_type": "code",
   "execution_count": 14,
   "metadata": {
    "ExecuteTime": {
     "end_time": "2020-03-12T21:43:07.352902Z",
     "start_time": "2020-03-12T21:43:07.313225Z"
    }
   },
   "outputs": [],
   "source": [
    "vocab = (pd.DataFrame(vocab, \n",
    "                     columns=['token', 'idx', 'count'])\n",
    "         .sort_values('count', ascending=False))"
   ]
  },
  {
   "cell_type": "code",
   "execution_count": 15,
   "metadata": {
    "ExecuteTime": {
     "end_time": "2020-03-12T21:43:07.373638Z",
     "start_time": "2020-03-12T21:43:07.353794Z"
    }
   },
   "outputs": [
    {
     "name": "stdout",
     "output_type": "stream",
     "text": [
      "<class 'pandas.core.frame.DataFrame'>\n",
      "Int64Index: 57380 entries, 715 to 42360\n",
      "Data columns (total 3 columns):\n",
      " #   Column  Non-Null Count  Dtype \n",
      "---  ------  --------------  ----- \n",
      " 0   token   57380 non-null  object\n",
      " 1   idx     57380 non-null  int64 \n",
      " 2   count   57380 non-null  int64 \n",
      "dtypes: int64(2), object(1)\n",
      "memory usage: 1.8+ MB\n"
     ]
    }
   ],
   "source": [
    "vocab.info()"
   ]
  },
  {
   "cell_type": "code",
   "execution_count": 16,
   "metadata": {
    "ExecuteTime": {
     "end_time": "2020-03-12T21:43:07.388583Z",
     "start_time": "2020-03-12T21:43:07.375036Z"
    }
   },
   "outputs": [
    {
     "data": {
      "text/html": [
       "<div>\n",
       "<style scoped>\n",
       "    .dataframe tbody tr th:only-of-type {\n",
       "        vertical-align: middle;\n",
       "    }\n",
       "\n",
       "    .dataframe tbody tr th {\n",
       "        vertical-align: top;\n",
       "    }\n",
       "\n",
       "    .dataframe thead th {\n",
       "        text-align: right;\n",
       "    }\n",
       "</style>\n",
       "<table border=\"1\" class=\"dataframe\">\n",
       "  <thead>\n",
       "    <tr style=\"text-align: right;\">\n",
       "      <th></th>\n",
       "      <th>token</th>\n",
       "      <th>idx</th>\n",
       "      <th>count</th>\n",
       "    </tr>\n",
       "  </thead>\n",
       "  <tbody>\n",
       "    <tr>\n",
       "      <th>715</th>\n",
       "      <td>million</td>\n",
       "      <td>0</td>\n",
       "      <td>2340243</td>\n",
       "    </tr>\n",
       "    <tr>\n",
       "      <th>0</th>\n",
       "      <td>business</td>\n",
       "      <td>1</td>\n",
       "      <td>1700662</td>\n",
       "    </tr>\n",
       "    <tr>\n",
       "      <th>2025</th>\n",
       "      <td>december</td>\n",
       "      <td>2</td>\n",
       "      <td>1513533</td>\n",
       "    </tr>\n",
       "    <tr>\n",
       "      <th>6</th>\n",
       "      <td>company</td>\n",
       "      <td>3</td>\n",
       "      <td>1490752</td>\n",
       "    </tr>\n",
       "    <tr>\n",
       "      <th>171</th>\n",
       "      <td>products</td>\n",
       "      <td>4</td>\n",
       "      <td>1368711</td>\n",
       "    </tr>\n",
       "    <tr>\n",
       "      <th>2030</th>\n",
       "      <td>net</td>\n",
       "      <td>5</td>\n",
       "      <td>1253343</td>\n",
       "    </tr>\n",
       "    <tr>\n",
       "      <th>139</th>\n",
       "      <td>market</td>\n",
       "      <td>6</td>\n",
       "      <td>1149048</td>\n",
       "    </tr>\n",
       "    <tr>\n",
       "      <th>350</th>\n",
       "      <td>including</td>\n",
       "      <td>7</td>\n",
       "      <td>1110482</td>\n",
       "    </tr>\n",
       "    <tr>\n",
       "      <th>1611</th>\n",
       "      <td>sales</td>\n",
       "      <td>8</td>\n",
       "      <td>1098312</td>\n",
       "    </tr>\n",
       "    <tr>\n",
       "      <th>2240</th>\n",
       "      <td>costs</td>\n",
       "      <td>9</td>\n",
       "      <td>1020383</td>\n",
       "    </tr>\n",
       "  </tbody>\n",
       "</table>\n",
       "</div>"
      ],
      "text/plain": [
       "          token  idx    count\n",
       "715     million    0  2340243\n",
       "0      business    1  1700662\n",
       "2025   december    2  1513533\n",
       "6       company    3  1490752\n",
       "171    products    4  1368711\n",
       "2030        net    5  1253343\n",
       "139      market    6  1149048\n",
       "350   including    7  1110482\n",
       "1611      sales    8  1098312\n",
       "2240      costs    9  1020383"
      ]
     },
     "execution_count": 16,
     "metadata": {},
     "output_type": "execute_result"
    }
   ],
   "source": [
    "vocab.head(10)"
   ]
  },
  {
   "cell_type": "code",
   "execution_count": 17,
   "metadata": {
    "ExecuteTime": {
     "end_time": "2020-03-12T21:43:07.400372Z",
     "start_time": "2020-03-12T21:43:07.389531Z"
    }
   },
   "outputs": [
    {
     "data": {
      "text/plain": [
       "count      57380\n",
       "mean        4526\n",
       "std        35237\n",
       "min           50\n",
       "10%           60\n",
       "20%           75\n",
       "30%           96\n",
       "40%          127\n",
       "50%          176\n",
       "60%          262\n",
       "70%          440\n",
       "80%          940\n",
       "90%         3670\n",
       "max      2340243\n",
       "Name: count, dtype: int64"
      ]
     },
     "execution_count": 17,
     "metadata": {},
     "output_type": "execute_result"
    }
   ],
   "source": [
    "vocab['count'].describe(percentiles=np.arange(.1, 1, .1)).astype(int)"
   ]
  },
  {
   "cell_type": "markdown",
   "metadata": {},
   "source": [
    "### Evaluate Analogies"
   ]
  },
  {
   "cell_type": "code",
   "execution_count": 18,
   "metadata": {
    "ExecuteTime": {
     "end_time": "2020-03-12T21:43:07.407863Z",
     "start_time": "2020-03-12T21:43:07.401584Z"
    }
   },
   "outputs": [],
   "source": [
    "def accuracy_by_category(acc, detail=True):\n",
    "    results = [[c['section'], len(c['correct']), len(c['incorrect'])] for c in acc]\n",
    "    results = pd.DataFrame(results, columns=['category', 'correct', 'incorrect'])\n",
    "    results['average'] = results.correct.div(results[['correct', 'incorrect']].sum(1))\n",
    "    if detail:\n",
    "        print(results.sort_values('average', ascending=False))\n",
    "    return results.loc[results.category=='total', ['correct', 'incorrect', 'average']].squeeze().tolist()"
   ]
  },
  {
   "cell_type": "code",
   "execution_count": 19,
   "metadata": {
    "ExecuteTime": {
     "end_time": "2020-03-12T21:43:44.142922Z",
     "start_time": "2020-03-12T21:43:19.715633Z"
    }
   },
   "outputs": [],
   "source": [
    "detailed_accuracy = model.wv.accuracy(analogies_path.as_posix(), case_insensitive=True)"
   ]
  },
  {
   "cell_type": "code",
   "execution_count": 20,
   "metadata": {
    "ExecuteTime": {
     "end_time": "2020-03-12T21:43:44.153839Z",
     "start_time": "2020-03-12T21:43:44.143964Z"
    }
   },
   "outputs": [
    {
     "name": "stdout",
     "output_type": "stream",
     "text": [
      "                       category  correct  incorrect   average\n",
      "10  gram6-nationality-adjective      416        396  0.512315\n",
      "12                 gram8-plural      225        375  0.375000\n",
      "7             gram3-comparative      247        623  0.283908\n",
      "9      gram5-present-participle      104        276  0.273684\n",
      "14                        total     2077       5549  0.272358\n",
      "13           gram9-plural-verbs       77        229  0.251634\n",
      "2                 city-in-state      729       2189  0.249829\n",
      "6                gram2-opposite       45        165  0.214286\n",
      "11             gram7-past-tense      122        528  0.187692\n",
      "5     gram1-adjective-to-adverb       57        249  0.186275\n",
      "8             gram4-superlative       42        198  0.175000\n",
      "0      capital-common-countries        9        101  0.081818\n",
      "1                 capital-world        1         41  0.023810\n",
      "3                      currency        3        149  0.019737\n",
      "4                        family        0         30  0.000000\n"
     ]
    }
   ],
   "source": [
    "summary = accuracy_by_category(detailed_accuracy)"
   ]
  },
  {
   "cell_type": "code",
   "execution_count": 21,
   "metadata": {
    "ExecuteTime": {
     "end_time": "2020-03-12T21:43:07.415985Z",
     "start_time": "2020-03-12T21:43:07.409123Z"
    }
   },
   "outputs": [],
   "source": [
    "def eval_analogies(w2v, max_vocab=15000):\n",
    "    accuracy = w2v.wv.accuracy(analogies_path,\n",
    "                               restrict_vocab=15000,\n",
    "                               case_insensitive=True)\n",
    "    return (pd.DataFrame([[c['section'],\n",
    "                        len(c['correct']),\n",
    "                        len(c['incorrect'])] for c in accuracy],\n",
    "                      columns=['category', 'correct', 'incorrect'])\n",
    "          .assign(average=lambda x: \n",
    "                  x.correct.div(x.correct.add(x.incorrect))))  "
   ]
  },
  {
   "cell_type": "code",
   "execution_count": 22,
   "metadata": {
    "ExecuteTime": {
     "end_time": "2020-03-12T21:43:07.427594Z",
     "start_time": "2020-03-12T21:43:07.417070Z"
    }
   },
   "outputs": [],
   "source": [
    "def total_accuracy(w2v):\n",
    "    df = eval_analogies(w2v)\n",
    "    return df.loc[df.category == 'total', ['correct', 'incorrect', 'average']].squeeze().tolist()"
   ]
  },
  {
   "cell_type": "code",
   "execution_count": 23,
   "metadata": {
    "ExecuteTime": {
     "end_time": "2020-03-12T21:43:13.551159Z",
     "start_time": "2020-03-12T21:43:07.428789Z"
    }
   },
   "outputs": [
    {
     "data": {
      "text/html": [
       "<div>\n",
       "<style scoped>\n",
       "    .dataframe tbody tr th:only-of-type {\n",
       "        vertical-align: middle;\n",
       "    }\n",
       "\n",
       "    .dataframe tbody tr th {\n",
       "        vertical-align: top;\n",
       "    }\n",
       "\n",
       "    .dataframe thead th {\n",
       "        text-align: right;\n",
       "    }\n",
       "</style>\n",
       "<table border=\"1\" class=\"dataframe\">\n",
       "  <thead>\n",
       "    <tr style=\"text-align: right;\">\n",
       "      <th></th>\n",
       "      <th>category</th>\n",
       "      <th>correct</th>\n",
       "      <th>incorrect</th>\n",
       "      <th>average</th>\n",
       "    </tr>\n",
       "  </thead>\n",
       "  <tbody>\n",
       "    <tr>\n",
       "      <th>0</th>\n",
       "      <td>capital-common-countries</td>\n",
       "      <td>2</td>\n",
       "      <td>10</td>\n",
       "      <td>0.166667</td>\n",
       "    </tr>\n",
       "    <tr>\n",
       "      <th>1</th>\n",
       "      <td>capital-world</td>\n",
       "      <td>0</td>\n",
       "      <td>0</td>\n",
       "      <td>NaN</td>\n",
       "    </tr>\n",
       "    <tr>\n",
       "      <th>2</th>\n",
       "      <td>city-in-state</td>\n",
       "      <td>244</td>\n",
       "      <td>480</td>\n",
       "      <td>0.337017</td>\n",
       "    </tr>\n",
       "    <tr>\n",
       "      <th>3</th>\n",
       "      <td>currency</td>\n",
       "      <td>3</td>\n",
       "      <td>49</td>\n",
       "      <td>0.057692</td>\n",
       "    </tr>\n",
       "    <tr>\n",
       "      <th>4</th>\n",
       "      <td>family</td>\n",
       "      <td>0</td>\n",
       "      <td>0</td>\n",
       "      <td>NaN</td>\n",
       "    </tr>\n",
       "    <tr>\n",
       "      <th>5</th>\n",
       "      <td>gram1-adjective-to-adverb</td>\n",
       "      <td>40</td>\n",
       "      <td>170</td>\n",
       "      <td>0.190476</td>\n",
       "    </tr>\n",
       "    <tr>\n",
       "      <th>6</th>\n",
       "      <td>gram2-opposite</td>\n",
       "      <td>20</td>\n",
       "      <td>70</td>\n",
       "      <td>0.222222</td>\n",
       "    </tr>\n",
       "    <tr>\n",
       "      <th>7</th>\n",
       "      <td>gram3-comparative</td>\n",
       "      <td>223</td>\n",
       "      <td>377</td>\n",
       "      <td>0.371667</td>\n",
       "    </tr>\n",
       "    <tr>\n",
       "      <th>8</th>\n",
       "      <td>gram4-superlative</td>\n",
       "      <td>24</td>\n",
       "      <td>66</td>\n",
       "      <td>0.266667</td>\n",
       "    </tr>\n",
       "    <tr>\n",
       "      <th>9</th>\n",
       "      <td>gram5-present-participle</td>\n",
       "      <td>82</td>\n",
       "      <td>224</td>\n",
       "      <td>0.267974</td>\n",
       "    </tr>\n",
       "    <tr>\n",
       "      <th>10</th>\n",
       "      <td>gram6-nationality-adjective</td>\n",
       "      <td>283</td>\n",
       "      <td>179</td>\n",
       "      <td>0.612554</td>\n",
       "    </tr>\n",
       "    <tr>\n",
       "      <th>11</th>\n",
       "      <td>gram7-past-tense</td>\n",
       "      <td>100</td>\n",
       "      <td>362</td>\n",
       "      <td>0.216450</td>\n",
       "    </tr>\n",
       "    <tr>\n",
       "      <th>12</th>\n",
       "      <td>gram8-plural</td>\n",
       "      <td>91</td>\n",
       "      <td>91</td>\n",
       "      <td>0.500000</td>\n",
       "    </tr>\n",
       "    <tr>\n",
       "      <th>13</th>\n",
       "      <td>gram9-plural-verbs</td>\n",
       "      <td>68</td>\n",
       "      <td>142</td>\n",
       "      <td>0.323810</td>\n",
       "    </tr>\n",
       "    <tr>\n",
       "      <th>14</th>\n",
       "      <td>total</td>\n",
       "      <td>1180</td>\n",
       "      <td>2220</td>\n",
       "      <td>0.347059</td>\n",
       "    </tr>\n",
       "  </tbody>\n",
       "</table>\n",
       "</div>"
      ],
      "text/plain": [
       "                       category  correct  incorrect   average\n",
       "0      capital-common-countries        2         10  0.166667\n",
       "1                 capital-world        0          0       NaN\n",
       "2                 city-in-state      244        480  0.337017\n",
       "3                      currency        3         49  0.057692\n",
       "4                        family        0          0       NaN\n",
       "5     gram1-adjective-to-adverb       40        170  0.190476\n",
       "6                gram2-opposite       20         70  0.222222\n",
       "7             gram3-comparative      223        377  0.371667\n",
       "8             gram4-superlative       24         66  0.266667\n",
       "9      gram5-present-participle       82        224  0.267974\n",
       "10  gram6-nationality-adjective      283        179  0.612554\n",
       "11             gram7-past-tense      100        362  0.216450\n",
       "12                 gram8-plural       91         91  0.500000\n",
       "13           gram9-plural-verbs       68        142  0.323810\n",
       "14                        total     1180       2220  0.347059"
      ]
     },
     "execution_count": 23,
     "metadata": {},
     "output_type": "execute_result"
    }
   ],
   "source": [
    "accuracy = eval_analogies(model)\n",
    "accuracy"
   ]
  },
  {
   "cell_type": "markdown",
   "metadata": {},
   "source": [
    "### Validate Vector Arithmetic"
   ]
  },
  {
   "cell_type": "code",
   "execution_count": 24,
   "metadata": {
    "ExecuteTime": {
     "end_time": "2020-03-12T21:43:13.593200Z",
     "start_time": "2020-03-12T21:43:13.584165Z"
    }
   },
   "outputs": [
    {
     "name": "stdout",
     "output_type": "stream",
     "text": [
      "             term  similarity\n",
      "0            ipad    0.676419\n",
      "1         android    0.642430\n",
      "2             app    0.620278\n",
      "3      smartphone    0.603889\n",
      "4     smartphones    0.601604\n",
      "5           apple    0.566086\n",
      "6      mobile_app    0.558745\n",
      "7     smart_phone    0.553762\n",
      "8        handsets    0.535715\n",
      "9  mobile_devices    0.533918\n"
     ]
    }
   ],
   "source": [
    "sims=model.wv.most_similar(positive=['iphone'], restrict_vocab=15000)\n",
    "print(pd.DataFrame(sims, columns=['term', 'similarity']))"
   ]
  },
  {
   "cell_type": "code",
   "execution_count": 25,
   "metadata": {
    "ExecuteTime": {
     "end_time": "2020-03-12T21:43:13.605420Z",
     "start_time": "2020-03-12T21:43:13.594315Z"
    }
   },
   "outputs": [
    {
     "name": "stdout",
     "output_type": "stream",
     "text": [
      "             term  similarity\n",
      "0         germany    0.580489\n",
      "1     netherlands    0.534376\n",
      "2  united_kingdom    0.533495\n",
      "3           italy    0.525086\n",
      "4         belgium    0.517875\n",
      "5       australia    0.506363\n",
      "6          sweden    0.494862\n",
      "7           spain    0.490362\n",
      "8    south_africa    0.488136\n",
      "9  germany_france    0.482264\n"
     ]
    }
   ],
   "source": [
    "analogy = model.wv.most_similar(positive=['france', 'london'], \n",
    "                                negative=['paris'], \n",
    "                                restrict_vocab=15000)\n",
    "print(pd.DataFrame(analogy, columns=['term', 'similarity']))"
   ]
  },
  {
   "cell_type": "markdown",
   "metadata": {},
   "source": [
    "### Check similarity for random words"
   ]
  },
  {
   "cell_type": "code",
   "execution_count": 26,
   "metadata": {
    "ExecuteTime": {
     "end_time": "2020-03-12T21:43:13.641962Z",
     "start_time": "2020-03-12T21:43:13.607941Z"
    }
   },
   "outputs": [
    {
     "data": {
      "text/html": [
       "<div>\n",
       "<style scoped>\n",
       "    .dataframe tbody tr th:only-of-type {\n",
       "        vertical-align: middle;\n",
       "    }\n",
       "\n",
       "    .dataframe tbody tr th {\n",
       "        vertical-align: top;\n",
       "    }\n",
       "\n",
       "    .dataframe thead th {\n",
       "        text-align: right;\n",
       "    }\n",
       "</style>\n",
       "<table border=\"1\" class=\"dataframe\">\n",
       "  <thead>\n",
       "    <tr style=\"text-align: right;\">\n",
       "      <th></th>\n",
       "      <th>paradigm</th>\n",
       "      <th>fundamentally</th>\n",
       "      <th>patient</th>\n",
       "      <th>quality</th>\n",
       "      <th>percent</th>\n",
       "    </tr>\n",
       "  </thead>\n",
       "  <tbody>\n",
       "    <tr>\n",
       "      <th>0</th>\n",
       "      <td>paradigms</td>\n",
       "      <td>transform</td>\n",
       "      <td>patients</td>\n",
       "      <td>cleanliness</td>\n",
       "      <td>percent_percent</td>\n",
       "    </tr>\n",
       "    <tr>\n",
       "      <th>1</th>\n",
       "      <td>personalized_medicine</td>\n",
       "      <td>transforming</td>\n",
       "      <td>clinician</td>\n",
       "      <td>freshness</td>\n",
       "      <td>percentage</td>\n",
       "    </tr>\n",
       "    <tr>\n",
       "      <th>2</th>\n",
       "      <td>revolutionized</td>\n",
       "      <td>reshaping</td>\n",
       "      <td>physician</td>\n",
       "      <td>high_quality</td>\n",
       "      <td>total</td>\n",
       "    </tr>\n",
       "    <tr>\n",
       "      <th>3</th>\n",
       "      <td>adoptive</td>\n",
       "      <td>way</td>\n",
       "      <td>outpatients</td>\n",
       "      <td>trustworthiness</td>\n",
       "      <td>mwh_mwh</td>\n",
       "    </tr>\n",
       "    <tr>\n",
       "      <th>4</th>\n",
       "      <td>servicenow</td>\n",
       "      <td>paradigms</td>\n",
       "      <td>hospital</td>\n",
       "      <td>dependability</td>\n",
       "      <td>approximately</td>\n",
       "    </tr>\n",
       "    <tr>\n",
       "      <th>5</th>\n",
       "      <td>revolutionize</td>\n",
       "      <td>embracing</td>\n",
       "      <td>givers</td>\n",
       "      <td>consistency</td>\n",
       "      <td>basis_points</td>\n",
       "    </tr>\n",
       "    <tr>\n",
       "      <th>6</th>\n",
       "      <td>mx_icp</td>\n",
       "      <td>embrace</td>\n",
       "      <td>care</td>\n",
       "      <td>timeliness</td>\n",
       "      <td>approximatel_y</td>\n",
       "    </tr>\n",
       "    <tr>\n",
       "      <th>7</th>\n",
       "      <td>monogenic_diseases</td>\n",
       "      <td>alter</td>\n",
       "      <td>ophthalmologist</td>\n",
       "      <td>reliability</td>\n",
       "      <td>yr</td>\n",
       "    </tr>\n",
       "    <tr>\n",
       "      <th>8</th>\n",
       "      <td>cellular_immunotherapy</td>\n",
       "      <td>radically</td>\n",
       "      <td>hospital_readmissions</td>\n",
       "      <td>responsiveness</td>\n",
       "      <td>respectively</td>\n",
       "    </tr>\n",
       "    <tr>\n",
       "      <th>9</th>\n",
       "      <td>anemia_ckd</td>\n",
       "      <td>profoundly</td>\n",
       "      <td>inpatient</td>\n",
       "      <td>friendliness</td>\n",
       "      <td>represented</td>\n",
       "    </tr>\n",
       "  </tbody>\n",
       "</table>\n",
       "</div>"
      ],
      "text/plain": [
       "                 paradigm fundamentally                patient          quality          percent\n",
       "0               paradigms     transform               patients      cleanliness  percent_percent\n",
       "1   personalized_medicine  transforming              clinician        freshness       percentage\n",
       "2          revolutionized     reshaping              physician     high_quality            total\n",
       "3                adoptive           way            outpatients  trustworthiness          mwh_mwh\n",
       "4              servicenow     paradigms               hospital    dependability    approximately\n",
       "5           revolutionize     embracing                 givers      consistency     basis_points\n",
       "6                  mx_icp       embrace                   care       timeliness   approximatel_y\n",
       "7      monogenic_diseases         alter        ophthalmologist      reliability               yr\n",
       "8  cellular_immunotherapy     radically  hospital_readmissions   responsiveness     respectively\n",
       "9              anemia_ckd    profoundly              inpatient     friendliness      represented"
      ]
     },
     "execution_count": 26,
     "metadata": {},
     "output_type": "execute_result"
    }
   ],
   "source": [
    "VALID_SET = 5  # Random set of words to get nearest neighbors for\n",
    "VALID_WINDOW = 100  # Most frequent words to draw validation set from\n",
    "valid_examples = np.random.choice(VALID_WINDOW, size=VALID_SET, replace=False)\n",
    "similars = pd.DataFrame()\n",
    "\n",
    "for id in sorted(valid_examples):\n",
    "    word = vocab.loc[id, 'token']\n",
    "    similars[word] = [s[0] for s in model.wv.most_similar(word)]\n",
    "similars"
   ]
  },
  {
   "cell_type": "markdown",
   "metadata": {},
   "source": [
    "## Continue Training"
   ]
  },
  {
   "cell_type": "code",
   "execution_count": null,
   "metadata": {
    "ExecuteTime": {
     "end_time": "2020-03-12T23:03:52.861290Z",
     "start_time": "2020-03-12T22:21:01.308034Z"
    }
   },
   "outputs": [],
   "source": [
    "accuracies = [summary]\n",
    "best_accuracy = summary[-1]\n",
    "for i in range(1, 20):\n",
    "    start = time()\n",
    "    model.train(sentences, epochs=1, total_examples=model.corpus_count)\n",
    "    detailed_accuracy = model.wv.accuracy(analogies_path)\n",
    "    accuracies.append(accuracy_by_category(detailed_accuracy, detail=False))\n",
    "    print(f'{i:02} | Duration: {format_time(time() - start)} | Accuracy: {accuracies[-1][-1]:.2%} ')\n",
    "    if accuracies[-1][-1] > best_accuracy:\n",
    "        model.save((model_path / f'word2vec_{i:02}.model').as_posix())\n",
    "        model.wv.save((model_path / f'word_vectors_{i:02}.bin').as_posix())\n",
    "        best_accuracy = accuracies[-1][-1]\n",
    "    (pd.DataFrame(accuracies, \n",
    "                 columns=['correct', 'wrong', 'average'])\n",
    "     .to_csv(model_path / 'accuracies.csv', index=False))\n",
    "model.wv.save((model_path / 'word_vectors_final.bin').as_posix())"
   ]
  },
  {
   "cell_type": "markdown",
   "metadata": {},
   "source": [
    "### Sample Output"
   ]
  },
  {
   "cell_type": "markdown",
   "metadata": {},
   "source": [
    "\n",
    "|Epoch|Duration| Accuracy|\n",
    "|---|---|---|\n",
    "01 | 00:14:00 | 31.64% | \n",
    "02 | 00:14:21 | 31.72% | \n",
    "03 | 00:14:34 | 33.65% | \n",
    "04 | 00:16:11 | 34.03% | \n",
    "05 | 00:13:51 | 33.04% | \n",
    "06 | 00:13:46 | 33.28% | \n",
    "07 | 00:13:51 | 33.10% | \n",
    "08 | 00:13:54 | 34.11% | \n",
    "09 | 00:13:54 | 33.70% | \n",
    "10 | 00:13:55 | 34.09% | \n",
    "11 | 00:13:57 | 35.06% | \n",
    "12 | 00:13:38 | 33.79% | \n",
    "13 | 00:13:26 | 32.40% | "
   ]
  },
  {
   "cell_type": "code",
   "execution_count": 30,
   "metadata": {
    "ExecuteTime": {
     "end_time": "2020-03-12T22:20:29.694288Z",
     "start_time": "2020-03-12T22:20:29.686485Z"
    }
   },
   "outputs": [],
   "source": [
    "(pd.DataFrame(accuracies, \n",
    "             columns=['correct', 'wrong', 'average'])\n",
    " .to_csv(model_path / 'accuracies.csv', index=False))"
   ]
  },
  {
   "cell_type": "code",
   "execution_count": 31,
   "metadata": {
    "ExecuteTime": {
     "end_time": "2020-03-12T23:07:48.758189Z",
     "start_time": "2020-03-12T23:07:48.596327Z"
    }
   },
   "outputs": [],
   "source": [
    "best_model = Word2Vec.load((model_path / 'word2vec_11.model').as_posix())"
   ]
  },
  {
   "cell_type": "code",
   "execution_count": 32,
   "metadata": {
    "ExecuteTime": {
     "end_time": "2020-03-12T23:08:21.173955Z",
     "start_time": "2020-03-12T23:07:52.786505Z"
    }
   },
   "outputs": [],
   "source": [
    "detailed_accuracy = best_model.wv.accuracy(analogies_path.as_posix(), case_insensitive=True)"
   ]
  },
  {
   "cell_type": "code",
   "execution_count": 33,
   "metadata": {
    "ExecuteTime": {
     "end_time": "2020-03-12T23:08:21.191082Z",
     "start_time": "2020-03-12T23:08:21.175040Z"
    }
   },
   "outputs": [
    {
     "name": "stdout",
     "output_type": "stream",
     "text": [
      "                       category  correct  incorrect   average\n",
      "10  gram6-nationality-adjective      462        350  0.568966\n",
      "2                 city-in-state     1211       1707  0.415010\n",
      "12                 gram8-plural      243        357  0.405000\n",
      "14                        total     2674       4952  0.350643\n",
      "7             gram3-comparative      287        583  0.329885\n",
      "9      gram5-present-participle      106        274  0.278947\n",
      "13           gram9-plural-verbs       75        231  0.245098\n",
      "5     gram1-adjective-to-adverb       61        245  0.199346\n",
      "11             gram7-past-tense      126        524  0.193846\n",
      "8             gram4-superlative       46        194  0.191667\n",
      "6                gram2-opposite       40        170  0.190476\n",
      "0      capital-common-countries       14         96  0.127273\n",
      "1                 capital-world        1         41  0.023810\n",
      "3                      currency        2        150  0.013158\n",
      "4                        family        0         30  0.000000\n",
      "Base Accuracy: Correct 2,674 | Wrong 4,952 | Avg 35.06%\n",
      "\n"
     ]
    }
   ],
   "source": [
    "summary = accuracy_by_category(detailed_accuracy)\n",
    "print('Base Accuracy: Correct {:,.0f} | Wrong {:,.0f} | Avg {:,.2%}\\n'.format(*summary))"
   ]
  },
  {
   "cell_type": "code",
   "execution_count": 34,
   "metadata": {
    "ExecuteTime": {
     "end_time": "2020-03-12T23:08:55.216310Z",
     "start_time": "2020-03-12T23:08:55.213661Z"
    }
   },
   "outputs": [],
   "source": [
    "cat_dict = {'capital-common-countries':'Capitals',\n",
    "            'capital-world':'Capitals RoW',\n",
    "            'city-in-state':'City-State',\n",
    "            'currency':'Currency',\n",
    "            'family':'Famliy',\n",
    "            'gram1-adjective-to-adverb':'Adj-Adverb',\n",
    "            'gram2-opposite':'Opposite',\n",
    "            'gram3-comparative':'Comparative',\n",
    "            'gram4-superlative':'Superlative',\n",
    "            'gram5-present-participle':'Pres. Part.',\n",
    "            'gram6-nationality-adjective':'Nationality',\n",
    "            'gram7-past-tense':'Past Tense',\n",
    "            'gram8-plural':'Plural',\n",
    "            'gram9-plural-verbs':'Plural Verbs',\n",
    "            'total':'Total'}"
   ]
  },
  {
   "cell_type": "code",
   "execution_count": 35,
   "metadata": {
    "ExecuteTime": {
     "end_time": "2020-03-12T23:08:55.451001Z",
     "start_time": "2020-03-12T23:08:55.431874Z"
    }
   },
   "outputs": [],
   "source": [
    "results = [[c['section'], len(c['correct']), len(c['incorrect'])] for c in detailed_accuracy]\n",
    "results = pd.DataFrame(results, columns=['category', 'correct', 'incorrect'])\n",
    "results['category'] = results.category.map(cat_dict)\n",
    "results['average'] = results.correct.div(results[['correct', 'incorrect']].sum(1))\n",
    "results = results.rename(columns=str.capitalize).set_index('Category')\n",
    "total = results.loc['Total']\n",
    "results = results.drop('Total')"
   ]
  },
  {
   "cell_type": "code",
   "execution_count": 36,
   "metadata": {
    "ExecuteTime": {
     "end_time": "2020-03-12T23:08:57.854555Z",
     "start_time": "2020-03-12T23:08:57.841639Z"
    }
   },
   "outputs": [
    {
     "data": {
      "text/html": [
       "<div>\n",
       "<style scoped>\n",
       "    .dataframe tbody tr th:only-of-type {\n",
       "        vertical-align: middle;\n",
       "    }\n",
       "\n",
       "    .dataframe tbody tr th {\n",
       "        vertical-align: top;\n",
       "    }\n",
       "\n",
       "    .dataframe thead th {\n",
       "        text-align: right;\n",
       "    }\n",
       "</style>\n",
       "<table border=\"1\" class=\"dataframe\">\n",
       "  <thead>\n",
       "    <tr style=\"text-align: right;\">\n",
       "      <th></th>\n",
       "      <th>token</th>\n",
       "      <th>similarity</th>\n",
       "    </tr>\n",
       "  </thead>\n",
       "  <tbody>\n",
       "    <tr>\n",
       "      <th>0</th>\n",
       "      <td>women</td>\n",
       "      <td>0.412746</td>\n",
       "    </tr>\n",
       "    <tr>\n",
       "      <th>1</th>\n",
       "      <td>couples</td>\n",
       "      <td>0.386341</td>\n",
       "    </tr>\n",
       "    <tr>\n",
       "      <th>2</th>\n",
       "      <td>sperling</td>\n",
       "      <td>0.358182</td>\n",
       "    </tr>\n",
       "    <tr>\n",
       "      <th>3</th>\n",
       "      <td>kids</td>\n",
       "      <td>0.355766</td>\n",
       "    </tr>\n",
       "    <tr>\n",
       "      <th>4</th>\n",
       "      <td>elite</td>\n",
       "      <td>0.354562</td>\n",
       "    </tr>\n",
       "    <tr>\n",
       "      <th>5</th>\n",
       "      <td>college</td>\n",
       "      <td>0.353110</td>\n",
       "    </tr>\n",
       "    <tr>\n",
       "      <th>6</th>\n",
       "      <td>boston</td>\n",
       "      <td>0.351908</td>\n",
       "    </tr>\n",
       "    <tr>\n",
       "      <th>7</th>\n",
       "      <td>sullivan</td>\n",
       "      <td>0.346279</td>\n",
       "    </tr>\n",
       "    <tr>\n",
       "      <th>8</th>\n",
       "      <td>holbrook</td>\n",
       "      <td>0.346174</td>\n",
       "    </tr>\n",
       "    <tr>\n",
       "      <th>9</th>\n",
       "      <td>stylish</td>\n",
       "      <td>0.342540</td>\n",
       "    </tr>\n",
       "    <tr>\n",
       "      <th>10</th>\n",
       "      <td>married</td>\n",
       "      <td>0.339573</td>\n",
       "    </tr>\n",
       "    <tr>\n",
       "      <th>11</th>\n",
       "      <td>rainbow</td>\n",
       "      <td>0.338601</td>\n",
       "    </tr>\n",
       "    <tr>\n",
       "      <th>12</th>\n",
       "      <td>wilson</td>\n",
       "      <td>0.337104</td>\n",
       "    </tr>\n",
       "    <tr>\n",
       "      <th>13</th>\n",
       "      <td>affluent</td>\n",
       "      <td>0.335511</td>\n",
       "    </tr>\n",
       "    <tr>\n",
       "      <th>14</th>\n",
       "      <td>scent</td>\n",
       "      <td>0.332482</td>\n",
       "    </tr>\n",
       "    <tr>\n",
       "      <th>15</th>\n",
       "      <td>brigham</td>\n",
       "      <td>0.332318</td>\n",
       "    </tr>\n",
       "    <tr>\n",
       "      <th>16</th>\n",
       "      <td>mary</td>\n",
       "      <td>0.331343</td>\n",
       "    </tr>\n",
       "    <tr>\n",
       "      <th>17</th>\n",
       "      <td>county</td>\n",
       "      <td>0.329654</td>\n",
       "    </tr>\n",
       "    <tr>\n",
       "      <th>18</th>\n",
       "      <td>alere</td>\n",
       "      <td>0.329396</td>\n",
       "    </tr>\n",
       "    <tr>\n",
       "      <th>19</th>\n",
       "      <td>ecce</td>\n",
       "      <td>0.329181</td>\n",
       "    </tr>\n",
       "  </tbody>\n",
       "</table>\n",
       "</div>"
      ],
      "text/plain": [
       "       token  similarity\n",
       "0      women    0.412746\n",
       "1    couples    0.386341\n",
       "2   sperling    0.358182\n",
       "3       kids    0.355766\n",
       "4      elite    0.354562\n",
       "5    college    0.353110\n",
       "6     boston    0.351908\n",
       "7   sullivan    0.346279\n",
       "8   holbrook    0.346174\n",
       "9    stylish    0.342540\n",
       "10   married    0.339573\n",
       "11   rainbow    0.338601\n",
       "12    wilson    0.337104\n",
       "13  affluent    0.335511\n",
       "14     scent    0.332482\n",
       "15   brigham    0.332318\n",
       "16      mary    0.331343\n",
       "17    county    0.329654\n",
       "18     alere    0.329396\n",
       "19      ecce    0.329181"
      ]
     },
     "execution_count": 36,
     "metadata": {},
     "output_type": "execute_result"
    }
   ],
   "source": [
    "most_sim = best_model.wv.most_similar(positive=['woman', 'king'], negative=['man'], topn=20)\n",
    "pd.DataFrame(most_sim, columns=['token', 'similarity'])"
   ]
  },
  {
   "cell_type": "code",
   "execution_count": 37,
   "metadata": {
    "ExecuteTime": {
     "end_time": "2020-03-12T23:09:38.534459Z",
     "start_time": "2020-03-12T23:09:38.157257Z"
    }
   },
   "outputs": [
    {
     "data": {
      "image/png": "[encoded data removed]",
      "text/plain": [
       "<Figure size 1152x360 with 3 Axes>"
      ]
     },
     "metadata": {
      "needs_background": "light"
     },
     "output_type": "display_data"
    }
   ],
   "source": [
    "fig, axes = plt.subplots(figsize=(16, 5), ncols=2)\n",
    "\n",
    "axes[0] = results.loc[:, ['Correct', 'Incorrect']].plot.bar(stacked=True, ax=axes[0]\n",
    "                                                           , title='Analogy Accuracy')\n",
    "ax1 = results.loc[:, ['Average']].plot(ax=axes[0], secondary_y=True, lw=1, c='k', rot=35)\n",
    "ax1.yaxis.set_major_formatter(FuncFormatter(lambda y, _: '{:.0%}'.format(y)))\n",
    "\n",
    "(pd.DataFrame(most_sim, columns=['token', 'similarity'])\n",
    " .set_index('token').similarity\n",
    " .sort_values().tail(10).plot.barh(xlim=(.3, .37), ax=axes[1], title='Closest matches for Woman + King - Man'))\n",
    "fig.tight_layout()\n",
    "# fig.savefig('figures/w2v_sec_evaluation', dpi=300);"
   ]
  }
 ],
 "metadata": {
  "kernelspec": {
   "display_name": "Python 3",
   "language": "python",
   "name": "python3"
  },
  "language_info": {
   "codemirror_mode": {
    "name": "ipython",
    "version": 3
   },
   "file_extension": ".py",
   "mimetype": "text/x-python",
   "name": "python",
   "nbconvert_exporter": "python",
   "pygments_lexer": "ipython3",
   "version": "3.8.3"
  },
  "toc": {
   "base_numbering": 1,
   "nav_menu": {},
   "number_sections": true,
   "sideBar": true,
   "skip_h1_title": false,
   "title_cell": "Table of Contents",
   "title_sidebar": "Contents",
   "toc_cell": false,
   "toc_position": {},
   "toc_section_display": true,
   "toc_window_display": true
  }
 },
 "nbformat": 4,
 "nbformat_minor": 4
}
