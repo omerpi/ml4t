{
 "cells": [
  {
   "cell_type": "markdown",
   "metadata": {},
   "source": [
    "# Yelp Sentiment Analysis with doc2vec Document Vectors"
   ]
  },
  {
   "cell_type": "markdown",
   "metadata": {},
   "source": [
    "## Imports & Settings"
   ]
  },
  {
   "cell_type": "code",
   "execution_count": 1,
   "metadata": {
    "ExecuteTime": {
     "end_time": "2020-03-12T23:10:32.276737Z",
     "start_time": "2020-03-12T23:10:31.864004Z"
    }
   },
   "outputs": [
    {
     "name": "stderr",
     "output_type": "stream",
     "text": [
      "[nltk_data] Downloading package stopwords to /home/stefan/nltk_data...\n",
      "[nltk_data]   Package stopwords is already up-to-date!\n"
     ]
    },
    {
     "data": {
      "text/plain": [
       "True"
      ]
     },
     "execution_count": 1,
     "metadata": {},
     "output_type": "execute_result"
    }
   ],
   "source": [
    "import nltk\n",
    "nltk.download('stopwords')"
   ]
  },
  {
   "cell_type": "code",
   "execution_count": 2,
   "metadata": {
    "ExecuteTime": {
     "end_time": "2020-03-13T02:04:45.477534Z",
     "start_time": "2020-03-13T02:04:43.716234Z"
    }
   },
   "outputs": [],
   "source": [
    "from pathlib import Path\n",
    "import numpy as np\n",
    "import pandas as pd\n",
    "from gensim.models import Doc2Vec\n",
    "from gensim.models.doc2vec import TaggedDocument\n",
    "import logging\n",
    "import warnings\n",
    "from random import shuffle\n",
    "import matplotlib.pyplot as plt\n",
    "import lightgbm as lgb\n",
    "from sklearn.model_selection import train_test_split\n",
    "from nltk import RegexpTokenizer\n",
    "from nltk.corpus import stopwords\n",
    "from sklearn.linear_model import LogisticRegression\n",
    "from sklearn.ensemble import RandomForestClassifier\n",
    "from sklearn.metrics import confusion_matrix, accuracy_score, roc_auc_score\n",
    "from sklearn.utils import class_weight\n",
    "import seaborn as sns\n",
    "import umap"
   ]
  },
  {
   "cell_type": "markdown",
   "metadata": {},
   "source": [
    "### Settings"
   ]
  },
  {
   "cell_type": "code",
   "execution_count": 3,
   "metadata": {
    "ExecuteTime": {
     "end_time": "2020-03-13T02:04:45.483093Z",
     "start_time": "2020-03-13T02:04:45.478572Z"
    }
   },
   "outputs": [],
   "source": [
    "warnings.filterwarnings('ignore')\n",
    "sns.set_style('whitegrid')\n",
    "pd.set_option('display.expand_frame_repr', False)\n",
    "np.random.seed(42)"
   ]
  },
  {
   "cell_type": "markdown",
   "metadata": {},
   "source": [
    "### Paths"
   ]
  },
  {
   "cell_type": "code",
   "execution_count": 7,
   "metadata": {
    "ExecuteTime": {
     "end_time": "2020-03-13T02:17:32.694170Z",
     "start_time": "2020-03-13T02:17:32.690953Z"
    }
   },
   "outputs": [],
   "source": [
    "yelp_path = Path('data', 'doc2vec')"
   ]
  },
  {
   "cell_type": "markdown",
   "metadata": {},
   "source": [
    "### Logging Config"
   ]
  },
  {
   "cell_type": "code",
   "execution_count": 6,
   "metadata": {
    "ExecuteTime": {
     "end_time": "2020-03-13T02:05:04.611777Z",
     "start_time": "2020-03-13T02:05:04.609812Z"
    }
   },
   "outputs": [],
   "source": [
    "logging.basicConfig(\n",
    "        filename=yelp_path / 'doc2vec.log',\n",
    "        level=logging.DEBUG,\n",
    "        format='%(asctime)s - %(name)s - %(levelname)s - %(message)s',\n",
    "        datefmt='%H:%M:%S')"
   ]
  },
  {
   "cell_type": "markdown",
   "metadata": {},
   "source": [
    "## Load Data"
   ]
  },
  {
   "cell_type": "markdown",
   "metadata": {},
   "source": [
    "Refer to download information in [yelp_sentiment](../14_working_with_text_data/06_sentiment_analysis_yelp.ipynb)"
   ]
  },
  {
   "cell_type": "code",
   "execution_count": 45,
   "metadata": {
    "ExecuteTime": {
     "end_time": "2020-03-12T23:29:48.170583Z",
     "start_time": "2020-03-12T23:29:27.546553Z"
    }
   },
   "outputs": [],
   "source": [
    "df = pd.read_parquet(yelp_path / 'combined.parquet').loc[:, ['stars', 'text']]"
   ]
  },
  {
   "cell_type": "code",
   "execution_count": 47,
   "metadata": {
    "ExecuteTime": {
     "end_time": "2020-03-12T23:29:48.245122Z",
     "start_time": "2020-03-12T23:29:48.238537Z"
    }
   },
   "outputs": [
    {
     "name": "stdout",
     "output_type": "stream",
     "text": [
      "<class 'pandas.core.frame.DataFrame'>\n",
      "Int64Index: 5996995 entries, 0 to 5996995\n",
      "Data columns (total 2 columns):\n",
      " #   Column  Dtype \n",
      "---  ------  ----- \n",
      " 0   stars   int64 \n",
      " 1   text    object\n",
      "dtypes: int64(1), object(1)\n",
      "memory usage: 137.3+ MB\n"
     ]
    }
   ],
   "source": [
    "df.info()"
   ]
  },
  {
   "cell_type": "code",
   "execution_count": 46,
   "metadata": {
    "ExecuteTime": {
     "end_time": "2020-03-12T23:29:48.237207Z",
     "start_time": "2020-03-12T23:29:48.171662Z"
    }
   },
   "outputs": [
    {
     "data": {
      "text/plain": [
       "5    2641880\n",
       "4    1335957\n",
       "1     858139\n",
       "3     673206\n",
       "2     487813\n",
       "Name: stars, dtype: int64"
      ]
     },
     "execution_count": 46,
     "metadata": {},
     "output_type": "execute_result"
    }
   ],
   "source": [
    "df.stars.value_counts()"
   ]
  },
  {
   "cell_type": "code",
   "execution_count": 48,
   "metadata": {
    "ExecuteTime": {
     "end_time": "2020-03-12T23:30:30.629297Z",
     "start_time": "2020-03-12T23:30:30.623115Z"
    }
   },
   "outputs": [],
   "source": [
    "stars = range(1, 6)"
   ]
  },
  {
   "cell_type": "code",
   "execution_count": 49,
   "metadata": {
    "ExecuteTime": {
     "end_time": "2020-03-12T23:30:31.483898Z",
     "start_time": "2020-03-12T23:30:30.876427Z"
    }
   },
   "outputs": [],
   "source": [
    "sample = pd.concat([df[df.stars==s].sample(n=100000) for s in stars])"
   ]
  },
  {
   "cell_type": "code",
   "execution_count": 50,
   "metadata": {
    "ExecuteTime": {
     "end_time": "2020-03-12T23:30:31.982346Z",
     "start_time": "2020-03-12T23:30:31.896538Z"
    }
   },
   "outputs": [
    {
     "name": "stdout",
     "output_type": "stream",
     "text": [
      "<class 'pandas.core.frame.DataFrame'>\n",
      "Int64Index: 500000 entries, 4766182 to 297039\n",
      "Data columns (total 2 columns):\n",
      " #   Column  Non-Null Count   Dtype \n",
      "---  ------  --------------   ----- \n",
      " 0   stars   500000 non-null  int64 \n",
      " 1   text    500000 non-null  object\n",
      "dtypes: int64(1), object(1)\n",
      "memory usage: 11.4+ MB\n"
     ]
    }
   ],
   "source": [
    "sample.info()"
   ]
  },
  {
   "cell_type": "code",
   "execution_count": 51,
   "metadata": {
    "ExecuteTime": {
     "end_time": "2020-03-12T23:30:38.284678Z",
     "start_time": "2020-03-12T23:30:38.276007Z"
    }
   },
   "outputs": [
    {
     "data": {
      "text/plain": [
       "5    100000\n",
       "4    100000\n",
       "3    100000\n",
       "2    100000\n",
       "1    100000\n",
       "Name: stars, dtype: int64"
      ]
     },
     "execution_count": 51,
     "metadata": {},
     "output_type": "execute_result"
    }
   ],
   "source": [
    "sample.stars.value_counts()"
   ]
  },
  {
   "cell_type": "code",
   "execution_count": 52,
   "metadata": {
    "ExecuteTime": {
     "end_time": "2020-03-12T23:30:50.643339Z",
     "start_time": "2020-03-12T23:30:48.602243Z"
    }
   },
   "outputs": [],
   "source": [
    "sample.to_parquet('yelp_sample.parquet')"
   ]
  },
  {
   "cell_type": "code",
   "execution_count": 53,
   "metadata": {
    "ExecuteTime": {
     "end_time": "2020-03-12T23:31:00.155598Z",
     "start_time": "2020-03-12T23:30:59.395076Z"
    }
   },
   "outputs": [],
   "source": [
    "sample = pd.read_parquet('yelp_sample.parquet').reset_index(drop=True)"
   ]
  },
  {
   "cell_type": "code",
   "execution_count": 54,
   "metadata": {
    "ExecuteTime": {
     "end_time": "2020-03-12T23:31:00.162891Z",
     "start_time": "2020-03-12T23:31:00.156650Z"
    }
   },
   "outputs": [
    {
     "data": {
      "text/html": [
       "<div>\n",
       "<style scoped>\n",
       "    .dataframe tbody tr th:only-of-type {\n",
       "        vertical-align: middle;\n",
       "    }\n",
       "\n",
       "    .dataframe tbody tr th {\n",
       "        vertical-align: top;\n",
       "    }\n",
       "\n",
       "    .dataframe thead th {\n",
       "        text-align: right;\n",
       "    }\n",
       "</style>\n",
       "<table border=\"1\" class=\"dataframe\">\n",
       "  <thead>\n",
       "    <tr style=\"text-align: right;\">\n",
       "      <th></th>\n",
       "      <th>stars</th>\n",
       "      <th>text</th>\n",
       "    </tr>\n",
       "  </thead>\n",
       "  <tbody>\n",
       "    <tr>\n",
       "      <th>0</th>\n",
       "      <td>1</td>\n",
       "      <td>Probably will not be going back there again. T...</td>\n",
       "    </tr>\n",
       "    <tr>\n",
       "      <th>1</th>\n",
       "      <td>1</td>\n",
       "      <td>Horrible check in, rooms are ok, expected nice...</td>\n",
       "    </tr>\n",
       "    <tr>\n",
       "      <th>2</th>\n",
       "      <td>1</td>\n",
       "      <td>Worst experience ever.... I guess it's my firs...</td>\n",
       "    </tr>\n",
       "    <tr>\n",
       "      <th>3</th>\n",
       "      <td>1</td>\n",
       "      <td>I only gave one star because if I could have g...</td>\n",
       "    </tr>\n",
       "    <tr>\n",
       "      <th>4</th>\n",
       "      <td>1</td>\n",
       "      <td>yall didnt say the wifi wasn't free im crying ...</td>\n",
       "    </tr>\n",
       "  </tbody>\n",
       "</table>\n",
       "</div>"
      ],
      "text/plain": [
       "   stars                                               text\n",
       "0      1  Probably will not be going back there again. T...\n",
       "1      1  Horrible check in, rooms are ok, expected nice...\n",
       "2      1  Worst experience ever.... I guess it's my firs...\n",
       "3      1  I only gave one star because if I could have g...\n",
       "4      1  yall didnt say the wifi wasn't free im crying ..."
      ]
     },
     "execution_count": 54,
     "metadata": {},
     "output_type": "execute_result"
    }
   ],
   "source": [
    "sample.head()"
   ]
  },
  {
   "cell_type": "code",
   "execution_count": 56,
   "metadata": {
    "ExecuteTime": {
     "end_time": "2020-03-12T23:31:23.089337Z",
     "start_time": "2020-03-12T23:31:16.814501Z"
    }
   },
   "outputs": [
    {
     "data": {
      "image/png": "[encoded data removed]",
      "text/plain": [
       "<Figure size 432x288 with 1 Axes>"
      ]
     },
     "metadata": {},
     "output_type": "display_data"
    }
   ],
   "source": [
    "sns.distplot(sample.text.str.split().str.len());"
   ]
  },
  {
   "cell_type": "markdown",
   "metadata": {},
   "source": [
    "## Doc2Vec"
   ]
  },
  {
   "cell_type": "markdown",
   "metadata": {},
   "source": [
    "### Basic text cleaning"
   ]
  },
  {
   "cell_type": "code",
   "execution_count": 57,
   "metadata": {
    "ExecuteTime": {
     "end_time": "2020-03-12T23:31:31.865916Z",
     "start_time": "2020-03-12T23:31:31.861373Z"
    }
   },
   "outputs": [],
   "source": [
    "tokenizer = RegexpTokenizer(r'\\w+')\n",
    "stopword_set = set(stopwords.words('english'))\n",
    "\n",
    "def clean(review):\n",
    "    tokens = tokenizer.tokenize(review)\n",
    "    return ' '.join([t for t in tokens if t not in stopword_set])"
   ]
  },
  {
   "cell_type": "code",
   "execution_count": 58,
   "metadata": {
    "ExecuteTime": {
     "end_time": "2020-03-12T23:31:48.496823Z",
     "start_time": "2020-03-12T23:31:32.260538Z"
    }
   },
   "outputs": [],
   "source": [
    "sample.text = sample.text.str.lower().apply(clean)"
   ]
  },
  {
   "cell_type": "code",
   "execution_count": 59,
   "metadata": {
    "ExecuteTime": {
     "end_time": "2020-03-12T23:31:48.516692Z",
     "start_time": "2020-03-12T23:31:48.497733Z"
    }
   },
   "outputs": [
    {
     "data": {
      "text/html": [
       "<div>\n",
       "<style scoped>\n",
       "    .dataframe tbody tr th:only-of-type {\n",
       "        vertical-align: middle;\n",
       "    }\n",
       "\n",
       "    .dataframe tbody tr th {\n",
       "        vertical-align: top;\n",
       "    }\n",
       "\n",
       "    .dataframe thead th {\n",
       "        text-align: right;\n",
       "    }\n",
       "</style>\n",
       "<table border=\"1\" class=\"dataframe\">\n",
       "  <thead>\n",
       "    <tr style=\"text-align: right;\">\n",
       "      <th></th>\n",
       "      <th>stars</th>\n",
       "      <th>text</th>\n",
       "    </tr>\n",
       "  </thead>\n",
       "  <tbody>\n",
       "    <tr>\n",
       "      <th>135859</th>\n",
       "      <td>2</td>\n",
       "      <td>love dumplings excited find dumpling restauran...</td>\n",
       "    </tr>\n",
       "    <tr>\n",
       "      <th>471019</th>\n",
       "      <td>5</td>\n",
       "      <td>love little gem hidden residential area friend...</td>\n",
       "    </tr>\n",
       "    <tr>\n",
       "      <th>226049</th>\n",
       "      <td>3</td>\n",
       "      <td>yummy place really good got basic brew kettle ...</td>\n",
       "    </tr>\n",
       "    <tr>\n",
       "      <th>329475</th>\n",
       "      <td>4</td>\n",
       "      <td>daughter law ate patio last night wanted try f...</td>\n",
       "    </tr>\n",
       "    <tr>\n",
       "      <th>371464</th>\n",
       "      <td>4</td>\n",
       "      <td>restaurant friendly customers went order takeo...</td>\n",
       "    </tr>\n",
       "    <tr>\n",
       "      <th>79098</th>\n",
       "      <td>1</td>\n",
       "      <td>sugarloaf puppy package help save money spent ...</td>\n",
       "    </tr>\n",
       "    <tr>\n",
       "      <th>342571</th>\n",
       "      <td>4</td>\n",
       "      <td>good food good price flavorful fresh ingredien...</td>\n",
       "    </tr>\n",
       "    <tr>\n",
       "      <th>374920</th>\n",
       "      <td>4</td>\n",
       "      <td>pho expert couple times life xinh xinh makes p...</td>\n",
       "    </tr>\n",
       "    <tr>\n",
       "      <th>289733</th>\n",
       "      <td>3</td>\n",
       "      <td>simply worth hype received online good food gi...</td>\n",
       "    </tr>\n",
       "    <tr>\n",
       "      <th>302655</th>\n",
       "      <td>4</td>\n",
       "      <td>authentic persian food white table cloth setti...</td>\n",
       "    </tr>\n",
       "  </tbody>\n",
       "</table>\n",
       "</div>"
      ],
      "text/plain": [
       "        stars                                               text\n",
       "135859      2  love dumplings excited find dumpling restauran...\n",
       "471019      5  love little gem hidden residential area friend...\n",
       "226049      3  yummy place really good got basic brew kettle ...\n",
       "329475      4  daughter law ate patio last night wanted try f...\n",
       "371464      4  restaurant friendly customers went order takeo...\n",
       "79098       1  sugarloaf puppy package help save money spent ...\n",
       "342571      4  good food good price flavorful fresh ingredien...\n",
       "374920      4  pho expert couple times life xinh xinh makes p...\n",
       "289733      3  simply worth hype received online good food gi...\n",
       "302655      4  authentic persian food white table cloth setti..."
      ]
     },
     "execution_count": 59,
     "metadata": {},
     "output_type": "execute_result"
    }
   ],
   "source": [
    "sample.sample(n=10)"
   ]
  },
  {
   "cell_type": "code",
   "execution_count": 60,
   "metadata": {
    "ExecuteTime": {
     "end_time": "2020-03-12T23:31:50.935718Z",
     "start_time": "2020-03-12T23:31:48.518106Z"
    }
   },
   "outputs": [
    {
     "name": "stdout",
     "output_type": "stream",
     "text": [
      "<class 'pandas.core.frame.DataFrame'>\n",
      "Int64Index: 485825 entries, 0 to 499999\n",
      "Data columns (total 2 columns):\n",
      " #   Column  Non-Null Count   Dtype \n",
      "---  ------  --------------   ----- \n",
      " 0   stars   485825 non-null  int64 \n",
      " 1   text    485825 non-null  object\n",
      "dtypes: int64(1), object(1)\n",
      "memory usage: 11.1+ MB\n"
     ]
    }
   ],
   "source": [
    "sample = sample[sample.text.str.split().str.len()>10]\n",
    "sample.info()"
   ]
  },
  {
   "cell_type": "markdown",
   "metadata": {},
   "source": [
    "### Create sentence stream"
   ]
  },
  {
   "cell_type": "code",
   "execution_count": 61,
   "metadata": {
    "ExecuteTime": {
     "end_time": "2020-03-12T23:31:55.950739Z",
     "start_time": "2020-03-12T23:31:50.936989Z"
    }
   },
   "outputs": [],
   "source": [
    "sentences = []\n",
    "for i, (_, text) in enumerate(sample.values):\n",
    "    sentences.append(TaggedDocument(words=text.split(), tags=[i]))"
   ]
  },
  {
   "cell_type": "markdown",
   "metadata": {},
   "source": [
    "### Formulate the model"
   ]
  },
  {
   "cell_type": "code",
   "execution_count": 63,
   "metadata": {
    "ExecuteTime": {
     "end_time": "2020-03-12T23:38:01.625087Z",
     "start_time": "2020-03-12T23:31:57.878476Z"
    }
   },
   "outputs": [],
   "source": [
    "model = Doc2Vec(documents=sentences,\n",
    "                dm=1,           # 1=distributed memory, 0=dist.BOW\n",
    "                epochs=5,\n",
    "                size=300,       # vector size\n",
    "                window=5,       # max. distance betw. target and context\n",
    "                min_count=50,   # ignore tokens w. lower frequency\n",
    "                negative=5,     # negative training samples\n",
    "                dm_concat=0,    # 1=concatenate vectors, 0=sum\n",
    "                dbow_words=0,   # 1=train word vectors as well\n",
    "                workers=8)"
   ]
  },
  {
   "cell_type": "code",
   "execution_count": 114,
   "metadata": {
    "ExecuteTime": {
     "end_time": "2020-03-13T01:29:55.341735Z",
     "start_time": "2020-03-13T01:29:55.322654Z"
    }
   },
   "outputs": [],
   "source": [
    "pd.DataFrame(model.most_similar('good'), columns=['token', 'similarity'])"
   ]
  },
  {
   "cell_type": "code",
   "execution_count": 65,
   "metadata": {
    "ExecuteTime": {
     "end_time": "2020-03-12T23:38:02.231060Z",
     "start_time": "2020-03-12T23:38:01.644943Z"
    }
   },
   "outputs": [],
   "source": [
    "model.save((yelp_path / 'sample.model').as_posix())"
   ]
  },
  {
   "cell_type": "markdown",
   "metadata": {},
   "source": [
    "### Continue training"
   ]
  },
  {
   "cell_type": "code",
   "execution_count": 28,
   "metadata": {
    "ExecuteTime": {
     "end_time": "2020-03-12T23:23:17.904716Z",
     "start_time": "2020-03-12T23:18:32.759090Z"
    }
   },
   "outputs": [],
   "source": [
    "model.train(sentences, total_examples=model.corpus_count, epochs=model.epochs)"
   ]
  },
  {
   "cell_type": "code",
   "execution_count": 115,
   "metadata": {
    "ExecuteTime": {
     "end_time": "2020-03-13T01:31:33.670240Z",
     "start_time": "2020-03-13T01:31:33.630430Z"
    }
   },
   "outputs": [
    {
     "data": {
      "text/html": [
       "<div>\n",
       "<style scoped>\n",
       "    .dataframe tbody tr th:only-of-type {\n",
       "        vertical-align: middle;\n",
       "    }\n",
       "\n",
       "    .dataframe tbody tr th {\n",
       "        vertical-align: top;\n",
       "    }\n",
       "\n",
       "    .dataframe thead th {\n",
       "        text-align: right;\n",
       "    }\n",
       "</style>\n",
       "<table border=\"1\" class=\"dataframe\">\n",
       "  <thead>\n",
       "    <tr style=\"text-align: right;\">\n",
       "      <th></th>\n",
       "      <th>token</th>\n",
       "      <th>similarity</th>\n",
       "    </tr>\n",
       "  </thead>\n",
       "  <tbody>\n",
       "    <tr>\n",
       "      <th>0</th>\n",
       "      <td>great</td>\n",
       "      <td>0.772776</td>\n",
       "    </tr>\n",
       "    <tr>\n",
       "      <th>1</th>\n",
       "      <td>decent</td>\n",
       "      <td>0.753359</td>\n",
       "    </tr>\n",
       "    <tr>\n",
       "      <th>2</th>\n",
       "      <td>amazing</td>\n",
       "      <td>0.633250</td>\n",
       "    </tr>\n",
       "    <tr>\n",
       "      <th>3</th>\n",
       "      <td>awesome</td>\n",
       "      <td>0.630964</td>\n",
       "    </tr>\n",
       "    <tr>\n",
       "      <th>4</th>\n",
       "      <td>bad</td>\n",
       "      <td>0.614564</td>\n",
       "    </tr>\n",
       "    <tr>\n",
       "      <th>5</th>\n",
       "      <td>alright</td>\n",
       "      <td>0.611679</td>\n",
       "    </tr>\n",
       "    <tr>\n",
       "      <th>6</th>\n",
       "      <td>tasty</td>\n",
       "      <td>0.605093</td>\n",
       "    </tr>\n",
       "    <tr>\n",
       "      <th>7</th>\n",
       "      <td>ok</td>\n",
       "      <td>0.597295</td>\n",
       "    </tr>\n",
       "    <tr>\n",
       "      <th>8</th>\n",
       "      <td>fantastic</td>\n",
       "      <td>0.592754</td>\n",
       "    </tr>\n",
       "    <tr>\n",
       "      <th>9</th>\n",
       "      <td>excellent</td>\n",
       "      <td>0.587356</td>\n",
       "    </tr>\n",
       "  </tbody>\n",
       "</table>\n",
       "</div>"
      ],
      "text/plain": [
       "       token  similarity\n",
       "0      great    0.772776\n",
       "1     decent    0.753359\n",
       "2    amazing    0.633250\n",
       "3    awesome    0.630964\n",
       "4        bad    0.614564\n",
       "5    alright    0.611679\n",
       "6      tasty    0.605093\n",
       "7         ok    0.597295\n",
       "8  fantastic    0.592754\n",
       "9  excellent    0.587356"
      ]
     },
     "execution_count": 115,
     "metadata": {},
     "output_type": "execute_result"
    }
   ],
   "source": [
    "most_similar = pd.DataFrame(model.most_similar('good'), columns=['token', 'similarity'])\n",
    "most_similar"
   ]
  },
  {
   "cell_type": "code",
   "execution_count": 120,
   "metadata": {
    "ExecuteTime": {
     "end_time": "2020-03-13T01:36:04.537013Z",
     "start_time": "2020-03-13T01:36:00.249174Z"
    }
   },
   "outputs": [
    {
     "data": {
      "image/png": "[encoded data removed]",
      "text/plain": [
       "<Figure size 864x288 with 2 Axes>"
      ]
     },
     "metadata": {},
     "output_type": "display_data"
    }
   ],
   "source": [
    "fig, axes =plt.subplots(ncols=2, figsize=(12, 4))\n",
    "sns.distplot(sample.text.str.split().str.len(), ax=axes[0])\n",
    "axes[0].set_title('# Tokens per Review')\n",
    "\n",
    "most_similar.set_index('token').similarity.sort_values().plot.barh(ax=axes[1], \n",
    "                                                                   title=\"Terms most similar to 'good'\",\n",
    "                                                                  xlim=(.5, .8))\n",
    "axes[1].set_xlabel('Similarity')\n",
    "axes[1].set_ylabel('Token')\n",
    "axes[0].set_xlabel('# Tokens')\n",
    "\n",
    "fig.tight_layout()"
   ]
  },
  {
   "cell_type": "markdown",
   "metadata": {},
   "source": [
    "## Persist Model"
   ]
  },
  {
   "cell_type": "code",
   "execution_count": 30,
   "metadata": {
    "ExecuteTime": {
     "end_time": "2020-03-12T23:23:19.793372Z",
     "start_time": "2020-03-12T23:23:17.922554Z"
    }
   },
   "outputs": [],
   "source": [
    "model = Doc2Vec.load((yelp_path / 'sample.model').as_posix())"
   ]
  },
  {
   "cell_type": "markdown",
   "metadata": {},
   "source": [
    "## Evaluate"
   ]
  },
  {
   "cell_type": "code",
   "execution_count": 66,
   "metadata": {
    "ExecuteTime": {
     "end_time": "2020-03-12T23:38:02.234523Z",
     "start_time": "2020-03-12T23:38:02.232044Z"
    }
   },
   "outputs": [],
   "source": [
    "y = sample.stars.sub(1)"
   ]
  },
  {
   "cell_type": "code",
   "execution_count": 67,
   "metadata": {
    "ExecuteTime": {
     "end_time": "2020-03-12T23:38:03.175717Z",
     "start_time": "2020-03-12T23:38:02.235517Z"
    }
   },
   "outputs": [],
   "source": [
    "X = np.zeros(shape=(len(y), size))\n",
    "for i in range(len(sample)):\n",
    "    X[i] = model.docvecs[i]"
   ]
  },
  {
   "cell_type": "code",
   "execution_count": 68,
   "metadata": {
    "ExecuteTime": {
     "end_time": "2020-03-12T23:38:03.179521Z",
     "start_time": "2020-03-12T23:38:03.176763Z"
    }
   },
   "outputs": [
    {
     "data": {
      "text/plain": [
       "(485825, 300)"
      ]
     },
     "execution_count": 68,
     "metadata": {},
     "output_type": "execute_result"
    }
   ],
   "source": [
    "X.shape"
   ]
  },
  {
   "cell_type": "markdown",
   "metadata": {},
   "source": [
    "### Train-Test Split"
   ]
  },
  {
   "cell_type": "code",
   "execution_count": 69,
   "metadata": {
    "ExecuteTime": {
     "end_time": "2020-03-12T23:38:03.537791Z",
     "start_time": "2020-03-12T23:38:03.180412Z"
    }
   },
   "outputs": [],
   "source": [
    "X_train, X_test, y_train, y_test = train_test_split(X, y, \n",
    "                                                    test_size=0.2, \n",
    "                                                    random_state=42, \n",
    "                                                    stratify=y)"
   ]
  },
  {
   "cell_type": "code",
   "execution_count": 70,
   "metadata": {
    "ExecuteTime": {
     "end_time": "2020-03-12T23:38:03.546493Z",
     "start_time": "2020-03-12T23:38:03.539246Z"
    }
   },
   "outputs": [
    {
     "name": "stdout",
     "output_type": "stream",
     "text": [
      "Baseline Score: 20.15%\n"
     ]
    }
   ],
   "source": [
    "mode = pd.Series(y_train).mode().iloc[0]\n",
    "baseline = accuracy_score(y_true=y_test, y_pred=np.full_like(y_test, fill_value=mode))\n",
    "print(f'Baseline Score: {baseline:.2%}')"
   ]
  },
  {
   "cell_type": "code",
   "execution_count": 71,
   "metadata": {
    "ExecuteTime": {
     "end_time": "2020-03-12T23:38:03.591202Z",
     "start_time": "2020-03-12T23:38:03.547646Z"
    }
   },
   "outputs": [],
   "source": [
    "class_weights = class_weight.compute_class_weight('balanced',\n",
    "                                                 np.unique(y_train),\n",
    "                                                 y_train)"
   ]
  },
  {
   "cell_type": "code",
   "execution_count": 72,
   "metadata": {
    "ExecuteTime": {
     "end_time": "2020-03-12T23:38:03.594645Z",
     "start_time": "2020-03-12T23:38:03.592108Z"
    }
   },
   "outputs": [
    {
     "data": {
      "text/plain": [
       "array([0.99398992, 0.99272049, 0.99616819, 1.0023598 , 1.01509611])"
      ]
     },
     "execution_count": 72,
     "metadata": {},
     "output_type": "execute_result"
    }
   ],
   "source": [
    "class_weights"
   ]
  },
  {
   "cell_type": "markdown",
   "metadata": {},
   "source": [
    "## LightGBM"
   ]
  },
  {
   "cell_type": "code",
   "execution_count": 73,
   "metadata": {
    "ExecuteTime": {
     "end_time": "2020-03-12T23:38:03.602207Z",
     "start_time": "2020-03-12T23:38:03.595612Z"
    }
   },
   "outputs": [],
   "source": [
    "train_data = lgb.Dataset(data=X_train, label=y_train)\n",
    "test_data = train_data.create_valid(X_test, label=y_test)"
   ]
  },
  {
   "cell_type": "code",
   "execution_count": 74,
   "metadata": {
    "ExecuteTime": {
     "end_time": "2020-03-12T23:38:03.618329Z",
     "start_time": "2020-03-12T23:38:03.603209Z"
    }
   },
   "outputs": [],
   "source": [
    "params = {'objective': 'multiclass',\n",
    "          'num_classes': 5}"
   ]
  },
  {
   "cell_type": "code",
   "execution_count": 77,
   "metadata": {
    "ExecuteTime": {
     "end_time": "2020-03-13T00:34:24.532856Z",
     "start_time": "2020-03-12T23:42:31.373788Z"
    },
    "scrolled": false
   },
   "outputs": [
    {
     "name": "stdout",
     "output_type": "stream",
     "text": [
      "Training until validation scores don't improve for 25 rounds\n",
      "[50]\ttraining's multi_logloss: 1.40611\tvalid_1's multi_logloss: 1.42397\n",
      "[100]\ttraining's multi_logloss: 1.32593\tvalid_1's multi_logloss: 1.35905\n",
      "[150]\ttraining's multi_logloss: 1.26924\tvalid_1's multi_logloss: 1.31605\n",
      "[200]\ttraining's multi_logloss: 1.2232\tvalid_1's multi_logloss: 1.2831\n",
      "[250]\ttraining's multi_logloss: 1.1843\tvalid_1's multi_logloss: 1.25657\n",
      "[300]\ttraining's multi_logloss: 1.15074\tvalid_1's multi_logloss: 1.2351\n",
      "[350]\ttraining's multi_logloss: 1.12169\tvalid_1's multi_logloss: 1.21752\n",
      "[400]\ttraining's multi_logloss: 1.09649\tvalid_1's multi_logloss: 1.20386\n",
      "[450]\ttraining's multi_logloss: 1.07407\tvalid_1's multi_logloss: 1.19265\n",
      "[500]\ttraining's multi_logloss: 1.05405\tvalid_1's multi_logloss: 1.18348\n",
      "[550]\ttraining's multi_logloss: 1.03549\tvalid_1's multi_logloss: 1.17561\n",
      "[600]\ttraining's multi_logloss: 1.01826\tvalid_1's multi_logloss: 1.1687\n",
      "[650]\ttraining's multi_logloss: 1.00103\tvalid_1's multi_logloss: 1.16163\n",
      "[700]\ttraining's multi_logloss: 0.985021\tvalid_1's multi_logloss: 1.15509\n",
      "[750]\ttraining's multi_logloss: 0.968804\tvalid_1's multi_logloss: 1.14841\n",
      "[800]\ttraining's multi_logloss: 0.954177\tvalid_1's multi_logloss: 1.14319\n",
      "[850]\ttraining's multi_logloss: 0.940127\tvalid_1's multi_logloss: 1.13816\n",
      "[900]\ttraining's multi_logloss: 0.926336\tvalid_1's multi_logloss: 1.13337\n",
      "[950]\ttraining's multi_logloss: 0.913147\tvalid_1's multi_logloss: 1.12899\n",
      "[1000]\ttraining's multi_logloss: 0.900124\tvalid_1's multi_logloss: 1.12433\n",
      "[1050]\ttraining's multi_logloss: 0.887476\tvalid_1's multi_logloss: 1.12008\n",
      "[1100]\ttraining's multi_logloss: 0.875155\tvalid_1's multi_logloss: 1.1161\n",
      "[1150]\ttraining's multi_logloss: 0.863265\tvalid_1's multi_logloss: 1.1123\n",
      "[1200]\ttraining's multi_logloss: 0.852014\tvalid_1's multi_logloss: 1.10881\n",
      "[1250]\ttraining's multi_logloss: 0.840524\tvalid_1's multi_logloss: 1.10513\n",
      "[1300]\ttraining's multi_logloss: 0.829097\tvalid_1's multi_logloss: 1.10127\n",
      "[1350]\ttraining's multi_logloss: 0.818303\tvalid_1's multi_logloss: 1.09781\n",
      "[1400]\ttraining's multi_logloss: 0.807611\tvalid_1's multi_logloss: 1.09446\n",
      "[1450]\ttraining's multi_logloss: 0.796942\tvalid_1's multi_logloss: 1.09098\n",
      "[1500]\ttraining's multi_logloss: 0.787047\tvalid_1's multi_logloss: 1.08806\n",
      "[1550]\ttraining's multi_logloss: 0.776855\tvalid_1's multi_logloss: 1.08474\n",
      "[1600]\ttraining's multi_logloss: 0.767072\tvalid_1's multi_logloss: 1.0818\n",
      "[1650]\ttraining's multi_logloss: 0.756484\tvalid_1's multi_logloss: 1.07808\n",
      "[1700]\ttraining's multi_logloss: 0.746484\tvalid_1's multi_logloss: 1.07491\n",
      "[1750]\ttraining's multi_logloss: 0.737018\tvalid_1's multi_logloss: 1.072\n",
      "[1800]\ttraining's multi_logloss: 0.727902\tvalid_1's multi_logloss: 1.06913\n",
      "[1850]\ttraining's multi_logloss: 0.718544\tvalid_1's multi_logloss: 1.06622\n",
      "[1900]\ttraining's multi_logloss: 0.709488\tvalid_1's multi_logloss: 1.0634\n",
      "[1950]\ttraining's multi_logloss: 0.700296\tvalid_1's multi_logloss: 1.06034\n",
      "[2000]\ttraining's multi_logloss: 0.691534\tvalid_1's multi_logloss: 1.0576\n",
      "[2050]\ttraining's multi_logloss: 0.68301\tvalid_1's multi_logloss: 1.05499\n",
      "[2100]\ttraining's multi_logloss: 0.674109\tvalid_1's multi_logloss: 1.05191\n",
      "[2150]\ttraining's multi_logloss: 0.665817\tvalid_1's multi_logloss: 1.04932\n",
      "[2200]\ttraining's multi_logloss: 0.657604\tvalid_1's multi_logloss: 1.0467\n",
      "[2250]\ttraining's multi_logloss: 0.649261\tvalid_1's multi_logloss: 1.04411\n",
      "[2300]\ttraining's multi_logloss: 0.641099\tvalid_1's multi_logloss: 1.04173\n",
      "[2350]\ttraining's multi_logloss: 0.633112\tvalid_1's multi_logloss: 1.03926\n",
      "[2400]\ttraining's multi_logloss: 0.625144\tvalid_1's multi_logloss: 1.03678\n",
      "[2450]\ttraining's multi_logloss: 0.617408\tvalid_1's multi_logloss: 1.03439\n",
      "[2500]\ttraining's multi_logloss: 0.609862\tvalid_1's multi_logloss: 1.03212\n",
      "[2550]\ttraining's multi_logloss: 0.601991\tvalid_1's multi_logloss: 1.02961\n",
      "[2600]\ttraining's multi_logloss: 0.594464\tvalid_1's multi_logloss: 1.0273\n",
      "[2650]\ttraining's multi_logloss: 0.587282\tvalid_1's multi_logloss: 1.02509\n",
      "[2700]\ttraining's multi_logloss: 0.579879\tvalid_1's multi_logloss: 1.0227\n",
      "[2750]\ttraining's multi_logloss: 0.572693\tvalid_1's multi_logloss: 1.0207\n",
      "[2800]\ttraining's multi_logloss: 0.565817\tvalid_1's multi_logloss: 1.01874\n",
      "[2850]\ttraining's multi_logloss: 0.558831\tvalid_1's multi_logloss: 1.01654\n",
      "[2900]\ttraining's multi_logloss: 0.552212\tvalid_1's multi_logloss: 1.01457\n",
      "[2950]\ttraining's multi_logloss: 0.545114\tvalid_1's multi_logloss: 1.0123\n",
      "[3000]\ttraining's multi_logloss: 0.538195\tvalid_1's multi_logloss: 1.01009\n",
      "[3050]\ttraining's multi_logloss: 0.531556\tvalid_1's multi_logloss: 1.00808\n",
      "[3100]\ttraining's multi_logloss: 0.524793\tvalid_1's multi_logloss: 1.00606\n",
      "[3150]\ttraining's multi_logloss: 0.518217\tvalid_1's multi_logloss: 1.00407\n",
      "[3200]\ttraining's multi_logloss: 0.51178\tvalid_1's multi_logloss: 1.00194\n",
      "[3250]\ttraining's multi_logloss: 0.505535\tvalid_1's multi_logloss: 0.999981\n",
      "[3300]\ttraining's multi_logloss: 0.499271\tvalid_1's multi_logloss: 0.99817\n",
      "[3350]\ttraining's multi_logloss: 0.493217\tvalid_1's multi_logloss: 0.99641\n",
      "[3400]\ttraining's multi_logloss: 0.487232\tvalid_1's multi_logloss: 0.994704\n",
      "[3450]\ttraining's multi_logloss: 0.48128\tvalid_1's multi_logloss: 0.992858\n",
      "[3500]\ttraining's multi_logloss: 0.475371\tvalid_1's multi_logloss: 0.991158\n",
      "[3550]\ttraining's multi_logloss: 0.469681\tvalid_1's multi_logloss: 0.989385\n",
      "[3600]\ttraining's multi_logloss: 0.463819\tvalid_1's multi_logloss: 0.987573\n",
      "[3650]\ttraining's multi_logloss: 0.458003\tvalid_1's multi_logloss: 0.985775\n",
      "[3700]\ttraining's multi_logloss: 0.452179\tvalid_1's multi_logloss: 0.983719\n",
      "[3750]\ttraining's multi_logloss: 0.446473\tvalid_1's multi_logloss: 0.981841\n",
      "[3800]\ttraining's multi_logloss: 0.441092\tvalid_1's multi_logloss: 0.980213\n",
      "[3850]\ttraining's multi_logloss: 0.435563\tvalid_1's multi_logloss: 0.978424\n",
      "[3900]\ttraining's multi_logloss: 0.429981\tvalid_1's multi_logloss: 0.976566\n",
      "[3950]\ttraining's multi_logloss: 0.424897\tvalid_1's multi_logloss: 0.975065\n",
      "[4000]\ttraining's multi_logloss: 0.419717\tvalid_1's multi_logloss: 0.97358\n",
      "[4050]\ttraining's multi_logloss: 0.414338\tvalid_1's multi_logloss: 0.971802\n",
      "[4100]\ttraining's multi_logloss: 0.409233\tvalid_1's multi_logloss: 0.970263\n",
      "[4150]\ttraining's multi_logloss: 0.404146\tvalid_1's multi_logloss: 0.968674\n",
      "[4200]\ttraining's multi_logloss: 0.399093\tvalid_1's multi_logloss: 0.967055\n",
      "[4250]\ttraining's multi_logloss: 0.394387\tvalid_1's multi_logloss: 0.965593\n",
      "[4300]\ttraining's multi_logloss: 0.389508\tvalid_1's multi_logloss: 0.963971\n",
      "[4350]\ttraining's multi_logloss: 0.384646\tvalid_1's multi_logloss: 0.962389\n",
      "[4400]\ttraining's multi_logloss: 0.379857\tvalid_1's multi_logloss: 0.960909\n",
      "[4450]\ttraining's multi_logloss: 0.375244\tvalid_1's multi_logloss: 0.959347\n",
      "[4500]\ttraining's multi_logloss: 0.370625\tvalid_1's multi_logloss: 0.957865\n",
      "[4550]\ttraining's multi_logloss: 0.366071\tvalid_1's multi_logloss: 0.956431\n",
      "[4600]\ttraining's multi_logloss: 0.361229\tvalid_1's multi_logloss: 0.954688\n",
      "[4650]\ttraining's multi_logloss: 0.356779\tvalid_1's multi_logloss: 0.953254\n",
      "[4700]\ttraining's multi_logloss: 0.352503\tvalid_1's multi_logloss: 0.951918\n",
      "[4750]\ttraining's multi_logloss: 0.347652\tvalid_1's multi_logloss: 0.95029\n",
      "[4800]\ttraining's multi_logloss: 0.343278\tvalid_1's multi_logloss: 0.948932\n",
      "[4850]\ttraining's multi_logloss: 0.338834\tvalid_1's multi_logloss: 0.947486\n",
      "[4900]\ttraining's multi_logloss: 0.334472\tvalid_1's multi_logloss: 0.946167\n",
      "[4950]\ttraining's multi_logloss: 0.330189\tvalid_1's multi_logloss: 0.94478\n",
      "[5000]\ttraining's multi_logloss: 0.326118\tvalid_1's multi_logloss: 0.943494\n",
      "Did not meet early stopping. Best iteration is:\n",
      "[5000]\ttraining's multi_logloss: 0.326118\tvalid_1's multi_logloss: 0.943494\n"
     ]
    }
   ],
   "source": [
    "lgb_model = lgb.train(params=params,\n",
    "                      train_set=train_data,\n",
    "                      num_boost_round=5000,\n",
    "                      valid_sets=[train_data, test_data],\n",
    "                      early_stopping_rounds=25,\n",
    "                      verbose_eval=50)"
   ]
  },
  {
   "cell_type": "code",
   "execution_count": 99,
   "metadata": {
    "ExecuteTime": {
     "end_time": "2020-03-13T01:03:52.433582Z",
     "start_time": "2020-03-13T01:03:15.426599Z"
    }
   },
   "outputs": [],
   "source": [
    "lgb_pred = np.argmax(lgb_model.predict(X_test), axis=1)"
   ]
  },
  {
   "cell_type": "code",
   "execution_count": 100,
   "metadata": {
    "ExecuteTime": {
     "end_time": "2020-03-13T01:03:52.443269Z",
     "start_time": "2020-03-13T01:03:52.434729Z"
    }
   },
   "outputs": [
    {
     "name": "stdout",
     "output_type": "stream",
     "text": [
      "Accuracy: 62.24%\n"
     ]
    }
   ],
   "source": [
    "lgb_acc = accuracy_score(y_true=y_test, y_pred=lgb_pred)\n",
    "print(f'Accuracy: {lgb_acc:.2%}')"
   ]
  },
  {
   "cell_type": "markdown",
   "metadata": {},
   "source": [
    "## Random Forest"
   ]
  },
  {
   "cell_type": "code",
   "execution_count": 93,
   "metadata": {
    "ExecuteTime": {
     "end_time": "2020-03-13T01:01:19.354433Z",
     "start_time": "2020-03-13T00:47:53.025563Z"
    }
   },
   "outputs": [
    {
     "name": "stdout",
     "output_type": "stream",
     "text": [
      "Accuracy: 41.50%\n"
     ]
    }
   ],
   "source": [
    "rf = RandomForestClassifier(n_jobs=-1,  \n",
    "                            n_estimators=500,\n",
    "                            class_weight='balanced_subsample')\n",
    "rf.fit(X_train, y_train)"
   ]
  },
  {
   "cell_type": "code",
   "execution_count": 95,
   "metadata": {
    "ExecuteTime": {
     "end_time": "2020-03-13T01:02:19.581260Z",
     "start_time": "2020-03-13T01:02:11.816817Z"
    }
   },
   "outputs": [
    {
     "name": "stdout",
     "output_type": "stream",
     "text": [
      "Accuracy: 41.50%\n"
     ]
    }
   ],
   "source": [
    "rf_pred = rf.predict(X_test)\n",
    "rf_acc = accuracy_score(y_true=y_test, y_pred=y_pred)\n",
    "print(f'Accuracy: {rf_acc:.2%}')"
   ]
  },
  {
   "cell_type": "code",
   "execution_count": 96,
   "metadata": {
    "ExecuteTime": {
     "end_time": "2020-03-13T01:02:21.015594Z",
     "start_time": "2020-03-13T01:02:20.772604Z"
    }
   },
   "outputs": [
    {
     "data": {
      "image/png": "[encoded data removed]",
      "text/plain": [
       "<Figure size 432x288 with 2 Axes>"
      ]
     },
     "metadata": {},
     "output_type": "display_data"
    }
   ],
   "source": [
    "cm = confusion_matrix(y_true=y_test, y_pred=rf_pred)\n",
    "sns.heatmap(pd.DataFrame(cm/np.sum(cm), \n",
    "                         index=stars, \n",
    "                         columns=stars), \n",
    "            annot=True, \n",
    "            cmap='Blues', \n",
    "            fmt='.1%');"
   ]
  },
  {
   "cell_type": "markdown",
   "metadata": {},
   "source": [
    "## Multinomial Logistic Regression"
   ]
  },
  {
   "cell_type": "code",
   "execution_count": 85,
   "metadata": {
    "ExecuteTime": {
     "end_time": "2020-03-13T00:38:59.610637Z",
     "start_time": "2020-03-13T00:38:19.490764Z"
    }
   },
   "outputs": [
    {
     "name": "stdout",
     "output_type": "stream",
     "text": [
      "Accuracy: 39.81%\n"
     ]
    }
   ],
   "source": [
    "lr = LogisticRegression(multi_class='multinomial', solver='lbfgs', class_weight='balanced')\n",
    "lr.fit(X_train, y_train)"
   ]
  },
  {
   "cell_type": "code",
   "execution_count": 97,
   "metadata": {
    "ExecuteTime": {
     "end_time": "2020-03-13T01:02:52.294906Z",
     "start_time": "2020-03-13T01:02:52.204238Z"
    }
   },
   "outputs": [
    {
     "name": "stdout",
     "output_type": "stream",
     "text": [
      "Accuracy: 39.81%\n"
     ]
    }
   ],
   "source": [
    "lr_pred = lr.predict(X_test)\n",
    "lr_acc = accuracy_score(y_true=y_test, y_pred=lr_pred)\n",
    "print(f'Accuracy: {lr_acc:.2%}')"
   ]
  },
  {
   "cell_type": "code",
   "execution_count": 98,
   "metadata": {
    "ExecuteTime": {
     "end_time": "2020-03-13T01:02:55.998830Z",
     "start_time": "2020-03-13T01:02:55.738868Z"
    }
   },
   "outputs": [
    {
     "data": {
      "image/png": "[encoded data removed]",
      "text/plain": [
       "<Figure size 432x288 with 2 Axes>"
      ]
     },
     "metadata": {},
     "output_type": "display_data"
    }
   ],
   "source": [
    "cm = confusion_matrix(y_true=y_test, y_pred=lr_pred)\n",
    "sns.heatmap(pd.DataFrame(cm/np.sum(cm), \n",
    "                         index=stars, \n",
    "                         columns=stars), \n",
    "            annot=True, \n",
    "            cmap='Blues', \n",
    "            fmt='.1%');"
   ]
  },
  {
   "cell_type": "markdown",
   "metadata": {},
   "source": [
    "## Comparison"
   ]
  },
  {
   "cell_type": "code",
   "execution_count": 110,
   "metadata": {
    "ExecuteTime": {
     "end_time": "2020-03-13T01:11:59.886006Z",
     "start_time": "2020-03-13T01:11:58.871548Z"
    }
   },
   "outputs": [
    {
     "data": {
      "image/png": "[encoded data removed]",
      "text/plain": [
       "<Figure size 1080x360 with 3 Axes>"
      ]
     },
     "metadata": {},
     "output_type": "display_data"
    }
   ],
   "source": [
    "fig, axes = plt.subplots(ncols=3, figsize=(15, 5), sharex=True, sharey=True)\n",
    "\n",
    "lgb_cm = confusion_matrix(y_true=y_test, y_pred=lgb_pred)\n",
    "sns.heatmap(pd.DataFrame(lgb_cm/np.sum(lgb_cm), index=stars, columns=stars), \n",
    "            annot=True, cmap='Blues', fmt='.1%', ax=axes[0], cbar=False)\n",
    "axes[0].set_title(f'Gradient Boosting: Accuracy {lgb_acc:.2%}')\n",
    "\n",
    "rf_cm = confusion_matrix(y_true=y_test, y_pred=rf_pred)\n",
    "sns.heatmap(pd.DataFrame(rf_cm/np.sum(rf_cm), index=stars, columns=stars), \n",
    "            annot=True, cmap='Blues', fmt='.1%', ax=axes[1], cbar=False)\n",
    "axes[1].set_title(f'Random Forest: Accuracy {rf_acc:.2%}')\n",
    "\n",
    "lr_cm = confusion_matrix(y_true=y_test, y_pred=lr_pred)\n",
    "sns.heatmap(pd.DataFrame(lr_cm/np.sum(lr_cm), index=stars, columns=stars), \n",
    "            annot=True, cmap='Blues', fmt='.1%', ax=axes[2], cbar=False)\n",
    "axes[2].set_title(f'Logistic Regression: Accuracy {lr_acc:.2%}')\n",
    "axes[0].set_ylabel('Actuals')\n",
    "for i in range(3):\n",
    "    axes[i].set_xlabel('Predicted')\n",
    "\n",
    "fig.tight_layout()\n",
    "fig.savefig('../figures/confusion_matrix', dpi=300);"
   ]
  }
 ],
 "metadata": {
  "kernelspec": {
   "display_name": "Python 3",
   "language": "python",
   "name": "python3"
  },
  "language_info": {
   "codemirror_mode": {
    "name": "ipython",
    "version": 3
   },
   "file_extension": ".py",
   "mimetype": "text/x-python",
   "name": "python",
   "nbconvert_exporter": "python",
   "pygments_lexer": "ipython3",
   "version": "3.7.6"
  },
  "toc": {
   "base_numbering": 1,
   "nav_menu": {},
   "number_sections": true,
   "sideBar": true,
   "skip_h1_title": true,
   "title_cell": "Table of Contents",
   "title_sidebar": "Contents",
   "toc_cell": false,
   "toc_position": {},
   "toc_section_display": true,
   "toc_window_display": true
  }
 },
 "nbformat": 4,
 "nbformat_minor": 2
}
