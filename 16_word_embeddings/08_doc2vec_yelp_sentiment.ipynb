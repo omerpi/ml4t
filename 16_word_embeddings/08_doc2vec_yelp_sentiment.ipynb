{
 "cells": [
  {
   "cell_type": "markdown",
   "metadata": {},
   "source": [
    "# Yelp Sentiment Analysis with doc2vec Document Vectors"
   ]
  },
  {
   "cell_type": "markdown",
   "metadata": {},
   "source": [
    "## Imports & Settings"
   ]
  },
  {
   "cell_type": "code",
   "execution_count": 1,
   "metadata": {
    "ExecuteTime": {
     "end_time": "2020-03-12T23:10:32.276737Z",
     "start_time": "2020-03-12T23:10:31.864004Z"
    }
   },
   "outputs": [
    {
     "name": "stderr",
     "output_type": "stream",
     "text": [
      "[nltk_data] Downloading package stopwords to /home/stefan/nltk_data...\n",
      "[nltk_data]   Package stopwords is already up-to-date!\n"
     ]
    },
    {
     "data": {
      "text/plain": [
       "True"
      ]
     },
     "execution_count": 1,
     "metadata": {},
     "output_type": "execute_result"
    }
   ],
   "source": [
    "import nltk\n",
    "nltk.download('stopwords')"
   ]
  },
  {
   "cell_type": "code",
   "execution_count": 2,
   "metadata": {
    "ExecuteTime": {
     "end_time": "2020-03-13T02:04:45.477534Z",
     "start_time": "2020-03-13T02:04:43.716234Z"
    }
   },
   "outputs": [],
   "source": [
    "from pathlib import Path\n",
    "import numpy as np\n",
    "import pandas as pd\n",
    "from gensim.models import Doc2Vec\n",
    "from gensim.models.doc2vec import TaggedDocument\n",
    "import logging\n",
    "import warnings\n",
    "from random import shuffle\n",
    "import matplotlib.pyplot as plt\n",
    "import lightgbm as lgb\n",
    "from sklearn.model_selection import train_test_split\n",
    "from nltk import RegexpTokenizer\n",
    "from nltk.corpus import stopwords\n",
    "from sklearn.linear_model import LogisticRegression\n",
    "from sklearn.ensemble import RandomForestClassifier\n",
    "from sklearn.metrics import confusion_matrix, accuracy_score, roc_auc_score\n",
    "from sklearn.utils import class_weight\n",
    "import seaborn as sns"
   ]
  },
  {
   "cell_type": "markdown",
   "metadata": {},
   "source": [
    "### Settings"
   ]
  },
  {
   "cell_type": "code",
   "execution_count": 3,
   "metadata": {
    "ExecuteTime": {
     "end_time": "2020-03-13T02:04:45.483093Z",
     "start_time": "2020-03-13T02:04:45.478572Z"
    }
   },
   "outputs": [],
   "source": [
    "warnings.filterwarnings('ignore')\n",
    "sns.set_style('whitegrid')\n",
    "pd.set_option('display.expand_frame_repr', False)\n",
    "np.random.seed(42)"
   ]
  },
  {
   "cell_type": "markdown",
   "metadata": {},
   "source": [
    "### Paths"
   ]
  },
  {
   "cell_type": "code",
   "execution_count": 4,
   "metadata": {
    "ExecuteTime": {
     "end_time": "2020-03-13T02:17:32.694170Z",
     "start_time": "2020-03-13T02:17:32.690953Z"
    }
   },
   "outputs": [],
   "source": [
    "yelp_path = Path('data', 'doc2vec')"
   ]
  },
  {
   "cell_type": "markdown",
   "metadata": {},
   "source": [
    "### Logging Config"
   ]
  },
  {
   "cell_type": "code",
   "execution_count": 5,
   "metadata": {
    "ExecuteTime": {
     "end_time": "2020-03-13T02:05:04.611777Z",
     "start_time": "2020-03-13T02:05:04.609812Z"
    }
   },
   "outputs": [],
   "source": [
    "logging.basicConfig(\n",
    "        filename=yelp_path / 'doc2vec.log',\n",
    "        level=logging.DEBUG,\n",
    "        format='%(asctime)s - %(name)s - %(levelname)s - %(message)s',\n",
    "        datefmt='%H:%M:%S')"
   ]
  },
  {
   "cell_type": "markdown",
   "metadata": {},
   "source": [
    "## Load Data"
   ]
  },
  {
   "cell_type": "markdown",
   "metadata": {},
   "source": [
    "Refer to download information in [yelp_sentiment](../14_working_with_text_data/06_sentiment_analysis_yelp.ipynb)"
   ]
  },
  {
   "cell_type": "code",
   "execution_count": 6,
   "metadata": {
    "ExecuteTime": {
     "end_time": "2020-03-12T23:29:48.170583Z",
     "start_time": "2020-03-12T23:29:27.546553Z"
    }
   },
   "outputs": [],
   "source": [
    "df = pd.read_parquet(yelp_path / 'combined.parquet').loc[:, ['stars', 'text']]"
   ]
  },
  {
   "cell_type": "code",
   "execution_count": 7,
   "metadata": {
    "ExecuteTime": {
     "end_time": "2020-03-12T23:29:48.245122Z",
     "start_time": "2020-03-12T23:29:48.238537Z"
    }
   },
   "outputs": [
    {
     "name": "stdout",
     "output_type": "stream",
     "text": [
      "<class 'pandas.core.frame.DataFrame'>\n",
      "Int64Index: 5996995 entries, 0 to 5996995\n",
      "Data columns (total 2 columns):\n",
      " #   Column  Dtype \n",
      "---  ------  ----- \n",
      " 0   stars   int64 \n",
      " 1   text    object\n",
      "dtypes: int64(1), object(1)\n",
      "memory usage: 137.3+ MB\n"
     ]
    }
   ],
   "source": [
    "df.info()"
   ]
  },
  {
   "cell_type": "code",
   "execution_count": 8,
   "metadata": {
    "ExecuteTime": {
     "end_time": "2020-03-12T23:29:48.237207Z",
     "start_time": "2020-03-12T23:29:48.171662Z"
    }
   },
   "outputs": [
    {
     "data": {
      "text/plain": [
       "5    2641880\n",
       "4    1335957\n",
       "1     858139\n",
       "3     673206\n",
       "2     487813\n",
       "Name: stars, dtype: int64"
      ]
     },
     "execution_count": 8,
     "metadata": {},
     "output_type": "execute_result"
    }
   ],
   "source": [
    "df.stars.value_counts()"
   ]
  },
  {
   "cell_type": "code",
   "execution_count": 9,
   "metadata": {
    "ExecuteTime": {
     "end_time": "2020-03-12T23:30:30.629297Z",
     "start_time": "2020-03-12T23:30:30.623115Z"
    }
   },
   "outputs": [],
   "source": [
    "stars = range(1, 6)"
   ]
  },
  {
   "cell_type": "code",
   "execution_count": 10,
   "metadata": {
    "ExecuteTime": {
     "end_time": "2020-03-12T23:30:31.483898Z",
     "start_time": "2020-03-12T23:30:30.876427Z"
    }
   },
   "outputs": [],
   "source": [
    "sample = pd.concat([df[df.stars==s].sample(n=100000) for s in stars])"
   ]
  },
  {
   "cell_type": "code",
   "execution_count": 11,
   "metadata": {
    "ExecuteTime": {
     "end_time": "2020-03-12T23:30:31.982346Z",
     "start_time": "2020-03-12T23:30:31.896538Z"
    }
   },
   "outputs": [
    {
     "name": "stdout",
     "output_type": "stream",
     "text": [
      "<class 'pandas.core.frame.DataFrame'>\n",
      "Int64Index: 500000 entries, 1701708 to 5940716\n",
      "Data columns (total 2 columns):\n",
      " #   Column  Non-Null Count   Dtype \n",
      "---  ------  --------------   ----- \n",
      " 0   stars   500000 non-null  int64 \n",
      " 1   text    500000 non-null  object\n",
      "dtypes: int64(1), object(1)\n",
      "memory usage: 11.4+ MB\n"
     ]
    }
   ],
   "source": [
    "sample.info()"
   ]
  },
  {
   "cell_type": "code",
   "execution_count": 12,
   "metadata": {
    "ExecuteTime": {
     "end_time": "2020-03-12T23:30:38.284678Z",
     "start_time": "2020-03-12T23:30:38.276007Z"
    }
   },
   "outputs": [
    {
     "data": {
      "text/plain": [
       "5    100000\n",
       "4    100000\n",
       "3    100000\n",
       "2    100000\n",
       "1    100000\n",
       "Name: stars, dtype: int64"
      ]
     },
     "execution_count": 12,
     "metadata": {},
     "output_type": "execute_result"
    }
   ],
   "source": [
    "sample.stars.value_counts()"
   ]
  },
  {
   "cell_type": "code",
   "execution_count": 13,
   "metadata": {
    "ExecuteTime": {
     "end_time": "2020-03-12T23:30:50.643339Z",
     "start_time": "2020-03-12T23:30:48.602243Z"
    }
   },
   "outputs": [],
   "source": [
    "sample.to_parquet('yelp_sample.parquet')"
   ]
  },
  {
   "cell_type": "code",
   "execution_count": 14,
   "metadata": {
    "ExecuteTime": {
     "end_time": "2020-03-12T23:31:00.155598Z",
     "start_time": "2020-03-12T23:30:59.395076Z"
    }
   },
   "outputs": [],
   "source": [
    "sample = pd.read_parquet('yelp_sample.parquet').reset_index(drop=True)"
   ]
  },
  {
   "cell_type": "code",
   "execution_count": 15,
   "metadata": {
    "ExecuteTime": {
     "end_time": "2020-03-12T23:31:00.162891Z",
     "start_time": "2020-03-12T23:31:00.156650Z"
    }
   },
   "outputs": [
    {
     "data": {
      "text/html": [
       "<div>\n",
       "<style scoped>\n",
       "    .dataframe tbody tr th:only-of-type {\n",
       "        vertical-align: middle;\n",
       "    }\n",
       "\n",
       "    .dataframe tbody tr th {\n",
       "        vertical-align: top;\n",
       "    }\n",
       "\n",
       "    .dataframe thead th {\n",
       "        text-align: right;\n",
       "    }\n",
       "</style>\n",
       "<table border=\"1\" class=\"dataframe\">\n",
       "  <thead>\n",
       "    <tr style=\"text-align: right;\">\n",
       "      <th></th>\n",
       "      <th>stars</th>\n",
       "      <th>text</th>\n",
       "    </tr>\n",
       "  </thead>\n",
       "  <tbody>\n",
       "    <tr>\n",
       "      <th>0</th>\n",
       "      <td>1</td>\n",
       "      <td>Horrible service, would walk away every time I...</td>\n",
       "    </tr>\n",
       "    <tr>\n",
       "      <th>1</th>\n",
       "      <td>1</td>\n",
       "      <td>This is one of the worst Uhaul dealers I've ev...</td>\n",
       "    </tr>\n",
       "    <tr>\n",
       "      <th>2</th>\n",
       "      <td>1</td>\n",
       "      <td>Finally cancelled after a couple years because...</td>\n",
       "    </tr>\n",
       "    <tr>\n",
       "      <th>3</th>\n",
       "      <td>1</td>\n",
       "      <td>This one star review is for the reception I re...</td>\n",
       "    </tr>\n",
       "    <tr>\n",
       "      <th>4</th>\n",
       "      <td>1</td>\n",
       "      <td>If It could be lower it would be.\\n\\n  I Found...</td>\n",
       "    </tr>\n",
       "  </tbody>\n",
       "</table>\n",
       "</div>"
      ],
      "text/plain": [
       "   stars                                               text\n",
       "0      1  Horrible service, would walk away every time I...\n",
       "1      1  This is one of the worst Uhaul dealers I've ev...\n",
       "2      1  Finally cancelled after a couple years because...\n",
       "3      1  This one star review is for the reception I re...\n",
       "4      1  If It could be lower it would be.\\n\\n  I Found..."
      ]
     },
     "execution_count": 15,
     "metadata": {},
     "output_type": "execute_result"
    }
   ],
   "source": [
    "sample.head()"
   ]
  },
  {
   "cell_type": "code",
   "execution_count": 16,
   "metadata": {
    "ExecuteTime": {
     "end_time": "2020-03-12T23:31:23.089337Z",
     "start_time": "2020-03-12T23:31:16.814501Z"
    }
   },
   "outputs": [
    {
     "data": {
      "image/png": "[encoded data removed]",
      "text/plain": [
       "<Figure size 432x288 with 1 Axes>"
      ]
     },
     "metadata": {},
     "output_type": "display_data"
    }
   ],
   "source": [
    "sns.distplot(sample.text.str.split().str.len());"
   ]
  },
  {
   "cell_type": "markdown",
   "metadata": {},
   "source": [
    "## Doc2Vec"
   ]
  },
  {
   "cell_type": "markdown",
   "metadata": {},
   "source": [
    "### Basic text cleaning"
   ]
  },
  {
   "cell_type": "code",
   "execution_count": 17,
   "metadata": {
    "ExecuteTime": {
     "end_time": "2020-03-12T23:31:31.865916Z",
     "start_time": "2020-03-12T23:31:31.861373Z"
    }
   },
   "outputs": [],
   "source": [
    "tokenizer = RegexpTokenizer(r'\\w+')\n",
    "stopword_set = set(stopwords.words('english'))\n",
    "\n",
    "def clean(review):\n",
    "    tokens = tokenizer.tokenize(review)\n",
    "    return ' '.join([t for t in tokens if t not in stopword_set])"
   ]
  },
  {
   "cell_type": "code",
   "execution_count": 18,
   "metadata": {
    "ExecuteTime": {
     "end_time": "2020-03-12T23:31:48.496823Z",
     "start_time": "2020-03-12T23:31:32.260538Z"
    }
   },
   "outputs": [],
   "source": [
    "sample.text = sample.text.str.lower().apply(clean)"
   ]
  },
  {
   "cell_type": "code",
   "execution_count": 19,
   "metadata": {
    "ExecuteTime": {
     "end_time": "2020-03-12T23:31:48.516692Z",
     "start_time": "2020-03-12T23:31:48.497733Z"
    }
   },
   "outputs": [
    {
     "data": {
      "text/html": [
       "<div>\n",
       "<style scoped>\n",
       "    .dataframe tbody tr th:only-of-type {\n",
       "        vertical-align: middle;\n",
       "    }\n",
       "\n",
       "    .dataframe tbody tr th {\n",
       "        vertical-align: top;\n",
       "    }\n",
       "\n",
       "    .dataframe thead th {\n",
       "        text-align: right;\n",
       "    }\n",
       "</style>\n",
       "<table border=\"1\" class=\"dataframe\">\n",
       "  <thead>\n",
       "    <tr style=\"text-align: right;\">\n",
       "      <th></th>\n",
       "      <th>stars</th>\n",
       "      <th>text</th>\n",
       "    </tr>\n",
       "  </thead>\n",
       "  <tbody>\n",
       "    <tr>\n",
       "      <th>187506</th>\n",
       "      <td>2</td>\n",
       "      <td>average reading multiple site reviews showed a...</td>\n",
       "    </tr>\n",
       "    <tr>\n",
       "      <th>307399</th>\n",
       "      <td>4</td>\n",
       "      <td>experience golfland mini golf played three fou...</td>\n",
       "    </tr>\n",
       "    <tr>\n",
       "      <th>60425</th>\n",
       "      <td>1</td>\n",
       "      <td>place sucks food bad waitresses nasty suck job...</td>\n",
       "    </tr>\n",
       "    <tr>\n",
       "      <th>206664</th>\n",
       "      <td>3</td>\n",
       "      <td>group 6 popped dinner prior seeing rent panaso...</td>\n",
       "    </tr>\n",
       "    <tr>\n",
       "      <th>214651</th>\n",
       "      <td>3</td>\n",
       "      <td>moved town trying find go indian restaurant un...</td>\n",
       "    </tr>\n",
       "    <tr>\n",
       "      <th>437115</th>\n",
       "      <td>5</td>\n",
       "      <td>went ayce sushi simply bomb com end story ok t...</td>\n",
       "    </tr>\n",
       "    <tr>\n",
       "      <th>84177</th>\n",
       "      <td>1</td>\n",
       "      <td>pompous combatant poor listeners redeeming qua...</td>\n",
       "    </tr>\n",
       "    <tr>\n",
       "      <th>65392</th>\n",
       "      <td>1</td>\n",
       "      <td>service slow though food great order nacho fri...</td>\n",
       "    </tr>\n",
       "    <tr>\n",
       "      <th>74725</th>\n",
       "      <td>1</td>\n",
       "      <td>whatever let get rush forced deal stupidity su...</td>\n",
       "    </tr>\n",
       "    <tr>\n",
       "      <th>410570</th>\n",
       "      <td>5</td>\n",
       "      <td>review travis sunglass hut 7 different huts ar...</td>\n",
       "    </tr>\n",
       "  </tbody>\n",
       "</table>\n",
       "</div>"
      ],
      "text/plain": [
       "        stars                                               text\n",
       "187506      2  average reading multiple site reviews showed a...\n",
       "307399      4  experience golfland mini golf played three fou...\n",
       "60425       1  place sucks food bad waitresses nasty suck job...\n",
       "206664      3  group 6 popped dinner prior seeing rent panaso...\n",
       "214651      3  moved town trying find go indian restaurant un...\n",
       "437115      5  went ayce sushi simply bomb com end story ok t...\n",
       "84177       1  pompous combatant poor listeners redeeming qua...\n",
       "65392       1  service slow though food great order nacho fri...\n",
       "74725       1  whatever let get rush forced deal stupidity su...\n",
       "410570      5  review travis sunglass hut 7 different huts ar..."
      ]
     },
     "execution_count": 19,
     "metadata": {},
     "output_type": "execute_result"
    }
   ],
   "source": [
    "sample.sample(n=10)"
   ]
  },
  {
   "cell_type": "code",
   "execution_count": 20,
   "metadata": {
    "ExecuteTime": {
     "end_time": "2020-03-12T23:31:50.935718Z",
     "start_time": "2020-03-12T23:31:48.518106Z"
    }
   },
   "outputs": [
    {
     "name": "stdout",
     "output_type": "stream",
     "text": [
      "<class 'pandas.core.frame.DataFrame'>\n",
      "Int64Index: 485702 entries, 0 to 499999\n",
      "Data columns (total 2 columns):\n",
      " #   Column  Non-Null Count   Dtype \n",
      "---  ------  --------------   ----- \n",
      " 0   stars   485702 non-null  int64 \n",
      " 1   text    485702 non-null  object\n",
      "dtypes: int64(1), object(1)\n",
      "memory usage: 11.1+ MB\n"
     ]
    }
   ],
   "source": [
    "sample = sample[sample.text.str.split().str.len()>10]\n",
    "sample.info()"
   ]
  },
  {
   "cell_type": "markdown",
   "metadata": {},
   "source": [
    "### Create sentence stream"
   ]
  },
  {
   "cell_type": "code",
   "execution_count": 21,
   "metadata": {
    "ExecuteTime": {
     "end_time": "2020-03-12T23:31:55.950739Z",
     "start_time": "2020-03-12T23:31:50.936989Z"
    }
   },
   "outputs": [],
   "source": [
    "sentences = []\n",
    "for i, (_, text) in enumerate(sample.values):\n",
    "    sentences.append(TaggedDocument(words=text.split(), tags=[i]))"
   ]
  },
  {
   "cell_type": "markdown",
   "metadata": {},
   "source": [
    "### Formulate the model"
   ]
  },
  {
   "cell_type": "code",
   "execution_count": null,
   "metadata": {},
   "outputs": [],
   "source": []
  },
  {
   "cell_type": "code",
   "execution_count": 22,
   "metadata": {
    "ExecuteTime": {
     "end_time": "2020-03-12T23:38:01.625087Z",
     "start_time": "2020-03-12T23:31:57.878476Z"
    }
   },
   "outputs": [],
   "source": [
    "model = Doc2Vec(documents=sentences,\n",
    "                dm=1,           # 1=distributed memory, 0=dist.BOW\n",
    "                epochs=5,\n",
    "                size=300,       # vector size\n",
    "                window=5,       # max. distance betw. target and context\n",
    "                min_count=50,   # ignore tokens w. lower frequency\n",
    "                negative=5,     # negative training samples\n",
    "                dm_concat=0,    # 1=concatenate vectors, 0=sum\n",
    "                dbow_words=0,   # 1=train word vectors as well\n",
    "                workers=8)"
   ]
  },
  {
   "cell_type": "code",
   "execution_count": 23,
   "metadata": {
    "ExecuteTime": {
     "end_time": "2020-03-13T01:29:55.341735Z",
     "start_time": "2020-03-13T01:29:55.322654Z"
    }
   },
   "outputs": [
    {
     "data": {
      "text/html": [
       "<div>\n",
       "<style scoped>\n",
       "    .dataframe tbody tr th:only-of-type {\n",
       "        vertical-align: middle;\n",
       "    }\n",
       "\n",
       "    .dataframe tbody tr th {\n",
       "        vertical-align: top;\n",
       "    }\n",
       "\n",
       "    .dataframe thead th {\n",
       "        text-align: right;\n",
       "    }\n",
       "</style>\n",
       "<table border=\"1\" class=\"dataframe\">\n",
       "  <thead>\n",
       "    <tr style=\"text-align: right;\">\n",
       "      <th></th>\n",
       "      <th>token</th>\n",
       "      <th>similarity</th>\n",
       "    </tr>\n",
       "  </thead>\n",
       "  <tbody>\n",
       "    <tr>\n",
       "      <th>0</th>\n",
       "      <td>great</td>\n",
       "      <td>0.768278</td>\n",
       "    </tr>\n",
       "    <tr>\n",
       "      <th>1</th>\n",
       "      <td>decent</td>\n",
       "      <td>0.750126</td>\n",
       "    </tr>\n",
       "    <tr>\n",
       "      <th>2</th>\n",
       "      <td>awesome</td>\n",
       "      <td>0.643396</td>\n",
       "    </tr>\n",
       "    <tr>\n",
       "      <th>3</th>\n",
       "      <td>ok</td>\n",
       "      <td>0.633988</td>\n",
       "    </tr>\n",
       "    <tr>\n",
       "      <th>4</th>\n",
       "      <td>amazing</td>\n",
       "      <td>0.619708</td>\n",
       "    </tr>\n",
       "    <tr>\n",
       "      <th>5</th>\n",
       "      <td>bad</td>\n",
       "      <td>0.610313</td>\n",
       "    </tr>\n",
       "    <tr>\n",
       "      <th>6</th>\n",
       "      <td>tasty</td>\n",
       "      <td>0.599133</td>\n",
       "    </tr>\n",
       "    <tr>\n",
       "      <th>7</th>\n",
       "      <td>alright</td>\n",
       "      <td>0.597679</td>\n",
       "    </tr>\n",
       "    <tr>\n",
       "      <th>8</th>\n",
       "      <td>excellent</td>\n",
       "      <td>0.596381</td>\n",
       "    </tr>\n",
       "    <tr>\n",
       "      <th>9</th>\n",
       "      <td>okay</td>\n",
       "      <td>0.583417</td>\n",
       "    </tr>\n",
       "  </tbody>\n",
       "</table>\n",
       "</div>"
      ],
      "text/plain": [
       "       token  similarity\n",
       "0      great    0.768278\n",
       "1     decent    0.750126\n",
       "2    awesome    0.643396\n",
       "3         ok    0.633988\n",
       "4    amazing    0.619708\n",
       "5        bad    0.610313\n",
       "6      tasty    0.599133\n",
       "7    alright    0.597679\n",
       "8  excellent    0.596381\n",
       "9       okay    0.583417"
      ]
     },
     "execution_count": 23,
     "metadata": {},
     "output_type": "execute_result"
    }
   ],
   "source": [
    "pd.DataFrame(model.most_similar('good'), columns=['token', 'similarity'])"
   ]
  },
  {
   "cell_type": "code",
   "execution_count": 24,
   "metadata": {
    "ExecuteTime": {
     "end_time": "2020-03-12T23:38:02.231060Z",
     "start_time": "2020-03-12T23:38:01.644943Z"
    }
   },
   "outputs": [],
   "source": [
    "model.save((yelp_path / 'sample.model').as_posix())"
   ]
  },
  {
   "cell_type": "markdown",
   "metadata": {},
   "source": [
    "### Continue training"
   ]
  },
  {
   "cell_type": "code",
   "execution_count": 25,
   "metadata": {
    "ExecuteTime": {
     "end_time": "2020-03-12T23:23:17.904716Z",
     "start_time": "2020-03-12T23:18:32.759090Z"
    }
   },
   "outputs": [],
   "source": [
    "model.train(sentences, total_examples=model.corpus_count, epochs=model.epochs)"
   ]
  },
  {
   "cell_type": "code",
   "execution_count": 26,
   "metadata": {
    "ExecuteTime": {
     "end_time": "2020-03-13T01:31:33.670240Z",
     "start_time": "2020-03-13T01:31:33.630430Z"
    }
   },
   "outputs": [
    {
     "data": {
      "text/html": [
       "<div>\n",
       "<style scoped>\n",
       "    .dataframe tbody tr th:only-of-type {\n",
       "        vertical-align: middle;\n",
       "    }\n",
       "\n",
       "    .dataframe tbody tr th {\n",
       "        vertical-align: top;\n",
       "    }\n",
       "\n",
       "    .dataframe thead th {\n",
       "        text-align: right;\n",
       "    }\n",
       "</style>\n",
       "<table border=\"1\" class=\"dataframe\">\n",
       "  <thead>\n",
       "    <tr style=\"text-align: right;\">\n",
       "      <th></th>\n",
       "      <th>token</th>\n",
       "      <th>similarity</th>\n",
       "    </tr>\n",
       "  </thead>\n",
       "  <tbody>\n",
       "    <tr>\n",
       "      <th>0</th>\n",
       "      <td>great</td>\n",
       "      <td>0.751735</td>\n",
       "    </tr>\n",
       "    <tr>\n",
       "      <th>1</th>\n",
       "      <td>decent</td>\n",
       "      <td>0.698833</td>\n",
       "    </tr>\n",
       "    <tr>\n",
       "      <th>2</th>\n",
       "      <td>awesome</td>\n",
       "      <td>0.624940</td>\n",
       "    </tr>\n",
       "    <tr>\n",
       "      <th>3</th>\n",
       "      <td>amazing</td>\n",
       "      <td>0.609682</td>\n",
       "    </tr>\n",
       "    <tr>\n",
       "      <th>4</th>\n",
       "      <td>excellent</td>\n",
       "      <td>0.603242</td>\n",
       "    </tr>\n",
       "    <tr>\n",
       "      <th>5</th>\n",
       "      <td>fantastic</td>\n",
       "      <td>0.587702</td>\n",
       "    </tr>\n",
       "    <tr>\n",
       "      <th>6</th>\n",
       "      <td>tasty</td>\n",
       "      <td>0.540953</td>\n",
       "    </tr>\n",
       "    <tr>\n",
       "      <th>7</th>\n",
       "      <td>bad</td>\n",
       "      <td>0.540534</td>\n",
       "    </tr>\n",
       "    <tr>\n",
       "      <th>8</th>\n",
       "      <td>delicious</td>\n",
       "      <td>0.539688</td>\n",
       "    </tr>\n",
       "    <tr>\n",
       "      <th>9</th>\n",
       "      <td>ok</td>\n",
       "      <td>0.537174</td>\n",
       "    </tr>\n",
       "  </tbody>\n",
       "</table>\n",
       "</div>"
      ],
      "text/plain": [
       "       token  similarity\n",
       "0      great    0.751735\n",
       "1     decent    0.698833\n",
       "2    awesome    0.624940\n",
       "3    amazing    0.609682\n",
       "4  excellent    0.603242\n",
       "5  fantastic    0.587702\n",
       "6      tasty    0.540953\n",
       "7        bad    0.540534\n",
       "8  delicious    0.539688\n",
       "9         ok    0.537174"
      ]
     },
     "execution_count": 26,
     "metadata": {},
     "output_type": "execute_result"
    }
   ],
   "source": [
    "most_similar = pd.DataFrame(model.most_similar('good'), columns=['token', 'similarity'])\n",
    "most_similar"
   ]
  },
  {
   "cell_type": "code",
   "execution_count": 50,
   "metadata": {
    "ExecuteTime": {
     "end_time": "2020-03-13T01:36:04.537013Z",
     "start_time": "2020-03-13T01:36:00.249174Z"
    }
   },
   "outputs": [
    {
     "data": {
      "image/png": "[encoded data removed]",
      "text/plain": [
       "<Figure size 864x288 with 2 Axes>"
      ]
     },
     "metadata": {},
     "output_type": "display_data"
    }
   ],
   "source": [
    "fig, axes =plt.subplots(ncols=2, figsize=(12, 4))\n",
    "sns.distplot(sample.text.str.split().str.len(), ax=axes[0])\n",
    "axes[0].set_title('# Tokens per Review')\n",
    "\n",
    "most_similar.set_index('token').similarity.sort_values().plot.barh(ax=axes[1], \n",
    "                                                                   title=\"Terms Most Similar to 'good'\",\n",
    "                                                                  xlim=(.5, .8))\n",
    "axes[1].set_xlabel('Similarity')\n",
    "axes[1].set_ylabel('Token')\n",
    "axes[0].set_xlabel('# Tokens')\n",
    "\n",
    "fig.tight_layout()\n",
    "fig.savefig('figures/doc2vec_stats', dpi=300)"
   ]
  },
  {
   "cell_type": "markdown",
   "metadata": {},
   "source": [
    "## Persist Model"
   ]
  },
  {
   "cell_type": "code",
   "execution_count": 28,
   "metadata": {
    "ExecuteTime": {
     "end_time": "2020-03-12T23:23:19.793372Z",
     "start_time": "2020-03-12T23:23:17.922554Z"
    }
   },
   "outputs": [],
   "source": [
    "model = Doc2Vec.load((yelp_path / 'sample.model').as_posix())"
   ]
  },
  {
   "cell_type": "markdown",
   "metadata": {},
   "source": [
    "## Evaluate"
   ]
  },
  {
   "cell_type": "code",
   "execution_count": 29,
   "metadata": {
    "ExecuteTime": {
     "end_time": "2020-03-12T23:38:02.234523Z",
     "start_time": "2020-03-12T23:38:02.232044Z"
    }
   },
   "outputs": [],
   "source": [
    "y = sample.stars.sub(1)"
   ]
  },
  {
   "cell_type": "code",
   "execution_count": 31,
   "metadata": {
    "ExecuteTime": {
     "end_time": "2020-03-12T23:38:03.175717Z",
     "start_time": "2020-03-12T23:38:02.235517Z"
    }
   },
   "outputs": [],
   "source": [
    "size = 300\n",
    "X = np.zeros(shape=(len(y), size))\n",
    "for i in range(len(sample)):\n",
    "    X[i] = model.docvecs[i]"
   ]
  },
  {
   "cell_type": "code",
   "execution_count": 32,
   "metadata": {
    "ExecuteTime": {
     "end_time": "2020-03-12T23:38:03.179521Z",
     "start_time": "2020-03-12T23:38:03.176763Z"
    }
   },
   "outputs": [
    {
     "data": {
      "text/plain": [
       "(485702, 300)"
      ]
     },
     "execution_count": 32,
     "metadata": {},
     "output_type": "execute_result"
    }
   ],
   "source": [
    "X.shape"
   ]
  },
  {
   "cell_type": "markdown",
   "metadata": {},
   "source": [
    "### Train-Test Split"
   ]
  },
  {
   "cell_type": "code",
   "execution_count": 33,
   "metadata": {
    "ExecuteTime": {
     "end_time": "2020-03-12T23:38:03.537791Z",
     "start_time": "2020-03-12T23:38:03.180412Z"
    }
   },
   "outputs": [],
   "source": [
    "X_train, X_test, y_train, y_test = train_test_split(X, y, \n",
    "                                                    test_size=0.2, \n",
    "                                                    random_state=42, \n",
    "                                                    stratify=y)"
   ]
  },
  {
   "cell_type": "code",
   "execution_count": 34,
   "metadata": {
    "ExecuteTime": {
     "end_time": "2020-03-12T23:38:03.546493Z",
     "start_time": "2020-03-12T23:38:03.539246Z"
    }
   },
   "outputs": [
    {
     "name": "stdout",
     "output_type": "stream",
     "text": [
      "Baseline Score: 20.15%\n"
     ]
    }
   ],
   "source": [
    "mode = pd.Series(y_train).mode().iloc[0]\n",
    "baseline = accuracy_score(y_true=y_test, y_pred=np.full_like(y_test, fill_value=mode))\n",
    "print(f'Baseline Score: {baseline:.2%}')"
   ]
  },
  {
   "cell_type": "code",
   "execution_count": 35,
   "metadata": {
    "ExecuteTime": {
     "end_time": "2020-03-12T23:38:03.591202Z",
     "start_time": "2020-03-12T23:38:03.547646Z"
    }
   },
   "outputs": [],
   "source": [
    "class_weights = class_weight.compute_class_weight('balanced',\n",
    "                                                 np.unique(y_train),\n",
    "                                                 y_train)"
   ]
  },
  {
   "cell_type": "code",
   "execution_count": 36,
   "metadata": {
    "ExecuteTime": {
     "end_time": "2020-03-12T23:38:03.594645Z",
     "start_time": "2020-03-12T23:38:03.592108Z"
    }
   },
   "outputs": [
    {
     "data": {
      "text/plain": [
       "array([0.99470343, 0.99241693, 0.99651467, 1.0016524 , 1.01503638])"
      ]
     },
     "execution_count": 36,
     "metadata": {},
     "output_type": "execute_result"
    }
   ],
   "source": [
    "class_weights"
   ]
  },
  {
   "cell_type": "markdown",
   "metadata": {},
   "source": [
    "## LightGBM"
   ]
  },
  {
   "cell_type": "code",
   "execution_count": 37,
   "metadata": {
    "ExecuteTime": {
     "end_time": "2020-03-12T23:38:03.602207Z",
     "start_time": "2020-03-12T23:38:03.595612Z"
    }
   },
   "outputs": [],
   "source": [
    "train_data = lgb.Dataset(data=X_train, label=y_train)\n",
    "test_data = train_data.create_valid(X_test, label=y_test)"
   ]
  },
  {
   "cell_type": "code",
   "execution_count": 38,
   "metadata": {
    "ExecuteTime": {
     "end_time": "2020-03-12T23:38:03.618329Z",
     "start_time": "2020-03-12T23:38:03.603209Z"
    }
   },
   "outputs": [],
   "source": [
    "params = {'objective': 'multiclass',\n",
    "          'num_classes': 5}"
   ]
  },
  {
   "cell_type": "code",
   "execution_count": 39,
   "metadata": {
    "ExecuteTime": {
     "end_time": "2020-03-13T00:34:24.532856Z",
     "start_time": "2020-03-12T23:42:31.373788Z"
    }
   },
   "outputs": [
    {
     "name": "stdout",
     "output_type": "stream",
     "text": [
      "Training until validation scores don't improve for 25 rounds\n",
      "[50]\ttraining's multi_logloss: 1.40574\tvalid_1's multi_logloss: 1.42219\n",
      "[100]\ttraining's multi_logloss: 1.32622\tvalid_1's multi_logloss: 1.35816\n",
      "[150]\ttraining's multi_logloss: 1.26866\tvalid_1's multi_logloss: 1.31488\n",
      "[200]\ttraining's multi_logloss: 1.22222\tvalid_1's multi_logloss: 1.28157\n",
      "[250]\ttraining's multi_logloss: 1.18278\tvalid_1's multi_logloss: 1.25444\n",
      "[300]\ttraining's multi_logloss: 1.14868\tvalid_1's multi_logloss: 1.23211\n",
      "[350]\ttraining's multi_logloss: 1.11928\tvalid_1's multi_logloss: 1.21423\n",
      "[400]\ttraining's multi_logloss: 1.09329\tvalid_1's multi_logloss: 1.19948\n",
      "[450]\ttraining's multi_logloss: 1.07063\tvalid_1's multi_logloss: 1.18815\n",
      "[500]\ttraining's multi_logloss: 1.05052\tvalid_1's multi_logloss: 1.17887\n",
      "[550]\ttraining's multi_logloss: 1.03156\tvalid_1's multi_logloss: 1.1705\n",
      "[600]\ttraining's multi_logloss: 1.01384\tvalid_1's multi_logloss: 1.16315\n",
      "[650]\ttraining's multi_logloss: 0.997402\tvalid_1's multi_logloss: 1.15653\n",
      "[700]\ttraining's multi_logloss: 0.981195\tvalid_1's multi_logloss: 1.14996\n",
      "[750]\ttraining's multi_logloss: 0.966101\tvalid_1's multi_logloss: 1.14443\n",
      "[800]\ttraining's multi_logloss: 0.951317\tvalid_1's multi_logloss: 1.13892\n",
      "[850]\ttraining's multi_logloss: 0.937325\tvalid_1's multi_logloss: 1.13393\n",
      "[900]\ttraining's multi_logloss: 0.923376\tvalid_1's multi_logloss: 1.12893\n",
      "[950]\ttraining's multi_logloss: 0.910172\tvalid_1's multi_logloss: 1.12433\n",
      "[1000]\ttraining's multi_logloss: 0.897473\tvalid_1's multi_logloss: 1.12017\n",
      "[1050]\ttraining's multi_logloss: 0.885336\tvalid_1's multi_logloss: 1.11626\n",
      "[1100]\ttraining's multi_logloss: 0.873279\tvalid_1's multi_logloss: 1.11235\n",
      "[1150]\ttraining's multi_logloss: 0.861798\tvalid_1's multi_logloss: 1.10871\n",
      "[1200]\ttraining's multi_logloss: 0.850138\tvalid_1's multi_logloss: 1.10494\n",
      "[1250]\ttraining's multi_logloss: 0.838638\tvalid_1's multi_logloss: 1.10118\n",
      "[1300]\ttraining's multi_logloss: 0.827512\tvalid_1's multi_logloss: 1.0976\n",
      "[1350]\ttraining's multi_logloss: 0.816692\tvalid_1's multi_logloss: 1.09423\n",
      "[1400]\ttraining's multi_logloss: 0.806604\tvalid_1's multi_logloss: 1.09133\n",
      "[1450]\ttraining's multi_logloss: 0.795576\tvalid_1's multi_logloss: 1.08761\n",
      "[1500]\ttraining's multi_logloss: 0.785088\tvalid_1's multi_logloss: 1.0843\n",
      "[1550]\ttraining's multi_logloss: 0.774949\tvalid_1's multi_logloss: 1.08119\n",
      "[1600]\ttraining's multi_logloss: 0.76486\tvalid_1's multi_logloss: 1.07794\n",
      "[1650]\ttraining's multi_logloss: 0.754979\tvalid_1's multi_logloss: 1.07478\n",
      "[1700]\ttraining's multi_logloss: 0.745423\tvalid_1's multi_logloss: 1.07188\n",
      "[1750]\ttraining's multi_logloss: 0.735561\tvalid_1's multi_logloss: 1.06881\n",
      "[1800]\ttraining's multi_logloss: 0.726348\tvalid_1's multi_logloss: 1.06601\n",
      "[1850]\ttraining's multi_logloss: 0.716886\tvalid_1's multi_logloss: 1.06303\n",
      "[1900]\ttraining's multi_logloss: 0.708044\tvalid_1's multi_logloss: 1.06016\n",
      "[1950]\ttraining's multi_logloss: 0.699307\tvalid_1's multi_logloss: 1.05758\n",
      "[2000]\ttraining's multi_logloss: 0.690548\tvalid_1's multi_logloss: 1.05487\n",
      "[2050]\ttraining's multi_logloss: 0.681838\tvalid_1's multi_logloss: 1.05231\n",
      "[2100]\ttraining's multi_logloss: 0.673058\tvalid_1's multi_logloss: 1.04934\n",
      "[2150]\ttraining's multi_logloss: 0.664731\tvalid_1's multi_logloss: 1.0468\n",
      "[2200]\ttraining's multi_logloss: 0.656313\tvalid_1's multi_logloss: 1.04416\n",
      "[2250]\ttraining's multi_logloss: 0.648107\tvalid_1's multi_logloss: 1.04164\n",
      "[2300]\ttraining's multi_logloss: 0.640035\tvalid_1's multi_logloss: 1.039\n",
      "[2350]\ttraining's multi_logloss: 0.631967\tvalid_1's multi_logloss: 1.0365\n",
      "[2400]\ttraining's multi_logloss: 0.62435\tvalid_1's multi_logloss: 1.03417\n",
      "[2450]\ttraining's multi_logloss: 0.616651\tvalid_1's multi_logloss: 1.03203\n",
      "[2500]\ttraining's multi_logloss: 0.608975\tvalid_1's multi_logloss: 1.0295\n",
      "[2550]\ttraining's multi_logloss: 0.601478\tvalid_1's multi_logloss: 1.02717\n",
      "[2600]\ttraining's multi_logloss: 0.594006\tvalid_1's multi_logloss: 1.02478\n",
      "[2650]\ttraining's multi_logloss: 0.58685\tvalid_1's multi_logloss: 1.02263\n",
      "[2700]\ttraining's multi_logloss: 0.57942\tvalid_1's multi_logloss: 1.02028\n",
      "[2750]\ttraining's multi_logloss: 0.572249\tvalid_1's multi_logloss: 1.01797\n",
      "[2800]\ttraining's multi_logloss: 0.565184\tvalid_1's multi_logloss: 1.01572\n",
      "[2850]\ttraining's multi_logloss: 0.558229\tvalid_1's multi_logloss: 1.01345\n",
      "[2900]\ttraining's multi_logloss: 0.551138\tvalid_1's multi_logloss: 1.01119\n",
      "[2950]\ttraining's multi_logloss: 0.544033\tvalid_1's multi_logloss: 1.00887\n",
      "[3000]\ttraining's multi_logloss: 0.53756\tvalid_1's multi_logloss: 1.00692\n",
      "[3050]\ttraining's multi_logloss: 0.531118\tvalid_1's multi_logloss: 1.00491\n",
      "[3100]\ttraining's multi_logloss: 0.524488\tvalid_1's multi_logloss: 1.00269\n",
      "[3150]\ttraining's multi_logloss: 0.518032\tvalid_1's multi_logloss: 1.00079\n",
      "[3200]\ttraining's multi_logloss: 0.511734\tvalid_1's multi_logloss: 0.998846\n",
      "[3250]\ttraining's multi_logloss: 0.505413\tvalid_1's multi_logloss: 0.996952\n",
      "[3300]\ttraining's multi_logloss: 0.499111\tvalid_1's multi_logloss: 0.994873\n",
      "[3350]\ttraining's multi_logloss: 0.493151\tvalid_1's multi_logloss: 0.993137\n",
      "[3400]\ttraining's multi_logloss: 0.487354\tvalid_1's multi_logloss: 0.991284\n",
      "[3450]\ttraining's multi_logloss: 0.481414\tvalid_1's multi_logloss: 0.989505\n",
      "[3500]\ttraining's multi_logloss: 0.475646\tvalid_1's multi_logloss: 0.987767\n",
      "[3550]\ttraining's multi_logloss: 0.469725\tvalid_1's multi_logloss: 0.985953\n",
      "[3600]\ttraining's multi_logloss: 0.463852\tvalid_1's multi_logloss: 0.984072\n",
      "[3650]\ttraining's multi_logloss: 0.458249\tvalid_1's multi_logloss: 0.982336\n",
      "[3700]\ttraining's multi_logloss: 0.452148\tvalid_1's multi_logloss: 0.980207\n",
      "[3750]\ttraining's multi_logloss: 0.446423\tvalid_1's multi_logloss: 0.978311\n",
      "[3800]\ttraining's multi_logloss: 0.441007\tvalid_1's multi_logloss: 0.976675\n",
      "[3850]\ttraining's multi_logloss: 0.435311\tvalid_1's multi_logloss: 0.97488\n",
      "[3900]\ttraining's multi_logloss: 0.429751\tvalid_1's multi_logloss: 0.973014\n",
      "[3950]\ttraining's multi_logloss: 0.424396\tvalid_1's multi_logloss: 0.971317\n",
      "[4000]\ttraining's multi_logloss: 0.419121\tvalid_1's multi_logloss: 0.969728\n",
      "[4050]\ttraining's multi_logloss: 0.414022\tvalid_1's multi_logloss: 0.968132\n",
      "[4100]\ttraining's multi_logloss: 0.40885\tvalid_1's multi_logloss: 0.966544\n",
      "[4150]\ttraining's multi_logloss: 0.4038\tvalid_1's multi_logloss: 0.964867\n",
      "[4200]\ttraining's multi_logloss: 0.398808\tvalid_1's multi_logloss: 0.963266\n",
      "[4250]\ttraining's multi_logloss: 0.393616\tvalid_1's multi_logloss: 0.96143\n",
      "[4300]\ttraining's multi_logloss: 0.388712\tvalid_1's multi_logloss: 0.959862\n",
      "[4350]\ttraining's multi_logloss: 0.383539\tvalid_1's multi_logloss: 0.95807\n",
      "[4400]\ttraining's multi_logloss: 0.378759\tvalid_1's multi_logloss: 0.956585\n",
      "[4450]\ttraining's multi_logloss: 0.373958\tvalid_1's multi_logloss: 0.954949\n",
      "[4500]\ttraining's multi_logloss: 0.368989\tvalid_1's multi_logloss: 0.953154\n",
      "[4550]\ttraining's multi_logloss: 0.364066\tvalid_1's multi_logloss: 0.951552\n",
      "[4600]\ttraining's multi_logloss: 0.35948\tvalid_1's multi_logloss: 0.950127\n",
      "[4650]\ttraining's multi_logloss: 0.354993\tvalid_1's multi_logloss: 0.948694\n",
      "[4700]\ttraining's multi_logloss: 0.350688\tvalid_1's multi_logloss: 0.947379\n",
      "[4750]\ttraining's multi_logloss: 0.346301\tvalid_1's multi_logloss: 0.945992\n",
      "[4800]\ttraining's multi_logloss: 0.341952\tvalid_1's multi_logloss: 0.94465\n",
      "[4850]\ttraining's multi_logloss: 0.337588\tvalid_1's multi_logloss: 0.94328\n",
      "[4900]\ttraining's multi_logloss: 0.333171\tvalid_1's multi_logloss: 0.941803\n",
      "[4950]\ttraining's multi_logloss: 0.329233\tvalid_1's multi_logloss: 0.940655\n",
      "[5000]\ttraining's multi_logloss: 0.325157\tvalid_1's multi_logloss: 0.939351\n",
      "Did not meet early stopping. Best iteration is:\n",
      "[5000]\ttraining's multi_logloss: 0.325157\tvalid_1's multi_logloss: 0.939351\n"
     ]
    }
   ],
   "source": [
    "lgb_model = lgb.train(params=params,\n",
    "                      train_set=train_data,\n",
    "                      num_boost_round=5000,\n",
    "                      valid_sets=[train_data, test_data],\n",
    "                      early_stopping_rounds=25,\n",
    "                      verbose_eval=50)"
   ]
  },
  {
   "cell_type": "code",
   "execution_count": 40,
   "metadata": {
    "ExecuteTime": {
     "end_time": "2020-03-13T01:03:52.433582Z",
     "start_time": "2020-03-13T01:03:15.426599Z"
    }
   },
   "outputs": [],
   "source": [
    "lgb_pred = np.argmax(lgb_model.predict(X_test), axis=1)"
   ]
  },
  {
   "cell_type": "code",
   "execution_count": 41,
   "metadata": {
    "ExecuteTime": {
     "end_time": "2020-03-13T01:03:52.443269Z",
     "start_time": "2020-03-13T01:03:52.434729Z"
    }
   },
   "outputs": [
    {
     "name": "stdout",
     "output_type": "stream",
     "text": [
      "Accuracy: 62.43%\n"
     ]
    }
   ],
   "source": [
    "lgb_acc = accuracy_score(y_true=y_test, y_pred=lgb_pred)\n",
    "print(f'Accuracy: {lgb_acc:.2%}')"
   ]
  },
  {
   "cell_type": "markdown",
   "metadata": {},
   "source": [
    "## Random Forest"
   ]
  },
  {
   "cell_type": "code",
   "execution_count": 42,
   "metadata": {
    "ExecuteTime": {
     "end_time": "2020-03-13T01:01:19.354433Z",
     "start_time": "2020-03-13T00:47:53.025563Z"
    }
   },
   "outputs": [
    {
     "data": {
      "text/plain": [
       "RandomForestClassifier(class_weight='balanced_subsample', n_estimators=500,\n",
       "                       n_jobs=-1)"
      ]
     },
     "execution_count": 42,
     "metadata": {},
     "output_type": "execute_result"
    }
   ],
   "source": [
    "rf = RandomForestClassifier(n_jobs=-1,  \n",
    "                            n_estimators=500,\n",
    "                            class_weight='balanced_subsample')\n",
    "rf.fit(X_train, y_train)"
   ]
  },
  {
   "cell_type": "code",
   "execution_count": 44,
   "metadata": {
    "ExecuteTime": {
     "end_time": "2020-03-13T01:02:19.581260Z",
     "start_time": "2020-03-13T01:02:11.816817Z"
    }
   },
   "outputs": [
    {
     "name": "stdout",
     "output_type": "stream",
     "text": [
      "Accuracy: 41.37%\n"
     ]
    }
   ],
   "source": [
    "rf_pred = rf.predict(X_test)\n",
    "rf_acc = accuracy_score(y_true=y_test, y_pred=rf_pred)\n",
    "print(f'Accuracy: {rf_acc:.2%}')"
   ]
  },
  {
   "cell_type": "code",
   "execution_count": 45,
   "metadata": {
    "ExecuteTime": {
     "end_time": "2020-03-13T01:02:21.015594Z",
     "start_time": "2020-03-13T01:02:20.772604Z"
    }
   },
   "outputs": [
    {
     "data": {
      "image/png": "[encoded data removed]",
      "text/plain": [
       "<Figure size 432x288 with 2 Axes>"
      ]
     },
     "metadata": {},
     "output_type": "display_data"
    }
   ],
   "source": [
    "cm = confusion_matrix(y_true=y_test, y_pred=rf_pred)\n",
    "sns.heatmap(pd.DataFrame(cm/np.sum(cm), \n",
    "                         index=stars, \n",
    "                         columns=stars), \n",
    "            annot=True, \n",
    "            cmap='Blues', \n",
    "            fmt='.1%');"
   ]
  },
  {
   "cell_type": "markdown",
   "metadata": {},
   "source": [
    "## Multinomial Logistic Regression"
   ]
  },
  {
   "cell_type": "code",
   "execution_count": 46,
   "metadata": {
    "ExecuteTime": {
     "end_time": "2020-03-13T00:38:59.610637Z",
     "start_time": "2020-03-13T00:38:19.490764Z"
    }
   },
   "outputs": [
    {
     "data": {
      "text/plain": [
       "LogisticRegression(class_weight='balanced', multi_class='multinomial')"
      ]
     },
     "execution_count": 46,
     "metadata": {},
     "output_type": "execute_result"
    }
   ],
   "source": [
    "lr = LogisticRegression(multi_class='multinomial', solver='lbfgs', class_weight='balanced')\n",
    "lr.fit(X_train, y_train)"
   ]
  },
  {
   "cell_type": "code",
   "execution_count": 47,
   "metadata": {
    "ExecuteTime": {
     "end_time": "2020-03-13T01:02:52.294906Z",
     "start_time": "2020-03-13T01:02:52.204238Z"
    }
   },
   "outputs": [
    {
     "name": "stdout",
     "output_type": "stream",
     "text": [
      "Accuracy: 39.77%\n"
     ]
    }
   ],
   "source": [
    "lr_pred = lr.predict(X_test)\n",
    "lr_acc = accuracy_score(y_true=y_test, y_pred=lr_pred)\n",
    "print(f'Accuracy: {lr_acc:.2%}')"
   ]
  },
  {
   "cell_type": "code",
   "execution_count": 48,
   "metadata": {
    "ExecuteTime": {
     "end_time": "2020-03-13T01:02:55.998830Z",
     "start_time": "2020-03-13T01:02:55.738868Z"
    }
   },
   "outputs": [
    {
     "data": {
      "image/png": "[encoded data removed]",
      "text/plain": [
       "<Figure size 432x288 with 2 Axes>"
      ]
     },
     "metadata": {},
     "output_type": "display_data"
    }
   ],
   "source": [
    "cm = confusion_matrix(y_true=y_test, y_pred=lr_pred)\n",
    "sns.heatmap(pd.DataFrame(cm/np.sum(cm), \n",
    "                         index=stars, \n",
    "                         columns=stars), \n",
    "            annot=True, \n",
    "            cmap='Blues', \n",
    "            fmt='.1%');"
   ]
  },
  {
   "cell_type": "markdown",
   "metadata": {},
   "source": [
    "## Comparison"
   ]
  },
  {
   "cell_type": "code",
   "execution_count": 49,
   "metadata": {
    "ExecuteTime": {
     "end_time": "2020-03-13T01:11:59.886006Z",
     "start_time": "2020-03-13T01:11:58.871548Z"
    }
   },
   "outputs": [
    {
     "data": {
      "image/png": "[encoded data removed]",
      "text/plain": [
       "<Figure size 1080x360 with 3 Axes>"
      ]
     },
     "metadata": {},
     "output_type": "display_data"
    }
   ],
   "source": [
    "fig, axes = plt.subplots(ncols=3, figsize=(15, 5), sharex=True, sharey=True)\n",
    "\n",
    "lgb_cm = confusion_matrix(y_true=y_test, y_pred=lgb_pred)\n",
    "sns.heatmap(pd.DataFrame(lgb_cm/np.sum(lgb_cm), index=stars, columns=stars), \n",
    "            annot=True, cmap='Blues', fmt='.1%', ax=axes[0], cbar=False)\n",
    "axes[0].set_title(f'Gradient Boosting: Accuracy {lgb_acc:.2%}')\n",
    "\n",
    "rf_cm = confusion_matrix(y_true=y_test, y_pred=rf_pred)\n",
    "sns.heatmap(pd.DataFrame(rf_cm/np.sum(rf_cm), index=stars, columns=stars), \n",
    "            annot=True, cmap='Blues', fmt='.1%', ax=axes[1], cbar=False)\n",
    "axes[1].set_title(f'Random Forest: Accuracy {rf_acc:.2%}')\n",
    "\n",
    "lr_cm = confusion_matrix(y_true=y_test, y_pred=lr_pred)\n",
    "sns.heatmap(pd.DataFrame(lr_cm/np.sum(lr_cm), index=stars, columns=stars), \n",
    "            annot=True, cmap='Blues', fmt='.1%', ax=axes[2], cbar=False)\n",
    "axes[2].set_title(f'Logistic Regression: Accuracy {lr_acc:.2%}')\n",
    "axes[0].set_ylabel('Actuals')\n",
    "for i in range(3):\n",
    "    axes[i].set_xlabel('Predicted')\n",
    "\n",
    "fig.tight_layout()\n",
    "# fig.savefig('../figures/confusion_matrix', dpi=300);"
   ]
  }
 ],
 "metadata": {
  "kernelspec": {
   "display_name": "Python 3",
   "language": "python",
   "name": "python3"
  },
  "language_info": {
   "codemirror_mode": {
    "name": "ipython",
    "version": 3
   },
   "file_extension": ".py",
   "mimetype": "text/x-python",
   "name": "python",
   "nbconvert_exporter": "python",
   "pygments_lexer": "ipython3",
   "version": "3.8.2"
  },
  "toc": {
   "base_numbering": 1,
   "nav_menu": {},
   "number_sections": true,
   "sideBar": true,
   "skip_h1_title": true,
   "title_cell": "Table of Contents",
   "title_sidebar": "Contents",
   "toc_cell": false,
   "toc_position": {},
   "toc_section_display": true,
   "toc_window_display": true
  }
 },
 "nbformat": 4,
 "nbformat_minor": 4
}
