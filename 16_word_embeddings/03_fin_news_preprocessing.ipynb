{
 "cells": [
  {
   "cell_type": "markdown",
   "metadata": {},
   "source": [
    "# Financial News - Preprocessing for word2vec"
   ]
  },
  {
   "cell_type": "markdown",
   "metadata": {},
   "source": [
    "See notebook [lda_financial_news](../15_topic_modeling/07_financial_news/lda_financial_news.ipynb) for download instructions."
   ]
  },
  {
   "cell_type": "markdown",
   "metadata": {
    "slideshow": {
     "slide_type": "slide"
    }
   },
   "source": [
    "## Imports"
   ]
  },
  {
   "cell_type": "code",
   "execution_count": 1,
   "metadata": {
    "ExecuteTime": {
     "end_time": "2020-03-12T00:35:12.658130Z",
     "start_time": "2020-03-12T00:35:11.966957Z"
    },
    "slideshow": {
     "slide_type": "fragment"
    }
   },
   "outputs": [],
   "source": [
    "import os, tarfile, sys, json\n",
    "from pathlib import Path\n",
    "from time import time\n",
    "from pprint import pprint\n",
    "from collections import Counter\n",
    "\n",
    "import numpy as np\n",
    "from numpy.random import choice\n",
    "import pandas as pd\n",
    "import seaborn as sns\n",
    "\n",
    "import spacy\n",
    "from spacy.lang.en import English\n",
    "\n",
    "from gensim.models.word2vec import LineSentence\n",
    "from gensim.models.phrases import Phrases, Phraser"
   ]
  },
  {
   "cell_type": "markdown",
   "metadata": {
    "slideshow": {
     "slide_type": "slide"
    }
   },
   "source": [
    "### Settings"
   ]
  },
  {
   "cell_type": "code",
   "execution_count": 2,
   "metadata": {
    "ExecuteTime": {
     "end_time": "2020-03-12T00:35:12.661624Z",
     "start_time": "2020-03-12T00:35:12.659205Z"
    },
    "slideshow": {
     "slide_type": "fragment"
    }
   },
   "outputs": [],
   "source": [
    "pd.set_option('float_format', '{:,.2f}'.format)\n",
    "sns.set_style('whitegrid')\n",
    "np.random.seed(42)"
   ]
  },
  {
   "cell_type": "code",
   "execution_count": 3,
   "metadata": {
    "ExecuteTime": {
     "end_time": "2020-03-12T00:35:12.672167Z",
     "start_time": "2020-03-12T00:35:12.662795Z"
    },
    "slideshow": {
     "slide_type": "fragment"
    }
   },
   "outputs": [],
   "source": [
    "LANGUAGES = ['en', 'es']\n",
    "language_dict = dict(zip(LANGUAGES, ['English', 'Spanish']))"
   ]
  },
  {
   "cell_type": "code",
   "execution_count": 4,
   "metadata": {
    "ExecuteTime": {
     "end_time": "2020-03-12T00:35:12.681138Z",
     "start_time": "2020-03-12T00:35:12.673252Z"
    },
    "slideshow": {
     "slide_type": "fragment"
    }
   },
   "outputs": [],
   "source": [
    "def format_time(t):\n",
    "    m, s = divmod(t, 60)\n",
    "    h, m = divmod(m, 60)\n",
    "    return '{:02.0f}:{:02.0f}:{:02.0f}'.format(h, m, s)"
   ]
  },
  {
   "cell_type": "code",
   "execution_count": 5,
   "metadata": {
    "ExecuteTime": {
     "end_time": "2020-03-12T00:35:12.866957Z",
     "start_time": "2020-03-12T00:35:12.682018Z"
    }
   },
   "outputs": [],
   "source": [
    "stop_words = set(pd.read_csv('http://ir.dcs.gla.ac.uk/resources/linguistic_utils/stop_words',\n",
    "                             header=None,\n",
    "                             squeeze=True).tolist())"
   ]
  },
  {
   "cell_type": "code",
   "execution_count": 6,
   "metadata": {
    "ExecuteTime": {
     "end_time": "2020-03-12T01:37:48.408090Z",
     "start_time": "2020-03-12T01:37:48.402555Z"
    }
   },
   "outputs": [],
   "source": [
    "data_path = Path('data', 'fin_news')\n",
    "if not data_path.exists():\n",
    "    data_path.mkdir(exist_ok=True)\n",
    "article_path = data_path / 'articles.txt'\n",
    "clean_article_path = data_path / 'articles_clean.txt'"
   ]
  },
  {
   "cell_type": "markdown",
   "metadata": {},
   "source": [
    "## Load Data"
   ]
  },
  {
   "cell_type": "code",
   "execution_count": 7,
   "metadata": {
    "ExecuteTime": {
     "end_time": "2020-03-12T00:11:58.569138Z",
     "start_time": "2020-03-12T00:11:58.566862Z"
    }
   },
   "outputs": [],
   "source": [
    "fin_news_path = Path('..', '15_topic_modeling', '07_financial_news', 'us-financial-news-articles')"
   ]
  },
  {
   "cell_type": "code",
   "execution_count": 8,
   "metadata": {
    "ExecuteTime": {
     "end_time": "2020-03-12T00:06:16.639042Z",
     "start_time": "2020-03-12T00:06:16.633699Z"
    }
   },
   "outputs": [],
   "source": [
    "section_titles = ['Press Releases - CNBC', 'Reuters: Company News', 'Reuters: World News', 'Reuters: Business News',\n",
    "                  'Reuters: Financial Services and Real Estate', 'Top News and Analysis (pro)', 'Reuters: Top News',\n",
    "                  'The Wall Street Journal &amp; Breaking News, Business, Financial and Economic News, World News and Video',\n",
    "                  'Business &amp; Financial News, U.S &amp; International Breaking News | Reuters',\n",
    "                  'Reuters: Money News', 'Reuters: Technology News']"
   ]
  },
  {
   "cell_type": "code",
   "execution_count": 9,
   "metadata": {
    "ExecuteTime": {
     "end_time": "2020-03-12T00:09:39.191250Z",
     "start_time": "2020-03-12T00:08:54.989480Z"
    }
   },
   "outputs": [
    {
     "name": "stdout",
     "output_type": "stream",
     "text": [
      "Done loading 125,964 articles in 00:01:17\n"
     ]
    }
   ],
   "source": [
    "articles = []\n",
    "counter = Counter()\n",
    "start = time()\n",
    "for f in fin_news_path.glob('*/**/*.json'):\n",
    "    article = json.load(f.open())\n",
    "    if article['thread']['section_title'] in set(section_titles):\n",
    "        text = article['text'].lower().split()\n",
    "        counter.update(text)\n",
    "        articles.append(' '.join([t for t in text if t not in stop_words]))\n",
    "\n",
    "print(f'Done loading {len(articles):,.0f} articles in {format_time(time()-start)}')"
   ]
  },
  {
   "cell_type": "code",
   "execution_count": 10,
   "metadata": {
    "ExecuteTime": {
     "end_time": "2020-03-12T00:10:30.397745Z",
     "start_time": "2020-03-12T00:10:29.539902Z"
    }
   },
   "outputs": [
    {
     "data": {
      "text/plain": [
       "418422851"
      ]
     },
     "execution_count": 10,
     "metadata": {},
     "output_type": "execute_result"
    }
   ],
   "source": [
    "article_path.write_text('\\n'.join(articles))"
   ]
  },
  {
   "cell_type": "markdown",
   "metadata": {
    "slideshow": {
     "slide_type": "slide"
    }
   },
   "source": [
    "## Clean Financial News Articles"
   ]
  },
  {
   "cell_type": "code",
   "execution_count": 11,
   "metadata": {
    "ExecuteTime": {
     "end_time": "2020-03-12T00:35:15.282473Z",
     "start_time": "2020-03-12T00:35:13.191778Z"
    }
   },
   "outputs": [
    {
     "data": {
      "text/plain": [
       "125964"
      ]
     },
     "execution_count": 11,
     "metadata": {},
     "output_type": "execute_result"
    }
   ],
   "source": [
    "articles = article_path.read_text().split('\\n')\n",
    "len(articles)"
   ]
  },
  {
   "cell_type": "markdown",
   "metadata": {},
   "source": [
    "### Sentence Boundary Detection"
   ]
  },
  {
   "cell_type": "code",
   "execution_count": 12,
   "metadata": {
    "ExecuteTime": {
     "end_time": "2020-03-12T01:17:50.397175Z",
     "start_time": "2020-03-12T01:17:50.383130Z"
    }
   },
   "outputs": [],
   "source": [
    "def clean_doc(d):\n",
    "    doc = []\n",
    "    for sent in d.sents:\n",
    "        s = [t.text.lower() for t in sent if not\n",
    "        any([t.is_digit, not t.is_alpha, t.is_punct, t.is_space])]\n",
    "        if len(s) > 5 or len(sent) < 100:\n",
    "            doc.append(' '.join(s))\n",
    "    return doc"
   ]
  },
  {
   "cell_type": "code",
   "execution_count": 13,
   "metadata": {
    "ExecuteTime": {
     "end_time": "2020-03-12T01:17:52.278383Z",
     "start_time": "2020-03-12T01:17:52.174102Z"
    }
   },
   "outputs": [],
   "source": [
    "nlp = English()\n",
    "sentencizer = nlp.create_pipe(\"sentencizer\")\n",
    "nlp.add_pipe(sentencizer)"
   ]
  },
  {
   "cell_type": "code",
   "execution_count": 14,
   "metadata": {
    "ExecuteTime": {
     "end_time": "2020-03-12T01:25:26.119276Z",
     "start_time": "2020-03-12T01:17:53.649223Z"
    }
   },
   "outputs": [],
   "source": [
    "clean_articles = []\n",
    "iter_articles = (article for article in articles)\n",
    "for i, doc in enumerate(nlp.pipe(iter_articles, batch_size=100, n_process=8), 1):\n",
    "    if i % int(len(articles) / 100) + 1 == 0:\n",
    "        print(f'{i / len(articles):.1%}', end=' ', flush=True)\n",
    "    clean_articles.extend(clean_doc(doc))"
   ]
  },
  {
   "cell_type": "code",
   "execution_count": 15,
   "metadata": {
    "ExecuteTime": {
     "end_time": "2020-03-12T01:25:27.840084Z",
     "start_time": "2020-03-12T01:25:26.121376Z"
    }
   },
   "outputs": [
    {
     "data": {
      "text/plain": [
       "356653573"
      ]
     },
     "execution_count": 15,
     "metadata": {},
     "output_type": "execute_result"
    }
   ],
   "source": [
    "clean_article_path.write_text('\\n'.join(clean_articles))"
   ]
  },
  {
   "cell_type": "markdown",
   "metadata": {},
   "source": [
    "### Corpus Stats"
   ]
  },
  {
   "cell_type": "code",
   "execution_count": 16,
   "metadata": {
    "ExecuteTime": {
     "end_time": "2020-03-12T01:25:27.859032Z",
     "start_time": "2020-03-12T01:25:27.847656Z"
    }
   },
   "outputs": [
    {
     "data": {
      "text/plain": [
       "2986105"
      ]
     },
     "execution_count": 16,
     "metadata": {},
     "output_type": "execute_result"
    }
   ],
   "source": [
    "len(clean_articles)"
   ]
  },
  {
   "cell_type": "code",
   "execution_count": 17,
   "metadata": {
    "ExecuteTime": {
     "end_time": "2020-03-12T01:25:35.291020Z",
     "start_time": "2020-03-12T01:25:27.860412Z"
    }
   },
   "outputs": [],
   "source": [
    "vocab = Counter()\n",
    "sent_length = []\n",
    "for sentence in clean_articles:\n",
    "    tokens = sentence.lower().split()\n",
    "    sent_length.append(len(tokens))\n",
    "    vocab.update(tokens)"
   ]
  },
  {
   "cell_type": "code",
   "execution_count": 18,
   "metadata": {
    "ExecuteTime": {
     "end_time": "2020-03-12T01:25:35.295432Z",
     "start_time": "2020-03-12T01:25:35.292022Z"
    }
   },
   "outputs": [
    {
     "data": {
      "text/plain": [
       "2986105"
      ]
     },
     "execution_count": 18,
     "metadata": {},
     "output_type": "execute_result"
    }
   ],
   "source": [
    "len(sent_length)"
   ]
  },
  {
   "cell_type": "code",
   "execution_count": 19,
   "metadata": {
    "ExecuteTime": {
     "end_time": "2020-03-12T01:25:35.700760Z",
     "start_time": "2020-03-12T01:25:35.296819Z"
    }
   },
   "outputs": [
    {
     "data": {
      "text/plain": [
       "count   2,986,105.00\n",
       "mean           15.36\n",
       "std            20.68\n",
       "min             0.00\n",
       "10%             4.00\n",
       "20%             6.00\n",
       "30%             8.00\n",
       "40%            10.00\n",
       "50%            12.00\n",
       "60%            14.00\n",
       "70%            17.00\n",
       "80%            20.00\n",
       "90%            25.00\n",
       "max         6,910.00\n",
       "dtype: float64"
      ]
     },
     "execution_count": 19,
     "metadata": {},
     "output_type": "execute_result"
    }
   ],
   "source": [
    "pd.Series(sent_length).describe(percentiles=np.arange(.1, 1, .1).round(1))"
   ]
  },
  {
   "cell_type": "code",
   "execution_count": 20,
   "metadata": {
    "ExecuteTime": {
     "end_time": "2020-03-12T01:34:20.807435Z",
     "start_time": "2020-03-12T01:34:20.607838Z"
    }
   },
   "outputs": [],
   "source": [
    "most_common = (pd.DataFrame(vocab.most_common(), columns=['token', 'count'])\n",
    "               .pipe(lambda x: x[~x.token.str.lower().isin(stop_words)]))"
   ]
  },
  {
   "cell_type": "code",
   "execution_count": 21,
   "metadata": {
    "ExecuteTime": {
     "end_time": "2020-03-12T01:35:52.914190Z",
     "start_time": "2020-03-12T01:35:52.693135Z"
    }
   },
   "outputs": [
    {
     "data": {
      "image/png": "[encoded data removed]",
      "text/plain": [
       "<Figure size 1008x432 with 1 Axes>"
      ]
     },
     "metadata": {},
     "output_type": "display_data"
    }
   ],
   "source": [
    "most_common.head(25).set_index('token')['count'].sort_values().plot.barh(title='Most Common Tokens', figsize=(14, 6));"
   ]
  },
  {
   "cell_type": "markdown",
   "metadata": {
    "slideshow": {
     "slide_type": "slide"
    }
   },
   "source": [
    "### Inspect Result"
   ]
  },
  {
   "cell_type": "code",
   "execution_count": 22,
   "metadata": {
    "ExecuteTime": {
     "end_time": "2020-03-12T01:32:10.683102Z",
     "start_time": "2020-03-12T01:32:10.671888Z"
    },
    "slideshow": {
     "slide_type": "fragment"
    }
   },
   "outputs": [
    {
     "data": {
      "text/plain": [
       "['duluth allete inc',\n",
       " 'nyse ale today reported earnings share net income million operating revenue billion',\n",
       " 'results share net income million operating revenue billion']"
      ]
     },
     "execution_count": 22,
     "metadata": {},
     "output_type": "execute_result"
    }
   ],
   "source": [
    "clean_articles[:3]"
   ]
  },
  {
   "cell_type": "markdown",
   "metadata": {
    "slideshow": {
     "slide_type": "slide"
    }
   },
   "source": [
    "## Create n-grams"
   ]
  },
  {
   "cell_type": "code",
   "execution_count": 23,
   "metadata": {
    "ExecuteTime": {
     "end_time": "2020-03-12T01:40:32.674482Z",
     "start_time": "2020-03-12T01:40:32.668271Z"
    }
   },
   "outputs": [],
   "source": [
    "max_length = 3"
   ]
  },
  {
   "cell_type": "code",
   "execution_count": 26,
   "metadata": {
    "ExecuteTime": {
     "end_time": "2020-03-12T01:59:23.099362Z",
     "start_time": "2020-03-12T01:51:33.380309Z"
    },
    "slideshow": {
     "slide_type": "fragment"
    }
   },
   "outputs": [
    {
     "name": "stdout",
     "output_type": "stream",
     "text": [
      "2 3 \n",
      "\tDuration:  00:09:53\n",
      "\tngrams: 43,676\n",
      "\n",
      "length\n",
      "2    26965\n",
      "3    16711\n",
      "dtype: int64\n"
     ]
    }
   ],
   "source": [
    "n_grams = pd.DataFrame()\n",
    "start = time()\n",
    "sentences = LineSentence(clean_article_path.as_posix())\n",
    "for n in range(2, max_length + 1):\n",
    "    print(n, end=' ')\n",
    "    if n>2:\n",
    "        sentences = LineSentence((data_path / f'articles_{n-1}_grams.txt').as_posix())\n",
    "    phrases = Phrases(sentences, threshold=100, min_count=10)\n",
    "\n",
    "    s = pd.Series({k.decode('utf-8'): v for k,\n",
    "                   v in phrases.export_phrases(sentences)}) \n",
    "    s = s.to_frame('score').reset_index().rename(\n",
    "        columns={'index': 'phrase'}).assign(length=n)\n",
    "\n",
    "    n_grams = pd.concat([n_grams, s])\n",
    "    grams = Phraser(phrases)\n",
    "    sentences = grams[sentences]\n",
    "\n",
    "    with (data_path / f'articles_{n}_grams.txt').open('w') as f:\n",
    "        for sentence in sentences:\n",
    "            f.write(' '.join(sentence) + '\\n')\n",
    "\n",
    "n_grams = n_grams.sort_values('score', ascending=False)\n",
    "n_grams.phrase = n_grams.phrase.str.replace('_', ' ')\n",
    "n_grams['ngram'] = n_grams.phrase.str.replace(' ', '_')\n",
    "\n",
    "print('\\n\\tDuration: ', format_time(time() - start))\n",
    "print(f'\\tngrams: {len(n_grams):,d}\\n')\n",
    "print(n_grams.groupby('length').size())"
   ]
  },
  {
   "cell_type": "code",
   "execution_count": 27,
   "metadata": {
    "ExecuteTime": {
     "end_time": "2020-03-12T02:03:59.864250Z",
     "start_time": "2020-03-12T02:03:59.817289Z"
    }
   },
   "outputs": [
    {
     "data": {
      "text/html": [
       "<div>\n",
       "<style scoped>\n",
       "    .dataframe tbody tr th:only-of-type {\n",
       "        vertical-align: middle;\n",
       "    }\n",
       "\n",
       "    .dataframe tbody tr th {\n",
       "        vertical-align: top;\n",
       "    }\n",
       "\n",
       "    .dataframe thead th {\n",
       "        text-align: right;\n",
       "    }\n",
       "</style>\n",
       "<table border=\"1\" class=\"dataframe\">\n",
       "  <thead>\n",
       "    <tr style=\"text-align: right;\">\n",
       "      <th></th>\n",
       "      <th></th>\n",
       "      <th>phrase</th>\n",
       "      <th>score</th>\n",
       "      <th>length</th>\n",
       "      <th>ngram</th>\n",
       "    </tr>\n",
       "    <tr>\n",
       "      <th>length</th>\n",
       "      <th></th>\n",
       "      <th></th>\n",
       "      <th></th>\n",
       "      <th></th>\n",
       "      <th></th>\n",
       "    </tr>\n",
       "  </thead>\n",
       "  <tbody>\n",
       "    <tr>\n",
       "      <th rowspan=\"10\" valign=\"top\">2</th>\n",
       "      <th>17916</th>\n",
       "      <td>citigate dewe</td>\n",
       "      <td>182,365.18</td>\n",
       "      <td>2</td>\n",
       "      <td>citigate_dewe</td>\n",
       "    </tr>\n",
       "    <tr>\n",
       "      <th>23317</th>\n",
       "      <td>hidradenitis suppurativa</td>\n",
       "      <td>182,365.18</td>\n",
       "      <td>2</td>\n",
       "      <td>hidradenitis_suppurativa</td>\n",
       "    </tr>\n",
       "    <tr>\n",
       "      <th>13440</th>\n",
       "      <td>mukhammadsharif mamatkulov</td>\n",
       "      <td>182,365.18</td>\n",
       "      <td>2</td>\n",
       "      <td>mukhammadsharif_mamatkulov</td>\n",
       "    </tr>\n",
       "    <tr>\n",
       "      <th>11037</th>\n",
       "      <td>pracha hariraksapitak</td>\n",
       "      <td>182,365.18</td>\n",
       "      <td>2</td>\n",
       "      <td>pracha_hariraksapitak</td>\n",
       "    </tr>\n",
       "    <tr>\n",
       "      <th>18997</th>\n",
       "      <td>axalimogene filolisbac</td>\n",
       "      <td>181,951.65</td>\n",
       "      <td>2</td>\n",
       "      <td>axalimogene_filolisbac</td>\n",
       "    </tr>\n",
       "    <tr>\n",
       "      <th>24230</th>\n",
       "      <td>navesh chitrakar</td>\n",
       "      <td>181,951.65</td>\n",
       "      <td>2</td>\n",
       "      <td>navesh_chitrakar</td>\n",
       "    </tr>\n",
       "    <tr>\n",
       "      <th>25079</th>\n",
       "      <td>nidaa tounes</td>\n",
       "      <td>181,951.65</td>\n",
       "      <td>2</td>\n",
       "      <td>nidaa_tounes</td>\n",
       "    </tr>\n",
       "    <tr>\n",
       "      <th>12947</th>\n",
       "      <td>koustav samanta</td>\n",
       "      <td>181,951.65</td>\n",
       "      <td>2</td>\n",
       "      <td>koustav_samanta</td>\n",
       "    </tr>\n",
       "    <tr>\n",
       "      <th>14914</th>\n",
       "      <td>shilpa jamkhandikar</td>\n",
       "      <td>181,860.01</td>\n",
       "      <td>2</td>\n",
       "      <td>shilpa_jamkhandikar</td>\n",
       "    </tr>\n",
       "    <tr>\n",
       "      <th>24487</th>\n",
       "      <td>munkhchimeg davaasharav</td>\n",
       "      <td>181,860.01</td>\n",
       "      <td>2</td>\n",
       "      <td>munkhchimeg_davaasharav</td>\n",
       "    </tr>\n",
       "    <tr>\n",
       "      <th rowspan=\"10\" valign=\"top\">3</th>\n",
       "      <th>6432</th>\n",
       "      <td>dana reizniece ozola</td>\n",
       "      <td>189,351.40</td>\n",
       "      <td>3</td>\n",
       "      <td>dana_reizniece_ozola</td>\n",
       "    </tr>\n",
       "    <tr>\n",
       "      <th>10423</th>\n",
       "      <td>carson elder beerman herberger</td>\n",
       "      <td>189,351.40</td>\n",
       "      <td>3</td>\n",
       "      <td>carson_elder_beerman_herberger</td>\n",
       "    </tr>\n",
       "    <tr>\n",
       "      <th>13340</th>\n",
       "      <td>strategist janney montgomery scott</td>\n",
       "      <td>189,351.40</td>\n",
       "      <td>3</td>\n",
       "      <td>strategist_janney_montgomery_scott</td>\n",
       "    </tr>\n",
       "    <tr>\n",
       "      <th>13581</th>\n",
       "      <td>daniela palmieri jessica fitzgerald</td>\n",
       "      <td>189,351.40</td>\n",
       "      <td>3</td>\n",
       "      <td>daniela_palmieri_jessica_fitzgerald</td>\n",
       "    </tr>\n",
       "    <tr>\n",
       "      <th>7974</th>\n",
       "      <td>freshfields bruckhaus deringer</td>\n",
       "      <td>189,351.40</td>\n",
       "      <td>3</td>\n",
       "      <td>freshfields_bruckhaus_deringer</td>\n",
       "    </tr>\n",
       "    <tr>\n",
       "      <th>5610</th>\n",
       "      <td>writing fransiska nangoy</td>\n",
       "      <td>189,351.40</td>\n",
       "      <td>3</td>\n",
       "      <td>writing_fransiska_nangoy</td>\n",
       "    </tr>\n",
       "    <tr>\n",
       "      <th>11953</th>\n",
       "      <td>hgst sandisk tegile upthere</td>\n",
       "      <td>189,351.40</td>\n",
       "      <td>3</td>\n",
       "      <td>hgst_sandisk_tegile_upthere</td>\n",
       "    </tr>\n",
       "    <tr>\n",
       "      <th>16481</th>\n",
       "      <td>afinitor afinitor disperz</td>\n",
       "      <td>188,922.03</td>\n",
       "      <td>3</td>\n",
       "      <td>afinitor_afinitor_disperz</td>\n",
       "    </tr>\n",
       "    <tr>\n",
       "      <th>4506</th>\n",
       "      <td>spokesman baik tae hyun</td>\n",
       "      <td>188,922.03</td>\n",
       "      <td>3</td>\n",
       "      <td>spokesman_baik_tae_hyun</td>\n",
       "    </tr>\n",
       "    <tr>\n",
       "      <th>9167</th>\n",
       "      <td>hormone transcon pth transcon</td>\n",
       "      <td>188,922.03</td>\n",
       "      <td>3</td>\n",
       "      <td>hormone_transcon_pth_transcon</td>\n",
       "    </tr>\n",
       "  </tbody>\n",
       "</table>\n",
       "</div>"
      ],
      "text/plain": [
       "                                           phrase      score  length  \\\n",
       "length                                                                 \n",
       "2      17916                        citigate dewe 182,365.18       2   \n",
       "       23317             hidradenitis suppurativa 182,365.18       2   \n",
       "       13440           mukhammadsharif mamatkulov 182,365.18       2   \n",
       "       11037                pracha hariraksapitak 182,365.18       2   \n",
       "       18997               axalimogene filolisbac 181,951.65       2   \n",
       "       24230                     navesh chitrakar 181,951.65       2   \n",
       "       25079                         nidaa tounes 181,951.65       2   \n",
       "       12947                      koustav samanta 181,951.65       2   \n",
       "       14914                  shilpa jamkhandikar 181,860.01       2   \n",
       "       24487              munkhchimeg davaasharav 181,860.01       2   \n",
       "3      6432                  dana reizniece ozola 189,351.40       3   \n",
       "       10423       carson elder beerman herberger 189,351.40       3   \n",
       "       13340   strategist janney montgomery scott 189,351.40       3   \n",
       "       13581  daniela palmieri jessica fitzgerald 189,351.40       3   \n",
       "       7974        freshfields bruckhaus deringer 189,351.40       3   \n",
       "       5610              writing fransiska nangoy 189,351.40       3   \n",
       "       11953          hgst sandisk tegile upthere 189,351.40       3   \n",
       "       16481            afinitor afinitor disperz 188,922.03       3   \n",
       "       4506               spokesman baik tae hyun 188,922.03       3   \n",
       "       9167         hormone transcon pth transcon 188,922.03       3   \n",
       "\n",
       "                                            ngram  \n",
       "length                                             \n",
       "2      17916                        citigate_dewe  \n",
       "       23317             hidradenitis_suppurativa  \n",
       "       13440           mukhammadsharif_mamatkulov  \n",
       "       11037                pracha_hariraksapitak  \n",
       "       18997               axalimogene_filolisbac  \n",
       "       24230                     navesh_chitrakar  \n",
       "       25079                         nidaa_tounes  \n",
       "       12947                      koustav_samanta  \n",
       "       14914                  shilpa_jamkhandikar  \n",
       "       24487              munkhchimeg_davaasharav  \n",
       "3      6432                  dana_reizniece_ozola  \n",
       "       10423       carson_elder_beerman_herberger  \n",
       "       13340   strategist_janney_montgomery_scott  \n",
       "       13581  daniela_palmieri_jessica_fitzgerald  \n",
       "       7974        freshfields_bruckhaus_deringer  \n",
       "       5610              writing_fransiska_nangoy  \n",
       "       11953          hgst_sandisk_tegile_upthere  \n",
       "       16481            afinitor_afinitor_disperz  \n",
       "       4506               spokesman_baik_tae_hyun  \n",
       "       9167         hormone_transcon_pth_transcon  "
      ]
     },
     "execution_count": 27,
     "metadata": {},
     "output_type": "execute_result"
    }
   ],
   "source": [
    "n_grams.groupby('length').apply(lambda x: x.nlargest(10, 'score'))"
   ]
  }
 ],
 "metadata": {
  "celltoolbar": "Slideshow",
  "kernelspec": {
   "display_name": "Python 3",
   "language": "python",
   "name": "python3"
  },
  "language_info": {
   "codemirror_mode": {
    "name": "ipython",
    "version": 3
   },
   "file_extension": ".py",
   "mimetype": "text/x-python",
   "name": "python",
   "nbconvert_exporter": "python",
   "pygments_lexer": "ipython3",
   "version": "3.8.3"
  },
  "toc": {
   "base_numbering": 1,
   "nav_menu": {},
   "number_sections": true,
   "sideBar": true,
   "skip_h1_title": true,
   "title_cell": "Table of Contents",
   "title_sidebar": "Contents",
   "toc_cell": false,
   "toc_position": {
    "height": "47px",
    "left": "1227px",
    "top": "40px",
    "width": "212px"
   },
   "toc_section_display": true,
   "toc_window_display": true
  }
 },
 "nbformat": 4,
 "nbformat_minor": 4
}
