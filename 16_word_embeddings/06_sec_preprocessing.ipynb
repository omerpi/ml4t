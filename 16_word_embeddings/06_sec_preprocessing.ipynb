{
 "cells": [
  {
   "cell_type": "markdown",
   "metadata": {},
   "source": [
    "# Word vectors from SEC filings using gensim"
   ]
  },
  {
   "cell_type": "markdown",
   "metadata": {},
   "source": [
    "In this section, we will learn word and phrase vectors from annual SEC filings using gensim to illustrate the potential value of word embeddings for algorithmic trading. In the following sections, we will combine these vectors as features with price returns to train neural networks to predict equity prices from the content of security filings.\n",
    "\n",
    "In particular, we use a dataset containing over 22,000 10-K annual reports from the period 2013-2016 that are filed by listed companies and contain both financial information and management commentary (see chapter 3 on Alternative Data). For about half of 11K filings for companies that we have stock prices to label the data for predictive modeling"
   ]
  },
  {
   "cell_type": "markdown",
   "metadata": {},
   "source": [
    "## Imports & Settings"
   ]
  },
  {
   "cell_type": "code",
   "execution_count": 24,
   "metadata": {
    "ExecuteTime": {
     "end_time": "2020-03-13T01:54:11.620397Z",
     "start_time": "2020-03-13T01:54:10.928039Z"
    }
   },
   "outputs": [],
   "source": [
    "from dateutil.relativedelta import relativedelta\n",
    "from pathlib import Path\n",
    "import numpy as np\n",
    "import pandas as pd\n",
    "from time import time\n",
    "from collections import Counter\n",
    "import logging\n",
    "import spacy\n",
    "\n",
    "from gensim.models import Word2Vec\n",
    "from gensim.models.word2vec import LineSentence\n",
    "from gensim.models.phrases import Phrases, Phraser"
   ]
  },
  {
   "cell_type": "code",
   "execution_count": 2,
   "metadata": {
    "ExecuteTime": {
     "end_time": "2020-03-13T01:54:12.239533Z",
     "start_time": "2020-03-13T01:54:12.232378Z"
    }
   },
   "outputs": [],
   "source": [
    "pd.set_option('display.expand_frame_repr', False)\n",
    "np.random.seed(42)"
   ]
  },
  {
   "cell_type": "code",
   "execution_count": 3,
   "metadata": {
    "ExecuteTime": {
     "end_time": "2020-03-13T01:54:12.598371Z",
     "start_time": "2020-03-13T01:54:12.590324Z"
    }
   },
   "outputs": [],
   "source": [
    "def format_time(t):\n",
    "    m, s = divmod(t, 60)\n",
    "    h, m = divmod(m, 60)\n",
    "    return f'{h:02.0f}:{m:02.0f}:{s:02.0f}'"
   ]
  },
  {
   "cell_type": "markdown",
   "metadata": {},
   "source": [
    "### Logging Setup"
   ]
  },
  {
   "cell_type": "code",
   "execution_count": 4,
   "metadata": {
    "ExecuteTime": {
     "end_time": "2020-03-13T01:54:13.623249Z",
     "start_time": "2020-03-13T01:54:13.615030Z"
    }
   },
   "outputs": [],
   "source": [
    "logging.basicConfig(\n",
    "        filename='preprocessing.log',\n",
    "        level=logging.DEBUG,\n",
    "        format='%(asctime)s - %(name)s - %(levelname)s - %(message)s',\n",
    "        datefmt='%H:%M:%S')"
   ]
  },
  {
   "cell_type": "markdown",
   "metadata": {},
   "source": [
    "## Data Download"
   ]
  },
  {
   "cell_type": "markdown",
   "metadata": {},
   "source": [
    "The data can be downloaded from [here](https://drive.google.com/uc?id=0B4NK0q0tDtLFendmeHNsYzNVZ2M&export=download). Unzip, move into `data` folder and rename to `filings`."
   ]
  },
  {
   "cell_type": "markdown",
   "metadata": {},
   "source": [
    "### Paths"
   ]
  },
  {
   "cell_type": "markdown",
   "metadata": {},
   "source": [
    "Each filing is a separate text file and a master index contains filing metadata. We extract the most informative sections, namely\n",
    "- Item 1 and 1A: Business and Risk Factors\n",
    "- Item 7 and 7A: Management's Discussion and Disclosures about Market Risks\n",
    "\n",
    "The notebook preprocessing shows how to parse and tokenize the text using spaCy, similar to the approach in chapter 14. We do not lemmatize the tokens to preserve nuances of word usage.\n",
    "\n",
    "We use gensim to detect phrases. The Phrases module scores the tokens and the Phraser class transforms the text data accordingly. The notebook shows how to repeat the process to create longer phrases."
   ]
  },
  {
   "cell_type": "code",
   "execution_count": 5,
   "metadata": {
    "ExecuteTime": {
     "end_time": "2020-03-13T01:54:51.792204Z",
     "start_time": "2020-03-13T01:54:51.784335Z"
    }
   },
   "outputs": [],
   "source": [
    "sec_path = Path('data', 'sec-filings')\n",
    "data_path = sec_path / 'data'\n",
    "filing_path = data_path / 'filings'\n",
    "sections_path = data_path / 'sections'"
   ]
  },
  {
   "cell_type": "code",
   "execution_count": 6,
   "metadata": {
    "ExecuteTime": {
     "end_time": "2020-03-13T01:54:51.959065Z",
     "start_time": "2020-03-13T01:54:51.952040Z"
    }
   },
   "outputs": [],
   "source": [
    "if not sections_path.exists():\n",
    "    sections_path.mkdir(exist_ok=True, parents=True)"
   ]
  },
  {
   "cell_type": "markdown",
   "metadata": {},
   "source": [
    "## Identify Sections"
   ]
  },
  {
   "cell_type": "code",
   "execution_count": 7,
   "metadata": {
    "ExecuteTime": {
     "end_time": "2020-03-12T15:37:16.124769Z",
     "start_time": "2020-03-12T15:28:32.188978Z"
    }
   },
   "outputs": [],
   "source": [
    "for i, filing in enumerate(filing_path.glob('*.txt'), 1):\n",
    "    if i % 500 == 0:\n",
    "        print(i, end=' ', flush=True)\n",
    "    filing_id = int(filing.stem)\n",
    "    items = {}\n",
    "    for section in filing.read_text().lower().split('°'):\n",
    "        if section.startswith('item '):\n",
    "            if len(section.split()) > 1:\n",
    "                item = section.split()[1].replace('.', '').replace(':', '').replace(',', '')\n",
    "                text = ' '.join([t for t in section.split()[2:]])\n",
    "                if items.get(item) is None or len(items.get(item)) < len(text):\n",
    "                    items[item] = text\n",
    "\n",
    "    txt = pd.Series(items).reset_index()\n",
    "    txt.columns = ['item', 'text']\n",
    "    txt.to_csv(sections_path / (filing.stem + '.csv'), index=False)"
   ]
  },
  {
   "cell_type": "markdown",
   "metadata": {},
   "source": [
    "## Parse Sections"
   ]
  },
  {
   "cell_type": "markdown",
   "metadata": {},
   "source": [
    "Select the following sections:"
   ]
  },
  {
   "cell_type": "code",
   "execution_count": 8,
   "metadata": {
    "ExecuteTime": {
     "end_time": "2020-03-12T19:21:10.742425Z",
     "start_time": "2020-03-12T19:21:10.739901Z"
    }
   },
   "outputs": [],
   "source": [
    "sections = ['1', '1a', '7', '7a']"
   ]
  },
  {
   "cell_type": "code",
   "execution_count": 9,
   "metadata": {
    "ExecuteTime": {
     "end_time": "2020-03-13T01:55:19.751523Z",
     "start_time": "2020-03-13T01:55:19.748652Z"
    }
   },
   "outputs": [],
   "source": [
    "clean_path = data_path / 'selected_sections'\n",
    "if not clean_path.exists():\n",
    "    clean_path.mkdir(exist_ok=True)"
   ]
  },
  {
   "cell_type": "code",
   "execution_count": 10,
   "metadata": {
    "ExecuteTime": {
     "end_time": "2020-03-12T19:23:05.930128Z",
     "start_time": "2020-03-12T19:23:05.494675Z"
    }
   },
   "outputs": [],
   "source": [
    "nlp = spacy.load('en', disable=['ner'])\n",
    "nlp.max_length = 6000000"
   ]
  },
  {
   "cell_type": "code",
   "execution_count": 11,
   "metadata": {
    "ExecuteTime": {
     "end_time": "2020-03-12T19:40:00.091199Z",
     "start_time": "2020-03-12T19:38:01.020708Z"
    }
   },
   "outputs": [],
   "source": [
    "vocab = Counter()\n",
    "t = total_tokens = 0\n",
    "stats = []\n",
    "\n",
    "start = time()\n",
    "to_do = len(list(sections_path.glob('*.csv')))\n",
    "done = len(list(sections_path.glob('*.csv')))\n",
    "for text_file in sections_path.glob('*.csv'):\n",
    "    file_id = int(text_file.stem)\n",
    "    clean_file = clean_path / f'{file_id}.csv'\n",
    "    if clean_file.exists():\n",
    "        continue\n",
    "    items = pd.read_csv(text_file).dropna()\n",
    "    items.item = items.item.astype(str)\n",
    "    items = items[items.item.isin(sections)]\n",
    "    if done % 100 == 0:\n",
    "        duration = time() - start\n",
    "        to_go = (to_do - done) * duration / done\n",
    "        print(f'{done:>5}\\t{format_time(duration)}\\t{total_tokens / duration:,.0f}\\t{format_time(to_go)}')\n",
    "    \n",
    "    clean_doc = []\n",
    "    for _, (item, text) in items.iterrows():\n",
    "        doc = nlp(text)\n",
    "        for s, sentence in enumerate(doc.sents):\n",
    "            clean_sentence = []\n",
    "            if sentence is not None:\n",
    "                for t, token in enumerate(sentence, 1):\n",
    "                    if not any([token.is_stop,\n",
    "                                token.is_digit,\n",
    "                                not token.is_alpha,\n",
    "                                token.is_punct,\n",
    "                                token.is_space,\n",
    "                                token.lemma_ == '-PRON-',\n",
    "                                token.pos_ in ['PUNCT', 'SYM', 'X']]):\n",
    "                        clean_sentence.append(token.text.lower())\n",
    "                total_tokens += t\n",
    "                if len(clean_sentence) > 0:\n",
    "                    clean_doc.append([item, s, ' '.join(clean_sentence)])\n",
    "    (pd.DataFrame(clean_doc,\n",
    "                  columns=['item', 'sentence', 'text'])\n",
    "     .dropna()\n",
    "     .to_csv(clean_file, index=False))\n",
    "    done += 1"
   ]
  },
  {
   "cell_type": "markdown",
   "metadata": {},
   "source": [
    "## Create ngrams"
   ]
  },
  {
   "cell_type": "code",
   "execution_count": 12,
   "metadata": {
    "ExecuteTime": {
     "end_time": "2020-03-13T01:55:46.973193Z",
     "start_time": "2020-03-13T01:55:46.963922Z"
    }
   },
   "outputs": [],
   "source": [
    "ngram_path = data_path / 'ngrams'\n",
    "stats_path = sec_path / 'corpus_stats'\n",
    "for path in [ngram_path, stats_path]:\n",
    "    if not path.exists():\n",
    "        path.mkdir(parents=Treu)"
   ]
  },
  {
   "cell_type": "code",
   "execution_count": 13,
   "metadata": {},
   "outputs": [],
   "source": [
    "unigrams = ngram_path / 'ngrams_1.txt'"
   ]
  },
  {
   "cell_type": "code",
   "execution_count": 20,
   "metadata": {
    "ExecuteTime": {
     "end_time": "2020-03-12T15:27:52.625075Z",
     "start_time": "2020-03-12T15:27:51.640Z"
    }
   },
   "outputs": [],
   "source": [
    "def create_unigrams(min_length=3):\n",
    "    texts = []\n",
    "    sentence_counter = Counter()\n",
    "    vocab = Counter()\n",
    "    for i, f in enumerate(clean_path.glob('*.csv')):\n",
    "        if i % 1000 == 0:\n",
    "            print(i, end=' ', flush=True)\n",
    "        df = pd.read_csv(f)\n",
    "        df.item = df.item.astype(str)\n",
    "        df = df[df.item.isin(sections)]\n",
    "        sentence_counter.update(df.groupby('item').size().to_dict())\n",
    "        for sentence in df.text.dropna().str.split().tolist():\n",
    "            if len(sentence) >= min_length:\n",
    "                vocab.update(sentence)\n",
    "                texts.append(' '.join(sentence))\n",
    "    \n",
    "    (pd.DataFrame(sentence_counter.most_common(), \n",
    "                  columns=['item', 'sentences'])\n",
    "     .to_csv(stats_path / 'selected_sentences.csv', index=False))\n",
    "    (pd.DataFrame(vocab.most_common(), columns=['token', 'n'])\n",
    "     .to_csv(stats_path / 'sections_vocab.csv', index=False))\n",
    "    \n",
    "    unigrams.write_text('\\n'.join(texts))\n",
    "    return [l.split() for l in texts]"
   ]
  },
  {
   "cell_type": "code",
   "execution_count": 21,
   "metadata": {
    "ExecuteTime": {
     "end_time": "2020-03-12T15:27:52.626680Z",
     "start_time": "2020-03-12T15:27:51.644Z"
    }
   },
   "outputs": [
    {
     "name": "stdout",
     "output_type": "stream",
     "text": [
      "0 1000 2000 3000 4000 5000 6000 7000 8000 9000 10000 11000 12000 13000 14000 15000 16000 17000 18000 19000 20000 21000 22000 Reading:  00:03:51\n"
     ]
    }
   ],
   "source": [
    "start = time()\n",
    "if not unigrams.exists():\n",
    "    texts = create_unigrams()\n",
    "else:\n",
    "    texts = [l.split() for l in unigrams.open()]\n",
    "print('\\nReading: ', format_time(time() - start))"
   ]
  },
  {
   "cell_type": "code",
   "execution_count": 35,
   "metadata": {
    "ExecuteTime": {
     "end_time": "2020-03-12T19:58:43.017413Z",
     "start_time": "2020-03-12T19:58:43.007647Z"
    }
   },
   "outputs": [],
   "source": [
    "def create_ngrams(max_length=3):\n",
    "    \"\"\"Using gensim to create ngrams\"\"\"\n",
    "\n",
    "    n_grams = pd.DataFrame()\n",
    "    start = time()\n",
    "    for n in range(2, max_length + 1):\n",
    "        print(n, end=' ', flush=True)\n",
    "\n",
    "        sentences = LineSentence(ngram_path / f'ngrams_{n - 1}.txt')\n",
    "        phrases = Phrases(sentences=sentences,\n",
    "                          min_count=25,  # ignore terms with a lower count\n",
    "                          threshold=0.5,  # accept phrases with higher score\n",
    "                          max_vocab_size=40000000,  # prune of less common words to limit memory use\n",
    "                          delimiter=b'_',  # how to join ngram tokens\n",
    "                          progress_per=50000,  # log progress every\n",
    "                          scoring='npmi')\n",
    "\n",
    "        s = pd.DataFrame([[k.decode('utf-8'), v]\n",
    "                          for k, v in phrases.export_phrases(sentences)]\n",
    "                         , columns=['phrase', 'score']).assign(length=n)\n",
    "\n",
    "        n_grams = pd.concat([n_grams, s])\n",
    "        grams = Phraser(phrases)\n",
    "        sentences = grams[sentences]\n",
    "        (ngram_path / f'ngrams_{n}.txt').write_text('\\n'.join([' '.join(s) for s in sentences]))\n",
    "\n",
    "    n_grams = n_grams.sort_values('score', ascending=False)\n",
    "    n_grams.phrase = n_grams.phrase.str.replace('_', ' ')\n",
    "    n_grams['ngram'] = n_grams.phrase.str.replace(' ', '_')\n",
    "\n",
    "    n_grams.to_parquet(data_path / 'ngrams.parquet')\n",
    "\n",
    "    print('\\n\\tDuration: ', format_time(time() - start))\n",
    "    print('\\tngrams: {:,d}\\n'.format(len(n_grams)))\n",
    "    print(n_grams.groupby('length').size())"
   ]
  },
  {
   "cell_type": "code",
   "execution_count": 36,
   "metadata": {
    "ExecuteTime": {
     "end_time": "2020-03-12T15:27:52.629711Z",
     "start_time": "2020-03-12T15:27:51.653Z"
    }
   },
   "outputs": [
    {
     "name": "stdout",
     "output_type": "stream",
     "text": [
      "2 3 \n",
      "\tDuration:  00:49:34\n",
      "\tngrams: 38,631,962\n",
      "\n",
      "length\n",
      "2    27740526\n",
      "3    10891436\n",
      "dtype: int64\n"
     ]
    }
   ],
   "source": [
    "create_ngrams()"
   ]
  },
  {
   "cell_type": "markdown",
   "metadata": {},
   "source": [
    "## Inspect Corpus"
   ]
  },
  {
   "cell_type": "code",
   "execution_count": 37,
   "metadata": {
    "ExecuteTime": {
     "end_time": "2020-03-12T20:26:25.368019Z",
     "start_time": "2020-03-12T20:24:04.152630Z"
    }
   },
   "outputs": [],
   "source": [
    "nsents, ntokens = Counter(), Counter()\n",
    "for f in clean_path.glob('*.csv'):\n",
    "    df = pd.read_csv(f)\n",
    "    nsents.update({str(k): v for k, v in df.item.value_counts().to_dict().items()})\n",
    "    df['ntokens'] = df.text.str.split().str.len()\n",
    "    ntokens.update({str(k): v for k, v in df.groupby('item').ntokens.sum().to_dict().items()})"
   ]
  },
  {
   "cell_type": "code",
   "execution_count": 38,
   "metadata": {
    "ExecuteTime": {
     "end_time": "2020-03-12T20:32:56.856974Z",
     "start_time": "2020-03-12T20:32:56.852476Z"
    }
   },
   "outputs": [],
   "source": [
    "ntokens = pd.DataFrame(ntokens.most_common(), columns=['Item', '# Tokens'])\n",
    "nsents = pd.DataFrame(nsents.most_common(), columns=['Item', '# Sentences'])"
   ]
  },
  {
   "cell_type": "code",
   "execution_count": 39,
   "metadata": {
    "ExecuteTime": {
     "end_time": "2020-03-12T20:33:58.031360Z",
     "start_time": "2020-03-12T20:33:57.890457Z"
    }
   },
   "outputs": [
    {
     "data": {
      "image/png": "[encoded data removed]",
      "text/plain": [
       "<Figure size 432x288 with 2 Axes>"
      ]
     },
     "metadata": {
      "needs_background": "light"
     },
     "output_type": "display_data"
    }
   ],
   "source": [
    "nsents.set_index('Item').join(ntokens.set_index('Item')).plot.bar(secondary_y='# Tokens', rot=0);"
   ]
  },
  {
   "cell_type": "code",
   "execution_count": 41,
   "metadata": {
    "ExecuteTime": {
     "end_time": "2020-03-12T19:41:39.044956Z",
     "start_time": "2020-03-12T19:41:38.690113Z"
    }
   },
   "outputs": [],
   "source": [
    "ngrams = pd.read_parquet(data_path / 'ngrams.parquet')"
   ]
  },
  {
   "cell_type": "code",
   "execution_count": 42,
   "metadata": {
    "ExecuteTime": {
     "end_time": "2020-03-12T19:41:39.122594Z",
     "start_time": "2020-03-12T19:41:39.084910Z"
    }
   },
   "outputs": [
    {
     "name": "stdout",
     "output_type": "stream",
     "text": [
      "<class 'pandas.core.frame.DataFrame'>\n",
      "Int64Index: 38631962 entries, 9727751 to 15565228\n",
      "Data columns (total 4 columns):\n",
      " #   Column  Dtype  \n",
      "---  ------  -----  \n",
      " 0   phrase  object \n",
      " 1   score   float64\n",
      " 2   length  int64  \n",
      " 3   ngram   object \n",
      "dtypes: float64(1), int64(1), object(2)\n",
      "memory usage: 1.4+ GB\n"
     ]
    }
   ],
   "source": [
    "ngrams.info()"
   ]
  },
  {
   "cell_type": "code",
   "execution_count": 47,
   "metadata": {},
   "outputs": [
    {
     "data": {
      "text/html": [
       "<div>\n",
       "<style scoped>\n",
       "    .dataframe tbody tr th:only-of-type {\n",
       "        vertical-align: middle;\n",
       "    }\n",
       "\n",
       "    .dataframe tbody tr th {\n",
       "        vertical-align: top;\n",
       "    }\n",
       "\n",
       "    .dataframe thead th {\n",
       "        text-align: right;\n",
       "    }\n",
       "</style>\n",
       "<table border=\"1\" class=\"dataframe\">\n",
       "  <thead>\n",
       "    <tr style=\"text-align: right;\">\n",
       "      <th></th>\n",
       "      <th>phrase</th>\n",
       "      <th>score</th>\n",
       "      <th>length</th>\n",
       "      <th>ngram</th>\n",
       "    </tr>\n",
       "  </thead>\n",
       "  <tbody>\n",
       "    <tr>\n",
       "      <th>9727751</th>\n",
       "      <td>seasons punta mita resort</td>\n",
       "      <td>1.0</td>\n",
       "      <td>3</td>\n",
       "      <td>seasons_punta_mita_resort</td>\n",
       "    </tr>\n",
       "    <tr>\n",
       "      <th>2111772</th>\n",
       "      <td>compels removal lawful billboard</td>\n",
       "      <td>1.0</td>\n",
       "      <td>3</td>\n",
       "      <td>compels_removal_lawful_billboard</td>\n",
       "    </tr>\n",
       "    <tr>\n",
       "      <th>1883872</th>\n",
       "      <td>india sri lanka</td>\n",
       "      <td>1.0</td>\n",
       "      <td>3</td>\n",
       "      <td>india_sri_lanka</td>\n",
       "    </tr>\n",
       "    <tr>\n",
       "      <th>1883874</th>\n",
       "      <td>india sri lanka</td>\n",
       "      <td>1.0</td>\n",
       "      <td>3</td>\n",
       "      <td>india_sri_lanka</td>\n",
       "    </tr>\n",
       "    <tr>\n",
       "      <th>1883876</th>\n",
       "      <td>india sri lanka</td>\n",
       "      <td>1.0</td>\n",
       "      <td>3</td>\n",
       "      <td>india_sri_lanka</td>\n",
       "    </tr>\n",
       "  </tbody>\n",
       "</table>\n",
       "</div>"
      ],
      "text/plain": [
       "                                   phrase  score  length                             ngram\n",
       "9727751         seasons punta mita resort    1.0       3         seasons_punta_mita_resort\n",
       "2111772  compels removal lawful billboard    1.0       3  compels_removal_lawful_billboard\n",
       "1883872                   india sri lanka    1.0       3                   india_sri_lanka\n",
       "1883874                   india sri lanka    1.0       3                   india_sri_lanka\n",
       "1883876                   india sri lanka    1.0       3                   india_sri_lanka"
      ]
     },
     "execution_count": 47,
     "metadata": {},
     "output_type": "execute_result"
    }
   ],
   "source": [
    "ngrams.head()"
   ]
  },
  {
   "cell_type": "code",
   "execution_count": 43,
   "metadata": {
    "ExecuteTime": {
     "end_time": "2020-03-12T19:41:41.130478Z",
     "start_time": "2020-03-12T19:41:41.080559Z"
    }
   },
   "outputs": [
    {
     "data": {
      "text/plain": [
       "count    3.863196e+07\n",
       "mean     6.591030e-01\n",
       "std      1.267509e-01\n",
       "min      5.000002e-01\n",
       "10%      5.164282e-01\n",
       "20%      5.363954e-01\n",
       "30%      5.637752e-01\n",
       "40%      5.924836e-01\n",
       "50%      6.235732e-01\n",
       "60%      6.748381e-01\n",
       "70%      7.190586e-01\n",
       "80%      7.832695e-01\n",
       "90%      8.396440e-01\n",
       "max      1.000000e+00\n",
       "Name: score, dtype: float64"
      ]
     },
     "execution_count": 43,
     "metadata": {},
     "output_type": "execute_result"
    }
   ],
   "source": [
    "percentiles=np.arange(.1, 1, .1).round(2)\n",
    "ngrams.score.describe(percentiles=percentiles)"
   ]
  },
  {
   "cell_type": "code",
   "execution_count": 44,
   "metadata": {
    "ExecuteTime": {
     "end_time": "2020-03-12T19:41:44.116025Z",
     "start_time": "2020-03-12T19:41:44.044572Z"
    }
   },
   "outputs": [
    {
     "data": {
      "text/html": [
       "<div>\n",
       "<style scoped>\n",
       "    .dataframe tbody tr th:only-of-type {\n",
       "        vertical-align: middle;\n",
       "    }\n",
       "\n",
       "    .dataframe tbody tr th {\n",
       "        vertical-align: top;\n",
       "    }\n",
       "\n",
       "    .dataframe thead th {\n",
       "        text-align: right;\n",
       "    }\n",
       "</style>\n",
       "<table border=\"1\" class=\"dataframe\">\n",
       "  <thead>\n",
       "    <tr style=\"text-align: right;\">\n",
       "      <th></th>\n",
       "      <th>phrase</th>\n",
       "      <th>score</th>\n",
       "      <th>length</th>\n",
       "      <th>ngram</th>\n",
       "    </tr>\n",
       "  </thead>\n",
       "  <tbody>\n",
       "    <tr>\n",
       "      <th>15151151</th>\n",
       "      <td>einstein bros</td>\n",
       "      <td>0.700053</td>\n",
       "      <td>2</td>\n",
       "      <td>einstein_bros</td>\n",
       "    </tr>\n",
       "    <tr>\n",
       "      <th>15151109</th>\n",
       "      <td>einstein bros</td>\n",
       "      <td>0.700053</td>\n",
       "      <td>2</td>\n",
       "      <td>einstein_bros</td>\n",
       "    </tr>\n",
       "    <tr>\n",
       "      <th>15151039</th>\n",
       "      <td>einstein bros</td>\n",
       "      <td>0.700053</td>\n",
       "      <td>2</td>\n",
       "      <td>einstein_bros</td>\n",
       "    </tr>\n",
       "    <tr>\n",
       "      <th>535508</th>\n",
       "      <td>einstein bros</td>\n",
       "      <td>0.700053</td>\n",
       "      <td>2</td>\n",
       "      <td>einstein_bros</td>\n",
       "    </tr>\n",
       "    <tr>\n",
       "      <th>15151260</th>\n",
       "      <td>einstein bros</td>\n",
       "      <td>0.700053</td>\n",
       "      <td>2</td>\n",
       "      <td>einstein_bros</td>\n",
       "    </tr>\n",
       "    <tr>\n",
       "      <th>535560</th>\n",
       "      <td>einstein bros</td>\n",
       "      <td>0.700053</td>\n",
       "      <td>2</td>\n",
       "      <td>einstein_bros</td>\n",
       "    </tr>\n",
       "    <tr>\n",
       "      <th>15151038</th>\n",
       "      <td>einstein bros</td>\n",
       "      <td>0.700053</td>\n",
       "      <td>2</td>\n",
       "      <td>einstein_bros</td>\n",
       "    </tr>\n",
       "    <tr>\n",
       "      <th>15151063</th>\n",
       "      <td>einstein bros</td>\n",
       "      <td>0.700053</td>\n",
       "      <td>2</td>\n",
       "      <td>einstein_bros</td>\n",
       "    </tr>\n",
       "    <tr>\n",
       "      <th>15151102</th>\n",
       "      <td>einstein bros</td>\n",
       "      <td>0.700053</td>\n",
       "      <td>2</td>\n",
       "      <td>einstein_bros</td>\n",
       "    </tr>\n",
       "    <tr>\n",
       "      <th>535566</th>\n",
       "      <td>einstein bros</td>\n",
       "      <td>0.700053</td>\n",
       "      <td>2</td>\n",
       "      <td>einstein_bros</td>\n",
       "    </tr>\n",
       "  </tbody>\n",
       "</table>\n",
       "</div>"
      ],
      "text/plain": [
       "                 phrase     score  length          ngram\n",
       "15151151  einstein bros  0.700053       2  einstein_bros\n",
       "15151109  einstein bros  0.700053       2  einstein_bros\n",
       "15151039  einstein bros  0.700053       2  einstein_bros\n",
       "535508    einstein bros  0.700053       2  einstein_bros\n",
       "15151260  einstein bros  0.700053       2  einstein_bros\n",
       "535560    einstein bros  0.700053       2  einstein_bros\n",
       "15151038  einstein bros  0.700053       2  einstein_bros\n",
       "15151063  einstein bros  0.700053       2  einstein_bros\n",
       "15151102  einstein bros  0.700053       2  einstein_bros\n",
       "535566    einstein bros  0.700053       2  einstein_bros"
      ]
     },
     "execution_count": 44,
     "metadata": {},
     "output_type": "execute_result"
    }
   ],
   "source": [
    "ngrams[ngrams.score>.7].sort_values(['length', 'score']).head(10)"
   ]
  },
  {
   "cell_type": "code",
   "execution_count": 48,
   "metadata": {
    "ExecuteTime": {
     "end_time": "2020-03-12T19:41:58.004407Z",
     "start_time": "2020-03-12T19:41:57.914806Z"
    }
   },
   "outputs": [],
   "source": [
    "vocab = pd.read_csv(stats_path / 'sections_vocab.csv').dropna()"
   ]
  },
  {
   "cell_type": "code",
   "execution_count": 49,
   "metadata": {
    "ExecuteTime": {
     "end_time": "2020-03-12T19:41:58.113060Z",
     "start_time": "2020-03-12T19:41:58.103023Z"
    }
   },
   "outputs": [
    {
     "name": "stdout",
     "output_type": "stream",
     "text": [
      "<class 'pandas.core.frame.DataFrame'>\n",
      "Int64Index: 200829 entries, 0 to 200830\n",
      "Data columns (total 2 columns):\n",
      " #   Column  Non-Null Count   Dtype \n",
      "---  ------  --------------   ----- \n",
      " 0   token   200829 non-null  object\n",
      " 1   n       200829 non-null  int64 \n",
      "dtypes: int64(1), object(1)\n",
      "memory usage: 4.6+ MB\n"
     ]
    }
   ],
   "source": [
    "vocab.info()"
   ]
  },
  {
   "cell_type": "code",
   "execution_count": 50,
   "metadata": {
    "ExecuteTime": {
     "end_time": "2020-03-12T19:42:00.859820Z",
     "start_time": "2020-03-12T19:42:00.834537Z"
    }
   },
   "outputs": [
    {
     "data": {
      "text/plain": [
       "count     200829\n",
       "mean        1440\n",
       "std        22343\n",
       "min            1\n",
       "10%            1\n",
       "20%            2\n",
       "30%            3\n",
       "40%            4\n",
       "50%            7\n",
       "60%           12\n",
       "70%           24\n",
       "80%           61\n",
       "90%          259\n",
       "max      2574546\n",
       "Name: n, dtype: int64"
      ]
     },
     "execution_count": 50,
     "metadata": {},
     "output_type": "execute_result"
    }
   ],
   "source": [
    "vocab.n.describe(percentiles).astype(int)"
   ]
  },
  {
   "cell_type": "code",
   "execution_count": 52,
   "metadata": {
    "ExecuteTime": {
     "end_time": "2020-03-12T19:43:01.139769Z",
     "start_time": "2020-03-12T19:42:01.152189Z"
    }
   },
   "outputs": [],
   "source": [
    "tokens = Counter()\n",
    "for l in (ngram_path / 'ngrams_3.txt').open():\n",
    "    tokens.update(l.split())"
   ]
  },
  {
   "cell_type": "code",
   "execution_count": 53,
   "metadata": {
    "ExecuteTime": {
     "end_time": "2020-03-12T19:43:01.650946Z",
     "start_time": "2020-03-12T19:43:01.140984Z"
    }
   },
   "outputs": [],
   "source": [
    "tokens = pd.DataFrame(tokens.most_common(),\n",
    "                     columns=['token', 'count'])"
   ]
  },
  {
   "cell_type": "code",
   "execution_count": 54,
   "metadata": {
    "ExecuteTime": {
     "end_time": "2020-03-12T19:43:01.700643Z",
     "start_time": "2020-03-12T19:43:01.652025Z"
    }
   },
   "outputs": [
    {
     "name": "stdout",
     "output_type": "stream",
     "text": [
      "<class 'pandas.core.frame.DataFrame'>\n",
      "RangeIndex: 247885 entries, 0 to 247884\n",
      "Data columns (total 2 columns):\n",
      " #   Column  Non-Null Count   Dtype \n",
      "---  ------  --------------   ----- \n",
      " 0   token   247885 non-null  object\n",
      " 1   count   247885 non-null  int64 \n",
      "dtypes: int64(1), object(1)\n",
      "memory usage: 3.8+ MB\n"
     ]
    }
   ],
   "source": [
    "tokens.info()"
   ]
  },
  {
   "cell_type": "code",
   "execution_count": 55,
   "metadata": {
    "ExecuteTime": {
     "end_time": "2020-03-12T20:05:00.579074Z",
     "start_time": "2020-03-12T20:05:00.573204Z"
    }
   },
   "outputs": [
    {
     "data": {
      "text/html": [
       "<div>\n",
       "<style scoped>\n",
       "    .dataframe tbody tr th:only-of-type {\n",
       "        vertical-align: middle;\n",
       "    }\n",
       "\n",
       "    .dataframe tbody tr th {\n",
       "        vertical-align: top;\n",
       "    }\n",
       "\n",
       "    .dataframe thead th {\n",
       "        text-align: right;\n",
       "    }\n",
       "</style>\n",
       "<table border=\"1\" class=\"dataframe\">\n",
       "  <thead>\n",
       "    <tr style=\"text-align: right;\">\n",
       "      <th></th>\n",
       "      <th>token</th>\n",
       "      <th>count</th>\n",
       "    </tr>\n",
       "  </thead>\n",
       "  <tbody>\n",
       "    <tr>\n",
       "      <th>0</th>\n",
       "      <td>million</td>\n",
       "      <td>2340243</td>\n",
       "    </tr>\n",
       "    <tr>\n",
       "      <th>1</th>\n",
       "      <td>business</td>\n",
       "      <td>1646311</td>\n",
       "    </tr>\n",
       "    <tr>\n",
       "      <th>2</th>\n",
       "      <td>company</td>\n",
       "      <td>1462659</td>\n",
       "    </tr>\n",
       "    <tr>\n",
       "      <th>3</th>\n",
       "      <td>products</td>\n",
       "      <td>1368711</td>\n",
       "    </tr>\n",
       "    <tr>\n",
       "      <th>4</th>\n",
       "      <td>including</td>\n",
       "      <td>1110482</td>\n",
       "    </tr>\n",
       "  </tbody>\n",
       "</table>\n",
       "</div>"
      ],
      "text/plain": [
       "       token    count\n",
       "0    million  2340243\n",
       "1   business  1646311\n",
       "2    company  1462659\n",
       "3   products  1368711\n",
       "4  including  1110482"
      ]
     },
     "execution_count": 55,
     "metadata": {},
     "output_type": "execute_result"
    }
   ],
   "source": [
    "tokens.head()"
   ]
  },
  {
   "cell_type": "code",
   "execution_count": 56,
   "metadata": {
    "ExecuteTime": {
     "end_time": "2020-03-12T19:43:02.127772Z",
     "start_time": "2020-03-12T19:43:01.701672Z"
    }
   },
   "outputs": [
    {
     "data": {
      "text/plain": [
       "count     47780\n",
       "mean        627\n",
       "std        6563\n",
       "min           1\n",
       "10%          19\n",
       "20%          28\n",
       "30%          33\n",
       "40%          40\n",
       "50%          52\n",
       "60%          71\n",
       "70%         106\n",
       "80%         185\n",
       "90%         492\n",
       "max      513694\n",
       "Name: count, dtype: int64"
      ]
     },
     "execution_count": 56,
     "metadata": {},
     "output_type": "execute_result"
    }
   ],
   "source": [
    "tokens.loc[tokens.token.str.contains('_'), 'count'].describe(percentiles).astype(int)"
   ]
  },
  {
   "cell_type": "code",
   "execution_count": null,
   "metadata": {
    "ExecuteTime": {
     "end_time": "2020-03-12T19:43:02.448533Z",
     "start_time": "2020-03-12T19:43:02.129096Z"
    }
   },
   "outputs": [],
   "source": [
    "tokens[tokens.token.str.contains('_')].head(20).to_csv('ngram_examples.csv', index=False)"
   ]
  },
  {
   "cell_type": "code",
   "execution_count": 57,
   "metadata": {
    "ExecuteTime": {
     "end_time": "2020-03-12T19:43:11.944497Z",
     "start_time": "2020-03-12T19:43:11.648334Z"
    }
   },
   "outputs": [
    {
     "data": {
      "text/html": [
       "<div>\n",
       "<style scoped>\n",
       "    .dataframe tbody tr th:only-of-type {\n",
       "        vertical-align: middle;\n",
       "    }\n",
       "\n",
       "    .dataframe tbody tr th {\n",
       "        vertical-align: top;\n",
       "    }\n",
       "\n",
       "    .dataframe thead th {\n",
       "        text-align: right;\n",
       "    }\n",
       "</style>\n",
       "<table border=\"1\" class=\"dataframe\">\n",
       "  <thead>\n",
       "    <tr style=\"text-align: right;\">\n",
       "      <th></th>\n",
       "      <th>token</th>\n",
       "      <th>count</th>\n",
       "    </tr>\n",
       "  </thead>\n",
       "  <tbody>\n",
       "    <tr>\n",
       "      <th>51</th>\n",
       "      <td>year_ended_december</td>\n",
       "      <td>513694</td>\n",
       "    </tr>\n",
       "    <tr>\n",
       "      <th>64</th>\n",
       "      <td>table_contents</td>\n",
       "      <td>437690</td>\n",
       "    </tr>\n",
       "    <tr>\n",
       "      <th>71</th>\n",
       "      <td>company_s</td>\n",
       "      <td>413921</td>\n",
       "    </tr>\n",
       "    <tr>\n",
       "      <th>115</th>\n",
       "      <td>fair_value</td>\n",
       "      <td>303973</td>\n",
       "    </tr>\n",
       "    <tr>\n",
       "      <th>127</th>\n",
       "      <td>common_stock</td>\n",
       "      <td>288689</td>\n",
       "    </tr>\n",
       "    <tr>\n",
       "      <th>148</th>\n",
       "      <td>united_states</td>\n",
       "      <td>260930</td>\n",
       "    </tr>\n",
       "    <tr>\n",
       "      <th>166</th>\n",
       "      <td>cash_flows</td>\n",
       "      <td>238992</td>\n",
       "    </tr>\n",
       "    <tr>\n",
       "      <th>172</th>\n",
       "      <td>approximately_million</td>\n",
       "      <td>234303</td>\n",
       "    </tr>\n",
       "    <tr>\n",
       "      <th>181</th>\n",
       "      <td>adversely_affect</td>\n",
       "      <td>228139</td>\n",
       "    </tr>\n",
       "    <tr>\n",
       "      <th>182</th>\n",
       "      <td>results_operations</td>\n",
       "      <td>227066</td>\n",
       "    </tr>\n",
       "    <tr>\n",
       "      <th>225</th>\n",
       "      <td>real_estate</td>\n",
       "      <td>189470</td>\n",
       "    </tr>\n",
       "    <tr>\n",
       "      <th>229</th>\n",
       "      <td>interest_rates</td>\n",
       "      <td>186719</td>\n",
       "    </tr>\n",
       "    <tr>\n",
       "      <th>235</th>\n",
       "      <td>financial_condition_results_operations</td>\n",
       "      <td>183483</td>\n",
       "    </tr>\n",
       "    <tr>\n",
       "      <th>261</th>\n",
       "      <td>operating_results</td>\n",
       "      <td>169258</td>\n",
       "    </tr>\n",
       "    <tr>\n",
       "      <th>267</th>\n",
       "      <td>material_adverse_effect</td>\n",
       "      <td>166761</td>\n",
       "    </tr>\n",
       "    <tr>\n",
       "      <th>271</th>\n",
       "      <td>net_income</td>\n",
       "      <td>166101</td>\n",
       "    </tr>\n",
       "    <tr>\n",
       "      <th>280</th>\n",
       "      <td>long_term</td>\n",
       "      <td>159669</td>\n",
       "    </tr>\n",
       "    <tr>\n",
       "      <th>297</th>\n",
       "      <td>interest_rate</td>\n",
       "      <td>153102</td>\n",
       "    </tr>\n",
       "    <tr>\n",
       "      <th>298</th>\n",
       "      <td>research_development</td>\n",
       "      <td>153046</td>\n",
       "    </tr>\n",
       "    <tr>\n",
       "      <th>310</th>\n",
       "      <td>laws_regulations</td>\n",
       "      <td>149154</td>\n",
       "    </tr>\n",
       "  </tbody>\n",
       "</table>\n",
       "</div>"
      ],
      "text/plain": [
       "                                      token   count\n",
       "51                      year_ended_december  513694\n",
       "64                           table_contents  437690\n",
       "71                                company_s  413921\n",
       "115                              fair_value  303973\n",
       "127                            common_stock  288689\n",
       "148                           united_states  260930\n",
       "166                              cash_flows  238992\n",
       "172                   approximately_million  234303\n",
       "181                        adversely_affect  228139\n",
       "182                      results_operations  227066\n",
       "225                             real_estate  189470\n",
       "229                          interest_rates  186719\n",
       "235  financial_condition_results_operations  183483\n",
       "261                       operating_results  169258\n",
       "267                 material_adverse_effect  166761\n",
       "271                              net_income  166101\n",
       "280                               long_term  159669\n",
       "297                           interest_rate  153102\n",
       "298                    research_development  153046\n",
       "310                        laws_regulations  149154"
      ]
     },
     "execution_count": 57,
     "metadata": {},
     "output_type": "execute_result"
    }
   ],
   "source": [
    "tokens[tokens.token.str.contains('_')].head(20)"
   ]
  },
  {
   "cell_type": "markdown",
   "metadata": {},
   "source": [
    "## Get returns"
   ]
  },
  {
   "cell_type": "code",
   "execution_count": 62,
   "metadata": {
    "ExecuteTime": {
     "end_time": "2020-03-12T19:50:33.724557Z",
     "start_time": "2020-03-12T19:50:33.722106Z"
    }
   },
   "outputs": [],
   "source": [
    "DATA_FOLDER = Path('..', 'data')"
   ]
  },
  {
   "cell_type": "code",
   "execution_count": 63,
   "metadata": {
    "ExecuteTime": {
     "end_time": "2020-03-12T19:50:36.429762Z",
     "start_time": "2020-03-12T19:50:34.035677Z"
    }
   },
   "outputs": [],
   "source": [
    "with pd.HDFStore(DATA_FOLDER / 'assets.h5') as store:\n",
    "    prices = store['quandl/wiki/prices'].adj_close"
   ]
  },
  {
   "cell_type": "code",
   "execution_count": 64,
   "metadata": {
    "ExecuteTime": {
     "end_time": "2020-03-12T19:52:11.046953Z",
     "start_time": "2020-03-12T19:52:11.006185Z"
    }
   },
   "outputs": [],
   "source": [
    "sec = pd.read_csv(data_path / 'filing_index.csv').rename(columns=str.lower)\n",
    "sec.date_filed = pd.to_datetime(sec.date_filed)"
   ]
  },
  {
   "cell_type": "code",
   "execution_count": 65,
   "metadata": {
    "ExecuteTime": {
     "end_time": "2020-03-12T19:52:13.512075Z",
     "start_time": "2020-03-12T19:52:13.490074Z"
    }
   },
   "outputs": [
    {
     "name": "stdout",
     "output_type": "stream",
     "text": [
      "<class 'pandas.core.frame.DataFrame'>\n",
      "RangeIndex: 22631 entries, 0 to 22630\n",
      "Data columns (total 11 columns):\n",
      " #   Column        Non-Null Count  Dtype         \n",
      "---  ------        --------------  -----         \n",
      " 0   cik           22631 non-null  int64         \n",
      " 1   company_name  22631 non-null  object        \n",
      " 2   form_type     22631 non-null  object        \n",
      " 3   date_filed    22631 non-null  datetime64[ns]\n",
      " 4   edgar_link    22631 non-null  object        \n",
      " 5   quarter       22631 non-null  int64         \n",
      " 6   ticker        22631 non-null  object        \n",
      " 7   sic           22461 non-null  object        \n",
      " 8   exchange      20619 non-null  object        \n",
      " 9   hits          22555 non-null  object        \n",
      " 10  year          22631 non-null  int64         \n",
      "dtypes: datetime64[ns](1), int64(3), object(7)\n",
      "memory usage: 1.9+ MB\n"
     ]
    }
   ],
   "source": [
    "sec.info()"
   ]
  },
  {
   "cell_type": "code",
   "execution_count": 66,
   "metadata": {
    "ExecuteTime": {
     "end_time": "2020-03-12T19:47:55.422875Z",
     "start_time": "2020-03-12T19:47:55.420567Z"
    }
   },
   "outputs": [],
   "source": [
    "idx = pd.IndexSlice"
   ]
  },
  {
   "cell_type": "code",
   "execution_count": 68,
   "metadata": {
    "ExecuteTime": {
     "end_time": "2020-03-12T19:49:33.840525Z",
     "start_time": "2020-03-12T19:49:32.575480Z"
    }
   },
   "outputs": [],
   "source": [
    "first = sec.date_filed.min() + relativedelta(months=-1)\n",
    "last = sec.date_filed.max() + relativedelta(months=1)\n",
    "prices = (prices\n",
    "          .loc[idx[first:last, :]]\n",
    "          .unstack().resample('D')\n",
    "          .ffill()\n",
    "          .dropna(how='all', axis=1)\n",
    "          .filter(sec.ticker.unique()))"
   ]
  },
  {
   "cell_type": "code",
   "execution_count": 69,
   "metadata": {
    "ExecuteTime": {
     "end_time": "2020-03-12T19:49:55.908622Z",
     "start_time": "2020-03-12T19:49:53.315266Z"
    }
   },
   "outputs": [],
   "source": [
    "sec = sec.loc[sec.ticker.isin(prices.columns), ['ticker', 'date_filed']]\n",
    "\n",
    "price_data = []\n",
    "for ticker, date in sec.values.tolist():\n",
    "    target = date + relativedelta(months=1)\n",
    "    s = prices.loc[date: target, ticker]\n",
    "    price_data.append(s.iloc[-1] / s.iloc[0] - 1)\n",
    "\n",
    "df = pd.DataFrame(price_data,\n",
    "                  columns=['returns'],\n",
    "                  index=sec.index)"
   ]
  },
  {
   "cell_type": "code",
   "execution_count": 70,
   "metadata": {},
   "outputs": [
    {
     "data": {
      "text/plain": [
       "count    11101.000000\n",
       "mean         0.022839\n",
       "std          0.126137\n",
       "min         -0.555556\n",
       "25%         -0.032213\n",
       "50%          0.017349\n",
       "75%          0.067330\n",
       "max          1.928826\n",
       "Name: returns, dtype: float64"
      ]
     },
     "execution_count": 70,
     "metadata": {},
     "output_type": "execute_result"
    }
   ],
   "source": [
    "df.returns.describe()       "
   ]
  },
  {
   "cell_type": "code",
   "execution_count": 71,
   "metadata": {},
   "outputs": [
    {
     "name": "stdout",
     "output_type": "stream",
     "text": [
      "<class 'pandas.core.frame.DataFrame'>\n",
      "Int64Index: 11375 entries, 0 to 22629\n",
      "Data columns (total 3 columns):\n",
      " #   Column      Non-Null Count  Dtype         \n",
      "---  ------      --------------  -----         \n",
      " 0   ticker      11375 non-null  object        \n",
      " 1   date_filed  11375 non-null  datetime64[ns]\n",
      " 2   returns     11101 non-null  float64       \n",
      "dtypes: datetime64[ns](1), float64(1), object(1)\n",
      "memory usage: 355.5+ KB\n"
     ]
    }
   ],
   "source": [
    "sec['returns'] = price_data\n",
    "sec.info()"
   ]
  },
  {
   "cell_type": "code",
   "execution_count": null,
   "metadata": {},
   "outputs": [],
   "source": [
    "sec.dropna().to_csv(data_path / 'sec_returns.csv', index=False)"
   ]
  }
 ],
 "metadata": {
  "kernelspec": {
   "display_name": "Python 3",
   "language": "python",
   "name": "python3"
  },
  "language_info": {
   "codemirror_mode": {
    "name": "ipython",
    "version": 3
   },
   "file_extension": ".py",
   "mimetype": "text/x-python",
   "name": "python",
   "nbconvert_exporter": "python",
   "pygments_lexer": "ipython3",
   "version": "3.8.3"
  },
  "toc": {
   "base_numbering": 1,
   "nav_menu": {},
   "number_sections": true,
   "sideBar": true,
   "skip_h1_title": true,
   "title_cell": "Table of Contents",
   "title_sidebar": "Contents",
   "toc_cell": false,
   "toc_position": {},
   "toc_section_display": true,
   "toc_window_display": true
  }
 },
 "nbformat": 4,
 "nbformat_minor": 4
}
