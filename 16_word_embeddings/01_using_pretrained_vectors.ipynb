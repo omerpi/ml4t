{
 "cells": [
  {
   "cell_type": "markdown",
   "metadata": {},
   "source": [
    "## Imports & Settings"
   ]
  },
  {
   "cell_type": "code",
   "execution_count": 88,
   "metadata": {
    "ExecuteTime": {
     "end_time": "2020-03-11T21:30:42.705040Z",
     "start_time": "2020-03-11T21:30:42.701704Z"
    }
   },
   "outputs": [],
   "source": [
    "from time import time\n",
    "import warnings\n",
    "from collections import Counter\n",
    "from pathlib import Path\n",
    "import pandas as pd\n",
    "import numpy as np\n",
    "from numpy.linalg import norm\n",
    "from scipy.spatial.distance import cdist, cosine\n",
    "\n",
    "import matplotlib.pyplot as plt\n",
    "from matplotlib.ticker import FuncFormatter\n",
    "import seaborn as sns\n",
    "\n",
    "from gensim.models import Word2Vec, KeyedVectors\n",
    "from gensim.scripts.glove2word2vec import glove2word2vec\n",
    "\n",
    "from sklearn.decomposition import IncrementalPCA"
   ]
  },
  {
   "cell_type": "code",
   "execution_count": 31,
   "metadata": {
    "ExecuteTime": {
     "end_time": "2020-03-11T17:29:22.834852Z",
     "start_time": "2020-03-11T17:29:22.832974Z"
    }
   },
   "outputs": [],
   "source": [
    "warnings.filterwarnings('ignore')\n",
    "sns.set_style('whitegrid')"
   ]
  },
  {
   "cell_type": "code",
   "execution_count": 3,
   "metadata": {
    "ExecuteTime": {
     "end_time": "2020-03-11T16:51:58.404735Z",
     "start_time": "2020-03-11T16:51:58.152302Z"
    }
   },
   "outputs": [],
   "source": [
    "analogies_path = Path('data', 'analogies', 'analogies-en.txt')"
   ]
  },
  {
   "cell_type": "markdown",
   "metadata": {},
   "source": [
    "## Convert GloVE Vectors to gensim format"
   ]
  },
  {
   "cell_type": "markdown",
   "metadata": {},
   "source": [
    "The various GloVE vectors are available [here](https://nlp.stanford.edu/projects/glove/). Download link for the [wikipedia](http://nlp.stanford.edu/data/glove.6B.zip) version. Unzip and store in `data/glove`."
   ]
  },
  {
   "cell_type": "markdown",
   "metadata": {},
   "source": [
    "### WikiPedia"
   ]
  },
  {
   "cell_type": "code",
   "execution_count": 4,
   "metadata": {
    "ExecuteTime": {
     "end_time": "2020-03-11T16:51:58.418283Z",
     "start_time": "2020-03-11T16:51:58.405910Z"
    }
   },
   "outputs": [],
   "source": [
    "glove_path = Path('data/glove')\n",
    "glove_wiki_file= glove_path / 'glove.6B.300d.txt'\n",
    "word2vec_wiki_file = glove_path / 'glove.wiki.gensim.txt'"
   ]
  },
  {
   "cell_type": "code",
   "execution_count": 5,
   "metadata": {
    "ExecuteTime": {
     "end_time": "2020-03-11T16:52:05.991164Z",
     "start_time": "2020-03-11T16:51:58.419549Z"
    }
   },
   "outputs": [
    {
     "data": {
      "text/plain": [
       "(400001, 300)"
      ]
     },
     "execution_count": 5,
     "metadata": {},
     "output_type": "execute_result"
    }
   ],
   "source": [
    "glove2word2vec(glove_input_file=glove_wiki_file, word2vec_output_file=word2vec_wiki_file)"
   ]
  },
  {
   "cell_type": "markdown",
   "metadata": {},
   "source": [
    "### Twitter Data"
   ]
  },
  {
   "cell_type": "code",
   "execution_count": 6,
   "metadata": {
    "ExecuteTime": {
     "end_time": "2020-03-11T16:52:05.998970Z",
     "start_time": "2020-03-11T16:52:05.995156Z"
    }
   },
   "outputs": [],
   "source": [
    "glove_twitter_file= glove_path / 'glove.twitter.27B.200d.txt'\n",
    "word2vec_twitter_file = glove_path / 'glove.twitter.gensim.txt'"
   ]
  },
  {
   "cell_type": "code",
   "execution_count": 7,
   "metadata": {
    "ExecuteTime": {
     "end_time": "2020-03-11T16:52:21.861607Z",
     "start_time": "2020-03-11T16:52:06.002285Z"
    }
   },
   "outputs": [
    {
     "data": {
      "text/plain": [
       "(1193517, 200)"
      ]
     },
     "execution_count": 7,
     "metadata": {},
     "output_type": "execute_result"
    }
   ],
   "source": [
    "glove2word2vec(glove_input_file=glove_twitter_file, word2vec_output_file=word2vec_twitter_file)"
   ]
  },
  {
   "cell_type": "markdown",
   "metadata": {},
   "source": [
    "### Common Crawl"
   ]
  },
  {
   "cell_type": "code",
   "execution_count": 8,
   "metadata": {
    "ExecuteTime": {
     "end_time": "2020-03-11T16:52:21.875990Z",
     "start_time": "2020-03-11T16:52:21.867267Z"
    }
   },
   "outputs": [],
   "source": [
    "glove_crawl_file= glove_path / 'glove.840B.300d.txt'\n",
    "word2vec_crawl_file = glove_path / 'glove.crawl.gensim.txt'"
   ]
  },
  {
   "cell_type": "code",
   "execution_count": 9,
   "metadata": {
    "ExecuteTime": {
     "end_time": "2020-03-11T16:52:33.762021Z",
     "start_time": "2020-03-11T16:52:21.881970Z"
    }
   },
   "outputs": [
    {
     "data": {
      "text/plain": [
       "(2196018, 300)"
      ]
     },
     "execution_count": 9,
     "metadata": {},
     "output_type": "execute_result"
    }
   ],
   "source": [
    "glove2word2vec(glove_input_file=glove_crawl_file, word2vec_output_file=word2vec_crawl_file)"
   ]
  },
  {
   "cell_type": "markdown",
   "metadata": {},
   "source": [
    "## Evaluate embeddings"
   ]
  },
  {
   "cell_type": "code",
   "execution_count": 10,
   "metadata": {
    "ExecuteTime": {
     "end_time": "2020-03-11T16:52:33.770337Z",
     "start_time": "2020-03-11T16:52:33.763233Z"
    }
   },
   "outputs": [],
   "source": [
    "def eval_analogies(file_name, vocab=30000):\n",
    "    model = KeyedVectors.load_word2vec_format(file_name, binary=False)\n",
    "    accuracy = model.wv.accuracy(analogies_path,\n",
    "                                 restrict_vocab=vocab,\n",
    "                                 case_insensitive=True)\n",
    "    return (pd.DataFrame([[c['section'],\n",
    "                           len(c['correct']),\n",
    "                           len(c['incorrect'])] for c in accuracy],\n",
    "                         columns=['category', 'correct', 'incorrect'])\n",
    "            .assign(samples=lambda x: x.correct.add(x.incorrect))\n",
    "            .assign(average=lambda x: x.correct.div(x.samples))\n",
    "            .drop(['correct', 'incorrect'], axis=1))"
   ]
  },
  {
   "cell_type": "code",
   "execution_count": 11,
   "metadata": {
    "ExecuteTime": {
     "end_time": "2020-03-11T16:57:03.426149Z",
     "start_time": "2020-03-11T16:52:33.771993Z"
    }
   },
   "outputs": [],
   "source": [
    "result = eval_analogies(word2vec_twitter_file, vocab=100000)"
   ]
  },
  {
   "cell_type": "markdown",
   "metadata": {},
   "source": [
    "### twitter result"
   ]
  },
  {
   "cell_type": "code",
   "execution_count": 12,
   "metadata": {
    "ExecuteTime": {
     "end_time": "2020-03-11T16:57:03.439533Z",
     "start_time": "2020-03-11T16:57:03.427294Z"
    }
   },
   "outputs": [
    {
     "data": {
      "text/html": [
       "<div>\n",
       "<style scoped>\n",
       "    .dataframe tbody tr th:only-of-type {\n",
       "        vertical-align: middle;\n",
       "    }\n",
       "\n",
       "    .dataframe tbody tr th {\n",
       "        vertical-align: top;\n",
       "    }\n",
       "\n",
       "    .dataframe thead th {\n",
       "        text-align: right;\n",
       "    }\n",
       "</style>\n",
       "<table border=\"1\" class=\"dataframe\">\n",
       "  <thead>\n",
       "    <tr style=\"text-align: right;\">\n",
       "      <th></th>\n",
       "      <th>category</th>\n",
       "      <th>samples</th>\n",
       "      <th>average</th>\n",
       "    </tr>\n",
       "  </thead>\n",
       "  <tbody>\n",
       "    <tr>\n",
       "      <th>0</th>\n",
       "      <td>capital-common-countries</td>\n",
       "      <td>462</td>\n",
       "      <td>0.701299</td>\n",
       "    </tr>\n",
       "    <tr>\n",
       "      <th>1</th>\n",
       "      <td>capital-world</td>\n",
       "      <td>930</td>\n",
       "      <td>0.690323</td>\n",
       "    </tr>\n",
       "    <tr>\n",
       "      <th>2</th>\n",
       "      <td>city-in-state</td>\n",
       "      <td>3644</td>\n",
       "      <td>0.350714</td>\n",
       "    </tr>\n",
       "    <tr>\n",
       "      <th>3</th>\n",
       "      <td>currency</td>\n",
       "      <td>268</td>\n",
       "      <td>0.018657</td>\n",
       "    </tr>\n",
       "    <tr>\n",
       "      <th>4</th>\n",
       "      <td>family</td>\n",
       "      <td>342</td>\n",
       "      <td>0.824561</td>\n",
       "    </tr>\n",
       "    <tr>\n",
       "      <th>5</th>\n",
       "      <td>gram1-adjective-to-adverb</td>\n",
       "      <td>650</td>\n",
       "      <td>0.143077</td>\n",
       "    </tr>\n",
       "    <tr>\n",
       "      <th>6</th>\n",
       "      <td>gram2-opposite</td>\n",
       "      <td>342</td>\n",
       "      <td>0.365497</td>\n",
       "    </tr>\n",
       "    <tr>\n",
       "      <th>7</th>\n",
       "      <td>gram3-comparative</td>\n",
       "      <td>1260</td>\n",
       "      <td>0.757937</td>\n",
       "    </tr>\n",
       "    <tr>\n",
       "      <th>8</th>\n",
       "      <td>gram4-superlative</td>\n",
       "      <td>930</td>\n",
       "      <td>0.686022</td>\n",
       "    </tr>\n",
       "    <tr>\n",
       "      <th>9</th>\n",
       "      <td>gram5-present-participle</td>\n",
       "      <td>702</td>\n",
       "      <td>0.750712</td>\n",
       "    </tr>\n",
       "    <tr>\n",
       "      <th>10</th>\n",
       "      <td>gram6-nationality-adjective</td>\n",
       "      <td>870</td>\n",
       "      <td>0.750575</td>\n",
       "    </tr>\n",
       "    <tr>\n",
       "      <th>11</th>\n",
       "      <td>gram7-past-tense</td>\n",
       "      <td>1190</td>\n",
       "      <td>0.576471</td>\n",
       "    </tr>\n",
       "    <tr>\n",
       "      <th>12</th>\n",
       "      <td>gram8-plural</td>\n",
       "      <td>1122</td>\n",
       "      <td>0.811052</td>\n",
       "    </tr>\n",
       "    <tr>\n",
       "      <th>13</th>\n",
       "      <td>gram9-plural-verbs</td>\n",
       "      <td>600</td>\n",
       "      <td>0.655000</td>\n",
       "    </tr>\n",
       "    <tr>\n",
       "      <th>14</th>\n",
       "      <td>total</td>\n",
       "      <td>13312</td>\n",
       "      <td>0.564228</td>\n",
       "    </tr>\n",
       "  </tbody>\n",
       "</table>\n",
       "</div>"
      ],
      "text/plain": [
       "                       category  samples   average\n",
       "0      capital-common-countries      462  0.701299\n",
       "1                 capital-world      930  0.690323\n",
       "2                 city-in-state     3644  0.350714\n",
       "3                      currency      268  0.018657\n",
       "4                        family      342  0.824561\n",
       "5     gram1-adjective-to-adverb      650  0.143077\n",
       "6                gram2-opposite      342  0.365497\n",
       "7             gram3-comparative     1260  0.757937\n",
       "8             gram4-superlative      930  0.686022\n",
       "9      gram5-present-participle      702  0.750712\n",
       "10  gram6-nationality-adjective      870  0.750575\n",
       "11             gram7-past-tense     1190  0.576471\n",
       "12                 gram8-plural     1122  0.811052\n",
       "13           gram9-plural-verbs      600  0.655000\n",
       "14                        total    13312  0.564228"
      ]
     },
     "execution_count": 12,
     "metadata": {},
     "output_type": "execute_result"
    }
   ],
   "source": [
    "twitter_result = eval_analogies(word2vec_twitter_file, vocab=100000)\n",
    "twitter_result.to_csv(glove_path / 'accuracy_twitter.csv', index=False)\n",
    "twitter_result"
   ]
  },
  {
   "cell_type": "markdown",
   "metadata": {},
   "source": [
    "### wiki result"
   ]
  },
  {
   "cell_type": "code",
   "execution_count": 19,
   "metadata": {
    "ExecuteTime": {
     "end_time": "2020-03-11T17:03:45.522969Z",
     "start_time": "2020-03-11T16:57:47.103540Z"
    }
   },
   "outputs": [
    {
     "data": {
      "text/html": [
       "<div>\n",
       "<style scoped>\n",
       "    .dataframe tbody tr th:only-of-type {\n",
       "        vertical-align: middle;\n",
       "    }\n",
       "\n",
       "    .dataframe tbody tr th {\n",
       "        vertical-align: top;\n",
       "    }\n",
       "\n",
       "    .dataframe thead th {\n",
       "        text-align: right;\n",
       "    }\n",
       "</style>\n",
       "<table border=\"1\" class=\"dataframe\">\n",
       "  <thead>\n",
       "    <tr style=\"text-align: right;\">\n",
       "      <th></th>\n",
       "      <th>category</th>\n",
       "      <th>samples</th>\n",
       "      <th>average</th>\n",
       "    </tr>\n",
       "  </thead>\n",
       "  <tbody>\n",
       "    <tr>\n",
       "      <th>0</th>\n",
       "      <td>capital-common-countries</td>\n",
       "      <td>506</td>\n",
       "      <td>0.948617</td>\n",
       "    </tr>\n",
       "    <tr>\n",
       "      <th>1</th>\n",
       "      <td>capital-world</td>\n",
       "      <td>8372</td>\n",
       "      <td>0.964644</td>\n",
       "    </tr>\n",
       "    <tr>\n",
       "      <th>2</th>\n",
       "      <td>city-in-state</td>\n",
       "      <td>4242</td>\n",
       "      <td>0.599953</td>\n",
       "    </tr>\n",
       "    <tr>\n",
       "      <th>3</th>\n",
       "      <td>currency</td>\n",
       "      <td>752</td>\n",
       "      <td>0.174202</td>\n",
       "    </tr>\n",
       "    <tr>\n",
       "      <th>4</th>\n",
       "      <td>family</td>\n",
       "      <td>506</td>\n",
       "      <td>0.881423</td>\n",
       "    </tr>\n",
       "    <tr>\n",
       "      <th>5</th>\n",
       "      <td>gram1-adjective-to-adverb</td>\n",
       "      <td>992</td>\n",
       "      <td>0.225806</td>\n",
       "    </tr>\n",
       "    <tr>\n",
       "      <th>6</th>\n",
       "      <td>gram2-opposite</td>\n",
       "      <td>756</td>\n",
       "      <td>0.285714</td>\n",
       "    </tr>\n",
       "    <tr>\n",
       "      <th>7</th>\n",
       "      <td>gram3-comparative</td>\n",
       "      <td>1332</td>\n",
       "      <td>0.882132</td>\n",
       "    </tr>\n",
       "    <tr>\n",
       "      <th>8</th>\n",
       "      <td>gram4-superlative</td>\n",
       "      <td>1056</td>\n",
       "      <td>0.746212</td>\n",
       "    </tr>\n",
       "    <tr>\n",
       "      <th>9</th>\n",
       "      <td>gram5-present-participle</td>\n",
       "      <td>1056</td>\n",
       "      <td>0.699811</td>\n",
       "    </tr>\n",
       "    <tr>\n",
       "      <th>10</th>\n",
       "      <td>gram6-nationality-adjective</td>\n",
       "      <td>1640</td>\n",
       "      <td>0.925000</td>\n",
       "    </tr>\n",
       "    <tr>\n",
       "      <th>11</th>\n",
       "      <td>gram7-past-tense</td>\n",
       "      <td>1560</td>\n",
       "      <td>0.611538</td>\n",
       "    </tr>\n",
       "    <tr>\n",
       "      <th>12</th>\n",
       "      <td>gram8-plural</td>\n",
       "      <td>1332</td>\n",
       "      <td>0.780781</td>\n",
       "    </tr>\n",
       "    <tr>\n",
       "      <th>13</th>\n",
       "      <td>gram9-plural-verbs</td>\n",
       "      <td>870</td>\n",
       "      <td>0.585057</td>\n",
       "    </tr>\n",
       "    <tr>\n",
       "      <th>14</th>\n",
       "      <td>total</td>\n",
       "      <td>24972</td>\n",
       "      <td>0.754445</td>\n",
       "    </tr>\n",
       "  </tbody>\n",
       "</table>\n",
       "</div>"
      ],
      "text/plain": [
       "                       category  samples   average\n",
       "0      capital-common-countries      506  0.948617\n",
       "1                 capital-world     8372  0.964644\n",
       "2                 city-in-state     4242  0.599953\n",
       "3                      currency      752  0.174202\n",
       "4                        family      506  0.881423\n",
       "5     gram1-adjective-to-adverb      992  0.225806\n",
       "6                gram2-opposite      756  0.285714\n",
       "7             gram3-comparative     1332  0.882132\n",
       "8             gram4-superlative     1056  0.746212\n",
       "9      gram5-present-participle     1056  0.699811\n",
       "10  gram6-nationality-adjective     1640  0.925000\n",
       "11             gram7-past-tense     1560  0.611538\n",
       "12                 gram8-plural     1332  0.780781\n",
       "13           gram9-plural-verbs      870  0.585057\n",
       "14                        total    24972  0.754445"
      ]
     },
     "execution_count": 19,
     "metadata": {},
     "output_type": "execute_result"
    }
   ],
   "source": [
    "wiki_result = eval_analogies(word2vec_wiki_file, vocab=100000)\n",
    "wiki_result.to_csv(glove_path / 'accuracy_wiki.csv', index=False)\n",
    "wiki_result"
   ]
  },
  {
   "cell_type": "markdown",
   "metadata": {},
   "source": [
    "### Common Crawl result"
   ]
  },
  {
   "cell_type": "code",
   "execution_count": 30,
   "metadata": {
    "ExecuteTime": {
     "end_time": "2020-03-11T17:29:22.832077Z",
     "start_time": "2020-03-11T17:19:33.361203Z"
    },
    "scrolled": false
   },
   "outputs": [
    {
     "data": {
      "text/html": [
       "<div>\n",
       "<style scoped>\n",
       "    .dataframe tbody tr th:only-of-type {\n",
       "        vertical-align: middle;\n",
       "    }\n",
       "\n",
       "    .dataframe tbody tr th {\n",
       "        vertical-align: top;\n",
       "    }\n",
       "\n",
       "    .dataframe thead th {\n",
       "        text-align: right;\n",
       "    }\n",
       "</style>\n",
       "<table border=\"1\" class=\"dataframe\">\n",
       "  <thead>\n",
       "    <tr style=\"text-align: right;\">\n",
       "      <th></th>\n",
       "      <th>category</th>\n",
       "      <th>samples</th>\n",
       "      <th>average</th>\n",
       "    </tr>\n",
       "  </thead>\n",
       "  <tbody>\n",
       "    <tr>\n",
       "      <th>0</th>\n",
       "      <td>capital-common-countries</td>\n",
       "      <td>506</td>\n",
       "      <td>0.946640</td>\n",
       "    </tr>\n",
       "    <tr>\n",
       "      <th>1</th>\n",
       "      <td>capital-world</td>\n",
       "      <td>4290</td>\n",
       "      <td>0.917483</td>\n",
       "    </tr>\n",
       "    <tr>\n",
       "      <th>2</th>\n",
       "      <td>city-in-state</td>\n",
       "      <td>4242</td>\n",
       "      <td>0.706742</td>\n",
       "    </tr>\n",
       "    <tr>\n",
       "      <th>3</th>\n",
       "      <td>currency</td>\n",
       "      <td>206</td>\n",
       "      <td>0.184466</td>\n",
       "    </tr>\n",
       "    <tr>\n",
       "      <th>4</th>\n",
       "      <td>family</td>\n",
       "      <td>420</td>\n",
       "      <td>0.978571</td>\n",
       "    </tr>\n",
       "    <tr>\n",
       "      <th>5</th>\n",
       "      <td>gram1-adjective-to-adverb</td>\n",
       "      <td>992</td>\n",
       "      <td>0.388105</td>\n",
       "    </tr>\n",
       "    <tr>\n",
       "      <th>6</th>\n",
       "      <td>gram2-opposite</td>\n",
       "      <td>702</td>\n",
       "      <td>0.363248</td>\n",
       "    </tr>\n",
       "    <tr>\n",
       "      <th>7</th>\n",
       "      <td>gram3-comparative</td>\n",
       "      <td>1332</td>\n",
       "      <td>0.876877</td>\n",
       "    </tr>\n",
       "    <tr>\n",
       "      <th>8</th>\n",
       "      <td>gram4-superlative</td>\n",
       "      <td>1122</td>\n",
       "      <td>0.919786</td>\n",
       "    </tr>\n",
       "    <tr>\n",
       "      <th>9</th>\n",
       "      <td>gram5-present-participle</td>\n",
       "      <td>1056</td>\n",
       "      <td>0.827652</td>\n",
       "    </tr>\n",
       "    <tr>\n",
       "      <th>10</th>\n",
       "      <td>gram6-nationality-adjective</td>\n",
       "      <td>1406</td>\n",
       "      <td>0.948791</td>\n",
       "    </tr>\n",
       "    <tr>\n",
       "      <th>11</th>\n",
       "      <td>gram7-past-tense</td>\n",
       "      <td>1560</td>\n",
       "      <td>0.621154</td>\n",
       "    </tr>\n",
       "    <tr>\n",
       "      <th>12</th>\n",
       "      <td>gram8-plural</td>\n",
       "      <td>1332</td>\n",
       "      <td>0.864114</td>\n",
       "    </tr>\n",
       "    <tr>\n",
       "      <th>13</th>\n",
       "      <td>gram9-plural-verbs</td>\n",
       "      <td>870</td>\n",
       "      <td>0.672414</td>\n",
       "    </tr>\n",
       "    <tr>\n",
       "      <th>14</th>\n",
       "      <td>total</td>\n",
       "      <td>20036</td>\n",
       "      <td>0.779347</td>\n",
       "    </tr>\n",
       "  </tbody>\n",
       "</table>\n",
       "</div>"
      ],
      "text/plain": [
       "                       category  samples   average\n",
       "0      capital-common-countries      506  0.946640\n",
       "1                 capital-world     4290  0.917483\n",
       "2                 city-in-state     4242  0.706742\n",
       "3                      currency      206  0.184466\n",
       "4                        family      420  0.978571\n",
       "5     gram1-adjective-to-adverb      992  0.388105\n",
       "6                gram2-opposite      702  0.363248\n",
       "7             gram3-comparative     1332  0.876877\n",
       "8             gram4-superlative     1122  0.919786\n",
       "9      gram5-present-participle     1056  0.827652\n",
       "10  gram6-nationality-adjective     1406  0.948791\n",
       "11             gram7-past-tense     1560  0.621154\n",
       "12                 gram8-plural     1332  0.864114\n",
       "13           gram9-plural-verbs      870  0.672414\n",
       "14                        total    20036  0.779347"
      ]
     },
     "execution_count": 30,
     "metadata": {},
     "output_type": "execute_result"
    }
   ],
   "source": [
    "crawl_result = eval_analogies(word2vec_crawl_file, vocab=100000)\n",
    "crawl_result.to_csv(glove_path / 'accuracy_crawl.csv', index=False)\n",
    "crawl_result"
   ]
  },
  {
   "cell_type": "markdown",
   "metadata": {},
   "source": [
    "### Combine & compare results"
   ]
  },
  {
   "cell_type": "code",
   "execution_count": 47,
   "metadata": {
    "ExecuteTime": {
     "end_time": "2020-03-11T17:49:28.402244Z",
     "start_time": "2020-03-11T17:49:28.389880Z"
    }
   },
   "outputs": [],
   "source": [
    "cat_dict = {'capital-common-countries':'Capitals',\n",
    "            'capital-world':'Capitals RoW',\n",
    "            'city-in-state':'City-State',\n",
    "            'currency':'Currency',\n",
    "            'family':'Famliy',\n",
    "            'gram1-adjective-to-adverb':'Adj-Adverb',\n",
    "            'gram2-opposite':'Opposite',\n",
    "            'gram3-comparative':'Comparative',\n",
    "            'gram4-superlative':'Superlative',\n",
    "            'gram5-present-participle':'Pres. Part.',\n",
    "            'gram6-nationality-adjective':'Nationality',\n",
    "            'gram7-past-tense':'Past Tense',\n",
    "            'gram8-plural':'Plural',\n",
    "            'gram9-plural-verbs':'Plural Verbs',\n",
    "            'total':'Total'}"
   ]
  },
  {
   "cell_type": "code",
   "execution_count": 46,
   "metadata": {
    "ExecuteTime": {
     "end_time": "2020-03-11T17:49:19.044229Z",
     "start_time": "2020-03-11T17:49:19.029560Z"
    }
   },
   "outputs": [],
   "source": [
    "accuracy = (twitter_result.assign(glove='Twitter')\n",
    "            .append(wiki_result.assign(glove='Wiki'))\n",
    "            .append(crawl_result.assign(glove='Crawl')))"
   ]
  },
  {
   "cell_type": "code",
   "execution_count": 48,
   "metadata": {
    "ExecuteTime": {
     "end_time": "2020-03-11T17:49:28.738602Z",
     "start_time": "2020-03-11T17:49:28.729896Z"
    }
   },
   "outputs": [],
   "source": [
    "accuracy.category=accuracy.category.replace(cat_dict)\n",
    "accuracy = accuracy.rename(columns=str.capitalize)"
   ]
  },
  {
   "cell_type": "code",
   "execution_count": 74,
   "metadata": {
    "ExecuteTime": {
     "end_time": "2020-03-11T18:02:46.158756Z",
     "start_time": "2020-03-11T18:02:46.156053Z"
    }
   },
   "outputs": [],
   "source": [
    "accuracy.to_csv(glove_path / 'accuracy.csv', index=False)"
   ]
  },
  {
   "cell_type": "code",
   "execution_count": 73,
   "metadata": {
    "ExecuteTime": {
     "end_time": "2020-03-11T18:01:57.333012Z",
     "start_time": "2020-03-11T18:01:56.683998Z"
    }
   },
   "outputs": [
    {
     "data": {
      "image/png": "[encoded data removed]",
      "text/plain": [
       "<Figure size 1152x288 with 1 Axes>"
      ]
     },
     "metadata": {},
     "output_type": "display_data"
    }
   ],
   "source": [
    "fig, ax = plt.subplots(figsize=(16, 4))\n",
    "sns.barplot(x='Category', y='Average', hue='Glove', data=accuracy, ax=ax)\n",
    "ax.set_title(f'Word Vector Accuracy by Glove Source: Twitter: {0.564228:.2%}, Wiki: {0.75444:.2%}, Crawl: {0.779347:.2%}')\n",
    "ax.set_ylim(0,1)\n",
    "ax.yaxis.set_major_formatter(FuncFormatter(lambda y, _: '{:.0%}'.format(y))) \n",
    "fig.tight_layout()\n",
    "fig.savefig('figures/glove_accuracy', dpi=300);"
   ]
  },
  {
   "cell_type": "markdown",
   "metadata": {},
   "source": [
    "## Visualize Embeddings"
   ]
  },
  {
   "cell_type": "markdown",
   "metadata": {},
   "source": [
    "### Load GloVe Wiki Vectors"
   ]
  },
  {
   "cell_type": "code",
   "execution_count": 75,
   "metadata": {
    "ExecuteTime": {
     "end_time": "2020-03-11T21:22:31.227342Z",
     "start_time": "2020-03-11T21:21:23.655479Z"
    }
   },
   "outputs": [],
   "source": [
    "model = KeyedVectors.load_word2vec_format(word2vec_wiki_file, binary=False)"
   ]
  },
  {
   "cell_type": "code",
   "execution_count": 87,
   "metadata": {
    "ExecuteTime": {
     "end_time": "2020-03-11T21:30:42.700601Z",
     "start_time": "2020-03-11T21:24:39.270791Z"
    }
   },
   "outputs": [],
   "source": [
    "accuracy = model.accuracy(questions=str(analogies_path), restrict_vocab=100000)"
   ]
  },
  {
   "cell_type": "code",
   "execution_count": 78,
   "metadata": {
    "ExecuteTime": {
     "end_time": "2020-03-11T21:22:56.705821Z",
     "start_time": "2020-03-11T21:22:56.636825Z"
    }
   },
   "outputs": [
    {
     "data": {
      "text/plain": [
       "(100000, 300)"
      ]
     },
     "execution_count": 78,
     "metadata": {},
     "output_type": "execute_result"
    }
   ],
   "source": [
    "vectors = model.vectors[:100000]\n",
    "vectors /= norm(vectors, axis=1).reshape(-1, 1)\n",
    "vectors.shape"
   ]
  },
  {
   "cell_type": "code",
   "execution_count": 79,
   "metadata": {
    "ExecuteTime": {
     "end_time": "2020-03-11T21:23:08.356820Z",
     "start_time": "2020-03-11T21:23:08.344538Z"
    }
   },
   "outputs": [],
   "source": [
    "words = model.index2word[:100000]\n",
    "word2id = {w:i for i, w in enumerate(words)}"
   ]
  },
  {
   "cell_type": "markdown",
   "metadata": {},
   "source": [
    "### Project Embedding into 2D"
   ]
  },
  {
   "cell_type": "code",
   "execution_count": 82,
   "metadata": {
    "ExecuteTime": {
     "end_time": "2020-03-11T21:23:23.659228Z",
     "start_time": "2020-03-11T21:23:21.048451Z"
    }
   },
   "outputs": [
    {
     "data": {
      "text/plain": [
       "0    2.604632\n",
       "1    1.293813\n",
       "dtype: float64"
      ]
     },
     "execution_count": 82,
     "metadata": {},
     "output_type": "execute_result"
    }
   ],
   "source": [
    "pca = IncrementalPCA(n_components=2)\n",
    "\n",
    "vectors2D = pca.fit_transform(vectors)\n",
    "pd.Series(pca.explained_variance_ratio_).mul(100)"
   ]
  },
  {
   "cell_type": "markdown",
   "metadata": {},
   "source": [
    "### Plot Analogy Examples"
   ]
  },
  {
   "cell_type": "code",
   "execution_count": 89,
   "metadata": {
    "ExecuteTime": {
     "end_time": "2020-03-11T21:30:52.653139Z",
     "start_time": "2020-03-11T21:30:52.508757Z"
    }
   },
   "outputs": [],
   "source": [
    "results = pd.DataFrame()\n",
    "correct = incorrect = 0\n",
    "for section in accuracy:\n",
    "    correct += len(section['correct'])\n",
    "    incorrect += len(section['incorrect'])\n",
    "    df = pd.DataFrame(section['correct']).apply(lambda x: x.str.lower()).assign(section=section['section'])\n",
    "    results = pd.concat([results, df])"
   ]
  },
  {
   "cell_type": "code",
   "execution_count": 90,
   "metadata": {
    "ExecuteTime": {
     "end_time": "2020-03-11T21:31:05.439315Z",
     "start_time": "2020-03-11T21:31:05.426868Z"
    }
   },
   "outputs": [],
   "source": [
    "def find_most_similar_analogy(v):\n",
    "    \"\"\"Find analogy that most similar in 2D\"\"\"\n",
    "    v1 = vectors2D[v[1]] - vectors2D[v[0]]\n",
    "    v2 = vectors2D[v[3]] - vectors2D[v[2]]\n",
    "    idx, most_similar = None, np.inf\n",
    "    \n",
    "    for i in range(len(v1)):\n",
    "        similarity = cosine(v1[i], v2[i])\n",
    "        if similarity < most_similar:\n",
    "            idx = i\n",
    "            most_similar = similarity\n",
    "    return idx"
   ]
  },
  {
   "cell_type": "code",
   "execution_count": 91,
   "metadata": {
    "ExecuteTime": {
     "end_time": "2020-03-11T21:31:06.069595Z",
     "start_time": "2020-03-11T21:31:06.055632Z"
    }
   },
   "outputs": [],
   "source": [
    "def get_plot_lims(coordinates):\n",
    "    xlim, ylim = coordinates.agg(['min', 'max']).T.values\n",
    "    xrange, yrange = (xlim[1] - xlim[0]) * .1, (ylim[1] - ylim[0]) * .1\n",
    "    xlim[0], xlim[1] = xlim[0] - xrange, xlim[1] + xrange\n",
    "    ylim[0], ylim[1] = ylim[0] - yrange, ylim[1] + yrange\n",
    "    return xlim, ylim"
   ]
  },
  {
   "cell_type": "code",
   "execution_count": 98,
   "metadata": {
    "ExecuteTime": {
     "end_time": "2020-03-11T21:35:43.168812Z",
     "start_time": "2020-03-11T21:35:33.240365Z"
    }
   },
   "outputs": [
    {
     "data": {
      "image/png": "[encoded data removed]",
      "text/plain": [
       "<Figure size 1152x648 with 12 Axes>"
      ]
     },
     "metadata": {},
     "output_type": "display_data"
    }
   ],
   "source": [
    "fig, axes = plt.subplots(nrows=3, ncols=4, figsize=(16, 9))\n",
    "axes = axes.flatten()\n",
    "fc = ec = 'darkgrey'\n",
    "for s, (section, result) in enumerate(results.groupby('section')):\n",
    "    if s > 11:\n",
    "        break\n",
    "        \n",
    "    df = result.drop('section', axis=1).apply(lambda x: x.map(word2id))\n",
    "    most_similar_idx = find_most_similar_analogy(df)\n",
    "    \n",
    "    best_analogy = result.iloc[most_similar_idx, :4].tolist()\n",
    "\n",
    "    analogy_idx = [words.index(word) for word in best_analogy]\n",
    "    best_analogy = [a.capitalize() for a in best_analogy]\n",
    "    \n",
    "    coords = pd.DataFrame(vectors2D[analogy_idx])  # xy array\n",
    "    \n",
    "    xlim, ylim = get_plot_lims(coords)\n",
    "    axes[s].set_xlim(xlim)\n",
    "    axes[s].set_ylim(ylim)\n",
    "\n",
    "    for i in [0, 2]:\n",
    "        axes[s].annotate(s=best_analogy[i], xy=coords.iloc[i+1], xytext=coords.iloc[i],\n",
    "                         arrowprops=dict(width=1,headwidth=5, headlength=5,\n",
    "                                         fc=fc, ec=ec, shrink=.1),\n",
    "                         fontsize=12)\n",
    "    \n",
    "        axes[s].annotate(best_analogy[i+1], xy=coords.iloc[i+1],\n",
    "                         xytext=coords.iloc[i+1],\n",
    "                         va='center', ha='center',\n",
    "                         fontsize=12, color='darkred' if i == 2 else 'k');\n",
    "\n",
    "    axes[s].axis('off')\n",
    "    title = ' '.join([s.capitalize()\n",
    "                      for s in section.split('-') if not s.startswith('gram')])\n",
    "    axes[s].set_title(title, fontsize=16)\n",
    "\n",
    "fig.suptitle('word2vec Embeddings | Analogy Examples', fontsize=18)\n",
    "fig.tight_layout()\n",
    "fig.subplots_adjust(top=.9)\n",
    "fig.savefig('figures/w2v_analogies', dpi=300);"
   ]
  }
 ],
 "metadata": {
  "kernelspec": {
   "display_name": "Python 3",
   "language": "python",
   "name": "python3"
  },
  "language_info": {
   "codemirror_mode": {
    "name": "ipython",
    "version": 3
   },
   "file_extension": ".py",
   "mimetype": "text/x-python",
   "name": "python",
   "nbconvert_exporter": "python",
   "pygments_lexer": "ipython3",
   "version": "3.7.6"
  },
  "toc": {
   "base_numbering": 1,
   "nav_menu": {},
   "number_sections": true,
   "sideBar": true,
   "skip_h1_title": false,
   "title_cell": "Table of Contents",
   "title_sidebar": "Contents",
   "toc_cell": false,
   "toc_position": {},
   "toc_section_display": true,
   "toc_window_display": true
  }
 },
 "nbformat": 4,
 "nbformat_minor": 2
}
