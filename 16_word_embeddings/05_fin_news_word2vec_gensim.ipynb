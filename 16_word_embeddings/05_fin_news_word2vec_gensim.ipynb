{
 "cells": [
  {
   "cell_type": "markdown",
   "metadata": {},
   "source": [
    "# How to train your own word vector embeddings"
   ]
  },
  {
   "cell_type": "markdown",
   "metadata": {},
   "source": [
    "Many tasks require embeddings or domain-specific vocabulary that pre-trained models based on a generic corpus may not represent well or at all. Standard word2vec models are not able to assign vectors to out-of-vocabulary words and instead use a default vector that reduces their predictive value.\n",
    "\n",
    "E.g., when working with industry-specific documents, the vocabulary or its usage may change over time as new technologies or products emerge. As a result, the embeddings need to evolve as well. In addition, corporate earnings releases use nuanced language not fully reflected in Glove vectors pre-trained on Wikipedia articles.\n",
    "\n",
    "In this notebook we illustrate the more performant gensim adaptation of the code provided by the word2vec authors. "
   ]
  },
  {
   "cell_type": "markdown",
   "metadata": {},
   "source": [
    "To illustrate the word2vec network architecture, we use the Financial News data that we first introduced in chapter 14 on Topic Modeling. "
   ]
  },
  {
   "cell_type": "markdown",
   "metadata": {
    "slideshow": {
     "slide_type": "fragment"
    }
   },
   "source": [
    "## Imports"
   ]
  },
  {
   "cell_type": "code",
   "execution_count": 104,
   "metadata": {
    "ExecuteTime": {
     "end_time": "2020-03-12T17:23:23.400390Z",
     "start_time": "2020-03-12T17:23:23.390154Z"
    },
    "slideshow": {
     "slide_type": "fragment"
    }
   },
   "outputs": [],
   "source": [
    "%matplotlib inline \n",
    "import warnings\n",
    "from time import time\n",
    "from collections import Counter\n",
    "from pathlib import Path\n",
    "import pandas as pd\n",
    "import numpy as np\n",
    "from numpy.linalg import norm\n",
    "from scipy.spatial.distance import cdist, cosine\n",
    "\n",
    "import matplotlib.pyplot as plt\n",
    "from matplotlib.ticker import FuncFormatter\n",
    "import seaborn as sns\n",
    "\n",
    "from gensim.models import Word2Vec, KeyedVectors\n",
    "from gensim.models.word2vec import LineSentence\n",
    "from sklearn.decomposition import IncrementalPCA"
   ]
  },
  {
   "cell_type": "markdown",
   "metadata": {
    "slideshow": {
     "slide_type": ""
    }
   },
   "source": [
    "### Settings"
   ]
  },
  {
   "cell_type": "code",
   "execution_count": 2,
   "metadata": {
    "ExecuteTime": {
     "end_time": "2020-03-12T16:24:47.006787Z",
     "start_time": "2020-03-12T16:24:47.004310Z"
    },
    "slideshow": {
     "slide_type": "fragment"
    }
   },
   "outputs": [],
   "source": [
    "warnings.filterwarnings('ignore')\n",
    "sns.set_style('whitegrid')\n",
    "pd.set_option('float_format', '{:,.2f}'.format)\n",
    "np.random.seed(42)"
   ]
  },
  {
   "cell_type": "markdown",
   "metadata": {},
   "source": [
    "### Paths"
   ]
  },
  {
   "cell_type": "code",
   "execution_count": 3,
   "metadata": {
    "ExecuteTime": {
     "end_time": "2020-03-12T16:24:47.020587Z",
     "start_time": "2020-03-12T16:24:47.007883Z"
    }
   },
   "outputs": [],
   "source": [
    "news_path = Path('data', 'fin_news')\n",
    "data_path = news_path / 'data'\n",
    "analogy_path = Path('data', 'analogies', 'analogies-en.txt')"
   ]
  },
  {
   "cell_type": "code",
   "execution_count": 4,
   "metadata": {
    "ExecuteTime": {
     "end_time": "2020-03-12T16:24:47.029145Z",
     "start_time": "2020-03-12T16:24:47.021590Z"
    }
   },
   "outputs": [],
   "source": [
    "def format_time(t):\n",
    "    m, s = divmod(t, 60)\n",
    "    h, m = divmod(m, 60)\n",
    "    return f'{h:02.0f}:{m:02.0f}:{s:02.0f}'"
   ]
  },
  {
   "cell_type": "markdown",
   "metadata": {
    "slideshow": {
     "slide_type": "slide"
    }
   },
   "source": [
    "## Model Configuration"
   ]
  },
  {
   "cell_type": "code",
   "execution_count": 5,
   "metadata": {
    "ExecuteTime": {
     "end_time": "2020-03-12T16:24:47.037026Z",
     "start_time": "2020-03-12T16:24:47.030190Z"
    },
    "slideshow": {
     "slide_type": "fragment"
    }
   },
   "outputs": [],
   "source": [
    "gensim_path = news_path / 'gensim'\n",
    "if not gensim_path.exists():\n",
    "    gensim_path.mkdir(parents=True, exist_ok=True)"
   ]
  },
  {
   "cell_type": "code",
   "execution_count": 6,
   "metadata": {
    "ExecuteTime": {
     "end_time": "2020-03-12T16:24:47.044855Z",
     "start_time": "2020-03-12T16:24:47.037826Z"
    },
    "slideshow": {
     "slide_type": "fragment"
    }
   },
   "outputs": [],
   "source": [
    "NGRAMS = 3           # Longest ngram in text\n",
    "MIN_FREQ = 100\n",
    "WINDOW_SIZE = 5\n",
    "EMBEDDING_SIZE = 300\n",
    "NEGATIVE_SAMPLES = 20\n",
    "EPOCHS = 1"
   ]
  },
  {
   "cell_type": "code",
   "execution_count": 7,
   "metadata": {
    "ExecuteTime": {
     "end_time": "2020-03-12T16:24:47.057906Z",
     "start_time": "2020-03-12T16:24:47.045654Z"
    }
   },
   "outputs": [],
   "source": [
    "FILE_NAME = f'articles_{NGRAMS}_grams.txt'"
   ]
  },
  {
   "cell_type": "markdown",
   "metadata": {
    "slideshow": {
     "slide_type": "slide"
    }
   },
   "source": [
    "## Sentence Generator"
   ]
  },
  {
   "cell_type": "code",
   "execution_count": 8,
   "metadata": {
    "ExecuteTime": {
     "end_time": "2020-03-12T16:24:47.065931Z",
     "start_time": "2020-03-12T16:24:47.059226Z"
    },
    "slideshow": {
     "slide_type": "fragment"
    }
   },
   "outputs": [],
   "source": [
    "sentence_path = data_path / FILE_NAME\n",
    "sentences = LineSentence(str(sentence_path))"
   ]
  },
  {
   "cell_type": "markdown",
   "metadata": {
    "slideshow": {
     "slide_type": "slide"
    }
   },
   "source": [
    "## Train word2vec Model"
   ]
  },
  {
   "cell_type": "code",
   "execution_count": 9,
   "metadata": {
    "ExecuteTime": {
     "end_time": "2020-03-12T16:27:06.683093Z",
     "start_time": "2020-03-12T16:24:47.067180Z"
    },
    "slideshow": {
     "slide_type": "fragment"
    }
   },
   "outputs": [
    {
     "name": "stdout",
     "output_type": "stream",
     "text": [
      "Duration: 00:02:20\n"
     ]
    }
   ],
   "source": [
    "start = time()\n",
    "model = Word2Vec(sentences, \n",
    "                 sg=1, # set to 1 for skipgram; CBOW otherwise\n",
    "                 size=EMBEDDING_SIZE, \n",
    "                 window=WINDOW_SIZE,\n",
    "                 min_count=MIN_FREQ, \n",
    "                 negative=NEGATIVE_SAMPLES, \n",
    "                 workers=8,\n",
    "                 iter=EPOCHS, \n",
    "                 alpha=0.05)\n",
    "\n",
    "# persist model\n",
    "model.save(str(gensim_path / 'word2vec.model'))\n",
    "\n",
    "# persist word vectors\n",
    "model.wv.save(str(gensim_path / 'word_vectors.bin'))\n",
    "print('Duration:', format_time(time() - start))"
   ]
  },
  {
   "cell_type": "markdown",
   "metadata": {
    "slideshow": {
     "slide_type": "fragment"
    }
   },
   "source": [
    "## Evaluate results"
   ]
  },
  {
   "cell_type": "code",
   "execution_count": 73,
   "metadata": {
    "ExecuteTime": {
     "end_time": "2020-03-12T17:11:47.165473Z",
     "start_time": "2020-03-12T17:11:47.162569Z"
    }
   },
   "outputs": [],
   "source": [
    "cat_dict = {'capital-common-countries':'Capitals',\n",
    "            'capital-world':'Capitals RoW',\n",
    "            'city-in-state':'City-State',\n",
    "            'currency':'Currency',\n",
    "            'family':'Famliy',\n",
    "            'gram1-adjective-to-adverb':'Adj-Adverb',\n",
    "            'gram2-opposite':'Opposite',\n",
    "            'gram3-comparative':'Comparative',\n",
    "            'gram4-superlative':'Superlative',\n",
    "            'gram5-present-participle':'Pres. Part.',\n",
    "            'gram6-nationality-adjective':'Nationality',\n",
    "            'gram7-past-tense':'Past Tense',\n",
    "            'gram8-plural':'Plural',\n",
    "            'gram9-plural-verbs':'Plural Verbs',\n",
    "            'total':'Total'}"
   ]
  },
  {
   "cell_type": "code",
   "execution_count": 10,
   "metadata": {
    "ExecuteTime": {
     "end_time": "2020-03-12T16:27:06.690869Z",
     "start_time": "2020-03-12T16:27:06.685277Z"
    },
    "slideshow": {
     "slide_type": "fragment"
    }
   },
   "outputs": [],
   "source": [
    "def accuracy_by_category(acc, detail=True):\n",
    "    results = [[c['section'], len(c['correct']), len(c['incorrect'])] for c in acc]\n",
    "    results = pd.DataFrame(results, columns=['category', 'correct', 'incorrect'])\n",
    "    results['average'] = results.correct.div(results[['correct', 'incorrect']].sum(1))\n",
    "    if detail:\n",
    "        print(results.sort_values('average', ascending=False))\n",
    "    return results.loc[results.category=='total', ['correct', 'incorrect', 'average']].squeeze().tolist()"
   ]
  },
  {
   "cell_type": "code",
   "execution_count": 75,
   "metadata": {
    "ExecuteTime": {
     "end_time": "2020-03-12T17:12:43.211614Z",
     "start_time": "2020-03-12T17:12:25.218075Z"
    }
   },
   "outputs": [],
   "source": [
    "# gensim computes accuracy based on source text files\n",
    "detailed_accuracy = model.wv.accuracy(analogy_path.as_posix(), case_insensitive=True)"
   ]
  },
  {
   "cell_type": "code",
   "execution_count": 76,
   "metadata": {
    "ExecuteTime": {
     "end_time": "2020-03-12T17:12:43.248617Z",
     "start_time": "2020-03-12T17:12:43.212843Z"
    }
   },
   "outputs": [
    {
     "name": "stdout",
     "output_type": "stream",
     "text": [
      "                       category  correct  incorrect  average\n",
      "0      capital-common-countries      339         81     0.81\n",
      "1                 capital-world      902        288     0.76\n",
      "10  gram6-nationality-adjective      775        281     0.73\n",
      "14                        total     3514       5066     0.41\n",
      "7             gram3-comparative      305        565     0.35\n",
      "2                 city-in-state      423        933     0.31\n",
      "11             gram7-past-tense      342        780     0.30\n",
      "4                        family       33         77     0.30\n",
      "12                 gram8-plural       76        230     0.25\n",
      "8             gram4-superlative       67        205     0.25\n",
      "3                      currency       25        103     0.20\n",
      "9      gram5-present-participle      111        489     0.18\n",
      "13           gram9-plural-verbs       63        443     0.12\n",
      "5     gram1-adjective-to-adverb       39        423     0.08\n",
      "6                gram2-opposite       14        168     0.08\n",
      "Base Accuracy: Correct 3,514 | Wrong 5,066 | Avg 40.96%\n",
      "\n"
     ]
    }
   ],
   "source": [
    "# get accuracy per category\n",
    "summary = accuracy_by_category(detailed_accuracy)\n",
    "print('Base Accuracy: Correct {:,.0f} | Wrong {:,.0f} | Avg {:,.2%}\\n'.format(*summary))"
   ]
  },
  {
   "cell_type": "code",
   "execution_count": 13,
   "metadata": {
    "ExecuteTime": {
     "end_time": "2020-03-12T16:27:23.477525Z",
     "start_time": "2020-03-12T16:27:23.448875Z"
    },
    "slideshow": {
     "slide_type": "slide"
    }
   },
   "outputs": [
    {
     "data": {
      "text/html": [
       "<div>\n",
       "<style scoped>\n",
       "    .dataframe tbody tr th:only-of-type {\n",
       "        vertical-align: middle;\n",
       "    }\n",
       "\n",
       "    .dataframe tbody tr th {\n",
       "        vertical-align: top;\n",
       "    }\n",
       "\n",
       "    .dataframe thead th {\n",
       "        text-align: right;\n",
       "    }\n",
       "</style>\n",
       "<table border=\"1\" class=\"dataframe\">\n",
       "  <thead>\n",
       "    <tr style=\"text-align: right;\">\n",
       "      <th></th>\n",
       "      <th>token</th>\n",
       "      <th>similarity</th>\n",
       "    </tr>\n",
       "  </thead>\n",
       "  <tbody>\n",
       "    <tr>\n",
       "      <th>0</th>\n",
       "      <td>meghan</td>\n",
       "      <td>0.44</td>\n",
       "    </tr>\n",
       "    <tr>\n",
       "      <th>1</th>\n",
       "      <td>alfred</td>\n",
       "      <td>0.44</td>\n",
       "    </tr>\n",
       "    <tr>\n",
       "      <th>2</th>\n",
       "      <td>kay</td>\n",
       "      <td>0.42</td>\n",
       "    </tr>\n",
       "    <tr>\n",
       "      <th>3</th>\n",
       "      <td>queen</td>\n",
       "      <td>0.41</td>\n",
       "    </tr>\n",
       "    <tr>\n",
       "      <th>4</th>\n",
       "      <td>rosen</td>\n",
       "      <td>0.40</td>\n",
       "    </tr>\n",
       "    <tr>\n",
       "      <th>5</th>\n",
       "      <td>duke</td>\n",
       "      <td>0.40</td>\n",
       "    </tr>\n",
       "    <tr>\n",
       "      <th>6</th>\n",
       "      <td>weiss</td>\n",
       "      <td>0.40</td>\n",
       "    </tr>\n",
       "    <tr>\n",
       "      <th>7</th>\n",
       "      <td>jimmy</td>\n",
       "      <td>0.40</td>\n",
       "    </tr>\n",
       "    <tr>\n",
       "      <th>8</th>\n",
       "      <td>daly</td>\n",
       "      <td>0.39</td>\n",
       "    </tr>\n",
       "    <tr>\n",
       "      <th>9</th>\n",
       "      <td>alexis</td>\n",
       "      <td>0.39</td>\n",
       "    </tr>\n",
       "    <tr>\n",
       "      <th>10</th>\n",
       "      <td>starring</td>\n",
       "      <td>0.39</td>\n",
       "    </tr>\n",
       "    <tr>\n",
       "      <th>11</th>\n",
       "      <td>carroll</td>\n",
       "      <td>0.39</td>\n",
       "    </tr>\n",
       "    <tr>\n",
       "      <th>12</th>\n",
       "      <td>berger</td>\n",
       "      <td>0.39</td>\n",
       "    </tr>\n",
       "    <tr>\n",
       "      <th>13</th>\n",
       "      <td>bryant</td>\n",
       "      <td>0.39</td>\n",
       "    </tr>\n",
       "    <tr>\n",
       "      <th>14</th>\n",
       "      <td>claudia</td>\n",
       "      <td>0.39</td>\n",
       "    </tr>\n",
       "    <tr>\n",
       "      <th>15</th>\n",
       "      <td>kane</td>\n",
       "      <td>0.39</td>\n",
       "    </tr>\n",
       "    <tr>\n",
       "      <th>16</th>\n",
       "      <td>princess</td>\n",
       "      <td>0.39</td>\n",
       "    </tr>\n",
       "    <tr>\n",
       "      <th>17</th>\n",
       "      <td>alice</td>\n",
       "      <td>0.39</td>\n",
       "    </tr>\n",
       "    <tr>\n",
       "      <th>18</th>\n",
       "      <td>martha</td>\n",
       "      <td>0.39</td>\n",
       "    </tr>\n",
       "    <tr>\n",
       "      <th>19</th>\n",
       "      <td>kristen</td>\n",
       "      <td>0.39</td>\n",
       "    </tr>\n",
       "  </tbody>\n",
       "</table>\n",
       "</div>"
      ],
      "text/plain": [
       "       token  similarity\n",
       "0     meghan        0.44\n",
       "1     alfred        0.44\n",
       "2        kay        0.42\n",
       "3      queen        0.41\n",
       "4      rosen        0.40\n",
       "5       duke        0.40\n",
       "6      weiss        0.40\n",
       "7      jimmy        0.40\n",
       "8       daly        0.39\n",
       "9     alexis        0.39\n",
       "10  starring        0.39\n",
       "11   carroll        0.39\n",
       "12    berger        0.39\n",
       "13    bryant        0.39\n",
       "14   claudia        0.39\n",
       "15      kane        0.39\n",
       "16  princess        0.39\n",
       "17     alice        0.39\n",
       "18    martha        0.39\n",
       "19   kristen        0.39"
      ]
     },
     "execution_count": 13,
     "metadata": {},
     "output_type": "execute_result"
    }
   ],
   "source": [
    "most_sim = model.wv.most_similar(positive=['woman', 'king'], negative=['man'], topn=20)\n",
    "pd.DataFrame(most_sim, columns=['token', 'similarity'])"
   ]
  },
  {
   "cell_type": "code",
   "execution_count": 14,
   "metadata": {
    "ExecuteTime": {
     "end_time": "2020-03-12T16:27:29.792404Z",
     "start_time": "2020-03-12T16:27:23.478917Z"
    }
   },
   "outputs": [],
   "source": [
    "counter = Counter(sentence_path.read_text().split())"
   ]
  },
  {
   "cell_type": "code",
   "execution_count": 15,
   "metadata": {
    "ExecuteTime": {
     "end_time": "2020-03-12T16:27:29.982268Z",
     "start_time": "2020-03-12T16:27:29.793274Z"
    }
   },
   "outputs": [],
   "source": [
    "most_common = pd.DataFrame(counter.most_common(), columns=['token', 'count'])\n",
    "most_common = most_common[most_common['count']> MIN_FREQ]\n",
    "most_common['p'] = np.log(most_common['count'])/np.log(most_common['count']).sum()"
   ]
  },
  {
   "cell_type": "code",
   "execution_count": 16,
   "metadata": {
    "ExecuteTime": {
     "end_time": "2020-03-12T16:27:30.015517Z",
     "start_time": "2020-03-12T16:27:29.983135Z"
    },
    "scrolled": false,
    "slideshow": {
     "slide_type": "slide"
    }
   },
   "outputs": [
    {
     "data": {
      "text/html": [
       "<div>\n",
       "<style scoped>\n",
       "    .dataframe tbody tr th:only-of-type {\n",
       "        vertical-align: middle;\n",
       "    }\n",
       "\n",
       "    .dataframe tbody tr th {\n",
       "        vertical-align: top;\n",
       "    }\n",
       "\n",
       "    .dataframe thead th {\n",
       "        text-align: right;\n",
       "    }\n",
       "</style>\n",
       "<table border=\"1\" class=\"dataframe\">\n",
       "  <thead>\n",
       "    <tr style=\"text-align: right;\">\n",
       "      <th></th>\n",
       "      <th>0</th>\n",
       "      <th>1</th>\n",
       "      <th>2</th>\n",
       "      <th>3</th>\n",
       "      <th>4</th>\n",
       "      <th>5</th>\n",
       "      <th>6</th>\n",
       "      <th>7</th>\n",
       "      <th>8</th>\n",
       "      <th>9</th>\n",
       "    </tr>\n",
       "  </thead>\n",
       "  <tbody>\n",
       "    <tr>\n",
       "      <th>shall_sale</th>\n",
       "      <td>jurisdiction_offer</td>\n",
       "      <td>solicitation_sale_unlawful</td>\n",
       "      <td>prior_registration_qualification</td>\n",
       "      <td>sell_solicitation_offer</td>\n",
       "      <td>shall_constitute_offer</td>\n",
       "      <td>buy_shall</td>\n",
       "      <td>offer_solicitation</td>\n",
       "      <td>solicitation_offer_buy</td>\n",
       "      <td>does_constitute_offer</td>\n",
       "      <td>offer_sell_solicitation</td>\n",
       "    </tr>\n",
       "    <tr>\n",
       "      <th>identiv</th>\n",
       "      <td>apptio</td>\n",
       "      <td>fortinet</td>\n",
       "      <td>cision</td>\n",
       "      <td>guidewire</td>\n",
       "      <td>cheetah_mobile</td>\n",
       "      <td>envestnet</td>\n",
       "      <td>ooma</td>\n",
       "      <td>forescout</td>\n",
       "      <td>kennedy_wilson</td>\n",
       "      <td>palo_alto_networks</td>\n",
       "    </tr>\n",
       "    <tr>\n",
       "      <th>liquidate</th>\n",
       "      <td>illiquid</td>\n",
       "      <td>bankruptcy_proceedings</td>\n",
       "      <td>liquidating</td>\n",
       "      <td>defaulted</td>\n",
       "      <td>insolvent</td>\n",
       "      <td>prior_registration_qualification</td>\n",
       "      <td>liquidation</td>\n",
       "      <td>offload</td>\n",
       "      <td>dispose</td>\n",
       "      <td>bon_ton</td>\n",
       "    </tr>\n",
       "    <tr>\n",
       "      <th>selectively</th>\n",
       "      <td>inhibit</td>\n",
       "      <td>tumor_microenvironment</td>\n",
       "      <td>monoclonal_antibodies</td>\n",
       "      <td>molecules</td>\n",
       "      <td>receptors</td>\n",
       "      <td>molecule</td>\n",
       "      <td>cancer_cells</td>\n",
       "      <td>monoclonal_antibody</td>\n",
       "      <td>inhibition</td>\n",
       "      <td>small_molecule</td>\n",
       "    </tr>\n",
       "    <tr>\n",
       "      <th>voting</th>\n",
       "      <td>votes</td>\n",
       "      <td>vote</td>\n",
       "      <td>voted</td>\n",
       "      <td>votes_cast</td>\n",
       "      <td>polling_stations</td>\n",
       "      <td>election</td>\n",
       "      <td>polling_station</td>\n",
       "      <td>electing</td>\n",
       "      <td>ballots</td>\n",
       "      <td>ballot</td>\n",
       "    </tr>\n",
       "    <tr>\n",
       "      <th>payment</th>\n",
       "      <td>payments</td>\n",
       "      <td>paid</td>\n",
       "      <td>accrued_unpaid</td>\n",
       "      <td>entitled_receive</td>\n",
       "      <td>installments</td>\n",
       "      <td>installment</td>\n",
       "      <td>accrued</td>\n",
       "      <td>payable</td>\n",
       "      <td>plus_accrued_unpaid</td>\n",
       "      <td>alipay</td>\n",
       "    </tr>\n",
       "    <tr>\n",
       "      <th>nationality</th>\n",
       "      <td>ecj</td>\n",
       "      <td>deportations</td>\n",
       "      <td>kuciak</td>\n",
       "      <td>raped</td>\n",
       "      <td>hatred</td>\n",
       "      <td>arrest_warrant</td>\n",
       "      <td>detentions</td>\n",
       "      <td>sarkozy</td>\n",
       "      <td>abduction</td>\n",
       "      <td>blasphemy</td>\n",
       "    </tr>\n",
       "    <tr>\n",
       "      <th>arpu</th>\n",
       "      <td>postpaid</td>\n",
       "      <td>rgus</td>\n",
       "      <td>subscriber_base</td>\n",
       "      <td>subscriber</td>\n",
       "      <td>telephony</td>\n",
       "      <td>arr</td>\n",
       "      <td>fx_neutral</td>\n",
       "      <td>ex_tac</td>\n",
       "      <td>churn</td>\n",
       "      <td>subscribers</td>\n",
       "    </tr>\n",
       "    <tr>\n",
       "      <th>beijing_monitoring_desk</th>\n",
       "      <td>sam_holmes</td>\n",
       "      <td>editing_kim_coghill</td>\n",
       "      <td>christopher_cushing</td>\n",
       "      <td>kim_coghill</td>\n",
       "      <td>editing_jacqueline_wong</td>\n",
       "      <td>shanghai_newsroom</td>\n",
       "      <td>editing_richard_borsuk</td>\n",
       "      <td>editing_tom_hogue</td>\n",
       "      <td>himani_sarkar</td>\n",
       "      <td>muralikumar_anantharaman</td>\n",
       "    </tr>\n",
       "  </tbody>\n",
       "</table>\n",
       "</div>"
      ],
      "text/plain": [
       "                                          0                           1  \\\n",
       "shall_sale               jurisdiction_offer  solicitation_sale_unlawful   \n",
       "identiv                              apptio                    fortinet   \n",
       "liquidate                          illiquid      bankruptcy_proceedings   \n",
       "selectively                         inhibit      tumor_microenvironment   \n",
       "voting                                votes                        vote   \n",
       "payment                            payments                        paid   \n",
       "nationality                             ecj                deportations   \n",
       "arpu                               postpaid                        rgus   \n",
       "beijing_monitoring_desk          sam_holmes         editing_kim_coghill   \n",
       "\n",
       "                                                        2  \\\n",
       "shall_sale               prior_registration_qualification   \n",
       "identiv                                            cision   \n",
       "liquidate                                     liquidating   \n",
       "selectively                         monoclonal_antibodies   \n",
       "voting                                              voted   \n",
       "payment                                    accrued_unpaid   \n",
       "nationality                                        kuciak   \n",
       "arpu                                      subscriber_base   \n",
       "beijing_monitoring_desk               christopher_cushing   \n",
       "\n",
       "                                               3                        4  \\\n",
       "shall_sale               sell_solicitation_offer   shall_constitute_offer   \n",
       "identiv                                guidewire           cheetah_mobile   \n",
       "liquidate                              defaulted                insolvent   \n",
       "selectively                            molecules                receptors   \n",
       "voting                                votes_cast         polling_stations   \n",
       "payment                         entitled_receive             installments   \n",
       "nationality                                raped                   hatred   \n",
       "arpu                                  subscriber                telephony   \n",
       "beijing_monitoring_desk              kim_coghill  editing_jacqueline_wong   \n",
       "\n",
       "                                                        5  \\\n",
       "shall_sale                                      buy_shall   \n",
       "identiv                                         envestnet   \n",
       "liquidate                prior_registration_qualification   \n",
       "selectively                                      molecule   \n",
       "voting                                           election   \n",
       "payment                                       installment   \n",
       "nationality                                arrest_warrant   \n",
       "arpu                                                  arr   \n",
       "beijing_monitoring_desk                 shanghai_newsroom   \n",
       "\n",
       "                                              6                       7  \\\n",
       "shall_sale                   offer_solicitation  solicitation_offer_buy   \n",
       "identiv                                    ooma               forescout   \n",
       "liquidate                           liquidation                 offload   \n",
       "selectively                        cancer_cells     monoclonal_antibody   \n",
       "voting                          polling_station                electing   \n",
       "payment                                 accrued                 payable   \n",
       "nationality                          detentions                 sarkozy   \n",
       "arpu                                 fx_neutral                  ex_tac   \n",
       "beijing_monitoring_desk  editing_richard_borsuk       editing_tom_hogue   \n",
       "\n",
       "                                             8                         9  \n",
       "shall_sale               does_constitute_offer   offer_sell_solicitation  \n",
       "identiv                         kennedy_wilson        palo_alto_networks  \n",
       "liquidate                              dispose                   bon_ton  \n",
       "selectively                         inhibition            small_molecule  \n",
       "voting                                 ballots                    ballot  \n",
       "payment                    plus_accrued_unpaid                    alipay  \n",
       "nationality                          abduction                 blasphemy  \n",
       "arpu                                     churn               subscribers  \n",
       "beijing_monitoring_desk          himani_sarkar  muralikumar_anantharaman  "
      ]
     },
     "execution_count": 16,
     "metadata": {},
     "output_type": "execute_result"
    }
   ],
   "source": [
    "similars = pd.DataFrame()\n",
    "for token in np.random.choice(most_common.token, size=10, p=most_common.p):\n",
    "    similars[token] = [s[0] for s in model.wv.most_similar(token)]\n",
    "similars.T"
   ]
  },
  {
   "cell_type": "markdown",
   "metadata": {},
   "source": [
    "## Continue Training"
   ]
  },
  {
   "cell_type": "code",
   "execution_count": 17,
   "metadata": {
    "ExecuteTime": {
     "end_time": "2020-03-12T16:49:01.454008Z",
     "start_time": "2020-03-12T16:27:30.016577Z"
    },
    "slideshow": {
     "slide_type": "fragment"
    }
   },
   "outputs": [
    {
     "name": "stdout",
     "output_type": "stream",
     "text": [
      "01 | Duration: 00:02:24 | Accuracy: 38.90% \n",
      "02 | Duration: 00:02:23 | Accuracy: 40.23% \n",
      "03 | Duration: 00:02:24 | Accuracy: 40.31% \n",
      "04 | Duration: 00:02:23 | Accuracy: 40.37% \n",
      "05 | Duration: 00:02:23 | Accuracy: 40.05% \n",
      "06 | Duration: 00:02:23 | Accuracy: 41.75% \n",
      "07 | Duration: 00:02:22 | Accuracy: 40.43% \n",
      "08 | Duration: 00:02:22 | Accuracy: 40.73% \n",
      "09 | Duration: 00:02:22 | Accuracy: 40.96% \n"
     ]
    }
   ],
   "source": [
    "accuracies = [summary]\n",
    "best_accuracy = summary[-1]\n",
    "for i in range(1, 10):\n",
    "    start = time()\n",
    "    model.train(sentences, epochs=1, total_examples=model.corpus_count)\n",
    "    detailed_accuracy = model.wv.accuracy(analogy_path)\n",
    "    accuracies.append(accuracy_by_category(detailed_accuracy, detail=False))\n",
    "    print(f'{i:02} | Duration: {format_time(time() - start)} | Accuracy: {accuracies[-1][-1]:.2%} ')\n",
    "    if accuracies[-1][-1] > best_accuracy:\n",
    "        model.save(str(gensim_path / f'word2vec_{i:02}.model'))\n",
    "        model.wv.save(str(gensim_path / f'word_vectors_{i:02}.bin'))\n",
    "        best_accuracy = accuracies[-1][-1]\n",
    "    (pd.DataFrame(accuracies, \n",
    "                 columns=['correct', 'wrong', 'average'])\n",
    "     .to_csv(gensim_path / 'accuracies.csv', index=False))\n",
    "model.wv.save(str(gensim_path / 'word_vectors_final.bin'))"
   ]
  },
  {
   "cell_type": "markdown",
   "metadata": {},
   "source": [
    "## Evaluate Best Model"
   ]
  },
  {
   "cell_type": "code",
   "execution_count": 21,
   "metadata": {
    "ExecuteTime": {
     "end_time": "2020-03-12T16:57:42.040316Z",
     "start_time": "2020-03-12T16:57:41.820149Z"
    }
   },
   "outputs": [
    {
     "data": {
      "image/png": "[encoded data removed]",
      "text/plain": [
       "<Figure size 432x288 with 1 Axes>"
      ]
     },
     "metadata": {},
     "output_type": "display_data"
    }
   ],
   "source": [
    "pd.DataFrame(accuracies, columns=['correct', 'wrong', 'average'], index=list(range(1, len(accuracies) + 1))).average.plot();"
   ]
  },
  {
   "cell_type": "code",
   "execution_count": 23,
   "metadata": {
    "ExecuteTime": {
     "end_time": "2020-03-12T17:00:32.232913Z",
     "start_time": "2020-03-12T17:00:31.937349Z"
    }
   },
   "outputs": [],
   "source": [
    "best_model = Word2Vec.load((gensim_path / 'word2vec_06.model').as_posix())"
   ]
  },
  {
   "cell_type": "code",
   "execution_count": 24,
   "metadata": {
    "ExecuteTime": {
     "end_time": "2020-03-12T17:02:13.767834Z",
     "start_time": "2020-03-12T17:01:56.365584Z"
    }
   },
   "outputs": [],
   "source": [
    "# gensim computes accuracy based on source text files\n",
    "detailed_accuracy = best_model.wv.accuracy(analogy_path.as_posix(), case_insensitive=True)"
   ]
  },
  {
   "cell_type": "code",
   "execution_count": 25,
   "metadata": {
    "ExecuteTime": {
     "end_time": "2020-03-12T17:02:13.790580Z",
     "start_time": "2020-03-12T17:02:13.770221Z"
    }
   },
   "outputs": [
    {
     "name": "stdout",
     "output_type": "stream",
     "text": [
      "                       category  correct  incorrect  average\n",
      "0      capital-common-countries      356         64     0.85\n",
      "1                 capital-world      911        279     0.77\n",
      "10  gram6-nationality-adjective      767        289     0.73\n",
      "14                        total     3582       4998     0.42\n",
      "7             gram3-comparative      344        526     0.40\n",
      "4                        family       41         69     0.37\n",
      "11             gram7-past-tense      351        771     0.31\n",
      "12                 gram8-plural       86        220     0.28\n",
      "2                 city-in-state      372        984     0.27\n",
      "8             gram4-superlative       71        201     0.26\n",
      "3                      currency       32         96     0.25\n",
      "9      gram5-present-participle      125        475     0.21\n",
      "13           gram9-plural-verbs       72        434     0.14\n",
      "5     gram1-adjective-to-adverb       40        422     0.09\n",
      "6                gram2-opposite       14        168     0.08\n",
      "Base Accuracy: Correct 3,582 | Wrong 4,998 | Avg 41.75%\n",
      "\n"
     ]
    }
   ],
   "source": [
    "# get accuracy per category\n",
    "summary = accuracy_by_category(detailed_accuracy)\n",
    "print('Base Accuracy: Correct {:,.0f} | Wrong {:,.0f} | Avg {:,.2%}\\n'.format(*summary))"
   ]
  },
  {
   "cell_type": "code",
   "execution_count": 115,
   "metadata": {
    "ExecuteTime": {
     "end_time": "2020-03-12T17:25:41.119465Z",
     "start_time": "2020-03-12T17:25:41.091975Z"
    }
   },
   "outputs": [],
   "source": [
    "results = [[c['section'], len(c['correct']), len(c['incorrect'])] for c in detailed_accuracy]\n",
    "results = pd.DataFrame(results, columns=['category', 'correct', 'incorrect'])\n",
    "results['category'] = results.category.map(cat_dict)\n",
    "results['average'] = results.correct.div(results[['correct', 'incorrect']].sum(1))\n",
    "results = results.rename(columns=str.capitalize).set_index('Category')\n",
    "total = results.loc['Total']\n",
    "results = results.drop('Total')"
   ]
  },
  {
   "cell_type": "code",
   "execution_count": 26,
   "metadata": {
    "ExecuteTime": {
     "end_time": "2020-03-12T17:02:13.816133Z",
     "start_time": "2020-03-12T17:02:13.792634Z"
    },
    "slideshow": {
     "slide_type": "slide"
    }
   },
   "outputs": [
    {
     "data": {
      "text/html": [
       "<div>\n",
       "<style scoped>\n",
       "    .dataframe tbody tr th:only-of-type {\n",
       "        vertical-align: middle;\n",
       "    }\n",
       "\n",
       "    .dataframe tbody tr th {\n",
       "        vertical-align: top;\n",
       "    }\n",
       "\n",
       "    .dataframe thead th {\n",
       "        text-align: right;\n",
       "    }\n",
       "</style>\n",
       "<table border=\"1\" class=\"dataframe\">\n",
       "  <thead>\n",
       "    <tr style=\"text-align: right;\">\n",
       "      <th></th>\n",
       "      <th>token</th>\n",
       "      <th>similarity</th>\n",
       "    </tr>\n",
       "  </thead>\n",
       "  <tbody>\n",
       "    <tr>\n",
       "      <th>0</th>\n",
       "      <td>lewis</td>\n",
       "      <td>0.36</td>\n",
       "    </tr>\n",
       "    <tr>\n",
       "      <th>1</th>\n",
       "      <td>monarch</td>\n",
       "      <td>0.36</td>\n",
       "    </tr>\n",
       "    <tr>\n",
       "      <th>2</th>\n",
       "      <td>queen</td>\n",
       "      <td>0.35</td>\n",
       "    </tr>\n",
       "    <tr>\n",
       "      <th>3</th>\n",
       "      <td>kate</td>\n",
       "      <td>0.34</td>\n",
       "    </tr>\n",
       "    <tr>\n",
       "      <th>4</th>\n",
       "      <td>william</td>\n",
       "      <td>0.34</td>\n",
       "    </tr>\n",
       "    <tr>\n",
       "      <th>5</th>\n",
       "      <td>prince</td>\n",
       "      <td>0.34</td>\n",
       "    </tr>\n",
       "    <tr>\n",
       "      <th>6</th>\n",
       "      <td>son</td>\n",
       "      <td>0.34</td>\n",
       "    </tr>\n",
       "    <tr>\n",
       "      <th>7</th>\n",
       "      <td>james</td>\n",
       "      <td>0.34</td>\n",
       "    </tr>\n",
       "    <tr>\n",
       "      <th>8</th>\n",
       "      <td>street</td>\n",
       "      <td>0.33</td>\n",
       "    </tr>\n",
       "    <tr>\n",
       "      <th>9</th>\n",
       "      <td>paul</td>\n",
       "      <td>0.33</td>\n",
       "    </tr>\n",
       "    <tr>\n",
       "      <th>10</th>\n",
       "      <td>von</td>\n",
       "      <td>0.33</td>\n",
       "    </tr>\n",
       "    <tr>\n",
       "      <th>11</th>\n",
       "      <td>hill</td>\n",
       "      <td>0.32</td>\n",
       "    </tr>\n",
       "    <tr>\n",
       "      <th>12</th>\n",
       "      <td>george</td>\n",
       "      <td>0.32</td>\n",
       "    </tr>\n",
       "    <tr>\n",
       "      <th>13</th>\n",
       "      <td>martin</td>\n",
       "      <td>0.32</td>\n",
       "    </tr>\n",
       "    <tr>\n",
       "      <th>14</th>\n",
       "      <td>murray</td>\n",
       "      <td>0.32</td>\n",
       "    </tr>\n",
       "    <tr>\n",
       "      <th>15</th>\n",
       "      <td>tyler</td>\n",
       "      <td>0.32</td>\n",
       "    </tr>\n",
       "    <tr>\n",
       "      <th>16</th>\n",
       "      <td>regional</td>\n",
       "      <td>0.32</td>\n",
       "    </tr>\n",
       "    <tr>\n",
       "      <th>17</th>\n",
       "      <td>ext</td>\n",
       "      <td>0.31</td>\n",
       "    </tr>\n",
       "    <tr>\n",
       "      <th>18</th>\n",
       "      <td>charlie</td>\n",
       "      <td>0.31</td>\n",
       "    </tr>\n",
       "    <tr>\n",
       "      <th>19</th>\n",
       "      <td>clark</td>\n",
       "      <td>0.31</td>\n",
       "    </tr>\n",
       "  </tbody>\n",
       "</table>\n",
       "</div>"
      ],
      "text/plain": [
       "       token  similarity\n",
       "0      lewis        0.36\n",
       "1    monarch        0.36\n",
       "2      queen        0.35\n",
       "3       kate        0.34\n",
       "4    william        0.34\n",
       "5     prince        0.34\n",
       "6        son        0.34\n",
       "7      james        0.34\n",
       "8     street        0.33\n",
       "9       paul        0.33\n",
       "10       von        0.33\n",
       "11      hill        0.32\n",
       "12    george        0.32\n",
       "13    martin        0.32\n",
       "14    murray        0.32\n",
       "15     tyler        0.32\n",
       "16  regional        0.32\n",
       "17       ext        0.31\n",
       "18   charlie        0.31\n",
       "19     clark        0.31"
      ]
     },
     "execution_count": 26,
     "metadata": {},
     "output_type": "execute_result"
    }
   ],
   "source": [
    "most_sim = best_model.wv.most_similar(positive=['woman', 'king'], negative=['man'], topn=20)\n",
    "pd.DataFrame(most_sim, columns=['token', 'similarity'])"
   ]
  },
  {
   "cell_type": "code",
   "execution_count": 126,
   "metadata": {
    "ExecuteTime": {
     "end_time": "2020-03-12T17:30:26.704078Z",
     "start_time": "2020-03-12T17:30:25.758666Z"
    }
   },
   "outputs": [
    {
     "data": {
      "image/png": "[encoded data removed]",
      "text/plain": [
       "<Figure size 1152x360 with 3 Axes>"
      ]
     },
     "metadata": {
      "needs_background": "light"
     },
     "output_type": "display_data"
    }
   ],
   "source": [
    "fig, axes = plt.subplots(figsize=(16, 5), ncols=2)\n",
    "\n",
    "axes[0] = results.loc[:, ['Correct', 'Incorrect']].plot.bar(stacked=True, ax=axes[0]\n",
    "                                                           , title='Analogy Accuracy')\n",
    "ax1 = results.loc[:, ['Average']].plot(ax=axes[0], secondary_y=True, lw=1, c='k', rot=35)\n",
    "ax1.yaxis.set_major_formatter(FuncFormatter(lambda y, _: '{:.0%}'.format(y)))\n",
    "\n",
    "(pd.DataFrame(most_sim, columns=['token', 'similarity'])\n",
    " .set_index('token').similarity\n",
    " .sort_values().tail(10).plot.barh(xlim=(.3, .37), ax=axes[1], title='Closest matches for Woman + King - Man'))\n",
    "fig.tight_layout()\n",
    "fig.savefig('figures/w2v_evaluation', dpi=300);"
   ]
  },
  {
   "cell_type": "code",
   "execution_count": 14,
   "metadata": {
    "ExecuteTime": {
     "end_time": "2020-03-12T16:27:29.792404Z",
     "start_time": "2020-03-12T16:27:23.478917Z"
    }
   },
   "outputs": [],
   "source": [
    "counter = Counter(sentence_path.read_text().split())"
   ]
  },
  {
   "cell_type": "code",
   "execution_count": 15,
   "metadata": {
    "ExecuteTime": {
     "end_time": "2020-03-12T16:27:29.982268Z",
     "start_time": "2020-03-12T16:27:29.793274Z"
    }
   },
   "outputs": [],
   "source": [
    "most_common = pd.DataFrame(counter.most_common(), columns=['token', 'count'])\n",
    "most_common = most_common[most_common['count']> MIN_FREQ]\n",
    "most_common['p'] = np.log(most_common['count'])/np.log(most_common['count']).sum()"
   ]
  },
  {
   "cell_type": "code",
   "execution_count": 63,
   "metadata": {
    "ExecuteTime": {
     "end_time": "2020-03-12T17:06:47.230838Z",
     "start_time": "2020-03-12T17:06:47.199066Z"
    },
    "scrolled": false,
    "slideshow": {
     "slide_type": "slide"
    }
   },
   "outputs": [
    {
     "data": {
      "text/html": [
       "<div>\n",
       "<style scoped>\n",
       "    .dataframe tbody tr th:only-of-type {\n",
       "        vertical-align: middle;\n",
       "    }\n",
       "\n",
       "    .dataframe tbody tr th {\n",
       "        vertical-align: top;\n",
       "    }\n",
       "\n",
       "    .dataframe thead th {\n",
       "        text-align: right;\n",
       "    }\n",
       "</style>\n",
       "<table border=\"1\" class=\"dataframe\">\n",
       "  <thead>\n",
       "    <tr style=\"text-align: right;\">\n",
       "      <th></th>\n",
       "      <th>0</th>\n",
       "      <th>1</th>\n",
       "      <th>2</th>\n",
       "      <th>3</th>\n",
       "      <th>4</th>\n",
       "      <th>5</th>\n",
       "      <th>6</th>\n",
       "      <th>7</th>\n",
       "      <th>8</th>\n",
       "      <th>9</th>\n",
       "    </tr>\n",
       "  </thead>\n",
       "  <tbody>\n",
       "    <tr>\n",
       "      <th>profiles</th>\n",
       "      <td>profile</td>\n",
       "      <td>users</td>\n",
       "      <td>political_consultancy_cambridge_analytica</td>\n",
       "      <td>sophisticated</td>\n",
       "      <td>facebook</td>\n",
       "      <td>safety_tolerability</td>\n",
       "      <td>authentic</td>\n",
       "      <td>uncover</td>\n",
       "      <td>tailored</td>\n",
       "      <td>advertisers</td>\n",
       "    </tr>\n",
       "    <tr>\n",
       "      <th>divestments</th>\n",
       "      <td>divestitures</td>\n",
       "      <td>acquisitions</td>\n",
       "      <td>takeovers</td>\n",
       "      <td>bayer</td>\n",
       "      <td>consolidation</td>\n",
       "      <td>disposals</td>\n",
       "      <td>acquisitions_divestitures</td>\n",
       "      <td>divestment</td>\n",
       "      <td>linde</td>\n",
       "      <td>joint_ventures</td>\n",
       "    </tr>\n",
       "    <tr>\n",
       "      <th>readiness</th>\n",
       "      <td>training</td>\n",
       "      <td>military</td>\n",
       "      <td>command</td>\n",
       "      <td>air_force</td>\n",
       "      <td>preparations</td>\n",
       "      <td>militaries</td>\n",
       "      <td>defense</td>\n",
       "      <td>marine_corps</td>\n",
       "      <td>missiles</td>\n",
       "      <td>combat</td>\n",
       "    </tr>\n",
       "    <tr>\n",
       "      <th>arsenal</th>\n",
       "      <td>nuclear_weapons</td>\n",
       "      <td>russia</td>\n",
       "      <td>ballistic_missile</td>\n",
       "      <td>weapons</td>\n",
       "      <td>hezbollah</td>\n",
       "      <td>pyongyang</td>\n",
       "      <td>missiles</td>\n",
       "      <td>missile</td>\n",
       "      <td>nuclear_missile</td>\n",
       "      <td>nuclear_arsenal</td>\n",
       "    </tr>\n",
       "    <tr>\n",
       "      <th>supply_disruptions</th>\n",
       "      <td>disruptions</td>\n",
       "      <td>raw_material</td>\n",
       "      <td>disruption</td>\n",
       "      <td>prices</td>\n",
       "      <td>downturn</td>\n",
       "      <td>glut</td>\n",
       "      <td>volatility</td>\n",
       "      <td>oversupply</td>\n",
       "      <td>geopolitical</td>\n",
       "      <td>declines</td>\n",
       "    </tr>\n",
       "    <tr>\n",
       "      <th>ethics</th>\n",
       "      <td>integrity</td>\n",
       "      <td>ethical</td>\n",
       "      <td>governance</td>\n",
       "      <td>epa</td>\n",
       "      <td>corporate_governance</td>\n",
       "      <td>principles</td>\n",
       "      <td>watchdog</td>\n",
       "      <td>violated</td>\n",
       "      <td>audit</td>\n",
       "      <td>pruitt</td>\n",
       "    </tr>\n",
       "    <tr>\n",
       "      <th>german_carmakers</th>\n",
       "      <td>carmakers</td>\n",
       "      <td>automakers</td>\n",
       "      <td>volkswagen</td>\n",
       "      <td>diesel_vehicles</td>\n",
       "      <td>cars</td>\n",
       "      <td>self_driving_cars</td>\n",
       "      <td>carmaker</td>\n",
       "      <td>daimler</td>\n",
       "      <td>tariffs</td>\n",
       "      <td>vw</td>\n",
       "    </tr>\n",
       "    <tr>\n",
       "      <th>averted</th>\n",
       "      <td>avert</td>\n",
       "      <td>strikes</td>\n",
       "      <td>unions</td>\n",
       "      <td>victoria_bryan</td>\n",
       "      <td>possible</td>\n",
       "      <td>walkouts</td>\n",
       "      <td>dent</td>\n",
       "      <td>strike</td>\n",
       "      <td>imminent</td>\n",
       "      <td>paul_carrel</td>\n",
       "    </tr>\n",
       "    <tr>\n",
       "      <th>regulated</th>\n",
       "      <td>utility</td>\n",
       "      <td>euronext_paris</td>\n",
       "      <td>utilities</td>\n",
       "      <td>cannabis</td>\n",
       "      <td>regulate</td>\n",
       "      <td>bdc</td>\n",
       "      <td>stringent</td>\n",
       "      <td>regulates</td>\n",
       "      <td>unregulated</td>\n",
       "      <td>electricity</td>\n",
       "    </tr>\n",
       "    <tr>\n",
       "      <th>ltd</th>\n",
       "      <td>inc</td>\n",
       "      <td>corp</td>\n",
       "      <td>holdings</td>\n",
       "      <td>brief</td>\n",
       "      <td>llc</td>\n",
       "      <td>view_original_content</td>\n",
       "      <td>group</td>\n",
       "      <td>subsidiary</td>\n",
       "      <td>corporation</td>\n",
       "      <td>mln</td>\n",
       "    </tr>\n",
       "  </tbody>\n",
       "</table>\n",
       "</div>"
      ],
      "text/plain": [
       "                                  0               1  \\\n",
       "profiles                    profile           users   \n",
       "divestments            divestitures    acquisitions   \n",
       "readiness                  training        military   \n",
       "arsenal             nuclear_weapons          russia   \n",
       "supply_disruptions      disruptions    raw_material   \n",
       "ethics                    integrity         ethical   \n",
       "german_carmakers          carmakers      automakers   \n",
       "averted                       avert         strikes   \n",
       "regulated                   utility  euronext_paris   \n",
       "ltd                             inc            corp   \n",
       "\n",
       "                                                            2  \\\n",
       "profiles            political_consultancy_cambridge_analytica   \n",
       "divestments                                         takeovers   \n",
       "readiness                                             command   \n",
       "arsenal                                     ballistic_missile   \n",
       "supply_disruptions                                 disruption   \n",
       "ethics                                             governance   \n",
       "german_carmakers                                   volkswagen   \n",
       "averted                                                unions   \n",
       "regulated                                           utilities   \n",
       "ltd                                                  holdings   \n",
       "\n",
       "                                  3                     4  \\\n",
       "profiles              sophisticated              facebook   \n",
       "divestments                   bayer         consolidation   \n",
       "readiness                 air_force          preparations   \n",
       "arsenal                     weapons             hezbollah   \n",
       "supply_disruptions           prices              downturn   \n",
       "ethics                          epa  corporate_governance   \n",
       "german_carmakers    diesel_vehicles                  cars   \n",
       "averted              victoria_bryan              possible   \n",
       "regulated                  cannabis              regulate   \n",
       "ltd                           brief                   llc   \n",
       "\n",
       "                                        5                          6  \\\n",
       "profiles              safety_tolerability                  authentic   \n",
       "divestments                     disposals  acquisitions_divestitures   \n",
       "readiness                      militaries                    defense   \n",
       "arsenal                         pyongyang                   missiles   \n",
       "supply_disruptions                   glut                 volatility   \n",
       "ethics                         principles                   watchdog   \n",
       "german_carmakers        self_driving_cars                   carmaker   \n",
       "averted                          walkouts                       dent   \n",
       "regulated                             bdc                  stringent   \n",
       "ltd                 view_original_content                      group   \n",
       "\n",
       "                               7                8                9  \n",
       "profiles                 uncover         tailored      advertisers  \n",
       "divestments           divestment            linde   joint_ventures  \n",
       "readiness           marine_corps         missiles           combat  \n",
       "arsenal                  missile  nuclear_missile  nuclear_arsenal  \n",
       "supply_disruptions    oversupply     geopolitical         declines  \n",
       "ethics                  violated            audit           pruitt  \n",
       "german_carmakers         daimler          tariffs               vw  \n",
       "averted                   strike         imminent      paul_carrel  \n",
       "regulated              regulates      unregulated      electricity  \n",
       "ltd                   subsidiary      corporation              mln  "
      ]
     },
     "execution_count": 63,
     "metadata": {},
     "output_type": "execute_result"
    }
   ],
   "source": [
    "similars = pd.DataFrame()\n",
    "for token in np.random.choice(most_common.token, size=10, p=most_common.p):\n",
    "    similars[token] = [s[0] for s in best_model.wv.most_similar(token)]\n",
    "similars.T"
   ]
  },
  {
   "cell_type": "code",
   "execution_count": 127,
   "metadata": {
    "ExecuteTime": {
     "end_time": "2020-03-12T19:15:01.024387Z",
     "start_time": "2020-03-12T19:15:01.019332Z"
    }
   },
   "outputs": [],
   "source": [
    "similars.T.iloc[:5, :5].to_csv('figures/most_similar.csv')"
   ]
  },
  {
   "cell_type": "markdown",
   "metadata": {},
   "source": [
    "## Resources\n",
    "\n",
    "- [Distributed representations of words and phrases and their compositionality](http://papers.nips.cc/paper/5021-distributed-representations-of-words-and-phrases-and-their-compositionality.pdf)\n",
    "- [Efficient estimation of word representations in vector space](https://arxiv.org/pdf/1301.3781.pdf?)\n",
    "- [Sebastian Ruder's Blog](http://ruder.io/word-embeddings-1/)"
   ]
  }
 ],
 "metadata": {
  "celltoolbar": "Slideshow",
  "kernelspec": {
   "display_name": "Python 3",
   "language": "python",
   "name": "python3"
  },
  "language_info": {
   "codemirror_mode": {
    "name": "ipython",
    "version": 3
   },
   "file_extension": ".py",
   "mimetype": "text/x-python",
   "name": "python",
   "nbconvert_exporter": "python",
   "pygments_lexer": "ipython3",
   "version": "3.7.6"
  },
  "toc": {
   "base_numbering": 1,
   "nav_menu": {},
   "number_sections": true,
   "sideBar": true,
   "skip_h1_title": true,
   "title_cell": "Table of Contents",
   "title_sidebar": "Contents",
   "toc_cell": false,
   "toc_position": {
    "height": "47px",
    "left": "38px",
    "right": "1340px",
    "top": "66.5px",
    "width": "362px"
   },
   "toc_section_display": true,
   "toc_window_display": true
  }
 },
 "nbformat": 4,
 "nbformat_minor": 2
}
