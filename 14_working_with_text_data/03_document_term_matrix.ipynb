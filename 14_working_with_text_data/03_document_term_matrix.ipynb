{
 "cells": [
  {
   "cell_type": "markdown",
   "metadata": {
    "slideshow": {
     "slide_type": "slide"
    }
   },
   "source": [
    "# From tokens to numbers: the document-term matrix"
   ]
  },
  {
   "cell_type": "markdown",
   "metadata": {},
   "source": [
    "The bag of words model represents a document based on the frequency of the terms or tokens it contains. Each document becomes a vector with one entry for each token in the vocabulary that reflects the token’s relevance to the document.\n",
    "\n",
    "The document-term matrix is straightforward to compute given the vocabulary. However, it is also a crude simplification because it abstracts from word order and grammatical relationships. Nonetheless, it often achieves good results in text classification quickly and, thus, a very useful starting point.\n",
    "\n",
    "There are several ways to weigh a token’s vector entry to capture its relevance to the document. We will illustrate below how to use sklearn to use binary flags that indicate presence or absence, counts, and weighted counts that account for differences in term frequencies across all documents, i.e., in the corpus. "
   ]
  },
  {
   "cell_type": "markdown",
   "metadata": {},
   "source": [
    "## Imports & Settings"
   ]
  },
  {
   "cell_type": "code",
   "execution_count": 1,
   "metadata": {
    "ExecuteTime": {
     "end_time": "2018-11-26T03:42:04.412794Z",
     "start_time": "2018-11-26T03:42:04.173698Z"
    },
    "slideshow": {
     "slide_type": "fragment"
    }
   },
   "outputs": [],
   "source": [
    "%matplotlib inline\n",
    "import warnings\n",
    "from collections import Counter, OrderedDict\n",
    "from pathlib import Path\n",
    "\n",
    "import numpy as np\n",
    "import pandas as pd\n",
    "from scipy import sparse\n",
    "from scipy.spatial.distance import pdist, squareform\n",
    "\n",
    "# Visualization\n",
    "import matplotlib.pyplot as plt\n",
    "from matplotlib.ticker import FuncFormatter, ScalarFormatter\n",
    "import seaborn as sns\n",
    "import ipywidgets as widgets\n",
    "from ipywidgets import interact, FloatRangeSlider\n",
    "\n",
    "# spacy for language processing\n",
    "import spacy\n",
    "\n",
    "# sklearn for feature extraction & modeling\n",
    "from sklearn.feature_extraction.text import CountVectorizer, TfidfVectorizer, TfidfTransformer\n",
    "from sklearn.model_selection import train_test_split\n",
    "from sklearn.externals import joblib"
   ]
  },
  {
   "cell_type": "code",
   "execution_count": 2,
   "metadata": {
    "ExecuteTime": {
     "end_time": "2018-11-26T03:42:04.416595Z",
     "start_time": "2018-11-26T03:42:04.414080Z"
    }
   },
   "outputs": [],
   "source": [
    "sns.set_style('whitegrid')\n",
    "plt.rcParams['figure.figsize'] = (14.0, 8.7)\n",
    "warnings.filterwarnings('ignore')\n",
    "pd.options.display.float_format = '{:,.2f}'.format"
   ]
  },
  {
   "cell_type": "markdown",
   "metadata": {
    "slideshow": {
     "slide_type": "skip"
    }
   },
   "source": [
    "## Load BBC data"
   ]
  },
  {
   "cell_type": "code",
   "execution_count": 3,
   "metadata": {
    "ExecuteTime": {
     "end_time": "2018-11-24T18:52:26.088715Z",
     "start_time": "2018-11-24T18:52:25.610767Z"
    },
    "slideshow": {
     "slide_type": "skip"
    }
   },
   "outputs": [],
   "source": [
    "path = Path('..', 'data', 'bbc')\n",
    "files = sorted(list(path.glob('**/*.txt')))\n",
    "doc_list = []\n",
    "for i, file in enumerate(files):\n",
    "    topic = file.parts[-2]\n",
    "    article = file.read_text(encoding='latin1').split('\\n')\n",
    "    heading = article[0].strip()\n",
    "    body = ' '.join([l.strip() for l in article[1:]]).strip()\n",
    "    doc_list.append([topic, heading, body])"
   ]
  },
  {
   "cell_type": "markdown",
   "metadata": {
    "slideshow": {
     "slide_type": "skip"
    }
   },
   "source": [
    "### Convert to DataFrame"
   ]
  },
  {
   "cell_type": "code",
   "execution_count": 4,
   "metadata": {
    "ExecuteTime": {
     "end_time": "2018-11-24T18:52:28.765174Z",
     "start_time": "2018-11-24T18:52:28.744236Z"
    },
    "slideshow": {
     "slide_type": "skip"
    }
   },
   "outputs": [
    {
     "name": "stdout",
     "output_type": "stream",
     "text": [
      "<class 'pandas.core.frame.DataFrame'>\n",
      "RangeIndex: 2225 entries, 0 to 2224\n",
      "Data columns (total 3 columns):\n",
      " #   Column   Non-Null Count  Dtype \n",
      "---  ------   --------------  ----- \n",
      " 0   topic    2225 non-null   object\n",
      " 1   heading  2225 non-null   object\n",
      " 2   body     2225 non-null   object\n",
      "dtypes: object(3)\n",
      "memory usage: 52.3+ KB\n"
     ]
    }
   ],
   "source": [
    "docs = pd.DataFrame(doc_list, columns=['topic', 'heading', 'body'])\n",
    "docs.info()"
   ]
  },
  {
   "cell_type": "markdown",
   "metadata": {
    "slideshow": {
     "slide_type": "slide"
    }
   },
   "source": [
    "### Inspect results"
   ]
  },
  {
   "cell_type": "code",
   "execution_count": 5,
   "metadata": {
    "ExecuteTime": {
     "end_time": "2018-11-24T18:52:29.816663Z",
     "start_time": "2018-11-24T18:52:29.791511Z"
    },
    "slideshow": {
     "slide_type": "fragment"
    }
   },
   "outputs": [
    {
     "data": {
      "text/html": [
       "<div>\n",
       "<style scoped>\n",
       "    .dataframe tbody tr th:only-of-type {\n",
       "        vertical-align: middle;\n",
       "    }\n",
       "\n",
       "    .dataframe tbody tr th {\n",
       "        vertical-align: top;\n",
       "    }\n",
       "\n",
       "    .dataframe thead th {\n",
       "        text-align: right;\n",
       "    }\n",
       "</style>\n",
       "<table border=\"1\" class=\"dataframe\">\n",
       "  <thead>\n",
       "    <tr style=\"text-align: right;\">\n",
       "      <th></th>\n",
       "      <th>topic</th>\n",
       "      <th>heading</th>\n",
       "      <th>body</th>\n",
       "    </tr>\n",
       "  </thead>\n",
       "  <tbody>\n",
       "    <tr>\n",
       "      <th>1777</th>\n",
       "      <td>sport</td>\n",
       "      <td>Henin-Hardenne beaten on comeback</td>\n",
       "      <td>Justine Henin-Hardenne lost to Elena Dementiev...</td>\n",
       "    </tr>\n",
       "    <tr>\n",
       "      <th>1637</th>\n",
       "      <td>sport</td>\n",
       "      <td>Worcester v Sale (Fri)</td>\n",
       "      <td>Sixways  Friday, 25 February  2000 GMT  They m...</td>\n",
       "    </tr>\n",
       "    <tr>\n",
       "      <th>563</th>\n",
       "      <td>entertainment</td>\n",
       "      <td>Mumbai bombs movie postponed</td>\n",
       "      <td>The release of a film about the Mumbai (Bombay...</td>\n",
       "    </tr>\n",
       "    <tr>\n",
       "      <th>1644</th>\n",
       "      <td>sport</td>\n",
       "      <td>Harinordoquy suffers France axe</td>\n",
       "      <td>Number eight Imanol Harinordoquy has been drop...</td>\n",
       "    </tr>\n",
       "    <tr>\n",
       "      <th>440</th>\n",
       "      <td>business</td>\n",
       "      <td>Trade gap narrows as exports rise</td>\n",
       "      <td>The UK's trade gap narrowed in November, helpe...</td>\n",
       "    </tr>\n",
       "    <tr>\n",
       "      <th>2199</th>\n",
       "      <td>tech</td>\n",
       "      <td>T-Mobile bets on 'pocket office'</td>\n",
       "      <td>T-Mobile has launched its latest \"pocket offic...</td>\n",
       "    </tr>\n",
       "    <tr>\n",
       "      <th>83</th>\n",
       "      <td>business</td>\n",
       "      <td>Mexican in US send $16bn home</td>\n",
       "      <td>Mexican labourers living in the US sent a reco...</td>\n",
       "    </tr>\n",
       "    <tr>\n",
       "      <th>2011</th>\n",
       "      <td>tech</td>\n",
       "      <td>Call for action on internet scam</td>\n",
       "      <td>Phone companies are not doing enough to warn c...</td>\n",
       "    </tr>\n",
       "    <tr>\n",
       "      <th>1431</th>\n",
       "      <td>sport</td>\n",
       "      <td>Time to get tough on friendlies?</td>\n",
       "      <td>For an international manager, a friendly provi...</td>\n",
       "    </tr>\n",
       "    <tr>\n",
       "      <th>1084</th>\n",
       "      <td>politics</td>\n",
       "      <td>Blair congratulates Bush on win</td>\n",
       "      <td>Tony Blair has said he looks forward to contin...</td>\n",
       "    </tr>\n",
       "  </tbody>\n",
       "</table>\n",
       "</div>"
      ],
      "text/plain": [
       "              topic                            heading  \\\n",
       "1777          sport  Henin-Hardenne beaten on comeback   \n",
       "1637          sport             Worcester v Sale (Fri)   \n",
       "563   entertainment       Mumbai bombs movie postponed   \n",
       "1644          sport    Harinordoquy suffers France axe   \n",
       "440        business  Trade gap narrows as exports rise   \n",
       "2199           tech   T-Mobile bets on 'pocket office'   \n",
       "83         business      Mexican in US send $16bn home   \n",
       "2011           tech   Call for action on internet scam   \n",
       "1431          sport   Time to get tough on friendlies?   \n",
       "1084       politics    Blair congratulates Bush on win   \n",
       "\n",
       "                                                   body  \n",
       "1777  Justine Henin-Hardenne lost to Elena Dementiev...  \n",
       "1637  Sixways  Friday, 25 February  2000 GMT  They m...  \n",
       "563   The release of a film about the Mumbai (Bombay...  \n",
       "1644  Number eight Imanol Harinordoquy has been drop...  \n",
       "440   The UK's trade gap narrowed in November, helpe...  \n",
       "2199  T-Mobile has launched its latest \"pocket offic...  \n",
       "83    Mexican labourers living in the US sent a reco...  \n",
       "2011  Phone companies are not doing enough to warn c...  \n",
       "1431  For an international manager, a friendly provi...  \n",
       "1084  Tony Blair has said he looks forward to contin...  "
      ]
     },
     "execution_count": 5,
     "metadata": {},
     "output_type": "execute_result"
    }
   ],
   "source": [
    "docs.sample(10)"
   ]
  },
  {
   "cell_type": "markdown",
   "metadata": {
    "slideshow": {
     "slide_type": "slide"
    }
   },
   "source": [
    "### Data drawn from 5 different categories"
   ]
  },
  {
   "cell_type": "code",
   "execution_count": 6,
   "metadata": {
    "ExecuteTime": {
     "end_time": "2018-11-24T18:52:32.338601Z",
     "start_time": "2018-11-24T18:52:32.236295Z"
    },
    "slideshow": {
     "slide_type": "fragment"
    }
   },
   "outputs": [
    {
     "data": {
      "text/html": [
       "<style  type=\"text/css\" >\n",
       "</style><table id=\"T_35b8c7da_915b_11ea_91c6_6045cb72e6b3\" ><thead>    <tr>        <th class=\"blank level0\" ></th>        <th class=\"col_heading level0 col0\" >count</th>    </tr></thead><tbody>\n",
       "                <tr>\n",
       "                        <th id=\"T_35b8c7da_915b_11ea_91c6_6045cb72e6b3level0_row0\" class=\"row_heading level0 row0\" >sport</th>\n",
       "                        <td id=\"T_35b8c7da_915b_11ea_91c6_6045cb72e6b3row0_col0\" class=\"data row0 col0\" >22.97%</td>\n",
       "            </tr>\n",
       "            <tr>\n",
       "                        <th id=\"T_35b8c7da_915b_11ea_91c6_6045cb72e6b3level0_row1\" class=\"row_heading level0 row1\" >business</th>\n",
       "                        <td id=\"T_35b8c7da_915b_11ea_91c6_6045cb72e6b3row1_col0\" class=\"data row1 col0\" >22.92%</td>\n",
       "            </tr>\n",
       "            <tr>\n",
       "                        <th id=\"T_35b8c7da_915b_11ea_91c6_6045cb72e6b3level0_row2\" class=\"row_heading level0 row2\" >politics</th>\n",
       "                        <td id=\"T_35b8c7da_915b_11ea_91c6_6045cb72e6b3row2_col0\" class=\"data row2 col0\" >18.74%</td>\n",
       "            </tr>\n",
       "            <tr>\n",
       "                        <th id=\"T_35b8c7da_915b_11ea_91c6_6045cb72e6b3level0_row3\" class=\"row_heading level0 row3\" >tech</th>\n",
       "                        <td id=\"T_35b8c7da_915b_11ea_91c6_6045cb72e6b3row3_col0\" class=\"data row3 col0\" >18.02%</td>\n",
       "            </tr>\n",
       "            <tr>\n",
       "                        <th id=\"T_35b8c7da_915b_11ea_91c6_6045cb72e6b3level0_row4\" class=\"row_heading level0 row4\" >entertainment</th>\n",
       "                        <td id=\"T_35b8c7da_915b_11ea_91c6_6045cb72e6b3row4_col0\" class=\"data row4 col0\" >17.35%</td>\n",
       "            </tr>\n",
       "    </tbody></table>"
      ],
      "text/plain": [
       "<pandas.io.formats.style.Styler at 0x7f069c5c95d0>"
      ]
     },
     "execution_count": 6,
     "metadata": {},
     "output_type": "execute_result"
    }
   ],
   "source": [
    "docs.topic.value_counts(normalize=True).to_frame('count').style.format({'count': '{:,.2%}'.format})"
   ]
  },
  {
   "cell_type": "markdown",
   "metadata": {},
   "source": [
    "## Explore Corpus"
   ]
  },
  {
   "cell_type": "markdown",
   "metadata": {},
   "source": [
    "### Token Count via Counter()"
   ]
  },
  {
   "cell_type": "code",
   "execution_count": 7,
   "metadata": {
    "ExecuteTime": {
     "end_time": "2018-11-24T18:52:34.840079Z",
     "start_time": "2018-11-24T18:52:34.712383Z"
    },
    "slideshow": {
     "slide_type": "fragment"
    }
   },
   "outputs": [
    {
     "name": "stdout",
     "output_type": "stream",
     "text": [
      "Total word count: 842,910 | per article: 379\n"
     ]
    }
   ],
   "source": [
    "# word count\n",
    "word_count = docs.body.str.split().str.len().sum()\n",
    "print(f'Total word count: {word_count:,d} | per article: {word_count/len(docs):,.0f}')"
   ]
  },
  {
   "cell_type": "code",
   "execution_count": 8,
   "metadata": {
    "ExecuteTime": {
     "end_time": "2018-11-24T18:52:35.395934Z",
     "start_time": "2018-11-24T18:52:35.069717Z"
    }
   },
   "outputs": [
    {
     "name": "stdout",
     "output_type": "stream",
     "text": [
      "500 1000 1500 2000 "
     ]
    }
   ],
   "source": [
    "token_count = Counter()\n",
    "for i, doc in enumerate(docs.body.tolist(), 1):\n",
    "    if i % 500 == 0:\n",
    "        print(i, end=' ', flush=True)\n",
    "    token_count.update([t.strip() for t in doc.split()])"
   ]
  },
  {
   "cell_type": "code",
   "execution_count": 9,
   "metadata": {
    "ExecuteTime": {
     "end_time": "2018-11-24T18:52:39.380684Z",
     "start_time": "2018-11-24T18:52:39.311958Z"
    }
   },
   "outputs": [],
   "source": [
    "tokens = (pd.DataFrame(token_count.most_common(), columns=['token', 'count'])\n",
    "          .set_index('token')\n",
    "          .squeeze())"
   ]
  },
  {
   "cell_type": "code",
   "execution_count": 10,
   "metadata": {
    "ExecuteTime": {
     "end_time": "2018-11-24T18:52:40.334798Z",
     "start_time": "2018-11-24T18:52:39.488587Z"
    }
   },
   "outputs": [
    {
     "data": {
      "image/png": "[encoded data removed]",
      "text/plain": [
       "<Figure size 1008x288 with 1 Axes>"
      ]
     },
     "metadata": {},
     "output_type": "display_data"
    }
   ],
   "source": [
    "n = 50\n",
    "(tokens\n",
    " .iloc[:50]\n",
    " .plot\n",
    " .bar(figsize=(14, 4), title=f'Most frequent {n} of {len(tokens):,d} tokens'));"
   ]
  },
  {
   "cell_type": "markdown",
   "metadata": {
    "slideshow": {
     "slide_type": "slide"
    }
   },
   "source": [
    "## Document-Term Matrix with `CountVectorizer`"
   ]
  },
  {
   "cell_type": "markdown",
   "metadata": {},
   "source": [
    "The scikit-learn preprocessing module offers two tools to create a document-term matrix. The [CountVectorizer](http://scikit-learn.org/stable/modules/generated/sklearn.feature_extraction.text.CountVectorizer.html) uses binary or absolute counts to measure the term frequency tf(d, t) for each document d and token t.\n",
    "\n",
    "The [TfIDFVectorizer](https://scikit-learn.org/stable/modules/generated/sklearn.feature_extraction.text.TfidfVectorizer.html), in contrast, weighs the (absolute) term frequency by the inverse document frequency (idf). As a result, a term that appears in more documents will receive a lower weight than a token with the same frequency for a given document but lower frequency across all documents. \n",
    "\n",
    "The resulting tf-idf vectors for each document are normalized with respect to their absolute or squared totals (see the sklearn documentation for details). The tf-idf measure was originally used in information retrieval to rank search engine results and has subsequently proven useful for text classification or clustering."
   ]
  },
  {
   "cell_type": "markdown",
   "metadata": {},
   "source": [
    "Both tools use the same interface and perform tokenization and further optional preprocessing of a list of documents before vectorizing the text by generating token counts to populate the document-term matrix.\n",
    "\n",
    "Key parameters that affect the size of the vocabulary include:\n",
    "\n",
    "- `stop_words`: use a built-in or provide a list of (frequent) words to exclude\n",
    "- `ngram_range`: include n-grams in a range for n defined by a tuple of (nmin, nmax)\n",
    "- `lowercase`: convert characters accordingly (default is True)\n",
    "- `min_df `/ max_df: ignore words that appear in less / more (int) or a smaller / larger share of documents (if float [0.0,1.0])\n",
    "- `max_features`: limit number of tokens in vocabulary accordingly\n",
    "- `binary`: set non-zero counts to 1 True"
   ]
  },
  {
   "cell_type": "markdown",
   "metadata": {},
   "source": [
    "### Key parameters"
   ]
  },
  {
   "cell_type": "code",
   "execution_count": 11,
   "metadata": {
    "ExecuteTime": {
     "end_time": "2018-11-20T15:57:39.362331Z",
     "start_time": "2018-11-20T15:57:39.360293Z"
    },
    "scrolled": false,
    "slideshow": {
     "slide_type": "fragment"
    }
   },
   "outputs": [
    {
     "name": "stdout",
     "output_type": "stream",
     "text": [
      "Convert a collection of text documents to a matrix of token counts\n",
      "\n",
      "    This implementation produces a sparse representation of the counts using\n",
      "    scipy.sparse.csr_matrix.\n",
      "\n",
      "    If you do not provide an a-priori dictionary and you do not use an analyzer\n",
      "    that does some kind of feature selection then the number of features will\n",
      "    be equal to the vocabulary size found by analyzing the data.\n",
      "\n",
      "    Read more in the :ref:`User Guide <text_feature_extraction>`.\n",
      "\n",
      "    Parameters\n",
      "    ----------\n",
      "    input : string {'filename', 'file', 'content'}\n",
      "        If 'filename', the sequence passed as an argument to fit is\n",
      "        expected to be a list of filenames that need reading to fetch\n",
      "        the raw content to analyze.\n",
      "\n",
      "        If 'file', the sequence items must have a 'read' method (file-like\n",
      "        object) that is called to fetch the bytes in memory.\n",
      "\n",
      "        Otherwise the input is expected to be the sequence strings or\n",
      "        bytes items are expected to be analyzed directly.\n",
      "\n",
      "    encoding : string, 'utf-8' by default.\n",
      "        If bytes or files are given to analyze, this encoding is used to\n",
      "        decode.\n",
      "\n",
      "    decode_error : {'strict', 'ignore', 'replace'}\n",
      "        Instruction on what to do if a byte sequence is given to analyze that\n",
      "        contains characters not of the given `encoding`. By default, it is\n",
      "        'strict', meaning that a UnicodeDecodeError will be raised. Other\n",
      "        values are 'ignore' and 'replace'.\n",
      "\n",
      "    strip_accents : {'ascii', 'unicode', None}\n",
      "        Remove accents and perform other character normalization\n",
      "        during the preprocessing step.\n",
      "        'ascii' is a fast method that only works on characters that have\n",
      "        an direct ASCII mapping.\n",
      "        'unicode' is a slightly slower method that works on any characters.\n",
      "        None (default) does nothing.\n",
      "\n",
      "        Both 'ascii' and 'unicode' use NFKD normalization from\n",
      "        :func:`unicodedata.normalize`.\n",
      "\n",
      "    lowercase : boolean, True by default\n",
      "        Convert all characters to lowercase before tokenizing.\n",
      "\n",
      "    preprocessor : callable or None (default)\n",
      "        Override the preprocessing (string transformation) stage while\n",
      "        preserving the tokenizing and n-grams generation steps.\n",
      "\n",
      "    tokenizer : callable or None (default)\n",
      "        Override the string tokenization step while preserving the\n",
      "        preprocessing and n-grams generation steps.\n",
      "        Only applies if ``analyzer == 'word'``.\n",
      "\n",
      "    stop_words : string {'english'}, list, or None (default)\n",
      "        If 'english', a built-in stop word list for English is used.\n",
      "        There are several known issues with 'english' and you should\n",
      "        consider an alternative (see :ref:`stop_words`).\n",
      "\n",
      "        If a list, that list is assumed to contain stop words, all of which\n",
      "        will be removed from the resulting tokens.\n",
      "        Only applies if ``analyzer == 'word'``.\n",
      "\n",
      "        If None, no stop words will be used. max_df can be set to a value\n",
      "        in the range [0.7, 1.0) to automatically detect and filter stop\n",
      "        words based on intra corpus document frequency of terms.\n",
      "\n",
      "    token_pattern : string\n",
      "        Regular expression denoting what constitutes a \"token\", only used\n",
      "        if ``analyzer == 'word'``. The default regexp select tokens of 2\n",
      "        or more alphanumeric characters (punctuation is completely ignored\n",
      "        and always treated as a token separator).\n",
      "\n",
      "    ngram_range : tuple (min_n, max_n)\n",
      "        The lower and upper boundary of the range of n-values for different\n",
      "        n-grams to be extracted. All values of n such that min_n <= n <= max_n\n",
      "        will be used.\n",
      "\n",
      "    analyzer : string, {'word', 'char', 'char_wb'} or callable\n",
      "        Whether the feature should be made of word or character n-grams.\n",
      "        Option 'char_wb' creates character n-grams only from text inside\n",
      "        word boundaries; n-grams at the edges of words are padded with space.\n",
      "\n",
      "        If a callable is passed it is used to extract the sequence of features\n",
      "        out of the raw, unprocessed input.\n",
      "\n",
      "    max_df : float in range [0.0, 1.0] or int, default=1.0\n",
      "        When building the vocabulary ignore terms that have a document\n",
      "        frequency strictly higher than the given threshold (corpus-specific\n",
      "        stop words).\n",
      "        If float, the parameter represents a proportion of documents, integer\n",
      "        absolute counts.\n",
      "        This parameter is ignored if vocabulary is not None.\n",
      "\n",
      "    min_df : float in range [0.0, 1.0] or int, default=1\n",
      "        When building the vocabulary ignore terms that have a document\n",
      "        frequency strictly lower than the given threshold. This value is also\n",
      "        called cut-off in the literature.\n",
      "        If float, the parameter represents a proportion of documents, integer\n",
      "        absolute counts.\n",
      "        This parameter is ignored if vocabulary is not None.\n",
      "\n",
      "    max_features : int or None, default=None\n",
      "        If not None, build a vocabulary that only consider the top\n",
      "        max_features ordered by term frequency across the corpus.\n",
      "\n",
      "        This parameter is ignored if vocabulary is not None.\n",
      "\n",
      "    vocabulary : Mapping or iterable, optional\n",
      "        Either a Mapping (e.g., a dict) where keys are terms and values are\n",
      "        indices in the feature matrix, or an iterable over terms. If not\n",
      "        given, a vocabulary is determined from the input documents. Indices\n",
      "        in the mapping should not be repeated and should not have any gap\n",
      "        between 0 and the largest index.\n",
      "\n",
      "    binary : boolean, default=False\n",
      "        If True, all non zero counts are set to 1. This is useful for discrete\n",
      "        probabilistic models that model binary events rather than integer\n",
      "        counts.\n",
      "\n",
      "    dtype : type, optional\n",
      "        Type of the matrix returned by fit_transform() or transform().\n",
      "\n",
      "    Attributes\n",
      "    ----------\n",
      "    vocabulary_ : dict\n",
      "        A mapping of terms to feature indices.\n",
      "\n",
      "    stop_words_ : set\n",
      "        Terms that were ignored because they either:\n",
      "\n",
      "          - occurred in too many documents (`max_df`)\n",
      "          - occurred in too few documents (`min_df`)\n",
      "          - were cut off by feature selection (`max_features`).\n",
      "\n",
      "        This is only available if no vocabulary was given.\n",
      "\n",
      "    Examples\n",
      "    --------\n",
      "    >>> from sklearn.feature_extraction.text import CountVectorizer\n",
      "    >>> corpus = [\n",
      "    ...     'This is the first document.',\n",
      "    ...     'This document is the second document.',\n",
      "    ...     'And this is the third one.',\n",
      "    ...     'Is this the first document?',\n",
      "    ... ]\n",
      "    >>> vectorizer = CountVectorizer()\n",
      "    >>> X = vectorizer.fit_transform(corpus)\n",
      "    >>> print(vectorizer.get_feature_names())\n",
      "    ['and', 'document', 'first', 'is', 'one', 'second', 'the', 'third', 'this']\n",
      "    >>> print(X.toarray())  # doctest: +NORMALIZE_WHITESPACE\n",
      "    [[0 1 1 1 0 0 1 0 1]\n",
      "     [0 2 0 1 0 1 1 0 1]\n",
      "     [1 0 0 1 1 0 1 1 1]\n",
      "     [0 1 1 1 0 0 1 0 1]]\n",
      "\n",
      "    See also\n",
      "    --------\n",
      "    HashingVectorizer, TfidfVectorizer\n",
      "\n",
      "    Notes\n",
      "    -----\n",
      "    The ``stop_words_`` attribute can get large and increase the model size\n",
      "    when pickling. This attribute is provided only for introspection and can\n",
      "    be safely removed using delattr or set to None before pickling.\n",
      "    \n"
     ]
    }
   ],
   "source": [
    "print(CountVectorizer().__doc__)"
   ]
  },
  {
   "cell_type": "markdown",
   "metadata": {},
   "source": [
    "### Document Frequency Distribution"
   ]
  },
  {
   "cell_type": "code",
   "execution_count": 12,
   "metadata": {
    "ExecuteTime": {
     "end_time": "2018-11-24T18:52:47.934359Z",
     "start_time": "2018-11-24T18:52:47.183922Z"
    }
   },
   "outputs": [],
   "source": [
    "binary_vectorizer = CountVectorizer(max_df=1.0,\n",
    "                                    min_df=1,\n",
    "                                    binary=True)\n",
    "\n",
    "binary_dtm = binary_vectorizer.fit_transform(docs.body)"
   ]
  },
  {
   "cell_type": "code",
   "execution_count": 13,
   "metadata": {
    "ExecuteTime": {
     "end_time": "2018-11-24T18:52:47.939882Z",
     "start_time": "2018-11-24T18:52:47.936330Z"
    }
   },
   "outputs": [
    {
     "data": {
      "text/plain": [
       "<2225x29275 sparse matrix of type '<class 'numpy.int64'>'\n",
       "\twith 445870 stored elements in Compressed Sparse Row format>"
      ]
     },
     "execution_count": 13,
     "metadata": {},
     "output_type": "execute_result"
    }
   ],
   "source": [
    "binary_dtm"
   ]
  },
  {
   "cell_type": "code",
   "execution_count": 14,
   "metadata": {
    "ExecuteTime": {
     "end_time": "2018-11-24T18:52:47.949391Z",
     "start_time": "2018-11-24T18:52:47.941558Z"
    }
   },
   "outputs": [],
   "source": [
    "n_docs, n_tokens = binary_dtm.shape"
   ]
  },
  {
   "cell_type": "code",
   "execution_count": 15,
   "metadata": {
    "ExecuteTime": {
     "end_time": "2018-11-24T18:52:49.055433Z",
     "start_time": "2018-11-24T18:52:49.008016Z"
    }
   },
   "outputs": [],
   "source": [
    "tokens_dtm = binary_vectorizer.get_feature_names()"
   ]
  },
  {
   "cell_type": "markdown",
   "metadata": {},
   "source": [
    "#### CountVectorizer skips certain tokens by default"
   ]
  },
  {
   "cell_type": "code",
   "execution_count": 16,
   "metadata": {
    "ExecuteTime": {
     "end_time": "2018-11-24T18:52:51.971382Z",
     "start_time": "2018-11-24T18:52:51.770580Z"
    }
   },
   "outputs": [
    {
     "data": {
      "text/plain": [
       "Index(['!', '\"', '\"\"unconscionable,', '\"'I', '\"'Oh', '\"'We', '\"'You', '\"(When',\n",
       "       '\"...it', '\"100%',\n",
       "       ...\n",
       "       'Â£900m', 'Â£910m).', 'Â£93.6bn)', 'Â£933m', 'Â£947m', 'Â£960m',\n",
       "       'Â£98)', 'Â£99', 'Â£9m', 'Â£9m,'],\n",
       "      dtype='object', length=47927)"
      ]
     },
     "execution_count": 16,
     "metadata": {},
     "output_type": "execute_result"
    }
   ],
   "source": [
    "tokens.index.difference(pd.Index(tokens_dtm))"
   ]
  },
  {
   "cell_type": "markdown",
   "metadata": {},
   "source": [
    "#### Persist Result"
   ]
  },
  {
   "cell_type": "code",
   "execution_count": 17,
   "metadata": {
    "ExecuteTime": {
     "end_time": "2018-11-24T18:53:13.288849Z",
     "start_time": "2018-11-24T18:53:13.239281Z"
    }
   },
   "outputs": [],
   "source": [
    "dtm_path = Path('data/binary_dtm.npz')\n",
    "if not dtm_path.exists():\n",
    "    sparse.save_npz(dtm_path, binary_dtm)\n",
    "else:\n",
    "    binary_dtm = sparse.load_npz(dtm_path)"
   ]
  },
  {
   "cell_type": "code",
   "execution_count": 18,
   "metadata": {
    "ExecuteTime": {
     "end_time": "2018-11-24T18:53:32.082522Z",
     "start_time": "2018-11-24T18:53:32.047370Z"
    }
   },
   "outputs": [],
   "source": [
    "token_path = Path('data/tokens.csv')\n",
    "if not token_path.exists():\n",
    "    pd.Series(tokens_dtm).to_csv(token_path, index=False)\n",
    "else:\n",
    "    tokens = pd.read_csv(token_path, header=None, squeeze=True)"
   ]
  },
  {
   "cell_type": "code",
   "execution_count": 19,
   "metadata": {
    "ExecuteTime": {
     "end_time": "2018-11-24T18:53:32.539378Z",
     "start_time": "2018-11-24T18:53:32.529323Z"
    }
   },
   "outputs": [],
   "source": [
    "doc_freq = pd.Series(np.array(binary_dtm.sum(axis=0)).squeeze()).div(n_docs)\n",
    "max_unique_tokens = np.array(binary_dtm.sum(axis=1)).squeeze().max()"
   ]
  },
  {
   "cell_type": "markdown",
   "metadata": {},
   "source": [
    "### `min_df` vs `max_df`: Interactive Visualization"
   ]
  },
  {
   "cell_type": "markdown",
   "metadata": {},
   "source": [
    "The notebook contains an interactive visualization that explores the impact of the min_df and max_df settings on the size of the vocabulary. We read the articles into a DataFrame, set the CountVectorizer to produce binary flags and use all tokens, and call its .fit_transform() method to produce a document-term matrix:"
   ]
  },
  {
   "cell_type": "markdown",
   "metadata": {},
   "source": [
    "The visualization shows that requiring tokens to appear in at least 1%  and less than 50% of documents restricts the vocabulary to around 10% of the almost 30K tokens. \n",
    "This leaves a mode of slightly over 100 unique tokens per document (left panel), and the right panel shows the document frequency histogram for the remaining tokens."
   ]
  },
  {
   "cell_type": "code",
   "execution_count": 20,
   "metadata": {
    "ExecuteTime": {
     "end_time": "2018-11-24T18:53:35.859046Z",
     "start_time": "2018-11-24T18:53:34.349292Z"
    }
   },
   "outputs": [
    {
     "data": {
      "application/vnd.jupyter.widget-view+json": {
       "model_id": "c0fca99c43d343c589114c5d84af14f9",
       "version_major": 2,
       "version_minor": 0
      },
      "text/plain": [
       "interactive(children=(FloatRangeSlider(value=(0.0, 1.0), description='Doc. Freq.', layout=Layout(width='800px'…"
      ]
     },
     "metadata": {},
     "output_type": "display_data"
    }
   ],
   "source": [
    "df_range = FloatRangeSlider(value=[0.0, 1.0],\n",
    "                            min=0,\n",
    "                            max=1,\n",
    "                            step=0.0001,\n",
    "                            description='Doc. Freq.',\n",
    "                            disabled=False,\n",
    "                            continuous_update=True,\n",
    "                            orientation='horizontal',\n",
    "                            readout=True,\n",
    "                            readout_format='.1%',\n",
    "                            layout={'width': '800px'})\n",
    "\n",
    "@interact(df_range=df_range)\n",
    "def document_frequency_simulator(df_range):\n",
    "    min_df, max_df = df_range\n",
    "    keep = doc_freq.between(left=min_df, right=max_df)\n",
    "    left = keep.sum()\n",
    "\n",
    "    fig, axes = plt.subplots(ncols=2, figsize=(14, 6))\n",
    "\n",
    "    updated_dtm = binary_dtm.tocsc()[:, np.flatnonzero(keep)]\n",
    "    unique_tokens_per_doc = np.array(updated_dtm.sum(axis=1)).squeeze()\n",
    "    sns.distplot(unique_tokens_per_doc, ax=axes[0], kde=False, norm_hist=False)\n",
    "    axes[0].set_title('Unique Tokens per Doc')\n",
    "    axes[0].set_yscale('log')\n",
    "    axes[0].set_xlabel('# Unique Tokens')\n",
    "    axes[0].set_ylabel('# Documents (log scale)')\n",
    "    axes[0].set_xlim(0, max_unique_tokens)    \n",
    "    axes[0].yaxis.set_major_formatter(ScalarFormatter())\n",
    "\n",
    "    term_freq = pd.Series(np.array(updated_dtm.sum(axis=0)).squeeze())\n",
    "    sns.distplot(term_freq, ax=axes[1], kde=False, norm_hist=False)\n",
    "    axes[1].set_title('Document Frequency')\n",
    "    axes[1].set_ylabel('# Tokens')\n",
    "    axes[1].set_xlabel('# Documents')\n",
    "    axes[1].set_yscale('log')\n",
    "    axes[1].set_xlim(0, n_docs)\n",
    "    axes[1].yaxis.set_major_formatter(ScalarFormatter())\n",
    "\n",
    "    title = f'Document/Term Frequency Distribution | # Tokens: {left:,d} ({left/n_tokens:.2%})'\n",
    "    fig.suptitle(title, fontsize=14)\n",
    "    fig.tight_layout()\n",
    "    fig.subplots_adjust(top=.9)\n",
    "    fig.savefig('figures/d2t_frequencies', dpi=300)"
   ]
  },
  {
   "cell_type": "markdown",
   "metadata": {},
   "source": [
    "### Most similar documents"
   ]
  },
  {
   "cell_type": "markdown",
   "metadata": {},
   "source": [
    "The CountVectorizer result lets us find the most similar documents using the `pdist()` function for pairwise distances provided by the `scipy.spatial.distance` module. \n",
    "\n",
    "It returns a  condensed distance matrix with entries corresponding to the upper triangle of a square matrix. \n",
    "\n",
    "We use `np.triu_indices()` to translate the index that minimizes the distance to the row and column indices that in turn correspond to the closest token vectors. "
   ]
  },
  {
   "cell_type": "code",
   "execution_count": 21,
   "metadata": {
    "ExecuteTime": {
     "end_time": "2018-11-20T17:32:49.333518Z",
     "start_time": "2018-11-20T17:32:12.587301Z"
    }
   },
   "outputs": [],
   "source": [
    "m = binary_dtm.todense()\n",
    "pairwise_distances = pdist(m, metric='cosine')"
   ]
  },
  {
   "cell_type": "code",
   "execution_count": 22,
   "metadata": {
    "ExecuteTime": {
     "end_time": "2018-11-20T17:34:07.184576Z",
     "start_time": "2018-11-20T17:34:07.180425Z"
    }
   },
   "outputs": [],
   "source": [
    "closest = np.argmin(pairwise_distances)"
   ]
  },
  {
   "cell_type": "code",
   "execution_count": 23,
   "metadata": {
    "ExecuteTime": {
     "end_time": "2018-11-20T17:35:56.681409Z",
     "start_time": "2018-11-20T17:35:56.636021Z"
    }
   },
   "outputs": [
    {
     "data": {
      "text/plain": [
       "(6, 245)"
      ]
     },
     "execution_count": 23,
     "metadata": {},
     "output_type": "execute_result"
    }
   ],
   "source": [
    "rows, cols = np.triu_indices(n_docs)\n",
    "rows[closest], cols[closest]"
   ]
  },
  {
   "cell_type": "code",
   "execution_count": 59,
   "metadata": {
    "ExecuteTime": {
     "end_time": "2018-11-20T19:19:35.960445Z",
     "start_time": "2018-11-20T19:19:35.949452Z"
    }
   },
   "outputs": [],
   "source": [
    "docs.iloc[6].to_frame(6).join(docs.iloc[245].to_frame(245)).to_csv('data/most_similar.csv')"
   ]
  },
  {
   "cell_type": "code",
   "execution_count": 60,
   "metadata": {
    "ExecuteTime": {
     "end_time": "2018-11-20T17:44:51.872870Z",
     "start_time": "2018-11-20T17:44:51.867311Z"
    }
   },
   "outputs": [
    {
     "data": {
      "text/plain": [
       "topic                                               business\n",
       "heading                     Jobs growth still slow in the US\n",
       "body       The US created fewer jobs than expected in Jan...\n",
       "Name: 6, dtype: object"
      ]
     },
     "execution_count": 60,
     "metadata": {},
     "output_type": "execute_result"
    }
   ],
   "source": [
    "docs.iloc[6]"
   ]
  },
  {
   "cell_type": "code",
   "execution_count": 61,
   "metadata": {
    "ExecuteTime": {
     "end_time": "2018-11-20T17:45:01.657240Z",
     "start_time": "2018-11-20T17:45:01.651280Z"
    }
   },
   "outputs": [
    {
     "data": {
      "text/plain": [
       "0    28972\n",
       "1      265\n",
       "2       38\n",
       "dtype: int64"
      ]
     },
     "execution_count": 61,
     "metadata": {},
     "output_type": "execute_result"
    }
   ],
   "source": [
    "pd.DataFrame(binary_dtm[[6, 245], :].todense()).sum(0).value_counts()"
   ]
  },
  {
   "cell_type": "markdown",
   "metadata": {
    "slideshow": {
     "slide_type": "slide"
    }
   },
   "source": [
    "### Baseline document-term matrix"
   ]
  },
  {
   "cell_type": "code",
   "execution_count": 27,
   "metadata": {
    "ExecuteTime": {
     "end_time": "2018-11-20T15:57:41.142584Z",
     "start_time": "2018-11-20T15:57:40.747411Z"
    },
    "slideshow": {
     "slide_type": "fragment"
    }
   },
   "outputs": [
    {
     "data": {
      "text/plain": [
       "<2225x29275 sparse matrix of type '<class 'numpy.int64'>'\n",
       "\twith 445870 stored elements in Compressed Sparse Row format>"
      ]
     },
     "execution_count": 27,
     "metadata": {},
     "output_type": "execute_result"
    }
   ],
   "source": [
    "# Baseline: number of unique tokens\n",
    "vectorizer = CountVectorizer() # default: binary=False\n",
    "doc_term_matrix = vectorizer.fit_transform(docs.body)\n",
    "doc_term_matrix"
   ]
  },
  {
   "cell_type": "code",
   "execution_count": 28,
   "metadata": {
    "ExecuteTime": {
     "end_time": "2018-11-20T15:57:41.146307Z",
     "start_time": "2018-11-20T15:57:41.143506Z"
    },
    "slideshow": {
     "slide_type": "fragment"
    }
   },
   "outputs": [
    {
     "data": {
      "text/plain": [
       "(2225, 29275)"
      ]
     },
     "execution_count": 28,
     "metadata": {},
     "output_type": "execute_result"
    }
   ],
   "source": [
    "doc_term_matrix.shape"
   ]
  },
  {
   "cell_type": "markdown",
   "metadata": {
    "slideshow": {
     "slide_type": "slide"
    }
   },
   "source": [
    "### Inspect tokens"
   ]
  },
  {
   "cell_type": "code",
   "execution_count": 29,
   "metadata": {
    "ExecuteTime": {
     "end_time": "2018-11-20T15:57:41.174891Z",
     "start_time": "2018-11-20T15:57:41.147274Z"
    },
    "slideshow": {
     "slide_type": "fragment"
    }
   },
   "outputs": [
    {
     "data": {
      "text/plain": [
       "['00',\n",
       " '000',\n",
       " '0001',\n",
       " '000bn',\n",
       " '000m',\n",
       " '000s',\n",
       " '000th',\n",
       " '001',\n",
       " '001and',\n",
       " '001st']"
      ]
     },
     "execution_count": 29,
     "metadata": {},
     "output_type": "execute_result"
    }
   ],
   "source": [
    "# vectorizer keeps words\n",
    "words = vectorizer.get_feature_names()\n",
    "words[:10]"
   ]
  },
  {
   "cell_type": "markdown",
   "metadata": {
    "slideshow": {
     "slide_type": "slide"
    }
   },
   "source": [
    "### Inspect doc-term matrix"
   ]
  },
  {
   "cell_type": "code",
   "execution_count": 30,
   "metadata": {
    "ExecuteTime": {
     "end_time": "2018-11-20T15:57:51.015345Z",
     "start_time": "2018-11-20T15:57:41.175853Z"
    },
    "slideshow": {
     "slide_type": "fragment"
    }
   },
   "outputs": [
    {
     "data": {
      "text/html": [
       "<div>\n",
       "<style scoped>\n",
       "    .dataframe tbody tr th:only-of-type {\n",
       "        vertical-align: middle;\n",
       "    }\n",
       "\n",
       "    .dataframe tbody tr th {\n",
       "        vertical-align: top;\n",
       "    }\n",
       "\n",
       "    .dataframe thead th {\n",
       "        text-align: right;\n",
       "    }\n",
       "</style>\n",
       "<table border=\"1\" class=\"dataframe\">\n",
       "  <thead>\n",
       "    <tr style=\"text-align: right;\">\n",
       "      <th></th>\n",
       "      <th>00</th>\n",
       "      <th>000</th>\n",
       "      <th>0001</th>\n",
       "      <th>000bn</th>\n",
       "      <th>000m</th>\n",
       "      <th>000s</th>\n",
       "      <th>000th</th>\n",
       "      <th>001</th>\n",
       "      <th>001and</th>\n",
       "      <th>001st</th>\n",
       "      <th>...</th>\n",
       "      <th>zooms</th>\n",
       "      <th>zooropa</th>\n",
       "      <th>zornotza</th>\n",
       "      <th>zorro</th>\n",
       "      <th>zubair</th>\n",
       "      <th>zuluaga</th>\n",
       "      <th>zurich</th>\n",
       "      <th>zutons</th>\n",
       "      <th>zvonareva</th>\n",
       "      <th>zvyagintsev</th>\n",
       "    </tr>\n",
       "  </thead>\n",
       "  <tbody>\n",
       "    <tr>\n",
       "      <th>0</th>\n",
       "      <td>0</td>\n",
       "      <td>1</td>\n",
       "      <td>0</td>\n",
       "      <td>0</td>\n",
       "      <td>0</td>\n",
       "      <td>0</td>\n",
       "      <td>0</td>\n",
       "      <td>0</td>\n",
       "      <td>0</td>\n",
       "      <td>0</td>\n",
       "      <td>...</td>\n",
       "      <td>0</td>\n",
       "      <td>0</td>\n",
       "      <td>0</td>\n",
       "      <td>0</td>\n",
       "      <td>0</td>\n",
       "      <td>0</td>\n",
       "      <td>0</td>\n",
       "      <td>0</td>\n",
       "      <td>0</td>\n",
       "      <td>0</td>\n",
       "    </tr>\n",
       "    <tr>\n",
       "      <th>1</th>\n",
       "      <td>0</td>\n",
       "      <td>0</td>\n",
       "      <td>0</td>\n",
       "      <td>0</td>\n",
       "      <td>0</td>\n",
       "      <td>0</td>\n",
       "      <td>0</td>\n",
       "      <td>0</td>\n",
       "      <td>0</td>\n",
       "      <td>0</td>\n",
       "      <td>...</td>\n",
       "      <td>0</td>\n",
       "      <td>0</td>\n",
       "      <td>0</td>\n",
       "      <td>0</td>\n",
       "      <td>0</td>\n",
       "      <td>0</td>\n",
       "      <td>0</td>\n",
       "      <td>0</td>\n",
       "      <td>0</td>\n",
       "      <td>0</td>\n",
       "    </tr>\n",
       "    <tr>\n",
       "      <th>2</th>\n",
       "      <td>0</td>\n",
       "      <td>0</td>\n",
       "      <td>0</td>\n",
       "      <td>0</td>\n",
       "      <td>0</td>\n",
       "      <td>0</td>\n",
       "      <td>0</td>\n",
       "      <td>0</td>\n",
       "      <td>0</td>\n",
       "      <td>0</td>\n",
       "      <td>...</td>\n",
       "      <td>0</td>\n",
       "      <td>0</td>\n",
       "      <td>0</td>\n",
       "      <td>0</td>\n",
       "      <td>0</td>\n",
       "      <td>0</td>\n",
       "      <td>0</td>\n",
       "      <td>0</td>\n",
       "      <td>0</td>\n",
       "      <td>0</td>\n",
       "    </tr>\n",
       "    <tr>\n",
       "      <th>3</th>\n",
       "      <td>0</td>\n",
       "      <td>1</td>\n",
       "      <td>0</td>\n",
       "      <td>0</td>\n",
       "      <td>0</td>\n",
       "      <td>0</td>\n",
       "      <td>0</td>\n",
       "      <td>0</td>\n",
       "      <td>0</td>\n",
       "      <td>0</td>\n",
       "      <td>...</td>\n",
       "      <td>0</td>\n",
       "      <td>0</td>\n",
       "      <td>0</td>\n",
       "      <td>0</td>\n",
       "      <td>0</td>\n",
       "      <td>0</td>\n",
       "      <td>0</td>\n",
       "      <td>0</td>\n",
       "      <td>0</td>\n",
       "      <td>0</td>\n",
       "    </tr>\n",
       "    <tr>\n",
       "      <th>4</th>\n",
       "      <td>0</td>\n",
       "      <td>0</td>\n",
       "      <td>0</td>\n",
       "      <td>0</td>\n",
       "      <td>0</td>\n",
       "      <td>0</td>\n",
       "      <td>0</td>\n",
       "      <td>0</td>\n",
       "      <td>0</td>\n",
       "      <td>0</td>\n",
       "      <td>...</td>\n",
       "      <td>0</td>\n",
       "      <td>0</td>\n",
       "      <td>0</td>\n",
       "      <td>0</td>\n",
       "      <td>0</td>\n",
       "      <td>0</td>\n",
       "      <td>0</td>\n",
       "      <td>0</td>\n",
       "      <td>0</td>\n",
       "      <td>0</td>\n",
       "    </tr>\n",
       "  </tbody>\n",
       "</table>\n",
       "<p>5 rows × 29275 columns</p>\n",
       "</div>"
      ],
      "text/plain": [
       "   00  000  0001  000bn  000m  000s  000th  001  001and  001st  ...  zooms  \\\n",
       "0   0    1     0      0     0     0      0    0       0      0  ...      0   \n",
       "1   0    0     0      0     0     0      0    0       0      0  ...      0   \n",
       "2   0    0     0      0     0     0      0    0       0      0  ...      0   \n",
       "3   0    1     0      0     0     0      0    0       0      0  ...      0   \n",
       "4   0    0     0      0     0     0      0    0       0      0  ...      0   \n",
       "\n",
       "   zooropa  zornotza  zorro  zubair  zuluaga  zurich  zutons  zvonareva  \\\n",
       "0        0         0      0       0        0       0       0          0   \n",
       "1        0         0      0       0        0       0       0          0   \n",
       "2        0         0      0       0        0       0       0          0   \n",
       "3        0         0      0       0        0       0       0          0   \n",
       "4        0         0      0       0        0       0       0          0   \n",
       "\n",
       "   zvyagintsev  \n",
       "0            0  \n",
       "1            0  \n",
       "2            0  \n",
       "3            0  \n",
       "4            0  \n",
       "\n",
       "[5 rows x 29275 columns]"
      ]
     },
     "execution_count": 30,
     "metadata": {},
     "output_type": "execute_result"
    }
   ],
   "source": [
    "# from scipy compressed sparse row matrix to sparse DataFrame\n",
    "doc_term_matrix_df = pd.DataFrame.sparse.from_spmatrix(doc_term_matrix, columns=words)\n",
    "doc_term_matrix_df.head()"
   ]
  },
  {
   "cell_type": "markdown",
   "metadata": {
    "slideshow": {
     "slide_type": "slide"
    }
   },
   "source": [
    "### Most frequent terms"
   ]
  },
  {
   "cell_type": "code",
   "execution_count": 31,
   "metadata": {
    "ExecuteTime": {
     "end_time": "2018-11-20T15:57:52.465747Z",
     "start_time": "2018-11-20T15:57:51.016520Z"
    },
    "slideshow": {
     "slide_type": "fragment"
    }
   },
   "outputs": [
    {
     "data": {
      "text/plain": [
       "the    52574\n",
       "to     24767\n",
       "of     19930\n",
       "and    18574\n",
       "in     17553\n",
       "dtype: int64"
      ]
     },
     "execution_count": 31,
     "metadata": {},
     "output_type": "execute_result"
    }
   ],
   "source": [
    "word_freq = doc_term_matrix_df.sum(axis=0).astype(int)\n",
    "word_freq.sort_values(ascending=False).head() "
   ]
  },
  {
   "cell_type": "markdown",
   "metadata": {
    "slideshow": {
     "slide_type": "slide"
    }
   },
   "source": [
    "### Compute relative term frequency"
   ]
  },
  {
   "cell_type": "code",
   "execution_count": 32,
   "metadata": {
    "ExecuteTime": {
     "end_time": "2018-11-20T16:24:12.882068Z",
     "start_time": "2018-11-20T16:24:12.466336Z"
    },
    "slideshow": {
     "slide_type": "fragment"
    }
   },
   "outputs": [
    {
     "data": {
      "text/plain": [
       "(2225, 29275)"
      ]
     },
     "execution_count": 32,
     "metadata": {},
     "output_type": "execute_result"
    }
   ],
   "source": [
    "vectorizer = CountVectorizer(binary=True)\n",
    "doc_term_matrix = vectorizer.fit_transform(docs.body)\n",
    "doc_term_matrix.shape"
   ]
  },
  {
   "cell_type": "code",
   "execution_count": 33,
   "metadata": {
    "ExecuteTime": {
     "end_time": "2018-11-20T16:24:12.909035Z",
     "start_time": "2018-11-20T16:24:12.883593Z"
    },
    "slideshow": {
     "slide_type": "slide"
    }
   },
   "outputs": [
    {
     "data": {
      "text/plain": [
       "the    1.00\n",
       "to     1.00\n",
       "of     0.99\n",
       "and    0.99\n",
       "in     0.99\n",
       "for    0.93\n",
       "on     0.91\n",
       "is     0.86\n",
       "it     0.86\n",
       "said   0.85\n",
       "dtype: float64"
      ]
     },
     "execution_count": 33,
     "metadata": {},
     "output_type": "execute_result"
    }
   ],
   "source": [
    "words = vectorizer.get_feature_names()\n",
    "word_freq = doc_term_matrix.sum(axis=0)\n",
    "\n",
    "# reduce to 1D array\n",
    "word_freq_1d = np.squeeze(np.asarray(word_freq))\n",
    "\n",
    "pd.Series(word_freq_1d, index=words).div(\n",
    "    docs.shape[0]).sort_values(ascending=False).head(10)"
   ]
  },
  {
   "cell_type": "markdown",
   "metadata": {
    "slideshow": {
     "slide_type": "slide"
    }
   },
   "source": [
    "### Visualize Doc-Term Matrix"
   ]
  },
  {
   "cell_type": "code",
   "execution_count": 34,
   "metadata": {
    "ExecuteTime": {
     "end_time": "2018-11-20T16:25:13.950705Z",
     "start_time": "2018-11-20T16:24:12.910252Z"
    },
    "slideshow": {
     "slide_type": "fragment"
    }
   },
   "outputs": [
    {
     "data": {
      "image/png": "[encoded data removed]",
      "text/plain": [
       "<Figure size 1008x576 with 2 Axes>"
      ]
     },
     "metadata": {},
     "output_type": "display_data"
    }
   ],
   "source": [
    "sns.heatmap(pd.DataFrame(doc_term_matrix.todense(), columns=words), cmap='Blues')\n",
    "plt.gcf().set_size_inches(14, 8);"
   ]
  },
  {
   "cell_type": "markdown",
   "metadata": {
    "slideshow": {
     "slide_type": "slide"
    }
   },
   "source": [
    "### Using thresholds to reduce the number of tokens "
   ]
  },
  {
   "cell_type": "code",
   "execution_count": 35,
   "metadata": {
    "ExecuteTime": {
     "end_time": "2018-11-20T17:01:04.862550Z",
     "start_time": "2018-11-20T17:01:04.478818Z"
    },
    "slideshow": {
     "slide_type": "fragment"
    }
   },
   "outputs": [
    {
     "data": {
      "text/plain": [
       "(2225, 12789)"
      ]
     },
     "execution_count": 35,
     "metadata": {},
     "output_type": "execute_result"
    }
   ],
   "source": [
    "vectorizer = CountVectorizer(max_df=.2, min_df=3, stop_words='english')\n",
    "doc_term_matrix = vectorizer.fit_transform(docs.body)\n",
    "doc_term_matrix.shape"
   ]
  },
  {
   "cell_type": "markdown",
   "metadata": {
    "slideshow": {
     "slide_type": "slide"
    }
   },
   "source": [
    "### Use CountVectorizer with Lemmatization"
   ]
  },
  {
   "cell_type": "markdown",
   "metadata": {
    "slideshow": {
     "slide_type": "fragment"
    }
   },
   "source": [
    "#### Building a custom `tokenizer` for Lemmatization with `spacy`"
   ]
  },
  {
   "cell_type": "code",
   "execution_count": 36,
   "metadata": {
    "ExecuteTime": {
     "end_time": "2018-11-20T16:25:22.203881Z",
     "start_time": "2018-11-20T16:25:22.195Z"
    },
    "slideshow": {
     "slide_type": "fragment"
    }
   },
   "outputs": [],
   "source": [
    "nlp = spacy.load('en')\n",
    "def tokenizer(doc):\n",
    "    return [w.lemma_ for w in nlp(doc) \n",
    "                if not w.is_punct | w.is_space]"
   ]
  },
  {
   "cell_type": "code",
   "execution_count": 37,
   "metadata": {
    "ExecuteTime": {
     "end_time": "2018-11-20T16:25:22.204568Z",
     "start_time": "2018-11-20T16:25:22.197Z"
    },
    "run_control": {
     "marked": false
    },
    "slideshow": {
     "slide_type": "slide"
    }
   },
   "outputs": [
    {
     "data": {
      "text/plain": [
       "(2225, 25607)"
      ]
     },
     "execution_count": 37,
     "metadata": {},
     "output_type": "execute_result"
    }
   ],
   "source": [
    "vectorizer = CountVectorizer(tokenizer=tokenizer, binary=True)\n",
    "doc_term_matrix = vectorizer.fit_transform(docs.body)\n",
    "doc_term_matrix.shape"
   ]
  },
  {
   "cell_type": "code",
   "execution_count": 38,
   "metadata": {
    "ExecuteTime": {
     "end_time": "2018-11-20T16:25:22.205391Z",
     "start_time": "2018-11-20T16:25:22.199Z"
    },
    "slideshow": {
     "slide_type": "fragment"
    }
   },
   "outputs": [
    {
     "data": {
      "text/plain": [
       "from     0.70\n",
       "but      0.73\n",
       "as       0.74\n",
       "by       0.77\n",
       "at       0.79\n",
       "with     0.82\n",
       "that     0.83\n",
       "say      0.88\n",
       "'s       0.90\n",
       "on       0.91\n",
       "for      0.93\n",
       "have     0.97\n",
       "in       0.99\n",
       "and      0.99\n",
       "of       0.99\n",
       "a        0.99\n",
       "-PRON-   0.99\n",
       "to       1.00\n",
       "be       1.00\n",
       "the      1.00\n",
       "dtype: float64"
      ]
     },
     "execution_count": 38,
     "metadata": {},
     "output_type": "execute_result"
    }
   ],
   "source": [
    "lemmatized_words = vectorizer.get_feature_names()\n",
    "word_freq = doc_term_matrix.sum(axis=0)\n",
    "word_freq_1d = np.squeeze(np.asarray(word_freq))\n",
    "word_freq_1d = pd.Series(word_freq_1d, index=lemmatized_words).div(docs.shape[0])\n",
    "word_freq_1d.sort_values().tail(20)"
   ]
  },
  {
   "cell_type": "markdown",
   "metadata": {
    "slideshow": {
     "slide_type": "fragment"
    }
   },
   "source": [
    "Unlike verbs and common nouns, there's no clear base form of a personal pronoun. Should the lemma of \"me\" be \"I\", or should we normalize person as well, giving \"it\" — or maybe \"he\"? spaCy's solution is to introduce a novel symbol, -PRON-, which is used as the lemma for all personal pronouns."
   ]
  },
  {
   "cell_type": "markdown",
   "metadata": {
    "slideshow": {
     "slide_type": "slide"
    }
   },
   "source": [
    "## Document-Term Matrix with `TfIDFVectorizer`"
   ]
  },
  {
   "cell_type": "markdown",
   "metadata": {},
   "source": [
    "The TfIDFTransfomer computes the tf-idf weights from a document-term matrix of token counts like the one produced by the CountVectorizer. \n",
    "\n",
    "The TfIDFVectorizer performs both computations in a single step. It adds a few parameters to the CountVectorizer API that controls the smoothing behavior."
   ]
  },
  {
   "cell_type": "markdown",
   "metadata": {},
   "source": [
    "### Key Parameters"
   ]
  },
  {
   "cell_type": "markdown",
   "metadata": {},
   "source": [
    "The `TfIDFTransformer` builds on the `CountVectorizer` output; the `TfIDFVectorizer` integrates both"
   ]
  },
  {
   "cell_type": "code",
   "execution_count": 39,
   "metadata": {
    "ExecuteTime": {
     "end_time": "2018-11-21T14:12:51.219338Z",
     "start_time": "2018-11-21T14:12:51.214216Z"
    },
    "slideshow": {
     "slide_type": "fragment"
    }
   },
   "outputs": [
    {
     "name": "stdout",
     "output_type": "stream",
     "text": [
      "Transform a count matrix to a normalized tf or tf-idf representation\n",
      "\n",
      "    Tf means term-frequency while tf-idf means term-frequency times inverse\n",
      "    document-frequency. This is a common term weighting scheme in information\n",
      "    retrieval, that has also found good use in document classification.\n",
      "\n",
      "    The goal of using tf-idf instead of the raw frequencies of occurrence of a\n",
      "    token in a given document is to scale down the impact of tokens that occur\n",
      "    very frequently in a given corpus and that are hence empirically less\n",
      "    informative than features that occur in a small fraction of the training\n",
      "    corpus.\n",
      "\n",
      "    The formula that is used to compute the tf-idf for a term t of a document d\n",
      "    in a document set is tf-idf(t, d) = tf(t, d) * idf(t), and the idf is\n",
      "    computed as idf(t) = log [ n / df(t) ] + 1 (if ``smooth_idf=False``), where\n",
      "    n is the total number of documents in the document set and df(t) is the\n",
      "    document frequency of t; the document frequency is the number of documents\n",
      "    in the document set that contain the term t. The effect of adding \"1\" to\n",
      "    the idf in the equation above is that terms with zero idf, i.e., terms\n",
      "    that occur in all documents in a training set, will not be entirely\n",
      "    ignored.\n",
      "    (Note that the idf formula above differs from the standard textbook\n",
      "    notation that defines the idf as\n",
      "    idf(t) = log [ n / (df(t) + 1) ]).\n",
      "\n",
      "    If ``smooth_idf=True`` (the default), the constant \"1\" is added to the\n",
      "    numerator and denominator of the idf as if an extra document was seen\n",
      "    containing every term in the collection exactly once, which prevents\n",
      "    zero divisions: idf(d, t) = log [ (1 + n) / (1 + df(d, t)) ] + 1.\n",
      "\n",
      "    Furthermore, the formulas used to compute tf and idf depend\n",
      "    on parameter settings that correspond to the SMART notation used in IR\n",
      "    as follows:\n",
      "\n",
      "    Tf is \"n\" (natural) by default, \"l\" (logarithmic) when\n",
      "    ``sublinear_tf=True``.\n",
      "    Idf is \"t\" when use_idf is given, \"n\" (none) otherwise.\n",
      "    Normalization is \"c\" (cosine) when ``norm='l2'``, \"n\" (none)\n",
      "    when ``norm=None``.\n",
      "\n",
      "    Read more in the :ref:`User Guide <text_feature_extraction>`.\n",
      "\n",
      "    Parameters\n",
      "    ----------\n",
      "    norm : 'l1', 'l2' or None, optional (default='l2')\n",
      "        Each output row will have unit norm, either:\n",
      "        * 'l2': Sum of squares of vector elements is 1. The cosine\n",
      "        similarity between two vectors is their dot product when l2 norm has\n",
      "        been applied.\n",
      "        * 'l1': Sum of absolute values of vector elements is 1.\n",
      "        See :func:`preprocessing.normalize`\n",
      "\n",
      "    use_idf : boolean (default=True)\n",
      "        Enable inverse-document-frequency reweighting.\n",
      "\n",
      "    smooth_idf : boolean (default=True)\n",
      "        Smooth idf weights by adding one to document frequencies, as if an\n",
      "        extra document was seen containing every term in the collection\n",
      "        exactly once. Prevents zero divisions.\n",
      "\n",
      "    sublinear_tf : boolean (default=False)\n",
      "        Apply sublinear tf scaling, i.e. replace tf with 1 + log(tf).\n",
      "\n",
      "    Attributes\n",
      "    ----------\n",
      "    idf_ : array, shape (n_features)\n",
      "        The inverse document frequency (IDF) vector; only defined\n",
      "        if  ``use_idf`` is True.\n",
      "\n",
      "    References\n",
      "    ----------\n",
      "\n",
      "    .. [Yates2011] `R. Baeza-Yates and B. Ribeiro-Neto (2011). Modern\n",
      "                   Information Retrieval. Addison Wesley, pp. 68-74.`\n",
      "\n",
      "    .. [MRS2008] `C.D. Manning, P. Raghavan and H. Schütze  (2008).\n",
      "                   Introduction to Information Retrieval. Cambridge University\n",
      "                   Press, pp. 118-120.`\n",
      "    \n"
     ]
    }
   ],
   "source": [
    "print(TfidfTransformer().__doc__)"
   ]
  },
  {
   "cell_type": "markdown",
   "metadata": {},
   "source": [
    "### How Term Frequency - Inverse Document Frequency works"
   ]
  },
  {
   "cell_type": "markdown",
   "metadata": {},
   "source": [
    "The TFIDF computation works as follows for a small text sample"
   ]
  },
  {
   "cell_type": "code",
   "execution_count": 40,
   "metadata": {
    "ExecuteTime": {
     "end_time": "2018-11-26T03:42:13.337727Z",
     "start_time": "2018-11-26T03:42:13.335666Z"
    }
   },
   "outputs": [],
   "source": [
    "sample_docs = ['call you tomorrow', \n",
    "                'Call me a taxi', \n",
    "                'please call me... PLEASE!']"
   ]
  },
  {
   "cell_type": "markdown",
   "metadata": {
    "ExecuteTime": {
     "end_time": "2018-11-21T14:05:08.089371Z",
     "start_time": "2018-11-21T14:05:08.069616Z"
    }
   },
   "source": [
    "#### Compute term frequency"
   ]
  },
  {
   "cell_type": "code",
   "execution_count": 41,
   "metadata": {
    "ExecuteTime": {
     "end_time": "2018-11-26T03:42:13.897476Z",
     "start_time": "2018-11-26T03:42:13.884041Z"
    }
   },
   "outputs": [],
   "source": [
    "vectorizer = CountVectorizer()\n",
    "tf_dtm = vectorizer.fit_transform(sample_docs).todense()\n",
    "tokens = vectorizer.get_feature_names()"
   ]
  },
  {
   "cell_type": "code",
   "execution_count": 42,
   "metadata": {
    "ExecuteTime": {
     "end_time": "2018-11-26T03:42:15.256907Z",
     "start_time": "2018-11-26T03:42:15.249285Z"
    }
   },
   "outputs": [
    {
     "name": "stdout",
     "output_type": "stream",
     "text": [
      "   call  me  please  taxi  tomorrow  you\n",
      "0     1   0       0     0         1    1\n",
      "1     1   1       0     1         0    0\n",
      "2     1   1       2     0         0    0\n"
     ]
    }
   ],
   "source": [
    "term_frequency = pd.DataFrame(data=tf_dtm, \n",
    "                              columns=tokens)\n",
    "print(term_frequency)"
   ]
  },
  {
   "cell_type": "markdown",
   "metadata": {},
   "source": [
    "#### Compute document frequency"
   ]
  },
  {
   "cell_type": "code",
   "execution_count": 43,
   "metadata": {
    "ExecuteTime": {
     "end_time": "2018-11-26T03:45:03.866286Z",
     "start_time": "2018-11-26T03:45:03.860510Z"
    }
   },
   "outputs": [],
   "source": [
    "vectorizer = CountVectorizer(binary=True)\n",
    "df_dtm = vectorizer.fit_transform(sample_docs).todense().sum(axis=0)"
   ]
  },
  {
   "cell_type": "code",
   "execution_count": 44,
   "metadata": {
    "ExecuteTime": {
     "end_time": "2018-11-26T03:45:10.146363Z",
     "start_time": "2018-11-26T03:45:10.141058Z"
    }
   },
   "outputs": [
    {
     "name": "stdout",
     "output_type": "stream",
     "text": [
      "   call  me  please  taxi  tomorrow  you\n",
      "0     3   2       1     1         1    1\n"
     ]
    }
   ],
   "source": [
    "document_frequency = pd.DataFrame(data=df_dtm,\n",
    "                                  columns=tokens)\n",
    "print(document_frequency)"
   ]
  },
  {
   "cell_type": "markdown",
   "metadata": {},
   "source": [
    "#### Compute TfIDF"
   ]
  },
  {
   "cell_type": "code",
   "execution_count": 45,
   "metadata": {
    "ExecuteTime": {
     "end_time": "2018-11-26T03:45:40.849454Z",
     "start_time": "2018-11-26T03:45:40.835951Z"
    }
   },
   "outputs": [
    {
     "name": "stdout",
     "output_type": "stream",
     "text": [
      "   call   me  please  taxi  tomorrow  you\n",
      "0  0.33 0.00    0.00  0.00      1.00 1.00\n",
      "1  0.33 0.50    0.00  1.00      0.00 0.00\n",
      "2  0.33 0.50    2.00  0.00      0.00 0.00\n"
     ]
    }
   ],
   "source": [
    "tfidf = pd.DataFrame(data=tf_dtm/df_dtm, columns=tokens)\n",
    "print(tfidf)"
   ]
  },
  {
   "cell_type": "markdown",
   "metadata": {},
   "source": [
    "#### The effect of smoothing"
   ]
  },
  {
   "cell_type": "markdown",
   "metadata": {
    "ExecuteTime": {
     "end_time": "2018-11-21T14:07:22.382406Z",
     "start_time": "2018-11-21T14:07:22.373832Z"
    }
   },
   "source": [
    "The TfidfVectorizer uses smoothing for document and term frequencies:\n",
    "- `smooth_idf`: add one to document frequency, as if an extra document contained every token in the vocabulary\n",
    "     once to prevents zero divisions\n",
    "- `sublinear_tf`: scale term Apply sublinear tf scaling, i.e. replace tf with 1 + log(tf)"
   ]
  },
  {
   "cell_type": "code",
   "execution_count": 46,
   "metadata": {
    "ExecuteTime": {
     "end_time": "2018-11-26T03:48:21.263198Z",
     "start_time": "2018-11-26T03:48:21.247768Z"
    }
   },
   "outputs": [
    {
     "name": "stdout",
     "output_type": "stream",
     "text": [
      "   call   me  please  taxi  tomorrow  you\n",
      "0  0.39 0.00    0.00  0.00      0.65 0.65\n",
      "1  0.43 0.55    0.00  0.72      0.00 0.00\n",
      "2  0.27 0.34    0.90  0.00      0.00 0.00\n"
     ]
    }
   ],
   "source": [
    "vect = TfidfVectorizer(smooth_idf=True, \n",
    "                       norm='l2',            # squared weights sum to 1 by document\n",
    "                       sublinear_tf=False,   # if True, use 1+log(tf)\n",
    "                       binary=False)\n",
    "print(pd.DataFrame(vect.fit_transform(sample_docs).todense(), \n",
    "             columns=vect.get_feature_names()))"
   ]
  },
  {
   "cell_type": "markdown",
   "metadata": {
    "ExecuteTime": {
     "end_time": "2018-11-21T14:10:41.311223Z",
     "start_time": "2018-11-21T14:10:41.298041Z"
    }
   },
   "source": [
    "### TfIDF with new articles"
   ]
  },
  {
   "cell_type": "markdown",
   "metadata": {},
   "source": [
    "Due to their ability to assign meaningful token weights, TFIDF vectors are also used to summarize text data. E.g., reddit's autotldr function is based on a similar algorithm."
   ]
  },
  {
   "cell_type": "code",
   "execution_count": 47,
   "metadata": {
    "ExecuteTime": {
     "end_time": "2018-11-21T14:45:45.820056Z",
     "start_time": "2018-11-21T14:45:45.408284Z"
    },
    "slideshow": {
     "slide_type": "slide"
    }
   },
   "outputs": [
    {
     "data": {
      "text/plain": [
       "(2225, 28980)"
      ]
     },
     "execution_count": 47,
     "metadata": {},
     "output_type": "execute_result"
    }
   ],
   "source": [
    "tfidf = TfidfVectorizer(stop_words='english')\n",
    "dtm_tfidf = tfidf.fit_transform(docs.body)\n",
    "tokens = tfidf.get_feature_names()\n",
    "dtm_tfidf.shape"
   ]
  },
  {
   "cell_type": "code",
   "execution_count": 48,
   "metadata": {
    "ExecuteTime": {
     "end_time": "2018-11-21T14:45:52.951449Z",
     "start_time": "2018-11-21T14:45:52.933127Z"
    },
    "slideshow": {
     "slide_type": "fragment"
    }
   },
   "outputs": [],
   "source": [
    "token_freq = (pd.DataFrame({'tfidf': dtm_tfidf.sum(axis=0).A1,\n",
    "                            'token': tokens})\n",
    "              .sort_values('tfidf', ascending=False))"
   ]
  },
  {
   "cell_type": "code",
   "execution_count": 49,
   "metadata": {
    "ExecuteTime": {
     "end_time": "2018-11-21T14:45:53.527323Z",
     "start_time": "2018-11-21T14:45:53.502932Z"
    }
   },
   "outputs": [
    {
     "data": {
      "text/html": [
       "<div>\n",
       "<style scoped>\n",
       "    .dataframe tbody tr th:only-of-type {\n",
       "        vertical-align: middle;\n",
       "    }\n",
       "\n",
       "    .dataframe tbody tr th {\n",
       "        vertical-align: top;\n",
       "    }\n",
       "\n",
       "    .dataframe thead th {\n",
       "        text-align: right;\n",
       "    }\n",
       "</style>\n",
       "<table border=\"1\" class=\"dataframe\">\n",
       "  <thead>\n",
       "    <tr style=\"text-align: right;\">\n",
       "      <th></th>\n",
       "      <th>tfidf</th>\n",
       "    </tr>\n",
       "    <tr>\n",
       "      <th>token</th>\n",
       "      <th></th>\n",
       "    </tr>\n",
       "  </thead>\n",
       "  <tbody>\n",
       "    <tr>\n",
       "      <th>said</th>\n",
       "      <td>87.25</td>\n",
       "    </tr>\n",
       "    <tr>\n",
       "      <th>mr</th>\n",
       "      <td>58.22</td>\n",
       "    </tr>\n",
       "    <tr>\n",
       "      <th>year</th>\n",
       "      <td>41.98</td>\n",
       "    </tr>\n",
       "    <tr>\n",
       "      <th>people</th>\n",
       "      <td>37.30</td>\n",
       "    </tr>\n",
       "    <tr>\n",
       "      <th>new</th>\n",
       "      <td>34.20</td>\n",
       "    </tr>\n",
       "    <tr>\n",
       "      <th>film</th>\n",
       "      <td>29.73</td>\n",
       "    </tr>\n",
       "    <tr>\n",
       "      <th>government</th>\n",
       "      <td>28.79</td>\n",
       "    </tr>\n",
       "    <tr>\n",
       "      <th>world</th>\n",
       "      <td>27.03</td>\n",
       "    </tr>\n",
       "    <tr>\n",
       "      <th>time</th>\n",
       "      <td>26.36</td>\n",
       "    </tr>\n",
       "    <tr>\n",
       "      <th>best</th>\n",
       "      <td>26.30</td>\n",
       "    </tr>\n",
       "    <tr>\n",
       "      <th>baked</th>\n",
       "      <td>0.01</td>\n",
       "    </tr>\n",
       "    <tr>\n",
       "      <th>pavlovian</th>\n",
       "      <td>0.01</td>\n",
       "    </tr>\n",
       "    <tr>\n",
       "      <th>buzzcocks</th>\n",
       "      <td>0.01</td>\n",
       "    </tr>\n",
       "    <tr>\n",
       "      <th>sisterhood</th>\n",
       "      <td>0.01</td>\n",
       "    </tr>\n",
       "    <tr>\n",
       "      <th>siouxsie</th>\n",
       "      <td>0.01</td>\n",
       "    </tr>\n",
       "    <tr>\n",
       "      <th>sioux</th>\n",
       "      <td>0.01</td>\n",
       "    </tr>\n",
       "    <tr>\n",
       "      <th>bane</th>\n",
       "      <td>0.01</td>\n",
       "    </tr>\n",
       "    <tr>\n",
       "      <th>biassed</th>\n",
       "      <td>0.01</td>\n",
       "    </tr>\n",
       "    <tr>\n",
       "      <th>duetted</th>\n",
       "      <td>0.01</td>\n",
       "    </tr>\n",
       "    <tr>\n",
       "      <th>speechless</th>\n",
       "      <td>0.01</td>\n",
       "    </tr>\n",
       "  </tbody>\n",
       "</table>\n",
       "</div>"
      ],
      "text/plain": [
       "            tfidf\n",
       "token            \n",
       "said        87.25\n",
       "mr          58.22\n",
       "year        41.98\n",
       "people      37.30\n",
       "new         34.20\n",
       "film        29.73\n",
       "government  28.79\n",
       "world       27.03\n",
       "time        26.36\n",
       "best        26.30\n",
       "baked        0.01\n",
       "pavlovian    0.01\n",
       "buzzcocks    0.01\n",
       "sisterhood   0.01\n",
       "siouxsie     0.01\n",
       "sioux        0.01\n",
       "bane         0.01\n",
       "biassed      0.01\n",
       "duetted      0.01\n",
       "speechless   0.01"
      ]
     },
     "execution_count": 49,
     "metadata": {},
     "output_type": "execute_result"
    }
   ],
   "source": [
    "token_freq.head(10).append(token_freq.tail(10)).set_index('token')"
   ]
  },
  {
   "cell_type": "markdown",
   "metadata": {},
   "source": [
    "### Summarizing news articles using TfIDF weights"
   ]
  },
  {
   "cell_type": "markdown",
   "metadata": {},
   "source": [
    "#### Select random article"
   ]
  },
  {
   "cell_type": "code",
   "execution_count": 50,
   "metadata": {
    "ExecuteTime": {
     "end_time": "2018-11-21T14:48:01.876361Z",
     "start_time": "2018-11-21T14:48:01.867321Z"
    }
   },
   "outputs": [],
   "source": [
    "article = docs.sample(1).squeeze()\n",
    "article_id = article.name"
   ]
  },
  {
   "cell_type": "code",
   "execution_count": 51,
   "metadata": {
    "ExecuteTime": {
     "end_time": "2018-11-21T14:48:02.098264Z",
     "start_time": "2018-11-21T14:48:02.092582Z"
    },
    "scrolled": true
   },
   "outputs": [
    {
     "name": "stdout",
     "output_type": "stream",
     "text": [
      "Topic:\tTech\n",
      "\n",
      "Concern over RFID tags\n",
      "\n",
      "Consumers are very concerned about the use of radio frequency ID (RFID) tags in shops, a survey says.  More than half of 2,000 people surveyed said they had privacy worries about the tags, which can be used to monitor stock on shelves or in warehouses. Some consumer groups have expressed concern that the tags could be used to monitor shoppers once they had left shops with their purchases. The survey showed that awareness of tags among consumers in Europe was low. The survey of consumers in the UK, France, Germany and the Netherlands was carried out by consultancy group Capgemini. The firm works on behalf of more than 30 firms who are seeking to promote the growth of RFID technology. The tags are a combination of computer chip and antenna which can be read by a scanner - each item contains a unique identification number.  More than half (55%) of the respondents said they were either concerned or very concerned that RFID tags would allow businesses to track consumers via product purchases. Fifty nine percent of people said they were worried that RFID tags would allow data to be used more freely by third parties. Ard Jan Vetham, Capgemini's principal consultant on RFID, said the survey showed that retailers needed to inform and educate people about RFID before it would become accepted technology. \"Acceptance of new technologies always has a tipping point at which consumers believe that benefits outweigh concerns. \"With the right RFID approach and ongoing communication with consumers, the industry can reach this point.\" He said that the survey also showed people would accept RFID if they felt that the technology could mean a reduction in car theft or faster recovery of stolen items. The tags are currently being used at one Tesco distribution centre in the UK - the tags allow the rapid inventory of bulk items. They are also in use as a passcard for the M6 Toll in the Midlands, in the UK. Mr Vetham said the majority of people surveyed (52%) believed that RFID tags could be read from a distance. He said that was a misconception based on a lack of awareness of the technology. At least once consumer group - Consumers Against Supermarket Privacy Invasion and Numbering (Caspian) - has claimed that RFID chips could be used to secretly identify people and the things they are carrying or wearing. All kinds of personal belongings, including clothes, could constantly broadcast messages about their whereabouts and their owners, it warned.\n"
     ]
    }
   ],
   "source": [
    "print(f'Topic:\\t{article.topic.capitalize()}\\n\\n{article.heading}\\n')\n",
    "print(article.body.strip())"
   ]
  },
  {
   "cell_type": "markdown",
   "metadata": {},
   "source": [
    "#### Select most relevant tokens by tfidf value"
   ]
  },
  {
   "cell_type": "code",
   "execution_count": 52,
   "metadata": {
    "ExecuteTime": {
     "end_time": "2018-11-21T14:48:02.779436Z",
     "start_time": "2018-11-21T14:48:02.755370Z"
    }
   },
   "outputs": [
    {
     "data": {
      "text/plain": [
       "rfid         0.56\n",
       "tags         0.51\n",
       "consumers    0.22\n",
       "survey       0.17\n",
       "vetham       0.12\n",
       "capgemini    0.11\n",
       "used         0.11\n",
       "technology   0.10\n",
       "purchases    0.10\n",
       "people       0.09\n",
       "dtype: float64"
      ]
     },
     "execution_count": 52,
     "metadata": {},
     "output_type": "execute_result"
    }
   ],
   "source": [
    "article_tfidf = dtm_tfidf[article_id].todense().A1\n",
    "article_tokens = pd.Series(article_tfidf, index=tokens)\n",
    "article_tokens.sort_values(ascending=False).head(10)"
   ]
  },
  {
   "cell_type": "markdown",
   "metadata": {},
   "source": [
    "#### Compare to random selection"
   ]
  },
  {
   "cell_type": "code",
   "execution_count": 53,
   "metadata": {
    "ExecuteTime": {
     "end_time": "2018-11-21T14:48:19.646496Z",
     "start_time": "2018-11-21T14:48:19.636875Z"
    }
   },
   "outputs": [
    {
     "data": {
      "text/plain": [
       "['bulk',\n",
       " 'growth',\n",
       " 'could',\n",
       " 'said',\n",
       " 'concerns.',\n",
       " 'communication',\n",
       " 'people',\n",
       " 'warehouses.',\n",
       " 'of',\n",
       " 'among']"
      ]
     },
     "execution_count": 53,
     "metadata": {},
     "output_type": "execute_result"
    }
   ],
   "source": [
    "pd.Series(article.body.split()).sample(10).tolist()"
   ]
  },
  {
   "cell_type": "markdown",
   "metadata": {
    "slideshow": {
     "slide_type": "slide"
    }
   },
   "source": [
    "## Create Train & Test Sets"
   ]
  },
  {
   "cell_type": "markdown",
   "metadata": {},
   "source": [
    "### Stratified `train_test_split`"
   ]
  },
  {
   "cell_type": "code",
   "execution_count": 54,
   "metadata": {
    "ExecuteTime": {
     "end_time": "2018-11-20T16:25:22.796627Z",
     "start_time": "2018-11-20T16:25:22.787077Z"
    },
    "slideshow": {
     "slide_type": "fragment"
    }
   },
   "outputs": [],
   "source": [
    "train_docs, test_docs = train_test_split(docs, \n",
    "                                         stratify=docs.topic, \n",
    "                                         test_size=50, \n",
    "                                         random_state=42)"
   ]
  },
  {
   "cell_type": "code",
   "execution_count": 55,
   "metadata": {
    "ExecuteTime": {
     "end_time": "2018-11-20T16:25:22.811468Z",
     "start_time": "2018-11-20T16:25:22.798274Z"
    },
    "slideshow": {
     "slide_type": "fragment"
    }
   },
   "outputs": [
    {
     "data": {
      "text/plain": [
       "((2175, 3), (50, 3))"
      ]
     },
     "execution_count": 55,
     "metadata": {},
     "output_type": "execute_result"
    }
   ],
   "source": [
    "train_docs.shape, test_docs.shape"
   ]
  },
  {
   "cell_type": "code",
   "execution_count": 56,
   "metadata": {
    "ExecuteTime": {
     "end_time": "2018-11-20T16:25:22.828264Z",
     "start_time": "2018-11-20T16:25:22.812429Z"
    },
    "slideshow": {
     "slide_type": "fragment"
    }
   },
   "outputs": [
    {
     "data": {
      "text/plain": [
       "sport            12\n",
       "business         11\n",
       "entertainment     9\n",
       "tech              9\n",
       "politics          9\n",
       "Name: topic, dtype: int64"
      ]
     },
     "execution_count": 56,
     "metadata": {},
     "output_type": "execute_result"
    }
   ],
   "source": [
    "pd.Series(test_docs.topic).value_counts()"
   ]
  },
  {
   "cell_type": "markdown",
   "metadata": {
    "slideshow": {
     "slide_type": "slide"
    }
   },
   "source": [
    "### Vectorize train & test sets"
   ]
  },
  {
   "cell_type": "code",
   "execution_count": 57,
   "metadata": {
    "ExecuteTime": {
     "end_time": "2018-11-20T16:26:51.602955Z",
     "start_time": "2018-11-20T16:26:51.221094Z"
    },
    "slideshow": {
     "slide_type": "fragment"
    }
   },
   "outputs": [
    {
     "data": {
      "text/plain": [
       "<2175x2000 sparse matrix of type '<class 'numpy.int64'>'\n",
       "\twith 178762 stored elements in Compressed Sparse Row format>"
      ]
     },
     "execution_count": 57,
     "metadata": {},
     "output_type": "execute_result"
    }
   ],
   "source": [
    "vectorizer = CountVectorizer(max_df=.2, \n",
    "                             min_df=3, \n",
    "                             stop_words='english', \n",
    "                             max_features=2000)\n",
    "\n",
    "train_dtm = vectorizer.fit_transform(train_docs.body)\n",
    "words = vectorizer.get_feature_names()\n",
    "train_dtm"
   ]
  },
  {
   "cell_type": "code",
   "execution_count": 58,
   "metadata": {
    "ExecuteTime": {
     "end_time": "2018-11-20T16:27:00.374626Z",
     "start_time": "2018-11-20T16:27:00.342073Z"
    },
    "scrolled": true,
    "slideshow": {
     "slide_type": "fragment"
    }
   },
   "outputs": [
    {
     "data": {
      "text/plain": [
       "<50x2000 sparse matrix of type '<class 'numpy.int64'>'\n",
       "\twith 4048 stored elements in Compressed Sparse Row format>"
      ]
     },
     "execution_count": 58,
     "metadata": {},
     "output_type": "execute_result"
    }
   ],
   "source": [
    "test_dtm = vectorizer.transform(test_docs.body)\n",
    "test_dtm"
   ]
  }
 ],
 "metadata": {
  "celltoolbar": "Slideshow",
  "hide_input": false,
  "kernelspec": {
   "display_name": "Python 3",
   "language": "python",
   "name": "python3"
  },
  "language_info": {
   "codemirror_mode": {
    "name": "ipython",
    "version": 3
   },
   "file_extension": ".py",
   "mimetype": "text/x-python",
   "name": "python",
   "nbconvert_exporter": "python",
   "pygments_lexer": "ipython3",
   "version": "3.7.7"
  },
  "name": "_merged",
  "toc": {
   "base_numbering": 1,
   "nav_menu": {},
   "number_sections": true,
   "sideBar": true,
   "skip_h1_title": true,
   "title_cell": "Table of Contents",
   "title_sidebar": "Contents",
   "toc_cell": false,
   "toc_position": {
    "height": "379.503px",
    "left": "24px",
    "right": "1064px",
    "top": "66.3352px",
    "width": "343.575px"
   },
   "toc_section_display": true,
   "toc_window_display": true
  }
 },
 "nbformat": 4,
 "nbformat_minor": 2
}
