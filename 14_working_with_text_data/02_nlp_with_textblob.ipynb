{
 "cells": [
  {
   "cell_type": "markdown",
   "metadata": {},
   "source": [
    "# NLP with TextBlob"
   ]
  },
  {
   "cell_type": "markdown",
   "metadata": {},
   "source": [
    "TextBlob is a python library that provides a simple API for common NLP tasks and builds on the Natural Language Toolkit (nltk) and the Pattern web mining libraries. TextBlob facilitates part-of-speech tagging, noun phrase extraction, sentiment analysis, classification, translation, and others."
   ]
  },
  {
   "cell_type": "markdown",
   "metadata": {},
   "source": [
    "## Imports & Settings"
   ]
  },
  {
   "cell_type": "code",
   "execution_count": 5,
   "metadata": {
    "ExecuteTime": {
     "end_time": "2018-11-26T02:54:26.696873Z",
     "start_time": "2018-11-26T02:54:26.461634Z"
    }
   },
   "outputs": [],
   "source": [
    "%matplotlib inline\n",
    "import warnings\n",
    "from pathlib import Path\n",
    "\n",
    "import numpy as np\n",
    "import pandas as pd\n",
    "\n",
    "# Visualization\n",
    "import matplotlib.pyplot as plt\n",
    "import seaborn as sns\n",
    "\n",
    "# spacy, textblob and nltk for language processing\n",
    "from textblob import TextBlob, Word\n",
    "from nltk.stem.snowball import SnowballStemmer\n",
    "\n",
    "# sklearn for feature extraction & modeling\n",
    "from sklearn.feature_extraction.text import CountVectorizer, TfidfVectorizer, TfidfTransformer\n",
    "from sklearn.model_selection import train_test_split\n",
    "from sklearn.naive_bayes import MultinomialNB         # Naive Bayes\n",
    "from sklearn.linear_model import LogisticRegression\n",
    "from sklearn import metrics\n",
    "from sklearn.externals import joblib"
   ]
  },
  {
   "cell_type": "code",
   "execution_count": 6,
   "metadata": {
    "ExecuteTime": {
     "end_time": "2018-11-26T02:54:26.700048Z",
     "start_time": "2018-11-26T02:54:26.698100Z"
    }
   },
   "outputs": [],
   "source": [
    "np.random.seed(42)\n",
    "pd.set_option('float_format', '{:,.2f}'.format)"
   ]
  },
  {
   "cell_type": "markdown",
   "metadata": {},
   "source": [
    "## Load BBC Data"
   ]
  },
  {
   "cell_type": "markdown",
   "metadata": {},
   "source": [
    "To illustrate the use of TextBlob, we sample a BBC sports article with the headline ‘Robinson ready for difficult task’. Similar to spaCy and other libraries, the first step is to pass the document through a pipeline represented by the TextBlob object to assign annotations required for various tasks."
   ]
  },
  {
   "cell_type": "code",
   "execution_count": 30,
   "metadata": {
    "ExecuteTime": {
     "end_time": "2018-11-26T02:54:28.476829Z",
     "start_time": "2018-11-26T02:54:28.400043Z"
    }
   },
   "outputs": [],
   "source": [
    "path = Path('..', 'data', 'bbc')\n",
    "files = sorted(list(path.glob('**/*.txt')))\n",
    "doc_list = []\n",
    "for i, file in enumerate(files):\n",
    "    topic = file.parts[-2]\n",
    "    article = file.read_text(encoding='latin1').split('\\n')\n",
    "    heading = article[0].strip()\n",
    "    body = ' '.join([l.strip() for l in article[1:]]).strip()\n",
    "    doc_list.append([topic, heading, body])"
   ]
  },
  {
   "cell_type": "code",
   "execution_count": 31,
   "metadata": {
    "ExecuteTime": {
     "end_time": "2018-11-26T02:54:28.805397Z",
     "start_time": "2018-11-26T02:54:28.786497Z"
    }
   },
   "outputs": [
    {
     "name": "stdout",
     "output_type": "stream",
     "text": [
      "<class 'pandas.core.frame.DataFrame'>\n",
      "RangeIndex: 2225 entries, 0 to 2224\n",
      "Data columns (total 3 columns):\n",
      " #   Column   Non-Null Count  Dtype \n",
      "---  ------   --------------  ----- \n",
      " 0   topic    2225 non-null   object\n",
      " 1   heading  2225 non-null   object\n",
      " 2   body     2225 non-null   object\n",
      "dtypes: object(3)\n",
      "memory usage: 52.3+ KB\n"
     ]
    }
   ],
   "source": [
    "docs = pd.DataFrame(doc_list, columns=['topic', 'heading', 'body'])\n",
    "docs.info()"
   ]
  },
  {
   "cell_type": "markdown",
   "metadata": {
    "ExecuteTime": {
     "end_time": "2018-11-21T15:03:08.577908Z",
     "start_time": "2018-11-21T15:03:08.572433Z"
    }
   },
   "source": [
    "## Introduction to TextBlob\n",
    "\n",
    "You should already have downloaded TextBlob, a Python library used to explore common NLP tasks."
   ]
  },
  {
   "cell_type": "markdown",
   "metadata": {},
   "source": [
    "### Select random article"
   ]
  },
  {
   "cell_type": "code",
   "execution_count": 32,
   "metadata": {
    "ExecuteTime": {
     "end_time": "2018-11-26T02:54:32.080548Z",
     "start_time": "2018-11-26T02:54:32.072173Z"
    }
   },
   "outputs": [],
   "source": [
    "article = docs.sample(1).squeeze()"
   ]
  },
  {
   "cell_type": "code",
   "execution_count": 33,
   "metadata": {
    "ExecuteTime": {
     "end_time": "2018-11-26T02:54:32.490561Z",
     "start_time": "2018-11-26T02:54:32.482638Z"
    }
   },
   "outputs": [
    {
     "name": "stdout",
     "output_type": "stream",
     "text": [
      "Topic:\tSport\n",
      "\n",
      "Man City 0-2 Man Utd\n",
      "\n",
      "Manchester United reduced Chelsea's Premiership lead to nine points after a scrappy victory over Manchester City.  Wayne Rooney met Gary Neville's cross to the near post with a low shot, which went in via a deflection off Richard Dunne, to put United ahead. Seven minutes later, the unfortunate Dunne hooked a volley over David James' head and into his own net. Steve McManaman wasted City's best chance when he shot wide from three yards in the first half. In the opening 45 minutes United had looked unlikely to earn the win they needed to maintain any chance of catching Chelsea in the title race. Their approach play was more laboured than patient and they managed to fashion just one chance - a Paul Scholes header over the bar. And City seemed to be content to sit back and try and hit their rivals on the break as the game settled into a tepid pattern. Only Shaun Wright-Phillips appeared capable of interrupting the monotony, looking lively down the right and causing Gabriel Heinze problems.  Wes Brown also found Wright-Phillips to be a difficult opponent when the tricky winger embarrassed him near the touchline. Wright-Phillips' sublime skill and pace took him past Brown and he delivered a pin-point centre to the feet of McManaman. But the former Liverpool player demonstrated why he has never scored against United by side-footing the easy chance wide. John O'Shea was forced off after an earlier clash with Sylvain Distin and Cristiano Ronaldo came on to replace him. He immediately caused Ben Thatcher some discomfort and looked set to inject some much-needed pace into the United attack. Rooney was being well marshalled by Dunne - but that was all about to change. After the break, United poured forward and there was a renewed urgency about their play. And when Neville delivered a cross in a carbon copy of City's best first-half chance, Rooney showed McManaman how to do it - even if he needed the help of Dunne's leg. Worse was to come for Dunne, who had been having a fine match. On 75 minutes, he scored a horrible own goal when attempting to volley clear Rooney's cross and United seemed home and dry. However, City did fight back and Fowler missed another great chance from close range. And United keeper Roy Carroll saved well from Kiki Musampa. But United could have a had a third late on when substitute Ryan Giggs hit the post.  - Manchester City boss Kevin Keegan: \"We had a great chance to take the lead and the first goal was always going to be crucial. \"We started off with a good tempo but then we allowed them to dictate the pace a bit too much. \"But we still had four good chances, two after we'd gone 2-0 down, the one McManaman missed was very similar to the one Wayne Rooney scored from.\" - Manchester United boss Sir Alex Ferguson: \"It wasn't our best performance of the last three months but I think we're deserved winners. \"At times, especially in the first half, we didn't play with enough speed. But with (Cristiano) Ronaldo and (Ryan) Giggs on, the speed improved. \"Derby games can be like that, they can be scrappy, dull, horrible and it was maybe like that.\" Man City: James, Mills (Bradley Wright-Phillips 83), Dunne, Distin, Thatcher, Shaun Wright-Phillips, Barton (Macken 68), Sibierski, McManaman, Musampa, Fowler. Subs Not Used: Weaver, Onuoha, Flood. Booked: Fowler, Sibierski. Man Utd: Carroll, Gary Neville, Ferdinand, Brown, Heinze, O'Shea (Ronaldo 33), Keane, Fortune, Fletcher (Giggs 64), Rooney, Scholes (Phil Neville 84). Subs Not Used: Howard, Bellion. Booked: Rooney, Scholes, Keane. Goals: Rooney 68, Dunne 75 og. Att: 47,111 Ref: S Bennett (Kent).\n"
     ]
    }
   ],
   "source": [
    "print(f'Topic:\\t{article.topic.capitalize()}\\n\\n{article.heading}\\n')\n",
    "print(article.body.strip())"
   ]
  },
  {
   "cell_type": "code",
   "execution_count": 34,
   "metadata": {
    "ExecuteTime": {
     "end_time": "2018-11-26T02:54:37.512003Z",
     "start_time": "2018-11-26T02:54:37.510065Z"
    }
   },
   "outputs": [],
   "source": [
    "parsed_body = TextBlob(article.body)"
   ]
  },
  {
   "cell_type": "markdown",
   "metadata": {},
   "source": [
    "### Tokenization"
   ]
  },
  {
   "cell_type": "code",
   "execution_count": 35,
   "metadata": {
    "ExecuteTime": {
     "end_time": "2018-11-26T02:54:38.178003Z",
     "start_time": "2018-11-26T02:54:38.131744Z"
    }
   },
   "outputs": [
    {
     "data": {
      "text/plain": [
       "WordList(['Manchester', 'United', 'reduced', 'Chelsea', \"'s\", 'Premiership', 'lead', 'to', 'nine', 'points', 'after', 'a', 'scrappy', 'victory', 'over', 'Manchester', 'City', 'Wayne', 'Rooney', 'met', 'Gary', 'Neville', \"'s\", 'cross', 'to', 'the', 'near', 'post', 'with', 'a', 'low', 'shot', 'which', 'went', 'in', 'via', 'a', 'deflection', 'off', 'Richard', 'Dunne', 'to', 'put', 'United', 'ahead', 'Seven', 'minutes', 'later', 'the', 'unfortunate', 'Dunne', 'hooked', 'a', 'volley', 'over', 'David', 'James', 'head', 'and', 'into', 'his', 'own', 'net', 'Steve', 'McManaman', 'wasted', 'City', \"'s\", 'best', 'chance', 'when', 'he', 'shot', 'wide', 'from', 'three', 'yards', 'in', 'the', 'first', 'half', 'In', 'the', 'opening', '45', 'minutes', 'United', 'had', 'looked', 'unlikely', 'to', 'earn', 'the', 'win', 'they', 'needed', 'to', 'maintain', 'any', 'chance', 'of', 'catching', 'Chelsea', 'in', 'the', 'title', 'race', 'Their', 'approach', 'play', 'was', 'more', 'laboured', 'than', 'patient', 'and', 'they', 'managed', 'to', 'fashion', 'just', 'one', 'chance', 'a', 'Paul', 'Scholes', 'header', 'over', 'the', 'bar', 'And', 'City', 'seemed', 'to', 'be', 'content', 'to', 'sit', 'back', 'and', 'try', 'and', 'hit', 'their', 'rivals', 'on', 'the', 'break', 'as', 'the', 'game', 'settled', 'into', 'a', 'tepid', 'pattern', 'Only', 'Shaun', 'Wright-Phillips', 'appeared', 'capable', 'of', 'interrupting', 'the', 'monotony', 'looking', 'lively', 'down', 'the', 'right', 'and', 'causing', 'Gabriel', 'Heinze', 'problems', 'Wes', 'Brown', 'also', 'found', 'Wright-Phillips', 'to', 'be', 'a', 'difficult', 'opponent', 'when', 'the', 'tricky', 'winger', 'embarrassed', 'him', 'near', 'the', 'touchline', 'Wright-Phillips', 'sublime', 'skill', 'and', 'pace', 'took', 'him', 'past', 'Brown', 'and', 'he', 'delivered', 'a', 'pin-point', 'centre', 'to', 'the', 'feet', 'of', 'McManaman', 'But', 'the', 'former', 'Liverpool', 'player', 'demonstrated', 'why', 'he', 'has', 'never', 'scored', 'against', 'United', 'by', 'side-footing', 'the', 'easy', 'chance', 'wide', 'John', \"O'Shea\", 'was', 'forced', 'off', 'after', 'an', 'earlier', 'clash', 'with', 'Sylvain', 'Distin', 'and', 'Cristiano', 'Ronaldo', 'came', 'on', 'to', 'replace', 'him', 'He', 'immediately', 'caused', 'Ben', 'Thatcher', 'some', 'discomfort', 'and', 'looked', 'set', 'to', 'inject', 'some', 'much-needed', 'pace', 'into', 'the', 'United', 'attack', 'Rooney', 'was', 'being', 'well', 'marshalled', 'by', 'Dunne', 'but', 'that', 'was', 'all', 'about', 'to', 'change', 'After', 'the', 'break', 'United', 'poured', 'forward', 'and', 'there', 'was', 'a', 'renewed', 'urgency', 'about', 'their', 'play', 'And', 'when', 'Neville', 'delivered', 'a', 'cross', 'in', 'a', 'carbon', 'copy', 'of', 'City', \"'s\", 'best', 'first-half', 'chance', 'Rooney', 'showed', 'McManaman', 'how', 'to', 'do', 'it', 'even', 'if', 'he', 'needed', 'the', 'help', 'of', 'Dunne', \"'s\", 'leg', 'Worse', 'was', 'to', 'come', 'for', 'Dunne', 'who', 'had', 'been', 'having', 'a', 'fine', 'match', 'On', '75', 'minutes', 'he', 'scored', 'a', 'horrible', 'own', 'goal', 'when', 'attempting', 'to', 'volley', 'clear', 'Rooney', \"'s\", 'cross', 'and', 'United', 'seemed', 'home', 'and', 'dry', 'However', 'City', 'did', 'fight', 'back', 'and', 'Fowler', 'missed', 'another', 'great', 'chance', 'from', 'close', 'range', 'And', 'United', 'keeper', 'Roy', 'Carroll', 'saved', 'well', 'from', 'Kiki', 'Musampa', 'But', 'United', 'could', 'have', 'a', 'had', 'a', 'third', 'late', 'on', 'when', 'substitute', 'Ryan', 'Giggs', 'hit', 'the', 'post', 'Manchester', 'City', 'boss', 'Kevin', 'Keegan', 'We', 'had', 'a', 'great', 'chance', 'to', 'take', 'the', 'lead', 'and', 'the', 'first', 'goal', 'was', 'always', 'going', 'to', 'be', 'crucial', 'We', 'started', 'off', 'with', 'a', 'good', 'tempo', 'but', 'then', 'we', 'allowed', 'them', 'to', 'dictate', 'the', 'pace', 'a', 'bit', 'too', 'much', 'But', 'we', 'still', 'had', 'four', 'good', 'chances', 'two', 'after', 'we', \"'d\", 'gone', '2-0', 'down', 'the', 'one', 'McManaman', 'missed', 'was', 'very', 'similar', 'to', 'the', 'one', 'Wayne', 'Rooney', 'scored', 'from', 'Manchester', 'United', 'boss', 'Sir', 'Alex', 'Ferguson', 'It', 'was', \"n't\", 'our', 'best', 'performance', 'of', 'the', 'last', 'three', 'months', 'but', 'I', 'think', 'we', \"'re\", 'deserved', 'winners', 'At', 'times', 'especially', 'in', 'the', 'first', 'half', 'we', 'did', \"n't\", 'play', 'with', 'enough', 'speed', 'But', 'with', 'Cristiano', 'Ronaldo', 'and', 'Ryan', 'Giggs', 'on', 'the', 'speed', 'improved', 'Derby', 'games', 'can', 'be', 'like', 'that', 'they', 'can', 'be', 'scrappy', 'dull', 'horrible', 'and', 'it', 'was', 'maybe', 'like', 'that', 'Man', 'City', 'James', 'Mills', 'Bradley', 'Wright-Phillips', '83', 'Dunne', 'Distin', 'Thatcher', 'Shaun', 'Wright-Phillips', 'Barton', 'Macken', '68', 'Sibierski', 'McManaman', 'Musampa', 'Fowler', 'Subs', 'Not', 'Used', 'Weaver', 'Onuoha', 'Flood', 'Booked', 'Fowler', 'Sibierski', 'Man', 'Utd', 'Carroll', 'Gary', 'Neville', 'Ferdinand', 'Brown', 'Heinze', \"O'Shea\", 'Ronaldo', '33', 'Keane', 'Fortune', 'Fletcher', 'Giggs', '64', 'Rooney', 'Scholes', 'Phil', 'Neville', '84', 'Subs', 'Not', 'Used', 'Howard', 'Bellion', 'Booked', 'Rooney', 'Scholes', 'Keane', 'Goals', 'Rooney', '68', 'Dunne', '75', 'og', 'Att', '47,111', 'Ref', 'S', 'Bennett', 'Kent'])"
      ]
     },
     "execution_count": 35,
     "metadata": {},
     "output_type": "execute_result"
    }
   ],
   "source": [
    "parsed_body.words"
   ]
  },
  {
   "cell_type": "markdown",
   "metadata": {},
   "source": [
    "### Sentence boundary detection"
   ]
  },
  {
   "cell_type": "code",
   "execution_count": 36,
   "metadata": {},
   "outputs": [
    {
     "name": "stderr",
     "output_type": "stream",
     "text": [
      "[nltk_data] Downloading package punkt to /home/stefan/nltk_data...\n",
      "[nltk_data]   Package punkt is already up-to-date!\n"
     ]
    },
    {
     "data": {
      "text/plain": [
       "True"
      ]
     },
     "execution_count": 36,
     "metadata": {},
     "output_type": "execute_result"
    }
   ],
   "source": [
    "import nltk\n",
    "nltk.download('punkt')"
   ]
  },
  {
   "cell_type": "code",
   "execution_count": 37,
   "metadata": {
    "ExecuteTime": {
     "end_time": "2018-11-26T02:54:38.943758Z",
     "start_time": "2018-11-26T02:54:38.940200Z"
    },
    "scrolled": false
   },
   "outputs": [
    {
     "data": {
      "text/plain": [
       "[Sentence(\"Manchester United reduced Chelsea's Premiership lead to nine points after a scrappy victory over Manchester City.\"),\n",
       " Sentence(\"Wayne Rooney met Gary Neville's cross to the near post with a low shot, which went in via a deflection off Richard Dunne, to put United ahead.\"),\n",
       " Sentence(\"Seven minutes later, the unfortunate Dunne hooked a volley over David James' head and into his own net.\"),\n",
       " Sentence(\"Steve McManaman wasted City's best chance when he shot wide from three yards in the first half.\"),\n",
       " Sentence(\"In the opening 45 minutes United had looked unlikely to earn the win they needed to maintain any chance of catching Chelsea in the title race.\"),\n",
       " Sentence(\"Their approach play was more laboured than patient and they managed to fashion just one chance - a Paul Scholes header over the bar.\"),\n",
       " Sentence(\"And City seemed to be content to sit back and try and hit their rivals on the break as the game settled into a tepid pattern.\"),\n",
       " Sentence(\"Only Shaun Wright-Phillips appeared capable of interrupting the monotony, looking lively down the right and causing Gabriel Heinze problems.\"),\n",
       " Sentence(\"Wes Brown also found Wright-Phillips to be a difficult opponent when the tricky winger embarrassed him near the touchline.\"),\n",
       " Sentence(\"Wright-Phillips' sublime skill and pace took him past Brown and he delivered a pin-point centre to the feet of McManaman.\"),\n",
       " Sentence(\"But the former Liverpool player demonstrated why he has never scored against United by side-footing the easy chance wide.\"),\n",
       " Sentence(\"John O'Shea was forced off after an earlier clash with Sylvain Distin and Cristiano Ronaldo came on to replace him.\"),\n",
       " Sentence(\"He immediately caused Ben Thatcher some discomfort and looked set to inject some much-needed pace into the United attack.\"),\n",
       " Sentence(\"Rooney was being well marshalled by Dunne - but that was all about to change.\"),\n",
       " Sentence(\"After the break, United poured forward and there was a renewed urgency about their play.\"),\n",
       " Sentence(\"And when Neville delivered a cross in a carbon copy of City's best first-half chance, Rooney showed McManaman how to do it - even if he needed the help of Dunne's leg.\"),\n",
       " Sentence(\"Worse was to come for Dunne, who had been having a fine match.\"),\n",
       " Sentence(\"On 75 minutes, he scored a horrible own goal when attempting to volley clear Rooney's cross and United seemed home and dry.\"),\n",
       " Sentence(\"However, City did fight back and Fowler missed another great chance from close range.\"),\n",
       " Sentence(\"And United keeper Roy Carroll saved well from Kiki Musampa.\"),\n",
       " Sentence(\"But United could have a had a third late on when substitute Ryan Giggs hit the post.\"),\n",
       " Sentence(\"- Manchester City boss Kevin Keegan: \"We had a great chance to take the lead and the first goal was always going to be crucial.\"),\n",
       " Sentence(\"\"We started off with a good tempo but then we allowed them to dictate the pace a bit too much.\"),\n",
       " Sentence(\"\"But we still had four good chances, two after we'd gone 2-0 down, the one McManaman missed was very similar to the one Wayne Rooney scored from.\"\"),\n",
       " Sentence(\"- Manchester United boss Sir Alex Ferguson: \"It wasn't our best performance of the last three months but I think we're deserved winners.\"),\n",
       " Sentence(\"\"At times, especially in the first half, we didn't play with enough speed.\"),\n",
       " Sentence(\"But with (Cristiano) Ronaldo and (Ryan) Giggs on, the speed improved.\"),\n",
       " Sentence(\"\"Derby games can be like that, they can be scrappy, dull, horrible and it was maybe like that.\"\"),\n",
       " Sentence(\"Man City: James, Mills (Bradley Wright-Phillips 83), Dunne, Distin, Thatcher, Shaun Wright-Phillips, Barton (Macken 68), Sibierski, McManaman, Musampa, Fowler.\"),\n",
       " Sentence(\"Subs Not Used: Weaver, Onuoha, Flood.\"),\n",
       " Sentence(\"Booked: Fowler, Sibierski.\"),\n",
       " Sentence(\"Man Utd: Carroll, Gary Neville, Ferdinand, Brown, Heinze, O'Shea (Ronaldo 33), Keane, Fortune, Fletcher (Giggs 64), Rooney, Scholes (Phil Neville 84).\"),\n",
       " Sentence(\"Subs Not Used: Howard, Bellion.\"),\n",
       " Sentence(\"Booked: Rooney, Scholes, Keane.\"),\n",
       " Sentence(\"Goals: Rooney 68, Dunne 75 og.\"),\n",
       " Sentence(\"Att: 47,111 Ref: S Bennett (Kent).\")]"
      ]
     },
     "execution_count": 37,
     "metadata": {},
     "output_type": "execute_result"
    }
   ],
   "source": [
    "parsed_body.sentences"
   ]
  },
  {
   "cell_type": "markdown",
   "metadata": {},
   "source": [
    "### Stemming"
   ]
  },
  {
   "cell_type": "markdown",
   "metadata": {},
   "source": [
    "To perform stemming, we instantiate the SnowballStemmer from the nltk library, call its .stem() method on each token and display tokens that were modified as a result:"
   ]
  },
  {
   "cell_type": "code",
   "execution_count": 38,
   "metadata": {
    "ExecuteTime": {
     "end_time": "2018-11-26T02:54:39.684948Z",
     "start_time": "2018-11-26T02:54:39.645914Z"
    }
   },
   "outputs": [
    {
     "data": {
      "text/plain": [
       "[('Manchester', 'manchest'),\n",
       " ('United', 'unit'),\n",
       " ('reduced', 'reduc'),\n",
       " ('points', 'point'),\n",
       " ('scrappy', 'scrappi'),\n",
       " ('victory', 'victori'),\n",
       " ('Manchester', 'manchest'),\n",
       " ('City', 'citi'),\n",
       " ('Wayne', 'wayn'),\n",
       " ('Gary', 'gari'),\n",
       " ('Neville', 'nevill'),\n",
       " ('deflection', 'deflect'),\n",
       " ('Dunne', 'dunn'),\n",
       " ('United', 'unit'),\n",
       " ('minutes', 'minut'),\n",
       " ('unfortunate', 'unfortun'),\n",
       " ('Dunne', 'dunn'),\n",
       " ('hooked', 'hook'),\n",
       " ('James', 'jame'),\n",
       " ('wasted', 'wast'),\n",
       " ('City', 'citi'),\n",
       " ('chance', 'chanc'),\n",
       " ('yards', 'yard'),\n",
       " ('opening', 'open'),\n",
       " ('minutes', 'minut'),\n",
       " ('United', 'unit'),\n",
       " ('looked', 'look'),\n",
       " ('unlikely', 'unlik'),\n",
       " ('needed', 'need'),\n",
       " ('any', 'ani'),\n",
       " ('chance', 'chanc'),\n",
       " ('catching', 'catch'),\n",
       " ('title', 'titl'),\n",
       " ('laboured', 'labour'),\n",
       " ('managed', 'manag'),\n",
       " ('chance', 'chanc'),\n",
       " ('Scholes', 'schole'),\n",
       " ('City', 'citi'),\n",
       " ('seemed', 'seem'),\n",
       " ('try', 'tri'),\n",
       " ('rivals', 'rival'),\n",
       " ('settled', 'settl'),\n",
       " ('Only', 'onli'),\n",
       " ('Wright-Phillips', 'wright-phillip'),\n",
       " ('appeared', 'appear'),\n",
       " ('capable', 'capabl'),\n",
       " ('interrupting', 'interrupt'),\n",
       " ('monotony', 'monotoni'),\n",
       " ('looking', 'look'),\n",
       " ('lively', 'live'),\n",
       " ('causing', 'caus'),\n",
       " ('Heinze', 'heinz'),\n",
       " ('problems', 'problem'),\n",
       " ('Wright-Phillips', 'wright-phillip'),\n",
       " ('opponent', 'oppon'),\n",
       " ('tricky', 'tricki'),\n",
       " ('embarrassed', 'embarrass'),\n",
       " ('touchline', 'touchlin'),\n",
       " ('Wright-Phillips', 'wright-phillip'),\n",
       " ('sublime', 'sublim'),\n",
       " ('delivered', 'deliv'),\n",
       " ('centre', 'centr'),\n",
       " ('demonstrated', 'demonstr'),\n",
       " ('why', 'whi'),\n",
       " ('scored', 'score'),\n",
       " ('United', 'unit'),\n",
       " ('side-footing', 'side-foot'),\n",
       " ('easy', 'easi'),\n",
       " ('chance', 'chanc'),\n",
       " ('forced', 'forc'),\n",
       " ('replace', 'replac'),\n",
       " ('immediately', 'immedi'),\n",
       " ('caused', 'caus'),\n",
       " ('looked', 'look'),\n",
       " ('much-needed', 'much-need'),\n",
       " ('United', 'unit'),\n",
       " ('being', 'be'),\n",
       " ('marshalled', 'marshal'),\n",
       " ('Dunne', 'dunn'),\n",
       " ('change', 'chang'),\n",
       " ('United', 'unit'),\n",
       " ('poured', 'pour'),\n",
       " ('renewed', 'renew'),\n",
       " ('urgency', 'urgenc'),\n",
       " ('Neville', 'nevill'),\n",
       " ('delivered', 'deliv'),\n",
       " ('copy', 'copi'),\n",
       " ('City', 'citi'),\n",
       " ('chance', 'chanc'),\n",
       " ('showed', 'show'),\n",
       " ('needed', 'need'),\n",
       " ('Dunne', 'dunn'),\n",
       " ('Worse', 'wors'),\n",
       " ('Dunne', 'dunn'),\n",
       " ('having', 'have'),\n",
       " ('minutes', 'minut'),\n",
       " ('scored', 'score'),\n",
       " ('horrible', 'horribl'),\n",
       " ('attempting', 'attempt'),\n",
       " ('United', 'unit'),\n",
       " ('seemed', 'seem'),\n",
       " ('dry', 'dri'),\n",
       " ('However', 'howev'),\n",
       " ('City', 'citi'),\n",
       " ('missed', 'miss'),\n",
       " ('another', 'anoth'),\n",
       " ('chance', 'chanc'),\n",
       " ('range', 'rang'),\n",
       " ('United', 'unit'),\n",
       " ('Carroll', 'carrol'),\n",
       " ('saved', 'save'),\n",
       " ('United', 'unit'),\n",
       " ('substitute', 'substitut'),\n",
       " ('Giggs', 'gigg'),\n",
       " ('Manchester', 'manchest'),\n",
       " ('City', 'citi'),\n",
       " ('chance', 'chanc'),\n",
       " ('always', 'alway'),\n",
       " ('going', 'go'),\n",
       " ('started', 'start'),\n",
       " ('allowed', 'allow'),\n",
       " ('dictate', 'dictat'),\n",
       " ('chances', 'chanc'),\n",
       " ('missed', 'miss'),\n",
       " ('very', 'veri'),\n",
       " ('Wayne', 'wayn'),\n",
       " ('scored', 'score'),\n",
       " ('Manchester', 'manchest'),\n",
       " ('United', 'unit'),\n",
       " ('performance', 'perform'),\n",
       " ('months', 'month'),\n",
       " (\"'re\", 're'),\n",
       " ('deserved', 'deserv'),\n",
       " ('winners', 'winner'),\n",
       " ('times', 'time'),\n",
       " ('especially', 'especi'),\n",
       " ('Giggs', 'gigg'),\n",
       " ('improved', 'improv'),\n",
       " ('Derby', 'derbi'),\n",
       " ('games', 'game'),\n",
       " ('scrappy', 'scrappi'),\n",
       " ('horrible', 'horribl'),\n",
       " ('maybe', 'mayb'),\n",
       " ('City', 'citi'),\n",
       " ('James', 'jame'),\n",
       " ('Mills', 'mill'),\n",
       " ('Wright-Phillips', 'wright-phillip'),\n",
       " ('Dunne', 'dunn'),\n",
       " ('Wright-Phillips', 'wright-phillip'),\n",
       " ('Subs', 'sub'),\n",
       " ('Used', 'use'),\n",
       " ('Booked', 'book'),\n",
       " ('Carroll', 'carrol'),\n",
       " ('Gary', 'gari'),\n",
       " ('Neville', 'nevill'),\n",
       " ('Heinze', 'heinz'),\n",
       " ('Keane', 'kean'),\n",
       " ('Fortune', 'fortun'),\n",
       " ('Giggs', 'gigg'),\n",
       " ('Scholes', 'schole'),\n",
       " ('Neville', 'nevill'),\n",
       " ('Subs', 'sub'),\n",
       " ('Used', 'use'),\n",
       " ('Booked', 'book'),\n",
       " ('Scholes', 'schole'),\n",
       " ('Keane', 'kean'),\n",
       " ('Goals', 'goal'),\n",
       " ('Dunne', 'dunn')]"
      ]
     },
     "execution_count": 38,
     "metadata": {},
     "output_type": "execute_result"
    }
   ],
   "source": [
    "# Initialize stemmer.\n",
    "from nltk.stem.snowball import SnowballStemmer\n",
    "stemmer = SnowballStemmer('english')\n",
    "\n",
    "# Stem each word.\n",
    "[(word, stemmer.stem(word)) for i, word in enumerate(parsed_body.words) \n",
    " if word.lower() != stemmer.stem(parsed_body.words[i])]"
   ]
  },
  {
   "cell_type": "markdown",
   "metadata": {},
   "source": [
    "### Lemmatization"
   ]
  },
  {
   "cell_type": "code",
   "execution_count": 39,
   "metadata": {},
   "outputs": [
    {
     "name": "stderr",
     "output_type": "stream",
     "text": [
      "[nltk_data] Downloading package wordnet to /home/stefan/nltk_data...\n",
      "[nltk_data]   Package wordnet is already up-to-date!\n"
     ]
    },
    {
     "data": {
      "text/plain": [
       "True"
      ]
     },
     "execution_count": 39,
     "metadata": {},
     "output_type": "execute_result"
    }
   ],
   "source": [
    "import nltk\n",
    "nltk.download('wordnet')"
   ]
  },
  {
   "cell_type": "code",
   "execution_count": 40,
   "metadata": {
    "ExecuteTime": {
     "end_time": "2018-11-26T02:54:47.978888Z",
     "start_time": "2018-11-26T02:54:46.897896Z"
    }
   },
   "outputs": [
    {
     "data": {
      "text/plain": [
       "[('points', 'point'),\n",
       " ('minutes', 'minute'),\n",
       " ('yards', 'yard'),\n",
       " ('minutes', 'minute'),\n",
       " ('was', 'wa'),\n",
       " ('rivals', 'rival'),\n",
       " ('as', 'a'),\n",
       " ('problems', 'problem'),\n",
       " ('feet', 'foot'),\n",
       " ('has', 'ha'),\n",
       " ('was', 'wa'),\n",
       " ('was', 'wa'),\n",
       " ('was', 'wa'),\n",
       " ('was', 'wa'),\n",
       " ('was', 'wa'),\n",
       " ('minutes', 'minute'),\n",
       " ('boss', 'bos'),\n",
       " ('was', 'wa'),\n",
       " ('chances', 'chance'),\n",
       " ('was', 'wa'),\n",
       " ('boss', 'bos'),\n",
       " ('was', 'wa'),\n",
       " ('months', 'month'),\n",
       " ('winners', 'winner'),\n",
       " ('times', 'time'),\n",
       " ('games', 'game'),\n",
       " ('was', 'wa')]"
      ]
     },
     "execution_count": 40,
     "metadata": {},
     "output_type": "execute_result"
    }
   ],
   "source": [
    "[(word, word.lemmatize()) for i, word in enumerate(parsed_body.words) \n",
    " if word != parsed_body.words[i].lemmatize()]"
   ]
  },
  {
   "cell_type": "markdown",
   "metadata": {},
   "source": [
    "Lemmatization relies on parts-of-speech (POS) tagging; `spaCy` performs POS tagging, here we make assumptions, e.g. that each token is verb."
   ]
  },
  {
   "cell_type": "code",
   "execution_count": 41,
   "metadata": {
    "ExecuteTime": {
     "end_time": "2018-11-26T02:54:47.987180Z",
     "start_time": "2018-11-26T02:54:47.980209Z"
    }
   },
   "outputs": [
    {
     "data": {
      "text/plain": [
       "[('reduced', 'reduce'),\n",
       " ('points', 'point'),\n",
       " ('met', 'meet'),\n",
       " ('shot', 'shoot'),\n",
       " ('went', 'go'),\n",
       " ('hooked', 'hook'),\n",
       " ('wasted', 'waste'),\n",
       " ('shot', 'shoot'),\n",
       " ('opening', 'open'),\n",
       " ('had', 'have'),\n",
       " ('looked', 'look'),\n",
       " ('needed', 'need'),\n",
       " ('catching', 'catch'),\n",
       " ('was', 'be'),\n",
       " ('laboured', 'labour'),\n",
       " ('managed', 'manage'),\n",
       " ('seemed', 'seem'),\n",
       " ('rivals', 'rival'),\n",
       " ('settled', 'settle'),\n",
       " ('appeared', 'appear'),\n",
       " ('interrupting', 'interrupt'),\n",
       " ('looking', 'look'),\n",
       " ('causing', 'cause'),\n",
       " ('found', 'find'),\n",
       " ('embarrassed', 'embarrass'),\n",
       " ('took', 'take'),\n",
       " ('delivered', 'deliver'),\n",
       " ('demonstrated', 'demonstrate'),\n",
       " ('has', 'have'),\n",
       " ('scored', 'score'),\n",
       " ('was', 'be'),\n",
       " ('forced', 'force'),\n",
       " ('came', 'come'),\n",
       " ('caused', 'cause'),\n",
       " ('looked', 'look'),\n",
       " ('was', 'be'),\n",
       " ('being', 'be'),\n",
       " ('marshalled', 'marshal'),\n",
       " ('was', 'be'),\n",
       " ('poured', 'pour'),\n",
       " ('was', 'be'),\n",
       " ('renewed', 'renew'),\n",
       " ('delivered', 'deliver'),\n",
       " ('showed', 'show'),\n",
       " ('needed', 'need'),\n",
       " ('was', 'be'),\n",
       " ('had', 'have'),\n",
       " ('been', 'be'),\n",
       " ('having', 'have'),\n",
       " ('scored', 'score'),\n",
       " ('attempting', 'attempt'),\n",
       " ('seemed', 'seem'),\n",
       " ('did', 'do'),\n",
       " ('missed', 'miss'),\n",
       " ('saved', 'save'),\n",
       " ('had', 'have'),\n",
       " ('had', 'have'),\n",
       " ('was', 'be'),\n",
       " ('going', 'go'),\n",
       " ('started', 'start'),\n",
       " ('allowed', 'allow'),\n",
       " ('bit', 'bite'),\n",
       " ('had', 'have'),\n",
       " ('chances', 'chance'),\n",
       " ('gone', 'go'),\n",
       " ('missed', 'miss'),\n",
       " ('was', 'be'),\n",
       " ('scored', 'score'),\n",
       " ('was', 'be'),\n",
       " ('deserved', 'deserve'),\n",
       " ('times', 'time'),\n",
       " ('did', 'do'),\n",
       " ('improved', 'improve'),\n",
       " ('games', 'game'),\n",
       " ('was', 'be')]"
      ]
     },
     "execution_count": 41,
     "metadata": {},
     "output_type": "execute_result"
    }
   ],
   "source": [
    "[(word, word.lemmatize(pos='v')) for i, word in enumerate(parsed_body.words) \n",
    " if word != parsed_body.words[i].lemmatize(pos='v')]"
   ]
  },
  {
   "cell_type": "markdown",
   "metadata": {},
   "source": [
    "### Sentiment & Polarity"
   ]
  },
  {
   "cell_type": "markdown",
   "metadata": {},
   "source": [
    "TextBlob provides polarity and subjectivity estimates for parsed documents using dictionaries provided by the Pattern library. These dictionaries lexicon map adjectives frequently found in product reviews to sentiment polarity scores, ranging from -1 to +1 (negative ↔ positive) and a similar subjectivity score (objective ↔ subjective).\n",
    "\n",
    "The .sentiment attribute provides the average for each over the relevant tokens, whereas the .sentiment_assessments attribute lists the underlying values for each token"
   ]
  },
  {
   "cell_type": "code",
   "execution_count": 42,
   "metadata": {
    "ExecuteTime": {
     "end_time": "2018-11-26T02:57:50.363858Z",
     "start_time": "2018-11-26T02:57:50.359319Z"
    }
   },
   "outputs": [
    {
     "data": {
      "text/plain": [
       "Sentiment(polarity=0.08138227513227513, subjectivity=0.45500264550264563)"
      ]
     },
     "execution_count": 42,
     "metadata": {},
     "output_type": "execute_result"
    }
   ],
   "source": [
    "parsed_body.sentiment"
   ]
  },
  {
   "cell_type": "code",
   "execution_count": 43,
   "metadata": {
    "ExecuteTime": {
     "end_time": "2018-11-26T02:57:25.305753Z",
     "start_time": "2018-11-26T02:57:25.301670Z"
    }
   },
   "outputs": [
    {
     "data": {
      "text/plain": [
       "Sentiment(polarity=0.08138227513227513, subjectivity=0.45500264550264563, assessments=[(['cross'], 0.0, 0.0, None), (['near'], 0.1, 0.4, None), (['low'], 0.0, 0.3, None), (['later'], 0.0, 0.0, None), (['unfortunate'], -0.5, 1.0, None), (['own'], 0.6, 1.0, None), (['net'], 0.0, 0.0, None), (['wasted'], -0.2, 0.0, None), (['best'], 1.0, 0.3, None), (['wide'], -0.1, 0.4, None), (['first'], 0.25, 0.3333333333333333, None), (['half'], -0.16666666666666666, 0.16666666666666666, None), (['unlikely'], -0.5, 0.5, None), (['win'], 0.8, 0.4, None), (['catching'], 0.6, 0.9, None), (['more'], 0.5, 0.5, None), (['back'], 0.0, 0.0, None), (['game'], -0.4, 0.4, None), (['only'], 0.0, 1.0, None), (['capable'], 0.2, 0.4, None), (['lively', 'down'], -0.15555555555555559, 0.2888888888888889, None), (['right'], 0.2857142857142857, 0.5357142857142857, None), (['difficult'], -0.5, 1.0, None), (['near'], 0.1, 0.4, None), (['past'], -0.25, 0.25, None), (['former'], 0.0, 0.0, None), (['easy'], 0.43333333333333335, 0.8333333333333334, None), (['wide'], -0.1, 0.4, None), (['forced'], -0.30000000000000004, 0.2, None), (['earlier'], 0.0, 0.5, None), (['cross'], 0.0, 0.0, None), (['best'], 1.0, 0.3, None), (['worse'], -0.4, 0.6, None), (['fine'], 0.4166666666666667, 0.5, None), (['horrible'], -1.0, 1.0, None), (['own'], 0.6, 1.0, None), (['clear'], 0.10000000000000002, 0.3833333333333333, None), (['cross'], 0.0, 0.0, None), (['dry'], -0.06666666666666665, 0.6, None), (['back'], 0.0, 0.0, None), (['great'], 0.8, 0.75, None), (['third'], 0.0, 0.0, None), (['late'], -0.3, 0.6, None), (['great'], 0.8, 0.75, None), (['first'], 0.25, 0.3333333333333333, None), (['crucial'], 0.0, 1.0, None), (['good'], 0.7, 0.6000000000000001, None), (['much'], 0.2, 0.2, None), (['good'], 0.7, 0.6000000000000001, None), (['down'], -0.15555555555555559, 0.2888888888888889, None), (['very', 'similar'], 0.0, 0.52, None), (['best'], 1.0, 0.3, None), (['last'], 0.0, 0.06666666666666667, None), (['especially'], 0.0, 1.0, None), (['first'], 0.25, 0.3333333333333333, None), (['half'], -0.16666666666666666, 0.16666666666666666, None), (['enough'], 0.0, 0.5, None), (['dull'], -0.2916666666666667, 0.5, None), (['horrible'], -1.0, 1.0, None), ([':s'], -0.25, 1.0, 'mood')])"
      ]
     },
     "execution_count": 43,
     "metadata": {},
     "output_type": "execute_result"
    }
   ],
   "source": [
    "parsed_body.sentiment_assessments"
   ]
  },
  {
   "cell_type": "markdown",
   "metadata": {},
   "source": [
    "### Combine Textblob Lemmatization with `CountVectorizer`"
   ]
  },
  {
   "cell_type": "code",
   "execution_count": 28,
   "metadata": {
    "ExecuteTime": {
     "end_time": "2018-11-22T18:26:04.152859Z",
     "start_time": "2018-11-22T18:26:04.150466Z"
    }
   },
   "outputs": [],
   "source": [
    "def lemmatizer(text):\n",
    "    words = TextBlob(text.lower()).words\n",
    "    return [word.lemmatize() for word in words]"
   ]
  },
  {
   "cell_type": "code",
   "execution_count": 29,
   "metadata": {
    "ExecuteTime": {
     "end_time": "2018-11-22T18:26:04.160781Z",
     "start_time": "2018-11-22T18:26:04.154322Z"
    }
   },
   "outputs": [],
   "source": [
    "vectorizer = CountVectorizer(analyzer=lemmatizer, decode_error='replace')"
   ]
  }
 ],
 "metadata": {
  "kernelspec": {
   "display_name": "Python 3",
   "language": "python",
   "name": "python3"
  },
  "language_info": {
   "codemirror_mode": {
    "name": "ipython",
    "version": 3
   },
   "file_extension": ".py",
   "mimetype": "text/x-python",
   "name": "python",
   "nbconvert_exporter": "python",
   "pygments_lexer": "ipython3",
   "version": "3.7.6"
  },
  "toc": {
   "base_numbering": 1,
   "nav_menu": {},
   "number_sections": true,
   "sideBar": true,
   "skip_h1_title": true,
   "title_cell": "Table of Contents",
   "title_sidebar": "Contents",
   "toc_cell": false,
   "toc_position": {},
   "toc_section_display": true,
   "toc_window_display": true
  }
 },
 "nbformat": 4,
 "nbformat_minor": 2
}
