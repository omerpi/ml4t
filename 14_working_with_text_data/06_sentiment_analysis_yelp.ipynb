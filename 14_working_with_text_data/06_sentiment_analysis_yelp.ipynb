{
 "cells": [
  {
   "cell_type": "markdown",
   "metadata": {},
   "source": [
    "# Text classification and sentiment analysis: Yelp Reviews"
   ]
  },
  {
   "cell_type": "markdown",
   "metadata": {},
   "source": [
    "Once text data has been converted into numerical features using the natural language processing techniques discussed in the previous sections, text classification works just like any other classification task.\n",
    "\n",
    "In this notebook, we will apply these preprocessing technique to Yelp business reviews to classify them by review scores and sentiment polarity."
   ]
  },
  {
   "cell_type": "markdown",
   "metadata": {},
   "source": [
    "## Imports"
   ]
  },
  {
   "cell_type": "code",
   "execution_count": 1,
   "metadata": {
    "ExecuteTime": {
     "end_time": "2020-05-08T19:25:43.745892Z",
     "start_time": "2020-05-08T19:25:43.148202Z"
    }
   },
   "outputs": [],
   "source": [
    "%matplotlib inline\n",
    "import warnings\n",
    "from collections import Counter, OrderedDict\n",
    "from pathlib import Path\n",
    "\n",
    "import numpy as np\n",
    "import pandas as pd\n",
    "from pandas.io.json import json_normalize\n",
    "\n",
    "from scipy import sparse\n",
    "from scipy.spatial.distance import pdist, squareform\n",
    "\n",
    "# Visualization\n",
    "import matplotlib.pyplot as plt\n",
    "from matplotlib.ticker import FuncFormatter, ScalarFormatter\n",
    "import seaborn as sns\n",
    "\n",
    "# spacy, textblob and nltk for language processing\n",
    "from textblob import TextBlob, Word\n",
    "\n",
    "# sklearn for feature extraction & modeling\n",
    "from sklearn.feature_extraction.text import CountVectorizer, TfidfVectorizer\n",
    "from sklearn.model_selection import train_test_split\n",
    "from sklearn.naive_bayes import MultinomialNB\n",
    "from sklearn.linear_model import LogisticRegression\n",
    "from sklearn.metrics import roc_auc_score, roc_curve, accuracy_score, confusion_matrix\n",
    "import joblib\n",
    "\n",
    "import lightgbm as lgb\n",
    "\n",
    "import json\n",
    "from time import clock, time"
   ]
  },
  {
   "cell_type": "code",
   "execution_count": 2,
   "metadata": {
    "ExecuteTime": {
     "end_time": "2020-05-08T19:25:45.111667Z",
     "start_time": "2020-05-08T19:25:45.107289Z"
    }
   },
   "outputs": [],
   "source": [
    "sns.set_style('whitegrid')\n",
    "warnings.filterwarnings('ignore')\n",
    "np.random.seed(42)"
   ]
  },
  {
   "cell_type": "markdown",
   "metadata": {},
   "source": [
    "## Yelp Challenge: business reviews dataset"
   ]
  },
  {
   "cell_type": "markdown",
   "metadata": {},
   "source": [
    "Finally, we apply sentiment analysis to the significantly larger Yelp business review dataset with five outcome classes. \n",
    "\n",
    "The data consists of several files with information on the business, the user, the review and other aspects that Yelp provides to encourage data science innovation. \n",
    "\n",
    "We will use around six million reviews produced over the 2010-2018 period. In addition to the text features resulting from the review texts, we will also use other information submitted with the review about the user. "
   ]
  },
  {
   "cell_type": "markdown",
   "metadata": {},
   "source": [
    "The [Yelp](https://www.yelp.com/dataset) dataset covers a subset of Yelp's businesses, reviews, and user data. \n",
    "\n",
    "You can download the data come in json format after accepting the license. It contains 3.6GB (compressed) and around 9GB (uncompressed) of text data. \n",
    "\n",
    "After download, extract the user.json and reviews.json files into to `data/yelp/json`"
   ]
  },
  {
   "cell_type": "markdown",
   "metadata": {},
   "source": [
    "### Set up data directories"
   ]
  },
  {
   "cell_type": "markdown",
   "metadata": {},
   "source": [
    "We parse the json files and store the result in parquet format in our cental data directory so we can reuse the cleaned data. You can remove the large json files after parsing."
   ]
  },
  {
   "cell_type": "code",
   "execution_count": 3,
   "metadata": {},
   "outputs": [],
   "source": [
    "data_dir = Path('../data')"
   ]
  },
  {
   "cell_type": "code",
   "execution_count": 4,
   "metadata": {
    "ExecuteTime": {
     "end_time": "2018-11-26T06:37:18.194551Z",
     "start_time": "2018-11-26T06:37:18.192238Z"
    }
   },
   "outputs": [],
   "source": [
    "yelp_dir = Path('data', 'yelp')\n",
    "parquet_dir = data_dir / 'yelp'\n",
    "if not parquet_dir.exists():\n",
    "    parquet_dir.mkdir(exist_ok=True)\n",
    "text_features_dir = yelp_dir / 'text_features'\n",
    "if not text_features_dir.exists():\n",
    "    text_features_dir.mkdir(exist_ok=True)    "
   ]
  },
  {
   "cell_type": "markdown",
   "metadata": {},
   "source": [
    "### Parse json and store as parquet files"
   ]
  },
  {
   "cell_type": "code",
   "execution_count": 4,
   "metadata": {
    "ExecuteTime": {
     "end_time": "2018-11-21T16:31:03.603964Z",
     "start_time": "2018-11-21T16:25:46.210795Z"
    },
    "scrolled": false
   },
   "outputs": [
    {
     "name": "stdout",
     "output_type": "stream",
     "text": [
      "review\n",
      "user\n"
     ]
    }
   ],
   "source": [
    "for file in ['review', 'user']:\n",
    "    print(file)\n",
    "    json_file = yelp_dir / 'json' / f'{file}.json'\n",
    "    parquet_file = parquet_dir / f'{file}.parquet'\n",
    "\n",
    "    data = json_file.read_text(encoding='utf-8')\n",
    "    json_data = '[' + ','.join([l.strip()\n",
    "                                for l in data.split('\\n') if l.strip()]) + ']\\n'\n",
    "    data = json.loads(json_data)\n",
    "    df = json_normalize(data)\n",
    "    if file == 'review':\n",
    "        df.date = pd.to_datetime(df.date)\n",
    "        latest = df.date.max()\n",
    "        df['year'] = df.date.dt.year\n",
    "        df['month'] = df.date.dt.month\n",
    "        df = df.drop(['date', 'business_id', 'review_id'], axis=1)\n",
    "    if file == 'user':\n",
    "        df.yelping_since = pd.to_datetime(df.yelping_since)\n",
    "        df = (df.assign(member_yrs=lambda x: (latest - x.yelping_since)\n",
    "                        .dt.days.div(365).astype(int))\n",
    "              .drop(['elite', 'friends', 'name', 'yelping_since'], axis=1))\n",
    "    df.dropna(how='all', axis=1).to_parquet(parquet_file)\n"
   ]
  },
  {
   "cell_type": "code",
   "execution_count": 5,
   "metadata": {
    "ExecuteTime": {
     "end_time": "2018-11-21T16:35:47.922755Z",
     "start_time": "2018-11-21T16:35:47.140603Z"
    },
    "scrolled": false
   },
   "outputs": [
    {
     "name": "stdout",
     "output_type": "stream",
     "text": [
      "<class 'pandas.core.frame.DataFrame'>\n",
      "RangeIndex: 1637138 entries, 0 to 1637137\n",
      "Data columns (total 19 columns):\n",
      " #   Column              Non-Null Count    Dtype  \n",
      "---  ------              --------------    -----  \n",
      " 0   average_stars       1637138 non-null  float64\n",
      " 1   compliment_cool     1637138 non-null  int64  \n",
      " 2   compliment_cute     1637138 non-null  int64  \n",
      " 3   compliment_funny    1637138 non-null  int64  \n",
      " 4   compliment_hot      1637138 non-null  int64  \n",
      " 5   compliment_list     1637138 non-null  int64  \n",
      " 6   compliment_more     1637138 non-null  int64  \n",
      " 7   compliment_note     1637138 non-null  int64  \n",
      " 8   compliment_photos   1637138 non-null  int64  \n",
      " 9   compliment_plain    1637138 non-null  int64  \n",
      " 10  compliment_profile  1637138 non-null  int64  \n",
      " 11  compliment_writer   1637138 non-null  int64  \n",
      " 12  cool                1637138 non-null  int64  \n",
      " 13  fans                1637138 non-null  int64  \n",
      " 14  funny               1637138 non-null  int64  \n",
      " 15  review_count        1637138 non-null  int64  \n",
      " 16  useful              1637138 non-null  int64  \n",
      " 17  user_id             1637138 non-null  object \n",
      " 18  member_yrs          1637138 non-null  int64  \n",
      "dtypes: float64(1), int64(17), object(1)\n",
      "memory usage: 237.3+ MB\n"
     ]
    }
   ],
   "source": [
    "user = pd.read_parquet(parquet_dir / 'user.parquet')\n",
    "user.info(null_counts=True)"
   ]
  },
  {
   "cell_type": "code",
   "execution_count": 6,
   "metadata": {
    "ExecuteTime": {
     "end_time": "2018-11-21T16:35:51.985181Z",
     "start_time": "2018-11-21T16:35:51.970430Z"
    }
   },
   "outputs": [
    {
     "data": {
      "text/html": [
       "<div>\n",
       "<style scoped>\n",
       "    .dataframe tbody tr th:only-of-type {\n",
       "        vertical-align: middle;\n",
       "    }\n",
       "\n",
       "    .dataframe tbody tr th {\n",
       "        vertical-align: top;\n",
       "    }\n",
       "\n",
       "    .dataframe thead th {\n",
       "        text-align: right;\n",
       "    }\n",
       "</style>\n",
       "<table border=\"1\" class=\"dataframe\">\n",
       "  <thead>\n",
       "    <tr style=\"text-align: right;\">\n",
       "      <th></th>\n",
       "      <th>average_stars</th>\n",
       "      <th>compliment_cool</th>\n",
       "      <th>compliment_cute</th>\n",
       "      <th>compliment_funny</th>\n",
       "      <th>compliment_hot</th>\n",
       "      <th>compliment_list</th>\n",
       "      <th>compliment_more</th>\n",
       "      <th>compliment_note</th>\n",
       "      <th>compliment_photos</th>\n",
       "      <th>compliment_plain</th>\n",
       "      <th>compliment_profile</th>\n",
       "      <th>compliment_writer</th>\n",
       "      <th>cool</th>\n",
       "      <th>fans</th>\n",
       "      <th>funny</th>\n",
       "      <th>review_count</th>\n",
       "      <th>useful</th>\n",
       "      <th>user_id</th>\n",
       "      <th>member_yrs</th>\n",
       "    </tr>\n",
       "  </thead>\n",
       "  <tbody>\n",
       "    <tr>\n",
       "      <th>0</th>\n",
       "      <td>4.03</td>\n",
       "      <td>1</td>\n",
       "      <td>0</td>\n",
       "      <td>1</td>\n",
       "      <td>2</td>\n",
       "      <td>0</td>\n",
       "      <td>0</td>\n",
       "      <td>1</td>\n",
       "      <td>0</td>\n",
       "      <td>1</td>\n",
       "      <td>0</td>\n",
       "      <td>2</td>\n",
       "      <td>25</td>\n",
       "      <td>5</td>\n",
       "      <td>17</td>\n",
       "      <td>95</td>\n",
       "      <td>84</td>\n",
       "      <td>l6BmjZMeQD3rDxWUbiAiow</td>\n",
       "      <td>5</td>\n",
       "    </tr>\n",
       "    <tr>\n",
       "      <th>1</th>\n",
       "      <td>3.63</td>\n",
       "      <td>1</td>\n",
       "      <td>0</td>\n",
       "      <td>1</td>\n",
       "      <td>1</td>\n",
       "      <td>0</td>\n",
       "      <td>0</td>\n",
       "      <td>0</td>\n",
       "      <td>0</td>\n",
       "      <td>0</td>\n",
       "      <td>0</td>\n",
       "      <td>0</td>\n",
       "      <td>16</td>\n",
       "      <td>4</td>\n",
       "      <td>22</td>\n",
       "      <td>33</td>\n",
       "      <td>48</td>\n",
       "      <td>4XChL029mKr5hydo79Ljxg</td>\n",
       "      <td>5</td>\n",
       "    </tr>\n",
       "    <tr>\n",
       "      <th>2</th>\n",
       "      <td>3.71</td>\n",
       "      <td>0</td>\n",
       "      <td>0</td>\n",
       "      <td>0</td>\n",
       "      <td>0</td>\n",
       "      <td>0</td>\n",
       "      <td>0</td>\n",
       "      <td>1</td>\n",
       "      <td>0</td>\n",
       "      <td>0</td>\n",
       "      <td>0</td>\n",
       "      <td>0</td>\n",
       "      <td>10</td>\n",
       "      <td>0</td>\n",
       "      <td>8</td>\n",
       "      <td>16</td>\n",
       "      <td>28</td>\n",
       "      <td>bc8C_eETBWL0olvFSJJd0w</td>\n",
       "      <td>5</td>\n",
       "    </tr>\n",
       "    <tr>\n",
       "      <th>3</th>\n",
       "      <td>4.85</td>\n",
       "      <td>0</td>\n",
       "      <td>0</td>\n",
       "      <td>0</td>\n",
       "      <td>1</td>\n",
       "      <td>0</td>\n",
       "      <td>0</td>\n",
       "      <td>0</td>\n",
       "      <td>0</td>\n",
       "      <td>2</td>\n",
       "      <td>0</td>\n",
       "      <td>1</td>\n",
       "      <td>14</td>\n",
       "      <td>5</td>\n",
       "      <td>4</td>\n",
       "      <td>17</td>\n",
       "      <td>30</td>\n",
       "      <td>dD0gZpBctWGdWo9WlGuhlA</td>\n",
       "      <td>4</td>\n",
       "    </tr>\n",
       "    <tr>\n",
       "      <th>4</th>\n",
       "      <td>4.08</td>\n",
       "      <td>80</td>\n",
       "      <td>0</td>\n",
       "      <td>80</td>\n",
       "      <td>28</td>\n",
       "      <td>1</td>\n",
       "      <td>1</td>\n",
       "      <td>16</td>\n",
       "      <td>5</td>\n",
       "      <td>57</td>\n",
       "      <td>0</td>\n",
       "      <td>25</td>\n",
       "      <td>665</td>\n",
       "      <td>39</td>\n",
       "      <td>279</td>\n",
       "      <td>361</td>\n",
       "      <td>1114</td>\n",
       "      <td>MM4RJAeH6yuaN8oZDSt0RA</td>\n",
       "      <td>5</td>\n",
       "    </tr>\n",
       "  </tbody>\n",
       "</table>\n",
       "</div>"
      ],
      "text/plain": [
       "   average_stars  compliment_cool  compliment_cute  compliment_funny  \\\n",
       "0           4.03                1                0                 1   \n",
       "1           3.63                1                0                 1   \n",
       "2           3.71                0                0                 0   \n",
       "3           4.85                0                0                 0   \n",
       "4           4.08               80                0                80   \n",
       "\n",
       "   compliment_hot  compliment_list  compliment_more  compliment_note  \\\n",
       "0               2                0                0                1   \n",
       "1               1                0                0                0   \n",
       "2               0                0                0                1   \n",
       "3               1                0                0                0   \n",
       "4              28                1                1               16   \n",
       "\n",
       "   compliment_photos  compliment_plain  compliment_profile  compliment_writer  \\\n",
       "0                  0                 1                   0                  2   \n",
       "1                  0                 0                   0                  0   \n",
       "2                  0                 0                   0                  0   \n",
       "3                  0                 2                   0                  1   \n",
       "4                  5                57                   0                 25   \n",
       "\n",
       "   cool  fans  funny  review_count  useful                 user_id  member_yrs  \n",
       "0    25     5     17            95      84  l6BmjZMeQD3rDxWUbiAiow           5  \n",
       "1    16     4     22            33      48  4XChL029mKr5hydo79Ljxg           5  \n",
       "2    10     0      8            16      28  bc8C_eETBWL0olvFSJJd0w           5  \n",
       "3    14     5      4            17      30  dD0gZpBctWGdWo9WlGuhlA           4  \n",
       "4   665    39    279           361    1114  MM4RJAeH6yuaN8oZDSt0RA           5  "
      ]
     },
     "execution_count": 6,
     "metadata": {},
     "output_type": "execute_result"
    }
   ],
   "source": [
    "user.head()"
   ]
  },
  {
   "cell_type": "code",
   "execution_count": 7,
   "metadata": {
    "ExecuteTime": {
     "end_time": "2018-11-21T16:36:18.752582Z",
     "start_time": "2018-11-21T16:35:55.329305Z"
    }
   },
   "outputs": [
    {
     "name": "stdout",
     "output_type": "stream",
     "text": [
      "<class 'pandas.core.frame.DataFrame'>\n",
      "RangeIndex: 6685900 entries, 0 to 6685899\n",
      "Data columns (total 8 columns):\n",
      " #   Column   Non-Null Count    Dtype  \n",
      "---  ------   --------------    -----  \n",
      " 0   cool     6685900 non-null  int64  \n",
      " 1   funny    6685900 non-null  int64  \n",
      " 2   stars    6685900 non-null  float64\n",
      " 3   text     6685900 non-null  object \n",
      " 4   useful   6685900 non-null  int64  \n",
      " 5   user_id  6685900 non-null  object \n",
      " 6   year     6685900 non-null  int64  \n",
      " 7   month    6685900 non-null  int64  \n",
      "dtypes: float64(1), int64(5), object(2)\n",
      "memory usage: 408.1+ MB\n"
     ]
    }
   ],
   "source": [
    "review = pd.read_parquet(parquet_dir / 'review.parquet')\n",
    "review.info(null_counts=True)"
   ]
  },
  {
   "cell_type": "markdown",
   "metadata": {},
   "source": [
    "### Merge review and user files"
   ]
  },
  {
   "cell_type": "code",
   "execution_count": 8,
   "metadata": {
    "ExecuteTime": {
     "end_time": "2018-11-21T16:41:33.291590Z",
     "start_time": "2018-11-21T16:37:54.568008Z"
    }
   },
   "outputs": [
    {
     "name": "stdout",
     "output_type": "stream",
     "text": [
      "<class 'pandas.core.frame.DataFrame'>\n",
      "Int64Index: 6685900 entries, 0 to 6685899\n",
      "Data columns (total 25 columns):\n",
      " #   Column              Non-Null Count    Dtype  \n",
      "---  ------              --------------    -----  \n",
      " 0   cool                6685900 non-null  int64  \n",
      " 1   funny               6685900 non-null  int64  \n",
      " 2   stars               6685900 non-null  float64\n",
      " 3   text                6685900 non-null  object \n",
      " 4   useful              6685900 non-null  int64  \n",
      " 5   year                6685900 non-null  int64  \n",
      " 6   month               6685900 non-null  int64  \n",
      " 7   average_stars       6685900 non-null  float64\n",
      " 8   compliment_cool     6685900 non-null  int64  \n",
      " 9   compliment_cute     6685900 non-null  int64  \n",
      " 10  compliment_funny    6685900 non-null  int64  \n",
      " 11  compliment_hot      6685900 non-null  int64  \n",
      " 12  compliment_list     6685900 non-null  int64  \n",
      " 13  compliment_more     6685900 non-null  int64  \n",
      " 14  compliment_note     6685900 non-null  int64  \n",
      " 15  compliment_photos   6685900 non-null  int64  \n",
      " 16  compliment_plain    6685900 non-null  int64  \n",
      " 17  compliment_profile  6685900 non-null  int64  \n",
      " 18  compliment_writer   6685900 non-null  int64  \n",
      " 19  cool_user           6685900 non-null  int64  \n",
      " 20  fans                6685900 non-null  int64  \n",
      " 21  funny_user          6685900 non-null  int64  \n",
      " 22  review_count        6685900 non-null  int64  \n",
      " 23  useful_user         6685900 non-null  int64  \n",
      " 24  member_yrs          6685900 non-null  int64  \n",
      "dtypes: float64(2), int64(22), object(1)\n",
      "memory usage: 1.3+ GB\n"
     ]
    }
   ],
   "source": [
    "combined = (review\n",
    "            .merge(user, on='user_id', how='left', suffixes=['', '_user'])\n",
    "            .drop('user_id', axis=1))\n",
    "combined = combined[combined.stars > 0]\n",
    "combined.info(null_counts=True)"
   ]
  },
  {
   "cell_type": "code",
   "execution_count": 9,
   "metadata": {
    "ExecuteTime": {
     "end_time": "2018-11-21T17:31:08.163423Z",
     "start_time": "2018-11-21T17:27:07.206081Z"
    }
   },
   "outputs": [],
   "source": [
    "combined.to_parquet(parquet_dir / 'combined.parquet')"
   ]
  },
  {
   "cell_type": "code",
   "execution_count": 5,
   "metadata": {
    "ExecuteTime": {
     "end_time": "2018-11-26T06:39:02.944907Z",
     "start_time": "2018-11-26T06:38:38.732675Z"
    },
    "scrolled": false
   },
   "outputs": [],
   "source": [
    "combined = pd.read_parquet(parquet_dir / 'combined.parquet')"
   ]
  },
  {
   "cell_type": "markdown",
   "metadata": {},
   "source": [
    "### Explore data"
   ]
  },
  {
   "cell_type": "markdown",
   "metadata": {},
   "source": [
    "The following figure shows the number of reviews and the average number of stars per year."
   ]
  },
  {
   "cell_type": "markdown",
   "metadata": {},
   "source": [
    "#### Reviews & Stars by Year"
   ]
  },
  {
   "cell_type": "code",
   "execution_count": 6,
   "metadata": {
    "ExecuteTime": {
     "end_time": "2018-11-26T06:40:38.345897Z",
     "start_time": "2018-11-26T06:39:02.946238Z"
    }
   },
   "outputs": [
    {
     "data": {
      "image/png": "[encoded data removed]",
      "text/plain": [
       "<Figure size 1152x288 with 3 Axes>"
      ]
     },
     "metadata": {},
     "output_type": "display_data"
    }
   ],
   "source": [
    "fig, axes = plt.subplots(ncols=3, figsize=(16, 4))\n",
    "combined.year.value_counts().sort_index().plot.bar(title='Reviews per Year', ax=axes[0], rot=0);\n",
    "sns.lineplot(x='year', y='stars', data=combined, ax=axes[1])\n",
    "axes[1].set_title('Stars per year')\n",
    "\n",
    "stars_dist = combined.stars.value_counts(normalize=True).sort_index().mul(100)\n",
    "stars_dist.index = stars_dist.index.astype(int)\n",
    "stars_dist.plot.barh(title='# Stars Breakdown', ax=axes[2])\n",
    "axes[2].set_xlabel('Share of all Ratings (%)')\n",
    "axes[2].set_ylabel('Number of Stars');\n",
    "\n",
    "fig.tight_layout()\n",
    "fig.savefig('figures/yelp_stats');"
   ]
  },
  {
   "cell_type": "markdown",
   "metadata": {},
   "source": [
    "#### Years of Membership Breakdown"
   ]
  },
  {
   "cell_type": "code",
   "execution_count": 15,
   "metadata": {
    "ExecuteTime": {
     "end_time": "2018-11-26T06:40:38.395097Z",
     "start_time": "2018-11-26T06:40:38.347029Z"
    }
   },
   "outputs": [
    {
     "data": {
      "image/png": "[encoded data removed]",
      "text/plain": [
       "<Figure size 432x288 with 1 Axes>"
      ]
     },
     "metadata": {},
     "output_type": "display_data"
    }
   ],
   "source": [
    "ax = combined.member_yrs.value_counts().sort_index().plot.bar(title='Years of Membership')\n",
    "ax.set_xlabel('Number of Years')\n",
    "ax.set_ylabel('Number of Members');"
   ]
  },
  {
   "cell_type": "markdown",
   "metadata": {},
   "source": [
    "### Create train-test split"
   ]
  },
  {
   "cell_type": "code",
   "execution_count": 7,
   "metadata": {
    "ExecuteTime": {
     "end_time": "2018-11-21T16:54:02.322183Z",
     "start_time": "2018-11-21T16:54:01.675175Z"
    }
   },
   "outputs": [],
   "source": [
    "train = combined[combined.year < 2018].sample(frac=.1)\n",
    "test = combined[combined.year == 2018]"
   ]
  },
  {
   "cell_type": "code",
   "execution_count": 8,
   "metadata": {
    "ExecuteTime": {
     "end_time": "2018-11-21T16:57:34.506035Z",
     "start_time": "2018-11-21T16:54:04.469343Z"
    }
   },
   "outputs": [],
   "source": [
    "train.to_parquet(parquet_dir / 'train.parquet')\n",
    "test.to_parquet(parquet_dir / 'test.parquet')"
   ]
  },
  {
   "cell_type": "markdown",
   "metadata": {},
   "source": [
    "#### Reload stored data"
   ]
  },
  {
   "cell_type": "code",
   "execution_count": 7,
   "metadata": {
    "ExecuteTime": {
     "end_time": "2018-11-26T06:43:57.832860Z",
     "start_time": "2018-11-26T06:43:35.086606Z"
    }
   },
   "outputs": [],
   "source": [
    "train = pd.read_parquet(parquet_dir / 'train.parquet')\n",
    "test = pd.read_parquet(parquet_dir / 'test.parquet')"
   ]
  },
  {
   "cell_type": "markdown",
   "metadata": {},
   "source": [
    "## Create Yelp review document-term matrix"
   ]
  },
  {
   "cell_type": "code",
   "execution_count": 9,
   "metadata": {
    "ExecuteTime": {
     "end_time": "2018-11-21T17:09:18.133401Z",
     "start_time": "2018-11-21T16:57:34.508544Z"
    }
   },
   "outputs": [
    {
     "data": {
      "text/plain": [
       "<550824x10000 sparse matrix of type '<class 'numpy.int64'>'\n",
       "\twith 25059161 stored elements in Compressed Sparse Row format>"
      ]
     },
     "execution_count": 9,
     "metadata": {},
     "output_type": "execute_result"
    }
   ],
   "source": [
    "vectorizer = CountVectorizer(stop_words='english', ngram_range=(1, 2), max_features=10000)\n",
    "train_dtm = vectorizer.fit_transform(train.text)\n",
    "train_dtm"
   ]
  },
  {
   "cell_type": "code",
   "execution_count": 10,
   "metadata": {
    "ExecuteTime": {
     "end_time": "2018-11-21T17:10:45.497868Z",
     "start_time": "2018-11-21T17:09:18.134872Z"
    }
   },
   "outputs": [],
   "source": [
    "sparse.save_npz(text_features_dir / 'train_dtm', train_dtm)"
   ]
  },
  {
   "cell_type": "code",
   "execution_count": 12,
   "metadata": {
    "ExecuteTime": {
     "end_time": "2018-11-21T17:11:38.827700Z",
     "start_time": "2018-11-21T17:10:45.499840Z"
    }
   },
   "outputs": [],
   "source": [
    "test_dtm = vectorizer.transform(test.text)\n",
    "sparse.save_npz(text_features_dir / 'test_dtm', test_dtm)"
   ]
  },
  {
   "cell_type": "markdown",
   "metadata": {},
   "source": [
    "### Reload stored data"
   ]
  },
  {
   "cell_type": "code",
   "execution_count": 8,
   "metadata": {
    "ExecuteTime": {
     "end_time": "2018-11-26T06:54:34.163446Z",
     "start_time": "2018-11-26T06:54:33.419690Z"
    }
   },
   "outputs": [],
   "source": [
    "train_dtm = sparse.load_npz(text_features_dir / 'train_dtm.npz')\n",
    "test_dtm = sparse.load_npz(text_features_dir / 'test_dtm.npz')"
   ]
  },
  {
   "cell_type": "markdown",
   "metadata": {
    "slideshow": {
     "slide_type": "slide"
    }
   },
   "source": [
    "## Combine non-text features with the document-term matrix"
   ]
  },
  {
   "cell_type": "markdown",
   "metadata": {},
   "source": [
    "The dataset contains various numerical features. The vectorizers produce [scipy.sparse matrices](https://docs.scipy.org/doc/scipy/reference/sparse.html). To combine the vectorized text data with other features, we need to first convert these to sparse matrices as well; many sklearn objects and other libraries like lightgbm can handle these very memory-efficient data structures. Converting the sparse matrix to a dense numpy array risks memory overflow.\n",
    "\n",
    "Most variables are categorical so we use one-hot encoding since we have a fairly large dataset to accommodate the increase in features.\n",
    "\n",
    "We convert the encoded numerical features and combine them with the document-term matrix:"
   ]
  },
  {
   "cell_type": "markdown",
   "metadata": {},
   "source": [
    "### One-hot-encoding "
   ]
  },
  {
   "cell_type": "code",
   "execution_count": 22,
   "metadata": {
    "ExecuteTime": {
     "end_time": "2018-11-22T21:03:01.316248Z",
     "start_time": "2018-11-22T21:02:59.935577Z"
    }
   },
   "outputs": [],
   "source": [
    "df = pd.concat([train.drop(['text', 'stars'], axis=1).assign(source='train'),\n",
    "                test.drop(['text', 'stars'], axis=1).assign(source='test')])"
   ]
  },
  {
   "cell_type": "code",
   "execution_count": 23,
   "metadata": {
    "ExecuteTime": {
     "end_time": "2018-11-22T21:03:19.138369Z",
     "start_time": "2018-11-22T21:03:05.824537Z"
    }
   },
   "outputs": [
    {
     "name": "stdout",
     "output_type": "stream",
     "text": [
      "<class 'pandas.core.frame.DataFrame'>\n",
      "Int64Index: 1728486 entries, 964767 to 6685899\n",
      "Data columns (total 24 columns):\n",
      " #   Column              Non-Null Count    Dtype \n",
      "---  ------              --------------    ----- \n",
      " 0   cool                1728486 non-null  int64 \n",
      " 1   funny               1728486 non-null  int64 \n",
      " 2   useful              1728486 non-null  int64 \n",
      " 3   average_stars       1728486 non-null  int64 \n",
      " 4   compliment_cool     1728486 non-null  int64 \n",
      " 5   compliment_cute     1728486 non-null  int64 \n",
      " 6   compliment_funny    1728486 non-null  int64 \n",
      " 7   compliment_hot      1728486 non-null  int64 \n",
      " 8   compliment_list     1728486 non-null  int64 \n",
      " 9   compliment_more     1728486 non-null  int64 \n",
      " 10  compliment_note     1728486 non-null  int64 \n",
      " 11  compliment_photos   1728486 non-null  int64 \n",
      " 12  compliment_plain    1728486 non-null  int64 \n",
      " 13  compliment_profile  1728486 non-null  int64 \n",
      " 14  compliment_writer   1728486 non-null  int64 \n",
      " 15  cool_user           1728486 non-null  int64 \n",
      " 16  fans                1728486 non-null  int64 \n",
      " 17  funny_user          1728486 non-null  int64 \n",
      " 18  review_count        1728486 non-null  int64 \n",
      " 19  useful_user         1728486 non-null  int64 \n",
      " 20  year                1728486 non-null  int64 \n",
      " 21  month               1728486 non-null  int64 \n",
      " 22  member_yrs          1728486 non-null  int64 \n",
      " 23  source              1728486 non-null  object\n",
      "dtypes: int64(23), object(1)\n",
      "memory usage: 329.7+ MB\n"
     ]
    }
   ],
   "source": [
    "uniques = df.nunique()\n",
    "binned = pd.concat([(df.loc[:, uniques[uniques > 20].index]\n",
    "                     .apply(pd.qcut, q=10, labels=False, duplicates='drop')),\n",
    "                    df.loc[:, uniques[uniques <= 20].index]], axis=1)\n",
    "binned.info(null_counts=True)"
   ]
  },
  {
   "cell_type": "code",
   "execution_count": 24,
   "metadata": {
    "ExecuteTime": {
     "end_time": "2018-11-22T21:05:25.101495Z",
     "start_time": "2018-11-22T21:05:21.505198Z"
    }
   },
   "outputs": [
    {
     "name": "stdout",
     "output_type": "stream",
     "text": [
      "<class 'pandas.core.frame.DataFrame'>\n",
      "Int64Index: 1728486 entries, 964767 to 6685899\n",
      "Columns: 101 entries, source to member_yrs_14\n",
      "dtypes: object(1), uint8(100)\n",
      "memory usage: 191.2+ MB\n"
     ]
    }
   ],
   "source": [
    "dummies = pd.get_dummies(binned, columns=binned.columns.drop('source'), drop_first=True)\n",
    "dummies.info()"
   ]
  },
  {
   "cell_type": "code",
   "execution_count": 25,
   "metadata": {
    "ExecuteTime": {
     "end_time": "2018-11-22T21:06:17.495638Z",
     "start_time": "2018-11-22T21:06:15.660761Z"
    }
   },
   "outputs": [
    {
     "name": "stdout",
     "output_type": "stream",
     "text": [
      "<class 'pandas.core.frame.DataFrame'>\n",
      "Int64Index: 550824 entries, 964767 to 3426680\n",
      "Data columns (total 100 columns):\n",
      " #   Column               Non-Null Count   Dtype\n",
      "---  ------               --------------   -----\n",
      " 0   cool_1               550824 non-null  uint8\n",
      " 1   funny_1              550824 non-null  uint8\n",
      " 2   useful_1             550824 non-null  uint8\n",
      " 3   useful_2             550824 non-null  uint8\n",
      " 4   average_stars_1      550824 non-null  uint8\n",
      " 5   average_stars_2      550824 non-null  uint8\n",
      " 6   average_stars_3      550824 non-null  uint8\n",
      " 7   average_stars_4      550824 non-null  uint8\n",
      " 8   average_stars_5      550824 non-null  uint8\n",
      " 9   average_stars_6      550824 non-null  uint8\n",
      " 10  average_stars_7      550824 non-null  uint8\n",
      " 11  average_stars_8      550824 non-null  uint8\n",
      " 12  average_stars_9      550824 non-null  uint8\n",
      " 13  compliment_cool_1    550824 non-null  uint8\n",
      " 14  compliment_cool_2    550824 non-null  uint8\n",
      " 15  compliment_funny_1   550824 non-null  uint8\n",
      " 16  compliment_funny_2   550824 non-null  uint8\n",
      " 17  compliment_hot_1     550824 non-null  uint8\n",
      " 18  compliment_hot_2     550824 non-null  uint8\n",
      " 19  compliment_more_1    550824 non-null  uint8\n",
      " 20  compliment_note_1    550824 non-null  uint8\n",
      " 21  compliment_note_2    550824 non-null  uint8\n",
      " 22  compliment_note_3    550824 non-null  uint8\n",
      " 23  compliment_photos_1  550824 non-null  uint8\n",
      " 24  compliment_plain_1   550824 non-null  uint8\n",
      " 25  compliment_plain_2   550824 non-null  uint8\n",
      " 26  compliment_plain_3   550824 non-null  uint8\n",
      " 27  compliment_writer_1  550824 non-null  uint8\n",
      " 28  compliment_writer_2  550824 non-null  uint8\n",
      " 29  cool_user_1          550824 non-null  uint8\n",
      " 30  cool_user_2          550824 non-null  uint8\n",
      " 31  cool_user_3          550824 non-null  uint8\n",
      " 32  cool_user_4          550824 non-null  uint8\n",
      " 33  cool_user_5          550824 non-null  uint8\n",
      " 34  cool_user_6          550824 non-null  uint8\n",
      " 35  fans_1               550824 non-null  uint8\n",
      " 36  fans_2               550824 non-null  uint8\n",
      " 37  fans_3               550824 non-null  uint8\n",
      " 38  funny_user_1         550824 non-null  uint8\n",
      " 39  funny_user_2         550824 non-null  uint8\n",
      " 40  funny_user_3         550824 non-null  uint8\n",
      " 41  funny_user_4         550824 non-null  uint8\n",
      " 42  funny_user_5         550824 non-null  uint8\n",
      " 43  funny_user_6         550824 non-null  uint8\n",
      " 44  review_count_1       550824 non-null  uint8\n",
      " 45  review_count_2       550824 non-null  uint8\n",
      " 46  review_count_3       550824 non-null  uint8\n",
      " 47  review_count_4       550824 non-null  uint8\n",
      " 48  review_count_5       550824 non-null  uint8\n",
      " 49  review_count_6       550824 non-null  uint8\n",
      " 50  review_count_7       550824 non-null  uint8\n",
      " 51  review_count_8       550824 non-null  uint8\n",
      " 52  review_count_9       550824 non-null  uint8\n",
      " 53  useful_user_1        550824 non-null  uint8\n",
      " 54  useful_user_2        550824 non-null  uint8\n",
      " 55  useful_user_3        550824 non-null  uint8\n",
      " 56  useful_user_4        550824 non-null  uint8\n",
      " 57  useful_user_5        550824 non-null  uint8\n",
      " 58  useful_user_6        550824 non-null  uint8\n",
      " 59  useful_user_7        550824 non-null  uint8\n",
      " 60  useful_user_8        550824 non-null  uint8\n",
      " 61  year_2005            550824 non-null  uint8\n",
      " 62  year_2006            550824 non-null  uint8\n",
      " 63  year_2007            550824 non-null  uint8\n",
      " 64  year_2008            550824 non-null  uint8\n",
      " 65  year_2009            550824 non-null  uint8\n",
      " 66  year_2010            550824 non-null  uint8\n",
      " 67  year_2011            550824 non-null  uint8\n",
      " 68  year_2012            550824 non-null  uint8\n",
      " 69  year_2013            550824 non-null  uint8\n",
      " 70  year_2014            550824 non-null  uint8\n",
      " 71  year_2015            550824 non-null  uint8\n",
      " 72  year_2016            550824 non-null  uint8\n",
      " 73  year_2017            550824 non-null  uint8\n",
      " 74  year_2018            550824 non-null  uint8\n",
      " 75  month_2              550824 non-null  uint8\n",
      " 76  month_3              550824 non-null  uint8\n",
      " 77  month_4              550824 non-null  uint8\n",
      " 78  month_5              550824 non-null  uint8\n",
      " 79  month_6              550824 non-null  uint8\n",
      " 80  month_7              550824 non-null  uint8\n",
      " 81  month_8              550824 non-null  uint8\n",
      " 82  month_9              550824 non-null  uint8\n",
      " 83  month_10             550824 non-null  uint8\n",
      " 84  month_11             550824 non-null  uint8\n",
      " 85  month_12             550824 non-null  uint8\n",
      " 86  member_yrs_1         550824 non-null  uint8\n",
      " 87  member_yrs_2         550824 non-null  uint8\n",
      " 88  member_yrs_3         550824 non-null  uint8\n",
      " 89  member_yrs_4         550824 non-null  uint8\n",
      " 90  member_yrs_5         550824 non-null  uint8\n",
      " 91  member_yrs_6         550824 non-null  uint8\n",
      " 92  member_yrs_7         550824 non-null  uint8\n",
      " 93  member_yrs_8         550824 non-null  uint8\n",
      " 94  member_yrs_9         550824 non-null  uint8\n",
      " 95  member_yrs_10        550824 non-null  uint8\n",
      " 96  member_yrs_11        550824 non-null  uint8\n",
      " 97  member_yrs_12        550824 non-null  uint8\n",
      " 98  member_yrs_13        550824 non-null  uint8\n",
      " 99  member_yrs_14        550824 non-null  uint8\n",
      "dtypes: uint8(100)\n",
      "memory usage: 56.7 MB\n"
     ]
    }
   ],
   "source": [
    "train_dummies = dummies[dummies.source=='train'].drop('source', axis=1)\n",
    "train_dummies.info()"
   ]
  },
  {
   "cell_type": "markdown",
   "metadata": {},
   "source": [
    "### Train set"
   ]
  },
  {
   "cell_type": "code",
   "execution_count": 26,
   "metadata": {
    "ExecuteTime": {
     "end_time": "2018-11-22T21:06:24.503323Z",
     "start_time": "2018-11-22T21:06:20.675097Z"
    },
    "slideshow": {
     "slide_type": "slide"
    }
   },
   "outputs": [
    {
     "data": {
      "text/plain": [
       "(550824, 100)"
      ]
     },
     "execution_count": 26,
     "metadata": {},
     "output_type": "execute_result"
    }
   ],
   "source": [
    "# Cast other feature columns to float and convert to a sparse matrix.\n",
    "train_numeric = sparse.csr_matrix(train_dummies.astype(np.int8))\n",
    "train_numeric.shape"
   ]
  },
  {
   "cell_type": "code",
   "execution_count": 27,
   "metadata": {
    "ExecuteTime": {
     "end_time": "2018-11-22T21:06:43.353223Z",
     "start_time": "2018-11-22T21:06:37.697296Z"
    },
    "slideshow": {
     "slide_type": "slide"
    }
   },
   "outputs": [
    {
     "data": {
      "text/plain": [
       "(550824, 10100)"
      ]
     },
     "execution_count": 27,
     "metadata": {},
     "output_type": "execute_result"
    }
   ],
   "source": [
    "# Combine sparse matrices.\n",
    "train_dtm_numeric = sparse.hstack((train_dtm, train_numeric))\n",
    "train_dtm_numeric.shape"
   ]
  },
  {
   "cell_type": "code",
   "execution_count": 28,
   "metadata": {
    "ExecuteTime": {
     "end_time": "2018-11-22T21:08:24.531255Z",
     "start_time": "2018-11-22T21:06:43.354518Z"
    }
   },
   "outputs": [],
   "source": [
    "sparse.save_npz(text_features_dir / 'train_dtm_numeric', train_dtm_numeric)"
   ]
  },
  {
   "cell_type": "markdown",
   "metadata": {},
   "source": [
    "### Repeat for test set"
   ]
  },
  {
   "cell_type": "code",
   "execution_count": 29,
   "metadata": {
    "ExecuteTime": {
     "end_time": "2018-11-22T21:08:26.072988Z",
     "start_time": "2018-11-22T21:08:24.532631Z"
    },
    "slideshow": {
     "slide_type": "slide"
    }
   },
   "outputs": [
    {
     "data": {
      "text/plain": [
       "(1177662, 10100)"
      ]
     },
     "execution_count": 29,
     "metadata": {},
     "output_type": "execute_result"
    }
   ],
   "source": [
    "test_dummies = dummies[dummies.source=='test'].drop('source', axis=1)\n",
    "test_numeric = sparse.csr_matrix(test_dummies.astype(np.int8))\n",
    "test_dtm_numeric = sparse.hstack((test_dtm, test_numeric))\n",
    "test_dtm_numeric.shape"
   ]
  },
  {
   "cell_type": "code",
   "execution_count": 30,
   "metadata": {
    "ExecuteTime": {
     "end_time": "2018-11-22T21:08:35.882484Z",
     "start_time": "2018-11-22T21:08:26.074497Z"
    }
   },
   "outputs": [],
   "source": [
    "sparse.save_npz(text_features_dir / 'test_dtm_numeric', test_dtm_numeric)"
   ]
  },
  {
   "cell_type": "markdown",
   "metadata": {},
   "source": [
    "### Reload stored data"
   ]
  },
  {
   "cell_type": "code",
   "execution_count": 9,
   "metadata": {
    "ExecuteTime": {
     "end_time": "2018-11-23T18:12:06.454426Z",
     "start_time": "2018-11-23T18:11:55.682001Z"
    }
   },
   "outputs": [],
   "source": [
    "train_dtm_numeric = sparse.load_npz(text_features_dir / 'train_dtm_numeric.npz')\n",
    "test_dtm_numeric = sparse.load_npz(text_features_dir / 'test_dtm_numeric.npz')"
   ]
  },
  {
   "cell_type": "markdown",
   "metadata": {},
   "source": [
    "## Benchmark Accuracy"
   ]
  },
  {
   "cell_type": "code",
   "execution_count": 10,
   "metadata": {},
   "outputs": [],
   "source": [
    "accuracy, runtime = {}, {}\n",
    "predictions = test[['stars']].copy()"
   ]
  },
  {
   "cell_type": "markdown",
   "metadata": {},
   "source": [
    "Using the most frequent number of stars (=5) to predict the test set achieve an accuracy close to 51%:"
   ]
  },
  {
   "cell_type": "code",
   "execution_count": 11,
   "metadata": {
    "ExecuteTime": {
     "end_time": "2018-11-26T06:45:53.948801Z",
     "start_time": "2018-11-26T06:45:53.909151Z"
    }
   },
   "outputs": [],
   "source": [
    "predictions['benchmark'] = train.stars.mode().iloc[0]"
   ]
  },
  {
   "cell_type": "code",
   "execution_count": 12,
   "metadata": {
    "ExecuteTime": {
     "end_time": "2018-11-26T06:45:56.989648Z",
     "start_time": "2018-11-26T06:45:56.969783Z"
    }
   },
   "outputs": [],
   "source": [
    "accuracy['benchmark'] = accuracy_score(predictions.stars, predictions.benchmark)"
   ]
  },
  {
   "cell_type": "code",
   "execution_count": 13,
   "metadata": {},
   "outputs": [
    {
     "data": {
      "text/plain": [
       "0.5096963305260762"
      ]
     },
     "execution_count": 13,
     "metadata": {},
     "output_type": "execute_result"
    }
   ],
   "source": [
    "accuracy['benchmark']"
   ]
  },
  {
   "cell_type": "markdown",
   "metadata": {},
   "source": [
    "## Model Evaluation Helper"
   ]
  },
  {
   "cell_type": "code",
   "execution_count": 14,
   "metadata": {},
   "outputs": [],
   "source": [
    "def evaluate_model(model, X_train, X_test, name, store=False):\n",
    "    start = time()\n",
    "    model.fit(X_train, train.stars)\n",
    "    runtime[name] = time() - start\n",
    "    predictions[name] = model.predict(X_test)\n",
    "    accuracy[result] = accuracy_score(test.stars, predictions[result])\n",
    "    if store:\n",
    "        joblib.dump(model, f'results/{result}.joblib')"
   ]
  },
  {
   "cell_type": "markdown",
   "metadata": {},
   "source": [
    "## Multiclass Naive Bayes"
   ]
  },
  {
   "cell_type": "code",
   "execution_count": 15,
   "metadata": {
    "ExecuteTime": {
     "end_time": "2018-11-22T20:42:27.094801Z",
     "start_time": "2018-11-22T20:42:24.352441Z"
    }
   },
   "outputs": [],
   "source": [
    "nb = MultinomialNB()"
   ]
  },
  {
   "cell_type": "markdown",
   "metadata": {},
   "source": [
    "### Text Features"
   ]
  },
  {
   "cell_type": "markdown",
   "metadata": {},
   "source": [
    "Next, we train a Naive Bayes classifier using a document-term matrix produced by the CountVectorizer with default settings."
   ]
  },
  {
   "cell_type": "code",
   "execution_count": 16,
   "metadata": {},
   "outputs": [],
   "source": [
    "result = 'nb_text'"
   ]
  },
  {
   "cell_type": "code",
   "execution_count": 17,
   "metadata": {},
   "outputs": [],
   "source": [
    "evaluate_model(nb, train_dtm, test_dtm, result, store=False)"
   ]
  },
  {
   "cell_type": "markdown",
   "metadata": {},
   "source": [
    "#### Accuracy"
   ]
  },
  {
   "cell_type": "markdown",
   "metadata": {},
   "source": [
    "The prediction produces 64.4% accuracy on the test set, a 24.2% improvement over the benchmark:"
   ]
  },
  {
   "cell_type": "code",
   "execution_count": 18,
   "metadata": {},
   "outputs": [
    {
     "data": {
      "text/plain": [
       "0.6439971740618275"
      ]
     },
     "execution_count": 18,
     "metadata": {},
     "output_type": "execute_result"
    }
   ],
   "source": [
    "accuracy[result]"
   ]
  },
  {
   "cell_type": "markdown",
   "metadata": {},
   "source": [
    "#### Confusion Matrix"
   ]
  },
  {
   "cell_type": "code",
   "execution_count": 19,
   "metadata": {
    "ExecuteTime": {
     "end_time": "2018-11-22T20:43:39.611929Z",
     "start_time": "2018-11-22T20:43:39.309889Z"
    }
   },
   "outputs": [
    {
     "data": {
      "text/html": [
       "<div>\n",
       "<style scoped>\n",
       "    .dataframe tbody tr th:only-of-type {\n",
       "        vertical-align: middle;\n",
       "    }\n",
       "\n",
       "    .dataframe tbody tr th {\n",
       "        vertical-align: top;\n",
       "    }\n",
       "\n",
       "    .dataframe thead th {\n",
       "        text-align: right;\n",
       "    }\n",
       "</style>\n",
       "<table border=\"1\" class=\"dataframe\">\n",
       "  <thead>\n",
       "    <tr style=\"text-align: right;\">\n",
       "      <th></th>\n",
       "      <th>1</th>\n",
       "      <th>2</th>\n",
       "      <th>3</th>\n",
       "      <th>4</th>\n",
       "      <th>5</th>\n",
       "    </tr>\n",
       "  </thead>\n",
       "  <tbody>\n",
       "    <tr>\n",
       "      <th>1</th>\n",
       "      <td>153421</td>\n",
       "      <td>37074</td>\n",
       "      <td>7759</td>\n",
       "      <td>2960</td>\n",
       "      <td>3968</td>\n",
       "    </tr>\n",
       "    <tr>\n",
       "      <th>2</th>\n",
       "      <td>25089</td>\n",
       "      <td>29791</td>\n",
       "      <td>18833</td>\n",
       "      <td>4687</td>\n",
       "      <td>2935</td>\n",
       "    </tr>\n",
       "    <tr>\n",
       "      <th>3</th>\n",
       "      <td>11817</td>\n",
       "      <td>17527</td>\n",
       "      <td>39640</td>\n",
       "      <td>24187</td>\n",
       "      <td>6739</td>\n",
       "    </tr>\n",
       "    <tr>\n",
       "      <th>4</th>\n",
       "      <td>7827</td>\n",
       "      <td>5791</td>\n",
       "      <td>22653</td>\n",
       "      <td>110243</td>\n",
       "      <td>44471</td>\n",
       "    </tr>\n",
       "    <tr>\n",
       "      <th>5</th>\n",
       "      <td>29093</td>\n",
       "      <td>3561</td>\n",
       "      <td>6717</td>\n",
       "      <td>135563</td>\n",
       "      <td>425316</td>\n",
       "    </tr>\n",
       "  </tbody>\n",
       "</table>\n",
       "</div>"
      ],
      "text/plain": [
       "        1      2      3       4       5\n",
       "1  153421  37074   7759    2960    3968\n",
       "2   25089  29791  18833    4687    2935\n",
       "3   11817  17527  39640   24187    6739\n",
       "4    7827   5791  22653  110243   44471\n",
       "5   29093   3561   6717  135563  425316"
      ]
     },
     "execution_count": 19,
     "metadata": {},
     "output_type": "execute_result"
    }
   ],
   "source": [
    "stars = index=list(range(1,6))\n",
    "pd.DataFrame(confusion_matrix(test.stars, predictions[result]), \n",
    "             columns=stars,\n",
    "             index=stars)"
   ]
  },
  {
   "cell_type": "markdown",
   "metadata": {},
   "source": [
    "### Text & Numeric Features"
   ]
  },
  {
   "cell_type": "code",
   "execution_count": 20,
   "metadata": {},
   "outputs": [],
   "source": [
    "result = 'nb_combined'"
   ]
  },
  {
   "cell_type": "code",
   "execution_count": 21,
   "metadata": {},
   "outputs": [],
   "source": [
    "evaluate_model(nb, train_dtm_numeric, test_dtm_numeric, result, store=False)"
   ]
  },
  {
   "cell_type": "markdown",
   "metadata": {},
   "source": [
    "#### Accuracy"
   ]
  },
  {
   "cell_type": "code",
   "execution_count": 22,
   "metadata": {},
   "outputs": [
    {
     "data": {
      "text/plain": [
       "0.6705778058560096"
      ]
     },
     "execution_count": 22,
     "metadata": {},
     "output_type": "execute_result"
    }
   ],
   "source": [
    "accuracy[result]"
   ]
  },
  {
   "cell_type": "markdown",
   "metadata": {},
   "source": [
    "## Multinomial Logistic Regression"
   ]
  },
  {
   "cell_type": "markdown",
   "metadata": {},
   "source": [
    "Logistic regression also provides a multinomial training option that is faster and more accurate than the one-vs-all implementation. We use the lbfgs solver (see sklearn [documentation](http://scikit-learn.org/stable/modules/generated/sklearn.linear_model.LogisticRegression.html) for details)."
   ]
  },
  {
   "cell_type": "code",
   "execution_count": 34,
   "metadata": {},
   "outputs": [],
   "source": [
    "Cs = np.logspace(-5, 5, 11)"
   ]
  },
  {
   "cell_type": "markdown",
   "metadata": {},
   "source": [
    "### Text Features"
   ]
  },
  {
   "cell_type": "code",
   "execution_count": null,
   "metadata": {},
   "outputs": [],
   "source": [
    "accuracy = {}\n",
    "for C in Cs:\n",
    "    result=C\n",
    "    model = LogisticRegression(C=C, multi_class='multinomial', solver='lbfgs')\n",
    "    evaluate_model(model, train_dtm, test_dtm, result, store=True)\n",
    "    print(f'{C}: {runtime[C]:.2f}s | {accuracy[result]:.2%}', flush=True)"
   ]
  },
  {
   "cell_type": "code",
   "execution_count": null,
   "metadata": {},
   "outputs": [],
   "source": [
    "accuracy.to_csv('results/logreg_text.csv')"
   ]
  },
  {
   "cell_type": "markdown",
   "metadata": {},
   "source": [
    "### Combined Features"
   ]
  },
  {
   "cell_type": "code",
   "execution_count": null,
   "metadata": {
    "ExecuteTime": {
     "end_time": "2018-11-23T16:49:15.010878Z",
     "start_time": "2018-11-23T15:46:38.300352Z"
    }
   },
   "outputs": [],
   "source": [
    "accuracy = {}\n",
    "for C in Cs:\n",
    "    start = time()\n",
    "    result=str(C)\n",
    "    model = LogisticRegression(C=C, multi_class='multinomial', solver='lbfgs')\n",
    "    evaluate_model(model, train_dtm_numeric, test_dtm_numeric, result, store=True)\n",
    "    print(f'{C}: {time()-start:.2f}s | {accuracy[result]:.2%}', flush=True)"
   ]
  },
  {
   "cell_type": "code",
   "execution_count": null,
   "metadata": {},
   "outputs": [],
   "source": [
    "accuracy.to_csv('results/logreg_text.csv')"
   ]
  },
  {
   "cell_type": "code",
   "execution_count": 53,
   "metadata": {},
   "outputs": [],
   "source": [
    "accuracy = pd.Series({'Naive Bayes': 0.6705778058560096,\n",
    "           'Benchmark': 0.5096963305260762,\n",
    "           'Logistic Regression': 0.740659,\n",
    "           'Gradient Boosting': 0.7360524496842048})"
   ]
  },
  {
   "cell_type": "code",
   "execution_count": 58,
   "metadata": {},
   "outputs": [
    {
     "data": {
      "image/png": "[encoded data removed]",
      "text/plain": [
       "<Figure size 1008x288 with 2 Axes>"
      ]
     },
     "metadata": {},
     "output_type": "display_data"
    }
   ],
   "source": [
    "fig, axes = plt.subplots(ncols=2, figsize=(14,4))\n",
    "accuracy.sort_values().plot.barh(ax=axes[0], xlim=(.45, .75), title='Accuracy by Model')\n",
    "acc_text = pd.read_csv('results/logreg_text.csv', index_col=0, squeeze=True)\n",
    "acc_comb = pd.read_csv('results/logreg_combined.csv', index_col=0, squeeze=True)\n",
    "acc_text.to_frame('text').join(acc_comb.to_frame('combined')).plot(logx=True, ax=axes[1], title='Logistic Regression - Model Tuning')\n",
    "axes[1].set_xlabel('Regularization')\n",
    "axes[1].set_ylabel('Accuracy')\n",
    "axes[0].set_xlabel('Accuracy')\n",
    "fig.tight_layout()\n",
    "fig.savefig('figures/yelp_accuracy');"
   ]
  },
  {
   "cell_type": "markdown",
   "metadata": {},
   "source": [
    "## Gradient Boosting"
   ]
  },
  {
   "cell_type": "markdown",
   "metadata": {},
   "source": [
    "For illustration, we also train a lightgbm Gradient Boosting tree ensemble with default settings and multiclass objective."
   ]
  },
  {
   "cell_type": "code",
   "execution_count": 32,
   "metadata": {
    "ExecuteTime": {
     "end_time": "2018-11-23T18:29:09.279963Z",
     "start_time": "2018-11-23T18:29:01.645297Z"
    }
   },
   "outputs": [],
   "source": [
    "lgb_train = lgb.Dataset(data=train_dtm_numeric.tocsr().astype(np.float32), \n",
    "                        label=train.stars.sub(1), \n",
    "                        categorical_feature=list(range(train_dtm_numeric.shape[1])))"
   ]
  },
  {
   "cell_type": "code",
   "execution_count": 33,
   "metadata": {
    "ExecuteTime": {
     "end_time": "2018-11-23T18:29:09.578466Z",
     "start_time": "2018-11-23T18:29:09.281388Z"
    }
   },
   "outputs": [],
   "source": [
    "lgb_test = lgb.Dataset(data=test_dtm_numeric.tocsr().astype(np.float32), \n",
    "                       label=test.stars.sub(1), \n",
    "                       reference=lgb_train)"
   ]
  },
  {
   "cell_type": "code",
   "execution_count": 34,
   "metadata": {
    "ExecuteTime": {
     "end_time": "2018-11-23T18:29:09.582339Z",
     "start_time": "2018-11-23T18:29:09.580028Z"
    }
   },
   "outputs": [],
   "source": [
    "param = {'objective':'multiclass', 'num_class': 5}"
   ]
  },
  {
   "cell_type": "code",
   "execution_count": null,
   "metadata": {
    "ExecuteTime": {
     "end_time": "2018-11-23T21:52:17.824036Z",
     "start_time": "2018-11-23T18:29:09.583871Z"
    },
    "scrolled": false
   },
   "outputs": [],
   "source": [
    "booster = lgb.train(params=param,\n",
    "                    train_set=lgb_train,\n",
    "                    num_boost_round=500,\n",
    "                    early_stopping_rounds=20,\n",
    "                    valid_sets=[lgb_train, lgb_test],\n",
    "                    verbose=50)"
   ]
  },
  {
   "cell_type": "code",
   "execution_count": 39,
   "metadata": {
    "ExecuteTime": {
     "end_time": "2018-11-23T21:52:17.985172Z",
     "start_time": "2018-11-23T21:52:17.933310Z"
    }
   },
   "outputs": [],
   "source": [
    "booster.save_model('results/lgb_model.txt');"
   ]
  },
  {
   "cell_type": "code",
   "execution_count": 40,
   "metadata": {
    "ExecuteTime": {
     "end_time": "2018-11-23T22:00:54.906351Z",
     "start_time": "2018-11-23T21:59:21.482150Z"
    }
   },
   "outputs": [],
   "source": [
    "y_pred_class = booster.predict(test_dtm_numeric.astype(float))"
   ]
  },
  {
   "cell_type": "markdown",
   "metadata": {},
   "source": [
    "The basic settings did not improve over the multinomial logistic regression, but further parameter tuning remains an unused option."
   ]
  },
  {
   "cell_type": "code",
   "execution_count": 41,
   "metadata": {
    "ExecuteTime": {
     "end_time": "2018-11-23T22:03:09.846172Z",
     "start_time": "2018-11-23T22:03:09.816105Z"
    }
   },
   "outputs": [
    {
     "data": {
      "text/plain": [
       "0.7360524496842048"
      ]
     },
     "execution_count": 41,
     "metadata": {},
     "output_type": "execute_result"
    }
   ],
   "source": [
    "accuracy_score(test.stars, y_pred_class.argmax(1) + 1)"
   ]
  },
  {
   "cell_type": "code",
   "execution_count": 42,
   "metadata": {
    "ExecuteTime": {
     "end_time": "2018-11-23T22:18:00.865341Z",
     "start_time": "2018-11-23T22:18:00.857910Z"
    }
   },
   "outputs": [
    {
     "data": {
      "text/plain": [
       "10012    0.070587\n",
       "3838     0.036915\n",
       "10011    0.032073\n",
       "9885     0.028413\n",
       "3663     0.026046\n",
       "dtype: float64"
      ]
     },
     "execution_count": 42,
     "metadata": {},
     "output_type": "execute_result"
    }
   ],
   "source": [
    "fi = booster.feature_importance(importance_type='gain')\n",
    "pd.Series(fi).div(fi.sum()).sort_values(ascending=False).head()"
   ]
  },
  {
   "cell_type": "markdown",
   "metadata": {
    "slideshow": {
     "slide_type": "slide"
    }
   },
   "source": [
    "## Textblob for Sentiment Analysis"
   ]
  },
  {
   "cell_type": "code",
   "execution_count": 63,
   "metadata": {
    "ExecuteTime": {
     "end_time": "2018-11-21T17:32:40.765746Z",
     "start_time": "2018-11-21T17:32:40.571104Z"
    },
    "slideshow": {
     "slide_type": "slide"
    }
   },
   "outputs": [
    {
     "name": "stdout",
     "output_type": "stream",
     "text": [
      "Quite a bit for the meh food. I've never had egg flower soup that had a gel consistency. Some of the meal was really hot and some just warm. \n",
      " The service was not very good. She was friendly but it seemed like she was unsure of herself. I did tip but not the percentage I normally would. I left 10% and normally I would leave at least 20.\n",
      "Won't be back\n"
     ]
    }
   ],
   "source": [
    "sample_review = train.text.sample(1).iloc[0]\n",
    "print(sample_review)"
   ]
  },
  {
   "cell_type": "code",
   "execution_count": 60,
   "metadata": {
    "ExecuteTime": {
     "end_time": "2018-11-21T17:32:40.940304Z",
     "start_time": "2018-11-21T17:32:40.934791Z"
    },
    "slideshow": {
     "slide_type": "slide"
    }
   },
   "outputs": [
    {
     "data": {
      "text/plain": [
       "0.095"
      ]
     },
     "execution_count": 60,
     "metadata": {},
     "output_type": "execute_result"
    }
   ],
   "source": [
    "# Polarity ranges from -1 (most negative) to 1 (most positive).\n",
    "TextBlob(sample_review).sentiment.polarity"
   ]
  },
  {
   "cell_type": "code",
   "execution_count": 61,
   "metadata": {
    "ExecuteTime": {
     "end_time": "2018-11-23T23:55:42.292091Z",
     "start_time": "2018-11-23T23:55:42.290276Z"
    },
    "slideshow": {
     "slide_type": "slide"
    }
   },
   "outputs": [],
   "source": [
    "# Define a function that accepts text and returns the polarity.\n",
    "def detect_sentiment(text):\n",
    "    return TextBlob(text).sentiment.polarity"
   ]
  },
  {
   "cell_type": "code",
   "execution_count": 64,
   "metadata": {
    "ExecuteTime": {
     "end_time": "2018-11-24T01:05:21.178283Z",
     "start_time": "2018-11-23T23:56:01.144736Z"
    }
   },
   "outputs": [],
   "source": [
    "train['sentiment'] = train.text.apply(detect_sentiment)"
   ]
  },
  {
   "cell_type": "code",
   "execution_count": 65,
   "metadata": {
    "ExecuteTime": {
     "end_time": "2018-11-21T17:46:59.746135Z",
     "start_time": "2018-11-21T17:46:59.298644Z"
    }
   },
   "outputs": [],
   "source": [
    "sample_reviews = train[['stars', 'text']].sample(100000)"
   ]
  },
  {
   "cell_type": "code",
   "execution_count": 66,
   "metadata": {
    "ExecuteTime": {
     "end_time": "2018-11-21T17:48:10.849876Z",
     "start_time": "2018-11-21T17:47:01.859678Z"
    },
    "slideshow": {
     "slide_type": "slide"
    }
   },
   "outputs": [],
   "source": [
    "# Create a new DataFrame column for sentiment (Warning: SLOW!).\n",
    "sample_reviews['sentiment'] = sample_reviews.text.apply(detect_sentiment)"
   ]
  },
  {
   "cell_type": "code",
   "execution_count": 68,
   "metadata": {
    "ExecuteTime": {
     "end_time": "2018-11-24T05:03:22.544002Z",
     "start_time": "2018-11-24T05:03:21.568279Z"
    },
    "slideshow": {
     "slide_type": "slide"
    }
   },
   "outputs": [
    {
     "data": {
      "image/png": "[encoded data removed]",
      "text/plain": [
       "<Figure size 432x288 with 1 Axes>"
      ]
     },
     "metadata": {},
     "output_type": "display_data"
    }
   ],
   "source": [
    "# Box plot of sentiment grouped by stars\n",
    "sns.boxenplot(x='stars', y='sentiment', data=train);"
   ]
  },
  {
   "cell_type": "code",
   "execution_count": 69,
   "metadata": {
    "ExecuteTime": {
     "end_time": "2018-11-24T05:04:13.803888Z",
     "start_time": "2018-11-24T05:04:13.796660Z"
    },
    "slideshow": {
     "slide_type": "slide"
    }
   },
   "outputs": [],
   "source": [
    "# Widen the column display.\n",
    "pd.set_option('max_colwidth', 500)"
   ]
  },
  {
   "cell_type": "code",
   "execution_count": 70,
   "metadata": {
    "ExecuteTime": {
     "end_time": "2018-11-24T05:04:14.717109Z",
     "start_time": "2018-11-24T05:04:14.705564Z"
    },
    "slideshow": {
     "slide_type": "slide"
    }
   },
   "outputs": [
    {
     "data": {
      "text/plain": [
       "6110660                                                                                                   Horrible company. Don't support stores looking to trap you into a contract. Go anywhere else.\n",
       "4139184                      This location is the worst. The employees never quite seem to know what they're doing and it always smells like sewer inside. I recommend finding another location nearby.\n",
       "2702386                                                                                                      I've died and gone to HELL! This store is wrong...SO wrong!!! Tack-O-Rama at its finest!!!\n",
       "241851     if aaa calls this tow truck to help u , run cancel if u do use there services it will be your worst nightmare!!!the worst experience ever , do not trust them with your car nor your life!!!\n",
       "5237493                                         This place is horrible. The manager, \"Emily\", is one of the rudest people I have ever come across. I specifically will not be returning because of her.\n",
       "Name: text, dtype: object"
      ]
     },
     "execution_count": 70,
     "metadata": {},
     "output_type": "execute_result"
    }
   ],
   "source": [
    "# Reviews with most negative sentiment\n",
    "train[train.sentiment == -1].text.head()"
   ]
  },
  {
   "cell_type": "code",
   "execution_count": null,
   "metadata": {
    "ExecuteTime": {
     "end_time": "2018-11-24T05:04:31.689717Z",
     "start_time": "2018-11-24T05:04:31.663071Z"
    },
    "slideshow": {
     "slide_type": "slide"
    }
   },
   "outputs": [],
   "source": [
    "# Negative sentiment in a 5-star review\n",
    "train[(train.stars == 5) & (combined.sentiment < -0.3)].head(1)"
   ]
  },
  {
   "cell_type": "code",
   "execution_count": 71,
   "metadata": {
    "ExecuteTime": {
     "end_time": "2018-11-24T05:05:10.547475Z",
     "start_time": "2018-11-24T05:05:10.532685Z"
    },
    "slideshow": {
     "slide_type": "slide"
    }
   },
   "outputs": [
    {
     "data": {
      "text/plain": [
       "3047423    Never has any deals goong on and the bud is not even that great they never have anything cheaper than 50 an eighth like come on not everyone can play 50 an eighth\n",
       "Name: text, dtype: object"
      ]
     },
     "execution_count": 71,
     "metadata": {},
     "output_type": "execute_result"
    }
   ],
   "source": [
    "# Positive sentiment in a 1-star review\n",
    "train.loc[(train.stars == 1) & (train.sentiment > 0.5), 'text'].head(1)"
   ]
  },
  {
   "cell_type": "code",
   "execution_count": 72,
   "metadata": {
    "slideshow": {
     "slide_type": "slide"
    }
   },
   "outputs": [],
   "source": [
    "# Reset the column display width.\n",
    "pd.reset_option('max_colwidth')"
   ]
  },
  {
   "cell_type": "code",
   "execution_count": null,
   "metadata": {},
   "outputs": [],
   "source": []
  }
 ],
 "metadata": {
  "celltoolbar": "Slideshow",
  "kernelspec": {
   "display_name": "Python 3",
   "language": "python",
   "name": "python3"
  },
  "language_info": {
   "codemirror_mode": {
    "name": "ipython",
    "version": 3
   },
   "file_extension": ".py",
   "mimetype": "text/x-python",
   "name": "python",
   "nbconvert_exporter": "python",
   "pygments_lexer": "ipython3",
   "version": "3.7.7"
  },
  "toc": {
   "base_numbering": 1,
   "nav_menu": {},
   "number_sections": true,
   "sideBar": true,
   "skip_h1_title": true,
   "title_cell": "Table of Contents",
   "title_sidebar": "Contents",
   "toc_cell": false,
   "toc_position": {
    "height": "calc(100% - 180px)",
    "left": "10px",
    "top": "150px",
    "width": "316px"
   },
   "toc_section_display": true,
   "toc_window_display": true
  }
 },
 "nbformat": 4,
 "nbformat_minor": 2
}
