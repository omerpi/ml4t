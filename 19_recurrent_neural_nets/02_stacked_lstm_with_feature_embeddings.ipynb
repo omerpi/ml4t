{
 "cells": [
  {
   "cell_type": "markdown",
   "metadata": {},
   "source": [
    "# Stacked LSTMs for Time Series Classification"
   ]
  },
  {
   "cell_type": "markdown",
   "metadata": {},
   "source": [
    "We'll now build a slightly deeper model by stacking two LSTM layers using the Quandl stock price data (see the stacked_lstm_with_feature_embeddings notebook for implementation details). Furthermore, we will include features that are not sequential in nature, namely indicator variables for identifying the equity and the month."
   ]
  },
  {
   "cell_type": "markdown",
   "metadata": {},
   "source": [
    "## Run inside docker container for GPU acceleration"
   ]
  },
  {
   "cell_type": "markdown",
   "metadata": {},
   "source": [
    "See [tensorflow guide](https://www.tensorflow.org/install/docker) and more detailed [instructions](https://blog.sicara.com/tensorflow-gpu-opencv-jupyter-docker-10705b6cd1d)"
   ]
  },
  {
   "cell_type": "markdown",
   "metadata": {},
   "source": [
    "`docker run -it -p 8889:8888 -v /path/to/machine-learning-for-trading/19_recurrent_neural_nets:/rnn --name tensorflow tensorflow/tensorflow:latest-gpu-py3 bash`"
   ]
  },
  {
   "cell_type": "markdown",
   "metadata": {},
   "source": [
    "Inside docker container: \n",
    "`jupyter notebook --ip 0.0.0.0 --no-browser --allow-root`"
   ]
  },
  {
   "cell_type": "markdown",
   "metadata": {},
   "source": [
    "## Imports"
   ]
  },
  {
   "cell_type": "code",
   "execution_count": 1,
   "metadata": {
    "ExecuteTime": {
     "end_time": "2020-03-25T11:21:00.914703Z",
     "start_time": "2020-03-25T11:21:00.907601Z"
    }
   },
   "outputs": [],
   "source": [
    "import warnings\n",
    "warnings.filterwarnings('ignore')"
   ]
  },
  {
   "cell_type": "code",
   "execution_count": 2,
   "metadata": {
    "ExecuteTime": {
     "end_time": "2020-03-25T11:21:02.392960Z",
     "start_time": "2020-03-25T11:21:01.062671Z"
    }
   },
   "outputs": [],
   "source": [
    "%matplotlib inline\n",
    "import numpy as np\n",
    "import pandas as pd\n",
    "import matplotlib.pyplot as plt\n",
    "import seaborn as sns\n",
    "from datetime import datetime, date\n",
    "from scipy.stats import spearmanr\n",
    "from sklearn.metrics import mean_squared_error, roc_auc_score\n",
    "from sklearn.preprocessing import minmax_scale\n",
    "\n",
    "import tensorflow as tf\n",
    "from tensorflow.keras.callbacks import ModelCheckpoint, EarlyStopping\n",
    "from tensorflow.keras.models import Sequential, Model\n",
    "from tensorflow.keras.layers import Dense, LSTM, Input, concatenate, Embedding, Reshape, BatchNormalization\n",
    "import tensorflow.keras.backend as K"
   ]
  },
  {
   "cell_type": "code",
   "execution_count": 3,
   "metadata": {
    "ExecuteTime": {
     "end_time": "2020-03-25T11:21:02.398352Z",
     "start_time": "2020-03-25T11:21:02.393970Z"
    }
   },
   "outputs": [],
   "source": [
    "idx = pd.IndexSlice\n",
    "sns.set_style('whitegrid')\n",
    "np.random.seed(42)\n",
    "K.clear_session()"
   ]
  },
  {
   "cell_type": "markdown",
   "metadata": {},
   "source": [
    "## Data"
   ]
  },
  {
   "cell_type": "markdown",
   "metadata": {},
   "source": [
    "Data produced by the notebook [build_dataset](00_build_dataset.ipynb)."
   ]
  },
  {
   "cell_type": "code",
   "execution_count": 9,
   "metadata": {
    "ExecuteTime": {
     "end_time": "2020-03-25T11:22:20.995010Z",
     "start_time": "2020-03-25T11:22:20.502727Z"
    }
   },
   "outputs": [],
   "source": [
    "data = pd.read_hdf('data.h5', 'returns_weekly')"
   ]
  },
  {
   "cell_type": "code",
   "execution_count": 10,
   "metadata": {
    "ExecuteTime": {
     "end_time": "2020-03-25T11:22:21.034286Z",
     "start_time": "2020-03-25T11:22:20.995962Z"
    }
   },
   "outputs": [],
   "source": [
    "data['ticker'] = pd.factorize(data.index.get_level_values('ticker'))[0]"
   ]
  },
  {
   "cell_type": "code",
   "execution_count": 11,
   "metadata": {
    "ExecuteTime": {
     "end_time": "2020-03-25T11:22:21.288003Z",
     "start_time": "2020-03-25T11:22:21.035291Z"
    }
   },
   "outputs": [],
   "source": [
    "data['month'] = data.index.get_level_values('date').month\n",
    "data = pd.get_dummies(data, columns=['month'], prefix='month')"
   ]
  },
  {
   "cell_type": "code",
   "execution_count": 12,
   "metadata": {
    "ExecuteTime": {
     "end_time": "2020-03-25T11:22:21.427758Z",
     "start_time": "2020-03-25T11:22:21.288954Z"
    }
   },
   "outputs": [
    {
     "name": "stdout",
     "output_type": "stream",
     "text": [
      "<class 'pandas.core.frame.DataFrame'>\n",
      "MultiIndex: 1167341 entries, ('A', Timestamp('2009-01-11 00:00:00')) to ('ZUMZ', Timestamp('2017-12-31 00:00:00'))\n",
      "Data columns (total 67 columns):\n",
      " #   Column       Non-Null Count    Dtype  \n",
      "---  ------       --------------    -----  \n",
      " 0   fwd_returns  1167341 non-null  float64\n",
      " 1   1            1167341 non-null  float64\n",
      " 2   2            1167341 non-null  float64\n",
      " 3   3            1167341 non-null  float64\n",
      " 4   4            1167341 non-null  float64\n",
      " 5   5            1167341 non-null  float64\n",
      " 6   6            1167341 non-null  float64\n",
      " 7   7            1167341 non-null  float64\n",
      " 8   8            1167341 non-null  float64\n",
      " 9   9            1167341 non-null  float64\n",
      " 10  10           1167341 non-null  float64\n",
      " 11  11           1167341 non-null  float64\n",
      " 12  12           1167341 non-null  float64\n",
      " 13  13           1167341 non-null  float64\n",
      " 14  14           1167341 non-null  float64\n",
      " 15  15           1167341 non-null  float64\n",
      " 16  16           1167341 non-null  float64\n",
      " 17  17           1167341 non-null  float64\n",
      " 18  18           1167341 non-null  float64\n",
      " 19  19           1167341 non-null  float64\n",
      " 20  20           1167341 non-null  float64\n",
      " 21  21           1167341 non-null  float64\n",
      " 22  22           1167341 non-null  float64\n",
      " 23  23           1167341 non-null  float64\n",
      " 24  24           1167341 non-null  float64\n",
      " 25  25           1167341 non-null  float64\n",
      " 26  26           1167341 non-null  float64\n",
      " 27  27           1167341 non-null  float64\n",
      " 28  28           1167341 non-null  float64\n",
      " 29  29           1167341 non-null  float64\n",
      " 30  30           1167341 non-null  float64\n",
      " 31  31           1167341 non-null  float64\n",
      " 32  32           1167341 non-null  float64\n",
      " 33  33           1167341 non-null  float64\n",
      " 34  34           1167341 non-null  float64\n",
      " 35  35           1167341 non-null  float64\n",
      " 36  36           1167341 non-null  float64\n",
      " 37  37           1167341 non-null  float64\n",
      " 38  38           1167341 non-null  float64\n",
      " 39  39           1167341 non-null  float64\n",
      " 40  40           1167341 non-null  float64\n",
      " 41  41           1167341 non-null  float64\n",
      " 42  42           1167341 non-null  float64\n",
      " 43  43           1167341 non-null  float64\n",
      " 44  44           1167341 non-null  float64\n",
      " 45  45           1167341 non-null  float64\n",
      " 46  46           1167341 non-null  float64\n",
      " 47  47           1167341 non-null  float64\n",
      " 48  48           1167341 non-null  float64\n",
      " 49  49           1167341 non-null  float64\n",
      " 50  50           1167341 non-null  float64\n",
      " 51  51           1167341 non-null  float64\n",
      " 52  52           1167341 non-null  float64\n",
      " 53  label        1167341 non-null  int64  \n",
      " 54  ticker       1167341 non-null  int64  \n",
      " 55  month_1      1167341 non-null  uint8  \n",
      " 56  month_2      1167341 non-null  uint8  \n",
      " 57  month_3      1167341 non-null  uint8  \n",
      " 58  month_4      1167341 non-null  uint8  \n",
      " 59  month_5      1167341 non-null  uint8  \n",
      " 60  month_6      1167341 non-null  uint8  \n",
      " 61  month_7      1167341 non-null  uint8  \n",
      " 62  month_8      1167341 non-null  uint8  \n",
      " 63  month_9      1167341 non-null  uint8  \n",
      " 64  month_10     1167341 non-null  uint8  \n",
      " 65  month_11     1167341 non-null  uint8  \n",
      " 66  month_12     1167341 non-null  uint8  \n",
      "dtypes: float64(53), int64(2), uint8(12)\n",
      "memory usage: 507.8+ MB\n"
     ]
    }
   ],
   "source": [
    "data.info()"
   ]
  },
  {
   "cell_type": "markdown",
   "metadata": {},
   "source": [
    "## Train-test split\n",
    "\n",
    "To respect the time series nature of the data, we set aside the data at the end of the sample as hold-out or test set. More specifically, we'll use the data for 2017."
   ]
  },
  {
   "cell_type": "code",
   "execution_count": 13,
   "metadata": {
    "ExecuteTime": {
     "end_time": "2020-03-25T11:22:21.860675Z",
     "start_time": "2020-03-25T11:22:21.838917Z"
    }
   },
   "outputs": [],
   "source": [
    "window_size=52\n",
    "sequence = list(range(1, window_size+1))\n",
    "ticker = 1\n",
    "months = 12\n",
    "n_tickers = data.ticker.nunique()"
   ]
  },
  {
   "cell_type": "code",
   "execution_count": 14,
   "metadata": {
    "ExecuteTime": {
     "end_time": "2020-03-25T11:22:22.961374Z",
     "start_time": "2020-03-25T11:22:22.558169Z"
    },
    "scrolled": false
   },
   "outputs": [],
   "source": [
    "train_data = data.drop('fwd_returns', axis=1).loc[idx[:, :'2016'], :]\n",
    "test_data = data.drop('fwd_returns', axis=1).loc[idx[:, '2017'],:]"
   ]
  },
  {
   "cell_type": "markdown",
   "metadata": {},
   "source": [
    "For each train and test dataset, we generate a list with three input arrays containing the return series, the stock ticker (converted to integer values), and the month (as an integer), as shown here:"
   ]
  },
  {
   "cell_type": "code",
   "execution_count": 15,
   "metadata": {
    "ExecuteTime": {
     "end_time": "2020-03-25T11:22:23.656710Z",
     "start_time": "2020-03-25T11:22:23.557333Z"
    }
   },
   "outputs": [
    {
     "data": {
      "text/plain": [
       "([(1035424, 52, 1), (1035424,), (1035424, 12)], (1035424,))"
      ]
     },
     "execution_count": 15,
     "metadata": {},
     "output_type": "execute_result"
    }
   ],
   "source": [
    "X_train = [\n",
    "    train_data.loc[:, sequence].values.reshape(-1, window_size , 1),\n",
    "    train_data.ticker,\n",
    "    train_data.filter(like='month')\n",
    "]\n",
    "y_train = train_data.label\n",
    "[x.shape for x in X_train], y_train.shape"
   ]
  },
  {
   "cell_type": "code",
   "execution_count": 11,
   "metadata": {
    "ExecuteTime": {
     "end_time": "2020-03-25T03:06:24.761373Z",
     "start_time": "2020-03-25T03:06:24.748078Z"
    }
   },
   "outputs": [
    {
     "data": {
      "text/plain": [
       "([(131917, 52, 1), (131917,), (131917, 12)], (131917,))"
      ]
     },
     "execution_count": 11,
     "metadata": {},
     "output_type": "execute_result"
    }
   ],
   "source": [
    "# keep the last year for testing\n",
    "X_test = [\n",
    "    test_data.loc[:, list(range(1, window_size+1))].values.reshape(-1, window_size , 1),\n",
    "    test_data.ticker,\n",
    "    test_data.filter(like='month')\n",
    "]\n",
    "y_test = test_data.label\n",
    "[x.shape for x in X_test], y_test.shape"
   ]
  },
  {
   "cell_type": "markdown",
   "metadata": {},
   "source": [
    "##  Define the Model Architecture"
   ]
  },
  {
   "cell_type": "markdown",
   "metadata": {},
   "source": [
    "The functional API of Keras makes it easy to design architectures with multiple inputs and outputs. This example illustrates a network with three inputs, as follows:\n",
    "\n",
    "- A two stacked LSTM layers with 25 and 10 units respectively\n",
    "- An embedding layer that learns a 10-dimensional real-valued representation of the equities\n",
    "- A one-hot encoded representation of the month\n",
    "\n",
    "This can be constructed using just a few lines - see e.g., \n",
    "- the [general Keras documentation](https://keras.io/getting-started/sequential-model-guide/), \n",
    "- the [LTSM documentation](https://keras.io/layers/recurrent/).\n",
    "\n",
    "Make sure you are initializing your optimizer given the [keras-recommended approach for RNNs](https://keras.io/optimizers/) \n",
    "\n",
    "We begin by defining the three inputs with their respective shapes, as described here:"
   ]
  },
  {
   "cell_type": "code",
   "execution_count": 12,
   "metadata": {
    "ExecuteTime": {
     "end_time": "2020-03-25T03:06:24.770833Z",
     "start_time": "2020-03-25T03:06:24.762291Z"
    }
   },
   "outputs": [],
   "source": [
    "n_features = 1"
   ]
  },
  {
   "cell_type": "code",
   "execution_count": 13,
   "metadata": {
    "ExecuteTime": {
     "end_time": "2020-03-25T03:06:24.781480Z",
     "start_time": "2020-03-25T03:06:24.772032Z"
    }
   },
   "outputs": [],
   "source": [
    "returns = Input(shape=(window_size, n_features), name='Returns')\n",
    "tickers = Input(shape=(1,), name='Tickers')\n",
    "months = Input(shape=(12,), name='Months')"
   ]
  },
  {
   "cell_type": "markdown",
   "metadata": {},
   "source": [
    "### LSTM Layers"
   ]
  },
  {
   "cell_type": "markdown",
   "metadata": {},
   "source": [
    "To define stacked LSTM layers, we set the `return_sequences` keyword to `True`. This ensures that the first layer produces an output that conforms to the expected three-dimensional input format. Note that we also use dropout regularization and how the functional API passes the tensor outputs from one layer to the subsequent layer:"
   ]
  },
  {
   "cell_type": "code",
   "execution_count": 14,
   "metadata": {
    "ExecuteTime": {
     "end_time": "2020-03-25T03:06:24.793218Z",
     "start_time": "2020-03-25T03:06:24.782424Z"
    }
   },
   "outputs": [],
   "source": [
    "lstm1_units = 25\n",
    "lstm2_units = 10"
   ]
  },
  {
   "cell_type": "code",
   "execution_count": 15,
   "metadata": {
    "ExecuteTime": {
     "end_time": "2020-03-25T03:06:25.587805Z",
     "start_time": "2020-03-25T03:06:24.794197Z"
    }
   },
   "outputs": [],
   "source": [
    "lstm1 = LSTM(units=lstm1_units, \n",
    "             input_shape=(window_size, \n",
    "                          n_features), \n",
    "             name='LSTM1', \n",
    "             dropout=.2,\n",
    "             return_sequences=True)(returns)\n",
    "\n",
    "lstm_model = LSTM(units=lstm2_units, \n",
    "             dropout=.2,\n",
    "             name='LSTM2')(lstm1)"
   ]
  },
  {
   "cell_type": "markdown",
   "metadata": {},
   "source": [
    "### Embedding Layer"
   ]
  },
  {
   "cell_type": "markdown",
   "metadata": {},
   "source": [
    "The embedding layer requires the `input_dim` keyword, which defines how many embeddings the layer will learn, the `output_dim` keyword, which defines the size of the embedding, and the `input_length` keyword to set the number of elements passed to the layer (here only one ticker per sample). \n",
    "\n",
    "To combine the embedding layer with the LSTM layer and the months input, we need to reshape (or flatten) it, as follows:"
   ]
  },
  {
   "cell_type": "code",
   "execution_count": 16,
   "metadata": {
    "ExecuteTime": {
     "end_time": "2020-03-25T03:06:25.598019Z",
     "start_time": "2020-03-25T03:06:25.588724Z"
    }
   },
   "outputs": [],
   "source": [
    "ticker_embedding = Embedding(input_dim=n_tickers, \n",
    "                             output_dim=5, \n",
    "                             input_length=1)(tickers)\n",
    "ticker_embedding = Reshape(target_shape=(5,))(ticker_embedding)"
   ]
  },
  {
   "cell_type": "markdown",
   "metadata": {},
   "source": [
    "### Concatenate Model components"
   ]
  },
  {
   "cell_type": "markdown",
   "metadata": {},
   "source": [
    "Now we can concatenate the three tensors and add fully-connected layers to learn a mapping from these learned time series, ticker, and month indicators to the outcome, a positive or negative return in the following week, as shown here:"
   ]
  },
  {
   "cell_type": "code",
   "execution_count": 17,
   "metadata": {
    "ExecuteTime": {
     "end_time": "2020-03-25T03:06:25.633356Z",
     "start_time": "2020-03-25T03:06:25.598903Z"
    }
   },
   "outputs": [],
   "source": [
    "merged = concatenate([lstm_model, \n",
    "                      ticker_embedding, \n",
    "                      months], name='Merged')\n",
    "\n",
    "bn = BatchNormalization()(merged)\n",
    "hidden_dense = Dense(10, name='FC1')(bn)\n",
    "\n",
    "output = Dense(1, name='Output', activation='sigmoid')(hidden_dense)\n",
    "\n",
    "rnn = Model(inputs=[returns, tickers, months], outputs=output)"
   ]
  },
  {
   "cell_type": "markdown",
   "metadata": {},
   "source": [
    "The summary lays out this slightly more sophisticated architecture with 29,371 parameters, as follows:"
   ]
  },
  {
   "cell_type": "code",
   "execution_count": 18,
   "metadata": {
    "ExecuteTime": {
     "end_time": "2020-03-25T03:06:25.639011Z",
     "start_time": "2020-03-25T03:06:25.634239Z"
    },
    "scrolled": false
   },
   "outputs": [
    {
     "name": "stdout",
     "output_type": "stream",
     "text": [
      "Model: \"model\"\n",
      "__________________________________________________________________________________________________\n",
      "Layer (type)                    Output Shape         Param #     Connected to                     \n",
      "==================================================================================================\n",
      "Returns (InputLayer)            [(None, 52, 1)]      0                                            \n",
      "__________________________________________________________________________________________________\n",
      "Tickers (InputLayer)            [(None, 1)]          0                                            \n",
      "__________________________________________________________________________________________________\n",
      "LSTM1 (LSTM)                    (None, 52, 25)       2700        Returns[0][0]                    \n",
      "__________________________________________________________________________________________________\n",
      "embedding (Embedding)           (None, 1, 5)         12445       Tickers[0][0]                    \n",
      "__________________________________________________________________________________________________\n",
      "LSTM2 (LSTM)                    (None, 10)           1440        LSTM1[0][0]                      \n",
      "__________________________________________________________________________________________________\n",
      "reshape (Reshape)               (None, 5)            0           embedding[0][0]                  \n",
      "__________________________________________________________________________________________________\n",
      "Months (InputLayer)             [(None, 12)]         0                                            \n",
      "__________________________________________________________________________________________________\n",
      "Merged (Concatenate)            (None, 27)           0           LSTM2[0][0]                      \n",
      "                                                                 reshape[0][0]                    \n",
      "                                                                 Months[0][0]                     \n",
      "__________________________________________________________________________________________________\n",
      "batch_normalization (BatchNorma (None, 27)           108         Merged[0][0]                     \n",
      "__________________________________________________________________________________________________\n",
      "FC1 (Dense)                     (None, 10)           280         batch_normalization[0][0]        \n",
      "__________________________________________________________________________________________________\n",
      "Output (Dense)                  (None, 1)            11          FC1[0][0]                        \n",
      "==================================================================================================\n",
      "Total params: 16,984\n",
      "Trainable params: 16,930\n",
      "Non-trainable params: 54\n",
      "__________________________________________________________________________________________________\n"
     ]
    }
   ],
   "source": [
    "rnn.summary()"
   ]
  },
  {
   "cell_type": "markdown",
   "metadata": {},
   "source": [
    "## Train the Model"
   ]
  },
  {
   "cell_type": "markdown",
   "metadata": {},
   "source": [
    "We compile the model to compute a custom auc metric as follows:"
   ]
  },
  {
   "cell_type": "code",
   "execution_count": 19,
   "metadata": {
    "ExecuteTime": {
     "end_time": "2020-03-25T03:06:25.707694Z",
     "start_time": "2020-03-25T03:06:25.640388Z"
    }
   },
   "outputs": [],
   "source": [
    "optimizer = tf.keras.optimizers.RMSprop(lr=0.001,\n",
    "                                        rho=0.9,\n",
    "                                        epsilon=1e-08,\n",
    "                                        decay=0.0)\n",
    "\n",
    "rnn.compile(loss='binary_crossentropy',\n",
    "            optimizer=optimizer,\n",
    "            metrics=['accuracy', \n",
    "                     tf.keras.metrics.AUC(name='AUC')])"
   ]
  },
  {
   "cell_type": "code",
   "execution_count": 20,
   "metadata": {
    "ExecuteTime": {
     "end_time": "2020-03-25T03:06:25.711964Z",
     "start_time": "2020-03-25T03:06:25.709292Z"
    }
   },
   "outputs": [],
   "source": [
    "early_stopping = EarlyStopping(monitor='val_AUC', \n",
    "                              patience=10,\n",
    "                              restore_best_weights=True,\n",
    "                              mode='max')"
   ]
  },
  {
   "cell_type": "code",
   "execution_count": 21,
   "metadata": {
    "ExecuteTime": {
     "end_time": "2020-03-25T04:16:04.506350Z",
     "start_time": "2020-03-25T03:06:25.713260Z"
    },
    "scrolled": false
   },
   "outputs": [
    {
     "name": "stdout",
     "output_type": "stream",
     "text": [
      "Train on 1035424 samples, validate on 131917 samples\n",
      "Epoch 1/50\n",
      "1035424/1035424 [==============================] - 167s 161us/sample - loss: 0.6895 - accuracy: 0.5364 - AUC: 0.5490 - val_loss: 0.6879 - val_accuracy: 0.5443 - val_AUC: 0.6066\n",
      "Epoch 2/50\n",
      "1035424/1035424 [==============================] - 164s 159us/sample - loss: 0.6871 - accuracy: 0.5452 - AUC: 0.5610 - val_loss: 0.6764 - val_accuracy: 0.5765 - val_AUC: 0.6326\n",
      "Epoch 3/50\n",
      "1035424/1035424 [==============================] - 164s 159us/sample - loss: 0.6865 - accuracy: 0.5476 - AUC: 0.5641 - val_loss: 0.6729 - val_accuracy: 0.5788 - val_AUC: 0.6272\n",
      "Epoch 4/50\n",
      "1035424/1035424 [==============================] - 165s 159us/sample - loss: 0.6861 - accuracy: 0.5484 - AUC: 0.5658 - val_loss: 0.6703 - val_accuracy: 0.5798 - val_AUC: 0.6244\n",
      "Epoch 5/50\n",
      "1035424/1035424 [==============================] - 164s 158us/sample - loss: 0.6799 - accuracy: 0.5481 - AUC: 0.5675 - val_loss: 0.5701 - val_accuracy: 0.6184 - val_AUC: 0.6841\n",
      "Epoch 6/50\n",
      "1035424/1035424 [==============================] - 164s 158us/sample - loss: 0.6772 - accuracy: 0.5496 - AUC: 0.5693 - val_loss: 0.5702 - val_accuracy: 0.6144 - val_AUC: 0.6820\n",
      "Epoch 7/50\n",
      "1035424/1035424 [==============================] - 167s 161us/sample - loss: 0.6746 - accuracy: 0.5516 - AUC: 0.5732 - val_loss: 0.5702 - val_accuracy: 0.6189 - val_AUC: 0.6817\n",
      "Epoch 8/50\n",
      "1035424/1035424 [==============================] - 167s 161us/sample - loss: 0.6738 - accuracy: 0.5531 - AUC: 0.5753 - val_loss: 0.5691 - val_accuracy: 0.6175 - val_AUC: 0.6855\n",
      "Epoch 9/50\n",
      "1035424/1035424 [==============================] - 167s 161us/sample - loss: 0.6729 - accuracy: 0.5548 - AUC: 0.5786 - val_loss: 0.5703 - val_accuracy: 0.6154 - val_AUC: 0.6807\n",
      "Epoch 10/50\n",
      "1035424/1035424 [==============================] - 166s 160us/sample - loss: 0.6725 - accuracy: 0.5557 - AUC: 0.5809 - val_loss: 0.5700 - val_accuracy: 0.6159 - val_AUC: 0.6828\n",
      "Epoch 11/50\n",
      "1035424/1035424 [==============================] - 167s 161us/sample - loss: 0.6717 - accuracy: 0.5578 - AUC: 0.5842 - val_loss: 0.5710 - val_accuracy: 0.6140 - val_AUC: 0.6756\n",
      "Epoch 12/50\n",
      "1035424/1035424 [==============================] - 166s 160us/sample - loss: 0.6711 - accuracy: 0.5587 - AUC: 0.5860 - val_loss: 0.5740 - val_accuracy: 0.6150 - val_AUC: 0.6755\n",
      "Epoch 13/50\n",
      "1035424/1035424 [==============================] - 166s 161us/sample - loss: 0.6708 - accuracy: 0.5610 - AUC: 0.5886 - val_loss: 0.5711 - val_accuracy: 0.6155 - val_AUC: 0.6815\n",
      "Epoch 14/50\n",
      "1035424/1035424 [==============================] - 166s 160us/sample - loss: 0.6705 - accuracy: 0.5617 - AUC: 0.5902 - val_loss: 0.5958 - val_accuracy: 0.6186 - val_AUC: 0.6818\n",
      "Epoch 15/50\n",
      "1035424/1035424 [==============================] - 167s 162us/sample - loss: 0.6701 - accuracy: 0.5620 - AUC: 0.5912 - val_loss: 0.5715 - val_accuracy: 0.6177 - val_AUC: 0.6861\n",
      "Epoch 16/50\n",
      "1035424/1035424 [==============================] - 168s 162us/sample - loss: 0.6693 - accuracy: 0.5630 - AUC: 0.5935 - val_loss: 0.5845 - val_accuracy: 0.6141 - val_AUC: 0.6828\n",
      "Epoch 17/50\n",
      "1035424/1035424 [==============================] - 169s 163us/sample - loss: 0.6689 - accuracy: 0.5641 - AUC: 0.5942 - val_loss: 0.5680 - val_accuracy: 0.6161 - val_AUC: 0.6823\n",
      "Epoch 18/50\n",
      "1035424/1035424 [==============================] - 169s 163us/sample - loss: 0.6683 - accuracy: 0.5649 - AUC: 0.5951 - val_loss: 0.5698 - val_accuracy: 0.6170 - val_AUC: 0.6838\n",
      "Epoch 19/50\n",
      "1035424/1035424 [==============================] - 169s 163us/sample - loss: 0.6684 - accuracy: 0.5651 - AUC: 0.5963 - val_loss: 0.5721 - val_accuracy: 0.6139 - val_AUC: 0.6790\n",
      "Epoch 20/50\n",
      "1035424/1035424 [==============================] - 169s 163us/sample - loss: 0.6679 - accuracy: 0.5660 - AUC: 0.5971 - val_loss: 0.5879 - val_accuracy: 0.6055 - val_AUC: 0.6683\n",
      "Epoch 21/50\n",
      "1035424/1035424 [==============================] - 169s 164us/sample - loss: 0.6678 - accuracy: 0.5662 - AUC: 0.5984 - val_loss: 0.5717 - val_accuracy: 0.6161 - val_AUC: 0.6838\n",
      "Epoch 22/50\n",
      "1035424/1035424 [==============================] - 170s 164us/sample - loss: 0.6666 - accuracy: 0.5674 - AUC: 0.6002 - val_loss: 0.5738 - val_accuracy: 0.6141 - val_AUC: 0.6805\n",
      "Epoch 23/50\n",
      "1035424/1035424 [==============================] - 170s 164us/sample - loss: 0.6668 - accuracy: 0.5681 - AUC: 0.6008 - val_loss: 0.5721 - val_accuracy: 0.6183 - val_AUC: 0.6850\n",
      "Epoch 24/50\n",
      "1035424/1035424 [==============================] - 170s 164us/sample - loss: 0.6669 - accuracy: 0.5680 - AUC: 0.6008 - val_loss: 0.5709 - val_accuracy: 0.6130 - val_AUC: 0.6806\n",
      "Epoch 25/50\n",
      "1035424/1035424 [==============================] - 170s 164us/sample - loss: 0.6662 - accuracy: 0.5673 - AUC: 0.6010 - val_loss: 0.5732 - val_accuracy: 0.6163 - val_AUC: 0.6811\n"
     ]
    }
   ],
   "source": [
    "training = rnn.fit(X_train,\n",
    "                   y_train,\n",
    "                   epochs=50,\n",
    "                   batch_size=32,\n",
    "                   validation_data=(X_test, y_test),\n",
    "                   callbacks=[early_stopping],\n",
    "                   verbose=1)"
   ]
  },
  {
   "cell_type": "markdown",
   "metadata": {},
   "source": [
    "Training stops after 18 epochs, producing a test area under the curve (AUC) of 0.63 for the best model with 13 rounds of training (each of which takes around three minutes on a single GPU)."
   ]
  },
  {
   "cell_type": "code",
   "execution_count": 22,
   "metadata": {
    "ExecuteTime": {
     "end_time": "2020-03-25T04:16:04.513127Z",
     "start_time": "2020-03-25T04:16:04.507602Z"
    }
   },
   "outputs": [],
   "source": [
    "loss_history = pd.DataFrame(training.history)\n",
    "loss_history.to_csv('lstm_ret.csv', index=False)"
   ]
  },
  {
   "cell_type": "code",
   "execution_count": 23,
   "metadata": {
    "ExecuteTime": {
     "end_time": "2020-03-25T04:16:04.525969Z",
     "start_time": "2020-03-25T04:16:04.514387Z"
    }
   },
   "outputs": [],
   "source": [
    "def which_metric(m):\n",
    "    return m.split('_')[-1]"
   ]
  },
  {
   "cell_type": "code",
   "execution_count": 24,
   "metadata": {
    "ExecuteTime": {
     "end_time": "2020-03-25T04:16:05.504144Z",
     "start_time": "2020-03-25T04:16:04.526864Z"
    }
   },
   "outputs": [
    {
     "data": {
      "image/png": "[encoded data removed]",
      "text/plain": [
       "<Figure size 1296x288 with 3 Axes>"
      ]
     },
     "metadata": {},
     "output_type": "display_data"
    }
   ],
   "source": [
    "fig, axes = plt.subplots(ncols=3, figsize=(18,4))\n",
    "for i, (metric, hist) in enumerate(loss_history.groupby(which_metric, axis=1)):\n",
    "    hist.plot(ax=axes[i], title=metric)\n",
    "    axes[i].legend(['Training', 'Validation'])\n",
    "fig.tight_layout()\n",
    "fig.savefig('figures/lstm_stacked', dpi=300);"
   ]
  },
  {
   "cell_type": "markdown",
   "metadata": {},
   "source": [
    "## Evaluate model performance"
   ]
  },
  {
   "cell_type": "code",
   "execution_count": 25,
   "metadata": {
    "ExecuteTime": {
     "end_time": "2020-03-25T04:16:13.046040Z",
     "start_time": "2020-03-25T04:16:05.504992Z"
    }
   },
   "outputs": [],
   "source": [
    "test_predict = pd.Series(rnn.predict(X_test).squeeze(), index=y_test.index)\n",
    "test_predict.to_csv('lstm_preds.csv')"
   ]
  },
  {
   "cell_type": "code",
   "execution_count": 26,
   "metadata": {
    "ExecuteTime": {
     "end_time": "2020-03-25T04:16:13.078467Z",
     "start_time": "2020-03-25T04:16:13.046919Z"
    }
   },
   "outputs": [
    {
     "data": {
      "text/plain": [
       "0.6861709054566015"
      ]
     },
     "execution_count": 26,
     "metadata": {},
     "output_type": "execute_result"
    }
   ],
   "source": [
    "roc_auc_score(y_score=test_predict, y_true=y_test)"
   ]
  },
  {
   "cell_type": "code",
   "execution_count": 27,
   "metadata": {
    "ExecuteTime": {
     "end_time": "2020-03-25T04:16:13.099872Z",
     "start_time": "2020-03-25T04:16:13.079288Z"
    }
   },
   "outputs": [
    {
     "data": {
      "text/plain": [
       "0.3185266259079891"
      ]
     },
     "execution_count": 27,
     "metadata": {},
     "output_type": "execute_result"
    }
   ],
   "source": [
    "spearmanr(test_predict, y_test)[0]"
   ]
  }
 ],
 "metadata": {
  "anaconda-cloud": {},
  "kernelspec": {
   "display_name": "Python 3",
   "language": "python",
   "name": "python3"
  },
  "language_info": {
   "codemirror_mode": {
    "name": "ipython",
    "version": 3
   },
   "file_extension": ".py",
   "mimetype": "text/x-python",
   "name": "python",
   "nbconvert_exporter": "python",
   "pygments_lexer": "ipython3",
   "version": "3.7.6"
  },
  "toc": {
   "base_numbering": 1,
   "nav_menu": {},
   "number_sections": true,
   "sideBar": true,
   "skip_h1_title": true,
   "title_cell": "Table of Contents",
   "title_sidebar": "Contents",
   "toc_cell": false,
   "toc_position": {},
   "toc_section_display": true,
   "toc_window_display": true
  }
 },
 "nbformat": 4,
 "nbformat_minor": 1
}
