{
 "cells": [
  {
   "cell_type": "markdown",
   "metadata": {},
   "source": [
    "# Stacked LSTMs for Time Series Classification with TensorFlow"
   ]
  },
  {
   "cell_type": "markdown",
   "metadata": {},
   "source": [
    "We'll now build a slightly deeper model by stacking two LSTM layers using the Quandl stock price data. Furthermore, we will include features that are not sequential in nature, namely indicator variables for identifying the equity and the month."
   ]
  },
  {
   "cell_type": "markdown",
   "metadata": {},
   "source": [
    "## Imports"
   ]
  },
  {
   "cell_type": "code",
   "execution_count": 1,
   "metadata": {
    "ExecuteTime": {
     "end_time": "2020-03-25T11:21:00.914703Z",
     "start_time": "2020-03-25T11:21:00.907601Z"
    }
   },
   "outputs": [],
   "source": [
    "import warnings\n",
    "warnings.filterwarnings('ignore')"
   ]
  },
  {
   "cell_type": "code",
   "execution_count": 2,
   "metadata": {
    "ExecuteTime": {
     "end_time": "2020-03-25T11:21:02.392960Z",
     "start_time": "2020-03-25T11:21:01.062671Z"
    }
   },
   "outputs": [],
   "source": [
    "%matplotlib inline\n",
    "import numpy as np\n",
    "import pandas as pd\n",
    "import matplotlib.pyplot as plt\n",
    "import seaborn as sns\n",
    "from datetime import datetime, date\n",
    "from scipy.stats import spearmanr\n",
    "from sklearn.metrics import mean_squared_error, roc_auc_score\n",
    "from sklearn.preprocessing import minmax_scale\n",
    "\n",
    "import tensorflow as tf\n",
    "from tensorflow.keras.callbacks import ModelCheckpoint, EarlyStopping\n",
    "from tensorflow.keras.models import Sequential, Model\n",
    "from tensorflow.keras.layers import Dense, LSTM, Input, concatenate, Embedding, Reshape, BatchNormalization\n",
    "import tensorflow.keras.backend as K"
   ]
  },
  {
   "cell_type": "code",
   "execution_count": 28,
   "metadata": {
    "ExecuteTime": {
     "end_time": "2020-03-25T11:21:02.398352Z",
     "start_time": "2020-03-25T11:21:02.393970Z"
    }
   },
   "outputs": [],
   "source": [
    "idx = pd.IndexSlice\n",
    "sns.set_style('whitegrid')\n",
    "np.random.seed(42)"
   ]
  },
  {
   "cell_type": "code",
   "execution_count": null,
   "metadata": {},
   "outputs": [],
   "source": [
    "K.clear_session()"
   ]
  },
  {
   "cell_type": "markdown",
   "metadata": {},
   "source": [
    "## Data"
   ]
  },
  {
   "cell_type": "markdown",
   "metadata": {},
   "source": [
    "Data produced by the notebook [build_dataset](00_build_dataset.ipynb)."
   ]
  },
  {
   "cell_type": "code",
   "execution_count": 4,
   "metadata": {
    "ExecuteTime": {
     "end_time": "2020-03-25T11:22:20.995010Z",
     "start_time": "2020-03-25T11:22:20.502727Z"
    }
   },
   "outputs": [],
   "source": [
    "data = pd.read_hdf('data.h5', 'returns_weekly')"
   ]
  },
  {
   "cell_type": "code",
   "execution_count": 5,
   "metadata": {
    "ExecuteTime": {
     "end_time": "2020-03-25T11:22:21.034286Z",
     "start_time": "2020-03-25T11:22:20.995962Z"
    }
   },
   "outputs": [],
   "source": [
    "data['ticker'] = pd.factorize(data.index.get_level_values('ticker'))[0]"
   ]
  },
  {
   "cell_type": "code",
   "execution_count": 6,
   "metadata": {
    "ExecuteTime": {
     "end_time": "2020-03-25T11:22:21.288003Z",
     "start_time": "2020-03-25T11:22:21.035291Z"
    }
   },
   "outputs": [],
   "source": [
    "data['month'] = data.index.get_level_values('date').month\n",
    "data = pd.get_dummies(data, columns=['month'], prefix='month')"
   ]
  },
  {
   "cell_type": "code",
   "execution_count": 7,
   "metadata": {
    "ExecuteTime": {
     "end_time": "2020-03-25T11:22:21.427758Z",
     "start_time": "2020-03-25T11:22:21.288954Z"
    }
   },
   "outputs": [
    {
     "name": "stdout",
     "output_type": "stream",
     "text": [
      "<class 'pandas.core.frame.DataFrame'>\n",
      "MultiIndex: 1167341 entries, ('A', Timestamp('2009-01-11 00:00:00')) to ('ZUMZ', Timestamp('2017-12-31 00:00:00'))\n",
      "Data columns (total 67 columns):\n",
      " #   Column       Non-Null Count    Dtype  \n",
      "---  ------       --------------    -----  \n",
      " 0   fwd_returns  1167341 non-null  float64\n",
      " 1   1            1167341 non-null  float64\n",
      " 2   2            1167341 non-null  float64\n",
      " 3   3            1167341 non-null  float64\n",
      " 4   4            1167341 non-null  float64\n",
      " 5   5            1167341 non-null  float64\n",
      " 6   6            1167341 non-null  float64\n",
      " 7   7            1167341 non-null  float64\n",
      " 8   8            1167341 non-null  float64\n",
      " 9   9            1167341 non-null  float64\n",
      " 10  10           1167341 non-null  float64\n",
      " 11  11           1167341 non-null  float64\n",
      " 12  12           1167341 non-null  float64\n",
      " 13  13           1167341 non-null  float64\n",
      " 14  14           1167341 non-null  float64\n",
      " 15  15           1167341 non-null  float64\n",
      " 16  16           1167341 non-null  float64\n",
      " 17  17           1167341 non-null  float64\n",
      " 18  18           1167341 non-null  float64\n",
      " 19  19           1167341 non-null  float64\n",
      " 20  20           1167341 non-null  float64\n",
      " 21  21           1167341 non-null  float64\n",
      " 22  22           1167341 non-null  float64\n",
      " 23  23           1167341 non-null  float64\n",
      " 24  24           1167341 non-null  float64\n",
      " 25  25           1167341 non-null  float64\n",
      " 26  26           1167341 non-null  float64\n",
      " 27  27           1167341 non-null  float64\n",
      " 28  28           1167341 non-null  float64\n",
      " 29  29           1167341 non-null  float64\n",
      " 30  30           1167341 non-null  float64\n",
      " 31  31           1167341 non-null  float64\n",
      " 32  32           1167341 non-null  float64\n",
      " 33  33           1167341 non-null  float64\n",
      " 34  34           1167341 non-null  float64\n",
      " 35  35           1167341 non-null  float64\n",
      " 36  36           1167341 non-null  float64\n",
      " 37  37           1167341 non-null  float64\n",
      " 38  38           1167341 non-null  float64\n",
      " 39  39           1167341 non-null  float64\n",
      " 40  40           1167341 non-null  float64\n",
      " 41  41           1167341 non-null  float64\n",
      " 42  42           1167341 non-null  float64\n",
      " 43  43           1167341 non-null  float64\n",
      " 44  44           1167341 non-null  float64\n",
      " 45  45           1167341 non-null  float64\n",
      " 46  46           1167341 non-null  float64\n",
      " 47  47           1167341 non-null  float64\n",
      " 48  48           1167341 non-null  float64\n",
      " 49  49           1167341 non-null  float64\n",
      " 50  50           1167341 non-null  float64\n",
      " 51  51           1167341 non-null  float64\n",
      " 52  52           1167341 non-null  float64\n",
      " 53  label        1167341 non-null  int64  \n",
      " 54  ticker       1167341 non-null  int64  \n",
      " 55  month_1      1167341 non-null  uint8  \n",
      " 56  month_2      1167341 non-null  uint8  \n",
      " 57  month_3      1167341 non-null  uint8  \n",
      " 58  month_4      1167341 non-null  uint8  \n",
      " 59  month_5      1167341 non-null  uint8  \n",
      " 60  month_6      1167341 non-null  uint8  \n",
      " 61  month_7      1167341 non-null  uint8  \n",
      " 62  month_8      1167341 non-null  uint8  \n",
      " 63  month_9      1167341 non-null  uint8  \n",
      " 64  month_10     1167341 non-null  uint8  \n",
      " 65  month_11     1167341 non-null  uint8  \n",
      " 66  month_12     1167341 non-null  uint8  \n",
      "dtypes: float64(53), int64(2), uint8(12)\n",
      "memory usage: 507.8+ MB\n"
     ]
    }
   ],
   "source": [
    "data.info()"
   ]
  },
  {
   "cell_type": "markdown",
   "metadata": {},
   "source": [
    "## Train-test split\n",
    "\n",
    "To respect the time series nature of the data, we set aside the data at the end of the sample as hold-out or test set. More specifically, we'll use the data for 2017."
   ]
  },
  {
   "cell_type": "code",
   "execution_count": 8,
   "metadata": {
    "ExecuteTime": {
     "end_time": "2020-03-25T11:22:21.860675Z",
     "start_time": "2020-03-25T11:22:21.838917Z"
    }
   },
   "outputs": [],
   "source": [
    "window_size=52\n",
    "sequence = list(range(1, window_size+1))\n",
    "ticker = 1\n",
    "months = 12\n",
    "n_tickers = data.ticker.nunique()"
   ]
  },
  {
   "cell_type": "code",
   "execution_count": 9,
   "metadata": {
    "ExecuteTime": {
     "end_time": "2020-03-25T11:22:22.961374Z",
     "start_time": "2020-03-25T11:22:22.558169Z"
    }
   },
   "outputs": [],
   "source": [
    "train_data = data.drop('fwd_returns', axis=1).loc[idx[:, :'2016'], :]\n",
    "test_data = data.drop('fwd_returns', axis=1).loc[idx[:, '2017'],:]"
   ]
  },
  {
   "cell_type": "markdown",
   "metadata": {},
   "source": [
    "For each train and test dataset, we generate a list with three input arrays containing the return series, the stock ticker (converted to integer values), and the month (as an integer), as shown here:"
   ]
  },
  {
   "cell_type": "code",
   "execution_count": 10,
   "metadata": {
    "ExecuteTime": {
     "end_time": "2020-03-25T11:22:23.656710Z",
     "start_time": "2020-03-25T11:22:23.557333Z"
    }
   },
   "outputs": [
    {
     "data": {
      "text/plain": [
       "([(1035424, 52, 1), (1035424,), (1035424, 12)], (1035424,))"
      ]
     },
     "execution_count": 10,
     "metadata": {},
     "output_type": "execute_result"
    }
   ],
   "source": [
    "X_train = [\n",
    "    train_data.loc[:, sequence].values.reshape(-1, window_size , 1),\n",
    "    train_data.ticker,\n",
    "    train_data.filter(like='month')\n",
    "]\n",
    "y_train = train_data.label\n",
    "[x.shape for x in X_train], y_train.shape"
   ]
  },
  {
   "cell_type": "code",
   "execution_count": 11,
   "metadata": {
    "ExecuteTime": {
     "end_time": "2020-03-25T03:06:24.761373Z",
     "start_time": "2020-03-25T03:06:24.748078Z"
    }
   },
   "outputs": [
    {
     "data": {
      "text/plain": [
       "([(131917, 52, 1), (131917,), (131917, 12)], (131917,))"
      ]
     },
     "execution_count": 11,
     "metadata": {},
     "output_type": "execute_result"
    }
   ],
   "source": [
    "# keep the last year for testing\n",
    "X_test = [\n",
    "    test_data.loc[:, list(range(1, window_size+1))].values.reshape(-1, window_size , 1),\n",
    "    test_data.ticker,\n",
    "    test_data.filter(like='month')\n",
    "]\n",
    "y_test = test_data.label\n",
    "[x.shape for x in X_test], y_test.shape"
   ]
  },
  {
   "cell_type": "markdown",
   "metadata": {},
   "source": [
    "##  Define the Model Architecture"
   ]
  },
  {
   "cell_type": "markdown",
   "metadata": {},
   "source": [
    "The functional API of Keras makes it easy to design architectures with multiple inputs and outputs. This example illustrates a network with three inputs, as follows:\n",
    "\n",
    "- A two stacked LSTM layers with 25 and 10 units respectively\n",
    "- An embedding layer that learns a 10-dimensional real-valued representation of the equities\n",
    "- A one-hot encoded representation of the month\n",
    "\n",
    "This can be constructed using just a few lines - see e.g., \n",
    "- the [general Keras documentation](https://keras.io/getting-started/sequential-model-guide/), \n",
    "- the [LSTM documentation](https://keras.io/layers/recurrent/).\n",
    "\n",
    "Make sure you are initializing your optimizer given the [keras-recommended approach for RNNs](https://keras.io/optimizers/) \n",
    "\n",
    "We begin by defining the three inputs with their respective shapes, as described here:"
   ]
  },
  {
   "cell_type": "code",
   "execution_count": 12,
   "metadata": {
    "ExecuteTime": {
     "end_time": "2020-03-25T03:06:24.770833Z",
     "start_time": "2020-03-25T03:06:24.762291Z"
    }
   },
   "outputs": [],
   "source": [
    "n_features = 1"
   ]
  },
  {
   "cell_type": "code",
   "execution_count": 13,
   "metadata": {
    "ExecuteTime": {
     "end_time": "2020-03-25T03:06:24.781480Z",
     "start_time": "2020-03-25T03:06:24.772032Z"
    }
   },
   "outputs": [],
   "source": [
    "returns = Input(shape=(window_size, n_features), name='Returns')\n",
    "tickers = Input(shape=(1,), name='Tickers')\n",
    "months = Input(shape=(12,), name='Months')"
   ]
  },
  {
   "cell_type": "markdown",
   "metadata": {},
   "source": [
    "### LSTM Layers"
   ]
  },
  {
   "cell_type": "markdown",
   "metadata": {},
   "source": [
    "To define stacked LSTM layers, we set the `return_sequences` keyword to `True`. This ensures that the first layer produces an output that conforms to the expected three-dimensional input format. Note that we also use dropout regularization and how the functional API passes the tensor outputs from one layer to the subsequent layer:"
   ]
  },
  {
   "cell_type": "code",
   "execution_count": 14,
   "metadata": {
    "ExecuteTime": {
     "end_time": "2020-03-25T03:06:24.793218Z",
     "start_time": "2020-03-25T03:06:24.782424Z"
    }
   },
   "outputs": [],
   "source": [
    "lstm1_units = 25\n",
    "lstm2_units = 10"
   ]
  },
  {
   "cell_type": "code",
   "execution_count": 15,
   "metadata": {
    "ExecuteTime": {
     "end_time": "2020-03-25T03:06:25.587805Z",
     "start_time": "2020-03-25T03:06:24.794197Z"
    }
   },
   "outputs": [],
   "source": [
    "lstm1 = LSTM(units=lstm1_units, \n",
    "             input_shape=(window_size, \n",
    "                          n_features), \n",
    "             name='LSTM1', \n",
    "             dropout=.2,\n",
    "             return_sequences=True)(returns)\n",
    "\n",
    "lstm_model = LSTM(units=lstm2_units, \n",
    "             dropout=.2,\n",
    "             name='LSTM2')(lstm1)"
   ]
  },
  {
   "cell_type": "markdown",
   "metadata": {},
   "source": [
    "### Embedding Layer"
   ]
  },
  {
   "cell_type": "markdown",
   "metadata": {},
   "source": [
    "The embedding layer requires the `input_dim` keyword, which defines how many embeddings the layer will learn, the `output_dim` keyword, which defines the size of the embedding, and the `input_length` keyword to set the number of elements passed to the layer (here only one ticker per sample). \n",
    "\n",
    "To combine the embedding layer with the LSTM layer and the months input, we need to reshape (or flatten) it, as follows:"
   ]
  },
  {
   "cell_type": "code",
   "execution_count": 16,
   "metadata": {
    "ExecuteTime": {
     "end_time": "2020-03-25T03:06:25.598019Z",
     "start_time": "2020-03-25T03:06:25.588724Z"
    }
   },
   "outputs": [],
   "source": [
    "ticker_embedding = Embedding(input_dim=n_tickers, \n",
    "                             output_dim=5, \n",
    "                             input_length=1)(tickers)\n",
    "ticker_embedding = Reshape(target_shape=(5,))(ticker_embedding)"
   ]
  },
  {
   "cell_type": "markdown",
   "metadata": {},
   "source": [
    "### Concatenate Model components"
   ]
  },
  {
   "cell_type": "markdown",
   "metadata": {},
   "source": [
    "Now we can concatenate the three tensors and add fully-connected layers to learn a mapping from these learned time series, ticker, and month indicators to the outcome, a positive or negative return in the following week, as shown here:"
   ]
  },
  {
   "cell_type": "code",
   "execution_count": 17,
   "metadata": {
    "ExecuteTime": {
     "end_time": "2020-03-25T03:06:25.633356Z",
     "start_time": "2020-03-25T03:06:25.598903Z"
    }
   },
   "outputs": [],
   "source": [
    "merged = concatenate([lstm_model, \n",
    "                      ticker_embedding, \n",
    "                      months], name='Merged')\n",
    "\n",
    "bn = BatchNormalization()(merged)\n",
    "hidden_dense = Dense(10, name='FC1')(bn)\n",
    "\n",
    "output = Dense(1, name='Output', activation='sigmoid')(hidden_dense)\n",
    "\n",
    "rnn = Model(inputs=[returns, tickers, months], outputs=output)"
   ]
  },
  {
   "cell_type": "markdown",
   "metadata": {},
   "source": [
    "The summary lays out this slightly more sophisticated architecture with 29,371 parameters, as follows:"
   ]
  },
  {
   "cell_type": "code",
   "execution_count": 18,
   "metadata": {
    "ExecuteTime": {
     "end_time": "2020-03-25T03:06:25.639011Z",
     "start_time": "2020-03-25T03:06:25.634239Z"
    }
   },
   "outputs": [
    {
     "name": "stdout",
     "output_type": "stream",
     "text": [
      "Model: \"model\"\n",
      "__________________________________________________________________________________________________\n",
      "Layer (type)                    Output Shape         Param #     Connected to                     \n",
      "==================================================================================================\n",
      "Returns (InputLayer)            [(None, 52, 1)]      0                                            \n",
      "__________________________________________________________________________________________________\n",
      "Tickers (InputLayer)            [(None, 1)]          0                                            \n",
      "__________________________________________________________________________________________________\n",
      "LSTM1 (LSTM)                    (None, 52, 25)       2700        Returns[0][0]                    \n",
      "__________________________________________________________________________________________________\n",
      "embedding (Embedding)           (None, 1, 5)         12445       Tickers[0][0]                    \n",
      "__________________________________________________________________________________________________\n",
      "LSTM2 (LSTM)                    (None, 10)           1440        LSTM1[0][0]                      \n",
      "__________________________________________________________________________________________________\n",
      "reshape (Reshape)               (None, 5)            0           embedding[0][0]                  \n",
      "__________________________________________________________________________________________________\n",
      "Months (InputLayer)             [(None, 12)]         0                                            \n",
      "__________________________________________________________________________________________________\n",
      "Merged (Concatenate)            (None, 27)           0           LSTM2[0][0]                      \n",
      "                                                                 reshape[0][0]                    \n",
      "                                                                 Months[0][0]                     \n",
      "__________________________________________________________________________________________________\n",
      "batch_normalization (BatchNorma (None, 27)           108         Merged[0][0]                     \n",
      "__________________________________________________________________________________________________\n",
      "FC1 (Dense)                     (None, 10)           280         batch_normalization[0][0]        \n",
      "__________________________________________________________________________________________________\n",
      "Output (Dense)                  (None, 1)            11          FC1[0][0]                        \n",
      "==================================================================================================\n",
      "Total params: 16,984\n",
      "Trainable params: 16,930\n",
      "Non-trainable params: 54\n",
      "__________________________________________________________________________________________________\n"
     ]
    }
   ],
   "source": [
    "rnn.summary()"
   ]
  },
  {
   "cell_type": "markdown",
   "metadata": {},
   "source": [
    "## Train the Model"
   ]
  },
  {
   "cell_type": "markdown",
   "metadata": {},
   "source": [
    "We compile the model to compute a custom auc metric as follows:"
   ]
  },
  {
   "cell_type": "code",
   "execution_count": 19,
   "metadata": {
    "ExecuteTime": {
     "end_time": "2020-03-25T03:06:25.707694Z",
     "start_time": "2020-03-25T03:06:25.640388Z"
    }
   },
   "outputs": [],
   "source": [
    "optimizer = tf.keras.optimizers.RMSprop(lr=0.001,\n",
    "                                        rho=0.9,\n",
    "                                        epsilon=1e-08,\n",
    "                                        decay=0.0)\n",
    "\n",
    "rnn.compile(loss='binary_crossentropy',\n",
    "            optimizer=optimizer,\n",
    "            metrics=['accuracy', \n",
    "                     tf.keras.metrics.AUC(name='AUC')])"
   ]
  },
  {
   "cell_type": "code",
   "execution_count": 20,
   "metadata": {
    "ExecuteTime": {
     "end_time": "2020-03-25T03:06:25.711964Z",
     "start_time": "2020-03-25T03:06:25.709292Z"
    }
   },
   "outputs": [],
   "source": [
    "early_stopping = EarlyStopping(monitor='val_AUC', \n",
    "                              patience=10,\n",
    "                              restore_best_weights=True,\n",
    "                              mode='max')"
   ]
  },
  {
   "cell_type": "code",
   "execution_count": 21,
   "metadata": {
    "ExecuteTime": {
     "end_time": "2020-03-25T04:16:04.506350Z",
     "start_time": "2020-03-25T03:06:25.713260Z"
    }
   },
   "outputs": [
    {
     "name": "stdout",
     "output_type": "stream",
     "text": [
      "Train on 1035424 samples, validate on 131917 samples\n",
      "Epoch 1/50\n",
      "1035424/1035424 [==============================] - 166s 160us/sample - loss: 0.6894 - accuracy: 0.5370 - AUC: 0.5494 - val_loss: 0.6848 - val_accuracy: 0.5555 - val_AUC: 0.5995\n",
      "Epoch 2/50\n",
      "1035424/1035424 [==============================] - 164s 159us/sample - loss: 0.6857 - accuracy: 0.5486 - AUC: 0.5672 - val_loss: 0.6816 - val_accuracy: 0.5642 - val_AUC: 0.6224\n",
      "Epoch 3/50\n",
      "1035424/1035424 [==============================] - 165s 160us/sample - loss: 0.6811 - accuracy: 0.5466 - AUC: 0.5652 - val_loss: 0.6580 - val_accuracy: 0.6033 - val_AUC: 0.6524\n",
      "Epoch 4/50\n",
      "1035424/1035424 [==============================] - 170s 164us/sample - loss: 0.6809 - accuracy: 0.5475 - AUC: 0.5655 - val_loss: 0.5753 - val_accuracy: 0.6145 - val_AUC: 0.6781\n",
      "Epoch 5/50\n",
      "1035424/1035424 [==============================] - 155s 150us/sample - loss: 0.6797 - accuracy: 0.5479 - AUC: 0.5676 - val_loss: 0.6714 - val_accuracy: 0.5900 - val_AUC: 0.6634\n",
      "Epoch 6/50\n",
      "1035424/1035424 [==============================] - 157s 152us/sample - loss: 0.6791 - accuracy: 0.5482 - AUC: 0.5674 - val_loss: 0.6117 - val_accuracy: 0.6145 - val_AUC: 0.6812\n",
      "Epoch 7/50\n",
      "1035424/1035424 [==============================] - 166s 160us/sample - loss: 0.6809 - accuracy: 0.5482 - AUC: 0.5678 - val_loss: 0.5854 - val_accuracy: 0.6160 - val_AUC: 0.6852\n",
      "Epoch 8/50\n",
      "1035424/1035424 [==============================] - 168s 162us/sample - loss: 0.6831 - accuracy: 0.5476 - AUC: 0.5671 - val_loss: 0.6800 - val_accuracy: 0.5719 - val_AUC: 0.6252\n",
      "Epoch 9/50\n",
      "1035424/1035424 [==============================] - 164s 158us/sample - loss: 0.6864 - accuracy: 0.5478 - AUC: 0.5648 - val_loss: 0.6712 - val_accuracy: 0.5882 - val_AUC: 0.6353\n",
      "Epoch 10/50\n",
      "1035424/1035424 [==============================] - 163s 158us/sample - loss: 0.6861 - accuracy: 0.5483 - AUC: 0.5657 - val_loss: 0.6774 - val_accuracy: 0.5771 - val_AUC: 0.6244\n",
      "Epoch 11/50\n",
      "1035424/1035424 [==============================] - 168s 162us/sample - loss: 0.6813 - accuracy: 0.5476 - AUC: 0.5676 - val_loss: 0.5737 - val_accuracy: 0.6176 - val_AUC: 0.6816\n",
      "Epoch 12/50\n",
      "1035424/1035424 [==============================] - 170s 164us/sample - loss: 0.6763 - accuracy: 0.5494 - AUC: 0.5702 - val_loss: 0.5713 - val_accuracy: 0.6196 - val_AUC: 0.6863\n",
      "Epoch 13/50\n",
      "1035424/1035424 [==============================] - 169s 163us/sample - loss: 0.6749 - accuracy: 0.5513 - AUC: 0.5733 - val_loss: 0.5722 - val_accuracy: 0.6139 - val_AUC: 0.6821\n",
      "Epoch 14/50\n",
      "1035424/1035424 [==============================] - 167s 161us/sample - loss: 0.6750 - accuracy: 0.5508 - AUC: 0.5718 - val_loss: 0.5708 - val_accuracy: 0.6220 - val_AUC: 0.6875\n",
      "Epoch 15/50\n",
      "1035424/1035424 [==============================] - 175s 169us/sample - loss: 0.6754 - accuracy: 0.5507 - AUC: 0.5716 - val_loss: 0.5731 - val_accuracy: 0.6192 - val_AUC: 0.6874\n",
      "Epoch 16/50\n",
      "1035424/1035424 [==============================] - 157s 151us/sample - loss: 0.6737 - accuracy: 0.5524 - AUC: 0.5758 - val_loss: 0.5690 - val_accuracy: 0.6191 - val_AUC: 0.6875\n",
      "Epoch 17/50\n",
      "1035424/1035424 [==============================] - 157s 151us/sample - loss: 0.6740 - accuracy: 0.5544 - AUC: 0.5779 - val_loss: 0.5689 - val_accuracy: 0.6184 - val_AUC: 0.6854\n",
      "Epoch 18/50\n",
      "1035424/1035424 [==============================] - 162s 157us/sample - loss: 0.6727 - accuracy: 0.5554 - AUC: 0.5798 - val_loss: 0.5700 - val_accuracy: 0.6182 - val_AUC: 0.6831\n",
      "Epoch 19/50\n",
      "1035424/1035424 [==============================] - 163s 157us/sample - loss: 0.6726 - accuracy: 0.5568 - AUC: 0.5814 - val_loss: 0.5687 - val_accuracy: 0.6193 - val_AUC: 0.6882\n",
      "Epoch 20/50\n",
      "1035424/1035424 [==============================] - 150s 145us/sample - loss: 0.6720 - accuracy: 0.5581 - AUC: 0.5832 - val_loss: 0.5693 - val_accuracy: 0.6187 - val_AUC: 0.6802\n",
      "Epoch 21/50\n",
      "1035424/1035424 [==============================] - 150s 145us/sample - loss: 0.6712 - accuracy: 0.5600 - AUC: 0.5861 - val_loss: 0.5689 - val_accuracy: 0.6182 - val_AUC: 0.6808\n",
      "Epoch 22/50\n",
      "1035424/1035424 [==============================] - 150s 145us/sample - loss: 0.6709 - accuracy: 0.5603 - AUC: 0.5873 - val_loss: 0.5691 - val_accuracy: 0.6173 - val_AUC: 0.6868\n",
      "Epoch 23/50\n",
      "1035424/1035424 [==============================] - 154s 149us/sample - loss: 0.6706 - accuracy: 0.5615 - AUC: 0.5889 - val_loss: 0.5694 - val_accuracy: 0.6168 - val_AUC: 0.6809\n",
      "Epoch 24/50\n",
      "1035424/1035424 [==============================] - 171s 165us/sample - loss: 0.6703 - accuracy: 0.5615 - AUC: 0.5899 - val_loss: 0.5687 - val_accuracy: 0.6189 - val_AUC: 0.6882\n",
      "Epoch 25/50\n",
      "1035424/1035424 [==============================] - 173s 167us/sample - loss: 0.6696 - accuracy: 0.5631 - AUC: 0.5914 - val_loss: 0.5704 - val_accuracy: 0.6175 - val_AUC: 0.6812\n",
      "Epoch 26/50\n",
      "1035424/1035424 [==============================] - 160s 154us/sample - loss: 0.6713 - accuracy: 0.5609 - AUC: 0.5889 - val_loss: 0.5691 - val_accuracy: 0.6164 - val_AUC: 0.6813\n",
      "Epoch 27/50\n",
      "1035424/1035424 [==============================] - 160s 155us/sample - loss: 0.6688 - accuracy: 0.5653 - AUC: 0.5945 - val_loss: 0.5697 - val_accuracy: 0.6200 - val_AUC: 0.6841\n",
      "Epoch 28/50\n",
      "1035424/1035424 [==============================] - 160s 154us/sample - loss: 0.6686 - accuracy: 0.5656 - AUC: 0.5954 - val_loss: 0.5710 - val_accuracy: 0.6222 - val_AUC: 0.6879\n",
      "Epoch 29/50\n",
      "1035424/1035424 [==============================] - 162s 156us/sample - loss: 0.6693 - accuracy: 0.5648 - AUC: 0.5947 - val_loss: 0.5710 - val_accuracy: 0.6203 - val_AUC: 0.6847\n"
     ]
    }
   ],
   "source": [
    "training = rnn.fit(X_train,\n",
    "                   y_train,\n",
    "                   epochs=50,\n",
    "                   batch_size=32,\n",
    "                   validation_data=(X_test, y_test),\n",
    "                   callbacks=[early_stopping],\n",
    "                   verbose=1)"
   ]
  },
  {
   "cell_type": "markdown",
   "metadata": {},
   "source": [
    "Training stops after 18 epochs, producing a test area under the curve (AUC) of 0.63 for the best model with 13 rounds of training (each of which takes around three minutes on a single GPU)."
   ]
  },
  {
   "cell_type": "code",
   "execution_count": 22,
   "metadata": {
    "ExecuteTime": {
     "end_time": "2020-03-25T04:16:04.513127Z",
     "start_time": "2020-03-25T04:16:04.507602Z"
    }
   },
   "outputs": [],
   "source": [
    "loss_history = pd.DataFrame(training.history)\n",
    "loss_history.to_csv('lstm_ret.csv', index=False)"
   ]
  },
  {
   "cell_type": "code",
   "execution_count": 23,
   "metadata": {
    "ExecuteTime": {
     "end_time": "2020-03-25T04:16:04.525969Z",
     "start_time": "2020-03-25T04:16:04.514387Z"
    }
   },
   "outputs": [],
   "source": [
    "def which_metric(m):\n",
    "    return m.split('_')[-1]"
   ]
  },
  {
   "cell_type": "code",
   "execution_count": 24,
   "metadata": {
    "ExecuteTime": {
     "end_time": "2020-03-25T04:16:05.504144Z",
     "start_time": "2020-03-25T04:16:04.526864Z"
    }
   },
   "outputs": [
    {
     "data": {
      "image/png": "[encoded data removed]",
      "text/plain": [
       "<Figure size 1296x288 with 3 Axes>"
      ]
     },
     "metadata": {},
     "output_type": "display_data"
    }
   ],
   "source": [
    "fig, axes = plt.subplots(ncols=3, figsize=(18,4))\n",
    "for i, (metric, hist) in enumerate(loss_history.groupby(which_metric, axis=1)):\n",
    "    hist.plot(ax=axes[i], title=metric)\n",
    "    axes[i].legend(['Training', 'Validation'])\n",
    "fig.tight_layout()\n",
    "fig.savefig('figures/lstm_stacked', dpi=300);"
   ]
  },
  {
   "cell_type": "markdown",
   "metadata": {},
   "source": [
    "## Evaluate model performance"
   ]
  },
  {
   "cell_type": "code",
   "execution_count": 25,
   "metadata": {
    "ExecuteTime": {
     "end_time": "2020-03-25T04:16:13.046040Z",
     "start_time": "2020-03-25T04:16:05.504992Z"
    }
   },
   "outputs": [],
   "source": [
    "test_predict = pd.Series(rnn.predict(X_test).squeeze(), index=y_test.index)\n",
    "test_predict.to_csv('lstm_preds.csv')"
   ]
  },
  {
   "cell_type": "code",
   "execution_count": 26,
   "metadata": {
    "ExecuteTime": {
     "end_time": "2020-03-25T04:16:13.078467Z",
     "start_time": "2020-03-25T04:16:13.046919Z"
    }
   },
   "outputs": [
    {
     "data": {
      "text/plain": [
       "0.6882682588657396"
      ]
     },
     "execution_count": 26,
     "metadata": {},
     "output_type": "execute_result"
    }
   ],
   "source": [
    "roc_auc_score(y_score=test_predict, y_true=y_test)"
   ]
  },
  {
   "cell_type": "code",
   "execution_count": 31,
   "metadata": {},
   "outputs": [
    {
     "data": {
      "text/plain": [
       "0.619343981442877"
      ]
     },
     "execution_count": 31,
     "metadata": {},
     "output_type": "execute_result"
    }
   ],
   "source": [
    "((test_predict>.5) == y_test).astype(int).mean()"
   ]
  },
  {
   "cell_type": "code",
   "execution_count": 27,
   "metadata": {
    "ExecuteTime": {
     "end_time": "2020-03-25T04:16:13.099872Z",
     "start_time": "2020-03-25T04:16:13.079288Z"
    }
   },
   "outputs": [
    {
     "data": {
      "text/plain": [
       "0.32211506473009094"
      ]
     },
     "execution_count": 27,
     "metadata": {},
     "output_type": "execute_result"
    }
   ],
   "source": [
    "spearmanr(test_predict, y_test)[0]"
   ]
  }
 ],
 "metadata": {
  "anaconda-cloud": {},
  "kernelspec": {
   "display_name": "Python 3",
   "language": "python",
   "name": "python3"
  },
  "language_info": {
   "codemirror_mode": {
    "name": "ipython",
    "version": 3
   },
   "file_extension": ".py",
   "mimetype": "text/x-python",
   "name": "python",
   "nbconvert_exporter": "python",
   "pygments_lexer": "ipython3",
   "version": "3.7.7"
  },
  "toc": {
   "base_numbering": 1,
   "nav_menu": {},
   "number_sections": true,
   "sideBar": true,
   "skip_h1_title": true,
   "title_cell": "Table of Contents",
   "title_sidebar": "Contents",
   "toc_cell": false,
   "toc_position": {},
   "toc_section_display": true,
   "toc_window_display": true
  }
 },
 "nbformat": 4,
 "nbformat_minor": 4
}
