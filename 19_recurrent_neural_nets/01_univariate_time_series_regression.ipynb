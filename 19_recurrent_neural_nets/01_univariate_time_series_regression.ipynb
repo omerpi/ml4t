{
 "cells": [
  {
   "cell_type": "markdown",
   "metadata": {
    "pycharm": {}
   },
   "source": [
    "# Recurrent Neural Networks"
   ]
  },
  {
   "cell_type": "markdown",
   "metadata": {
    "pycharm": {}
   },
   "source": [
    "## Univariate Time Series Regression"
   ]
  },
  {
   "cell_type": "markdown",
   "metadata": {
    "pycharm": {}
   },
   "source": [
    "This notebook demonstrates how to forecast the S&P 500 index using a Recurrent Neural Network."
   ]
  },
  {
   "cell_type": "markdown",
   "metadata": {},
   "source": [
    "## Run inside docker container for GPU acceleration"
   ]
  },
  {
   "cell_type": "markdown",
   "metadata": {},
   "source": [
    "See [tensorflow guide](https://www.tensorflow.org/install/docker) and more detailed [instructions](https://blog.sicara.com/tensorflow-gpu-opencv-jupyter-docker-10705b6cd1d)"
   ]
  },
  {
   "cell_type": "markdown",
   "metadata": {},
   "source": [
    "`docker run -it -p 8889:8888 -v /path/to/machine-learning-for-trading/18_recurrent_neural_nets:/rnn --name tensorflow tensorflow/tensorflow:latest-gpu-py3 bash`"
   ]
  },
  {
   "cell_type": "markdown",
   "metadata": {},
   "source": [
    "Inside docker container: \n",
    "`jupyter notebook --ip 0.0.0.0 --no-browser --allow-root`"
   ]
  },
  {
   "cell_type": "markdown",
   "metadata": {
    "pycharm": {}
   },
   "source": [
    "## Imports & Settings"
   ]
  },
  {
   "cell_type": "code",
   "execution_count": 1,
   "metadata": {
    "ExecuteTime": {
     "end_time": "2020-03-23T21:31:37.660085Z",
     "start_time": "2020-03-23T21:31:36.313362Z"
    },
    "pycharm": {}
   },
   "outputs": [
    {
     "name": "stderr",
     "output_type": "stream",
     "text": [
      "/home/stefan/.pyenv/versions/miniconda3-latest/envs/ml4t-dl/lib/python3.7/site-packages/pandas_datareader/compat/__init__.py:7: FutureWarning: pandas.util.testing is deprecated. Use the functions in the public API at pandas.testing instead.\n",
      "  from pandas.util.testing import assert_frame_equal\n"
     ]
    }
   ],
   "source": [
    "%matplotlib inline\n",
    "import numpy as np\n",
    "import pandas as pd\n",
    "import matplotlib.pyplot as plt\n",
    "import seaborn as sns\n",
    "from scipy.stats import spearmanr\n",
    "import pandas_datareader.data as web\n",
    "from datetime import datetime, date\n",
    "from sklearn.metrics import mean_squared_error, roc_auc_score\n",
    "from sklearn.preprocessing import MinMaxScaler\n",
    "from tensorflow.keras.callbacks import ModelCheckpoint, EarlyStopping\n",
    "from tensorflow.keras.models import Sequential\n",
    "from tensorflow.keras.layers import Dense, LSTM\n",
    "from tensorflow import keras"
   ]
  },
  {
   "cell_type": "code",
   "execution_count": 2,
   "metadata": {
    "ExecuteTime": {
     "end_time": "2020-03-23T21:31:37.663309Z",
     "start_time": "2020-03-23T21:31:37.661156Z"
    },
    "pycharm": {}
   },
   "outputs": [],
   "source": [
    "sns.set_style('whitegrid')\n",
    "np.random.seed(42)"
   ]
  },
  {
   "cell_type": "markdown",
   "metadata": {
    "pycharm": {}
   },
   "source": [
    "## Get Data"
   ]
  },
  {
   "cell_type": "markdown",
   "metadata": {
    "pycharm": {}
   },
   "source": [
    "We obtain data for 2010-2018 from the Federal Reserve Bank’s Data Service [FRED](https://fred.stlouisfed.org/) using the [pandas_datareader](https://pandas-datareader.readthedocs.io/) library in introduced in [Chapter 2 on Market and Fundamental Data](../02_market_and_fundamental_data)."
   ]
  },
  {
   "cell_type": "code",
   "execution_count": 3,
   "metadata": {
    "ExecuteTime": {
     "end_time": "2020-03-23T21:31:38.558334Z",
     "start_time": "2020-03-23T21:31:37.664577Z"
    },
    "pycharm": {}
   },
   "outputs": [
    {
     "data": {
      "image/png": "[encoded data removed]",
      "text/plain": [
       "<Figure size 432x288 with 1 Axes>"
      ]
     },
     "metadata": {},
     "output_type": "display_data"
    }
   ],
   "source": [
    "sp500 = web.DataReader('SP500', 'fred', start='2010', end='2020').dropna()\n",
    "sp500.plot(title='S&P 500', legend=False);"
   ]
  },
  {
   "cell_type": "markdown",
   "metadata": {
    "pycharm": {}
   },
   "source": [
    "## Preprocessing"
   ]
  },
  {
   "cell_type": "code",
   "execution_count": 4,
   "metadata": {
    "ExecuteTime": {
     "end_time": "2020-03-23T21:31:38.561176Z",
     "start_time": "2020-03-23T21:31:38.559413Z"
    }
   },
   "outputs": [],
   "source": [
    "scaler = MinMaxScaler()"
   ]
  },
  {
   "cell_type": "code",
   "execution_count": 5,
   "metadata": {
    "ExecuteTime": {
     "end_time": "2020-03-23T21:31:38.578073Z",
     "start_time": "2020-03-23T21:31:38.562113Z"
    },
    "pycharm": {}
   },
   "outputs": [
    {
     "data": {
      "text/plain": [
       "count    2463.000000\n",
       "mean        0.432135\n",
       "std         0.262388\n",
       "min         0.000000\n",
       "25%         0.172701\n",
       "50%         0.439850\n",
       "75%         0.640200\n",
       "max         1.000000\n",
       "dtype: float64"
      ]
     },
     "execution_count": 5,
     "metadata": {},
     "output_type": "execute_result"
    }
   ],
   "source": [
    "sp500_scaled = pd.Series(scaler.fit_transform(sp500).squeeze(), \n",
    "                         index=sp500.index)\n",
    "sp500_scaled.describe()"
   ]
  },
  {
   "cell_type": "markdown",
   "metadata": {
    "pycharm": {}
   },
   "source": [
    "## Generating recurrent sequences from our time series\n",
    "\n",
    "Our time series is a sequence of numbers indexed by time:\n",
    "\n",
    "$$x_{0},x_{1},x_{2},...,x_{T}$$\n",
    "\n",
    "where $\\{x_t\\}$ is the numerical value in period $t$ and  $T$ is the total length of the series. \n",
    "\n",
    "To apply a RNN for regression of classification, we use a sliding window to construct a rolling set of input/output pairs for our model to learn from as animated below.\n",
    "\n",
    "<img src=\"images/timeseries_windowing.gif\" width=600 height=600/>"
   ]
  },
  {
   "cell_type": "markdown",
   "metadata": {
    "pycharm": {}
   },
   "source": [
    "We will generate sequences of 63 trading days, approximately three months, and use a single LSTM layer with 20 hidden units to predict the index value one timestep ahead. \n",
    "The input to every LSTM layer must have three dimensions, namely:\n",
    "- **Samples**: One sequence is one sample. A batch contains one or more samples.\n",
    "- **Time Steps**: One time step is one point of observation in the sample.\n",
    "- **Features**: One feature is one observation at a time step.\n",
    "\n",
    "Our S&P 500 sample has 2,264 observations or time steps. We will create overlapping sequences using a window of 63 observations each.\n",
    "For a simpler window of size T = 5, we obtain input-output pairs as shown in the following table:"
   ]
  },
  {
   "cell_type": "markdown",
   "metadata": {
    "pycharm": {}
   },
   "source": [
    "$$\\begin{array}{c|c}\n",
    "\\text{Input} & \\text{Output}\\\\\n",
    "\\hline  {\\langle x_1,x_2,x_3,x_4,x_5\\rangle} & { x_6} \\\\\n",
    "\\ {\\langle x_{2},x_{3},x_{4},x_{5},x_{6} \\rangle } & {x_{7} } \\\\\n",
    "  {\\vdots} & {\\vdots}\\\\\n",
    " { \\langle x_{T-5},x_{T-4},x_{T-3},x_{T-2},x_{T-1} \\rangle } &  {x_{T}}\n",
    "\\end{array}$$"
   ]
  },
  {
   "cell_type": "markdown",
   "metadata": {
    "pycharm": {}
   },
   "source": [
    "Generally speaking, for window size S, the relationship takes the form \n",
    "\n",
    "$$x_t = f( x_{t-1}, x_{t-2}, ..., x_{t-S}) \\quad\\forall t=S, S+1, ..., T$$\n",
    "\n",
    "Each of the $T-S$ lagged input sequence or vector is of length S with a corresponding scalar output."
   ]
  },
  {
   "cell_type": "markdown",
   "metadata": {
    "pycharm": {}
   },
   "source": [
    "We can use the function create_univariate_rnn_data() to stack sequences selected using a rolling windows:"
   ]
  },
  {
   "cell_type": "code",
   "execution_count": 6,
   "metadata": {
    "ExecuteTime": {
     "end_time": "2020-03-23T21:31:38.582642Z",
     "start_time": "2020-03-23T21:31:38.579101Z"
    },
    "pycharm": {}
   },
   "outputs": [],
   "source": [
    "def create_univariate_rnn_data(data, window_size):\n",
    "    n = len(data)\n",
    "    y = data[window_size:]\n",
    "    data = data.values.reshape(-1, 1) # make 2D\n",
    "    X = np.hstack(tuple([data[i: n-j, :] for i, j in enumerate(range(window_size, 0, -1))]))\n",
    "    return pd.DataFrame(X, index=y.index), y"
   ]
  },
  {
   "cell_type": "markdown",
   "metadata": {
    "pycharm": {}
   },
   "source": [
    "We apply this function to the rescaled stock index for a window_size=63 to obtain a two-dimensional dataset of shape number of samples x number of timesteps:"
   ]
  },
  {
   "cell_type": "code",
   "execution_count": 7,
   "metadata": {
    "ExecuteTime": {
     "end_time": "2020-03-23T21:31:38.597836Z",
     "start_time": "2020-03-23T21:31:38.583618Z"
    },
    "pycharm": {}
   },
   "outputs": [],
   "source": [
    "window_size = 63"
   ]
  },
  {
   "cell_type": "code",
   "execution_count": 8,
   "metadata": {
    "ExecuteTime": {
     "end_time": "2020-03-23T21:31:38.658121Z",
     "start_time": "2020-03-23T21:31:38.655074Z"
    },
    "pycharm": {}
   },
   "outputs": [],
   "source": [
    "X, y = create_univariate_rnn_data(sp500_scaled, window_size=window_size)"
   ]
  },
  {
   "cell_type": "code",
   "execution_count": 9,
   "metadata": {
    "ExecuteTime": {
     "end_time": "2020-03-23T21:31:38.677256Z",
     "start_time": "2020-03-23T21:31:38.659458Z"
    },
    "pycharm": {}
   },
   "outputs": [
    {
     "data": {
      "text/html": [
       "<div>\n",
       "<style scoped>\n",
       "    .dataframe tbody tr th:only-of-type {\n",
       "        vertical-align: middle;\n",
       "    }\n",
       "\n",
       "    .dataframe tbody tr th {\n",
       "        vertical-align: top;\n",
       "    }\n",
       "\n",
       "    .dataframe thead th {\n",
       "        text-align: right;\n",
       "    }\n",
       "</style>\n",
       "<table border=\"1\" class=\"dataframe\">\n",
       "  <thead>\n",
       "    <tr style=\"text-align: right;\">\n",
       "      <th></th>\n",
       "      <th>0</th>\n",
       "      <th>1</th>\n",
       "      <th>2</th>\n",
       "      <th>3</th>\n",
       "      <th>4</th>\n",
       "      <th>5</th>\n",
       "      <th>6</th>\n",
       "      <th>7</th>\n",
       "      <th>8</th>\n",
       "      <th>9</th>\n",
       "      <th>...</th>\n",
       "      <th>53</th>\n",
       "      <th>54</th>\n",
       "      <th>55</th>\n",
       "      <th>56</th>\n",
       "      <th>57</th>\n",
       "      <th>58</th>\n",
       "      <th>59</th>\n",
       "      <th>60</th>\n",
       "      <th>61</th>\n",
       "      <th>62</th>\n",
       "    </tr>\n",
       "    <tr>\n",
       "      <th>DATE</th>\n",
       "      <th></th>\n",
       "      <th></th>\n",
       "      <th></th>\n",
       "      <th></th>\n",
       "      <th></th>\n",
       "      <th></th>\n",
       "      <th></th>\n",
       "      <th></th>\n",
       "      <th></th>\n",
       "      <th></th>\n",
       "      <th></th>\n",
       "      <th></th>\n",
       "      <th></th>\n",
       "      <th></th>\n",
       "      <th></th>\n",
       "      <th></th>\n",
       "      <th></th>\n",
       "      <th></th>\n",
       "      <th></th>\n",
       "      <th></th>\n",
       "      <th></th>\n",
       "    </tr>\n",
       "  </thead>\n",
       "  <tbody>\n",
       "    <tr>\n",
       "      <th>2010-06-21</th>\n",
       "      <td>0.064593</td>\n",
       "      <td>0.068363</td>\n",
       "      <td>0.065454</td>\n",
       "      <td>0.064556</td>\n",
       "      <td>0.064944</td>\n",
       "      <td>0.067934</td>\n",
       "      <td>0.067957</td>\n",
       "      <td>0.066225</td>\n",
       "      <td>0.070135</td>\n",
       "      <td>0.074347</td>\n",
       "      <td>...</td>\n",
       "      <td>0.012578</td>\n",
       "      <td>0.017777</td>\n",
       "      <td>0.014932</td>\n",
       "      <td>0.028979</td>\n",
       "      <td>0.031126</td>\n",
       "      <td>0.030238</td>\n",
       "      <td>0.041782</td>\n",
       "      <td>0.041503</td>\n",
       "      <td>0.042148</td>\n",
       "      <td>0.042811</td>\n",
       "    </tr>\n",
       "    <tr>\n",
       "      <th>2010-06-22</th>\n",
       "      <td>0.068363</td>\n",
       "      <td>0.065454</td>\n",
       "      <td>0.064556</td>\n",
       "      <td>0.064944</td>\n",
       "      <td>0.067934</td>\n",
       "      <td>0.067957</td>\n",
       "      <td>0.066225</td>\n",
       "      <td>0.070135</td>\n",
       "      <td>0.074347</td>\n",
       "      <td>0.075249</td>\n",
       "      <td>...</td>\n",
       "      <td>0.017777</td>\n",
       "      <td>0.014932</td>\n",
       "      <td>0.028979</td>\n",
       "      <td>0.031126</td>\n",
       "      <td>0.030238</td>\n",
       "      <td>0.041782</td>\n",
       "      <td>0.041503</td>\n",
       "      <td>0.042148</td>\n",
       "      <td>0.042811</td>\n",
       "      <td>0.040867</td>\n",
       "    </tr>\n",
       "    <tr>\n",
       "      <th>2010-06-23</th>\n",
       "      <td>0.065454</td>\n",
       "      <td>0.064556</td>\n",
       "      <td>0.064944</td>\n",
       "      <td>0.067934</td>\n",
       "      <td>0.067957</td>\n",
       "      <td>0.066225</td>\n",
       "      <td>0.070135</td>\n",
       "      <td>0.074347</td>\n",
       "      <td>0.075249</td>\n",
       "      <td>0.072097</td>\n",
       "      <td>...</td>\n",
       "      <td>0.014932</td>\n",
       "      <td>0.028979</td>\n",
       "      <td>0.031126</td>\n",
       "      <td>0.030238</td>\n",
       "      <td>0.041782</td>\n",
       "      <td>0.041503</td>\n",
       "      <td>0.042148</td>\n",
       "      <td>0.042811</td>\n",
       "      <td>0.040867</td>\n",
       "      <td>0.032799</td>\n",
       "    </tr>\n",
       "    <tr>\n",
       "      <th>2010-06-24</th>\n",
       "      <td>0.064556</td>\n",
       "      <td>0.064944</td>\n",
       "      <td>0.067934</td>\n",
       "      <td>0.067957</td>\n",
       "      <td>0.066225</td>\n",
       "      <td>0.070135</td>\n",
       "      <td>0.074347</td>\n",
       "      <td>0.075249</td>\n",
       "      <td>0.072097</td>\n",
       "      <td>0.073896</td>\n",
       "      <td>...</td>\n",
       "      <td>0.028979</td>\n",
       "      <td>0.031126</td>\n",
       "      <td>0.030238</td>\n",
       "      <td>0.041782</td>\n",
       "      <td>0.041503</td>\n",
       "      <td>0.042148</td>\n",
       "      <td>0.042811</td>\n",
       "      <td>0.040867</td>\n",
       "      <td>0.032799</td>\n",
       "      <td>0.031324</td>\n",
       "    </tr>\n",
       "    <tr>\n",
       "      <th>2010-06-25</th>\n",
       "      <td>0.064944</td>\n",
       "      <td>0.067934</td>\n",
       "      <td>0.067957</td>\n",
       "      <td>0.066225</td>\n",
       "      <td>0.070135</td>\n",
       "      <td>0.074347</td>\n",
       "      <td>0.075249</td>\n",
       "      <td>0.072097</td>\n",
       "      <td>0.073896</td>\n",
       "      <td>0.077472</td>\n",
       "      <td>...</td>\n",
       "      <td>0.031126</td>\n",
       "      <td>0.030238</td>\n",
       "      <td>0.041782</td>\n",
       "      <td>0.041503</td>\n",
       "      <td>0.042148</td>\n",
       "      <td>0.042811</td>\n",
       "      <td>0.040867</td>\n",
       "      <td>0.032799</td>\n",
       "      <td>0.031324</td>\n",
       "      <td>0.023049</td>\n",
       "    </tr>\n",
       "  </tbody>\n",
       "</table>\n",
       "<p>5 rows × 63 columns</p>\n",
       "</div>"
      ],
      "text/plain": [
       "                  0         1         2         3         4         5   \\\n",
       "DATE                                                                     \n",
       "2010-06-21  0.064593  0.068363  0.065454  0.064556  0.064944  0.067934   \n",
       "2010-06-22  0.068363  0.065454  0.064556  0.064944  0.067934  0.067957   \n",
       "2010-06-23  0.065454  0.064556  0.064944  0.067934  0.067957  0.066225   \n",
       "2010-06-24  0.064556  0.064944  0.067934  0.067957  0.066225  0.070135   \n",
       "2010-06-25  0.064944  0.067934  0.067957  0.066225  0.070135  0.074347   \n",
       "\n",
       "                  6         7         8         9   ...        53        54  \\\n",
       "DATE                                                ...                       \n",
       "2010-06-21  0.067957  0.066225  0.070135  0.074347  ...  0.012578  0.017777   \n",
       "2010-06-22  0.066225  0.070135  0.074347  0.075249  ...  0.017777  0.014932   \n",
       "2010-06-23  0.070135  0.074347  0.075249  0.072097  ...  0.014932  0.028979   \n",
       "2010-06-24  0.074347  0.075249  0.072097  0.073896  ...  0.028979  0.031126   \n",
       "2010-06-25  0.075249  0.072097  0.073896  0.077472  ...  0.031126  0.030238   \n",
       "\n",
       "                  55        56        57        58        59        60  \\\n",
       "DATE                                                                     \n",
       "2010-06-21  0.014932  0.028979  0.031126  0.030238  0.041782  0.041503   \n",
       "2010-06-22  0.028979  0.031126  0.030238  0.041782  0.041503  0.042148   \n",
       "2010-06-23  0.031126  0.030238  0.041782  0.041503  0.042148  0.042811   \n",
       "2010-06-24  0.030238  0.041782  0.041503  0.042148  0.042811  0.040867   \n",
       "2010-06-25  0.041782  0.041503  0.042148  0.042811  0.040867  0.032799   \n",
       "\n",
       "                  61        62  \n",
       "DATE                            \n",
       "2010-06-21  0.042148  0.042811  \n",
       "2010-06-22  0.042811  0.040867  \n",
       "2010-06-23  0.040867  0.032799  \n",
       "2010-06-24  0.032799  0.031324  \n",
       "2010-06-25  0.031324  0.023049  \n",
       "\n",
       "[5 rows x 63 columns]"
      ]
     },
     "execution_count": 9,
     "metadata": {},
     "output_type": "execute_result"
    }
   ],
   "source": [
    "X.head()"
   ]
  },
  {
   "cell_type": "code",
   "execution_count": 10,
   "metadata": {
    "ExecuteTime": {
     "end_time": "2020-03-23T21:31:38.684313Z",
     "start_time": "2020-03-23T21:31:38.678031Z"
    },
    "pycharm": {}
   },
   "outputs": [
    {
     "data": {
      "text/plain": [
       "DATE\n",
       "2010-06-21    0.040867\n",
       "2010-06-22    0.032799\n",
       "2010-06-23    0.031324\n",
       "2010-06-24    0.023049\n",
       "2010-06-25    0.024434\n",
       "dtype: float64"
      ]
     },
     "execution_count": 10,
     "metadata": {},
     "output_type": "execute_result"
    }
   ],
   "source": [
    "y.head()"
   ]
  },
  {
   "cell_type": "code",
   "execution_count": 11,
   "metadata": {
    "ExecuteTime": {
     "end_time": "2020-03-23T21:31:38.692914Z",
     "start_time": "2020-03-23T21:31:38.685384Z"
    },
    "pycharm": {}
   },
   "outputs": [
    {
     "data": {
      "text/plain": [
       "(2400, 63)"
      ]
     },
     "execution_count": 11,
     "metadata": {},
     "output_type": "execute_result"
    }
   ],
   "source": [
    "X.shape"
   ]
  },
  {
   "cell_type": "markdown",
   "metadata": {
    "pycharm": {}
   },
   "source": [
    "## Train-test split\n",
    "\n",
    "To respect the time series nature of the data, we set aside the data at the end of the sample as hold-out or test set. More specifically, we'll use the data for 2018."
   ]
  },
  {
   "cell_type": "code",
   "execution_count": 12,
   "metadata": {
    "ExecuteTime": {
     "end_time": "2020-03-23T21:31:38.852059Z",
     "start_time": "2020-03-23T21:31:38.693646Z"
    },
    "pycharm": {}
   },
   "outputs": [
    {
     "data": {
      "image/png": "[encoded data removed]",
      "text/plain": [
       "<Figure size 432x288 with 1 Axes>"
      ]
     },
     "metadata": {},
     "output_type": "display_data"
    }
   ],
   "source": [
    "sp500_scaled.plot(lw=2);"
   ]
  },
  {
   "cell_type": "code",
   "execution_count": 13,
   "metadata": {
    "ExecuteTime": {
     "end_time": "2020-03-23T21:31:38.856911Z",
     "start_time": "2020-03-23T21:31:38.852926Z"
    },
    "pycharm": {}
   },
   "outputs": [],
   "source": [
    "X_train = X[:'2018'].values.reshape(-1, window_size, 1)\n",
    "y_train = y[:'2018']\n",
    "\n",
    "# keep the last year for testing\n",
    "X_test = X['2019'].values.reshape(-1, window_size, 1)\n",
    "y_test = y['2019']"
   ]
  },
  {
   "cell_type": "code",
   "execution_count": 14,
   "metadata": {
    "ExecuteTime": {
     "end_time": "2020-03-23T21:31:38.868266Z",
     "start_time": "2020-03-23T21:31:38.857791Z"
    },
    "pycharm": {}
   },
   "outputs": [],
   "source": [
    "n_obs, window_size, n_features = X_train.shape"
   ]
  },
  {
   "cell_type": "code",
   "execution_count": 15,
   "metadata": {
    "ExecuteTime": {
     "end_time": "2020-03-23T21:31:38.876762Z",
     "start_time": "2020-03-23T21:31:38.869149Z"
    },
    "pycharm": {}
   },
   "outputs": [
    {
     "data": {
      "text/plain": [
       "(2148,)"
      ]
     },
     "execution_count": 15,
     "metadata": {},
     "output_type": "execute_result"
    }
   ],
   "source": [
    "y_train.shape"
   ]
  },
  {
   "cell_type": "markdown",
   "metadata": {
    "pycharm": {}
   },
   "source": [
    "## Keras LSTM Layer"
   ]
  },
  {
   "cell_type": "markdown",
   "metadata": {
    "pycharm": {}
   },
   "source": [
    "Keras has several built-in RNN layers with various configuration options described in detail in the [documentation](https://keras.io/layers/recurrent/)."
   ]
  },
  {
   "cell_type": "markdown",
   "metadata": {
    "ExecuteTime": {
     "end_time": "2020-03-23T18:41:32.906454Z",
     "start_time": "2020-03-23T18:41:32.655189Z"
    },
    "pycharm": {}
   },
   "source": [
    "```\n",
    "LSTM(units,\n",
    "     activation='tanh',\n",
    "     recurrent_activation='hard_sigmoid',\n",
    "     use_bias=True,\n",
    "     kernel_initializer='glorot_uniform',\n",
    "     recurrent_initializer='orthogonal',\n",
    "     bias_initializer='zeros',\n",
    "     unit_forget_bias=True,\n",
    "     kernel_regularizer=None,\n",
    "     recurrent_regularizer=None,\n",
    "     bias_regularizer=None,\n",
    "     activity_regularizer=None,\n",
    "     kernel_constraint=None,\n",
    "     recurrent_constraint=None,\n",
    "     bias_constraint=None,\n",
    "     dropout=0.0,\n",
    "     recurrent_dropout=0.0,\n",
    "     implementation=1,\n",
    "     return_sequences=False,\n",
    "     return_state=False,\n",
    "     go_backwards=False,\n",
    "     stateful=False,\n",
    "     unroll=False)\n",
    " ```"
   ]
  },
  {
   "cell_type": "markdown",
   "metadata": {
    "pycharm": {}
   },
   "source": [
    "##  Define the Model Architecture\n",
    "\n",
    "Having created input/output pairs out of our time series and cut this into training/testing sets, we can now begin setting up our RNN.  We use Keras to quickly build a two hidden layer RNN of the following specifications\n",
    "\n",
    "- layer 1 uses an LSTM module with 20 hidden units (note here the input_shape = (window_size,1))\n",
    "- layer 2 uses a fully connected module with one unit\n",
    "- the 'mean_squared_error' loss should be used (remember: we are performing regression here)\n",
    "\n",
    "This can be constructed using just a few lines - see e.g., the [general Keras documentation](https://keras.io/getting-started/sequential-model-guide/) and the [LTSM documentation in particular](https://keras.io/layers/recurrent/) for examples of how to quickly use Keras to build neural network models.  Make sure you are initializing your optimizer given the [keras-recommended approach for RNNs](https://keras.io/optimizers/) "
   ]
  },
  {
   "cell_type": "code",
   "execution_count": 16,
   "metadata": {
    "ExecuteTime": {
     "end_time": "2020-03-23T21:31:39.546916Z",
     "start_time": "2020-03-23T21:31:38.878081Z"
    },
    "pycharm": {}
   },
   "outputs": [],
   "source": [
    "rnn = Sequential([\n",
    "    LSTM(units=10, \n",
    "         input_shape=(window_size, n_features), name='LSTM'),\n",
    "    Dense(1, name='Output')\n",
    "])"
   ]
  },
  {
   "cell_type": "markdown",
   "metadata": {
    "pycharm": {}
   },
   "source": [
    "The summary shows that the model has 1,781 parameters:"
   ]
  },
  {
   "cell_type": "code",
   "execution_count": 17,
   "metadata": {
    "ExecuteTime": {
     "end_time": "2020-03-23T21:31:39.551714Z",
     "start_time": "2020-03-23T21:31:39.547845Z"
    },
    "pycharm": {},
    "scrolled": true
   },
   "outputs": [
    {
     "name": "stdout",
     "output_type": "stream",
     "text": [
      "Model: \"sequential\"\n",
      "_________________________________________________________________\n",
      "Layer (type)                 Output Shape              Param #   \n",
      "=================================================================\n",
      "LSTM (LSTM)                  (None, 10)                480       \n",
      "_________________________________________________________________\n",
      "Output (Dense)               (None, 1)                 11        \n",
      "=================================================================\n",
      "Total params: 491\n",
      "Trainable params: 491\n",
      "Non-trainable params: 0\n",
      "_________________________________________________________________\n"
     ]
    }
   ],
   "source": [
    "rnn.summary()"
   ]
  },
  {
   "cell_type": "markdown",
   "metadata": {
    "pycharm": {}
   },
   "source": [
    "## Train the Model"
   ]
  },
  {
   "cell_type": "markdown",
   "metadata": {
    "pycharm": {}
   },
   "source": [
    "We train the model using the RMSProp optimizer recommended for RNN with default settings and compile the model with mean squared error for this regression problem:"
   ]
  },
  {
   "cell_type": "code",
   "execution_count": 18,
   "metadata": {
    "ExecuteTime": {
     "end_time": "2020-03-23T21:31:39.564646Z",
     "start_time": "2020-03-23T21:31:39.552918Z"
    },
    "pycharm": {}
   },
   "outputs": [],
   "source": [
    "optimizer = keras.optimizers.RMSprop(lr=0.001,\n",
    "                                     rho=0.9,\n",
    "                                     epsilon=1e-08,\n",
    "                                     decay=0.0)"
   ]
  },
  {
   "cell_type": "code",
   "execution_count": 19,
   "metadata": {
    "ExecuteTime": {
     "end_time": "2020-03-23T21:31:39.582120Z",
     "start_time": "2020-03-23T21:31:39.566136Z"
    },
    "pycharm": {}
   },
   "outputs": [],
   "source": [
    "rnn.compile(loss='mean_squared_error', \n",
    "            optimizer=optimizer)"
   ]
  },
  {
   "cell_type": "markdown",
   "metadata": {
    "pycharm": {}
   },
   "source": [
    "We define an EarlyStopping callback and train the model for up to 100 episodes. "
   ]
  },
  {
   "cell_type": "code",
   "execution_count": 20,
   "metadata": {
    "ExecuteTime": {
     "end_time": "2020-03-23T21:31:39.585168Z",
     "start_time": "2020-03-23T21:31:39.583251Z"
    },
    "pycharm": {}
   },
   "outputs": [],
   "source": [
    "early_stopping = EarlyStopping(monitor='val_loss', \n",
    "                              patience=50,\n",
    "                              restore_best_weights=True)"
   ]
  },
  {
   "cell_type": "code",
   "execution_count": 21,
   "metadata": {
    "ExecuteTime": {
     "end_time": "2020-03-23T21:32:25.614676Z",
     "start_time": "2020-03-23T21:31:39.586085Z"
    },
    "pycharm": {},
    "scrolled": false
   },
   "outputs": [],
   "source": [
    "lstm_training = rnn.fit(X_train,\n",
    "                        y_train,\n",
    "                        epochs=500,\n",
    "                        batch_size=20,\n",
    "                        shuffle=True,\n",
    "                        validation_data=(X_test, y_test),\n",
    "                        callbacks=[early_stopping],\n",
    "                        verbose=0)"
   ]
  },
  {
   "cell_type": "markdown",
   "metadata": {
    "pycharm": {}
   },
   "source": [
    "Training stops after 51 epochs; the `early_stopping` callback restores the weights for the best model (after 41 epochs)"
   ]
  },
  {
   "cell_type": "markdown",
   "metadata": {
    "pycharm": {}
   },
   "source": [
    "## Evaluate model performance"
   ]
  },
  {
   "cell_type": "markdown",
   "metadata": {
    "pycharm": {}
   },
   "source": [
    "The following charts illustrate the out-of-sample forecast performance that generally track the index development in 2018 well with a test RMSE of 0.015 on the rescaled price series. The test IC is 95.85%. "
   ]
  },
  {
   "cell_type": "markdown",
   "metadata": {
    "pycharm": {}
   },
   "source": [
    "The loss history shows how the model’s validation error converges to an error level that illustrates the noise inherent in predicting stock prices:"
   ]
  },
  {
   "cell_type": "code",
   "execution_count": 22,
   "metadata": {
    "ExecuteTime": {
     "end_time": "2020-03-23T21:32:26.365881Z",
     "start_time": "2020-03-23T21:32:25.615549Z"
    },
    "pycharm": {}
   },
   "outputs": [
    {
     "data": {
      "image/png": "[encoded data removed]",
      "text/plain": [
       "<Figure size 864x288 with 1 Axes>"
      ]
     },
     "metadata": {},
     "output_type": "display_data"
    }
   ],
   "source": [
    "fig, ax = plt.subplots(figsize=(12, 4))\n",
    "loss_history = pd.DataFrame(lstm_training.history).pow(.5)\n",
    "loss_history.index += 1\n",
    "best_rmse = loss_history.val_loss.min()\n",
    "best_epoch = loss_history.val_loss.idxmin()\n",
    "loss_history.columns=['Training RMSE', 'Validation RMSE']\n",
    "title = f'Best Validation RMSE: {best_rmse:.4%}'\n",
    "loss_history.rolling(5).mean().plot(logy=True, lw=2, title=title, ax=ax)\n",
    "ax.axvline(best_epoch, ls='--', lw=1, c='k')\n",
    "fig.tight_layout()\n",
    "fig.savefig('figures/rnn_sp500_error', dpi=300);"
   ]
  },
  {
   "cell_type": "code",
   "execution_count": 23,
   "metadata": {
    "ExecuteTime": {
     "end_time": "2020-03-23T21:32:26.552487Z",
     "start_time": "2020-03-23T21:32:26.367496Z"
    },
    "pycharm": {}
   },
   "outputs": [
    {
     "name": "stdout",
     "output_type": "stream",
     "text": [
      "Train RMSE: 0.0083 | Test RMSE: 0.0100\n"
     ]
    }
   ],
   "source": [
    "train_rmse_scaled = np.sqrt(rnn.evaluate(X_train, y_train, verbose=0))\n",
    "test_rmse_scaled = np.sqrt(rnn.evaluate(X_test, y_test, verbose=0))\n",
    "print(f'Train RMSE: {train_rmse_scaled:.4f} | Test RMSE: {test_rmse_scaled:.4f}')"
   ]
  },
  {
   "cell_type": "code",
   "execution_count": 24,
   "metadata": {
    "ExecuteTime": {
     "end_time": "2020-03-23T21:32:26.865170Z",
     "start_time": "2020-03-23T21:32:26.553462Z"
    }
   },
   "outputs": [],
   "source": [
    "train_predict_scaled = rnn.predict(X_train)\n",
    "test_predict_scaled = rnn.predict(X_test)"
   ]
  },
  {
   "cell_type": "code",
   "execution_count": 25,
   "metadata": {
    "ExecuteTime": {
     "end_time": "2020-03-23T21:32:26.870639Z",
     "start_time": "2020-03-23T21:32:26.866096Z"
    }
   },
   "outputs": [
    {
     "name": "stdout",
     "output_type": "stream",
     "text": [
      "Train IC: 0.9989 | Test IC: 0.9818\n"
     ]
    }
   ],
   "source": [
    "train_ic = spearmanr(y_train, train_predict_scaled)[0]\n",
    "test_ic = spearmanr(y_test, test_predict_scaled)[0]\n",
    "print(f'Train IC: {train_ic:.4f} | Test IC: {test_ic:.4f}')"
   ]
  },
  {
   "cell_type": "markdown",
   "metadata": {},
   "source": [
    "### Rescale predictions"
   ]
  },
  {
   "cell_type": "code",
   "execution_count": 26,
   "metadata": {
    "ExecuteTime": {
     "end_time": "2020-03-23T21:32:26.885696Z",
     "start_time": "2020-03-23T21:32:26.871537Z"
    }
   },
   "outputs": [],
   "source": [
    "train_predict = pd.Series(scaler.inverse_transform(train_predict_scaled).squeeze(), index=y_train.index)\n",
    "test_predict = (pd.Series(scaler.inverse_transform(test_predict_scaled)\n",
    "                          .squeeze(), \n",
    "                          index=y_test.index))"
   ]
  },
  {
   "cell_type": "code",
   "execution_count": 27,
   "metadata": {
    "ExecuteTime": {
     "end_time": "2020-03-23T21:32:26.894674Z",
     "start_time": "2020-03-23T21:32:26.886531Z"
    }
   },
   "outputs": [],
   "source": [
    "y_train_rescaled = scaler.inverse_transform(y_train.to_frame()).squeeze()\n",
    "y_test_rescaled = scaler.inverse_transform(y_test.to_frame()).squeeze()"
   ]
  },
  {
   "cell_type": "code",
   "execution_count": 28,
   "metadata": {
    "ExecuteTime": {
     "end_time": "2020-03-23T21:32:26.903770Z",
     "start_time": "2020-03-23T21:32:26.895626Z"
    }
   },
   "outputs": [
    {
     "data": {
      "text/plain": [
       "'Train RMSE: 18.30 | Test RMSE: 22.14'"
      ]
     },
     "execution_count": 28,
     "metadata": {},
     "output_type": "execute_result"
    }
   ],
   "source": [
    "train_rmse = np.sqrt(mean_squared_error(train_predict, y_train_rescaled))\n",
    "test_rmse = np.sqrt(mean_squared_error(test_predict, y_test_rescaled))\n",
    "f'Train RMSE: {train_rmse:.2f} | Test RMSE: {test_rmse:.2f}'"
   ]
  },
  {
   "cell_type": "code",
   "execution_count": 29,
   "metadata": {
    "ExecuteTime": {
     "end_time": "2020-03-23T21:32:26.919713Z",
     "start_time": "2020-03-23T21:32:26.904650Z"
    }
   },
   "outputs": [],
   "source": [
    "sp500['Train Predictions'] = train_predict\n",
    "sp500['Test Predictions'] = test_predict\n",
    "sp500 = sp500.join(train_predict.to_frame('predictions').assign(data='Train')\n",
    "                        .append(test_predict.to_frame('predictions').assign(data='Test')))"
   ]
  },
  {
   "cell_type": "markdown",
   "metadata": {},
   "source": [
    "### Plot Results"
   ]
  },
  {
   "cell_type": "code",
   "execution_count": 30,
   "metadata": {
    "ExecuteTime": {
     "end_time": "2020-03-23T21:32:28.462495Z",
     "start_time": "2020-03-23T21:32:26.920824Z"
    },
    "pycharm": {},
    "scrolled": true
   },
   "outputs": [
    {
     "data": {
      "image/png": "[encoded data removed]",
      "text/plain": [
       "<Figure size 1008x504 with 4 Axes>"
      ]
     },
     "metadata": {},
     "output_type": "display_data"
    }
   ],
   "source": [
    "fig=plt.figure(figsize=(14,7))\n",
    "ax1 = plt.subplot(221)\n",
    "ax2 = plt.subplot(222)\n",
    "ax3 = plt.subplot(223)\n",
    "ax4 = plt.subplot(224, sharex = ax2, sharey=ax2)\n",
    "\n",
    "sp500.loc['2015':, 'SP500'].plot(lw=4, ax=ax1, c='k')\n",
    "sp500.loc['2015':, ['Test Predictions', 'Train Predictions']].plot(lw=1, ax=ax1, ls='--')\n",
    "ax1.set_title('In- and Out-of-sample Predictions')\n",
    "\n",
    "sns.scatterplot(x='SP500', y='predictions', data=sp500, hue='data', ax=ax3)\n",
    "ax3.text(x=.02, y=.95, s=f'Test IC ={test_ic:.2%}', transform=ax3.transAxes)\n",
    "ax3.text(x=.02, y=.87, s=f'Train IC={train_ic:.2%}', transform=ax3.transAxes)\n",
    "ax3.set_title('Correlation')\n",
    "ax3.legend(loc='lower right')\n",
    "\n",
    "sns.distplot(train_predict.squeeze()- y_train_rescaled, ax=ax2)\n",
    "ax2.set_title('Train Error')\n",
    "ax2.text(x=.03, y=.92, s=f'Train RMSE ={train_rmse:.4f}', transform=ax2.transAxes)\n",
    "sns.distplot(test_predict.squeeze()-y_test_rescaled, ax=ax4)\n",
    "ax4.set_title('Test Error')\n",
    "ax4.text(x=.03, y=.92, s=f'Test RMSE ={test_rmse:.4f}', transform=ax4.transAxes)\n",
    "\n",
    "fig.tight_layout()\n",
    "fig.savefig('figures/rnn_sp500_regression', dpi=300);"
   ]
  }
 ],
 "metadata": {
  "anaconda-cloud": {},
  "kernelspec": {
   "display_name": "Python 3",
   "language": "python",
   "name": "python3"
  },
  "language_info": {
   "codemirror_mode": {
    "name": "ipython",
    "version": 3
   },
   "file_extension": ".py",
   "mimetype": "text/x-python",
   "name": "python",
   "nbconvert_exporter": "python",
   "pygments_lexer": "ipython3",
   "version": "3.7.6"
  },
  "toc": {
   "base_numbering": 1,
   "nav_menu": {},
   "number_sections": true,
   "sideBar": true,
   "skip_h1_title": true,
   "title_cell": "Table of Contents",
   "title_sidebar": "Contents",
   "toc_cell": false,
   "toc_position": {
    "height": "calc(100% - 180px)",
    "left": "10px",
    "top": "150px",
    "width": "318.55px"
   },
   "toc_section_display": true,
   "toc_window_display": true
  }
 },
 "nbformat": 4,
 "nbformat_minor": 1
}
