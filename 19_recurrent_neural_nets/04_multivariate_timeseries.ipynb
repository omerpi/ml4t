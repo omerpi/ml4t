{
 "cells": [
  {
   "cell_type": "markdown",
   "metadata": {},
   "source": [
    "# Multivariate Time Series Regression"
   ]
  },
  {
   "cell_type": "markdown",
   "metadata": {},
   "source": [
    "So far, we have limited our modeling efforts to single time series. RNNs are naturally well suited to multivariate time series and represent a non-linear alternative to the Vector Autoregressive (VAR) models we covered in Chapter 8, Time Series Models. "
   ]
  },
  {
   "cell_type": "markdown",
   "metadata": {},
   "source": [
    "## Run inside docker container for GPU acceleration"
   ]
  },
  {
   "cell_type": "markdown",
   "metadata": {},
   "source": [
    "See [tensorflow guide](https://www.tensorflow.org/install/docker) and more detailed [instructions](https://blog.sicara.com/tensorflow-gpu-opencv-jupyter-docker-10705b6cd1d)"
   ]
  },
  {
   "cell_type": "markdown",
   "metadata": {},
   "source": [
    "`docker run -it -p 8889:8888 -v /path/to/machine-learning-for-trading/18_recurrent_neural_nets:/rnn --name tensorflow tensorflow/tensorflow:latest-gpu-py3 bash`"
   ]
  },
  {
   "cell_type": "markdown",
   "metadata": {},
   "source": [
    "Inside docker container: \n",
    "`jupyter notebook --ip 0.0.0.0 --no-browser --allow-root`"
   ]
  },
  {
   "cell_type": "markdown",
   "metadata": {},
   "source": [
    "## Imports & Settings"
   ]
  },
  {
   "cell_type": "code",
   "execution_count": 1,
   "metadata": {
    "ExecuteTime": {
     "end_time": "2020-03-24T02:17:29.272770Z",
     "start_time": "2020-03-24T02:17:27.947522Z"
    }
   },
   "outputs": [
    {
     "name": "stderr",
     "output_type": "stream",
     "text": [
      "/home/stefan/.pyenv/versions/miniconda3-latest/envs/ml4t-dl/lib/python3.7/site-packages/pandas_datareader/compat/__init__.py:7: FutureWarning: pandas.util.testing is deprecated. Use the functions in the public API at pandas.testing instead.\n",
      "  from pandas.util.testing import assert_frame_equal\n"
     ]
    }
   ],
   "source": [
    "%matplotlib inline\n",
    "import numpy as np\n",
    "import pandas as pd\n",
    "import matplotlib.pyplot as plt\n",
    "import seaborn as sns\n",
    "import pandas_datareader.data as web\n",
    "from datetime import datetime, date\n",
    "from sklearn.metrics import mean_squared_error, mean_absolute_error\n",
    "from sklearn.preprocessing import minmax_scale\n",
    "\n",
    "from tensorflow.keras.callbacks import ModelCheckpoint, EarlyStopping\n",
    "from tensorflow.keras.models import Sequential, Model\n",
    "from tensorflow.keras.layers import Dense, LSTM, Input, concatenate, Embedding, Reshape\n",
    "from tensorflow import keras\n",
    "import tensorflow.keras.backend as K\n",
    "import tensorflow as tf"
   ]
  },
  {
   "cell_type": "code",
   "execution_count": 2,
   "metadata": {
    "ExecuteTime": {
     "end_time": "2020-03-24T02:17:29.278725Z",
     "start_time": "2020-03-24T02:17:29.273877Z"
    }
   },
   "outputs": [],
   "source": [
    "sns.set_style('whitegrid')\n",
    "np.random.seed(42)\n",
    "K.clear_session()"
   ]
  },
  {
   "cell_type": "markdown",
   "metadata": {},
   "source": [
    "## Load Data"
   ]
  },
  {
   "cell_type": "markdown",
   "metadata": {},
   "source": [
    "For comparison, we illustrate the application of RNNs to modeling and forecasting several time series using the same dataset we used for the VAR example, monthly data on consumer sentiment, and industrial production from the Federal Reserve's FRED service in Chapter 8, Time Series Models:"
   ]
  },
  {
   "cell_type": "code",
   "execution_count": 3,
   "metadata": {
    "ExecuteTime": {
     "end_time": "2020-03-24T02:17:29.875388Z",
     "start_time": "2020-03-24T02:17:29.280944Z"
    }
   },
   "outputs": [
    {
     "name": "stdout",
     "output_type": "stream",
     "text": [
      "<class 'pandas.core.frame.DataFrame'>\n",
      "DatetimeIndex: 456 entries, 1980-01-01 to 2017-12-01\n",
      "Data columns (total 2 columns):\n",
      " #   Column     Non-Null Count  Dtype  \n",
      "---  ------     --------------  -----  \n",
      " 0   sentiment  456 non-null    float64\n",
      " 1   ip         456 non-null    float64\n",
      "dtypes: float64(2)\n",
      "memory usage: 10.7 KB\n"
     ]
    }
   ],
   "source": [
    "df = web.DataReader(['UMCSENT', 'IPGMFN'], 'fred', '1980', '2017-12').dropna()\n",
    "df.columns = ['sentiment', 'ip']\n",
    "df.info()"
   ]
  },
  {
   "cell_type": "code",
   "execution_count": 4,
   "metadata": {
    "ExecuteTime": {
     "end_time": "2020-03-24T02:17:29.890917Z",
     "start_time": "2020-03-24T02:17:29.879690Z"
    }
   },
   "outputs": [
    {
     "data": {
      "text/html": [
       "<div>\n",
       "<style scoped>\n",
       "    .dataframe tbody tr th:only-of-type {\n",
       "        vertical-align: middle;\n",
       "    }\n",
       "\n",
       "    .dataframe tbody tr th {\n",
       "        vertical-align: top;\n",
       "    }\n",
       "\n",
       "    .dataframe thead th {\n",
       "        text-align: right;\n",
       "    }\n",
       "</style>\n",
       "<table border=\"1\" class=\"dataframe\">\n",
       "  <thead>\n",
       "    <tr style=\"text-align: right;\">\n",
       "      <th></th>\n",
       "      <th>sentiment</th>\n",
       "      <th>ip</th>\n",
       "    </tr>\n",
       "    <tr>\n",
       "      <th>DATE</th>\n",
       "      <th></th>\n",
       "      <th></th>\n",
       "    </tr>\n",
       "  </thead>\n",
       "  <tbody>\n",
       "    <tr>\n",
       "      <th>1980-01-01</th>\n",
       "      <td>67.0</td>\n",
       "      <td>46.8770</td>\n",
       "    </tr>\n",
       "    <tr>\n",
       "      <th>1980-02-01</th>\n",
       "      <td>66.9</td>\n",
       "      <td>47.9757</td>\n",
       "    </tr>\n",
       "    <tr>\n",
       "      <th>1980-03-01</th>\n",
       "      <td>56.5</td>\n",
       "      <td>48.4793</td>\n",
       "    </tr>\n",
       "    <tr>\n",
       "      <th>1980-04-01</th>\n",
       "      <td>52.7</td>\n",
       "      <td>47.0662</td>\n",
       "    </tr>\n",
       "    <tr>\n",
       "      <th>1980-05-01</th>\n",
       "      <td>51.7</td>\n",
       "      <td>45.6995</td>\n",
       "    </tr>\n",
       "  </tbody>\n",
       "</table>\n",
       "</div>"
      ],
      "text/plain": [
       "            sentiment       ip\n",
       "DATE                          \n",
       "1980-01-01       67.0  46.8770\n",
       "1980-02-01       66.9  47.9757\n",
       "1980-03-01       56.5  48.4793\n",
       "1980-04-01       52.7  47.0662\n",
       "1980-05-01       51.7  45.6995"
      ]
     },
     "execution_count": 4,
     "metadata": {},
     "output_type": "execute_result"
    }
   ],
   "source": [
    "df['1980':].head()"
   ]
  },
  {
   "cell_type": "code",
   "execution_count": 5,
   "metadata": {
    "ExecuteTime": {
     "end_time": "2020-03-24T02:17:30.295570Z",
     "start_time": "2020-03-24T02:17:29.892938Z"
    }
   },
   "outputs": [
    {
     "data": {
      "image/png": "[encoded data removed]",
      "text/plain": [
       "<Figure size 432x288 with 1 Axes>"
      ]
     },
     "metadata": {},
     "output_type": "display_data"
    }
   ],
   "source": [
    "df.plot();"
   ]
  },
  {
   "cell_type": "markdown",
   "metadata": {},
   "source": [
    "## Prepare Data"
   ]
  },
  {
   "cell_type": "markdown",
   "metadata": {},
   "source": [
    "### Scaling"
   ]
  },
  {
   "cell_type": "markdown",
   "metadata": {},
   "source": [
    "First we scale the data to the [0,1] interval:"
   ]
  },
  {
   "cell_type": "code",
   "execution_count": 6,
   "metadata": {
    "ExecuteTime": {
     "end_time": "2020-03-24T02:17:30.300465Z",
     "start_time": "2020-03-24T02:17:30.296475Z"
    }
   },
   "outputs": [],
   "source": [
    "df_scaled = df.apply(minmax_scale)"
   ]
  },
  {
   "cell_type": "markdown",
   "metadata": {},
   "source": [
    "### Stationarity"
   ]
  },
  {
   "cell_type": "markdown",
   "metadata": {},
   "source": [
    "We apply the same transformation—annual difference for both series, prior log-transform for industrial production—to achieve stationarity that we used in Chapter 8 on Time Series Models:"
   ]
  },
  {
   "cell_type": "code",
   "execution_count": 7,
   "metadata": {
    "ExecuteTime": {
     "end_time": "2020-03-24T02:17:30.312003Z",
     "start_time": "2020-03-24T02:17:30.301330Z"
    }
   },
   "outputs": [],
   "source": [
    "df_transformed = pd.DataFrame({'ip': np.log(df.ip).diff(12),\n",
    "                              'sentiment': df.sentiment.diff(12)}).dropna()"
   ]
  },
  {
   "cell_type": "markdown",
   "metadata": {},
   "source": [
    "We can reshape directly to get non-overlapping series, i.e., one sample for each year (works only if the number of samples is divisible by window size):"
   ]
  },
  {
   "cell_type": "code",
   "execution_count": 8,
   "metadata": {
    "ExecuteTime": {
     "end_time": "2020-03-24T02:17:30.321416Z",
     "start_time": "2020-03-24T02:17:30.313352Z"
    }
   },
   "outputs": [
    {
     "data": {
      "text/plain": [
       "(38, 12, 2)"
      ]
     },
     "execution_count": 8,
     "metadata": {},
     "output_type": "execute_result"
    }
   ],
   "source": [
    "df_scaled.values.reshape(-1, 12, 2).shape"
   ]
  },
  {
   "cell_type": "markdown",
   "metadata": {},
   "source": [
    "### Reshape data into RNN format"
   ]
  },
  {
   "cell_type": "markdown",
   "metadata": {},
   "source": [
    "The create_multivariate_rnn_data function transforms a dataset of several time series into the shape required by the Keras RNN layers, namely `n_samples` x `window_size` x `n_series`, as follows:"
   ]
  },
  {
   "cell_type": "code",
   "execution_count": 9,
   "metadata": {
    "ExecuteTime": {
     "end_time": "2020-03-24T02:17:30.329250Z",
     "start_time": "2020-03-24T02:17:30.323093Z"
    }
   },
   "outputs": [],
   "source": [
    "def create_multivariate_rnn_data(data, window_size):\n",
    "    y = data[window_size:]\n",
    "    n = data.shape[0]\n",
    "    X = np.stack([data[i: j] for i, j in enumerate(range(window_size, n))], axis=0)\n",
    "    return X, y"
   ]
  },
  {
   "cell_type": "markdown",
   "metadata": {},
   "source": [
    "We will use window_size of 24 months and obtain the desired inputs for our RNN model, as follows:"
   ]
  },
  {
   "cell_type": "code",
   "execution_count": 10,
   "metadata": {
    "ExecuteTime": {
     "end_time": "2020-03-24T02:17:30.340033Z",
     "start_time": "2020-03-24T02:17:30.330583Z"
    }
   },
   "outputs": [],
   "source": [
    "window_size = 24"
   ]
  },
  {
   "cell_type": "code",
   "execution_count": 11,
   "metadata": {
    "ExecuteTime": {
     "end_time": "2020-03-24T02:17:30.392475Z",
     "start_time": "2020-03-24T02:17:30.340866Z"
    }
   },
   "outputs": [],
   "source": [
    "X, y = create_multivariate_rnn_data(df_transformed, window_size=window_size)"
   ]
  },
  {
   "cell_type": "code",
   "execution_count": 12,
   "metadata": {
    "ExecuteTime": {
     "end_time": "2020-03-24T02:17:30.401739Z",
     "start_time": "2020-03-24T02:17:30.393481Z"
    }
   },
   "outputs": [
    {
     "data": {
      "text/plain": [
       "((420, 24, 2), (420, 2))"
      ]
     },
     "execution_count": 12,
     "metadata": {},
     "output_type": "execute_result"
    }
   ],
   "source": [
    "X.shape, y.shape"
   ]
  },
  {
   "cell_type": "markdown",
   "metadata": {},
   "source": [
    "Finally, we split our data into a train and a test set, using the last 24 months to test the out-of-sample performance, as shown here:"
   ]
  },
  {
   "cell_type": "code",
   "execution_count": 13,
   "metadata": {
    "ExecuteTime": {
     "end_time": "2020-03-24T02:17:30.409791Z",
     "start_time": "2020-03-24T02:17:30.402877Z"
    }
   },
   "outputs": [],
   "source": [
    "test_size =24\n",
    "train_size = X.shape[0]-test_size"
   ]
  },
  {
   "cell_type": "code",
   "execution_count": 14,
   "metadata": {
    "ExecuteTime": {
     "end_time": "2020-03-24T02:17:30.418809Z",
     "start_time": "2020-03-24T02:17:30.410693Z"
    }
   },
   "outputs": [],
   "source": [
    "X_train, y_train = X[:train_size], y[:train_size]\n",
    "X_test, y_test = X[train_size:], y[train_size:]"
   ]
  },
  {
   "cell_type": "code",
   "execution_count": 15,
   "metadata": {
    "ExecuteTime": {
     "end_time": "2020-03-24T02:17:30.435540Z",
     "start_time": "2020-03-24T02:17:30.419940Z"
    }
   },
   "outputs": [
    {
     "data": {
      "text/plain": [
       "((396, 24, 2), (24, 24, 2))"
      ]
     },
     "execution_count": 15,
     "metadata": {},
     "output_type": "execute_result"
    }
   ],
   "source": [
    "X_train.shape, X_test.shape"
   ]
  },
  {
   "cell_type": "markdown",
   "metadata": {},
   "source": [
    "## Define Model Architecture"
   ]
  },
  {
   "cell_type": "markdown",
   "metadata": {},
   "source": [
    "We use a similar architecture with two stacked LSTM layers with 12 and 6 units, respectively, followed by a fully-connected layer with 10 units. The output layer has two units, one for each time series. We compile them using mean absolute loss and the recommended RMSProp optimizer, as follows:"
   ]
  },
  {
   "cell_type": "code",
   "execution_count": 16,
   "metadata": {
    "ExecuteTime": {
     "end_time": "2020-03-24T02:17:30.446736Z",
     "start_time": "2020-03-24T02:17:30.437085Z"
    }
   },
   "outputs": [],
   "source": [
    "n_features = output_size = 2"
   ]
  },
  {
   "cell_type": "code",
   "execution_count": 17,
   "metadata": {
    "ExecuteTime": {
     "end_time": "2020-03-24T02:17:30.455274Z",
     "start_time": "2020-03-24T02:17:30.447768Z"
    }
   },
   "outputs": [],
   "source": [
    "lstm1_units = 12\n",
    "lstm2_units = 6"
   ]
  },
  {
   "cell_type": "code",
   "execution_count": 18,
   "metadata": {
    "ExecuteTime": {
     "end_time": "2020-03-24T02:17:31.309515Z",
     "start_time": "2020-03-24T02:17:30.456279Z"
    },
    "scrolled": false
   },
   "outputs": [],
   "source": [
    "rnn = Sequential([\n",
    "    LSTM(units=lstm1_units,\n",
    "         dropout=.2,\n",
    "         recurrent_dropout=.2,\n",
    "         input_shape=(window_size, n_features), name='LSTM1',\n",
    "         return_sequences=True),\n",
    "    LSTM(units=lstm2_units,\n",
    "         dropout=.2,\n",
    "         recurrent_dropout=.2,\n",
    "         name='LSTM2'),\n",
    "    Dense(10, name='FC1'),\n",
    "    Dense(output_size, name='Output')\n",
    "])"
   ]
  },
  {
   "cell_type": "markdown",
   "metadata": {},
   "source": [
    "The model has 1,268 parameters, as shown here:"
   ]
  },
  {
   "cell_type": "code",
   "execution_count": 19,
   "metadata": {
    "ExecuteTime": {
     "end_time": "2020-03-24T02:17:31.314026Z",
     "start_time": "2020-03-24T02:17:31.310391Z"
    }
   },
   "outputs": [
    {
     "name": "stdout",
     "output_type": "stream",
     "text": [
      "Model: \"sequential\"\n",
      "_________________________________________________________________\n",
      "Layer (type)                 Output Shape              Param #   \n",
      "=================================================================\n",
      "LSTM1 (LSTM)                 (None, 24, 12)            720       \n",
      "_________________________________________________________________\n",
      "LSTM2 (LSTM)                 (None, 6)                 456       \n",
      "_________________________________________________________________\n",
      "FC1 (Dense)                  (None, 10)                70        \n",
      "_________________________________________________________________\n",
      "Output (Dense)               (None, 2)                 22        \n",
      "=================================================================\n",
      "Total params: 1,268\n",
      "Trainable params: 1,268\n",
      "Non-trainable params: 0\n",
      "_________________________________________________________________\n"
     ]
    }
   ],
   "source": [
    "rnn.summary()"
   ]
  },
  {
   "cell_type": "code",
   "execution_count": 20,
   "metadata": {
    "ExecuteTime": {
     "end_time": "2020-03-24T02:17:31.336723Z",
     "start_time": "2020-03-24T02:17:31.315088Z"
    }
   },
   "outputs": [],
   "source": [
    "rnn.compile(loss='mae', optimizer='RMSProp')"
   ]
  },
  {
   "cell_type": "markdown",
   "metadata": {},
   "source": [
    "## Train the Model"
   ]
  },
  {
   "cell_type": "markdown",
   "metadata": {},
   "source": [
    "We train for 50 epochs with a batch_size value of 20 using early stopping:"
   ]
  },
  {
   "cell_type": "code",
   "execution_count": 21,
   "metadata": {
    "ExecuteTime": {
     "end_time": "2020-03-24T02:17:31.340330Z",
     "start_time": "2020-03-24T02:17:31.338308Z"
    }
   },
   "outputs": [],
   "source": [
    "early_stopping = EarlyStopping(monitor='val_loss', \n",
    "                              patience=5,\n",
    "                              restore_best_weights=True)"
   ]
  },
  {
   "cell_type": "code",
   "execution_count": 22,
   "metadata": {
    "ExecuteTime": {
     "end_time": "2020-03-24T02:17:31.349042Z",
     "start_time": "2020-03-24T02:17:31.341256Z"
    }
   },
   "outputs": [
    {
     "name": "stdout",
     "output_type": "stream",
     "text": [
      "WARNING:tensorflow:`period` argument is deprecated. Please use `save_freq` to specify the frequency in number of samples seen.\n"
     ]
    }
   ],
   "source": [
    "rnn_path = 'models/fred.lstm_{}_{}.weights.best.hdf5'.format(lstm1_units, lstm2_units)\n",
    "checkpointer = ModelCheckpoint(filepath=rnn_path,\n",
    "                              monitor='val_loss',\n",
    "                              save_best_only=True,\n",
    "                              save_weights_only=True,\n",
    "                              period=5)"
   ]
  },
  {
   "cell_type": "code",
   "execution_count": 23,
   "metadata": {
    "ExecuteTime": {
     "end_time": "2020-03-24T02:17:52.110395Z",
     "start_time": "2020-03-24T02:17:31.351095Z"
    }
   },
   "outputs": [
    {
     "name": "stdout",
     "output_type": "stream",
     "text": [
      "Train on 396 samples, validate on 24 samples\n",
      "Epoch 1/50\n",
      "396/396 [==============================] - 4s 9ms/sample - loss: 3.8321 - val_loss: 2.2699\n",
      "Epoch 2/50\n",
      "396/396 [==============================] - 1s 2ms/sample - loss: 3.7968 - val_loss: 2.2353\n",
      "Epoch 3/50\n",
      "396/396 [==============================] - 1s 2ms/sample - loss: 3.7602 - val_loss: 2.1973\n",
      "Epoch 4/50\n",
      "396/396 [==============================] - 1s 2ms/sample - loss: 3.7196 - val_loss: 2.1480\n",
      "Epoch 5/50\n",
      "396/396 [==============================] - 1s 2ms/sample - loss: 3.6786 - val_loss: 2.0866\n",
      "Epoch 6/50\n",
      "396/396 [==============================] - 1s 2ms/sample - loss: 3.6232 - val_loss: 2.0453\n",
      "Epoch 7/50\n",
      "396/396 [==============================] - 1s 2ms/sample - loss: 3.5533 - val_loss: 1.9891\n",
      "Epoch 8/50\n",
      "396/396 [==============================] - 1s 2ms/sample - loss: 3.5008 - val_loss: 1.9438\n",
      "Epoch 9/50\n",
      "396/396 [==============================] - 1s 2ms/sample - loss: 3.4910 - val_loss: 1.9022\n",
      "Epoch 10/50\n",
      "396/396 [==============================] - 1s 2ms/sample - loss: 3.4045 - val_loss: 1.8434\n",
      "Epoch 11/50\n",
      "396/396 [==============================] - 1s 2ms/sample - loss: 3.3952 - val_loss: 1.7889\n",
      "Epoch 12/50\n",
      "396/396 [==============================] - 1s 2ms/sample - loss: 3.3201 - val_loss: 1.7406\n",
      "Epoch 13/50\n",
      "396/396 [==============================] - 1s 2ms/sample - loss: 3.2774 - val_loss: 1.7065\n",
      "Epoch 14/50\n",
      "396/396 [==============================] - 1s 2ms/sample - loss: 3.2131 - val_loss: 1.6656\n",
      "Epoch 15/50\n",
      "396/396 [==============================] - 1s 2ms/sample - loss: 3.2162 - val_loss: 1.6334\n",
      "Epoch 16/50\n",
      "396/396 [==============================] - 1s 2ms/sample - loss: 3.1603 - val_loss: 1.6245\n",
      "Epoch 17/50\n",
      "396/396 [==============================] - 1s 2ms/sample - loss: 3.0559 - val_loss: 1.6193\n",
      "Epoch 18/50\n",
      "396/396 [==============================] - 1s 2ms/sample - loss: 3.0324 - val_loss: 1.6237\n",
      "Epoch 19/50\n",
      "396/396 [==============================] - 1s 2ms/sample - loss: 2.9282 - val_loss: 1.6405\n",
      "Epoch 20/50\n",
      "396/396 [==============================] - 1s 2ms/sample - loss: 2.9598 - val_loss: 1.6437\n",
      "Epoch 21/50\n",
      "396/396 [==============================] - 1s 2ms/sample - loss: 2.9476 - val_loss: 1.6723\n",
      "Epoch 22/50\n",
      "396/396 [==============================] - 1s 2ms/sample - loss: 2.9538 - val_loss: 1.6541\n"
     ]
    }
   ],
   "source": [
    "result = rnn.fit(X_train,\n",
    "                 y_train,\n",
    "                 epochs=50,\n",
    "                 batch_size=20,\n",
    "                 validation_data=(X_test, y_test),\n",
    "                 callbacks=[checkpointer, early_stopping],\n",
    "                 verbose=1)"
   ]
  },
  {
   "cell_type": "markdown",
   "metadata": {},
   "source": [
    "## Evaluate the Results"
   ]
  },
  {
   "cell_type": "markdown",
   "metadata": {},
   "source": [
    "Training stops early after 22 epochs, yielding a test MAE of 1.71, which compares favorably to the test MAE for the VAR model of 1.91."
   ]
  },
  {
   "cell_type": "markdown",
   "metadata": {},
   "source": [
    "However, the two results are not fully comparable because the RNN model produces 24 one-step-ahead forecasts, whereas the VAR model uses its own predictions as input for its out-of-sample forecast. You may want to tweak the VAR setup to obtain comparable forecasts and compare their performance:"
   ]
  },
  {
   "cell_type": "code",
   "execution_count": 24,
   "metadata": {
    "ExecuteTime": {
     "end_time": "2020-03-24T02:17:52.262154Z",
     "start_time": "2020-03-24T02:17:52.111496Z"
    }
   },
   "outputs": [
    {
     "data": {
      "image/png": "[encoded data removed]",
      "text/plain": [
       "<Figure size 432x288 with 1 Axes>"
      ]
     },
     "metadata": {},
     "output_type": "display_data"
    }
   ],
   "source": [
    "pd.DataFrame(result.history).plot();"
   ]
  },
  {
   "cell_type": "code",
   "execution_count": 25,
   "metadata": {
    "ExecuteTime": {
     "end_time": "2020-03-24T02:17:52.510274Z",
     "start_time": "2020-03-24T02:17:52.263163Z"
    }
   },
   "outputs": [
    {
     "name": "stdout",
     "output_type": "stream",
     "text": [
      "<class 'pandas.core.frame.DataFrame'>\n",
      "DatetimeIndex: 24 entries, 2016-01-01 to 2017-12-01\n",
      "Data columns (total 2 columns):\n",
      " #   Column     Non-Null Count  Dtype  \n",
      "---  ------     --------------  -----  \n",
      " 0   ip         24 non-null     float32\n",
      " 1   sentiment  24 non-null     float32\n",
      "dtypes: float32(2)\n",
      "memory usage: 384.0 bytes\n"
     ]
    }
   ],
   "source": [
    "y_pred = pd.DataFrame(rnn.predict(X_test), columns=y_test.columns, index=y_test.index)\n",
    "y_pred.info()"
   ]
  },
  {
   "cell_type": "code",
   "execution_count": 26,
   "metadata": {
    "ExecuteTime": {
     "end_time": "2020-03-24T02:17:52.514017Z",
     "start_time": "2020-03-24T02:17:52.511225Z"
    }
   },
   "outputs": [],
   "source": [
    "test_mae = mean_absolute_error(y_pred, y_test)"
   ]
  },
  {
   "cell_type": "code",
   "execution_count": 28,
   "metadata": {
    "ExecuteTime": {
     "end_time": "2020-03-24T02:17:59.653783Z",
     "start_time": "2020-03-24T02:17:58.408693Z"
    },
    "scrolled": false
   },
   "outputs": [
    {
     "data": {
      "image/png": "[encoded data removed]",
      "text/plain": [
       "<Figure size 1296x360 with 3 Axes>"
      ]
     },
     "metadata": {},
     "output_type": "display_data"
    }
   ],
   "source": [
    "fig, axes = plt.subplots(ncols=3, figsize=(18, 5))\n",
    "pd.DataFrame(result.history).plot(ax=axes[0], title='Train & Validiation Error')\n",
    "axes[0].set_xlabel('Epoch')\n",
    "axes[0].set_ylabel('MAE')\n",
    "for i, col in enumerate(y_test.columns, 1):\n",
    "    y_train.loc['2010':, col].plot(ax=axes[i], label='training', title=col)\n",
    "    y_test[col].plot(ax=axes[i], label='out-of-sample')\n",
    "    y_pred[col].plot(ax=axes[i], label='prediction')\n",
    "    axes[i].set_xlabel('')\n",
    "plt.legend()\n",
    "fig.suptitle('Multivariate RNN - Results | Test MAE = {:.2f}'.format(test_mae), fontsize=16)\n",
    "fig.tight_layout()\n",
    "fig.subplots_adjust(top=.85)\n",
    "fig.savefig('figures/multivariate_results', dpi=300);"
   ]
  },
  {
   "cell_type": "code",
   "execution_count": null,
   "metadata": {},
   "outputs": [],
   "source": []
  }
 ],
 "metadata": {
  "kernelspec": {
   "display_name": "Python 3",
   "language": "python",
   "name": "python3"
  },
  "language_info": {
   "codemirror_mode": {
    "name": "ipython",
    "version": 3
   },
   "file_extension": ".py",
   "mimetype": "text/x-python",
   "name": "python",
   "nbconvert_exporter": "python",
   "pygments_lexer": "ipython3",
   "version": "3.7.6"
  },
  "toc": {
   "base_numbering": 1,
   "nav_menu": {},
   "number_sections": true,
   "sideBar": true,
   "skip_h1_title": true,
   "title_cell": "Table of Contents",
   "title_sidebar": "Contents",
   "toc_cell": false,
   "toc_position": {},
   "toc_section_display": true,
   "toc_window_display": false
  }
 },
 "nbformat": 4,
 "nbformat_minor": 2
}
