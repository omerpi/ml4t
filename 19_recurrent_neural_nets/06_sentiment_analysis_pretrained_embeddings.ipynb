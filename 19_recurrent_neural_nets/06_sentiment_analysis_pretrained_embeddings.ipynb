{
 "cells": [
  {
   "cell_type": "markdown",
   "metadata": {},
   "source": [
    "# Sentiment analysis with pretrained word vectors"
   ]
  },
  {
   "cell_type": "markdown",
   "metadata": {},
   "source": [
    "In Chapter 15, Word Embeddings, we discussed how to learn domain-specific word embeddings. Word2vec, and related learning algorithms, produce high-quality word vectors, but require large datasets. Hence, it is common that research groups share word vectors trained on large datasets, similar to the weights for pretrained deep learning models that we encountered in the section on transfer learning in the previous chapter.\n",
    "\n",
    "We are now going to illustrate how to use pretrained Global Vectors for Word Representation (GloVe) provided by the Stanford NLP group with the IMDB review dataset."
   ]
  },
  {
   "cell_type": "code",
   "execution_count": 1,
   "metadata": {
    "ExecuteTime": {
     "end_time": "2020-03-25T04:20:38.648521Z",
     "start_time": "2020-03-25T04:20:37.394729Z"
    }
   },
   "outputs": [],
   "source": [
    "%matplotlib inline\n",
    "from pathlib import Path\n",
    "import numpy as np\n",
    "import pandas as pd\n",
    "import matplotlib.pyplot as plt\n",
    "import seaborn as sns\n",
    "from datetime import datetime, date\n",
    "from sklearn.metrics import mean_squared_error, roc_auc_score\n",
    "from sklearn.preprocessing import minmax_scale\n",
    "\n",
    "import tensorflow as tf\n",
    "from tensorflow import keras\n",
    "from tensorflow.keras.callbacks import ModelCheckpoint, EarlyStopping\n",
    "from tensorflow.keras.datasets import imdb\n",
    "from tensorflow.keras.models import Sequential, Model\n",
    "from tensorflow.keras.layers import Dense, LSTM, GRU, Input, concatenate, Embedding, Reshape\n",
    "from tensorflow.keras.preprocessing.sequence import pad_sequences\n",
    "from tensorflow.keras.preprocessing.text import Tokenizer\n",
    "import tensorflow.keras.backend as K"
   ]
  },
  {
   "cell_type": "code",
   "execution_count": 2,
   "metadata": {
    "ExecuteTime": {
     "end_time": "2020-03-25T04:20:38.653000Z",
     "start_time": "2020-03-25T04:20:38.649521Z"
    }
   },
   "outputs": [],
   "source": [
    "sns.set_style('whitegrid')\n",
    "np.random.seed(42)\n",
    "K.clear_session()"
   ]
  },
  {
   "cell_type": "markdown",
   "metadata": {},
   "source": [
    "## Load Reviews"
   ]
  },
  {
   "cell_type": "markdown",
   "metadata": {},
   "source": [
    "We are going to load the IMDB dataset from the source for manual preprocessing."
   ]
  },
  {
   "cell_type": "markdown",
   "metadata": {},
   "source": [
    "Data source: [Stanford IMDB Reviews Dataset](http://ai.stanford.edu/~amaas/data/sentiment/)"
   ]
  },
  {
   "cell_type": "code",
   "execution_count": 3,
   "metadata": {
    "ExecuteTime": {
     "end_time": "2020-03-25T04:20:38.667094Z",
     "start_time": "2020-03-25T04:20:38.654020Z"
    }
   },
   "outputs": [],
   "source": [
    "path = Path('data/aclImdb/')"
   ]
  },
  {
   "cell_type": "code",
   "execution_count": 4,
   "metadata": {
    "ExecuteTime": {
     "end_time": "2020-03-25T04:20:38.984717Z",
     "start_time": "2020-03-25T04:20:38.668093Z"
    }
   },
   "outputs": [
    {
     "data": {
      "text/plain": [
       "50000"
      ]
     },
     "execution_count": 4,
     "metadata": {},
     "output_type": "execute_result"
    }
   ],
   "source": [
    "files = path.glob('**/*.txt')\n",
    "len(list(files))"
   ]
  },
  {
   "cell_type": "code",
   "execution_count": 5,
   "metadata": {
    "ExecuteTime": {
     "end_time": "2020-03-25T04:20:40.290062Z",
     "start_time": "2020-03-25T04:20:38.985830Z"
    }
   },
   "outputs": [],
   "source": [
    "files = path.glob('*/**/*.txt')\n",
    "data = []\n",
    "for f in files:\n",
    "    _, _, data_set, outcome = str(f.parent).split('/')\n",
    "    data.append([data_set, int(outcome=='pos'), f.read_text(encoding='latin1')])"
   ]
  },
  {
   "cell_type": "code",
   "execution_count": 6,
   "metadata": {
    "ExecuteTime": {
     "end_time": "2020-03-25T04:20:40.324137Z",
     "start_time": "2020-03-25T04:20:40.290929Z"
    }
   },
   "outputs": [],
   "source": [
    "data = pd.DataFrame(data, columns=['dataset', 'label', 'review']).sample(frac=1.0)"
   ]
  },
  {
   "cell_type": "code",
   "execution_count": 7,
   "metadata": {
    "ExecuteTime": {
     "end_time": "2020-03-25T04:20:40.340928Z",
     "start_time": "2020-03-25T04:20:40.325001Z"
    }
   },
   "outputs": [],
   "source": [
    "train_data = data.loc[data.dataset=='train', ['label', 'review']]\n",
    "test_data = data.loc[data.dataset=='test', ['label', 'review']]"
   ]
  },
  {
   "cell_type": "code",
   "execution_count": 8,
   "metadata": {
    "ExecuteTime": {
     "end_time": "2020-03-25T04:20:40.346143Z",
     "start_time": "2020-03-25T04:20:40.342222Z"
    }
   },
   "outputs": [
    {
     "data": {
      "text/plain": [
       "1    12500\n",
       "0    12500\n",
       "Name: label, dtype: int64"
      ]
     },
     "execution_count": 8,
     "metadata": {},
     "output_type": "execute_result"
    }
   ],
   "source": [
    "train_data.label.value_counts()"
   ]
  },
  {
   "cell_type": "code",
   "execution_count": 9,
   "metadata": {
    "ExecuteTime": {
     "end_time": "2020-03-25T04:20:40.356076Z",
     "start_time": "2020-03-25T04:20:40.347254Z"
    }
   },
   "outputs": [
    {
     "data": {
      "text/plain": [
       "1    12500\n",
       "0    12500\n",
       "Name: label, dtype: int64"
      ]
     },
     "execution_count": 9,
     "metadata": {},
     "output_type": "execute_result"
    }
   ],
   "source": [
    "test_data.label.value_counts()"
   ]
  },
  {
   "cell_type": "markdown",
   "metadata": {},
   "source": [
    "## Prepare Data"
   ]
  },
  {
   "cell_type": "markdown",
   "metadata": {},
   "source": [
    "### Tokenizer"
   ]
  },
  {
   "cell_type": "markdown",
   "metadata": {},
   "source": [
    "Keras provides a tokenizer that we use to convert the text documents to integer-encoded sequences, as shown here:"
   ]
  },
  {
   "cell_type": "code",
   "execution_count": 10,
   "metadata": {
    "ExecuteTime": {
     "end_time": "2020-03-25T04:20:43.067473Z",
     "start_time": "2020-03-25T04:20:40.356875Z"
    }
   },
   "outputs": [],
   "source": [
    "num_words = 10000\n",
    "t = Tokenizer(num_words=num_words, \n",
    "              lower=True, \n",
    "              oov_token=2)\n",
    "t.fit_on_texts(train_data.review)"
   ]
  },
  {
   "cell_type": "code",
   "execution_count": 11,
   "metadata": {
    "ExecuteTime": {
     "end_time": "2020-03-25T04:20:43.071382Z",
     "start_time": "2020-03-25T04:20:43.068505Z"
    }
   },
   "outputs": [
    {
     "data": {
      "text/plain": [
       "88586"
      ]
     },
     "execution_count": 11,
     "metadata": {},
     "output_type": "execute_result"
    }
   ],
   "source": [
    "vocab_size = len(t.word_index) + 1\n",
    "vocab_size"
   ]
  },
  {
   "cell_type": "code",
   "execution_count": 12,
   "metadata": {
    "ExecuteTime": {
     "end_time": "2020-03-25T04:20:47.083889Z",
     "start_time": "2020-03-25T04:20:43.072282Z"
    }
   },
   "outputs": [],
   "source": [
    "train_data_encoded = t.texts_to_sequences(train_data.review)\n",
    "test_data_encoded = t.texts_to_sequences(test_data.review)"
   ]
  },
  {
   "cell_type": "code",
   "execution_count": 13,
   "metadata": {
    "ExecuteTime": {
     "end_time": "2020-03-25T04:20:47.086412Z",
     "start_time": "2020-03-25T04:20:47.084785Z"
    }
   },
   "outputs": [],
   "source": [
    "max_length = 100"
   ]
  },
  {
   "cell_type": "markdown",
   "metadata": {},
   "source": [
    "### Pad Sequences"
   ]
  },
  {
   "cell_type": "markdown",
   "metadata": {},
   "source": [
    "We also use the pad_sequences function to convert the list of lists (of unequal length) to stacked sets of padded and truncated arrays for both the train and test datasets:"
   ]
  },
  {
   "cell_type": "code",
   "execution_count": 14,
   "metadata": {
    "ExecuteTime": {
     "end_time": "2020-03-25T04:20:47.280381Z",
     "start_time": "2020-03-25T04:20:47.087273Z"
    }
   },
   "outputs": [
    {
     "data": {
      "text/plain": [
       "(25000, 100)"
      ]
     },
     "execution_count": 14,
     "metadata": {},
     "output_type": "execute_result"
    }
   ],
   "source": [
    "X_train_padded = pad_sequences(train_data_encoded, \n",
    "                            maxlen=max_length, \n",
    "                            padding='post',\n",
    "                           truncating='post')\n",
    "y_train = train_data['label']\n",
    "X_train_padded.shape"
   ]
  },
  {
   "cell_type": "code",
   "execution_count": 15,
   "metadata": {
    "ExecuteTime": {
     "end_time": "2020-03-25T04:20:47.484225Z",
     "start_time": "2020-03-25T04:20:47.281213Z"
    },
    "scrolled": true
   },
   "outputs": [
    {
     "data": {
      "text/plain": [
       "(25000, 100)"
      ]
     },
     "execution_count": 15,
     "metadata": {},
     "output_type": "execute_result"
    }
   ],
   "source": [
    "X_test_padded = pad_sequences(test_data_encoded, \n",
    "                            maxlen=max_length, \n",
    "                            padding='post',\n",
    "                           truncating='post')\n",
    "y_test = test_data['label']\n",
    "X_test_padded.shape"
   ]
  },
  {
   "cell_type": "markdown",
   "metadata": {},
   "source": [
    "## Load Embeddings"
   ]
  },
  {
   "cell_type": "markdown",
   "metadata": {},
   "source": [
    "Assuming we have downloaded and unzipped the GloVe data to the location indicated in the code, we now create a dictionary that maps GloVe tokens to 100-dimensional real-valued vectors, as follows:"
   ]
  },
  {
   "cell_type": "code",
   "execution_count": 16,
   "metadata": {
    "ExecuteTime": {
     "end_time": "2020-03-25T04:20:54.219704Z",
     "start_time": "2020-03-25T04:20:47.485070Z"
    }
   },
   "outputs": [],
   "source": [
    "# load the whole embedding into memory\n",
    "glove_path = Path('data/glove/glove.6B.100d.txt')\n",
    "embeddings_index = dict()\n",
    "\n",
    "for line in glove_path.open(encoding='latin1'):\n",
    "    values = line.split()\n",
    "    word = values[0]\n",
    "    try:\n",
    "        coefs = np.asarray(values[1:], dtype='float32')\n",
    "    except:\n",
    "        continue\n",
    "    embeddings_index[word] = coefs"
   ]
  },
  {
   "cell_type": "code",
   "execution_count": 17,
   "metadata": {
    "ExecuteTime": {
     "end_time": "2020-03-25T04:20:54.222636Z",
     "start_time": "2020-03-25T04:20:54.220565Z"
    }
   },
   "outputs": [
    {
     "name": "stdout",
     "output_type": "stream",
     "text": [
      "Loaded 399,883 word vectors.\n"
     ]
    }
   ],
   "source": [
    "print('Loaded {:,d} word vectors.'.format(len(embeddings_index)))"
   ]
  },
  {
   "cell_type": "markdown",
   "metadata": {},
   "source": [
    "There are around 340,000 word vectors that we use to create an embedding matrix that matches the vocabulary so that the RNN model can access embeddings by the token index:"
   ]
  },
  {
   "cell_type": "code",
   "execution_count": 18,
   "metadata": {
    "ExecuteTime": {
     "end_time": "2020-03-25T04:20:54.329212Z",
     "start_time": "2020-03-25T04:20:54.223515Z"
    }
   },
   "outputs": [],
   "source": [
    "embedding_matrix = np.zeros((vocab_size, 100))\n",
    "for word, i in t.word_index.items():\n",
    "    embedding_vector = embeddings_index.get(word)\n",
    "    if embedding_vector is not None:\n",
    "        embedding_matrix[i] = embedding_vector"
   ]
  },
  {
   "cell_type": "code",
   "execution_count": 19,
   "metadata": {
    "ExecuteTime": {
     "end_time": "2020-03-25T04:20:54.332609Z",
     "start_time": "2020-03-25T04:20:54.330086Z"
    }
   },
   "outputs": [
    {
     "data": {
      "text/plain": [
       "(88586, 100)"
      ]
     },
     "execution_count": 19,
     "metadata": {},
     "output_type": "execute_result"
    }
   ],
   "source": [
    "embedding_matrix.shape"
   ]
  },
  {
   "cell_type": "markdown",
   "metadata": {},
   "source": [
    "## Define Model Architecture"
   ]
  },
  {
   "cell_type": "markdown",
   "metadata": {},
   "source": [
    "The difference between this and the RNN setup in the previous example is that we are going to pass the embedding matrix to the embedding layer and set it to non-trainable, so that the weights remain fixed during training:"
   ]
  },
  {
   "cell_type": "code",
   "execution_count": 20,
   "metadata": {
    "ExecuteTime": {
     "end_time": "2020-03-25T04:20:54.342298Z",
     "start_time": "2020-03-25T04:20:54.333551Z"
    }
   },
   "outputs": [],
   "source": [
    "embedding_size = 100"
   ]
  },
  {
   "cell_type": "code",
   "execution_count": 21,
   "metadata": {
    "ExecuteTime": {
     "end_time": "2020-03-25T04:20:55.083691Z",
     "start_time": "2020-03-25T04:20:54.343902Z"
    }
   },
   "outputs": [
    {
     "name": "stdout",
     "output_type": "stream",
     "text": [
      "Model: \"sequential\"\n",
      "_________________________________________________________________\n",
      "Layer (type)                 Output Shape              Param #   \n",
      "=================================================================\n",
      "embedding (Embedding)        (None, 100, 100)          8858600   \n",
      "_________________________________________________________________\n",
      "gru (GRU)                    (None, 32)                12864     \n",
      "_________________________________________________________________\n",
      "dense (Dense)                (None, 1)                 33        \n",
      "=================================================================\n",
      "Total params: 8,871,497\n",
      "Trainable params: 12,897\n",
      "Non-trainable params: 8,858,600\n",
      "_________________________________________________________________\n"
     ]
    }
   ],
   "source": [
    "rnn = Sequential([\n",
    "    Embedding(input_dim=vocab_size, \n",
    "              output_dim= embedding_size, \n",
    "              input_length=max_length,\n",
    "              weights=[embedding_matrix], \n",
    "              trainable=False),\n",
    "    GRU(units=32,  dropout=0.2, recurrent_dropout=0.2),\n",
    "    Dense(1, activation='sigmoid')\n",
    "])\n",
    "rnn.summary()"
   ]
  },
  {
   "cell_type": "code",
   "execution_count": 22,
   "metadata": {
    "ExecuteTime": {
     "end_time": "2020-03-25T04:20:55.151346Z",
     "start_time": "2020-03-25T04:20:55.084753Z"
    }
   },
   "outputs": [],
   "source": [
    "rnn.compile(loss='binary_crossentropy',\n",
    "            optimizer='RMSProp',\n",
    "            metrics=['accuracy', tf.keras.metrics.AUC(name='AUC')])"
   ]
  },
  {
   "cell_type": "code",
   "execution_count": 23,
   "metadata": {
    "ExecuteTime": {
     "end_time": "2020-03-25T04:20:55.156793Z",
     "start_time": "2020-03-25T04:20:55.153986Z"
    }
   },
   "outputs": [],
   "source": [
    "early_stopping = EarlyStopping(monitor='val_AUC',\n",
    "                               patience=5,\n",
    "                               mode='max',\n",
    "                               restore_best_weights=True)"
   ]
  },
  {
   "cell_type": "code",
   "execution_count": 24,
   "metadata": {
    "ExecuteTime": {
     "end_time": "2020-03-25T05:06:27.473491Z",
     "start_time": "2020-03-25T04:20:55.158047Z"
    }
   },
   "outputs": [
    {
     "name": "stdout",
     "output_type": "stream",
     "text": [
      "Train on 25000 samples, validate on 25000 samples\n",
      "Epoch 1/100\n",
      "25000/25000 [==============================] - 74s 3ms/sample - loss: 0.6499 - accuracy: 0.6072 - AUC: 0.6562 - val_loss: 0.5579 - val_accuracy: 0.7105 - val_AUC: 0.8105\n",
      "Epoch 2/100\n",
      "25000/25000 [==============================] - 73s 3ms/sample - loss: 0.5149 - accuracy: 0.7487 - AUC: 0.8244 - val_loss: 0.4586 - val_accuracy: 0.7806 - val_AUC: 0.8674\n",
      "Epoch 3/100\n",
      "25000/25000 [==============================] - 75s 3ms/sample - loss: 0.4696 - accuracy: 0.7774 - AUC: 0.8574 - val_loss: 0.4345 - val_accuracy: 0.7936 - val_AUC: 0.8814\n",
      "Epoch 4/100\n",
      "25000/25000 [==============================] - 73s 3ms/sample - loss: 0.4471 - accuracy: 0.7906 - AUC: 0.8721 - val_loss: 0.4250 - val_accuracy: 0.7984 - val_AUC: 0.8893\n",
      "Epoch 5/100\n",
      "25000/25000 [==============================] - 72s 3ms/sample - loss: 0.4334 - accuracy: 0.7982 - AUC: 0.8806 - val_loss: 0.4318 - val_accuracy: 0.7960 - val_AUC: 0.8939\n",
      "Epoch 6/100\n",
      "25000/25000 [==============================] - 72s 3ms/sample - loss: 0.4189 - accuracy: 0.8054 - AUC: 0.8887 - val_loss: 0.4103 - val_accuracy: 0.8051 - val_AUC: 0.8978\n",
      "Epoch 7/100\n",
      "25000/25000 [==============================] - 72s 3ms/sample - loss: 0.4105 - accuracy: 0.8119 - AUC: 0.8940 - val_loss: 0.4043 - val_accuracy: 0.8084 - val_AUC: 0.9005\n",
      "Epoch 8/100\n",
      "25000/25000 [==============================] - 73s 3ms/sample - loss: 0.4048 - accuracy: 0.8123 - AUC: 0.8967 - val_loss: 0.3960 - val_accuracy: 0.8152 - val_AUC: 0.9019\n",
      "Epoch 9/100\n",
      "25000/25000 [==============================] - 72s 3ms/sample - loss: 0.3973 - accuracy: 0.8190 - AUC: 0.9008 - val_loss: 0.4057 - val_accuracy: 0.8136 - val_AUC: 0.9033\n",
      "Epoch 10/100\n",
      "25000/25000 [==============================] - 71s 3ms/sample - loss: 0.3909 - accuracy: 0.8210 - AUC: 0.9042 - val_loss: 0.4028 - val_accuracy: 0.8147 - val_AUC: 0.9041\n",
      "Epoch 11/100\n",
      "25000/25000 [==============================] - 71s 3ms/sample - loss: 0.3844 - accuracy: 0.8265 - AUC: 0.9077 - val_loss: 0.3869 - val_accuracy: 0.8234 - val_AUC: 0.9061\n",
      "Epoch 12/100\n",
      "25000/25000 [==============================] - 72s 3ms/sample - loss: 0.3805 - accuracy: 0.8279 - AUC: 0.9098 - val_loss: 0.3870 - val_accuracy: 0.8223 - val_AUC: 0.9069\n",
      "Epoch 13/100\n",
      "25000/25000 [==============================] - 72s 3ms/sample - loss: 0.3758 - accuracy: 0.8300 - AUC: 0.9121 - val_loss: 0.3882 - val_accuracy: 0.8202 - val_AUC: 0.9073\n",
      "Epoch 14/100\n",
      "25000/25000 [==============================] - 72s 3ms/sample - loss: 0.3702 - accuracy: 0.8342 - AUC: 0.9148 - val_loss: 0.3885 - val_accuracy: 0.8220 - val_AUC: 0.9079\n",
      "Epoch 15/100\n",
      "25000/25000 [==============================] - 72s 3ms/sample - loss: 0.3658 - accuracy: 0.8348 - AUC: 0.9169 - val_loss: 0.3848 - val_accuracy: 0.8245 - val_AUC: 0.9096\n",
      "Epoch 16/100\n",
      "25000/25000 [==============================] - 72s 3ms/sample - loss: 0.3614 - accuracy: 0.8400 - AUC: 0.9189 - val_loss: 0.3818 - val_accuracy: 0.8243 - val_AUC: 0.9085\n",
      "Epoch 17/100\n",
      "25000/25000 [==============================] - 71s 3ms/sample - loss: 0.3618 - accuracy: 0.8367 - AUC: 0.9189 - val_loss: 0.3843 - val_accuracy: 0.8217 - val_AUC: 0.9091\n",
      "Epoch 18/100\n",
      "25000/25000 [==============================] - 71s 3ms/sample - loss: 0.3558 - accuracy: 0.8408 - AUC: 0.9216 - val_loss: 0.3922 - val_accuracy: 0.8206 - val_AUC: 0.9093\n",
      "Epoch 19/100\n",
      "25000/25000 [==============================] - 71s 3ms/sample - loss: 0.3544 - accuracy: 0.8418 - AUC: 0.9223 - val_loss: 0.3949 - val_accuracy: 0.8201 - val_AUC: 0.9094\n",
      "Epoch 20/100\n",
      "25000/25000 [==============================] - 71s 3ms/sample - loss: 0.3533 - accuracy: 0.8427 - AUC: 0.9228 - val_loss: 0.3822 - val_accuracy: 0.8249 - val_AUC: 0.9096\n",
      "Epoch 21/100\n",
      "25000/25000 [==============================] - 71s 3ms/sample - loss: 0.3494 - accuracy: 0.8461 - AUC: 0.9244 - val_loss: 0.3818 - val_accuracy: 0.8260 - val_AUC: 0.9098\n",
      "Epoch 22/100\n",
      "25000/25000 [==============================] - 71s 3ms/sample - loss: 0.3456 - accuracy: 0.8447 - AUC: 0.9263 - val_loss: 0.3910 - val_accuracy: 0.8230 - val_AUC: 0.9095\n",
      "Epoch 23/100\n",
      "25000/25000 [==============================] - 71s 3ms/sample - loss: 0.3410 - accuracy: 0.8491 - AUC: 0.9282 - val_loss: 0.3799 - val_accuracy: 0.8252 - val_AUC: 0.9105\n",
      "Epoch 24/100\n",
      "25000/25000 [==============================] - 71s 3ms/sample - loss: 0.3441 - accuracy: 0.8471 - AUC: 0.9269 - val_loss: 0.3925 - val_accuracy: 0.8218 - val_AUC: 0.9104\n",
      "Epoch 25/100\n",
      "25000/25000 [==============================] - 71s 3ms/sample - loss: 0.3389 - accuracy: 0.8511 - AUC: 0.9291 - val_loss: 0.3910 - val_accuracy: 0.8240 - val_AUC: 0.9101\n",
      "Epoch 26/100\n",
      "25000/25000 [==============================] - 71s 3ms/sample - loss: 0.3386 - accuracy: 0.8495 - AUC: 0.9293 - val_loss: 0.3919 - val_accuracy: 0.8222 - val_AUC: 0.9103\n",
      "Epoch 27/100\n",
      "25000/25000 [==============================] - 71s 3ms/sample - loss: 0.3386 - accuracy: 0.8516 - AUC: 0.9292 - val_loss: 0.3857 - val_accuracy: 0.8248 - val_AUC: 0.9109\n",
      "Epoch 28/100\n",
      "25000/25000 [==============================] - 71s 3ms/sample - loss: 0.3322 - accuracy: 0.8522 - AUC: 0.9318 - val_loss: 0.3903 - val_accuracy: 0.8262 - val_AUC: 0.9108\n",
      "Epoch 29/100\n",
      "25000/25000 [==============================] - 71s 3ms/sample - loss: 0.3332 - accuracy: 0.8520 - AUC: 0.9316 - val_loss: 0.3840 - val_accuracy: 0.8258 - val_AUC: 0.9107\n",
      "Epoch 30/100\n",
      "25000/25000 [==============================] - 71s 3ms/sample - loss: 0.3317 - accuracy: 0.8550 - AUC: 0.9324 - val_loss: 0.3875 - val_accuracy: 0.8238 - val_AUC: 0.9104\n",
      "Epoch 31/100\n",
      "25000/25000 [==============================] - 71s 3ms/sample - loss: 0.3283 - accuracy: 0.8552 - AUC: 0.9335 - val_loss: 0.4010 - val_accuracy: 0.8205 - val_AUC: 0.9106\n",
      "Epoch 32/100\n",
      "25000/25000 [==============================] - 71s 3ms/sample - loss: 0.3255 - accuracy: 0.8564 - AUC: 0.9348 - val_loss: 0.3926 - val_accuracy: 0.8227 - val_AUC: 0.9103\n"
     ]
    }
   ],
   "source": [
    "training = rnn.fit(X_train_padded,\n",
    "                  y_train,\n",
    "                  batch_size=32,\n",
    "                  epochs=100,\n",
    "                  validation_data=(X_test_padded, y_test),\n",
    "                  callbacks=[early_stopping],\n",
    "                  verbose=1)"
   ]
  },
  {
   "cell_type": "code",
   "execution_count": 25,
   "metadata": {
    "ExecuteTime": {
     "end_time": "2020-03-25T05:06:39.899755Z",
     "start_time": "2020-03-25T05:06:27.474413Z"
    }
   },
   "outputs": [
    {
     "data": {
      "text/plain": [
       "0.9109512512"
      ]
     },
     "execution_count": 25,
     "metadata": {},
     "output_type": "execute_result"
    }
   ],
   "source": [
    "y_score = rnn.predict(X_test_padded)\n",
    "roc_auc_score(y_score=y_score.squeeze(), y_true=y_test)"
   ]
  },
  {
   "cell_type": "code",
   "execution_count": 64,
   "metadata": {},
   "outputs": [
    {
     "data": {
      "image/png": "[encoded data removed]",
      "text/plain": [
       "<Figure size 1008x288 with 2 Axes>"
      ]
     },
     "metadata": {},
     "output_type": "display_data"
    }
   ],
   "source": [
    "df = pd.DataFrame(training.history)\n",
    "best_auc = df.val_AUC.max()\n",
    "best_acc = df.val_accuracy.max()\n",
    "\n",
    "fig, axes = plt.subplots(ncols=2, figsize=(14,4))\n",
    "df.index = df.index.to_series().add(1)\n",
    "df[['AUC', 'val_AUC']].plot(ax=axes[0], \n",
    "                            title=f'AUC | Best: {best_auc:.4f}', \n",
    "                            legend=False, \n",
    "                            xlim=(1, 33),\n",
    "                            ylim=(.7, .95))\n",
    "\n",
    "axes[0].axvline(df.val_AUC.idxmax(), ls='--', lw=1, c='k')\n",
    "df[['accuracy', 'val_accuracy']].plot(ax=axes[1], \n",
    "                                              title=f'Accuracy | Best: {best_acc:.2%}', \n",
    "                                              legend=False, \n",
    "                                              xlim=(1, 33),\n",
    "                                      ylim=(.7, .9))\n",
    "axes[1].axvline(df.val_accuracy.idxmax(), ls='--', lw=1, c='k')\n",
    "axes[0].set_xlabel('Epoch')\n",
    "axes[0].set_ylabel('AUC')\n",
    "axes[1].set_xlabel('Epoch')\n",
    "axes[1].set_ylabel('Accuracy')\n",
    "fig.suptitle('Sentiment Analysis - Pretrained Vectors', fontsize=14)\n",
    "fig.legend(['Train', 'Validation'], loc='center right')\n",
    "fig.tight_layout()\n",
    "fig.subplots_adjust(top=.9)\n",
    "fig.savefig('figures/imdb_pretrained', dpi=300);"
   ]
  },
  {
   "cell_type": "code",
   "execution_count": 27,
   "metadata": {
    "ExecuteTime": {
     "end_time": "2020-03-25T05:06:39.919918Z",
     "start_time": "2020-03-25T05:06:39.904023Z"
    }
   },
   "outputs": [],
   "source": [
    "df.to_csv('lstm_sa_pretrained.csv', index=False)"
   ]
  }
 ],
 "metadata": {
  "kernelspec": {
   "display_name": "Python 3",
   "language": "python",
   "name": "python3"
  },
  "language_info": {
   "codemirror_mode": {
    "name": "ipython",
    "version": 3
   },
   "file_extension": ".py",
   "mimetype": "text/x-python",
   "name": "python",
   "nbconvert_exporter": "python",
   "pygments_lexer": "ipython3",
   "version": "3.7.7"
  },
  "toc": {
   "base_numbering": 1,
   "nav_menu": {},
   "number_sections": true,
   "sideBar": true,
   "skip_h1_title": true,
   "title_cell": "Table of Contents",
   "title_sidebar": "Contents",
   "toc_cell": false,
   "toc_position": {},
   "toc_section_display": true,
   "toc_window_display": true
  }
 },
 "nbformat": 4,
 "nbformat_minor": 4
}
