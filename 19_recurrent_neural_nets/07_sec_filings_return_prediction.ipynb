{
 "cells": [
  {
   "cell_type": "markdown",
   "metadata": {},
   "source": [
    "# RNN & Word Embeddings for SEC Filings to Predict Returns"
   ]
  },
  {
   "cell_type": "markdown",
   "metadata": {},
   "source": [
    "RNNs are commonly applied to various natural language processing tasks. We've already encountered sentiment analysis using text data in part three of this book.\n",
    "\n",
    "We are now going to apply an RNN model to SEC filings to learn custom word embeddings (see Chapter 16) and predict the returns over the week after the filing date."
   ]
  },
  {
   "cell_type": "markdown",
   "metadata": {},
   "source": [
    "## Imports & Settings"
   ]
  },
  {
   "cell_type": "code",
   "execution_count": 1,
   "metadata": {
    "ExecuteTime": {
     "end_time": "2021-02-23T17:15:33.518582Z",
     "start_time": "2021-02-23T17:15:33.516662Z"
    }
   },
   "outputs": [],
   "source": [
    "import warnings\n",
    "warnings.filterwarnings('ignore')"
   ]
  },
  {
   "cell_type": "code",
   "execution_count": 2,
   "metadata": {
    "ExecuteTime": {
     "end_time": "2021-02-23T17:15:35.525158Z",
     "start_time": "2021-02-23T17:15:33.668898Z"
    }
   },
   "outputs": [],
   "source": [
    "%matplotlib inline\n",
    "\n",
    "from pathlib import Path\n",
    "from time import time\n",
    "from collections import Counter\n",
    "from datetime import datetime, timedelta\n",
    "\n",
    "import numpy as np\n",
    "import pandas as pd\n",
    "from scipy.stats import spearmanr\n",
    "import yfinance as yf\n",
    "\n",
    "from gensim.models.word2vec import LineSentence\n",
    "from gensim.models.phrases import Phrases, Phraser\n",
    "\n",
    "from sklearn.model_selection import train_test_split\n",
    "\n",
    "import tensorflow as tf\n",
    "from tensorflow.keras.models import Sequential\n",
    "from tensorflow.keras.layers import (Dense, GRU, Bidirectional,\n",
    "                                     Embedding, BatchNormalization, Dropout)\n",
    "from tensorflow.keras.preprocessing.sequence import pad_sequences\n",
    "from tensorflow.keras.callbacks import EarlyStopping\n",
    "from tensorflow.keras.metrics import RootMeanSquaredError, MeanAbsoluteError\n",
    "import tensorflow.keras.backend as K\n",
    "\n",
    "import matplotlib.pyplot as plt\n",
    "import seaborn as sns"
   ]
  },
  {
   "cell_type": "code",
   "execution_count": 3,
   "metadata": {
    "ExecuteTime": {
     "end_time": "2021-02-23T17:15:35.559477Z",
     "start_time": "2021-02-23T17:15:35.526207Z"
    }
   },
   "outputs": [
    {
     "name": "stdout",
     "output_type": "stream",
     "text": [
      "Using GPU\n"
     ]
    }
   ],
   "source": [
    "gpu_devices = tf.config.experimental.list_physical_devices('GPU')\n",
    "if gpu_devices:\n",
    "    print('Using GPU')\n",
    "    tf.config.experimental.set_memory_growth(gpu_devices[0], True)\n",
    "else:\n",
    "    print('Using CPU')"
   ]
  },
  {
   "cell_type": "code",
   "execution_count": 4,
   "metadata": {
    "ExecuteTime": {
     "end_time": "2021-02-23T17:15:36.443787Z",
     "start_time": "2021-02-23T17:15:36.441899Z"
    }
   },
   "outputs": [],
   "source": [
    "np.random.seed(42)\n",
    "tf.random.set_seed(42)"
   ]
  },
  {
   "cell_type": "code",
   "execution_count": 5,
   "metadata": {
    "ExecuteTime": {
     "end_time": "2021-02-23T17:15:36.619307Z",
     "start_time": "2021-02-23T17:15:36.616921Z"
    }
   },
   "outputs": [],
   "source": [
    "idx = pd.IndexSlice\n",
    "sns.set_style('whitegrid')"
   ]
  },
  {
   "cell_type": "code",
   "execution_count": 6,
   "metadata": {
    "ExecuteTime": {
     "end_time": "2021-02-23T17:15:36.755607Z",
     "start_time": "2021-02-23T17:15:36.752932Z"
    }
   },
   "outputs": [],
   "source": [
    "def format_time(t):\n",
    "    m, s = divmod(t, 60)\n",
    "    h, m = divmod(m, 60)\n",
    "    return f'{h:02.0f}:{m:02.0f}:{s:02.0f}'"
   ]
  },
  {
   "cell_type": "code",
   "execution_count": 7,
   "metadata": {
    "ExecuteTime": {
     "end_time": "2021-02-23T17:15:36.909263Z",
     "start_time": "2021-02-23T17:15:36.907002Z"
    }
   },
   "outputs": [],
   "source": [
    "deciles = np.arange(.1, 1, .1).round(1)"
   ]
  },
  {
   "cell_type": "markdown",
   "metadata": {},
   "source": [
    "## Get stock price data"
   ]
  },
  {
   "cell_type": "markdown",
   "metadata": {},
   "source": [
    "### Paths"
   ]
  },
  {
   "cell_type": "code",
   "execution_count": 8,
   "metadata": {
    "ExecuteTime": {
     "end_time": "2021-02-23T17:15:40.900853Z",
     "start_time": "2021-02-23T17:15:40.898690Z"
    }
   },
   "outputs": [],
   "source": [
    "data_path = Path('..', 'data', 'sec-filings')"
   ]
  },
  {
   "cell_type": "code",
   "execution_count": 9,
   "metadata": {
    "ExecuteTime": {
     "end_time": "2021-02-23T17:15:42.542441Z",
     "start_time": "2021-02-23T17:15:42.539369Z"
    }
   },
   "outputs": [],
   "source": [
    "results_path = Path('results', 'sec-filings')\n",
    "\n",
    "selected_section_path = results_path / 'ngrams_1'\n",
    "ngram_path = results_path / 'ngrams'\n",
    "vector_path = results_path / 'vectors'\n",
    "\n",
    "for path in [vector_path, selected_section_path, ngram_path]:\n",
    "    if not path.exists():\n",
    "        path.mkdir(parents=True)"
   ]
  },
  {
   "cell_type": "markdown",
   "metadata": {},
   "source": [
    "### Get filing info"
   ]
  },
  {
   "cell_type": "code",
   "execution_count": 10,
   "metadata": {
    "ExecuteTime": {
     "end_time": "2021-02-23T17:15:45.140119Z",
     "start_time": "2021-02-23T17:15:45.066220Z"
    }
   },
   "outputs": [],
   "source": [
    "filing_index = (pd.read_csv(data_path / 'filing_index.csv',\n",
    "                            parse_dates=['DATE_FILED'])\n",
    "                .rename(columns=str.lower))\n",
    "filing_index.index += 1"
   ]
  },
  {
   "cell_type": "code",
   "execution_count": 11,
   "metadata": {
    "ExecuteTime": {
     "end_time": "2021-02-23T17:15:45.395434Z",
     "start_time": "2021-02-23T17:15:45.381675Z"
    }
   },
   "outputs": [
    {
     "name": "stdout",
     "output_type": "stream",
     "text": [
      "<class 'pandas.core.frame.DataFrame'>\n",
      "RangeIndex: 22631 entries, 1 to 22631\n",
      "Data columns (total 11 columns):\n",
      " #   Column        Non-Null Count  Dtype         \n",
      "---  ------        --------------  -----         \n",
      " 0   cik           22631 non-null  int64         \n",
      " 1   company_name  22631 non-null  object        \n",
      " 2   form_type     22631 non-null  object        \n",
      " 3   date_filed    22631 non-null  datetime64[ns]\n",
      " 4   edgar_link    22631 non-null  object        \n",
      " 5   quarter       22631 non-null  int64         \n",
      " 6   ticker        22631 non-null  object        \n",
      " 7   sic           22461 non-null  object        \n",
      " 8   exchange      20619 non-null  object        \n",
      " 9   hits          22555 non-null  object        \n",
      " 10  year          22631 non-null  int64         \n",
      "dtypes: datetime64[ns](1), int64(3), object(7)\n",
      "memory usage: 1.9+ MB\n"
     ]
    }
   ],
   "source": [
    "filing_index.info()"
   ]
  },
  {
   "cell_type": "code",
   "execution_count": 12,
   "metadata": {
    "ExecuteTime": {
     "end_time": "2021-02-23T17:15:47.808079Z",
     "start_time": "2021-02-23T17:15:47.792905Z"
    }
   },
   "outputs": [
    {
     "data": {
      "text/html": [
       "<div>\n",
       "<style scoped>\n",
       "    .dataframe tbody tr th:only-of-type {\n",
       "        vertical-align: middle;\n",
       "    }\n",
       "\n",
       "    .dataframe tbody tr th {\n",
       "        vertical-align: top;\n",
       "    }\n",
       "\n",
       "    .dataframe thead th {\n",
       "        text-align: right;\n",
       "    }\n",
       "</style>\n",
       "<table border=\"1\" class=\"dataframe\">\n",
       "  <thead>\n",
       "    <tr style=\"text-align: right;\">\n",
       "      <th></th>\n",
       "      <th>cik</th>\n",
       "      <th>company_name</th>\n",
       "      <th>form_type</th>\n",
       "      <th>date_filed</th>\n",
       "      <th>edgar_link</th>\n",
       "      <th>quarter</th>\n",
       "      <th>ticker</th>\n",
       "      <th>sic</th>\n",
       "      <th>exchange</th>\n",
       "      <th>hits</th>\n",
       "      <th>year</th>\n",
       "    </tr>\n",
       "  </thead>\n",
       "  <tbody>\n",
       "    <tr>\n",
       "      <th>1</th>\n",
       "      <td>1000180</td>\n",
       "      <td>SANDISK CORP</td>\n",
       "      <td>10-K</td>\n",
       "      <td>2013-02-19</td>\n",
       "      <td>edgar/data/1000180/0001000180-13-000009.txt</td>\n",
       "      <td>1</td>\n",
       "      <td>SNDK</td>\n",
       "      <td>3572</td>\n",
       "      <td>NASDAQ</td>\n",
       "      <td>3</td>\n",
       "      <td>2013</td>\n",
       "    </tr>\n",
       "    <tr>\n",
       "      <th>2</th>\n",
       "      <td>1000209</td>\n",
       "      <td>MEDALLION FINANCIAL CORP</td>\n",
       "      <td>10-K</td>\n",
       "      <td>2013-03-13</td>\n",
       "      <td>edgar/data/1000209/0001193125-13-103504.txt</td>\n",
       "      <td>1</td>\n",
       "      <td>TAXI</td>\n",
       "      <td>6199</td>\n",
       "      <td>NASDAQ</td>\n",
       "      <td>0</td>\n",
       "      <td>2013</td>\n",
       "    </tr>\n",
       "    <tr>\n",
       "      <th>3</th>\n",
       "      <td>1000228</td>\n",
       "      <td>HENRY SCHEIN INC</td>\n",
       "      <td>10-K</td>\n",
       "      <td>2013-02-13</td>\n",
       "      <td>edgar/data/1000228/0001000228-13-000010.txt</td>\n",
       "      <td>1</td>\n",
       "      <td>HSIC</td>\n",
       "      <td>5047</td>\n",
       "      <td>NASDAQ</td>\n",
       "      <td>3</td>\n",
       "      <td>2013</td>\n",
       "    </tr>\n",
       "    <tr>\n",
       "      <th>4</th>\n",
       "      <td>1000229</td>\n",
       "      <td>CORE LABORATORIES N V</td>\n",
       "      <td>10-K</td>\n",
       "      <td>2013-02-19</td>\n",
       "      <td>edgar/data/1000229/0001000229-13-000009.txt</td>\n",
       "      <td>1</td>\n",
       "      <td>CLB</td>\n",
       "      <td>1389</td>\n",
       "      <td>NYSE</td>\n",
       "      <td>2</td>\n",
       "      <td>2013</td>\n",
       "    </tr>\n",
       "    <tr>\n",
       "      <th>5</th>\n",
       "      <td>1000232</td>\n",
       "      <td>KENTUCKY BANCSHARES INC  KY</td>\n",
       "      <td>10-K</td>\n",
       "      <td>2013-03-28</td>\n",
       "      <td>edgar/data/1000232/0001104659-13-025094.txt</td>\n",
       "      <td>1</td>\n",
       "      <td>KTYB</td>\n",
       "      <td>6022</td>\n",
       "      <td>OTC</td>\n",
       "      <td>0</td>\n",
       "      <td>2013</td>\n",
       "    </tr>\n",
       "  </tbody>\n",
       "</table>\n",
       "</div>"
      ],
      "text/plain": [
       "       cik                  company_name form_type date_filed  \\\n",
       "1  1000180                  SANDISK CORP      10-K 2013-02-19   \n",
       "2  1000209      MEDALLION FINANCIAL CORP      10-K 2013-03-13   \n",
       "3  1000228              HENRY SCHEIN INC      10-K 2013-02-13   \n",
       "4  1000229         CORE LABORATORIES N V      10-K 2013-02-19   \n",
       "5  1000232  KENTUCKY BANCSHARES INC  KY       10-K 2013-03-28   \n",
       "\n",
       "                                    edgar_link  quarter ticker   sic exchange  \\\n",
       "1  edgar/data/1000180/0001000180-13-000009.txt        1   SNDK  3572   NASDAQ   \n",
       "2  edgar/data/1000209/0001193125-13-103504.txt        1   TAXI  6199   NASDAQ   \n",
       "3  edgar/data/1000228/0001000228-13-000010.txt        1   HSIC  5047   NASDAQ   \n",
       "4  edgar/data/1000229/0001000229-13-000009.txt        1    CLB  1389     NYSE   \n",
       "5  edgar/data/1000232/0001104659-13-025094.txt        1   KTYB  6022      OTC   \n",
       "\n",
       "  hits  year  \n",
       "1    3  2013  \n",
       "2    0  2013  \n",
       "3    3  2013  \n",
       "4    2  2013  \n",
       "5    0  2013  "
      ]
     },
     "execution_count": 12,
     "metadata": {},
     "output_type": "execute_result"
    }
   ],
   "source": [
    "filing_index.head()"
   ]
  },
  {
   "cell_type": "code",
   "execution_count": 13,
   "metadata": {
    "ExecuteTime": {
     "end_time": "2021-02-23T17:15:47.981965Z",
     "start_time": "2021-02-23T17:15:47.974876Z"
    }
   },
   "outputs": [
    {
     "data": {
      "text/plain": [
       "6630"
      ]
     },
     "execution_count": 13,
     "metadata": {},
     "output_type": "execute_result"
    }
   ],
   "source": [
    "filing_index.ticker.nunique()"
   ]
  },
  {
   "cell_type": "code",
   "execution_count": 14,
   "metadata": {
    "ExecuteTime": {
     "end_time": "2021-02-23T17:15:49.960520Z",
     "start_time": "2021-02-23T17:15:49.953116Z"
    }
   },
   "outputs": [
    {
     "data": {
      "text/plain": [
       "count                   22631\n",
       "unique                    980\n",
       "top       2014-03-31 00:00:00\n",
       "freq                      442\n",
       "first     2013-01-02 00:00:00\n",
       "last      2016-12-30 00:00:00\n",
       "Name: date_filed, dtype: object"
      ]
     },
     "execution_count": 14,
     "metadata": {},
     "output_type": "execute_result"
    }
   ],
   "source": [
    "filing_index.date_filed.describe()"
   ]
  },
  {
   "cell_type": "markdown",
   "metadata": {},
   "source": [
    "### Download stock price data using Yfinance"
   ]
  },
  {
   "cell_type": "code",
   "execution_count": null,
   "metadata": {
    "ExecuteTime": {
     "end_time": "2021-02-23T17:23:48.428286Z",
     "start_time": "2021-02-23T17:15:57.201324Z"
    },
    "scrolled": true
   },
   "outputs": [],
   "source": [
    "yf_data, missing = [], []\n",
    "for i, (symbol, dates) in enumerate(filing_index.groupby('ticker').date_filed, 1):\n",
    "    \n",
    "    if i % 250 == 0:\n",
    "        print(i, len(yf_data), len(set(missing)), flush=True)\n",
    "    \n",
    "    ticker = yf.Ticker(symbol)\n",
    "    for filing, date in dates.to_dict().items():\n",
    "        start = date - timedelta(days=93)\n",
    "        end = date + timedelta(days=31)\n",
    "        df = ticker.history(start=start, end=end)\n",
    "        if df.empty:\n",
    "            missing.append(symbol)\n",
    "        else:\n",
    "            yf_data.append(df.assign(ticker=symbol, filing=filing))"
   ]
  },
  {
   "cell_type": "code",
   "execution_count": null,
   "metadata": {
    "ExecuteTime": {
     "end_time": "2021-02-23T17:23:48.433407Z",
     "start_time": "2021-02-23T17:15:57.204Z"
    }
   },
   "outputs": [],
   "source": [
    "yf_data = pd.concat(yf_data).rename(columns=str.lower)"
   ]
  },
  {
   "cell_type": "code",
   "execution_count": null,
   "metadata": {
    "ExecuteTime": {
     "end_time": "2021-02-23T17:23:48.434099Z",
     "start_time": "2021-02-23T17:15:57.208Z"
    }
   },
   "outputs": [],
   "source": [
    "yf_data.to_hdf(results_path / 'sec_returns.h5', 'data/yfinance')"
   ]
  },
  {
   "cell_type": "code",
   "execution_count": null,
   "metadata": {},
   "outputs": [],
   "source": [
    "yf_data = pd.read_hdf(results_path / 'sec_returns.h5', 'data/yfinance')"
   ]
  },
  {
   "cell_type": "code",
   "execution_count": null,
   "metadata": {
    "ExecuteTime": {
     "end_time": "2021-02-23T17:23:48.434772Z",
     "start_time": "2021-02-23T17:15:57.212Z"
    }
   },
   "outputs": [],
   "source": [
    "yf_data.ticker.nunique()"
   ]
  },
  {
   "cell_type": "code",
   "execution_count": null,
   "metadata": {
    "ExecuteTime": {
     "end_time": "2021-02-23T17:23:48.435514Z",
     "start_time": "2021-02-23T17:15:57.216Z"
    }
   },
   "outputs": [],
   "source": [
    "yf_data.info()"
   ]
  },
  {
   "cell_type": "markdown",
   "metadata": {},
   "source": [
    "### Get (some) missing prices from Quandl"
   ]
  },
  {
   "cell_type": "code",
   "execution_count": null,
   "metadata": {
    "ExecuteTime": {
     "end_time": "2021-02-23T17:23:48.436249Z",
     "start_time": "2021-02-23T17:15:57.220Z"
    }
   },
   "outputs": [],
   "source": [
    "to_do = (filing_index.loc[~filing_index.ticker.isin(yf_data.ticker.unique()), \n",
    "                          ['ticker', 'date_filed']])"
   ]
  },
  {
   "cell_type": "code",
   "execution_count": null,
   "metadata": {
    "ExecuteTime": {
     "end_time": "2021-02-23T17:23:48.436962Z",
     "start_time": "2021-02-23T17:15:57.224Z"
    }
   },
   "outputs": [],
   "source": [
    "to_do.date_filed.min()"
   ]
  },
  {
   "cell_type": "code",
   "execution_count": null,
   "metadata": {
    "ExecuteTime": {
     "end_time": "2021-02-23T17:23:48.437672Z",
     "start_time": "2021-02-23T17:15:57.227Z"
    }
   },
   "outputs": [],
   "source": [
    "quandl_tickers = (pd.read_hdf('../data/assets.h5', 'quandl/wiki/prices')\n",
    "                  .loc[idx['2012':, :], :]\n",
    "                  .index.unique('ticker'))\n",
    "quandl_tickers = list(set(quandl_tickers).intersection(set(to_do.ticker)))"
   ]
  },
  {
   "cell_type": "code",
   "execution_count": null,
   "metadata": {
    "ExecuteTime": {
     "end_time": "2021-02-23T17:23:48.438476Z",
     "start_time": "2021-02-23T17:15:57.231Z"
    }
   },
   "outputs": [],
   "source": [
    "len(quandl_tickers)"
   ]
  },
  {
   "cell_type": "code",
   "execution_count": null,
   "metadata": {
    "ExecuteTime": {
     "end_time": "2021-02-23T17:23:48.438946Z",
     "start_time": "2021-02-23T17:15:57.234Z"
    }
   },
   "outputs": [],
   "source": [
    "to_do = filing_index.loc[filing_index.ticker.isin(quandl_tickers), ['ticker', 'date_filed']]"
   ]
  },
  {
   "cell_type": "code",
   "execution_count": null,
   "metadata": {
    "ExecuteTime": {
     "end_time": "2021-02-23T17:23:48.439410Z",
     "start_time": "2021-02-23T17:15:57.238Z"
    }
   },
   "outputs": [],
   "source": [
    "to_do.info()"
   ]
  },
  {
   "cell_type": "code",
   "execution_count": null,
   "metadata": {
    "ExecuteTime": {
     "end_time": "2021-02-23T17:23:48.439874Z",
     "start_time": "2021-02-23T17:15:57.241Z"
    }
   },
   "outputs": [],
   "source": [
    "ohlcv = ['adj_open', 'adj_high', 'adj_low', 'adj_close', 'adj_volume']"
   ]
  },
  {
   "cell_type": "code",
   "execution_count": null,
   "metadata": {
    "ExecuteTime": {
     "end_time": "2021-02-23T17:23:48.440346Z",
     "start_time": "2021-02-23T17:15:57.244Z"
    }
   },
   "outputs": [],
   "source": [
    "quandl = (pd.read_hdf('../data/assets.h5', 'quandl/wiki/prices')\n",
    "          .loc[idx['2012': , quandl_tickers], ohlcv]\n",
    "          .rename(columns=lambda x: x.replace('adj_', '')))"
   ]
  },
  {
   "cell_type": "code",
   "execution_count": null,
   "metadata": {
    "ExecuteTime": {
     "end_time": "2021-02-23T17:23:48.440795Z",
     "start_time": "2021-02-23T17:15:57.247Z"
    }
   },
   "outputs": [],
   "source": [
    "quandl.info()"
   ]
  },
  {
   "cell_type": "code",
   "execution_count": null,
   "metadata": {
    "ExecuteTime": {
     "end_time": "2021-02-23T17:23:48.441361Z",
     "start_time": "2021-02-23T17:15:57.250Z"
    }
   },
   "outputs": [],
   "source": [
    "quandl_data = []\n",
    "for i, (symbol, dates) in enumerate(to_do.groupby('ticker').date_filed, 1):\n",
    "    if i % 100 == 0:\n",
    "        print(i, end=' ', flush=True)\n",
    "    for filing, date in dates.to_dict().items():\n",
    "        start = date - timedelta(days=93)\n",
    "        end = date + timedelta(days=31)\n",
    "        quandl_data.append(quandl.loc[idx[start:end, symbol], :].reset_index('ticker').assign(filing=filing))\n",
    "quandl_data = pd.concat(quandl_data)"
   ]
  },
  {
   "cell_type": "code",
   "execution_count": null,
   "metadata": {
    "ExecuteTime": {
     "end_time": "2021-02-23T17:23:48.442102Z",
     "start_time": "2021-02-23T17:15:57.254Z"
    }
   },
   "outputs": [],
   "source": [
    "quandl_data.to_hdf(results_path / 'sec_returns.h5', 'data/quandl')"
   ]
  },
  {
   "cell_type": "markdown",
   "metadata": {},
   "source": [
    "### Combine, clean and persist"
   ]
  },
  {
   "cell_type": "code",
   "execution_count": null,
   "metadata": {
    "ExecuteTime": {
     "end_time": "2021-02-23T17:23:48.443541Z",
     "start_time": "2021-02-23T17:15:57.258Z"
    }
   },
   "outputs": [],
   "source": [
    "data = (pd.read_hdf(results_path / 'sec_returns.h5', 'data/yfinance')\n",
    "        .drop(['dividends', 'stock splits'], axis=1)\n",
    "        .append(pd.read_hdf(results_path / 'sec_returns.h5',\n",
    "                            'data/quandl')))"
   ]
  },
  {
   "cell_type": "code",
   "execution_count": null,
   "metadata": {
    "ExecuteTime": {
     "end_time": "2021-02-23T17:23:48.444144Z",
     "start_time": "2021-02-23T17:15:57.261Z"
    }
   },
   "outputs": [],
   "source": [
    "data = data.loc[:, ['filing', 'ticker', 'open', 'high', 'low', 'close', 'volume']]"
   ]
  },
  {
   "cell_type": "code",
   "execution_count": null,
   "metadata": {
    "ExecuteTime": {
     "end_time": "2021-02-23T17:23:48.444903Z",
     "start_time": "2021-02-23T17:15:57.265Z"
    }
   },
   "outputs": [],
   "source": [
    "data.info()"
   ]
  },
  {
   "cell_type": "code",
   "execution_count": null,
   "metadata": {
    "ExecuteTime": {
     "end_time": "2021-02-23T17:23:48.445594Z",
     "start_time": "2021-02-23T17:15:57.268Z"
    }
   },
   "outputs": [],
   "source": [
    "data[['filing', 'ticker']].nunique()"
   ]
  },
  {
   "cell_type": "code",
   "execution_count": null,
   "metadata": {
    "ExecuteTime": {
     "end_time": "2021-02-23T17:23:48.446239Z",
     "start_time": "2021-02-23T17:15:57.271Z"
    }
   },
   "outputs": [],
   "source": [
    "data.to_hdf(results_path / 'sec_returns.h5', 'prices')"
   ]
  },
  {
   "cell_type": "markdown",
   "metadata": {},
   "source": [
    "## Copy filings with stock price data"
   ]
  },
  {
   "cell_type": "code",
   "execution_count": 16,
   "metadata": {
    "ExecuteTime": {
     "end_time": "2021-02-23T17:28:17.471873Z",
     "start_time": "2021-02-23T17:28:17.336270Z"
    }
   },
   "outputs": [],
   "source": [
    "data = pd.read_hdf(results_path / 'sec_returns.h5', 'prices')"
   ]
  },
  {
   "cell_type": "code",
   "execution_count": 17,
   "metadata": {
    "ExecuteTime": {
     "end_time": "2021-02-23T17:28:18.407009Z",
     "start_time": "2021-02-23T17:28:18.393588Z"
    }
   },
   "outputs": [
    {
     "data": {
      "text/plain": [
       "16758"
      ]
     },
     "execution_count": 17,
     "metadata": {},
     "output_type": "execute_result"
    }
   ],
   "source": [
    "filings_with_data = data.filing.unique()\n",
    "len(filings_with_data)"
   ]
  },
  {
   "cell_type": "markdown",
   "metadata": {},
   "source": [
    "### Remove short and long sentences"
   ]
  },
  {
   "cell_type": "code",
   "execution_count": 18,
   "metadata": {
    "ExecuteTime": {
     "end_time": "2021-02-23T17:28:23.473629Z",
     "start_time": "2021-02-23T17:28:23.471493Z"
    }
   },
   "outputs": [],
   "source": [
    "min_sentence_length = 5\n",
    "max_sentence_length = 50"
   ]
  },
  {
   "cell_type": "code",
   "execution_count": 19,
   "metadata": {
    "ExecuteTime": {
     "end_time": "2021-02-23T17:30:38.587875Z",
     "start_time": "2021-02-23T17:28:23.475274Z"
    }
   },
   "outputs": [
    {
     "name": "stdout",
     "output_type": "stream",
     "text": [
      "500 1000 1500 2000 2500 3000 3500 4000 4500 5000 5500 6000 6500 7000 7500 8000 8500 9000 9500 10000 10500 11000 11500 12000 12500 13000 13500 14000 14500 15000 15500 16000 16500 "
     ]
    }
   ],
   "source": [
    "sent_length = Counter()\n",
    "for i, idx in enumerate(filings_with_data, 1):\n",
    "    if i % 500 == 0:\n",
    "        print(i, end=' ', flush=True)\n",
    "    text = pd.read_csv(data_path / 'selected_sections' / f'{idx}.csv').text\n",
    "    sent_length.update(text.str.split().str.len().tolist())\n",
    "    text = text[text.str.split().str.len().between(min_sentence_length, max_sentence_length)]\n",
    "    text = '\\n'.join(text.tolist())\n",
    "    with (selected_section_path / f'{idx}.txt').open('w') as f:\n",
    "        f.write(text)"
   ]
  },
  {
   "cell_type": "code",
   "execution_count": 20,
   "metadata": {
    "ExecuteTime": {
     "end_time": "2021-02-23T17:30:38.592639Z",
     "start_time": "2021-02-23T17:30:38.588902Z"
    }
   },
   "outputs": [],
   "source": [
    "sent_length = pd.Series(dict(sent_length.most_common()))"
   ]
  },
  {
   "cell_type": "code",
   "execution_count": 21,
   "metadata": {
    "ExecuteTime": {
     "end_time": "2021-02-23T17:30:39.079937Z",
     "start_time": "2021-02-23T17:30:38.593805Z"
    }
   },
   "outputs": [
    {
     "data": {
      "image/png": "[encoded data removed]",
      "text/plain": [
       "<Figure size 864x288 with 1 Axes>"
      ]
     },
     "metadata": {},
     "output_type": "display_data"
    }
   ],
   "source": [
    "with sns.axes_style(\"white\"):\n",
    "    sent_length.sort_index().cumsum().div(sent_length.sum()).loc[5:51].plot.bar(figsize=(12, 4), rot=0)\n",
    "    sns.despine();"
   ]
  },
  {
   "cell_type": "code",
   "execution_count": 22,
   "metadata": {
    "ExecuteTime": {
     "end_time": "2021-02-23T17:30:39.552221Z",
     "start_time": "2021-02-23T17:30:39.081381Z"
    }
   },
   "outputs": [
    {
     "data": {
      "image/png": "[encoded data removed]",
      "text/plain": [
       "<Figure size 1008x288 with 1 Axes>"
      ]
     },
     "metadata": {},
     "output_type": "display_data"
    }
   ],
   "source": [
    "with sns.axes_style(\"white\"):\n",
    "    sent_length.sort_index().loc[:50].plot.bar(figsize=(14, 4))\n",
    "    sns.despine();"
   ]
  },
  {
   "cell_type": "markdown",
   "metadata": {},
   "source": [
    "### Create bi- and trigrams"
   ]
  },
  {
   "cell_type": "markdown",
   "metadata": {},
   "source": [
    "Combine all filings"
   ]
  },
  {
   "cell_type": "code",
   "execution_count": 23,
   "metadata": {
    "ExecuteTime": {
     "end_time": "2021-02-23T17:30:44.634112Z",
     "start_time": "2021-02-23T17:30:39.553298Z"
    }
   },
   "outputs": [
    {
     "data": {
      "text/plain": [
       "1827326308"
      ]
     },
     "execution_count": 23,
     "metadata": {},
     "output_type": "execute_result"
    }
   ],
   "source": [
    "files = selected_section_path.glob('*.txt')\n",
    "texts = [f.read_text() for f in files]\n",
    "unigrams = ngram_path / 'ngrams_1.txt'\n",
    "unigrams.write_text('\\n'.join(texts))"
   ]
  },
  {
   "cell_type": "code",
   "execution_count": 24,
   "metadata": {
    "ExecuteTime": {
     "end_time": "2021-02-23T17:30:45.954454Z",
     "start_time": "2021-02-23T17:30:44.635150Z"
    }
   },
   "outputs": [],
   "source": [
    "texts = unigrams.read_text()"
   ]
  },
  {
   "cell_type": "code",
   "execution_count": null,
   "metadata": {
    "ExecuteTime": {
     "start_time": "2021-02-23T17:28:23.492Z"
    }
   },
   "outputs": [],
   "source": [
    "n_grams = []\n",
    "start = time()\n",
    "for i, n in enumerate([2, 3]):\n",
    "    sentences = LineSentence(ngram_path / f'ngrams_{n-1}.txt')\n",
    "    phrases = Phrases(sentences=sentences,\n",
    "                      min_count=25,  # ignore terms with a lower count\n",
    "                      threshold=0.5,  # accept phrases with higher score\n",
    "                      max_vocab_size=4000000,  # prune of less common words to limit memory use\n",
    "                      delimiter=b'_',  # how to join ngram tokens\n",
    "                      scoring='npmi')\n",
    "\n",
    "    s = pd.DataFrame([[k.decode('utf-8'), v] for k, v in phrases.export_phrases(sentences)], \n",
    "                     columns=['phrase', 'score']).assign(length=n)\n",
    "\n",
    "    n_grams.append(s.groupby('phrase').score.agg(['mean', 'size']))\n",
    "    print(n_grams[-1].nlargest(5, columns='size'))\n",
    "    \n",
    "    grams = Phraser(phrases)\n",
    "    sentences = grams[sentences]\n",
    "    (ngram_path / f'ngrams_{n}.txt').write_text('\\n'.join([' '.join(s) for s in sentences]))\n",
    "    \n",
    "    src_dir = results_path / f'ngrams_{n-1}'\n",
    "    target_dir = results_path / f'ngrams_{n}'\n",
    "    if not target_dir.exists():\n",
    "        target_dir.mkdir()\n",
    "    \n",
    "    for f in src_dir.glob('*.txt'):\n",
    "        text = LineSentence(f)\n",
    "        text = grams[text]\n",
    "        (target_dir / f'{f.stem}.txt').write_text('\\n'.join([' '.join(s) for s in text]))\n",
    "    print('\\n\\tDuration: ', format_time(time() - start))\n",
    "\n",
    "n_grams = pd.concat(n_grams).sort_values('size', ascending=False)          \n",
    "n_grams.to_parquet(results_path / 'ngrams.parquet')"
   ]
  },
  {
   "cell_type": "code",
   "execution_count": null,
   "metadata": {
    "ExecuteTime": {
     "start_time": "2021-02-23T17:28:23.496Z"
    }
   },
   "outputs": [],
   "source": [
    "n_grams.groupby(n_grams.index.str.replace('_', ' ').str.count(' ')).size()"
   ]
  },
  {
   "cell_type": "markdown",
   "metadata": {},
   "source": [
    "### Convert filings to integer sequences based on token count"
   ]
  },
  {
   "cell_type": "code",
   "execution_count": null,
   "metadata": {
    "ExecuteTime": {
     "start_time": "2021-02-23T17:28:23.501Z"
    }
   },
   "outputs": [],
   "source": [
    "sentences = (ngram_path / 'ngrams_3.txt').read_text().split('\\n')"
   ]
  },
  {
   "cell_type": "code",
   "execution_count": null,
   "metadata": {
    "ExecuteTime": {
     "start_time": "2021-02-23T17:28:23.504Z"
    }
   },
   "outputs": [],
   "source": [
    "n = len(sentences)"
   ]
  },
  {
   "cell_type": "code",
   "execution_count": null,
   "metadata": {
    "ExecuteTime": {
     "start_time": "2021-02-23T17:28:23.507Z"
    }
   },
   "outputs": [],
   "source": [
    "token_cnt = Counter()\n",
    "for i, sentence in enumerate(sentences, 1):\n",
    "    if i % 500000 == 0:\n",
    "        print(f'{i/n:.1%}', end=' ', flush=True)\n",
    "    token_cnt.update(sentence.split())\n",
    "token_cnt = pd.Series(dict(token_cnt.most_common()))\n",
    "token_cnt = token_cnt.reset_index()\n",
    "token_cnt.columns = ['token', 'n']  "
   ]
  },
  {
   "cell_type": "code",
   "execution_count": null,
   "metadata": {
    "ExecuteTime": {
     "start_time": "2021-02-23T17:28:23.510Z"
    }
   },
   "outputs": [],
   "source": [
    "token_cnt.to_parquet(results_path / 'token_cnt')"
   ]
  },
  {
   "cell_type": "code",
   "execution_count": null,
   "metadata": {
    "ExecuteTime": {
     "start_time": "2021-02-23T17:28:23.515Z"
    }
   },
   "outputs": [],
   "source": [
    "token_cnt.n.describe(deciles).apply(lambda x: f'{x:,.0f}')"
   ]
  },
  {
   "cell_type": "code",
   "execution_count": null,
   "metadata": {
    "ExecuteTime": {
     "start_time": "2021-02-23T17:28:23.517Z"
    }
   },
   "outputs": [],
   "source": [
    "token_cnt.info()"
   ]
  },
  {
   "cell_type": "code",
   "execution_count": null,
   "metadata": {
    "ExecuteTime": {
     "start_time": "2021-02-23T17:28:23.520Z"
    }
   },
   "outputs": [],
   "source": [
    "token_cnt.nlargest(10, columns='n')"
   ]
  },
  {
   "cell_type": "code",
   "execution_count": null,
   "metadata": {
    "ExecuteTime": {
     "start_time": "2021-02-23T17:28:23.523Z"
    }
   },
   "outputs": [],
   "source": [
    "token_cnt.sort_values(by=['n', 'token'], ascending=[False, True]).head()"
   ]
  },
  {
   "cell_type": "code",
   "execution_count": null,
   "metadata": {
    "ExecuteTime": {
     "start_time": "2021-02-23T17:28:23.528Z"
    }
   },
   "outputs": [],
   "source": [
    "token_by_freq = token_cnt.sort_values(by=['n', 'token'], ascending=[False, True]).token\n",
    "token2id = {token: i for i, token in enumerate(token_by_freq, 3)}"
   ]
  },
  {
   "cell_type": "code",
   "execution_count": null,
   "metadata": {
    "ExecuteTime": {
     "start_time": "2021-02-23T17:28:23.531Z"
    }
   },
   "outputs": [],
   "source": [
    "len(token2id)"
   ]
  },
  {
   "cell_type": "code",
   "execution_count": null,
   "metadata": {
    "ExecuteTime": {
     "start_time": "2021-02-23T17:28:23.534Z"
    }
   },
   "outputs": [],
   "source": [
    "for token, i in token2id.items():\n",
    "    print(token, i)\n",
    "    break"
   ]
  },
  {
   "cell_type": "code",
   "execution_count": null,
   "metadata": {
    "ExecuteTime": {
     "start_time": "2021-02-23T17:28:23.537Z"
    }
   },
   "outputs": [],
   "source": [
    "def generate_sequences(min_len=100, max_len=20000, num_words=25000, oov_char=2):\n",
    "    if not vector_path.exists():\n",
    "        vector_path.mkdir()\n",
    "    seq_length = {}\n",
    "    skipped = 0\n",
    "    for i, f in enumerate((results_path / 'ngrams_3').glob('*.txt'), 1):\n",
    "        file_id = f.stem\n",
    "        text = f.read_text().split('\\n')\n",
    "        vector = [token2id[token] if token2id[token] + 2 < num_words else oov_char \n",
    "                  for line in text \n",
    "                  for token in line.split()]\n",
    "        vector = vector[:max_len]\n",
    "        if len(vector) < min_len:\n",
    "            skipped += 1\n",
    "            continue\n",
    "        seq_length[int(file_id)] = len(vector)\n",
    "        np.save(vector_path / f'{file_id}.npy', np.array(vector))\n",
    "    seq_length = pd.Series(seq_length)\n",
    "    return seq_length"
   ]
  },
  {
   "cell_type": "code",
   "execution_count": null,
   "metadata": {
    "ExecuteTime": {
     "start_time": "2021-02-23T17:28:23.540Z"
    }
   },
   "outputs": [],
   "source": [
    "seq_length = generate_sequences()"
   ]
  },
  {
   "cell_type": "code",
   "execution_count": null,
   "metadata": {
    "ExecuteTime": {
     "start_time": "2021-02-23T17:28:23.544Z"
    }
   },
   "outputs": [],
   "source": [
    "pd.Series(seq_length).to_csv(results_path / 'seq_length.csv')"
   ]
  },
  {
   "cell_type": "code",
   "execution_count": null,
   "metadata": {
    "ExecuteTime": {
     "start_time": "2021-02-23T17:28:23.547Z"
    }
   },
   "outputs": [],
   "source": [
    "seq_length.describe(deciles)"
   ]
  },
  {
   "cell_type": "code",
   "execution_count": null,
   "metadata": {
    "ExecuteTime": {
     "start_time": "2021-02-23T17:28:23.549Z"
    }
   },
   "outputs": [],
   "source": [
    "seq_length.sum()"
   ]
  },
  {
   "cell_type": "code",
   "execution_count": null,
   "metadata": {
    "ExecuteTime": {
     "start_time": "2021-02-23T17:28:23.552Z"
    }
   },
   "outputs": [],
   "source": [
    "fig, axes = plt.subplots(ncols=3, figsize=(18,5))\n",
    "token_cnt.n.plot(logy=True, logx=True, ax=axes[0], title='Token Frequency (log-log scale)')\n",
    "sent_length.sort_index().loc[:50].plot.bar(ax=axes[1], rot=0, title='Sentence Length')\n",
    "\n",
    "n=5\n",
    "ticks = axes[1].xaxis.get_ticklocs()\n",
    "ticklabels = [l.get_text() for l in axes[1].xaxis.get_ticklabels()]\n",
    "axes[1].xaxis.set_ticks(ticks[n-1::n])\n",
    "axes[1].xaxis.set_ticklabels(ticklabels[n-1::n])\n",
    "axes[1].set_xlabel('Sentence Length')\n",
    "\n",
    "sns.distplot(seq_length, ax=axes[2], bins=50)\n",
    "axes[0].set_ylabel('Token Frequency')\n",
    "axes[0].set_xlabel('Token ID')\n",
    "\n",
    "axes[2].set_xlabel('# Words per Filing')\n",
    "axes[2].set_title('Filing Length Distribution')\n",
    "\n",
    "fig.suptitle('Corpus Stats', fontsize=13)\n",
    "sns.despine()\n",
    "fig.tight_layout()\n",
    "fig.subplots_adjust(top=.85)\n",
    "fig.savefig(results_path / 'sec_seq_len', dpi=300);"
   ]
  },
  {
   "cell_type": "code",
   "execution_count": null,
   "metadata": {
    "ExecuteTime": {
     "start_time": "2021-02-23T17:28:23.555Z"
    }
   },
   "outputs": [],
   "source": [
    "files = vector_path.glob('*.npy')\n",
    "filings = sorted([int(f.stem) for f in files])"
   ]
  },
  {
   "cell_type": "markdown",
   "metadata": {},
   "source": [
    "## Prepare Model Data"
   ]
  },
  {
   "cell_type": "markdown",
   "metadata": {},
   "source": [
    "### Create weekly forward returns"
   ]
  },
  {
   "cell_type": "code",
   "execution_count": null,
   "metadata": {
    "ExecuteTime": {
     "start_time": "2021-02-23T17:28:23.561Z"
    }
   },
   "outputs": [],
   "source": [
    "prices = pd.read_hdf(results_path / 'sec_returns.h5', 'prices')\n",
    "prices.info()"
   ]
  },
  {
   "cell_type": "code",
   "execution_count": null,
   "metadata": {
    "ExecuteTime": {
     "start_time": "2021-02-23T17:28:23.564Z"
    }
   },
   "outputs": [],
   "source": [
    "fwd_return = {}\n",
    "for filing in filings:\n",
    "    date_filed = filing_index.at[filing, 'date_filed']\n",
    "    price_data = prices[prices.filing==filing].close.sort_index()\n",
    "    \n",
    "    try:\n",
    "        r = (price_data\n",
    "             .pct_change(periods=5)\n",
    "             .shift(-5)\n",
    "             .loc[:date_filed]\n",
    "             .iloc[-1])\n",
    "    except:\n",
    "        continue\n",
    "    if not np.isnan(r) and -.5 < r < 1:\n",
    "        fwd_return[filing] = r"
   ]
  },
  {
   "cell_type": "code",
   "execution_count": null,
   "metadata": {
    "ExecuteTime": {
     "start_time": "2021-02-23T17:28:23.566Z"
    }
   },
   "outputs": [],
   "source": [
    "len(fwd_return)"
   ]
  },
  {
   "cell_type": "markdown",
   "metadata": {},
   "source": [
    "### Combine returns with filing data"
   ]
  },
  {
   "cell_type": "code",
   "execution_count": null,
   "metadata": {
    "ExecuteTime": {
     "start_time": "2021-02-23T17:28:23.571Z"
    }
   },
   "outputs": [],
   "source": [
    "y, X = [], []\n",
    "for filing_id, fwd_ret in fwd_return.items():\n",
    "    X.append(np.load(vector_path / f'{filing_id}.npy') + 2)\n",
    "    y.append(fwd_ret)\n",
    "y = np.array(y)"
   ]
  },
  {
   "cell_type": "code",
   "execution_count": null,
   "metadata": {
    "ExecuteTime": {
     "start_time": "2021-02-23T17:28:23.574Z"
    }
   },
   "outputs": [],
   "source": [
    "len(y), len(X)"
   ]
  },
  {
   "cell_type": "code",
   "execution_count": null,
   "metadata": {
    "ExecuteTime": {
     "start_time": "2021-02-23T17:28:23.578Z"
    }
   },
   "outputs": [],
   "source": [
    "X_train, X_test, y_train, y_test = train_test_split(X, y, test_size=.1)"
   ]
  },
  {
   "cell_type": "markdown",
   "metadata": {},
   "source": [
    "### Pad sequences"
   ]
  },
  {
   "cell_type": "markdown",
   "metadata": {},
   "source": [
    "In the second step, we convert the lists of integers into fixed-size arrays that we can stack and provide as input to our RNN. The pad_sequence function produces arrays of equal length, truncated, and padded to conform to maxlen, as follows:"
   ]
  },
  {
   "cell_type": "code",
   "execution_count": null,
   "metadata": {
    "ExecuteTime": {
     "start_time": "2021-02-23T17:28:23.584Z"
    }
   },
   "outputs": [],
   "source": [
    "maxlen = 20000"
   ]
  },
  {
   "cell_type": "code",
   "execution_count": null,
   "metadata": {
    "ExecuteTime": {
     "start_time": "2021-02-23T17:28:23.587Z"
    }
   },
   "outputs": [],
   "source": [
    "X_train = pad_sequences(X_train, \n",
    "                        truncating='pre', \n",
    "                        padding='pre', \n",
    "                        maxlen=maxlen)\n",
    "\n",
    "X_test = pad_sequences(X_test, \n",
    "                       truncating='pre', \n",
    "                       padding='pre', \n",
    "                       maxlen=maxlen)"
   ]
  },
  {
   "cell_type": "code",
   "execution_count": null,
   "metadata": {
    "ExecuteTime": {
     "start_time": "2021-02-23T17:28:23.590Z"
    }
   },
   "outputs": [],
   "source": [
    "X_train.shape, X_test.shape"
   ]
  },
  {
   "cell_type": "markdown",
   "metadata": {},
   "source": [
    "## Define Model Architecture"
   ]
  },
  {
   "cell_type": "code",
   "execution_count": null,
   "metadata": {
    "ExecuteTime": {
     "start_time": "2021-02-23T17:28:23.594Z"
    }
   },
   "outputs": [],
   "source": [
    "K.clear_session()"
   ]
  },
  {
   "cell_type": "markdown",
   "metadata": {},
   "source": [
    "Now we can define our RNN architecture. The first layer learns the word embeddings. We define the embedding dimension as previously using the input_dim keyword to set the number of tokens that we need to embed, the output_dim keyword, which defines the size of each embedding, and how long each input sequence is going to be."
   ]
  },
  {
   "cell_type": "code",
   "execution_count": null,
   "metadata": {
    "ExecuteTime": {
     "start_time": "2021-02-23T17:28:23.598Z"
    }
   },
   "outputs": [],
   "source": [
    "embedding_size = 100"
   ]
  },
  {
   "cell_type": "markdown",
   "metadata": {},
   "source": [
    "Note that we are using GRUs this time, which train faster and perform better on smaller data. We are also using dropout for regularization, as follows:"
   ]
  },
  {
   "cell_type": "code",
   "execution_count": null,
   "metadata": {
    "ExecuteTime": {
     "start_time": "2021-02-23T17:28:23.602Z"
    }
   },
   "outputs": [],
   "source": [
    "input_dim = X_train.max() + 1"
   ]
  },
  {
   "cell_type": "code",
   "execution_count": null,
   "metadata": {
    "ExecuteTime": {
     "start_time": "2021-02-23T17:28:23.604Z"
    }
   },
   "outputs": [],
   "source": [
    "rnn = Sequential([\n",
    "    Embedding(input_dim=input_dim, \n",
    "              output_dim=embedding_size, \n",
    "              input_length=maxlen,\n",
    "             name='EMB'),\n",
    "    BatchNormalization(name='BN1'),\n",
    "    Bidirectional(GRU(32), name='BD1'),\n",
    "    BatchNormalization(name='BN2'),\n",
    "    Dropout(.1, name='DO1'),\n",
    "    Dense(5, name='D'),\n",
    "    Dense(1, activation='linear', name='OUT')\n",
    "])"
   ]
  },
  {
   "cell_type": "markdown",
   "metadata": {},
   "source": [
    "The resulting model has over 2 million parameters."
   ]
  },
  {
   "cell_type": "code",
   "execution_count": null,
   "metadata": {
    "ExecuteTime": {
     "start_time": "2021-02-23T17:28:23.609Z"
    }
   },
   "outputs": [],
   "source": [
    "rnn.summary()"
   ]
  },
  {
   "cell_type": "code",
   "execution_count": null,
   "metadata": {
    "ExecuteTime": {
     "start_time": "2021-02-23T17:28:23.612Z"
    }
   },
   "outputs": [],
   "source": [
    "rnn.compile(loss='mse', \n",
    "            optimizer='Adam',\n",
    "            metrics=[RootMeanSquaredError(name='RMSE'),\n",
    "                     MeanAbsoluteError(name='MAE')])"
   ]
  },
  {
   "cell_type": "markdown",
   "metadata": {},
   "source": [
    "## Train model"
   ]
  },
  {
   "cell_type": "code",
   "execution_count": null,
   "metadata": {
    "ExecuteTime": {
     "start_time": "2021-02-23T17:28:23.616Z"
    }
   },
   "outputs": [],
   "source": [
    "early_stopping = EarlyStopping(monitor='val_MAE', \n",
    "                               patience=5,\n",
    "                               restore_best_weights=True)"
   ]
  },
  {
   "cell_type": "markdown",
   "metadata": {},
   "source": [
    "Training stops after eight epochs and we recover the weights for the best models to find a high test AUC of 0.9346:"
   ]
  },
  {
   "cell_type": "code",
   "execution_count": null,
   "metadata": {
    "ExecuteTime": {
     "start_time": "2021-02-23T17:28:23.619Z"
    }
   },
   "outputs": [],
   "source": [
    "training = rnn.fit(X_train,\n",
    "                   y_train,\n",
    "                   batch_size=32,\n",
    "                   epochs=100,\n",
    "                   validation_data=(X_test, y_test),\n",
    "                   callbacks=[early_stopping],\n",
    "                   verbose=1)"
   ]
  },
  {
   "cell_type": "markdown",
   "metadata": {},
   "source": [
    "## Evaluate the Results"
   ]
  },
  {
   "cell_type": "code",
   "execution_count": null,
   "metadata": {
    "ExecuteTime": {
     "start_time": "2021-02-23T17:28:23.622Z"
    }
   },
   "outputs": [],
   "source": [
    "df = pd.DataFrame(training.history)\n",
    "df.to_csv(results_path / 'rnn_sec.csv', index=False)"
   ]
  },
  {
   "cell_type": "code",
   "execution_count": null,
   "metadata": {
    "ExecuteTime": {
     "start_time": "2021-02-23T17:28:23.625Z"
    }
   },
   "outputs": [],
   "source": [
    "df.index += 1"
   ]
  },
  {
   "cell_type": "code",
   "execution_count": null,
   "metadata": {
    "ExecuteTime": {
     "start_time": "2021-02-23T17:28:23.628Z"
    }
   },
   "outputs": [],
   "source": [
    "fig, axes = plt.subplots(ncols=2, figsize=(14, 4), sharey=True)\n",
    "df[['RMSE', 'val_RMSE']].rename(columns={'RMSE': 'Training', \n",
    "                                         'val_RMSE': 'Validation'}).plot(ax=axes[0], title='Root Mean Squared Error')\n",
    "df[['MAE', 'val_MAE']].rename(columns={'MAE': 'Training', \n",
    "                                         'val_MAE': 'Validation'}).plot(ax=axes[1], title='Mean Absolute Error')\n",
    "for i in [0, 1]:\n",
    "    axes[i].set_xlim(1, 10)\n",
    "    axes[i].set_xlabel('Epoch')\n",
    "fig.tight_layout()\n",
    "fig.savefig(results_path / 'sec_cv_performance', dpi=300);"
   ]
  },
  {
   "cell_type": "code",
   "execution_count": null,
   "metadata": {
    "ExecuteTime": {
     "start_time": "2021-02-23T17:28:23.631Z"
    }
   },
   "outputs": [],
   "source": [
    "y_score = rnn.predict(X_test)"
   ]
  },
  {
   "cell_type": "code",
   "execution_count": null,
   "metadata": {
    "ExecuteTime": {
     "start_time": "2021-02-23T17:28:23.633Z"
    }
   },
   "outputs": [],
   "source": [
    "rho, p = spearmanr(y_score.squeeze(), y_test)"
   ]
  },
  {
   "cell_type": "code",
   "execution_count": null,
   "metadata": {
    "ExecuteTime": {
     "start_time": "2021-02-23T17:28:23.636Z"
    }
   },
   "outputs": [],
   "source": [
    "print(f'{rho*100:.2f} ({p:.2%})')"
   ]
  },
  {
   "cell_type": "code",
   "execution_count": null,
   "metadata": {
    "ExecuteTime": {
     "start_time": "2021-02-23T17:28:23.639Z"
    }
   },
   "outputs": [],
   "source": [
    "g = sns.jointplot(y_score.squeeze(), y_test, kind='reg')\n",
    "g.annotate(spearmanr);"
   ]
  }
 ],
 "metadata": {
  "kernelspec": {
   "display_name": "Python 3",
   "language": "python",
   "name": "python3"
  },
  "language_info": {
   "codemirror_mode": {
    "name": "ipython",
    "version": 3
   },
   "file_extension": ".py",
   "mimetype": "text/x-python",
   "name": "python",
   "nbconvert_exporter": "python",
   "pygments_lexer": "ipython3",
   "version": "3.8.5"
  },
  "toc": {
   "base_numbering": 1,
   "nav_menu": {},
   "number_sections": true,
   "sideBar": true,
   "skip_h1_title": true,
   "title_cell": "Table of Contents",
   "title_sidebar": "Contents",
   "toc_cell": false,
   "toc_position": {},
   "toc_section_display": true,
   "toc_window_display": true
  },
  "toc-autonumbering": true,
  "toc-showtags": false
 },
 "nbformat": 4,
 "nbformat_minor": 4
}
