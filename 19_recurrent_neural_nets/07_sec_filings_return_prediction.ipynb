{
 "cells": [
  {
   "cell_type": "markdown",
   "metadata": {},
   "source": [
    "# RNN & Word Embeddings for SEC Filings to Predict Returns"
   ]
  },
  {
   "cell_type": "markdown",
   "metadata": {},
   "source": [
    "RNNs are commonly applied to various natural language processing tasks. We've already encountered sentiment analysis using text data in part three of this book.\n",
    "\n",
    "We are now going to apply an RNN model to SEC filings to learn custom word embeddings (see Chapter 16) and predict the returns over the week after the filing date."
   ]
  },
  {
   "cell_type": "markdown",
   "metadata": {},
   "source": [
    "## Imports & Settings"
   ]
  },
  {
   "cell_type": "code",
   "execution_count": 1,
   "metadata": {
    "ExecuteTime": {
     "end_time": "2021-02-23T17:15:33.518582Z",
     "start_time": "2021-02-23T17:15:33.516662Z"
    }
   },
   "outputs": [],
   "source": [
    "import warnings\n",
    "warnings.filterwarnings('ignore')"
   ]
  },
  {
   "cell_type": "code",
   "execution_count": 2,
   "metadata": {
    "ExecuteTime": {
     "end_time": "2021-02-23T17:15:35.525158Z",
     "start_time": "2021-02-23T17:15:33.668898Z"
    }
   },
   "outputs": [],
   "source": [
    "%matplotlib inline\n",
    "\n",
    "from pathlib import Path\n",
    "from time import time\n",
    "from collections import Counter\n",
    "from datetime import datetime, timedelta\n",
    "\n",
    "import numpy as np\n",
    "import pandas as pd\n",
    "from scipy.stats import spearmanr\n",
    "import yfinance as yf\n",
    "\n",
    "from gensim.models.word2vec import LineSentence\n",
    "from gensim.models.phrases import Phrases, Phraser\n",
    "\n",
    "from sklearn.model_selection import train_test_split\n",
    "\n",
    "import tensorflow as tf\n",
    "from tensorflow.keras.models import Sequential\n",
    "from tensorflow.keras.layers import (Dense, GRU, Bidirectional,\n",
    "                                     Embedding, BatchNormalization, Dropout)\n",
    "from tensorflow.keras.preprocessing.sequence import pad_sequences\n",
    "from tensorflow.keras.callbacks import EarlyStopping\n",
    "from tensorflow.keras.metrics import RootMeanSquaredError, MeanAbsoluteError\n",
    "import tensorflow.keras.backend as K\n",
    "\n",
    "import matplotlib.pyplot as plt\n",
    "import seaborn as sns"
   ]
  },
  {
   "cell_type": "code",
   "execution_count": 3,
   "metadata": {
    "ExecuteTime": {
     "end_time": "2021-02-23T17:15:35.559477Z",
     "start_time": "2021-02-23T17:15:35.526207Z"
    }
   },
   "outputs": [
    {
     "name": "stdout",
     "output_type": "stream",
     "text": [
      "Using GPU\n"
     ]
    }
   ],
   "source": [
    "gpu_devices = tf.config.experimental.list_physical_devices('GPU')\n",
    "if gpu_devices:\n",
    "    print('Using GPU')\n",
    "    tf.config.experimental.set_memory_growth(gpu_devices[0], True)\n",
    "else:\n",
    "    print('Using CPU')"
   ]
  },
  {
   "cell_type": "code",
   "execution_count": 4,
   "metadata": {
    "ExecuteTime": {
     "end_time": "2021-02-23T17:15:36.443787Z",
     "start_time": "2021-02-23T17:15:36.441899Z"
    }
   },
   "outputs": [],
   "source": [
    "np.random.seed(42)\n",
    "tf.random.set_seed(42)"
   ]
  },
  {
   "cell_type": "code",
   "execution_count": 5,
   "metadata": {
    "ExecuteTime": {
     "end_time": "2021-02-23T17:15:36.619307Z",
     "start_time": "2021-02-23T17:15:36.616921Z"
    }
   },
   "outputs": [],
   "source": [
    "idx = pd.IndexSlice\n",
    "sns.set_style('whitegrid')"
   ]
  },
  {
   "cell_type": "code",
   "execution_count": 6,
   "metadata": {
    "ExecuteTime": {
     "end_time": "2021-02-23T17:15:36.755607Z",
     "start_time": "2021-02-23T17:15:36.752932Z"
    }
   },
   "outputs": [],
   "source": [
    "def format_time(t):\n",
    "    m, s = divmod(t, 60)\n",
    "    h, m = divmod(m, 60)\n",
    "    return f'{h:02.0f}:{m:02.0f}:{s:02.0f}'"
   ]
  },
  {
   "cell_type": "code",
   "execution_count": 7,
   "metadata": {
    "ExecuteTime": {
     "end_time": "2021-02-23T17:15:36.909263Z",
     "start_time": "2021-02-23T17:15:36.907002Z"
    }
   },
   "outputs": [],
   "source": [
    "deciles = np.arange(.1, 1, .1).round(1)"
   ]
  },
  {
   "cell_type": "markdown",
   "metadata": {},
   "source": [
    "## Get stock price data"
   ]
  },
  {
   "cell_type": "markdown",
   "metadata": {},
   "source": [
    "### Paths"
   ]
  },
  {
   "cell_type": "code",
   "execution_count": 8,
   "metadata": {
    "ExecuteTime": {
     "end_time": "2021-02-23T17:15:40.900853Z",
     "start_time": "2021-02-23T17:15:40.898690Z"
    }
   },
   "outputs": [],
   "source": [
    "data_path = Path('..', 'data', 'sec-filings')"
   ]
  },
  {
   "cell_type": "code",
   "execution_count": 9,
   "metadata": {
    "ExecuteTime": {
     "end_time": "2021-02-23T17:15:42.542441Z",
     "start_time": "2021-02-23T17:15:42.539369Z"
    }
   },
   "outputs": [],
   "source": [
    "results_path = Path('results', 'sec-filings')\n",
    "\n",
    "selected_section_path = results_path / 'ngrams_1'\n",
    "ngram_path = results_path / 'ngrams'\n",
    "vector_path = results_path / 'vectors'\n",
    "\n",
    "for path in [vector_path, selected_section_path, ngram_path]:\n",
    "    if not path.exists():\n",
    "        path.mkdir(parents=True)"
   ]
  },
  {
   "cell_type": "markdown",
   "metadata": {},
   "source": [
    "### Get filing info"
   ]
  },
  {
   "cell_type": "code",
   "execution_count": 10,
   "metadata": {
    "ExecuteTime": {
     "end_time": "2021-02-23T17:15:45.140119Z",
     "start_time": "2021-02-23T17:15:45.066220Z"
    }
   },
   "outputs": [],
   "source": [
    "filing_index = (pd.read_csv(data_path / 'filing_index.csv',\n",
    "                            parse_dates=['DATE_FILED'])\n",
    "                .rename(columns=str.lower))\n",
    "filing_index.index += 1"
   ]
  },
  {
   "cell_type": "code",
   "execution_count": 11,
   "metadata": {
    "ExecuteTime": {
     "end_time": "2021-02-23T17:15:45.395434Z",
     "start_time": "2021-02-23T17:15:45.381675Z"
    }
   },
   "outputs": [
    {
     "name": "stdout",
     "output_type": "stream",
     "text": [
      "<class 'pandas.core.frame.DataFrame'>\n",
      "RangeIndex: 22631 entries, 1 to 22631\n",
      "Data columns (total 11 columns):\n",
      " #   Column        Non-Null Count  Dtype         \n",
      "---  ------        --------------  -----         \n",
      " 0   cik           22631 non-null  int64         \n",
      " 1   company_name  22631 non-null  object        \n",
      " 2   form_type     22631 non-null  object        \n",
      " 3   date_filed    22631 non-null  datetime64[ns]\n",
      " 4   edgar_link    22631 non-null  object        \n",
      " 5   quarter       22631 non-null  int64         \n",
      " 6   ticker        22631 non-null  object        \n",
      " 7   sic           22461 non-null  object        \n",
      " 8   exchange      20619 non-null  object        \n",
      " 9   hits          22555 non-null  object        \n",
      " 10  year          22631 non-null  int64         \n",
      "dtypes: datetime64[ns](1), int64(3), object(7)\n",
      "memory usage: 1.9+ MB\n"
     ]
    }
   ],
   "source": [
    "filing_index.info()"
   ]
  },
  {
   "cell_type": "code",
   "execution_count": 12,
   "metadata": {
    "ExecuteTime": {
     "end_time": "2021-02-23T17:15:47.808079Z",
     "start_time": "2021-02-23T17:15:47.792905Z"
    }
   },
   "outputs": [
    {
     "data": {
      "text/html": [
       "<div>\n",
       "<style scoped>\n",
       "    .dataframe tbody tr th:only-of-type {\n",
       "        vertical-align: middle;\n",
       "    }\n",
       "\n",
       "    .dataframe tbody tr th {\n",
       "        vertical-align: top;\n",
       "    }\n",
       "\n",
       "    .dataframe thead th {\n",
       "        text-align: right;\n",
       "    }\n",
       "</style>\n",
       "<table border=\"1\" class=\"dataframe\">\n",
       "  <thead>\n",
       "    <tr style=\"text-align: right;\">\n",
       "      <th></th>\n",
       "      <th>cik</th>\n",
       "      <th>company_name</th>\n",
       "      <th>form_type</th>\n",
       "      <th>date_filed</th>\n",
       "      <th>edgar_link</th>\n",
       "      <th>quarter</th>\n",
       "      <th>ticker</th>\n",
       "      <th>sic</th>\n",
       "      <th>exchange</th>\n",
       "      <th>hits</th>\n",
       "      <th>year</th>\n",
       "    </tr>\n",
       "  </thead>\n",
       "  <tbody>\n",
       "    <tr>\n",
       "      <th>1</th>\n",
       "      <td>1000180</td>\n",
       "      <td>SANDISK CORP</td>\n",
       "      <td>10-K</td>\n",
       "      <td>2013-02-19</td>\n",
       "      <td>edgar/data/1000180/0001000180-13-000009.txt</td>\n",
       "      <td>1</td>\n",
       "      <td>SNDK</td>\n",
       "      <td>3572</td>\n",
       "      <td>NASDAQ</td>\n",
       "      <td>3</td>\n",
       "      <td>2013</td>\n",
       "    </tr>\n",
       "    <tr>\n",
       "      <th>2</th>\n",
       "      <td>1000209</td>\n",
       "      <td>MEDALLION FINANCIAL CORP</td>\n",
       "      <td>10-K</td>\n",
       "      <td>2013-03-13</td>\n",
       "      <td>edgar/data/1000209/0001193125-13-103504.txt</td>\n",
       "      <td>1</td>\n",
       "      <td>TAXI</td>\n",
       "      <td>6199</td>\n",
       "      <td>NASDAQ</td>\n",
       "      <td>0</td>\n",
       "      <td>2013</td>\n",
       "    </tr>\n",
       "    <tr>\n",
       "      <th>3</th>\n",
       "      <td>1000228</td>\n",
       "      <td>HENRY SCHEIN INC</td>\n",
       "      <td>10-K</td>\n",
       "      <td>2013-02-13</td>\n",
       "      <td>edgar/data/1000228/0001000228-13-000010.txt</td>\n",
       "      <td>1</td>\n",
       "      <td>HSIC</td>\n",
       "      <td>5047</td>\n",
       "      <td>NASDAQ</td>\n",
       "      <td>3</td>\n",
       "      <td>2013</td>\n",
       "    </tr>\n",
       "    <tr>\n",
       "      <th>4</th>\n",
       "      <td>1000229</td>\n",
       "      <td>CORE LABORATORIES N V</td>\n",
       "      <td>10-K</td>\n",
       "      <td>2013-02-19</td>\n",
       "      <td>edgar/data/1000229/0001000229-13-000009.txt</td>\n",
       "      <td>1</td>\n",
       "      <td>CLB</td>\n",
       "      <td>1389</td>\n",
       "      <td>NYSE</td>\n",
       "      <td>2</td>\n",
       "      <td>2013</td>\n",
       "    </tr>\n",
       "    <tr>\n",
       "      <th>5</th>\n",
       "      <td>1000232</td>\n",
       "      <td>KENTUCKY BANCSHARES INC  KY</td>\n",
       "      <td>10-K</td>\n",
       "      <td>2013-03-28</td>\n",
       "      <td>edgar/data/1000232/0001104659-13-025094.txt</td>\n",
       "      <td>1</td>\n",
       "      <td>KTYB</td>\n",
       "      <td>6022</td>\n",
       "      <td>OTC</td>\n",
       "      <td>0</td>\n",
       "      <td>2013</td>\n",
       "    </tr>\n",
       "  </tbody>\n",
       "</table>\n",
       "</div>"
      ],
      "text/plain": [
       "       cik                  company_name form_type date_filed  \\\n",
       "1  1000180                  SANDISK CORP      10-K 2013-02-19   \n",
       "2  1000209      MEDALLION FINANCIAL CORP      10-K 2013-03-13   \n",
       "3  1000228              HENRY SCHEIN INC      10-K 2013-02-13   \n",
       "4  1000229         CORE LABORATORIES N V      10-K 2013-02-19   \n",
       "5  1000232  KENTUCKY BANCSHARES INC  KY       10-K 2013-03-28   \n",
       "\n",
       "                                    edgar_link  quarter ticker   sic exchange  \\\n",
       "1  edgar/data/1000180/0001000180-13-000009.txt        1   SNDK  3572   NASDAQ   \n",
       "2  edgar/data/1000209/0001193125-13-103504.txt        1   TAXI  6199   NASDAQ   \n",
       "3  edgar/data/1000228/0001000228-13-000010.txt        1   HSIC  5047   NASDAQ   \n",
       "4  edgar/data/1000229/0001000229-13-000009.txt        1    CLB  1389     NYSE   \n",
       "5  edgar/data/1000232/0001104659-13-025094.txt        1   KTYB  6022      OTC   \n",
       "\n",
       "  hits  year  \n",
       "1    3  2013  \n",
       "2    0  2013  \n",
       "3    3  2013  \n",
       "4    2  2013  \n",
       "5    0  2013  "
      ]
     },
     "execution_count": 12,
     "metadata": {},
     "output_type": "execute_result"
    }
   ],
   "source": [
    "filing_index.head()"
   ]
  },
  {
   "cell_type": "code",
   "execution_count": 13,
   "metadata": {
    "ExecuteTime": {
     "end_time": "2021-02-23T17:15:47.981965Z",
     "start_time": "2021-02-23T17:15:47.974876Z"
    }
   },
   "outputs": [
    {
     "data": {
      "text/plain": [
       "6630"
      ]
     },
     "execution_count": 13,
     "metadata": {},
     "output_type": "execute_result"
    }
   ],
   "source": [
    "filing_index.ticker.nunique()"
   ]
  },
  {
   "cell_type": "code",
   "execution_count": 14,
   "metadata": {
    "ExecuteTime": {
     "end_time": "2021-02-23T17:15:49.960520Z",
     "start_time": "2021-02-23T17:15:49.953116Z"
    }
   },
   "outputs": [
    {
     "data": {
      "text/plain": [
       "count                   22631\n",
       "unique                    980\n",
       "top       2014-03-31 00:00:00\n",
       "freq                      442\n",
       "first     2013-01-02 00:00:00\n",
       "last      2016-12-30 00:00:00\n",
       "Name: date_filed, dtype: object"
      ]
     },
     "execution_count": 14,
     "metadata": {},
     "output_type": "execute_result"
    }
   ],
   "source": [
    "filing_index.date_filed.describe()"
   ]
  },
  {
   "cell_type": "markdown",
   "metadata": {},
   "source": [
    "### Download stock price data using Yfinance"
   ]
  },
  {
   "cell_type": "code",
   "execution_count": null,
   "metadata": {
    "ExecuteTime": {
     "start_time": "2021-02-23T17:15:57.200Z"
    },
    "scrolled": true
   },
   "outputs": [
    {
     "name": "stdout",
     "output_type": "stream",
     "text": [
      "- AAC: No data found, symbol may be delisted\n",
      "- AAC: No data found, symbol may be delisted\n",
      "- AAC: No data found, symbol may be delisted\n",
      "- AAN: Data doesn't exist for startDate = 1353477600, endDate = 1364187600\n",
      "- AAN: Data doesn't exist for startDate = 1385186400, endDate = 1395896400\n",
      "- AAN: Data doesn't exist for startDate = 1417240800, endDate = 1427950800\n",
      "- AAN: Data doesn't exist for startDate = 1448690400, endDate = 1459400400\n",
      "- AAPH: No data found, symbol may be delisted\n",
      "- AAPH: No data found, symbol may be delisted\n",
      "- AARI: No data found for this date range, symbol may be delisted\n",
      "- AARI: No data found for this date range, symbol may be delisted\n",
      "- AARI: No data found for this date range, symbol may be delisted\n",
      "- AARI: No data found for this date range, symbol may be delisted\n",
      "- AARS: No data found, symbol may be delisted\n",
      "- AARS: No data found, symbol may be delisted\n",
      "- AAVL: Data doesn't exist for startDate = 1417500000, endDate = 1428210000\n",
      "- AAVL: Data doesn't exist for startDate = 1449036000, endDate = 1459746000\n",
      "- ABCR: No data found for this date range, symbol may be delisted\n",
      "- ABCW: No data found for this date range, symbol may be delisted\n",
      "- ABCW: No data found for this date range, symbol may be delisted\n",
      "- ABCW: No data found for this date range, symbol may be delisted\n",
      "- ABFS: No data found for this date range, symbol may be delisted\n",
      "- ABFS: No data found for this date range, symbol may be delisted\n",
      "- ABFS: No data found for this date range, symbol may be delisted\n",
      "- ABFS: No data found for this date range, symbol may be delisted\n",
      "- ABH: No data found for this date range, symbol may be delisted\n",
      "- ABH: No data found for this date range, symbol may be delisted\n",
      "- ABH: No data found for this date range, symbol may be delisted\n",
      "- ABHD: No data found, symbol may be delisted\n",
      "- ABHD: No data found, symbol may be delisted\n",
      "- ABHD: No data found, symbol may be delisted\n",
      "- ABHD: No data found, symbol may be delisted\n",
      "- ABRM: No data found for this date range, symbol may be delisted\n",
      "- ABTL: No data found for this date range, symbol may be delisted\n",
      "- ABTL: No data found for this date range, symbol may be delisted\n",
      "- ABTL: No data found for this date range, symbol may be delisted\n",
      "- ABTL: No data found for this date range, symbol may be delisted\n",
      "- ABWS: No data found for this date range, symbol may be delisted\n",
      "- ACAR: No data found for this date range, symbol may be delisted\n",
      "- ACAR: No data found for this date range, symbol may be delisted\n",
      "- ACAR: No data found for this date range, symbol may be delisted\n",
      "- ACAR: No data found for this date range, symbol may be delisted\n",
      "- ACAS: No data found for this date range, symbol may be delisted\n",
      "- ACAS: No data found for this date range, symbol may be delisted\n",
      "- ACAS: No data found for this date range, symbol may be delisted\n",
      "- ACAS: No data found for this date range, symbol may be delisted\n",
      "- ACAT: No data found for this date range, symbol may be delisted\n",
      "- ACAT: No data found for this date range, symbol may be delisted\n",
      "- ACAT: No data found for this date range, symbol may be delisted\n",
      "- ACAT: No data found for this date range, symbol may be delisted\n",
      "- ACCM: No data found for this date range, symbol may be delisted\n",
      "- ACCM: No data found for this date range, symbol may be delisted\n",
      "- ACCP: No data found for this date range, symbol may be delisted\n",
      "- ACCP: No data found for this date range, symbol may be delisted\n",
      "- ACCP: No data found for this date range, symbol may be delisted\n",
      "- ACCP: No data found for this date range, symbol may be delisted\n",
      "- ACE: Data doesn't exist for startDate = 1353996000, endDate = 1364706000\n",
      "- ACE: Data doesn't exist for startDate = 1385532000, endDate = 1396242000\n",
      "- ACE: Data doesn't exist for startDate = 1416981600, endDate = 1427691600\n",
      "- ACE: Data doesn't exist for startDate = 1448431200, endDate = 1459141200\n",
      "- ACEL: Data doesn't exist for startDate = 1358834400, endDate = 1369544400\n",
      "- ACEL: Data doesn't exist for startDate = 1358834400, endDate = 1369544400\n",
      "- ACET: Data doesn't exist for startDate = 1369717200, endDate = 1380430800\n",
      "- ACET: Data doesn't exist for startDate = 1401858000, endDate = 1412571600\n",
      "- ACET: Data doesn't exist for startDate = 1433912400, endDate = 1444626000\n",
      "- ACET: Data doesn't exist for startDate = 1464152400, endDate = 1474866000\n",
      "- ACHN: No data found, symbol may be delisted\n",
      "- ACHN: No data found, symbol may be delisted\n",
      "- ACHN: No data found, symbol may be delisted\n",
      "- ACHN: No data found, symbol may be delisted\n",
      "- ACI: Data doesn't exist for startDate = 1354082400, endDate = 1364792400\n",
      "- ACI: Data doesn't exist for startDate = 1385532000, endDate = 1396242000\n",
      "- ACI: Data doesn't exist for startDate = 1416981600, endDate = 1427691600\n",
      "- ACI: Data doesn't exist for startDate = 1449986400, endDate = 1460696400\n",
      "- ACLO: No data found for this date range, symbol may be delisted\n",
      "- ACLO: No data found for this date range, symbol may be delisted\n",
      "- ACLO: No data found for this date range, symbol may be delisted\n",
      "- ACLO: No data found for this date range, symbol may be delisted\n",
      "- ACMP: No data found for this date range, symbol may be delisted\n",
      "- ACMP: No data found for this date range, symbol may be delisted\n",
      "- ACMP: No data found for this date range, symbol may be delisted\n",
      "- ACMP: No data found for this date range, symbol may be delisted\n",
      "- ACO: No data found for this date range, symbol may be delisted\n",
      "- ACO: No data found for this date range, symbol may be delisted\n",
      "- ACPW: No data found for this date range, symbol may be delisted\n",
      "- ACPW: No data found for this date range, symbol may be delisted\n",
      "- ACPW: No data found for this date range, symbol may be delisted\n",
      "- ACPW: No data found for this date range, symbol may be delisted\n",
      "- ACRI: Data doesn't exist for startDate = 1356242400, endDate = 1366952400\n",
      "- ACRI: Data doesn't exist for startDate = 1387951200, endDate = 1398661200\n",
      "- ACRO: No data found for this date range, symbol may be delisted\n",
      "- ACRO: No data found for this date range, symbol may be delisted\n",
      "- ACRO: No data found for this date range, symbol may be delisted\n",
      "- ACRO: No data found for this date range, symbol may be delisted\n",
      "- ACSF: No data found, symbol may be delisted\n",
      "- ACSF: No data found, symbol may be delisted\n",
      "- ACT: Data doesn't exist for startDate = 1353996000, endDate = 1364706000\n",
      "- ACT: Data doesn't exist for startDate = 1385272800, endDate = 1395982800\n",
      "- ACT: Data doesn't exist for startDate = 1416204000, endDate = 1426914000\n",
      "- ACT: Data doesn't exist for startDate = 1448431200, endDate = 1459141200\n",
      "- ACTC: Data doesn't exist for startDate = 1354600800, endDate = 1365310800\n",
      "- ACTC: Data doesn't exist for startDate = 1357452000, endDate = 1368162000\n",
      "- ACTC: Data doesn't exist for startDate = 1388296800, endDate = 1399006800\n",
      "- ACTC: Data doesn't exist for startDate = 1418450400, endDate = 1429160400\n",
      "- ACTC: Data doesn't exist for startDate = 1413090000, endDate = 1423807200\n",
      "- ACTC: Data doesn't exist for startDate = 1421042400, endDate = 1431752400\n",
      "- ACTC: Data doesn't exist for startDate = 1452578400, endDate = 1463288400\n",
      "- ACTU: No data found for this date range, symbol may be delisted\n",
      "- ACTU: No data found for this date range, symbol may be delisted\n",
      "- ACTV: Data doesn't exist for startDate = 1353909600, endDate = 1364619600\n",
      "- ACW: No data found for this date range, symbol may be delisted\n",
      "- ACW: No data found for this date range, symbol may be delisted\n",
      "- ACW: No data found for this date range, symbol may be delisted\n",
      "- ACW: No data found for this date range, symbol may be delisted\n",
      "- ACXM: No data found for this date range, symbol may be delisted\n",
      "- ACXM: No data found for this date range, symbol may be delisted\n",
      "- ACXM: No data found for this date range, symbol may be delisted\n",
      "- ACXM: No data found for this date range, symbol may be delisted\n",
      "- ADAC: No data found, symbol may be delisted\n",
      "- ADAC: No data found, symbol may be delisted\n",
      "- ADAC: No data found, symbol may be delisted\n",
      "- ADAC: No data found, symbol may be delisted\n",
      "- ADAT: No data found for this date range, symbol may be delisted\n",
      "- ADAT: No data found for this date range, symbol may be delisted\n",
      "- ADAT: No data found for this date range, symbol may be delisted\n",
      "- ADB: Data doesn't exist for startDate = 1353996000, endDate = 1364706000\n",
      "- ADB: Data doesn't exist for startDate = 1385272800, endDate = 1395982800\n"
     ]
    },
    {
     "name": "stdout",
     "output_type": "stream",
     "text": [
      "- ADB: Data doesn't exist for startDate = 1416808800, endDate = 1427518800\n",
      "- ADB: Data doesn't exist for startDate = 1448258400, endDate = 1458968400\n",
      "- ADEP: No data found for this date range, symbol may be delisted\n",
      "- ADEP: No data found for this date range, symbol may be delisted\n",
      "- ADEP: No data found for this date range, symbol may be delisted\n",
      "- ADGE: No data found for this date range, symbol may be delisted\n",
      "- ADGE: No data found for this date range, symbol may be delisted\n",
      "- ADGE: No data found for this date range, symbol may be delisted\n",
      "- ADGE: No data found for this date range, symbol may be delisted\n",
      "- ADGL: Data doesn't exist for startDate = 1356760800, endDate = 1367470800\n",
      "- ADGL: Data doesn't exist for startDate = 1388210400, endDate = 1398920400\n",
      "- ADHXF: No data found for this date range, symbol may be delisted\n",
      "- ADHXF: No data found for this date range, symbol may be delisted\n",
      "- ADHXF: No data found for this date range, symbol may be delisted\n",
      "- ADHXF: No data found for this date range, symbol may be delisted\n",
      "- ADK: Data doesn't exist for startDate = 1365224400, endDate = 1375938000\n",
      "- ADK: Data doesn't exist for startDate = 1388210400, endDate = 1398920400\n",
      "- ADK: Data doesn't exist for startDate = 1419746400, endDate = 1430456400\n",
      "- ADK: Data doesn't exist for startDate = 1451282400, endDate = 1461992400\n",
      "- ADMA: Data doesn't exist for startDate = 1354514400, endDate = 1365224400\n",
      "- ADMC: No data found, symbol may be delisted\n",
      "- ADMC: No data found, symbol may be delisted\n",
      "- ADMC: No data found, symbol may be delisted\n",
      "- ADMD: No data found for this date range, symbol may be delisted\n",
      "- ADMD: No data found for this date range, symbol may be delisted\n",
      "- ADMD: No data found for this date range, symbol may be delisted\n",
      "- ADMD: No data found for this date range, symbol may be delisted\n",
      "- ADNC: No data found for this date range, symbol may be delisted\n",
      "- ADNC: No data found for this date range, symbol may be delisted\n",
      "- ADNC: No data found for this date range, symbol may be delisted\n",
      "- ADPT: Data doesn't exist for startDate = 1354946400, endDate = 1365656400\n",
      "- ADPT: Data doesn't exist for startDate = 1386568800, endDate = 1397278800\n",
      "- ADPT: Data doesn't exist for startDate = 1418450400, endDate = 1429160400\n",
      "- ADPT: Data doesn't exist for startDate = 1449640800, endDate = 1460350800\n",
      "- ADRO: No data found, symbol may be delisted\n",
      "- ADRV: No data found, symbol may be delisted\n",
      "- ADRV: No data found, symbol may be delisted\n",
      "- ADRV: No data found, symbol may be delisted\n",
      "- ADRV: No data found, symbol may be delisted\n",
      "- ADT: Data doesn't exist for startDate = 1376888400, endDate = 1387605600\n",
      "- ADT: Data doesn't exist for startDate = 1407733200, endDate = 1418450400\n",
      "- ADT: Data doesn't exist for startDate = 1439269200, endDate = 1449986400\n",
      "- ADVS: No data found for this date range, symbol may be delisted\n",
      "- ADVS: No data found for this date range, symbol may be delisted\n",
      "- ADVS: No data found for this date range, symbol may be delisted\n",
      "- ADY: No data found for this date range, symbol may be delisted\n",
      "- AEBF: No data found for this date range, symbol may be delisted\n",
      "- AEBF: No data found for this date range, symbol may be delisted\n",
      "- AEBF: No data found for this date range, symbol may be delisted\n",
      "- AEBF: No data found for this date range, symbol may be delisted\n",
      "- AEC: No data found for this date range, symbol may be delisted\n",
      "- AEC: No data found for this date range, symbol may be delisted\n",
      "- AEC: No data found for this date range, symbol may be delisted\n",
      "- AEGA: No data found, symbol may be delisted\n",
      "- AEGA: No data found, symbol may be delisted\n",
      "- AEGA: No data found, symbol may be delisted\n",
      "- AEGA: No data found, symbol may be delisted\n",
      "- AEGR: No data found for this date range, symbol may be delisted\n",
      "- AEGR: No data found for this date range, symbol may be delisted\n",
      "- AEGR: No data found for this date range, symbol may be delisted\n",
      "- AEGR: No data found for this date range, symbol may be delisted\n",
      "- AEN: No data found for this date range, symbol may be delisted\n",
      "- AEN: No data found for this date range, symbol may be delisted\n",
      "- AEN: No data found for this date range, symbol may be delisted\n",
      "- AEPI: No data found for this date range, symbol may be delisted\n",
      "- AEPI: No data found for this date range, symbol may be delisted\n",
      "- AEPI: No data found for this date range, symbol may be delisted\n",
      "- AEPI: No data found for this date range, symbol may be delisted\n",
      "- AERG: Data doesn't exist for startDate = 1356501600, endDate = 1367211600\n",
      "- AERG: Data doesn't exist for startDate = 1389420000, endDate = 1400130000\n",
      "- AERG: Data doesn't exist for startDate = 1420956000, endDate = 1431666000\n",
      "- AERG: Data doesn't exist for startDate = 1451282400, endDate = 1461992400\n",
      "- AERR: No data found, symbol may be delisted\n",
      "- AERT: No data found for this date range, symbol may be delisted\n",
      "- AERT: No data found for this date range, symbol may be delisted\n",
      "- AERT: No data found for this date range, symbol may be delisted\n",
      "- AERT: No data found for this date range, symbol may be delisted\n",
      "- AETI: No data found, symbol may be delisted\n",
      "- AETI: No data found, symbol may be delisted\n",
      "- AETI: No data found, symbol may be delisted\n",
      "- AETI: No data found, symbol may be delisted\n",
      "- AEXP: No data found, symbol may be delisted\n",
      "- AEXP: No data found, symbol may be delisted\n",
      "- AEXP: No data found, symbol may be delisted\n",
      "- AEXP: No data found, symbol may be delisted\n",
      "- AF: No data found for this date range, symbol may be delisted\n",
      "- AF: No data found for this date range, symbol may be delisted\n",
      "- AF: No data found for this date range, symbol may be delisted\n",
      "- AF: No data found for this date range, symbol may be delisted\n",
      "- AFEM: No data found for this date range, symbol may be delisted\n",
      "- AFEM: No data found for this date range, symbol may be delisted\n",
      "- AFEM: No data found for this date range, symbol may be delisted\n",
      "- AFEM: No data found for this date range, symbol may be delisted\n",
      "- AFFM: No data found for this date range, symbol may be delisted\n",
      "- AFFM: No data found for this date range, symbol may be delisted\n",
      "- AFFM: No data found for this date range, symbol may be delisted\n",
      "- AFFW: No data found for this date range, symbol may be delisted\n",
      "- AFFW: No data found for this date range, symbol may be delisted\n",
      "- AFFW: No data found for this date range, symbol may be delisted\n",
      "- AFFW: No data found for this date range, symbol may be delisted\n",
      "- AFFX: No data found for this date range, symbol may be delisted\n",
      "- AFFX: No data found for this date range, symbol may be delisted\n",
      "- AFFX: No data found for this date range, symbol may be delisted\n",
      "- AFFX: No data found for this date range, symbol may be delisted\n",
      "- AFH: No data found, symbol may be delisted\n",
      "- AFH: No data found, symbol may be delisted\n",
      "- AFH: No data found, symbol may be delisted\n",
      "- AFH: No data found, symbol may be delisted\n",
      "- AFOP: No data found for this date range, symbol may be delisted\n",
      "- AFOP: No data found for this date range, symbol may be delisted\n",
      "- AFOP: No data found for this date range, symbol may be delisted\n",
      "- AFOP: No data found for this date range, symbol may be delisted\n",
      "- AFSN: No data found, symbol may be delisted\n",
      "- AFSN: No data found, symbol may be delisted\n",
      "- AFSN: No data found, symbol may be delisted\n",
      "- AFSN: No data found, symbol may be delisted\n",
      "- AGII: No data found for this date range, symbol may be delisted\n",
      "- AGII: No data found for this date range, symbol may be delisted\n",
      "- AGII: No data found for this date range, symbol may be delisted\n",
      "- AGII: No data found for this date range, symbol may be delisted\n",
      "- AGN: No data found, symbol may be delisted\n",
      "- AGN: No data found, symbol may be delisted\n",
      "- AGN: No data found, symbol may be delisted\n",
      "- AGRC: No data found for this date range, symbol may be delisted\n",
      "- AGRC: No data found for this date range, symbol may be delisted\n",
      "- AGRC: No data found for this date range, symbol may be delisted\n",
      "- AH: Data doesn't exist for startDate = 1411880400, endDate = 1422597600\n",
      "- AH: Data doesn't exist for startDate = 1427000400, endDate = 1437714000\n",
      "- AHII: Data doesn't exist for startDate = 1354341600, endDate = 1365051600\n",
      "- AHP: No data found for this date range, symbol may be delisted\n",
      "- AHP: No data found for this date range, symbol may be delisted\n"
     ]
    },
    {
     "name": "stdout",
     "output_type": "stream",
     "text": [
      "- AHP: No data found for this date range, symbol may be delisted\n",
      "- AHRO: No data found for this date range, symbol may be delisted\n",
      "- AHRO: No data found for this date range, symbol may be delisted\n",
      "- AHS: No data found for this date range, symbol may be delisted\n",
      "- AHS: No data found for this date range, symbol may be delisted\n",
      "- AHS: No data found for this date range, symbol may be delisted\n",
      "- AHS: No data found for this date range, symbol may be delisted\n",
      "- AIMT: No data found, symbol may be delisted\n",
      "- AIQ: Data doesn't exist for startDate = 1355292000, endDate = 1366002000\n",
      "- AIQ: Data doesn't exist for startDate = 1386655200, endDate = 1397365200\n",
      "- AIQ: Data doesn't exist for startDate = 1418450400, endDate = 1429160400\n",
      "- AIQ: Data doesn't exist for startDate = 1449554400, endDate = 1460264400\n",
      "- AIRM: No data found for this date range, symbol may be delisted\n",
      "- AIRM: No data found for this date range, symbol may be delisted\n",
      "- AIRM: No data found for this date range, symbol may be delisted\n",
      "- AIRM: No data found for this date range, symbol may be delisted\n",
      "- AIRW: No data found for this date range, symbol may be delisted\n",
      "- AIRW: No data found for this date range, symbol may be delisted\n",
      "- AIRW: No data found for this date range, symbol may be delisted\n",
      "- AIRW: No data found for this date range, symbol may be delisted\n",
      "- AJGI: No data found, symbol may be delisted\n",
      "- AJGI: No data found, symbol may be delisted\n",
      "- AJGI: No data found, symbol may be delisted\n",
      "- AJGI: No data found, symbol may be delisted\n",
      "- AJSB: No data found, symbol may be delisted\n",
      "- AJSB: No data found, symbol may be delisted\n",
      "- AJSB: No data found, symbol may be delisted\n",
      "- AKAO: No data found, symbol may be delisted\n",
      "- AKAO: No data found, symbol may be delisted\n",
      "- AKRN: No data found for this date range, symbol may be delisted\n",
      "- AKS: No data found, symbol may be delisted\n",
      "- AKS: No data found, symbol may be delisted\n",
      "- AKS: No data found, symbol may be delisted\n",
      "- AKS: No data found, symbol may be delisted\n",
      "- ALC: Data doesn't exist for startDate = 1355205600, endDate = 1365915600\n",
      "- ALDR: No data found, symbol may be delisted\n",
      "- ALDR: No data found, symbol may be delisted\n",
      "- ALDW: No data found for this date range, symbol may be delisted\n",
      "- ALDW: No data found for this date range, symbol may be delisted\n",
      "- ALDW: No data found for this date range, symbol may be delisted\n",
      "- ALDW: No data found for this date range, symbol may be delisted\n",
      "- ALFE: No data found for this date range, symbol may be delisted\n",
      "- ALFE: No data found for this date range, symbol may be delisted\n",
      "- ALGI: No data found, symbol may be delisted\n",
      "- ALGI: No data found, symbol may be delisted\n",
      "- ALIM: Data doesn't exist for startDate = 1356415200, endDate = 1367125200\n",
      "- ALIM: Data doesn't exist for startDate = 1386136800, endDate = 1396846800\n",
      "- ALIM: Data doesn't exist for startDate = 1418191200, endDate = 1428901200\n",
      "- ALIM: Data doesn't exist for startDate = 1449986400, endDate = 1460696400\n",
      "- ALJ: No data found for this date range, symbol may be delisted\n",
      "- ALJ: No data found for this date range, symbol may be delisted\n",
      "- ALJ: No data found for this date range, symbol may be delisted\n",
      "- ALJ: No data found for this date range, symbol may be delisted\n",
      "- ALLB: No data found for this date range, symbol may be delisted\n",
      "- ALLB: No data found for this date range, symbol may be delisted\n",
      "- ALLB: No data found for this date range, symbol may be delisted\n",
      "- ALLY: Data doesn't exist for startDate = 1354082400, endDate = 1364792400\n",
      "250 551 100\n",
      "- ALMG: No data found for this date range, symbol may be delisted\n",
      "- ALMG: No data found for this date range, symbol may be delisted\n",
      "- ALN: No data found for this date range, symbol may be delisted\n",
      "- ALN: No data found for this date range, symbol may be delisted\n",
      "- ALN: No data found for this date range, symbol may be delisted\n",
      "- ALN: No data found for this date range, symbol may be delisted\n",
      "- ALPN: Data doesn't exist for startDate = 1356501600, endDate = 1367211600\n",
      "- ALPN: Data doesn't exist for startDate = 1387173600, endDate = 1397883600\n",
      "- ALPN: Data doesn't exist for startDate = 1419660000, endDate = 1430370000\n",
      "- ALPPRN: No data found, symbol may be delisted\n",
      "- ALPPRN: No data found, symbol may be delisted\n",
      "- ALPPRN: No data found, symbol may be delisted\n",
      "- ALPPRN: No data found, symbol may be delisted\n",
      "- ALQA: No data found, symbol may be delisted\n",
      "- ALQA: No data found, symbol may be delisted\n",
      "- ALQA: No data found, symbol may be delisted\n",
      "- ALQA: No data found, symbol may be delisted\n",
      "- ALR: Data doesn't exist for startDate = 1354082400, endDate = 1364792400\n",
      "- ALR: Data doesn't exist for startDate = 1385791200, endDate = 1396501200\n",
      "- ALR: Data doesn't exist for startDate = 1417500000, endDate = 1428210000\n",
      "- ALR: Data doesn't exist for startDate = 1462597200, endDate = 1473310800\n",
      "- ALRX: No data found for this date range, symbol may be delisted\n",
      "- ALSO: No data found for this date range, symbol may be delisted\n",
      "- ALSO: No data found for this date range, symbol may be delisted\n",
      "- ALSO: No data found for this date range, symbol may be delisted\n",
      "- ALTI: No data found for this date range, symbol may be delisted\n",
      "- ALTI: No data found for this date range, symbol may be delisted\n",
      "- ALTR: Data doesn't exist for startDate = 1352872800, endDate = 1363582800\n",
      "- ALTR: Data doesn't exist for startDate = 1384322400, endDate = 1395032400\n",
      "- ALTR: Data doesn't exist for startDate = 1415772000, endDate = 1426482000\n",
      "- ALTV: No data found for this date range, symbol may be delisted\n",
      "- ALTV: No data found for this date range, symbol may be delisted\n",
      "- ALTV: No data found for this date range, symbol may be delisted\n",
      "- ALXA: No data found for this date range, symbol may be delisted\n",
      "- ALXA: No data found for this date range, symbol may be delisted\n",
      "- ALXA: No data found for this date range, symbol may be delisted\n",
      "- ALXA: No data found for this date range, symbol may be delisted\n",
      "- AM: Data doesn't exist for startDate = 1360044000, endDate = 1370754000\n",
      "- AM: Data doesn't exist for startDate = 1393653600, endDate = 1404363600\n",
      "- AM: Data doesn't exist for startDate = 1423634400, endDate = 1434344400\n",
      "- AM: Data doesn't exist for startDate = 1456207200, endDate = 1466917200\n",
      "- AMAG: No data found, symbol may be delisted\n",
      "- AMAG: No data found, symbol may be delisted\n",
      "- AMAG: No data found, symbol may be delisted\n",
      "- AMAG: No data found, symbol may be delisted\n",
      "- AMAR: Data doesn't exist for startDate = 1356760800, endDate = 1367470800\n",
      "- AMAR: Data doesn't exist for startDate = 1389506400, endDate = 1400216400\n",
      "- AMAR: Data doesn't exist for startDate = 1420869600, endDate = 1431579600\n",
      "- AMAR: Data doesn't exist for startDate = 1451282400, endDate = 1461992400\n",
      "- AMAS: No data found for this date range, symbol may be delisted\n",
      "- AMAS: No data found for this date range, symbol may be delisted\n",
      "- AMAS: No data found for this date range, symbol may be delisted\n",
      "- AMB: No data found for this date range, symbol may be delisted\n",
      "- AMB: No data found for this date range, symbol may be delisted\n",
      "- AMB: No data found for this date range, symbol may be delisted\n",
      "- AMB: No data found for this date range, symbol may be delisted\n",
      "- AMBI: Data doesn't exist for startDate = 1387260000, endDate = 1397970000\n",
      "- AMBR: No data found, symbol may be delisted\n",
      "- AMBR: No data found, symbol may be delisted\n",
      "- AMBT: No data found for this date range, symbol may be delisted\n",
      "- AMBT: No data found for this date range, symbol may be delisted\n",
      "- AMCC: No data found for this date range, symbol may be delisted\n",
      "- AMCC: No data found for this date range, symbol may be delisted\n",
      "- AMCC: No data found for this date range, symbol may be delisted\n",
      "- AMCC: No data found for this date range, symbol may be delisted\n",
      "- AMCM: No data found for this date range, symbol may be delisted\n",
      "- AMCM: No data found for this date range, symbol may be delisted\n",
      "- AMCM: No data found for this date range, symbol may be delisted\n",
      "- AMCM: No data found for this date range, symbol may be delisted\n",
      "- AMDA: No data found for this date range, symbol may be delisted\n",
      "- AMDA: No data found for this date range, symbol may be delisted\n",
      "- AMDA: No data found for this date range, symbol may be delisted\n",
      "- AMFE: No data found, symbol may be delisted\n",
      "- AMGTI: No data found, symbol may be delisted\n",
      "- AMGTI: No data found, symbol may be delisted\n"
     ]
    },
    {
     "name": "stdout",
     "output_type": "stream",
     "text": [
      "- AMGTI: No data found, symbol may be delisted\n",
      "- AMGTI: No data found, symbol may be delisted\n",
      "- AMGTI: No data found, symbol may be delisted\n",
      "- AMIC: No data found for this date range, symbol may be delisted\n",
      "- AMIC: No data found for this date range, symbol may be delisted\n",
      "- AMIC: No data found for this date range, symbol may be delisted\n",
      "- AMIC: No data found for this date range, symbol may be delisted\n",
      "- AMID: No data found, symbol may be delisted\n",
      "- AMID: No data found, symbol may be delisted\n",
      "- AMID: No data found, symbol may be delisted\n",
      "- AMID: No data found, symbol may be delisted\n",
      "- AMPD: No data found for this date range, symbol may be delisted\n",
      "- AMPD: No data found for this date range, symbol may be delisted\n",
      "- AMPD: No data found for this date range, symbol may be delisted\n",
      "- AMPD: No data found for this date range, symbol may be delisted\n",
      "- AMRI: No data found for this date range, symbol may be delisted\n",
      "- AMRI: No data found for this date range, symbol may be delisted\n",
      "- AMRI: No data found for this date range, symbol may be delisted\n",
      "- AMRI: No data found for this date range, symbol may be delisted\n",
      "- AMRZ: No data found, symbol may be delisted\n",
      "- AMRZ: No data found, symbol may be delisted\n",
      "- AMSG: No data found for this date range, symbol may be delisted\n",
      "- AMSG: No data found for this date range, symbol may be delisted\n",
      "- AMSG: No data found for this date range, symbol may be delisted\n",
      "- AMSG: No data found for this date range, symbol may be delisted\n",
      "- AMSV: No data found, symbol may be delisted\n",
      "- AMTD: No data found, symbol may be delisted\n",
      "- AMTD: No data found, symbol may be delisted\n",
      "- AMTD: No data found, symbol may be delisted\n",
      "- AMTD: No data found, symbol may be delisted\n",
      "- AMTG: No data found for this date range, symbol may be delisted\n",
      "- AMTG: No data found for this date range, symbol may be delisted\n",
      "- AMTG: No data found for this date range, symbol may be delisted\n",
      "- AMTG: No data found for this date range, symbol may be delisted\n",
      "- AMZG: No data found for this date range, symbol may be delisted\n",
      "- AMZG: No data found for this date range, symbol may be delisted\n",
      "- AMZG: No data found for this date range, symbol may be delisted\n",
      "- AMZZ: No data found for this date range, symbol may be delisted\n",
      "- AMZZ: No data found for this date range, symbol may be delisted\n",
      "- AMZZ: No data found for this date range, symbol may be delisted\n",
      "- ANAC: No data found for this date range, symbol may be delisted\n",
      "- ANAC: No data found for this date range, symbol may be delisted\n",
      "- ANAC: No data found for this date range, symbol may be delisted\n",
      "- ANAC: No data found for this date range, symbol may be delisted\n",
      "- ANAD: No data found for this date range, symbol may be delisted\n",
      "- ANAD: No data found for this date range, symbol may be delisted\n",
      "- ANAD: No data found for this date range, symbol may be delisted\n",
      "- ANAD: No data found for this date range, symbol may be delisted\n",
      "- ANCI: No data found for this date range, symbol may be delisted\n",
      "- ANCI: No data found for this date range, symbol may be delisted\n",
      "- ANCI: No data found for this date range, symbol may be delisted\n",
      "- ANCI: No data found for this date range, symbol may be delisted\n",
      "- ANCV: No data found, symbol may be delisted\n",
      "- ANCV: No data found, symbol may be delisted\n",
      "- ANCV: No data found, symbol may be delisted\n",
      "- ANCV: No data found, symbol may be delisted\n",
      "- ANGN: Data doesn't exist for startDate = 1351400400, endDate = 1362117600\n",
      "- ANGN: Data doesn't exist for startDate = 1382850000, endDate = 1393567200\n",
      "- ANGN: Data doesn't exist for startDate = 1414472400, endDate = 1425189600\n",
      "- ANGN: Data doesn't exist for startDate = 1446008400, endDate = 1456725600\n",
      "- ANLT: No data found for this date range, symbol may be delisted\n",
      "- ANLT: No data found for this date range, symbol may be delisted\n",
      "- ANLT: No data found for this date range, symbol may be delisted\n",
      "- ANN: No data found for this date range, symbol may be delisted\n",
      "- ANN: No data found for this date range, symbol may be delisted\n",
      "- ANN: No data found for this date range, symbol may be delisted\n",
      "- ANPI: No data found for this date range, symbol may be delisted\n",
      "- ANPZ: No data found for this date range, symbol may be delisted\n",
      "- ANPZ: No data found for this date range, symbol may be delisted\n",
      "- ANPZ: No data found for this date range, symbol may be delisted\n",
      "- ANPZ: No data found for this date range, symbol may be delisted\n",
      "- ANSR: No data found for this date range, symbol may be delisted\n",
      "- ANSR: No data found for this date range, symbol may be delisted\n",
      "- ANSR: No data found for this date range, symbol may be delisted\n",
      "- ANSR: No data found for this date range, symbol may be delisted\n",
      "- ANTL: Data doesn't exist for startDate = 1355119200, endDate = 1365829200\n",
      "- ANTL: Data doesn't exist for startDate = 1385272800, endDate = 1395982800\n",
      "- ANTL: Data doesn't exist for startDate = 1421042400, endDate = 1431752400\n",
      "- ANTL: Data doesn't exist for startDate = 1455343200, endDate = 1466053200\n",
      "- ANVS: Data doesn't exist for startDate = 1356415200, endDate = 1367125200\n",
      "- ANX: No data found for this date range, symbol may be delisted\n",
      "- ANX: No data found for this date range, symbol may be delisted\n",
      "- ANX: No data found for this date range, symbol may be delisted\n",
      "- ANX: No data found for this date range, symbol may be delisted\n",
      "- AOB: No data found for this date range, symbol may be delisted\n",
      "- AOB: No data found for this date range, symbol may be delisted\n",
      "- AOGS: No data found, symbol may be delisted\n",
      "- AOGS: No data found, symbol may be delisted\n",
      "- AOGS: No data found, symbol may be delisted\n",
      "- AOI: No data found for this date range, symbol may be delisted\n",
      "- AOI: No data found for this date range, symbol may be delisted\n",
      "- AOI: No data found for this date range, symbol may be delisted\n",
      "- AOI: No data found for this date range, symbol may be delisted\n",
      "- AOIL: Data doesn't exist for startDate = 1388210400, endDate = 1398920400\n",
      "- AOIL: Data doesn't exist for startDate = 1419746400, endDate = 1430456400\n",
      "- AOIX: No data found, symbol may be delisted\n",
      "- AOIX: No data found, symbol may be delisted\n",
      "- AOIX: No data found, symbol may be delisted\n",
      "- AOL: No data found for this date range, symbol may be delisted\n",
      "- AOL: No data found for this date range, symbol may be delisted\n",
      "- AOL: No data found for this date range, symbol may be delisted\n",
      "- APAG: No data found, symbol may be delisted\n",
      "- APAG: No data found, symbol may be delisted\n",
      "- APC: No data found, symbol may be delisted\n",
      "- APC: No data found, symbol may be delisted\n",
      "- APC: No data found, symbol may be delisted\n",
      "- APC: No data found, symbol may be delisted\n",
      "- APHD: No data found, symbol may be delisted\n",
      "- APHD: No data found, symbol may be delisted\n",
      "- APHD: No data found, symbol may be delisted\n",
      "- APHD: No data found, symbol may be delisted\n",
      "- APHY: No data found, symbol may be delisted\n",
      "- APHY: No data found, symbol may be delisted\n",
      "- API: Data doesn't exist for startDate = 1364619600, endDate = 1375333200\n",
      "- API: Data doesn't exist for startDate = 1396069200, endDate = 1406782800\n",
      "- APL: Data doesn't exist for startDate = 1353996000, endDate = 1364706000\n",
      "- APL: Data doesn't exist for startDate = 1384840800, endDate = 1395550800\n",
      "- APL: Data doesn't exist for startDate = 1416981600, endDate = 1427691600\n",
      "- APLE: Data doesn't exist for startDate = 1354600800, endDate = 1365310800\n",
      "- APLE: Data doesn't exist for startDate = 1386482400, endDate = 1397192400\n",
      "- APLE: Data doesn't exist for startDate = 1417586400, endDate = 1428296400\n",
      "- APLL: No data found for this date range, symbol may be delisted\n",
      "- APLL: No data found for this date range, symbol may be delisted\n",
      "- APLL: No data found for this date range, symbol may be delisted\n",
      "- APLL: No data found for this date range, symbol may be delisted\n",
      "- APNB: No data found for this date range, symbol may be delisted\n",
      "- APNB: No data found for this date range, symbol may be delisted\n",
      "- APNB: No data found for this date range, symbol may be delisted\n",
      "- APNB: No data found for this date range, symbol may be delisted\n",
      "- APOL: No data found for this date range, symbol may be delisted\n",
      "- APOL: No data found for this date range, symbol may be delisted\n",
      "- APOL: No data found for this date range, symbol may be delisted\n",
      "- APOL: No data found for this date range, symbol may be delisted\n",
      "- APP: Data doesn't exist for startDate = 1354428000, endDate = 1365138000\n"
     ]
    },
    {
     "name": "stdout",
     "output_type": "stream",
     "text": [
      "- APP: Data doesn't exist for startDate = 1388296800, endDate = 1399006800\n",
      "- APPA: No data found for this date range, symbol may be delisted\n",
      "- APPA: No data found for this date range, symbol may be delisted\n",
      "- APPA: No data found for this date range, symbol may be delisted\n",
      "- APPA: No data found for this date range, symbol may be delisted\n",
      "- APU: No data found, symbol may be delisted\n",
      "- APU: No data found, symbol may be delisted\n",
      "- APU: No data found, symbol may be delisted\n",
      "- APU: No data found, symbol may be delisted\n",
      "- AQNM: No data found for this date range, symbol may be delisted\n",
      "- AQQ: Data doesn't exist for startDate = 1356760800, endDate = 1367470800\n",
      "- AQQ: Data doesn't exist for startDate = 1406696400, endDate = 1417413600\n",
      "- AQUM: No data found for this date range, symbol may be delisted\n",
      "- AQXP: No data found, symbol may be delisted\n",
      "- AQXP: No data found, symbol may be delisted\n",
      "- ARB: Data doesn't exist for startDate = 1353736800, endDate = 1364446800\n",
      "- ARBE: No data found for this date range, symbol may be delisted\n",
      "- ARBE: No data found for this date range, symbol may be delisted\n",
      "- ARBE: No data found for this date range, symbol may be delisted\n",
      "- ARBE: No data found for this date range, symbol may be delisted\n",
      "- ARCI: No data found, symbol may be delisted\n",
      "- ARCI: No data found, symbol may be delisted\n",
      "- ARCI: No data found, symbol may be delisted\n",
      "- ARCI: No data found, symbol may be delisted\n",
      "- ARCP: No data found for this date range, symbol may be delisted\n",
      "- ARCP: No data found for this date range, symbol may be delisted\n",
      "- ARCP: No data found for this date range, symbol may be delisted\n",
      "- ARCP: No data found for this date range, symbol may be delisted\n",
      "- ARCX: No data found for this date range, symbol may be delisted\n",
      "- ARCX: No data found for this date range, symbol may be delisted\n",
      "- ARCX: No data found for this date range, symbol may be delisted\n",
      "- ARDM: No data found, symbol may be delisted\n",
      "- ARDM: No data found, symbol may be delisted\n",
      "- ARDM: No data found, symbol may be delisted\n",
      "- ARDM: No data found, symbol may be delisted\n",
      "- AREX: No data found, symbol may be delisted\n",
      "- AREX: No data found, symbol may be delisted\n",
      "- AREX: No data found, symbol may be delisted\n",
      "- AREX: No data found, symbol may be delisted\n",
      "- ARG: Data doesn't exist for startDate = 1361167200, endDate = 1371877200\n",
      "- ARG: Data doesn't exist for startDate = 1393308000, endDate = 1404018000\n",
      "- ARG: Data doesn't exist for startDate = 1424671200, endDate = 1435381200\n",
      "- ARG: Data doesn't exist for startDate = 1454824800, endDate = 1465534800\n",
      "- ARGN: No data found for this date range, symbol may be delisted\n",
      "- ARGN: No data found for this date range, symbol may be delisted\n",
      "- ARGN: No data found for this date range, symbol may be delisted\n",
      "- ARGN: No data found for this date range, symbol may be delisted\n",
      "- ARGS: No data found for this date range, symbol may be delisted\n",
      "- ARGS: No data found for this date range, symbol may be delisted\n",
      "- ARGS: No data found for this date range, symbol may be delisted\n",
      "- ARIA: No data found for this date range, symbol may be delisted\n",
      "- ARIA: No data found for this date range, symbol may be delisted\n",
      "- ARIA: No data found for this date range, symbol may be delisted\n",
      "- ARIA: No data found for this date range, symbol may be delisted\n",
      "- ARIS: No data found for this date range, symbol may be delisted\n",
      "- ARIS: No data found for this date range, symbol may be delisted\n",
      "- ARIS: No data found for this date range, symbol may be delisted\n",
      "- ARIS: No data found for this date range, symbol may be delisted\n",
      "- ARLZ: No data found for this date range, symbol may be delisted\n",
      "- ARMX: No data found, symbol may be delisted\n",
      "- ARO: No data found for this date range, symbol may be delisted\n",
      "- ARO: No data found for this date range, symbol may be delisted\n",
      "- ARO: No data found for this date range, symbol may be delisted\n",
      "- ARO: No data found for this date range, symbol may be delisted\n",
      "- ARP: No data found for this date range, symbol may be delisted\n",
      "- ARP: No data found for this date range, symbol may be delisted\n",
      "- ARP: No data found for this date range, symbol may be delisted\n",
      "- ARP: No data found for this date range, symbol may be delisted\n",
      "- ARPI: No data found for this date range, symbol may be delisted\n",
      "- ARPI: No data found for this date range, symbol may be delisted\n",
      "- ARQL: No data found, symbol may be delisted\n",
      "- ARQL: No data found, symbol may be delisted\n",
      "- ARQL: No data found, symbol may be delisted\n",
      "- ARQL: No data found, symbol may be delisted\n",
      "- ARRS: No data found, symbol may be delisted\n",
      "- ARRS: No data found, symbol may be delisted\n",
      "- ARRS: No data found, symbol may be delisted\n",
      "- ARRY: Data doesn't exist for startDate = 1368248400, endDate = 1378962000\n",
      "- ARRY: Data doesn't exist for startDate = 1400043600, endDate = 1410757200\n",
      "- ARRY: Data doesn't exist for startDate = 1432098000, endDate = 1442811600\n",
      "- ARRY: Data doesn't exist for startDate = 1463547600, endDate = 1474261200\n",
      "- ARSD: No data found for this date range, symbol may be delisted\n",
      "- ARSD: No data found for this date range, symbol may be delisted\n",
      "- ARSD: No data found for this date range, symbol may be delisted\n",
      "- ARSD: No data found for this date range, symbol may be delisted\n",
      "- ARTX: No data found, symbol may be delisted\n",
      "- ARTX: No data found, symbol may be delisted\n",
      "- ARTX: No data found, symbol may be delisted\n",
      "- ARTX: No data found, symbol may be delisted\n",
      "- ARUN: No data found for this date range, symbol may be delisted\n",
      "- ARUN: No data found for this date range, symbol may be delisted\n",
      "- ARVT: No data found for this date range, symbol may be delisted\n",
      "- ARVT: No data found for this date range, symbol may be delisted\n",
      "- ARVT: No data found for this date range, symbol may be delisted\n",
      "- ARVT: No data found for this date range, symbol may be delisted\n",
      "- ARWA: No data found for this date range, symbol may be delisted\n",
      "- ARX: No data found for this date range, symbol may be delisted\n",
      "- ARXG: No data found, symbol may be delisted\n",
      "- ARXG: No data found, symbol may be delisted\n",
      "- ASBB: No data found for this date range, symbol may be delisted\n",
      "- ASBB: No data found for this date range, symbol may be delisted\n",
      "- ASBB: No data found for this date range, symbol may be delisted\n",
      "- ASBB: No data found for this date range, symbol may be delisted\n",
      "- ASBC: No data found for this date range, symbol may be delisted\n",
      "- ASBC: No data found for this date range, symbol may be delisted\n",
      "- ASBC: No data found for this date range, symbol may be delisted\n",
      "- ASBC: No data found for this date range, symbol may be delisted\n",
      "- ASBI: No data found for this date range, symbol may be delisted\n",
      "- ASBI: No data found for this date range, symbol may be delisted\n",
      "- ASBI: No data found for this date range, symbol may be delisted\n",
      "- ASCMA: No data found, symbol may be delisted\n",
      "- ASCMA: No data found, symbol may be delisted\n",
      "- ASCMA: No data found, symbol may be delisted\n",
      "- ASCMA: No data found, symbol may be delisted\n",
      "- ASDI: No data found, symbol may be delisted\n",
      "- ASDI: No data found, symbol may be delisted\n",
      "- ASDI: No data found, symbol may be delisted\n",
      "- ASDI: No data found, symbol may be delisted\n",
      "- ASEI: No data found for this date range, symbol may be delisted\n",
      "- ASEI: No data found for this date range, symbol may be delisted\n",
      "- ASEI: No data found for this date range, symbol may be delisted\n",
      "- ASEI: No data found for this date range, symbol may be delisted\n",
      "- ASEN: No data found for this date range, symbol may be delisted\n",
      "- ASFI: No data found, symbol may be delisted\n",
      "- ASFI: No data found, symbol may be delisted\n",
      "- ASFI: No data found, symbol may be delisted\n",
      "- ASFI: No data found, symbol may be delisted\n",
      "- ASFI: No data found, symbol may be delisted\n",
      "- ASHN: No data found, symbol may be delisted\n",
      "- ASHN: No data found, symbol may be delisted\n",
      "- ASHN: No data found, symbol may be delisted\n",
      "- ASHN: No data found, symbol may be delisted\n",
      "- ASI: No data found for this date range, symbol may be delisted\n",
      "- ASIA: No data found for this date range, symbol may be delisted\n",
      "- ASIQ: No data found for this date range, symbol may be delisted\n",
      "- ASIQ: No data found for this date range, symbol may be delisted\n",
      "- ASIQ: No data found for this date range, symbol may be delisted\n",
      "- ASIQ: No data found for this date range, symbol may be delisted\n"
     ]
    },
    {
     "name": "stdout",
     "output_type": "stream",
     "text": [
      "- ASIT: No data found for this date range, symbol may be delisted\n",
      "- ASKH: Data doesn't exist for startDate = 1356242400, endDate = 1366952400\n",
      "- ASNA: No data found, symbol may be delisted\n",
      "- ASNA: No data found, symbol may be delisted\n",
      "- ASNA: No data found, symbol may be delisted\n",
      "- ASNA: No data found, symbol may be delisted\n",
      "- ASPE: No data found for this date range, symbol may be delisted\n",
      "- ASPE: No data found for this date range, symbol may be delisted\n",
      "- ASPE: No data found for this date range, symbol may be delisted\n",
      "- ASPN: Data doesn't exist for startDate = 1356415200, endDate = 1367125200\n",
      "- ASPN: Data doesn't exist for startDate = 1387260000, endDate = 1397970000\n",
      "- ASPX: No data found for this date range, symbol may be delisted\n",
      "- ASPX: No data found for this date range, symbol may be delisted\n",
      "500 1026 217\n",
      "- ASTM: No data found for this date range, symbol may be delisted\n",
      "- ASTM: No data found for this date range, symbol may be delisted\n",
      "- ASTM: No data found for this date range, symbol may be delisted\n",
      "- ASTM: No data found for this date range, symbol may be delisted\n",
      "- ASTV: Data doesn't exist for startDate = 1364360400, endDate = 1375074000\n",
      "- ASTV: Data doesn't exist for startDate = 1395118800, endDate = 1405832400\n",
      "- ASUV: No data found, symbol may be delisted\n",
      "- ASXHTW: No data found, symbol may be delisted\n",
      "- ASXHTW: No data found, symbol may be delisted\n",
      "- ASXHTW: No data found, symbol may be delisted\n",
      "- ASXHTW: No data found, symbol may be delisted\n",
      "- ATAXZ: No data found for this date range, symbol may be delisted\n",
      "- ATAXZ: No data found for this date range, symbol may be delisted\n",
      "- ATAXZ: No data found for this date range, symbol may be delisted\n",
      "- ATAXZ: No data found for this date range, symbol may be delisted\n",
      "- ATEA: No data found, symbol may be delisted\n",
      "- ATEA: No data found, symbol may be delisted\n",
      "- ATEA: No data found, symbol may be delisted\n",
      "- ATEA: No data found, symbol may be delisted\n",
      "- ATER: No data found for this date range, symbol may be delisted\n",
      "- ATER: No data found for this date range, symbol may be delisted\n",
      "- ATER: No data found for this date range, symbol may be delisted\n",
      "- ATER: No data found for this date range, symbol may be delisted\n",
      "- ATHL: No data found for this date range, symbol may be delisted\n",
      "- ATHN: Data doesn't exist for startDate = 1352527200, endDate = 1363237200\n",
      "- ATHN: Data doesn't exist for startDate = 1383717600, endDate = 1394427600\n",
      "- ATHN: Data doesn't exist for startDate = 1415426400, endDate = 1426136400\n",
      "- ATHN: Data doesn't exist for startDate = 1446530400, endDate = 1457244000\n",
      "- ATK: No data found for this date range, symbol may be delisted\n",
      "- ATK: No data found for this date range, symbol may be delisted\n",
      "- ATK: No data found for this date range, symbol may be delisted\n",
      "- ATLS: Data doesn't exist for startDate = 1354082400, endDate = 1364792400\n",
      "- ATLS: Data doesn't exist for startDate = 1356760800, endDate = 1367470800\n",
      "- ATLS: Data doesn't exist for startDate = 1356760800, endDate = 1367470800\n",
      "- ATLS: Data doesn't exist for startDate = 1356760800, endDate = 1367470800\n",
      "- ATLS: Data doesn't exist for startDate = 1356760800, endDate = 1367470800\n",
      "- ATLS: Data doesn't exist for startDate = 1356760800, endDate = 1367470800\n",
      "- ATLS: Data doesn't exist for startDate = 1356760800, endDate = 1367470800\n",
      "- ATLS: Data doesn't exist for startDate = 1356760800, endDate = 1367470800\n",
      "- ATLS: Data doesn't exist for startDate = 1356760800, endDate = 1367470800\n",
      "- ATLS: Data doesn't exist for startDate = 1356760800, endDate = 1367470800\n",
      "- ATLS: Data doesn't exist for startDate = 1356760800, endDate = 1367470800\n",
      "- ATLS: Data doesn't exist for startDate = 1356760800, endDate = 1367470800\n",
      "- ATLS: Data doesn't exist for startDate = 1356760800, endDate = 1367470800\n",
      "- ATLS: Data doesn't exist for startDate = 1356760800, endDate = 1367470800\n",
      "- ATLS: Data doesn't exist for startDate = 1356760800, endDate = 1367470800\n",
      "- ATLS: Data doesn't exist for startDate = 1388210400, endDate = 1398920400\n",
      "- ATLS: Data doesn't exist for startDate = 1388210400, endDate = 1398920400\n",
      "- ATLS: Data doesn't exist for startDate = 1388210400, endDate = 1398920400\n",
      "- ATLS: Data doesn't exist for startDate = 1388210400, endDate = 1398920400\n",
      "- ATLS: Data doesn't exist for startDate = 1388210400, endDate = 1398920400\n",
      "- ATLS: Data doesn't exist for startDate = 1388210400, endDate = 1398920400\n",
      "- ATLS: Data doesn't exist for startDate = 1385791200, endDate = 1396501200\n",
      "- ATLS: Data doesn't exist for startDate = 1388210400, endDate = 1398920400\n",
      "- ATLS: Data doesn't exist for startDate = 1388210400, endDate = 1398920400\n",
      "- ATLS: Data doesn't exist for startDate = 1388210400, endDate = 1398920400\n",
      "- ATLS: Data doesn't exist for startDate = 1388210400, endDate = 1398920400\n",
      "- ATLS: Data doesn't exist for startDate = 1388210400, endDate = 1398920400\n",
      "- ATLS: Data doesn't exist for startDate = 1388210400, endDate = 1398920400\n",
      "- ATLS: Data doesn't exist for startDate = 1388210400, endDate = 1398920400\n",
      "- ATLS: Data doesn't exist for startDate = 1388210400, endDate = 1398920400\n",
      "- ATML: No data found for this date range, symbol may be delisted\n",
      "- ATML: No data found for this date range, symbol may be delisted\n",
      "- ATML: No data found for this date range, symbol may be delisted\n",
      "- ATML: No data found for this date range, symbol may be delisted\n",
      "- ATOC: No data found for this date range, symbol may be delisted\n",
      "- ATOC: No data found for this date range, symbol may be delisted\n",
      "- ATOC: No data found for this date range, symbol may be delisted\n",
      "- ATOC: No data found for this date range, symbol may be delisted\n",
      "- ATRM: No data found, symbol may be delisted\n",
      "- ATRM: No data found, symbol may be delisted\n",
      "- ATRM: No data found, symbol may be delisted\n",
      "- ATRM: No data found, symbol may be delisted\n",
      "- ATSX: No data found for this date range, symbol may be delisted\n",
      "- ATSX: No data found for this date range, symbol may be delisted\n",
      "- ATSX: No data found for this date range, symbol may be delisted\n",
      "- ATSX: No data found for this date range, symbol may be delisted\n",
      "- ATU: No data found, symbol may be delisted\n",
      "- ATU: No data found, symbol may be delisted\n",
      "- ATU: No data found, symbol may be delisted\n",
      "- ATU: No data found, symbol may be delisted\n",
      "- ATVG: No data found, symbol may be delisted\n",
      "- AUAG: Data doesn't exist for startDate = 1358056800, endDate = 1368766800\n",
      "- AUAG: Data doesn't exist for startDate = 1418536800, endDate = 1429246800\n",
      "- AUGME: No data found, symbol may be delisted\n",
      "- AUGME: No data found, symbol may be delisted\n",
      "- AUMA: No data found for this date range, symbol may be delisted\n",
      "- AUMA: No data found for this date range, symbol may be delisted\n",
      "- AURM: No data found, symbol may be delisted\n",
      "- AURM: No data found, symbol may be delisted\n",
      "- AUSI: Data doesn't exist for startDate = 1362978000, endDate = 1373691600\n",
      "- AUSI: Data doesn't exist for startDate = 1394600400, endDate = 1405314000\n",
      "- AUXL: No data found for this date range, symbol may be delisted\n",
      "- AUXL: No data found for this date range, symbol may be delisted\n",
      "- AUXO: No data found for this date range, symbol may be delisted\n",
      "- AUXO: No data found for this date range, symbol may be delisted\n",
      "- AUXO: No data found for this date range, symbol may be delisted\n",
      "- AUXO: No data found for this date range, symbol may be delisted\n",
      "- AV: No data found for this date range, symbol may be delisted\n",
      "- AV: No data found for this date range, symbol may be delisted\n",
      "- AV: No data found for this date range, symbol may be delisted\n",
      "- AVAN: Data doesn't exist for startDate = 1354687200, endDate = 1365397200\n",
      "- AVAN: Data doesn't exist for startDate = 1385791200, endDate = 1396501200\n",
      "- AVAN: Data doesn't exist for startDate = 1416722400, endDate = 1427432400\n",
      "- AVAN: Data doesn't exist for startDate = 1448172000, endDate = 1458882000\n",
      "- AVCA: No data found for this date range, symbol may be delisted\n",
      "- AVCA: No data found for this date range, symbol may be delisted\n",
      "- AVCA: No data found for this date range, symbol may be delisted\n",
      "- AVCA: No data found for this date range, symbol may be delisted\n",
      "- AVIV: No data found for this date range, symbol may be delisted\n",
      "- AVIV: No data found for this date range, symbol may be delisted\n",
      "- AVIV: No data found for this date range, symbol may be delisted\n",
      "- AVNR: No data found for this date range, symbol may be delisted\n"
     ]
    },
    {
     "name": "stdout",
     "output_type": "stream",
     "text": [
      "- AVNR: No data found for this date range, symbol may be delisted\n",
      "- AVP: No data found, symbol may be delisted\n",
      "- AVP: No data found, symbol may be delisted\n",
      "- AVP: No data found, symbol may be delisted\n",
      "- AVP: No data found, symbol may be delisted\n",
      "- AVSO: No data found for this date range, symbol may be delisted\n",
      "- AVSO: No data found for this date range, symbol may be delisted\n",
      "- AVSO: No data found for this date range, symbol may be delisted\n",
      "- AVTC: No data found for this date range, symbol may be delisted\n",
      "- AVTC: No data found for this date range, symbol may be delisted\n",
      "- AVTD: No data found, symbol may be delisted\n",
      "- AVTD: No data found, symbol may be delisted\n",
      "- AVTD: No data found, symbol may be delisted\n",
      "- AVTD: No data found, symbol may be delisted\n",
      "- AVUG: No data found, symbol may be delisted\n",
      "- AVUG: No data found, symbol may be delisted\n",
      "- AVUG: No data found, symbol may be delisted\n",
      "- AVX: No data found, symbol may be delisted\n",
      "- AVX: No data found, symbol may be delisted\n",
      "- AVX: No data found, symbol may be delisted\n",
      "- AVX: No data found, symbol may be delisted\n",
      "- AWAY: Data doesn't exist for startDate = 1353909600, endDate = 1364619600\n",
      "- AWAY: Data doesn't exist for startDate = 1385359200, endDate = 1396069200\n",
      "- AWAY: Data doesn't exist for startDate = 1416808800, endDate = 1427518800\n",
      "- AWLD: No data found for this date range, symbol may be delisted\n",
      "- AWLD: No data found for this date range, symbol may be delisted\n",
      "- AWLD: No data found for this date range, symbol may be delisted\n",
      "- AWLD: No data found for this date range, symbol may be delisted\n",
      "- AXE: No data found, symbol may be delisted\n",
      "- AXE: No data found, symbol may be delisted\n",
      "- AXE: No data found, symbol may be delisted\n",
      "- AXE: No data found, symbol may be delisted\n",
      "- AXIM: Data doesn't exist for startDate = 1357970400, endDate = 1368680400\n",
      "- AXIM: Data doesn't exist for startDate = 1385877600, endDate = 1396587600\n",
      "- AXIO: No data found, symbol may be delisted\n",
      "- AXIO: No data found, symbol may be delisted\n",
      "- AXLL: No data found for this date range, symbol may be delisted\n",
      "- AXLL: No data found for this date range, symbol may be delisted\n",
      "- AXLL: No data found for this date range, symbol may be delisted\n",
      "- AXLL: No data found for this date range, symbol may be delisted\n",
      "- AXPW: No data found for this date range, symbol may be delisted\n",
      "- AXPW: No data found for this date range, symbol may be delisted\n",
      "- AXPW: No data found for this date range, symbol may be delisted\n",
      "- AXPW: No data found for this date range, symbol may be delisted\n",
      "- AXST: No data found for this date range, symbol may be delisted\n",
      "- AYR: No data found, symbol may be delisted\n",
      "- AYR: No data found, symbol may be delisted\n",
      "- AYR: No data found, symbol may be delisted\n",
      "- AYR: No data found, symbol may be delisted\n",
      "- AZMNE: No data found, symbol may be delisted\n",
      "- AZMNE: No data found, symbol may be delisted\n",
      "- AZTAU: No data found, symbol may be delisted\n",
      "- BABY: No data found, symbol may be delisted\n",
      "- BABY: No data found, symbol may be delisted\n",
      "- BABY: No data found, symbol may be delisted\n",
      "- BABY: No data found, symbol may be delisted\n",
      "- BAGL: No data found for this date range, symbol may be delisted\n",
      "- BAGL: No data found for this date range, symbol may be delisted\n",
      "- BALT: No data found for this date range, symbol may be delisted\n",
      "- BALT: No data found for this date range, symbol may be delisted\n",
      "- BALT: No data found for this date range, symbol may be delisted\n",
      "- BAMM: No data found for this date range, symbol may be delisted\n",
      "- BAMM: No data found for this date range, symbol may be delisted\n",
      "- BAMM: No data found for this date range, symbol may be delisted\n",
      "- BANJ: No data found, symbol may be delisted\n",
      "- BANJ: No data found, symbol may be delisted\n",
      "- BANJ: No data found, symbol may be delisted\n",
      "- BARA: No data found for this date range, symbol may be delisted\n",
      "- BARA: No data found for this date range, symbol may be delisted\n",
      "- BARA: No data found for this date range, symbol may be delisted\n",
      "- BARA: No data found for this date range, symbol may be delisted\n",
      "- BARZ: No data found, symbol may be delisted\n",
      "- BARZ: No data found, symbol may be delisted\n",
      "- BARZ: No data found, symbol may be delisted\n",
      "- BARZ: No data found, symbol may be delisted\n",
      "- BAS: No data found, symbol may be delisted\n",
      "- BAS: No data found, symbol may be delisted\n",
      "- BAS: No data found, symbol may be delisted\n",
      "- BAS: No data found, symbol may be delisted\n",
      "- BAXS: Data doesn't exist for startDate = 1354600800, endDate = 1365310800\n",
      "- BAXS: Data doesn't exist for startDate = 1386482400, endDate = 1397192400\n",
      "- BBCN: No data found for this date range, symbol may be delisted\n",
      "- BBCN: No data found for this date range, symbol may be delisted\n",
      "- BBCN: No data found for this date range, symbol may be delisted\n",
      "- BBCN: No data found for this date range, symbol may be delisted\n",
      "- BBCZ: No data found for this date range, symbol may be delisted\n",
      "- BBDS: No data found, symbol may be delisted\n",
      "- BBEP: No data found for this date range, symbol may be delisted\n",
      "- BBEP: No data found for this date range, symbol may be delisted\n",
      "- BBEP: No data found for this date range, symbol may be delisted\n",
      "- BBEP: No data found for this date range, symbol may be delisted\n",
      "- BBG: No data found for this date range, symbol may be delisted\n",
      "- BBG: No data found for this date range, symbol may be delisted\n",
      "- BBG: No data found for this date range, symbol may be delisted\n",
      "- BBG: No data found for this date range, symbol may be delisted\n",
      "- BBGR: No data found for this date range, symbol may be delisted\n",
      "- BBGR: No data found for this date range, symbol may be delisted\n",
      "- BBLF: No data found, symbol may be delisted\n",
      "- BBLF: No data found, symbol may be delisted\n",
      "- BBLF: No data found, symbol may be delisted\n",
      "- BBLF: No data found, symbol may be delisted\n",
      "- BBLU: No data found for this date range, symbol may be delisted\n",
      "- BBLU: No data found for this date range, symbol may be delisted\n",
      "- BBLU: No data found for this date range, symbol may be delisted\n",
      "- BBNK: No data found for this date range, symbol may be delisted\n",
      "- BBNK: No data found for this date range, symbol may be delisted\n",
      "- BBNK: No data found for this date range, symbol may be delisted\n",
      "- BBT: No data found, symbol may be delisted\n",
      "- BBT: No data found, symbol may be delisted\n",
      "- BBT: No data found, symbol may be delisted\n",
      "- BBT: No data found, symbol may be delisted\n",
      "- BBX: No data found, symbol may be delisted\n",
      "- BBX: No data found, symbol may be delisted\n",
      "- BBX: No data found, symbol may be delisted\n",
      "- BBX: No data found, symbol may be delisted\n",
      "- BCAR: No data found for this date range, symbol may be delisted\n",
      "- BCAR: No data found for this date range, symbol may be delisted\n",
      "- BCAR: No data found for this date range, symbol may be delisted\n",
      "- BCF: Data doesn't exist for startDate = 1358920800, endDate = 1369630800\n",
      "- BCF: Data doesn't exist for startDate = 1390197600, endDate = 1400907600\n",
      "- BCKE: No data found for this date range, symbol may be delisted\n",
      "- BCKE: No data found for this date range, symbol may be delisted\n",
      "- BCKE: No data found for this date range, symbol may be delisted\n",
      "- BCKE: No data found for this date range, symbol may be delisted\n",
      "- BCLX: No data found, symbol may be delisted\n",
      "- BCLX: No data found, symbol may be delisted\n",
      "- BCLX: No data found, symbol may be delisted\n",
      "- BCR: No data found for this date range, symbol may be delisted\n",
      "- BCR: No data found for this date range, symbol may be delisted\n",
      "- BCR: No data found for this date range, symbol may be delisted\n",
      "- BCR: No data found for this date range, symbol may be delisted\n",
      "- BCRH: No data found, symbol may be delisted\n",
      "- BCRH: No data found, symbol may be delisted\n",
      "- BCRH: No data found, symbol may be delisted\n",
      "- BCST: No data found for this date range, symbol may be delisted\n",
      "- BCST: No data found for this date range, symbol may be delisted\n",
      "- BCYP: Data doesn't exist for startDate = 1356501600, endDate = 1367211600\n",
      "- BCYP: Data doesn't exist for startDate = 1388210400, endDate = 1398920400\n",
      "- BCYP: Data doesn't exist for startDate = 1418536800, endDate = 1429246800\n",
      "- BCYP: Data doesn't exist for startDate = 1450591200, endDate = 1461301200\n",
      "- BDBD: No data found for this date range, symbol may be delisted\n",
      "- BDBD: No data found for this date range, symbol may be delisted\n"
     ]
    },
    {
     "name": "stdout",
     "output_type": "stream",
     "text": [
      "- BDBD: No data found for this date range, symbol may be delisted\n",
      "- BDCG: Data doesn't exist for startDate = 1356328800, endDate = 1367038800\n",
      "- BDCG: Data doesn't exist for startDate = 1388210400, endDate = 1398920400\n",
      "- BDCN: No data found, symbol may be delisted\n",
      "- BDCN: No data found, symbol may be delisted\n",
      "- BDCN: No data found, symbol may be delisted\n",
      "- BDCN: No data found, symbol may be delisted\n"
     ]
    }
   ],
   "source": [
    "yf_data, missing = [], []\n",
    "for i, (symbol, dates) in enumerate(filing_index.groupby('ticker').date_filed, 1):\n",
    "    \n",
    "    if i % 250 == 0:\n",
    "        print(i, len(yf_data), len(set(missing)), flush=True)\n",
    "    \n",
    "    ticker = yf.Ticker(symbol)\n",
    "    for filing, date in dates.to_dict().items():\n",
    "        start = date - timedelta(days=93)\n",
    "        end = date + timedelta(days=31)\n",
    "        df = ticker.history(start=start, end=end)\n",
    "        if df.empty:\n",
    "            missing.append(symbol)\n",
    "        else:\n",
    "            yf_data.append(df.assign(ticker=symbol, filing=filing))"
   ]
  },
  {
   "cell_type": "code",
   "execution_count": null,
   "metadata": {
    "ExecuteTime": {
     "start_time": "2021-02-23T17:15:57.204Z"
    }
   },
   "outputs": [],
   "source": [
    "yf_data = pd.concat(yf_data).rename(columns=str.lower)"
   ]
  },
  {
   "cell_type": "code",
   "execution_count": null,
   "metadata": {
    "ExecuteTime": {
     "start_time": "2021-02-23T17:15:57.208Z"
    }
   },
   "outputs": [],
   "source": [
    "yf_data.to_hdf(results_path / 'sec_returns.h5', 'data/yfinance')"
   ]
  },
  {
   "cell_type": "code",
   "execution_count": null,
   "metadata": {
    "ExecuteTime": {
     "start_time": "2021-02-23T17:15:57.212Z"
    }
   },
   "outputs": [],
   "source": [
    "yf_data.ticker.nunique()"
   ]
  },
  {
   "cell_type": "code",
   "execution_count": null,
   "metadata": {
    "ExecuteTime": {
     "start_time": "2021-02-23T17:15:57.216Z"
    }
   },
   "outputs": [],
   "source": [
    "yf_data.info()"
   ]
  },
  {
   "cell_type": "markdown",
   "metadata": {},
   "source": [
    "### Get (some) missing prices from Quandl"
   ]
  },
  {
   "cell_type": "code",
   "execution_count": null,
   "metadata": {
    "ExecuteTime": {
     "start_time": "2021-02-23T17:15:57.220Z"
    }
   },
   "outputs": [],
   "source": [
    "to_do = (filing_index.loc[~filing_index.ticker.isin(yf_data.ticker.unique()), \n",
    "                          ['ticker', 'date_filed']])"
   ]
  },
  {
   "cell_type": "code",
   "execution_count": null,
   "metadata": {
    "ExecuteTime": {
     "start_time": "2021-02-23T17:15:57.224Z"
    }
   },
   "outputs": [],
   "source": [
    "to_do.date_filed.min()"
   ]
  },
  {
   "cell_type": "code",
   "execution_count": null,
   "metadata": {
    "ExecuteTime": {
     "start_time": "2021-02-23T17:15:57.227Z"
    }
   },
   "outputs": [],
   "source": [
    "quandl_tickers = (pd.read_hdf('../data/assets.h5', 'quandl/wiki/prices')\n",
    "                  .loc[idx['2012':, :], :]\n",
    "                  .index.unique('ticker'))\n",
    "quandl_tickers = list(set(quandl_tickers).intersection(set(to_do.ticker)))"
   ]
  },
  {
   "cell_type": "code",
   "execution_count": null,
   "metadata": {
    "ExecuteTime": {
     "start_time": "2021-02-23T17:15:57.231Z"
    }
   },
   "outputs": [],
   "source": [
    "len(quandl_tickers)"
   ]
  },
  {
   "cell_type": "code",
   "execution_count": null,
   "metadata": {
    "ExecuteTime": {
     "start_time": "2021-02-23T17:15:57.234Z"
    }
   },
   "outputs": [],
   "source": [
    "to_do = filing_index.loc[filing_index.ticker.isin(quandl_tickers), ['ticker', 'date_filed']]"
   ]
  },
  {
   "cell_type": "code",
   "execution_count": null,
   "metadata": {
    "ExecuteTime": {
     "start_time": "2021-02-23T17:15:57.238Z"
    }
   },
   "outputs": [],
   "source": [
    "to_do.info()"
   ]
  },
  {
   "cell_type": "code",
   "execution_count": null,
   "metadata": {
    "ExecuteTime": {
     "start_time": "2021-02-23T17:15:57.241Z"
    }
   },
   "outputs": [],
   "source": [
    "ohlcv = ['adj_open', 'adj_high', 'adj_low', 'adj_close', 'adj_volume']"
   ]
  },
  {
   "cell_type": "code",
   "execution_count": null,
   "metadata": {
    "ExecuteTime": {
     "start_time": "2021-02-23T17:15:57.244Z"
    }
   },
   "outputs": [],
   "source": [
    "quandl = (pd.read_hdf('../data/assets.h5', 'quandl/wiki/prices')\n",
    "          .loc[idx['2012': , quandl_tickers], ohlcv]\n",
    "          .rename(columns=lambda x: x.replace('adj_', '')))"
   ]
  },
  {
   "cell_type": "code",
   "execution_count": null,
   "metadata": {
    "ExecuteTime": {
     "start_time": "2021-02-23T17:15:57.247Z"
    }
   },
   "outputs": [],
   "source": [
    "quandl.info()"
   ]
  },
  {
   "cell_type": "code",
   "execution_count": null,
   "metadata": {
    "ExecuteTime": {
     "start_time": "2021-02-23T17:15:57.250Z"
    }
   },
   "outputs": [],
   "source": [
    "quandl_data = []\n",
    "for i, (symbol, dates) in enumerate(to_do.groupby('ticker').date_filed, 1):\n",
    "    if i % 100 == 0:\n",
    "        print(i, end=' ', flush=True)\n",
    "    for filing, date in dates.to_dict().items():\n",
    "        start = date - timedelta(days=93)\n",
    "        end = date + timedelta(days=31)\n",
    "        quandl_data.append(quandl.loc[idx[start:end, symbol], :].reset_index('ticker').assign(filing=filing))\n",
    "quandl_data = pd.concat(quandl_data)"
   ]
  },
  {
   "cell_type": "code",
   "execution_count": null,
   "metadata": {
    "ExecuteTime": {
     "start_time": "2021-02-23T17:15:57.254Z"
    }
   },
   "outputs": [],
   "source": [
    "quandl_data.to_hdf(results_path / 'sec_returns.h5', 'data/quandl')"
   ]
  },
  {
   "cell_type": "markdown",
   "metadata": {},
   "source": [
    "### Combine, clean and persist"
   ]
  },
  {
   "cell_type": "code",
   "execution_count": null,
   "metadata": {
    "ExecuteTime": {
     "start_time": "2021-02-23T17:15:57.258Z"
    }
   },
   "outputs": [],
   "source": [
    "data = (pd.read_hdf(results_path / 'sec_returns.h5', 'data/yfinance')\n",
    "        .drop(['dividends', 'stock splits'], axis=1)\n",
    "        .append(pd.read_hdf(results_path / 'sec_returns.h5',\n",
    "                            'data/quandl')))"
   ]
  },
  {
   "cell_type": "code",
   "execution_count": null,
   "metadata": {
    "ExecuteTime": {
     "start_time": "2021-02-23T17:15:57.261Z"
    }
   },
   "outputs": [],
   "source": [
    "data = data.loc[:, ['filing', 'ticker', 'open', 'high', 'low', 'close', 'volume']]"
   ]
  },
  {
   "cell_type": "code",
   "execution_count": null,
   "metadata": {
    "ExecuteTime": {
     "start_time": "2021-02-23T17:15:57.265Z"
    }
   },
   "outputs": [],
   "source": [
    "data.info()"
   ]
  },
  {
   "cell_type": "code",
   "execution_count": null,
   "metadata": {
    "ExecuteTime": {
     "start_time": "2021-02-23T17:15:57.268Z"
    }
   },
   "outputs": [],
   "source": [
    "data[['filing', 'ticker']].nunique()"
   ]
  },
  {
   "cell_type": "code",
   "execution_count": null,
   "metadata": {
    "ExecuteTime": {
     "start_time": "2021-02-23T17:15:57.271Z"
    }
   },
   "outputs": [],
   "source": [
    "data.to_hdf(results_path / 'sec_returns.h5', 'prices')"
   ]
  },
  {
   "cell_type": "markdown",
   "metadata": {},
   "source": [
    "## Copy filings with stock price data"
   ]
  },
  {
   "cell_type": "code",
   "execution_count": null,
   "metadata": {
    "ExecuteTime": {
     "start_time": "2021-02-23T17:15:57.276Z"
    }
   },
   "outputs": [],
   "source": [
    "data = pd.read_hdf(results_path / 'sec_returns.h5', 'prices')"
   ]
  },
  {
   "cell_type": "code",
   "execution_count": null,
   "metadata": {
    "ExecuteTime": {
     "start_time": "2021-02-23T17:15:57.279Z"
    }
   },
   "outputs": [],
   "source": [
    "filings_with_data = data.filing.unique()\n",
    "len(filings_with_data)"
   ]
  },
  {
   "cell_type": "markdown",
   "metadata": {},
   "source": [
    "### Remove short and long sentences"
   ]
  },
  {
   "cell_type": "code",
   "execution_count": null,
   "metadata": {
    "ExecuteTime": {
     "start_time": "2021-02-23T17:15:57.283Z"
    }
   },
   "outputs": [],
   "source": [
    "min_sentence_length = 5\n",
    "max_sentence_length = 50"
   ]
  },
  {
   "cell_type": "code",
   "execution_count": null,
   "metadata": {
    "ExecuteTime": {
     "start_time": "2021-02-23T17:15:57.287Z"
    }
   },
   "outputs": [],
   "source": [
    "sent_length = Counter()\n",
    "for i, idx in enumerate(filings_with_data, 1):\n",
    "    if i % 500 == 0:\n",
    "        print(i, end=' ', flush=True)\n",
    "    text = pd.read_csv(data_path / 'selected_sections' / f'{idx}.csv').text\n",
    "    sent_length.update(text.str.split().str.len().tolist())\n",
    "    text = text[text.str.split().str.len().between(min_sentence_length, max_sentence_length)]\n",
    "    text = '\\n'.join(text.tolist())\n",
    "    with (selected_section_path / f'{idx}.txt').open('w') as f:\n",
    "        f.write(text)"
   ]
  },
  {
   "cell_type": "code",
   "execution_count": null,
   "metadata": {
    "ExecuteTime": {
     "start_time": "2021-02-23T17:15:57.289Z"
    }
   },
   "outputs": [],
   "source": [
    "sent_length = pd.Series(dict(sent_length.most_common()))"
   ]
  },
  {
   "cell_type": "code",
   "execution_count": null,
   "metadata": {
    "ExecuteTime": {
     "start_time": "2021-02-23T17:15:57.292Z"
    }
   },
   "outputs": [],
   "source": [
    "with sns.axes_style(\"white\"):\n",
    "    sent_length.sort_index().cumsum().div(sent_length.sum()).loc[5:51].plot.bar(figsize=(12, 4), rot=0)\n",
    "    sns.despine();"
   ]
  },
  {
   "cell_type": "code",
   "execution_count": null,
   "metadata": {
    "ExecuteTime": {
     "start_time": "2021-02-23T17:15:57.296Z"
    }
   },
   "outputs": [],
   "source": [
    "with sns.axes_style(\"white\"):\n",
    "    sent_length.sort_index().loc[:50].plot.bar(figsize=(14, 4))\n",
    "    sns.despine();"
   ]
  },
  {
   "cell_type": "markdown",
   "metadata": {},
   "source": [
    "### Create bi- and trigrams"
   ]
  },
  {
   "cell_type": "markdown",
   "metadata": {},
   "source": [
    "Combine all filings"
   ]
  },
  {
   "cell_type": "code",
   "execution_count": null,
   "metadata": {
    "ExecuteTime": {
     "start_time": "2021-02-23T17:15:57.302Z"
    }
   },
   "outputs": [],
   "source": [
    "files = selected_section_path.glob('*.txt')\n",
    "texts = [f.read_text() for f in files]\n",
    "unigrams = ngram_path / 'ngrams_1.txt'\n",
    "unigrams.write_text('\\n'.join(texts))"
   ]
  },
  {
   "cell_type": "code",
   "execution_count": null,
   "metadata": {
    "ExecuteTime": {
     "start_time": "2021-02-23T17:15:57.305Z"
    }
   },
   "outputs": [],
   "source": [
    "texts = unigrams.read_text()"
   ]
  },
  {
   "cell_type": "code",
   "execution_count": null,
   "metadata": {
    "ExecuteTime": {
     "start_time": "2021-02-23T17:15:57.309Z"
    }
   },
   "outputs": [],
   "source": [
    "n_grams = []\n",
    "start = time()\n",
    "for i, n in enumerate([2, 3]):\n",
    "    sentences = LineSentence(ngram_path / f'ngrams_{n-1}.txt')\n",
    "    phrases = Phrases(sentences=sentences,\n",
    "                      min_count=25,  # ignore terms with a lower count\n",
    "                      threshold=0.5,  # accept phrases with higher score\n",
    "                      max_vocab_size=4000000,  # prune of less common words to limit memory use\n",
    "                      delimiter=b'_',  # how to join ngram tokens\n",
    "                      scoring='npmi')\n",
    "\n",
    "    s = pd.DataFrame([[k.decode('utf-8'), v] for k, v in phrases.export_phrases(sentences)], \n",
    "                     columns=['phrase', 'score']).assign(length=n)\n",
    "\n",
    "    n_grams.append(s.groupby('phrase').score.agg(['mean', 'size']))\n",
    "    print(n_grams[-1].nlargest(5, columns='size'))\n",
    "    \n",
    "    grams = Phraser(phrases)\n",
    "    sentences = grams[sentences]\n",
    "    (ngram_path / f'ngrams_{n}.txt').write_text('\\n'.join([' '.join(s) for s in sentences]))\n",
    "    \n",
    "    src_dir = results_path / f'ngrams_{n-1}'\n",
    "    target_dir = results_path / f'ngrams_{n}'\n",
    "    if not target_dir.exists():\n",
    "        target_dir.mkdir()\n",
    "    \n",
    "    for f in src_dir.glob('*.txt'):\n",
    "        text = LineSentence(f)\n",
    "        text = grams[text]\n",
    "        (target_dir / f'{f.stem}.txt').write_text('\\n'.join([' '.join(s) for s in text]))\n",
    "    print('\\n\\tDuration: ', format_time(time() - start))\n",
    "\n",
    "n_grams = pd.concat(n_grams).sort_values('size', ascending=False)          \n",
    "n_grams.to_parquet(results_path / 'ngrams.parquet')"
   ]
  },
  {
   "cell_type": "code",
   "execution_count": null,
   "metadata": {
    "ExecuteTime": {
     "start_time": "2021-02-23T17:15:57.312Z"
    }
   },
   "outputs": [],
   "source": [
    "n_grams.groupby(n_grams.index.str.replace('_', ' ').str.count(' ')).size()"
   ]
  },
  {
   "cell_type": "markdown",
   "metadata": {},
   "source": [
    "### Convert filings to integer sequences based on token count"
   ]
  },
  {
   "cell_type": "code",
   "execution_count": null,
   "metadata": {
    "ExecuteTime": {
     "start_time": "2021-02-23T17:15:57.316Z"
    }
   },
   "outputs": [],
   "source": [
    "sentences = (ngram_path / 'ngrams_3.txt').read_text().split('\\n')"
   ]
  },
  {
   "cell_type": "code",
   "execution_count": null,
   "metadata": {
    "ExecuteTime": {
     "start_time": "2021-02-23T17:15:57.320Z"
    }
   },
   "outputs": [],
   "source": [
    "n = len(sentences)"
   ]
  },
  {
   "cell_type": "code",
   "execution_count": null,
   "metadata": {
    "ExecuteTime": {
     "start_time": "2021-02-23T17:15:57.323Z"
    }
   },
   "outputs": [],
   "source": [
    "token_cnt = Counter()\n",
    "for i, sentence in enumerate(sentences, 1):\n",
    "    if i % 500000 == 0:\n",
    "        print(f'{i/n:.1%}', end=' ', flush=True)\n",
    "    token_cnt.update(sentence.split())\n",
    "token_cnt = pd.Series(dict(token_cnt.most_common()))\n",
    "token_cnt = token_cnt.reset_index()\n",
    "token_cnt.columns = ['token', 'n']  "
   ]
  },
  {
   "cell_type": "code",
   "execution_count": null,
   "metadata": {
    "ExecuteTime": {
     "start_time": "2021-02-23T17:15:57.326Z"
    }
   },
   "outputs": [],
   "source": [
    "token_cnt.to_parquet(results_path / 'token_cnt')"
   ]
  },
  {
   "cell_type": "code",
   "execution_count": null,
   "metadata": {
    "ExecuteTime": {
     "start_time": "2021-02-23T17:15:57.330Z"
    }
   },
   "outputs": [],
   "source": [
    "token_cnt.n.describe(deciles).apply(lambda x: f'{x:,.0f}')"
   ]
  },
  {
   "cell_type": "code",
   "execution_count": null,
   "metadata": {
    "ExecuteTime": {
     "start_time": "2021-02-23T17:15:57.333Z"
    }
   },
   "outputs": [],
   "source": [
    "token_cnt.info()"
   ]
  },
  {
   "cell_type": "code",
   "execution_count": null,
   "metadata": {
    "ExecuteTime": {
     "start_time": "2021-02-23T17:15:57.337Z"
    }
   },
   "outputs": [],
   "source": [
    "token_cnt.nlargest(10, columns='n')"
   ]
  },
  {
   "cell_type": "code",
   "execution_count": null,
   "metadata": {
    "ExecuteTime": {
     "start_time": "2021-02-23T17:15:57.341Z"
    }
   },
   "outputs": [],
   "source": [
    "token_cnt.sort_values(by=['n', 'token'], ascending=[False, True]).head()"
   ]
  },
  {
   "cell_type": "code",
   "execution_count": null,
   "metadata": {
    "ExecuteTime": {
     "start_time": "2021-02-23T17:15:57.345Z"
    }
   },
   "outputs": [],
   "source": [
    "token_by_freq = token_cnt.sort_values(by=['n', 'token'], ascending=[False, True]).token\n",
    "token2id = {token: i for i, token in enumerate(token_by_freq, 3)}"
   ]
  },
  {
   "cell_type": "code",
   "execution_count": null,
   "metadata": {
    "ExecuteTime": {
     "start_time": "2021-02-23T17:15:57.348Z"
    }
   },
   "outputs": [],
   "source": [
    "len(token2id)"
   ]
  },
  {
   "cell_type": "code",
   "execution_count": null,
   "metadata": {
    "ExecuteTime": {
     "start_time": "2021-02-23T17:15:57.351Z"
    }
   },
   "outputs": [],
   "source": [
    "for token, i in token2id.items():\n",
    "    print(token, i)\n",
    "    break"
   ]
  },
  {
   "cell_type": "code",
   "execution_count": null,
   "metadata": {
    "ExecuteTime": {
     "start_time": "2021-02-23T17:15:57.355Z"
    }
   },
   "outputs": [],
   "source": [
    "def generate_sequences(min_len=100, max_len=20000, num_words=25000, oov_char=2):\n",
    "    if not vector_path.exists():\n",
    "        vector_path.mkdir()\n",
    "    seq_length = {}\n",
    "    skipped = 0\n",
    "    for i, f in enumerate((results_path / 'ngrams_3').glob('*.txt'), 1):\n",
    "        file_id = f.stem\n",
    "        text = f.read_text().split('\\n')\n",
    "        vector = [token2id[token] if token2id[token] + 2 < num_words else oov_char \n",
    "                  for line in text \n",
    "                  for token in line.split()]\n",
    "        vector = vector[:max_len]\n",
    "        if len(vector) < min_len:\n",
    "            skipped += 1\n",
    "            continue\n",
    "        seq_length[int(file_id)] = len(vector)\n",
    "        np.save(vector_path / f'{file_id}.npy', np.array(vector))\n",
    "    seq_length = pd.Series(seq_length)\n",
    "    return seq_length"
   ]
  },
  {
   "cell_type": "code",
   "execution_count": null,
   "metadata": {
    "ExecuteTime": {
     "start_time": "2021-02-23T17:15:57.358Z"
    }
   },
   "outputs": [],
   "source": [
    "seq_length = generate_sequences()"
   ]
  },
  {
   "cell_type": "code",
   "execution_count": null,
   "metadata": {
    "ExecuteTime": {
     "start_time": "2021-02-23T17:15:57.360Z"
    }
   },
   "outputs": [],
   "source": [
    "pd.Series(seq_length).to_csv(results_path / 'seq_length.csv')"
   ]
  },
  {
   "cell_type": "code",
   "execution_count": null,
   "metadata": {
    "ExecuteTime": {
     "start_time": "2021-02-23T17:15:57.364Z"
    }
   },
   "outputs": [],
   "source": [
    "seq_length.describe(deciles)"
   ]
  },
  {
   "cell_type": "code",
   "execution_count": null,
   "metadata": {
    "ExecuteTime": {
     "start_time": "2021-02-23T17:15:57.367Z"
    }
   },
   "outputs": [],
   "source": [
    "seq_length.sum()"
   ]
  },
  {
   "cell_type": "code",
   "execution_count": null,
   "metadata": {
    "ExecuteTime": {
     "start_time": "2021-02-23T17:15:57.370Z"
    }
   },
   "outputs": [],
   "source": [
    "fig, axes = plt.subplots(ncols=3, figsize=(18,5))\n",
    "token_cnt.n.plot(logy=True, logx=True, ax=axes[0], title='Token Frequency (log-log scale)')\n",
    "sent_length.sort_index().loc[:50].plot.bar(ax=axes[1], rot=0, title='Sentence Length')\n",
    "\n",
    "n=5\n",
    "ticks = axes[1].xaxis.get_ticklocs()\n",
    "ticklabels = [l.get_text() for l in axes[1].xaxis.get_ticklabels()]\n",
    "axes[1].xaxis.set_ticks(ticks[n-1::n])\n",
    "axes[1].xaxis.set_ticklabels(ticklabels[n-1::n])\n",
    "axes[1].set_xlabel('Sentence Length')\n",
    "\n",
    "sns.distplot(seq_length, ax=axes[2], bins=50)\n",
    "axes[0].set_ylabel('Token Frequency')\n",
    "axes[0].set_xlabel('Token ID')\n",
    "\n",
    "axes[2].set_xlabel('# Words per Filing')\n",
    "axes[2].set_title('Filing Length Distribution')\n",
    "\n",
    "fig.suptitle('Corpus Stats', fontsize=13)\n",
    "sns.despine()\n",
    "fig.tight_layout()\n",
    "fig.subplots_adjust(top=.85)\n",
    "fig.savefig(results_path / 'sec_seq_len', dpi=300);"
   ]
  },
  {
   "cell_type": "code",
   "execution_count": null,
   "metadata": {
    "ExecuteTime": {
     "start_time": "2021-02-23T17:15:57.373Z"
    }
   },
   "outputs": [],
   "source": [
    "files = vector_path.glob('*.npy')\n",
    "filings = sorted([int(f.stem) for f in files])"
   ]
  },
  {
   "cell_type": "markdown",
   "metadata": {},
   "source": [
    "## Prepare Model Data"
   ]
  },
  {
   "cell_type": "markdown",
   "metadata": {},
   "source": [
    "### Create weekly forward returns"
   ]
  },
  {
   "cell_type": "code",
   "execution_count": null,
   "metadata": {
    "ExecuteTime": {
     "start_time": "2021-02-23T17:15:57.379Z"
    }
   },
   "outputs": [],
   "source": [
    "prices = pd.read_hdf(results_path / 'sec_returns.h5', 'prices')\n",
    "prices.info()"
   ]
  },
  {
   "cell_type": "code",
   "execution_count": null,
   "metadata": {
    "ExecuteTime": {
     "start_time": "2021-02-23T17:15:57.382Z"
    }
   },
   "outputs": [],
   "source": [
    "fwd_return = {}\n",
    "for filing in filings:\n",
    "    date_filed = filing_index.at[filing, 'date_filed']\n",
    "    price_data = prices[prices.filing==filing].close.sort_index()\n",
    "    \n",
    "    try:\n",
    "        r = (price_data\n",
    "             .pct_change(periods=5)\n",
    "             .shift(-5)\n",
    "             .loc[:date_filed]\n",
    "             .iloc[-1])\n",
    "    except:\n",
    "        continue\n",
    "    if not np.isnan(r) and -.5 < r < 1:\n",
    "        fwd_return[filing] = r"
   ]
  },
  {
   "cell_type": "code",
   "execution_count": null,
   "metadata": {
    "ExecuteTime": {
     "start_time": "2021-02-23T17:15:57.386Z"
    }
   },
   "outputs": [],
   "source": [
    "len(fwd_return)"
   ]
  },
  {
   "cell_type": "markdown",
   "metadata": {},
   "source": [
    "### Combine returns with filing data"
   ]
  },
  {
   "cell_type": "code",
   "execution_count": null,
   "metadata": {
    "ExecuteTime": {
     "start_time": "2021-02-23T17:15:57.390Z"
    }
   },
   "outputs": [],
   "source": [
    "y, X = [], []\n",
    "for filing_id, fwd_ret in fwd_return.items():\n",
    "    X.append(np.load(vector_path / f'{filing_id}.npy') + 2)\n",
    "    y.append(fwd_ret)\n",
    "y = np.array(y)"
   ]
  },
  {
   "cell_type": "code",
   "execution_count": null,
   "metadata": {
    "ExecuteTime": {
     "start_time": "2021-02-23T17:15:57.393Z"
    }
   },
   "outputs": [],
   "source": [
    "len(y), len(X)"
   ]
  },
  {
   "cell_type": "code",
   "execution_count": null,
   "metadata": {
    "ExecuteTime": {
     "start_time": "2021-02-23T17:15:57.397Z"
    }
   },
   "outputs": [],
   "source": [
    "X_train, X_test, y_train, y_test = train_test_split(X, y, test_size=.1)"
   ]
  },
  {
   "cell_type": "markdown",
   "metadata": {},
   "source": [
    "### Pad sequences"
   ]
  },
  {
   "cell_type": "markdown",
   "metadata": {},
   "source": [
    "In the second step, we convert the lists of integers into fixed-size arrays that we can stack and provide as input to our RNN. The pad_sequence function produces arrays of equal length, truncated, and padded to conform to maxlen, as follows:"
   ]
  },
  {
   "cell_type": "code",
   "execution_count": null,
   "metadata": {
    "ExecuteTime": {
     "start_time": "2021-02-23T17:15:57.403Z"
    }
   },
   "outputs": [],
   "source": [
    "maxlen = 20000"
   ]
  },
  {
   "cell_type": "code",
   "execution_count": null,
   "metadata": {
    "ExecuteTime": {
     "start_time": "2021-02-23T17:15:57.406Z"
    }
   },
   "outputs": [],
   "source": [
    "X_train = pad_sequences(X_train, \n",
    "                        truncating='pre', \n",
    "                        padding='pre', \n",
    "                        maxlen=maxlen)\n",
    "\n",
    "X_test = pad_sequences(X_test, \n",
    "                       truncating='pre', \n",
    "                       padding='pre', \n",
    "                       maxlen=maxlen)"
   ]
  },
  {
   "cell_type": "code",
   "execution_count": null,
   "metadata": {
    "ExecuteTime": {
     "start_time": "2021-02-23T17:15:57.410Z"
    }
   },
   "outputs": [],
   "source": [
    "X_train.shape, X_test.shape"
   ]
  },
  {
   "cell_type": "markdown",
   "metadata": {},
   "source": [
    "## Define Model Architecture"
   ]
  },
  {
   "cell_type": "code",
   "execution_count": null,
   "metadata": {
    "ExecuteTime": {
     "start_time": "2021-02-23T17:15:57.414Z"
    }
   },
   "outputs": [],
   "source": [
    "K.clear_session()"
   ]
  },
  {
   "cell_type": "markdown",
   "metadata": {},
   "source": [
    "Now we can define our RNN architecture. The first layer learns the word embeddings. We define the embedding dimension as previously using the input_dim keyword to set the number of tokens that we need to embed, the output_dim keyword, which defines the size of each embedding, and how long each input sequence is going to be."
   ]
  },
  {
   "cell_type": "code",
   "execution_count": null,
   "metadata": {
    "ExecuteTime": {
     "start_time": "2021-02-23T17:15:57.420Z"
    }
   },
   "outputs": [],
   "source": [
    "embedding_size = 100"
   ]
  },
  {
   "cell_type": "markdown",
   "metadata": {},
   "source": [
    "Note that we are using GRUs this time, which train faster and perform better on smaller data. We are also using dropout for regularization, as follows:"
   ]
  },
  {
   "cell_type": "code",
   "execution_count": null,
   "metadata": {
    "ExecuteTime": {
     "start_time": "2021-02-23T17:15:57.423Z"
    }
   },
   "outputs": [],
   "source": [
    "input_dim = X_train.max() + 1"
   ]
  },
  {
   "cell_type": "code",
   "execution_count": null,
   "metadata": {
    "ExecuteTime": {
     "start_time": "2021-02-23T17:15:57.426Z"
    }
   },
   "outputs": [],
   "source": [
    "rnn = Sequential([\n",
    "    Embedding(input_dim=input_dim, \n",
    "              output_dim=embedding_size, \n",
    "              input_length=maxlen,\n",
    "             name='EMB'),\n",
    "    BatchNormalization(name='BN1'),\n",
    "    Bidirectional(GRU(32), name='BD1'),\n",
    "    BatchNormalization(name='BN2'),\n",
    "    Dropout(.1, name='DO1'),\n",
    "    Dense(5, name='D'),\n",
    "    Dense(1, activation='linear', name='OUT')\n",
    "])"
   ]
  },
  {
   "cell_type": "markdown",
   "metadata": {},
   "source": [
    "The resulting model has over 2 million parameters."
   ]
  },
  {
   "cell_type": "code",
   "execution_count": null,
   "metadata": {
    "ExecuteTime": {
     "start_time": "2021-02-23T17:15:57.429Z"
    }
   },
   "outputs": [],
   "source": [
    "rnn.summary()"
   ]
  },
  {
   "cell_type": "code",
   "execution_count": null,
   "metadata": {
    "ExecuteTime": {
     "start_time": "2021-02-23T17:15:57.432Z"
    }
   },
   "outputs": [],
   "source": [
    "rnn.compile(loss='mse', \n",
    "            optimizer='Adam',\n",
    "            metrics=[RootMeanSquaredError(name='RMSE'),\n",
    "                     MeanAbsoluteError(name='MAE')])"
   ]
  },
  {
   "cell_type": "markdown",
   "metadata": {},
   "source": [
    "## Train model"
   ]
  },
  {
   "cell_type": "code",
   "execution_count": null,
   "metadata": {
    "ExecuteTime": {
     "start_time": "2021-02-23T17:15:57.436Z"
    }
   },
   "outputs": [],
   "source": [
    "early_stopping = EarlyStopping(monitor='val_MAE', \n",
    "                               patience=5,\n",
    "                               restore_best_weights=True)"
   ]
  },
  {
   "cell_type": "markdown",
   "metadata": {},
   "source": [
    "Training stops after eight epochs and we recover the weights for the best models to find a high test AUC of 0.9346:"
   ]
  },
  {
   "cell_type": "code",
   "execution_count": null,
   "metadata": {
    "ExecuteTime": {
     "start_time": "2021-02-23T17:15:57.441Z"
    }
   },
   "outputs": [],
   "source": [
    "training = rnn.fit(X_train,\n",
    "                   y_train,\n",
    "                   batch_size=32,\n",
    "                   epochs=100,\n",
    "                   validation_data=(X_test, y_test),\n",
    "                   callbacks=[early_stopping],\n",
    "                   verbose=1)"
   ]
  },
  {
   "cell_type": "markdown",
   "metadata": {},
   "source": [
    "## Evaluate the Results"
   ]
  },
  {
   "cell_type": "code",
   "execution_count": null,
   "metadata": {
    "ExecuteTime": {
     "start_time": "2021-02-23T17:15:57.446Z"
    }
   },
   "outputs": [],
   "source": [
    "df = pd.DataFrame(training.history)\n",
    "df.to_csv(results_path / 'rnn_sec.csv', index=False)"
   ]
  },
  {
   "cell_type": "code",
   "execution_count": null,
   "metadata": {
    "ExecuteTime": {
     "start_time": "2021-02-23T17:15:57.448Z"
    }
   },
   "outputs": [],
   "source": [
    "df.index += 1"
   ]
  },
  {
   "cell_type": "code",
   "execution_count": null,
   "metadata": {
    "ExecuteTime": {
     "start_time": "2021-02-23T17:15:57.453Z"
    }
   },
   "outputs": [],
   "source": [
    "fig, axes = plt.subplots(ncols=2, figsize=(14, 4), sharey=True)\n",
    "df[['RMSE', 'val_RMSE']].rename(columns={'RMSE': 'Training', \n",
    "                                         'val_RMSE': 'Validation'}).plot(ax=axes[0], title='Root Mean Squared Error')\n",
    "df[['MAE', 'val_MAE']].rename(columns={'MAE': 'Training', \n",
    "                                         'val_MAE': 'Validation'}).plot(ax=axes[1], title='Mean Absolute Error')\n",
    "for i in [0, 1]:\n",
    "    axes[i].set_xlim(1, 10)\n",
    "    axes[i].set_xlabel('Epoch')\n",
    "fig.tight_layout()\n",
    "fig.savefig(results_path / 'sec_cv_performance', dpi=300);"
   ]
  },
  {
   "cell_type": "code",
   "execution_count": null,
   "metadata": {
    "ExecuteTime": {
     "start_time": "2021-02-23T17:15:57.456Z"
    }
   },
   "outputs": [],
   "source": [
    "y_score = rnn.predict(X_test)"
   ]
  },
  {
   "cell_type": "code",
   "execution_count": null,
   "metadata": {
    "ExecuteTime": {
     "start_time": "2021-02-23T17:15:57.459Z"
    }
   },
   "outputs": [],
   "source": [
    "rho, p = spearmanr(y_score.squeeze(), y_test)"
   ]
  },
  {
   "cell_type": "code",
   "execution_count": null,
   "metadata": {
    "ExecuteTime": {
     "start_time": "2021-02-23T17:15:57.461Z"
    }
   },
   "outputs": [],
   "source": [
    "print(f'{rho*100:.2f} ({p:.2%})')"
   ]
  },
  {
   "cell_type": "code",
   "execution_count": null,
   "metadata": {
    "ExecuteTime": {
     "start_time": "2021-02-23T17:15:57.463Z"
    }
   },
   "outputs": [],
   "source": [
    "g = sns.jointplot(y_score.squeeze(), y_test, kind='reg')\n",
    "g.annotate(spearmanr);"
   ]
  }
 ],
 "metadata": {
  "kernelspec": {
   "display_name": "Python 3",
   "language": "python",
   "name": "python3"
  },
  "language_info": {
   "codemirror_mode": {
    "name": "ipython",
    "version": 3
   },
   "file_extension": ".py",
   "mimetype": "text/x-python",
   "name": "python",
   "nbconvert_exporter": "python",
   "pygments_lexer": "ipython3",
   "version": "3.8.5"
  },
  "toc": {
   "base_numbering": 1,
   "nav_menu": {},
   "number_sections": true,
   "sideBar": true,
   "skip_h1_title": true,
   "title_cell": "Table of Contents",
   "title_sidebar": "Contents",
   "toc_cell": false,
   "toc_position": {},
   "toc_section_display": true,
   "toc_window_display": true
  },
  "toc-autonumbering": true,
  "toc-showtags": false
 },
 "nbformat": 4,
 "nbformat_minor": 4
}
