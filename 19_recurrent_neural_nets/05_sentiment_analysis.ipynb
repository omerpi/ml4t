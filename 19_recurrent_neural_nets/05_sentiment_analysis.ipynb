{
 "cells": [
  {
   "cell_type": "markdown",
   "metadata": {},
   "source": [
    "# LSTM & Word Embeddings for Sentiment Classification"
   ]
  },
  {
   "cell_type": "markdown",
   "metadata": {},
   "source": [
    "RNNs are commonly applied to various natural language processing tasks. We've already encountered sentiment analysis using text data in part three of [this book](https://www.amazon.com/Hands-Machine-Learning-Algorithmic-Trading-ebook/dp/B07JLFH7C5/ref=sr_1_2?ie=UTF8&qid=1548455634&sr=8-2&keywords=machine+learning+algorithmic+trading).\n",
    "\n",
    "We are now going to illustrate how to apply an RNN model to text data to detect positive or negative sentiment (which can easily be extended to a finer-grained sentiment scale). We are going to use word embeddings to represent the tokens in the documents. We covered word embeddings in Chapter 15, Word Embeddings. They are an excellent technique to convert text into a continuous vector representation such that the relative location of words in the latent space encodes useful semantic aspects based on the words' usage in context.\n",
    "\n",
    "We saw in the previous RNN example that Keras has a built-in embedding layer that allows us to train vector representations specific to the task at hand. Alternatively, we can use pretrained vectors."
   ]
  },
  {
   "cell_type": "markdown",
   "metadata": {},
   "source": [
    "## Imports & Settings"
   ]
  },
  {
   "cell_type": "code",
   "execution_count": 1,
   "metadata": {
    "ExecuteTime": {
     "end_time": "2020-03-25T02:38:25.593954Z",
     "start_time": "2020-03-25T02:38:24.330433Z"
    }
   },
   "outputs": [],
   "source": [
    "%matplotlib inline\n",
    "import numpy as np\n",
    "import pandas as pd\n",
    "import matplotlib.pyplot as plt\n",
    "import seaborn as sns\n",
    "from datetime import datetime, date\n",
    "from sklearn.metrics import mean_squared_error, roc_auc_score\n",
    "from sklearn.preprocessing import minmax_scale\n",
    "\n",
    "import tensorflow as tf\n",
    "from tensorflow.keras.callbacks import ModelCheckpoint, EarlyStopping\n",
    "from tensorflow.keras.datasets import imdb\n",
    "from tensorflow.keras.models import Sequential, Model\n",
    "from tensorflow.keras.layers import Dense, LSTM, GRU, Input, concatenate, Embedding, Reshape\n",
    "from tensorflow.keras.preprocessing.sequence import pad_sequences\n",
    "from tensorflow import keras\n",
    "import tensorflow.keras.backend as K"
   ]
  },
  {
   "cell_type": "code",
   "execution_count": 2,
   "metadata": {
    "ExecuteTime": {
     "end_time": "2020-03-25T02:38:25.598419Z",
     "start_time": "2020-03-25T02:38:25.594907Z"
    }
   },
   "outputs": [],
   "source": [
    "sns.set_style('whitegrid')\n",
    "np.random.seed(42)\n",
    "K.clear_session()"
   ]
  },
  {
   "cell_type": "markdown",
   "metadata": {},
   "source": [
    "## Load Reviews"
   ]
  },
  {
   "cell_type": "markdown",
   "metadata": {},
   "source": [
    "To keep the data manageable, we will illustrate this use case with the IMDB reviews dataset, which contains 50,000 positive and negative movie reviews evenly split into a train and a test set, and with balanced labels in each dataset. The vocabulary consists of 88,586 tokens.\n",
    "\n",
    "The dataset is bundled into Keras and can be loaded so that each review is represented as an integer-encoded sequence. We can limit the vocabulary to num_words while filtering out frequent and likely less informative words using skip_top, as well as sentences longer than maxlen. We can also choose oov_char, which represents tokens we chose to exclude from the vocabulary on frequency grounds, as follows:"
   ]
  },
  {
   "cell_type": "code",
   "execution_count": 3,
   "metadata": {
    "ExecuteTime": {
     "end_time": "2020-03-25T02:38:25.611858Z",
     "start_time": "2020-03-25T02:38:25.599570Z"
    }
   },
   "outputs": [],
   "source": [
    "vocab_size = 20000"
   ]
  },
  {
   "cell_type": "code",
   "execution_count": 4,
   "metadata": {
    "ExecuteTime": {
     "end_time": "2020-03-25T02:38:28.381619Z",
     "start_time": "2020-03-25T02:38:25.612856Z"
    }
   },
   "outputs": [],
   "source": [
    "(X_train, y_train), (X_test, y_test) = imdb.load_data(seed=42, \n",
    "                                                      skip_top=0,\n",
    "                                                      maxlen=None, \n",
    "                                                      oov_char=2, \n",
    "                                                      index_from=3,\n",
    "                                                      num_words=vocab_size)"
   ]
  },
  {
   "cell_type": "code",
   "execution_count": 5,
   "metadata": {
    "ExecuteTime": {
     "end_time": "2020-03-25T02:38:29.022459Z",
     "start_time": "2020-03-25T02:38:28.382489Z"
    },
    "scrolled": true
   },
   "outputs": [
    {
     "data": {
      "image/png": "[encoded data removed]",
      "text/plain": [
       "<Figure size 432x288 with 1 Axes>"
      ]
     },
     "metadata": {},
     "output_type": "display_data"
    }
   ],
   "source": [
    "ax = sns.distplot([len(review) for review in X_train])\n",
    "ax.set(xscale='log');"
   ]
  },
  {
   "cell_type": "markdown",
   "metadata": {},
   "source": [
    "## Prepare Data"
   ]
  },
  {
   "cell_type": "markdown",
   "metadata": {},
   "source": [
    "In the second step, convert the lists of integers into fixed-size arrays that we can stack and provide as input to our RNN. The pad_sequence function produces arrays of equal length, truncated, and padded to conform to maxlen, as follows:"
   ]
  },
  {
   "cell_type": "code",
   "execution_count": 6,
   "metadata": {
    "ExecuteTime": {
     "end_time": "2020-03-25T02:38:29.024974Z",
     "start_time": "2020-03-25T02:38:29.023273Z"
    }
   },
   "outputs": [],
   "source": [
    "maxlen = 100"
   ]
  },
  {
   "cell_type": "code",
   "execution_count": 7,
   "metadata": {
    "ExecuteTime": {
     "end_time": "2020-03-25T02:38:29.376585Z",
     "start_time": "2020-03-25T02:38:29.025885Z"
    }
   },
   "outputs": [],
   "source": [
    "X_train_padded = pad_sequences(X_train, \n",
    "                        truncating='pre', \n",
    "                        padding='pre', \n",
    "                        maxlen=maxlen)\n",
    "\n",
    "X_test_padded = pad_sequences(X_test, \n",
    "                       truncating='pre', \n",
    "                       padding='pre', \n",
    "                       maxlen=maxlen)"
   ]
  },
  {
   "cell_type": "code",
   "execution_count": 8,
   "metadata": {
    "ExecuteTime": {
     "end_time": "2020-03-25T02:38:29.380418Z",
     "start_time": "2020-03-25T02:38:29.377994Z"
    }
   },
   "outputs": [
    {
     "data": {
      "text/plain": [
       "((25000, 100), (25000, 100))"
      ]
     },
     "execution_count": 8,
     "metadata": {},
     "output_type": "execute_result"
    }
   ],
   "source": [
    "X_train_padded.shape, X_test_padded.shape"
   ]
  },
  {
   "cell_type": "markdown",
   "metadata": {},
   "source": [
    "## Define Model Architecture"
   ]
  },
  {
   "cell_type": "markdown",
   "metadata": {},
   "source": [
    "Now we can define our RNN architecture. The first layer learns the word embeddings. We define the embedding dimension as previously using the input_dim keyword to set the number of tokens that we need to embed, the output_dim keyword, which defines the size of each embedding, and how long each input sequence is going to be."
   ]
  },
  {
   "cell_type": "markdown",
   "metadata": {},
   "source": [
    "### Custom Loss Metric"
   ]
  },
  {
   "cell_type": "code",
   "execution_count": 9,
   "metadata": {
    "ExecuteTime": {
     "end_time": "2020-03-25T02:38:29.391704Z",
     "start_time": "2020-03-25T02:38:29.381566Z"
    }
   },
   "outputs": [],
   "source": [
    "embedding_size = 100"
   ]
  },
  {
   "cell_type": "markdown",
   "metadata": {},
   "source": [
    "Note that we are using GRUs this time, which train faster and perform better on smaller data. We are also using dropout for regularization, as follows:"
   ]
  },
  {
   "cell_type": "code",
   "execution_count": 10,
   "metadata": {
    "ExecuteTime": {
     "end_time": "2020-03-25T02:38:30.076008Z",
     "start_time": "2020-03-25T02:38:29.394163Z"
    }
   },
   "outputs": [
    {
     "name": "stdout",
     "output_type": "stream",
     "text": [
      "Model: \"sequential\"\n",
      "_________________________________________________________________\n",
      "Layer (type)                 Output Shape              Param #   \n",
      "=================================================================\n",
      "embedding (Embedding)        (None, 100, 100)          2000000   \n",
      "_________________________________________________________________\n",
      "gru (GRU)                    (None, 32)                12864     \n",
      "_________________________________________________________________\n",
      "dense (Dense)                (None, 1)                 33        \n",
      "=================================================================\n",
      "Total params: 2,012,897\n",
      "Trainable params: 2,012,897\n",
      "Non-trainable params: 0\n",
      "_________________________________________________________________\n"
     ]
    }
   ],
   "source": [
    "rnn = Sequential([\n",
    "    Embedding(input_dim=vocab_size, output_dim= embedding_size, input_length=maxlen),\n",
    "    GRU(units=32,  dropout=0.2, recurrent_dropout=0.2),\n",
    "    Dense(1, activation='sigmoid')\n",
    "])\n",
    "rnn.summary()"
   ]
  },
  {
   "cell_type": "markdown",
   "metadata": {},
   "source": [
    "The resulting model has over 2 million parameters."
   ]
  },
  {
   "cell_type": "markdown",
   "metadata": {},
   "source": [
    "We compile the model to use our custom AUC metric, which we introduced previously, and train with early stopping:"
   ]
  },
  {
   "cell_type": "code",
   "execution_count": 11,
   "metadata": {
    "ExecuteTime": {
     "end_time": "2020-03-25T02:38:30.141603Z",
     "start_time": "2020-03-25T02:38:30.077098Z"
    }
   },
   "outputs": [],
   "source": [
    "rnn.compile(loss='binary_crossentropy', \n",
    "            optimizer='RMSProp', \n",
    "            metrics=['accuracy', \n",
    "                     tf.keras.metrics.AUC(name='AUC')])"
   ]
  },
  {
   "cell_type": "code",
   "execution_count": 12,
   "metadata": {
    "ExecuteTime": {
     "end_time": "2020-03-25T02:38:30.144478Z",
     "start_time": "2020-03-25T02:38:30.142546Z"
    }
   },
   "outputs": [],
   "source": [
    "early_stopping = EarlyStopping(monitor='val_AUC', \n",
    "                               mode='max',\n",
    "                              patience=5,\n",
    "                              restore_best_weights=True)"
   ]
  },
  {
   "cell_type": "markdown",
   "metadata": {},
   "source": [
    "Training stops after eight epochs and we recover the weights for the best models to find a high test AUC of 0.9346:"
   ]
  },
  {
   "cell_type": "code",
   "execution_count": 13,
   "metadata": {
    "ExecuteTime": {
     "end_time": "2020-03-25T02:51:34.162514Z",
     "start_time": "2020-03-25T02:38:30.145863Z"
    }
   },
   "outputs": [
    {
     "name": "stdout",
     "output_type": "stream",
     "text": [
      "Train on 25000 samples, validate on 25000 samples\n",
      "Epoch 1/100\n",
      "25000/25000 [==============================] - 80s 3ms/sample - loss: 0.4920 - accuracy: 0.7612 - AUC: 0.8440 - val_loss: 0.3976 - val_accuracy: 0.8252 - val_AUC: 0.9065\n",
      "Epoch 2/100\n",
      "25000/25000 [==============================] - 78s 3ms/sample - loss: 0.3437 - accuracy: 0.8565 - AUC: 0.9269 - val_loss: 0.3485 - val_accuracy: 0.8497 - val_AUC: 0.9275\n",
      "Epoch 3/100\n",
      "25000/25000 [==============================] - 78s 3ms/sample - loss: 0.2769 - accuracy: 0.8909 - AUC: 0.9524 - val_loss: 0.3393 - val_accuracy: 0.8559 - val_AUC: 0.9371\n",
      "Epoch 4/100\n",
      "25000/25000 [==============================] - 78s 3ms/sample - loss: 0.2342 - accuracy: 0.9098 - AUC: 0.9659 - val_loss: 0.3266 - val_accuracy: 0.8630 - val_AUC: 0.9393\n",
      "Epoch 5/100\n",
      "25000/25000 [==============================] - 78s 3ms/sample - loss: 0.2064 - accuracy: 0.9210 - AUC: 0.9734 - val_loss: 0.3398 - val_accuracy: 0.8530 - val_AUC: 0.9410\n",
      "Epoch 6/100\n",
      "25000/25000 [==============================] - 78s 3ms/sample - loss: 0.1823 - accuracy: 0.9320 - AUC: 0.9789 - val_loss: 0.3280 - val_accuracy: 0.8628 - val_AUC: 0.9400\n",
      "Epoch 7/100\n",
      "25000/25000 [==============================] - 78s 3ms/sample - loss: 0.1644 - accuracy: 0.9388 - AUC: 0.9827 - val_loss: 0.3364 - val_accuracy: 0.8622 - val_AUC: 0.9405\n",
      "Epoch 8/100\n",
      "25000/25000 [==============================] - 78s 3ms/sample - loss: 0.1469 - accuracy: 0.9463 - AUC: 0.9858 - val_loss: 0.3496 - val_accuracy: 0.8570 - val_AUC: 0.9387\n",
      "Epoch 9/100\n",
      "25000/25000 [==============================] - 78s 3ms/sample - loss: 0.1305 - accuracy: 0.9524 - AUC: 0.9886 - val_loss: 0.3760 - val_accuracy: 0.8563 - val_AUC: 0.9359\n",
      "Epoch 10/100\n",
      "25000/25000 [==============================] - 78s 3ms/sample - loss: 0.1172 - accuracy: 0.9590 - AUC: 0.9904 - val_loss: 0.4044 - val_accuracy: 0.8480 - val_AUC: 0.9326\n"
     ]
    }
   ],
   "source": [
    "training = rnn.fit(X_train_padded,\n",
    "                   y_train,\n",
    "                   batch_size=32,\n",
    "                   epochs=100,\n",
    "                   validation_data=(X_test_padded, y_test),\n",
    "                   callbacks=[early_stopping],\n",
    "                   verbose=1)"
   ]
  },
  {
   "cell_type": "markdown",
   "metadata": {},
   "source": [
    "## Evaluate Results"
   ]
  },
  {
   "cell_type": "code",
   "execution_count": 14,
   "metadata": {
    "ExecuteTime": {
     "end_time": "2020-03-25T02:51:34.168900Z",
     "start_time": "2020-03-25T02:51:34.163484Z"
    }
   },
   "outputs": [],
   "source": [
    "df = pd.DataFrame(training.history)\n",
    "df.to_csv('lstm_sa.csv', index=False)"
   ]
  },
  {
   "cell_type": "code",
   "execution_count": 17,
   "metadata": {
    "ExecuteTime": {
     "end_time": "2020-03-25T03:04:04.404832Z",
     "start_time": "2020-03-25T03:04:04.378350Z"
    }
   },
   "outputs": [
    {
     "data": {
      "text/html": [
       "<div>\n",
       "<style scoped>\n",
       "    .dataframe tbody tr th:only-of-type {\n",
       "        vertical-align: middle;\n",
       "    }\n",
       "\n",
       "    .dataframe tbody tr th {\n",
       "        vertical-align: top;\n",
       "    }\n",
       "\n",
       "    .dataframe thead th {\n",
       "        text-align: right;\n",
       "    }\n",
       "</style>\n",
       "<table border=\"1\" class=\"dataframe\">\n",
       "  <thead>\n",
       "    <tr style=\"text-align: right;\">\n",
       "      <th></th>\n",
       "      <th>loss</th>\n",
       "      <th>accuracy</th>\n",
       "      <th>AUC</th>\n",
       "      <th>val_loss</th>\n",
       "      <th>val_accuracy</th>\n",
       "      <th>val_AUC</th>\n",
       "    </tr>\n",
       "  </thead>\n",
       "  <tbody>\n",
       "    <tr>\n",
       "      <th>0</th>\n",
       "      <td>0.491969</td>\n",
       "      <td>0.76116</td>\n",
       "      <td>0.843963</td>\n",
       "      <td>0.397625</td>\n",
       "      <td>0.82524</td>\n",
       "      <td>0.906470</td>\n",
       "    </tr>\n",
       "    <tr>\n",
       "      <th>1</th>\n",
       "      <td>0.343732</td>\n",
       "      <td>0.85652</td>\n",
       "      <td>0.926933</td>\n",
       "      <td>0.348452</td>\n",
       "      <td>0.84972</td>\n",
       "      <td>0.927469</td>\n",
       "    </tr>\n",
       "    <tr>\n",
       "      <th>2</th>\n",
       "      <td>0.276921</td>\n",
       "      <td>0.89092</td>\n",
       "      <td>0.952440</td>\n",
       "      <td>0.339346</td>\n",
       "      <td>0.85592</td>\n",
       "      <td>0.937061</td>\n",
       "    </tr>\n",
       "    <tr>\n",
       "      <th>3</th>\n",
       "      <td>0.234235</td>\n",
       "      <td>0.90984</td>\n",
       "      <td>0.965913</td>\n",
       "      <td>0.326631</td>\n",
       "      <td>0.86304</td>\n",
       "      <td>0.939331</td>\n",
       "    </tr>\n",
       "    <tr>\n",
       "      <th>4</th>\n",
       "      <td>0.206356</td>\n",
       "      <td>0.92100</td>\n",
       "      <td>0.973420</td>\n",
       "      <td>0.339808</td>\n",
       "      <td>0.85304</td>\n",
       "      <td>0.940975</td>\n",
       "    </tr>\n",
       "    <tr>\n",
       "      <th>5</th>\n",
       "      <td>0.182318</td>\n",
       "      <td>0.93196</td>\n",
       "      <td>0.978867</td>\n",
       "      <td>0.328015</td>\n",
       "      <td>0.86276</td>\n",
       "      <td>0.939985</td>\n",
       "    </tr>\n",
       "    <tr>\n",
       "      <th>6</th>\n",
       "      <td>0.164431</td>\n",
       "      <td>0.93876</td>\n",
       "      <td>0.982735</td>\n",
       "      <td>0.336437</td>\n",
       "      <td>0.86216</td>\n",
       "      <td>0.940456</td>\n",
       "    </tr>\n",
       "    <tr>\n",
       "      <th>7</th>\n",
       "      <td>0.146919</td>\n",
       "      <td>0.94628</td>\n",
       "      <td>0.985811</td>\n",
       "      <td>0.349640</td>\n",
       "      <td>0.85696</td>\n",
       "      <td>0.938704</td>\n",
       "    </tr>\n",
       "    <tr>\n",
       "      <th>8</th>\n",
       "      <td>0.130508</td>\n",
       "      <td>0.95240</td>\n",
       "      <td>0.988647</td>\n",
       "      <td>0.376018</td>\n",
       "      <td>0.85628</td>\n",
       "      <td>0.935913</td>\n",
       "    </tr>\n",
       "    <tr>\n",
       "      <th>9</th>\n",
       "      <td>0.117153</td>\n",
       "      <td>0.95900</td>\n",
       "      <td>0.990391</td>\n",
       "      <td>0.404351</td>\n",
       "      <td>0.84796</td>\n",
       "      <td>0.932601</td>\n",
       "    </tr>\n",
       "  </tbody>\n",
       "</table>\n",
       "</div>"
      ],
      "text/plain": [
       "       loss  accuracy       AUC  val_loss  val_accuracy   val_AUC\n",
       "0  0.491969   0.76116  0.843963  0.397625       0.82524  0.906470\n",
       "1  0.343732   0.85652  0.926933  0.348452       0.84972  0.927469\n",
       "2  0.276921   0.89092  0.952440  0.339346       0.85592  0.937061\n",
       "3  0.234235   0.90984  0.965913  0.326631       0.86304  0.939331\n",
       "4  0.206356   0.92100  0.973420  0.339808       0.85304  0.940975\n",
       "5  0.182318   0.93196  0.978867  0.328015       0.86276  0.939985\n",
       "6  0.164431   0.93876  0.982735  0.336437       0.86216  0.940456\n",
       "7  0.146919   0.94628  0.985811  0.349640       0.85696  0.938704\n",
       "8  0.130508   0.95240  0.988647  0.376018       0.85628  0.935913\n",
       "9  0.117153   0.95900  0.990391  0.404351       0.84796  0.932601"
      ]
     },
     "execution_count": 17,
     "metadata": {},
     "output_type": "execute_result"
    }
   ],
   "source": [
    "df"
   ]
  },
  {
   "cell_type": "code",
   "execution_count": 15,
   "metadata": {
    "ExecuteTime": {
     "end_time": "2020-03-25T02:51:46.557490Z",
     "start_time": "2020-03-25T02:51:34.170641Z"
    }
   },
   "outputs": [
    {
     "data": {
      "text/plain": [
       "(25000, 1)"
      ]
     },
     "execution_count": 15,
     "metadata": {},
     "output_type": "execute_result"
    }
   ],
   "source": [
    "y_score = rnn.predict(X_test_padded)\n",
    "y_score.shape\n"
   ]
  },
  {
   "cell_type": "code",
   "execution_count": 16,
   "metadata": {
    "ExecuteTime": {
     "end_time": "2020-03-25T02:51:46.566136Z",
     "start_time": "2020-03-25T02:51:46.558379Z"
    }
   },
   "outputs": [
    {
     "data": {
      "text/plain": [
       "0.9409882079999999"
      ]
     },
     "execution_count": 16,
     "metadata": {},
     "output_type": "execute_result"
    }
   ],
   "source": [
    "roc_auc_score(y_score=y_score.squeeze(), y_true=y_test)"
   ]
  }
 ],
 "metadata": {
  "kernelspec": {
   "display_name": "Python 3",
   "language": "python",
   "name": "python3"
  },
  "language_info": {
   "codemirror_mode": {
    "name": "ipython",
    "version": 3
   },
   "file_extension": ".py",
   "mimetype": "text/x-python",
   "name": "python",
   "nbconvert_exporter": "python",
   "pygments_lexer": "ipython3",
   "version": "3.7.6"
  },
  "toc": {
   "base_numbering": 1,
   "nav_menu": {},
   "number_sections": true,
   "sideBar": true,
   "skip_h1_title": true,
   "title_cell": "Table of Contents",
   "title_sidebar": "Contents",
   "toc_cell": false,
   "toc_position": {},
   "toc_section_display": true,
   "toc_window_display": true
  }
 },
 "nbformat": 4,
 "nbformat_minor": 2
}
